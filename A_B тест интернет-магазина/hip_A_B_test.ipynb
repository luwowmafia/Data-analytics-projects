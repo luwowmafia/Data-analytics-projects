{
 "cells": [
  {
   "cell_type": "markdown",
   "metadata": {},
   "source": [
    "# Проверка гипотез по увеличению выручки в интернет-магазине, оценка результатов A/B теста\n",
    "\n",
    "Цель исследования: используя данные интернет-магазина приоритезировать гипотезы, произвести оценку результатов A/B-тестирования различными методами"
   ]
  },
  {
   "cell_type": "markdown",
   "metadata": {},
   "source": [
    "Содержание\n",
    "* Часть 1. Приоритизация гипотез\n",
    " * Описание данных\n",
    " * Фреймворк ICE для приоритизации гипотез\n",
    " * Фреймворк RICE для приоритизации гипотез\n",
    " * Выводы\n",
    "* Часть 2. Анализ A/B-теста\n",
    " * Описание данных\n",
    " * График кумулятивной выручки по группам\n",
    " * График кумулятивного среднего чека по группам\n",
    " * График относительного изменения кумулятивного среднего чека группы B к группе A\n",
    " * График кумулятивного среднего количества заказов на посетителя по группам\n",
    " * График относительного изменения кумулятивного среднего количества заказов на посетителя группы B к группе A\n",
    " * График количества заказов по пользователям\n",
    " * 95-й и 99-й перцентили количества заказов на пользователя\n",
    " * График стоимостей заказов\n",
    " * Расчёт статистической значимости различий в среднем количестве заказов на посетителя между группами по «сырым» данным\n",
    " * Расчёт статистической значимости различий в среднем чеке заказа между группами по «сырым» данным\n",
    " * Расчёт статистической значимости различий в среднем количестве заказов на посетителя между группами по «очищенным» данным\n",
    " * Расчёт статистической значимости различий в среднем чеке заказа между группами по «очищенным» данным\n",
    " * Решение по результатам теста\n",
    "* Выводы\n"
   ]
  },
  {
   "cell_type": "markdown",
   "metadata": {},
   "source": [
    "## Часть 1. Приоритизация гипотез\n",
    "В файле hypothesis.csv 9 гипотез по увеличению выручки интернет-магазина с указанными параметрами Reach, Impact, Confidence, Effort. Необходимо провести приоритизацию гипотез при помощи фреймворков ICE И RICE"
   ]
  },
  {
   "cell_type": "markdown",
   "metadata": {},
   "source": [
    "### Описание данных\n",
    "\n",
    "* Hypothesis — краткое описание гипотезы;\n",
    "* Reach — охват пользователей по 10-балльной шкале;\n",
    "* Impact — влияние на пользователей по 10-балльной шкале;\n",
    "* Confidence — уверенность в гипотезе по 10-балльной шкале;\n",
    "* Efforts — затраты ресурсов на проверку гипотезы по 10-балльной шкале. Чем больше значение Efforts, тем дороже проверка гипотезы."
   ]
  },
  {
   "cell_type": "code",
   "execution_count": 1,
   "metadata": {},
   "outputs": [],
   "source": [
    "# подкючение библиотек\n",
    "import pandas as pd\n",
    "import datetime as dt\n",
    "import numpy as np\n",
    "import matplotlib.pyplot as plt\n",
    "import scipy.stats as stats\n",
    "from scipy.stats import shapiro\n",
    "# Сброс ограничений на количество символов в записи\n",
    "pd.set_option('display.max_colwidth', None)"
   ]
  },
  {
   "cell_type": "code",
   "execution_count": 2,
   "metadata": {},
   "outputs": [
    {
     "data": {
      "text/html": [
       "<div>\n",
       "<style scoped>\n",
       "    .dataframe tbody tr th:only-of-type {\n",
       "        vertical-align: middle;\n",
       "    }\n",
       "\n",
       "    .dataframe tbody tr th {\n",
       "        vertical-align: top;\n",
       "    }\n",
       "\n",
       "    .dataframe thead th {\n",
       "        text-align: right;\n",
       "    }\n",
       "</style>\n",
       "<table border=\"1\" class=\"dataframe\">\n",
       "  <thead>\n",
       "    <tr style=\"text-align: right;\">\n",
       "      <th></th>\n",
       "      <th>Hypothesis</th>\n",
       "      <th>Reach</th>\n",
       "      <th>Impact</th>\n",
       "      <th>Confidence</th>\n",
       "      <th>Efforts</th>\n",
       "    </tr>\n",
       "  </thead>\n",
       "  <tbody>\n",
       "    <tr>\n",
       "      <th>0</th>\n",
       "      <td>Добавить два новых канала привлечения трафика, что позволит привлекать на 30% больше пользователей</td>\n",
       "      <td>3</td>\n",
       "      <td>10</td>\n",
       "      <td>8</td>\n",
       "      <td>6</td>\n",
       "    </tr>\n",
       "    <tr>\n",
       "      <th>1</th>\n",
       "      <td>Запустить собственную службу доставки, что сократит срок доставки заказов</td>\n",
       "      <td>2</td>\n",
       "      <td>5</td>\n",
       "      <td>4</td>\n",
       "      <td>10</td>\n",
       "    </tr>\n",
       "    <tr>\n",
       "      <th>2</th>\n",
       "      <td>Добавить блоки рекомендаций товаров на сайт интернет магазина, чтобы повысить конверсию и средний чек заказа</td>\n",
       "      <td>8</td>\n",
       "      <td>3</td>\n",
       "      <td>7</td>\n",
       "      <td>3</td>\n",
       "    </tr>\n",
       "    <tr>\n",
       "      <th>3</th>\n",
       "      <td>Изменить структура категорий, что увеличит конверсию, т.к. пользователи быстрее найдут нужный товар</td>\n",
       "      <td>8</td>\n",
       "      <td>3</td>\n",
       "      <td>3</td>\n",
       "      <td>8</td>\n",
       "    </tr>\n",
       "    <tr>\n",
       "      <th>4</th>\n",
       "      <td>Изменить цвет фона главной страницы, чтобы увеличить вовлеченность пользователей</td>\n",
       "      <td>3</td>\n",
       "      <td>1</td>\n",
       "      <td>1</td>\n",
       "      <td>1</td>\n",
       "    </tr>\n",
       "    <tr>\n",
       "      <th>5</th>\n",
       "      <td>Добавить страницу отзывов клиентов о магазине, что позволит увеличить количество заказов</td>\n",
       "      <td>3</td>\n",
       "      <td>2</td>\n",
       "      <td>2</td>\n",
       "      <td>3</td>\n",
       "    </tr>\n",
       "    <tr>\n",
       "      <th>6</th>\n",
       "      <td>Показать на главной странице баннеры с актуальными акциями и распродажами, чтобы увеличить конверсию</td>\n",
       "      <td>5</td>\n",
       "      <td>3</td>\n",
       "      <td>8</td>\n",
       "      <td>3</td>\n",
       "    </tr>\n",
       "    <tr>\n",
       "      <th>7</th>\n",
       "      <td>Добавить форму подписки на все основные страницы, чтобы собрать базу клиентов для email-рассылок</td>\n",
       "      <td>10</td>\n",
       "      <td>7</td>\n",
       "      <td>8</td>\n",
       "      <td>5</td>\n",
       "    </tr>\n",
       "    <tr>\n",
       "      <th>8</th>\n",
       "      <td>Запустить акцию, дающую скидку на товар в день рождения</td>\n",
       "      <td>1</td>\n",
       "      <td>9</td>\n",
       "      <td>9</td>\n",
       "      <td>5</td>\n",
       "    </tr>\n",
       "  </tbody>\n",
       "</table>\n",
       "</div>"
      ],
      "text/plain": [
       "                                                                                                     Hypothesis  \\\n",
       "0            Добавить два новых канала привлечения трафика, что позволит привлекать на 30% больше пользователей   \n",
       "1                                     Запустить собственную службу доставки, что сократит срок доставки заказов   \n",
       "2  Добавить блоки рекомендаций товаров на сайт интернет магазина, чтобы повысить конверсию и средний чек заказа   \n",
       "3           Изменить структура категорий, что увеличит конверсию, т.к. пользователи быстрее найдут нужный товар   \n",
       "4                              Изменить цвет фона главной страницы, чтобы увеличить вовлеченность пользователей   \n",
       "5                      Добавить страницу отзывов клиентов о магазине, что позволит увеличить количество заказов   \n",
       "6          Показать на главной странице баннеры с актуальными акциями и распродажами, чтобы увеличить конверсию   \n",
       "7              Добавить форму подписки на все основные страницы, чтобы собрать базу клиентов для email-рассылок   \n",
       "8                                                       Запустить акцию, дающую скидку на товар в день рождения   \n",
       "\n",
       "   Reach  Impact  Confidence  Efforts  \n",
       "0      3      10           8        6  \n",
       "1      2       5           4       10  \n",
       "2      8       3           7        3  \n",
       "3      8       3           3        8  \n",
       "4      3       1           1        1  \n",
       "5      3       2           2        3  \n",
       "6      5       3           8        3  \n",
       "7     10       7           8        5  \n",
       "8      1       9           9        5  "
      ]
     },
     "execution_count": 2,
     "metadata": {},
     "output_type": "execute_result"
    }
   ],
   "source": [
    "# загрузка данных из файла\n",
    "data"
   ]
  },
  {
   "cell_type": "markdown",
   "metadata": {},
   "source": [
    "### Фреймворк ICE для приоритизации гипотез\n",
    "\n",
    "Формула для расчёта параметра ICE $$ICE = \\frac{Impact * Confidence}{Efforts}$$"
   ]
  },
  {
   "cell_type": "code",
   "execution_count": 3,
   "metadata": {
    "scrolled": true
   },
   "outputs": [
    {
     "data": {
      "text/html": [
       "<div>\n",
       "<style scoped>\n",
       "    .dataframe tbody tr th:only-of-type {\n",
       "        vertical-align: middle;\n",
       "    }\n",
       "\n",
       "    .dataframe tbody tr th {\n",
       "        vertical-align: top;\n",
       "    }\n",
       "\n",
       "    .dataframe thead th {\n",
       "        text-align: right;\n",
       "    }\n",
       "</style>\n",
       "<table border=\"1\" class=\"dataframe\">\n",
       "  <thead>\n",
       "    <tr style=\"text-align: right;\">\n",
       "      <th></th>\n",
       "      <th>Hypothesis</th>\n",
       "      <th>ICE</th>\n",
       "    </tr>\n",
       "  </thead>\n",
       "  <tbody>\n",
       "    <tr>\n",
       "      <th>8</th>\n",
       "      <td>Запустить акцию, дающую скидку на товар в день рождения</td>\n",
       "      <td>16.200000</td>\n",
       "    </tr>\n",
       "    <tr>\n",
       "      <th>0</th>\n",
       "      <td>Добавить два новых канала привлечения трафика, что позволит привлекать на 30% больше пользователей</td>\n",
       "      <td>13.333333</td>\n",
       "    </tr>\n",
       "    <tr>\n",
       "      <th>7</th>\n",
       "      <td>Добавить форму подписки на все основные страницы, чтобы собрать базу клиентов для email-рассылок</td>\n",
       "      <td>11.200000</td>\n",
       "    </tr>\n",
       "    <tr>\n",
       "      <th>6</th>\n",
       "      <td>Показать на главной странице баннеры с актуальными акциями и распродажами, чтобы увеличить конверсию</td>\n",
       "      <td>8.000000</td>\n",
       "    </tr>\n",
       "    <tr>\n",
       "      <th>2</th>\n",
       "      <td>Добавить блоки рекомендаций товаров на сайт интернет магазина, чтобы повысить конверсию и средний чек заказа</td>\n",
       "      <td>7.000000</td>\n",
       "    </tr>\n",
       "    <tr>\n",
       "      <th>1</th>\n",
       "      <td>Запустить собственную службу доставки, что сократит срок доставки заказов</td>\n",
       "      <td>2.000000</td>\n",
       "    </tr>\n",
       "    <tr>\n",
       "      <th>5</th>\n",
       "      <td>Добавить страницу отзывов клиентов о магазине, что позволит увеличить количество заказов</td>\n",
       "      <td>1.333333</td>\n",
       "    </tr>\n",
       "    <tr>\n",
       "      <th>3</th>\n",
       "      <td>Изменить структура категорий, что увеличит конверсию, т.к. пользователи быстрее найдут нужный товар</td>\n",
       "      <td>1.125000</td>\n",
       "    </tr>\n",
       "    <tr>\n",
       "      <th>4</th>\n",
       "      <td>Изменить цвет фона главной страницы, чтобы увеличить вовлеченность пользователей</td>\n",
       "      <td>1.000000</td>\n",
       "    </tr>\n",
       "  </tbody>\n",
       "</table>\n",
       "</div>"
      ],
      "text/plain": [
       "                                                                                                     Hypothesis  \\\n",
       "8                                                       Запустить акцию, дающую скидку на товар в день рождения   \n",
       "0            Добавить два новых канала привлечения трафика, что позволит привлекать на 30% больше пользователей   \n",
       "7              Добавить форму подписки на все основные страницы, чтобы собрать базу клиентов для email-рассылок   \n",
       "6          Показать на главной странице баннеры с актуальными акциями и распродажами, чтобы увеличить конверсию   \n",
       "2  Добавить блоки рекомендаций товаров на сайт интернет магазина, чтобы повысить конверсию и средний чек заказа   \n",
       "1                                     Запустить собственную службу доставки, что сократит срок доставки заказов   \n",
       "5                      Добавить страницу отзывов клиентов о магазине, что позволит увеличить количество заказов   \n",
       "3           Изменить структура категорий, что увеличит конверсию, т.к. пользователи быстрее найдут нужный товар   \n",
       "4                              Изменить цвет фона главной страницы, чтобы увеличить вовлеченность пользователей   \n",
       "\n",
       "         ICE  \n",
       "8  16.200000  \n",
       "0  13.333333  \n",
       "7  11.200000  \n",
       "6   8.000000  \n",
       "2   7.000000  \n",
       "1   2.000000  \n",
       "5   1.333333  \n",
       "3   1.125000  \n",
       "4   1.000000  "
      ]
     },
     "execution_count": 3,
     "metadata": {},
     "output_type": "execute_result"
    }
   ],
   "source": [
    "# добавление столбца параметра ICE(impact, confidence, effort / ease «влияние, уверенность, усилия / простота»)\n",
    "data['ICE'] = data['Impact'] * data['Confidence'] / data['Efforts']\n",
    "data[['Hypothesis', 'ICE']].sort_values(by='ICE', ascending=False)"
   ]
  },
  {
   "cell_type": "markdown",
   "metadata": {},
   "source": [
    "Наиболее перспективными являются гипотезы:\n",
    "* №8 \"Запустить акцию, дающую скидку на товар в день рождения\"\n",
    "* №0 \"Добавить два новых канала привлечения трафика, что позволит привлекать на 30% больше пользователей\"\n",
    "* №7 \"Добавить форму подписки на все основные страницы, чтобы собрать базу клиентов для email-рассылок\"\n",
    "* №6 \"Показать на главной странице баннеры с актуальными акциями и распродажами, чтобы увеличить конверсию\"\n",
    "* №2 \"Добавить блоки рекомендаций товаров на сайт интернет магазина, чтобы повысить конверсию и средний чек заказа\"\n"
   ]
  },
  {
   "cell_type": "markdown",
   "metadata": {},
   "source": [
    "### Фреймворк RICE для приоритизации гипотез\n",
    "\n",
    "Формула для расчёта параметра RICE $$RICE = \\frac{Rearch * Impact * Confidence}{Efforts}$$\n",
    "\n"
   ]
  },
  {
   "cell_type": "code",
   "execution_count": 4,
   "metadata": {},
   "outputs": [
    {
     "data": {
      "text/html": [
       "<div>\n",
       "<style scoped>\n",
       "    .dataframe tbody tr th:only-of-type {\n",
       "        vertical-align: middle;\n",
       "    }\n",
       "\n",
       "    .dataframe tbody tr th {\n",
       "        vertical-align: top;\n",
       "    }\n",
       "\n",
       "    .dataframe thead th {\n",
       "        text-align: right;\n",
       "    }\n",
       "</style>\n",
       "<table border=\"1\" class=\"dataframe\">\n",
       "  <thead>\n",
       "    <tr style=\"text-align: right;\">\n",
       "      <th></th>\n",
       "      <th>Hypothesis</th>\n",
       "      <th>RICE</th>\n",
       "    </tr>\n",
       "  </thead>\n",
       "  <tbody>\n",
       "    <tr>\n",
       "      <th>7</th>\n",
       "      <td>Добавить форму подписки на все основные страницы, чтобы собрать базу клиентов для email-рассылок</td>\n",
       "      <td>112.0</td>\n",
       "    </tr>\n",
       "    <tr>\n",
       "      <th>2</th>\n",
       "      <td>Добавить блоки рекомендаций товаров на сайт интернет магазина, чтобы повысить конверсию и средний чек заказа</td>\n",
       "      <td>56.0</td>\n",
       "    </tr>\n",
       "    <tr>\n",
       "      <th>0</th>\n",
       "      <td>Добавить два новых канала привлечения трафика, что позволит привлекать на 30% больше пользователей</td>\n",
       "      <td>40.0</td>\n",
       "    </tr>\n",
       "    <tr>\n",
       "      <th>6</th>\n",
       "      <td>Показать на главной странице баннеры с актуальными акциями и распродажами, чтобы увеличить конверсию</td>\n",
       "      <td>40.0</td>\n",
       "    </tr>\n",
       "    <tr>\n",
       "      <th>8</th>\n",
       "      <td>Запустить акцию, дающую скидку на товар в день рождения</td>\n",
       "      <td>16.2</td>\n",
       "    </tr>\n",
       "    <tr>\n",
       "      <th>3</th>\n",
       "      <td>Изменить структура категорий, что увеличит конверсию, т.к. пользователи быстрее найдут нужный товар</td>\n",
       "      <td>9.0</td>\n",
       "    </tr>\n",
       "    <tr>\n",
       "      <th>1</th>\n",
       "      <td>Запустить собственную службу доставки, что сократит срок доставки заказов</td>\n",
       "      <td>4.0</td>\n",
       "    </tr>\n",
       "    <tr>\n",
       "      <th>5</th>\n",
       "      <td>Добавить страницу отзывов клиентов о магазине, что позволит увеличить количество заказов</td>\n",
       "      <td>4.0</td>\n",
       "    </tr>\n",
       "    <tr>\n",
       "      <th>4</th>\n",
       "      <td>Изменить цвет фона главной страницы, чтобы увеличить вовлеченность пользователей</td>\n",
       "      <td>3.0</td>\n",
       "    </tr>\n",
       "  </tbody>\n",
       "</table>\n",
       "</div>"
      ],
      "text/plain": [
       "                                                                                                     Hypothesis  \\\n",
       "7              Добавить форму подписки на все основные страницы, чтобы собрать базу клиентов для email-рассылок   \n",
       "2  Добавить блоки рекомендаций товаров на сайт интернет магазина, чтобы повысить конверсию и средний чек заказа   \n",
       "0            Добавить два новых канала привлечения трафика, что позволит привлекать на 30% больше пользователей   \n",
       "6          Показать на главной странице баннеры с актуальными акциями и распродажами, чтобы увеличить конверсию   \n",
       "8                                                       Запустить акцию, дающую скидку на товар в день рождения   \n",
       "3           Изменить структура категорий, что увеличит конверсию, т.к. пользователи быстрее найдут нужный товар   \n",
       "1                                     Запустить собственную службу доставки, что сократит срок доставки заказов   \n",
       "5                      Добавить страницу отзывов клиентов о магазине, что позволит увеличить количество заказов   \n",
       "4                              Изменить цвет фона главной страницы, чтобы увеличить вовлеченность пользователей   \n",
       "\n",
       "    RICE  \n",
       "7  112.0  \n",
       "2   56.0  \n",
       "0   40.0  \n",
       "6   40.0  \n",
       "8   16.2  \n",
       "3    9.0  \n",
       "1    4.0  \n",
       "5    4.0  \n",
       "4    3.0  "
      ]
     },
     "execution_count": 4,
     "metadata": {},
     "output_type": "execute_result"
    }
   ],
   "source": [
    "data['RICE'] = data['Reach'] * data['Impact'] * data['Confidence'] / data['Efforts']\n",
    "data[['Hypothesis', 'RICE' ]].sort_values(by='RICE', ascending=False)"
   ]
  },
  {
   "cell_type": "markdown",
   "metadata": {},
   "source": [
    "Наиболее перспективными по методу RICE являются гипотезы:\n",
    "* №7 \"Добавить форму подписки на все основные страницы, чтобы собрать базу клиентов для email-рассылок\"\n",
    "* №2 \"Добавить блоки рекомендаций товаров на сайт интернет магазина, чтобы повысить конверсию и средний чек заказа\"\n",
    "* №0 \"Добавить два новых канала привлечения трафика, что позволит привлекать на 30% больше пользователей\"\n",
    "* №6 \"Показать на главной странице баннеры с актуальными акциями и распродажами, чтобы увеличить конверсию\"\n",
    "* №8 \"Запустить акцию, дающую скидку на товар в день рождения\"\n",
    "\n"
   ]
  },
  {
   "cell_type": "markdown",
   "metadata": {},
   "source": [
    "### <b>Выводы</b>\n",
    "<p>Наиболее перспективные гипотезы по ICE и RICE (0, 2, 6, 7, 8), однако на первом месте по RICE уже гипотеза под номером 7 (её параметр Reach = 10, в то время как у других гипотез он меньше: самая перспективная гипотеза №8 по ICE имеет самый маленький охват пользователей). Кроме силы гипотез в методе ICE, необходимо учитывать и то, как много пользователей гипотезы затронут (учтено в методе RICE)\n"
   ]
  },
  {
   "cell_type": "code",
   "execution_count": 5,
   "metadata": {},
   "outputs": [
    {
     "data": {
      "text/html": [
       "<div>\n",
       "<style scoped>\n",
       "    .dataframe tbody tr th:only-of-type {\n",
       "        vertical-align: middle;\n",
       "    }\n",
       "\n",
       "    .dataframe tbody tr th {\n",
       "        vertical-align: top;\n",
       "    }\n",
       "\n",
       "    .dataframe thead th {\n",
       "        text-align: right;\n",
       "    }\n",
       "</style>\n",
       "<table border=\"1\" class=\"dataframe\">\n",
       "  <thead>\n",
       "    <tr style=\"text-align: right;\">\n",
       "      <th></th>\n",
       "      <th>Hypothesis</th>\n",
       "      <th>ICE</th>\n",
       "      <th>RICE</th>\n",
       "    </tr>\n",
       "  </thead>\n",
       "  <tbody>\n",
       "    <tr>\n",
       "      <th>7</th>\n",
       "      <td>Добавить форму подписки на все основные страницы, чтобы собрать базу клиентов для email-рассылок</td>\n",
       "      <td>11.200000</td>\n",
       "      <td>112.0</td>\n",
       "    </tr>\n",
       "    <tr>\n",
       "      <th>2</th>\n",
       "      <td>Добавить блоки рекомендаций товаров на сайт интернет магазина, чтобы повысить конверсию и средний чек заказа</td>\n",
       "      <td>7.000000</td>\n",
       "      <td>56.0</td>\n",
       "    </tr>\n",
       "    <tr>\n",
       "      <th>0</th>\n",
       "      <td>Добавить два новых канала привлечения трафика, что позволит привлекать на 30% больше пользователей</td>\n",
       "      <td>13.333333</td>\n",
       "      <td>40.0</td>\n",
       "    </tr>\n",
       "    <tr>\n",
       "      <th>6</th>\n",
       "      <td>Показать на главной странице баннеры с актуальными акциями и распродажами, чтобы увеличить конверсию</td>\n",
       "      <td>8.000000</td>\n",
       "      <td>40.0</td>\n",
       "    </tr>\n",
       "    <tr>\n",
       "      <th>8</th>\n",
       "      <td>Запустить акцию, дающую скидку на товар в день рождения</td>\n",
       "      <td>16.200000</td>\n",
       "      <td>16.2</td>\n",
       "    </tr>\n",
       "    <tr>\n",
       "      <th>3</th>\n",
       "      <td>Изменить структура категорий, что увеличит конверсию, т.к. пользователи быстрее найдут нужный товар</td>\n",
       "      <td>1.125000</td>\n",
       "      <td>9.0</td>\n",
       "    </tr>\n",
       "    <tr>\n",
       "      <th>1</th>\n",
       "      <td>Запустить собственную службу доставки, что сократит срок доставки заказов</td>\n",
       "      <td>2.000000</td>\n",
       "      <td>4.0</td>\n",
       "    </tr>\n",
       "    <tr>\n",
       "      <th>5</th>\n",
       "      <td>Добавить страницу отзывов клиентов о магазине, что позволит увеличить количество заказов</td>\n",
       "      <td>1.333333</td>\n",
       "      <td>4.0</td>\n",
       "    </tr>\n",
       "    <tr>\n",
       "      <th>4</th>\n",
       "      <td>Изменить цвет фона главной страницы, чтобы увеличить вовлеченность пользователей</td>\n",
       "      <td>1.000000</td>\n",
       "      <td>3.0</td>\n",
       "    </tr>\n",
       "  </tbody>\n",
       "</table>\n",
       "</div>"
      ],
      "text/plain": [
       "                                                                                                     Hypothesis  \\\n",
       "7              Добавить форму подписки на все основные страницы, чтобы собрать базу клиентов для email-рассылок   \n",
       "2  Добавить блоки рекомендаций товаров на сайт интернет магазина, чтобы повысить конверсию и средний чек заказа   \n",
       "0            Добавить два новых канала привлечения трафика, что позволит привлекать на 30% больше пользователей   \n",
       "6          Показать на главной странице баннеры с актуальными акциями и распродажами, чтобы увеличить конверсию   \n",
       "8                                                       Запустить акцию, дающую скидку на товар в день рождения   \n",
       "3           Изменить структура категорий, что увеличит конверсию, т.к. пользователи быстрее найдут нужный товар   \n",
       "1                                     Запустить собственную службу доставки, что сократит срок доставки заказов   \n",
       "5                      Добавить страницу отзывов клиентов о магазине, что позволит увеличить количество заказов   \n",
       "4                              Изменить цвет фона главной страницы, чтобы увеличить вовлеченность пользователей   \n",
       "\n",
       "         ICE   RICE  \n",
       "7  11.200000  112.0  \n",
       "2   7.000000   56.0  \n",
       "0  13.333333   40.0  \n",
       "6   8.000000   40.0  \n",
       "8  16.200000   16.2  \n",
       "3   1.125000    9.0  \n",
       "1   2.000000    4.0  \n",
       "5   1.333333    4.0  \n",
       "4   1.000000    3.0  "
      ]
     },
     "execution_count": 5,
     "metadata": {},
     "output_type": "execute_result"
    }
   ],
   "source": [
    "# гипотеза, параметры ICE и RICE для сравнения\n",
    "data = data[['Hypothesis', 'ICE', 'RICE' ]].sort_values(by='RICE', ascending=False)\n",
    "data"
   ]
  },
  {
   "cell_type": "markdown",
   "metadata": {},
   "source": [
    "Построим график, на котором отобразим два параметра для лучшей визуализации параметров ICE / RICE"
   ]
  },
  {
   "cell_type": "code",
   "execution_count": 6,
   "metadata": {},
   "outputs": [
    {
     "data": {
      "image/png": "[encoded data removed]",
      "text/plain": [
       "<Figure size 864x576 with 1 Axes>"
      ]
     },
     "metadata": {
      "needs_background": "light"
     },
     "output_type": "display_data"
    }
   ],
   "source": [
    "my_slope = 8 # invented slope value\n",
    "\n",
    "def find_second_point(slope,x0,y0):\n",
    "    # this function returns a point which belongs to the line that has the slope \n",
    "    # inserted by the user and that intercepts the point (x0,y0) inserted by the user\n",
    "    q = y0 - (slope*x0)  # calculate q\n",
    "    new_x = x0 + 10  # generate random x adding 10 to the intersect x coordinate\n",
    "    new_y = (slope*new_x) + q  # calculate new y corresponding to random new_x created\n",
    "\n",
    "    return new_x, new_y  # return x and y of new point that belongs to the line\n",
    "color = ['#94ff2b', '#c6e2ff', '#00a86b', '#b0e0e6', '#9fe2bf', '#95abbb', '#ff148c', '#a52a2a', '#0d2b4e']\n",
    "plt.figure(figsize=(12, 8))  # create new figure\n",
    "l = []\n",
    "# invoke function to calculate the new point\n",
    "for i in range(len(data)):\n",
    "    new_x, new_y = find_second_point(my_slope , data['ICE'][i], data['RICE'][i])\n",
    "    plt.plot((data['ICE'][i], new_x),(data['RICE'][i], new_y), c=color[i], label=f'Гипотеза №{i}')\n",
    "    l.append(f'Гипотеза №{i}')\n",
    "    plt.scatter(data['ICE'][i], data['RICE'][i], c='b', s=5, linewidths=3, label='ICE')\n",
    "    plt.scatter(new_x, new_y, c='g', s=5, linewidths=3, label='RICE')\n",
    "l.append('ICE')\n",
    "l.append('RICE')\n",
    "plt.legend(l, title='Номер гипотезы')  # add legend to image\n",
    "\n",
    "plt.ylabel('RICE')\n",
    "plt.xlabel('ICE ')\n",
    "plt.title('Слоупграф показателей ICE и RICE для различных гипотез', fontsize=16)\n",
    "plt.grid(linewidth=0.8)"
   ]
  },
  {
   "cell_type": "markdown",
   "metadata": {},
   "source": [
    "Итак, график хорошо визуализирует зависимость параметров ICE / RICE  и легко позволяет принять решение по выбору лучших гипотез (гипотезы 7, 2, почти одинаковые по RICE 6 и 0,  и гипотеза 8)"
   ]
  },
  {
   "cell_type": "markdown",
   "metadata": {},
   "source": [
    "## Часть 2. Анализ A/B-теста"
   ]
  },
  {
   "cell_type": "markdown",
   "metadata": {},
   "source": [
    "### Описание данных\n",
    "Файл orders.csv:\n",
    "* transactionId — идентификатор заказа;\n",
    "* visitorId — идентификатор пользователя, совершившего заказ;\n",
    "* date — дата, когда был совершён заказ;\n",
    "* revenue — выручка заказа;\n",
    "* group — группа A/B-теста, в которую попал заказ.\n",
    "\n",
    "Файл visitors.csv:\n",
    "* date — дата;\n",
    "* group — группа A/B-теста;\n",
    "* visitors — количество пользователей в указанную дату в указанной группе A/B-теста"
   ]
  },
  {
   "cell_type": "code",
   "execution_count": 9,
   "metadata": {},
   "outputs": [
    {
     "name": "stdout",
     "output_type": "stream",
     "text": [
      "<class 'pandas.core.frame.DataFrame'>\n",
      "RangeIndex: 1197 entries, 0 to 1196\n",
      "Data columns (total 5 columns):\n",
      " #   Column         Non-Null Count  Dtype         \n",
      "---  ------         --------------  -----         \n",
      " 0   transactionId  1197 non-null   int64         \n",
      " 1   visitorId      1197 non-null   int64         \n",
      " 2   date           1197 non-null   datetime64[ns]\n",
      " 3   revenue        1197 non-null   int64         \n",
      " 4   group          1197 non-null   object        \n",
      "dtypes: datetime64[ns](1), int64(3), object(1)\n",
      "memory usage: 46.9+ KB\n"
     ]
    }
   ],
   "source": [
    "# вывод информации о датафрейме orders\n",
    "orders.info()"
   ]
  },
  {
   "cell_type": "markdown",
   "metadata": {},
   "source": [
    "Пропусков нет"
   ]
  },
  {
   "cell_type": "code",
   "execution_count": 10,
   "metadata": {},
   "outputs": [
    {
     "data": {
      "text/html": [
       "<div>\n",
       "<style scoped>\n",
       "    .dataframe tbody tr th:only-of-type {\n",
       "        vertical-align: middle;\n",
       "    }\n",
       "\n",
       "    .dataframe tbody tr th {\n",
       "        vertical-align: top;\n",
       "    }\n",
       "\n",
       "    .dataframe thead th {\n",
       "        text-align: right;\n",
       "    }\n",
       "</style>\n",
       "<table border=\"1\" class=\"dataframe\">\n",
       "  <thead>\n",
       "    <tr style=\"text-align: right;\">\n",
       "      <th></th>\n",
       "      <th>transactionId</th>\n",
       "      <th>visitorId</th>\n",
       "      <th>date</th>\n",
       "      <th>revenue</th>\n",
       "      <th>group</th>\n",
       "    </tr>\n",
       "  </thead>\n",
       "  <tbody>\n",
       "    <tr>\n",
       "      <th>0</th>\n",
       "      <td>3667963787</td>\n",
       "      <td>3312258926</td>\n",
       "      <td>2019-08-15</td>\n",
       "      <td>1650</td>\n",
       "      <td>B</td>\n",
       "    </tr>\n",
       "    <tr>\n",
       "      <th>1</th>\n",
       "      <td>2804400009</td>\n",
       "      <td>3642806036</td>\n",
       "      <td>2019-08-15</td>\n",
       "      <td>730</td>\n",
       "      <td>B</td>\n",
       "    </tr>\n",
       "    <tr>\n",
       "      <th>2</th>\n",
       "      <td>2961555356</td>\n",
       "      <td>4069496402</td>\n",
       "      <td>2019-08-15</td>\n",
       "      <td>400</td>\n",
       "      <td>A</td>\n",
       "    </tr>\n",
       "    <tr>\n",
       "      <th>3</th>\n",
       "      <td>3797467345</td>\n",
       "      <td>1196621759</td>\n",
       "      <td>2019-08-15</td>\n",
       "      <td>9759</td>\n",
       "      <td>B</td>\n",
       "    </tr>\n",
       "    <tr>\n",
       "      <th>4</th>\n",
       "      <td>2282983706</td>\n",
       "      <td>2322279887</td>\n",
       "      <td>2019-08-15</td>\n",
       "      <td>2308</td>\n",
       "      <td>B</td>\n",
       "    </tr>\n",
       "  </tbody>\n",
       "</table>\n",
       "</div>"
      ],
      "text/plain": [
       "   transactionId   visitorId       date  revenue group\n",
       "0     3667963787  3312258926 2019-08-15     1650     B\n",
       "1     2804400009  3642806036 2019-08-15      730     B\n",
       "2     2961555356  4069496402 2019-08-15      400     A\n",
       "3     3797467345  1196621759 2019-08-15     9759     B\n",
       "4     2282983706  2322279887 2019-08-15     2308     B"
      ]
     },
     "execution_count": 10,
     "metadata": {},
     "output_type": "execute_result"
    }
   ],
   "source": [
    "# вывод первых 5 строк датафрейма orders\n",
    "orders.head()"
   ]
  },
  {
   "cell_type": "code",
   "execution_count": 11,
   "metadata": {},
   "outputs": [
    {
     "data": {
      "text/plain": [
       "False    1197\n",
       "dtype: int64"
      ]
     },
     "execution_count": 11,
     "metadata": {},
     "output_type": "execute_result"
    }
   ],
   "source": [
    "# проверка на дубликаты\n",
    "orders.duplicated().value_counts()"
   ]
  },
  {
   "cell_type": "markdown",
   "metadata": {},
   "source": [
    "Размер датафрейма orders 1197, дубликатов нет"
   ]
  },
  {
   "cell_type": "code",
   "execution_count": 12,
   "metadata": {},
   "outputs": [
    {
     "data": {
      "text/plain": [
       "B    640\n",
       "A    557\n",
       "Name: group, dtype: int64"
      ]
     },
     "execution_count": 12,
     "metadata": {},
     "output_type": "execute_result"
    }
   ],
   "source": [
    "# количество посетителей по группам\n",
    "orders['group'].value_counts()"
   ]
  },
  {
   "cell_type": "code",
   "execution_count": 13,
   "metadata": {},
   "outputs": [
    {
     "data": {
      "text/html": [
       "<div>\n",
       "<style scoped>\n",
       "    .dataframe tbody tr th:only-of-type {\n",
       "        vertical-align: middle;\n",
       "    }\n",
       "\n",
       "    .dataframe tbody tr th {\n",
       "        vertical-align: top;\n",
       "    }\n",
       "\n",
       "    .dataframe thead th {\n",
       "        text-align: right;\n",
       "    }\n",
       "</style>\n",
       "<table border=\"1\" class=\"dataframe\">\n",
       "  <thead>\n",
       "    <tr style=\"text-align: right;\">\n",
       "      <th></th>\n",
       "      <th>visitorId</th>\n",
       "    </tr>\n",
       "    <tr>\n",
       "      <th>group</th>\n",
       "      <th></th>\n",
       "    </tr>\n",
       "  </thead>\n",
       "  <tbody>\n",
       "    <tr>\n",
       "      <th>A</th>\n",
       "      <td>503</td>\n",
       "    </tr>\n",
       "    <tr>\n",
       "      <th>B</th>\n",
       "      <td>586</td>\n",
       "    </tr>\n",
       "  </tbody>\n",
       "</table>\n",
       "</div>"
      ],
      "text/plain": [
       "       visitorId\n",
       "group           \n",
       "A            503\n",
       "B            586"
      ]
     },
     "execution_count": 13,
     "metadata": {},
     "output_type": "execute_result"
    }
   ],
   "source": [
    "# число уникальных посетителей по группам\n",
    "orders.groupby('group').agg({'visitorId': 'nunique'})"
   ]
  },
  {
   "cell_type": "markdown",
   "metadata": {},
   "source": [
    "В датафрейме orders посетители разбиты на две группы - А (557 человек) и В (640 человек), из них уникальных в группе А - 503 человека, в группе В - 586 человек"
   ]
  },
  {
   "cell_type": "code",
   "execution_count": 14,
   "metadata": {
    "scrolled": true
   },
   "outputs": [
    {
     "name": "stdout",
     "output_type": "stream",
     "text": [
      "<class 'pandas.core.frame.DataFrame'>\n",
      "RangeIndex: 62 entries, 0 to 61\n",
      "Data columns (total 3 columns):\n",
      " #   Column    Non-Null Count  Dtype         \n",
      "---  ------    --------------  -----         \n",
      " 0   date      62 non-null     datetime64[ns]\n",
      " 1   group     62 non-null     object        \n",
      " 2   visitors  62 non-null     int64         \n",
      "dtypes: datetime64[ns](1), int64(1), object(1)\n",
      "memory usage: 1.6+ KB\n"
     ]
    }
   ],
   "source": [
    "# вывод информации о датафрейме visitors\n",
    "visitors.info()"
   ]
  },
  {
   "cell_type": "markdown",
   "metadata": {},
   "source": [
    "Пропусков нет"
   ]
  },
  {
   "cell_type": "code",
   "execution_count": 15,
   "metadata": {},
   "outputs": [
    {
     "data": {
      "text/html": [
       "<div>\n",
       "<style scoped>\n",
       "    .dataframe tbody tr th:only-of-type {\n",
       "        vertical-align: middle;\n",
       "    }\n",
       "\n",
       "    .dataframe tbody tr th {\n",
       "        vertical-align: top;\n",
       "    }\n",
       "\n",
       "    .dataframe thead th {\n",
       "        text-align: right;\n",
       "    }\n",
       "</style>\n",
       "<table border=\"1\" class=\"dataframe\">\n",
       "  <thead>\n",
       "    <tr style=\"text-align: right;\">\n",
       "      <th></th>\n",
       "      <th>date</th>\n",
       "      <th>group</th>\n",
       "      <th>visitors</th>\n",
       "    </tr>\n",
       "  </thead>\n",
       "  <tbody>\n",
       "    <tr>\n",
       "      <th>0</th>\n",
       "      <td>2019-08-01</td>\n",
       "      <td>A</td>\n",
       "      <td>719</td>\n",
       "    </tr>\n",
       "    <tr>\n",
       "      <th>1</th>\n",
       "      <td>2019-08-02</td>\n",
       "      <td>A</td>\n",
       "      <td>619</td>\n",
       "    </tr>\n",
       "    <tr>\n",
       "      <th>2</th>\n",
       "      <td>2019-08-03</td>\n",
       "      <td>A</td>\n",
       "      <td>507</td>\n",
       "    </tr>\n",
       "    <tr>\n",
       "      <th>3</th>\n",
       "      <td>2019-08-04</td>\n",
       "      <td>A</td>\n",
       "      <td>717</td>\n",
       "    </tr>\n",
       "    <tr>\n",
       "      <th>4</th>\n",
       "      <td>2019-08-05</td>\n",
       "      <td>A</td>\n",
       "      <td>756</td>\n",
       "    </tr>\n",
       "  </tbody>\n",
       "</table>\n",
       "</div>"
      ],
      "text/plain": [
       "        date group  visitors\n",
       "0 2019-08-01     A       719\n",
       "1 2019-08-02     A       619\n",
       "2 2019-08-03     A       507\n",
       "3 2019-08-04     A       717\n",
       "4 2019-08-05     A       756"
      ]
     },
     "execution_count": 15,
     "metadata": {},
     "output_type": "execute_result"
    }
   ],
   "source": [
    "# вывод первых 5 строк датафрейма visitors\n",
    "visitors.head()"
   ]
  },
  {
   "cell_type": "code",
   "execution_count": 16,
   "metadata": {},
   "outputs": [
    {
     "data": {
      "text/plain": [
       "False    62\n",
       "dtype: int64"
      ]
     },
     "execution_count": 16,
     "metadata": {},
     "output_type": "execute_result"
    }
   ],
   "source": [
    "# проверка на дубликаты\n",
    "visitors.duplicated().value_counts()"
   ]
  },
  {
   "cell_type": "markdown",
   "metadata": {},
   "source": [
    "Размер датафрейма orders 62, дубликатов нет"
   ]
  },
  {
   "cell_type": "code",
   "execution_count": 17,
   "metadata": {},
   "outputs": [
    {
     "data": {
      "text/plain": [
       "A    31\n",
       "B    31\n",
       "Name: group, dtype: int64"
      ]
     },
     "execution_count": 17,
     "metadata": {},
     "output_type": "execute_result"
    }
   ],
   "source": [
    "# проверка количества групп и посетителей в каждой группе\n",
    "visitors['group'].value_counts()"
   ]
  },
  {
   "cell_type": "markdown",
   "metadata": {},
   "source": [
    "Датафрейм содержит две группы А и В, в каждой по 31 посетителю"
   ]
  },
  {
   "cell_type": "code",
   "execution_count": 18,
   "metadata": {},
   "outputs": [
    {
     "name": "stdout",
     "output_type": "stream",
     "text": [
      "Минимальная дата исследования:  2019-08-01\n",
      "Максимальная дата исследования:  2019-08-31\n"
     ]
    }
   ],
   "source": [
    "# период исследования\n",
    "\n",
    "print('Минимальная дата исследования: ', visitors['date'].min().date())\n",
    "print('Максимальная дата исследования: ', visitors['date'].max().date())"
   ]
  },
  {
   "cell_type": "code",
   "execution_count": 19,
   "metadata": {},
   "outputs": [
    {
     "data": {
      "text/html": [
       "<div>\n",
       "<style scoped>\n",
       "    .dataframe tbody tr th:only-of-type {\n",
       "        vertical-align: middle;\n",
       "    }\n",
       "\n",
       "    .dataframe tbody tr th {\n",
       "        vertical-align: top;\n",
       "    }\n",
       "\n",
       "    .dataframe thead th {\n",
       "        text-align: right;\n",
       "    }\n",
       "</style>\n",
       "<table border=\"1\" class=\"dataframe\">\n",
       "  <thead>\n",
       "    <tr style=\"text-align: right;\">\n",
       "      <th></th>\n",
       "      <th>group</th>\n",
       "    </tr>\n",
       "    <tr>\n",
       "      <th>visitorId</th>\n",
       "      <th></th>\n",
       "    </tr>\n",
       "  </thead>\n",
       "  <tbody>\n",
       "    <tr>\n",
       "      <th>2654030115</th>\n",
       "      <td>2</td>\n",
       "    </tr>\n",
       "    <tr>\n",
       "      <th>3891541246</th>\n",
       "      <td>2</td>\n",
       "    </tr>\n",
       "    <tr>\n",
       "      <th>3941795274</th>\n",
       "      <td>2</td>\n",
       "    </tr>\n",
       "    <tr>\n",
       "      <th>1404934699</th>\n",
       "      <td>2</td>\n",
       "    </tr>\n",
       "    <tr>\n",
       "      <th>351125977</th>\n",
       "      <td>2</td>\n",
       "    </tr>\n",
       "    <tr>\n",
       "      <th>...</th>\n",
       "      <td>...</td>\n",
       "    </tr>\n",
       "    <tr>\n",
       "      <th>1476256851</th>\n",
       "      <td>1</td>\n",
       "    </tr>\n",
       "    <tr>\n",
       "      <th>1476741193</th>\n",
       "      <td>1</td>\n",
       "    </tr>\n",
       "    <tr>\n",
       "      <th>1484903144</th>\n",
       "      <td>1</td>\n",
       "    </tr>\n",
       "    <tr>\n",
       "      <th>1485964287</th>\n",
       "      <td>1</td>\n",
       "    </tr>\n",
       "    <tr>\n",
       "      <th>4283872382</th>\n",
       "      <td>1</td>\n",
       "    </tr>\n",
       "  </tbody>\n",
       "</table>\n",
       "<p>1031 rows × 1 columns</p>\n",
       "</div>"
      ],
      "text/plain": [
       "            group\n",
       "visitorId        \n",
       "2654030115      2\n",
       "3891541246      2\n",
       "3941795274      2\n",
       "1404934699      2\n",
       "351125977       2\n",
       "...           ...\n",
       "1476256851      1\n",
       "1476741193      1\n",
       "1484903144      1\n",
       "1485964287      1\n",
       "4283872382      1\n",
       "\n",
       "[1031 rows x 1 columns]"
      ]
     },
     "execution_count": 19,
     "metadata": {},
     "output_type": "execute_result"
    }
   ],
   "source": [
    "# поиск пользователей, которые могли попасть в обе группы\n",
    "df = orders.groupby('visitorId').agg({'group': 'nunique'}).sort_values(by='group', ascending=False)\n",
    "df"
   ]
  },
  {
   "cell_type": "code",
   "execution_count": 20,
   "metadata": {},
   "outputs": [],
   "source": [
    "# список пользователей, которые попали и в группу А, и в группу В\n",
    "visitors_dupl_gr = df.query('group >=2 ').index.to_list()"
   ]
  },
  {
   "cell_type": "code",
   "execution_count": 21,
   "metadata": {},
   "outputs": [
    {
     "data": {
      "text/html": [
       "<div>\n",
       "<style scoped>\n",
       "    .dataframe tbody tr th:only-of-type {\n",
       "        vertical-align: middle;\n",
       "    }\n",
       "\n",
       "    .dataframe tbody tr th {\n",
       "        vertical-align: top;\n",
       "    }\n",
       "\n",
       "    .dataframe thead th {\n",
       "        text-align: right;\n",
       "    }\n",
       "</style>\n",
       "<table border=\"1\" class=\"dataframe\">\n",
       "  <thead>\n",
       "    <tr style=\"text-align: right;\">\n",
       "      <th></th>\n",
       "      <th>transactionId</th>\n",
       "      <th>visitorId</th>\n",
       "      <th>date</th>\n",
       "      <th>revenue</th>\n",
       "      <th>group</th>\n",
       "    </tr>\n",
       "  </thead>\n",
       "  <tbody>\n",
       "    <tr>\n",
       "      <th>0</th>\n",
       "      <td>3667963787</td>\n",
       "      <td>3312258926</td>\n",
       "      <td>2019-08-15</td>\n",
       "      <td>1650</td>\n",
       "      <td>B</td>\n",
       "    </tr>\n",
       "    <tr>\n",
       "      <th>1</th>\n",
       "      <td>2804400009</td>\n",
       "      <td>3642806036</td>\n",
       "      <td>2019-08-15</td>\n",
       "      <td>730</td>\n",
       "      <td>B</td>\n",
       "    </tr>\n",
       "    <tr>\n",
       "      <th>3</th>\n",
       "      <td>3797467345</td>\n",
       "      <td>1196621759</td>\n",
       "      <td>2019-08-15</td>\n",
       "      <td>9759</td>\n",
       "      <td>B</td>\n",
       "    </tr>\n",
       "    <tr>\n",
       "      <th>4</th>\n",
       "      <td>2282983706</td>\n",
       "      <td>2322279887</td>\n",
       "      <td>2019-08-15</td>\n",
       "      <td>2308</td>\n",
       "      <td>B</td>\n",
       "    </tr>\n",
       "    <tr>\n",
       "      <th>5</th>\n",
       "      <td>182168103</td>\n",
       "      <td>935554773</td>\n",
       "      <td>2019-08-15</td>\n",
       "      <td>2210</td>\n",
       "      <td>B</td>\n",
       "    </tr>\n",
       "    <tr>\n",
       "      <th>...</th>\n",
       "      <td>...</td>\n",
       "      <td>...</td>\n",
       "      <td>...</td>\n",
       "      <td>...</td>\n",
       "      <td>...</td>\n",
       "    </tr>\n",
       "    <tr>\n",
       "      <th>1191</th>\n",
       "      <td>3592955527</td>\n",
       "      <td>608641596</td>\n",
       "      <td>2019-08-14</td>\n",
       "      <td>16490</td>\n",
       "      <td>B</td>\n",
       "    </tr>\n",
       "    <tr>\n",
       "      <th>1192</th>\n",
       "      <td>2662137336</td>\n",
       "      <td>3733762160</td>\n",
       "      <td>2019-08-14</td>\n",
       "      <td>6490</td>\n",
       "      <td>B</td>\n",
       "    </tr>\n",
       "    <tr>\n",
       "      <th>1193</th>\n",
       "      <td>2203539145</td>\n",
       "      <td>370388673</td>\n",
       "      <td>2019-08-14</td>\n",
       "      <td>3190</td>\n",
       "      <td>A</td>\n",
       "    </tr>\n",
       "    <tr>\n",
       "      <th>1194</th>\n",
       "      <td>1807773912</td>\n",
       "      <td>573423106</td>\n",
       "      <td>2019-08-14</td>\n",
       "      <td>10550</td>\n",
       "      <td>A</td>\n",
       "    </tr>\n",
       "    <tr>\n",
       "      <th>1196</th>\n",
       "      <td>3936777065</td>\n",
       "      <td>2108080724</td>\n",
       "      <td>2019-08-15</td>\n",
       "      <td>202740</td>\n",
       "      <td>B</td>\n",
       "    </tr>\n",
       "  </tbody>\n",
       "</table>\n",
       "<p>1016 rows × 5 columns</p>\n",
       "</div>"
      ],
      "text/plain": [
       "      transactionId   visitorId       date  revenue group\n",
       "0        3667963787  3312258926 2019-08-15     1650     B\n",
       "1        2804400009  3642806036 2019-08-15      730     B\n",
       "3        3797467345  1196621759 2019-08-15     9759     B\n",
       "4        2282983706  2322279887 2019-08-15     2308     B\n",
       "5         182168103   935554773 2019-08-15     2210     B\n",
       "...             ...         ...        ...      ...   ...\n",
       "1191     3592955527   608641596 2019-08-14    16490     B\n",
       "1192     2662137336  3733762160 2019-08-14     6490     B\n",
       "1193     2203539145   370388673 2019-08-14     3190     A\n",
       "1194     1807773912   573423106 2019-08-14    10550     A\n",
       "1196     3936777065  2108080724 2019-08-15   202740     B\n",
       "\n",
       "[1016 rows x 5 columns]"
      ]
     },
     "execution_count": 21,
     "metadata": {},
     "output_type": "execute_result"
    }
   ],
   "source": [
    "# список \"чистых\" пользователей, которые находятся только в группе А или только в группе В\n",
    "visitors_clear_gr = df.query('group == 1 ').index.to_list()\n",
    "\n",
    "# осталвяем в датафрейме только \"чистых пользователей\"\n",
    "clear_orders = orders.query('visitorId in @visitors_clear_gr')\n",
    "clear_orders"
   ]
  },
  {
   "cell_type": "code",
   "execution_count": 22,
   "metadata": {
    "scrolled": false
   },
   "outputs": [
    {
     "data": {
      "text/html": [
       "<div>\n",
       "<style scoped>\n",
       "    .dataframe tbody tr th:only-of-type {\n",
       "        vertical-align: middle;\n",
       "    }\n",
       "\n",
       "    .dataframe tbody tr th {\n",
       "        vertical-align: top;\n",
       "    }\n",
       "\n",
       "    .dataframe thead th {\n",
       "        text-align: right;\n",
       "    }\n",
       "</style>\n",
       "<table border=\"1\" class=\"dataframe\">\n",
       "  <thead>\n",
       "    <tr style=\"text-align: right;\">\n",
       "      <th></th>\n",
       "      <th>transactionId</th>\n",
       "      <th>visitorId</th>\n",
       "      <th>date</th>\n",
       "      <th>revenue</th>\n",
       "      <th>group</th>\n",
       "    </tr>\n",
       "  </thead>\n",
       "  <tbody>\n",
       "    <tr>\n",
       "      <th>0</th>\n",
       "      <td>3667963787</td>\n",
       "      <td>3312258926</td>\n",
       "      <td>2019-08-15</td>\n",
       "      <td>1650</td>\n",
       "      <td>B</td>\n",
       "    </tr>\n",
       "    <tr>\n",
       "      <th>1</th>\n",
       "      <td>2804400009</td>\n",
       "      <td>3642806036</td>\n",
       "      <td>2019-08-15</td>\n",
       "      <td>730</td>\n",
       "      <td>B</td>\n",
       "    </tr>\n",
       "    <tr>\n",
       "      <th>3</th>\n",
       "      <td>3797467345</td>\n",
       "      <td>1196621759</td>\n",
       "      <td>2019-08-15</td>\n",
       "      <td>9759</td>\n",
       "      <td>B</td>\n",
       "    </tr>\n",
       "    <tr>\n",
       "      <th>4</th>\n",
       "      <td>2282983706</td>\n",
       "      <td>2322279887</td>\n",
       "      <td>2019-08-15</td>\n",
       "      <td>2308</td>\n",
       "      <td>B</td>\n",
       "    </tr>\n",
       "    <tr>\n",
       "      <th>5</th>\n",
       "      <td>182168103</td>\n",
       "      <td>935554773</td>\n",
       "      <td>2019-08-15</td>\n",
       "      <td>2210</td>\n",
       "      <td>B</td>\n",
       "    </tr>\n",
       "    <tr>\n",
       "      <th>...</th>\n",
       "      <td>...</td>\n",
       "      <td>...</td>\n",
       "      <td>...</td>\n",
       "      <td>...</td>\n",
       "      <td>...</td>\n",
       "    </tr>\n",
       "    <tr>\n",
       "      <th>1100</th>\n",
       "      <td>1671551244</td>\n",
       "      <td>3062433592</td>\n",
       "      <td>2019-08-12</td>\n",
       "      <td>2970</td>\n",
       "      <td>B</td>\n",
       "    </tr>\n",
       "    <tr>\n",
       "      <th>814</th>\n",
       "      <td>1759418862</td>\n",
       "      <td>4186807279</td>\n",
       "      <td>2019-08-21</td>\n",
       "      <td>18560</td>\n",
       "      <td>B</td>\n",
       "    </tr>\n",
       "    <tr>\n",
       "      <th>819</th>\n",
       "      <td>380064637</td>\n",
       "      <td>4186807279</td>\n",
       "      <td>2019-08-27</td>\n",
       "      <td>13740</td>\n",
       "      <td>B</td>\n",
       "    </tr>\n",
       "    <tr>\n",
       "      <th>516</th>\n",
       "      <td>3754751399</td>\n",
       "      <td>2044997962</td>\n",
       "      <td>2019-08-26</td>\n",
       "      <td>6090</td>\n",
       "      <td>B</td>\n",
       "    </tr>\n",
       "    <tr>\n",
       "      <th>517</th>\n",
       "      <td>582361359</td>\n",
       "      <td>2044997962</td>\n",
       "      <td>2019-08-26</td>\n",
       "      <td>990</td>\n",
       "      <td>B</td>\n",
       "    </tr>\n",
       "  </tbody>\n",
       "</table>\n",
       "<p>1065 rows × 5 columns</p>\n",
       "</div>"
      ],
      "text/plain": [
       "      transactionId   visitorId       date  revenue group\n",
       "0        3667963787  3312258926 2019-08-15     1650     B\n",
       "1        2804400009  3642806036 2019-08-15      730     B\n",
       "3        3797467345  1196621759 2019-08-15     9759     B\n",
       "4        2282983706  2322279887 2019-08-15     2308     B\n",
       "5         182168103   935554773 2019-08-15     2210     B\n",
       "...             ...         ...        ...      ...   ...\n",
       "1100     1671551244  3062433592 2019-08-12     2970     B\n",
       "814      1759418862  4186807279 2019-08-21    18560     B\n",
       "819       380064637  4186807279 2019-08-27    13740     B\n",
       "516      3754751399  2044997962 2019-08-26     6090     B\n",
       "517       582361359  2044997962 2019-08-26      990     B\n",
       "\n",
       "[1065 rows x 5 columns]"
      ]
     },
     "execution_count": 22,
     "metadata": {},
     "output_type": "execute_result"
    }
   ],
   "source": [
    "# обработка посетителей, оказавшихся в группе А и в группе В одновременно\n",
    "for vis in visitors_dupl_gr:\n",
    "\n",
    "    # счетчик попадний в группы для одного пользователя\n",
    "    count_A = 0\n",
    "    count_B = 0 \n",
    "    \n",
    "    # отбираем подозрительного пользователя из общего датафрейма\n",
    "    temp_qwery = orders.query('visitorId == @vis')\n",
    "    \n",
    "    # сколько раз попал в группу А и в группу В\n",
    "    count_A = len(temp_qwery.query('group ==\"A\"'))\n",
    "    count_B = len(temp_qwery.query('group ==\"B\"'))    \n",
    "    \n",
    "    # если в каждой по 1 разу - оставляем запись с минимальной датой\n",
    "    if count_A == count_B == 1:\n",
    "        min_date = temp_qwery['date'].min()\n",
    "        # добавление \"дублирующися\" пользователей, по минимальной дате в чистый датафрейм\n",
    "        clear_orders.append(temp_qwery.query('date == @min_date'))\n",
    "    \n",
    "    # если большинство поаданий в группу В при случайном одном попадании в группу А, оставляем записи с группой В\n",
    "    elif count_A == 1 and count_B > 1:\n",
    "        clear_orders = clear_orders.append(temp_qwery.query('group == \"B\"'))\n",
    "    \n",
    "    # если большинство поаданий в группу А при случайном одном попадании в группу В, оставляем записи с группой А\n",
    "    elif count_B == 1:        \n",
    "        clear_orders = clear_orders.append(temp_qwery.query('group == \"A\"'))\n",
    "    \n",
    "    # если в каждой из групп более чем по 2 заказа, таких пользователей исключим\n",
    "        \n",
    "clear_orders"
   ]
  },
  {
   "cell_type": "markdown",
   "metadata": {},
   "source": [
    "Датафрейм содержит данные о пользователях, которые попали и в группу А, и в группу В, было принято решение оставлять записи с минимальной датой распределения, итого датафрейм уменьшился на 11% "
   ]
  },
  {
   "cell_type": "code",
   "execution_count": 23,
   "metadata": {},
   "outputs": [
    {
     "data": {
      "text/html": [
       "<div>\n",
       "<style scoped>\n",
       "    .dataframe tbody tr th:only-of-type {\n",
       "        vertical-align: middle;\n",
       "    }\n",
       "\n",
       "    .dataframe tbody tr th {\n",
       "        vertical-align: top;\n",
       "    }\n",
       "\n",
       "    .dataframe thead th {\n",
       "        text-align: right;\n",
       "    }\n",
       "</style>\n",
       "<table border=\"1\" class=\"dataframe\">\n",
       "  <thead>\n",
       "    <tr style=\"text-align: right;\">\n",
       "      <th></th>\n",
       "      <th>transactionId</th>\n",
       "      <th>visitorId</th>\n",
       "      <th>date</th>\n",
       "      <th>revenue</th>\n",
       "      <th>group</th>\n",
       "    </tr>\n",
       "  </thead>\n",
       "  <tbody>\n",
       "    <tr>\n",
       "      <th>159</th>\n",
       "      <td>1170827001</td>\n",
       "      <td>3891541246</td>\n",
       "      <td>2019-08-22</td>\n",
       "      <td>990</td>\n",
       "      <td>A</td>\n",
       "    </tr>\n",
       "    <tr>\n",
       "      <th>606</th>\n",
       "      <td>4007826947</td>\n",
       "      <td>3891541246</td>\n",
       "      <td>2019-08-04</td>\n",
       "      <td>480</td>\n",
       "      <td>B</td>\n",
       "    </tr>\n",
       "    <tr>\n",
       "      <th>609</th>\n",
       "      <td>332633624</td>\n",
       "      <td>3891541246</td>\n",
       "      <td>2019-08-04</td>\n",
       "      <td>5020</td>\n",
       "      <td>A</td>\n",
       "    </tr>\n",
       "  </tbody>\n",
       "</table>\n",
       "</div>"
      ],
      "text/plain": [
       "     transactionId   visitorId       date  revenue group\n",
       "159     1170827001  3891541246 2019-08-22      990     A\n",
       "606     4007826947  3891541246 2019-08-04      480     B\n",
       "609      332633624  3891541246 2019-08-04     5020     A"
      ]
     },
     "execution_count": 23,
     "metadata": {},
     "output_type": "execute_result"
    }
   ],
   "source": [
    "# например, visitorId == 2044997962 встречался 3 раза, 2 из них в группе В, оставляем группу А - по самой ранней дате\n",
    "orders.query('visitorId == 3891541246')"
   ]
  },
  {
   "cell_type": "code",
   "execution_count": 24,
   "metadata": {},
   "outputs": [
    {
     "data": {
      "text/html": [
       "<div>\n",
       "<style scoped>\n",
       "    .dataframe tbody tr th:only-of-type {\n",
       "        vertical-align: middle;\n",
       "    }\n",
       "\n",
       "    .dataframe tbody tr th {\n",
       "        vertical-align: top;\n",
       "    }\n",
       "\n",
       "    .dataframe thead th {\n",
       "        text-align: right;\n",
       "    }\n",
       "</style>\n",
       "<table border=\"1\" class=\"dataframe\">\n",
       "  <thead>\n",
       "    <tr style=\"text-align: right;\">\n",
       "      <th></th>\n",
       "      <th>transactionId</th>\n",
       "      <th>visitorId</th>\n",
       "      <th>date</th>\n",
       "      <th>revenue</th>\n",
       "      <th>group</th>\n",
       "    </tr>\n",
       "  </thead>\n",
       "  <tbody>\n",
       "    <tr>\n",
       "      <th>159</th>\n",
       "      <td>1170827001</td>\n",
       "      <td>3891541246</td>\n",
       "      <td>2019-08-22</td>\n",
       "      <td>990</td>\n",
       "      <td>A</td>\n",
       "    </tr>\n",
       "    <tr>\n",
       "      <th>609</th>\n",
       "      <td>332633624</td>\n",
       "      <td>3891541246</td>\n",
       "      <td>2019-08-04</td>\n",
       "      <td>5020</td>\n",
       "      <td>A</td>\n",
       "    </tr>\n",
       "  </tbody>\n",
       "</table>\n",
       "</div>"
      ],
      "text/plain": [
       "     transactionId   visitorId       date  revenue group\n",
       "159     1170827001  3891541246 2019-08-22      990     A\n",
       "609      332633624  3891541246 2019-08-04     5020     A"
      ]
     },
     "execution_count": 24,
     "metadata": {},
     "output_type": "execute_result"
    }
   ],
   "source": [
    "# после очистки осталась только группа А\n",
    "clear_orders.query('visitorId == 3891541246')"
   ]
  },
  {
   "cell_type": "code",
   "execution_count": 25,
   "metadata": {},
   "outputs": [
    {
     "data": {
      "text/html": [
       "<div>\n",
       "<style scoped>\n",
       "    .dataframe tbody tr th:only-of-type {\n",
       "        vertical-align: middle;\n",
       "    }\n",
       "\n",
       "    .dataframe tbody tr th {\n",
       "        vertical-align: top;\n",
       "    }\n",
       "\n",
       "    .dataframe thead th {\n",
       "        text-align: right;\n",
       "    }\n",
       "</style>\n",
       "<table border=\"1\" class=\"dataframe\">\n",
       "  <thead>\n",
       "    <tr style=\"text-align: right;\">\n",
       "      <th></th>\n",
       "      <th>visitorId</th>\n",
       "      <th>group</th>\n",
       "    </tr>\n",
       "  </thead>\n",
       "  <tbody>\n",
       "    <tr>\n",
       "      <th>0</th>\n",
       "      <td>3312258926</td>\n",
       "      <td>B</td>\n",
       "    </tr>\n",
       "    <tr>\n",
       "      <th>1</th>\n",
       "      <td>3642806036</td>\n",
       "      <td>B</td>\n",
       "    </tr>\n",
       "    <tr>\n",
       "      <th>3</th>\n",
       "      <td>1196621759</td>\n",
       "      <td>B</td>\n",
       "    </tr>\n",
       "    <tr>\n",
       "      <th>4</th>\n",
       "      <td>2322279887</td>\n",
       "      <td>B</td>\n",
       "    </tr>\n",
       "    <tr>\n",
       "      <th>5</th>\n",
       "      <td>935554773</td>\n",
       "      <td>B</td>\n",
       "    </tr>\n",
       "    <tr>\n",
       "      <th>...</th>\n",
       "      <td>...</td>\n",
       "      <td>...</td>\n",
       "    </tr>\n",
       "    <tr>\n",
       "      <th>677</th>\n",
       "      <td>1294878855</td>\n",
       "      <td>A</td>\n",
       "    </tr>\n",
       "    <tr>\n",
       "      <th>26</th>\n",
       "      <td>199603092</td>\n",
       "      <td>A</td>\n",
       "    </tr>\n",
       "    <tr>\n",
       "      <th>111</th>\n",
       "      <td>3062433592</td>\n",
       "      <td>B</td>\n",
       "    </tr>\n",
       "    <tr>\n",
       "      <th>814</th>\n",
       "      <td>4186807279</td>\n",
       "      <td>B</td>\n",
       "    </tr>\n",
       "    <tr>\n",
       "      <th>516</th>\n",
       "      <td>2044997962</td>\n",
       "      <td>B</td>\n",
       "    </tr>\n",
       "  </tbody>\n",
       "</table>\n",
       "<p>991 rows × 2 columns</p>\n",
       "</div>"
      ],
      "text/plain": [
       "      visitorId group\n",
       "0    3312258926     B\n",
       "1    3642806036     B\n",
       "3    1196621759     B\n",
       "4    2322279887     B\n",
       "5     935554773     B\n",
       "..          ...   ...\n",
       "677  1294878855     A\n",
       "26    199603092     A\n",
       "111  3062433592     B\n",
       "814  4186807279     B\n",
       "516  2044997962     B\n",
       "\n",
       "[991 rows x 2 columns]"
      ]
     },
     "execution_count": 25,
     "metadata": {},
     "output_type": "execute_result"
    }
   ],
   "source": [
    "# удаление дубликатов\n",
    "orders = clear_orders\n",
    "orders[['visitorId', 'group']].drop_duplicates()"
   ]
  },
  {
   "cell_type": "code",
   "execution_count": 26,
   "metadata": {},
   "outputs": [
    {
     "data": {
      "text/html": [
       "<div>\n",
       "<style scoped>\n",
       "    .dataframe tbody tr th:only-of-type {\n",
       "        vertical-align: middle;\n",
       "    }\n",
       "\n",
       "    .dataframe tbody tr th {\n",
       "        vertical-align: top;\n",
       "    }\n",
       "\n",
       "    .dataframe thead th {\n",
       "        text-align: right;\n",
       "    }\n",
       "</style>\n",
       "<table border=\"1\" class=\"dataframe\">\n",
       "  <thead>\n",
       "    <tr style=\"text-align: right;\">\n",
       "      <th></th>\n",
       "      <th>visitorId</th>\n",
       "    </tr>\n",
       "    <tr>\n",
       "      <th>group</th>\n",
       "      <th></th>\n",
       "    </tr>\n",
       "  </thead>\n",
       "  <tbody>\n",
       "    <tr>\n",
       "      <th>A</th>\n",
       "      <td>452</td>\n",
       "    </tr>\n",
       "    <tr>\n",
       "      <th>B</th>\n",
       "      <td>539</td>\n",
       "    </tr>\n",
       "  </tbody>\n",
       "</table>\n",
       "</div>"
      ],
      "text/plain": [
       "       visitorId\n",
       "group           \n",
       "A            452\n",
       "B            539"
      ]
     },
     "execution_count": 26,
     "metadata": {},
     "output_type": "execute_result"
    }
   ],
   "source": [
    "# число уникальных  \"чистых\" посетителей по группам\n",
    "orders.groupby('group').agg({'visitorId': 'nunique'})"
   ]
  },
  {
   "cell_type": "code",
   "execution_count": 27,
   "metadata": {},
   "outputs": [
    {
     "data": {
      "text/html": [
       "<div>\n",
       "<style scoped>\n",
       "    .dataframe tbody tr th:only-of-type {\n",
       "        vertical-align: middle;\n",
       "    }\n",
       "\n",
       "    .dataframe tbody tr th {\n",
       "        vertical-align: top;\n",
       "    }\n",
       "\n",
       "    .dataframe thead th {\n",
       "        text-align: right;\n",
       "    }\n",
       "</style>\n",
       "<table border=\"1\" class=\"dataframe\">\n",
       "  <thead>\n",
       "    <tr style=\"text-align: right;\">\n",
       "      <th></th>\n",
       "      <th>date</th>\n",
       "      <th>group</th>\n",
       "    </tr>\n",
       "  </thead>\n",
       "  <tbody>\n",
       "    <tr>\n",
       "      <th>0</th>\n",
       "      <td>2019-08-15</td>\n",
       "      <td>B</td>\n",
       "    </tr>\n",
       "    <tr>\n",
       "      <th>7</th>\n",
       "      <td>2019-08-15</td>\n",
       "      <td>A</td>\n",
       "    </tr>\n",
       "    <tr>\n",
       "      <th>45</th>\n",
       "      <td>2019-08-16</td>\n",
       "      <td>A</td>\n",
       "    </tr>\n",
       "    <tr>\n",
       "      <th>47</th>\n",
       "      <td>2019-08-16</td>\n",
       "      <td>B</td>\n",
       "    </tr>\n",
       "    <tr>\n",
       "      <th>55</th>\n",
       "      <td>2019-08-01</td>\n",
       "      <td>A</td>\n",
       "    </tr>\n",
       "  </tbody>\n",
       "</table>\n",
       "</div>"
      ],
      "text/plain": [
       "         date group\n",
       "0  2019-08-15     B\n",
       "7  2019-08-15     A\n",
       "45 2019-08-16     A\n",
       "47 2019-08-16     B\n",
       "55 2019-08-01     A"
      ]
     },
     "execution_count": 27,
     "metadata": {},
     "output_type": "execute_result"
    }
   ],
   "source": [
    "# cоздание датафрейм datesGroups с уникальными парами значений 'date' и 'group', таблицы orders. \n",
    "# и удаление дубликатов методом drop_duplicates()\n",
    "datesGroups = orders[['date', 'group']].drop_duplicates()\n",
    "datesGroups.head()"
   ]
  },
  {
   "cell_type": "code",
   "execution_count": 30,
   "metadata": {},
   "outputs": [
    {
     "data": {
      "text/html": [
       "<div>\n",
       "<style scoped>\n",
       "    .dataframe tbody tr th:only-of-type {\n",
       "        vertical-align: middle;\n",
       "    }\n",
       "\n",
       "    .dataframe tbody tr th {\n",
       "        vertical-align: top;\n",
       "    }\n",
       "\n",
       "    .dataframe thead th {\n",
       "        text-align: right;\n",
       "    }\n",
       "</style>\n",
       "<table border=\"1\" class=\"dataframe\">\n",
       "  <thead>\n",
       "    <tr style=\"text-align: right;\">\n",
       "      <th></th>\n",
       "      <th>date</th>\n",
       "      <th>group</th>\n",
       "      <th>orders</th>\n",
       "      <th>buyers</th>\n",
       "      <th>revenue</th>\n",
       "      <th>visitors</th>\n",
       "    </tr>\n",
       "  </thead>\n",
       "  <tbody>\n",
       "    <tr>\n",
       "      <th>0</th>\n",
       "      <td>2019-08-01</td>\n",
       "      <td>A</td>\n",
       "      <td>23</td>\n",
       "      <td>19</td>\n",
       "      <td>142779</td>\n",
       "      <td>719</td>\n",
       "    </tr>\n",
       "    <tr>\n",
       "      <th>1</th>\n",
       "      <td>2019-08-01</td>\n",
       "      <td>B</td>\n",
       "      <td>19</td>\n",
       "      <td>18</td>\n",
       "      <td>82717</td>\n",
       "      <td>713</td>\n",
       "    </tr>\n",
       "    <tr>\n",
       "      <th>2</th>\n",
       "      <td>2019-08-02</td>\n",
       "      <td>A</td>\n",
       "      <td>42</td>\n",
       "      <td>36</td>\n",
       "      <td>234381</td>\n",
       "      <td>1338</td>\n",
       "    </tr>\n",
       "    <tr>\n",
       "      <th>3</th>\n",
       "      <td>2019-08-02</td>\n",
       "      <td>B</td>\n",
       "      <td>42</td>\n",
       "      <td>40</td>\n",
       "      <td>244760</td>\n",
       "      <td>1294</td>\n",
       "    </tr>\n",
       "    <tr>\n",
       "      <th>4</th>\n",
       "      <td>2019-08-03</td>\n",
       "      <td>A</td>\n",
       "      <td>66</td>\n",
       "      <td>60</td>\n",
       "      <td>346854</td>\n",
       "      <td>1845</td>\n",
       "    </tr>\n",
       "  </tbody>\n",
       "</table>\n",
       "</div>"
      ],
      "text/plain": [
       "        date group  orders  buyers  revenue  visitors\n",
       "0 2019-08-01     A      23      19   142779       719\n",
       "1 2019-08-01     B      19      18    82717       713\n",
       "2 2019-08-02     A      42      36   234381      1338\n",
       "3 2019-08-02     B      42      40   244760      1294\n",
       "4 2019-08-03     A      66      60   346854      1845"
      ]
     },
     "execution_count": 30,
     "metadata": {},
     "output_type": "execute_result"
    }
   ],
   "source": [
    "# объявление переменной cumulativeData -  объединение ordersAggregated и visitorsAggregated \n",
    "# по колонкам 'date', 'group' методом merge()\n",
    "cumulativeData = ordersAggregated.merge(\n",
    "    visitorsAggregated, left_on=['date', 'group'], right_on=['date', 'group']\n",
    ")\n",
    "\n",
    "# переименование столбцов\n",
    "cumulativeData.columns = [\n",
    "    'date',\n",
    "    'group',\n",
    "    'orders',\n",
    "    'buyers',\n",
    "    'revenue',\n",
    "    'visitors',\n",
    "]\n",
    "\n",
    "# вывод первых 5 строк переменной cumulativeData\n",
    "cumulativeData.head()"
   ]
  },
  {
   "cell_type": "code",
   "execution_count": 31,
   "metadata": {},
   "outputs": [],
   "source": [
    "# датафрейм с кумулятивным количеством заказов и кумулятивной выручкой по дням в группе А\n",
    "cumulativeRevenueA = cumulativeData[cumulativeData['group']=='A'][['date','revenue', 'orders', 'visitors']]\n",
    "\n",
    "# датафрейм с кумулятивным количеством заказов и кумулятивной выручкой по дням в группе B\n",
    "cumulativeRevenueB = cumulativeData[cumulativeData['group']=='B'][['date','revenue', 'orders', 'visitors']]"
   ]
  },
  {
   "cell_type": "markdown",
   "metadata": {},
   "source": [
    "### График кумулятивной выручки по группам"
   ]
  },
  {
   "cell_type": "code",
   "execution_count": 32,
   "metadata": {},
   "outputs": [
    {
     "data": {
      "image/png": "[encoded data removed]",
      "text/plain": [
       "<Figure size 864x576 with 1 Axes>"
      ]
     },
     "metadata": {
      "needs_background": "light"
     },
     "output_type": "display_data"
    }
   ],
   "source": [
    "plt.figure(figsize=(12, 8))\n",
    "# Строим график выручки группы А\n",
    "plt.plot(cumulativeRevenueA['date'], cumulativeRevenueA['revenue'], label='A')\n",
    "\n",
    "# Строим график выручки группы B\n",
    "plt.plot(cumulativeRevenueB['date'], cumulativeRevenueB['revenue'], label='B')\n",
    "\n",
    "plt.legend(title= 'Группы', title_fontsize = 10,  prop = {'size' : 14}) \n",
    "plt.ylabel('Выручка заказа')\n",
    "plt.xlabel('Дата ')\n",
    "plt.title('Динамика кумулятивной выручки по группам', fontsize=16)\n",
    "plt.grid(linewidth=0.8)"
   ]
  },
  {
   "cell_type": "markdown",
   "metadata": {},
   "source": [
    "Выручка группы А почти равномерно увеличивается в течение всего теста. \n",
    "Выручка группы B в середине теста резко увеличивается относительно группы А и продолжает лидировать весь остаток теста. Похоже, что на этот период пришлись аномально большие заказы."
   ]
  },
  {
   "cell_type": "markdown",
   "metadata": {},
   "source": [
    "### График кумулятивного среднего чека по группам"
   ]
  },
  {
   "cell_type": "code",
   "execution_count": 33,
   "metadata": {},
   "outputs": [
    {
     "data": {
      "image/png": "[encoded data removed]",
      "text/plain": [
       "<Figure size 864x576 with 1 Axes>"
      ]
     },
     "metadata": {
      "needs_background": "light"
     },
     "output_type": "display_data"
    }
   ],
   "source": [
    "# Построим графики среднего чека по группам — разделим кумулятивную выручку на кумулятивное число заказов\n",
    "plt.figure(figsize=(12, 8))\n",
    "plt.plot(cumulativeRevenueA['date'], cumulativeRevenueA['revenue']/cumulativeRevenueA['orders'], label='A')\n",
    "plt.plot(cumulativeRevenueB['date'], cumulativeRevenueB['revenue']/cumulativeRevenueB['orders'], label='B')\n",
    "plt.legend(title= 'Группы', title_fontsize = 10,  prop = {'size' : 14}) \n",
    "plt.ylabel('Выручка заказа')\n",
    "plt.xlabel('Дата ')\n",
    "plt.title('Динамика кумулятивного среднего чека по группам', fontsize=16)\n",
    "plt.grid(linewidth=0.8)"
   ]
  },
  {
   "cell_type": "markdown",
   "metadata": {},
   "source": [
    "Кумулятивное значение среднего чека для группы А выросло к 13.08.2019 и становится относительно равномерным к концу теста. \n",
    "Резкий скачок для группы В в середине теста снова дает основание для предположения, что в группу В попали крупные заказы. \n",
    "Требуется дополнительный анализ выбросов, которые могут исказить результат"
   ]
  },
  {
   "cell_type": "markdown",
   "metadata": {},
   "source": [
    "### График относительного изменения кумулятивного среднего чека группы B к группе A"
   ]
  },
  {
   "cell_type": "code",
   "execution_count": 34,
   "metadata": {},
   "outputs": [
    {
     "data": {
      "image/png": "[encoded data removed]",
      "text/plain": [
       "<Figure size 864x576 with 1 Axes>"
      ]
     },
     "metadata": {
      "needs_background": "light"
     },
     "output_type": "display_data"
    }
   ],
   "source": [
    "# собираем данные в одном датафрейме\n",
    "mergedCumulativeRevenue = cumulativeRevenueA.merge(\n",
    "    cumulativeRevenueB, \n",
    "    left_on='date', \n",
    "    right_on='date', \n",
    "    how='left', \n",
    "    suffixes=['A', 'B']\n",
    ")\n",
    "\n",
    "# cтроим отношение средних чеков\n",
    "plt.figure(figsize=(12, 8))\n",
    "plt.plot(\n",
    "    mergedCumulativeRevenue['date'], \n",
    "    (mergedCumulativeRevenue['revenueB']/mergedCumulativeRevenue['ordersB'])\\\n",
    "    /(mergedCumulativeRevenue['revenueA']/mergedCumulativeRevenue['ordersA'])-1\n",
    ")\n",
    "\n",
    "# добавляем ось X\n",
    "plt.axhline(y=0, color='black', linestyle='--') \n",
    "plt.ylabel('Доля отличия')\n",
    "plt.xlabel('Дата ')\n",
    "plt.title('График относительного различия кумулятивного среднего чека группы B к группе A', fontsize=16)\n",
    "plt.grid(linewidth=0.8)"
   ]
  },
  {
   "cell_type": "markdown",
   "metadata": {},
   "source": [
    "Результаты теста резко и сильно менялись в несколько дат, видимо, тогда и были совершены аномальные заказы (например, 18.08.2019 относительное различие средних чеков достигало 50%  в группе В к группе А и снизилось только к 29% к концу теста)"
   ]
  },
  {
   "cell_type": "markdown",
   "metadata": {},
   "source": [
    "### График кумулятивного среднего количества заказов на посетителя по группам"
   ]
  },
  {
   "cell_type": "code",
   "execution_count": 35,
   "metadata": {},
   "outputs": [
    {
     "data": {
      "image/png": "[encoded data removed]",
      "text/plain": [
       "<Figure size 864x576 with 1 Axes>"
      ]
     },
     "metadata": {
      "needs_background": "light"
     },
     "output_type": "display_data"
    }
   ],
   "source": [
    "plt.figure(figsize=(12, 8))\n",
    "# Строим график количества заказов группы А\n",
    "plt.plot(cumulativeRevenueA['date'], cumulativeRevenueA['orders']/cumulativeRevenueA['visitors'], label='A')\n",
    "\n",
    "# Строим график количества заказов группы B\n",
    "plt.plot(cumulativeRevenueB['date'], cumulativeRevenueB['orders']/cumulativeRevenueB['visitors'], label='B')\n",
    "\n",
    "plt.legend(title= 'Группы', title_fontsize = 10,  prop = {'size' : 14}) \n",
    "plt.ylabel('Среднее количество заказов на посетителя')\n",
    "plt.xlabel('Дата ')\n",
    "plt.title('Динамика кумулятивного среднего количества заказов на посетителя по группам', fontsize=16)\n",
    "plt.grid(linewidth=0.8)"
   ]
  },
  {
   "cell_type": "markdown",
   "metadata": {},
   "source": [
    "В начале теста количество заказов в группе А было выше, чем в группе В, но с 6-7 августа среднее количество заказов в группе В было примерно на 15% выше до конца теста"
   ]
  },
  {
   "cell_type": "markdown",
   "metadata": {},
   "source": [
    "### График относительного изменения кумулятивного среднего количества заказов на посетителя группы B к группе A"
   ]
  },
  {
   "cell_type": "code",
   "execution_count": 36,
   "metadata": {
    "scrolled": false
   },
   "outputs": [
    {
     "data": {
      "image/png": "[encoded data removed]",
      "text/plain": [
       "<Figure size 864x576 with 1 Axes>"
      ]
     },
     "metadata": {
      "needs_background": "light"
     },
     "output_type": "display_data"
    }
   ],
   "source": [
    "# собираем данные в одном датафрейме\n",
    "mergedCumulativeOrders = cumulativeRevenueA.merge(\n",
    "    cumulativeRevenueB, \n",
    "    left_on='date', \n",
    "    right_on='date', \n",
    "    how='left', \n",
    "    suffixes=['A', 'B']\n",
    ")\n",
    "\n",
    "# cтроим отношение средних чеков\n",
    "plt.figure(figsize=(12, 8))\n",
    "plt.plot(\n",
    "    mergedCumulativeOrders['date'], \n",
    "    (mergedCumulativeOrders['ordersB'])/(mergedCumulativeOrders['ordersA'])-1\n",
    ")\n",
    "\n",
    "# добавляем ось X\n",
    "plt.axhline(y=0, color='black', linestyle='--') \n",
    "plt.ylabel('Доля отличия')\n",
    "plt.xlabel('Дата ')\n",
    "plt.title('График относительного изменения кумулятивного среднего количества заказов на посетителя группы B к группе A', \\\n",
    "          fontsize=16)\n",
    "plt.grid(linewidth=0.8)"
   ]
  },
  {
   "cell_type": "markdown",
   "metadata": {},
   "source": [
    "После 5 августа произошел резкий скачок в кумулятивном среднем количестве заказов, и количество заказов посетителей группы В до конца теста отличалось от количества заказов посетителей группы А на 15-23%"
   ]
  },
  {
   "cell_type": "markdown",
   "metadata": {},
   "source": [
    "### График количества заказов по пользователям"
   ]
  },
  {
   "cell_type": "code",
   "execution_count": 37,
   "metadata": {},
   "outputs": [
    {
     "data": {
      "text/html": [
       "<div>\n",
       "<style scoped>\n",
       "    .dataframe tbody tr th:only-of-type {\n",
       "        vertical-align: middle;\n",
       "    }\n",
       "\n",
       "    .dataframe tbody tr th {\n",
       "        vertical-align: top;\n",
       "    }\n",
       "\n",
       "    .dataframe thead th {\n",
       "        text-align: right;\n",
       "    }\n",
       "</style>\n",
       "<table border=\"1\" class=\"dataframe\">\n",
       "  <thead>\n",
       "    <tr style=\"text-align: right;\">\n",
       "      <th></th>\n",
       "      <th>userId</th>\n",
       "      <th>orders</th>\n",
       "    </tr>\n",
       "  </thead>\n",
       "  <tbody>\n",
       "    <tr>\n",
       "      <th>43</th>\n",
       "      <td>199603092</td>\n",
       "      <td>4</td>\n",
       "    </tr>\n",
       "    <tr>\n",
       "      <th>717</th>\n",
       "      <td>3062433592</td>\n",
       "      <td>4</td>\n",
       "    </tr>\n",
       "    <tr>\n",
       "      <th>886</th>\n",
       "      <td>3803269165</td>\n",
       "      <td>4</td>\n",
       "    </tr>\n",
       "    <tr>\n",
       "      <th>867</th>\n",
       "      <td>3717692402</td>\n",
       "      <td>4</td>\n",
       "    </tr>\n",
       "    <tr>\n",
       "      <th>53</th>\n",
       "      <td>237748145</td>\n",
       "      <td>4</td>\n",
       "    </tr>\n",
       "    <tr>\n",
       "      <th>906</th>\n",
       "      <td>3908431265</td>\n",
       "      <td>3</td>\n",
       "    </tr>\n",
       "    <tr>\n",
       "      <th>488</th>\n",
       "      <td>2108163459</td>\n",
       "      <td>3</td>\n",
       "    </tr>\n",
       "    <tr>\n",
       "      <th>57</th>\n",
       "      <td>249864742</td>\n",
       "      <td>3</td>\n",
       "    </tr>\n",
       "    <tr>\n",
       "      <th>924</th>\n",
       "      <td>3967698036</td>\n",
       "      <td>3</td>\n",
       "    </tr>\n",
       "    <tr>\n",
       "      <th>643</th>\n",
       "      <td>2742574263</td>\n",
       "      <td>3</td>\n",
       "    </tr>\n",
       "  </tbody>\n",
       "</table>\n",
       "</div>"
      ],
      "text/plain": [
       "         userId  orders\n",
       "43    199603092       4\n",
       "717  3062433592       4\n",
       "886  3803269165       4\n",
       "867  3717692402       4\n",
       "53    237748145       4\n",
       "906  3908431265       3\n",
       "488  2108163459       3\n",
       "57    249864742       3\n",
       "924  3967698036       3\n",
       "643  2742574263       3"
      ]
     },
     "metadata": {},
     "output_type": "display_data"
    }
   ],
   "source": [
    "# создаем датафрейм с двумя столбцами 'userId' и 'orders', который хранит количество заказов каждого пользователя\n",
    "ordersByUsers = (\n",
    "    orders.groupby('visitorId', as_index=False)\n",
    "    .agg({'transactionId': 'nunique'})\n",
    ")\n",
    "ordersByUsers.columns = ['userId', 'orders']\n",
    "\n",
    "# вывод первых 10 строк датафрейма\n",
    "display(ordersByUsers.sort_values(by='orders', ascending=False).head(10))"
   ]
  },
  {
   "cell_type": "code",
   "execution_count": 38,
   "metadata": {},
   "outputs": [
    {
     "data": {
      "image/png": "[encoded data removed]",
      "text/plain": [
       "<Figure size 864x576 with 1 Axes>"
      ]
     },
     "metadata": {
      "needs_background": "light"
     },
     "output_type": "display_data"
    }
   ],
   "source": [
    "# серия из чисел от 0 до количества наблюдений в ordersByUsers\n",
    "x_values = pd.Series(range(0, len(ordersByUsers)))\n",
    "\n",
    "# построение диаграммы методом scatter()\n",
    "plt.figure(figsize=(12, 8))\n",
    "plt.scatter(x_values, ordersByUsers['orders']) \n",
    "plt.ylabel('Количество заказов')\n",
    "plt.xlabel('Количество наблюдений ')\n",
    "plt.title('Распределение количества заказов по пользователям', fontsize=16)\n",
    "plt.grid(linewidth=0.8)"
   ]
  },
  {
   "cell_type": "markdown",
   "metadata": {},
   "source": [
    "Пользователей, заказавших более двух раз, совсем мало. Они могут быть аномальными. Проверим, два заказа - это норма или много."
   ]
  },
  {
   "cell_type": "markdown",
   "metadata": {},
   "source": [
    "###  95-й и 99-й перцентили количества заказов на пользователя"
   ]
  },
  {
   "cell_type": "code",
   "execution_count": 39,
   "metadata": {},
   "outputs": [
    {
     "name": "stdout",
     "output_type": "stream",
     "text": [
      "[2. 3.]\n"
     ]
    }
   ],
   "source": [
    "# Метод np.percentile('column', [percentile1, percentile2]) находит перцентили.\n",
    "print(np.percentile(ordersByUsers['orders'], [95,99]))"
   ]
  },
  {
   "cell_type": "markdown",
   "metadata": {},
   "source": [
    "Не более 5% посетителей совершили два заказа. И не более 1%   больше трёх заказов.\n",
    "Примем за аномальных посетителей тех, кто совершил 3 заказа и более."
   ]
  },
  {
   "cell_type": "markdown",
   "metadata": {},
   "source": [
    "###  График стоимостей заказов"
   ]
  },
  {
   "cell_type": "code",
   "execution_count": 40,
   "metadata": {
    "scrolled": false
   },
   "outputs": [
    {
     "data": {
      "image/png": "[encoded data removed]",
      "text/plain": [
       "<Figure size 864x576 with 1 Axes>"
      ]
     },
     "metadata": {
      "needs_background": "light"
     },
     "output_type": "display_data"
    }
   ],
   "source": [
    "# серия из чисел от 0 до количества наблюдений в orders\n",
    "x_values = pd.Series(range(0, len(orders['revenue'])))\n",
    "\n",
    "plt.figure(figsize=(12, 8))\n",
    "plt.scatter(x_values, orders['revenue'], alpha=0.5) \n",
    "plt.ylabel('Стоимость заказа, млн. руб.')\n",
    "plt.xlabel('Количество наблюдений ')\n",
    "plt.title('Распределение стоимости заказов, млн. руб.', fontsize=16)\n",
    "# добавим границу в 30 000 рублей\n",
    "plt.axhline(y=30_000, color='black', linestyle='--')\n",
    "plt.grid(linewidth=0.8)"
   ]
  },
  {
   "cell_type": "markdown",
   "metadata": {},
   "source": [
    "Заказов стоимостью свыше 30 000 рублей не очень много. Есть выбросы в районе 200 000 и 1,4 млн. рублей"
   ]
  },
  {
   "cell_type": "markdown",
   "metadata": {},
   "source": [
    "###  95-й и 99-й перцентили стоимости заказов"
   ]
  },
  {
   "cell_type": "code",
   "execution_count": 41,
   "metadata": {
    "scrolled": true
   },
   "outputs": [
    {
     "name": "stdout",
     "output_type": "stream",
     "text": [
      "[27308. 53904.]\n"
     ]
    }
   ],
   "source": [
    "print(np.percentile(orders['revenue'], [95,99]))"
   ]
  },
  {
   "cell_type": "markdown",
   "metadata": {},
   "source": [
    "Не более, чем у 5% заказов чек дороже 27 308 рублей. И не больше, чем у 1% заказов - дороже 53 904 рублей.\n",
    "Примем за аномальных заказы те, у которых стоимость свыше 27308 рублей"
   ]
  },
  {
   "cell_type": "markdown",
   "metadata": {},
   "source": [
    "### Расчёт статистической значимости различий в среднем количестве заказов на посетителя между группами по «сырым» данным"
   ]
  },
  {
   "cell_type": "code",
   "execution_count": 42,
   "metadata": {},
   "outputs": [
    {
     "data": {
      "text/html": [
       "<div>\n",
       "<style scoped>\n",
       "    .dataframe tbody tr th:only-of-type {\n",
       "        vertical-align: middle;\n",
       "    }\n",
       "\n",
       "    .dataframe tbody tr th {\n",
       "        vertical-align: top;\n",
       "    }\n",
       "\n",
       "    .dataframe thead th {\n",
       "        text-align: right;\n",
       "    }\n",
       "</style>\n",
       "<table border=\"1\" class=\"dataframe\">\n",
       "  <thead>\n",
       "    <tr style=\"text-align: right;\">\n",
       "      <th></th>\n",
       "      <th>date</th>\n",
       "      <th>visitorsPerDateA</th>\n",
       "    </tr>\n",
       "  </thead>\n",
       "  <tbody>\n",
       "    <tr>\n",
       "      <th>0</th>\n",
       "      <td>2019-08-01</td>\n",
       "      <td>719</td>\n",
       "    </tr>\n",
       "    <tr>\n",
       "      <th>1</th>\n",
       "      <td>2019-08-02</td>\n",
       "      <td>619</td>\n",
       "    </tr>\n",
       "    <tr>\n",
       "      <th>2</th>\n",
       "      <td>2019-08-03</td>\n",
       "      <td>507</td>\n",
       "    </tr>\n",
       "    <tr>\n",
       "      <th>3</th>\n",
       "      <td>2019-08-04</td>\n",
       "      <td>717</td>\n",
       "    </tr>\n",
       "    <tr>\n",
       "      <th>4</th>\n",
       "      <td>2019-08-05</td>\n",
       "      <td>756</td>\n",
       "    </tr>\n",
       "  </tbody>\n",
       "</table>\n",
       "</div>"
      ],
      "text/plain": [
       "        date  visitorsPerDateA\n",
       "0 2019-08-01               719\n",
       "1 2019-08-02               619\n",
       "2 2019-08-03               507\n",
       "3 2019-08-04               717\n",
       "4 2019-08-05               756"
      ]
     },
     "execution_count": 42,
     "metadata": {},
     "output_type": "execute_result"
    }
   ],
   "source": [
    "# количество пользователей в выбранную дату в группе A\n",
    "visitorsADaily = visitors[visitors['group'] == 'A'][['date', 'visitors']]\n",
    "visitorsADaily.columns = ['date', 'visitorsPerDateA']\n",
    "visitorsADaily.head()"
   ]
  },
  {
   "cell_type": "code",
   "execution_count": 43,
   "metadata": {},
   "outputs": [
    {
     "data": {
      "text/html": [
       "<div>\n",
       "<style scoped>\n",
       "    .dataframe tbody tr th:only-of-type {\n",
       "        vertical-align: middle;\n",
       "    }\n",
       "\n",
       "    .dataframe tbody tr th {\n",
       "        vertical-align: top;\n",
       "    }\n",
       "\n",
       "    .dataframe thead th {\n",
       "        text-align: right;\n",
       "    }\n",
       "</style>\n",
       "<table border=\"1\" class=\"dataframe\">\n",
       "  <thead>\n",
       "    <tr style=\"text-align: right;\">\n",
       "      <th></th>\n",
       "      <th>date</th>\n",
       "      <th>visitorsCummulativeA</th>\n",
       "    </tr>\n",
       "  </thead>\n",
       "  <tbody>\n",
       "    <tr>\n",
       "      <th>0</th>\n",
       "      <td>2019-08-01</td>\n",
       "      <td>719</td>\n",
       "    </tr>\n",
       "    <tr>\n",
       "      <th>1</th>\n",
       "      <td>2019-08-02</td>\n",
       "      <td>1338</td>\n",
       "    </tr>\n",
       "    <tr>\n",
       "      <th>2</th>\n",
       "      <td>2019-08-03</td>\n",
       "      <td>1845</td>\n",
       "    </tr>\n",
       "    <tr>\n",
       "      <th>3</th>\n",
       "      <td>2019-08-04</td>\n",
       "      <td>2562</td>\n",
       "    </tr>\n",
       "    <tr>\n",
       "      <th>4</th>\n",
       "      <td>2019-08-05</td>\n",
       "      <td>3318</td>\n",
       "    </tr>\n",
       "  </tbody>\n",
       "</table>\n",
       "</div>"
      ],
      "text/plain": [
       "        date  visitorsCummulativeA\n",
       "0 2019-08-01                   719\n",
       "1 2019-08-02                  1338\n",
       "2 2019-08-03                  1845\n",
       "3 2019-08-04                  2562\n",
       "4 2019-08-05                  3318"
      ]
     },
     "execution_count": 43,
     "metadata": {},
     "output_type": "execute_result"
    }
   ],
   "source": [
    "# кумулятивное  количество пользователей до выбранной даты включительно в группе A\n",
    "visitorsACummulative = visitorsADaily.apply(\n",
    "    lambda x: visitorsADaily[visitorsADaily['date'] <= x['date']].agg(\n",
    "        {'date': 'max', 'visitorsPerDateA': 'sum'}\n",
    "    ),\n",
    "    axis=1,\n",
    ")\n",
    "visitorsACummulative.columns = ['date', 'visitorsCummulativeA']\n",
    "visitorsACummulative.head()"
   ]
  },
  {
   "cell_type": "code",
   "execution_count": 44,
   "metadata": {},
   "outputs": [
    {
     "data": {
      "text/html": [
       "<div>\n",
       "<style scoped>\n",
       "    .dataframe tbody tr th:only-of-type {\n",
       "        vertical-align: middle;\n",
       "    }\n",
       "\n",
       "    .dataframe tbody tr th {\n",
       "        vertical-align: top;\n",
       "    }\n",
       "\n",
       "    .dataframe thead th {\n",
       "        text-align: right;\n",
       "    }\n",
       "</style>\n",
       "<table border=\"1\" class=\"dataframe\">\n",
       "  <thead>\n",
       "    <tr style=\"text-align: right;\">\n",
       "      <th></th>\n",
       "      <th>date</th>\n",
       "      <th>visitorsPerDateB</th>\n",
       "    </tr>\n",
       "  </thead>\n",
       "  <tbody>\n",
       "    <tr>\n",
       "      <th>31</th>\n",
       "      <td>2019-08-01</td>\n",
       "      <td>713</td>\n",
       "    </tr>\n",
       "    <tr>\n",
       "      <th>32</th>\n",
       "      <td>2019-08-02</td>\n",
       "      <td>581</td>\n",
       "    </tr>\n",
       "    <tr>\n",
       "      <th>33</th>\n",
       "      <td>2019-08-03</td>\n",
       "      <td>509</td>\n",
       "    </tr>\n",
       "    <tr>\n",
       "      <th>34</th>\n",
       "      <td>2019-08-04</td>\n",
       "      <td>770</td>\n",
       "    </tr>\n",
       "    <tr>\n",
       "      <th>35</th>\n",
       "      <td>2019-08-05</td>\n",
       "      <td>707</td>\n",
       "    </tr>\n",
       "  </tbody>\n",
       "</table>\n",
       "</div>"
      ],
      "text/plain": [
       "         date  visitorsPerDateB\n",
       "31 2019-08-01               713\n",
       "32 2019-08-02               581\n",
       "33 2019-08-03               509\n",
       "34 2019-08-04               770\n",
       "35 2019-08-05               707"
      ]
     },
     "execution_count": 44,
     "metadata": {},
     "output_type": "execute_result"
    }
   ],
   "source": [
    "# количество пользователей в выбранную дату в группе B\n",
    "visitorsBDaily = visitors[visitors['group'] == 'B'][['date', 'visitors']]\n",
    "visitorsBDaily.columns = ['date', 'visitorsPerDateB']\n",
    "visitorsBDaily.head()"
   ]
  },
  {
   "cell_type": "code",
   "execution_count": 45,
   "metadata": {},
   "outputs": [
    {
     "data": {
      "text/html": [
       "<div>\n",
       "<style scoped>\n",
       "    .dataframe tbody tr th:only-of-type {\n",
       "        vertical-align: middle;\n",
       "    }\n",
       "\n",
       "    .dataframe tbody tr th {\n",
       "        vertical-align: top;\n",
       "    }\n",
       "\n",
       "    .dataframe thead th {\n",
       "        text-align: right;\n",
       "    }\n",
       "</style>\n",
       "<table border=\"1\" class=\"dataframe\">\n",
       "  <thead>\n",
       "    <tr style=\"text-align: right;\">\n",
       "      <th></th>\n",
       "      <th>date</th>\n",
       "      <th>visitorsCummulativeB</th>\n",
       "    </tr>\n",
       "  </thead>\n",
       "  <tbody>\n",
       "    <tr>\n",
       "      <th>31</th>\n",
       "      <td>2019-08-01</td>\n",
       "      <td>713</td>\n",
       "    </tr>\n",
       "    <tr>\n",
       "      <th>32</th>\n",
       "      <td>2019-08-02</td>\n",
       "      <td>1294</td>\n",
       "    </tr>\n",
       "    <tr>\n",
       "      <th>33</th>\n",
       "      <td>2019-08-03</td>\n",
       "      <td>1803</td>\n",
       "    </tr>\n",
       "    <tr>\n",
       "      <th>34</th>\n",
       "      <td>2019-08-04</td>\n",
       "      <td>2573</td>\n",
       "    </tr>\n",
       "    <tr>\n",
       "      <th>35</th>\n",
       "      <td>2019-08-05</td>\n",
       "      <td>3280</td>\n",
       "    </tr>\n",
       "  </tbody>\n",
       "</table>\n",
       "</div>"
      ],
      "text/plain": [
       "         date  visitorsCummulativeB\n",
       "31 2019-08-01                   713\n",
       "32 2019-08-02                  1294\n",
       "33 2019-08-03                  1803\n",
       "34 2019-08-04                  2573\n",
       "35 2019-08-05                  3280"
      ]
     },
     "execution_count": 45,
     "metadata": {},
     "output_type": "execute_result"
    }
   ],
   "source": [
    "# кумулятивное количество пользователей до выбранной даты включительно в группе B\n",
    "visitorsBCummulative = visitorsBDaily.apply(\n",
    "    lambda x: visitorsBDaily[visitorsBDaily['date'] <= x['date']].agg(\n",
    "        {'date': 'max', 'visitorsPerDateB': 'sum'}\n",
    "    ),\n",
    "    axis=1,\n",
    ")\n",
    "visitorsBCummulative.columns = ['date', 'visitorsCummulativeB']\n",
    "visitorsBCummulative.head()"
   ]
  },
  {
   "cell_type": "code",
   "execution_count": 46,
   "metadata": {},
   "outputs": [
    {
     "data": {
      "text/html": [
       "<div>\n",
       "<style scoped>\n",
       "    .dataframe tbody tr th:only-of-type {\n",
       "        vertical-align: middle;\n",
       "    }\n",
       "\n",
       "    .dataframe tbody tr th {\n",
       "        vertical-align: top;\n",
       "    }\n",
       "\n",
       "    .dataframe thead th {\n",
       "        text-align: right;\n",
       "    }\n",
       "</style>\n",
       "<table border=\"1\" class=\"dataframe\">\n",
       "  <thead>\n",
       "    <tr style=\"text-align: right;\">\n",
       "      <th></th>\n",
       "      <th>date</th>\n",
       "      <th>ordersPerDateA</th>\n",
       "      <th>revenuePerDateA</th>\n",
       "    </tr>\n",
       "  </thead>\n",
       "  <tbody>\n",
       "    <tr>\n",
       "      <th>0</th>\n",
       "      <td>2019-08-01</td>\n",
       "      <td>23</td>\n",
       "      <td>142779</td>\n",
       "    </tr>\n",
       "    <tr>\n",
       "      <th>1</th>\n",
       "      <td>2019-08-02</td>\n",
       "      <td>19</td>\n",
       "      <td>91602</td>\n",
       "    </tr>\n",
       "    <tr>\n",
       "      <th>2</th>\n",
       "      <td>2019-08-03</td>\n",
       "      <td>24</td>\n",
       "      <td>112473</td>\n",
       "    </tr>\n",
       "    <tr>\n",
       "      <th>3</th>\n",
       "      <td>2019-08-04</td>\n",
       "      <td>13</td>\n",
       "      <td>66415</td>\n",
       "    </tr>\n",
       "    <tr>\n",
       "      <th>4</th>\n",
       "      <td>2019-08-05</td>\n",
       "      <td>23</td>\n",
       "      <td>100878</td>\n",
       "    </tr>\n",
       "  </tbody>\n",
       "</table>\n",
       "</div>"
      ],
      "text/plain": [
       "        date  ordersPerDateA  revenuePerDateA\n",
       "0 2019-08-01              23           142779\n",
       "1 2019-08-02              19            91602\n",
       "2 2019-08-03              24           112473\n",
       "3 2019-08-04              13            66415\n",
       "4 2019-08-05              23           100878"
      ]
     },
     "execution_count": 46,
     "metadata": {},
     "output_type": "execute_result"
    }
   ],
   "source": [
    "# количество заказов в выбранную дату в группе A\n",
    "ordersADaily = (\n",
    "    orders[orders['group'] == 'A'][['date', 'transactionId', 'visitorId', 'revenue']]\n",
    "    .groupby('date', as_index=False)\n",
    "    .agg({'transactionId': pd.Series.nunique, 'revenue': 'sum'})\n",
    ")\n",
    "ordersADaily.columns = ['date', 'ordersPerDateA', 'revenuePerDateA']\n",
    "ordersADaily.head()"
   ]
  },
  {
   "cell_type": "code",
   "execution_count": 47,
   "metadata": {},
   "outputs": [
    {
     "data": {
      "text/html": [
       "<div>\n",
       "<style scoped>\n",
       "    .dataframe tbody tr th:only-of-type {\n",
       "        vertical-align: middle;\n",
       "    }\n",
       "\n",
       "    .dataframe tbody tr th {\n",
       "        vertical-align: top;\n",
       "    }\n",
       "\n",
       "    .dataframe thead th {\n",
       "        text-align: right;\n",
       "    }\n",
       "</style>\n",
       "<table border=\"1\" class=\"dataframe\">\n",
       "  <thead>\n",
       "    <tr style=\"text-align: right;\">\n",
       "      <th></th>\n",
       "      <th>date</th>\n",
       "      <th>ordersCummulativeA</th>\n",
       "      <th>revenueCummulativeA</th>\n",
       "    </tr>\n",
       "  </thead>\n",
       "  <tbody>\n",
       "    <tr>\n",
       "      <th>0</th>\n",
       "      <td>2019-08-01</td>\n",
       "      <td>23</td>\n",
       "      <td>142779</td>\n",
       "    </tr>\n",
       "    <tr>\n",
       "      <th>1</th>\n",
       "      <td>2019-08-02</td>\n",
       "      <td>42</td>\n",
       "      <td>234381</td>\n",
       "    </tr>\n",
       "    <tr>\n",
       "      <th>2</th>\n",
       "      <td>2019-08-03</td>\n",
       "      <td>66</td>\n",
       "      <td>346854</td>\n",
       "    </tr>\n",
       "    <tr>\n",
       "      <th>3</th>\n",
       "      <td>2019-08-04</td>\n",
       "      <td>79</td>\n",
       "      <td>413269</td>\n",
       "    </tr>\n",
       "    <tr>\n",
       "      <th>4</th>\n",
       "      <td>2019-08-05</td>\n",
       "      <td>102</td>\n",
       "      <td>514147</td>\n",
       "    </tr>\n",
       "  </tbody>\n",
       "</table>\n",
       "</div>"
      ],
      "text/plain": [
       "        date  ordersCummulativeA  revenueCummulativeA\n",
       "0 2019-08-01                  23               142779\n",
       "1 2019-08-02                  42               234381\n",
       "2 2019-08-03                  66               346854\n",
       "3 2019-08-04                  79               413269\n",
       "4 2019-08-05                 102               514147"
      ]
     },
     "execution_count": 47,
     "metadata": {},
     "output_type": "execute_result"
    }
   ],
   "source": [
    "# суммарное число заказов до выбранной даты включительно в группе A\n",
    "ordersACummulative = ordersADaily.apply(\n",
    "    lambda x: ordersADaily[ordersADaily['date'] <= x['date']].agg(\n",
    "        {'date': 'max', 'ordersPerDateA': 'sum', 'revenuePerDateA': 'sum'}\n",
    "    ),\n",
    "    axis=1,\n",
    ").sort_values(by=['date'])\n",
    "ordersACummulative.columns = [\n",
    "    'date',\n",
    "    'ordersCummulativeA',\n",
    "    'revenueCummulativeA',\n",
    "]\n",
    "ordersACummulative.head()"
   ]
  },
  {
   "cell_type": "code",
   "execution_count": 48,
   "metadata": {},
   "outputs": [
    {
     "data": {
      "text/html": [
       "<div>\n",
       "<style scoped>\n",
       "    .dataframe tbody tr th:only-of-type {\n",
       "        vertical-align: middle;\n",
       "    }\n",
       "\n",
       "    .dataframe tbody tr th {\n",
       "        vertical-align: top;\n",
       "    }\n",
       "\n",
       "    .dataframe thead th {\n",
       "        text-align: right;\n",
       "    }\n",
       "</style>\n",
       "<table border=\"1\" class=\"dataframe\">\n",
       "  <thead>\n",
       "    <tr style=\"text-align: right;\">\n",
       "      <th></th>\n",
       "      <th>date</th>\n",
       "      <th>ordersPerDateB</th>\n",
       "      <th>revenuePerDateB</th>\n",
       "    </tr>\n",
       "  </thead>\n",
       "  <tbody>\n",
       "    <tr>\n",
       "      <th>0</th>\n",
       "      <td>2019-08-01</td>\n",
       "      <td>19</td>\n",
       "      <td>82717</td>\n",
       "    </tr>\n",
       "    <tr>\n",
       "      <th>1</th>\n",
       "      <td>2019-08-02</td>\n",
       "      <td>23</td>\n",
       "      <td>162043</td>\n",
       "    </tr>\n",
       "    <tr>\n",
       "      <th>2</th>\n",
       "      <td>2019-08-03</td>\n",
       "      <td>15</td>\n",
       "      <td>94029</td>\n",
       "    </tr>\n",
       "    <tr>\n",
       "      <th>3</th>\n",
       "      <td>2019-08-04</td>\n",
       "      <td>14</td>\n",
       "      <td>96890</td>\n",
       "    </tr>\n",
       "    <tr>\n",
       "      <th>4</th>\n",
       "      <td>2019-08-05</td>\n",
       "      <td>21</td>\n",
       "      <td>89908</td>\n",
       "    </tr>\n",
       "  </tbody>\n",
       "</table>\n",
       "</div>"
      ],
      "text/plain": [
       "        date  ordersPerDateB  revenuePerDateB\n",
       "0 2019-08-01              19            82717\n",
       "1 2019-08-02              23           162043\n",
       "2 2019-08-03              15            94029\n",
       "3 2019-08-04              14            96890\n",
       "4 2019-08-05              21            89908"
      ]
     },
     "execution_count": 48,
     "metadata": {},
     "output_type": "execute_result"
    }
   ],
   "source": [
    "# количество заказов в выбранную дату в группе B\n",
    "ordersBDaily = (\n",
    "    orders[orders['group'] == 'B'][['date', 'transactionId', 'visitorId', 'revenue']]\n",
    "    .groupby('date', as_index=False)\n",
    "    .agg({'transactionId': pd.Series.nunique, 'revenue': 'sum'})\n",
    ")\n",
    "ordersBDaily.columns = ['date', 'ordersPerDateB', 'revenuePerDateB']\n",
    "ordersBDaily.head()"
   ]
  },
  {
   "cell_type": "code",
   "execution_count": 49,
   "metadata": {},
   "outputs": [
    {
     "data": {
      "text/html": [
       "<div>\n",
       "<style scoped>\n",
       "    .dataframe tbody tr th:only-of-type {\n",
       "        vertical-align: middle;\n",
       "    }\n",
       "\n",
       "    .dataframe tbody tr th {\n",
       "        vertical-align: top;\n",
       "    }\n",
       "\n",
       "    .dataframe thead th {\n",
       "        text-align: right;\n",
       "    }\n",
       "</style>\n",
       "<table border=\"1\" class=\"dataframe\">\n",
       "  <thead>\n",
       "    <tr style=\"text-align: right;\">\n",
       "      <th></th>\n",
       "      <th>date</th>\n",
       "      <th>ordersCummulativeB</th>\n",
       "      <th>revenueCummulativeB</th>\n",
       "    </tr>\n",
       "  </thead>\n",
       "  <tbody>\n",
       "    <tr>\n",
       "      <th>0</th>\n",
       "      <td>2019-08-01</td>\n",
       "      <td>19</td>\n",
       "      <td>82717</td>\n",
       "    </tr>\n",
       "    <tr>\n",
       "      <th>1</th>\n",
       "      <td>2019-08-02</td>\n",
       "      <td>42</td>\n",
       "      <td>244760</td>\n",
       "    </tr>\n",
       "    <tr>\n",
       "      <th>2</th>\n",
       "      <td>2019-08-03</td>\n",
       "      <td>57</td>\n",
       "      <td>338789</td>\n",
       "    </tr>\n",
       "    <tr>\n",
       "      <th>3</th>\n",
       "      <td>2019-08-04</td>\n",
       "      <td>71</td>\n",
       "      <td>435679</td>\n",
       "    </tr>\n",
       "    <tr>\n",
       "      <th>4</th>\n",
       "      <td>2019-08-05</td>\n",
       "      <td>92</td>\n",
       "      <td>525587</td>\n",
       "    </tr>\n",
       "  </tbody>\n",
       "</table>\n",
       "</div>"
      ],
      "text/plain": [
       "        date  ordersCummulativeB  revenueCummulativeB\n",
       "0 2019-08-01                  19                82717\n",
       "1 2019-08-02                  42               244760\n",
       "2 2019-08-03                  57               338789\n",
       "3 2019-08-04                  71               435679\n",
       "4 2019-08-05                  92               525587"
      ]
     },
     "execution_count": 49,
     "metadata": {},
     "output_type": "execute_result"
    }
   ],
   "source": [
    "# суммарное число заказов до выбранной даты включительно в группе B\n",
    "ordersBCummulative = ordersBDaily.apply(\n",
    "    lambda x: ordersBDaily[ordersBDaily['date'] <= x['date']].agg(\n",
    "        {'date': 'max', 'ordersPerDateB': 'sum', 'revenuePerDateB': 'sum'}\n",
    "    ),\n",
    "    axis=1,\n",
    ").sort_values(by=['date'])\n",
    "ordersBCummulative.columns = [\n",
    "    'date',\n",
    "    'ordersCummulativeB',\n",
    "    'revenueCummulativeB',\n",
    "]\n",
    "ordersBCummulative.head()"
   ]
  },
  {
   "cell_type": "code",
   "execution_count": 50,
   "metadata": {},
   "outputs": [
    {
     "data": {
      "text/html": [
       "<div>\n",
       "<style scoped>\n",
       "    .dataframe tbody tr th:only-of-type {\n",
       "        vertical-align: middle;\n",
       "    }\n",
       "\n",
       "    .dataframe tbody tr th {\n",
       "        vertical-align: top;\n",
       "    }\n",
       "\n",
       "    .dataframe thead th {\n",
       "        text-align: right;\n",
       "    }\n",
       "</style>\n",
       "<table border=\"1\" class=\"dataframe\">\n",
       "  <thead>\n",
       "    <tr style=\"text-align: right;\">\n",
       "      <th></th>\n",
       "      <th>date</th>\n",
       "      <th>ordersPerDateA</th>\n",
       "      <th>revenuePerDateA</th>\n",
       "      <th>ordersPerDateB</th>\n",
       "      <th>revenuePerDateB</th>\n",
       "      <th>ordersCummulativeA</th>\n",
       "      <th>revenueCummulativeA</th>\n",
       "      <th>ordersCummulativeB</th>\n",
       "      <th>revenueCummulativeB</th>\n",
       "      <th>visitorsPerDateA</th>\n",
       "      <th>visitorsPerDateB</th>\n",
       "      <th>visitorsCummulativeA</th>\n",
       "      <th>visitorsCummulativeB</th>\n",
       "    </tr>\n",
       "  </thead>\n",
       "  <tbody>\n",
       "    <tr>\n",
       "      <th>0</th>\n",
       "      <td>2019-08-01</td>\n",
       "      <td>23</td>\n",
       "      <td>142779</td>\n",
       "      <td>19</td>\n",
       "      <td>82717</td>\n",
       "      <td>23</td>\n",
       "      <td>142779</td>\n",
       "      <td>19</td>\n",
       "      <td>82717</td>\n",
       "      <td>719</td>\n",
       "      <td>713</td>\n",
       "      <td>719</td>\n",
       "      <td>713</td>\n",
       "    </tr>\n",
       "    <tr>\n",
       "      <th>1</th>\n",
       "      <td>2019-08-02</td>\n",
       "      <td>19</td>\n",
       "      <td>91602</td>\n",
       "      <td>23</td>\n",
       "      <td>162043</td>\n",
       "      <td>42</td>\n",
       "      <td>234381</td>\n",
       "      <td>42</td>\n",
       "      <td>244760</td>\n",
       "      <td>619</td>\n",
       "      <td>581</td>\n",
       "      <td>1338</td>\n",
       "      <td>1294</td>\n",
       "    </tr>\n",
       "    <tr>\n",
       "      <th>2</th>\n",
       "      <td>2019-08-03</td>\n",
       "      <td>24</td>\n",
       "      <td>112473</td>\n",
       "      <td>15</td>\n",
       "      <td>94029</td>\n",
       "      <td>66</td>\n",
       "      <td>346854</td>\n",
       "      <td>57</td>\n",
       "      <td>338789</td>\n",
       "      <td>507</td>\n",
       "      <td>509</td>\n",
       "      <td>1845</td>\n",
       "      <td>1803</td>\n",
       "    </tr>\n",
       "    <tr>\n",
       "      <th>3</th>\n",
       "      <td>2019-08-04</td>\n",
       "      <td>13</td>\n",
       "      <td>66415</td>\n",
       "      <td>14</td>\n",
       "      <td>96890</td>\n",
       "      <td>79</td>\n",
       "      <td>413269</td>\n",
       "      <td>71</td>\n",
       "      <td>435679</td>\n",
       "      <td>717</td>\n",
       "      <td>770</td>\n",
       "      <td>2562</td>\n",
       "      <td>2573</td>\n",
       "    </tr>\n",
       "    <tr>\n",
       "      <th>4</th>\n",
       "      <td>2019-08-05</td>\n",
       "      <td>23</td>\n",
       "      <td>100878</td>\n",
       "      <td>21</td>\n",
       "      <td>89908</td>\n",
       "      <td>102</td>\n",
       "      <td>514147</td>\n",
       "      <td>92</td>\n",
       "      <td>525587</td>\n",
       "      <td>756</td>\n",
       "      <td>707</td>\n",
       "      <td>3318</td>\n",
       "      <td>3280</td>\n",
       "    </tr>\n",
       "  </tbody>\n",
       "</table>\n",
       "</div>"
      ],
      "text/plain": [
       "        date  ordersPerDateA  revenuePerDateA  ordersPerDateB  \\\n",
       "0 2019-08-01              23           142779              19   \n",
       "1 2019-08-02              19            91602              23   \n",
       "2 2019-08-03              24           112473              15   \n",
       "3 2019-08-04              13            66415              14   \n",
       "4 2019-08-05              23           100878              21   \n",
       "\n",
       "   revenuePerDateB  ordersCummulativeA  revenueCummulativeA  \\\n",
       "0            82717                  23               142779   \n",
       "1           162043                  42               234381   \n",
       "2            94029                  66               346854   \n",
       "3            96890                  79               413269   \n",
       "4            89908                 102               514147   \n",
       "\n",
       "   ordersCummulativeB  revenueCummulativeB  visitorsPerDateA  \\\n",
       "0                  19                82717               719   \n",
       "1                  42               244760               619   \n",
       "2                  57               338789               507   \n",
       "3                  71               435679               717   \n",
       "4                  92               525587               756   \n",
       "\n",
       "   visitorsPerDateB  visitorsCummulativeA  visitorsCummulativeB  \n",
       "0               713                   719                   713  \n",
       "1               581                  1338                  1294  \n",
       "2               509                  1845                  1803  \n",
       "3               770                  2562                  2573  \n",
       "4               707                  3318                  3280  "
      ]
     },
     "execution_count": 50,
     "metadata": {},
     "output_type": "execute_result"
    }
   ],
   "source": [
    "# объединение кумулятивных датафреймов с заказами и посетителями\n",
    "data = (\n",
    "    ordersADaily.merge(\n",
    "        ordersBDaily, left_on='date', right_on='date', how='left'\n",
    "    )\n",
    "    .merge(ordersACummulative, left_on='date', right_on='date', how='left')\n",
    "    .merge(ordersBCummulative, left_on='date', right_on='date', how='left')\n",
    "    .merge(visitorsADaily, left_on='date', right_on='date', how='left')\n",
    "    .merge(visitorsBDaily, left_on='date', right_on='date', how='left')\n",
    "    .merge(visitorsACummulative, left_on='date', right_on='date', how='left')\n",
    "    .merge(visitorsBCummulative, left_on='date', right_on='date', how='left')\n",
    ")\n",
    "data.head()"
   ]
  },
  {
   "cell_type": "code",
   "execution_count": 51,
   "metadata": {},
   "outputs": [],
   "source": [
    "# Создадим переменные ordersByUsersA и ordersByUsersB со столбцами ['userId', 'orders']. \n",
    "# В них для пользователей, которые заказывали хотя бы 1 раз, укажем число совершённых заказов. \n",
    "ordersByUsersA = (\n",
    "    orders[orders['group'] == 'A']\n",
    "    .groupby('visitorId', as_index=False)\n",
    "    .agg({'transactionId': pd.Series.nunique})\n",
    ")\n",
    "ordersByUsersA.columns = ['userId', 'orders']\n",
    "\n",
    "ordersByUsersB = (\n",
    "    orders[orders['group'] == 'B']\n",
    "    .groupby('visitorId', as_index=False)\n",
    "    .agg({'transactionId': pd.Series.nunique})\n",
    ")\n",
    "ordersByUsersB.columns = ['userId', 'orders'] "
   ]
  },
  {
   "cell_type": "code",
   "execution_count": 52,
   "metadata": {},
   "outputs": [],
   "source": [
    "# Объявим переменные sampleA и sampleB, в которых пользователям из разных групп будет соответствовать количество заказов. \n",
    "# Тем, кто ничего не заказал, будут соответствовать нули.\n",
    "\n",
    "# в sampleA сохранили выборку, где каждый элемент — число заказов определённого пользователя, в том числе ноль\n",
    "sampleA = pd.concat(\n",
    "    [ordersByUsersA['orders'],\n",
    "     pd.Series(0, index=np.arange(data['visitorsPerDateA'].sum() - len(ordersByUsersA['orders'])), \n",
    "               name='orders')],\n",
    "    axis=0\n",
    ")\n",
    "\n",
    "sampleB = pd.concat(\n",
    "    [ordersByUsersB['orders'],\n",
    "     pd.Series(0, index=np.arange(data['visitorsPerDateB'].sum() - len(ordersByUsersB['orders'])), \n",
    "               name='orders')],\n",
    "    axis=0\n",
    ")"
   ]
  },
  {
   "cell_type": "markdown",
   "metadata": {},
   "source": [
    "Перед применение теста Манна-Уитни проверим выборки на нормальность. Здесь нам поможет критерий Шапиро-Уилка:\n",
    "Н0: \"случайная величина распределена нормально\", Н1: \"случайная величина распределена ненормально\""
   ]
  },
  {
   "cell_type": "code",
   "execution_count": 53,
   "metadata": {},
   "outputs": [
    {
     "name": "stdout",
     "output_type": "stream",
     "text": [
      "ShapiroResult(statistic=0.13114553689956665, pvalue=0.0)\n",
      "ShapiroResult(statistic=0.1481528878211975, pvalue=0.0)\n"
     ]
    },
    {
     "name": "stderr",
     "output_type": "stream",
     "text": [
      "/opt/conda/lib/python3.9/site-packages/scipy/stats/_morestats.py:1800: UserWarning: p-value may not be accurate for N > 5000.\n",
      "  warnings.warn(\"p-value may not be accurate for N > 5000.\")\n"
     ]
    }
   ],
   "source": [
    "#perform Shapiro-Wilk test\n",
    "print(shapiro(sampleA))\n",
    "print(shapiro(sampleB))"
   ]
  },
  {
   "cell_type": "markdown",
   "metadata": {},
   "source": [
    "По значениям p-value отвергается нулевая гипотеза и появляется обоснование для применения теста Манна-Уитни.\n",
    "* Нулевая гипотеза: различий в среднем количестве заказов между группами нет \n",
    "\n",
    "* Альтернативная гипотеза: различия в среднем количестве заказов между группами есть"
   ]
  },
  {
   "cell_type": "code",
   "execution_count": 54,
   "metadata": {},
   "outputs": [
    {
     "name": "stdout",
     "output_type": "stream",
     "text": [
      "0.00811\n",
      "0.176\n"
     ]
    }
   ],
   "source": [
    "# Тест Манна-Уитни, p-value\n",
    "print(\"{0:.5f}\".format(stats.mannwhitneyu(sampleA, sampleB, alternative=\"two-sided\")[1]))\n",
    "# относительное различие в среднем между группами\n",
    "print(\"{0:.3f}\".format(sampleB.mean() / sampleA.mean() - 1))"
   ]
  },
  {
   "cell_type": "markdown",
   "metadata": {},
   "source": [
    "p-value = 0.00811 < 0.05, значит, нулевую гипотезу о том, что статистически значимых различий в среднем числе заказов между группами нет, отвергаем.\n",
    "\n",
    "Анализ \"сырых данных\" сообщает, что в среднем количестве заказов между группами есть статистически значимые различия. \n",
    "\n",
    "Относительный прирост среднего группы В к конверсии группы А равен 17.6%"
   ]
  },
  {
   "cell_type": "markdown",
   "metadata": {},
   "source": [
    "### Расчёт статистической значимости различий в среднем чеке заказа между группами по «сырым» данным"
   ]
  },
  {
   "cell_type": "markdown",
   "metadata": {},
   "source": [
    "* Нулевая гипотеза: различий в среднем чеке между группами нет. \n",
    "* Альтернативная гипотеза: различия в среднем чеке между группами есть"
   ]
  },
  {
   "cell_type": "code",
   "execution_count": 55,
   "metadata": {},
   "outputs": [
    {
     "name": "stdout",
     "output_type": "stream",
     "text": [
      "0.902\n",
      "0.288\n"
     ]
    }
   ],
   "source": [
    "# для расчета p-value, передадим критерию mannwhitneyu() данные о выручке с заказов\n",
    "print('{0:.3f}'.format(\n",
    "    stats.mannwhitneyu(orders[orders['group']=='A']['revenue'], \n",
    "                       orders[orders['group']=='B']['revenue'])[1])\n",
    "     )\n",
    "# найдём относительные различия в среднем чеке между группами\n",
    "print('{0:.3f}'.format(\n",
    "    orders[orders['group']=='B']['revenue'].mean()/orders[orders['group']=='A']['revenue'].mean()-1)\n",
    "     )"
   ]
  },
  {
   "cell_type": "markdown",
   "metadata": {},
   "source": [
    "P-value 0.902 > 0.05 - причин отвергать нулевую гипотезу и считать, что в среднем чеке есть различия, нет.\n",
    "\n",
    "Однако, средний чек группы В на 28.8% выше среднего чека группы А - сохраняется предположения об аномалиях."
   ]
  },
  {
   "cell_type": "markdown",
   "metadata": {},
   "source": [
    "### Расчёт статистической значимости различий в среднем количестве заказов на посетителя между группами по «очищенным» данным"
   ]
  },
  {
   "cell_type": "markdown",
   "metadata": {},
   "source": [
    "Примем за аномальных посетителей тех, кто совершил от 3 заказов или совершил заказ дороже 27 308 рублей. Так мы уберем 5% посетителей с наибольшим числом заказов и от 1% до 5% посетителей с дорогими заказами.\n",
    "\n",
    "Сделаем срезы пользователей с числом заказов больше 2 — usersWithManyOrders и пользователей, совершивших заказы дороже 27 308 рублей — usersWithExpensiveOrders. Объединим их в таблице abnormalUsers. \n",
    "\n",
    "Узнаем, сколько всего аномальных пользователей атрибутом shape."
   ]
  },
  {
   "cell_type": "code",
   "execution_count": 56,
   "metadata": {},
   "outputs": [
    {
     "name": "stdout",
     "output_type": "stream",
     "text": [
      "568     113298937\n",
      "1099    148427295\n",
      "17      199603092\n",
      "928     204675465\n",
      "21      237748145\n",
      "dtype: int64\n",
      "Количество аномальных пользователей: 68\n"
     ]
    }
   ],
   "source": [
    "# срез пользователей с числом заказов >= 3\n",
    "usersWithManyOrders = pd.concat(\n",
    "    [\n",
    "        ordersByUsersA[ordersByUsersA['orders'] >= 3]['userId'],\n",
    "        ordersByUsersB[ordersByUsersB['orders'] >= 3]['userId'],\n",
    "    ],\n",
    "    axis=0,\n",
    ")\n",
    "# срез пользователей c заказами  дороже 27 308 рублей\n",
    "usersWithExpensiveOrders = orders[orders['revenue'] > 27308]['visitorId']\n",
    "\n",
    "# объединение в один датафрейм\n",
    "abnormalUsers = (\n",
    "    pd.concat([usersWithManyOrders, usersWithExpensiveOrders], axis=0)\n",
    "    .drop_duplicates()\n",
    "    .sort_values()\n",
    ")\n",
    "# вывод 5 первых строк датафрейма\n",
    "print(abnormalUsers.head(5))\n",
    "\n",
    "print('Количество аномальных пользователей:', abnormalUsers.shape[0])"
   ]
  },
  {
   "cell_type": "code",
   "execution_count": 57,
   "metadata": {},
   "outputs": [],
   "source": [
    "# подготовим выборки количества заказов по пользователям по группам теста:\n",
    "\n",
    "# очищенные данные группы А\n",
    "sampleAFiltered = pd.concat(\n",
    "    [\n",
    "        ordersByUsersA[\n",
    "            np.logical_not(ordersByUsersA['userId'].isin(abnormalUsers))\n",
    "        ]['orders'],\n",
    "        pd.Series(\n",
    "            0,\n",
    "            index=np.arange(\n",
    "                data['visitorsPerDateA'].sum() - len(ordersByUsersA['orders'])\n",
    "            ),\n",
    "            name='orders',\n",
    "        ),\n",
    "    ],\n",
    "    axis=0,\n",
    ")\n",
    "\n",
    "# очищенные данные группы В\n",
    "sampleBFiltered = pd.concat(\n",
    "    [\n",
    "        ordersByUsersB[\n",
    "            np.logical_not(ordersByUsersB['userId'].isin(abnormalUsers))\n",
    "        ]['orders'],\n",
    "        pd.Series(\n",
    "            0,\n",
    "            index=np.arange(\n",
    "                data['visitorsPerDateB'].sum() - len(ordersByUsersB['orders'])\n",
    "            ),\n",
    "            name='orders',\n",
    "        ),\n",
    "    ],\n",
    "    axis=0,\n",
    ")"
   ]
  },
  {
   "cell_type": "markdown",
   "metadata": {},
   "source": [
    "Перед применение теста Манна-Уитни проверим выборки на нормальность. Здесь нам поможет критерий Шапиро-Уилка:\n",
    "Н0: \"случайная величина распределена нормально\", Н1: \"случайная величина распределена ненормально\""
   ]
  },
  {
   "cell_type": "code",
   "execution_count": 58,
   "metadata": {},
   "outputs": [
    {
     "name": "stdout",
     "output_type": "stream",
     "text": [
      "ShapiroResult(statistic=0.1298506259918213, pvalue=0.0)\n",
      "ShapiroResult(statistic=0.14601564407348633, pvalue=0.0)\n"
     ]
    },
    {
     "name": "stderr",
     "output_type": "stream",
     "text": [
      "/opt/conda/lib/python3.9/site-packages/scipy/stats/_morestats.py:1800: UserWarning: p-value may not be accurate for N > 5000.\n",
      "  warnings.warn(\"p-value may not be accurate for N > 5000.\")\n"
     ]
    }
   ],
   "source": [
    "#perform Shapiro-Wilk test\n",
    "print(shapiro(sampleAFiltered))\n",
    "print(shapiro(sampleBFiltered))"
   ]
  },
  {
   "cell_type": "markdown",
   "metadata": {},
   "source": [
    "По значениям p-value отвергается нулевая гипотеза и появляется обоснование для применения теста Манна-Уитни.\n",
    "\n",
    "* Нулевая гипотеза: различий в среднем количестве заказов между группами нет \n",
    "* Альтернативная гипотеза: различия в среднем количестве заказов между группами есть"
   ]
  },
  {
   "cell_type": "code",
   "execution_count": 59,
   "metadata": {},
   "outputs": [
    {
     "name": "stdout",
     "output_type": "stream",
     "text": [
      "0.010\n",
      "0.188\n"
     ]
    }
   ],
   "source": [
    "# статистический критерий Манна-Уитни к полученным выборкам, p-value\n",
    "print('{0:.3f}'.format(stats.mannwhitneyu(sampleAFiltered, sampleBFiltered)[1]))\n",
    "\n",
    "# относительный прирост среднего очищенной группы B\n",
    "print('{0:.3f}'.format(sampleBFiltered.mean()/sampleAFiltered.mean()-1))"
   ]
  },
  {
   "cell_type": "markdown",
   "metadata": {},
   "source": [
    "P-value 0.01 < 0.05: нулевая гипотеза отвергается, статистическая значимость достигнута, различие в среднем количестве заказов между группами есть (на  \"сырых\" данных  - 0.008) \n",
    "Группа В значительно лучше группы А по среднему количествую заказов (18.8% на очищенных данных и 17.6% - на \"сырых\")"
   ]
  },
  {
   "cell_type": "markdown",
   "metadata": {},
   "source": [
    "### Расчёт статистической значимости различий в среднем чеке заказа между группами по «очищенным» данным"
   ]
  },
  {
   "cell_type": "markdown",
   "metadata": {},
   "source": [
    "Нулевая гипотеза: различий в среднем чеке между группами нет\n",
    "Альтернативная гипотеза: различия в среднем чеке между группами есть"
   ]
  },
  {
   "cell_type": "code",
   "execution_count": 60,
   "metadata": {},
   "outputs": [
    {
     "name": "stdout",
     "output_type": "stream",
     "text": [
      "0.703\n",
      "-0.041\n"
     ]
    }
   ],
   "source": [
    "# расчета p-value,  критерий mannwhitneyu() \n",
    "print(\n",
    "    '{0:.3f}'.format(\n",
    "        stats.mannwhitneyu(\n",
    "            orders[\n",
    "                np.logical_and(\n",
    "                    orders['group'] == 'A',\n",
    "                    np.logical_not(orders['visitorId'].isin(abnormalUsers)),\n",
    "                )\n",
    "            ]['revenue'],\n",
    "            orders[\n",
    "                np.logical_and(\n",
    "                    orders['group'] == 'B',\n",
    "                    np.logical_not(orders['visitorId'].isin(abnormalUsers)),\n",
    "                )\n",
    "            ]['revenue'],\n",
    "        )[1]\n",
    "    )\n",
    ")\n",
    "#  относительные различия в среднем чеке между группами\n",
    "print(\n",
    "    \"{0:.3f}\".format(\n",
    "        orders[\n",
    "            np.logical_and(\n",
    "                orders['group'] == 'B',\n",
    "                np.logical_not(orders['visitorId'].isin(abnormalUsers)),\n",
    "            )\n",
    "        ]['revenue'].mean()\n",
    "        / orders[\n",
    "            np.logical_and(\n",
    "                orders['group'] == 'A',\n",
    "                np.logical_not(orders['visitorId'].isin(abnormalUsers)),\n",
    "            )\n",
    "        ]['revenue'].mean()\n",
    "        - 1\n",
    "    )\n",
    ")"
   ]
  },
  {
   "cell_type": "markdown",
   "metadata": {},
   "source": [
    "P-value 0.703 > 0.05: принимаем нулевую гипотезу, причин считать, что в среднем чеке есть различия,  нет.\n",
    "Но если на \"сырых данных\" средний чек группы В был на 28.8% выше, чем в группе А, то на очищенных данных разница между сегментами стала всего 4.1% в пользу группы А"
   ]
  },
  {
   "cell_type": "markdown",
   "metadata": {},
   "source": [
    "### Решение по результатам теста\n",
    "\n"
   ]
  },
  {
   "cell_type": "markdown",
   "metadata": {},
   "source": [
    "* Статистически значимое различие в среднем количестве заказов между группами есть. Группа В значительно лучше группы А (18.8% на очищенных данных и 17.6% - на \"сырых\")\n",
    "* Нет статистически значимого различия по среднему чеку между группами ни по «сырым», ни по данным после фильтрации аномалий (после фильтрации различия составили 4.1% в пользу группы А)\n",
    "* График различия среднего количества заказов между группами сообщает, что результаты группы B лучше группы A: имеют тенденцию к росту, либо зафиксировались около среднего значения\n",
    "* График различия среднего чека колеблется: он-то и позволил найти аномалии. Сделать из этого графика определённые выводы нельзя\n",
    "\n",
    "<b>Исходя из фактов выше следует остановить тест, зафиксировать победу группы В</b>"
   ]
  },
  {
   "cell_type": "markdown",
   "metadata": {},
   "source": [
    "## Выводы\n",
    "В первой части работы была проведена приоритизация гипотез. Самыми перспективными признаны гипотезы:\n",
    "*\t№7 \"Добавить форму подписки на все основные страницы, чтобы собрать базу клиентов для email-рассылок\"\n",
    "*\t№2 \"Добавить блоки рекомендаций товаров на сайт интернет магазина, чтобы повысить конверсию и средний чек заказа\"\n",
    "*\t№0 \"Добавить два новых канала привлечения трафика, что позволит привлекать на 30% больше пользователей\"\n",
    "*\t№6 \"Показать на главной странице баннеры с актуальными акциями и распродажами, чтобы увеличить конверсию\"\n",
    "*\t№8 \"Запустить акцию, дающую скидку на товар в день рождения\"\n",
    "\n",
    "Во второй части работы был проведен А/В тест по кумулятивным выручке и среднему чеку для двух групп на «сырых» и «очищенных» данных, построены графики, рассчитаны 95-й и 99-й перцентили стоимости заказов и количества заказов, рассчитана статистическая значимость различий по критерию Манна-Уитни. \n",
    "\n",
    "По результатам теста был сделан вывод об остановке теста и фиксации победы группы В (различий по среднему чеку между группа не обнаружено (отличие 4.1% в пользу группы А), в группе В  количество заказов имеет тенденцию к росту или зафиксировалось около среднего значения и на 17.6% больше, чем в группе А)\n"
   ]
  },
  {
   "cell_type": "code",
   "execution_count": null,
   "metadata": {},
   "outputs": [],
   "source": []
  }
 ],
 "metadata": {
  "ExecuteTimeLog": [
   {
    "duration": 391,
    "start_time": "2023-05-05T05:16:53.704Z"
   },
   {
    "duration": 73,
    "start_time": "2023-05-05T05:18:04.960Z"
   },
   {
    "duration": 27,
    "start_time": "2023-05-05T05:18:10.918Z"
   },
   {
    "duration": 15,
    "start_time": "2023-05-05T05:21:34.349Z"
   },
   {
    "duration": 4,
    "start_time": "2023-05-05T05:23:26.648Z"
   },
   {
    "duration": 34,
    "start_time": "2023-05-05T05:23:27.519Z"
   },
   {
    "duration": 16,
    "start_time": "2023-05-05T05:23:28.829Z"
   },
   {
    "duration": 12,
    "start_time": "2023-05-05T05:30:54.671Z"
   },
   {
    "duration": 3,
    "start_time": "2023-05-05T05:53:03.748Z"
   },
   {
    "duration": 459,
    "start_time": "2023-05-05T05:55:05.140Z"
   },
   {
    "duration": 326,
    "start_time": "2023-05-05T05:55:33.622Z"
   },
   {
    "duration": 98,
    "start_time": "2023-05-05T05:56:24.081Z"
   },
   {
    "duration": 8,
    "start_time": "2023-05-05T05:56:32.145Z"
   },
   {
    "duration": 7,
    "start_time": "2023-05-05T05:57:13.705Z"
   },
   {
    "duration": 16,
    "start_time": "2023-05-05T05:58:49.301Z"
   },
   {
    "duration": 53,
    "start_time": "2023-05-05T05:59:09.076Z"
   },
   {
    "duration": 10,
    "start_time": "2023-05-05T05:59:10.204Z"
   },
   {
    "duration": 8,
    "start_time": "2023-05-05T05:59:18.311Z"
   },
   {
    "duration": 55,
    "start_time": "2023-05-05T05:59:35.972Z"
   },
   {
    "duration": 11,
    "start_time": "2023-05-05T05:59:37.251Z"
   },
   {
    "duration": 8,
    "start_time": "2023-05-05T05:59:38.118Z"
   },
   {
    "duration": 8,
    "start_time": "2023-05-05T05:59:39.053Z"
   },
   {
    "duration": 14,
    "start_time": "2023-05-05T05:59:49.019Z"
   },
   {
    "duration": 7,
    "start_time": "2023-05-05T06:00:49.124Z"
   },
   {
    "duration": 7,
    "start_time": "2023-05-05T06:01:51.425Z"
   },
   {
    "duration": 12,
    "start_time": "2023-05-05T06:02:07.498Z"
   },
   {
    "duration": 10,
    "start_time": "2023-05-05T06:03:01.865Z"
   },
   {
    "duration": 24,
    "start_time": "2023-05-05T06:06:37.711Z"
   },
   {
    "duration": 9,
    "start_time": "2023-05-05T06:07:09.504Z"
   },
   {
    "duration": 169,
    "start_time": "2023-05-05T06:07:39.940Z"
   },
   {
    "duration": 161,
    "start_time": "2023-05-05T06:07:44.869Z"
   },
   {
    "duration": 176,
    "start_time": "2023-05-05T06:07:59.236Z"
   },
   {
    "duration": 9,
    "start_time": "2023-05-05T06:09:23.251Z"
   },
   {
    "duration": 142,
    "start_time": "2023-05-05T06:09:27.482Z"
   },
   {
    "duration": 110,
    "start_time": "2023-05-05T06:09:34.758Z"
   },
   {
    "duration": 10,
    "start_time": "2023-05-05T06:09:57.180Z"
   },
   {
    "duration": 10,
    "start_time": "2023-05-05T06:10:08.056Z"
   },
   {
    "duration": 6,
    "start_time": "2023-05-05T06:11:43.472Z"
   },
   {
    "duration": 12,
    "start_time": "2023-05-05T06:12:20.312Z"
   },
   {
    "duration": 11,
    "start_time": "2023-05-05T06:12:42.465Z"
   },
   {
    "duration": 14,
    "start_time": "2023-05-05T06:13:31.215Z"
   },
   {
    "duration": 392,
    "start_time": "2023-05-05T06:14:06.544Z"
   },
   {
    "duration": 8,
    "start_time": "2023-05-05T06:14:34.540Z"
   },
   {
    "duration": 244,
    "start_time": "2023-05-05T06:14:46.261Z"
   },
   {
    "duration": 198,
    "start_time": "2023-05-05T06:17:01.405Z"
   },
   {
    "duration": 49,
    "start_time": "2023-05-05T11:17:14.505Z"
   },
   {
    "duration": 768,
    "start_time": "2023-05-05T11:17:19.044Z"
   },
   {
    "duration": 68,
    "start_time": "2023-05-05T11:17:19.814Z"
   },
   {
    "duration": 17,
    "start_time": "2023-05-05T11:17:19.884Z"
   },
   {
    "duration": 11,
    "start_time": "2023-05-05T11:17:19.903Z"
   },
   {
    "duration": 123,
    "start_time": "2023-05-05T11:17:19.915Z"
   },
   {
    "duration": 13,
    "start_time": "2023-05-05T11:17:20.040Z"
   },
   {
    "duration": 9,
    "start_time": "2023-05-05T11:17:20.054Z"
   },
   {
    "duration": 15,
    "start_time": "2023-05-05T11:17:20.065Z"
   },
   {
    "duration": 14,
    "start_time": "2023-05-05T11:17:20.082Z"
   },
   {
    "duration": 10,
    "start_time": "2023-05-05T11:17:20.099Z"
   },
   {
    "duration": 176,
    "start_time": "2023-05-05T11:17:20.111Z"
   },
   {
    "duration": 141,
    "start_time": "2023-05-05T11:17:20.289Z"
   },
   {
    "duration": 18,
    "start_time": "2023-05-05T11:17:20.432Z"
   },
   {
    "duration": 12,
    "start_time": "2023-05-05T11:17:20.452Z"
   },
   {
    "duration": 301,
    "start_time": "2023-05-05T11:17:20.465Z"
   },
   {
    "duration": 227,
    "start_time": "2023-05-05T11:17:52.213Z"
   },
   {
    "duration": 218,
    "start_time": "2023-05-05T11:18:09.400Z"
   },
   {
    "duration": 248,
    "start_time": "2023-05-05T11:19:21.018Z"
   },
   {
    "duration": 214,
    "start_time": "2023-05-05T11:20:56.519Z"
   },
   {
    "duration": 211,
    "start_time": "2023-05-05T11:21:10.981Z"
   },
   {
    "duration": 193,
    "start_time": "2023-05-05T11:21:16.969Z"
   },
   {
    "duration": 189,
    "start_time": "2023-05-05T11:21:48.938Z"
   },
   {
    "duration": 71,
    "start_time": "2023-05-05T11:21:57.242Z"
   },
   {
    "duration": 233,
    "start_time": "2023-05-05T11:22:00.609Z"
   },
   {
    "duration": 195,
    "start_time": "2023-05-05T11:22:07.660Z"
   },
   {
    "duration": 198,
    "start_time": "2023-05-05T11:22:12.201Z"
   },
   {
    "duration": 206,
    "start_time": "2023-05-05T11:22:16.334Z"
   },
   {
    "duration": 196,
    "start_time": "2023-05-05T11:22:25.714Z"
   },
   {
    "duration": 296,
    "start_time": "2023-05-05T11:23:24.208Z"
   },
   {
    "duration": 293,
    "start_time": "2023-05-05T11:23:32.518Z"
   },
   {
    "duration": 270,
    "start_time": "2023-05-05T11:23:51.910Z"
   },
   {
    "duration": 396,
    "start_time": "2023-05-05T11:26:00.585Z"
   },
   {
    "duration": 355,
    "start_time": "2023-05-05T11:26:30.757Z"
   },
   {
    "duration": 271,
    "start_time": "2023-05-05T11:26:35.554Z"
   },
   {
    "duration": 251,
    "start_time": "2023-05-05T11:27:00.019Z"
   },
   {
    "duration": 316,
    "start_time": "2023-05-05T11:27:08.097Z"
   },
   {
    "duration": 229,
    "start_time": "2023-05-05T11:27:22.866Z"
   },
   {
    "duration": 180,
    "start_time": "2023-05-05T11:29:01.764Z"
   },
   {
    "duration": 180,
    "start_time": "2023-05-05T11:29:24.226Z"
   },
   {
    "duration": 245,
    "start_time": "2023-05-05T11:30:57.701Z"
   },
   {
    "duration": 379,
    "start_time": "2023-05-05T11:31:11.404Z"
   },
   {
    "duration": 3,
    "start_time": "2023-05-05T11:36:57.179Z"
   },
   {
    "duration": 29,
    "start_time": "2023-05-05T11:36:57.185Z"
   },
   {
    "duration": 11,
    "start_time": "2023-05-05T11:36:57.216Z"
   },
   {
    "duration": 16,
    "start_time": "2023-05-05T11:36:57.229Z"
   },
   {
    "duration": 54,
    "start_time": "2023-05-05T11:36:57.247Z"
   },
   {
    "duration": 12,
    "start_time": "2023-05-05T11:36:57.302Z"
   },
   {
    "duration": 11,
    "start_time": "2023-05-05T11:36:57.316Z"
   },
   {
    "duration": 25,
    "start_time": "2023-05-05T11:36:57.329Z"
   },
   {
    "duration": 10,
    "start_time": "2023-05-05T11:36:57.356Z"
   },
   {
    "duration": 17,
    "start_time": "2023-05-05T11:36:57.369Z"
   },
   {
    "duration": 194,
    "start_time": "2023-05-05T11:36:57.388Z"
   },
   {
    "duration": 140,
    "start_time": "2023-05-05T11:36:57.586Z"
   },
   {
    "duration": 14,
    "start_time": "2023-05-05T11:36:57.728Z"
   },
   {
    "duration": 37,
    "start_time": "2023-05-05T11:36:57.744Z"
   },
   {
    "duration": 243,
    "start_time": "2023-05-05T11:36:57.783Z"
   },
   {
    "duration": 244,
    "start_time": "2023-05-05T11:36:58.028Z"
   },
   {
    "duration": 329,
    "start_time": "2023-05-05T11:37:29.180Z"
   },
   {
    "duration": 313,
    "start_time": "2023-05-05T11:38:33.311Z"
   },
   {
    "duration": 315,
    "start_time": "2023-05-05T11:39:18.772Z"
   },
   {
    "duration": 357,
    "start_time": "2023-05-05T11:39:29.407Z"
   },
   {
    "duration": 492,
    "start_time": "2023-05-05T11:40:39.898Z"
   },
   {
    "duration": 354,
    "start_time": "2023-05-05T11:41:04.978Z"
   },
   {
    "duration": 130,
    "start_time": "2023-05-05T11:49:51.902Z"
   },
   {
    "duration": 146,
    "start_time": "2023-05-05T11:51:18.278Z"
   },
   {
    "duration": 13,
    "start_time": "2023-05-05T11:52:19.825Z"
   },
   {
    "duration": 228,
    "start_time": "2023-05-05T11:53:10.110Z"
   },
   {
    "duration": 165,
    "start_time": "2023-05-05T11:53:22.875Z"
   },
   {
    "duration": 179,
    "start_time": "2023-05-05T11:53:35.462Z"
   },
   {
    "duration": 198,
    "start_time": "2023-05-05T11:55:13.924Z"
   },
   {
    "duration": 166,
    "start_time": "2023-05-05T11:55:45.468Z"
   },
   {
    "duration": 233,
    "start_time": "2023-05-05T11:56:45.428Z"
   },
   {
    "duration": 5,
    "start_time": "2023-05-05T11:59:09.210Z"
   },
   {
    "duration": 6,
    "start_time": "2023-05-05T11:59:15.409Z"
   },
   {
    "duration": 5,
    "start_time": "2023-05-05T11:59:23.188Z"
   },
   {
    "duration": 5,
    "start_time": "2023-05-05T11:59:27.665Z"
   },
   {
    "duration": 1165,
    "start_time": "2023-05-05T12:08:53.698Z"
   },
   {
    "duration": 137,
    "start_time": "2023-05-05T12:09:19.023Z"
   },
   {
    "duration": 198,
    "start_time": "2023-05-05T12:09:57.257Z"
   },
   {
    "duration": 184,
    "start_time": "2023-05-05T12:10:06.425Z"
   },
   {
    "duration": 197,
    "start_time": "2023-05-05T12:10:12.114Z"
   },
   {
    "duration": 183,
    "start_time": "2023-05-05T12:11:30.869Z"
   },
   {
    "duration": 189,
    "start_time": "2023-05-05T12:12:34.446Z"
   },
   {
    "duration": 324,
    "start_time": "2023-05-05T12:13:27.672Z"
   },
   {
    "duration": 372,
    "start_time": "2023-05-05T12:13:37.347Z"
   },
   {
    "duration": 310,
    "start_time": "2023-05-05T12:13:49.393Z"
   },
   {
    "duration": 311,
    "start_time": "2023-05-05T12:13:55.663Z"
   },
   {
    "duration": 300,
    "start_time": "2023-05-05T12:14:06.988Z"
   },
   {
    "duration": 304,
    "start_time": "2023-05-05T12:14:12.983Z"
   },
   {
    "duration": 5,
    "start_time": "2023-05-05T12:16:47.323Z"
   },
   {
    "duration": 262,
    "start_time": "2023-05-05T12:21:05.942Z"
   },
   {
    "duration": 225,
    "start_time": "2023-05-05T12:21:41.533Z"
   },
   {
    "duration": 342,
    "start_time": "2023-05-05T12:27:06.300Z"
   },
   {
    "duration": 383,
    "start_time": "2023-05-05T12:27:15.350Z"
   },
   {
    "duration": 396,
    "start_time": "2023-05-05T12:27:34.683Z"
   },
   {
    "duration": 10,
    "start_time": "2023-05-05T12:53:22.106Z"
   },
   {
    "duration": 21,
    "start_time": "2023-05-05T12:53:50.477Z"
   },
   {
    "duration": 55,
    "start_time": "2023-05-05T12:54:26.949Z"
   },
   {
    "duration": 10,
    "start_time": "2023-05-05T12:55:43.868Z"
   },
   {
    "duration": 49,
    "start_time": "2023-05-05T12:56:27.859Z"
   },
   {
    "duration": 56,
    "start_time": "2023-05-05T12:56:30.315Z"
   },
   {
    "duration": 49,
    "start_time": "2023-05-05T12:56:39.000Z"
   },
   {
    "duration": 19,
    "start_time": "2023-05-05T12:57:38.897Z"
   },
   {
    "duration": 19,
    "start_time": "2023-05-05T12:58:15.210Z"
   },
   {
    "duration": 14,
    "start_time": "2023-05-05T12:58:31.431Z"
   },
   {
    "duration": 31,
    "start_time": "2023-05-05T12:58:43.117Z"
   },
   {
    "duration": 51,
    "start_time": "2023-05-05T12:59:08.811Z"
   },
   {
    "duration": 57,
    "start_time": "2023-05-05T12:59:15.957Z"
   },
   {
    "duration": 17,
    "start_time": "2023-05-05T12:59:57.165Z"
   },
   {
    "duration": 36,
    "start_time": "2023-05-05T13:00:06.066Z"
   },
   {
    "duration": 65,
    "start_time": "2023-05-05T13:00:30.404Z"
   },
   {
    "duration": 31,
    "start_time": "2023-05-05T13:00:59.171Z"
   },
   {
    "duration": 30,
    "start_time": "2023-05-05T13:01:27.343Z"
   },
   {
    "duration": 192,
    "start_time": "2023-05-05T13:03:26.707Z"
   },
   {
    "duration": 14,
    "start_time": "2023-05-05T13:03:31.054Z"
   },
   {
    "duration": 9,
    "start_time": "2023-05-05T13:04:40.580Z"
   },
   {
    "duration": 10,
    "start_time": "2023-05-05T13:06:14.524Z"
   },
   {
    "duration": 525,
    "start_time": "2023-05-05T13:06:30.137Z"
   },
   {
    "duration": 58,
    "start_time": "2023-05-05T13:06:33.945Z"
   },
   {
    "duration": 35,
    "start_time": "2023-05-05T13:08:18.380Z"
   },
   {
    "duration": 1505,
    "start_time": "2023-05-05T15:15:35.382Z"
   },
   {
    "duration": 104,
    "start_time": "2023-05-05T15:15:36.889Z"
   },
   {
    "duration": 15,
    "start_time": "2023-05-05T15:15:36.994Z"
   },
   {
    "duration": 26,
    "start_time": "2023-05-05T15:15:37.010Z"
   },
   {
    "duration": 259,
    "start_time": "2023-05-05T15:15:37.039Z"
   },
   {
    "duration": 14,
    "start_time": "2023-05-05T15:15:37.300Z"
   },
   {
    "duration": 33,
    "start_time": "2023-05-05T15:15:37.315Z"
   },
   {
    "duration": 30,
    "start_time": "2023-05-05T15:15:37.355Z"
   },
   {
    "duration": 52,
    "start_time": "2023-05-05T15:15:37.387Z"
   },
   {
    "duration": 49,
    "start_time": "2023-05-05T15:15:37.443Z"
   },
   {
    "duration": 209,
    "start_time": "2023-05-05T15:15:37.494Z"
   },
   {
    "duration": 159,
    "start_time": "2023-05-05T15:15:37.705Z"
   },
   {
    "duration": 14,
    "start_time": "2023-05-05T15:15:37.867Z"
   },
   {
    "duration": 31,
    "start_time": "2023-05-05T15:15:37.884Z"
   },
   {
    "duration": 374,
    "start_time": "2023-05-05T15:15:37.917Z"
   },
   {
    "duration": 279,
    "start_time": "2023-05-05T15:15:38.292Z"
   },
   {
    "duration": 451,
    "start_time": "2023-05-05T15:15:38.574Z"
   },
   {
    "duration": 281,
    "start_time": "2023-05-05T15:15:39.027Z"
   },
   {
    "duration": 402,
    "start_time": "2023-05-05T15:15:39.310Z"
   },
   {
    "duration": 13,
    "start_time": "2023-05-05T15:15:39.715Z"
   },
   {
    "duration": 190,
    "start_time": "2023-05-05T15:15:39.743Z"
   },
   {
    "duration": 18,
    "start_time": "2023-05-05T15:15:39.936Z"
   },
   {
    "duration": 324,
    "start_time": "2023-05-05T15:15:39.956Z"
   },
   {
    "duration": 6,
    "start_time": "2023-05-05T15:15:40.281Z"
   },
   {
    "duration": 19,
    "start_time": "2023-05-05T15:15:40.288Z"
   },
   {
    "duration": 74,
    "start_time": "2023-05-05T15:15:40.309Z"
   },
   {
    "duration": 11,
    "start_time": "2023-05-05T15:15:40.385Z"
   },
   {
    "duration": 78,
    "start_time": "2023-05-05T15:15:40.398Z"
   },
   {
    "duration": 21,
    "start_time": "2023-05-05T15:15:40.478Z"
   },
   {
    "duration": 76,
    "start_time": "2023-05-05T15:15:40.501Z"
   },
   {
    "duration": 20,
    "start_time": "2023-05-05T15:15:40.579Z"
   },
   {
    "duration": 85,
    "start_time": "2023-05-05T15:15:40.601Z"
   },
   {
    "duration": 30,
    "start_time": "2023-05-05T15:15:40.688Z"
   },
   {
    "duration": 182,
    "start_time": "2023-05-05T15:15:40.720Z"
   },
   {
    "duration": 9,
    "start_time": "2023-05-05T15:15:40.904Z"
   },
   {
    "duration": 48,
    "start_time": "2023-05-05T15:15:40.915Z"
   },
   {
    "duration": 37,
    "start_time": "2023-05-05T15:17:53.380Z"
   },
   {
    "duration": 14,
    "start_time": "2023-05-05T15:24:06.209Z"
   },
   {
    "duration": 1954,
    "start_time": "2023-05-05T15:31:19.335Z"
   },
   {
    "duration": 16,
    "start_time": "2023-05-05T15:32:16.638Z"
   },
   {
    "duration": 16,
    "start_time": "2023-05-05T15:32:45.950Z"
   },
   {
    "duration": 18,
    "start_time": "2023-05-05T15:34:24.830Z"
   },
   {
    "duration": 10,
    "start_time": "2023-05-05T15:34:31.166Z"
   },
   {
    "duration": 14,
    "start_time": "2023-05-05T15:34:36.123Z"
   },
   {
    "duration": 10,
    "start_time": "2023-05-05T15:35:09.810Z"
   },
   {
    "duration": 15,
    "start_time": "2023-05-05T15:35:28.830Z"
   },
   {
    "duration": 15,
    "start_time": "2023-05-05T15:35:38.530Z"
   },
   {
    "duration": 12,
    "start_time": "2023-05-05T15:36:58.366Z"
   },
   {
    "duration": 24,
    "start_time": "2023-05-05T15:37:50.414Z"
   },
   {
    "duration": 43,
    "start_time": "2023-05-05T15:38:39.806Z"
   },
   {
    "duration": 1281,
    "start_time": "2023-05-05T15:44:06.595Z"
   },
   {
    "duration": 19,
    "start_time": "2023-05-05T15:44:54.826Z"
   },
   {
    "duration": 1087,
    "start_time": "2023-05-06T09:03:05.447Z"
   },
   {
    "duration": 34,
    "start_time": "2023-05-06T09:03:06.536Z"
   },
   {
    "duration": 11,
    "start_time": "2023-05-06T09:03:06.571Z"
   },
   {
    "duration": 11,
    "start_time": "2023-05-06T09:03:06.584Z"
   },
   {
    "duration": 57,
    "start_time": "2023-05-06T09:03:06.596Z"
   },
   {
    "duration": 11,
    "start_time": "2023-05-06T09:03:06.655Z"
   },
   {
    "duration": 21,
    "start_time": "2023-05-06T09:03:06.667Z"
   },
   {
    "duration": 14,
    "start_time": "2023-05-06T09:03:06.689Z"
   },
   {
    "duration": 15,
    "start_time": "2023-05-06T09:03:06.704Z"
   },
   {
    "duration": 51,
    "start_time": "2023-05-06T09:03:06.721Z"
   },
   {
    "duration": 178,
    "start_time": "2023-05-06T09:03:06.773Z"
   },
   {
    "duration": 142,
    "start_time": "2023-05-06T09:03:06.953Z"
   },
   {
    "duration": 16,
    "start_time": "2023-05-06T09:03:07.097Z"
   },
   {
    "duration": 10,
    "start_time": "2023-05-06T09:03:07.114Z"
   },
   {
    "duration": 326,
    "start_time": "2023-05-06T09:03:07.125Z"
   },
   {
    "duration": 243,
    "start_time": "2023-05-06T09:03:07.453Z"
   },
   {
    "duration": 335,
    "start_time": "2023-05-06T09:03:07.698Z"
   },
   {
    "duration": 238,
    "start_time": "2023-05-06T09:03:08.035Z"
   },
   {
    "duration": 364,
    "start_time": "2023-05-06T09:03:08.274Z"
   },
   {
    "duration": 11,
    "start_time": "2023-05-06T09:03:08.640Z"
   },
   {
    "duration": 165,
    "start_time": "2023-05-06T09:03:08.652Z"
   },
   {
    "duration": 4,
    "start_time": "2023-05-06T09:03:08.819Z"
   },
   {
    "duration": 273,
    "start_time": "2023-05-06T09:03:08.824Z"
   },
   {
    "duration": 5,
    "start_time": "2023-05-06T09:03:09.099Z"
   },
   {
    "duration": 23,
    "start_time": "2023-05-06T09:03:09.106Z"
   },
   {
    "duration": 61,
    "start_time": "2023-05-06T09:03:09.131Z"
   },
   {
    "duration": 27,
    "start_time": "2023-05-06T09:03:09.194Z"
   },
   {
    "duration": 53,
    "start_time": "2023-05-06T09:03:09.224Z"
   },
   {
    "duration": 17,
    "start_time": "2023-05-06T09:03:09.278Z"
   },
   {
    "duration": 58,
    "start_time": "2023-05-06T09:03:09.297Z"
   },
   {
    "duration": 39,
    "start_time": "2023-05-06T09:03:09.356Z"
   },
   {
    "duration": 64,
    "start_time": "2023-05-06T09:03:09.396Z"
   },
   {
    "duration": 39,
    "start_time": "2023-05-06T09:03:09.461Z"
   },
   {
    "duration": 125,
    "start_time": "2023-05-06T09:03:09.503Z"
   },
   {
    "duration": 6,
    "start_time": "2023-05-06T09:03:09.629Z"
   },
   {
    "duration": 25,
    "start_time": "2023-05-06T09:03:09.636Z"
   },
   {
    "duration": 10,
    "start_time": "2023-05-06T09:03:09.662Z"
   },
   {
    "duration": 29,
    "start_time": "2023-05-06T09:03:09.673Z"
   },
   {
    "duration": 18,
    "start_time": "2023-05-06T09:03:09.704Z"
   },
   {
    "duration": 36,
    "start_time": "2023-05-06T09:03:09.724Z"
   },
   {
    "duration": 13,
    "start_time": "2023-05-06T09:03:09.762Z"
   },
   {
    "duration": 1313,
    "start_time": "2023-05-08T09:45:36.877Z"
   },
   {
    "duration": 73,
    "start_time": "2023-05-08T09:45:39.372Z"
   },
   {
    "duration": 105,
    "start_time": "2023-05-08T09:52:20.355Z"
   },
   {
    "duration": 12,
    "start_time": "2023-05-08T09:52:28.111Z"
   },
   {
    "duration": 13,
    "start_time": "2023-05-08T09:52:31.815Z"
   },
   {
    "duration": 10,
    "start_time": "2023-05-08T09:52:35.384Z"
   },
   {
    "duration": 10,
    "start_time": "2023-05-08T09:53:07.448Z"
   },
   {
    "duration": 64,
    "start_time": "2023-05-08T09:55:28.105Z"
   },
   {
    "duration": 11,
    "start_time": "2023-05-08T09:56:10.630Z"
   },
   {
    "duration": 6,
    "start_time": "2023-05-08T09:58:18.800Z"
   },
   {
    "duration": 9,
    "start_time": "2023-05-08T09:58:32.483Z"
   },
   {
    "duration": 11,
    "start_time": "2023-05-08T09:58:53.110Z"
   },
   {
    "duration": 157,
    "start_time": "2023-05-08T09:59:03.230Z"
   },
   {
    "duration": 158,
    "start_time": "2023-05-08T10:05:29.847Z"
   },
   {
    "duration": 171,
    "start_time": "2023-05-08T10:06:05.848Z"
   },
   {
    "duration": 142,
    "start_time": "2023-05-08T10:12:26.613Z"
   },
   {
    "duration": 178,
    "start_time": "2023-05-08T10:15:02.579Z"
   },
   {
    "duration": 185,
    "start_time": "2023-05-08T10:15:13.670Z"
   },
   {
    "duration": 174,
    "start_time": "2023-05-08T10:15:42.501Z"
   },
   {
    "duration": 181,
    "start_time": "2023-05-08T10:16:23.145Z"
   },
   {
    "duration": 4,
    "start_time": "2023-05-08T10:17:15.360Z"
   },
   {
    "duration": 6,
    "start_time": "2023-05-08T10:18:16.766Z"
   },
   {
    "duration": 79,
    "start_time": "2023-05-08T10:18:24.862Z"
   },
   {
    "duration": 175,
    "start_time": "2023-05-08T10:18:30.038Z"
   },
   {
    "duration": 646,
    "start_time": "2023-05-08T10:18:41.815Z"
   },
   {
    "duration": 261,
    "start_time": "2023-05-08T10:19:13.163Z"
   },
   {
    "duration": 78,
    "start_time": "2023-05-08T10:20:10.383Z"
   },
   {
    "duration": 258,
    "start_time": "2023-05-08T10:20:15.013Z"
   },
   {
    "duration": 572,
    "start_time": "2023-05-08T10:20:18.286Z"
   },
   {
    "duration": 580,
    "start_time": "2023-05-08T10:20:54.501Z"
   },
   {
    "duration": 608,
    "start_time": "2023-05-08T10:22:08.009Z"
   },
   {
    "duration": 689,
    "start_time": "2023-05-08T10:22:16.770Z"
   },
   {
    "duration": 76,
    "start_time": "2023-05-08T10:22:50.510Z"
   },
   {
    "duration": 591,
    "start_time": "2023-05-08T10:22:56.137Z"
   },
   {
    "duration": 87,
    "start_time": "2023-05-08T10:23:32.572Z"
   },
   {
    "duration": 381,
    "start_time": "2023-05-08T10:23:35.835Z"
   },
   {
    "duration": 382,
    "start_time": "2023-05-08T10:25:52.169Z"
   },
   {
    "duration": 494,
    "start_time": "2023-05-08T10:27:01.770Z"
   },
   {
    "duration": 364,
    "start_time": "2023-05-08T10:27:51.767Z"
   },
   {
    "duration": 411,
    "start_time": "2023-05-08T10:28:04.021Z"
   },
   {
    "duration": 265,
    "start_time": "2023-05-08T10:28:31.416Z"
   },
   {
    "duration": 391,
    "start_time": "2023-05-08T10:28:40.913Z"
   },
   {
    "duration": 149,
    "start_time": "2023-05-08T10:30:01.427Z"
   },
   {
    "duration": 397,
    "start_time": "2023-05-08T10:30:27.718Z"
   },
   {
    "duration": 419,
    "start_time": "2023-05-08T10:31:32.506Z"
   },
   {
    "duration": 376,
    "start_time": "2023-05-08T10:31:44.107Z"
   },
   {
    "duration": 384,
    "start_time": "2023-05-08T10:31:51.866Z"
   },
   {
    "duration": 380,
    "start_time": "2023-05-08T10:31:59.486Z"
   },
   {
    "duration": 242,
    "start_time": "2023-05-08T10:33:52.137Z"
   },
   {
    "duration": 608,
    "start_time": "2023-05-08T10:34:09.306Z"
   },
   {
    "duration": 325,
    "start_time": "2023-05-08T10:34:23.549Z"
   },
   {
    "duration": 390,
    "start_time": "2023-05-08T10:34:28.712Z"
   },
   {
    "duration": 311,
    "start_time": "2023-05-08T10:34:45.211Z"
   },
   {
    "duration": 16,
    "start_time": "2023-05-08T10:35:51.996Z"
   },
   {
    "duration": 16,
    "start_time": "2023-05-08T10:36:02.951Z"
   },
   {
    "duration": 15,
    "start_time": "2023-05-08T10:36:10.466Z"
   },
   {
    "duration": 15,
    "start_time": "2023-05-08T10:36:40.434Z"
   },
   {
    "duration": 610,
    "start_time": "2023-05-08T10:36:55.994Z"
   },
   {
    "duration": 470,
    "start_time": "2023-05-08T10:38:27.930Z"
   },
   {
    "duration": 413,
    "start_time": "2023-05-08T10:40:06.057Z"
   },
   {
    "duration": 611,
    "start_time": "2023-05-08T10:40:16.680Z"
   },
   {
    "duration": 323,
    "start_time": "2023-05-08T10:41:13.831Z"
   },
   {
    "duration": 316,
    "start_time": "2023-05-08T10:41:41.763Z"
   },
   {
    "duration": 345,
    "start_time": "2023-05-08T10:42:08.433Z"
   },
   {
    "duration": 415,
    "start_time": "2023-05-08T10:43:02.054Z"
   },
   {
    "duration": 339,
    "start_time": "2023-05-08T10:43:15.122Z"
   },
   {
    "duration": 389,
    "start_time": "2023-05-08T10:43:25.198Z"
   },
   {
    "duration": 385,
    "start_time": "2023-05-08T10:43:38.055Z"
   },
   {
    "duration": 490,
    "start_time": "2023-05-08T10:43:50.673Z"
   },
   {
    "duration": 383,
    "start_time": "2023-05-08T10:44:08.829Z"
   },
   {
    "duration": 418,
    "start_time": "2023-05-08T10:44:16.071Z"
   },
   {
    "duration": 12,
    "start_time": "2023-05-08T10:45:52.501Z"
   },
   {
    "duration": 444,
    "start_time": "2023-05-08T10:46:02.043Z"
   },
   {
    "duration": 461,
    "start_time": "2023-05-08T10:50:58.540Z"
   },
   {
    "duration": 407,
    "start_time": "2023-05-08T10:51:26.890Z"
   },
   {
    "duration": 411,
    "start_time": "2023-05-08T10:51:43.416Z"
   },
   {
    "duration": 540,
    "start_time": "2023-05-08T10:52:04.337Z"
   },
   {
    "duration": 412,
    "start_time": "2023-05-08T10:52:17.471Z"
   },
   {
    "duration": 442,
    "start_time": "2023-05-08T10:52:53.446Z"
   },
   {
    "duration": 435,
    "start_time": "2023-05-08T10:53:26.340Z"
   },
   {
    "duration": 407,
    "start_time": "2023-05-08T10:54:17.855Z"
   },
   {
    "duration": 435,
    "start_time": "2023-05-08T10:54:32.659Z"
   },
   {
    "duration": 507,
    "start_time": "2023-05-08T10:54:55.512Z"
   },
   {
    "duration": 408,
    "start_time": "2023-05-08T10:55:16.898Z"
   },
   {
    "duration": 580,
    "start_time": "2023-05-08T10:56:02.695Z"
   },
   {
    "duration": 437,
    "start_time": "2023-05-08T10:56:19.504Z"
   },
   {
    "duration": 490,
    "start_time": "2023-05-08T10:56:26.378Z"
   },
   {
    "duration": 458,
    "start_time": "2023-05-08T10:58:53.199Z"
   },
   {
    "duration": 430,
    "start_time": "2023-05-08T11:00:46.476Z"
   },
   {
    "duration": 442,
    "start_time": "2023-05-08T11:01:12.115Z"
   },
   {
    "duration": 510,
    "start_time": "2023-05-08T11:01:29.389Z"
   },
   {
    "duration": 446,
    "start_time": "2023-05-08T11:02:32.886Z"
   },
   {
    "duration": 82,
    "start_time": "2023-05-08T11:46:22.162Z"
   },
   {
    "duration": 80,
    "start_time": "2023-05-08T11:47:08.669Z"
   },
   {
    "duration": 12,
    "start_time": "2023-05-08T11:47:11.191Z"
   },
   {
    "duration": 62,
    "start_time": "2023-05-09T06:53:39.588Z"
   },
   {
    "duration": 12,
    "start_time": "2023-05-09T06:53:45.014Z"
   },
   {
    "duration": 0,
    "start_time": "2023-05-09T06:53:45.028Z"
   },
   {
    "duration": 0,
    "start_time": "2023-05-09T06:53:45.030Z"
   },
   {
    "duration": 0,
    "start_time": "2023-05-09T06:53:45.031Z"
   },
   {
    "duration": 0,
    "start_time": "2023-05-09T06:53:45.032Z"
   },
   {
    "duration": 0,
    "start_time": "2023-05-09T06:53:45.033Z"
   },
   {
    "duration": 13,
    "start_time": "2023-05-09T06:53:45.036Z"
   },
   {
    "duration": 0,
    "start_time": "2023-05-09T06:53:45.051Z"
   },
   {
    "duration": 0,
    "start_time": "2023-05-09T06:53:45.053Z"
   },
   {
    "duration": 0,
    "start_time": "2023-05-09T06:53:45.054Z"
   },
   {
    "duration": 0,
    "start_time": "2023-05-09T06:53:45.056Z"
   },
   {
    "duration": 0,
    "start_time": "2023-05-09T06:53:45.057Z"
   },
   {
    "duration": 0,
    "start_time": "2023-05-09T06:53:45.058Z"
   },
   {
    "duration": 0,
    "start_time": "2023-05-09T06:53:45.059Z"
   },
   {
    "duration": 37,
    "start_time": "2023-05-09T06:53:45.062Z"
   },
   {
    "duration": 0,
    "start_time": "2023-05-09T06:53:45.100Z"
   },
   {
    "duration": 0,
    "start_time": "2023-05-09T06:53:45.102Z"
   },
   {
    "duration": 0,
    "start_time": "2023-05-09T06:53:45.103Z"
   },
   {
    "duration": 0,
    "start_time": "2023-05-09T06:53:45.104Z"
   },
   {
    "duration": 0,
    "start_time": "2023-05-09T06:53:45.105Z"
   },
   {
    "duration": 13,
    "start_time": "2023-05-09T06:53:45.107Z"
   },
   {
    "duration": 0,
    "start_time": "2023-05-09T06:53:45.122Z"
   },
   {
    "duration": 0,
    "start_time": "2023-05-09T06:53:45.124Z"
   },
   {
    "duration": 0,
    "start_time": "2023-05-09T06:53:45.125Z"
   },
   {
    "duration": 0,
    "start_time": "2023-05-09T06:53:45.127Z"
   },
   {
    "duration": 0,
    "start_time": "2023-05-09T06:53:45.128Z"
   },
   {
    "duration": 0,
    "start_time": "2023-05-09T06:53:45.130Z"
   },
   {
    "duration": 0,
    "start_time": "2023-05-09T06:53:45.131Z"
   },
   {
    "duration": 0,
    "start_time": "2023-05-09T06:53:45.133Z"
   },
   {
    "duration": 0,
    "start_time": "2023-05-09T06:53:45.134Z"
   },
   {
    "duration": 0,
    "start_time": "2023-05-09T06:53:45.136Z"
   },
   {
    "duration": 0,
    "start_time": "2023-05-09T06:53:45.194Z"
   },
   {
    "duration": 0,
    "start_time": "2023-05-09T06:53:45.196Z"
   },
   {
    "duration": 0,
    "start_time": "2023-05-09T06:53:45.197Z"
   },
   {
    "duration": 0,
    "start_time": "2023-05-09T06:53:45.198Z"
   },
   {
    "duration": 0,
    "start_time": "2023-05-09T06:53:45.199Z"
   },
   {
    "duration": 0,
    "start_time": "2023-05-09T06:53:45.200Z"
   },
   {
    "duration": 1223,
    "start_time": "2023-05-09T06:54:20.517Z"
   },
   {
    "duration": 73,
    "start_time": "2023-05-09T06:54:21.742Z"
   },
   {
    "duration": 12,
    "start_time": "2023-05-09T06:54:21.817Z"
   },
   {
    "duration": 10,
    "start_time": "2023-05-09T06:54:21.831Z"
   },
   {
    "duration": 14,
    "start_time": "2023-05-09T06:54:21.843Z"
   },
   {
    "duration": 468,
    "start_time": "2023-05-09T06:54:21.859Z"
   },
   {
    "duration": 77,
    "start_time": "2023-05-09T06:54:22.329Z"
   },
   {
    "duration": 60,
    "start_time": "2023-05-09T06:54:22.407Z"
   },
   {
    "duration": 12,
    "start_time": "2023-05-09T06:54:22.468Z"
   },
   {
    "duration": 34,
    "start_time": "2023-05-09T06:54:22.481Z"
   },
   {
    "duration": 26,
    "start_time": "2023-05-09T06:54:22.516Z"
   },
   {
    "duration": 29,
    "start_time": "2023-05-09T06:54:22.543Z"
   },
   {
    "duration": 30,
    "start_time": "2023-05-09T06:54:22.574Z"
   },
   {
    "duration": 165,
    "start_time": "2023-05-09T06:54:22.607Z"
   },
   {
    "duration": 113,
    "start_time": "2023-05-09T06:54:22.774Z"
   },
   {
    "duration": 15,
    "start_time": "2023-05-09T06:54:22.889Z"
   },
   {
    "duration": 15,
    "start_time": "2023-05-09T06:54:22.905Z"
   },
   {
    "duration": 275,
    "start_time": "2023-05-09T06:54:22.922Z"
   },
   {
    "duration": 208,
    "start_time": "2023-05-09T06:54:23.198Z"
   },
   {
    "duration": 378,
    "start_time": "2023-05-09T06:54:23.408Z"
   },
   {
    "duration": 201,
    "start_time": "2023-05-09T06:54:23.788Z"
   },
   {
    "duration": 349,
    "start_time": "2023-05-09T06:54:23.994Z"
   },
   {
    "duration": 10,
    "start_time": "2023-05-09T06:54:24.345Z"
   },
   {
    "duration": 163,
    "start_time": "2023-05-09T06:54:24.357Z"
   },
   {
    "duration": 4,
    "start_time": "2023-05-09T06:54:24.521Z"
   },
   {
    "duration": 345,
    "start_time": "2023-05-09T06:54:24.526Z"
   },
   {
    "duration": 4,
    "start_time": "2023-05-09T06:54:24.873Z"
   },
   {
    "duration": 17,
    "start_time": "2023-05-09T06:54:24.878Z"
   },
   {
    "duration": 42,
    "start_time": "2023-05-09T06:54:24.897Z"
   },
   {
    "duration": 10,
    "start_time": "2023-05-09T06:54:24.941Z"
   },
   {
    "duration": 59,
    "start_time": "2023-05-09T06:54:24.953Z"
   },
   {
    "duration": 16,
    "start_time": "2023-05-09T06:54:25.013Z"
   },
   {
    "duration": 63,
    "start_time": "2023-05-09T06:54:25.031Z"
   },
   {
    "duration": 17,
    "start_time": "2023-05-09T06:54:25.096Z"
   },
   {
    "duration": 48,
    "start_time": "2023-05-09T06:54:25.114Z"
   },
   {
    "duration": 48,
    "start_time": "2023-05-09T06:54:25.164Z"
   },
   {
    "duration": 130,
    "start_time": "2023-05-09T06:54:25.214Z"
   },
   {
    "duration": 5,
    "start_time": "2023-05-09T06:54:25.345Z"
   },
   {
    "duration": 23,
    "start_time": "2023-05-09T06:54:25.352Z"
   },
   {
    "duration": 22,
    "start_time": "2023-05-09T06:54:25.377Z"
   },
   {
    "duration": 10,
    "start_time": "2023-05-09T06:54:25.402Z"
   },
   {
    "duration": 10,
    "start_time": "2023-05-09T06:54:25.414Z"
   },
   {
    "duration": 19,
    "start_time": "2023-05-09T06:54:25.426Z"
   },
   {
    "duration": 12,
    "start_time": "2023-05-09T06:54:25.447Z"
   },
   {
    "duration": 10,
    "start_time": "2023-05-09T09:08:36.667Z"
   },
   {
    "duration": 69,
    "start_time": "2023-05-09T09:09:40.438Z"
   },
   {
    "duration": 8,
    "start_time": "2023-05-09T09:09:45.171Z"
   },
   {
    "duration": 7,
    "start_time": "2023-05-09T09:10:16.671Z"
   },
   {
    "duration": 7,
    "start_time": "2023-05-09T09:11:20.081Z"
   },
   {
    "duration": 73,
    "start_time": "2023-05-09T09:13:42.278Z"
   },
   {
    "duration": 11,
    "start_time": "2023-05-09T09:13:53.450Z"
   },
   {
    "duration": 10,
    "start_time": "2023-05-09T09:16:24.327Z"
   },
   {
    "duration": 91,
    "start_time": "2023-05-09T09:19:13.515Z"
   },
   {
    "duration": 75,
    "start_time": "2023-05-09T09:19:49.367Z"
   },
   {
    "duration": 5,
    "start_time": "2023-05-09T09:20:06.935Z"
   },
   {
    "duration": 4,
    "start_time": "2023-05-09T09:20:22.565Z"
   },
   {
    "duration": 5,
    "start_time": "2023-05-09T09:20:45.413Z"
   },
   {
    "duration": 5,
    "start_time": "2023-05-09T09:21:06.981Z"
   },
   {
    "duration": 4,
    "start_time": "2023-05-09T09:21:29.689Z"
   },
   {
    "duration": 12,
    "start_time": "2023-05-09T09:29:38.116Z"
   },
   {
    "duration": 14,
    "start_time": "2023-05-09T09:30:11.907Z"
   },
   {
    "duration": 10,
    "start_time": "2023-05-09T09:53:01.785Z"
   },
   {
    "duration": 22,
    "start_time": "2023-05-09T09:53:24.052Z"
   },
   {
    "duration": 14,
    "start_time": "2023-05-09T09:53:37.940Z"
   },
   {
    "duration": 183,
    "start_time": "2023-05-09T09:54:20.570Z"
   },
   {
    "duration": 13,
    "start_time": "2023-05-09T09:54:31.261Z"
   },
   {
    "duration": 3,
    "start_time": "2023-05-09T09:54:53.228Z"
   },
   {
    "duration": 11,
    "start_time": "2023-05-09T09:54:57.580Z"
   },
   {
    "duration": 14,
    "start_time": "2023-05-09T09:55:09.354Z"
   },
   {
    "duration": 10,
    "start_time": "2023-05-09T09:55:27.673Z"
   },
   {
    "duration": 11,
    "start_time": "2023-05-09T09:55:31.260Z"
   },
   {
    "duration": 13,
    "start_time": "2023-05-09T09:55:36.253Z"
   },
   {
    "duration": 11,
    "start_time": "2023-05-09T09:55:44.877Z"
   },
   {
    "duration": 10,
    "start_time": "2023-05-09T09:56:19.033Z"
   },
   {
    "duration": 9,
    "start_time": "2023-05-09T09:57:59.415Z"
   },
   {
    "duration": 69,
    "start_time": "2023-05-09T09:58:17.807Z"
   },
   {
    "duration": 11,
    "start_time": "2023-05-09T09:58:53.793Z"
   },
   {
    "duration": 10,
    "start_time": "2023-05-09T09:59:28.468Z"
   },
   {
    "duration": 11,
    "start_time": "2023-05-09T09:59:45.343Z"
   },
   {
    "duration": 8,
    "start_time": "2023-05-09T10:00:27.557Z"
   },
   {
    "duration": 7,
    "start_time": "2023-05-09T10:01:19.358Z"
   },
   {
    "duration": 13,
    "start_time": "2023-05-09T10:09:20.501Z"
   },
   {
    "duration": 9,
    "start_time": "2023-05-09T10:09:53.959Z"
   },
   {
    "duration": 12,
    "start_time": "2023-05-09T10:14:15.041Z"
   },
   {
    "duration": 3,
    "start_time": "2023-05-09T10:14:40.996Z"
   },
   {
    "duration": 11,
    "start_time": "2023-05-09T10:14:58.541Z"
   },
   {
    "duration": 1350,
    "start_time": "2023-05-09T12:43:51.295Z"
   },
   {
    "duration": 73,
    "start_time": "2023-05-09T12:43:52.647Z"
   },
   {
    "duration": 12,
    "start_time": "2023-05-09T12:43:52.722Z"
   },
   {
    "duration": 13,
    "start_time": "2023-05-09T12:43:52.736Z"
   },
   {
    "duration": 18,
    "start_time": "2023-05-09T12:43:52.751Z"
   },
   {
    "duration": 539,
    "start_time": "2023-05-09T12:43:52.771Z"
   },
   {
    "duration": 68,
    "start_time": "2023-05-09T12:43:53.312Z"
   },
   {
    "duration": 61,
    "start_time": "2023-05-09T12:43:53.381Z"
   },
   {
    "duration": 12,
    "start_time": "2023-05-09T12:43:53.444Z"
   },
   {
    "duration": 12,
    "start_time": "2023-05-09T12:43:53.458Z"
   },
   {
    "duration": 11,
    "start_time": "2023-05-09T12:43:53.471Z"
   },
   {
    "duration": 4,
    "start_time": "2023-05-09T12:43:53.484Z"
   },
   {
    "duration": 9,
    "start_time": "2023-05-09T12:43:53.490Z"
   },
   {
    "duration": 10,
    "start_time": "2023-05-09T12:43:53.503Z"
   },
   {
    "duration": 42,
    "start_time": "2023-05-09T12:43:53.515Z"
   },
   {
    "duration": 7,
    "start_time": "2023-05-09T12:43:53.558Z"
   },
   {
    "duration": 25,
    "start_time": "2023-05-09T12:43:53.567Z"
   },
   {
    "duration": 7,
    "start_time": "2023-05-09T12:43:53.594Z"
   },
   {
    "duration": 11,
    "start_time": "2023-05-09T12:43:53.602Z"
   },
   {
    "duration": 9,
    "start_time": "2023-05-09T12:43:53.614Z"
   },
   {
    "duration": 12,
    "start_time": "2023-05-09T12:43:53.624Z"
   },
   {
    "duration": 26,
    "start_time": "2023-05-09T12:43:53.637Z"
   },
   {
    "duration": 11,
    "start_time": "2023-05-09T12:43:53.664Z"
   },
   {
    "duration": 9,
    "start_time": "2023-05-09T12:43:53.677Z"
   },
   {
    "duration": 195,
    "start_time": "2023-05-09T12:43:53.688Z"
   },
   {
    "duration": 174,
    "start_time": "2023-05-09T12:43:53.885Z"
   },
   {
    "duration": 14,
    "start_time": "2023-05-09T12:43:54.061Z"
   },
   {
    "duration": 6,
    "start_time": "2023-05-09T12:43:54.076Z"
   },
   {
    "duration": 307,
    "start_time": "2023-05-09T12:43:54.084Z"
   },
   {
    "duration": 236,
    "start_time": "2023-05-09T12:43:54.392Z"
   },
   {
    "duration": 440,
    "start_time": "2023-05-09T12:43:54.630Z"
   },
   {
    "duration": 486,
    "start_time": "2023-05-09T12:43:55.072Z"
   },
   {
    "duration": 696,
    "start_time": "2023-05-09T12:43:55.560Z"
   },
   {
    "duration": 12,
    "start_time": "2023-05-09T12:43:56.257Z"
   },
   {
    "duration": 307,
    "start_time": "2023-05-09T12:43:56.270Z"
   },
   {
    "duration": 4,
    "start_time": "2023-05-09T12:43:56.579Z"
   },
   {
    "duration": 461,
    "start_time": "2023-05-09T12:43:56.585Z"
   },
   {
    "duration": 9,
    "start_time": "2023-05-09T12:43:57.048Z"
   },
   {
    "duration": 17,
    "start_time": "2023-05-09T12:43:57.059Z"
   },
   {
    "duration": 45,
    "start_time": "2023-05-09T12:43:57.077Z"
   },
   {
    "duration": 8,
    "start_time": "2023-05-09T12:43:57.125Z"
   },
   {
    "duration": 59,
    "start_time": "2023-05-09T12:43:57.134Z"
   },
   {
    "duration": 23,
    "start_time": "2023-05-09T12:43:57.194Z"
   },
   {
    "duration": 66,
    "start_time": "2023-05-09T12:43:57.219Z"
   },
   {
    "duration": 17,
    "start_time": "2023-05-09T12:43:57.286Z"
   },
   {
    "duration": 64,
    "start_time": "2023-05-09T12:43:57.304Z"
   },
   {
    "duration": 31,
    "start_time": "2023-05-09T12:43:57.370Z"
   },
   {
    "duration": 174,
    "start_time": "2023-05-09T12:43:57.403Z"
   },
   {
    "duration": 7,
    "start_time": "2023-05-09T12:43:57.578Z"
   },
   {
    "duration": 23,
    "start_time": "2023-05-09T12:43:57.587Z"
   },
   {
    "duration": 12,
    "start_time": "2023-05-09T12:43:57.613Z"
   },
   {
    "duration": 36,
    "start_time": "2023-05-09T12:43:57.627Z"
   },
   {
    "duration": 11,
    "start_time": "2023-05-09T12:43:57.666Z"
   },
   {
    "duration": 23,
    "start_time": "2023-05-09T12:43:57.679Z"
   },
   {
    "duration": 15,
    "start_time": "2023-05-09T12:43:57.704Z"
   },
   {
    "duration": 9,
    "start_time": "2023-05-09T12:44:09.583Z"
   },
   {
    "duration": 71,
    "start_time": "2023-05-09T12:44:30.041Z"
   },
   {
    "duration": 14,
    "start_time": "2023-05-09T12:44:35.108Z"
   },
   {
    "duration": 106,
    "start_time": "2023-05-09T12:44:44.402Z"
   },
   {
    "duration": 6,
    "start_time": "2023-05-09T12:44:56.146Z"
   },
   {
    "duration": 9,
    "start_time": "2023-05-09T12:45:46.902Z"
   },
   {
    "duration": 6,
    "start_time": "2023-05-09T12:45:54.045Z"
   },
   {
    "duration": 4,
    "start_time": "2023-05-09T12:46:13.739Z"
   },
   {
    "duration": 11,
    "start_time": "2023-05-09T12:46:21.409Z"
   },
   {
    "duration": 6,
    "start_time": "2023-05-09T12:48:02.302Z"
   },
   {
    "duration": 32,
    "start_time": "2023-05-09T12:52:07.524Z"
   },
   {
    "duration": 321,
    "start_time": "2023-05-09T12:52:15.479Z"
   },
   {
    "duration": 20,
    "start_time": "2023-05-09T12:55:25.406Z"
   },
   {
    "duration": 313,
    "start_time": "2023-05-09T12:56:52.108Z"
   },
   {
    "duration": 9,
    "start_time": "2023-05-09T12:56:59.909Z"
   },
   {
    "duration": 114,
    "start_time": "2023-05-09T12:57:05.220Z"
   },
   {
    "duration": 8,
    "start_time": "2023-05-09T12:57:20.640Z"
   },
   {
    "duration": 8,
    "start_time": "2023-05-09T12:57:43.496Z"
   },
   {
    "duration": 9,
    "start_time": "2023-05-09T12:57:57.106Z"
   },
   {
    "duration": 102,
    "start_time": "2023-05-09T12:59:01.147Z"
   },
   {
    "duration": 19,
    "start_time": "2023-05-09T12:59:02.810Z"
   },
   {
    "duration": 7,
    "start_time": "2023-05-09T12:59:11.384Z"
   },
   {
    "duration": 123,
    "start_time": "2023-05-09T12:59:11.954Z"
   },
   {
    "duration": 108,
    "start_time": "2023-05-09T12:59:20.949Z"
   },
   {
    "duration": 11,
    "start_time": "2023-05-09T12:59:21.572Z"
   },
   {
    "duration": 110,
    "start_time": "2023-05-09T13:01:22.759Z"
   },
   {
    "duration": 9,
    "start_time": "2023-05-09T13:01:26.242Z"
   },
   {
    "duration": 9,
    "start_time": "2023-05-09T13:01:48.960Z"
   },
   {
    "duration": 264,
    "start_time": "2023-05-09T13:02:30.679Z"
   },
   {
    "duration": 262,
    "start_time": "2023-05-09T13:02:39.173Z"
   },
   {
    "duration": 12,
    "start_time": "2023-05-09T13:04:51.635Z"
   },
   {
    "duration": 13,
    "start_time": "2023-05-09T13:06:11.877Z"
   },
   {
    "duration": 9,
    "start_time": "2023-05-09T13:06:44.881Z"
   },
   {
    "duration": 10,
    "start_time": "2023-05-09T13:07:13.704Z"
   },
   {
    "duration": 19,
    "start_time": "2023-05-09T13:07:16.153Z"
   },
   {
    "duration": 191,
    "start_time": "2023-05-09T13:07:23.548Z"
   },
   {
    "duration": 125,
    "start_time": "2023-05-09T13:07:27.411Z"
   },
   {
    "duration": 12,
    "start_time": "2023-05-09T13:07:35.650Z"
   },
   {
    "duration": 7,
    "start_time": "2023-05-09T13:07:38.858Z"
   },
   {
    "duration": 218,
    "start_time": "2023-05-09T13:07:41.912Z"
   },
   {
    "duration": 209,
    "start_time": "2023-05-09T13:08:18.466Z"
   },
   {
    "duration": 296,
    "start_time": "2023-05-09T13:09:17.324Z"
   },
   {
    "duration": 13,
    "start_time": "2023-05-09T13:09:57.438Z"
   },
   {
    "duration": 1232,
    "start_time": "2023-05-09T13:11:00.404Z"
   },
   {
    "duration": 8,
    "start_time": "2023-05-09T13:12:01.228Z"
   },
   {
    "duration": 236,
    "start_time": "2023-05-09T13:12:07.838Z"
   },
   {
    "duration": 378,
    "start_time": "2023-05-09T13:16:27.539Z"
   },
   {
    "duration": 4,
    "start_time": "2023-05-09T13:16:44.607Z"
   },
   {
    "duration": 18,
    "start_time": "2023-05-09T13:16:58.776Z"
   },
   {
    "duration": 196,
    "start_time": "2023-05-09T13:17:02.477Z"
   },
   {
    "duration": 1074,
    "start_time": "2023-05-09T13:17:31.948Z"
   },
   {
    "duration": 32,
    "start_time": "2023-05-09T13:17:33.024Z"
   },
   {
    "duration": 12,
    "start_time": "2023-05-09T13:17:33.058Z"
   },
   {
    "duration": 36,
    "start_time": "2023-05-09T13:17:33.073Z"
   },
   {
    "duration": 18,
    "start_time": "2023-05-09T13:17:33.110Z"
   },
   {
    "duration": 484,
    "start_time": "2023-05-09T13:17:33.130Z"
   },
   {
    "duration": 32,
    "start_time": "2023-05-09T13:17:33.615Z"
   },
   {
    "duration": 15,
    "start_time": "2023-05-09T13:17:33.649Z"
   },
   {
    "duration": 11,
    "start_time": "2023-05-09T13:17:33.665Z"
   },
   {
    "duration": 10,
    "start_time": "2023-05-09T13:17:33.678Z"
   },
   {
    "duration": 22,
    "start_time": "2023-05-09T13:17:33.689Z"
   },
   {
    "duration": 22,
    "start_time": "2023-05-09T13:17:33.713Z"
   },
   {
    "duration": 31,
    "start_time": "2023-05-09T13:17:33.736Z"
   },
   {
    "duration": 22,
    "start_time": "2023-05-09T13:17:33.769Z"
   },
   {
    "duration": 33,
    "start_time": "2023-05-09T13:17:33.792Z"
   },
   {
    "duration": 20,
    "start_time": "2023-05-09T13:17:33.826Z"
   },
   {
    "duration": 15,
    "start_time": "2023-05-09T13:17:33.848Z"
   },
   {
    "duration": 28,
    "start_time": "2023-05-09T13:17:33.865Z"
   },
   {
    "duration": 46,
    "start_time": "2023-05-09T13:17:33.896Z"
   },
   {
    "duration": 13,
    "start_time": "2023-05-09T13:17:33.944Z"
   },
   {
    "duration": 47,
    "start_time": "2023-05-09T13:17:33.959Z"
   },
   {
    "duration": 271,
    "start_time": "2023-05-09T13:17:34.008Z"
   },
   {
    "duration": 10,
    "start_time": "2023-05-09T13:17:34.280Z"
   },
   {
    "duration": 61,
    "start_time": "2023-05-09T13:17:34.292Z"
   },
   {
    "duration": 16,
    "start_time": "2023-05-09T13:17:34.355Z"
   },
   {
    "duration": 11,
    "start_time": "2023-05-09T13:17:34.373Z"
   },
   {
    "duration": 171,
    "start_time": "2023-05-09T13:17:34.385Z"
   },
   {
    "duration": 127,
    "start_time": "2023-05-09T13:17:34.561Z"
   },
   {
    "duration": 12,
    "start_time": "2023-05-09T13:17:34.689Z"
   },
   {
    "duration": 9,
    "start_time": "2023-05-09T13:17:34.703Z"
   },
   {
    "duration": 319,
    "start_time": "2023-05-09T13:17:34.714Z"
   },
   {
    "duration": 234,
    "start_time": "2023-05-09T13:17:35.034Z"
   },
   {
    "duration": 320,
    "start_time": "2023-05-09T13:17:35.270Z"
   },
   {
    "duration": 245,
    "start_time": "2023-05-09T13:17:35.592Z"
   },
   {
    "duration": 381,
    "start_time": "2023-05-09T13:17:35.839Z"
   },
   {
    "duration": 12,
    "start_time": "2023-05-09T13:17:36.222Z"
   },
   {
    "duration": 216,
    "start_time": "2023-05-09T13:17:36.236Z"
   },
   {
    "duration": 5,
    "start_time": "2023-05-09T13:17:36.456Z"
   },
   {
    "duration": 407,
    "start_time": "2023-05-09T13:17:36.462Z"
   },
   {
    "duration": 5,
    "start_time": "2023-05-09T13:17:36.871Z"
   },
   {
    "duration": 26,
    "start_time": "2023-05-09T13:17:36.878Z"
   },
   {
    "duration": 60,
    "start_time": "2023-05-09T13:17:36.907Z"
   },
   {
    "duration": 37,
    "start_time": "2023-05-09T13:17:36.969Z"
   },
   {
    "duration": 64,
    "start_time": "2023-05-09T13:17:37.008Z"
   },
   {
    "duration": 31,
    "start_time": "2023-05-09T13:17:37.074Z"
   },
   {
    "duration": 72,
    "start_time": "2023-05-09T13:17:37.107Z"
   },
   {
    "duration": 23,
    "start_time": "2023-05-09T13:17:37.181Z"
   },
   {
    "duration": 75,
    "start_time": "2023-05-09T13:17:37.206Z"
   },
   {
    "duration": 38,
    "start_time": "2023-05-09T13:17:37.283Z"
   },
   {
    "duration": 164,
    "start_time": "2023-05-09T13:17:37.323Z"
   },
   {
    "duration": 8,
    "start_time": "2023-05-09T13:17:37.489Z"
   },
   {
    "duration": 31,
    "start_time": "2023-05-09T13:17:37.499Z"
   },
   {
    "duration": 32,
    "start_time": "2023-05-09T13:17:37.532Z"
   },
   {
    "duration": 20,
    "start_time": "2023-05-09T13:17:37.566Z"
   },
   {
    "duration": 58,
    "start_time": "2023-05-09T13:17:37.588Z"
   },
   {
    "duration": 39,
    "start_time": "2023-05-09T13:17:37.651Z"
   },
   {
    "duration": 19,
    "start_time": "2023-05-09T13:17:37.692Z"
   },
   {
    "duration": 115,
    "start_time": "2023-05-09T13:22:27.431Z"
   },
   {
    "duration": 30,
    "start_time": "2023-05-09T13:22:42.501Z"
   },
   {
    "duration": 10,
    "start_time": "2023-05-09T13:23:02.458Z"
   },
   {
    "duration": 26,
    "start_time": "2023-05-09T13:24:01.651Z"
   },
   {
    "duration": 13,
    "start_time": "2023-05-09T13:24:25.900Z"
   },
   {
    "duration": 11,
    "start_time": "2023-05-09T13:24:35.610Z"
   },
   {
    "duration": 8,
    "start_time": "2023-05-09T13:28:50.701Z"
   },
   {
    "duration": 9,
    "start_time": "2023-05-09T13:29:02.814Z"
   },
   {
    "duration": 4,
    "start_time": "2023-05-09T13:29:11.710Z"
   },
   {
    "duration": 35,
    "start_time": "2023-05-09T13:29:11.715Z"
   },
   {
    "duration": 10,
    "start_time": "2023-05-09T13:29:11.752Z"
   },
   {
    "duration": 25,
    "start_time": "2023-05-09T13:29:11.764Z"
   },
   {
    "duration": 40,
    "start_time": "2023-05-09T13:29:11.791Z"
   },
   {
    "duration": 437,
    "start_time": "2023-05-09T13:29:11.832Z"
   },
   {
    "duration": 31,
    "start_time": "2023-05-09T13:29:12.271Z"
   },
   {
    "duration": 14,
    "start_time": "2023-05-09T13:29:12.303Z"
   },
   {
    "duration": 10,
    "start_time": "2023-05-09T13:29:12.319Z"
   },
   {
    "duration": 12,
    "start_time": "2023-05-09T13:29:12.331Z"
   },
   {
    "duration": 24,
    "start_time": "2023-05-09T13:29:12.345Z"
   },
   {
    "duration": 5,
    "start_time": "2023-05-09T13:29:12.370Z"
   },
   {
    "duration": 10,
    "start_time": "2023-05-09T13:29:12.377Z"
   },
   {
    "duration": 9,
    "start_time": "2023-05-09T13:29:12.388Z"
   },
   {
    "duration": 8,
    "start_time": "2023-05-09T13:29:12.399Z"
   },
   {
    "duration": 6,
    "start_time": "2023-05-09T13:29:12.408Z"
   },
   {
    "duration": 11,
    "start_time": "2023-05-09T13:29:12.415Z"
   },
   {
    "duration": 7,
    "start_time": "2023-05-09T13:29:12.428Z"
   },
   {
    "duration": 12,
    "start_time": "2023-05-09T13:29:12.456Z"
   },
   {
    "duration": 4,
    "start_time": "2023-05-09T13:29:12.469Z"
   },
   {
    "duration": 5,
    "start_time": "2023-05-09T13:29:20.306Z"
   },
   {
    "duration": 11,
    "start_time": "2023-05-09T13:29:21.225Z"
   },
   {
    "duration": 9,
    "start_time": "2023-05-09T13:29:30.596Z"
   },
   {
    "duration": 12,
    "start_time": "2023-05-09T13:31:39.041Z"
   },
   {
    "duration": 12,
    "start_time": "2023-05-09T13:32:06.999Z"
   },
   {
    "duration": 14,
    "start_time": "2023-05-09T13:32:36.704Z"
   },
   {
    "duration": 8,
    "start_time": "2023-05-09T13:33:25.693Z"
   },
   {
    "duration": 73,
    "start_time": "2023-05-09T13:33:49.060Z"
   },
   {
    "duration": 11,
    "start_time": "2023-05-09T13:34:06.897Z"
   },
   {
    "duration": 12,
    "start_time": "2023-05-09T13:34:15.680Z"
   },
   {
    "duration": 5,
    "start_time": "2023-05-09T13:34:21.319Z"
   },
   {
    "duration": 12,
    "start_time": "2023-05-09T13:34:31.999Z"
   },
   {
    "duration": 6,
    "start_time": "2023-05-09T13:34:37.203Z"
   },
   {
    "duration": 8,
    "start_time": "2023-05-09T13:34:56.260Z"
   },
   {
    "duration": 1207,
    "start_time": "2023-05-09T13:35:03.303Z"
   },
   {
    "duration": 7,
    "start_time": "2023-05-09T13:35:09.507Z"
   },
   {
    "duration": 7,
    "start_time": "2023-05-09T13:35:41.080Z"
   },
   {
    "duration": 13,
    "start_time": "2023-05-09T13:35:54.973Z"
   },
   {
    "duration": 12,
    "start_time": "2023-05-09T13:36:06.801Z"
   },
   {
    "duration": 7,
    "start_time": "2023-05-09T13:36:15.466Z"
   },
   {
    "duration": 7,
    "start_time": "2023-05-09T13:37:10.948Z"
   },
   {
    "duration": 8,
    "start_time": "2023-05-09T13:37:17.176Z"
   },
   {
    "duration": 15,
    "start_time": "2023-05-09T13:38:03.403Z"
   },
   {
    "duration": 11,
    "start_time": "2023-05-09T13:38:08.410Z"
   },
   {
    "duration": 8,
    "start_time": "2023-05-09T13:38:19.759Z"
   },
   {
    "duration": 412,
    "start_time": "2023-05-09T13:39:14.749Z"
   },
   {
    "duration": 9,
    "start_time": "2023-05-09T13:39:28.611Z"
   },
   {
    "duration": 10,
    "start_time": "2023-05-09T13:39:49.548Z"
   },
   {
    "duration": 4,
    "start_time": "2023-05-09T13:40:49.668Z"
   },
   {
    "duration": 39,
    "start_time": "2023-05-09T13:40:49.674Z"
   },
   {
    "duration": 11,
    "start_time": "2023-05-09T13:40:49.715Z"
   },
   {
    "duration": 13,
    "start_time": "2023-05-09T13:40:49.729Z"
   },
   {
    "duration": 11,
    "start_time": "2023-05-09T13:40:49.743Z"
   },
   {
    "duration": 455,
    "start_time": "2023-05-09T13:40:49.756Z"
   },
   {
    "duration": 30,
    "start_time": "2023-05-09T13:40:50.213Z"
   },
   {
    "duration": 26,
    "start_time": "2023-05-09T13:40:50.245Z"
   },
   {
    "duration": 11,
    "start_time": "2023-05-09T13:40:50.272Z"
   },
   {
    "duration": 11,
    "start_time": "2023-05-09T13:40:50.285Z"
   },
   {
    "duration": 10,
    "start_time": "2023-05-09T13:40:50.297Z"
   },
   {
    "duration": 16,
    "start_time": "2023-05-09T13:40:50.308Z"
   },
   {
    "duration": 12,
    "start_time": "2023-05-09T13:40:50.326Z"
   },
   {
    "duration": 12,
    "start_time": "2023-05-09T13:40:50.340Z"
   },
   {
    "duration": 14,
    "start_time": "2023-05-09T13:40:50.355Z"
   },
   {
    "duration": 6,
    "start_time": "2023-05-09T13:40:50.371Z"
   },
   {
    "duration": 13,
    "start_time": "2023-05-09T13:40:50.379Z"
   },
   {
    "duration": 8,
    "start_time": "2023-05-09T13:40:50.393Z"
   },
   {
    "duration": 11,
    "start_time": "2023-05-09T13:40:50.403Z"
   },
   {
    "duration": 5,
    "start_time": "2023-05-09T13:40:54.446Z"
   },
   {
    "duration": 7,
    "start_time": "2023-05-09T13:40:55.092Z"
   },
   {
    "duration": 14,
    "start_time": "2023-05-09T13:40:57.453Z"
   },
   {
    "duration": 9,
    "start_time": "2023-05-09T13:41:13.038Z"
   },
   {
    "duration": 381,
    "start_time": "2023-05-09T13:41:19.396Z"
   },
   {
    "duration": 13,
    "start_time": "2023-05-09T13:41:42.179Z"
   },
   {
    "duration": 10,
    "start_time": "2023-05-09T13:41:50.669Z"
   },
   {
    "duration": 4,
    "start_time": "2023-05-09T13:41:58.324Z"
   },
   {
    "duration": 62,
    "start_time": "2023-05-09T13:41:58.331Z"
   },
   {
    "duration": 11,
    "start_time": "2023-05-09T13:41:58.395Z"
   },
   {
    "duration": 24,
    "start_time": "2023-05-09T13:41:58.408Z"
   },
   {
    "duration": 19,
    "start_time": "2023-05-09T13:41:58.434Z"
   },
   {
    "duration": 479,
    "start_time": "2023-05-09T13:41:58.455Z"
   },
   {
    "duration": 32,
    "start_time": "2023-05-09T13:41:58.936Z"
   },
   {
    "duration": 15,
    "start_time": "2023-05-09T13:41:58.970Z"
   },
   {
    "duration": 10,
    "start_time": "2023-05-09T13:41:58.988Z"
   },
   {
    "duration": 13,
    "start_time": "2023-05-09T13:41:59.000Z"
   },
   {
    "duration": 14,
    "start_time": "2023-05-09T13:41:59.015Z"
   },
   {
    "duration": 6,
    "start_time": "2023-05-09T13:41:59.030Z"
   },
   {
    "duration": 9,
    "start_time": "2023-05-09T13:41:59.056Z"
   },
   {
    "duration": 11,
    "start_time": "2023-05-09T13:41:59.066Z"
   },
   {
    "duration": 24,
    "start_time": "2023-05-09T13:41:59.080Z"
   },
   {
    "duration": 11,
    "start_time": "2023-05-09T13:41:59.106Z"
   },
   {
    "duration": 6,
    "start_time": "2023-05-09T13:41:59.119Z"
   },
   {
    "duration": 30,
    "start_time": "2023-05-09T13:41:59.127Z"
   },
   {
    "duration": 16,
    "start_time": "2023-05-09T13:41:59.159Z"
   },
   {
    "duration": 5,
    "start_time": "2023-05-09T13:41:59.176Z"
   },
   {
    "duration": 24,
    "start_time": "2023-05-09T13:41:59.183Z"
   },
   {
    "duration": 435,
    "start_time": "2023-05-09T13:41:59.208Z"
   },
   {
    "duration": 17,
    "start_time": "2023-05-09T13:41:59.645Z"
   },
   {
    "duration": 10,
    "start_time": "2023-05-09T13:42:04.506Z"
   },
   {
    "duration": 9,
    "start_time": "2023-05-09T13:42:05.577Z"
   },
   {
    "duration": 8,
    "start_time": "2023-05-09T13:42:13.763Z"
   },
   {
    "duration": 14,
    "start_time": "2023-05-09T13:43:04.346Z"
   },
   {
    "duration": 8,
    "start_time": "2023-05-09T13:43:21.578Z"
   },
   {
    "duration": 9,
    "start_time": "2023-05-09T13:43:25.728Z"
   },
   {
    "duration": 15,
    "start_time": "2023-05-09T13:44:16.113Z"
   },
   {
    "duration": 1269,
    "start_time": "2023-05-09T13:44:35.377Z"
   },
   {
    "duration": 16,
    "start_time": "2023-05-09T13:45:04.431Z"
   },
   {
    "duration": 4,
    "start_time": "2023-05-09T13:46:05.380Z"
   },
   {
    "duration": 24,
    "start_time": "2023-05-09T13:46:08.200Z"
   },
   {
    "duration": 11,
    "start_time": "2023-05-09T13:46:23.700Z"
   },
   {
    "duration": 16,
    "start_time": "2023-05-09T13:46:29.273Z"
   },
   {
    "duration": 17,
    "start_time": "2023-05-09T13:46:47.270Z"
   },
   {
    "duration": 5,
    "start_time": "2023-05-09T13:47:24.644Z"
   },
   {
    "duration": 8,
    "start_time": "2023-05-09T13:47:25.232Z"
   },
   {
    "duration": 391,
    "start_time": "2023-05-09T13:47:26.113Z"
   },
   {
    "duration": 11,
    "start_time": "2023-05-09T13:47:30.240Z"
   },
   {
    "duration": 9,
    "start_time": "2023-05-09T13:47:31.781Z"
   },
   {
    "duration": 10,
    "start_time": "2023-05-09T13:48:12.680Z"
   },
   {
    "duration": 8,
    "start_time": "2023-05-09T13:48:18.833Z"
   },
   {
    "duration": 8,
    "start_time": "2023-05-09T13:49:38.335Z"
   },
   {
    "duration": 408,
    "start_time": "2023-05-09T13:49:40.337Z"
   },
   {
    "duration": 420,
    "start_time": "2023-05-09T13:50:19.988Z"
   },
   {
    "duration": 506,
    "start_time": "2023-05-09T13:54:33.861Z"
   },
   {
    "duration": 11,
    "start_time": "2023-05-09T13:54:40.870Z"
   },
   {
    "duration": 9,
    "start_time": "2023-05-09T13:54:42.631Z"
   },
   {
    "duration": 12,
    "start_time": "2023-05-09T13:55:17.501Z"
   },
   {
    "duration": 410,
    "start_time": "2023-05-09T13:55:25.881Z"
   },
   {
    "duration": 12,
    "start_time": "2023-05-09T13:56:17.902Z"
   },
   {
    "duration": 371,
    "start_time": "2023-05-09T13:56:18.541Z"
   },
   {
    "duration": 11,
    "start_time": "2023-05-09T13:56:25.545Z"
   },
   {
    "duration": 10,
    "start_time": "2023-05-09T13:56:27.100Z"
   },
   {
    "duration": 17,
    "start_time": "2023-05-09T14:00:41.338Z"
   },
   {
    "duration": 391,
    "start_time": "2023-05-09T14:00:45.632Z"
   },
   {
    "duration": 11,
    "start_time": "2023-05-09T14:01:38.676Z"
   },
   {
    "duration": 11,
    "start_time": "2023-05-09T14:01:49.178Z"
   },
   {
    "duration": 12,
    "start_time": "2023-05-09T14:01:59.279Z"
   },
   {
    "duration": 12,
    "start_time": "2023-05-09T14:02:01.805Z"
   },
   {
    "duration": 11,
    "start_time": "2023-05-09T14:02:05.893Z"
   },
   {
    "duration": 28,
    "start_time": "2023-05-09T14:02:05.905Z"
   },
   {
    "duration": 17,
    "start_time": "2023-05-09T14:02:05.934Z"
   },
   {
    "duration": 166,
    "start_time": "2023-05-09T14:02:05.953Z"
   },
   {
    "duration": 128,
    "start_time": "2023-05-09T14:02:06.121Z"
   },
   {
    "duration": 16,
    "start_time": "2023-05-09T14:02:06.251Z"
   },
   {
    "duration": 16,
    "start_time": "2023-05-09T14:02:06.268Z"
   },
   {
    "duration": 226,
    "start_time": "2023-05-09T14:02:06.286Z"
   },
   {
    "duration": 216,
    "start_time": "2023-05-09T14:02:06.515Z"
   },
   {
    "duration": 372,
    "start_time": "2023-05-09T14:02:06.732Z"
   },
   {
    "duration": 317,
    "start_time": "2023-05-09T14:02:07.106Z"
   },
   {
    "duration": 364,
    "start_time": "2023-05-09T14:02:07.425Z"
   },
   {
    "duration": 10,
    "start_time": "2023-05-09T14:02:07.790Z"
   },
   {
    "duration": 177,
    "start_time": "2023-05-09T14:02:07.803Z"
   },
   {
    "duration": 4,
    "start_time": "2023-05-09T14:02:07.982Z"
   },
   {
    "duration": 271,
    "start_time": "2023-05-09T14:02:07.987Z"
   },
   {
    "duration": 5,
    "start_time": "2023-05-09T14:02:08.259Z"
   },
   {
    "duration": 12,
    "start_time": "2023-05-09T14:02:08.265Z"
   },
   {
    "duration": 52,
    "start_time": "2023-05-09T14:02:08.278Z"
   },
   {
    "duration": 27,
    "start_time": "2023-05-09T14:02:08.332Z"
   },
   {
    "duration": 47,
    "start_time": "2023-05-09T14:02:08.361Z"
   },
   {
    "duration": 17,
    "start_time": "2023-05-09T14:02:08.410Z"
   },
   {
    "duration": 66,
    "start_time": "2023-05-09T14:02:08.429Z"
   },
   {
    "duration": 16,
    "start_time": "2023-05-09T14:02:08.497Z"
   },
   {
    "duration": 74,
    "start_time": "2023-05-09T14:02:08.515Z"
   },
   {
    "duration": 27,
    "start_time": "2023-05-09T14:02:08.591Z"
   },
   {
    "duration": 124,
    "start_time": "2023-05-09T14:02:08.620Z"
   },
   {
    "duration": 14,
    "start_time": "2023-05-09T14:02:08.745Z"
   },
   {
    "duration": 35,
    "start_time": "2023-05-09T14:02:08.761Z"
   },
   {
    "duration": 10,
    "start_time": "2023-05-09T14:02:08.798Z"
   },
   {
    "duration": 10,
    "start_time": "2023-05-09T14:02:08.810Z"
   },
   {
    "duration": 20,
    "start_time": "2023-05-09T14:02:08.822Z"
   },
   {
    "duration": 25,
    "start_time": "2023-05-09T14:02:08.843Z"
   },
   {
    "duration": 13,
    "start_time": "2023-05-09T14:02:08.869Z"
   },
   {
    "duration": 8,
    "start_time": "2023-05-09T14:05:13.517Z"
   },
   {
    "duration": 9,
    "start_time": "2023-05-09T14:05:20.267Z"
   },
   {
    "duration": 10,
    "start_time": "2023-05-09T14:05:20.278Z"
   },
   {
    "duration": 28,
    "start_time": "2023-05-09T14:05:20.289Z"
   },
   {
    "duration": 15,
    "start_time": "2023-05-09T14:05:20.319Z"
   },
   {
    "duration": 9,
    "start_time": "2023-05-09T14:05:31.242Z"
   },
   {
    "duration": 1237,
    "start_time": "2023-05-10T11:36:51.618Z"
   },
   {
    "duration": 90,
    "start_time": "2023-05-10T11:36:52.857Z"
   },
   {
    "duration": 10,
    "start_time": "2023-05-10T11:36:52.949Z"
   },
   {
    "duration": 14,
    "start_time": "2023-05-10T11:36:52.961Z"
   },
   {
    "duration": 30,
    "start_time": "2023-05-10T11:36:52.976Z"
   },
   {
    "duration": 459,
    "start_time": "2023-05-10T11:36:53.007Z"
   },
   {
    "duration": 89,
    "start_time": "2023-05-10T11:36:53.468Z"
   },
   {
    "duration": 62,
    "start_time": "2023-05-10T11:36:53.559Z"
   },
   {
    "duration": 10,
    "start_time": "2023-05-10T11:36:53.622Z"
   },
   {
    "duration": 11,
    "start_time": "2023-05-10T11:36:53.635Z"
   },
   {
    "duration": 9,
    "start_time": "2023-05-10T11:36:53.647Z"
   },
   {
    "duration": 5,
    "start_time": "2023-05-10T11:36:53.657Z"
   },
   {
    "duration": 10,
    "start_time": "2023-05-10T11:36:53.663Z"
   },
   {
    "duration": 14,
    "start_time": "2023-05-10T11:36:53.674Z"
   },
   {
    "duration": 9,
    "start_time": "2023-05-10T11:36:53.689Z"
   },
   {
    "duration": 11,
    "start_time": "2023-05-10T11:36:53.699Z"
   },
   {
    "duration": 6,
    "start_time": "2023-05-10T11:36:53.711Z"
   },
   {
    "duration": 3,
    "start_time": "2023-05-10T11:36:53.734Z"
   },
   {
    "duration": 15,
    "start_time": "2023-05-10T11:36:53.739Z"
   },
   {
    "duration": 4,
    "start_time": "2023-05-10T11:36:53.755Z"
   },
   {
    "duration": 18,
    "start_time": "2023-05-10T11:36:53.761Z"
   },
   {
    "duration": 355,
    "start_time": "2023-05-10T11:36:53.781Z"
   },
   {
    "duration": 8,
    "start_time": "2023-05-10T11:36:54.138Z"
   },
   {
    "duration": 13,
    "start_time": "2023-05-10T11:36:54.147Z"
   },
   {
    "duration": 16,
    "start_time": "2023-05-10T11:36:54.161Z"
   },
   {
    "duration": 7,
    "start_time": "2023-05-10T11:36:54.179Z"
   },
   {
    "duration": 8,
    "start_time": "2023-05-10T11:36:54.187Z"
   },
   {
    "duration": 176,
    "start_time": "2023-05-10T11:36:54.198Z"
   },
   {
    "duration": 128,
    "start_time": "2023-05-10T11:36:54.376Z"
   },
   {
    "duration": 11,
    "start_time": "2023-05-10T11:36:54.505Z"
   },
   {
    "duration": 31,
    "start_time": "2023-05-10T11:36:54.518Z"
   },
   {
    "duration": 275,
    "start_time": "2023-05-10T11:36:54.551Z"
   },
   {
    "duration": 263,
    "start_time": "2023-05-10T11:36:54.834Z"
   },
   {
    "duration": 401,
    "start_time": "2023-05-10T11:36:55.098Z"
   },
   {
    "duration": 235,
    "start_time": "2023-05-10T11:36:55.501Z"
   },
   {
    "duration": 338,
    "start_time": "2023-05-10T11:36:55.738Z"
   },
   {
    "duration": 12,
    "start_time": "2023-05-10T11:36:56.078Z"
   },
   {
    "duration": 181,
    "start_time": "2023-05-10T11:36:56.091Z"
   },
   {
    "duration": 5,
    "start_time": "2023-05-10T11:36:56.274Z"
   },
   {
    "duration": 343,
    "start_time": "2023-05-10T11:36:56.281Z"
   },
   {
    "duration": 5,
    "start_time": "2023-05-10T11:36:56.634Z"
   },
   {
    "duration": 18,
    "start_time": "2023-05-10T11:36:56.641Z"
   },
   {
    "duration": 48,
    "start_time": "2023-05-10T11:36:56.661Z"
   },
   {
    "duration": 10,
    "start_time": "2023-05-10T11:36:56.712Z"
   },
   {
    "duration": 48,
    "start_time": "2023-05-10T11:36:56.734Z"
   },
   {
    "duration": 20,
    "start_time": "2023-05-10T11:36:56.784Z"
   },
   {
    "duration": 57,
    "start_time": "2023-05-10T11:36:56.806Z"
   },
   {
    "duration": 18,
    "start_time": "2023-05-10T11:36:56.865Z"
   },
   {
    "duration": 66,
    "start_time": "2023-05-10T11:36:56.884Z"
   },
   {
    "duration": 28,
    "start_time": "2023-05-10T11:36:56.952Z"
   },
   {
    "duration": 136,
    "start_time": "2023-05-10T11:36:56.982Z"
   },
   {
    "duration": 18,
    "start_time": "2023-05-10T11:36:57.119Z"
   },
   {
    "duration": 30,
    "start_time": "2023-05-10T11:36:57.138Z"
   },
   {
    "duration": 9,
    "start_time": "2023-05-10T11:36:57.169Z"
   },
   {
    "duration": 9,
    "start_time": "2023-05-10T11:36:57.179Z"
   },
   {
    "duration": 16,
    "start_time": "2023-05-10T11:36:57.190Z"
   },
   {
    "duration": 29,
    "start_time": "2023-05-10T11:36:57.207Z"
   },
   {
    "duration": 18,
    "start_time": "2023-05-10T11:36:57.238Z"
   },
   {
    "duration": 22,
    "start_time": "2023-05-10T11:43:43.995Z"
   },
   {
    "duration": 23,
    "start_time": "2023-05-10T11:50:27.630Z"
   },
   {
    "duration": 87,
    "start_time": "2023-05-10T11:52:27.388Z"
   },
   {
    "duration": 12,
    "start_time": "2023-05-10T11:52:33.497Z"
   },
   {
    "duration": 193,
    "start_time": "2023-05-10T11:53:56.490Z"
   },
   {
    "duration": 6,
    "start_time": "2023-05-10T11:54:00.658Z"
   },
   {
    "duration": 7,
    "start_time": "2023-05-10T11:54:19.944Z"
   },
   {
    "duration": 5,
    "start_time": "2023-05-10T11:54:37.184Z"
   },
   {
    "duration": 5,
    "start_time": "2023-05-10T12:00:20.006Z"
   },
   {
    "duration": 22,
    "start_time": "2023-05-10T12:02:09.354Z"
   },
   {
    "duration": 5,
    "start_time": "2023-05-10T12:03:18.109Z"
   },
   {
    "duration": 4,
    "start_time": "2023-05-10T12:03:24.819Z"
   },
   {
    "duration": 3,
    "start_time": "2023-05-10T12:05:59.337Z"
   },
   {
    "duration": 42,
    "start_time": "2023-05-10T12:05:59.342Z"
   },
   {
    "duration": 11,
    "start_time": "2023-05-10T12:05:59.386Z"
   },
   {
    "duration": 33,
    "start_time": "2023-05-10T12:05:59.399Z"
   },
   {
    "duration": 20,
    "start_time": "2023-05-10T12:05:59.435Z"
   },
   {
    "duration": 500,
    "start_time": "2023-05-10T12:05:59.457Z"
   },
   {
    "duration": 38,
    "start_time": "2023-05-10T12:05:59.959Z"
   },
   {
    "duration": 17,
    "start_time": "2023-05-10T12:05:59.999Z"
   },
   {
    "duration": 39,
    "start_time": "2023-05-10T12:06:00.018Z"
   },
   {
    "duration": 18,
    "start_time": "2023-05-10T12:06:00.059Z"
   },
   {
    "duration": 8,
    "start_time": "2023-05-10T12:06:00.081Z"
   },
   {
    "duration": 12,
    "start_time": "2023-05-10T12:06:00.091Z"
   },
   {
    "duration": 22,
    "start_time": "2023-05-10T12:06:00.104Z"
   },
   {
    "duration": 25,
    "start_time": "2023-05-10T12:06:00.127Z"
   },
   {
    "duration": 29,
    "start_time": "2023-05-10T12:06:00.154Z"
   },
   {
    "duration": 8,
    "start_time": "2023-05-10T12:06:00.185Z"
   },
   {
    "duration": 24,
    "start_time": "2023-05-10T12:06:00.195Z"
   },
   {
    "duration": 11,
    "start_time": "2023-05-10T12:06:00.221Z"
   },
   {
    "duration": 29,
    "start_time": "2023-05-10T12:06:00.234Z"
   },
   {
    "duration": 5,
    "start_time": "2023-05-10T12:06:00.265Z"
   },
   {
    "duration": 34,
    "start_time": "2023-05-10T12:06:00.271Z"
   },
   {
    "duration": 361,
    "start_time": "2023-05-10T12:06:00.307Z"
   },
   {
    "duration": 11,
    "start_time": "2023-05-10T12:06:00.670Z"
   },
   {
    "duration": 87,
    "start_time": "2023-05-10T12:06:00.683Z"
   },
   {
    "duration": 39,
    "start_time": "2023-05-10T12:06:00.772Z"
   },
   {
    "duration": 41,
    "start_time": "2023-05-10T12:06:00.813Z"
   },
   {
    "duration": 42,
    "start_time": "2023-05-10T12:06:00.856Z"
   },
   {
    "duration": 214,
    "start_time": "2023-05-10T12:06:00.900Z"
   },
   {
    "duration": 139,
    "start_time": "2023-05-10T12:06:01.117Z"
   },
   {
    "duration": 15,
    "start_time": "2023-05-10T12:06:01.258Z"
   },
   {
    "duration": 59,
    "start_time": "2023-05-10T12:06:01.275Z"
   },
   {
    "duration": 262,
    "start_time": "2023-05-10T12:06:01.336Z"
   },
   {
    "duration": 223,
    "start_time": "2023-05-10T12:06:01.600Z"
   },
   {
    "duration": 380,
    "start_time": "2023-05-10T12:06:01.825Z"
   },
   {
    "duration": 261,
    "start_time": "2023-05-10T12:06:02.206Z"
   },
   {
    "duration": 345,
    "start_time": "2023-05-10T12:06:02.469Z"
   },
   {
    "duration": 20,
    "start_time": "2023-05-10T12:06:02.815Z"
   },
   {
    "duration": 194,
    "start_time": "2023-05-10T12:06:02.837Z"
   },
   {
    "duration": 4,
    "start_time": "2023-05-10T12:06:03.033Z"
   },
   {
    "duration": 289,
    "start_time": "2023-05-10T12:06:03.038Z"
   },
   {
    "duration": 5,
    "start_time": "2023-05-10T12:06:03.334Z"
   },
   {
    "duration": 28,
    "start_time": "2023-05-10T12:06:03.341Z"
   },
   {
    "duration": 143,
    "start_time": "2023-05-10T12:06:03.371Z"
   },
   {
    "duration": 15,
    "start_time": "2023-05-10T12:06:03.516Z"
   },
   {
    "duration": 46,
    "start_time": "2023-05-10T12:06:03.533Z"
   },
   {
    "duration": 17,
    "start_time": "2023-05-10T12:06:03.581Z"
   },
   {
    "duration": 68,
    "start_time": "2023-05-10T12:06:03.600Z"
   },
   {
    "duration": 45,
    "start_time": "2023-05-10T12:06:03.670Z"
   },
   {
    "duration": 55,
    "start_time": "2023-05-10T12:06:03.716Z"
   },
   {
    "duration": 34,
    "start_time": "2023-05-10T12:06:03.774Z"
   },
   {
    "duration": 117,
    "start_time": "2023-05-10T12:06:03.809Z"
   },
   {
    "duration": 10,
    "start_time": "2023-05-10T12:06:03.928Z"
   },
   {
    "duration": 13,
    "start_time": "2023-05-10T12:06:03.939Z"
   },
   {
    "duration": 35,
    "start_time": "2023-05-10T12:06:03.953Z"
   },
   {
    "duration": 9,
    "start_time": "2023-05-10T12:06:03.990Z"
   },
   {
    "duration": 34,
    "start_time": "2023-05-10T12:06:04.001Z"
   },
   {
    "duration": 28,
    "start_time": "2023-05-10T12:06:04.037Z"
   },
   {
    "duration": 6,
    "start_time": "2023-05-10T12:06:37.965Z"
   },
   {
    "duration": 35,
    "start_time": "2023-05-10T12:08:02.100Z"
   },
   {
    "duration": 13,
    "start_time": "2023-05-10T12:11:17.928Z"
   },
   {
    "duration": 1297,
    "start_time": "2023-05-10T12:19:57.498Z"
   },
   {
    "duration": 34,
    "start_time": "2023-05-10T12:19:58.797Z"
   },
   {
    "duration": 10,
    "start_time": "2023-05-10T12:19:58.833Z"
   },
   {
    "duration": 10,
    "start_time": "2023-05-10T12:19:58.844Z"
   },
   {
    "duration": 11,
    "start_time": "2023-05-10T12:19:58.855Z"
   },
   {
    "duration": 460,
    "start_time": "2023-05-10T12:19:58.867Z"
   },
   {
    "duration": 38,
    "start_time": "2023-05-10T12:19:59.328Z"
   },
   {
    "duration": 16,
    "start_time": "2023-05-10T12:19:59.367Z"
   },
   {
    "duration": 12,
    "start_time": "2023-05-10T12:19:59.384Z"
   },
   {
    "duration": 12,
    "start_time": "2023-05-10T12:19:59.397Z"
   },
   {
    "duration": 13,
    "start_time": "2023-05-10T12:19:59.411Z"
   },
   {
    "duration": 8,
    "start_time": "2023-05-10T12:19:59.425Z"
   },
   {
    "duration": 12,
    "start_time": "2023-05-10T12:19:59.435Z"
   },
   {
    "duration": 13,
    "start_time": "2023-05-10T12:19:59.451Z"
   },
   {
    "duration": 12,
    "start_time": "2023-05-10T12:19:59.466Z"
   },
   {
    "duration": 12,
    "start_time": "2023-05-10T12:19:59.480Z"
   },
   {
    "duration": 10,
    "start_time": "2023-05-10T12:19:59.493Z"
   },
   {
    "duration": 9,
    "start_time": "2023-05-10T12:19:59.504Z"
   },
   {
    "duration": 26,
    "start_time": "2023-05-10T12:19:59.515Z"
   },
   {
    "duration": 5,
    "start_time": "2023-05-10T12:19:59.543Z"
   },
   {
    "duration": 25,
    "start_time": "2023-05-10T12:19:59.549Z"
   },
   {
    "duration": 378,
    "start_time": "2023-05-10T12:19:59.576Z"
   },
   {
    "duration": 8,
    "start_time": "2023-05-10T12:19:59.955Z"
   },
   {
    "duration": 29,
    "start_time": "2023-05-10T12:19:59.965Z"
   },
   {
    "duration": 12,
    "start_time": "2023-05-10T12:19:59.996Z"
   },
   {
    "duration": 33,
    "start_time": "2023-05-10T12:20:00.009Z"
   },
   {
    "duration": 33,
    "start_time": "2023-05-10T12:20:00.044Z"
   },
   {
    "duration": 161,
    "start_time": "2023-05-10T12:20:00.079Z"
   },
   {
    "duration": 132,
    "start_time": "2023-05-10T12:20:00.241Z"
   },
   {
    "duration": 29,
    "start_time": "2023-05-10T12:20:00.375Z"
   },
   {
    "duration": 51,
    "start_time": "2023-05-10T12:20:00.406Z"
   },
   {
    "duration": 332,
    "start_time": "2023-05-10T12:20:00.459Z"
   },
   {
    "duration": 243,
    "start_time": "2023-05-10T12:20:00.793Z"
   },
   {
    "duration": 368,
    "start_time": "2023-05-10T12:20:01.038Z"
   },
   {
    "duration": 234,
    "start_time": "2023-05-10T12:20:01.407Z"
   },
   {
    "duration": 339,
    "start_time": "2023-05-10T12:20:01.643Z"
   },
   {
    "duration": 10,
    "start_time": "2023-05-10T12:20:01.984Z"
   },
   {
    "duration": 240,
    "start_time": "2023-05-10T12:20:01.996Z"
   },
   {
    "duration": 5,
    "start_time": "2023-05-10T12:20:02.238Z"
   },
   {
    "duration": 406,
    "start_time": "2023-05-10T12:20:02.244Z"
   },
   {
    "duration": 5,
    "start_time": "2023-05-10T12:20:02.654Z"
   },
   {
    "duration": 17,
    "start_time": "2023-05-10T12:20:02.661Z"
   },
   {
    "duration": 113,
    "start_time": "2023-05-10T12:20:02.680Z"
   },
   {
    "duration": 13,
    "start_time": "2023-05-10T12:20:02.795Z"
   },
   {
    "duration": 73,
    "start_time": "2023-05-10T12:20:02.810Z"
   },
   {
    "duration": 27,
    "start_time": "2023-05-10T12:20:02.885Z"
   },
   {
    "duration": 63,
    "start_time": "2023-05-10T12:20:02.914Z"
   },
   {
    "duration": 48,
    "start_time": "2023-05-10T12:20:02.979Z"
   },
   {
    "duration": 81,
    "start_time": "2023-05-10T12:20:03.029Z"
   },
   {
    "duration": 47,
    "start_time": "2023-05-10T12:20:03.113Z"
   },
   {
    "duration": 176,
    "start_time": "2023-05-10T12:20:03.162Z"
   },
   {
    "duration": 7,
    "start_time": "2023-05-10T12:20:03.340Z"
   },
   {
    "duration": 29,
    "start_time": "2023-05-10T12:20:03.349Z"
   },
   {
    "duration": 24,
    "start_time": "2023-05-10T12:20:03.380Z"
   },
   {
    "duration": 9,
    "start_time": "2023-05-10T12:20:03.406Z"
   },
   {
    "duration": 25,
    "start_time": "2023-05-10T12:20:03.417Z"
   },
   {
    "duration": 18,
    "start_time": "2023-05-10T12:20:03.443Z"
   },
   {
    "duration": 6,
    "start_time": "2023-05-10T12:20:03.463Z"
   },
   {
    "duration": 25,
    "start_time": "2023-05-10T12:20:03.470Z"
   },
   {
    "duration": 12,
    "start_time": "2023-05-10T12:20:03.496Z"
   },
   {
    "duration": 1508,
    "start_time": "2023-05-10T19:32:20.795Z"
   },
   {
    "duration": 127,
    "start_time": "2023-05-10T19:32:22.306Z"
   },
   {
    "duration": 20,
    "start_time": "2023-05-10T19:32:22.435Z"
   },
   {
    "duration": 52,
    "start_time": "2023-05-10T19:32:22.458Z"
   },
   {
    "duration": 46,
    "start_time": "2023-05-10T19:32:22.513Z"
   },
   {
    "duration": 624,
    "start_time": "2023-05-10T19:32:22.561Z"
   },
   {
    "duration": 135,
    "start_time": "2023-05-10T19:32:23.188Z"
   },
   {
    "duration": 113,
    "start_time": "2023-05-10T19:32:23.326Z"
   },
   {
    "duration": 18,
    "start_time": "2023-05-10T19:32:23.442Z"
   },
   {
    "duration": 61,
    "start_time": "2023-05-10T19:32:23.462Z"
   },
   {
    "duration": 21,
    "start_time": "2023-05-10T19:32:23.526Z"
   },
   {
    "duration": 10,
    "start_time": "2023-05-10T19:32:23.550Z"
   },
   {
    "duration": 81,
    "start_time": "2023-05-10T19:32:23.562Z"
   },
   {
    "duration": 15,
    "start_time": "2023-05-10T19:32:23.648Z"
   },
   {
    "duration": 58,
    "start_time": "2023-05-10T19:32:23.666Z"
   },
   {
    "duration": 56,
    "start_time": "2023-05-10T19:32:23.726Z"
   },
   {
    "duration": 54,
    "start_time": "2023-05-10T19:32:23.784Z"
   },
   {
    "duration": 14,
    "start_time": "2023-05-10T19:32:23.840Z"
   },
   {
    "duration": 52,
    "start_time": "2023-05-10T19:32:23.856Z"
   },
   {
    "duration": 16,
    "start_time": "2023-05-10T19:32:23.910Z"
   },
   {
    "duration": 55,
    "start_time": "2023-05-10T19:32:23.928Z"
   },
   {
    "duration": 508,
    "start_time": "2023-05-10T19:32:23.985Z"
   },
   {
    "duration": 12,
    "start_time": "2023-05-10T19:32:24.497Z"
   },
   {
    "duration": 37,
    "start_time": "2023-05-10T19:32:24.511Z"
   },
   {
    "duration": 42,
    "start_time": "2023-05-10T19:32:24.551Z"
   },
   {
    "duration": 13,
    "start_time": "2023-05-10T19:32:24.595Z"
   },
   {
    "duration": 23,
    "start_time": "2023-05-10T19:32:24.610Z"
   },
   {
    "duration": 193,
    "start_time": "2023-05-10T19:32:24.635Z"
   },
   {
    "duration": 147,
    "start_time": "2023-05-10T19:32:24.832Z"
   },
   {
    "duration": 18,
    "start_time": "2023-05-10T19:32:24.985Z"
   },
   {
    "duration": 10,
    "start_time": "2023-05-10T19:32:25.005Z"
   },
   {
    "duration": 371,
    "start_time": "2023-05-10T19:32:25.020Z"
   },
   {
    "duration": 272,
    "start_time": "2023-05-10T19:32:25.393Z"
   },
   {
    "duration": 418,
    "start_time": "2023-05-10T19:32:25.667Z"
   },
   {
    "duration": 271,
    "start_time": "2023-05-10T19:32:26.090Z"
   },
   {
    "duration": 505,
    "start_time": "2023-05-10T19:32:26.375Z"
   },
   {
    "duration": 14,
    "start_time": "2023-05-10T19:32:26.888Z"
   },
   {
    "duration": 232,
    "start_time": "2023-05-10T19:32:26.904Z"
   },
   {
    "duration": 5,
    "start_time": "2023-05-10T19:32:27.138Z"
   },
   {
    "duration": 484,
    "start_time": "2023-05-10T19:32:27.145Z"
   },
   {
    "duration": 6,
    "start_time": "2023-05-10T19:32:27.634Z"
   },
   {
    "duration": 53,
    "start_time": "2023-05-10T19:32:27.642Z"
   },
   {
    "duration": 74,
    "start_time": "2023-05-10T19:32:27.698Z"
   },
   {
    "duration": 30,
    "start_time": "2023-05-10T19:32:27.783Z"
   },
   {
    "duration": 100,
    "start_time": "2023-05-10T19:32:27.816Z"
   },
   {
    "duration": 30,
    "start_time": "2023-05-10T19:32:27.918Z"
   },
   {
    "duration": 87,
    "start_time": "2023-05-10T19:32:27.950Z"
   },
   {
    "duration": 118,
    "start_time": "2023-05-10T19:32:28.039Z"
   },
   {
    "duration": 78,
    "start_time": "2023-05-10T19:32:28.159Z"
   },
   {
    "duration": 54,
    "start_time": "2023-05-10T19:32:28.239Z"
   },
   {
    "duration": 198,
    "start_time": "2023-05-10T19:32:28.295Z"
   },
   {
    "duration": 9,
    "start_time": "2023-05-10T19:32:28.496Z"
   },
   {
    "duration": 33,
    "start_time": "2023-05-10T19:32:28.509Z"
   },
   {
    "duration": 26,
    "start_time": "2023-05-10T19:32:28.545Z"
   },
   {
    "duration": 13,
    "start_time": "2023-05-10T19:32:28.573Z"
   },
   {
    "duration": 17,
    "start_time": "2023-05-10T19:32:28.593Z"
   },
   {
    "duration": 37,
    "start_time": "2023-05-10T19:32:28.612Z"
   },
   {
    "duration": 8,
    "start_time": "2023-05-10T19:32:28.652Z"
   },
   {
    "duration": 42,
    "start_time": "2023-05-10T19:32:28.661Z"
   },
   {
    "duration": 15,
    "start_time": "2023-05-10T19:32:28.704Z"
   }
  ],
  "kernelspec": {
   "display_name": "Python 3 (ipykernel)",
   "language": "python",
   "name": "python3"
  },
  "language_info": {
   "codemirror_mode": {
    "name": "ipython",
    "version": 3
   },
   "file_extension": ".py",
   "mimetype": "text/x-python",
   "name": "python",
   "nbconvert_exporter": "python",
   "pygments_lexer": "ipython3",
   "version": "3.9.12"
  },
  "toc": {
   "base_numbering": 1,
   "nav_menu": {},
   "number_sections": true,
   "sideBar": true,
   "skip_h1_title": true,
   "title_cell": "Table of Contents",
   "title_sidebar": "Contents",
   "toc_cell": false,
   "toc_position": {
    "height": "calc(100% - 180px)",
    "left": "10px",
    "top": "150px",
    "width": "399px"
   },
   "toc_section_display": true,
   "toc_window_display": false
  }
 },
 "nbformat": 4,
 "nbformat_minor": 2
}
