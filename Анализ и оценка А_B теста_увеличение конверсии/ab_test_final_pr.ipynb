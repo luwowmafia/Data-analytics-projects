{
 "cells": [
  {
   "cell_type": "markdown",
   "metadata": {},
   "source": [
    "# Анализ и оценка результатов A/B-теста"
   ]
  },
  {
   "cell_type": "markdown",
   "metadata": {},
   "source": [
    "В нашем распоряжении есть датасет с действиями пользователей, техническое задание и несколько вспомогательных датасетов.\n",
    "\n",
    "Задачи проекта:\n",
    "* оценить корректность проведения теста\n",
    "* проанализировать результаты теста"
   ]
  },
  {
   "cell_type": "markdown",
   "metadata": {},
   "source": [
    "СОДЕРЖАНИЕ\n",
    "\n",
    "Шаг 1. Техническое задание и описание данных\n",
    "\n",
    "Шаг 2. Загрузка данных и предобработка данных\n",
    "\n",
    "Шаг 3. Проверка соотетствия техническому заданию\n",
    "\n",
    "    3.1 Проверка дат\n",
    "    3.2 Количество пользователей в тесте\n",
    "    3.3 Пересечение в проводимых теста\n",
    "    3.4 Маркетинговые события\n",
    "    3.5 События пользователей\n",
    "    3.6 Выводы\n",
    "\n",
    "Шаг 4. Исследовательский анализ данных\n",
    "\n",
    "    4.1 Похожесть групп\n",
    "        4.1.1 Количество событий\n",
    "        4.1.2 Регистрация пользователей по датам\n",
    "        4.1.3 Распределение по устройствам\n",
    "        4.1.4 График кумулятивной выручки по группам\n",
    "        4.1.5 График кумулятивного среднего чека по группам\n",
    "        4.1.6 График кумулятивного среднего количества заказов на пользователя по группам\n",
    "    4.2 Воронка\n",
    "    4.3 Выводы\n",
    "\n",
    "Шаг 5. Оценка результатов A/B-тестирования\n",
    "\n",
    "    5.1 Результаты A/В-тестирования\n",
    "    5.2 Проверка статистической разницы долей\n",
    "    5.3 Выводы\n",
    "\n",
    "Шаг 6. Выводы и рекомендации\n",
    "\n",
    "\n",
    "\n",
    "======="
   ]
  },
  {
   "cell_type": "markdown",
   "metadata": {},
   "source": [
    "## Техническое задание и описание данных"
   ]
  },
  {
   "cell_type": "markdown",
   "metadata": {},
   "source": [
    "### Техническое задание\n",
    "\n",
    "* Название теста: recommender_system_test;\n",
    "* Группы: А (контрольная), B (новая платёжная воронка);\n",
    "* Дата запуска: 2020-12-07;\n",
    "* Дата остановки набора новых пользователей: 2020-12-21;\n",
    "* Дата остановки: 2021-01-04;\n",
    "* Аудитория: 15% новых пользователей из региона EU;\n",
    "* Назначение теста: тестирование изменений, связанных с внедрением улучшенной рекомендательной системы;\n",
    "* Ожидаемое количество участников теста: 6000.\n",
    "* Ожидаемый эффект: за 14 дней с момента регистрации в системе пользователи покажут улучшение каждой метрики не менее, чем на 10%:\n",
    "    * конверсии в просмотр карточек товаров — событие product_page\n",
    "    * просмотры корзины — product_cart\n",
    "    * покупки — purchase."
   ]
  },
  {
   "cell_type": "markdown",
   "metadata": {},
   "source": [
    "### Описание данных\n",
    "\n",
    "<b>Файл ab_project_marketing_events.csv — календарь маркетинговых событий на 2020 год</b>\n",
    "\n",
    "Структура файла:  \n",
    "* name — название маркетингового события;\n",
    "* regions — регионы, в которых будет проводиться рекламная кампания;\n",
    "* start_dt — дата начала кампании;\n",
    "* finish_dt — дата завершения кампании.\n",
    "\n",
    "<b>Файл final_ab_new_users.csv — все пользователи, зарегистрировавшиеся в интернет-магазине в период с 7 по 21 декабря 2020 года</b>\n",
    "Структура файла:\n",
    "* user_id — идентификатор пользователя;\n",
    "* first_date — дата регистрации;\n",
    "* region — регион пользователя;\n",
    "* device — устройство, с которого происходила регистрация.\n",
    "\n",
    "<b>Файл final_ab_events.csv — все события новых пользователей в период с 7 декабря 2020 по 4 января 2021 года </b>\n",
    "\n",
    "Структура файла:\n",
    "* user_id — идентификатор пользователя;\n",
    "* event_dt — дата и время события;\n",
    "* event_name — тип события;\n",
    "* details — дополнительные данные о событии. Например, для покупок, purchase, в этом поле хранится стоимость покупки в долларах.\n",
    "\n",
    "<b>Файл final_ab_participants.csv — таблица участников тестов</b>\n",
    "\n",
    "Структура файла:\n",
    "* user_id — идентификатор пользователя;\n",
    "* ab_test — название теста;\n",
    "* group — группа пользователя."
   ]
  },
  {
   "cell_type": "markdown",
   "metadata": {},
   "source": [
    "## Загрузка данных"
   ]
  },
  {
   "cell_type": "code",
   "execution_count": 77,
   "metadata": {},
   "outputs": [],
   "source": [
    "# подкючение библиотек\n",
    "import pandas as pd\n",
    "import numpy as np\n",
    "import warnings\n",
    "import seaborn as sns\n",
    "import matplotlib.pyplot as plt\n",
    "import scipy.stats as stats\n",
    "\n",
    "from datetime import date\n",
    "\n",
    "from plotly.subplots import make_subplots\n",
    "import plotly.graph_objects as go\n",
    "import plotly.express as px\n",
    "\n",
    "import math \n"
   ]
  },
  {
   "cell_type": "code",
   "execution_count": 78,
   "metadata": {},
   "outputs": [],
   "source": [
    "# Сброс ограничений на количество символов в записи\n",
    "pd.set_option('display.max_colwidth', None)\n",
    "\n",
    "# настройка формата для десятичных значений\n",
    "pd.options.display.float_format = '{:,.2f}'.format\n",
    "\n",
    "# размер графиков по умолчанию\n",
    "sns.set(rc={'figure.figsize':(9,7)})\n",
    "\n",
    "# игнорирование замечаний\n",
    "import warnings\n",
    "warnings.filterwarnings('ignore')"
   ]
  },
  {
   "cell_type": "markdown",
   "metadata": {},
   "source": []
  },
  {
   "cell_type": "code",
   "execution_count": 80,
   "metadata": {},
   "outputs": [
    {
     "name": "stdout",
     "output_type": "stream",
     "text": [
      "File: marketing_events\n"
     ]
    },
    {
     "data": {
      "text/html": [
       "<div>\n",
       "<style scoped>\n",
       "    .dataframe tbody tr th:only-of-type {\n",
       "        vertical-align: middle;\n",
       "    }\n",
       "\n",
       "    .dataframe tbody tr th {\n",
       "        vertical-align: top;\n",
       "    }\n",
       "\n",
       "    .dataframe thead th {\n",
       "        text-align: right;\n",
       "    }\n",
       "</style>\n",
       "<table border=\"1\" class=\"dataframe\">\n",
       "  <thead>\n",
       "    <tr style=\"text-align: right;\">\n",
       "      <th></th>\n",
       "      <th>name</th>\n",
       "      <th>regions</th>\n",
       "      <th>start_dt</th>\n",
       "      <th>finish_dt</th>\n",
       "    </tr>\n",
       "  </thead>\n",
       "  <tbody>\n",
       "    <tr>\n",
       "      <th>0</th>\n",
       "      <td>Christmas&amp;New Year Promo</td>\n",
       "      <td>EU, N.America</td>\n",
       "      <td>2020-12-25</td>\n",
       "      <td>2021-01-03</td>\n",
       "    </tr>\n",
       "    <tr>\n",
       "      <th>1</th>\n",
       "      <td>St. Valentine's Day Giveaway</td>\n",
       "      <td>EU, CIS, APAC, N.America</td>\n",
       "      <td>2020-02-14</td>\n",
       "      <td>2020-02-16</td>\n",
       "    </tr>\n",
       "    <tr>\n",
       "      <th>2</th>\n",
       "      <td>St. Patric's Day Promo</td>\n",
       "      <td>EU, N.America</td>\n",
       "      <td>2020-03-17</td>\n",
       "      <td>2020-03-19</td>\n",
       "    </tr>\n",
       "    <tr>\n",
       "      <th>3</th>\n",
       "      <td>Easter Promo</td>\n",
       "      <td>EU, CIS, APAC, N.America</td>\n",
       "      <td>2020-04-12</td>\n",
       "      <td>2020-04-19</td>\n",
       "    </tr>\n",
       "    <tr>\n",
       "      <th>4</th>\n",
       "      <td>4th of July Promo</td>\n",
       "      <td>N.America</td>\n",
       "      <td>2020-07-04</td>\n",
       "      <td>2020-07-11</td>\n",
       "    </tr>\n",
       "  </tbody>\n",
       "</table>\n",
       "</div>"
      ],
      "text/plain": [
       "                           name                   regions    start_dt  \\\n",
       "0      Christmas&New Year Promo             EU, N.America  2020-12-25   \n",
       "1  St. Valentine's Day Giveaway  EU, CIS, APAC, N.America  2020-02-14   \n",
       "2        St. Patric's Day Promo             EU, N.America  2020-03-17   \n",
       "3                  Easter Promo  EU, CIS, APAC, N.America  2020-04-12   \n",
       "4             4th of July Promo                 N.America  2020-07-04   \n",
       "\n",
       "    finish_dt  \n",
       "0  2021-01-03  \n",
       "1  2020-02-16  \n",
       "2  2020-03-19  \n",
       "3  2020-04-19  \n",
       "4  2020-07-11  "
      ]
     },
     "metadata": {},
     "output_type": "display_data"
    },
    {
     "name": "stdout",
     "output_type": "stream",
     "text": [
      "\n",
      "\n",
      "File: new_users\n"
     ]
    },
    {
     "data": {
      "text/html": [
       "<div>\n",
       "<style scoped>\n",
       "    .dataframe tbody tr th:only-of-type {\n",
       "        vertical-align: middle;\n",
       "    }\n",
       "\n",
       "    .dataframe tbody tr th {\n",
       "        vertical-align: top;\n",
       "    }\n",
       "\n",
       "    .dataframe thead th {\n",
       "        text-align: right;\n",
       "    }\n",
       "</style>\n",
       "<table border=\"1\" class=\"dataframe\">\n",
       "  <thead>\n",
       "    <tr style=\"text-align: right;\">\n",
       "      <th></th>\n",
       "      <th>user_id</th>\n",
       "      <th>first_date</th>\n",
       "      <th>region</th>\n",
       "      <th>device</th>\n",
       "    </tr>\n",
       "  </thead>\n",
       "  <tbody>\n",
       "    <tr>\n",
       "      <th>0</th>\n",
       "      <td>D72A72121175D8BE</td>\n",
       "      <td>2020-12-07</td>\n",
       "      <td>EU</td>\n",
       "      <td>PC</td>\n",
       "    </tr>\n",
       "    <tr>\n",
       "      <th>1</th>\n",
       "      <td>F1C668619DFE6E65</td>\n",
       "      <td>2020-12-07</td>\n",
       "      <td>N.America</td>\n",
       "      <td>Android</td>\n",
       "    </tr>\n",
       "    <tr>\n",
       "      <th>2</th>\n",
       "      <td>2E1BF1D4C37EA01F</td>\n",
       "      <td>2020-12-07</td>\n",
       "      <td>EU</td>\n",
       "      <td>PC</td>\n",
       "    </tr>\n",
       "    <tr>\n",
       "      <th>3</th>\n",
       "      <td>50734A22C0C63768</td>\n",
       "      <td>2020-12-07</td>\n",
       "      <td>EU</td>\n",
       "      <td>iPhone</td>\n",
       "    </tr>\n",
       "    <tr>\n",
       "      <th>4</th>\n",
       "      <td>E1BDDCE0DAFA2679</td>\n",
       "      <td>2020-12-07</td>\n",
       "      <td>N.America</td>\n",
       "      <td>iPhone</td>\n",
       "    </tr>\n",
       "  </tbody>\n",
       "</table>\n",
       "</div>"
      ],
      "text/plain": [
       "            user_id  first_date     region   device\n",
       "0  D72A72121175D8BE  2020-12-07         EU       PC\n",
       "1  F1C668619DFE6E65  2020-12-07  N.America  Android\n",
       "2  2E1BF1D4C37EA01F  2020-12-07         EU       PC\n",
       "3  50734A22C0C63768  2020-12-07         EU   iPhone\n",
       "4  E1BDDCE0DAFA2679  2020-12-07  N.America   iPhone"
      ]
     },
     "metadata": {},
     "output_type": "display_data"
    },
    {
     "name": "stdout",
     "output_type": "stream",
     "text": [
      "\n",
      "\n",
      "File: events\n"
     ]
    },
    {
     "data": {
      "text/html": [
       "<div>\n",
       "<style scoped>\n",
       "    .dataframe tbody tr th:only-of-type {\n",
       "        vertical-align: middle;\n",
       "    }\n",
       "\n",
       "    .dataframe tbody tr th {\n",
       "        vertical-align: top;\n",
       "    }\n",
       "\n",
       "    .dataframe thead th {\n",
       "        text-align: right;\n",
       "    }\n",
       "</style>\n",
       "<table border=\"1\" class=\"dataframe\">\n",
       "  <thead>\n",
       "    <tr style=\"text-align: right;\">\n",
       "      <th></th>\n",
       "      <th>user_id</th>\n",
       "      <th>event_dt</th>\n",
       "      <th>event_name</th>\n",
       "      <th>details</th>\n",
       "    </tr>\n",
       "  </thead>\n",
       "  <tbody>\n",
       "    <tr>\n",
       "      <th>0</th>\n",
       "      <td>E1BDDCE0DAFA2679</td>\n",
       "      <td>2020-12-07 20:22:03</td>\n",
       "      <td>purchase</td>\n",
       "      <td>99.99</td>\n",
       "    </tr>\n",
       "    <tr>\n",
       "      <th>1</th>\n",
       "      <td>7B6452F081F49504</td>\n",
       "      <td>2020-12-07 09:22:53</td>\n",
       "      <td>purchase</td>\n",
       "      <td>9.99</td>\n",
       "    </tr>\n",
       "    <tr>\n",
       "      <th>2</th>\n",
       "      <td>9CD9F34546DF254C</td>\n",
       "      <td>2020-12-07 12:59:29</td>\n",
       "      <td>purchase</td>\n",
       "      <td>4.99</td>\n",
       "    </tr>\n",
       "    <tr>\n",
       "      <th>3</th>\n",
       "      <td>96F27A054B191457</td>\n",
       "      <td>2020-12-07 04:02:40</td>\n",
       "      <td>purchase</td>\n",
       "      <td>4.99</td>\n",
       "    </tr>\n",
       "    <tr>\n",
       "      <th>4</th>\n",
       "      <td>1FD7660FDF94CA1F</td>\n",
       "      <td>2020-12-07 10:15:09</td>\n",
       "      <td>purchase</td>\n",
       "      <td>4.99</td>\n",
       "    </tr>\n",
       "  </tbody>\n",
       "</table>\n",
       "</div>"
      ],
      "text/plain": [
       "            user_id             event_dt event_name  details\n",
       "0  E1BDDCE0DAFA2679  2020-12-07 20:22:03   purchase    99.99\n",
       "1  7B6452F081F49504  2020-12-07 09:22:53   purchase     9.99\n",
       "2  9CD9F34546DF254C  2020-12-07 12:59:29   purchase     4.99\n",
       "3  96F27A054B191457  2020-12-07 04:02:40   purchase     4.99\n",
       "4  1FD7660FDF94CA1F  2020-12-07 10:15:09   purchase     4.99"
      ]
     },
     "metadata": {},
     "output_type": "display_data"
    },
    {
     "name": "stdout",
     "output_type": "stream",
     "text": [
      "\n",
      "\n",
      "File: participants\n"
     ]
    },
    {
     "data": {
      "text/html": [
       "<div>\n",
       "<style scoped>\n",
       "    .dataframe tbody tr th:only-of-type {\n",
       "        vertical-align: middle;\n",
       "    }\n",
       "\n",
       "    .dataframe tbody tr th {\n",
       "        vertical-align: top;\n",
       "    }\n",
       "\n",
       "    .dataframe thead th {\n",
       "        text-align: right;\n",
       "    }\n",
       "</style>\n",
       "<table border=\"1\" class=\"dataframe\">\n",
       "  <thead>\n",
       "    <tr style=\"text-align: right;\">\n",
       "      <th></th>\n",
       "      <th>user_id</th>\n",
       "      <th>group</th>\n",
       "      <th>ab_test</th>\n",
       "    </tr>\n",
       "  </thead>\n",
       "  <tbody>\n",
       "    <tr>\n",
       "      <th>0</th>\n",
       "      <td>D1ABA3E2887B6A73</td>\n",
       "      <td>A</td>\n",
       "      <td>recommender_system_test</td>\n",
       "    </tr>\n",
       "    <tr>\n",
       "      <th>1</th>\n",
       "      <td>A7A3664BD6242119</td>\n",
       "      <td>A</td>\n",
       "      <td>recommender_system_test</td>\n",
       "    </tr>\n",
       "    <tr>\n",
       "      <th>2</th>\n",
       "      <td>DABC14FDDFADD29E</td>\n",
       "      <td>A</td>\n",
       "      <td>recommender_system_test</td>\n",
       "    </tr>\n",
       "    <tr>\n",
       "      <th>3</th>\n",
       "      <td>04988C5DF189632E</td>\n",
       "      <td>A</td>\n",
       "      <td>recommender_system_test</td>\n",
       "    </tr>\n",
       "    <tr>\n",
       "      <th>4</th>\n",
       "      <td>482F14783456D21B</td>\n",
       "      <td>B</td>\n",
       "      <td>recommender_system_test</td>\n",
       "    </tr>\n",
       "  </tbody>\n",
       "</table>\n",
       "</div>"
      ],
      "text/plain": [
       "            user_id group                  ab_test\n",
       "0  D1ABA3E2887B6A73     A  recommender_system_test\n",
       "1  A7A3664BD6242119     A  recommender_system_test\n",
       "2  DABC14FDDFADD29E     A  recommender_system_test\n",
       "3  04988C5DF189632E     A  recommender_system_test\n",
       "4  482F14783456D21B     B  recommender_system_test"
      ]
     },
     "metadata": {},
     "output_type": "display_data"
    },
    {
     "name": "stdout",
     "output_type": "stream",
     "text": [
      "\n",
      "\n"
     ]
    }
   ],
   "source": [
    "# вывод данных - первых пяти строк каждого файла\n",
    "i = 0\n",
    "for f in file_list:\n",
    "    print('File: ', end='')\n",
    "    print(file_name_list[i])\n",
    "    display(f.head())\n",
    "    print('\\n')\n",
    "    i += 1"
   ]
  },
  {
   "cell_type": "code",
   "execution_count": 81,
   "metadata": {},
   "outputs": [],
   "source": [
    "# преобразование данных о времени\n",
    "\n",
    "# таблица marketing_events\n",
    "marketing_events['start_dt'] = pd.to_datetime(marketing_events['start_dt'])\n",
    "marketing_events['finish_dt'] = pd.to_datetime(marketing_events['finish_dt'])\n",
    "\n",
    "# таблица new_users\n",
    "new_users['first_date'] = pd.to_datetime(new_users['first_date'])\n",
    "\n",
    "# таблица events\n",
    "events['event_dt'] = pd.to_datetime(events['event_dt']).dt.date\n",
    "#events['event_dt'] = pd.to_datetime(events['event_dt'])\n"
   ]
  },
  {
   "cell_type": "markdown",
   "metadata": {},
   "source": [
    "Проверим типы данных, пропуски и дубликаты в таблицах"
   ]
  },
  {
   "cell_type": "code",
   "execution_count": 82,
   "metadata": {},
   "outputs": [
    {
     "name": "stdout",
     "output_type": "stream",
     "text": [
      "File:marketing_events\n",
      "Info:\n",
      "<class 'pandas.core.frame.DataFrame'>\n",
      "RangeIndex: 14 entries, 0 to 13\n",
      "Data columns (total 4 columns):\n",
      " #   Column     Non-Null Count  Dtype         \n",
      "---  ------     --------------  -----         \n",
      " 0   name       14 non-null     object        \n",
      " 1   regions    14 non-null     object        \n",
      " 2   start_dt   14 non-null     datetime64[ns]\n",
      " 3   finish_dt  14 non-null     datetime64[ns]\n",
      "dtypes: datetime64[ns](2), object(2)\n",
      "memory usage: 576.0+ bytes\n",
      "None\n",
      "\n",
      "\n",
      "Number of duplicates:\n",
      "False    14\n",
      "dtype: int64\n",
      "**************************************************\n",
      "\n",
      "\n",
      "File:new_users\n",
      "Info:\n",
      "<class 'pandas.core.frame.DataFrame'>\n",
      "RangeIndex: 61733 entries, 0 to 61732\n",
      "Data columns (total 4 columns):\n",
      " #   Column      Non-Null Count  Dtype         \n",
      "---  ------      --------------  -----         \n",
      " 0   user_id     61733 non-null  object        \n",
      " 1   first_date  61733 non-null  datetime64[ns]\n",
      " 2   region      61733 non-null  object        \n",
      " 3   device      61733 non-null  object        \n",
      "dtypes: datetime64[ns](1), object(3)\n",
      "memory usage: 1.9+ MB\n",
      "None\n",
      "\n",
      "\n",
      "Number of duplicates:\n",
      "False    61733\n",
      "dtype: int64\n",
      "**************************************************\n",
      "\n",
      "\n",
      "File:events\n",
      "Info:\n",
      "<class 'pandas.core.frame.DataFrame'>\n",
      "RangeIndex: 440317 entries, 0 to 440316\n",
      "Data columns (total 4 columns):\n",
      " #   Column      Non-Null Count   Dtype  \n",
      "---  ------      --------------   -----  \n",
      " 0   user_id     440317 non-null  object \n",
      " 1   event_dt    440317 non-null  object \n",
      " 2   event_name  440317 non-null  object \n",
      " 3   details     62740 non-null   float64\n",
      "dtypes: float64(1), object(3)\n",
      "memory usage: 13.4+ MB\n",
      "None\n",
      "\n",
      "\n",
      "Number of duplicates:\n",
      "False    440315\n",
      "True          2\n",
      "dtype: int64\n",
      "**************************************************\n",
      "\n",
      "\n",
      "File:participants\n",
      "Info:\n",
      "<class 'pandas.core.frame.DataFrame'>\n",
      "RangeIndex: 18268 entries, 0 to 18267\n",
      "Data columns (total 3 columns):\n",
      " #   Column   Non-Null Count  Dtype \n",
      "---  ------   --------------  ----- \n",
      " 0   user_id  18268 non-null  object\n",
      " 1   group    18268 non-null  object\n",
      " 2   ab_test  18268 non-null  object\n",
      "dtypes: object(3)\n",
      "memory usage: 428.3+ KB\n",
      "None\n",
      "\n",
      "\n",
      "Number of duplicates:\n",
      "False    18268\n",
      "dtype: int64\n",
      "**************************************************\n",
      "\n",
      "\n"
     ]
    }
   ],
   "source": [
    "i = 0\n",
    "for f in file_list:\n",
    "  print('File:', end='')\n",
    "  print(file_name_list[i])\n",
    "  i += 1\n",
    "  print('Info:')\n",
    "  print(f.info())\n",
    "  print('\\n')\n",
    "  print('Number of duplicates:')\n",
    "  print(f.duplicated().value_counts())\n",
    "  print('*'*50)\n",
    "  print('\\n')"
   ]
  },
  {
   "cell_type": "markdown",
   "metadata": {},
   "source": [
    "В таблице events присутствуют пропуски в поле details "
   ]
  },
  {
   "cell_type": "code",
   "execution_count": 83,
   "metadata": {},
   "outputs": [
    {
     "data": {
      "text/plain": [
       "array([ 99.99,   9.99,   4.99, 499.99,    nan])"
      ]
     },
     "execution_count": 83,
     "metadata": {},
     "output_type": "execute_result"
    }
   ],
   "source": [
    "# уникальные значения поля details\n",
    "events['details'].unique()"
   ]
  },
  {
   "cell_type": "markdown",
   "metadata": {},
   "source": [
    "Скорее всего это поле содержит цену товара и таких значений всего четыре, не считая Nan. "
   ]
  },
  {
   "cell_type": "code",
   "execution_count": 84,
   "metadata": {},
   "outputs": [
    {
     "data": {
      "text/plain": [
       "array(['product_cart', 'product_page', 'login'], dtype=object)"
      ]
     },
     "execution_count": 84,
     "metadata": {},
     "output_type": "execute_result"
    }
   ],
   "source": [
    "# каким событиям соответствуют пропуски в поле 'details'\n",
    "events.query('details != details')['event_name'].unique()"
   ]
  },
  {
   "cell_type": "code",
   "execution_count": 85,
   "metadata": {},
   "outputs": [
    {
     "data": {
      "text/plain": [
       "array(['purchase', 'product_cart', 'product_page', 'login'], dtype=object)"
      ]
     },
     "execution_count": 85,
     "metadata": {},
     "output_type": "execute_result"
    }
   ],
   "source": [
    "events['event_name'].unique()"
   ]
  },
  {
   "cell_type": "markdown",
   "metadata": {},
   "source": [
    "Видно, что события, не содержащие цену  - 'product_cart', 'product_page', 'login' - связаны с просмотром корзины, карточки товара или логином. Соответственно, числовое значение присутствует только в событии 'purchase' (покупка). Пропуски в данном поле заполнять никак не будем"
   ]
  },
  {
   "cell_type": "markdown",
   "metadata": {},
   "source": [
    "Пропусков (кроме таблицы events) и дубликатов нет."
   ]
  },
  {
   "cell_type": "markdown",
   "metadata": {},
   "source": [
    "## Соответствие техническому заданию"
   ]
  },
  {
   "cell_type": "markdown",
   "metadata": {},
   "source": [
    "### Проверка дат"
   ]
  },
  {
   "cell_type": "code",
   "execution_count": 86,
   "metadata": {},
   "outputs": [],
   "source": [
    "# начало и конец теста\n",
    "test_start = pd.to_datetime('2020-12-07')\n",
    "test_end =  pd.to_datetime('2021-01-04')\n",
    "stop_new_users = pd.to_datetime('2020-12-21')"
   ]
  },
  {
   "cell_type": "code",
   "execution_count": 87,
   "metadata": {},
   "outputs": [],
   "source": [
    "# начальный размер датасета\n",
    "start_len_df = len(new_users)"
   ]
  },
  {
   "cell_type": "code",
   "execution_count": 88,
   "metadata": {},
   "outputs": [
    {
     "name": "stdout",
     "output_type": "stream",
     "text": [
      "Минимальная дата регистрации пользователя:  2020-12-07\n",
      "Максимальная дата регистрации пользователя:  2020-12-23\n"
     ]
    }
   ],
   "source": [
    "# период регистрации пользователей\n",
    "print('Минимальная дата регистрации пользователя: ', new_users['first_date'].min().date())\n",
    "print('Максимальная дата регистрации пользователя: ', new_users['first_date'].max().date())"
   ]
  },
  {
   "cell_type": "markdown",
   "metadata": {},
   "source": [
    "В таблице new_users нет пользователей, которые зарегистрировались до старта теста. \n",
    "Дата остановки набора новых пользователей по техническому заданию 2020-12-21, а в таблице присутствуют пользователи регистрацией после этой даты. Это не соответствует техническому заданию, отфильтруем лишние данные"
   ]
  },
  {
   "cell_type": "code",
   "execution_count": 89,
   "metadata": {},
   "outputs": [
    {
     "data": {
      "text/plain": [
       "count                    6701\n",
       "unique                     15\n",
       "top       2020-12-21 00:00:00\n",
       "freq                      723\n",
       "first     2020-12-07 00:00:00\n",
       "last      2020-12-21 00:00:00\n",
       "Name: first_date, dtype: object"
      ]
     },
     "execution_count": 89,
     "metadata": {},
     "output_type": "execute_result"
    }
   ],
   "source": [
    "# объединим таблицы participants с нужным тестом и new_users\n",
    "df_part = participants.query('ab_test == \"recommender_system_test\"').merge(new_users, how='left')\n",
    "df_part['first_date'].describe()"
   ]
  },
  {
   "cell_type": "markdown",
   "metadata": {},
   "source": [
    "Конец регистрации пользователей, попавших в тест, соответствует техническому заданию"
   ]
  },
  {
   "cell_type": "code",
   "execution_count": 90,
   "metadata": {},
   "outputs": [
    {
     "name": "stdout",
     "output_type": "stream",
     "text": [
      "<class 'pandas.core.frame.DataFrame'>\n",
      "Int64Index: 56470 entries, 0 to 61732\n",
      "Data columns (total 4 columns):\n",
      " #   Column      Non-Null Count  Dtype         \n",
      "---  ------      --------------  -----         \n",
      " 0   user_id     56470 non-null  object        \n",
      " 1   first_date  56470 non-null  datetime64[ns]\n",
      " 2   region      56470 non-null  object        \n",
      " 3   device      56470 non-null  object        \n",
      "dtypes: datetime64[ns](1), object(3)\n",
      "memory usage: 2.2+ MB\n"
     ]
    }
   ],
   "source": [
    "new_users_f = new_users.query('first_date <= @stop_new_users')\n",
    "new_users_f.info()"
   ]
  },
  {
   "cell_type": "code",
   "execution_count": 91,
   "metadata": {},
   "outputs": [
    {
     "name": "stdout",
     "output_type": "stream",
     "text": [
      "При первой фильтрации датасет уменьшился на 8.53%\n"
     ]
    }
   ],
   "source": [
    "print(f'При первой фильтрации датасет уменьшился на {(1 - len(new_users_f) / start_len_df):.2%}')"
   ]
  },
  {
   "cell_type": "code",
   "execution_count": 92,
   "metadata": {},
   "outputs": [
    {
     "name": "stdout",
     "output_type": "stream",
     "text": [
      "Минимальная дата события:  2020-12-07\n",
      "Максимальная дата события:  2020-12-30\n"
     ]
    }
   ],
   "source": [
    "# даты событий в таблице events\n",
    "print('Минимальная дата события: ', events['event_dt'].min())\n",
    "print('Максимальная дата события: ',events['event_dt'].max())"
   ]
  },
  {
   "cell_type": "code",
   "execution_count": 93,
   "metadata": {},
   "outputs": [
    {
     "data": {
      "text/plain": [
       "count                  440317\n",
       "unique                     24\n",
       "top       2020-12-21 00:00:00\n",
       "freq                    32559\n",
       "first     2020-12-07 00:00:00\n",
       "last      2020-12-30 00:00:00\n",
       "Name: event_dt, dtype: object"
      ]
     },
     "execution_count": 93,
     "metadata": {},
     "output_type": "execute_result"
    }
   ],
   "source": [
    "pd.to_datetime(events['event_dt']).describe()"
   ]
  },
  {
   "cell_type": "markdown",
   "metadata": {},
   "source": [
    "По условию задания это действия новых пользователей в период с 7 декабря 2020 по 4 января 2021 года. Получается, нет данных за с 31 декабря 2020 по 4 января 2021 нет (наверное, сервер на праздники выключили или просто обрезали данные - произошла критическая ошибка сбора данных)"
   ]
  },
  {
   "cell_type": "markdown",
   "metadata": {},
   "source": [
    "### Количество пользователей в тесте"
   ]
  },
  {
   "cell_type": "code",
   "execution_count": 94,
   "metadata": {},
   "outputs": [
    {
     "data": {
      "text/plain": [
       "42340"
      ]
     },
     "execution_count": 94,
     "metadata": {},
     "output_type": "execute_result"
    }
   ],
   "source": [
    "# Количество всех пользователей из EU в период регистрации теста\n",
    "len_EU = new_users.query('region == \"EU\" and @test_start <= first_date <= @stop_new_users')['user_id'].nunique()\n",
    "len_EU "
   ]
  },
  {
   "cell_type": "code",
   "execution_count": 95,
   "metadata": {},
   "outputs": [],
   "source": [
    "# добавим в таблицу участников теста регион участника\n",
    "new_users_group = pd.merge(participants, new_users_f, how='left')"
   ]
  },
  {
   "cell_type": "code",
   "execution_count": 96,
   "metadata": {
    "scrolled": true
   },
   "outputs": [
    {
     "data": {
      "text/plain": [
       "6351"
      ]
     },
     "execution_count": 96,
     "metadata": {},
     "output_type": "execute_result"
    }
   ],
   "source": [
    "len_test_EU = new_users_group.query('region == \"EU\" and ab_test == \"recommender_system_test\"')['user_id'].nunique()\n",
    "len_test_EU"
   ]
  },
  {
   "cell_type": "code",
   "execution_count": 97,
   "metadata": {
    "scrolled": true
   },
   "outputs": [
    {
     "name": "stdout",
     "output_type": "stream",
     "text": [
      "Доля участников теста из региона EU от всех новых пользователей региона EU 15.00%\n"
     ]
    }
   ],
   "source": [
    "print(f'Доля участников теста из региона EU от всех новых пользователей региона EU {len_test_EU / len_EU:.2%}')"
   ]
  },
  {
   "cell_type": "markdown",
   "metadata": {},
   "source": [
    "Соответствует техническому заданию"
   ]
  },
  {
   "cell_type": "code",
   "execution_count": 98,
   "metadata": {},
   "outputs": [
    {
     "data": {
      "text/html": [
       "<div>\n",
       "<style scoped>\n",
       "    .dataframe tbody tr th:only-of-type {\n",
       "        vertical-align: middle;\n",
       "    }\n",
       "\n",
       "    .dataframe tbody tr th {\n",
       "        vertical-align: top;\n",
       "    }\n",
       "\n",
       "    .dataframe thead th {\n",
       "        text-align: right;\n",
       "    }\n",
       "</style>\n",
       "<table border=\"1\" class=\"dataframe\">\n",
       "  <thead>\n",
       "    <tr style=\"text-align: right;\">\n",
       "      <th></th>\n",
       "      <th>unique_users</th>\n",
       "      <th>perc</th>\n",
       "    </tr>\n",
       "    <tr>\n",
       "      <th>region</th>\n",
       "      <th></th>\n",
       "      <th></th>\n",
       "    </tr>\n",
       "  </thead>\n",
       "  <tbody>\n",
       "    <tr>\n",
       "      <th>APAC</th>\n",
       "      <td>72</td>\n",
       "      <td>0.00</td>\n",
       "    </tr>\n",
       "    <tr>\n",
       "      <th>CIS</th>\n",
       "      <td>55</td>\n",
       "      <td>0.00</td>\n",
       "    </tr>\n",
       "    <tr>\n",
       "      <th>EU</th>\n",
       "      <td>15314</td>\n",
       "      <td>0.98</td>\n",
       "    </tr>\n",
       "    <tr>\n",
       "      <th>N.America</th>\n",
       "      <td>223</td>\n",
       "      <td>0.01</td>\n",
       "    </tr>\n",
       "  </tbody>\n",
       "</table>\n",
       "</div>"
      ],
      "text/plain": [
       "           unique_users  perc\n",
       "region                       \n",
       "APAC                 72  0.00\n",
       "CIS                  55  0.00\n",
       "EU                15314  0.98\n",
       "N.America           223  0.01"
      ]
     },
     "execution_count": 98,
     "metadata": {},
     "output_type": "execute_result"
    }
   ],
   "source": [
    "# их каких регионов присутствуют участники в тесте\n",
    "region = new_users_group.groupby('region').agg({'user_id':'nunique'})\n",
    "region.columns = ['unique_users']\n",
    "region['perc'] = region['unique_users'] / sum(region['unique_users'])\n",
    "region"
   ]
  },
  {
   "cell_type": "markdown",
   "metadata": {},
   "source": [
    "В таблице есть данные об участниках из других регионов, применим фильтр"
   ]
  },
  {
   "cell_type": "code",
   "execution_count": 99,
   "metadata": {},
   "outputs": [
    {
     "data": {
      "text/html": [
       "<div>\n",
       "<style scoped>\n",
       "    .dataframe tbody tr th:only-of-type {\n",
       "        vertical-align: middle;\n",
       "    }\n",
       "\n",
       "    .dataframe tbody tr th {\n",
       "        vertical-align: top;\n",
       "    }\n",
       "\n",
       "    .dataframe thead th {\n",
       "        text-align: right;\n",
       "    }\n",
       "</style>\n",
       "<table border=\"1\" class=\"dataframe\">\n",
       "  <thead>\n",
       "    <tr style=\"text-align: right;\">\n",
       "      <th></th>\n",
       "      <th>user_id</th>\n",
       "      <th>group</th>\n",
       "      <th>ab_test</th>\n",
       "      <th>first_date</th>\n",
       "      <th>region</th>\n",
       "      <th>device</th>\n",
       "    </tr>\n",
       "  </thead>\n",
       "  <tbody>\n",
       "    <tr>\n",
       "      <th>0</th>\n",
       "      <td>D1ABA3E2887B6A73</td>\n",
       "      <td>A</td>\n",
       "      <td>recommender_system_test</td>\n",
       "      <td>2020-12-07</td>\n",
       "      <td>EU</td>\n",
       "      <td>PC</td>\n",
       "    </tr>\n",
       "    <tr>\n",
       "      <th>1</th>\n",
       "      <td>A7A3664BD6242119</td>\n",
       "      <td>A</td>\n",
       "      <td>recommender_system_test</td>\n",
       "      <td>2020-12-20</td>\n",
       "      <td>EU</td>\n",
       "      <td>iPhone</td>\n",
       "    </tr>\n",
       "    <tr>\n",
       "      <th>2</th>\n",
       "      <td>DABC14FDDFADD29E</td>\n",
       "      <td>A</td>\n",
       "      <td>recommender_system_test</td>\n",
       "      <td>2020-12-08</td>\n",
       "      <td>EU</td>\n",
       "      <td>Mac</td>\n",
       "    </tr>\n",
       "    <tr>\n",
       "      <th>3</th>\n",
       "      <td>04988C5DF189632E</td>\n",
       "      <td>A</td>\n",
       "      <td>recommender_system_test</td>\n",
       "      <td>2020-12-14</td>\n",
       "      <td>EU</td>\n",
       "      <td>iPhone</td>\n",
       "    </tr>\n",
       "    <tr>\n",
       "      <th>4</th>\n",
       "      <td>482F14783456D21B</td>\n",
       "      <td>B</td>\n",
       "      <td>recommender_system_test</td>\n",
       "      <td>2020-12-14</td>\n",
       "      <td>EU</td>\n",
       "      <td>PC</td>\n",
       "    </tr>\n",
       "  </tbody>\n",
       "</table>\n",
       "</div>"
      ],
      "text/plain": [
       "            user_id group                  ab_test first_date region  device\n",
       "0  D1ABA3E2887B6A73     A  recommender_system_test 2020-12-07     EU      PC\n",
       "1  A7A3664BD6242119     A  recommender_system_test 2020-12-20     EU  iPhone\n",
       "2  DABC14FDDFADD29E     A  recommender_system_test 2020-12-08     EU     Mac\n",
       "3  04988C5DF189632E     A  recommender_system_test 2020-12-14     EU  iPhone\n",
       "4  482F14783456D21B     B  recommender_system_test 2020-12-14     EU      PC"
      ]
     },
     "execution_count": 99,
     "metadata": {},
     "output_type": "execute_result"
    }
   ],
   "source": [
    "# оставляем в тесте только участников из EU\n",
    "new_users_group = new_users_group.query('region == \"EU\"')\n",
    "new_users_group.head()"
   ]
  },
  {
   "cell_type": "markdown",
   "metadata": {},
   "source": [
    "### Пересечение в проводимых тестах"
   ]
  },
  {
   "cell_type": "code",
   "execution_count": 100,
   "metadata": {},
   "outputs": [
    {
     "data": {
      "text/plain": [
       "array(['recommender_system_test', 'interface_eu_test'], dtype=object)"
      ]
     },
     "execution_count": 100,
     "metadata": {},
     "output_type": "execute_result"
    }
   ],
   "source": [
    "# уникальные названия A/B тестов\n",
    "new_users_group['ab_test'].unique()"
   ]
  },
  {
   "cell_type": "markdown",
   "metadata": {},
   "source": [
    "В таблице new_users_group содержатся названия двух тестов, нас интересует только 'recommender_system_test', при этом пользователи не должны участвовать в конкурирующем тесте в составе экспериментальной группы"
   ]
  },
  {
   "cell_type": "code",
   "execution_count": 101,
   "metadata": {},
   "outputs": [],
   "source": [
    "# фильтр по названию теста\n",
    "participants_1 = new_users_group.query('ab_test == \"recommender_system_test\"')\n",
    "participants_2 = new_users_group.query('ab_test == \"interface_eu_test\"')"
   ]
  },
  {
   "cell_type": "code",
   "execution_count": 102,
   "metadata": {},
   "outputs": [
    {
     "data": {
      "text/plain": [
       "group\n",
       "A    3634\n",
       "B    2717\n",
       "Name: user_id, dtype: int64"
      ]
     },
     "execution_count": 102,
     "metadata": {},
     "output_type": "execute_result"
    }
   ],
   "source": [
    "# количество уникальных участников по группам в первом тесте\n",
    "participants_1.groupby('group')['user_id'].nunique()"
   ]
  },
  {
   "cell_type": "code",
   "execution_count": 103,
   "metadata": {},
   "outputs": [
    {
     "data": {
      "text/plain": [
       "group\n",
       "A    5342\n",
       "B    5223\n",
       "Name: user_id, dtype: int64"
      ]
     },
     "execution_count": 103,
     "metadata": {},
     "output_type": "execute_result"
    }
   ],
   "source": [
    "# количество уникальных участников по группам во втором\n",
    "participants_2.groupby('group')['user_id'].nunique()"
   ]
  },
  {
   "cell_type": "markdown",
   "metadata": {},
   "source": [
    "Найдем, сколько участников из теста recommender_system_test попали в конкурирующий тест, по группам"
   ]
  },
  {
   "cell_type": "code",
   "execution_count": 104,
   "metadata": {},
   "outputs": [],
   "source": [
    "# участники тестов по группам\n",
    "\n",
    "# тест recommender_system_test\n",
    "participants_1_A = participants_1.query('group == \"A\"')\n",
    "participants_1_B = participants_1.query('group == \"B\"')\n",
    "\n",
    "# тест interface_eu_test\n",
    "#participants_2_A = participants_2.query('group == \"A\"')\n",
    "participants_2_B = participants_2.query('group == \"B\"')"
   ]
  },
  {
   "cell_type": "code",
   "execution_count": 105,
   "metadata": {},
   "outputs": [
    {
     "data": {
      "text/plain": [
       "439"
      ]
     },
     "execution_count": 105,
     "metadata": {},
     "output_type": "execute_result"
    }
   ],
   "source": [
    "# пересечение множеств пользователей, которые оказались в группах А в двух тестах\n",
    "count_group_A = len(set(participants_1_A['user_id']).intersection(set(participants_2_B['user_id'])))\n",
    "# количество пользователей попавших в обе группы A\n",
    "count_group_A"
   ]
  },
  {
   "cell_type": "code",
   "execution_count": 106,
   "metadata": {},
   "outputs": [
    {
     "data": {
      "text/plain": [
       "344"
      ]
     },
     "execution_count": 106,
     "metadata": {},
     "output_type": "execute_result"
    }
   ],
   "source": [
    "# пересечение множеств пользователей, которые оказались в группах B в двух тестах\n",
    "count_group_B = len(set(participants_1_B['user_id']).intersection(set(participants_2_B['user_id'])))\n",
    "# количество пользователей попавших в обе группы B\n",
    "count_group_B"
   ]
  },
  {
   "cell_type": "code",
   "execution_count": 107,
   "metadata": {},
   "outputs": [],
   "source": [
    "count_group_A = count_group_A / len(set(participants_1_A['user_id']))"
   ]
  },
  {
   "cell_type": "code",
   "execution_count": 108,
   "metadata": {},
   "outputs": [
    {
     "name": "stdout",
     "output_type": "stream",
     "text": [
      "Доля участников конкурирующего теста из группы А 12.08%\n"
     ]
    }
   ],
   "source": [
    "print(f'Доля участников конкурирующего теста из группы А {count_group_A:.2%}')"
   ]
  },
  {
   "cell_type": "code",
   "execution_count": 109,
   "metadata": {},
   "outputs": [],
   "source": [
    "count_group_B = count_group_B / len(set(participants_1_B['user_id']))"
   ]
  },
  {
   "cell_type": "code",
   "execution_count": 110,
   "metadata": {},
   "outputs": [
    {
     "name": "stdout",
     "output_type": "stream",
     "text": [
      "Доля участников конкурирующего теста из группы А 12.66%\n"
     ]
    }
   ],
   "source": [
    "print(f'Доля участников конкурирующего теста из группы А {count_group_B:.2%}')"
   ]
  },
  {
   "cell_type": "markdown",
   "metadata": {},
   "source": [
    "Таким образом, несмотря на то, что у нас есть пользователи, которые принимали участие в конкурирующем тесте, доли в группах А и В пользователей из экспериментальной группы В другого теста практически равны, значит, воздействие на группы было равномерным"
   ]
  },
  {
   "cell_type": "markdown",
   "metadata": {},
   "source": []
  },
  {
   "cell_type": "markdown",
   "metadata": {},
   "source": [
    "Проверка пользователей, которые могли попасть в обе группы нашего теста"
   ]
  },
  {
   "cell_type": "code",
   "execution_count": 111,
   "metadata": {},
   "outputs": [
    {
     "data": {
      "text/plain": [
       "D1ABA3E2887B6A73    1\n",
       "469C6FD4044B1668    1\n",
       "FAEC4312DD2E4909    1\n",
       "B05232A00CE7DA9B    1\n",
       "D070FD0BFE78DFA4    1\n",
       "                   ..\n",
       "CCAF138D12385DF2    1\n",
       "C1760622B65C9B84    1\n",
       "794D683C2E501D1E    1\n",
       "C3E0EB602D1FCBD1    1\n",
       "80712ED4EA1B52A5    1\n",
       "Name: user_id, Length: 6351, dtype: int64"
      ]
     },
     "execution_count": 111,
     "metadata": {},
     "output_type": "execute_result"
    }
   ],
   "source": [
    "participants_1['user_id'].value_counts()"
   ]
  },
  {
   "cell_type": "markdown",
   "metadata": {},
   "source": [
    "В данных нет пользователей, которые могли попасть в группу А и в группу В одновременно"
   ]
  },
  {
   "cell_type": "code",
   "execution_count": 112,
   "metadata": {},
   "outputs": [
    {
     "data": {
      "text/html": [
       "<div>\n",
       "<style scoped>\n",
       "    .dataframe tbody tr th:only-of-type {\n",
       "        vertical-align: middle;\n",
       "    }\n",
       "\n",
       "    .dataframe tbody tr th {\n",
       "        vertical-align: top;\n",
       "    }\n",
       "\n",
       "    .dataframe thead th {\n",
       "        text-align: right;\n",
       "    }\n",
       "</style>\n",
       "<table border=\"1\" class=\"dataframe\">\n",
       "  <thead>\n",
       "    <tr style=\"text-align: right;\">\n",
       "      <th></th>\n",
       "      <th>user_id</th>\n",
       "      <th>group</th>\n",
       "      <th>ab_test</th>\n",
       "      <th>first_date</th>\n",
       "      <th>region</th>\n",
       "      <th>device</th>\n",
       "    </tr>\n",
       "  </thead>\n",
       "  <tbody>\n",
       "    <tr>\n",
       "      <th>0</th>\n",
       "      <td>D1ABA3E2887B6A73</td>\n",
       "      <td>A</td>\n",
       "      <td>recommender_system_test</td>\n",
       "      <td>2020-12-07</td>\n",
       "      <td>EU</td>\n",
       "      <td>PC</td>\n",
       "    </tr>\n",
       "    <tr>\n",
       "      <th>1</th>\n",
       "      <td>A7A3664BD6242119</td>\n",
       "      <td>A</td>\n",
       "      <td>recommender_system_test</td>\n",
       "      <td>2020-12-20</td>\n",
       "      <td>EU</td>\n",
       "      <td>iPhone</td>\n",
       "    </tr>\n",
       "    <tr>\n",
       "      <th>2</th>\n",
       "      <td>DABC14FDDFADD29E</td>\n",
       "      <td>A</td>\n",
       "      <td>recommender_system_test</td>\n",
       "      <td>2020-12-08</td>\n",
       "      <td>EU</td>\n",
       "      <td>Mac</td>\n",
       "    </tr>\n",
       "    <tr>\n",
       "      <th>3</th>\n",
       "      <td>04988C5DF189632E</td>\n",
       "      <td>A</td>\n",
       "      <td>recommender_system_test</td>\n",
       "      <td>2020-12-14</td>\n",
       "      <td>EU</td>\n",
       "      <td>iPhone</td>\n",
       "    </tr>\n",
       "    <tr>\n",
       "      <th>4</th>\n",
       "      <td>482F14783456D21B</td>\n",
       "      <td>B</td>\n",
       "      <td>recommender_system_test</td>\n",
       "      <td>2020-12-14</td>\n",
       "      <td>EU</td>\n",
       "      <td>PC</td>\n",
       "    </tr>\n",
       "  </tbody>\n",
       "</table>\n",
       "</div>"
      ],
      "text/plain": [
       "            user_id group                  ab_test first_date region  device\n",
       "0  D1ABA3E2887B6A73     A  recommender_system_test 2020-12-07     EU      PC\n",
       "1  A7A3664BD6242119     A  recommender_system_test 2020-12-20     EU  iPhone\n",
       "2  DABC14FDDFADD29E     A  recommender_system_test 2020-12-08     EU     Mac\n",
       "3  04988C5DF189632E     A  recommender_system_test 2020-12-14     EU  iPhone\n",
       "4  482F14783456D21B     B  recommender_system_test 2020-12-14     EU      PC"
      ]
     },
     "execution_count": 112,
     "metadata": {},
     "output_type": "execute_result"
    }
   ],
   "source": [
    "participants_1.head()"
   ]
  },
  {
   "cell_type": "markdown",
   "metadata": {},
   "source": [
    "### Маркетинговые события"
   ]
  },
  {
   "cell_type": "code",
   "execution_count": 113,
   "metadata": {},
   "outputs": [
    {
     "data": {
      "text/html": [
       "<div>\n",
       "<style scoped>\n",
       "    .dataframe tbody tr th:only-of-type {\n",
       "        vertical-align: middle;\n",
       "    }\n",
       "\n",
       "    .dataframe tbody tr th {\n",
       "        vertical-align: top;\n",
       "    }\n",
       "\n",
       "    .dataframe thead th {\n",
       "        text-align: right;\n",
       "    }\n",
       "</style>\n",
       "<table border=\"1\" class=\"dataframe\">\n",
       "  <thead>\n",
       "    <tr style=\"text-align: right;\">\n",
       "      <th></th>\n",
       "      <th>name</th>\n",
       "      <th>regions</th>\n",
       "      <th>start_dt</th>\n",
       "      <th>finish_dt</th>\n",
       "    </tr>\n",
       "  </thead>\n",
       "  <tbody>\n",
       "    <tr>\n",
       "      <th>0</th>\n",
       "      <td>Christmas&amp;New Year Promo</td>\n",
       "      <td>EU, N.America</td>\n",
       "      <td>2020-12-25</td>\n",
       "      <td>2021-01-03</td>\n",
       "    </tr>\n",
       "    <tr>\n",
       "      <th>10</th>\n",
       "      <td>CIS New Year Gift Lottery</td>\n",
       "      <td>CIS</td>\n",
       "      <td>2020-12-30</td>\n",
       "      <td>2021-01-07</td>\n",
       "    </tr>\n",
       "  </tbody>\n",
       "</table>\n",
       "</div>"
      ],
      "text/plain": [
       "                         name        regions   start_dt  finish_dt\n",
       "0    Christmas&New Year Promo  EU, N.America 2020-12-25 2021-01-03\n",
       "10  CIS New Year Gift Lottery            CIS 2020-12-30 2021-01-07"
      ]
     },
     "execution_count": 113,
     "metadata": {},
     "output_type": "execute_result"
    }
   ],
   "source": [
    "# маркетинговые события, которые проходят во время теста\n",
    "marketing_events.query('@test_start <= start_dt <= @test_end or @test_start <= finish_dt <= @test_end')"
   ]
  },
  {
   "cell_type": "markdown",
   "metadata": {},
   "source": [
    "Время проведения теста совпало со временем проведения двух маркетинговых событий, однако \"CIS New Year Gift Lottery\" проходило только в регионе CIS, а наших пользователей частично застронуло событие \"Christmas&New Year Promo\""
   ]
  },
  {
   "cell_type": "code",
   "execution_count": 114,
   "metadata": {},
   "outputs": [
    {
     "data": {
      "image/png": "[encoded data removed]",
      "text/plain": [
       "<Figure size 648x504 with 1 Axes>"
      ]
     },
     "metadata": {},
     "output_type": "display_data"
    }
   ],
   "source": [
    "# общий график распределения событий по дням\n",
    "events.groupby('event_dt')['event_name'].count().plot(kind='bar')\n",
    "\n",
    "plt.ylabel('Количество событий')\n",
    "plt.xlabel('Дата ')\n",
    "plt.title('Распределение количества событий по датам', fontsize=16)\n",
    "plt.grid(visible=True, linewidth=0.2, color='#000000')"
   ]
  },
  {
   "cell_type": "markdown",
   "metadata": {},
   "source": [
    "Если оценивать влияние маркетинговой акции на события пользователей, то нельзя сказать, что было какое-то сильное влияние - снижение количества событий начиная с 24 декабря достаточно плавное, а акция была запущена 25 декабря"
   ]
  },
  {
   "cell_type": "markdown",
   "metadata": {},
   "source": [
    "### События пользователей"
   ]
  },
  {
   "cell_type": "code",
   "execution_count": 115,
   "metadata": {},
   "outputs": [
    {
     "data": {
      "text/plain": [
       "login           189552\n",
       "product_page    125563\n",
       "purchase         62740\n",
       "product_cart     62462\n",
       "Name: event_name, dtype: int64"
      ]
     },
     "execution_count": 115,
     "metadata": {},
     "output_type": "execute_result"
    }
   ],
   "source": [
    "# типы событий пользователей\n",
    "events['event_name'].value_counts()"
   ]
  },
  {
   "cell_type": "markdown",
   "metadata": {},
   "source": [
    "Мы должны отфильтровать события, которые пользователи совершили после 14 дней от регистрации. Добавим в таблицу events для каждого пользователя день совершения события\n"
   ]
  },
  {
   "cell_type": "code",
   "execution_count": 116,
   "metadata": {},
   "outputs": [],
   "source": [
    "# добавляем пользователям дату регистрации\n",
    "final_df = pd.merge(events, participants_1, how='right')"
   ]
  },
  {
   "cell_type": "code",
   "execution_count": 117,
   "metadata": {},
   "outputs": [
    {
     "data": {
      "text/plain": [
       "group\n",
       "A    3634\n",
       "B    2717\n",
       "Name: user_id, dtype: int64"
      ]
     },
     "execution_count": 117,
     "metadata": {},
     "output_type": "execute_result"
    }
   ],
   "source": [
    "# количество пользователей по группам до фильтрации по событиям\n",
    "final_df.groupby('group')['user_id'].nunique()"
   ]
  },
  {
   "cell_type": "code",
   "execution_count": 118,
   "metadata": {},
   "outputs": [],
   "source": [
    "# добавим столбец с днем события от начала регистрации\n",
    "\n",
    "final_df[['first_date','event_dt']] = final_df[['first_date','event_dt']].apply(pd.to_datetime) #if conversion required\n",
    "final_df['event_lifetime'] = (final_df['event_dt'] - final_df['first_date']).dt.days"
   ]
  },
  {
   "cell_type": "code",
   "execution_count": 119,
   "metadata": {},
   "outputs": [
    {
     "data": {
      "image/png": "[encoded data removed]",
      "text/plain": [
       "<Figure size 648x504 with 1 Axes>"
      ]
     },
     "metadata": {},
     "output_type": "display_data"
    }
   ],
   "source": [
    "# гистрограмма событий по лайфтайму\n",
    "final_df['event_lifetime'].plot(kind='hist', bins=10)\n",
    "\n",
    "plt.ylabel('Количество событий')\n",
    "plt.xlabel('Лайфтайм ')\n",
    "plt.title('Распределение количества событий по лайфтайму', fontsize=16)\n",
    "plt.grid(visible=True, linewidth=0.2, color='#000000')"
   ]
  },
  {
   "cell_type": "markdown",
   "metadata": {},
   "source": [
    "Видно, что основная масса событий происходит в день регистрации, после 10 дня количество событий снижается, поэтому, применив  фильтр в 14 дней, мы не потеряем основную картину, так как - всё основное количество событий случается до 10 дня"
   ]
  },
  {
   "cell_type": "code",
   "execution_count": 120,
   "metadata": {},
   "outputs": [],
   "source": [
    "final_df = final_df.query('event_lifetime < 14')"
   ]
  },
  {
   "cell_type": "code",
   "execution_count": 121,
   "metadata": {},
   "outputs": [
    {
     "data": {
      "text/plain": [
       "3481"
      ]
     },
     "execution_count": 121,
     "metadata": {},
     "output_type": "execute_result"
    }
   ],
   "source": [
    "# количество уникальных пользователей \n",
    "len_events_14 = final_df['user_id'].nunique()\n",
    "len_events_14 "
   ]
  },
  {
   "cell_type": "code",
   "execution_count": 122,
   "metadata": {},
   "outputs": [
    {
     "data": {
      "text/plain": [
       "group\n",
       "A    2604\n",
       "B     877\n",
       "Name: user_id, dtype: int64"
      ]
     },
     "execution_count": 122,
     "metadata": {},
     "output_type": "execute_result"
    }
   ],
   "source": [
    "# количество пользователь по группа после фильтрации событий\n",
    "final_df.groupby('group')['user_id'].nunique()"
   ]
  },
  {
   "cell_type": "markdown",
   "metadata": {},
   "source": [
    "После фильтрации по событиям пользователей в группе А стало на 28% меньше, пользователей в группе В - на 68%. Пользователи в группах распределены неравномерно."
   ]
  },
  {
   "cell_type": "code",
   "execution_count": 123,
   "metadata": {
    "scrolled": true
   },
   "outputs": [
    {
     "name": "stdout",
     "output_type": "stream",
     "text": [
      "Доля участников теста из региона EU от всех новых пользователей региона EU 8.22%\n"
     ]
    }
   ],
   "source": [
    "# проверка доли пользователей из региона EU от изначального количество пользователей\n",
    "print(f'Доля участников теста из региона EU от всех новых пользователей региона EU {len_events_14 / len_EU:.2%}')"
   ]
  },
  {
   "cell_type": "markdown",
   "metadata": {},
   "source": [
    "<b>Таким образом, после применения фильтров по условиям технического задания аудитория теста составляет 8.22% новых пользователей из региона EU (техническое задание предполагало 15% участников). Ожидаемое количество участников теста  - 6000, номинальное - 3481</b>"
   ]
  },
  {
   "cell_type": "markdown",
   "metadata": {},
   "source": [
    "### Выводы"
   ]
  },
  {
   "cell_type": "markdown",
   "metadata": {},
   "source": [
    "* В таблице new_users нет пользователей, которые зарегистрировались до старта теста. Дата остановки набора новых пользователей по техническому заданию 2020-12-21, а в таблице присутствуют пользователи регистрацией после этой даты. \n",
    "* По условию задания это действия новых пользователей в период с 7 декабря 2020 по 4 января 2021 года. Получается, нет данных  с 31 декабря 2020 по 4 января 2021  (наверное, сервер на праздники выключили или просто обрезали данные - произошла критическая ошибка сбора данных)\n",
    "* Несмотря на то, что  есть пользователи, которые принимали участие в конкурирующем тесте, доли в группах А и В пользователей из экспериментальной группы В другого теста практически равны, значит, воздействие на группы было равномерным.\n",
    "* В данных нет пользователей, которые могли попасть в группу А и в группу В одновременно.\n",
    "* Время проведения теста совпало со временем проведения двух маркетинговых событий, однако \"CIS New Year Gift Lottery\" проходило только в регионе CIS, а наших пользователей частично застронуло событие \"Christmas&New Year Promo\"\n",
    "* Если оценивать влияние маркетинговой акции на события пользователей, то нельзя сказать, что было какое-то сильное влияние - снижение количества событий начиная с 24 декабря достаточно плавное, а акция была запущена 25 декабря\n",
    "* Основная масса событий происходит в день регистрации, после 10 дня количество событий снижается, поэтому, применив фильтр в 14 дней, мы не потеряем основную картину, так как - всё основное количество событий случается до 10 дня\n",
    "* Доля участников теста из региона EU от всех новых пользователей региона EU 8.22% после применения фильтров\n",
    "* После фильтрации по событиям пользователей в группе А стало на 28% меньше, пользователей в группе В - на 68%. Пользователи в группах распределены неравномерно.\n"
   ]
  },
  {
   "cell_type": "markdown",
   "metadata": {},
   "source": [
    "## Исследовательский анализ данных"
   ]
  },
  {
   "cell_type": "markdown",
   "metadata": {},
   "source": [
    "### Похожесть групп\n"
   ]
  },
  {
   "cell_type": "markdown",
   "metadata": {},
   "source": [
    "Сравним группы теста по нескольким параметрам для того, чтобы найти сходства или различия в поведениях этих групп"
   ]
  },
  {
   "cell_type": "code",
   "execution_count": 124,
   "metadata": {},
   "outputs": [
    {
     "data": {
      "text/html": [
       "<div>\n",
       "<style scoped>\n",
       "    .dataframe tbody tr th:only-of-type {\n",
       "        vertical-align: middle;\n",
       "    }\n",
       "\n",
       "    .dataframe tbody tr th {\n",
       "        vertical-align: top;\n",
       "    }\n",
       "\n",
       "    .dataframe thead th {\n",
       "        text-align: right;\n",
       "    }\n",
       "</style>\n",
       "<table border=\"1\" class=\"dataframe\">\n",
       "  <thead>\n",
       "    <tr style=\"text-align: right;\">\n",
       "      <th></th>\n",
       "      <th>user_id</th>\n",
       "      <th>event_dt</th>\n",
       "      <th>event_name</th>\n",
       "      <th>details</th>\n",
       "      <th>group</th>\n",
       "      <th>ab_test</th>\n",
       "      <th>first_date</th>\n",
       "      <th>region</th>\n",
       "      <th>device</th>\n",
       "      <th>event_lifetime</th>\n",
       "    </tr>\n",
       "  </thead>\n",
       "  <tbody>\n",
       "    <tr>\n",
       "      <th>0</th>\n",
       "      <td>D1ABA3E2887B6A73</td>\n",
       "      <td>2020-12-07</td>\n",
       "      <td>purchase</td>\n",
       "      <td>99.99</td>\n",
       "      <td>A</td>\n",
       "      <td>recommender_system_test</td>\n",
       "      <td>2020-12-07</td>\n",
       "      <td>EU</td>\n",
       "      <td>PC</td>\n",
       "      <td>0.00</td>\n",
       "    </tr>\n",
       "    <tr>\n",
       "      <th>2</th>\n",
       "      <td>D1ABA3E2887B6A73</td>\n",
       "      <td>2020-12-07</td>\n",
       "      <td>product_cart</td>\n",
       "      <td>NaN</td>\n",
       "      <td>A</td>\n",
       "      <td>recommender_system_test</td>\n",
       "      <td>2020-12-07</td>\n",
       "      <td>EU</td>\n",
       "      <td>PC</td>\n",
       "      <td>0.00</td>\n",
       "    </tr>\n",
       "    <tr>\n",
       "      <th>4</th>\n",
       "      <td>D1ABA3E2887B6A73</td>\n",
       "      <td>2020-12-07</td>\n",
       "      <td>product_page</td>\n",
       "      <td>NaN</td>\n",
       "      <td>A</td>\n",
       "      <td>recommender_system_test</td>\n",
       "      <td>2020-12-07</td>\n",
       "      <td>EU</td>\n",
       "      <td>PC</td>\n",
       "      <td>0.00</td>\n",
       "    </tr>\n",
       "    <tr>\n",
       "      <th>6</th>\n",
       "      <td>D1ABA3E2887B6A73</td>\n",
       "      <td>2020-12-07</td>\n",
       "      <td>login</td>\n",
       "      <td>NaN</td>\n",
       "      <td>A</td>\n",
       "      <td>recommender_system_test</td>\n",
       "      <td>2020-12-07</td>\n",
       "      <td>EU</td>\n",
       "      <td>PC</td>\n",
       "      <td>0.00</td>\n",
       "    </tr>\n",
       "    <tr>\n",
       "      <th>8</th>\n",
       "      <td>A7A3664BD6242119</td>\n",
       "      <td>2020-12-20</td>\n",
       "      <td>product_page</td>\n",
       "      <td>NaN</td>\n",
       "      <td>A</td>\n",
       "      <td>recommender_system_test</td>\n",
       "      <td>2020-12-20</td>\n",
       "      <td>EU</td>\n",
       "      <td>iPhone</td>\n",
       "      <td>0.00</td>\n",
       "    </tr>\n",
       "  </tbody>\n",
       "</table>\n",
       "</div>"
      ],
      "text/plain": [
       "            user_id   event_dt    event_name  details group  \\\n",
       "0  D1ABA3E2887B6A73 2020-12-07      purchase    99.99     A   \n",
       "2  D1ABA3E2887B6A73 2020-12-07  product_cart      NaN     A   \n",
       "4  D1ABA3E2887B6A73 2020-12-07  product_page      NaN     A   \n",
       "6  D1ABA3E2887B6A73 2020-12-07         login      NaN     A   \n",
       "8  A7A3664BD6242119 2020-12-20  product_page      NaN     A   \n",
       "\n",
       "                   ab_test first_date region  device  event_lifetime  \n",
       "0  recommender_system_test 2020-12-07     EU      PC            0.00  \n",
       "2  recommender_system_test 2020-12-07     EU      PC            0.00  \n",
       "4  recommender_system_test 2020-12-07     EU      PC            0.00  \n",
       "6  recommender_system_test 2020-12-07     EU      PC            0.00  \n",
       "8  recommender_system_test 2020-12-20     EU  iPhone            0.00  "
      ]
     },
     "execution_count": 124,
     "metadata": {},
     "output_type": "execute_result"
    }
   ],
   "source": [
    "final_df.head()"
   ]
  },
  {
   "cell_type": "code",
   "execution_count": 125,
   "metadata": {},
   "outputs": [
    {
     "name": "stdout",
     "output_type": "stream",
     "text": [
      "<class 'pandas.core.frame.DataFrame'>\n",
      "Int64Index: 22620 entries, 0 to 26289\n",
      "Data columns (total 10 columns):\n",
      " #   Column          Non-Null Count  Dtype         \n",
      "---  ------          --------------  -----         \n",
      " 0   user_id         22620 non-null  object        \n",
      " 1   event_dt        22620 non-null  datetime64[ns]\n",
      " 2   event_name      22620 non-null  object        \n",
      " 3   details         3103 non-null   float64       \n",
      " 4   group           22620 non-null  object        \n",
      " 5   ab_test         22620 non-null  object        \n",
      " 6   first_date      22620 non-null  datetime64[ns]\n",
      " 7   region          22620 non-null  object        \n",
      " 8   device          22620 non-null  object        \n",
      " 9   event_lifetime  22620 non-null  float64       \n",
      "dtypes: datetime64[ns](2), float64(2), object(6)\n",
      "memory usage: 1.9+ MB\n"
     ]
    }
   ],
   "source": [
    "final_df.info()"
   ]
  },
  {
   "cell_type": "code",
   "execution_count": 126,
   "metadata": {},
   "outputs": [
    {
     "data": {
      "text/plain": [
       "False    22620\n",
       "dtype: int64"
      ]
     },
     "execution_count": 126,
     "metadata": {},
     "output_type": "execute_result"
    }
   ],
   "source": [
    "# проверка на дубликаты\n",
    "final_df.duplicated().value_counts()"
   ]
  },
  {
   "cell_type": "code",
   "execution_count": 127,
   "metadata": {},
   "outputs": [
    {
     "data": {
      "text/plain": [
       "group\n",
       "A    2604\n",
       "B     877\n",
       "Name: user_id, dtype: int64"
      ]
     },
     "execution_count": 127,
     "metadata": {},
     "output_type": "execute_result"
    }
   ],
   "source": [
    "# проверка количества групп и пользователей в каждой группе\n",
    "final_df.groupby('group')['user_id'].nunique()"
   ]
  },
  {
   "cell_type": "markdown",
   "metadata": {},
   "source": [
    "В группе А 2604 пользователя, в группе В - 877, что на 66% меньше"
   ]
  },
  {
   "cell_type": "code",
   "execution_count": 128,
   "metadata": {},
   "outputs": [
    {
     "data": {
      "text/html": [
       "<div>\n",
       "<style scoped>\n",
       "    .dataframe tbody tr th:only-of-type {\n",
       "        vertical-align: middle;\n",
       "    }\n",
       "\n",
       "    .dataframe tbody tr th {\n",
       "        vertical-align: top;\n",
       "    }\n",
       "\n",
       "    .dataframe thead th {\n",
       "        text-align: right;\n",
       "    }\n",
       "</style>\n",
       "<table border=\"1\" class=\"dataframe\">\n",
       "  <thead>\n",
       "    <tr style=\"text-align: right;\">\n",
       "      <th></th>\n",
       "      <th>group</th>\n",
       "    </tr>\n",
       "    <tr>\n",
       "      <th>user_id</th>\n",
       "      <th></th>\n",
       "    </tr>\n",
       "  </thead>\n",
       "  <tbody>\n",
       "    <tr>\n",
       "      <th>001064FEAAB631A1</th>\n",
       "      <td>1</td>\n",
       "    </tr>\n",
       "    <tr>\n",
       "      <th>ABABE1BAB6C77540</th>\n",
       "      <td>1</td>\n",
       "    </tr>\n",
       "    <tr>\n",
       "      <th>AB0D9A9D709F476A</th>\n",
       "      <td>1</td>\n",
       "    </tr>\n",
       "    <tr>\n",
       "      <th>AB30C03FCEC72466</th>\n",
       "      <td>1</td>\n",
       "    </tr>\n",
       "    <tr>\n",
       "      <th>AB4EA096BF581CFB</th>\n",
       "      <td>1</td>\n",
       "    </tr>\n",
       "    <tr>\n",
       "      <th>...</th>\n",
       "      <td>...</td>\n",
       "    </tr>\n",
       "    <tr>\n",
       "      <th>564975AFF8E15C0C</th>\n",
       "      <td>1</td>\n",
       "    </tr>\n",
       "    <tr>\n",
       "      <th>5650B53B91DC98BB</th>\n",
       "      <td>1</td>\n",
       "    </tr>\n",
       "    <tr>\n",
       "      <th>565EF59DDD36B95B</th>\n",
       "      <td>1</td>\n",
       "    </tr>\n",
       "    <tr>\n",
       "      <th>5673140CA30564D5</th>\n",
       "      <td>1</td>\n",
       "    </tr>\n",
       "    <tr>\n",
       "      <th>FFF28D02B1EACBE1</th>\n",
       "      <td>1</td>\n",
       "    </tr>\n",
       "  </tbody>\n",
       "</table>\n",
       "<p>3481 rows × 1 columns</p>\n",
       "</div>"
      ],
      "text/plain": [
       "                  group\n",
       "user_id                \n",
       "001064FEAAB631A1      1\n",
       "ABABE1BAB6C77540      1\n",
       "AB0D9A9D709F476A      1\n",
       "AB30C03FCEC72466      1\n",
       "AB4EA096BF581CFB      1\n",
       "...                 ...\n",
       "564975AFF8E15C0C      1\n",
       "5650B53B91DC98BB      1\n",
       "565EF59DDD36B95B      1\n",
       "5673140CA30564D5      1\n",
       "FFF28D02B1EACBE1      1\n",
       "\n",
       "[3481 rows x 1 columns]"
      ]
     },
     "execution_count": 128,
     "metadata": {},
     "output_type": "execute_result"
    }
   ],
   "source": [
    "# поиск пользователей, которые могли попасть в обе группы\n",
    "df = final_df.groupby('user_id').agg({'group': 'nunique'}).sort_values(by='group', ascending=False)\n",
    "df"
   ]
  },
  {
   "cell_type": "code",
   "execution_count": 129,
   "metadata": {},
   "outputs": [
    {
     "data": {
      "text/html": [
       "<div>\n",
       "<style scoped>\n",
       "    .dataframe tbody tr th:only-of-type {\n",
       "        vertical-align: middle;\n",
       "    }\n",
       "\n",
       "    .dataframe tbody tr th {\n",
       "        vertical-align: top;\n",
       "    }\n",
       "\n",
       "    .dataframe thead th {\n",
       "        text-align: right;\n",
       "    }\n",
       "</style>\n",
       "<table border=\"1\" class=\"dataframe\">\n",
       "  <thead>\n",
       "    <tr style=\"text-align: right;\">\n",
       "      <th></th>\n",
       "      <th>event_dt</th>\n",
       "      <th>group</th>\n",
       "    </tr>\n",
       "  </thead>\n",
       "  <tbody>\n",
       "    <tr>\n",
       "      <th>0</th>\n",
       "      <td>2020-12-07</td>\n",
       "      <td>A</td>\n",
       "    </tr>\n",
       "    <tr>\n",
       "      <th>8</th>\n",
       "      <td>2020-12-20</td>\n",
       "      <td>A</td>\n",
       "    </tr>\n",
       "    <tr>\n",
       "      <th>9</th>\n",
       "      <td>2020-12-21</td>\n",
       "      <td>A</td>\n",
       "    </tr>\n",
       "    <tr>\n",
       "      <th>10</th>\n",
       "      <td>2020-12-25</td>\n",
       "      <td>A</td>\n",
       "    </tr>\n",
       "    <tr>\n",
       "      <th>14</th>\n",
       "      <td>2020-12-08</td>\n",
       "      <td>A</td>\n",
       "    </tr>\n",
       "  </tbody>\n",
       "</table>\n",
       "</div>"
      ],
      "text/plain": [
       "     event_dt group\n",
       "0  2020-12-07     A\n",
       "8  2020-12-20     A\n",
       "9  2020-12-21     A\n",
       "10 2020-12-25     A\n",
       "14 2020-12-08     A"
      ]
     },
     "execution_count": 129,
     "metadata": {},
     "output_type": "execute_result"
    }
   ],
   "source": [
    "# cоздание датафрейм datesGroups с уникальными парами значений 'event_dt' и 'group', таблицы final_df. \n",
    "# и удаление дубликатов методом drop_duplicates()\n",
    "datesGroups = final_df[['event_dt', 'group']].drop_duplicates()\n",
    "datesGroups.head()"
   ]
  },
  {
   "cell_type": "code",
   "execution_count": 130,
   "metadata": {},
   "outputs": [
    {
     "data": {
      "text/html": [
       "<div>\n",
       "<style scoped>\n",
       "    .dataframe tbody tr th:only-of-type {\n",
       "        vertical-align: middle;\n",
       "    }\n",
       "\n",
       "    .dataframe tbody tr th {\n",
       "        vertical-align: top;\n",
       "    }\n",
       "\n",
       "    .dataframe thead th {\n",
       "        text-align: right;\n",
       "    }\n",
       "</style>\n",
       "<table border=\"1\" class=\"dataframe\">\n",
       "  <thead>\n",
       "    <tr style=\"text-align: right;\">\n",
       "      <th></th>\n",
       "      <th>event_dt</th>\n",
       "      <th>group</th>\n",
       "      <th>event_name</th>\n",
       "      <th>user_id</th>\n",
       "      <th>details</th>\n",
       "    </tr>\n",
       "  </thead>\n",
       "  <tbody>\n",
       "    <tr>\n",
       "      <th>0</th>\n",
       "      <td>2020-12-07</td>\n",
       "      <td>A</td>\n",
       "      <td>318</td>\n",
       "      <td>148</td>\n",
       "      <td>1,104.57</td>\n",
       "    </tr>\n",
       "    <tr>\n",
       "      <th>105</th>\n",
       "      <td>2020-12-07</td>\n",
       "      <td>B</td>\n",
       "      <td>356</td>\n",
       "      <td>163</td>\n",
       "      <td>704.41</td>\n",
       "    </tr>\n",
       "    <tr>\n",
       "      <th>14</th>\n",
       "      <td>2020-12-08</td>\n",
       "      <td>A</td>\n",
       "      <td>631</td>\n",
       "      <td>240</td>\n",
       "      <td>1,859.24</td>\n",
       "    </tr>\n",
       "    <tr>\n",
       "      <th>195</th>\n",
       "      <td>2020-12-08</td>\n",
       "      <td>B</td>\n",
       "      <td>594</td>\n",
       "      <td>207</td>\n",
       "      <td>1,189.08</td>\n",
       "    </tr>\n",
       "    <tr>\n",
       "      <th>55</th>\n",
       "      <td>2020-12-09</td>\n",
       "      <td>A</td>\n",
       "      <td>1002</td>\n",
       "      <td>322</td>\n",
       "      <td>2,618.77</td>\n",
       "    </tr>\n",
       "  </tbody>\n",
       "</table>\n",
       "</div>"
      ],
      "text/plain": [
       "      event_dt group  event_name  user_id  details\n",
       "0   2020-12-07     A         318      148 1,104.57\n",
       "105 2020-12-07     B         356      163   704.41\n",
       "14  2020-12-08     A         631      240 1,859.24\n",
       "195 2020-12-08     B         594      207 1,189.08\n",
       "55  2020-12-09     A        1002      322 2,618.77"
      ]
     },
     "execution_count": 130,
     "metadata": {},
     "output_type": "execute_result"
    }
   ],
   "source": [
    "# объяление переменной ordersAggregated, содержащую: \n",
    "# дату; группу A/B-теста; \n",
    "# число событий в группе теста по указанную дату включительно;\n",
    "# число уникальных пользователей, совершивших хотя бы 1 событие в группе теста по указанную дату включительно;\n",
    "# суммарную выручку заказов в группе теста по указанную дату включительно.\n",
    "\n",
    "ordersAggregated = datesGroups.apply(\n",
    "    lambda x: final_df[\n",
    "        # функция np.logical_and выбирает подмножество строк, удовлетворяющее нескольким условиям\n",
    "        np.logical_and(\n",
    "            final_df['event_dt'] <= x['event_dt'], final_df['group'] == x['group']\n",
    "        )\n",
    "    ].agg(\n",
    "        {\n",
    "            'event_dt': 'max',\n",
    "            'group': 'max',\n",
    "            'event_name': 'count',\n",
    "            'user_id': 'nunique',\n",
    "            'details': 'sum',\n",
    "            \n",
    "            \n",
    "        }\n",
    "    ),\n",
    "    axis=1,\n",
    ").sort_values(by=['event_dt', 'group'])\n",
    "\n",
    "ordersAggregated.head()"
   ]
  },
  {
   "cell_type": "code",
   "execution_count": 131,
   "metadata": {},
   "outputs": [
    {
     "data": {
      "text/html": [
       "<div>\n",
       "<style scoped>\n",
       "    .dataframe tbody tr th:only-of-type {\n",
       "        vertical-align: middle;\n",
       "    }\n",
       "\n",
       "    .dataframe tbody tr th {\n",
       "        vertical-align: top;\n",
       "    }\n",
       "\n",
       "    .dataframe thead th {\n",
       "        text-align: right;\n",
       "    }\n",
       "</style>\n",
       "<table border=\"1\" class=\"dataframe\">\n",
       "  <thead>\n",
       "    <tr style=\"text-align: right;\">\n",
       "      <th></th>\n",
       "      <th>event_dt</th>\n",
       "      <th>group</th>\n",
       "      <th>details</th>\n",
       "    </tr>\n",
       "  </thead>\n",
       "  <tbody>\n",
       "    <tr>\n",
       "      <th>0</th>\n",
       "      <td>2020-12-07</td>\n",
       "      <td>A</td>\n",
       "      <td>43</td>\n",
       "    </tr>\n",
       "    <tr>\n",
       "      <th>1</th>\n",
       "      <td>2020-12-07</td>\n",
       "      <td>B</td>\n",
       "      <td>59</td>\n",
       "    </tr>\n",
       "    <tr>\n",
       "      <th>2</th>\n",
       "      <td>2020-12-08</td>\n",
       "      <td>A</td>\n",
       "      <td>33</td>\n",
       "    </tr>\n",
       "    <tr>\n",
       "      <th>3</th>\n",
       "      <td>2020-12-08</td>\n",
       "      <td>B</td>\n",
       "      <td>33</td>\n",
       "    </tr>\n",
       "    <tr>\n",
       "      <th>4</th>\n",
       "      <td>2020-12-09</td>\n",
       "      <td>A</td>\n",
       "      <td>47</td>\n",
       "    </tr>\n",
       "  </tbody>\n",
       "</table>\n",
       "</div>"
      ],
      "text/plain": [
       "    event_dt group  details\n",
       "0 2020-12-07     A       43\n",
       "1 2020-12-07     B       59\n",
       "2 2020-12-08     A       33\n",
       "3 2020-12-08     B       33\n",
       "4 2020-12-09     A       47"
      ]
     },
     "execution_count": 131,
     "metadata": {},
     "output_type": "execute_result"
    }
   ],
   "source": [
    "# информация о количестве покупок\n",
    "purchase_users = final_df[final_df['event_name'] == \"purchase\"]\n",
    "purchase = purchase_users.groupby(['event_dt', 'group'])['details'].count().reset_index()\n",
    "purchase.head()"
   ]
  },
  {
   "cell_type": "code",
   "execution_count": 132,
   "metadata": {},
   "outputs": [
    {
     "data": {
      "text/html": [
       "<div>\n",
       "<style scoped>\n",
       "    .dataframe tbody tr th:only-of-type {\n",
       "        vertical-align: middle;\n",
       "    }\n",
       "\n",
       "    .dataframe tbody tr th {\n",
       "        vertical-align: top;\n",
       "    }\n",
       "\n",
       "    .dataframe thead th {\n",
       "        text-align: right;\n",
       "    }\n",
       "</style>\n",
       "<table border=\"1\" class=\"dataframe\">\n",
       "  <thead>\n",
       "    <tr style=\"text-align: right;\">\n",
       "      <th></th>\n",
       "      <th>event_dt</th>\n",
       "      <th>group</th>\n",
       "      <th>event_name</th>\n",
       "      <th>user_id</th>\n",
       "      <th>details</th>\n",
       "      <th>orders</th>\n",
       "    </tr>\n",
       "  </thead>\n",
       "  <tbody>\n",
       "    <tr>\n",
       "      <th>0</th>\n",
       "      <td>2020-12-07</td>\n",
       "      <td>A</td>\n",
       "      <td>318</td>\n",
       "      <td>148</td>\n",
       "      <td>1,104.57</td>\n",
       "      <td>43</td>\n",
       "    </tr>\n",
       "    <tr>\n",
       "      <th>1</th>\n",
       "      <td>2020-12-07</td>\n",
       "      <td>B</td>\n",
       "      <td>356</td>\n",
       "      <td>163</td>\n",
       "      <td>704.41</td>\n",
       "      <td>59</td>\n",
       "    </tr>\n",
       "    <tr>\n",
       "      <th>2</th>\n",
       "      <td>2020-12-08</td>\n",
       "      <td>A</td>\n",
       "      <td>631</td>\n",
       "      <td>240</td>\n",
       "      <td>1,859.24</td>\n",
       "      <td>33</td>\n",
       "    </tr>\n",
       "    <tr>\n",
       "      <th>3</th>\n",
       "      <td>2020-12-08</td>\n",
       "      <td>B</td>\n",
       "      <td>594</td>\n",
       "      <td>207</td>\n",
       "      <td>1,189.08</td>\n",
       "      <td>33</td>\n",
       "    </tr>\n",
       "    <tr>\n",
       "      <th>4</th>\n",
       "      <td>2020-12-09</td>\n",
       "      <td>A</td>\n",
       "      <td>1002</td>\n",
       "      <td>322</td>\n",
       "      <td>2,618.77</td>\n",
       "      <td>47</td>\n",
       "    </tr>\n",
       "  </tbody>\n",
       "</table>\n",
       "</div>"
      ],
      "text/plain": [
       "    event_dt group  event_name  user_id  details  orders\n",
       "0 2020-12-07     A         318      148 1,104.57      43\n",
       "1 2020-12-07     B         356      163   704.41      59\n",
       "2 2020-12-08     A         631      240 1,859.24      33\n",
       "3 2020-12-08     B         594      207 1,189.08      33\n",
       "4 2020-12-09     A        1002      322 2,618.77      47"
      ]
     },
     "execution_count": 132,
     "metadata": {},
     "output_type": "execute_result"
    }
   ],
   "source": [
    "# добавим в датафрейм количество покупок для каждой даты и группы\n",
    "ordersAggregated = ordersAggregated.merge(purchase, left_on=['event_dt', 'group'], right_on=['event_dt', 'group'])\n",
    "ordersAggregated.rename(columns = {'details_x': 'details', 'details_y': 'orders'}, inplace = True)\n",
    "ordersAggregated.head()"
   ]
  },
  {
   "cell_type": "code",
   "execution_count": 133,
   "metadata": {},
   "outputs": [],
   "source": [
    "# датафрейм с кумулятивным количеством событий, оплат и кумулятивной выручкой по дням в группе А\n",
    "cumulativeRevenueA = ordersAggregated[ordersAggregated['group']=='A'][['event_dt','details', 'orders', 'event_name', 'user_id']]\n",
    "\n",
    "# датафрейм с кумулятивным количеством событий,  оплат  и кумулятивной выручкой по дням в группе B\n",
    "cumulativeRevenueB = ordersAggregated[ordersAggregated['group']=='B'][['event_dt','details', 'orders', 'event_name', 'user_id']]"
   ]
  },
  {
   "cell_type": "markdown",
   "metadata": {},
   "source": [
    "#### Количество событий "
   ]
  },
  {
   "cell_type": "code",
   "execution_count": 134,
   "metadata": {},
   "outputs": [
    {
     "data": {
      "text/html": [
       "<div>\n",
       "<style scoped>\n",
       "    .dataframe tbody tr th:only-of-type {\n",
       "        vertical-align: middle;\n",
       "    }\n",
       "\n",
       "    .dataframe tbody tr th {\n",
       "        vertical-align: top;\n",
       "    }\n",
       "\n",
       "    .dataframe thead th {\n",
       "        text-align: right;\n",
       "    }\n",
       "</style>\n",
       "<table border=\"1\" class=\"dataframe\">\n",
       "  <thead>\n",
       "    <tr style=\"text-align: right;\">\n",
       "      <th></th>\n",
       "      <th>user_id</th>\n",
       "      <th>events</th>\n",
       "    </tr>\n",
       "  </thead>\n",
       "  <tbody>\n",
       "    <tr>\n",
       "      <th>224</th>\n",
       "      <td>1198061F6AF34B7B</td>\n",
       "      <td>24</td>\n",
       "    </tr>\n",
       "    <tr>\n",
       "      <th>2825</th>\n",
       "      <td>CED71698585A2E46</td>\n",
       "      <td>24</td>\n",
       "    </tr>\n",
       "    <tr>\n",
       "      <th>1821</th>\n",
       "      <td>89545C7F903DBA34</td>\n",
       "      <td>21</td>\n",
       "    </tr>\n",
       "    <tr>\n",
       "      <th>2516</th>\n",
       "      <td>B8EF6F0325A9979F</td>\n",
       "      <td>21</td>\n",
       "    </tr>\n",
       "    <tr>\n",
       "      <th>220</th>\n",
       "      <td>115EBC1CA027854A</td>\n",
       "      <td>21</td>\n",
       "    </tr>\n",
       "    <tr>\n",
       "      <th>2182</th>\n",
       "      <td>A2DB18F90D9E3362</td>\n",
       "      <td>20</td>\n",
       "    </tr>\n",
       "    <tr>\n",
       "      <th>1542</th>\n",
       "      <td>7347C03E6A300EFD</td>\n",
       "      <td>20</td>\n",
       "    </tr>\n",
       "    <tr>\n",
       "      <th>1762</th>\n",
       "      <td>84DC74ED5E60BA6A</td>\n",
       "      <td>20</td>\n",
       "    </tr>\n",
       "    <tr>\n",
       "      <th>576</th>\n",
       "      <td>2B8FD20CA8A2A616</td>\n",
       "      <td>20</td>\n",
       "    </tr>\n",
       "    <tr>\n",
       "      <th>3391</th>\n",
       "      <td>F9D53F0BA957F728</td>\n",
       "      <td>20</td>\n",
       "    </tr>\n",
       "  </tbody>\n",
       "</table>\n",
       "</div>"
      ],
      "text/plain": [
       "               user_id  events\n",
       "224   1198061F6AF34B7B      24\n",
       "2825  CED71698585A2E46      24\n",
       "1821  89545C7F903DBA34      21\n",
       "2516  B8EF6F0325A9979F      21\n",
       "220   115EBC1CA027854A      21\n",
       "2182  A2DB18F90D9E3362      20\n",
       "1542  7347C03E6A300EFD      20\n",
       "1762  84DC74ED5E60BA6A      20\n",
       "576   2B8FD20CA8A2A616      20\n",
       "3391  F9D53F0BA957F728      20"
      ]
     },
     "metadata": {},
     "output_type": "display_data"
    }
   ],
   "source": [
    "# создаем датафрейм с двумя столбцами 'user_id' и 'event_name', который хранит количество событий каждого пользователя\n",
    "eventsByUsers = (\n",
    "    final_df.groupby('user_id', as_index=False)\n",
    "    .agg({'event_name': 'count'})\n",
    ")\n",
    "eventsByUsers.columns = ['user_id', 'events']\n",
    "\n",
    "# вывод первых 10 строк датафрейма\n",
    "display(eventsByUsers.sort_values(by='events', ascending=False).head(10))"
   ]
  },
  {
   "cell_type": "code",
   "execution_count": 135,
   "metadata": {
    "scrolled": false
   },
   "outputs": [
    {
     "data": {
      "image/png": "[encoded data removed]",
      "text/plain": [
       "<Figure size 864x576 with 1 Axes>"
      ]
     },
     "metadata": {},
     "output_type": "display_data"
    }
   ],
   "source": [
    "# серия из чисел от 0 до количества наблюдений в eventsByUsers\n",
    "x_values = pd.Series(range(0, len(eventsByUsers)))\n",
    "\n",
    "# построение диаграммы методом scatter()\n",
    "plt.figure(figsize=(12, 8))\n",
    "plt.scatter(x_values, eventsByUsers['events']) \n",
    "plt.ylabel('Количество событий')\n",
    "plt.xlabel('Количество наблюдений ')\n",
    "plt.title('Распределение количества событий по пользователям', fontsize=16)\n",
    "plt.grid(visible=True, linewidth=0.2, color='#000000')"
   ]
  },
  {
   "cell_type": "markdown",
   "metadata": {},
   "source": [
    "Количество событий распределено неравномерно, но свыше 13 событий совершают уже не так много пользователей, как и меньше двух"
   ]
  },
  {
   "cell_type": "code",
   "execution_count": 136,
   "metadata": {},
   "outputs": [
    {
     "name": "stdout",
     "output_type": "stream",
     "text": [
      "[14. 18.]\n"
     ]
    }
   ],
   "source": [
    "# Метод np.percentile('column', [percentile1, percentile2]) находит перцентили.\n",
    "print(np.percentile(eventsByUsers['events'], [95,99]))"
   ]
  },
  {
   "cell_type": "markdown",
   "metadata": {},
   "source": [
    "Не более 5% посетителей совершили 14 событий. И не более 1%  - больше 18. "
   ]
  },
  {
   "cell_type": "code",
   "execution_count": 137,
   "metadata": {},
   "outputs": [
    {
     "data": {
      "image/png": "[encoded data removed]",
      "text/plain": [
       "<Figure size 864x576 with 1 Axes>"
      ]
     },
     "metadata": {},
     "output_type": "display_data"
    }
   ],
   "source": [
    "# Построим графики среднего количества событий по группам — разделим кумулятивную число событий на уникальных пользователей\n",
    "plt.figure(figsize=(12, 8))\n",
    "plt.plot(cumulativeRevenueA['event_dt'], cumulativeRevenueA['event_name']/cumulativeRevenueA['user_id'], label='A')\n",
    "plt.plot(cumulativeRevenueB['event_dt'], cumulativeRevenueB['event_name']/cumulativeRevenueB['user_id'], label='B')\n",
    "plt.legend(title= 'Группы', title_fontsize = 10,  prop = {'size' : 14}) \n",
    "plt.ylabel('Количество событий')\n",
    "plt.xlabel('Дата ')\n",
    "plt.title('Динамика кумулятивного количества событий по группам', fontsize=16)\n",
    "plt.grid(visible=True, linewidth=0.2, color='#000000')"
   ]
  },
  {
   "cell_type": "markdown",
   "metadata": {},
   "source": [
    "Кумулятивное количество событий на протяжении теста растет в двух группах, после 17 декабря группа А становится лидером и показывает более сильный рост, чем группа В. К концу теста среднее значение отличается примерно на 1 событие на пользователя"
   ]
  },
  {
   "cell_type": "code",
   "execution_count": 138,
   "metadata": {},
   "outputs": [],
   "source": [
    "# присоеденили количество событий на пользователя\n",
    "final_df = final_df.merge(eventsByUsers, how='left')"
   ]
  },
  {
   "cell_type": "code",
   "execution_count": 139,
   "metadata": {},
   "outputs": [
    {
     "data": {
      "text/html": [
       "<div>\n",
       "<style scoped>\n",
       "    .dataframe tbody tr th:only-of-type {\n",
       "        vertical-align: middle;\n",
       "    }\n",
       "\n",
       "    .dataframe tbody tr th {\n",
       "        vertical-align: top;\n",
       "    }\n",
       "\n",
       "    .dataframe thead th {\n",
       "        text-align: right;\n",
       "    }\n",
       "</style>\n",
       "<table border=\"1\" class=\"dataframe\">\n",
       "  <thead>\n",
       "    <tr style=\"text-align: right;\">\n",
       "      <th></th>\n",
       "      <th>user_id</th>\n",
       "      <th>event_dt</th>\n",
       "      <th>event_name</th>\n",
       "      <th>details</th>\n",
       "      <th>group</th>\n",
       "      <th>ab_test</th>\n",
       "      <th>first_date</th>\n",
       "      <th>region</th>\n",
       "      <th>device</th>\n",
       "      <th>event_lifetime</th>\n",
       "      <th>events</th>\n",
       "    </tr>\n",
       "  </thead>\n",
       "  <tbody>\n",
       "    <tr>\n",
       "      <th>0</th>\n",
       "      <td>D1ABA3E2887B6A73</td>\n",
       "      <td>2020-12-07</td>\n",
       "      <td>purchase</td>\n",
       "      <td>99.99</td>\n",
       "      <td>A</td>\n",
       "      <td>recommender_system_test</td>\n",
       "      <td>2020-12-07</td>\n",
       "      <td>EU</td>\n",
       "      <td>PC</td>\n",
       "      <td>0.00</td>\n",
       "      <td>4</td>\n",
       "    </tr>\n",
       "    <tr>\n",
       "      <th>1</th>\n",
       "      <td>D1ABA3E2887B6A73</td>\n",
       "      <td>2020-12-07</td>\n",
       "      <td>product_cart</td>\n",
       "      <td>NaN</td>\n",
       "      <td>A</td>\n",
       "      <td>recommender_system_test</td>\n",
       "      <td>2020-12-07</td>\n",
       "      <td>EU</td>\n",
       "      <td>PC</td>\n",
       "      <td>0.00</td>\n",
       "      <td>4</td>\n",
       "    </tr>\n",
       "    <tr>\n",
       "      <th>2</th>\n",
       "      <td>D1ABA3E2887B6A73</td>\n",
       "      <td>2020-12-07</td>\n",
       "      <td>product_page</td>\n",
       "      <td>NaN</td>\n",
       "      <td>A</td>\n",
       "      <td>recommender_system_test</td>\n",
       "      <td>2020-12-07</td>\n",
       "      <td>EU</td>\n",
       "      <td>PC</td>\n",
       "      <td>0.00</td>\n",
       "      <td>4</td>\n",
       "    </tr>\n",
       "    <tr>\n",
       "      <th>3</th>\n",
       "      <td>D1ABA3E2887B6A73</td>\n",
       "      <td>2020-12-07</td>\n",
       "      <td>login</td>\n",
       "      <td>NaN</td>\n",
       "      <td>A</td>\n",
       "      <td>recommender_system_test</td>\n",
       "      <td>2020-12-07</td>\n",
       "      <td>EU</td>\n",
       "      <td>PC</td>\n",
       "      <td>0.00</td>\n",
       "      <td>4</td>\n",
       "    </tr>\n",
       "    <tr>\n",
       "      <th>4</th>\n",
       "      <td>A7A3664BD6242119</td>\n",
       "      <td>2020-12-20</td>\n",
       "      <td>product_page</td>\n",
       "      <td>NaN</td>\n",
       "      <td>A</td>\n",
       "      <td>recommender_system_test</td>\n",
       "      <td>2020-12-20</td>\n",
       "      <td>EU</td>\n",
       "      <td>iPhone</td>\n",
       "      <td>0.00</td>\n",
       "      <td>6</td>\n",
       "    </tr>\n",
       "  </tbody>\n",
       "</table>\n",
       "</div>"
      ],
      "text/plain": [
       "            user_id   event_dt    event_name  details group  \\\n",
       "0  D1ABA3E2887B6A73 2020-12-07      purchase    99.99     A   \n",
       "1  D1ABA3E2887B6A73 2020-12-07  product_cart      NaN     A   \n",
       "2  D1ABA3E2887B6A73 2020-12-07  product_page      NaN     A   \n",
       "3  D1ABA3E2887B6A73 2020-12-07         login      NaN     A   \n",
       "4  A7A3664BD6242119 2020-12-20  product_page      NaN     A   \n",
       "\n",
       "                   ab_test first_date region  device  event_lifetime  events  \n",
       "0  recommender_system_test 2020-12-07     EU      PC            0.00       4  \n",
       "1  recommender_system_test 2020-12-07     EU      PC            0.00       4  \n",
       "2  recommender_system_test 2020-12-07     EU      PC            0.00       4  \n",
       "3  recommender_system_test 2020-12-07     EU      PC            0.00       4  \n",
       "4  recommender_system_test 2020-12-20     EU  iPhone            0.00       6  "
      ]
     },
     "execution_count": 139,
     "metadata": {},
     "output_type": "execute_result"
    }
   ],
   "source": [
    "final_df.head()"
   ]
  },
  {
   "cell_type": "code",
   "execution_count": 140,
   "metadata": {},
   "outputs": [],
   "source": [
    "# слетело\n",
    "final_df['event_dt'] =  pd.to_datetime(final_df['event_dt']).dt.date\n",
    "final_df['first_date'] =  pd.to_datetime(final_df['first_date']).dt.date\n",
    "\n",
    "# распределение по группам\n",
    "final_df_A = final_df.query('group == \"A\"')\n",
    "final_df_B = final_df.query('group == \"B\"')"
   ]
  },
  {
   "cell_type": "code",
   "execution_count": 141,
   "metadata": {
    "scrolled": false
   },
   "outputs": [
    {
     "data": {
      "image/png": "[encoded data removed]",
      "text/plain": [
       "<Figure size 1008x432 with 2 Axes>"
      ]
     },
     "metadata": {},
     "output_type": "display_data"
    }
   ],
   "source": [
    "# график количества событий по группе А\n",
    "final_df_A.groupby('event_dt')['events'].mean().plot(\n",
    "    grid=True, \n",
    "    kind='bar', \n",
    "    figsize=(14,6), \n",
    "    ax=plt.subplot(1, 2, 1)\n",
    ")\n",
    "plt.legend().set_visible(False)\n",
    "plt.ylabel('Количество событий')\n",
    "plt.xlabel('Дата')\n",
    "plt.title('Группа А')\n",
    "plt.ylim(0, 12)\n",
    "\n",
    "# график количества событий по группе В\n",
    "final_df_B.groupby('event_dt')['events'].mean().plot(grid=True, kind='bar', figsize=(14,6), ax=plt.subplot(1, 2, 2))\n",
    "plt.xlabel('Дата')\n",
    "plt.title('Группа B')\n",
    "plt.ylim(0, 12)\n",
    "\n",
    "plt.suptitle('Среднее количество событий на пользователя в группах по датам', fontsize=16)\n",
    "plt.tight_layout()\n",
    "\n",
    "plt.show()"
   ]
  },
  {
   "cell_type": "markdown",
   "metadata": {},
   "source": [
    "На графике еще раз подтвердился факт, что в среднем событий на пользователя в группе А было больше. \n",
    "С 14 декабря в группе А наблюдается резкий рост среднего числа событий с пиком 26 декабря и дальнейшим снижением к значениям начала теста.\n",
    "\n",
    "В группе В пики количества событий приходятся на 13, 16 и 29 декабря.\n",
    "\n",
    "Всё это наводит на мысль о том, что тест приходится на праздничные дни + маркетинговая акция в регионе, пользователи выбирают подарки себе и друзьям, тратят деньги, а после праздника (в данном случае, вероятно, Рождественская неделя), покупки идут на спад. \n"
   ]
  },
  {
   "cell_type": "markdown",
   "metadata": {},
   "source": [
    "#### Регистрация пользователей по датам"
   ]
  },
  {
   "cell_type": "code",
   "execution_count": 142,
   "metadata": {
    "scrolled": false
   },
   "outputs": [
    {
     "data": {
      "image/png": "[encoded data removed]",
      "text/plain": [
       "<Figure size 1008x432 with 2 Axes>"
      ]
     },
     "metadata": {},
     "output_type": "display_data"
    }
   ],
   "source": [
    "# график регистраций пользователей по группе А\n",
    "final_df_A.groupby('first_date')['user_id'].nunique().plot(\n",
    "    grid=True, \n",
    "    kind='bar', \n",
    "    figsize=(14,6), \n",
    "    ax=plt.subplot(1, 2, 1)\n",
    ")\n",
    "plt.legend().set_visible(False)\n",
    "plt.ylabel('Количество пользователей')\n",
    "plt.xlabel('Дата')\n",
    "plt.title('Группа А')\n",
    "plt.ylim(0, 410)\n",
    "\n",
    "#  график регистраций пользователей  по группе В\n",
    "final_df_B.groupby('first_date')['user_id'].nunique().plot(\n",
    "    grid=True, \n",
    "    kind='bar', \n",
    "    figsize=(14,6), \n",
    "    ax=plt.subplot(1, 2, 2)\n",
    ")\n",
    "plt.xlabel('Дата')\n",
    "plt.title('Группа B')\n",
    "plt.ylim(0, 410)\n",
    "\n",
    "plt.suptitle('Регистрация пользователей по датам', fontsize=16)\n",
    "plt.tight_layout()\n",
    "\n",
    "plt.show()"
   ]
  },
  {
   "cell_type": "markdown",
   "metadata": {},
   "source": [
    "В первый день пользователи регистрировались в обе группы практически одинаково, затем произошел разброс. Количество пользователей в пиковые даты 14 декабря в группе А на 80% больше, чем в тот же день в группе В (второй пик в группе А - 21 декабря примерно на столько же процентов больше, чем в группе В в тот же день).\n",
    "\n",
    "В группе А три пиковых дня: 7, 14, 21 декабря\n",
    "\n",
    "В группе В четыре пиковых дня: 7, 14, 16, 21 декабря"
   ]
  },
  {
   "cell_type": "markdown",
   "metadata": {},
   "source": [
    "#### Распределение  по устройствам"
   ]
  },
  {
   "cell_type": "code",
   "execution_count": 143,
   "metadata": {},
   "outputs": [
    {
     "data": {
      "text/html": [
       "<div>\n",
       "<style scoped>\n",
       "    .dataframe tbody tr th:only-of-type {\n",
       "        vertical-align: middle;\n",
       "    }\n",
       "\n",
       "    .dataframe tbody tr th {\n",
       "        vertical-align: top;\n",
       "    }\n",
       "\n",
       "    .dataframe thead th {\n",
       "        text-align: right;\n",
       "    }\n",
       "</style>\n",
       "<table border=\"1\" class=\"dataframe\">\n",
       "  <thead>\n",
       "    <tr style=\"text-align: right;\">\n",
       "      <th></th>\n",
       "      <th>user_id</th>\n",
       "      <th>event_dt</th>\n",
       "      <th>event_name</th>\n",
       "      <th>details</th>\n",
       "      <th>group</th>\n",
       "      <th>ab_test</th>\n",
       "      <th>first_date</th>\n",
       "      <th>region</th>\n",
       "      <th>device</th>\n",
       "      <th>event_lifetime</th>\n",
       "      <th>events</th>\n",
       "    </tr>\n",
       "  </thead>\n",
       "  <tbody>\n",
       "    <tr>\n",
       "      <th>0</th>\n",
       "      <td>D1ABA3E2887B6A73</td>\n",
       "      <td>2020-12-07</td>\n",
       "      <td>purchase</td>\n",
       "      <td>99.99</td>\n",
       "      <td>A</td>\n",
       "      <td>recommender_system_test</td>\n",
       "      <td>2020-12-07</td>\n",
       "      <td>EU</td>\n",
       "      <td>PC</td>\n",
       "      <td>0.00</td>\n",
       "      <td>4</td>\n",
       "    </tr>\n",
       "    <tr>\n",
       "      <th>1</th>\n",
       "      <td>D1ABA3E2887B6A73</td>\n",
       "      <td>2020-12-07</td>\n",
       "      <td>product_cart</td>\n",
       "      <td>NaN</td>\n",
       "      <td>A</td>\n",
       "      <td>recommender_system_test</td>\n",
       "      <td>2020-12-07</td>\n",
       "      <td>EU</td>\n",
       "      <td>PC</td>\n",
       "      <td>0.00</td>\n",
       "      <td>4</td>\n",
       "    </tr>\n",
       "    <tr>\n",
       "      <th>2</th>\n",
       "      <td>D1ABA3E2887B6A73</td>\n",
       "      <td>2020-12-07</td>\n",
       "      <td>product_page</td>\n",
       "      <td>NaN</td>\n",
       "      <td>A</td>\n",
       "      <td>recommender_system_test</td>\n",
       "      <td>2020-12-07</td>\n",
       "      <td>EU</td>\n",
       "      <td>PC</td>\n",
       "      <td>0.00</td>\n",
       "      <td>4</td>\n",
       "    </tr>\n",
       "    <tr>\n",
       "      <th>3</th>\n",
       "      <td>D1ABA3E2887B6A73</td>\n",
       "      <td>2020-12-07</td>\n",
       "      <td>login</td>\n",
       "      <td>NaN</td>\n",
       "      <td>A</td>\n",
       "      <td>recommender_system_test</td>\n",
       "      <td>2020-12-07</td>\n",
       "      <td>EU</td>\n",
       "      <td>PC</td>\n",
       "      <td>0.00</td>\n",
       "      <td>4</td>\n",
       "    </tr>\n",
       "    <tr>\n",
       "      <th>4</th>\n",
       "      <td>A7A3664BD6242119</td>\n",
       "      <td>2020-12-20</td>\n",
       "      <td>product_page</td>\n",
       "      <td>NaN</td>\n",
       "      <td>A</td>\n",
       "      <td>recommender_system_test</td>\n",
       "      <td>2020-12-20</td>\n",
       "      <td>EU</td>\n",
       "      <td>iPhone</td>\n",
       "      <td>0.00</td>\n",
       "      <td>6</td>\n",
       "    </tr>\n",
       "  </tbody>\n",
       "</table>\n",
       "</div>"
      ],
      "text/plain": [
       "            user_id    event_dt    event_name  details group  \\\n",
       "0  D1ABA3E2887B6A73  2020-12-07      purchase    99.99     A   \n",
       "1  D1ABA3E2887B6A73  2020-12-07  product_cart      NaN     A   \n",
       "2  D1ABA3E2887B6A73  2020-12-07  product_page      NaN     A   \n",
       "3  D1ABA3E2887B6A73  2020-12-07         login      NaN     A   \n",
       "4  A7A3664BD6242119  2020-12-20  product_page      NaN     A   \n",
       "\n",
       "                   ab_test  first_date region  device  event_lifetime  events  \n",
       "0  recommender_system_test  2020-12-07     EU      PC            0.00       4  \n",
       "1  recommender_system_test  2020-12-07     EU      PC            0.00       4  \n",
       "2  recommender_system_test  2020-12-07     EU      PC            0.00       4  \n",
       "3  recommender_system_test  2020-12-07     EU      PC            0.00       4  \n",
       "4  recommender_system_test  2020-12-20     EU  iPhone            0.00       6  "
      ]
     },
     "execution_count": 143,
     "metadata": {},
     "output_type": "execute_result"
    }
   ],
   "source": [
    "final_df_A.head()"
   ]
  },
  {
   "cell_type": "code",
   "execution_count": 144,
   "metadata": {},
   "outputs": [
    {
     "data": {
      "image/png": "[encoded data removed]",
      "text/plain": [
       "<Figure size 1008x432 with 2 Axes>"
      ]
     },
     "metadata": {},
     "output_type": "display_data"
    }
   ],
   "source": [
    "# сводная таблица по датам и устройства в группе А\n",
    "final_df_A.pivot_table(\n",
    "    index='event_dt', \n",
    "    columns='device', \n",
    "    values='user_id', \n",
    "    aggfunc='nunique'\n",
    ").plot(\n",
    "    grid=True, \n",
    "    figsize=(14,6), \n",
    "    ax=plt.subplot(1, 2, 1)\n",
    ")\n",
    "plt.legend().set_visible(False)\n",
    "plt.ylabel('Количество уникальных пользователей')\n",
    "plt.xlabel('Дата')\n",
    "plt.title('Группа А')\n",
    "plt.ylim(0, 400)\n",
    "\n",
    "final_df_B.pivot_table(\n",
    "    index='event_dt', \n",
    "    columns='device', \n",
    "    values='user_id', \n",
    "    aggfunc='nunique'\n",
    ").plot(\n",
    "    grid=True, \n",
    "    figsize=(14,6), \n",
    "    ax=plt.subplot(1, 2, 2)\n",
    ")\n",
    "plt.xlabel('Дата')\n",
    "plt.title('Группа В')\n",
    "plt.ylim(0, 400)\n",
    "\n",
    "plt.legend(title='Устройство', title_fontsize = 10,  prop = {'size' : 10}, bbox_to_anchor= (1, 1));\n",
    "plt.suptitle('Распределение пользователей по используемым устройствам и датам', fontsize=16)\n",
    "plt.tight_layout()\n",
    "plt.ylim(0, 400)\n",
    "\n",
    "plt.show()"
   ]
  },
  {
   "cell_type": "markdown",
   "metadata": {},
   "source": [
    "В обеих группах наблюдается преимущественной использование устройств на Android и минимальное использование устройств iPhone.\n",
    "При этом, если в группе А пользователи PC превышают пользователей Mac, то в группе B эти два устройства все время конкурируют с разными успехами между собой."
   ]
  },
  {
   "cell_type": "markdown",
   "metadata": {},
   "source": [
    "#### График кумулятивной выручки по группам"
   ]
  },
  {
   "cell_type": "code",
   "execution_count": 145,
   "metadata": {},
   "outputs": [
    {
     "data": {
      "image/png": "[encoded data removed]",
      "text/plain": [
       "<Figure size 864x576 with 1 Axes>"
      ]
     },
     "metadata": {},
     "output_type": "display_data"
    }
   ],
   "source": [
    "plt.figure(figsize=(12, 8))\n",
    "# Строим график выручки группы А\n",
    "plt.plot(cumulativeRevenueA['event_dt'], cumulativeRevenueA['details'], label='A')\n",
    "\n",
    "# Строим график выручки группы B\n",
    "plt.plot(cumulativeRevenueB['event_dt'], cumulativeRevenueB['details'], label='B')\n",
    "\n",
    "plt.legend(title= 'Группы', title_fontsize = 10,  prop = {'size' : 14}) \n",
    "plt.ylabel('Выручка заказа')\n",
    "plt.xlabel('Дата ')\n",
    "plt.title('Динамика кумулятивной выручки по группам', fontsize=16)\n",
    "plt.grid(visible=True, linewidth=0.2, color='#000000')"
   ]
  },
  {
   "cell_type": "markdown",
   "metadata": {},
   "source": [
    "Выручка группы B почти равномерно увеличивается в течение всего теста. Выручка группы A в середине теста резко увеличивается относительно группы B и продолжает лидировать весь остаток теста. Похоже, что на этот период пришлись аномально большие покупки, которые могли быть вызваны маркетинговой акцией"
   ]
  },
  {
   "cell_type": "markdown",
   "metadata": {},
   "source": [
    "#### График кумулятивного среднего чека по группам¶"
   ]
  },
  {
   "cell_type": "code",
   "execution_count": 146,
   "metadata": {
    "scrolled": false
   },
   "outputs": [
    {
     "data": {
      "image/png": "[encoded data removed]",
      "text/plain": [
       "<Figure size 864x576 with 1 Axes>"
      ]
     },
     "metadata": {},
     "output_type": "display_data"
    }
   ],
   "source": [
    "# Построим графики среднего чека по группам — разделим кумулятивную выручку на кумулятивное число покупок\n",
    "plt.figure(figsize=(12, 8))\n",
    "plt.plot(cumulativeRevenueA['event_dt'], cumulativeRevenueA['details']/cumulativeRevenueA['orders'], label='A')\n",
    "plt.plot(cumulativeRevenueB['event_dt'], cumulativeRevenueB['details']/cumulativeRevenueB['orders'], label='B')\n",
    "plt.legend(title= 'Группы', title_fontsize = 10,  prop = {'size' : 14}) \n",
    "plt.ylabel('Выручка заказа')\n",
    "plt.xlabel('Дата ')\n",
    "plt.title('Динамика кумулятивного среднего чека по группам', fontsize=16)\n",
    "plt.grid(visible=True, linewidth=0.2, color='#000000')"
   ]
  },
  {
   "cell_type": "markdown",
   "metadata": {},
   "source": [
    "Кумулятивное значение среднего чека для группы А на всем протяжении теста росла и начала резко увеличиваться с 21 декабря, вероятно могла повлиять маркетинговая акция, которая проводилась в это время.\n",
    "Скачкообразное поведение для группы В в середине теста снова дает основание для предположения, что в группу В попали крупные заказы или как-то изменилось их количество."
   ]
  },
  {
   "cell_type": "markdown",
   "metadata": {},
   "source": [
    "#### График кумулятивного среднего количества заказов на пользователя по группам"
   ]
  },
  {
   "cell_type": "code",
   "execution_count": 147,
   "metadata": {
    "scrolled": false
   },
   "outputs": [
    {
     "data": {
      "image/png": "[encoded data removed]",
      "text/plain": [
       "<Figure size 864x576 with 1 Axes>"
      ]
     },
     "metadata": {},
     "output_type": "display_data"
    }
   ],
   "source": [
    "plt.figure(figsize=(12, 8))\n",
    "# Строим график количества покупок группы А\n",
    "plt.plot(cumulativeRevenueA['event_dt'], cumulativeRevenueA['orders']/cumulativeRevenueA['user_id'], label='A')\n",
    "\n",
    "# Строим график количества покупок группы B\n",
    "plt.plot(cumulativeRevenueB['event_dt'], cumulativeRevenueB['orders']/cumulativeRevenueB['user_id'], label='B')\n",
    "\n",
    "plt.legend(title= 'Группы', title_fontsize = 10,  prop = {'size' : 14}) \n",
    "plt.ylabel('Среднее количество покупок на посетителя')\n",
    "plt.xlabel('Дата ')\n",
    "plt.title('Динамика кумулятивного среднего количества покупок на посетителя по группам', fontsize=16)\n",
    "plt.grid(visible=True, linewidth=0.2, color='#000000')"
   ]
  },
  {
   "cell_type": "markdown",
   "metadata": {},
   "source": [
    "В начале теста количество покупок в группе B было выше, чем в группе A, но после 9 декабря среднее количество покупок в группе А было примерно на 5% пунктов выше до конца теста (кроме провала группы А примерно 13 декабря)"
   ]
  },
  {
   "cell_type": "markdown",
   "metadata": {},
   "source": [
    "### Воронка"
   ]
  },
  {
   "cell_type": "code",
   "execution_count": 148,
   "metadata": {},
   "outputs": [],
   "source": [
    "# количество событий в группе А по уникальным пользователям\n",
    "final_df_A_funnel = final_df_A.pivot_table(index='event_name',values='user_id',aggfunc='nunique').reindex(\n",
    "    ['login', 'product_page', 'product_cart',  'purchase']\n",
    ")\n",
    "\n",
    "# этапы воронки\n",
    "stages = final_df_A_funnel.index.to_list()\n",
    "\n",
    "\n",
    "x_A = final_df_A_funnel['user_id'].to_list()\n",
    "\n",
    "\n",
    "# количество событий в группе B по уникальным пользователям\n",
    "final_df_B_funnel = final_df_B.pivot_table(index='event_name',values='user_id',aggfunc='nunique').reindex(\n",
    "    ['login', 'product_page', 'product_cart',  'purchase']\n",
    ")\n",
    "x_B = final_df_B_funnel['user_id'].to_list()\n"
   ]
  },
  {
   "cell_type": "code",
   "execution_count": 149,
   "metadata": {},
   "outputs": [
    {
     "data": {
      "application/vnd.plotly.v1+json": {
       "config": {
        "plotlyServerURL": "https://plot.ly"
       },
       "data": [
        {
         "name": "группа A",
         "textinfo": "value+percent initial",
         "type": "funnel",
         "x": [
          2604,
          1685,
          782,
          833
         ],
         "y": [
          "login",
          "product_page",
          "product_cart",
          "purchase"
         ]
        },
        {
         "name": "группа B",
         "textinfo": "value+percent initial",
         "type": "funnel",
         "x": [
          876,
          493,
          244,
          249
         ],
         "y": [
          "login",
          "product_page",
          "product_cart",
          "purchase"
         ]
        }
       ],
       "layout": {
        "template": {
         "data": {
          "bar": [
           {
            "error_x": {
             "color": "#2a3f5f"
            },
            "error_y": {
             "color": "#2a3f5f"
            },
            "marker": {
             "line": {
              "color": "#E5ECF6",
              "width": 0.5
             },
             "pattern": {
              "fillmode": "overlay",
              "size": 10,
              "solidity": 0.2
             }
            },
            "type": "bar"
           }
          ],
          "barpolar": [
           {
            "marker": {
             "line": {
              "color": "#E5ECF6",
              "width": 0.5
             },
             "pattern": {
              "fillmode": "overlay",
              "size": 10,
              "solidity": 0.2
             }
            },
            "type": "barpolar"
           }
          ],
          "carpet": [
           {
            "aaxis": {
             "endlinecolor": "#2a3f5f",
             "gridcolor": "white",
             "linecolor": "white",
             "minorgridcolor": "white",
             "startlinecolor": "#2a3f5f"
            },
            "baxis": {
             "endlinecolor": "#2a3f5f",
             "gridcolor": "white",
             "linecolor": "white",
             "minorgridcolor": "white",
             "startlinecolor": "#2a3f5f"
            },
            "type": "carpet"
           }
          ],
          "choropleth": [
           {
            "colorbar": {
             "outlinewidth": 0,
             "ticks": ""
            },
            "type": "choropleth"
           }
          ],
          "contour": [
           {
            "colorbar": {
             "outlinewidth": 0,
             "ticks": ""
            },
            "colorscale": [
             [
              0,
              "#0d0887"
             ],
             [
              0.1111111111111111,
              "#46039f"
             ],
             [
              0.2222222222222222,
              "#7201a8"
             ],
             [
              0.3333333333333333,
              "#9c179e"
             ],
             [
              0.4444444444444444,
              "#bd3786"
             ],
             [
              0.5555555555555556,
              "#d8576b"
             ],
             [
              0.6666666666666666,
              "#ed7953"
             ],
             [
              0.7777777777777778,
              "#fb9f3a"
             ],
             [
              0.8888888888888888,
              "#fdca26"
             ],
             [
              1,
              "#f0f921"
             ]
            ],
            "type": "contour"
           }
          ],
          "contourcarpet": [
           {
            "colorbar": {
             "outlinewidth": 0,
             "ticks": ""
            },
            "type": "contourcarpet"
           }
          ],
          "heatmap": [
           {
            "colorbar": {
             "outlinewidth": 0,
             "ticks": ""
            },
            "colorscale": [
             [
              0,
              "#0d0887"
             ],
             [
              0.1111111111111111,
              "#46039f"
             ],
             [
              0.2222222222222222,
              "#7201a8"
             ],
             [
              0.3333333333333333,
              "#9c179e"
             ],
             [
              0.4444444444444444,
              "#bd3786"
             ],
             [
              0.5555555555555556,
              "#d8576b"
             ],
             [
              0.6666666666666666,
              "#ed7953"
             ],
             [
              0.7777777777777778,
              "#fb9f3a"
             ],
             [
              0.8888888888888888,
              "#fdca26"
             ],
             [
              1,
              "#f0f921"
             ]
            ],
            "type": "heatmap"
           }
          ],
          "heatmapgl": [
           {
            "colorbar": {
             "outlinewidth": 0,
             "ticks": ""
            },
            "colorscale": [
             [
              0,
              "#0d0887"
             ],
             [
              0.1111111111111111,
              "#46039f"
             ],
             [
              0.2222222222222222,
              "#7201a8"
             ],
             [
              0.3333333333333333,
              "#9c179e"
             ],
             [
              0.4444444444444444,
              "#bd3786"
             ],
             [
              0.5555555555555556,
              "#d8576b"
             ],
             [
              0.6666666666666666,
              "#ed7953"
             ],
             [
              0.7777777777777778,
              "#fb9f3a"
             ],
             [
              0.8888888888888888,
              "#fdca26"
             ],
             [
              1,
              "#f0f921"
             ]
            ],
            "type": "heatmapgl"
           }
          ],
          "histogram": [
           {
            "marker": {
             "pattern": {
              "fillmode": "overlay",
              "size": 10,
              "solidity": 0.2
             }
            },
            "type": "histogram"
           }
          ],
          "histogram2d": [
           {
            "colorbar": {
             "outlinewidth": 0,
             "ticks": ""
            },
            "colorscale": [
             [
              0,
              "#0d0887"
             ],
             [
              0.1111111111111111,
              "#46039f"
             ],
             [
              0.2222222222222222,
              "#7201a8"
             ],
             [
              0.3333333333333333,
              "#9c179e"
             ],
             [
              0.4444444444444444,
              "#bd3786"
             ],
             [
              0.5555555555555556,
              "#d8576b"
             ],
             [
              0.6666666666666666,
              "#ed7953"
             ],
             [
              0.7777777777777778,
              "#fb9f3a"
             ],
             [
              0.8888888888888888,
              "#fdca26"
             ],
             [
              1,
              "#f0f921"
             ]
            ],
            "type": "histogram2d"
           }
          ],
          "histogram2dcontour": [
           {
            "colorbar": {
             "outlinewidth": 0,
             "ticks": ""
            },
            "colorscale": [
             [
              0,
              "#0d0887"
             ],
             [
              0.1111111111111111,
              "#46039f"
             ],
             [
              0.2222222222222222,
              "#7201a8"
             ],
             [
              0.3333333333333333,
              "#9c179e"
             ],
             [
              0.4444444444444444,
              "#bd3786"
             ],
             [
              0.5555555555555556,
              "#d8576b"
             ],
             [
              0.6666666666666666,
              "#ed7953"
             ],
             [
              0.7777777777777778,
              "#fb9f3a"
             ],
             [
              0.8888888888888888,
              "#fdca26"
             ],
             [
              1,
              "#f0f921"
             ]
            ],
            "type": "histogram2dcontour"
           }
          ],
          "mesh3d": [
           {
            "colorbar": {
             "outlinewidth": 0,
             "ticks": ""
            },
            "type": "mesh3d"
           }
          ],
          "parcoords": [
           {
            "line": {
             "colorbar": {
              "outlinewidth": 0,
              "ticks": ""
             }
            },
            "type": "parcoords"
           }
          ],
          "pie": [
           {
            "automargin": true,
            "type": "pie"
           }
          ],
          "scatter": [
           {
            "marker": {
             "colorbar": {
              "outlinewidth": 0,
              "ticks": ""
             }
            },
            "type": "scatter"
           }
          ],
          "scatter3d": [
           {
            "line": {
             "colorbar": {
              "outlinewidth": 0,
              "ticks": ""
             }
            },
            "marker": {
             "colorbar": {
              "outlinewidth": 0,
              "ticks": ""
             }
            },
            "type": "scatter3d"
           }
          ],
          "scattercarpet": [
           {
            "marker": {
             "colorbar": {
              "outlinewidth": 0,
              "ticks": ""
             }
            },
            "type": "scattercarpet"
           }
          ],
          "scattergeo": [
           {
            "marker": {
             "colorbar": {
              "outlinewidth": 0,
              "ticks": ""
             }
            },
            "type": "scattergeo"
           }
          ],
          "scattergl": [
           {
            "marker": {
             "colorbar": {
              "outlinewidth": 0,
              "ticks": ""
             }
            },
            "type": "scattergl"
           }
          ],
          "scattermapbox": [
           {
            "marker": {
             "colorbar": {
              "outlinewidth": 0,
              "ticks": ""
             }
            },
            "type": "scattermapbox"
           }
          ],
          "scatterpolar": [
           {
            "marker": {
             "colorbar": {
              "outlinewidth": 0,
              "ticks": ""
             }
            },
            "type": "scatterpolar"
           }
          ],
          "scatterpolargl": [
           {
            "marker": {
             "colorbar": {
              "outlinewidth": 0,
              "ticks": ""
             }
            },
            "type": "scatterpolargl"
           }
          ],
          "scatterternary": [
           {
            "marker": {
             "colorbar": {
              "outlinewidth": 0,
              "ticks": ""
             }
            },
            "type": "scatterternary"
           }
          ],
          "surface": [
           {
            "colorbar": {
             "outlinewidth": 0,
             "ticks": ""
            },
            "colorscale": [
             [
              0,
              "#0d0887"
             ],
             [
              0.1111111111111111,
              "#46039f"
             ],
             [
              0.2222222222222222,
              "#7201a8"
             ],
             [
              0.3333333333333333,
              "#9c179e"
             ],
             [
              0.4444444444444444,
              "#bd3786"
             ],
             [
              0.5555555555555556,
              "#d8576b"
             ],
             [
              0.6666666666666666,
              "#ed7953"
             ],
             [
              0.7777777777777778,
              "#fb9f3a"
             ],
             [
              0.8888888888888888,
              "#fdca26"
             ],
             [
              1,
              "#f0f921"
             ]
            ],
            "type": "surface"
           }
          ],
          "table": [
           {
            "cells": {
             "fill": {
              "color": "#EBF0F8"
             },
             "line": {
              "color": "white"
             }
            },
            "header": {
             "fill": {
              "color": "#C8D4E3"
             },
             "line": {
              "color": "white"
             }
            },
            "type": "table"
           }
          ]
         },
         "layout": {
          "annotationdefaults": {
           "arrowcolor": "#2a3f5f",
           "arrowhead": 0,
           "arrowwidth": 1
          },
          "autotypenumbers": "strict",
          "coloraxis": {
           "colorbar": {
            "outlinewidth": 0,
            "ticks": ""
           }
          },
          "colorscale": {
           "diverging": [
            [
             0,
             "#8e0152"
            ],
            [
             0.1,
             "#c51b7d"
            ],
            [
             0.2,
             "#de77ae"
            ],
            [
             0.3,
             "#f1b6da"
            ],
            [
             0.4,
             "#fde0ef"
            ],
            [
             0.5,
             "#f7f7f7"
            ],
            [
             0.6,
             "#e6f5d0"
            ],
            [
             0.7,
             "#b8e186"
            ],
            [
             0.8,
             "#7fbc41"
            ],
            [
             0.9,
             "#4d9221"
            ],
            [
             1,
             "#276419"
            ]
           ],
           "sequential": [
            [
             0,
             "#0d0887"
            ],
            [
             0.1111111111111111,
             "#46039f"
            ],
            [
             0.2222222222222222,
             "#7201a8"
            ],
            [
             0.3333333333333333,
             "#9c179e"
            ],
            [
             0.4444444444444444,
             "#bd3786"
            ],
            [
             0.5555555555555556,
             "#d8576b"
            ],
            [
             0.6666666666666666,
             "#ed7953"
            ],
            [
             0.7777777777777778,
             "#fb9f3a"
            ],
            [
             0.8888888888888888,
             "#fdca26"
            ],
            [
             1,
             "#f0f921"
            ]
           ],
           "sequentialminus": [
            [
             0,
             "#0d0887"
            ],
            [
             0.1111111111111111,
             "#46039f"
            ],
            [
             0.2222222222222222,
             "#7201a8"
            ],
            [
             0.3333333333333333,
             "#9c179e"
            ],
            [
             0.4444444444444444,
             "#bd3786"
            ],
            [
             0.5555555555555556,
             "#d8576b"
            ],
            [
             0.6666666666666666,
             "#ed7953"
            ],
            [
             0.7777777777777778,
             "#fb9f3a"
            ],
            [
             0.8888888888888888,
             "#fdca26"
            ],
            [
             1,
             "#f0f921"
            ]
           ]
          },
          "colorway": [
           "#636efa",
           "#EF553B",
           "#00cc96",
           "#ab63fa",
           "#FFA15A",
           "#19d3f3",
           "#FF6692",
           "#B6E880",
           "#FF97FF",
           "#FECB52"
          ],
          "font": {
           "color": "#2a3f5f"
          },
          "geo": {
           "bgcolor": "white",
           "lakecolor": "white",
           "landcolor": "#E5ECF6",
           "showlakes": true,
           "showland": true,
           "subunitcolor": "white"
          },
          "hoverlabel": {
           "align": "left"
          },
          "hovermode": "closest",
          "mapbox": {
           "style": "light"
          },
          "paper_bgcolor": "white",
          "plot_bgcolor": "#E5ECF6",
          "polar": {
           "angularaxis": {
            "gridcolor": "white",
            "linecolor": "white",
            "ticks": ""
           },
           "bgcolor": "#E5ECF6",
           "radialaxis": {
            "gridcolor": "white",
            "linecolor": "white",
            "ticks": ""
           }
          },
          "scene": {
           "xaxis": {
            "backgroundcolor": "#E5ECF6",
            "gridcolor": "white",
            "gridwidth": 2,
            "linecolor": "white",
            "showbackground": true,
            "ticks": "",
            "zerolinecolor": "white"
           },
           "yaxis": {
            "backgroundcolor": "#E5ECF6",
            "gridcolor": "white",
            "gridwidth": 2,
            "linecolor": "white",
            "showbackground": true,
            "ticks": "",
            "zerolinecolor": "white"
           },
           "zaxis": {
            "backgroundcolor": "#E5ECF6",
            "gridcolor": "white",
            "gridwidth": 2,
            "linecolor": "white",
            "showbackground": true,
            "ticks": "",
            "zerolinecolor": "white"
           }
          },
          "shapedefaults": {
           "line": {
            "color": "#2a3f5f"
           }
          },
          "ternary": {
           "aaxis": {
            "gridcolor": "white",
            "linecolor": "white",
            "ticks": ""
           },
           "baxis": {
            "gridcolor": "white",
            "linecolor": "white",
            "ticks": ""
           },
           "bgcolor": "#E5ECF6",
           "caxis": {
            "gridcolor": "white",
            "linecolor": "white",
            "ticks": ""
           }
          },
          "title": {
           "x": 0.05
          },
          "xaxis": {
           "automargin": true,
           "gridcolor": "white",
           "linecolor": "white",
           "ticks": "",
           "title": {
            "standoff": 15
           },
           "zerolinecolor": "white",
           "zerolinewidth": 2
          },
          "yaxis": {
           "automargin": true,
           "gridcolor": "white",
           "linecolor": "white",
           "ticks": "",
           "title": {
            "standoff": 15
           },
           "zerolinecolor": "white",
           "zerolinewidth": 2
          }
         }
        },
        "title": {
         "text": "Воронка конверсий действий пользователей"
        }
       }
      },
      "text/html": [
       "<div>                            <div id=\"1f6fa46b-353e-4d45-8265-0a8f62163a38\" class=\"plotly-graph-div\" style=\"height:525px; width:100%;\"></div>            <script type=\"text/javascript\">                require([\"plotly\"], function(Plotly) {                    window.PLOTLYENV=window.PLOTLYENV || {};                                    if (document.getElementById(\"1f6fa46b-353e-4d45-8265-0a8f62163a38\")) {                    Plotly.newPlot(                        \"1f6fa46b-353e-4d45-8265-0a8f62163a38\",                        [{\"name\":\"\\u0433\\u0440\\u0443\\u043f\\u043f\\u0430 A\",\"textinfo\":\"value+percent initial\",\"x\":[2604,1685,782,833],\"y\":[\"login\",\"product_page\",\"product_cart\",\"purchase\"],\"type\":\"funnel\"},{\"name\":\"\\u0433\\u0440\\u0443\\u043f\\u043f\\u0430 B\",\"textinfo\":\"value+percent initial\",\"x\":[876,493,244,249],\"y\":[\"login\",\"product_page\",\"product_cart\",\"purchase\"],\"type\":\"funnel\"}],                        {\"template\":{\"data\":{\"bar\":[{\"error_x\":{\"color\":\"#2a3f5f\"},\"error_y\":{\"color\":\"#2a3f5f\"},\"marker\":{\"line\":{\"color\":\"#E5ECF6\",\"width\":0.5},\"pattern\":{\"fillmode\":\"overlay\",\"size\":10,\"solidity\":0.2}},\"type\":\"bar\"}],\"barpolar\":[{\"marker\":{\"line\":{\"color\":\"#E5ECF6\",\"width\":0.5},\"pattern\":{\"fillmode\":\"overlay\",\"size\":10,\"solidity\":0.2}},\"type\":\"barpolar\"}],\"carpet\":[{\"aaxis\":{\"endlinecolor\":\"#2a3f5f\",\"gridcolor\":\"white\",\"linecolor\":\"white\",\"minorgridcolor\":\"white\",\"startlinecolor\":\"#2a3f5f\"},\"baxis\":{\"endlinecolor\":\"#2a3f5f\",\"gridcolor\":\"white\",\"linecolor\":\"white\",\"minorgridcolor\":\"white\",\"startlinecolor\":\"#2a3f5f\"},\"type\":\"carpet\"}],\"choropleth\":[{\"colorbar\":{\"outlinewidth\":0,\"ticks\":\"\"},\"type\":\"choropleth\"}],\"contour\":[{\"colorbar\":{\"outlinewidth\":0,\"ticks\":\"\"},\"colorscale\":[[0.0,\"#0d0887\"],[0.1111111111111111,\"#46039f\"],[0.2222222222222222,\"#7201a8\"],[0.3333333333333333,\"#9c179e\"],[0.4444444444444444,\"#bd3786\"],[0.5555555555555556,\"#d8576b\"],[0.6666666666666666,\"#ed7953\"],[0.7777777777777778,\"#fb9f3a\"],[0.8888888888888888,\"#fdca26\"],[1.0,\"#f0f921\"]],\"type\":\"contour\"}],\"contourcarpet\":[{\"colorbar\":{\"outlinewidth\":0,\"ticks\":\"\"},\"type\":\"contourcarpet\"}],\"heatmap\":[{\"colorbar\":{\"outlinewidth\":0,\"ticks\":\"\"},\"colorscale\":[[0.0,\"#0d0887\"],[0.1111111111111111,\"#46039f\"],[0.2222222222222222,\"#7201a8\"],[0.3333333333333333,\"#9c179e\"],[0.4444444444444444,\"#bd3786\"],[0.5555555555555556,\"#d8576b\"],[0.6666666666666666,\"#ed7953\"],[0.7777777777777778,\"#fb9f3a\"],[0.8888888888888888,\"#fdca26\"],[1.0,\"#f0f921\"]],\"type\":\"heatmap\"}],\"heatmapgl\":[{\"colorbar\":{\"outlinewidth\":0,\"ticks\":\"\"},\"colorscale\":[[0.0,\"#0d0887\"],[0.1111111111111111,\"#46039f\"],[0.2222222222222222,\"#7201a8\"],[0.3333333333333333,\"#9c179e\"],[0.4444444444444444,\"#bd3786\"],[0.5555555555555556,\"#d8576b\"],[0.6666666666666666,\"#ed7953\"],[0.7777777777777778,\"#fb9f3a\"],[0.8888888888888888,\"#fdca26\"],[1.0,\"#f0f921\"]],\"type\":\"heatmapgl\"}],\"histogram\":[{\"marker\":{\"pattern\":{\"fillmode\":\"overlay\",\"size\":10,\"solidity\":0.2}},\"type\":\"histogram\"}],\"histogram2d\":[{\"colorbar\":{\"outlinewidth\":0,\"ticks\":\"\"},\"colorscale\":[[0.0,\"#0d0887\"],[0.1111111111111111,\"#46039f\"],[0.2222222222222222,\"#7201a8\"],[0.3333333333333333,\"#9c179e\"],[0.4444444444444444,\"#bd3786\"],[0.5555555555555556,\"#d8576b\"],[0.6666666666666666,\"#ed7953\"],[0.7777777777777778,\"#fb9f3a\"],[0.8888888888888888,\"#fdca26\"],[1.0,\"#f0f921\"]],\"type\":\"histogram2d\"}],\"histogram2dcontour\":[{\"colorbar\":{\"outlinewidth\":0,\"ticks\":\"\"},\"colorscale\":[[0.0,\"#0d0887\"],[0.1111111111111111,\"#46039f\"],[0.2222222222222222,\"#7201a8\"],[0.3333333333333333,\"#9c179e\"],[0.4444444444444444,\"#bd3786\"],[0.5555555555555556,\"#d8576b\"],[0.6666666666666666,\"#ed7953\"],[0.7777777777777778,\"#fb9f3a\"],[0.8888888888888888,\"#fdca26\"],[1.0,\"#f0f921\"]],\"type\":\"histogram2dcontour\"}],\"mesh3d\":[{\"colorbar\":{\"outlinewidth\":0,\"ticks\":\"\"},\"type\":\"mesh3d\"}],\"parcoords\":[{\"line\":{\"colorbar\":{\"outlinewidth\":0,\"ticks\":\"\"}},\"type\":\"parcoords\"}],\"pie\":[{\"automargin\":true,\"type\":\"pie\"}],\"scatter\":[{\"marker\":{\"colorbar\":{\"outlinewidth\":0,\"ticks\":\"\"}},\"type\":\"scatter\"}],\"scatter3d\":[{\"line\":{\"colorbar\":{\"outlinewidth\":0,\"ticks\":\"\"}},\"marker\":{\"colorbar\":{\"outlinewidth\":0,\"ticks\":\"\"}},\"type\":\"scatter3d\"}],\"scattercarpet\":[{\"marker\":{\"colorbar\":{\"outlinewidth\":0,\"ticks\":\"\"}},\"type\":\"scattercarpet\"}],\"scattergeo\":[{\"marker\":{\"colorbar\":{\"outlinewidth\":0,\"ticks\":\"\"}},\"type\":\"scattergeo\"}],\"scattergl\":[{\"marker\":{\"colorbar\":{\"outlinewidth\":0,\"ticks\":\"\"}},\"type\":\"scattergl\"}],\"scattermapbox\":[{\"marker\":{\"colorbar\":{\"outlinewidth\":0,\"ticks\":\"\"}},\"type\":\"scattermapbox\"}],\"scatterpolar\":[{\"marker\":{\"colorbar\":{\"outlinewidth\":0,\"ticks\":\"\"}},\"type\":\"scatterpolar\"}],\"scatterpolargl\":[{\"marker\":{\"colorbar\":{\"outlinewidth\":0,\"ticks\":\"\"}},\"type\":\"scatterpolargl\"}],\"scatterternary\":[{\"marker\":{\"colorbar\":{\"outlinewidth\":0,\"ticks\":\"\"}},\"type\":\"scatterternary\"}],\"surface\":[{\"colorbar\":{\"outlinewidth\":0,\"ticks\":\"\"},\"colorscale\":[[0.0,\"#0d0887\"],[0.1111111111111111,\"#46039f\"],[0.2222222222222222,\"#7201a8\"],[0.3333333333333333,\"#9c179e\"],[0.4444444444444444,\"#bd3786\"],[0.5555555555555556,\"#d8576b\"],[0.6666666666666666,\"#ed7953\"],[0.7777777777777778,\"#fb9f3a\"],[0.8888888888888888,\"#fdca26\"],[1.0,\"#f0f921\"]],\"type\":\"surface\"}],\"table\":[{\"cells\":{\"fill\":{\"color\":\"#EBF0F8\"},\"line\":{\"color\":\"white\"}},\"header\":{\"fill\":{\"color\":\"#C8D4E3\"},\"line\":{\"color\":\"white\"}},\"type\":\"table\"}]},\"layout\":{\"annotationdefaults\":{\"arrowcolor\":\"#2a3f5f\",\"arrowhead\":0,\"arrowwidth\":1},\"autotypenumbers\":\"strict\",\"coloraxis\":{\"colorbar\":{\"outlinewidth\":0,\"ticks\":\"\"}},\"colorscale\":{\"diverging\":[[0,\"#8e0152\"],[0.1,\"#c51b7d\"],[0.2,\"#de77ae\"],[0.3,\"#f1b6da\"],[0.4,\"#fde0ef\"],[0.5,\"#f7f7f7\"],[0.6,\"#e6f5d0\"],[0.7,\"#b8e186\"],[0.8,\"#7fbc41\"],[0.9,\"#4d9221\"],[1,\"#276419\"]],\"sequential\":[[0.0,\"#0d0887\"],[0.1111111111111111,\"#46039f\"],[0.2222222222222222,\"#7201a8\"],[0.3333333333333333,\"#9c179e\"],[0.4444444444444444,\"#bd3786\"],[0.5555555555555556,\"#d8576b\"],[0.6666666666666666,\"#ed7953\"],[0.7777777777777778,\"#fb9f3a\"],[0.8888888888888888,\"#fdca26\"],[1.0,\"#f0f921\"]],\"sequentialminus\":[[0.0,\"#0d0887\"],[0.1111111111111111,\"#46039f\"],[0.2222222222222222,\"#7201a8\"],[0.3333333333333333,\"#9c179e\"],[0.4444444444444444,\"#bd3786\"],[0.5555555555555556,\"#d8576b\"],[0.6666666666666666,\"#ed7953\"],[0.7777777777777778,\"#fb9f3a\"],[0.8888888888888888,\"#fdca26\"],[1.0,\"#f0f921\"]]},\"colorway\":[\"#636efa\",\"#EF553B\",\"#00cc96\",\"#ab63fa\",\"#FFA15A\",\"#19d3f3\",\"#FF6692\",\"#B6E880\",\"#FF97FF\",\"#FECB52\"],\"font\":{\"color\":\"#2a3f5f\"},\"geo\":{\"bgcolor\":\"white\",\"lakecolor\":\"white\",\"landcolor\":\"#E5ECF6\",\"showlakes\":true,\"showland\":true,\"subunitcolor\":\"white\"},\"hoverlabel\":{\"align\":\"left\"},\"hovermode\":\"closest\",\"mapbox\":{\"style\":\"light\"},\"paper_bgcolor\":\"white\",\"plot_bgcolor\":\"#E5ECF6\",\"polar\":{\"angularaxis\":{\"gridcolor\":\"white\",\"linecolor\":\"white\",\"ticks\":\"\"},\"bgcolor\":\"#E5ECF6\",\"radialaxis\":{\"gridcolor\":\"white\",\"linecolor\":\"white\",\"ticks\":\"\"}},\"scene\":{\"xaxis\":{\"backgroundcolor\":\"#E5ECF6\",\"gridcolor\":\"white\",\"gridwidth\":2,\"linecolor\":\"white\",\"showbackground\":true,\"ticks\":\"\",\"zerolinecolor\":\"white\"},\"yaxis\":{\"backgroundcolor\":\"#E5ECF6\",\"gridcolor\":\"white\",\"gridwidth\":2,\"linecolor\":\"white\",\"showbackground\":true,\"ticks\":\"\",\"zerolinecolor\":\"white\"},\"zaxis\":{\"backgroundcolor\":\"#E5ECF6\",\"gridcolor\":\"white\",\"gridwidth\":2,\"linecolor\":\"white\",\"showbackground\":true,\"ticks\":\"\",\"zerolinecolor\":\"white\"}},\"shapedefaults\":{\"line\":{\"color\":\"#2a3f5f\"}},\"ternary\":{\"aaxis\":{\"gridcolor\":\"white\",\"linecolor\":\"white\",\"ticks\":\"\"},\"baxis\":{\"gridcolor\":\"white\",\"linecolor\":\"white\",\"ticks\":\"\"},\"bgcolor\":\"#E5ECF6\",\"caxis\":{\"gridcolor\":\"white\",\"linecolor\":\"white\",\"ticks\":\"\"}},\"title\":{\"x\":0.05},\"xaxis\":{\"automargin\":true,\"gridcolor\":\"white\",\"linecolor\":\"white\",\"ticks\":\"\",\"title\":{\"standoff\":15},\"zerolinecolor\":\"white\",\"zerolinewidth\":2},\"yaxis\":{\"automargin\":true,\"gridcolor\":\"white\",\"linecolor\":\"white\",\"ticks\":\"\",\"title\":{\"standoff\":15},\"zerolinecolor\":\"white\",\"zerolinewidth\":2}}},\"title\":{\"text\":\"\\u0412\\u043e\\u0440\\u043e\\u043d\\u043a\\u0430 \\u043a\\u043e\\u043d\\u0432\\u0435\\u0440\\u0441\\u0438\\u0439 \\u0434\\u0435\\u0439\\u0441\\u0442\\u0432\\u0438\\u0439 \\u043f\\u043e\\u043b\\u044c\\u0437\\u043e\\u0432\\u0430\\u0442\\u0435\\u043b\\u0435\\u0439\"}},                        {\"responsive\": true}                    ).then(function(){\n",
       "                            \n",
       "var gd = document.getElementById('1f6fa46b-353e-4d45-8265-0a8f62163a38');\n",
       "var x = new MutationObserver(function (mutations, observer) {{\n",
       "        var display = window.getComputedStyle(gd).display;\n",
       "        if (!display || display === 'none') {{\n",
       "            console.log([gd, 'removed!']);\n",
       "            Plotly.purge(gd);\n",
       "            observer.disconnect();\n",
       "        }}\n",
       "}});\n",
       "\n",
       "// Listen for the removal of the full notebook cells\n",
       "var notebookContainer = gd.closest('#notebook-container');\n",
       "if (notebookContainer) {{\n",
       "    x.observe(notebookContainer, {childList: true});\n",
       "}}\n",
       "\n",
       "// Listen for the clearing of the current output cell\n",
       "var outputEl = gd.closest('.output');\n",
       "if (outputEl) {{\n",
       "    x.observe(outputEl, {childList: true});\n",
       "}}\n",
       "\n",
       "                        })                };                });            </script>        </div>"
      ]
     },
     "metadata": {},
     "output_type": "display_data"
    }
   ],
   "source": [
    "# построение воронки для двух групп\n",
    "fig = go.Figure()\n",
    "fig.add_trace(go.Funnel(\n",
    "    name = 'группа A',    \n",
    "    y = stages,\n",
    "    x = x_A,\n",
    "    textinfo = \"value+percent initial\"))\n",
    "\n",
    "fig.add_trace(go.Funnel(\n",
    "    name = 'группа B',\n",
    "    y = stages,\n",
    "    x = x_B,\n",
    "    textinfo = \"value+percent initial\"))\n",
    "\n",
    "fig.update_layout(title='Воронка конверсий действий пользователей')\n",
    "fig.show()"
   ]
  },
  {
   "cell_type": "markdown",
   "metadata": {},
   "source": [
    "Просмотров корзины получилось меньше чем покупок, это может означать, что корзина не является обязательным этапом воронки (т.е. реализованы покупки в один клик)."
   ]
  },
  {
   "cell_type": "markdown",
   "metadata": {},
   "source": [
    "### Выводы"
   ]
  },
  {
   "cell_type": "markdown",
   "metadata": {},
   "source": [
    "* Не более 5% посетителей совершили 14 событий. И не более 1% - больше 18.\n",
    "* Кумулятивное количество событий на протяжении теста растет в двух группах, после 17 декабря группа А становится лидером и показывает более сильный рост, чем группа В. К концу теста среднее значение отличается примерно на 1 событие на пользователя.\n",
    "* В среднем событий на пользователя в группе А было больше. С 14 декабря в группе А наблюдается резкий рост среднего числа событий с пиком 26 декабря и дальнейшим снижением к значениям начала теста.\n",
    "В группе В пики количества событий приходятся на 13, 16 и 29 декабря.\n",
    "* В первый день пользователи регистрировались в обе группы практически одинаково, затем произошел разброс. Количество пользователей в пиковые даты 14 декабря в группе А на 80% больше, чем в тот же день в группе В (второй пик в группе А - 21 декабря примерно на столько же процентов больше, чем в группе В в тот же день).\n",
    "В группе А три пиковых дня: 7, 14, 21 декабря. В группе В четыре пиковых дня: 7, 14, 16, 21 декабря\n",
    "* В обеих группах наблюдается преимущественной использование устройств на Android и минимальное использование устройств iPhone. При этом, если в группе А пользователи PC превышают пользователей Mac, то в группе B эти два устройства все время конкурируют с разными успехами между собой.\n",
    "* Выручка группы B почти равномерно увеличивается в течение всего теста. Выручка группы A в середине теста резко увеличивается относительно группы B и продолжает лидировать весь остаток теста. Похоже, что на этот период пришлись аномально большие покупки, которые могли быть вызваны маркетинговой акцией.\n",
    "* Кумулятивное значение среднего чека для группы А на всем протяжении теста росла и начала резко увеличиваться с 21 декабря, вероятно могла повлиять маркетинговая акция, которая проводилась в это время. Скачкообразное поведение для группы В в середине теста снова дает основание для предположения, что в группу В попали крупные заказы или как-то изменилось их количество.\n",
    "* Корзина не является обязательным этапом воронки (т.е. реализованы покупки в один клик)."
   ]
  },
  {
   "cell_type": "markdown",
   "metadata": {},
   "source": [
    "## Оценка результатов A/B-тестирования"
   ]
  },
  {
   "cell_type": "markdown",
   "metadata": {},
   "source": [
    "### Результаты A/В-тестирования"
   ]
  },
  {
   "cell_type": "code",
   "execution_count": 150,
   "metadata": {},
   "outputs": [
    {
     "data": {
      "text/html": [
       "<div>\n",
       "<style scoped>\n",
       "    .dataframe tbody tr th:only-of-type {\n",
       "        vertical-align: middle;\n",
       "    }\n",
       "\n",
       "    .dataframe tbody tr th {\n",
       "        vertical-align: top;\n",
       "    }\n",
       "\n",
       "    .dataframe thead th {\n",
       "        text-align: right;\n",
       "    }\n",
       "</style>\n",
       "<table border=\"1\" class=\"dataframe\">\n",
       "  <thead>\n",
       "    <tr style=\"text-align: right;\">\n",
       "      <th></th>\n",
       "      <th>event_name</th>\n",
       "      <th>count_users_A</th>\n",
       "      <th>count_users_B</th>\n",
       "      <th>cr_A</th>\n",
       "      <th>cr_B</th>\n",
       "      <th>cr_variance</th>\n",
       "    </tr>\n",
       "  </thead>\n",
       "  <tbody>\n",
       "    <tr>\n",
       "      <th>0</th>\n",
       "      <td>login</td>\n",
       "      <td>2604</td>\n",
       "      <td>876</td>\n",
       "      <td>1.00</td>\n",
       "      <td>1.00</td>\n",
       "      <td>0.00</td>\n",
       "    </tr>\n",
       "    <tr>\n",
       "      <th>1</th>\n",
       "      <td>product_page</td>\n",
       "      <td>1685</td>\n",
       "      <td>493</td>\n",
       "      <td>0.65</td>\n",
       "      <td>0.56</td>\n",
       "      <td>-13.03</td>\n",
       "    </tr>\n",
       "    <tr>\n",
       "      <th>2</th>\n",
       "      <td>product_cart</td>\n",
       "      <td>782</td>\n",
       "      <td>244</td>\n",
       "      <td>0.30</td>\n",
       "      <td>0.28</td>\n",
       "      <td>-7.25</td>\n",
       "    </tr>\n",
       "    <tr>\n",
       "      <th>3</th>\n",
       "      <td>purchase</td>\n",
       "      <td>833</td>\n",
       "      <td>249</td>\n",
       "      <td>0.32</td>\n",
       "      <td>0.28</td>\n",
       "      <td>-11.14</td>\n",
       "    </tr>\n",
       "  </tbody>\n",
       "</table>\n",
       "</div>"
      ],
      "text/plain": [
       "     event_name  count_users_A  count_users_B  cr_A  cr_B  cr_variance\n",
       "0         login           2604            876  1.00  1.00         0.00\n",
       "1  product_page           1685            493  0.65  0.56       -13.03\n",
       "2  product_cart            782            244  0.30  0.28        -7.25\n",
       "3      purchase            833            249  0.32  0.28       -11.14"
      ]
     },
     "execution_count": 150,
     "metadata": {},
     "output_type": "execute_result"
    }
   ],
   "source": [
    "# объединение данных\n",
    "df_funnel = pd.concat([final_df_A_funnel,final_df_B_funnel], axis=1).reset_index()\n",
    "df_funnel.columns = ['event_name', 'count_users_A', 'count_users_B']\n",
    "\n",
    "# конверсия\n",
    "df_funnel['cr_A'] = df_funnel['count_users_A'].div(df_funnel['count_users_A'][0])\n",
    "df_funnel['cr_B'] = df_funnel['count_users_B'].div(df_funnel['count_users_B'][0])\n",
    "\n",
    "# изменение конверсии\n",
    "df_funnel['cr_variance'] = df_funnel['cr_B']/df_funnel['cr_A'] * 100 - 100\n",
    "\n",
    "df_funnel"
   ]
  },
  {
   "cell_type": "markdown",
   "metadata": {},
   "source": [
    "За 14 дней с момента регистрации в системе пользователи показали <i>ухудшение</i> каждой метрики:\n",
    "* конверсии в просмотр карточек товаров — событие product_page — на 13%\n",
    "* просмотры корзины — product_cart — на 7.25%\n",
    "* покупки — purchase — на 11.14%"
   ]
  },
  {
   "cell_type": "markdown",
   "metadata": {},
   "source": [
    "### Проверка статистической разницы долей"
   ]
  },
  {
   "cell_type": "markdown",
   "metadata": {},
   "source": [
    "Для проведения теста будем использовать гипотезы о равенстве долей. \n",
    "\n",
    "* Нулевая гипотеза: доли не имеют статистических различий\n",
    "* Альтернативная гипотеза: доли имеют статистические различия\n"
   ]
  },
  {
   "cell_type": "code",
   "execution_count": 151,
   "metadata": {},
   "outputs": [],
   "source": [
    "# функция для z-теста\n",
    "# alpha = .05 , successes - успешные попытки, trials  - все попытки\n",
    "\n",
    "def z_test(successes, trials, alpha):  \n",
    "    \n",
    "    # параметры\n",
    "    alpha = alpha\n",
    "    successes = successes\n",
    "    trials = trials\n",
    "\n",
    "    # пропорция успехов в первой группе:\n",
    "    p1 = successes[0]/trials[0]\n",
    "\n",
    "    # пропорция успехов во второй группе:\n",
    "    p2 = successes[1]/trials[1]\n",
    "    \n",
    "    print(successes[0], successes[1], trials[0], trials[1])\n",
    "\n",
    "    # пропорция успехов в комбинированном датасете:\n",
    "    p_combined = (successes[0] + successes[1]) / (trials[0] + trials[1])\n",
    "\n",
    "    # разница пропорций в датасетах\n",
    "    difference = p1 - p2\n",
    "\n",
    "\n",
    "    # считаем статистику в ст.отклонениях стандартного нормального распределения\n",
    "    z_value = difference / math.sqrt(p_combined * (1 - p_combined) * (1/trials[0] + 1/trials[1]))\n",
    "\n",
    "    # задаем стандартное нормальное распределение (среднее 0, ст.отклонение 1)\n",
    "    distr = stats.norm(0, 1) \n",
    "\n",
    "\n",
    "    # считаем статистику в ст.отклонениях стандартного нормального распределения\n",
    "    z_value = difference / math.sqrt(\n",
    "        p_combined * (1 - p_combined) * (1 / trials[0] + 1 / trials[1])\n",
    "    )\n",
    "\n",
    "    # задаем стандартное нормальное распределение (среднее 0, ст.отклонение 1)\n",
    "    distr = stats.norm(0, 1)\n",
    "\n",
    "    p_value = (1 - distr.cdf(abs(z_value))) * 2\n",
    "\n",
    "    print('p-значение: ', p_value)\n",
    "\n",
    "    if p_value < alpha:\n",
    "        print('Отвергаем нулевую гипотезу: между долями есть значимая разница')\n",
    "    else:\n",
    "        print(\n",
    "            'Не получилось отвергнуть нулевую гипотезу, нет оснований считать доли разными'\n",
    "        )\n"
   ]
  },
  {
   "cell_type": "code",
   "execution_count": 152,
   "metadata": {},
   "outputs": [
    {
     "name": "stdout",
     "output_type": "stream",
     "text": [
      "Cобытие \"product_cart\" / successes = [782, 244]\n",
      "782 244 2604 876\n",
      "p-значение:  0.2215941567364419\n",
      "Не получилось отвергнуть нулевую гипотезу, нет оснований считать доли разными\n",
      "\n",
      "Cобытие \"product_page\" / successes = [1685, 493]\n",
      "1685 493 2604 876\n",
      "p-значение:  8.195976000324734e-06\n",
      "Отвергаем нулевую гипотезу: между долями есть значимая разница\n",
      "\n",
      "Cобытие \"purchase\" / successes = [833, 249]\n",
      "833 249 2604 876\n",
      "p-значение:  0.04864766695042433\n",
      "Не получилось отвергнуть нулевую гипотезу, нет оснований считать доли разными\n",
      "\n"
     ]
    }
   ],
   "source": [
    "# поправка Бонферрони\n",
    "alpha = .05 / 3\n",
    "# участники теста по группам\n",
    "trials = [ df_funnel['count_users_A'][0], df_funnel['count_users_B'][0] ]\n",
    "\n",
    "# событи и количество значений по группе А и группе В\n",
    "s = {    \n",
    "    'product_page': [df_funnel['count_users_A'][1], df_funnel['count_users_B'][1]], \n",
    "    'product_cart': [df_funnel['count_users_A'][2], df_funnel['count_users_B'][2]], \n",
    "    'purchase': [df_funnel['count_users_A'][3], df_funnel['count_users_B'][3]]\n",
    "}\n",
    "for el in ['product_cart', 'product_page', 'purchase']:\n",
    "    successes = s[el]\n",
    "    print(f'Cобытие \"{el}\" / successes = {s[el]}')\n",
    "    z_test(successes, trials, alpha)\n",
    "    print()"
   ]
  },
  {
   "cell_type": "markdown",
   "metadata": {},
   "source": [
    "Конверсия \"product_page\" имеет статистические отличия, тогда как в конверсиях \"product_cart\" и \"purchase\" нет оснований считать доли разными"
   ]
  },
  {
   "cell_type": "markdown",
   "metadata": {},
   "source": [
    "### Выводы"
   ]
  },
  {
   "cell_type": "markdown",
   "metadata": {},
   "source": [
    " * За 14 дней с момента регистрации в системе пользователи показали ухудшение каждой метрики\n",
    " * Конверсия \"product_page\" имеет статистические отличия, тогда как в конверсиях \"product_cart\" и \"purchase\" нет оснований считать доли разными"
   ]
  },
  {
   "cell_type": "markdown",
   "metadata": {},
   "source": [
    "## Выводы и рекомендации"
   ]
  },
  {
   "cell_type": "markdown",
   "metadata": {},
   "source": [
    "В ходе исследовательского анализа данных было выявлено:\n",
    "* Реальный период 7 - 29 декабря, а не как описано в задании (дата запуска: 2020-12-07 и дата остановки: 2021-01-04). \n",
    "* В группе А 2604 пользователя, в группе В - 877, что на 66% меньше\n",
    "* После применения фильтров по условиям технического задания аудитория теста составляет 8.22% новых пользователей из региона EU (техническое задание предполагало 15% участников). Ожидаемое количество участников теста - 6000, номинальное – 3481: в группе А 2604 пользователя, в группе В – 877 (треть от группы А)\n",
    "\n",
    "* В среднем событий на пользователя в группе А было больше. С 14 декабря в группе А наблюдается резкий рост среднего числа событий с пиком 26 декабря и дальнейшим снижением к значениям начала теста. В группе В пики среднего числа событий приходятся на 13, 16 и 29 декабря.\n",
    "\n",
    "* В первый день пользователи регистрировались в обе группы практически одинаково, затем произошел разброс. Количество пользователей в пиковые даты 14 декабря в группе А на 80% больше, чем в тот же день в группе В (второй пик в группе А - 21 декабря примерно на столько же процентов больше, чем в группе В в тот же день).\n",
    "* В обеих группах наблюдается преимущественной использование устройств на Android и минимальное использование устройств iPhone. При этом, если в группе А пользователи PC превышают пользователей Mac, то в группе B эти два устройства все время конкурируют с разными успехами между собой.\n",
    "* Выручка группы B почти равномерно увеличивается в течение всего теста. Выручка группы A в середине теста резко увеличивается относительно группы B и продолжает лидировать весь остаток теста. Похоже, что на этот период пришлись аномально большие покупки, которые могли быть вызваны маркетинговой акцией.\n",
    "* В начале теста количество покупок в группе B было выше, чем в группе A, но после 9 декабря среднее количество покупок в группе А было примерно на 5% пунктов выше до конца теста (кроме провала группы А примерно 13 декабря)\n",
    "* При построении воронки визуализировался факт, что просмотров корзины получилось меньше чем покупок, это может означать, что корзина не является обязательным этапом воронки (т.е. реализованы покупки в один клик).\n",
    "* За 14 дней с момента регистрации в системе пользователи показали ухудшение каждой метрики:\n",
    "    * конверсии в просмотр карточек товаров — событие product_page — на 13%\n",
    "    * просмотры корзины — product_cart — на 7.25%\n",
    "    * покупки — purchase — на 11.14%\n",
    "\n",
    "* Конверсия \"product_page\" имеет статистические отличия, тогда как в конверсиях \"product_cart\" и \"purchase\" нет оснований считать доли разными\n",
    "\n",
    "<b>Исходя из вышеперечисленного, новая платёжная воронка прилично снижает конверсии, вместо ожидаемого повышения</b>\n"
   ]
  },
  {
   "cell_type": "markdown",
   "metadata": {},
   "source": [
    "<b>Рекомендации</b>\n",
    "\n",
    "Учитывая проблемы с тестом, рекомендуется перезапустить тест и провести анализ снова"
   ]
  }
 ],
 "metadata": {
  "ExecuteTimeLog": [
   {
    "duration": 53,
    "start_time": "2023-08-08T05:49:06.763Z"
   },
   {
    "duration": 1242,
    "start_time": "2023-08-08T05:50:02.083Z"
   },
   {
    "duration": 63,
    "start_time": "2023-08-08T05:50:08.876Z"
   },
   {
    "duration": 822,
    "start_time": "2023-08-08T05:50:09.852Z"
   },
   {
    "duration": 51,
    "start_time": "2023-08-08T05:51:05.049Z"
   },
   {
    "duration": 4,
    "start_time": "2023-08-08T05:51:05.829Z"
   },
   {
    "duration": 462,
    "start_time": "2023-08-08T05:52:56.439Z"
   },
   {
    "duration": 497,
    "start_time": "2023-08-08T05:54:41.425Z"
   },
   {
    "duration": 30,
    "start_time": "2023-08-08T05:54:47.594Z"
   },
   {
    "duration": 26,
    "start_time": "2023-08-08T05:55:17.071Z"
   },
   {
    "duration": 26,
    "start_time": "2023-08-08T05:55:47.324Z"
   },
   {
    "duration": 22,
    "start_time": "2023-08-08T05:56:52.395Z"
   },
   {
    "duration": 9,
    "start_time": "2023-08-08T05:57:29.201Z"
   },
   {
    "duration": 5,
    "start_time": "2023-08-08T05:58:16.709Z"
   },
   {
    "duration": 11,
    "start_time": "2023-08-08T05:58:23.017Z"
   },
   {
    "duration": 106,
    "start_time": "2023-08-08T05:59:51.513Z"
   },
   {
    "duration": 36,
    "start_time": "2023-08-08T05:59:59.817Z"
   },
   {
    "duration": 22,
    "start_time": "2023-08-08T06:00:43.914Z"
   },
   {
    "duration": 217,
    "start_time": "2023-08-08T06:01:26.673Z"
   },
   {
    "duration": 235,
    "start_time": "2023-08-08T06:01:43.218Z"
   },
   {
    "duration": 7,
    "start_time": "2023-08-08T06:04:17.743Z"
   },
   {
    "duration": 11,
    "start_time": "2023-08-08T06:04:59.097Z"
   },
   {
    "duration": 5,
    "start_time": "2023-08-08T06:08:23.609Z"
   },
   {
    "duration": 5,
    "start_time": "2023-08-08T06:12:58.090Z"
   },
   {
    "duration": 5,
    "start_time": "2023-08-08T06:12:59.381Z"
   },
   {
    "duration": 10,
    "start_time": "2023-08-08T06:13:00.847Z"
   },
   {
    "duration": 5,
    "start_time": "2023-08-08T06:13:18.231Z"
   },
   {
    "duration": 5,
    "start_time": "2023-08-08T06:13:19.367Z"
   },
   {
    "duration": 9,
    "start_time": "2023-08-08T06:13:19.958Z"
   },
   {
    "duration": 5,
    "start_time": "2023-08-08T06:19:06.944Z"
   },
   {
    "duration": 6,
    "start_time": "2023-08-08T06:19:22.669Z"
   },
   {
    "duration": 16,
    "start_time": "2023-08-08T06:23:18.396Z"
   },
   {
    "duration": 26,
    "start_time": "2023-08-08T06:23:23.553Z"
   },
   {
    "duration": 4,
    "start_time": "2023-08-08T06:23:44.555Z"
   },
   {
    "duration": 3,
    "start_time": "2023-08-08T06:23:53.015Z"
   },
   {
    "duration": 14,
    "start_time": "2023-08-08T06:24:23.058Z"
   },
   {
    "duration": 5,
    "start_time": "2023-08-08T06:24:31.058Z"
   },
   {
    "duration": 3,
    "start_time": "2023-08-08T06:24:37.030Z"
   },
   {
    "duration": 6,
    "start_time": "2023-08-08T06:24:37.035Z"
   },
   {
    "duration": 478,
    "start_time": "2023-08-08T06:24:37.043Z"
   },
   {
    "duration": 26,
    "start_time": "2023-08-08T06:24:37.522Z"
   },
   {
    "duration": 114,
    "start_time": "2023-08-08T06:24:37.550Z"
   },
   {
    "duration": 231,
    "start_time": "2023-08-08T06:24:37.665Z"
   },
   {
    "duration": 4,
    "start_time": "2023-08-08T06:24:41.208Z"
   },
   {
    "duration": 8,
    "start_time": "2023-08-08T06:24:43.319Z"
   },
   {
    "duration": 3,
    "start_time": "2023-08-08T06:24:43.860Z"
   },
   {
    "duration": 3,
    "start_time": "2023-08-08T06:24:44.360Z"
   },
   {
    "duration": 32,
    "start_time": "2023-08-08T06:24:46.586Z"
   },
   {
    "duration": 10,
    "start_time": "2023-08-08T06:27:30.277Z"
   },
   {
    "duration": 8,
    "start_time": "2023-08-08T06:28:31.017Z"
   },
   {
    "duration": 3,
    "start_time": "2023-08-08T06:28:43.194Z"
   },
   {
    "duration": 8,
    "start_time": "2023-08-08T06:29:03.640Z"
   },
   {
    "duration": 115,
    "start_time": "2023-08-08T06:29:15.717Z"
   },
   {
    "duration": 15,
    "start_time": "2023-08-08T06:29:26.298Z"
   },
   {
    "duration": 10,
    "start_time": "2023-08-08T06:35:18.613Z"
   },
   {
    "duration": 5,
    "start_time": "2023-08-08T06:36:00.982Z"
   },
   {
    "duration": 6,
    "start_time": "2023-08-08T06:36:10.593Z"
   },
   {
    "duration": 13,
    "start_time": "2023-08-08T06:36:11.844Z"
   },
   {
    "duration": 9,
    "start_time": "2023-08-08T06:36:39.134Z"
   },
   {
    "duration": 25,
    "start_time": "2023-08-08T06:39:00.401Z"
   },
   {
    "duration": 9,
    "start_time": "2023-08-08T09:52:59.160Z"
   },
   {
    "duration": 4,
    "start_time": "2023-08-08T09:53:19.633Z"
   },
   {
    "duration": 34,
    "start_time": "2023-08-08T09:53:19.639Z"
   },
   {
    "duration": 484,
    "start_time": "2023-08-08T09:53:19.675Z"
   },
   {
    "duration": 25,
    "start_time": "2023-08-08T09:53:20.161Z"
   },
   {
    "duration": 108,
    "start_time": "2023-08-08T09:53:20.189Z"
   },
   {
    "duration": 229,
    "start_time": "2023-08-08T09:53:20.298Z"
   },
   {
    "duration": 44,
    "start_time": "2023-08-08T09:53:38.235Z"
   },
   {
    "duration": 29,
    "start_time": "2023-08-08T09:54:20.865Z"
   },
   {
    "duration": 7,
    "start_time": "2023-08-08T09:55:16.517Z"
   },
   {
    "duration": 47,
    "start_time": "2023-08-08T09:55:27.549Z"
   },
   {
    "duration": 46,
    "start_time": "2023-08-08T09:56:45.090Z"
   },
   {
    "duration": 44,
    "start_time": "2023-08-08T09:58:23.182Z"
   },
   {
    "duration": 1446,
    "start_time": "2023-08-08T09:59:08.347Z"
   },
   {
    "duration": 47,
    "start_time": "2023-08-08T09:59:12.909Z"
   },
   {
    "duration": 47,
    "start_time": "2023-08-08T09:59:25.032Z"
   },
   {
    "duration": 5,
    "start_time": "2023-08-08T10:00:44.161Z"
   },
   {
    "duration": 6,
    "start_time": "2023-08-08T10:01:50.737Z"
   },
   {
    "duration": 11,
    "start_time": "2023-08-08T10:01:52.311Z"
   },
   {
    "duration": 6,
    "start_time": "2023-08-08T10:01:53.939Z"
   },
   {
    "duration": 10,
    "start_time": "2023-08-08T10:01:54.743Z"
   },
   {
    "duration": 6,
    "start_time": "2023-08-08T10:01:58.004Z"
   },
   {
    "duration": 18,
    "start_time": "2023-08-08T10:01:59.136Z"
   },
   {
    "duration": 3,
    "start_time": "2023-08-08T10:03:59.880Z"
   },
   {
    "duration": 22,
    "start_time": "2023-08-08T10:04:33.665Z"
   },
   {
    "duration": 13,
    "start_time": "2023-08-08T10:04:34.394Z"
   },
   {
    "duration": 10,
    "start_time": "2023-08-08T10:07:02.806Z"
   },
   {
    "duration": 8,
    "start_time": "2023-08-08T10:10:32.668Z"
   },
   {
    "duration": 38,
    "start_time": "2023-08-08T10:11:17.680Z"
   },
   {
    "duration": 13,
    "start_time": "2023-08-08T10:17:32.254Z"
   },
   {
    "duration": 13,
    "start_time": "2023-08-08T10:17:43.437Z"
   },
   {
    "duration": 4,
    "start_time": "2023-08-08T10:19:03.759Z"
   },
   {
    "duration": 11,
    "start_time": "2023-08-08T10:20:57.520Z"
   },
   {
    "duration": 6,
    "start_time": "2023-08-08T10:21:24.131Z"
   },
   {
    "duration": 9,
    "start_time": "2023-08-08T10:21:25.476Z"
   },
   {
    "duration": 2,
    "start_time": "2023-08-08T10:21:54.007Z"
   },
   {
    "duration": 11,
    "start_time": "2023-08-08T10:21:54.012Z"
   },
   {
    "duration": 470,
    "start_time": "2023-08-08T10:21:54.024Z"
   },
   {
    "duration": 30,
    "start_time": "2023-08-08T10:21:54.496Z"
   },
   {
    "duration": 141,
    "start_time": "2023-08-08T10:21:54.529Z"
   },
   {
    "duration": 236,
    "start_time": "2023-08-08T10:21:54.672Z"
   },
   {
    "duration": 8,
    "start_time": "2023-08-08T10:21:54.910Z"
   },
   {
    "duration": 62,
    "start_time": "2023-08-08T10:21:54.919Z"
   },
   {
    "duration": 5,
    "start_time": "2023-08-08T10:21:54.982Z"
   },
   {
    "duration": 14,
    "start_time": "2023-08-08T10:21:54.988Z"
   },
   {
    "duration": 5,
    "start_time": "2023-08-08T10:21:55.004Z"
   },
   {
    "duration": 15,
    "start_time": "2023-08-08T10:21:55.010Z"
   },
   {
    "duration": 33,
    "start_time": "2023-08-08T10:21:55.026Z"
   },
   {
    "duration": 13,
    "start_time": "2023-08-08T10:21:55.061Z"
   },
   {
    "duration": 13,
    "start_time": "2023-08-08T10:21:55.075Z"
   },
   {
    "duration": 19,
    "start_time": "2023-08-08T10:21:55.089Z"
   },
   {
    "duration": 12,
    "start_time": "2023-08-08T10:21:55.109Z"
   },
   {
    "duration": 19,
    "start_time": "2023-08-08T10:21:55.123Z"
   },
   {
    "duration": 10,
    "start_time": "2023-08-08T10:21:55.143Z"
   },
   {
    "duration": 33,
    "start_time": "2023-08-08T10:23:11.608Z"
   },
   {
    "duration": 34,
    "start_time": "2023-08-08T10:29:45.106Z"
   },
   {
    "duration": 91,
    "start_time": "2023-08-08T10:29:58.910Z"
   },
   {
    "duration": 33,
    "start_time": "2023-08-08T10:30:50.733Z"
   },
   {
    "duration": 37,
    "start_time": "2023-08-08T10:32:58.598Z"
   },
   {
    "duration": 4,
    "start_time": "2023-08-08T10:33:14.696Z"
   },
   {
    "duration": 37,
    "start_time": "2023-08-08T10:33:35.489Z"
   },
   {
    "duration": 15,
    "start_time": "2023-08-08T10:38:02.459Z"
   },
   {
    "duration": 8,
    "start_time": "2023-08-08T10:38:18.127Z"
   },
   {
    "duration": 10,
    "start_time": "2023-08-08T11:25:28.141Z"
   },
   {
    "duration": 3,
    "start_time": "2023-08-08T11:26:06.208Z"
   },
   {
    "duration": 3,
    "start_time": "2023-08-08T11:27:04.627Z"
   },
   {
    "duration": 10,
    "start_time": "2023-08-08T11:27:05.513Z"
   },
   {
    "duration": 11,
    "start_time": "2023-08-08T11:27:36.598Z"
   },
   {
    "duration": 10,
    "start_time": "2023-08-08T11:28:27.003Z"
   },
   {
    "duration": 1300,
    "start_time": "2023-08-10T10:27:38.135Z"
   },
   {
    "duration": 4,
    "start_time": "2023-08-10T10:27:39.437Z"
   },
   {
    "duration": 956,
    "start_time": "2023-08-10T10:27:39.442Z"
   },
   {
    "duration": 33,
    "start_time": "2023-08-10T10:27:40.400Z"
   },
   {
    "duration": 129,
    "start_time": "2023-08-10T10:27:40.434Z"
   },
   {
    "duration": 272,
    "start_time": "2023-08-10T10:27:40.564Z"
   },
   {
    "duration": 7,
    "start_time": "2023-08-10T10:27:40.838Z"
   },
   {
    "duration": 70,
    "start_time": "2023-08-10T10:27:40.847Z"
   },
   {
    "duration": 6,
    "start_time": "2023-08-10T10:27:40.919Z"
   },
   {
    "duration": 7,
    "start_time": "2023-08-10T10:27:40.928Z"
   },
   {
    "duration": 29,
    "start_time": "2023-08-10T10:27:40.937Z"
   },
   {
    "duration": 16,
    "start_time": "2023-08-10T10:27:40.967Z"
   },
   {
    "duration": 45,
    "start_time": "2023-08-10T10:27:40.984Z"
   },
   {
    "duration": 21,
    "start_time": "2023-08-10T10:27:41.031Z"
   },
   {
    "duration": 12,
    "start_time": "2023-08-10T10:27:41.054Z"
   },
   {
    "duration": 14,
    "start_time": "2023-08-10T10:27:41.068Z"
   },
   {
    "duration": 14,
    "start_time": "2023-08-10T10:27:41.083Z"
   },
   {
    "duration": 44,
    "start_time": "2023-08-10T10:27:41.098Z"
   },
   {
    "duration": 26,
    "start_time": "2023-08-10T10:27:41.143Z"
   },
   {
    "duration": 29,
    "start_time": "2023-08-10T10:27:41.170Z"
   },
   {
    "duration": 32,
    "start_time": "2023-08-10T10:27:41.202Z"
   },
   {
    "duration": 35,
    "start_time": "2023-08-10T10:27:41.236Z"
   },
   {
    "duration": 53,
    "start_time": "2023-08-10T10:27:41.273Z"
   },
   {
    "duration": 2,
    "start_time": "2023-08-10T10:27:41.328Z"
   },
   {
    "duration": 31,
    "start_time": "2023-08-10T10:27:41.332Z"
   },
   {
    "duration": 16,
    "start_time": "2023-08-10T10:27:41.365Z"
   },
   {
    "duration": 5,
    "start_time": "2023-08-10T10:29:50.113Z"
   },
   {
    "duration": 26,
    "start_time": "2023-08-10T10:31:01.192Z"
   },
   {
    "duration": 10,
    "start_time": "2023-08-10T10:31:25.188Z"
   },
   {
    "duration": 5,
    "start_time": "2023-08-10T10:32:50.657Z"
   },
   {
    "duration": 8,
    "start_time": "2023-08-10T10:39:32.783Z"
   },
   {
    "duration": 4,
    "start_time": "2023-08-10T10:40:19.257Z"
   },
   {
    "duration": 3,
    "start_time": "2023-08-10T10:40:56.982Z"
   },
   {
    "duration": 29,
    "start_time": "2023-08-10T10:40:56.987Z"
   },
   {
    "duration": 525,
    "start_time": "2023-08-10T10:40:57.017Z"
   },
   {
    "duration": 22,
    "start_time": "2023-08-10T10:40:57.544Z"
   },
   {
    "duration": 123,
    "start_time": "2023-08-10T10:40:57.569Z"
   },
   {
    "duration": 230,
    "start_time": "2023-08-10T10:40:57.693Z"
   },
   {
    "duration": 5,
    "start_time": "2023-08-10T10:40:57.925Z"
   },
   {
    "duration": 38,
    "start_time": "2023-08-10T10:40:57.931Z"
   },
   {
    "duration": 41,
    "start_time": "2023-08-10T10:40:57.970Z"
   },
   {
    "duration": 10,
    "start_time": "2023-08-10T10:40:58.013Z"
   },
   {
    "duration": 5,
    "start_time": "2023-08-10T10:41:00.190Z"
   },
   {
    "duration": 7,
    "start_time": "2023-08-10T10:45:46.014Z"
   },
   {
    "duration": 24,
    "start_time": "2023-08-10T10:45:51.189Z"
   },
   {
    "duration": 15,
    "start_time": "2023-08-10T10:45:57.790Z"
   },
   {
    "duration": 3,
    "start_time": "2023-08-10T10:47:32.774Z"
   },
   {
    "duration": 13,
    "start_time": "2023-08-10T10:47:34.212Z"
   },
   {
    "duration": 16,
    "start_time": "2023-08-10T10:47:50.330Z"
   },
   {
    "duration": 4,
    "start_time": "2023-08-10T10:48:11.477Z"
   },
   {
    "duration": 3,
    "start_time": "2023-08-10T10:48:20.317Z"
   },
   {
    "duration": 28,
    "start_time": "2023-08-10T10:48:20.322Z"
   },
   {
    "duration": 515,
    "start_time": "2023-08-10T10:48:20.352Z"
   },
   {
    "duration": 24,
    "start_time": "2023-08-10T10:48:20.869Z"
   },
   {
    "duration": 112,
    "start_time": "2023-08-10T10:48:20.905Z"
   },
   {
    "duration": 224,
    "start_time": "2023-08-10T10:48:21.019Z"
   },
   {
    "duration": 6,
    "start_time": "2023-08-10T10:48:21.244Z"
   },
   {
    "duration": 63,
    "start_time": "2023-08-10T10:48:21.251Z"
   },
   {
    "duration": 24,
    "start_time": "2023-08-10T10:48:21.316Z"
   },
   {
    "duration": 5,
    "start_time": "2023-08-10T10:48:21.342Z"
   },
   {
    "duration": 28,
    "start_time": "2023-08-10T10:48:21.349Z"
   },
   {
    "duration": 15,
    "start_time": "2023-08-10T10:48:47.311Z"
   },
   {
    "duration": 5,
    "start_time": "2023-08-10T10:48:51.154Z"
   },
   {
    "duration": 18,
    "start_time": "2023-08-10T10:48:57.678Z"
   },
   {
    "duration": 3,
    "start_time": "2023-08-10T10:49:43.773Z"
   },
   {
    "duration": 6,
    "start_time": "2023-08-10T10:49:43.778Z"
   },
   {
    "duration": 529,
    "start_time": "2023-08-10T10:49:43.785Z"
   },
   {
    "duration": 21,
    "start_time": "2023-08-10T10:49:44.316Z"
   },
   {
    "duration": 123,
    "start_time": "2023-08-10T10:49:44.339Z"
   },
   {
    "duration": 250,
    "start_time": "2023-08-10T10:49:44.464Z"
   },
   {
    "duration": 6,
    "start_time": "2023-08-10T10:49:44.715Z"
   },
   {
    "duration": 51,
    "start_time": "2023-08-10T10:49:44.722Z"
   },
   {
    "duration": 39,
    "start_time": "2023-08-10T10:49:44.775Z"
   },
   {
    "duration": 4,
    "start_time": "2023-08-10T10:49:44.816Z"
   },
   {
    "duration": 2,
    "start_time": "2023-08-10T10:49:50.572Z"
   },
   {
    "duration": 3,
    "start_time": "2023-08-10T10:50:02.872Z"
   },
   {
    "duration": 6,
    "start_time": "2023-08-10T10:50:03.518Z"
   },
   {
    "duration": 18,
    "start_time": "2023-08-10T10:50:07.873Z"
   },
   {
    "duration": 10,
    "start_time": "2023-08-10T10:50:55.897Z"
   },
   {
    "duration": 4,
    "start_time": "2023-08-10T10:51:01.711Z"
   },
   {
    "duration": 4,
    "start_time": "2023-08-10T10:51:17.579Z"
   },
   {
    "duration": 3,
    "start_time": "2023-08-10T10:51:30.253Z"
   },
   {
    "duration": 99,
    "start_time": "2023-08-10T10:52:51.535Z"
   },
   {
    "duration": 6,
    "start_time": "2023-08-10T10:53:17.499Z"
   },
   {
    "duration": 8,
    "start_time": "2023-08-10T10:53:23.397Z"
   },
   {
    "duration": 1924,
    "start_time": "2023-08-10T10:55:23.431Z"
   },
   {
    "duration": 7,
    "start_time": "2023-08-10T10:55:42.115Z"
   },
   {
    "duration": 74,
    "start_time": "2023-08-10T10:59:40.427Z"
   },
   {
    "duration": 42,
    "start_time": "2023-08-10T11:01:11.519Z"
   },
   {
    "duration": 14,
    "start_time": "2023-08-10T11:02:04.213Z"
   },
   {
    "duration": 8,
    "start_time": "2023-08-10T11:02:15.840Z"
   },
   {
    "duration": 15,
    "start_time": "2023-08-10T11:02:27.382Z"
   },
   {
    "duration": 50,
    "start_time": "2023-08-10T11:03:07.500Z"
   },
   {
    "duration": 24,
    "start_time": "2023-08-10T11:03:08.101Z"
   },
   {
    "duration": 26,
    "start_time": "2023-08-10T11:04:08.212Z"
   },
   {
    "duration": 8,
    "start_time": "2023-08-10T11:04:47.376Z"
   },
   {
    "duration": 25,
    "start_time": "2023-08-10T11:05:19.740Z"
   },
   {
    "duration": 43,
    "start_time": "2023-08-10T11:05:24.206Z"
   },
   {
    "duration": 14,
    "start_time": "2023-08-10T11:06:08.343Z"
   },
   {
    "duration": 19,
    "start_time": "2023-08-10T11:07:11.699Z"
   },
   {
    "duration": 14,
    "start_time": "2023-08-10T11:07:27.398Z"
   },
   {
    "duration": 4,
    "start_time": "2023-08-10T11:07:40.171Z"
   },
   {
    "duration": 92,
    "start_time": "2023-08-10T11:08:36.639Z"
   },
   {
    "duration": 3,
    "start_time": "2023-08-10T11:08:45.588Z"
   },
   {
    "duration": 3,
    "start_time": "2023-08-10T11:08:59.145Z"
   },
   {
    "duration": 4,
    "start_time": "2023-08-10T11:11:17.794Z"
   },
   {
    "duration": 39,
    "start_time": "2023-08-10T11:11:17.799Z"
   },
   {
    "duration": 540,
    "start_time": "2023-08-10T11:11:17.839Z"
   },
   {
    "duration": 46,
    "start_time": "2023-08-10T11:11:18.381Z"
   },
   {
    "duration": 113,
    "start_time": "2023-08-10T11:11:18.429Z"
   },
   {
    "duration": 257,
    "start_time": "2023-08-10T11:11:18.544Z"
   },
   {
    "duration": 15,
    "start_time": "2023-08-10T11:11:18.802Z"
   },
   {
    "duration": 67,
    "start_time": "2023-08-10T11:11:18.818Z"
   },
   {
    "duration": 38,
    "start_time": "2023-08-10T11:11:18.887Z"
   },
   {
    "duration": 17,
    "start_time": "2023-08-10T11:11:18.926Z"
   },
   {
    "duration": 18,
    "start_time": "2023-08-10T11:11:18.944Z"
   },
   {
    "duration": 5,
    "start_time": "2023-08-10T11:11:18.964Z"
   },
   {
    "duration": 19,
    "start_time": "2023-08-10T11:11:18.971Z"
   },
   {
    "duration": 3,
    "start_time": "2023-08-10T11:11:18.992Z"
   },
   {
    "duration": 39,
    "start_time": "2023-08-10T11:11:18.996Z"
   },
   {
    "duration": 18,
    "start_time": "2023-08-10T11:11:19.037Z"
   },
   {
    "duration": 29,
    "start_time": "2023-08-10T11:11:19.056Z"
   },
   {
    "duration": 7,
    "start_time": "2023-08-10T11:11:19.086Z"
   },
   {
    "duration": 46,
    "start_time": "2023-08-10T11:11:19.094Z"
   },
   {
    "duration": 4,
    "start_time": "2023-08-10T11:11:25.378Z"
   },
   {
    "duration": 18,
    "start_time": "2023-08-10T11:13:02.516Z"
   },
   {
    "duration": 3,
    "start_time": "2023-08-10T11:13:10.647Z"
   },
   {
    "duration": 4,
    "start_time": "2023-08-10T11:13:10.691Z"
   },
   {
    "duration": 570,
    "start_time": "2023-08-10T11:13:10.696Z"
   },
   {
    "duration": 23,
    "start_time": "2023-08-10T11:13:11.267Z"
   },
   {
    "duration": 121,
    "start_time": "2023-08-10T11:13:11.292Z"
   },
   {
    "duration": 256,
    "start_time": "2023-08-10T11:13:11.415Z"
   },
   {
    "duration": 5,
    "start_time": "2023-08-10T11:13:11.673Z"
   },
   {
    "duration": 53,
    "start_time": "2023-08-10T11:13:11.680Z"
   },
   {
    "duration": 23,
    "start_time": "2023-08-10T11:13:11.735Z"
   },
   {
    "duration": 3,
    "start_time": "2023-08-10T11:13:11.760Z"
   },
   {
    "duration": 12,
    "start_time": "2023-08-10T11:13:11.764Z"
   },
   {
    "duration": 13,
    "start_time": "2023-08-10T11:13:11.777Z"
   },
   {
    "duration": 29,
    "start_time": "2023-08-10T11:13:11.791Z"
   },
   {
    "duration": 3,
    "start_time": "2023-08-10T11:13:11.822Z"
   },
   {
    "duration": 33,
    "start_time": "2023-08-10T11:13:11.827Z"
   },
   {
    "duration": 10,
    "start_time": "2023-08-10T11:13:11.861Z"
   },
   {
    "duration": 9,
    "start_time": "2023-08-10T11:13:15.118Z"
   },
   {
    "duration": 10,
    "start_time": "2023-08-10T11:13:19.415Z"
   },
   {
    "duration": 17,
    "start_time": "2023-08-10T11:13:23.670Z"
   },
   {
    "duration": 38,
    "start_time": "2023-08-10T11:13:35.996Z"
   },
   {
    "duration": 12,
    "start_time": "2023-08-10T11:13:43.035Z"
   },
   {
    "duration": 19,
    "start_time": "2023-08-10T11:13:54.182Z"
   },
   {
    "duration": 12,
    "start_time": "2023-08-10T11:14:03.215Z"
   },
   {
    "duration": 21,
    "start_time": "2023-08-10T11:14:36.196Z"
   },
   {
    "duration": 18,
    "start_time": "2023-08-10T11:14:41.011Z"
   },
   {
    "duration": 10,
    "start_time": "2023-08-10T11:14:52.825Z"
   },
   {
    "duration": 3,
    "start_time": "2023-08-10T11:15:01.319Z"
   },
   {
    "duration": 12,
    "start_time": "2023-08-10T11:15:06.382Z"
   },
   {
    "duration": 3,
    "start_time": "2023-08-10T11:15:10.587Z"
   },
   {
    "duration": 33,
    "start_time": "2023-08-10T11:15:10.591Z"
   },
   {
    "duration": 525,
    "start_time": "2023-08-10T11:15:10.625Z"
   },
   {
    "duration": 23,
    "start_time": "2023-08-10T11:15:11.152Z"
   },
   {
    "duration": 113,
    "start_time": "2023-08-10T11:15:11.177Z"
   },
   {
    "duration": 271,
    "start_time": "2023-08-10T11:15:11.291Z"
   },
   {
    "duration": 7,
    "start_time": "2023-08-10T11:15:11.563Z"
   },
   {
    "duration": 56,
    "start_time": "2023-08-10T11:15:11.572Z"
   },
   {
    "duration": 24,
    "start_time": "2023-08-10T11:15:11.629Z"
   },
   {
    "duration": 4,
    "start_time": "2023-08-10T11:15:11.654Z"
   },
   {
    "duration": 4,
    "start_time": "2023-08-10T11:15:11.659Z"
   },
   {
    "duration": 30,
    "start_time": "2023-08-10T11:15:11.665Z"
   },
   {
    "duration": 45,
    "start_time": "2023-08-10T11:15:11.697Z"
   },
   {
    "duration": 3,
    "start_time": "2023-08-10T11:15:11.744Z"
   },
   {
    "duration": 9,
    "start_time": "2023-08-10T11:15:11.749Z"
   },
   {
    "duration": 28,
    "start_time": "2023-08-10T11:15:11.759Z"
   },
   {
    "duration": 34,
    "start_time": "2023-08-10T11:15:11.788Z"
   },
   {
    "duration": 10,
    "start_time": "2023-08-10T11:15:11.824Z"
   },
   {
    "duration": 2,
    "start_time": "2023-08-10T11:15:11.836Z"
   },
   {
    "duration": 20,
    "start_time": "2023-08-10T11:15:16.298Z"
   },
   {
    "duration": 13,
    "start_time": "2023-08-10T11:15:37.798Z"
   },
   {
    "duration": 6,
    "start_time": "2023-08-10T11:15:58.570Z"
   },
   {
    "duration": 5,
    "start_time": "2023-08-10T11:17:11.811Z"
   },
   {
    "duration": 8,
    "start_time": "2023-08-10T11:55:48.079Z"
   },
   {
    "duration": 9,
    "start_time": "2023-08-10T11:56:12.921Z"
   },
   {
    "duration": 16,
    "start_time": "2023-08-10T11:57:02.607Z"
   },
   {
    "duration": 13,
    "start_time": "2023-08-10T11:57:29.497Z"
   },
   {
    "duration": 6,
    "start_time": "2023-08-10T11:57:48.278Z"
   },
   {
    "duration": 8,
    "start_time": "2023-08-10T11:58:06.769Z"
   },
   {
    "duration": 12,
    "start_time": "2023-08-10T11:58:08.674Z"
   },
   {
    "duration": 7,
    "start_time": "2023-08-10T11:58:53.537Z"
   },
   {
    "duration": 10,
    "start_time": "2023-08-10T11:59:03.626Z"
   },
   {
    "duration": 8,
    "start_time": "2023-08-10T11:59:43.420Z"
   },
   {
    "duration": 15,
    "start_time": "2023-08-10T12:01:44.120Z"
   },
   {
    "duration": 8,
    "start_time": "2023-08-10T12:02:01.741Z"
   },
   {
    "duration": 16,
    "start_time": "2023-08-10T12:02:55.177Z"
   },
   {
    "duration": 8,
    "start_time": "2023-08-10T12:04:08.795Z"
   },
   {
    "duration": 5,
    "start_time": "2023-08-10T12:04:14.741Z"
   },
   {
    "duration": 10,
    "start_time": "2023-08-10T12:04:35.822Z"
   },
   {
    "duration": 4,
    "start_time": "2023-08-10T12:05:07.390Z"
   },
   {
    "duration": 5,
    "start_time": "2023-08-10T12:05:12.476Z"
   },
   {
    "duration": 5,
    "start_time": "2023-08-10T12:05:55.180Z"
   },
   {
    "duration": 4,
    "start_time": "2023-08-10T12:06:43.182Z"
   },
   {
    "duration": 4,
    "start_time": "2023-08-10T12:06:53.891Z"
   },
   {
    "duration": 92,
    "start_time": "2023-08-10T12:07:10.535Z"
   },
   {
    "duration": 4,
    "start_time": "2023-08-10T12:07:26.569Z"
   },
   {
    "duration": 91,
    "start_time": "2023-08-10T12:09:01.503Z"
   },
   {
    "duration": 3,
    "start_time": "2023-08-10T12:09:53.132Z"
   },
   {
    "duration": 3,
    "start_time": "2023-08-10T12:09:57.770Z"
   },
   {
    "duration": 3,
    "start_time": "2023-08-10T12:10:20.579Z"
   },
   {
    "duration": 3,
    "start_time": "2023-08-10T12:10:21.196Z"
   },
   {
    "duration": 10,
    "start_time": "2023-08-10T12:14:47.106Z"
   },
   {
    "duration": 10,
    "start_time": "2023-08-10T12:17:18.168Z"
   },
   {
    "duration": 12,
    "start_time": "2023-08-10T12:25:14.537Z"
   },
   {
    "duration": 23,
    "start_time": "2023-08-10T12:25:30.992Z"
   },
   {
    "duration": 154,
    "start_time": "2023-08-10T12:27:21.020Z"
   },
   {
    "duration": 149,
    "start_time": "2023-08-10T12:27:48.915Z"
   },
   {
    "duration": 298,
    "start_time": "2023-08-10T12:27:58.115Z"
   },
   {
    "duration": 21,
    "start_time": "2023-08-10T12:29:30.894Z"
   },
   {
    "duration": 120,
    "start_time": "2023-08-10T12:29:58.920Z"
   },
   {
    "duration": 18,
    "start_time": "2023-08-10T12:31:36.775Z"
   },
   {
    "duration": 8,
    "start_time": "2023-08-10T12:32:07.771Z"
   },
   {
    "duration": 3,
    "start_time": "2023-08-10T12:32:20.482Z"
   },
   {
    "duration": 6,
    "start_time": "2023-08-10T12:32:28.877Z"
   },
   {
    "duration": 12,
    "start_time": "2023-08-10T12:32:34.585Z"
   },
   {
    "duration": 46,
    "start_time": "2023-08-10T12:33:31.183Z"
   },
   {
    "duration": 22,
    "start_time": "2023-08-10T12:33:35.833Z"
   },
   {
    "duration": 8,
    "start_time": "2023-08-10T12:33:48.024Z"
   },
   {
    "duration": 4,
    "start_time": "2023-08-10T12:36:04.630Z"
   },
   {
    "duration": 8,
    "start_time": "2023-08-10T12:36:06.025Z"
   },
   {
    "duration": 20,
    "start_time": "2023-08-10T12:37:03.292Z"
   },
   {
    "duration": 8,
    "start_time": "2023-08-10T12:37:44.035Z"
   },
   {
    "duration": 9,
    "start_time": "2023-08-10T12:38:23.124Z"
   },
   {
    "duration": 22,
    "start_time": "2023-08-10T12:38:53.697Z"
   },
   {
    "duration": 5,
    "start_time": "2023-08-10T12:39:16.724Z"
   },
   {
    "duration": 9,
    "start_time": "2023-08-10T12:41:33.520Z"
   },
   {
    "duration": 13,
    "start_time": "2023-08-10T12:45:15.891Z"
   },
   {
    "duration": 16,
    "start_time": "2023-08-10T12:47:56.611Z"
   },
   {
    "duration": 6,
    "start_time": "2023-08-10T12:48:21.873Z"
   },
   {
    "duration": 10,
    "start_time": "2023-08-10T12:48:57.614Z"
   },
   {
    "duration": 33,
    "start_time": "2023-08-10T12:49:21.879Z"
   },
   {
    "duration": 25,
    "start_time": "2023-08-10T12:49:25.064Z"
   },
   {
    "duration": 23,
    "start_time": "2023-08-10T12:49:37.437Z"
   },
   {
    "duration": 61,
    "start_time": "2023-08-10T12:49:47.155Z"
   },
   {
    "duration": 24,
    "start_time": "2023-08-10T12:50:48.124Z"
   },
   {
    "duration": 23,
    "start_time": "2023-08-10T12:50:52.145Z"
   },
   {
    "duration": 214,
    "start_time": "2023-08-10T12:50:52.169Z"
   },
   {
    "duration": 5,
    "start_time": "2023-08-10T12:50:52.384Z"
   },
   {
    "duration": 10,
    "start_time": "2023-08-10T12:50:52.399Z"
   },
   {
    "duration": 8,
    "start_time": "2023-08-10T12:50:52.411Z"
   },
   {
    "duration": 7,
    "start_time": "2023-08-10T12:50:52.420Z"
   },
   {
    "duration": 9,
    "start_time": "2023-08-10T12:50:52.428Z"
   },
   {
    "duration": 8,
    "start_time": "2023-08-10T12:50:52.438Z"
   },
   {
    "duration": 24,
    "start_time": "2023-08-10T12:50:52.447Z"
   },
   {
    "duration": 2,
    "start_time": "2023-08-10T12:50:52.474Z"
   },
   {
    "duration": 31,
    "start_time": "2023-08-10T12:50:52.477Z"
   },
   {
    "duration": 0,
    "start_time": "2023-08-10T12:50:52.509Z"
   },
   {
    "duration": 0,
    "start_time": "2023-08-10T12:50:52.510Z"
   },
   {
    "duration": 0,
    "start_time": "2023-08-10T12:50:52.511Z"
   },
   {
    "duration": 0,
    "start_time": "2023-08-10T12:50:52.512Z"
   },
   {
    "duration": 0,
    "start_time": "2023-08-10T12:50:52.513Z"
   },
   {
    "duration": 0,
    "start_time": "2023-08-10T12:50:52.514Z"
   },
   {
    "duration": 0,
    "start_time": "2023-08-10T12:50:52.515Z"
   },
   {
    "duration": 0,
    "start_time": "2023-08-10T12:50:52.515Z"
   },
   {
    "duration": 0,
    "start_time": "2023-08-10T12:50:52.516Z"
   },
   {
    "duration": 0,
    "start_time": "2023-08-10T12:50:52.517Z"
   },
   {
    "duration": 0,
    "start_time": "2023-08-10T12:50:52.518Z"
   },
   {
    "duration": 0,
    "start_time": "2023-08-10T12:50:52.519Z"
   },
   {
    "duration": 0,
    "start_time": "2023-08-10T12:50:52.519Z"
   },
   {
    "duration": 0,
    "start_time": "2023-08-10T12:50:52.520Z"
   },
   {
    "duration": 0,
    "start_time": "2023-08-10T12:50:52.521Z"
   },
   {
    "duration": 0,
    "start_time": "2023-08-10T12:50:52.522Z"
   },
   {
    "duration": 0,
    "start_time": "2023-08-10T12:50:52.523Z"
   },
   {
    "duration": 0,
    "start_time": "2023-08-10T12:50:52.523Z"
   },
   {
    "duration": 0,
    "start_time": "2023-08-10T12:50:52.524Z"
   },
   {
    "duration": 0,
    "start_time": "2023-08-10T12:50:52.525Z"
   },
   {
    "duration": 0,
    "start_time": "2023-08-10T12:50:52.526Z"
   },
   {
    "duration": 0,
    "start_time": "2023-08-10T12:50:52.527Z"
   },
   {
    "duration": 0,
    "start_time": "2023-08-10T12:50:52.528Z"
   },
   {
    "duration": 0,
    "start_time": "2023-08-10T12:50:52.528Z"
   },
   {
    "duration": 0,
    "start_time": "2023-08-10T12:50:52.529Z"
   },
   {
    "duration": 0,
    "start_time": "2023-08-10T12:50:52.530Z"
   },
   {
    "duration": 0,
    "start_time": "2023-08-10T12:50:52.531Z"
   },
   {
    "duration": 0,
    "start_time": "2023-08-10T12:50:52.532Z"
   },
   {
    "duration": 0,
    "start_time": "2023-08-10T12:50:52.532Z"
   },
   {
    "duration": 0,
    "start_time": "2023-08-10T12:50:52.533Z"
   },
   {
    "duration": 20,
    "start_time": "2023-08-10T12:51:18.107Z"
   },
   {
    "duration": 22,
    "start_time": "2023-08-10T12:52:05.150Z"
   },
   {
    "duration": 17,
    "start_time": "2023-08-10T12:52:32.689Z"
   },
   {
    "duration": 17,
    "start_time": "2023-08-10T12:52:41.229Z"
   },
   {
    "duration": 21,
    "start_time": "2023-08-10T12:53:25.329Z"
   },
   {
    "duration": 22,
    "start_time": "2023-08-10T12:53:26.305Z"
   },
   {
    "duration": 27,
    "start_time": "2023-08-10T12:53:35.985Z"
   },
   {
    "duration": 262,
    "start_time": "2023-08-10T12:53:36.014Z"
   },
   {
    "duration": 4,
    "start_time": "2023-08-10T12:53:36.278Z"
   },
   {
    "duration": 22,
    "start_time": "2023-08-10T12:53:36.283Z"
   },
   {
    "duration": 16,
    "start_time": "2023-08-10T12:53:36.308Z"
   },
   {
    "duration": 15,
    "start_time": "2023-08-10T12:53:36.325Z"
   },
   {
    "duration": 30,
    "start_time": "2023-08-10T12:53:36.341Z"
   },
   {
    "duration": 48,
    "start_time": "2023-08-10T12:53:36.372Z"
   },
   {
    "duration": 54,
    "start_time": "2023-08-10T12:53:36.421Z"
   },
   {
    "duration": 19,
    "start_time": "2023-08-10T12:53:36.476Z"
   },
   {
    "duration": 37,
    "start_time": "2023-08-10T12:53:36.496Z"
   },
   {
    "duration": 33,
    "start_time": "2023-08-10T12:53:36.535Z"
   },
   {
    "duration": 68,
    "start_time": "2023-08-10T12:53:36.570Z"
   },
   {
    "duration": 11,
    "start_time": "2023-08-10T12:53:36.642Z"
   },
   {
    "duration": 16,
    "start_time": "2023-08-10T12:53:36.654Z"
   },
   {
    "duration": 22,
    "start_time": "2023-08-10T12:53:36.671Z"
   },
   {
    "duration": 20,
    "start_time": "2023-08-10T12:53:36.695Z"
   },
   {
    "duration": 31,
    "start_time": "2023-08-10T12:53:36.717Z"
   },
   {
    "duration": 35,
    "start_time": "2023-08-10T12:53:36.750Z"
   },
   {
    "duration": 45,
    "start_time": "2023-08-10T12:53:36.786Z"
   },
   {
    "duration": 34,
    "start_time": "2023-08-10T12:53:36.833Z"
   },
   {
    "duration": 18,
    "start_time": "2023-08-10T12:53:36.868Z"
   },
   {
    "duration": 23,
    "start_time": "2023-08-10T12:53:36.888Z"
   },
   {
    "duration": 44,
    "start_time": "2023-08-10T12:53:36.913Z"
   },
   {
    "duration": 19,
    "start_time": "2023-08-10T12:53:36.958Z"
   },
   {
    "duration": 34,
    "start_time": "2023-08-10T12:53:36.978Z"
   },
   {
    "duration": 30,
    "start_time": "2023-08-10T12:53:37.014Z"
   },
   {
    "duration": 28,
    "start_time": "2023-08-10T12:53:37.046Z"
   },
   {
    "duration": 32,
    "start_time": "2023-08-10T12:53:37.076Z"
   },
   {
    "duration": 23,
    "start_time": "2023-08-10T12:53:37.109Z"
   },
   {
    "duration": 34,
    "start_time": "2023-08-10T12:53:37.134Z"
   },
   {
    "duration": 25,
    "start_time": "2023-08-10T12:53:37.170Z"
   },
   {
    "duration": 68,
    "start_time": "2023-08-10T12:53:37.197Z"
   },
   {
    "duration": 5,
    "start_time": "2023-08-10T12:53:37.267Z"
   },
   {
    "duration": 32,
    "start_time": "2023-08-10T12:53:37.274Z"
   },
   {
    "duration": 31,
    "start_time": "2023-08-10T12:53:37.308Z"
   },
   {
    "duration": 9,
    "start_time": "2023-08-10T12:53:37.341Z"
   },
   {
    "duration": 30,
    "start_time": "2023-08-10T12:53:37.352Z"
   },
   {
    "duration": 14,
    "start_time": "2023-08-10T12:53:37.384Z"
   },
   {
    "duration": 34,
    "start_time": "2023-08-10T12:53:37.400Z"
   },
   {
    "duration": 33,
    "start_time": "2023-08-10T12:53:37.439Z"
   },
   {
    "duration": 282,
    "start_time": "2023-08-10T12:53:47.231Z"
   },
   {
    "duration": 312,
    "start_time": "2023-08-10T12:53:53.536Z"
   },
   {
    "duration": 6,
    "start_time": "2023-08-10T12:54:20.676Z"
   },
   {
    "duration": 4,
    "start_time": "2023-08-10T12:54:28.352Z"
   },
   {
    "duration": 12,
    "start_time": "2023-08-10T12:54:34.715Z"
   },
   {
    "duration": 5,
    "start_time": "2023-08-10T12:54:44.605Z"
   },
   {
    "duration": 3,
    "start_time": "2023-08-10T12:54:49.203Z"
   },
   {
    "duration": 8,
    "start_time": "2023-08-10T12:54:49.209Z"
   },
   {
    "duration": 500,
    "start_time": "2023-08-10T12:54:49.218Z"
   },
   {
    "duration": 24,
    "start_time": "2023-08-10T12:54:49.720Z"
   },
   {
    "duration": 111,
    "start_time": "2023-08-10T12:54:49.745Z"
   },
   {
    "duration": 242,
    "start_time": "2023-08-10T12:54:49.858Z"
   },
   {
    "duration": 6,
    "start_time": "2023-08-10T12:54:50.102Z"
   },
   {
    "duration": 43,
    "start_time": "2023-08-10T12:54:50.109Z"
   },
   {
    "duration": 23,
    "start_time": "2023-08-10T12:54:50.154Z"
   },
   {
    "duration": 20,
    "start_time": "2023-08-10T12:54:50.179Z"
   },
   {
    "duration": 7,
    "start_time": "2023-08-10T12:54:50.201Z"
   },
   {
    "duration": 16,
    "start_time": "2023-08-10T12:54:50.209Z"
   },
   {
    "duration": 29,
    "start_time": "2023-08-10T12:54:50.227Z"
   },
   {
    "duration": 2,
    "start_time": "2023-08-10T12:54:50.258Z"
   },
   {
    "duration": 3,
    "start_time": "2023-08-10T12:54:55.397Z"
   },
   {
    "duration": 7,
    "start_time": "2023-08-10T12:54:56.372Z"
   },
   {
    "duration": 14,
    "start_time": "2023-08-10T12:55:32.983Z"
   },
   {
    "duration": 21,
    "start_time": "2023-08-10T12:55:47.767Z"
   },
   {
    "duration": 12,
    "start_time": "2023-08-10T12:55:48.383Z"
   },
   {
    "duration": 27,
    "start_time": "2023-08-10T12:55:55.587Z"
   },
   {
    "duration": 256,
    "start_time": "2023-08-10T12:55:55.616Z"
   },
   {
    "duration": 7,
    "start_time": "2023-08-10T12:55:55.873Z"
   },
   {
    "duration": 54,
    "start_time": "2023-08-10T12:55:55.882Z"
   },
   {
    "duration": 32,
    "start_time": "2023-08-10T12:55:55.939Z"
   },
   {
    "duration": 15,
    "start_time": "2023-08-10T12:55:55.973Z"
   },
   {
    "duration": 12,
    "start_time": "2023-08-10T12:55:55.989Z"
   },
   {
    "duration": 25,
    "start_time": "2023-08-10T12:55:56.003Z"
   },
   {
    "duration": 65,
    "start_time": "2023-08-10T12:55:56.030Z"
   },
   {
    "duration": 17,
    "start_time": "2023-08-10T12:55:56.099Z"
   },
   {
    "duration": 23,
    "start_time": "2023-08-10T12:55:56.117Z"
   },
   {
    "duration": 32,
    "start_time": "2023-08-10T12:55:56.141Z"
   },
   {
    "duration": 82,
    "start_time": "2023-08-10T12:55:56.176Z"
   },
   {
    "duration": 12,
    "start_time": "2023-08-10T12:55:56.260Z"
   },
   {
    "duration": 4,
    "start_time": "2023-08-10T12:55:56.274Z"
   },
   {
    "duration": 23,
    "start_time": "2023-08-10T12:55:56.280Z"
   },
   {
    "duration": 16,
    "start_time": "2023-08-10T12:55:56.305Z"
   },
   {
    "duration": 7,
    "start_time": "2023-08-10T12:55:56.323Z"
   },
   {
    "duration": 14,
    "start_time": "2023-08-10T12:55:56.332Z"
   },
   {
    "duration": 12,
    "start_time": "2023-08-10T12:55:56.347Z"
   },
   {
    "duration": 18,
    "start_time": "2023-08-10T12:55:56.361Z"
   },
   {
    "duration": 28,
    "start_time": "2023-08-10T12:55:56.381Z"
   },
   {
    "duration": 7,
    "start_time": "2023-08-10T12:55:56.411Z"
   },
   {
    "duration": 18,
    "start_time": "2023-08-10T12:55:56.419Z"
   },
   {
    "duration": 12,
    "start_time": "2023-08-10T12:55:56.439Z"
   },
   {
    "duration": 9,
    "start_time": "2023-08-10T12:55:56.453Z"
   },
   {
    "duration": 17,
    "start_time": "2023-08-10T12:55:56.464Z"
   },
   {
    "duration": 12,
    "start_time": "2023-08-10T12:55:56.484Z"
   },
   {
    "duration": 24,
    "start_time": "2023-08-10T12:55:56.498Z"
   },
   {
    "duration": 27,
    "start_time": "2023-08-10T12:55:56.524Z"
   },
   {
    "duration": 27,
    "start_time": "2023-08-10T12:55:56.553Z"
   },
   {
    "duration": 34,
    "start_time": "2023-08-10T12:55:56.582Z"
   },
   {
    "duration": 98,
    "start_time": "2023-08-10T12:55:56.618Z"
   },
   {
    "duration": 4,
    "start_time": "2023-08-10T12:55:56.717Z"
   },
   {
    "duration": 15,
    "start_time": "2023-08-10T12:55:56.723Z"
   },
   {
    "duration": 15,
    "start_time": "2023-08-10T12:55:56.739Z"
   },
   {
    "duration": 5,
    "start_time": "2023-08-10T12:55:56.755Z"
   },
   {
    "duration": 14,
    "start_time": "2023-08-10T12:55:56.762Z"
   },
   {
    "duration": 11,
    "start_time": "2023-08-10T12:55:56.778Z"
   },
   {
    "duration": 19,
    "start_time": "2023-08-10T12:55:56.800Z"
   },
   {
    "duration": 276,
    "start_time": "2023-08-10T12:55:56.821Z"
   },
   {
    "duration": 9,
    "start_time": "2023-08-10T12:56:18.449Z"
   },
   {
    "duration": 18,
    "start_time": "2023-08-10T12:56:27.137Z"
   },
   {
    "duration": 5,
    "start_time": "2023-08-10T12:56:32.547Z"
   },
   {
    "duration": 258,
    "start_time": "2023-08-10T12:56:39.593Z"
   },
   {
    "duration": 90,
    "start_time": "2023-08-10T12:59:01.951Z"
   },
   {
    "duration": 30,
    "start_time": "2023-08-10T12:59:05.683Z"
   },
   {
    "duration": 245,
    "start_time": "2023-08-10T12:59:05.715Z"
   },
   {
    "duration": 6,
    "start_time": "2023-08-10T12:59:05.961Z"
   },
   {
    "duration": 46,
    "start_time": "2023-08-10T12:59:05.969Z"
   },
   {
    "duration": 34,
    "start_time": "2023-08-10T12:59:06.017Z"
   },
   {
    "duration": 49,
    "start_time": "2023-08-10T12:59:06.053Z"
   },
   {
    "duration": 22,
    "start_time": "2023-08-10T12:59:06.104Z"
   },
   {
    "duration": 40,
    "start_time": "2023-08-10T12:59:06.128Z"
   },
   {
    "duration": 29,
    "start_time": "2023-08-10T12:59:06.170Z"
   },
   {
    "duration": 10,
    "start_time": "2023-08-10T12:59:06.203Z"
   },
   {
    "duration": 26,
    "start_time": "2023-08-10T12:59:06.214Z"
   },
   {
    "duration": 0,
    "start_time": "2023-08-10T12:59:06.242Z"
   },
   {
    "duration": 0,
    "start_time": "2023-08-10T12:59:06.244Z"
   },
   {
    "duration": 0,
    "start_time": "2023-08-10T12:59:06.244Z"
   },
   {
    "duration": 0,
    "start_time": "2023-08-10T12:59:06.246Z"
   },
   {
    "duration": 0,
    "start_time": "2023-08-10T12:59:06.247Z"
   },
   {
    "duration": 0,
    "start_time": "2023-08-10T12:59:06.247Z"
   },
   {
    "duration": 0,
    "start_time": "2023-08-10T12:59:06.248Z"
   },
   {
    "duration": 0,
    "start_time": "2023-08-10T12:59:06.249Z"
   },
   {
    "duration": 0,
    "start_time": "2023-08-10T12:59:06.250Z"
   },
   {
    "duration": 0,
    "start_time": "2023-08-10T12:59:06.252Z"
   },
   {
    "duration": 0,
    "start_time": "2023-08-10T12:59:06.253Z"
   },
   {
    "duration": 0,
    "start_time": "2023-08-10T12:59:06.254Z"
   },
   {
    "duration": 0,
    "start_time": "2023-08-10T12:59:06.255Z"
   },
   {
    "duration": 0,
    "start_time": "2023-08-10T12:59:06.257Z"
   },
   {
    "duration": 0,
    "start_time": "2023-08-10T12:59:06.258Z"
   },
   {
    "duration": 0,
    "start_time": "2023-08-10T12:59:06.259Z"
   },
   {
    "duration": 0,
    "start_time": "2023-08-10T12:59:06.261Z"
   },
   {
    "duration": 0,
    "start_time": "2023-08-10T12:59:06.262Z"
   },
   {
    "duration": 0,
    "start_time": "2023-08-10T12:59:06.264Z"
   },
   {
    "duration": 0,
    "start_time": "2023-08-10T12:59:06.300Z"
   },
   {
    "duration": 0,
    "start_time": "2023-08-10T12:59:06.301Z"
   },
   {
    "duration": 0,
    "start_time": "2023-08-10T12:59:06.303Z"
   },
   {
    "duration": 0,
    "start_time": "2023-08-10T12:59:06.304Z"
   },
   {
    "duration": 0,
    "start_time": "2023-08-10T12:59:06.306Z"
   },
   {
    "duration": 0,
    "start_time": "2023-08-10T12:59:06.307Z"
   },
   {
    "duration": 0,
    "start_time": "2023-08-10T12:59:06.309Z"
   },
   {
    "duration": 0,
    "start_time": "2023-08-10T12:59:06.310Z"
   },
   {
    "duration": 0,
    "start_time": "2023-08-10T12:59:06.311Z"
   },
   {
    "duration": 0,
    "start_time": "2023-08-10T12:59:06.312Z"
   },
   {
    "duration": 0,
    "start_time": "2023-08-10T12:59:06.314Z"
   },
   {
    "duration": 14,
    "start_time": "2023-08-10T13:00:11.871Z"
   },
   {
    "duration": 12,
    "start_time": "2023-08-10T13:00:22.497Z"
   },
   {
    "duration": 13,
    "start_time": "2023-08-10T13:00:34.444Z"
   },
   {
    "duration": 18,
    "start_time": "2023-08-10T13:01:42.052Z"
   },
   {
    "duration": 29,
    "start_time": "2023-08-10T13:01:49.652Z"
   },
   {
    "duration": 16,
    "start_time": "2023-08-10T13:01:56.266Z"
   },
   {
    "duration": 28,
    "start_time": "2023-08-10T13:02:23.567Z"
   },
   {
    "duration": 18,
    "start_time": "2023-08-10T13:02:24.606Z"
   },
   {
    "duration": 28,
    "start_time": "2023-08-10T13:02:32.153Z"
   },
   {
    "duration": 30,
    "start_time": "2023-08-10T13:02:33.348Z"
   },
   {
    "duration": 20,
    "start_time": "2023-08-10T13:02:39.950Z"
   },
   {
    "duration": 4,
    "start_time": "2023-08-10T13:02:57.001Z"
   },
   {
    "duration": 27,
    "start_time": "2023-08-10T13:03:09.488Z"
   },
   {
    "duration": 6,
    "start_time": "2023-08-10T13:03:10.355Z"
   },
   {
    "duration": 18,
    "start_time": "2023-08-10T13:03:24.993Z"
   },
   {
    "duration": 16,
    "start_time": "2023-08-10T13:03:35.556Z"
   },
   {
    "duration": 4,
    "start_time": "2023-08-10T13:03:44.094Z"
   },
   {
    "duration": 30,
    "start_time": "2023-08-10T13:03:44.100Z"
   },
   {
    "duration": 460,
    "start_time": "2023-08-10T13:03:44.131Z"
   },
   {
    "duration": 27,
    "start_time": "2023-08-10T13:03:44.593Z"
   },
   {
    "duration": 236,
    "start_time": "2023-08-10T13:03:44.630Z"
   },
   {
    "duration": 243,
    "start_time": "2023-08-10T13:03:44.868Z"
   },
   {
    "duration": 5,
    "start_time": "2023-08-10T13:03:45.112Z"
   },
   {
    "duration": 64,
    "start_time": "2023-08-10T13:03:45.118Z"
   },
   {
    "duration": 31,
    "start_time": "2023-08-10T13:03:45.184Z"
   },
   {
    "duration": 35,
    "start_time": "2023-08-10T13:03:45.217Z"
   },
   {
    "duration": 47,
    "start_time": "2023-08-10T13:03:45.253Z"
   },
   {
    "duration": 38,
    "start_time": "2023-08-10T13:03:45.302Z"
   },
   {
    "duration": 46,
    "start_time": "2023-08-10T13:03:45.342Z"
   },
   {
    "duration": 7,
    "start_time": "2023-08-10T13:03:45.390Z"
   },
   {
    "duration": 3,
    "start_time": "2023-08-10T13:03:46.951Z"
   },
   {
    "duration": 39,
    "start_time": "2023-08-10T13:03:47.852Z"
   },
   {
    "duration": 44,
    "start_time": "2023-08-10T13:03:52.252Z"
   },
   {
    "duration": 17,
    "start_time": "2023-08-10T13:03:52.298Z"
   },
   {
    "duration": 33,
    "start_time": "2023-08-10T13:03:52.317Z"
   },
   {
    "duration": 11,
    "start_time": "2023-08-10T13:03:52.352Z"
   },
   {
    "duration": 24,
    "start_time": "2023-08-10T13:03:52.364Z"
   },
   {
    "duration": 17,
    "start_time": "2023-08-10T13:03:52.390Z"
   },
   {
    "duration": 12,
    "start_time": "2023-08-10T13:03:52.408Z"
   },
   {
    "duration": 7,
    "start_time": "2023-08-10T13:03:52.422Z"
   },
   {
    "duration": 12,
    "start_time": "2023-08-10T13:03:52.430Z"
   },
   {
    "duration": 6,
    "start_time": "2023-08-10T13:03:52.445Z"
   },
   {
    "duration": 8,
    "start_time": "2023-08-10T13:03:52.453Z"
   },
   {
    "duration": 13,
    "start_time": "2023-08-10T13:03:52.462Z"
   },
   {
    "duration": 6,
    "start_time": "2023-08-10T13:03:52.499Z"
   },
   {
    "duration": 38,
    "start_time": "2023-08-10T13:03:52.507Z"
   },
   {
    "duration": 16,
    "start_time": "2023-08-10T13:03:52.547Z"
   },
   {
    "duration": 31,
    "start_time": "2023-08-10T13:03:52.564Z"
   },
   {
    "duration": 16,
    "start_time": "2023-08-10T13:03:52.596Z"
   },
   {
    "duration": 19,
    "start_time": "2023-08-10T13:03:52.614Z"
   },
   {
    "duration": 9,
    "start_time": "2023-08-10T13:03:52.635Z"
   },
   {
    "duration": 32,
    "start_time": "2023-08-10T13:03:52.646Z"
   },
   {
    "duration": 27,
    "start_time": "2023-08-10T13:03:52.679Z"
   },
   {
    "duration": 58,
    "start_time": "2023-08-10T13:03:52.708Z"
   },
   {
    "duration": 82,
    "start_time": "2023-08-10T13:03:52.768Z"
   },
   {
    "duration": 4,
    "start_time": "2023-08-10T13:03:52.852Z"
   },
   {
    "duration": 136,
    "start_time": "2023-08-10T13:03:52.858Z"
   },
   {
    "duration": 9,
    "start_time": "2023-08-10T13:03:52.996Z"
   },
   {
    "duration": 15,
    "start_time": "2023-08-10T13:03:53.006Z"
   },
   {
    "duration": 22,
    "start_time": "2023-08-10T13:03:53.024Z"
   },
   {
    "duration": 16,
    "start_time": "2023-08-10T13:03:53.047Z"
   },
   {
    "duration": 9,
    "start_time": "2023-08-10T13:03:53.065Z"
   },
   {
    "duration": 261,
    "start_time": "2023-08-10T13:03:53.075Z"
   },
   {
    "duration": 17,
    "start_time": "2023-08-10T13:06:20.595Z"
   },
   {
    "duration": 8,
    "start_time": "2023-08-10T13:06:27.315Z"
   },
   {
    "duration": 276,
    "start_time": "2023-08-10T13:06:31.316Z"
   },
   {
    "duration": 267,
    "start_time": "2023-08-10T13:06:44.529Z"
   },
   {
    "duration": 10,
    "start_time": "2023-08-10T17:42:16.467Z"
   },
   {
    "duration": 10,
    "start_time": "2023-08-10T17:43:44.383Z"
   },
   {
    "duration": 299,
    "start_time": "2023-08-10T17:46:28.285Z"
   },
   {
    "duration": 238,
    "start_time": "2023-08-10T17:46:47.685Z"
   },
   {
    "duration": 257,
    "start_time": "2023-08-10T17:47:27.293Z"
   },
   {
    "duration": 4,
    "start_time": "2023-08-10T17:47:38.879Z"
   },
   {
    "duration": 20,
    "start_time": "2023-08-10T17:47:38.884Z"
   },
   {
    "duration": 468,
    "start_time": "2023-08-10T17:47:38.905Z"
   },
   {
    "duration": 26,
    "start_time": "2023-08-10T17:47:39.374Z"
   },
   {
    "duration": 192,
    "start_time": "2023-08-10T17:47:39.402Z"
   },
   {
    "duration": 267,
    "start_time": "2023-08-10T17:47:39.596Z"
   },
   {
    "duration": 6,
    "start_time": "2023-08-10T17:47:39.864Z"
   },
   {
    "duration": 58,
    "start_time": "2023-08-10T17:47:39.872Z"
   },
   {
    "duration": 24,
    "start_time": "2023-08-10T17:47:39.931Z"
   },
   {
    "duration": 4,
    "start_time": "2023-08-10T17:47:39.957Z"
   },
   {
    "duration": 6,
    "start_time": "2023-08-10T17:47:39.962Z"
   },
   {
    "duration": 9,
    "start_time": "2023-08-10T17:47:39.969Z"
   },
   {
    "duration": 36,
    "start_time": "2023-08-10T17:47:39.979Z"
   },
   {
    "duration": 9,
    "start_time": "2023-08-10T17:47:40.017Z"
   },
   {
    "duration": 54,
    "start_time": "2023-08-10T17:47:40.027Z"
   },
   {
    "duration": 23,
    "start_time": "2023-08-10T17:47:40.083Z"
   },
   {
    "duration": 25,
    "start_time": "2023-08-10T17:47:40.107Z"
   },
   {
    "duration": 24,
    "start_time": "2023-08-10T17:47:40.134Z"
   },
   {
    "duration": 4,
    "start_time": "2023-08-10T17:47:40.160Z"
   },
   {
    "duration": 21,
    "start_time": "2023-08-10T17:47:40.166Z"
   },
   {
    "duration": 12,
    "start_time": "2023-08-10T17:47:40.199Z"
   },
   {
    "duration": 11,
    "start_time": "2023-08-10T17:47:40.212Z"
   },
   {
    "duration": 24,
    "start_time": "2023-08-10T17:47:40.225Z"
   },
   {
    "duration": 20,
    "start_time": "2023-08-10T17:47:40.250Z"
   },
   {
    "duration": 20,
    "start_time": "2023-08-10T17:47:40.272Z"
   },
   {
    "duration": 13,
    "start_time": "2023-08-10T17:47:40.294Z"
   },
   {
    "duration": 5,
    "start_time": "2023-08-10T17:47:40.309Z"
   },
   {
    "duration": 13,
    "start_time": "2023-08-10T17:47:40.316Z"
   },
   {
    "duration": 9,
    "start_time": "2023-08-10T17:47:40.331Z"
   },
   {
    "duration": 22,
    "start_time": "2023-08-10T17:47:40.341Z"
   },
   {
    "duration": 81,
    "start_time": "2023-08-10T17:47:40.364Z"
   },
   {
    "duration": 7,
    "start_time": "2023-08-10T17:47:40.447Z"
   },
   {
    "duration": 20,
    "start_time": "2023-08-10T17:47:40.455Z"
   },
   {
    "duration": 20,
    "start_time": "2023-08-10T17:47:40.476Z"
   },
   {
    "duration": 13,
    "start_time": "2023-08-10T17:47:40.497Z"
   },
   {
    "duration": 286,
    "start_time": "2023-08-10T17:47:42.537Z"
   },
   {
    "duration": 45,
    "start_time": "2023-08-10T19:26:09.065Z"
   },
   {
    "duration": 1235,
    "start_time": "2023-08-10T19:26:12.803Z"
   },
   {
    "duration": 4,
    "start_time": "2023-08-10T19:26:14.039Z"
   },
   {
    "duration": 822,
    "start_time": "2023-08-10T19:26:14.044Z"
   },
   {
    "duration": 26,
    "start_time": "2023-08-10T19:26:14.868Z"
   },
   {
    "duration": 181,
    "start_time": "2023-08-10T19:26:14.896Z"
   },
   {
    "duration": 273,
    "start_time": "2023-08-10T19:26:15.079Z"
   },
   {
    "duration": 5,
    "start_time": "2023-08-10T19:26:15.354Z"
   },
   {
    "duration": 58,
    "start_time": "2023-08-10T19:26:15.361Z"
   },
   {
    "duration": 27,
    "start_time": "2023-08-10T19:26:15.420Z"
   },
   {
    "duration": 3,
    "start_time": "2023-08-10T19:26:15.450Z"
   },
   {
    "duration": 4,
    "start_time": "2023-08-10T19:26:15.454Z"
   },
   {
    "duration": 6,
    "start_time": "2023-08-10T19:26:15.459Z"
   },
   {
    "duration": 42,
    "start_time": "2023-08-10T19:26:15.466Z"
   },
   {
    "duration": 4,
    "start_time": "2023-08-10T19:26:15.519Z"
   },
   {
    "duration": 54,
    "start_time": "2023-08-10T19:26:15.525Z"
   },
   {
    "duration": 15,
    "start_time": "2023-08-10T19:26:15.581Z"
   },
   {
    "duration": 28,
    "start_time": "2023-08-10T19:26:15.598Z"
   },
   {
    "duration": 10,
    "start_time": "2023-08-10T19:26:15.627Z"
   },
   {
    "duration": 3,
    "start_time": "2023-08-10T19:26:15.638Z"
   },
   {
    "duration": 31,
    "start_time": "2023-08-10T19:26:15.642Z"
   },
   {
    "duration": 11,
    "start_time": "2023-08-10T19:26:15.674Z"
   },
   {
    "duration": 8,
    "start_time": "2023-08-10T19:26:15.686Z"
   },
   {
    "duration": 9,
    "start_time": "2023-08-10T19:26:15.695Z"
   },
   {
    "duration": 6,
    "start_time": "2023-08-10T19:26:15.706Z"
   },
   {
    "duration": 13,
    "start_time": "2023-08-10T19:26:15.714Z"
   },
   {
    "duration": 9,
    "start_time": "2023-08-10T19:26:17.932Z"
   },
   {
    "duration": 6,
    "start_time": "2023-08-10T19:26:26.540Z"
   },
   {
    "duration": 5,
    "start_time": "2023-08-10T19:26:30.919Z"
   },
   {
    "duration": 2,
    "start_time": "2023-08-10T19:26:42.430Z"
   },
   {
    "duration": 3,
    "start_time": "2023-08-10T19:26:42.960Z"
   },
   {
    "duration": 3,
    "start_time": "2023-08-10T19:26:44.160Z"
   },
   {
    "duration": 3,
    "start_time": "2023-08-10T19:26:44.692Z"
   },
   {
    "duration": 1316,
    "start_time": "2023-08-10T19:29:28.357Z"
   },
   {
    "duration": 86,
    "start_time": "2023-08-10T19:29:31.539Z"
   },
   {
    "duration": 12,
    "start_time": "2023-08-10T19:29:36.155Z"
   },
   {
    "duration": 3,
    "start_time": "2023-08-10T19:29:40.925Z"
   },
   {
    "duration": 7,
    "start_time": "2023-08-10T19:29:40.929Z"
   },
   {
    "duration": 459,
    "start_time": "2023-08-10T19:29:40.938Z"
   },
   {
    "duration": 21,
    "start_time": "2023-08-10T19:29:41.399Z"
   },
   {
    "duration": 237,
    "start_time": "2023-08-10T19:29:41.421Z"
   },
   {
    "duration": 264,
    "start_time": "2023-08-10T19:29:41.659Z"
   },
   {
    "duration": 7,
    "start_time": "2023-08-10T19:29:41.925Z"
   },
   {
    "duration": 40,
    "start_time": "2023-08-10T19:29:41.933Z"
   },
   {
    "duration": 40,
    "start_time": "2023-08-10T19:29:41.976Z"
   },
   {
    "duration": 3,
    "start_time": "2023-08-10T19:29:42.018Z"
   },
   {
    "duration": 5,
    "start_time": "2023-08-10T19:29:42.022Z"
   },
   {
    "duration": 7,
    "start_time": "2023-08-10T19:29:42.028Z"
   },
   {
    "duration": 20,
    "start_time": "2023-08-10T19:29:42.036Z"
   },
   {
    "duration": 2,
    "start_time": "2023-08-10T19:29:42.058Z"
   },
   {
    "duration": 64,
    "start_time": "2023-08-10T19:29:42.062Z"
   },
   {
    "duration": 15,
    "start_time": "2023-08-10T19:29:42.127Z"
   },
   {
    "duration": 23,
    "start_time": "2023-08-10T19:29:42.144Z"
   },
   {
    "duration": 32,
    "start_time": "2023-08-10T19:29:42.168Z"
   },
   {
    "duration": 4,
    "start_time": "2023-08-10T19:29:42.201Z"
   },
   {
    "duration": 41,
    "start_time": "2023-08-10T19:29:42.206Z"
   },
   {
    "duration": 13,
    "start_time": "2023-08-10T19:29:42.249Z"
   },
   {
    "duration": 4,
    "start_time": "2023-08-10T19:29:42.264Z"
   },
   {
    "duration": 20,
    "start_time": "2023-08-10T19:29:42.270Z"
   },
   {
    "duration": 5,
    "start_time": "2023-08-10T19:29:42.294Z"
   },
   {
    "duration": 8,
    "start_time": "2023-08-10T19:29:42.301Z"
   },
   {
    "duration": 8,
    "start_time": "2023-08-10T19:29:42.311Z"
   },
   {
    "duration": 5,
    "start_time": "2023-08-10T19:29:42.320Z"
   },
   {
    "duration": 18,
    "start_time": "2023-08-10T19:29:42.326Z"
   },
   {
    "duration": 9,
    "start_time": "2023-08-10T19:29:42.345Z"
   },
   {
    "duration": 7,
    "start_time": "2023-08-10T19:29:42.355Z"
   },
   {
    "duration": 11,
    "start_time": "2023-08-10T19:29:42.363Z"
   },
   {
    "duration": 5,
    "start_time": "2023-08-10T19:29:42.375Z"
   },
   {
    "duration": 19,
    "start_time": "2023-08-10T19:29:42.381Z"
   },
   {
    "duration": 8,
    "start_time": "2023-08-10T19:29:42.401Z"
   },
   {
    "duration": 19,
    "start_time": "2023-08-10T19:29:42.410Z"
   },
   {
    "duration": 307,
    "start_time": "2023-08-10T19:29:42.431Z"
   },
   {
    "duration": 31,
    "start_time": "2023-08-10T19:29:42.740Z"
   },
   {
    "duration": 100,
    "start_time": "2023-08-10T19:29:42.773Z"
   },
   {
    "duration": 15,
    "start_time": "2023-08-10T19:29:46.349Z"
   },
   {
    "duration": 9,
    "start_time": "2023-08-10T19:30:18.302Z"
   },
   {
    "duration": 7,
    "start_time": "2023-08-10T19:31:24.493Z"
   },
   {
    "duration": 3,
    "start_time": "2023-08-10T19:31:43.121Z"
   },
   {
    "duration": 12,
    "start_time": "2023-08-10T19:31:48.989Z"
   },
   {
    "duration": 18,
    "start_time": "2023-08-10T19:33:20.184Z"
   },
   {
    "duration": 17,
    "start_time": "2023-08-10T19:33:24.923Z"
   },
   {
    "duration": 45,
    "start_time": "2023-08-10T19:34:17.582Z"
   },
   {
    "duration": 23,
    "start_time": "2023-08-10T19:34:41.730Z"
   },
   {
    "duration": 99,
    "start_time": "2023-08-10T19:34:57.980Z"
   },
   {
    "duration": 23,
    "start_time": "2023-08-10T19:35:02.279Z"
   },
   {
    "duration": 10,
    "start_time": "2023-08-10T19:35:06.534Z"
   },
   {
    "duration": 39,
    "start_time": "2023-08-10T19:38:14.896Z"
   },
   {
    "duration": 26,
    "start_time": "2023-08-10T19:38:16.896Z"
   },
   {
    "duration": 4544,
    "start_time": "2023-08-10T19:39:54.278Z"
   },
   {
    "duration": 211,
    "start_time": "2023-08-10T19:40:38.883Z"
   },
   {
    "duration": 139,
    "start_time": "2023-08-10T19:40:47.683Z"
   },
   {
    "duration": 135,
    "start_time": "2023-08-10T19:41:22.053Z"
   },
   {
    "duration": 144,
    "start_time": "2023-08-10T19:41:32.180Z"
   },
   {
    "duration": 151,
    "start_time": "2023-08-10T19:42:19.100Z"
   },
   {
    "duration": 212,
    "start_time": "2023-08-10T19:42:32.143Z"
   },
   {
    "duration": 142,
    "start_time": "2023-08-10T19:42:39.141Z"
   },
   {
    "duration": 146,
    "start_time": "2023-08-10T19:43:06.522Z"
   },
   {
    "duration": 7,
    "start_time": "2023-08-10T19:44:53.194Z"
   },
   {
    "duration": 8,
    "start_time": "2023-08-10T19:44:53.857Z"
   },
   {
    "duration": 4,
    "start_time": "2023-08-10T19:44:57.096Z"
   },
   {
    "duration": 3,
    "start_time": "2023-08-10T19:45:21.151Z"
   },
   {
    "duration": 14,
    "start_time": "2023-08-10T19:45:21.156Z"
   },
   {
    "duration": 473,
    "start_time": "2023-08-10T19:45:21.177Z"
   },
   {
    "duration": 21,
    "start_time": "2023-08-10T19:45:21.652Z"
   },
   {
    "duration": 175,
    "start_time": "2023-08-10T19:45:21.674Z"
   },
   {
    "duration": 251,
    "start_time": "2023-08-10T19:45:21.850Z"
   },
   {
    "duration": 6,
    "start_time": "2023-08-10T19:45:22.103Z"
   },
   {
    "duration": 37,
    "start_time": "2023-08-10T19:45:22.110Z"
   },
   {
    "duration": 21,
    "start_time": "2023-08-10T19:45:22.149Z"
   },
   {
    "duration": 3,
    "start_time": "2023-08-10T19:45:22.171Z"
   },
   {
    "duration": 24,
    "start_time": "2023-08-10T19:45:22.175Z"
   },
   {
    "duration": 11,
    "start_time": "2023-08-10T19:45:22.201Z"
   },
   {
    "duration": 17,
    "start_time": "2023-08-10T19:45:22.213Z"
   },
   {
    "duration": 2,
    "start_time": "2023-08-10T19:45:22.232Z"
   },
   {
    "duration": 41,
    "start_time": "2023-08-10T19:45:22.236Z"
   },
   {
    "duration": 30,
    "start_time": "2023-08-10T19:45:22.280Z"
   },
   {
    "duration": 25,
    "start_time": "2023-08-10T19:45:22.311Z"
   },
   {
    "duration": 10,
    "start_time": "2023-08-10T19:45:22.337Z"
   },
   {
    "duration": 4,
    "start_time": "2023-08-10T19:45:22.349Z"
   },
   {
    "duration": 15,
    "start_time": "2023-08-10T19:45:22.354Z"
   },
   {
    "duration": 32,
    "start_time": "2023-08-10T19:45:22.371Z"
   },
   {
    "duration": 4,
    "start_time": "2023-08-10T19:45:22.404Z"
   },
   {
    "duration": 9,
    "start_time": "2023-08-10T19:45:22.409Z"
   },
   {
    "duration": 6,
    "start_time": "2023-08-10T19:45:22.419Z"
   },
   {
    "duration": 8,
    "start_time": "2023-08-10T19:45:22.427Z"
   },
   {
    "duration": 8,
    "start_time": "2023-08-10T19:45:22.437Z"
   },
   {
    "duration": 12,
    "start_time": "2023-08-10T19:45:22.447Z"
   },
   {
    "duration": 6,
    "start_time": "2023-08-10T19:45:22.460Z"
   },
   {
    "duration": 32,
    "start_time": "2023-08-10T19:45:22.467Z"
   },
   {
    "duration": 5,
    "start_time": "2023-08-10T19:45:22.501Z"
   },
   {
    "duration": 4,
    "start_time": "2023-08-10T19:45:22.508Z"
   },
   {
    "duration": 5,
    "start_time": "2023-08-10T19:45:22.513Z"
   },
   {
    "duration": 9,
    "start_time": "2023-08-10T19:45:22.520Z"
   },
   {
    "duration": 11,
    "start_time": "2023-08-10T19:45:22.530Z"
   },
   {
    "duration": 11,
    "start_time": "2023-08-10T19:45:22.543Z"
   },
   {
    "duration": 347,
    "start_time": "2023-08-10T19:45:22.555Z"
   },
   {
    "duration": 28,
    "start_time": "2023-08-10T19:45:22.904Z"
   },
   {
    "duration": 86,
    "start_time": "2023-08-10T19:45:22.934Z"
   },
   {
    "duration": 9,
    "start_time": "2023-08-10T19:45:23.022Z"
   },
   {
    "duration": 32,
    "start_time": "2023-08-10T19:45:23.032Z"
   },
   {
    "duration": 147,
    "start_time": "2023-08-10T19:45:23.065Z"
   },
   {
    "duration": 7,
    "start_time": "2023-08-10T19:45:23.214Z"
   },
   {
    "duration": 7,
    "start_time": "2023-08-10T19:45:23.224Z"
   },
   {
    "duration": 2,
    "start_time": "2023-08-10T19:45:23.233Z"
   },
   {
    "duration": 16,
    "start_time": "2023-08-10T19:47:05.812Z"
   },
   {
    "duration": 12,
    "start_time": "2023-08-10T19:47:31.435Z"
   },
   {
    "duration": 10,
    "start_time": "2023-08-10T19:47:44.082Z"
   },
   {
    "duration": 1446,
    "start_time": "2023-08-11T06:23:29.053Z"
   },
   {
    "duration": 5,
    "start_time": "2023-08-11T06:23:30.501Z"
   },
   {
    "duration": 1120,
    "start_time": "2023-08-11T06:23:30.507Z"
   },
   {
    "duration": 31,
    "start_time": "2023-08-11T06:23:31.629Z"
   },
   {
    "duration": 292,
    "start_time": "2023-08-11T06:23:31.662Z"
   },
   {
    "duration": 360,
    "start_time": "2023-08-11T06:23:31.956Z"
   },
   {
    "duration": 8,
    "start_time": "2023-08-11T06:23:32.318Z"
   },
   {
    "duration": 159,
    "start_time": "2023-08-11T06:23:32.328Z"
   },
   {
    "duration": 35,
    "start_time": "2023-08-11T06:23:32.489Z"
   },
   {
    "duration": 47,
    "start_time": "2023-08-11T06:23:32.528Z"
   },
   {
    "duration": 27,
    "start_time": "2023-08-11T06:23:32.577Z"
   },
   {
    "duration": 48,
    "start_time": "2023-08-11T06:23:32.606Z"
   },
   {
    "duration": 49,
    "start_time": "2023-08-11T06:23:32.656Z"
   },
   {
    "duration": 3,
    "start_time": "2023-08-11T06:23:32.707Z"
   },
   {
    "duration": 109,
    "start_time": "2023-08-11T06:23:32.712Z"
   },
   {
    "duration": 21,
    "start_time": "2023-08-11T06:23:32.823Z"
   },
   {
    "duration": 40,
    "start_time": "2023-08-11T06:23:32.846Z"
   },
   {
    "duration": 17,
    "start_time": "2023-08-11T06:23:32.900Z"
   },
   {
    "duration": 3,
    "start_time": "2023-08-11T06:23:32.919Z"
   },
   {
    "duration": 42,
    "start_time": "2023-08-11T06:23:32.924Z"
   },
   {
    "duration": 13,
    "start_time": "2023-08-11T06:23:32.968Z"
   },
   {
    "duration": 16,
    "start_time": "2023-08-11T06:23:32.983Z"
   },
   {
    "duration": 15,
    "start_time": "2023-08-11T06:23:33.000Z"
   },
   {
    "duration": 21,
    "start_time": "2023-08-11T06:23:33.017Z"
   },
   {
    "duration": 40,
    "start_time": "2023-08-11T06:23:33.040Z"
   },
   {
    "duration": 21,
    "start_time": "2023-08-11T06:23:33.082Z"
   },
   {
    "duration": 28,
    "start_time": "2023-08-11T06:23:33.105Z"
   },
   {
    "duration": 10,
    "start_time": "2023-08-11T06:23:33.137Z"
   },
   {
    "duration": 12,
    "start_time": "2023-08-11T06:23:33.149Z"
   },
   {
    "duration": 7,
    "start_time": "2023-08-11T06:23:33.163Z"
   },
   {
    "duration": 23,
    "start_time": "2023-08-11T06:23:33.171Z"
   },
   {
    "duration": 24,
    "start_time": "2023-08-11T06:23:33.196Z"
   },
   {
    "duration": 23,
    "start_time": "2023-08-11T06:23:33.222Z"
   },
   {
    "duration": 25,
    "start_time": "2023-08-11T06:23:33.248Z"
   },
   {
    "duration": 18,
    "start_time": "2023-08-11T06:23:33.275Z"
   },
   {
    "duration": 354,
    "start_time": "2023-08-11T06:23:33.295Z"
   },
   {
    "duration": 34,
    "start_time": "2023-08-11T06:23:33.651Z"
   },
   {
    "duration": 107,
    "start_time": "2023-08-11T06:23:33.687Z"
   },
   {
    "duration": 12,
    "start_time": "2023-08-11T06:23:33.800Z"
   },
   {
    "duration": 34,
    "start_time": "2023-08-11T06:23:33.814Z"
   },
   {
    "duration": 176,
    "start_time": "2023-08-11T06:23:33.850Z"
   },
   {
    "duration": 7,
    "start_time": "2023-08-11T06:23:34.028Z"
   },
   {
    "duration": 22,
    "start_time": "2023-08-11T06:23:34.037Z"
   },
   {
    "duration": 16,
    "start_time": "2023-08-11T06:23:34.061Z"
   },
   {
    "duration": 3,
    "start_time": "2023-08-11T06:23:34.078Z"
   },
   {
    "duration": 19,
    "start_time": "2023-08-11T06:23:34.083Z"
   },
   {
    "duration": 9,
    "start_time": "2023-08-11T06:23:34.104Z"
   },
   {
    "duration": 371,
    "start_time": "2023-08-11T06:23:34.115Z"
   },
   {
    "duration": 325,
    "start_time": "2023-08-11T06:23:34.488Z"
   },
   {
    "duration": 10,
    "start_time": "2023-08-11T06:27:01.147Z"
   },
   {
    "duration": 4,
    "start_time": "2023-08-11T06:27:26.688Z"
   },
   {
    "duration": 98,
    "start_time": "2023-08-11T06:27:26.694Z"
   },
   {
    "duration": 688,
    "start_time": "2023-08-11T06:27:26.794Z"
   },
   {
    "duration": 39,
    "start_time": "2023-08-11T06:27:27.484Z"
   },
   {
    "duration": 356,
    "start_time": "2023-08-11T06:27:27.525Z"
   },
   {
    "duration": 437,
    "start_time": "2023-08-11T06:27:27.883Z"
   },
   {
    "duration": 10,
    "start_time": "2023-08-11T06:27:28.324Z"
   },
   {
    "duration": 67,
    "start_time": "2023-08-11T06:27:28.335Z"
   },
   {
    "duration": 48,
    "start_time": "2023-08-11T06:27:28.407Z"
   },
   {
    "duration": 4,
    "start_time": "2023-08-11T06:27:28.459Z"
   },
   {
    "duration": 16,
    "start_time": "2023-08-11T06:27:28.465Z"
   },
   {
    "duration": 11,
    "start_time": "2023-08-11T06:27:28.482Z"
   },
   {
    "duration": 67,
    "start_time": "2023-08-11T06:27:28.495Z"
   },
   {
    "duration": 4,
    "start_time": "2023-08-11T06:27:28.564Z"
   },
   {
    "duration": 94,
    "start_time": "2023-08-11T06:27:28.569Z"
   },
   {
    "duration": 19,
    "start_time": "2023-08-11T06:27:28.665Z"
   },
   {
    "duration": 52,
    "start_time": "2023-08-11T06:27:28.685Z"
   },
   {
    "duration": 17,
    "start_time": "2023-08-11T06:27:28.739Z"
   },
   {
    "duration": 3,
    "start_time": "2023-08-11T06:27:28.758Z"
   },
   {
    "duration": 16,
    "start_time": "2023-08-11T06:27:28.763Z"
   },
   {
    "duration": 32,
    "start_time": "2023-08-11T06:27:28.781Z"
   },
   {
    "duration": 7,
    "start_time": "2023-08-11T06:27:28.829Z"
   },
   {
    "duration": 15,
    "start_time": "2023-08-11T06:27:28.838Z"
   },
   {
    "duration": 9,
    "start_time": "2023-08-11T06:27:28.855Z"
   },
   {
    "duration": 12,
    "start_time": "2023-08-11T06:27:28.866Z"
   },
   {
    "duration": 14,
    "start_time": "2023-08-11T06:27:28.880Z"
   },
   {
    "duration": 42,
    "start_time": "2023-08-11T06:27:28.896Z"
   },
   {
    "duration": 7,
    "start_time": "2023-08-11T06:27:28.942Z"
   },
   {
    "duration": 5,
    "start_time": "2023-08-11T06:27:28.951Z"
   },
   {
    "duration": 8,
    "start_time": "2023-08-11T06:27:28.958Z"
   },
   {
    "duration": 8,
    "start_time": "2023-08-11T06:27:28.968Z"
   },
   {
    "duration": 25,
    "start_time": "2023-08-11T06:27:28.978Z"
   },
   {
    "duration": 39,
    "start_time": "2023-08-11T06:27:29.005Z"
   },
   {
    "duration": 10,
    "start_time": "2023-08-11T06:27:29.046Z"
   },
   {
    "duration": 24,
    "start_time": "2023-08-11T06:27:29.058Z"
   },
   {
    "duration": 442,
    "start_time": "2023-08-11T06:27:29.084Z"
   },
   {
    "duration": 40,
    "start_time": "2023-08-11T06:27:35.336Z"
   },
   {
    "duration": 108,
    "start_time": "2023-08-11T06:27:38.738Z"
   },
   {
    "duration": 11,
    "start_time": "2023-08-11T06:27:42.525Z"
   },
   {
    "duration": 97,
    "start_time": "2023-08-11T06:28:02.792Z"
   },
   {
    "duration": 182,
    "start_time": "2023-08-11T06:28:06.740Z"
   },
   {
    "duration": 13,
    "start_time": "2023-08-11T06:28:24.144Z"
   },
   {
    "duration": 11,
    "start_time": "2023-08-11T06:28:38.064Z"
   },
   {
    "duration": 34,
    "start_time": "2023-08-11T06:29:46.567Z"
   },
   {
    "duration": 114,
    "start_time": "2023-08-11T06:29:48.151Z"
   },
   {
    "duration": 13,
    "start_time": "2023-08-11T06:29:48.958Z"
   },
   {
    "duration": 30,
    "start_time": "2023-08-11T06:29:51.133Z"
   },
   {
    "duration": 167,
    "start_time": "2023-08-11T06:29:52.954Z"
   },
   {
    "duration": 9,
    "start_time": "2023-08-11T06:30:28.957Z"
   },
   {
    "duration": 11,
    "start_time": "2023-08-11T06:30:29.476Z"
   },
   {
    "duration": 14,
    "start_time": "2023-08-11T06:30:32.374Z"
   },
   {
    "duration": 3,
    "start_time": "2023-08-11T06:30:45.026Z"
   },
   {
    "duration": 12,
    "start_time": "2023-08-11T06:31:55.875Z"
   },
   {
    "duration": 332,
    "start_time": "2023-08-11T06:37:30.168Z"
   },
   {
    "duration": 18,
    "start_time": "2023-08-11T06:39:38.067Z"
   },
   {
    "duration": 153,
    "start_time": "2023-08-11T06:39:52.249Z"
   },
   {
    "duration": 148,
    "start_time": "2023-08-11T06:40:01.951Z"
   },
   {
    "duration": 110,
    "start_time": "2023-08-11T06:40:30.867Z"
   },
   {
    "duration": 45,
    "start_time": "2023-08-11T06:40:53.041Z"
   },
   {
    "duration": 10,
    "start_time": "2023-08-11T06:41:32.497Z"
   },
   {
    "duration": 15,
    "start_time": "2023-08-11T06:41:55.735Z"
   },
   {
    "duration": 18,
    "start_time": "2023-08-11T06:45:40.731Z"
   },
   {
    "duration": 18,
    "start_time": "2023-08-11T06:45:51.839Z"
   },
   {
    "duration": 7,
    "start_time": "2023-08-11T06:46:14.194Z"
   },
   {
    "duration": 1036,
    "start_time": "2023-08-11T06:46:40.223Z"
   },
   {
    "duration": 11,
    "start_time": "2023-08-11T06:46:54.493Z"
   },
   {
    "duration": 20,
    "start_time": "2023-08-11T06:47:20.193Z"
   },
   {
    "duration": 8,
    "start_time": "2023-08-11T06:48:23.651Z"
   },
   {
    "duration": 12,
    "start_time": "2023-08-11T06:48:32.819Z"
   },
   {
    "duration": 23,
    "start_time": "2023-08-11T06:51:19.457Z"
   },
   {
    "duration": 278,
    "start_time": "2023-08-11T06:51:38.068Z"
   },
   {
    "duration": 240,
    "start_time": "2023-08-11T06:54:18.949Z"
   },
   {
    "duration": 244,
    "start_time": "2023-08-11T06:54:24.335Z"
   },
   {
    "duration": 8,
    "start_time": "2023-08-11T06:56:52.744Z"
   },
   {
    "duration": 6,
    "start_time": "2023-08-11T06:57:15.740Z"
   },
   {
    "duration": 10,
    "start_time": "2023-08-11T06:57:26.023Z"
   },
   {
    "duration": 1465,
    "start_time": "2023-08-11T06:58:15.777Z"
   },
   {
    "duration": 329,
    "start_time": "2023-08-11T06:58:58.859Z"
   },
   {
    "duration": 390,
    "start_time": "2023-08-11T07:01:56.923Z"
   },
   {
    "duration": 382,
    "start_time": "2023-08-11T07:02:13.764Z"
   },
   {
    "duration": 298,
    "start_time": "2023-08-11T07:03:15.892Z"
   },
   {
    "duration": 14,
    "start_time": "2023-08-11T07:04:41.640Z"
   },
   {
    "duration": 28,
    "start_time": "2023-08-11T07:05:02.862Z"
   },
   {
    "duration": 10,
    "start_time": "2023-08-11T07:05:32.741Z"
   },
   {
    "duration": 28,
    "start_time": "2023-08-11T07:07:18.872Z"
   },
   {
    "duration": 16,
    "start_time": "2023-08-11T07:08:44.146Z"
   },
   {
    "duration": 19,
    "start_time": "2023-08-11T07:09:18.085Z"
   },
   {
    "duration": 20,
    "start_time": "2023-08-11T07:10:04.132Z"
   },
   {
    "duration": 16,
    "start_time": "2023-08-11T07:10:15.027Z"
   },
   {
    "duration": 20,
    "start_time": "2023-08-11T07:12:56.023Z"
   },
   {
    "duration": 14,
    "start_time": "2023-08-11T07:13:16.765Z"
   },
   {
    "duration": 3,
    "start_time": "2023-08-11T07:13:54.686Z"
   },
   {
    "duration": 11,
    "start_time": "2023-08-11T07:14:47.532Z"
   },
   {
    "duration": 13,
    "start_time": "2023-08-11T07:15:00.433Z"
   },
   {
    "duration": 25,
    "start_time": "2023-08-11T07:15:26.188Z"
   },
   {
    "duration": 6,
    "start_time": "2023-08-11T07:16:12.191Z"
   },
   {
    "duration": 9,
    "start_time": "2023-08-11T07:16:21.991Z"
   },
   {
    "duration": 4,
    "start_time": "2023-08-11T07:17:50.583Z"
   },
   {
    "duration": 19,
    "start_time": "2023-08-11T07:17:55.497Z"
   },
   {
    "duration": 17,
    "start_time": "2023-08-11T07:18:03.324Z"
   },
   {
    "duration": 17,
    "start_time": "2023-08-11T07:18:08.353Z"
   },
   {
    "duration": 8,
    "start_time": "2023-08-11T07:18:31.192Z"
   },
   {
    "duration": 279,
    "start_time": "2023-08-11T07:18:34.172Z"
   },
   {
    "duration": 1497,
    "start_time": "2023-08-11T07:18:44.142Z"
   },
   {
    "duration": 5,
    "start_time": "2023-08-11T07:19:01.652Z"
   },
   {
    "duration": 38,
    "start_time": "2023-08-11T07:19:01.659Z"
   },
   {
    "duration": 684,
    "start_time": "2023-08-11T07:19:01.699Z"
   },
   {
    "duration": 39,
    "start_time": "2023-08-11T07:19:02.386Z"
   },
   {
    "duration": 236,
    "start_time": "2023-08-11T07:19:02.429Z"
   },
   {
    "duration": 305,
    "start_time": "2023-08-11T07:19:02.667Z"
   },
   {
    "duration": 6,
    "start_time": "2023-08-11T07:19:02.974Z"
   },
   {
    "duration": 62,
    "start_time": "2023-08-11T07:19:02.981Z"
   },
   {
    "duration": 57,
    "start_time": "2023-08-11T07:19:03.045Z"
   },
   {
    "duration": 4,
    "start_time": "2023-08-11T07:19:03.104Z"
   },
   {
    "duration": 8,
    "start_time": "2023-08-11T07:19:03.110Z"
   },
   {
    "duration": 21,
    "start_time": "2023-08-11T07:19:03.120Z"
   },
   {
    "duration": 35,
    "start_time": "2023-08-11T07:19:03.144Z"
   },
   {
    "duration": 4,
    "start_time": "2023-08-11T07:19:03.181Z"
   },
   {
    "duration": 67,
    "start_time": "2023-08-11T07:19:03.200Z"
   },
   {
    "duration": 31,
    "start_time": "2023-08-11T07:19:03.269Z"
   },
   {
    "duration": 29,
    "start_time": "2023-08-11T07:19:03.302Z"
   },
   {
    "duration": 15,
    "start_time": "2023-08-11T07:19:03.332Z"
   },
   {
    "duration": 3,
    "start_time": "2023-08-11T07:19:03.351Z"
   },
   {
    "duration": 45,
    "start_time": "2023-08-11T07:19:03.356Z"
   },
   {
    "duration": 17,
    "start_time": "2023-08-11T07:19:03.403Z"
   },
   {
    "duration": 20,
    "start_time": "2023-08-11T07:19:03.422Z"
   },
   {
    "duration": 26,
    "start_time": "2023-08-11T07:19:03.444Z"
   },
   {
    "duration": 14,
    "start_time": "2023-08-11T07:19:03.472Z"
   },
   {
    "duration": 15,
    "start_time": "2023-08-11T07:19:03.488Z"
   },
   {
    "duration": 12,
    "start_time": "2023-08-11T07:19:03.504Z"
   },
   {
    "duration": 29,
    "start_time": "2023-08-11T07:19:03.518Z"
   },
   {
    "duration": 23,
    "start_time": "2023-08-11T07:19:03.548Z"
   },
   {
    "duration": 14,
    "start_time": "2023-08-11T07:19:03.572Z"
   },
   {
    "duration": 7,
    "start_time": "2023-08-11T07:19:03.588Z"
   },
   {
    "duration": 12,
    "start_time": "2023-08-11T07:19:03.597Z"
   },
   {
    "duration": 10,
    "start_time": "2023-08-11T07:19:03.611Z"
   },
   {
    "duration": 18,
    "start_time": "2023-08-11T07:19:03.623Z"
   },
   {
    "duration": 13,
    "start_time": "2023-08-11T07:19:03.643Z"
   },
   {
    "duration": 26,
    "start_time": "2023-08-11T07:19:03.657Z"
   },
   {
    "duration": 333,
    "start_time": "2023-08-11T07:19:03.685Z"
   },
   {
    "duration": 38,
    "start_time": "2023-08-11T07:19:04.022Z"
   },
   {
    "duration": 114,
    "start_time": "2023-08-11T07:19:04.062Z"
   },
   {
    "duration": 22,
    "start_time": "2023-08-11T07:19:04.178Z"
   },
   {
    "duration": 119,
    "start_time": "2023-08-11T07:19:04.203Z"
   },
   {
    "duration": 170,
    "start_time": "2023-08-11T07:19:04.324Z"
   },
   {
    "duration": 12,
    "start_time": "2023-08-11T07:19:04.496Z"
   },
   {
    "duration": 17,
    "start_time": "2023-08-11T07:19:04.510Z"
   },
   {
    "duration": 20,
    "start_time": "2023-08-11T07:19:04.529Z"
   },
   {
    "duration": 10,
    "start_time": "2023-08-11T07:19:04.551Z"
   },
   {
    "duration": 24,
    "start_time": "2023-08-11T07:19:04.563Z"
   },
   {
    "duration": 31,
    "start_time": "2023-08-11T07:19:04.589Z"
   },
   {
    "duration": 30,
    "start_time": "2023-08-11T07:19:04.622Z"
   },
   {
    "duration": 11,
    "start_time": "2023-08-11T07:19:04.655Z"
   },
   {
    "duration": 40,
    "start_time": "2023-08-11T07:19:04.668Z"
   },
   {
    "duration": 15,
    "start_time": "2023-08-11T07:19:04.709Z"
   },
   {
    "duration": 307,
    "start_time": "2023-08-11T07:19:04.725Z"
   },
   {
    "duration": 18,
    "start_time": "2023-08-11T07:19:05.034Z"
   },
   {
    "duration": 15,
    "start_time": "2023-08-11T07:19:06.886Z"
   },
   {
    "duration": 8,
    "start_time": "2023-08-11T07:19:08.474Z"
   },
   {
    "duration": 226,
    "start_time": "2023-08-11T07:19:10.048Z"
   },
   {
    "duration": 1388,
    "start_time": "2023-08-11T07:19:12.349Z"
   },
   {
    "duration": 12,
    "start_time": "2023-08-11T07:19:28.458Z"
   },
   {
    "duration": 8,
    "start_time": "2023-08-11T07:19:51.563Z"
   },
   {
    "duration": 328,
    "start_time": "2023-08-11T07:19:53.198Z"
   },
   {
    "duration": 13,
    "start_time": "2023-08-11T07:19:56.827Z"
   },
   {
    "duration": 322,
    "start_time": "2023-08-11T07:20:01.236Z"
   },
   {
    "duration": 94,
    "start_time": "2023-08-11T07:21:12.694Z"
   },
   {
    "duration": 290,
    "start_time": "2023-08-11T07:21:17.331Z"
   },
   {
    "duration": 342,
    "start_time": "2023-08-11T07:21:21.231Z"
   },
   {
    "duration": 312,
    "start_time": "2023-08-11T07:22:04.180Z"
   },
   {
    "duration": 297,
    "start_time": "2023-08-11T07:22:10.493Z"
   },
   {
    "duration": 259,
    "start_time": "2023-08-11T07:22:22.485Z"
   },
   {
    "duration": 14,
    "start_time": "2023-08-11T07:26:33.413Z"
   },
   {
    "duration": 19,
    "start_time": "2023-08-11T07:26:51.993Z"
   },
   {
    "duration": 1711,
    "start_time": "2023-08-11T07:27:03.589Z"
   },
   {
    "duration": 9,
    "start_time": "2023-08-11T07:29:13.464Z"
   },
   {
    "duration": 238,
    "start_time": "2023-08-11T07:29:59.291Z"
   },
   {
    "duration": 291,
    "start_time": "2023-08-11T07:30:56.184Z"
   },
   {
    "duration": 232,
    "start_time": "2023-08-11T07:31:24.376Z"
   },
   {
    "duration": 9,
    "start_time": "2023-08-11T07:34:38.222Z"
   },
   {
    "duration": 4,
    "start_time": "2023-08-11T07:35:06.754Z"
   },
   {
    "duration": 4,
    "start_time": "2023-08-11T07:35:19.677Z"
   },
   {
    "duration": 4,
    "start_time": "2023-08-11T07:35:33.676Z"
   },
   {
    "duration": 6,
    "start_time": "2023-08-11T07:36:07.226Z"
   },
   {
    "duration": 4,
    "start_time": "2023-08-11T07:37:06.196Z"
   },
   {
    "duration": 11,
    "start_time": "2023-08-11T07:37:06.203Z"
   },
   {
    "duration": 489,
    "start_time": "2023-08-11T07:37:06.231Z"
   },
   {
    "duration": 23,
    "start_time": "2023-08-11T07:37:06.722Z"
   },
   {
    "duration": 200,
    "start_time": "2023-08-11T07:37:06.747Z"
   },
   {
    "duration": 286,
    "start_time": "2023-08-11T07:37:06.948Z"
   },
   {
    "duration": 6,
    "start_time": "2023-08-11T07:37:07.236Z"
   },
   {
    "duration": 56,
    "start_time": "2023-08-11T07:37:07.244Z"
   },
   {
    "duration": 24,
    "start_time": "2023-08-11T07:37:07.302Z"
   },
   {
    "duration": 3,
    "start_time": "2023-08-11T07:37:07.328Z"
   },
   {
    "duration": 5,
    "start_time": "2023-08-11T07:37:07.333Z"
   },
   {
    "duration": 6,
    "start_time": "2023-08-11T07:37:07.340Z"
   },
   {
    "duration": 21,
    "start_time": "2023-08-11T07:37:07.347Z"
   },
   {
    "duration": 3,
    "start_time": "2023-08-11T07:37:07.370Z"
   },
   {
    "duration": 57,
    "start_time": "2023-08-11T07:37:07.400Z"
   },
   {
    "duration": 19,
    "start_time": "2023-08-11T07:37:07.460Z"
   },
   {
    "duration": 47,
    "start_time": "2023-08-11T07:37:07.480Z"
   },
   {
    "duration": 16,
    "start_time": "2023-08-11T07:37:07.528Z"
   },
   {
    "duration": 4,
    "start_time": "2023-08-11T07:37:07.546Z"
   },
   {
    "duration": 65,
    "start_time": "2023-08-11T07:37:07.553Z"
   },
   {
    "duration": 16,
    "start_time": "2023-08-11T07:37:07.620Z"
   },
   {
    "duration": 11,
    "start_time": "2023-08-11T07:37:07.637Z"
   },
   {
    "duration": 9,
    "start_time": "2023-08-11T07:37:07.650Z"
   },
   {
    "duration": 7,
    "start_time": "2023-08-11T07:37:07.660Z"
   },
   {
    "duration": 31,
    "start_time": "2023-08-11T07:37:07.669Z"
   },
   {
    "duration": 12,
    "start_time": "2023-08-11T07:37:07.702Z"
   },
   {
    "duration": 8,
    "start_time": "2023-08-11T07:37:07.716Z"
   },
   {
    "duration": 8,
    "start_time": "2023-08-11T07:37:07.725Z"
   },
   {
    "duration": 13,
    "start_time": "2023-08-11T07:37:07.735Z"
   },
   {
    "duration": 15,
    "start_time": "2023-08-11T07:37:07.750Z"
   },
   {
    "duration": 11,
    "start_time": "2023-08-11T07:37:07.766Z"
   },
   {
    "duration": 8,
    "start_time": "2023-08-11T07:37:07.778Z"
   },
   {
    "duration": 22,
    "start_time": "2023-08-11T07:37:07.787Z"
   },
   {
    "duration": 39,
    "start_time": "2023-08-11T07:37:07.810Z"
   },
   {
    "duration": 29,
    "start_time": "2023-08-11T07:37:07.851Z"
   },
   {
    "duration": 340,
    "start_time": "2023-08-11T07:37:07.882Z"
   },
   {
    "duration": 34,
    "start_time": "2023-08-11T07:37:08.223Z"
   },
   {
    "duration": 103,
    "start_time": "2023-08-11T07:37:08.259Z"
   },
   {
    "duration": 9,
    "start_time": "2023-08-11T07:37:08.364Z"
   },
   {
    "duration": 128,
    "start_time": "2023-08-11T07:37:08.375Z"
   },
   {
    "duration": 152,
    "start_time": "2023-08-11T07:37:08.504Z"
   },
   {
    "duration": 9,
    "start_time": "2023-08-11T07:37:08.658Z"
   },
   {
    "duration": 25,
    "start_time": "2023-08-11T07:37:08.671Z"
   },
   {
    "duration": 24,
    "start_time": "2023-08-11T07:37:08.697Z"
   },
   {
    "duration": 8,
    "start_time": "2023-08-11T07:37:08.722Z"
   },
   {
    "duration": 30,
    "start_time": "2023-08-11T07:37:08.732Z"
   },
   {
    "duration": 33,
    "start_time": "2023-08-11T07:37:08.764Z"
   },
   {
    "duration": 20,
    "start_time": "2023-08-11T07:37:08.798Z"
   },
   {
    "duration": 9,
    "start_time": "2023-08-11T07:37:08.820Z"
   },
   {
    "duration": 28,
    "start_time": "2023-08-11T07:37:08.830Z"
   },
   {
    "duration": 18,
    "start_time": "2023-08-11T07:37:08.859Z"
   },
   {
    "duration": 261,
    "start_time": "2023-08-11T07:37:08.879Z"
   },
   {
    "duration": 11,
    "start_time": "2023-08-11T07:37:09.142Z"
   },
   {
    "duration": 29,
    "start_time": "2023-08-11T07:37:09.155Z"
   },
   {
    "duration": 22,
    "start_time": "2023-08-11T07:37:09.186Z"
   },
   {
    "duration": 257,
    "start_time": "2023-08-11T07:37:09.210Z"
   },
   {
    "duration": 5,
    "start_time": "2023-08-11T07:37:46.856Z"
   },
   {
    "duration": 4,
    "start_time": "2023-08-11T07:37:47.754Z"
   },
   {
    "duration": 270,
    "start_time": "2023-08-11T07:39:44.966Z"
   },
   {
    "duration": 319,
    "start_time": "2023-08-11T07:40:15.525Z"
   },
   {
    "duration": 14,
    "start_time": "2023-08-11T07:44:03.656Z"
   },
   {
    "duration": 12,
    "start_time": "2023-08-11T07:44:15.063Z"
   },
   {
    "duration": 19,
    "start_time": "2023-08-11T07:44:25.923Z"
   },
   {
    "duration": 15,
    "start_time": "2023-08-11T07:44:53.450Z"
   },
   {
    "duration": 13,
    "start_time": "2023-08-11T07:45:40.263Z"
   },
   {
    "duration": 10,
    "start_time": "2023-08-11T07:45:53.638Z"
   },
   {
    "duration": 15,
    "start_time": "2023-08-11T07:46:22.347Z"
   },
   {
    "duration": 19,
    "start_time": "2023-08-11T07:46:26.331Z"
   },
   {
    "duration": 8,
    "start_time": "2023-08-11T07:46:30.835Z"
   },
   {
    "duration": 10,
    "start_time": "2023-08-11T07:47:02.281Z"
   },
   {
    "duration": 8,
    "start_time": "2023-08-11T07:47:06.651Z"
   },
   {
    "duration": 13,
    "start_time": "2023-08-11T07:47:26.619Z"
   },
   {
    "duration": 13,
    "start_time": "2023-08-11T07:49:23.583Z"
   },
   {
    "duration": 24,
    "start_time": "2023-08-11T07:49:41.127Z"
   },
   {
    "duration": 19,
    "start_time": "2023-08-11T07:49:48.149Z"
   },
   {
    "duration": 19,
    "start_time": "2023-08-11T07:49:56.452Z"
   },
   {
    "duration": 20,
    "start_time": "2023-08-11T07:50:02.965Z"
   },
   {
    "duration": 23,
    "start_time": "2023-08-11T07:50:19.468Z"
   },
   {
    "duration": 13,
    "start_time": "2023-08-11T07:50:26.659Z"
   },
   {
    "duration": 195,
    "start_time": "2023-08-11T07:50:39.652Z"
   },
   {
    "duration": 235,
    "start_time": "2023-08-11T07:50:59.954Z"
   },
   {
    "duration": 215,
    "start_time": "2023-08-11T07:51:15.931Z"
   },
   {
    "duration": 240,
    "start_time": "2023-08-11T07:51:58.040Z"
   },
   {
    "duration": 4,
    "start_time": "2023-08-11T07:53:31.720Z"
   },
   {
    "duration": 4,
    "start_time": "2023-08-11T07:55:50.536Z"
   },
   {
    "duration": 47,
    "start_time": "2023-08-11T10:22:06.746Z"
   },
   {
    "duration": 1377,
    "start_time": "2023-08-11T10:22:10.317Z"
   },
   {
    "duration": 5,
    "start_time": "2023-08-11T10:22:11.696Z"
   },
   {
    "duration": 2308,
    "start_time": "2023-08-11T10:22:11.702Z"
   },
   {
    "duration": 32,
    "start_time": "2023-08-11T10:22:14.013Z"
   },
   {
    "duration": 223,
    "start_time": "2023-08-11T10:22:14.046Z"
   },
   {
    "duration": 359,
    "start_time": "2023-08-11T10:22:14.271Z"
   },
   {
    "duration": 6,
    "start_time": "2023-08-11T10:22:14.632Z"
   },
   {
    "duration": 70,
    "start_time": "2023-08-11T10:22:14.640Z"
   },
   {
    "duration": 27,
    "start_time": "2023-08-11T10:22:14.711Z"
   },
   {
    "duration": 17,
    "start_time": "2023-08-11T10:22:14.740Z"
   },
   {
    "duration": 6,
    "start_time": "2023-08-11T10:22:14.759Z"
   },
   {
    "duration": 6,
    "start_time": "2023-08-11T10:22:14.767Z"
   },
   {
    "duration": 21,
    "start_time": "2023-08-11T10:22:14.775Z"
   },
   {
    "duration": 3,
    "start_time": "2023-08-11T10:22:14.798Z"
   },
   {
    "duration": 72,
    "start_time": "2023-08-11T10:22:14.803Z"
   },
   {
    "duration": 19,
    "start_time": "2023-08-11T10:22:14.877Z"
   },
   {
    "duration": 36,
    "start_time": "2023-08-11T10:22:14.897Z"
   },
   {
    "duration": 30,
    "start_time": "2023-08-11T10:22:14.935Z"
   },
   {
    "duration": 4,
    "start_time": "2023-08-11T10:22:14.966Z"
   },
   {
    "duration": 20,
    "start_time": "2023-08-11T10:22:14.971Z"
   },
   {
    "duration": 13,
    "start_time": "2023-08-11T10:22:14.993Z"
   },
   {
    "duration": 5,
    "start_time": "2023-08-11T10:22:15.008Z"
   },
   {
    "duration": 45,
    "start_time": "2023-08-11T10:22:15.015Z"
   },
   {
    "duration": 31,
    "start_time": "2023-08-11T10:22:15.062Z"
   },
   {
    "duration": 11,
    "start_time": "2023-08-11T10:22:15.095Z"
   },
   {
    "duration": 18,
    "start_time": "2023-08-11T10:22:15.108Z"
   },
   {
    "duration": 8,
    "start_time": "2023-08-11T10:22:15.128Z"
   },
   {
    "duration": 20,
    "start_time": "2023-08-11T10:22:15.140Z"
   },
   {
    "duration": 30,
    "start_time": "2023-08-11T10:22:15.161Z"
   },
   {
    "duration": 20,
    "start_time": "2023-08-11T10:22:15.192Z"
   },
   {
    "duration": 17,
    "start_time": "2023-08-11T10:22:15.214Z"
   },
   {
    "duration": 33,
    "start_time": "2023-08-11T10:22:15.232Z"
   },
   {
    "duration": 30,
    "start_time": "2023-08-11T10:22:15.266Z"
   },
   {
    "duration": 23,
    "start_time": "2023-08-11T10:22:15.298Z"
   },
   {
    "duration": 46,
    "start_time": "2023-08-11T10:22:15.323Z"
   },
   {
    "duration": 350,
    "start_time": "2023-08-11T10:22:15.371Z"
   },
   {
    "duration": 39,
    "start_time": "2023-08-11T10:22:15.723Z"
   },
   {
    "duration": 145,
    "start_time": "2023-08-11T10:22:15.763Z"
   },
   {
    "duration": 12,
    "start_time": "2023-08-11T10:22:15.910Z"
   },
   {
    "duration": 50,
    "start_time": "2023-08-11T10:22:15.924Z"
   },
   {
    "duration": 182,
    "start_time": "2023-08-11T10:22:15.976Z"
   },
   {
    "duration": 11,
    "start_time": "2023-08-11T10:22:16.160Z"
   },
   {
    "duration": 11,
    "start_time": "2023-08-11T10:22:16.173Z"
   },
   {
    "duration": 13,
    "start_time": "2023-08-11T10:22:16.186Z"
   },
   {
    "duration": 3,
    "start_time": "2023-08-11T10:22:16.201Z"
   },
   {
    "duration": 28,
    "start_time": "2023-08-11T10:22:16.206Z"
   },
   {
    "duration": 18,
    "start_time": "2023-08-11T10:22:16.257Z"
   },
   {
    "duration": 36,
    "start_time": "2023-08-11T10:22:16.278Z"
   },
   {
    "duration": 13,
    "start_time": "2023-08-11T10:22:16.316Z"
   },
   {
    "duration": 52,
    "start_time": "2023-08-11T10:22:16.331Z"
   },
   {
    "duration": 12,
    "start_time": "2023-08-11T10:22:16.385Z"
   },
   {
    "duration": 267,
    "start_time": "2023-08-11T10:22:16.398Z"
   },
   {
    "duration": 14,
    "start_time": "2023-08-11T10:22:16.667Z"
   },
   {
    "duration": 37,
    "start_time": "2023-08-11T10:22:16.683Z"
   },
   {
    "duration": 49,
    "start_time": "2023-08-11T10:22:16.722Z"
   },
   {
    "duration": 31,
    "start_time": "2023-08-11T10:22:16.773Z"
   },
   {
    "duration": 210,
    "start_time": "2023-08-11T10:22:16.806Z"
   },
   {
    "duration": 5,
    "start_time": "2023-08-11T10:22:17.018Z"
   },
   {
    "duration": 362,
    "start_time": "2023-08-11T10:22:17.025Z"
   },
   {
    "duration": 9,
    "start_time": "2023-08-11T10:22:19.153Z"
   },
   {
    "duration": 24,
    "start_time": "2023-08-11T10:22:50.742Z"
   },
   {
    "duration": 13,
    "start_time": "2023-08-11T10:22:54.449Z"
   },
   {
    "duration": 10,
    "start_time": "2023-08-11T10:23:25.622Z"
   },
   {
    "duration": 82,
    "start_time": "2023-08-11T10:26:47.109Z"
   },
   {
    "duration": 219,
    "start_time": "2023-08-11T10:28:12.973Z"
   },
   {
    "duration": 126,
    "start_time": "2023-08-11T10:28:34.209Z"
   },
   {
    "duration": 519,
    "start_time": "2023-08-11T10:29:22.688Z"
   },
   {
    "duration": 72,
    "start_time": "2023-08-11T10:29:56.394Z"
   },
   {
    "duration": 35,
    "start_time": "2023-08-11T10:30:00.540Z"
   },
   {
    "duration": 109,
    "start_time": "2023-08-11T10:30:09.969Z"
   },
   {
    "duration": 117,
    "start_time": "2023-08-11T10:31:09.085Z"
   },
   {
    "duration": 121,
    "start_time": "2023-08-11T10:31:15.251Z"
   },
   {
    "duration": 111,
    "start_time": "2023-08-11T10:31:20.000Z"
   },
   {
    "duration": 217,
    "start_time": "2023-08-11T10:31:24.045Z"
   },
   {
    "duration": 108,
    "start_time": "2023-08-11T10:31:47.682Z"
   },
   {
    "duration": 26,
    "start_time": "2023-08-11T10:33:48.082Z"
   },
   {
    "duration": 28,
    "start_time": "2023-08-11T10:33:53.050Z"
   },
   {
    "duration": 27,
    "start_time": "2023-08-11T10:34:35.408Z"
   },
   {
    "duration": 289,
    "start_time": "2023-08-11T10:36:09.518Z"
   },
   {
    "duration": 565,
    "start_time": "2023-08-11T10:36:26.887Z"
   },
   {
    "duration": 580,
    "start_time": "2023-08-11T10:37:39.655Z"
   },
   {
    "duration": 566,
    "start_time": "2023-08-11T10:37:44.992Z"
   },
   {
    "duration": 761,
    "start_time": "2023-08-11T10:38:05.308Z"
   },
   {
    "duration": 894,
    "start_time": "2023-08-11T10:38:32.547Z"
   },
   {
    "duration": 567,
    "start_time": "2023-08-11T10:38:41.389Z"
   },
   {
    "duration": 833,
    "start_time": "2023-08-11T10:39:42.691Z"
   },
   {
    "duration": 778,
    "start_time": "2023-08-11T10:39:48.999Z"
   },
   {
    "duration": 792,
    "start_time": "2023-08-11T10:40:34.416Z"
   },
   {
    "duration": 771,
    "start_time": "2023-08-11T10:41:06.050Z"
   },
   {
    "duration": 5,
    "start_time": "2023-08-11T10:41:52.081Z"
   },
   {
    "duration": 15,
    "start_time": "2023-08-11T10:41:52.088Z"
   },
   {
    "duration": 786,
    "start_time": "2023-08-11T10:41:52.105Z"
   },
   {
    "duration": 29,
    "start_time": "2023-08-11T10:41:52.893Z"
   },
   {
    "duration": 234,
    "start_time": "2023-08-11T10:41:52.924Z"
   },
   {
    "duration": 348,
    "start_time": "2023-08-11T10:41:53.160Z"
   },
   {
    "duration": 8,
    "start_time": "2023-08-11T10:41:53.511Z"
   },
   {
    "duration": 65,
    "start_time": "2023-08-11T10:41:53.521Z"
   },
   {
    "duration": 23,
    "start_time": "2023-08-11T10:41:53.588Z"
   },
   {
    "duration": 4,
    "start_time": "2023-08-11T10:41:53.614Z"
   },
   {
    "duration": 8,
    "start_time": "2023-08-11T10:41:53.619Z"
   },
   {
    "duration": 9,
    "start_time": "2023-08-11T10:41:53.629Z"
   },
   {
    "duration": 21,
    "start_time": "2023-08-11T10:41:53.657Z"
   },
   {
    "duration": 4,
    "start_time": "2023-08-11T10:41:53.680Z"
   },
   {
    "duration": 77,
    "start_time": "2023-08-11T10:41:53.685Z"
   },
   {
    "duration": 20,
    "start_time": "2023-08-11T10:41:53.764Z"
   },
   {
    "duration": 35,
    "start_time": "2023-08-11T10:41:53.786Z"
   },
   {
    "duration": 38,
    "start_time": "2023-08-11T10:41:53.824Z"
   },
   {
    "duration": 4,
    "start_time": "2023-08-11T10:41:53.864Z"
   },
   {
    "duration": 17,
    "start_time": "2023-08-11T10:41:53.869Z"
   },
   {
    "duration": 12,
    "start_time": "2023-08-11T10:41:53.888Z"
   },
   {
    "duration": 6,
    "start_time": "2023-08-11T10:41:53.902Z"
   },
   {
    "duration": 16,
    "start_time": "2023-08-11T10:41:53.909Z"
   },
   {
    "duration": 9,
    "start_time": "2023-08-11T10:41:53.956Z"
   },
   {
    "duration": 12,
    "start_time": "2023-08-11T10:41:53.967Z"
   },
   {
    "duration": 11,
    "start_time": "2023-08-11T10:41:53.981Z"
   },
   {
    "duration": 9,
    "start_time": "2023-08-11T10:41:53.994Z"
   },
   {
    "duration": 6,
    "start_time": "2023-08-11T10:41:54.006Z"
   },
   {
    "duration": 8,
    "start_time": "2023-08-11T10:41:54.014Z"
   },
   {
    "duration": 33,
    "start_time": "2023-08-11T10:41:54.024Z"
   },
   {
    "duration": 19,
    "start_time": "2023-08-11T10:41:54.059Z"
   },
   {
    "duration": 6,
    "start_time": "2023-08-11T10:41:54.080Z"
   },
   {
    "duration": 11,
    "start_time": "2023-08-11T10:41:54.088Z"
   },
   {
    "duration": 11,
    "start_time": "2023-08-11T10:41:54.101Z"
   },
   {
    "duration": 13,
    "start_time": "2023-08-11T10:41:54.113Z"
   },
   {
    "duration": 368,
    "start_time": "2023-08-11T10:41:54.128Z"
   },
   {
    "duration": 34,
    "start_time": "2023-08-11T10:41:54.498Z"
   },
   {
    "duration": 150,
    "start_time": "2023-08-11T10:41:54.534Z"
   },
   {
    "duration": 13,
    "start_time": "2023-08-11T10:41:54.686Z"
   },
   {
    "duration": 40,
    "start_time": "2023-08-11T10:41:54.700Z"
   },
   {
    "duration": 193,
    "start_time": "2023-08-11T10:41:54.742Z"
   },
   {
    "duration": 10,
    "start_time": "2023-08-11T10:41:54.937Z"
   },
   {
    "duration": 10,
    "start_time": "2023-08-11T10:41:54.956Z"
   },
   {
    "duration": 11,
    "start_time": "2023-08-11T10:41:54.968Z"
   },
   {
    "duration": 3,
    "start_time": "2023-08-11T10:41:54.981Z"
   },
   {
    "duration": 30,
    "start_time": "2023-08-11T10:41:54.985Z"
   },
   {
    "duration": 18,
    "start_time": "2023-08-11T10:41:55.017Z"
   },
   {
    "duration": 36,
    "start_time": "2023-08-11T10:41:55.037Z"
   },
   {
    "duration": 10,
    "start_time": "2023-08-11T10:41:55.075Z"
   },
   {
    "duration": 17,
    "start_time": "2023-08-11T10:41:55.086Z"
   },
   {
    "duration": 14,
    "start_time": "2023-08-11T10:41:55.105Z"
   },
   {
    "duration": 303,
    "start_time": "2023-08-11T10:41:55.121Z"
   },
   {
    "duration": 29,
    "start_time": "2023-08-11T10:41:55.427Z"
   },
   {
    "duration": 15,
    "start_time": "2023-08-11T10:41:55.459Z"
   },
   {
    "duration": 11,
    "start_time": "2023-08-11T10:41:55.476Z"
   },
   {
    "duration": 21,
    "start_time": "2023-08-11T10:41:55.489Z"
   },
   {
    "duration": 228,
    "start_time": "2023-08-11T10:41:55.512Z"
   },
   {
    "duration": 5,
    "start_time": "2023-08-11T10:41:55.741Z"
   },
   {
    "duration": 265,
    "start_time": "2023-08-11T10:41:55.756Z"
   },
   {
    "duration": 13,
    "start_time": "2023-08-11T10:41:56.023Z"
   },
   {
    "duration": 30,
    "start_time": "2023-08-11T10:41:56.037Z"
   },
   {
    "duration": 13,
    "start_time": "2023-08-11T10:41:59.278Z"
   },
   {
    "duration": 708,
    "start_time": "2023-08-11T10:41:59.751Z"
   },
   {
    "duration": 30,
    "start_time": "2023-08-11T10:42:53.095Z"
   },
   {
    "duration": 769,
    "start_time": "2023-08-11T10:42:53.957Z"
   },
   {
    "duration": 411,
    "start_time": "2023-08-11T10:51:15.664Z"
   },
   {
    "duration": 124,
    "start_time": "2023-08-11T10:53:28.187Z"
   },
   {
    "duration": 21,
    "start_time": "2023-08-11T10:53:41.249Z"
   },
   {
    "duration": 20,
    "start_time": "2023-08-11T10:53:53.256Z"
   },
   {
    "duration": 746,
    "start_time": "2023-08-11T10:55:27.598Z"
   },
   {
    "duration": 764,
    "start_time": "2023-08-11T10:55:59.380Z"
   },
   {
    "duration": 766,
    "start_time": "2023-08-11T10:56:14.052Z"
   },
   {
    "duration": 754,
    "start_time": "2023-08-11T10:56:21.154Z"
   },
   {
    "duration": 791,
    "start_time": "2023-08-11T10:57:00.248Z"
   },
   {
    "duration": 20,
    "start_time": "2023-08-11T11:01:23.180Z"
   },
   {
    "duration": 842,
    "start_time": "2023-08-11T11:01:51.100Z"
   },
   {
    "duration": 667,
    "start_time": "2023-08-11T11:02:01.535Z"
   },
   {
    "duration": 713,
    "start_time": "2023-08-11T11:02:09.054Z"
   },
   {
    "duration": 698,
    "start_time": "2023-08-11T11:02:27.403Z"
   },
   {
    "duration": 54,
    "start_time": "2023-08-11T11:02:56.367Z"
   },
   {
    "duration": 47,
    "start_time": "2023-08-11T11:03:14.132Z"
   },
   {
    "duration": 797,
    "start_time": "2023-08-11T11:03:16.077Z"
   },
   {
    "duration": 859,
    "start_time": "2023-08-11T11:03:18.525Z"
   },
   {
    "duration": 710,
    "start_time": "2023-08-11T11:03:49.253Z"
   },
   {
    "duration": 19,
    "start_time": "2023-08-11T11:10:37.694Z"
   },
   {
    "duration": 29,
    "start_time": "2023-08-11T11:10:54.764Z"
   },
   {
    "duration": 257,
    "start_time": "2023-08-11T11:11:39.390Z"
   },
   {
    "duration": 262,
    "start_time": "2023-08-11T11:11:48.094Z"
   },
   {
    "duration": 294,
    "start_time": "2023-08-11T11:11:57.210Z"
   },
   {
    "duration": 286,
    "start_time": "2023-08-11T11:13:44.958Z"
   },
   {
    "duration": 272,
    "start_time": "2023-08-11T11:14:07.526Z"
   },
   {
    "duration": 343,
    "start_time": "2023-08-11T11:14:35.076Z"
   },
   {
    "duration": 375,
    "start_time": "2023-08-11T11:15:19.372Z"
   },
   {
    "duration": 526,
    "start_time": "2023-08-11T11:15:25.325Z"
   },
   {
    "duration": 928,
    "start_time": "2023-08-11T11:16:38.018Z"
   },
   {
    "duration": 763,
    "start_time": "2023-08-11T11:16:48.808Z"
   },
   {
    "duration": 782,
    "start_time": "2023-08-11T11:17:00.015Z"
   },
   {
    "duration": 746,
    "start_time": "2023-08-11T11:17:07.919Z"
   },
   {
    "duration": 845,
    "start_time": "2023-08-11T11:17:28.511Z"
   },
   {
    "duration": 728,
    "start_time": "2023-08-11T11:17:49.604Z"
   },
   {
    "duration": 4,
    "start_time": "2023-08-11T12:08:47.649Z"
   },
   {
    "duration": 20,
    "start_time": "2023-08-11T12:13:35.650Z"
   },
   {
    "duration": 20,
    "start_time": "2023-08-11T12:14:22.792Z"
   },
   {
    "duration": 16,
    "start_time": "2023-08-11T12:15:54.536Z"
   },
   {
    "duration": 18,
    "start_time": "2023-08-11T12:15:59.693Z"
   },
   {
    "duration": 17,
    "start_time": "2023-08-11T12:16:13.391Z"
   },
   {
    "duration": 11,
    "start_time": "2023-08-11T12:16:37.850Z"
   },
   {
    "duration": 15,
    "start_time": "2023-08-11T12:16:40.966Z"
   },
   {
    "duration": 10,
    "start_time": "2023-08-11T12:16:41.647Z"
   },
   {
    "duration": 26,
    "start_time": "2023-08-11T12:17:17.278Z"
   },
   {
    "duration": 9,
    "start_time": "2023-08-11T12:17:31.010Z"
   },
   {
    "duration": 16,
    "start_time": "2023-08-11T12:17:40.047Z"
   },
   {
    "duration": 9,
    "start_time": "2023-08-11T12:17:47.060Z"
   },
   {
    "duration": 15,
    "start_time": "2023-08-11T12:18:53.709Z"
   },
   {
    "duration": 8,
    "start_time": "2023-08-11T12:18:54.593Z"
   },
   {
    "duration": 8,
    "start_time": "2023-08-11T12:23:12.519Z"
   },
   {
    "duration": 15,
    "start_time": "2023-08-11T12:23:20.572Z"
   },
   {
    "duration": 7,
    "start_time": "2023-08-11T12:23:21.054Z"
   },
   {
    "duration": 9,
    "start_time": "2023-08-11T12:23:21.735Z"
   },
   {
    "duration": 16,
    "start_time": "2023-08-11T12:23:36.532Z"
   },
   {
    "duration": 7,
    "start_time": "2023-08-11T12:23:37.171Z"
   },
   {
    "duration": 8,
    "start_time": "2023-08-11T12:23:38.169Z"
   },
   {
    "duration": 17,
    "start_time": "2023-08-11T12:31:27.840Z"
   },
   {
    "duration": 23,
    "start_time": "2023-08-11T12:31:31.558Z"
   },
   {
    "duration": 26,
    "start_time": "2023-08-11T12:32:40.732Z"
   },
   {
    "duration": 22,
    "start_time": "2023-08-11T12:33:16.518Z"
   },
   {
    "duration": 10,
    "start_time": "2023-08-11T12:33:26.733Z"
   },
   {
    "duration": 21,
    "start_time": "2023-08-11T12:33:46.140Z"
   },
   {
    "duration": 9,
    "start_time": "2023-08-11T12:34:00.751Z"
   },
   {
    "duration": 55,
    "start_time": "2023-08-11T12:34:12.932Z"
   },
   {
    "duration": 16,
    "start_time": "2023-08-11T12:35:03.784Z"
   },
   {
    "duration": 65,
    "start_time": "2023-08-11T12:35:28.919Z"
   },
   {
    "duration": 20,
    "start_time": "2023-08-11T12:36:15.215Z"
   },
   {
    "duration": 112,
    "start_time": "2023-08-11T12:38:26.939Z"
   },
   {
    "duration": 112,
    "start_time": "2023-08-11T12:38:37.390Z"
   },
   {
    "duration": 13,
    "start_time": "2023-08-11T12:38:47.330Z"
   },
   {
    "duration": 24,
    "start_time": "2023-08-11T12:38:59.563Z"
   },
   {
    "duration": 115,
    "start_time": "2023-08-11T12:39:09.072Z"
   },
   {
    "duration": 114,
    "start_time": "2023-08-11T12:39:14.069Z"
   },
   {
    "duration": 12,
    "start_time": "2023-08-11T12:40:09.067Z"
   },
   {
    "duration": 13,
    "start_time": "2023-08-11T12:40:54.270Z"
   },
   {
    "duration": 52,
    "start_time": "2023-08-11T12:41:29.155Z"
   },
   {
    "duration": 24,
    "start_time": "2023-08-11T12:43:12.383Z"
   },
   {
    "duration": 10,
    "start_time": "2023-08-11T12:43:27.695Z"
   },
   {
    "duration": 10,
    "start_time": "2023-08-11T12:43:42.263Z"
   },
   {
    "duration": 10,
    "start_time": "2023-08-11T12:44:14.807Z"
   },
   {
    "duration": 23,
    "start_time": "2023-08-11T12:44:42.121Z"
   },
   {
    "duration": 9,
    "start_time": "2023-08-11T12:45:12.386Z"
   },
   {
    "duration": 4,
    "start_time": "2023-08-11T12:46:00.868Z"
   },
   {
    "duration": 43,
    "start_time": "2023-08-11T12:46:00.874Z"
   },
   {
    "duration": 686,
    "start_time": "2023-08-11T12:46:00.918Z"
   },
   {
    "duration": 28,
    "start_time": "2023-08-11T12:46:01.606Z"
   },
   {
    "duration": 268,
    "start_time": "2023-08-11T12:46:01.636Z"
   },
   {
    "duration": 376,
    "start_time": "2023-08-11T12:46:01.906Z"
   },
   {
    "duration": 6,
    "start_time": "2023-08-11T12:46:02.284Z"
   },
   {
    "duration": 86,
    "start_time": "2023-08-11T12:46:02.292Z"
   },
   {
    "duration": 30,
    "start_time": "2023-08-11T12:46:02.380Z"
   },
   {
    "duration": 26,
    "start_time": "2023-08-11T12:46:02.412Z"
   },
   {
    "duration": 35,
    "start_time": "2023-08-11T12:46:02.440Z"
   },
   {
    "duration": 35,
    "start_time": "2023-08-11T12:46:02.477Z"
   },
   {
    "duration": 44,
    "start_time": "2023-08-11T12:46:02.514Z"
   },
   {
    "duration": 3,
    "start_time": "2023-08-11T12:46:02.562Z"
   },
   {
    "duration": 68,
    "start_time": "2023-08-11T12:46:02.566Z"
   },
   {
    "duration": 30,
    "start_time": "2023-08-11T12:46:02.635Z"
   },
   {
    "duration": 37,
    "start_time": "2023-08-11T12:46:02.667Z"
   },
   {
    "duration": 13,
    "start_time": "2023-08-11T12:46:02.706Z"
   },
   {
    "duration": 15,
    "start_time": "2023-08-11T12:46:02.721Z"
   },
   {
    "duration": 47,
    "start_time": "2023-08-11T12:46:02.738Z"
   },
   {
    "duration": 34,
    "start_time": "2023-08-11T12:46:02.786Z"
   },
   {
    "duration": 6,
    "start_time": "2023-08-11T12:46:02.821Z"
   },
   {
    "duration": 22,
    "start_time": "2023-08-11T12:46:02.829Z"
   },
   {
    "duration": 24,
    "start_time": "2023-08-11T12:46:02.853Z"
   },
   {
    "duration": 14,
    "start_time": "2023-08-11T12:46:02.879Z"
   },
   {
    "duration": 23,
    "start_time": "2023-08-11T12:46:02.894Z"
   },
   {
    "duration": 39,
    "start_time": "2023-08-11T12:46:02.918Z"
   },
   {
    "duration": 32,
    "start_time": "2023-08-11T12:46:02.959Z"
   },
   {
    "duration": 19,
    "start_time": "2023-08-11T12:46:02.992Z"
   },
   {
    "duration": 15,
    "start_time": "2023-08-11T12:46:03.012Z"
   },
   {
    "duration": 35,
    "start_time": "2023-08-11T12:46:03.029Z"
   },
   {
    "duration": 27,
    "start_time": "2023-08-11T12:46:03.066Z"
   },
   {
    "duration": 32,
    "start_time": "2023-08-11T12:46:03.095Z"
   },
   {
    "duration": 23,
    "start_time": "2023-08-11T12:46:03.128Z"
   },
   {
    "duration": 40,
    "start_time": "2023-08-11T12:46:03.153Z"
   },
   {
    "duration": 356,
    "start_time": "2023-08-11T12:46:03.195Z"
   },
   {
    "duration": 33,
    "start_time": "2023-08-11T12:46:03.553Z"
   },
   {
    "duration": 136,
    "start_time": "2023-08-11T12:46:03.587Z"
   },
   {
    "duration": 11,
    "start_time": "2023-08-11T12:46:03.725Z"
   },
   {
    "duration": 198,
    "start_time": "2023-08-11T12:46:03.738Z"
   },
   {
    "duration": 195,
    "start_time": "2023-08-11T12:46:03.940Z"
   },
   {
    "duration": 9,
    "start_time": "2023-08-11T12:46:04.137Z"
   },
   {
    "duration": 20,
    "start_time": "2023-08-11T12:46:04.148Z"
   },
   {
    "duration": 12,
    "start_time": "2023-08-11T12:46:04.170Z"
   },
   {
    "duration": 5,
    "start_time": "2023-08-11T12:46:04.184Z"
   },
   {
    "duration": 29,
    "start_time": "2023-08-11T12:46:04.191Z"
   },
   {
    "duration": 26,
    "start_time": "2023-08-11T12:46:04.221Z"
   },
   {
    "duration": 19,
    "start_time": "2023-08-11T12:46:04.257Z"
   },
   {
    "duration": 12,
    "start_time": "2023-08-11T12:46:04.277Z"
   },
   {
    "duration": 19,
    "start_time": "2023-08-11T12:46:04.290Z"
   },
   {
    "duration": 11,
    "start_time": "2023-08-11T12:46:04.310Z"
   },
   {
    "duration": 300,
    "start_time": "2023-08-11T12:46:04.323Z"
   },
   {
    "duration": 14,
    "start_time": "2023-08-11T12:46:04.625Z"
   },
   {
    "duration": 27,
    "start_time": "2023-08-11T12:46:04.641Z"
   },
   {
    "duration": 7,
    "start_time": "2023-08-11T12:46:04.669Z"
   },
   {
    "duration": 30,
    "start_time": "2023-08-11T12:46:04.678Z"
   },
   {
    "duration": 224,
    "start_time": "2023-08-11T12:46:04.710Z"
   },
   {
    "duration": 5,
    "start_time": "2023-08-11T12:46:04.935Z"
   },
   {
    "duration": 291,
    "start_time": "2023-08-11T12:46:04.941Z"
   },
   {
    "duration": 13,
    "start_time": "2023-08-11T12:46:05.233Z"
   },
   {
    "duration": 42,
    "start_time": "2023-08-11T12:46:05.256Z"
   },
   {
    "duration": 710,
    "start_time": "2023-08-11T12:46:05.300Z"
   },
   {
    "duration": 609,
    "start_time": "2023-08-11T12:46:06.012Z"
   },
   {
    "duration": 13,
    "start_time": "2023-08-11T12:46:06.623Z"
   },
   {
    "duration": 712,
    "start_time": "2023-08-11T12:46:06.638Z"
   },
   {
    "duration": 292,
    "start_time": "2023-08-11T12:46:07.351Z"
   },
   {
    "duration": 272,
    "start_time": "2023-08-11T12:46:07.645Z"
   },
   {
    "duration": 463,
    "start_time": "2023-08-11T12:46:07.919Z"
   },
   {
    "duration": 29,
    "start_time": "2023-08-11T12:46:08.384Z"
   },
   {
    "duration": 10,
    "start_time": "2023-08-11T12:46:08.415Z"
   },
   {
    "duration": 22,
    "start_time": "2023-08-11T12:46:26.800Z"
   },
   {
    "duration": 12,
    "start_time": "2023-08-11T12:46:30.776Z"
   },
   {
    "duration": 14,
    "start_time": "2023-08-11T12:48:08.999Z"
   },
   {
    "duration": 12,
    "start_time": "2023-08-11T12:48:26.573Z"
   },
   {
    "duration": 1562,
    "start_time": "2023-08-12T08:49:04.205Z"
   },
   {
    "duration": 5,
    "start_time": "2023-08-12T08:49:05.769Z"
   },
   {
    "duration": 1040,
    "start_time": "2023-08-12T08:49:05.776Z"
   },
   {
    "duration": 32,
    "start_time": "2023-08-12T08:49:06.818Z"
   },
   {
    "duration": 234,
    "start_time": "2023-08-12T08:49:06.851Z"
   },
   {
    "duration": 371,
    "start_time": "2023-08-12T08:49:07.087Z"
   },
   {
    "duration": 7,
    "start_time": "2023-08-12T08:49:07.460Z"
   },
   {
    "duration": 57,
    "start_time": "2023-08-12T08:49:07.469Z"
   },
   {
    "duration": 45,
    "start_time": "2023-08-12T08:49:07.527Z"
   },
   {
    "duration": 4,
    "start_time": "2023-08-12T08:49:07.575Z"
   },
   {
    "duration": 8,
    "start_time": "2023-08-12T08:49:07.581Z"
   },
   {
    "duration": 9,
    "start_time": "2023-08-12T08:49:07.590Z"
   },
   {
    "duration": 25,
    "start_time": "2023-08-12T08:49:07.600Z"
   },
   {
    "duration": 3,
    "start_time": "2023-08-12T08:49:07.627Z"
   },
   {
    "duration": 65,
    "start_time": "2023-08-12T08:49:07.632Z"
   },
   {
    "duration": 22,
    "start_time": "2023-08-12T08:49:07.698Z"
   },
   {
    "duration": 65,
    "start_time": "2023-08-12T08:49:07.721Z"
   },
   {
    "duration": 15,
    "start_time": "2023-08-12T08:49:07.788Z"
   },
   {
    "duration": 15,
    "start_time": "2023-08-12T08:49:07.804Z"
   },
   {
    "duration": 24,
    "start_time": "2023-08-12T08:49:07.821Z"
   },
   {
    "duration": 22,
    "start_time": "2023-08-12T08:49:07.847Z"
   },
   {
    "duration": 5,
    "start_time": "2023-08-12T08:49:07.871Z"
   },
   {
    "duration": 13,
    "start_time": "2023-08-12T08:49:07.878Z"
   },
   {
    "duration": 10,
    "start_time": "2023-08-12T08:49:07.893Z"
   },
   {
    "duration": 9,
    "start_time": "2023-08-12T08:49:07.905Z"
   },
   {
    "duration": 47,
    "start_time": "2023-08-12T08:49:07.916Z"
   },
   {
    "duration": 7,
    "start_time": "2023-08-12T08:49:07.965Z"
   },
   {
    "duration": 28,
    "start_time": "2023-08-12T08:49:07.976Z"
   },
   {
    "duration": 21,
    "start_time": "2023-08-12T08:49:08.006Z"
   },
   {
    "duration": 6,
    "start_time": "2023-08-12T08:49:08.029Z"
   },
   {
    "duration": 12,
    "start_time": "2023-08-12T08:49:08.037Z"
   },
   {
    "duration": 9,
    "start_time": "2023-08-12T08:49:08.051Z"
   },
   {
    "duration": 13,
    "start_time": "2023-08-12T08:49:08.062Z"
   },
   {
    "duration": 20,
    "start_time": "2023-08-12T08:49:08.077Z"
   },
   {
    "duration": 30,
    "start_time": "2023-08-12T08:49:08.099Z"
   },
   {
    "duration": 446,
    "start_time": "2023-08-12T08:49:08.131Z"
   },
   {
    "duration": 34,
    "start_time": "2023-08-12T08:49:08.579Z"
   },
   {
    "duration": 161,
    "start_time": "2023-08-12T08:49:08.615Z"
   },
   {
    "duration": 12,
    "start_time": "2023-08-12T08:49:08.778Z"
   },
   {
    "duration": 46,
    "start_time": "2023-08-12T08:49:08.792Z"
   },
   {
    "duration": 202,
    "start_time": "2023-08-12T08:49:08.840Z"
   },
   {
    "duration": 17,
    "start_time": "2023-08-12T08:49:09.044Z"
   },
   {
    "duration": 10,
    "start_time": "2023-08-12T08:49:09.063Z"
   },
   {
    "duration": 14,
    "start_time": "2023-08-12T08:49:09.075Z"
   },
   {
    "duration": 4,
    "start_time": "2023-08-12T08:49:09.091Z"
   },
   {
    "duration": 18,
    "start_time": "2023-08-12T08:49:09.097Z"
   },
   {
    "duration": 49,
    "start_time": "2023-08-12T08:49:09.117Z"
   },
   {
    "duration": 21,
    "start_time": "2023-08-12T08:49:09.168Z"
   },
   {
    "duration": 12,
    "start_time": "2023-08-12T08:49:09.191Z"
   },
   {
    "duration": 29,
    "start_time": "2023-08-12T08:49:09.205Z"
   },
   {
    "duration": 34,
    "start_time": "2023-08-12T08:49:09.236Z"
   },
   {
    "duration": 328,
    "start_time": "2023-08-12T08:49:09.272Z"
   },
   {
    "duration": 21,
    "start_time": "2023-08-12T08:49:09.601Z"
   },
   {
    "duration": 35,
    "start_time": "2023-08-12T08:49:09.624Z"
   },
   {
    "duration": 8,
    "start_time": "2023-08-12T08:49:09.661Z"
   },
   {
    "duration": 38,
    "start_time": "2023-08-12T08:49:09.671Z"
   },
   {
    "duration": 241,
    "start_time": "2023-08-12T08:49:09.710Z"
   },
   {
    "duration": 5,
    "start_time": "2023-08-12T08:49:09.959Z"
   },
   {
    "duration": 378,
    "start_time": "2023-08-12T08:49:09.966Z"
   },
   {
    "duration": 16,
    "start_time": "2023-08-12T08:49:10.347Z"
   },
   {
    "duration": 171,
    "start_time": "2023-08-12T08:49:10.365Z"
   },
   {
    "duration": 763,
    "start_time": "2023-08-12T08:49:10.538Z"
   },
   {
    "duration": 649,
    "start_time": "2023-08-12T08:49:11.303Z"
   },
   {
    "duration": 16,
    "start_time": "2023-08-12T08:49:11.954Z"
   },
   {
    "duration": 810,
    "start_time": "2023-08-12T08:49:11.972Z"
   },
   {
    "duration": 286,
    "start_time": "2023-08-12T08:49:12.785Z"
   },
   {
    "duration": 303,
    "start_time": "2023-08-12T08:49:13.073Z"
   },
   {
    "duration": 328,
    "start_time": "2023-08-12T08:49:13.378Z"
   },
   {
    "duration": 26,
    "start_time": "2023-08-12T08:49:13.708Z"
   },
   {
    "duration": 261,
    "start_time": "2023-08-12T08:49:13.736Z"
   },
   {
    "duration": 5,
    "start_time": "2023-08-12T08:50:09.662Z"
   },
   {
    "duration": 184,
    "start_time": "2023-08-12T08:50:19.288Z"
   },
   {
    "duration": 144,
    "start_time": "2023-08-12T08:50:58.215Z"
   },
   {
    "duration": 13,
    "start_time": "2023-08-12T08:51:40.120Z"
   },
   {
    "duration": 8,
    "start_time": "2023-08-12T08:53:32.310Z"
   },
   {
    "duration": 9,
    "start_time": "2023-08-12T08:53:57.754Z"
   },
   {
    "duration": 8,
    "start_time": "2023-08-12T08:54:04.338Z"
   },
   {
    "duration": 9,
    "start_time": "2023-08-12T08:54:23.649Z"
   },
   {
    "duration": 8,
    "start_time": "2023-08-12T08:55:03.288Z"
   },
   {
    "duration": 10,
    "start_time": "2023-08-12T08:55:11.341Z"
   },
   {
    "duration": 12,
    "start_time": "2023-08-12T08:55:42.284Z"
   },
   {
    "duration": 10,
    "start_time": "2023-08-12T08:55:47.679Z"
   },
   {
    "duration": 5,
    "start_time": "2023-08-12T08:56:32.619Z"
   },
   {
    "duration": 9,
    "start_time": "2023-08-12T08:56:38.203Z"
   },
   {
    "duration": 35,
    "start_time": "2023-08-12T09:03:43.780Z"
   },
   {
    "duration": 1564,
    "start_time": "2023-08-12T09:04:07.077Z"
   },
   {
    "duration": 7,
    "start_time": "2023-08-12T09:04:21.315Z"
   },
   {
    "duration": 6,
    "start_time": "2023-08-12T09:08:43.268Z"
   },
   {
    "duration": 6,
    "start_time": "2023-08-12T09:11:41.782Z"
   },
   {
    "duration": 14,
    "start_time": "2023-08-12T09:11:57.096Z"
   },
   {
    "duration": 17,
    "start_time": "2023-08-12T09:15:18.938Z"
   },
   {
    "duration": 3,
    "start_time": "2023-08-12T09:41:11.815Z"
   },
   {
    "duration": 7,
    "start_time": "2023-08-12T09:42:37.834Z"
   },
   {
    "duration": 4,
    "start_time": "2023-08-12T09:44:30.521Z"
   },
   {
    "duration": 4,
    "start_time": "2023-08-12T09:47:04.877Z"
   },
   {
    "duration": 5,
    "start_time": "2023-08-12T09:47:08.947Z"
   },
   {
    "duration": 19,
    "start_time": "2023-08-12T09:48:10.048Z"
   },
   {
    "duration": 9,
    "start_time": "2023-08-12T09:48:26.929Z"
   },
   {
    "duration": 17,
    "start_time": "2023-08-12T09:48:29.869Z"
   },
   {
    "duration": 4,
    "start_time": "2023-08-12T09:48:55.703Z"
   },
   {
    "duration": 6,
    "start_time": "2023-08-12T09:48:59.632Z"
   },
   {
    "duration": 18,
    "start_time": "2023-08-12T09:49:00.243Z"
   },
   {
    "duration": 6,
    "start_time": "2023-08-12T09:49:31.926Z"
   },
   {
    "duration": 17,
    "start_time": "2023-08-12T09:49:32.795Z"
   },
   {
    "duration": 8,
    "start_time": "2023-08-12T09:49:47.355Z"
   },
   {
    "duration": 12,
    "start_time": "2023-08-12T09:49:48.065Z"
   },
   {
    "duration": 12,
    "start_time": "2023-08-12T09:50:10.033Z"
   },
   {
    "duration": 11,
    "start_time": "2023-08-12T11:58:22.276Z"
   },
   {
    "duration": 12,
    "start_time": "2023-08-12T11:58:49.794Z"
   },
   {
    "duration": 4,
    "start_time": "2023-08-12T12:07:34.704Z"
   },
   {
    "duration": 12,
    "start_time": "2023-08-12T12:07:34.711Z"
   },
   {
    "duration": 679,
    "start_time": "2023-08-12T12:07:34.725Z"
   },
   {
    "duration": 37,
    "start_time": "2023-08-12T12:07:35.407Z"
   },
   {
    "duration": 242,
    "start_time": "2023-08-12T12:07:35.446Z"
   },
   {
    "duration": 342,
    "start_time": "2023-08-12T12:07:35.689Z"
   },
   {
    "duration": 7,
    "start_time": "2023-08-12T12:07:36.032Z"
   },
   {
    "duration": 63,
    "start_time": "2023-08-12T12:07:36.040Z"
   },
   {
    "duration": 25,
    "start_time": "2023-08-12T12:07:36.105Z"
   },
   {
    "duration": 28,
    "start_time": "2023-08-12T12:07:36.132Z"
   },
   {
    "duration": 8,
    "start_time": "2023-08-12T12:07:36.162Z"
   },
   {
    "duration": 21,
    "start_time": "2023-08-12T12:07:36.172Z"
   },
   {
    "duration": 23,
    "start_time": "2023-08-12T12:07:36.194Z"
   },
   {
    "duration": 4,
    "start_time": "2023-08-12T12:07:36.219Z"
   },
   {
    "duration": 57,
    "start_time": "2023-08-12T12:07:36.225Z"
   },
   {
    "duration": 21,
    "start_time": "2023-08-12T12:07:36.284Z"
   },
   {
    "duration": 54,
    "start_time": "2023-08-12T12:07:36.306Z"
   },
   {
    "duration": 13,
    "start_time": "2023-08-12T12:07:36.362Z"
   },
   {
    "duration": 3,
    "start_time": "2023-08-12T12:07:36.377Z"
   },
   {
    "duration": 23,
    "start_time": "2023-08-12T12:07:36.382Z"
   },
   {
    "duration": 15,
    "start_time": "2023-08-12T12:07:36.407Z"
   },
   {
    "duration": 35,
    "start_time": "2023-08-12T12:07:36.424Z"
   },
   {
    "duration": 9,
    "start_time": "2023-08-12T12:07:36.461Z"
   },
   {
    "duration": 13,
    "start_time": "2023-08-12T12:07:36.475Z"
   },
   {
    "duration": 12,
    "start_time": "2023-08-12T12:07:36.490Z"
   },
   {
    "duration": 12,
    "start_time": "2023-08-12T12:07:36.503Z"
   },
   {
    "duration": 7,
    "start_time": "2023-08-12T12:07:36.517Z"
   },
   {
    "duration": 37,
    "start_time": "2023-08-12T12:07:36.526Z"
   },
   {
    "duration": 15,
    "start_time": "2023-08-12T12:07:36.565Z"
   },
   {
    "duration": 8,
    "start_time": "2023-08-12T12:07:36.582Z"
   },
   {
    "duration": 5,
    "start_time": "2023-08-12T12:07:36.592Z"
   },
   {
    "duration": 6,
    "start_time": "2023-08-12T12:07:36.599Z"
   },
   {
    "duration": 14,
    "start_time": "2023-08-12T12:07:36.606Z"
   },
   {
    "duration": 13,
    "start_time": "2023-08-12T12:07:36.621Z"
   },
   {
    "duration": 33,
    "start_time": "2023-08-12T12:07:36.635Z"
   },
   {
    "duration": 379,
    "start_time": "2023-08-12T12:07:36.671Z"
   },
   {
    "duration": 38,
    "start_time": "2023-08-12T12:07:37.053Z"
   },
   {
    "duration": 145,
    "start_time": "2023-08-12T12:07:37.094Z"
   },
   {
    "duration": 19,
    "start_time": "2023-08-12T12:07:37.241Z"
   },
   {
    "duration": 38,
    "start_time": "2023-08-12T12:07:37.262Z"
   },
   {
    "duration": 202,
    "start_time": "2023-08-12T12:07:37.302Z"
   },
   {
    "duration": 10,
    "start_time": "2023-08-12T12:07:37.507Z"
   },
   {
    "duration": 12,
    "start_time": "2023-08-12T12:07:37.519Z"
   },
   {
    "duration": 28,
    "start_time": "2023-08-12T12:07:37.539Z"
   },
   {
    "duration": 5,
    "start_time": "2023-08-12T12:07:37.569Z"
   },
   {
    "duration": 16,
    "start_time": "2023-08-12T12:07:37.575Z"
   },
   {
    "duration": 20,
    "start_time": "2023-08-12T12:07:37.593Z"
   },
   {
    "duration": 52,
    "start_time": "2023-08-12T12:07:37.616Z"
   },
   {
    "duration": 13,
    "start_time": "2023-08-12T12:07:37.670Z"
   },
   {
    "duration": 22,
    "start_time": "2023-08-12T12:07:37.685Z"
   },
   {
    "duration": 49,
    "start_time": "2023-08-12T12:07:37.710Z"
   },
   {
    "duration": 299,
    "start_time": "2023-08-12T12:07:37.761Z"
   },
   {
    "duration": 19,
    "start_time": "2023-08-12T12:07:38.062Z"
   },
   {
    "duration": 16,
    "start_time": "2023-08-12T12:07:38.083Z"
   },
   {
    "duration": 20,
    "start_time": "2023-08-12T12:07:38.101Z"
   },
   {
    "duration": 40,
    "start_time": "2023-08-12T12:07:38.123Z"
   },
   {
    "duration": 282,
    "start_time": "2023-08-12T12:07:38.165Z"
   },
   {
    "duration": 5,
    "start_time": "2023-08-12T12:07:38.458Z"
   },
   {
    "duration": 331,
    "start_time": "2023-08-12T12:07:38.466Z"
   },
   {
    "duration": 14,
    "start_time": "2023-08-12T12:07:38.798Z"
   },
   {
    "duration": 62,
    "start_time": "2023-08-12T12:07:38.814Z"
   },
   {
    "duration": 897,
    "start_time": "2023-08-12T12:07:38.878Z"
   },
   {
    "duration": 609,
    "start_time": "2023-08-12T12:07:39.777Z"
   },
   {
    "duration": 13,
    "start_time": "2023-08-12T12:07:40.388Z"
   },
   {
    "duration": 826,
    "start_time": "2023-08-12T12:07:40.403Z"
   },
   {
    "duration": 317,
    "start_time": "2023-08-12T12:07:41.231Z"
   },
   {
    "duration": 315,
    "start_time": "2023-08-12T12:07:41.550Z"
   },
   {
    "duration": 318,
    "start_time": "2023-08-12T12:07:41.867Z"
   },
   {
    "duration": 26,
    "start_time": "2023-08-12T12:07:42.190Z"
   },
   {
    "duration": 13,
    "start_time": "2023-08-12T12:07:42.218Z"
   },
   {
    "duration": 55,
    "start_time": "2023-08-12T12:07:42.233Z"
   },
   {
    "duration": 12,
    "start_time": "2023-08-12T12:07:42.290Z"
   },
   {
    "duration": 21,
    "start_time": "2023-08-12T12:07:42.303Z"
   },
   {
    "duration": 1137,
    "start_time": "2023-08-12T12:42:57.685Z"
   },
   {
    "duration": 3,
    "start_time": "2023-08-12T12:42:58.824Z"
   },
   {
    "duration": 465,
    "start_time": "2023-08-12T12:42:58.828Z"
   },
   {
    "duration": 26,
    "start_time": "2023-08-12T12:42:59.294Z"
   },
   {
    "duration": 203,
    "start_time": "2023-08-12T12:42:59.321Z"
   },
   {
    "duration": 276,
    "start_time": "2023-08-12T12:42:59.525Z"
   },
   {
    "duration": 5,
    "start_time": "2023-08-12T12:42:59.802Z"
   },
   {
    "duration": 55,
    "start_time": "2023-08-12T12:42:59.809Z"
   },
   {
    "duration": 22,
    "start_time": "2023-08-12T12:42:59.865Z"
   },
   {
    "duration": 3,
    "start_time": "2023-08-12T12:42:59.900Z"
   },
   {
    "duration": 18,
    "start_time": "2023-08-12T12:42:59.904Z"
   },
   {
    "duration": 34,
    "start_time": "2023-08-12T12:42:59.924Z"
   },
   {
    "duration": 23,
    "start_time": "2023-08-12T12:42:59.959Z"
   },
   {
    "duration": 2,
    "start_time": "2023-08-12T12:42:59.984Z"
   },
   {
    "duration": 38,
    "start_time": "2023-08-12T12:42:59.987Z"
   },
   {
    "duration": 15,
    "start_time": "2023-08-12T12:43:00.027Z"
   },
   {
    "duration": 79,
    "start_time": "2023-08-12T12:43:00.043Z"
   },
   {
    "duration": 35,
    "start_time": "2023-08-12T12:43:00.123Z"
   },
   {
    "duration": 27,
    "start_time": "2023-08-12T12:43:00.159Z"
   },
   {
    "duration": 88,
    "start_time": "2023-08-12T12:43:00.187Z"
   },
   {
    "duration": 43,
    "start_time": "2023-08-12T12:43:00.277Z"
   },
   {
    "duration": 27,
    "start_time": "2023-08-12T12:43:00.322Z"
   },
   {
    "duration": 19,
    "start_time": "2023-08-12T12:43:00.350Z"
   },
   {
    "duration": 60,
    "start_time": "2023-08-12T12:43:00.370Z"
   },
   {
    "duration": 46,
    "start_time": "2023-08-12T12:43:00.431Z"
   },
   {
    "duration": 46,
    "start_time": "2023-08-12T12:43:00.479Z"
   },
   {
    "duration": 54,
    "start_time": "2023-08-12T12:43:00.527Z"
   },
   {
    "duration": 54,
    "start_time": "2023-08-12T12:43:00.586Z"
   },
   {
    "duration": 62,
    "start_time": "2023-08-12T12:43:00.642Z"
   },
   {
    "duration": 31,
    "start_time": "2023-08-12T12:43:00.705Z"
   },
   {
    "duration": 37,
    "start_time": "2023-08-12T12:43:00.737Z"
   },
   {
    "duration": 50,
    "start_time": "2023-08-12T12:43:00.776Z"
   },
   {
    "duration": 55,
    "start_time": "2023-08-12T12:43:00.827Z"
   },
   {
    "duration": 31,
    "start_time": "2023-08-12T12:43:00.883Z"
   },
   {
    "duration": 54,
    "start_time": "2023-08-12T12:43:00.915Z"
   },
   {
    "duration": 344,
    "start_time": "2023-08-12T12:43:00.971Z"
   },
   {
    "duration": 29,
    "start_time": "2023-08-12T12:43:01.317Z"
   },
   {
    "duration": 124,
    "start_time": "2023-08-12T12:43:01.347Z"
   },
   {
    "duration": 10,
    "start_time": "2023-08-12T12:43:01.473Z"
   },
   {
    "duration": 65,
    "start_time": "2023-08-12T12:43:01.484Z"
   },
   {
    "duration": 161,
    "start_time": "2023-08-12T12:43:01.551Z"
   },
   {
    "duration": 9,
    "start_time": "2023-08-12T12:43:01.713Z"
   },
   {
    "duration": 49,
    "start_time": "2023-08-12T12:43:01.723Z"
   },
   {
    "duration": 37,
    "start_time": "2023-08-12T12:43:01.774Z"
   },
   {
    "duration": 55,
    "start_time": "2023-08-12T12:43:01.812Z"
   },
   {
    "duration": 59,
    "start_time": "2023-08-12T12:43:01.869Z"
   },
   {
    "duration": 73,
    "start_time": "2023-08-12T12:43:01.930Z"
   },
   {
    "duration": 40,
    "start_time": "2023-08-12T12:43:02.004Z"
   },
   {
    "duration": 27,
    "start_time": "2023-08-12T12:43:02.046Z"
   },
   {
    "duration": 51,
    "start_time": "2023-08-12T12:43:02.074Z"
   },
   {
    "duration": 25,
    "start_time": "2023-08-12T12:43:02.126Z"
   },
   {
    "duration": 321,
    "start_time": "2023-08-12T12:43:02.152Z"
   },
   {
    "duration": 14,
    "start_time": "2023-08-12T12:43:02.474Z"
   },
   {
    "duration": 29,
    "start_time": "2023-08-12T12:43:02.500Z"
   },
   {
    "duration": 20,
    "start_time": "2023-08-12T12:43:02.531Z"
   },
   {
    "duration": 20,
    "start_time": "2023-08-12T12:43:02.552Z"
   },
   {
    "duration": 189,
    "start_time": "2023-08-12T12:43:02.573Z"
   },
   {
    "duration": 4,
    "start_time": "2023-08-12T12:43:02.764Z"
   },
   {
    "duration": 312,
    "start_time": "2023-08-12T12:43:02.770Z"
   },
   {
    "duration": 16,
    "start_time": "2023-08-12T12:43:03.084Z"
   },
   {
    "duration": 98,
    "start_time": "2023-08-12T12:43:03.102Z"
   },
   {
    "duration": 658,
    "start_time": "2023-08-12T12:43:03.201Z"
   },
   {
    "duration": 621,
    "start_time": "2023-08-12T12:43:03.860Z"
   },
   {
    "duration": 17,
    "start_time": "2023-08-12T12:43:04.483Z"
   },
   {
    "duration": 737,
    "start_time": "2023-08-12T12:43:04.502Z"
   },
   {
    "duration": 334,
    "start_time": "2023-08-12T12:43:05.241Z"
   },
   {
    "duration": 309,
    "start_time": "2023-08-12T12:43:05.577Z"
   },
   {
    "duration": 370,
    "start_time": "2023-08-12T12:43:05.887Z"
   },
   {
    "duration": 21,
    "start_time": "2023-08-12T12:43:06.258Z"
   },
   {
    "duration": 790,
    "start_time": "2023-08-12T12:43:06.280Z"
   },
   {
    "duration": 32,
    "start_time": "2023-08-12T12:43:07.072Z"
   },
   {
    "duration": 7,
    "start_time": "2023-08-12T12:43:07.106Z"
   },
   {
    "duration": 24,
    "start_time": "2023-08-12T12:43:07.114Z"
   },
   {
    "duration": 4,
    "start_time": "2023-08-12T12:47:08.056Z"
   },
   {
    "duration": 4,
    "start_time": "2023-08-12T12:47:11.392Z"
   },
   {
    "duration": 5,
    "start_time": "2023-08-12T12:49:16.190Z"
   },
   {
    "duration": 11,
    "start_time": "2023-08-12T12:49:17.303Z"
   },
   {
    "duration": 4,
    "start_time": "2023-08-12T14:52:54.639Z"
   },
   {
    "duration": 10,
    "start_time": "2023-08-12T14:52:54.645Z"
   },
   {
    "duration": 633,
    "start_time": "2023-08-12T14:52:54.656Z"
   },
   {
    "duration": 35,
    "start_time": "2023-08-12T14:52:55.291Z"
   },
   {
    "duration": 246,
    "start_time": "2023-08-12T14:52:55.360Z"
   },
   {
    "duration": 317,
    "start_time": "2023-08-12T14:52:55.608Z"
   },
   {
    "duration": 8,
    "start_time": "2023-08-12T14:52:55.926Z"
   },
   {
    "duration": 63,
    "start_time": "2023-08-12T14:52:55.936Z"
   },
   {
    "duration": 24,
    "start_time": "2023-08-12T14:52:56.001Z"
   },
   {
    "duration": 3,
    "start_time": "2023-08-12T14:52:56.027Z"
   },
   {
    "duration": 28,
    "start_time": "2023-08-12T14:52:56.032Z"
   },
   {
    "duration": 10,
    "start_time": "2023-08-12T14:52:56.062Z"
   },
   {
    "duration": 9,
    "start_time": "2023-08-12T14:52:57.492Z"
   },
   {
    "duration": 111,
    "start_time": "2023-08-12T14:57:36.891Z"
   },
   {
    "duration": 90,
    "start_time": "2023-08-12T14:57:48.977Z"
   },
   {
    "duration": 45,
    "start_time": "2023-08-12T14:57:53.151Z"
   },
   {
    "duration": 38,
    "start_time": "2023-08-12T14:58:46.093Z"
   },
   {
    "duration": 50,
    "start_time": "2023-08-12T15:03:14.873Z"
   },
   {
    "duration": 46,
    "start_time": "2023-08-12T15:03:35.714Z"
   },
   {
    "duration": 4,
    "start_time": "2023-08-12T15:03:40.258Z"
   },
   {
    "duration": 31,
    "start_time": "2023-08-12T15:03:40.264Z"
   },
   {
    "duration": 651,
    "start_time": "2023-08-12T15:03:40.297Z"
   },
   {
    "duration": 28,
    "start_time": "2023-08-12T15:03:40.950Z"
   },
   {
    "duration": 255,
    "start_time": "2023-08-12T15:03:40.980Z"
   },
   {
    "duration": 352,
    "start_time": "2023-08-12T15:03:41.237Z"
   },
   {
    "duration": 6,
    "start_time": "2023-08-12T15:03:41.591Z"
   },
   {
    "duration": 73,
    "start_time": "2023-08-12T15:03:41.599Z"
   },
   {
    "duration": 29,
    "start_time": "2023-08-12T15:03:41.674Z"
   },
   {
    "duration": 4,
    "start_time": "2023-08-12T15:03:41.706Z"
   },
   {
    "duration": 9,
    "start_time": "2023-08-12T15:03:41.713Z"
   },
   {
    "duration": 37,
    "start_time": "2023-08-12T15:03:41.724Z"
   },
   {
    "duration": 50,
    "start_time": "2023-08-12T15:03:41.763Z"
   },
   {
    "duration": 44,
    "start_time": "2023-08-12T15:03:41.815Z"
   },
   {
    "duration": 4,
    "start_time": "2023-08-12T15:03:41.861Z"
   },
   {
    "duration": 46,
    "start_time": "2023-08-12T15:03:45.051Z"
   },
   {
    "duration": 52,
    "start_time": "2023-08-12T15:03:59.018Z"
   },
   {
    "duration": 11,
    "start_time": "2023-08-12T15:05:11.630Z"
   },
   {
    "duration": 67,
    "start_time": "2023-08-12T15:05:16.647Z"
   },
   {
    "duration": 4,
    "start_time": "2023-08-12T15:09:35.742Z"
   },
   {
    "duration": 9,
    "start_time": "2023-08-12T15:10:47.139Z"
   },
   {
    "duration": 11,
    "start_time": "2023-08-12T15:11:05.678Z"
   },
   {
    "duration": 23,
    "start_time": "2023-08-12T15:11:30.353Z"
   },
   {
    "duration": 22,
    "start_time": "2023-08-12T15:12:44.011Z"
   },
   {
    "duration": 4,
    "start_time": "2023-08-12T15:12:50.134Z"
   },
   {
    "duration": 36,
    "start_time": "2023-08-12T15:13:23.678Z"
   },
   {
    "duration": 14,
    "start_time": "2023-08-12T15:13:24.299Z"
   },
   {
    "duration": 4,
    "start_time": "2023-08-12T15:13:56.667Z"
   },
   {
    "duration": 8,
    "start_time": "2023-08-12T15:13:56.672Z"
   },
   {
    "duration": 625,
    "start_time": "2023-08-12T15:13:56.682Z"
   },
   {
    "duration": 28,
    "start_time": "2023-08-12T15:13:57.309Z"
   },
   {
    "duration": 247,
    "start_time": "2023-08-12T15:13:57.340Z"
   },
   {
    "duration": 321,
    "start_time": "2023-08-12T15:13:57.589Z"
   },
   {
    "duration": 6,
    "start_time": "2023-08-12T15:13:57.912Z"
   },
   {
    "duration": 67,
    "start_time": "2023-08-12T15:13:57.919Z"
   },
   {
    "duration": 23,
    "start_time": "2023-08-12T15:13:57.988Z"
   },
   {
    "duration": 3,
    "start_time": "2023-08-12T15:13:58.013Z"
   },
   {
    "duration": 7,
    "start_time": "2023-08-12T15:13:58.018Z"
   },
   {
    "duration": 34,
    "start_time": "2023-08-12T15:13:58.026Z"
   },
   {
    "duration": 65,
    "start_time": "2023-08-12T15:13:58.062Z"
   },
   {
    "duration": 23,
    "start_time": "2023-08-12T15:13:58.129Z"
   },
   {
    "duration": 5,
    "start_time": "2023-08-12T15:13:58.154Z"
   },
   {
    "duration": 76,
    "start_time": "2023-08-12T15:13:58.161Z"
   },
   {
    "duration": 93,
    "start_time": "2023-08-12T15:13:58.244Z"
   },
   {
    "duration": 41,
    "start_time": "2023-08-12T15:13:58.339Z"
   },
   {
    "duration": 77,
    "start_time": "2023-08-12T15:13:58.382Z"
   },
   {
    "duration": 18,
    "start_time": "2023-08-12T15:13:58.462Z"
   },
   {
    "duration": 14,
    "start_time": "2023-08-12T15:13:58.482Z"
   },
   {
    "duration": 8,
    "start_time": "2023-08-12T15:15:41.779Z"
   },
   {
    "duration": 20,
    "start_time": "2023-08-12T15:16:10.437Z"
   },
   {
    "duration": 37,
    "start_time": "2023-08-12T15:16:45.044Z"
   },
   {
    "duration": 20,
    "start_time": "2023-08-12T15:16:51.022Z"
   },
   {
    "duration": 23,
    "start_time": "2023-08-12T15:17:18.143Z"
   },
   {
    "duration": 24,
    "start_time": "2023-08-12T15:17:28.981Z"
   },
   {
    "duration": 40,
    "start_time": "2023-08-12T15:18:10.656Z"
   },
   {
    "duration": 17,
    "start_time": "2023-08-12T15:18:11.999Z"
   },
   {
    "duration": 4,
    "start_time": "2023-08-12T15:18:15.617Z"
   },
   {
    "duration": 4,
    "start_time": "2023-08-12T15:18:52.050Z"
   },
   {
    "duration": 9,
    "start_time": "2023-08-12T15:18:52.056Z"
   },
   {
    "duration": 599,
    "start_time": "2023-08-12T15:18:52.067Z"
   },
   {
    "duration": 27,
    "start_time": "2023-08-12T15:18:52.668Z"
   },
   {
    "duration": 239,
    "start_time": "2023-08-12T15:18:52.697Z"
   },
   {
    "duration": 333,
    "start_time": "2023-08-12T15:18:52.938Z"
   },
   {
    "duration": 6,
    "start_time": "2023-08-12T15:18:53.273Z"
   },
   {
    "duration": 48,
    "start_time": "2023-08-12T15:18:53.281Z"
   },
   {
    "duration": 45,
    "start_time": "2023-08-12T15:18:53.332Z"
   },
   {
    "duration": 12,
    "start_time": "2023-08-12T15:18:53.379Z"
   },
   {
    "duration": 21,
    "start_time": "2023-08-12T15:18:53.393Z"
   },
   {
    "duration": 10,
    "start_time": "2023-08-12T15:18:53.416Z"
   },
   {
    "duration": 60,
    "start_time": "2023-08-12T15:18:53.428Z"
   },
   {
    "duration": 22,
    "start_time": "2023-08-12T15:18:53.490Z"
   },
   {
    "duration": 34,
    "start_time": "2023-08-12T15:18:53.514Z"
   },
   {
    "duration": 157,
    "start_time": "2023-08-12T15:18:53.550Z"
   },
   {
    "duration": 63,
    "start_time": "2023-08-12T15:18:53.709Z"
   },
   {
    "duration": 22,
    "start_time": "2023-08-12T15:18:53.774Z"
   },
   {
    "duration": 61,
    "start_time": "2023-08-12T15:18:53.798Z"
   },
   {
    "duration": 14,
    "start_time": "2023-08-12T15:18:53.861Z"
   },
   {
    "duration": 4,
    "start_time": "2023-08-12T15:18:53.876Z"
   },
   {
    "duration": 18,
    "start_time": "2023-08-12T15:19:22.661Z"
   },
   {
    "duration": 13,
    "start_time": "2023-08-12T15:19:25.573Z"
   },
   {
    "duration": 6,
    "start_time": "2023-08-12T15:19:30.276Z"
   },
   {
    "duration": 11,
    "start_time": "2023-08-12T15:19:31.937Z"
   },
   {
    "duration": 9,
    "start_time": "2023-08-12T15:19:33.186Z"
   },
   {
    "duration": 12,
    "start_time": "2023-08-12T15:19:35.536Z"
   },
   {
    "duration": 12,
    "start_time": "2023-08-12T15:19:38.114Z"
   },
   {
    "duration": 7,
    "start_time": "2023-08-12T15:19:39.365Z"
   },
   {
    "duration": 7,
    "start_time": "2023-08-12T15:19:40.690Z"
   },
   {
    "duration": 4,
    "start_time": "2023-08-12T15:19:44.233Z"
   },
   {
    "duration": 4,
    "start_time": "2023-08-12T15:19:44.769Z"
   },
   {
    "duration": 4,
    "start_time": "2023-08-12T15:19:45.790Z"
   },
   {
    "duration": 4,
    "start_time": "2023-08-12T15:19:46.253Z"
   },
   {
    "duration": 11,
    "start_time": "2023-08-12T15:20:15.898Z"
   },
   {
    "duration": 12,
    "start_time": "2023-08-12T15:20:17.763Z"
   },
   {
    "duration": 14,
    "start_time": "2023-08-12T15:20:19.893Z"
   },
   {
    "duration": 375,
    "start_time": "2023-08-12T15:20:22.255Z"
   },
   {
    "duration": 370,
    "start_time": "2023-08-12T15:20:54.035Z"
   },
   {
    "duration": 370,
    "start_time": "2023-08-12T15:21:21.185Z"
   },
   {
    "duration": 37,
    "start_time": "2023-08-12T15:21:46.784Z"
   },
   {
    "duration": 134,
    "start_time": "2023-08-12T15:21:49.455Z"
   },
   {
    "duration": 16,
    "start_time": "2023-08-12T15:21:50.035Z"
   },
   {
    "duration": 35,
    "start_time": "2023-08-12T15:21:53.439Z"
   },
   {
    "duration": 199,
    "start_time": "2023-08-12T15:22:19.639Z"
   },
   {
    "duration": 209,
    "start_time": "2023-08-12T15:22:27.193Z"
   },
   {
    "duration": 12,
    "start_time": "2023-08-12T15:22:40.510Z"
   },
   {
    "duration": 13,
    "start_time": "2023-08-12T15:22:41.045Z"
   },
   {
    "duration": 4,
    "start_time": "2023-08-12T15:22:46.535Z"
   },
   {
    "duration": 4,
    "start_time": "2023-08-12T15:23:43.683Z"
   },
   {
    "duration": 10,
    "start_time": "2023-08-12T15:23:43.689Z"
   },
   {
    "duration": 631,
    "start_time": "2023-08-12T15:23:43.701Z"
   },
   {
    "duration": 31,
    "start_time": "2023-08-12T15:23:44.334Z"
   },
   {
    "duration": 246,
    "start_time": "2023-08-12T15:23:44.367Z"
   },
   {
    "duration": 353,
    "start_time": "2023-08-12T15:23:44.615Z"
   },
   {
    "duration": 7,
    "start_time": "2023-08-12T15:23:44.969Z"
   },
   {
    "duration": 49,
    "start_time": "2023-08-12T15:23:44.978Z"
   },
   {
    "duration": 48,
    "start_time": "2023-08-12T15:23:45.029Z"
   },
   {
    "duration": 4,
    "start_time": "2023-08-12T15:23:45.079Z"
   },
   {
    "duration": 34,
    "start_time": "2023-08-12T15:23:45.086Z"
   },
   {
    "duration": 9,
    "start_time": "2023-08-12T15:23:45.122Z"
   },
   {
    "duration": 48,
    "start_time": "2023-08-12T15:23:45.133Z"
   },
   {
    "duration": 22,
    "start_time": "2023-08-12T15:23:45.183Z"
   },
   {
    "duration": 3,
    "start_time": "2023-08-12T15:23:45.207Z"
   },
   {
    "duration": 69,
    "start_time": "2023-08-12T15:23:45.211Z"
   },
   {
    "duration": 85,
    "start_time": "2023-08-12T15:23:45.281Z"
   },
   {
    "duration": 22,
    "start_time": "2023-08-12T15:23:45.368Z"
   },
   {
    "duration": 46,
    "start_time": "2023-08-12T15:23:45.392Z"
   },
   {
    "duration": 15,
    "start_time": "2023-08-12T15:23:45.460Z"
   },
   {
    "duration": 4,
    "start_time": "2023-08-12T15:23:45.477Z"
   },
   {
    "duration": 30,
    "start_time": "2023-08-12T15:23:45.483Z"
   },
   {
    "duration": 15,
    "start_time": "2023-08-12T15:23:45.515Z"
   },
   {
    "duration": 6,
    "start_time": "2023-08-12T15:23:45.560Z"
   },
   {
    "duration": 14,
    "start_time": "2023-08-12T15:23:45.568Z"
   },
   {
    "duration": 7,
    "start_time": "2023-08-12T15:23:45.584Z"
   },
   {
    "duration": 11,
    "start_time": "2023-08-12T15:23:45.593Z"
   },
   {
    "duration": 14,
    "start_time": "2023-08-12T15:23:45.606Z"
   },
   {
    "duration": 8,
    "start_time": "2023-08-12T15:23:45.658Z"
   },
   {
    "duration": 20,
    "start_time": "2023-08-12T15:23:45.669Z"
   },
   {
    "duration": 16,
    "start_time": "2023-08-12T15:23:45.691Z"
   },
   {
    "duration": 6,
    "start_time": "2023-08-12T15:23:45.709Z"
   },
   {
    "duration": 11,
    "start_time": "2023-08-12T15:23:45.716Z"
   },
   {
    "duration": 12,
    "start_time": "2023-08-12T15:23:45.729Z"
   },
   {
    "duration": 25,
    "start_time": "2023-08-12T15:23:45.742Z"
   },
   {
    "duration": 11,
    "start_time": "2023-08-12T15:23:45.770Z"
   },
   {
    "duration": 13,
    "start_time": "2023-08-12T15:23:45.783Z"
   },
   {
    "duration": 381,
    "start_time": "2023-08-12T15:23:45.798Z"
   },
   {
    "duration": 36,
    "start_time": "2023-08-12T15:23:46.181Z"
   },
   {
    "duration": 166,
    "start_time": "2023-08-12T15:23:46.219Z"
   },
   {
    "duration": 16,
    "start_time": "2023-08-12T15:23:46.387Z"
   },
   {
    "duration": 168,
    "start_time": "2023-08-12T15:23:46.405Z"
   },
   {
    "duration": 203,
    "start_time": "2023-08-12T15:23:46.575Z"
   },
   {
    "duration": 10,
    "start_time": "2023-08-12T15:23:46.780Z"
   },
   {
    "duration": 25,
    "start_time": "2023-08-12T15:23:46.791Z"
   },
   {
    "duration": 12,
    "start_time": "2023-08-12T15:23:46.817Z"
   },
   {
    "duration": 29,
    "start_time": "2023-08-12T15:23:46.831Z"
   },
   {
    "duration": 13,
    "start_time": "2023-08-12T15:26:45.797Z"
   },
   {
    "duration": 44,
    "start_time": "2023-08-12T15:28:15.743Z"
   },
   {
    "duration": 1353,
    "start_time": "2023-08-12T15:28:53.210Z"
   },
   {
    "duration": 44,
    "start_time": "2023-08-12T15:29:03.092Z"
   },
   {
    "duration": 10,
    "start_time": "2023-08-12T15:30:36.355Z"
   },
   {
    "duration": 42,
    "start_time": "2023-08-12T15:30:59.143Z"
   },
   {
    "duration": 25,
    "start_time": "2023-08-12T15:31:13.387Z"
   },
   {
    "duration": 15,
    "start_time": "2023-08-12T15:31:14.840Z"
   },
   {
    "duration": 17,
    "start_time": "2023-08-12T15:32:01.299Z"
   },
   {
    "duration": 52,
    "start_time": "2023-08-12T15:32:10.465Z"
   },
   {
    "duration": 758,
    "start_time": "2023-08-12T15:32:11.189Z"
   },
   {
    "duration": 755,
    "start_time": "2023-08-12T15:32:20.401Z"
   },
   {
    "duration": 730,
    "start_time": "2023-08-12T15:32:31.401Z"
   },
   {
    "duration": 872,
    "start_time": "2023-08-12T15:32:46.551Z"
   },
   {
    "duration": 6,
    "start_time": "2023-08-12T15:36:43.678Z"
   },
   {
    "duration": 12,
    "start_time": "2023-08-12T15:36:43.686Z"
   },
   {
    "duration": 644,
    "start_time": "2023-08-12T15:36:43.700Z"
   },
   {
    "duration": 26,
    "start_time": "2023-08-12T15:36:44.346Z"
   },
   {
    "duration": 240,
    "start_time": "2023-08-12T15:36:44.374Z"
   },
   {
    "duration": 353,
    "start_time": "2023-08-12T15:36:44.615Z"
   },
   {
    "duration": 7,
    "start_time": "2023-08-12T15:36:44.970Z"
   },
   {
    "duration": 50,
    "start_time": "2023-08-12T15:36:44.979Z"
   },
   {
    "duration": 47,
    "start_time": "2023-08-12T15:36:45.032Z"
   },
   {
    "duration": 14,
    "start_time": "2023-08-12T15:36:45.081Z"
   },
   {
    "duration": 17,
    "start_time": "2023-08-12T15:36:45.097Z"
   },
   {
    "duration": 21,
    "start_time": "2023-08-12T15:36:45.117Z"
   },
   {
    "duration": 60,
    "start_time": "2023-08-12T15:36:45.139Z"
   },
   {
    "duration": 26,
    "start_time": "2023-08-12T15:36:45.201Z"
   },
   {
    "duration": 4,
    "start_time": "2023-08-12T15:36:45.228Z"
   },
   {
    "duration": 69,
    "start_time": "2023-08-12T15:36:45.233Z"
   },
   {
    "duration": 98,
    "start_time": "2023-08-12T15:36:45.303Z"
   },
   {
    "duration": 28,
    "start_time": "2023-08-12T15:36:45.403Z"
   },
   {
    "duration": 62,
    "start_time": "2023-08-12T15:36:45.433Z"
   },
   {
    "duration": 13,
    "start_time": "2023-08-12T15:36:45.498Z"
   },
   {
    "duration": 4,
    "start_time": "2023-08-12T15:36:45.513Z"
   },
   {
    "duration": 49,
    "start_time": "2023-08-12T15:36:45.518Z"
   },
   {
    "duration": 15,
    "start_time": "2023-08-12T15:36:45.568Z"
   },
   {
    "duration": 5,
    "start_time": "2023-08-12T15:36:45.587Z"
   },
   {
    "duration": 13,
    "start_time": "2023-08-12T15:36:45.594Z"
   },
   {
    "duration": 10,
    "start_time": "2023-08-12T15:36:45.609Z"
   },
   {
    "duration": 12,
    "start_time": "2023-08-12T15:36:45.658Z"
   },
   {
    "duration": 22,
    "start_time": "2023-08-12T15:36:45.672Z"
   },
   {
    "duration": 14,
    "start_time": "2023-08-12T15:36:45.695Z"
   },
   {
    "duration": 15,
    "start_time": "2023-08-12T15:36:45.711Z"
   },
   {
    "duration": 12,
    "start_time": "2023-08-12T15:36:45.727Z"
   },
   {
    "duration": 8,
    "start_time": "2023-08-12T15:36:45.740Z"
   },
   {
    "duration": 3,
    "start_time": "2023-08-12T15:36:45.759Z"
   },
   {
    "duration": 7,
    "start_time": "2023-08-12T15:36:45.763Z"
   },
   {
    "duration": 13,
    "start_time": "2023-08-12T15:36:45.771Z"
   },
   {
    "duration": 18,
    "start_time": "2023-08-12T15:36:45.786Z"
   },
   {
    "duration": 13,
    "start_time": "2023-08-12T15:36:45.805Z"
   },
   {
    "duration": 406,
    "start_time": "2023-08-12T15:36:45.820Z"
   },
   {
    "duration": 40,
    "start_time": "2023-08-12T15:36:46.228Z"
   },
   {
    "duration": 142,
    "start_time": "2023-08-12T15:36:46.269Z"
   },
   {
    "duration": 12,
    "start_time": "2023-08-12T15:36:46.413Z"
   },
   {
    "duration": 55,
    "start_time": "2023-08-12T15:36:46.427Z"
   },
   {
    "duration": 199,
    "start_time": "2023-08-12T15:36:46.484Z"
   },
   {
    "duration": 9,
    "start_time": "2023-08-12T15:36:46.685Z"
   },
   {
    "duration": 25,
    "start_time": "2023-08-12T15:36:46.696Z"
   },
   {
    "duration": 12,
    "start_time": "2023-08-12T15:36:46.722Z"
   },
   {
    "duration": 25,
    "start_time": "2023-08-12T15:36:46.735Z"
   },
   {
    "duration": 25,
    "start_time": "2023-08-12T15:36:46.762Z"
   },
   {
    "duration": 20,
    "start_time": "2023-08-12T15:36:46.789Z"
   },
   {
    "duration": 19,
    "start_time": "2023-08-12T15:36:46.811Z"
   },
   {
    "duration": 39,
    "start_time": "2023-08-12T15:36:46.832Z"
   },
   {
    "duration": 23,
    "start_time": "2023-08-12T15:36:46.873Z"
   },
   {
    "duration": 15,
    "start_time": "2023-08-12T15:36:46.898Z"
   },
   {
    "duration": 357,
    "start_time": "2023-08-12T15:36:46.915Z"
   },
   {
    "duration": 17,
    "start_time": "2023-08-12T15:36:47.274Z"
   },
   {
    "duration": 15,
    "start_time": "2023-08-12T15:36:47.293Z"
   },
   {
    "duration": 10,
    "start_time": "2023-08-12T15:36:47.310Z"
   },
   {
    "duration": 60,
    "start_time": "2023-08-12T15:36:47.322Z"
   },
   {
    "duration": 210,
    "start_time": "2023-08-12T15:36:47.384Z"
   },
   {
    "duration": 5,
    "start_time": "2023-08-12T15:36:47.596Z"
   },
   {
    "duration": 290,
    "start_time": "2023-08-12T15:36:47.602Z"
   },
   {
    "duration": 21,
    "start_time": "2023-08-12T15:36:47.893Z"
   },
   {
    "duration": 13,
    "start_time": "2023-08-12T15:36:47.917Z"
   },
   {
    "duration": 67,
    "start_time": "2023-08-12T15:36:47.931Z"
   },
   {
    "duration": 885,
    "start_time": "2023-08-12T15:36:48.000Z"
   },
   {
    "duration": 612,
    "start_time": "2023-08-12T15:36:48.887Z"
   },
   {
    "duration": 14,
    "start_time": "2023-08-12T15:36:49.501Z"
   },
   {
    "duration": 743,
    "start_time": "2023-08-12T15:36:49.516Z"
   },
   {
    "duration": 311,
    "start_time": "2023-08-12T15:36:50.265Z"
   },
   {
    "duration": 287,
    "start_time": "2023-08-12T15:36:50.578Z"
   },
   {
    "duration": 316,
    "start_time": "2023-08-12T15:36:50.868Z"
   },
   {
    "duration": 29,
    "start_time": "2023-08-12T15:36:51.186Z"
   },
   {
    "duration": 18,
    "start_time": "2023-08-12T15:36:51.217Z"
   },
   {
    "duration": 10,
    "start_time": "2023-08-12T15:36:54.738Z"
   },
   {
    "duration": 27,
    "start_time": "2023-08-12T15:37:25.594Z"
   },
   {
    "duration": 9,
    "start_time": "2023-08-12T15:37:26.330Z"
   },
   {
    "duration": 4,
    "start_time": "2023-08-12T15:38:20.675Z"
   },
   {
    "duration": 4,
    "start_time": "2023-08-12T15:38:24.735Z"
   },
   {
    "duration": 8,
    "start_time": "2023-08-12T15:38:24.741Z"
   },
   {
    "duration": 689,
    "start_time": "2023-08-12T15:38:24.751Z"
   },
   {
    "duration": 30,
    "start_time": "2023-08-12T15:38:25.442Z"
   },
   {
    "duration": 251,
    "start_time": "2023-08-12T15:38:25.473Z"
   },
   {
    "duration": 356,
    "start_time": "2023-08-12T15:38:25.726Z"
   },
   {
    "duration": 6,
    "start_time": "2023-08-12T15:38:26.084Z"
   },
   {
    "duration": 68,
    "start_time": "2023-08-12T15:38:26.092Z"
   },
   {
    "duration": 23,
    "start_time": "2023-08-12T15:38:26.162Z"
   },
   {
    "duration": 4,
    "start_time": "2023-08-12T15:38:26.187Z"
   },
   {
    "duration": 6,
    "start_time": "2023-08-12T15:38:26.192Z"
   },
   {
    "duration": 16,
    "start_time": "2023-08-12T15:38:26.199Z"
   },
   {
    "duration": 71,
    "start_time": "2023-08-12T15:38:26.217Z"
   },
   {
    "duration": 25,
    "start_time": "2023-08-12T15:38:26.290Z"
   },
   {
    "duration": 4,
    "start_time": "2023-08-12T15:38:26.317Z"
   },
   {
    "duration": 76,
    "start_time": "2023-08-12T15:38:26.323Z"
   },
   {
    "duration": 78,
    "start_time": "2023-08-12T15:38:26.401Z"
   },
   {
    "duration": 25,
    "start_time": "2023-08-12T15:38:26.481Z"
   },
   {
    "duration": 66,
    "start_time": "2023-08-12T15:38:26.508Z"
   },
   {
    "duration": 17,
    "start_time": "2023-08-12T15:38:26.576Z"
   },
   {
    "duration": 4,
    "start_time": "2023-08-12T15:38:26.594Z"
   },
   {
    "duration": 24,
    "start_time": "2023-08-12T15:38:26.599Z"
   },
   {
    "duration": 45,
    "start_time": "2023-08-12T15:38:26.625Z"
   },
   {
    "duration": 5,
    "start_time": "2023-08-12T15:38:26.674Z"
   },
   {
    "duration": 16,
    "start_time": "2023-08-12T15:38:26.681Z"
   },
   {
    "duration": 8,
    "start_time": "2023-08-12T15:38:26.699Z"
   },
   {
    "duration": 16,
    "start_time": "2023-08-12T15:38:26.709Z"
   },
   {
    "duration": 184,
    "start_time": "2023-08-12T15:38:26.726Z"
   },
   {
    "duration": 59,
    "start_time": "2023-08-12T15:38:26.912Z"
   },
   {
    "duration": 14,
    "start_time": "2023-08-12T15:38:26.973Z"
   },
   {
    "duration": 6,
    "start_time": "2023-08-12T15:38:26.988Z"
   },
   {
    "duration": 5,
    "start_time": "2023-08-12T15:38:26.996Z"
   },
   {
    "duration": 6,
    "start_time": "2023-08-12T15:38:27.003Z"
   },
   {
    "duration": 7,
    "start_time": "2023-08-12T15:38:27.011Z"
   },
   {
    "duration": 12,
    "start_time": "2023-08-12T15:38:27.020Z"
   },
   {
    "duration": 27,
    "start_time": "2023-08-12T15:38:27.034Z"
   },
   {
    "duration": 15,
    "start_time": "2023-08-12T15:38:27.063Z"
   },
   {
    "duration": 387,
    "start_time": "2023-08-12T15:38:27.080Z"
   },
   {
    "duration": 36,
    "start_time": "2023-08-12T15:38:27.468Z"
   },
   {
    "duration": 155,
    "start_time": "2023-08-12T15:38:27.506Z"
   },
   {
    "duration": 12,
    "start_time": "2023-08-12T15:38:27.663Z"
   },
   {
    "duration": 181,
    "start_time": "2023-08-12T15:38:27.677Z"
   },
   {
    "duration": 205,
    "start_time": "2023-08-12T15:38:27.860Z"
   },
   {
    "duration": 10,
    "start_time": "2023-08-12T15:38:28.067Z"
   },
   {
    "duration": 10,
    "start_time": "2023-08-12T15:38:28.078Z"
   },
   {
    "duration": 11,
    "start_time": "2023-08-12T15:38:28.090Z"
   },
   {
    "duration": 4,
    "start_time": "2023-08-12T15:38:28.103Z"
   },
   {
    "duration": 59,
    "start_time": "2023-08-12T15:38:28.109Z"
   },
   {
    "duration": 22,
    "start_time": "2023-08-12T15:38:28.170Z"
   },
   {
    "duration": 24,
    "start_time": "2023-08-12T15:38:28.193Z"
   },
   {
    "duration": 42,
    "start_time": "2023-08-12T15:38:28.219Z"
   },
   {
    "duration": 26,
    "start_time": "2023-08-12T15:38:28.262Z"
   },
   {
    "duration": 17,
    "start_time": "2023-08-12T15:38:28.290Z"
   },
   {
    "duration": 372,
    "start_time": "2023-08-12T15:38:28.310Z"
   },
   {
    "duration": 15,
    "start_time": "2023-08-12T15:38:28.683Z"
   },
   {
    "duration": 13,
    "start_time": "2023-08-12T15:38:28.700Z"
   },
   {
    "duration": 10,
    "start_time": "2023-08-12T15:38:28.714Z"
   },
   {
    "duration": 51,
    "start_time": "2023-08-12T15:38:28.725Z"
   },
   {
    "duration": 225,
    "start_time": "2023-08-12T15:38:28.777Z"
   },
   {
    "duration": 5,
    "start_time": "2023-08-12T15:38:29.003Z"
   },
   {
    "duration": 290,
    "start_time": "2023-08-12T15:38:29.010Z"
   },
   {
    "duration": 21,
    "start_time": "2023-08-12T15:38:29.302Z"
   },
   {
    "duration": 13,
    "start_time": "2023-08-12T15:38:29.325Z"
   },
   {
    "duration": 61,
    "start_time": "2023-08-12T15:38:29.365Z"
   },
   {
    "duration": 695,
    "start_time": "2023-08-12T15:38:29.428Z"
   },
   {
    "duration": 627,
    "start_time": "2023-08-12T15:38:30.126Z"
   },
   {
    "duration": 16,
    "start_time": "2023-08-12T15:38:30.754Z"
   },
   {
    "duration": 781,
    "start_time": "2023-08-12T15:38:30.772Z"
   },
   {
    "duration": 425,
    "start_time": "2023-08-12T15:38:31.561Z"
   },
   {
    "duration": 289,
    "start_time": "2023-08-12T15:38:31.988Z"
   },
   {
    "duration": 318,
    "start_time": "2023-08-12T15:38:32.280Z"
   },
   {
    "duration": 29,
    "start_time": "2023-08-12T15:38:32.599Z"
   },
   {
    "duration": 30,
    "start_time": "2023-08-12T15:38:32.630Z"
   },
   {
    "duration": 27,
    "start_time": "2023-08-12T15:38:32.662Z"
   },
   {
    "duration": 31,
    "start_time": "2023-08-12T15:38:32.691Z"
   },
   {
    "duration": 34,
    "start_time": "2023-08-12T15:38:32.724Z"
   },
   {
    "duration": 1343,
    "start_time": "2023-08-12T15:39:11.515Z"
   },
   {
    "duration": 5,
    "start_time": "2023-08-12T15:39:12.861Z"
   },
   {
    "duration": 660,
    "start_time": "2023-08-12T15:39:12.868Z"
   },
   {
    "duration": 40,
    "start_time": "2023-08-12T15:39:13.531Z"
   },
   {
    "duration": 257,
    "start_time": "2023-08-12T15:39:13.573Z"
   },
   {
    "duration": 389,
    "start_time": "2023-08-12T15:39:13.832Z"
   },
   {
    "duration": 8,
    "start_time": "2023-08-12T15:39:14.224Z"
   },
   {
    "duration": 80,
    "start_time": "2023-08-12T15:39:14.235Z"
   },
   {
    "duration": 43,
    "start_time": "2023-08-12T15:39:14.318Z"
   },
   {
    "duration": 4,
    "start_time": "2023-08-12T15:39:14.365Z"
   },
   {
    "duration": 7,
    "start_time": "2023-08-12T15:39:14.371Z"
   },
   {
    "duration": 15,
    "start_time": "2023-08-12T15:39:14.380Z"
   },
   {
    "duration": 73,
    "start_time": "2023-08-12T15:39:14.397Z"
   },
   {
    "duration": 22,
    "start_time": "2023-08-12T15:39:14.472Z"
   },
   {
    "duration": 4,
    "start_time": "2023-08-12T15:39:14.496Z"
   },
   {
    "duration": 79,
    "start_time": "2023-08-12T15:39:14.503Z"
   },
   {
    "duration": 82,
    "start_time": "2023-08-12T15:39:14.584Z"
   },
   {
    "duration": 25,
    "start_time": "2023-08-12T15:39:14.668Z"
   },
   {
    "duration": 66,
    "start_time": "2023-08-12T15:39:14.695Z"
   },
   {
    "duration": 16,
    "start_time": "2023-08-12T15:39:14.763Z"
   },
   {
    "duration": 4,
    "start_time": "2023-08-12T15:39:14.781Z"
   },
   {
    "duration": 28,
    "start_time": "2023-08-12T15:39:14.787Z"
   },
   {
    "duration": 49,
    "start_time": "2023-08-12T15:39:14.817Z"
   },
   {
    "duration": 7,
    "start_time": "2023-08-12T15:39:14.868Z"
   },
   {
    "duration": 11,
    "start_time": "2023-08-12T15:39:14.877Z"
   },
   {
    "duration": 15,
    "start_time": "2023-08-12T15:39:14.889Z"
   },
   {
    "duration": 10,
    "start_time": "2023-08-12T15:39:14.907Z"
   },
   {
    "duration": 13,
    "start_time": "2023-08-12T15:39:14.958Z"
   },
   {
    "duration": 13,
    "start_time": "2023-08-12T15:39:14.972Z"
   },
   {
    "duration": 10,
    "start_time": "2023-08-12T15:39:14.987Z"
   },
   {
    "duration": 41,
    "start_time": "2023-08-12T15:39:14.999Z"
   },
   {
    "duration": 13,
    "start_time": "2023-08-12T15:39:15.041Z"
   },
   {
    "duration": 21,
    "start_time": "2023-08-12T15:39:15.057Z"
   },
   {
    "duration": 31,
    "start_time": "2023-08-12T15:39:15.079Z"
   },
   {
    "duration": 21,
    "start_time": "2023-08-12T15:39:15.113Z"
   },
   {
    "duration": 13,
    "start_time": "2023-08-12T15:39:15.136Z"
   },
   {
    "duration": 15,
    "start_time": "2023-08-12T15:39:15.152Z"
   },
   {
    "duration": 421,
    "start_time": "2023-08-12T15:39:15.170Z"
   },
   {
    "duration": 36,
    "start_time": "2023-08-12T15:39:15.593Z"
   },
   {
    "duration": 168,
    "start_time": "2023-08-12T15:39:15.630Z"
   },
   {
    "duration": 14,
    "start_time": "2023-08-12T15:39:15.800Z"
   },
   {
    "duration": 61,
    "start_time": "2023-08-12T15:39:15.816Z"
   },
   {
    "duration": 200,
    "start_time": "2023-08-12T15:39:15.879Z"
   },
   {
    "duration": 12,
    "start_time": "2023-08-12T15:39:16.082Z"
   },
   {
    "duration": 21,
    "start_time": "2023-08-12T15:39:16.096Z"
   },
   {
    "duration": 20,
    "start_time": "2023-08-12T15:39:16.119Z"
   },
   {
    "duration": 4,
    "start_time": "2023-08-12T15:39:16.161Z"
   },
   {
    "duration": 20,
    "start_time": "2023-08-12T15:39:16.167Z"
   },
   {
    "duration": 22,
    "start_time": "2023-08-12T15:39:16.189Z"
   },
   {
    "duration": 47,
    "start_time": "2023-08-12T15:39:16.213Z"
   },
   {
    "duration": 13,
    "start_time": "2023-08-12T15:39:16.262Z"
   },
   {
    "duration": 21,
    "start_time": "2023-08-12T15:39:16.277Z"
   },
   {
    "duration": 13,
    "start_time": "2023-08-12T15:39:16.300Z"
   },
   {
    "duration": 350,
    "start_time": "2023-08-12T15:39:16.314Z"
   },
   {
    "duration": 15,
    "start_time": "2023-08-12T15:39:16.665Z"
   },
   {
    "duration": 16,
    "start_time": "2023-08-12T15:39:16.681Z"
   },
   {
    "duration": 11,
    "start_time": "2023-08-12T15:39:16.698Z"
   },
   {
    "duration": 55,
    "start_time": "2023-08-12T15:39:16.711Z"
   },
   {
    "duration": 246,
    "start_time": "2023-08-12T15:39:16.768Z"
   },
   {
    "duration": 5,
    "start_time": "2023-08-12T15:39:17.016Z"
   },
   {
    "duration": 392,
    "start_time": "2023-08-12T15:39:17.022Z"
   },
   {
    "duration": 24,
    "start_time": "2023-08-12T15:39:17.416Z"
   },
   {
    "duration": 30,
    "start_time": "2023-08-12T15:39:17.442Z"
   },
   {
    "duration": 156,
    "start_time": "2023-08-12T15:39:17.474Z"
   },
   {
    "duration": 730,
    "start_time": "2023-08-12T15:39:17.632Z"
   },
   {
    "duration": 696,
    "start_time": "2023-08-12T15:39:18.365Z"
   },
   {
    "duration": 14,
    "start_time": "2023-08-12T15:39:19.063Z"
   },
   {
    "duration": 786,
    "start_time": "2023-08-12T15:39:19.078Z"
   },
   {
    "duration": 292,
    "start_time": "2023-08-12T15:39:19.866Z"
   },
   {
    "duration": 295,
    "start_time": "2023-08-12T15:39:20.160Z"
   },
   {
    "duration": 310,
    "start_time": "2023-08-12T15:39:20.459Z"
   },
   {
    "duration": 24,
    "start_time": "2023-08-12T15:39:20.770Z"
   },
   {
    "duration": 262,
    "start_time": "2023-08-12T15:39:20.796Z"
   },
   {
    "duration": 16,
    "start_time": "2023-08-12T15:39:21.059Z"
   },
   {
    "duration": 17,
    "start_time": "2023-08-12T15:39:21.077Z"
   },
   {
    "duration": 65,
    "start_time": "2023-08-12T15:39:21.096Z"
   },
   {
    "duration": 84,
    "start_time": "2023-08-12T15:40:09.750Z"
   },
   {
    "duration": 119,
    "start_time": "2023-08-12T15:40:12.449Z"
   },
   {
    "duration": 17,
    "start_time": "2023-08-12T15:41:07.320Z"
   },
   {
    "duration": 12,
    "start_time": "2023-08-12T15:42:13.869Z"
   },
   {
    "duration": 5,
    "start_time": "2023-08-12T15:43:18.734Z"
   },
   {
    "duration": 8,
    "start_time": "2023-08-12T15:43:18.743Z"
   },
   {
    "duration": 743,
    "start_time": "2023-08-12T15:43:18.753Z"
   },
   {
    "duration": 30,
    "start_time": "2023-08-12T15:43:19.498Z"
   },
   {
    "duration": 256,
    "start_time": "2023-08-12T15:43:19.530Z"
   },
   {
    "duration": 381,
    "start_time": "2023-08-12T15:43:19.788Z"
   },
   {
    "duration": 8,
    "start_time": "2023-08-12T15:43:20.171Z"
   },
   {
    "duration": 82,
    "start_time": "2023-08-12T15:43:20.181Z"
   },
   {
    "duration": 29,
    "start_time": "2023-08-12T15:43:20.266Z"
   },
   {
    "duration": 12,
    "start_time": "2023-08-12T15:43:20.298Z"
   },
   {
    "duration": 13,
    "start_time": "2023-08-12T15:43:20.313Z"
   },
   {
    "duration": 16,
    "start_time": "2023-08-12T15:43:20.328Z"
   },
   {
    "duration": 84,
    "start_time": "2023-08-12T15:43:20.346Z"
   },
   {
    "duration": 40,
    "start_time": "2023-08-12T15:43:20.432Z"
   },
   {
    "duration": 4,
    "start_time": "2023-08-12T15:43:20.475Z"
   },
   {
    "duration": 103,
    "start_time": "2023-08-12T15:43:20.481Z"
   },
   {
    "duration": 76,
    "start_time": "2023-08-12T15:43:20.586Z"
   },
   {
    "duration": 23,
    "start_time": "2023-08-12T15:43:20.665Z"
   },
   {
    "duration": 38,
    "start_time": "2023-08-12T15:43:20.690Z"
   },
   {
    "duration": 41,
    "start_time": "2023-08-12T15:43:20.730Z"
   },
   {
    "duration": 4,
    "start_time": "2023-08-12T15:43:20.773Z"
   },
   {
    "duration": 20,
    "start_time": "2023-08-12T15:43:20.779Z"
   },
   {
    "duration": 15,
    "start_time": "2023-08-12T15:43:20.802Z"
   },
   {
    "duration": 45,
    "start_time": "2023-08-12T15:43:20.818Z"
   },
   {
    "duration": 30,
    "start_time": "2023-08-12T15:43:20.865Z"
   },
   {
    "duration": 10,
    "start_time": "2023-08-12T15:43:20.897Z"
   },
   {
    "duration": 15,
    "start_time": "2023-08-12T15:43:20.909Z"
   },
   {
    "duration": 33,
    "start_time": "2023-08-12T15:43:20.926Z"
   },
   {
    "duration": 8,
    "start_time": "2023-08-12T15:43:20.963Z"
   },
   {
    "duration": 27,
    "start_time": "2023-08-12T15:43:20.973Z"
   },
   {
    "duration": 8,
    "start_time": "2023-08-12T15:43:21.002Z"
   },
   {
    "duration": 7,
    "start_time": "2023-08-12T15:43:21.012Z"
   },
   {
    "duration": 6,
    "start_time": "2023-08-12T15:43:21.021Z"
   },
   {
    "duration": 10,
    "start_time": "2023-08-12T15:43:21.029Z"
   },
   {
    "duration": 12,
    "start_time": "2023-08-12T15:43:21.059Z"
   },
   {
    "duration": 14,
    "start_time": "2023-08-12T15:43:21.073Z"
   },
   {
    "duration": 18,
    "start_time": "2023-08-12T15:43:21.089Z"
   },
   {
    "duration": 425,
    "start_time": "2023-08-12T15:43:21.110Z"
   },
   {
    "duration": 46,
    "start_time": "2023-08-12T15:43:21.537Z"
   },
   {
    "duration": 174,
    "start_time": "2023-08-12T15:43:21.585Z"
   },
   {
    "duration": 21,
    "start_time": "2023-08-12T15:43:21.761Z"
   },
   {
    "duration": 49,
    "start_time": "2023-08-12T15:43:21.786Z"
   },
   {
    "duration": 255,
    "start_time": "2023-08-12T15:43:21.838Z"
   },
   {
    "duration": 10,
    "start_time": "2023-08-12T15:43:22.096Z"
   },
   {
    "duration": 11,
    "start_time": "2023-08-12T15:43:22.108Z"
   },
   {
    "duration": 47,
    "start_time": "2023-08-12T15:43:22.121Z"
   },
   {
    "duration": 6,
    "start_time": "2023-08-12T15:43:22.170Z"
   },
   {
    "duration": 29,
    "start_time": "2023-08-12T15:43:22.179Z"
   },
   {
    "duration": 25,
    "start_time": "2023-08-12T15:43:22.210Z"
   },
   {
    "duration": 46,
    "start_time": "2023-08-12T15:43:22.237Z"
   },
   {
    "duration": 14,
    "start_time": "2023-08-12T15:43:22.285Z"
   },
   {
    "duration": 29,
    "start_time": "2023-08-12T15:43:22.301Z"
   },
   {
    "duration": 49,
    "start_time": "2023-08-12T15:43:22.331Z"
   },
   {
    "duration": 391,
    "start_time": "2023-08-12T15:43:22.382Z"
   },
   {
    "duration": 18,
    "start_time": "2023-08-12T15:43:22.775Z"
   },
   {
    "duration": 14,
    "start_time": "2023-08-12T15:43:22.795Z"
   },
   {
    "duration": 14,
    "start_time": "2023-08-12T15:43:22.811Z"
   },
   {
    "duration": 57,
    "start_time": "2023-08-12T15:43:22.827Z"
   },
   {
    "duration": 245,
    "start_time": "2023-08-12T15:43:22.886Z"
   },
   {
    "duration": 5,
    "start_time": "2023-08-12T15:43:23.133Z"
   },
   {
    "duration": 348,
    "start_time": "2023-08-12T15:43:23.140Z"
   },
   {
    "duration": 23,
    "start_time": "2023-08-12T15:43:23.490Z"
   },
   {
    "duration": 14,
    "start_time": "2023-08-12T15:43:23.515Z"
   },
   {
    "duration": 69,
    "start_time": "2023-08-12T15:43:23.531Z"
   },
   {
    "duration": 804,
    "start_time": "2023-08-12T15:43:23.602Z"
   },
   {
    "duration": 764,
    "start_time": "2023-08-12T15:43:24.409Z"
   },
   {
    "duration": 13,
    "start_time": "2023-08-12T15:43:25.175Z"
   },
   {
    "duration": 812,
    "start_time": "2023-08-12T15:43:25.190Z"
   },
   {
    "duration": 301,
    "start_time": "2023-08-12T15:43:26.004Z"
   },
   {
    "duration": 304,
    "start_time": "2023-08-12T15:43:26.308Z"
   },
   {
    "duration": 312,
    "start_time": "2023-08-12T15:43:26.614Z"
   },
   {
    "duration": 40,
    "start_time": "2023-08-12T15:43:26.928Z"
   },
   {
    "duration": 10,
    "start_time": "2023-08-12T15:43:26.970Z"
   },
   {
    "duration": 19,
    "start_time": "2023-08-12T15:43:26.982Z"
   },
   {
    "duration": 9,
    "start_time": "2023-08-12T15:43:27.003Z"
   },
   {
    "duration": 52,
    "start_time": "2023-08-12T15:43:27.014Z"
   },
   {
    "duration": 5,
    "start_time": "2023-08-12T15:56:31.645Z"
   },
   {
    "duration": 45,
    "start_time": "2023-08-12T15:56:31.652Z"
   },
   {
    "duration": 696,
    "start_time": "2023-08-12T15:56:31.700Z"
   },
   {
    "duration": 32,
    "start_time": "2023-08-12T15:56:32.398Z"
   },
   {
    "duration": 255,
    "start_time": "2023-08-12T15:56:32.432Z"
   },
   {
    "duration": 349,
    "start_time": "2023-08-12T15:56:32.689Z"
   },
   {
    "duration": 20,
    "start_time": "2023-08-12T15:56:33.040Z"
   },
   {
    "duration": 79,
    "start_time": "2023-08-12T15:56:33.062Z"
   },
   {
    "duration": 33,
    "start_time": "2023-08-12T15:56:33.143Z"
   },
   {
    "duration": 5,
    "start_time": "2023-08-12T15:56:33.177Z"
   },
   {
    "duration": 15,
    "start_time": "2023-08-12T15:56:33.185Z"
   },
   {
    "duration": 16,
    "start_time": "2023-08-12T15:56:33.202Z"
   },
   {
    "duration": 79,
    "start_time": "2023-08-12T15:56:33.220Z"
   },
   {
    "duration": 26,
    "start_time": "2023-08-12T15:56:33.301Z"
   },
   {
    "duration": 29,
    "start_time": "2023-08-12T15:56:33.329Z"
   },
   {
    "duration": 72,
    "start_time": "2023-08-12T15:56:33.360Z"
   },
   {
    "duration": 81,
    "start_time": "2023-08-12T15:56:33.434Z"
   },
   {
    "duration": 31,
    "start_time": "2023-08-12T15:56:33.517Z"
   },
   {
    "duration": 42,
    "start_time": "2023-08-12T15:56:33.551Z"
   },
   {
    "duration": 15,
    "start_time": "2023-08-12T15:56:33.595Z"
   },
   {
    "duration": 18,
    "start_time": "2023-08-12T15:56:33.612Z"
   },
   {
    "duration": 40,
    "start_time": "2023-08-12T15:56:33.632Z"
   },
   {
    "duration": 17,
    "start_time": "2023-08-12T15:56:33.674Z"
   },
   {
    "duration": 6,
    "start_time": "2023-08-12T15:56:33.694Z"
   },
   {
    "duration": 19,
    "start_time": "2023-08-12T15:56:33.702Z"
   },
   {
    "duration": 43,
    "start_time": "2023-08-12T15:56:33.723Z"
   },
   {
    "duration": 9,
    "start_time": "2023-08-12T15:56:33.767Z"
   },
   {
    "duration": 19,
    "start_time": "2023-08-12T15:56:33.778Z"
   },
   {
    "duration": 29,
    "start_time": "2023-08-12T15:56:33.802Z"
   },
   {
    "duration": 16,
    "start_time": "2023-08-12T15:56:33.833Z"
   },
   {
    "duration": 16,
    "start_time": "2023-08-12T15:56:33.851Z"
   },
   {
    "duration": 20,
    "start_time": "2023-08-12T15:56:33.869Z"
   },
   {
    "duration": 14,
    "start_time": "2023-08-12T15:56:33.891Z"
   },
   {
    "duration": 14,
    "start_time": "2023-08-12T15:56:33.907Z"
   },
   {
    "duration": 26,
    "start_time": "2023-08-12T15:56:33.923Z"
   },
   {
    "duration": 19,
    "start_time": "2023-08-12T15:56:33.951Z"
   },
   {
    "duration": 25,
    "start_time": "2023-08-12T15:56:33.972Z"
   },
   {
    "duration": 380,
    "start_time": "2023-08-12T15:56:33.999Z"
   },
   {
    "duration": 41,
    "start_time": "2023-08-12T15:56:34.382Z"
   },
   {
    "duration": 146,
    "start_time": "2023-08-12T15:56:34.424Z"
   },
   {
    "duration": 12,
    "start_time": "2023-08-12T15:56:34.571Z"
   },
   {
    "duration": 43,
    "start_time": "2023-08-12T15:56:34.585Z"
   },
   {
    "duration": 224,
    "start_time": "2023-08-12T15:56:34.630Z"
   },
   {
    "duration": 11,
    "start_time": "2023-08-12T15:56:34.858Z"
   },
   {
    "duration": 9,
    "start_time": "2023-08-12T15:56:34.871Z"
   },
   {
    "duration": 11,
    "start_time": "2023-08-12T15:56:34.883Z"
   },
   {
    "duration": 3,
    "start_time": "2023-08-12T15:56:34.896Z"
   },
   {
    "duration": 64,
    "start_time": "2023-08-12T15:56:34.901Z"
   },
   {
    "duration": 31,
    "start_time": "2023-08-12T15:56:34.967Z"
   },
   {
    "duration": 23,
    "start_time": "2023-08-12T15:56:35.000Z"
   },
   {
    "duration": 43,
    "start_time": "2023-08-12T15:56:35.026Z"
   },
   {
    "duration": 19,
    "start_time": "2023-08-12T15:56:35.071Z"
   },
   {
    "duration": 12,
    "start_time": "2023-08-12T15:56:35.092Z"
   },
   {
    "duration": 333,
    "start_time": "2023-08-12T15:56:35.106Z"
   },
   {
    "duration": 25,
    "start_time": "2023-08-12T15:56:35.441Z"
   },
   {
    "duration": 18,
    "start_time": "2023-08-12T15:56:35.468Z"
   },
   {
    "duration": 12,
    "start_time": "2023-08-12T15:56:35.488Z"
   },
   {
    "duration": 38,
    "start_time": "2023-08-12T15:56:35.501Z"
   },
   {
    "duration": 242,
    "start_time": "2023-08-12T15:56:35.541Z"
   },
   {
    "duration": 5,
    "start_time": "2023-08-12T15:56:35.786Z"
   },
   {
    "duration": 429,
    "start_time": "2023-08-12T15:56:35.794Z"
   },
   {
    "duration": 35,
    "start_time": "2023-08-12T15:56:36.225Z"
   },
   {
    "duration": 14,
    "start_time": "2023-08-12T15:56:36.262Z"
   },
   {
    "duration": 48,
    "start_time": "2023-08-12T15:56:36.278Z"
   },
   {
    "duration": 737,
    "start_time": "2023-08-12T15:56:36.328Z"
   },
   {
    "duration": 633,
    "start_time": "2023-08-12T15:56:37.067Z"
   },
   {
    "duration": 14,
    "start_time": "2023-08-12T15:56:37.702Z"
   },
   {
    "duration": 877,
    "start_time": "2023-08-12T15:56:37.718Z"
   },
   {
    "duration": 315,
    "start_time": "2023-08-12T15:56:38.597Z"
   },
   {
    "duration": 302,
    "start_time": "2023-08-12T15:56:38.914Z"
   },
   {
    "duration": 441,
    "start_time": "2023-08-12T15:56:39.218Z"
   },
   {
    "duration": 27,
    "start_time": "2023-08-12T15:56:39.660Z"
   },
   {
    "duration": 16,
    "start_time": "2023-08-12T15:56:39.689Z"
   },
   {
    "duration": 34,
    "start_time": "2023-08-12T15:56:39.707Z"
   },
   {
    "duration": 7,
    "start_time": "2023-08-12T15:56:39.759Z"
   },
   {
    "duration": 60,
    "start_time": "2023-08-12T15:56:39.767Z"
   },
   {
    "duration": 1488,
    "start_time": "2023-08-12T20:13:07.030Z"
   },
   {
    "duration": 5,
    "start_time": "2023-08-12T20:13:08.521Z"
   },
   {
    "duration": 1394,
    "start_time": "2023-08-12T20:13:08.528Z"
   },
   {
    "duration": 29,
    "start_time": "2023-08-12T20:13:09.924Z"
   },
   {
    "duration": 282,
    "start_time": "2023-08-12T20:13:09.955Z"
   },
   {
    "duration": 403,
    "start_time": "2023-08-12T20:13:10.239Z"
   },
   {
    "duration": 27,
    "start_time": "2023-08-12T20:13:10.644Z"
   },
   {
    "duration": 58,
    "start_time": "2023-08-12T20:13:10.673Z"
   },
   {
    "duration": 49,
    "start_time": "2023-08-12T20:13:10.733Z"
   },
   {
    "duration": 4,
    "start_time": "2023-08-12T20:13:10.787Z"
   },
   {
    "duration": 8,
    "start_time": "2023-08-12T20:13:10.792Z"
   },
   {
    "duration": 9,
    "start_time": "2023-08-12T20:13:10.802Z"
   },
   {
    "duration": 41,
    "start_time": "2023-08-12T20:13:10.813Z"
   },
   {
    "duration": 37,
    "start_time": "2023-08-12T20:13:10.856Z"
   },
   {
    "duration": 3,
    "start_time": "2023-08-12T20:13:10.895Z"
   },
   {
    "duration": 45,
    "start_time": "2023-08-12T20:13:10.899Z"
   },
   {
    "duration": 84,
    "start_time": "2023-08-12T20:13:10.962Z"
   },
   {
    "duration": 39,
    "start_time": "2023-08-12T20:13:11.048Z"
   },
   {
    "duration": 35,
    "start_time": "2023-08-12T20:13:11.090Z"
   },
   {
    "duration": 14,
    "start_time": "2023-08-12T20:13:11.127Z"
   },
   {
    "duration": 23,
    "start_time": "2023-08-12T20:13:11.143Z"
   },
   {
    "duration": 35,
    "start_time": "2023-08-12T20:13:11.171Z"
   },
   {
    "duration": 14,
    "start_time": "2023-08-12T20:13:11.208Z"
   },
   {
    "duration": 5,
    "start_time": "2023-08-12T20:13:11.224Z"
   },
   {
    "duration": 18,
    "start_time": "2023-08-12T20:13:11.231Z"
   },
   {
    "duration": 13,
    "start_time": "2023-08-12T20:13:11.251Z"
   },
   {
    "duration": 30,
    "start_time": "2023-08-12T20:13:11.268Z"
   },
   {
    "duration": 11,
    "start_time": "2023-08-12T20:13:11.302Z"
   },
   {
    "duration": 10,
    "start_time": "2023-08-12T20:13:11.315Z"
   },
   {
    "duration": 14,
    "start_time": "2023-08-12T20:13:11.327Z"
   },
   {
    "duration": 13,
    "start_time": "2023-08-12T20:13:11.343Z"
   },
   {
    "duration": 36,
    "start_time": "2023-08-12T20:13:11.362Z"
   },
   {
    "duration": 7,
    "start_time": "2023-08-12T20:13:11.400Z"
   },
   {
    "duration": 6,
    "start_time": "2023-08-12T20:13:11.409Z"
   },
   {
    "duration": 11,
    "start_time": "2023-08-12T20:13:11.417Z"
   },
   {
    "duration": 13,
    "start_time": "2023-08-12T20:13:11.429Z"
   },
   {
    "duration": 34,
    "start_time": "2023-08-12T20:13:11.444Z"
   },
   {
    "duration": 419,
    "start_time": "2023-08-12T20:13:11.479Z"
   },
   {
    "duration": 36,
    "start_time": "2023-08-12T20:13:11.900Z"
   },
   {
    "duration": 173,
    "start_time": "2023-08-12T20:13:11.938Z"
   },
   {
    "duration": 12,
    "start_time": "2023-08-12T20:13:12.113Z"
   },
   {
    "duration": 72,
    "start_time": "2023-08-12T20:13:12.127Z"
   },
   {
    "duration": 206,
    "start_time": "2023-08-12T20:13:12.201Z"
   },
   {
    "duration": 9,
    "start_time": "2023-08-12T20:13:12.409Z"
   },
   {
    "duration": 19,
    "start_time": "2023-08-12T20:13:12.420Z"
   },
   {
    "duration": 20,
    "start_time": "2023-08-12T20:13:12.441Z"
   },
   {
    "duration": 3,
    "start_time": "2023-08-12T20:13:12.464Z"
   },
   {
    "duration": 20,
    "start_time": "2023-08-12T20:13:12.468Z"
   },
   {
    "duration": 31,
    "start_time": "2023-08-12T20:13:12.492Z"
   },
   {
    "duration": 20,
    "start_time": "2023-08-12T20:13:12.524Z"
   },
   {
    "duration": 25,
    "start_time": "2023-08-12T20:13:12.546Z"
   },
   {
    "duration": 43,
    "start_time": "2023-08-12T20:13:12.572Z"
   },
   {
    "duration": 13,
    "start_time": "2023-08-12T20:13:12.617Z"
   },
   {
    "duration": 320,
    "start_time": "2023-08-12T20:13:12.633Z"
   },
   {
    "duration": 33,
    "start_time": "2023-08-12T20:13:12.960Z"
   },
   {
    "duration": 16,
    "start_time": "2023-08-12T20:13:12.994Z"
   },
   {
    "duration": 9,
    "start_time": "2023-08-12T20:13:13.011Z"
   },
   {
    "duration": 24,
    "start_time": "2023-08-12T20:13:13.021Z"
   },
   {
    "duration": 250,
    "start_time": "2023-08-12T20:13:13.048Z"
   },
   {
    "duration": 5,
    "start_time": "2023-08-12T20:13:13.300Z"
   },
   {
    "duration": 411,
    "start_time": "2023-08-12T20:13:13.307Z"
   },
   {
    "duration": 22,
    "start_time": "2023-08-12T20:13:13.719Z"
   },
   {
    "duration": 40,
    "start_time": "2023-08-12T20:13:13.743Z"
   },
   {
    "duration": 134,
    "start_time": "2023-08-12T20:13:13.788Z"
   },
   {
    "duration": 763,
    "start_time": "2023-08-12T20:13:13.924Z"
   },
   {
    "duration": 657,
    "start_time": "2023-08-12T20:13:14.689Z"
   },
   {
    "duration": 30,
    "start_time": "2023-08-12T20:13:15.348Z"
   },
   {
    "duration": 838,
    "start_time": "2023-08-12T20:13:15.384Z"
   },
   {
    "duration": 303,
    "start_time": "2023-08-12T20:13:16.225Z"
   },
   {
    "duration": 313,
    "start_time": "2023-08-12T20:13:16.530Z"
   },
   {
    "duration": 326,
    "start_time": "2023-08-12T20:13:16.845Z"
   },
   {
    "duration": 26,
    "start_time": "2023-08-12T20:13:17.180Z"
   },
   {
    "duration": 1036,
    "start_time": "2023-08-12T20:13:17.208Z"
   },
   {
    "duration": 24,
    "start_time": "2023-08-12T20:13:18.245Z"
   },
   {
    "duration": 59,
    "start_time": "2023-08-12T20:13:18.271Z"
   },
   {
    "duration": 45,
    "start_time": "2023-08-12T20:13:18.332Z"
   },
   {
    "duration": 8,
    "start_time": "2023-08-12T20:14:21.577Z"
   },
   {
    "duration": 4,
    "start_time": "2023-08-12T20:14:26.481Z"
   },
   {
    "duration": 1343,
    "start_time": "2023-08-13T05:48:48.629Z"
   },
   {
    "duration": 4,
    "start_time": "2023-08-13T05:48:49.974Z"
   },
   {
    "duration": 849,
    "start_time": "2023-08-13T05:48:49.979Z"
   },
   {
    "duration": 25,
    "start_time": "2023-08-13T05:48:50.830Z"
   },
   {
    "duration": 196,
    "start_time": "2023-08-13T05:48:50.857Z"
   },
   {
    "duration": 280,
    "start_time": "2023-08-13T05:48:51.054Z"
   },
   {
    "duration": 6,
    "start_time": "2023-08-13T05:48:51.335Z"
   },
   {
    "duration": 63,
    "start_time": "2023-08-13T05:48:51.342Z"
   },
   {
    "duration": 24,
    "start_time": "2023-08-13T05:48:51.406Z"
   },
   {
    "duration": 5,
    "start_time": "2023-08-13T05:48:51.432Z"
   },
   {
    "duration": 11,
    "start_time": "2023-08-13T05:48:51.438Z"
   },
   {
    "duration": 22,
    "start_time": "2023-08-13T05:48:51.450Z"
   },
   {
    "duration": 54,
    "start_time": "2023-08-13T05:48:51.473Z"
   },
   {
    "duration": 17,
    "start_time": "2023-08-13T05:48:51.529Z"
   },
   {
    "duration": 12,
    "start_time": "2023-08-13T05:48:51.547Z"
   },
   {
    "duration": 47,
    "start_time": "2023-08-13T05:48:51.561Z"
   },
   {
    "duration": 58,
    "start_time": "2023-08-13T05:48:51.610Z"
   },
   {
    "duration": 28,
    "start_time": "2023-08-13T05:48:51.669Z"
   },
   {
    "duration": 46,
    "start_time": "2023-08-13T05:48:51.699Z"
   },
   {
    "duration": 26,
    "start_time": "2023-08-13T05:48:52.930Z"
   },
   {
    "duration": 25,
    "start_time": "2023-08-13T05:48:53.981Z"
   },
   {
    "duration": 14,
    "start_time": "2023-08-13T05:48:55.508Z"
   },
   {
    "duration": 3,
    "start_time": "2023-08-13T05:49:00.039Z"
   },
   {
    "duration": 3,
    "start_time": "2023-08-13T06:01:16.533Z"
   },
   {
    "duration": 7,
    "start_time": "2023-08-13T06:01:16.538Z"
   },
   {
    "duration": 525,
    "start_time": "2023-08-13T06:01:16.546Z"
   },
   {
    "duration": 23,
    "start_time": "2023-08-13T06:01:17.072Z"
   },
   {
    "duration": 205,
    "start_time": "2023-08-13T06:01:17.099Z"
   },
   {
    "duration": 306,
    "start_time": "2023-08-13T06:01:17.306Z"
   },
   {
    "duration": 9,
    "start_time": "2023-08-13T06:01:17.614Z"
   },
   {
    "duration": 73,
    "start_time": "2023-08-13T06:01:17.627Z"
   },
   {
    "duration": 25,
    "start_time": "2023-08-13T06:01:17.702Z"
   },
   {
    "duration": 6,
    "start_time": "2023-08-13T06:01:17.730Z"
   },
   {
    "duration": 19,
    "start_time": "2023-08-13T06:01:17.738Z"
   },
   {
    "duration": 23,
    "start_time": "2023-08-13T06:01:17.759Z"
   },
   {
    "duration": 48,
    "start_time": "2023-08-13T06:01:17.784Z"
   },
   {
    "duration": 19,
    "start_time": "2023-08-13T06:01:17.834Z"
   },
   {
    "duration": 15,
    "start_time": "2023-08-13T06:01:17.855Z"
   },
   {
    "duration": 84,
    "start_time": "2023-08-13T06:01:17.871Z"
   },
   {
    "duration": 87,
    "start_time": "2023-08-13T06:01:17.956Z"
   },
   {
    "duration": 29,
    "start_time": "2023-08-13T06:01:18.044Z"
   },
   {
    "duration": 50,
    "start_time": "2023-08-13T06:01:18.075Z"
   },
   {
    "duration": 31,
    "start_time": "2023-08-13T06:01:21.286Z"
   },
   {
    "duration": 17,
    "start_time": "2023-08-13T06:01:21.719Z"
   },
   {
    "duration": 2,
    "start_time": "2023-08-13T06:01:22.456Z"
   },
   {
    "duration": 15,
    "start_time": "2023-08-13T06:03:46.440Z"
   },
   {
    "duration": 48,
    "start_time": "2023-08-13T06:05:21.726Z"
   },
   {
    "duration": 63,
    "start_time": "2023-08-13T06:06:10.823Z"
   },
   {
    "duration": 48,
    "start_time": "2023-08-13T06:06:29.149Z"
   },
   {
    "duration": 35,
    "start_time": "2023-08-13T06:06:44.593Z"
   },
   {
    "duration": 52,
    "start_time": "2023-08-13T06:06:45.038Z"
   },
   {
    "duration": 58,
    "start_time": "2023-08-13T06:06:52.217Z"
   },
   {
    "duration": 41,
    "start_time": "2023-08-13T06:07:01.818Z"
   },
   {
    "duration": 10,
    "start_time": "2023-08-13T06:07:10.457Z"
   },
   {
    "duration": 4,
    "start_time": "2023-08-13T06:07:30.489Z"
   },
   {
    "duration": 3,
    "start_time": "2023-08-13T06:08:57.643Z"
   },
   {
    "duration": 32,
    "start_time": "2023-08-13T06:08:57.648Z"
   },
   {
    "duration": 495,
    "start_time": "2023-08-13T06:08:57.682Z"
   },
   {
    "duration": 41,
    "start_time": "2023-08-13T06:08:58.179Z"
   },
   {
    "duration": 225,
    "start_time": "2023-08-13T06:08:58.221Z"
   },
   {
    "duration": 274,
    "start_time": "2023-08-13T06:08:58.448Z"
   },
   {
    "duration": 7,
    "start_time": "2023-08-13T06:08:58.724Z"
   },
   {
    "duration": 51,
    "start_time": "2023-08-13T06:08:58.732Z"
   },
   {
    "duration": 47,
    "start_time": "2023-08-13T06:08:58.785Z"
   },
   {
    "duration": 4,
    "start_time": "2023-08-13T06:08:58.833Z"
   },
   {
    "duration": 15,
    "start_time": "2023-08-13T06:08:58.839Z"
   },
   {
    "duration": 16,
    "start_time": "2023-08-13T06:08:58.855Z"
   },
   {
    "duration": 50,
    "start_time": "2023-08-13T06:08:58.873Z"
   },
   {
    "duration": 19,
    "start_time": "2023-08-13T06:08:58.925Z"
   },
   {
    "duration": 4,
    "start_time": "2023-08-13T06:08:58.945Z"
   },
   {
    "duration": 68,
    "start_time": "2023-08-13T06:08:58.950Z"
   },
   {
    "duration": 56,
    "start_time": "2023-08-13T06:08:59.020Z"
   },
   {
    "duration": 41,
    "start_time": "2023-08-13T06:08:59.078Z"
   },
   {
    "duration": 26,
    "start_time": "2023-08-13T06:08:59.121Z"
   },
   {
    "duration": 10,
    "start_time": "2023-08-13T06:08:59.149Z"
   },
   {
    "duration": 8,
    "start_time": "2023-08-13T06:08:59.161Z"
   },
   {
    "duration": 14,
    "start_time": "2023-08-13T06:09:55.184Z"
   },
   {
    "duration": 5,
    "start_time": "2023-08-13T06:09:59.120Z"
   },
   {
    "duration": 11,
    "start_time": "2023-08-13T06:09:59.133Z"
   },
   {
    "duration": 615,
    "start_time": "2023-08-13T06:09:59.147Z"
   },
   {
    "duration": 33,
    "start_time": "2023-08-13T06:09:59.764Z"
   },
   {
    "duration": 318,
    "start_time": "2023-08-13T06:09:59.799Z"
   },
   {
    "duration": 314,
    "start_time": "2023-08-13T06:10:00.122Z"
   },
   {
    "duration": 6,
    "start_time": "2023-08-13T06:10:00.438Z"
   },
   {
    "duration": 229,
    "start_time": "2023-08-13T06:10:00.445Z"
   },
   {
    "duration": 29,
    "start_time": "2023-08-13T06:10:00.676Z"
   },
   {
    "duration": 48,
    "start_time": "2023-08-13T06:10:00.707Z"
   },
   {
    "duration": 50,
    "start_time": "2023-08-13T06:10:00.757Z"
   },
   {
    "duration": 47,
    "start_time": "2023-08-13T06:10:00.814Z"
   },
   {
    "duration": 114,
    "start_time": "2023-08-13T06:10:00.862Z"
   },
   {
    "duration": 43,
    "start_time": "2023-08-13T06:10:00.978Z"
   },
   {
    "duration": 61,
    "start_time": "2023-08-13T06:10:01.027Z"
   },
   {
    "duration": 147,
    "start_time": "2023-08-13T06:10:01.090Z"
   },
   {
    "duration": 99,
    "start_time": "2023-08-13T06:10:01.239Z"
   },
   {
    "duration": 46,
    "start_time": "2023-08-13T06:10:01.340Z"
   },
   {
    "duration": 52,
    "start_time": "2023-08-13T06:10:01.388Z"
   },
   {
    "duration": 33,
    "start_time": "2023-08-13T06:10:01.441Z"
   },
   {
    "duration": 49,
    "start_time": "2023-08-13T06:10:01.475Z"
   },
   {
    "duration": 72,
    "start_time": "2023-08-13T06:10:01.525Z"
   },
   {
    "duration": 61,
    "start_time": "2023-08-13T06:10:01.598Z"
   },
   {
    "duration": 30,
    "start_time": "2023-08-13T06:10:01.662Z"
   },
   {
    "duration": 47,
    "start_time": "2023-08-13T06:10:01.694Z"
   },
   {
    "duration": 37,
    "start_time": "2023-08-13T06:10:01.743Z"
   },
   {
    "duration": 48,
    "start_time": "2023-08-13T06:10:01.782Z"
   },
   {
    "duration": 39,
    "start_time": "2023-08-13T06:10:01.831Z"
   },
   {
    "duration": 78,
    "start_time": "2023-08-13T06:10:01.872Z"
   },
   {
    "duration": 87,
    "start_time": "2023-08-13T06:10:01.951Z"
   },
   {
    "duration": 42,
    "start_time": "2023-08-13T06:10:02.040Z"
   },
   {
    "duration": 52,
    "start_time": "2023-08-13T06:10:02.084Z"
   },
   {
    "duration": 41,
    "start_time": "2023-08-13T06:10:02.137Z"
   },
   {
    "duration": 82,
    "start_time": "2023-08-13T06:10:02.180Z"
   },
   {
    "duration": 97,
    "start_time": "2023-08-13T06:10:02.264Z"
   },
   {
    "duration": 46,
    "start_time": "2023-08-13T06:10:02.363Z"
   },
   {
    "duration": 82,
    "start_time": "2023-08-13T06:10:02.410Z"
   },
   {
    "duration": 431,
    "start_time": "2023-08-13T06:10:02.494Z"
   },
   {
    "duration": 35,
    "start_time": "2023-08-13T06:10:02.926Z"
   },
   {
    "duration": 164,
    "start_time": "2023-08-13T06:10:02.963Z"
   },
   {
    "duration": 27,
    "start_time": "2023-08-13T06:10:03.129Z"
   },
   {
    "duration": 37,
    "start_time": "2023-08-13T06:10:03.158Z"
   },
   {
    "duration": 167,
    "start_time": "2023-08-13T06:10:03.196Z"
   },
   {
    "duration": 9,
    "start_time": "2023-08-13T06:10:03.364Z"
   },
   {
    "duration": 25,
    "start_time": "2023-08-13T06:10:03.374Z"
   },
   {
    "duration": 55,
    "start_time": "2023-08-13T06:10:03.412Z"
   },
   {
    "duration": 75,
    "start_time": "2023-08-13T06:10:03.469Z"
   },
   {
    "duration": 52,
    "start_time": "2023-08-13T06:10:03.546Z"
   },
   {
    "duration": 79,
    "start_time": "2023-08-13T06:10:03.599Z"
   },
   {
    "duration": 43,
    "start_time": "2023-08-13T06:10:03.680Z"
   },
   {
    "duration": 19,
    "start_time": "2023-08-13T06:10:03.725Z"
   },
   {
    "duration": 39,
    "start_time": "2023-08-13T06:10:03.746Z"
   },
   {
    "duration": 10,
    "start_time": "2023-08-13T06:10:03.787Z"
   },
   {
    "duration": 300,
    "start_time": "2023-08-13T06:10:03.799Z"
   },
   {
    "duration": 18,
    "start_time": "2023-08-13T06:10:04.114Z"
   },
   {
    "duration": 32,
    "start_time": "2023-08-13T06:10:04.134Z"
   },
   {
    "duration": 13,
    "start_time": "2023-08-13T06:10:04.168Z"
   },
   {
    "duration": 41,
    "start_time": "2023-08-13T06:10:04.183Z"
   },
   {
    "duration": 255,
    "start_time": "2023-08-13T06:10:04.226Z"
   },
   {
    "duration": 5,
    "start_time": "2023-08-13T06:10:04.482Z"
   },
   {
    "duration": 366,
    "start_time": "2023-08-13T06:10:04.488Z"
   },
   {
    "duration": 20,
    "start_time": "2023-08-13T06:10:04.856Z"
   },
   {
    "duration": 33,
    "start_time": "2023-08-13T06:10:04.877Z"
   },
   {
    "duration": 135,
    "start_time": "2023-08-13T06:10:04.912Z"
   },
   {
    "duration": 777,
    "start_time": "2023-08-13T06:10:05.049Z"
   },
   {
    "duration": 634,
    "start_time": "2023-08-13T06:10:05.828Z"
   },
   {
    "duration": 12,
    "start_time": "2023-08-13T06:10:06.464Z"
   },
   {
    "duration": 764,
    "start_time": "2023-08-13T06:10:06.478Z"
   },
   {
    "duration": 250,
    "start_time": "2023-08-13T06:10:07.247Z"
   },
   {
    "duration": 347,
    "start_time": "2023-08-13T06:10:07.499Z"
   },
   {
    "duration": 287,
    "start_time": "2023-08-13T06:10:07.847Z"
   },
   {
    "duration": 27,
    "start_time": "2023-08-13T06:10:08.135Z"
   },
   {
    "duration": 296,
    "start_time": "2023-08-13T06:10:08.164Z"
   },
   {
    "duration": 40,
    "start_time": "2023-08-13T06:10:08.462Z"
   },
   {
    "duration": 16,
    "start_time": "2023-08-13T06:10:08.504Z"
   },
   {
    "duration": 24,
    "start_time": "2023-08-13T06:10:08.522Z"
   },
   {
    "duration": 4,
    "start_time": "2023-08-13T06:13:10.169Z"
   },
   {
    "duration": 19,
    "start_time": "2023-08-13T06:13:10.175Z"
   },
   {
    "duration": 547,
    "start_time": "2023-08-13T06:13:10.195Z"
   },
   {
    "duration": 23,
    "start_time": "2023-08-13T06:13:10.744Z"
   },
   {
    "duration": 215,
    "start_time": "2023-08-13T06:13:10.769Z"
   },
   {
    "duration": 273,
    "start_time": "2023-08-13T06:13:10.986Z"
   },
   {
    "duration": 8,
    "start_time": "2023-08-13T06:13:11.261Z"
   },
   {
    "duration": 61,
    "start_time": "2023-08-13T06:13:11.270Z"
   },
   {
    "duration": 26,
    "start_time": "2023-08-13T06:13:11.332Z"
   },
   {
    "duration": 8,
    "start_time": "2023-08-13T06:13:11.359Z"
   },
   {
    "duration": 16,
    "start_time": "2023-08-13T06:13:11.369Z"
   },
   {
    "duration": 8,
    "start_time": "2023-08-13T06:13:11.387Z"
   },
   {
    "duration": 49,
    "start_time": "2023-08-13T06:13:11.399Z"
   },
   {
    "duration": 28,
    "start_time": "2023-08-13T06:13:11.450Z"
   },
   {
    "duration": 3,
    "start_time": "2023-08-13T06:13:11.480Z"
   },
   {
    "duration": 57,
    "start_time": "2023-08-13T06:13:11.485Z"
   },
   {
    "duration": 74,
    "start_time": "2023-08-13T06:13:11.543Z"
   },
   {
    "duration": 17,
    "start_time": "2023-08-13T06:13:11.619Z"
   },
   {
    "duration": 31,
    "start_time": "2023-08-13T06:13:11.638Z"
   },
   {
    "duration": 13,
    "start_time": "2023-08-13T06:13:11.670Z"
   },
   {
    "duration": 3,
    "start_time": "2023-08-13T06:13:11.685Z"
   },
   {
    "duration": 53,
    "start_time": "2023-08-13T06:13:11.689Z"
   },
   {
    "duration": 25,
    "start_time": "2023-08-13T06:13:11.743Z"
   },
   {
    "duration": 10,
    "start_time": "2023-08-13T06:13:11.769Z"
   },
   {
    "duration": 14,
    "start_time": "2023-08-13T06:13:11.780Z"
   },
   {
    "duration": 38,
    "start_time": "2023-08-13T06:13:11.795Z"
   },
   {
    "duration": 34,
    "start_time": "2023-08-13T06:13:11.835Z"
   },
   {
    "duration": 32,
    "start_time": "2023-08-13T06:13:11.873Z"
   },
   {
    "duration": 29,
    "start_time": "2023-08-13T06:13:11.906Z"
   },
   {
    "duration": 20,
    "start_time": "2023-08-13T06:13:11.937Z"
   },
   {
    "duration": 15,
    "start_time": "2023-08-13T06:13:11.958Z"
   },
   {
    "duration": 12,
    "start_time": "2023-08-13T06:13:11.975Z"
   },
   {
    "duration": 26,
    "start_time": "2023-08-13T06:13:11.989Z"
   },
   {
    "duration": 16,
    "start_time": "2023-08-13T06:13:12.018Z"
   },
   {
    "duration": 13,
    "start_time": "2023-08-13T06:13:12.035Z"
   },
   {
    "duration": 13,
    "start_time": "2023-08-13T06:13:12.050Z"
   },
   {
    "duration": 13,
    "start_time": "2023-08-13T06:13:12.064Z"
   },
   {
    "duration": 387,
    "start_time": "2023-08-13T06:13:12.079Z"
   },
   {
    "duration": 55,
    "start_time": "2023-08-13T06:13:12.468Z"
   },
   {
    "duration": 127,
    "start_time": "2023-08-13T06:13:12.524Z"
   },
   {
    "duration": 12,
    "start_time": "2023-08-13T06:13:12.655Z"
   },
   {
    "duration": 46,
    "start_time": "2023-08-13T06:13:12.668Z"
   },
   {
    "duration": 172,
    "start_time": "2023-08-13T06:13:12.716Z"
   },
   {
    "duration": 17,
    "start_time": "2023-08-13T06:13:12.890Z"
   },
   {
    "duration": 21,
    "start_time": "2023-08-13T06:13:12.913Z"
   },
   {
    "duration": 30,
    "start_time": "2023-08-13T06:13:12.936Z"
   },
   {
    "duration": 12,
    "start_time": "2023-08-13T06:13:12.967Z"
   },
   {
    "duration": 50,
    "start_time": "2023-08-13T06:13:12.980Z"
   },
   {
    "duration": 23,
    "start_time": "2023-08-13T06:13:13.032Z"
   },
   {
    "duration": 21,
    "start_time": "2023-08-13T06:13:13.057Z"
   },
   {
    "duration": 31,
    "start_time": "2023-08-13T06:13:13.080Z"
   },
   {
    "duration": 25,
    "start_time": "2023-08-13T06:13:13.113Z"
   },
   {
    "duration": 13,
    "start_time": "2023-08-13T06:13:13.140Z"
   },
   {
    "duration": 319,
    "start_time": "2023-08-13T06:13:13.154Z"
   },
   {
    "duration": 15,
    "start_time": "2023-08-13T06:13:13.475Z"
   },
   {
    "duration": 46,
    "start_time": "2023-08-13T06:13:13.500Z"
   },
   {
    "duration": 29,
    "start_time": "2023-08-13T06:13:13.547Z"
   },
   {
    "duration": 41,
    "start_time": "2023-08-13T06:13:13.578Z"
   },
   {
    "duration": 200,
    "start_time": "2023-08-13T06:13:13.620Z"
   },
   {
    "duration": 5,
    "start_time": "2023-08-13T06:13:13.821Z"
   },
   {
    "duration": 264,
    "start_time": "2023-08-13T06:13:13.828Z"
   },
   {
    "duration": 24,
    "start_time": "2023-08-13T06:13:14.105Z"
   },
   {
    "duration": 12,
    "start_time": "2023-08-13T06:13:14.131Z"
   },
   {
    "duration": 45,
    "start_time": "2023-08-13T06:13:14.144Z"
   },
   {
    "duration": 633,
    "start_time": "2023-08-13T06:13:14.191Z"
   },
   {
    "duration": 634,
    "start_time": "2023-08-13T06:13:14.825Z"
   },
   {
    "duration": 11,
    "start_time": "2023-08-13T06:13:15.461Z"
   },
   {
    "duration": 652,
    "start_time": "2023-08-13T06:13:15.473Z"
   },
   {
    "duration": 263,
    "start_time": "2023-08-13T06:13:16.126Z"
   },
   {
    "duration": 284,
    "start_time": "2023-08-13T06:13:16.391Z"
   },
   {
    "duration": 263,
    "start_time": "2023-08-13T06:13:16.677Z"
   },
   {
    "duration": 21,
    "start_time": "2023-08-13T06:13:16.942Z"
   },
   {
    "duration": 25,
    "start_time": "2023-08-13T06:13:16.965Z"
   },
   {
    "duration": 30,
    "start_time": "2023-08-13T06:13:16.992Z"
   },
   {
    "duration": 20,
    "start_time": "2023-08-13T06:13:17.023Z"
   },
   {
    "duration": 45,
    "start_time": "2023-08-13T06:13:17.044Z"
   },
   {
    "duration": 1201,
    "start_time": "2023-08-13T06:13:57.781Z"
   },
   {
    "duration": 4,
    "start_time": "2023-08-13T06:13:58.984Z"
   },
   {
    "duration": 549,
    "start_time": "2023-08-13T06:13:58.989Z"
   },
   {
    "duration": 27,
    "start_time": "2023-08-13T06:13:59.540Z"
   },
   {
    "duration": 206,
    "start_time": "2023-08-13T06:13:59.569Z"
   },
   {
    "duration": 304,
    "start_time": "2023-08-13T06:13:59.777Z"
   },
   {
    "duration": 5,
    "start_time": "2023-08-13T06:14:00.083Z"
   },
   {
    "duration": 87,
    "start_time": "2023-08-13T06:14:00.089Z"
   },
   {
    "duration": 34,
    "start_time": "2023-08-13T06:14:00.178Z"
   },
   {
    "duration": 4,
    "start_time": "2023-08-13T06:14:00.215Z"
   },
   {
    "duration": 29,
    "start_time": "2023-08-13T06:14:00.220Z"
   },
   {
    "duration": 27,
    "start_time": "2023-08-13T06:14:00.250Z"
   },
   {
    "duration": 98,
    "start_time": "2023-08-13T06:14:00.278Z"
   },
   {
    "duration": 19,
    "start_time": "2023-08-13T06:14:00.378Z"
   },
   {
    "duration": 42,
    "start_time": "2023-08-13T06:14:00.398Z"
   },
   {
    "duration": 77,
    "start_time": "2023-08-13T06:14:00.441Z"
   },
   {
    "duration": 95,
    "start_time": "2023-08-13T06:14:00.520Z"
   },
   {
    "duration": 18,
    "start_time": "2023-08-13T06:14:00.616Z"
   },
   {
    "duration": 54,
    "start_time": "2023-08-13T06:14:00.635Z"
   },
   {
    "duration": 29,
    "start_time": "2023-08-13T06:14:00.690Z"
   },
   {
    "duration": 14,
    "start_time": "2023-08-13T06:14:00.720Z"
   },
   {
    "duration": 39,
    "start_time": "2023-08-13T06:14:00.736Z"
   },
   {
    "duration": 49,
    "start_time": "2023-08-13T06:14:00.776Z"
   },
   {
    "duration": 61,
    "start_time": "2023-08-13T06:14:00.827Z"
   },
   {
    "duration": 62,
    "start_time": "2023-08-13T06:14:00.890Z"
   },
   {
    "duration": 24,
    "start_time": "2023-08-13T06:14:00.954Z"
   },
   {
    "duration": 61,
    "start_time": "2023-08-13T06:14:00.979Z"
   },
   {
    "duration": 33,
    "start_time": "2023-08-13T06:14:01.043Z"
   },
   {
    "duration": 63,
    "start_time": "2023-08-13T06:14:01.078Z"
   },
   {
    "duration": 43,
    "start_time": "2023-08-13T06:14:01.142Z"
   },
   {
    "duration": 41,
    "start_time": "2023-08-13T06:14:01.186Z"
   },
   {
    "duration": 35,
    "start_time": "2023-08-13T06:14:01.228Z"
   },
   {
    "duration": 48,
    "start_time": "2023-08-13T06:14:01.264Z"
   },
   {
    "duration": 47,
    "start_time": "2023-08-13T06:14:01.316Z"
   },
   {
    "duration": 54,
    "start_time": "2023-08-13T06:14:01.365Z"
   },
   {
    "duration": 72,
    "start_time": "2023-08-13T06:14:01.421Z"
   },
   {
    "duration": 66,
    "start_time": "2023-08-13T06:14:01.495Z"
   },
   {
    "duration": 374,
    "start_time": "2023-08-13T06:14:01.563Z"
   },
   {
    "duration": 33,
    "start_time": "2023-08-13T06:14:01.938Z"
   },
   {
    "duration": 151,
    "start_time": "2023-08-13T06:14:01.973Z"
   },
   {
    "duration": 11,
    "start_time": "2023-08-13T06:14:02.126Z"
   },
   {
    "duration": 89,
    "start_time": "2023-08-13T06:14:02.138Z"
   },
   {
    "duration": 229,
    "start_time": "2023-08-13T06:14:02.228Z"
   },
   {
    "duration": 9,
    "start_time": "2023-08-13T06:14:02.459Z"
   },
   {
    "duration": 53,
    "start_time": "2023-08-13T06:14:02.470Z"
   },
   {
    "duration": 48,
    "start_time": "2023-08-13T06:14:02.525Z"
   },
   {
    "duration": 13,
    "start_time": "2023-08-13T06:14:02.575Z"
   },
   {
    "duration": 75,
    "start_time": "2023-08-13T06:14:02.589Z"
   },
   {
    "duration": 28,
    "start_time": "2023-08-13T06:14:02.666Z"
   },
   {
    "duration": 52,
    "start_time": "2023-08-13T06:14:02.696Z"
   },
   {
    "duration": 15,
    "start_time": "2023-08-13T06:14:02.750Z"
   },
   {
    "duration": 40,
    "start_time": "2023-08-13T06:14:02.766Z"
   },
   {
    "duration": 58,
    "start_time": "2023-08-13T06:14:02.807Z"
   },
   {
    "duration": 360,
    "start_time": "2023-08-13T06:14:02.867Z"
   },
   {
    "duration": 11,
    "start_time": "2023-08-13T06:14:03.229Z"
   },
   {
    "duration": 35,
    "start_time": "2023-08-13T06:14:03.241Z"
   },
   {
    "duration": 43,
    "start_time": "2023-08-13T06:14:03.277Z"
   },
   {
    "duration": 63,
    "start_time": "2023-08-13T06:14:03.322Z"
   },
   {
    "duration": 198,
    "start_time": "2023-08-13T06:14:03.386Z"
   },
   {
    "duration": 5,
    "start_time": "2023-08-13T06:14:03.586Z"
   },
   {
    "duration": 345,
    "start_time": "2023-08-13T06:14:03.605Z"
   },
   {
    "duration": 19,
    "start_time": "2023-08-13T06:14:03.951Z"
   },
   {
    "duration": 12,
    "start_time": "2023-08-13T06:14:03.971Z"
   },
   {
    "duration": 113,
    "start_time": "2023-08-13T06:14:04.005Z"
   },
   {
    "duration": 605,
    "start_time": "2023-08-13T06:14:04.119Z"
   },
   {
    "duration": 534,
    "start_time": "2023-08-13T06:14:04.725Z"
   },
   {
    "duration": 10,
    "start_time": "2023-08-13T06:14:05.260Z"
   },
   {
    "duration": 747,
    "start_time": "2023-08-13T06:14:05.272Z"
   },
   {
    "duration": 342,
    "start_time": "2023-08-13T06:14:06.021Z"
   },
   {
    "duration": 270,
    "start_time": "2023-08-13T06:14:06.365Z"
   },
   {
    "duration": 301,
    "start_time": "2023-08-13T06:14:06.637Z"
   },
   {
    "duration": 24,
    "start_time": "2023-08-13T06:14:06.940Z"
   },
   {
    "duration": 233,
    "start_time": "2023-08-13T06:14:06.966Z"
   },
   {
    "duration": 15,
    "start_time": "2023-08-13T06:14:07.214Z"
   },
   {
    "duration": 6,
    "start_time": "2023-08-13T06:14:07.231Z"
   },
   {
    "duration": 23,
    "start_time": "2023-08-13T06:14:07.238Z"
   },
   {
    "duration": 1287,
    "start_time": "2023-08-13T11:16:36.488Z"
   },
   {
    "duration": 5,
    "start_time": "2023-08-13T11:16:37.777Z"
   },
   {
    "duration": 656,
    "start_time": "2023-08-13T11:16:37.783Z"
   },
   {
    "duration": 35,
    "start_time": "2023-08-13T11:16:38.441Z"
   },
   {
    "duration": 282,
    "start_time": "2023-08-13T11:16:38.477Z"
   },
   {
    "duration": 413,
    "start_time": "2023-08-13T11:16:38.762Z"
   },
   {
    "duration": 7,
    "start_time": "2023-08-13T11:16:39.177Z"
   },
   {
    "duration": 77,
    "start_time": "2023-08-13T11:16:39.186Z"
   },
   {
    "duration": 24,
    "start_time": "2023-08-13T11:16:39.265Z"
   },
   {
    "duration": 8,
    "start_time": "2023-08-13T11:16:39.292Z"
   },
   {
    "duration": 5,
    "start_time": "2023-08-13T11:16:39.302Z"
   },
   {
    "duration": 7,
    "start_time": "2023-08-13T11:16:39.309Z"
   },
   {
    "duration": 52,
    "start_time": "2023-08-13T11:16:39.317Z"
   },
   {
    "duration": 19,
    "start_time": "2023-08-13T11:16:39.370Z"
   },
   {
    "duration": 32,
    "start_time": "2023-08-13T11:16:39.390Z"
   },
   {
    "duration": 142,
    "start_time": "2023-08-13T11:16:39.425Z"
   },
   {
    "duration": 241,
    "start_time": "2023-08-13T11:16:39.568Z"
   },
   {
    "duration": 21,
    "start_time": "2023-08-13T11:16:39.810Z"
   },
   {
    "duration": 67,
    "start_time": "2023-08-13T11:16:39.833Z"
   },
   {
    "duration": 11,
    "start_time": "2023-08-13T11:16:39.902Z"
   },
   {
    "duration": 10,
    "start_time": "2023-08-13T11:16:39.915Z"
   },
   {
    "duration": 24,
    "start_time": "2023-08-13T11:16:39.927Z"
   },
   {
    "duration": 30,
    "start_time": "2023-08-13T11:16:39.953Z"
   },
   {
    "duration": 5,
    "start_time": "2023-08-13T11:16:39.985Z"
   },
   {
    "duration": 8,
    "start_time": "2023-08-13T11:16:39.992Z"
   },
   {
    "duration": 8,
    "start_time": "2023-08-13T11:16:40.001Z"
   },
   {
    "duration": 12,
    "start_time": "2023-08-13T11:16:40.010Z"
   },
   {
    "duration": 10,
    "start_time": "2023-08-13T11:16:40.026Z"
   },
   {
    "duration": 20,
    "start_time": "2023-08-13T11:16:40.037Z"
   },
   {
    "duration": 8,
    "start_time": "2023-08-13T11:16:40.059Z"
   },
   {
    "duration": 28,
    "start_time": "2023-08-13T11:16:40.069Z"
   },
   {
    "duration": 6,
    "start_time": "2023-08-13T11:16:40.099Z"
   },
   {
    "duration": 5,
    "start_time": "2023-08-13T11:16:40.106Z"
   },
   {
    "duration": 10,
    "start_time": "2023-08-13T11:16:40.112Z"
   },
   {
    "duration": 21,
    "start_time": "2023-08-13T11:16:40.124Z"
   },
   {
    "duration": 12,
    "start_time": "2023-08-13T11:16:40.146Z"
   },
   {
    "duration": 13,
    "start_time": "2023-08-13T11:16:40.160Z"
   },
   {
    "duration": 371,
    "start_time": "2023-08-13T11:16:40.175Z"
   },
   {
    "duration": 38,
    "start_time": "2023-08-13T11:16:40.548Z"
   },
   {
    "duration": 147,
    "start_time": "2023-08-13T11:16:40.588Z"
   },
   {
    "duration": 12,
    "start_time": "2023-08-13T11:16:40.737Z"
   },
   {
    "duration": 35,
    "start_time": "2023-08-13T11:16:40.757Z"
   },
   {
    "duration": 211,
    "start_time": "2023-08-13T11:16:40.794Z"
   },
   {
    "duration": 9,
    "start_time": "2023-08-13T11:16:41.007Z"
   },
   {
    "duration": 9,
    "start_time": "2023-08-13T11:16:41.018Z"
   },
   {
    "duration": 32,
    "start_time": "2023-08-13T11:16:41.029Z"
   },
   {
    "duration": 4,
    "start_time": "2023-08-13T11:16:41.062Z"
   },
   {
    "duration": 18,
    "start_time": "2023-08-13T11:16:41.067Z"
   },
   {
    "duration": 17,
    "start_time": "2023-08-13T11:16:41.087Z"
   },
   {
    "duration": 19,
    "start_time": "2023-08-13T11:16:41.106Z"
   },
   {
    "duration": 39,
    "start_time": "2023-08-13T11:16:41.127Z"
   },
   {
    "duration": 21,
    "start_time": "2023-08-13T11:16:41.168Z"
   },
   {
    "duration": 12,
    "start_time": "2023-08-13T11:16:41.190Z"
   },
   {
    "duration": 297,
    "start_time": "2023-08-13T11:16:41.204Z"
   },
   {
    "duration": 14,
    "start_time": "2023-08-13T11:16:41.503Z"
   },
   {
    "duration": 13,
    "start_time": "2023-08-13T11:16:41.519Z"
   },
   {
    "duration": 25,
    "start_time": "2023-08-13T11:16:41.534Z"
   },
   {
    "duration": 20,
    "start_time": "2023-08-13T11:16:41.561Z"
   },
   {
    "duration": 215,
    "start_time": "2023-08-13T11:16:41.583Z"
   },
   {
    "duration": 5,
    "start_time": "2023-08-13T11:16:41.800Z"
   },
   {
    "duration": 336,
    "start_time": "2023-08-13T11:16:41.807Z"
   },
   {
    "duration": 28,
    "start_time": "2023-08-13T11:16:42.145Z"
   },
   {
    "duration": 14,
    "start_time": "2023-08-13T11:16:42.175Z"
   },
   {
    "duration": 140,
    "start_time": "2023-08-13T11:16:42.191Z"
   },
   {
    "duration": 693,
    "start_time": "2023-08-13T11:16:42.333Z"
   },
   {
    "duration": 608,
    "start_time": "2023-08-13T11:16:43.027Z"
   },
   {
    "duration": 19,
    "start_time": "2023-08-13T11:16:43.637Z"
   },
   {
    "duration": 743,
    "start_time": "2023-08-13T11:16:43.658Z"
   },
   {
    "duration": 264,
    "start_time": "2023-08-13T11:16:44.403Z"
   },
   {
    "duration": 277,
    "start_time": "2023-08-13T11:16:44.668Z"
   },
   {
    "duration": 285,
    "start_time": "2023-08-13T11:16:44.947Z"
   },
   {
    "duration": 31,
    "start_time": "2023-08-13T11:16:45.233Z"
   },
   {
    "duration": 974,
    "start_time": "2023-08-13T11:16:45.266Z"
   },
   {
    "duration": 15,
    "start_time": "2023-08-13T11:16:46.241Z"
   },
   {
    "duration": 6,
    "start_time": "2023-08-13T11:16:46.257Z"
   },
   {
    "duration": 17,
    "start_time": "2023-08-13T11:16:46.265Z"
   },
   {
    "duration": 4,
    "start_time": "2023-08-13T11:16:57.765Z"
   }
  ],
  "kernelspec": {
   "display_name": "Python 3 (ipykernel)",
   "language": "python",
   "name": "python3"
  },
  "language_info": {
   "codemirror_mode": {
    "name": "ipython",
    "version": 3
   },
   "file_extension": ".py",
   "mimetype": "text/x-python",
   "name": "python",
   "nbconvert_exporter": "python",
   "pygments_lexer": "ipython3",
   "version": "3.9.12"
  },
  "toc": {
   "base_numbering": 1,
   "nav_menu": {},
   "number_sections": true,
   "sideBar": true,
   "skip_h1_title": true,
   "title_cell": "Table of Contents",
   "title_sidebar": "Contents",
   "toc_cell": false,
   "toc_position": {
    "height": "calc(100% - 180px)",
    "left": "10px",
    "top": "150px",
    "width": "257px"
   },
   "toc_section_display": true,
   "toc_window_display": true
  }
 },
 "nbformat": 4,
 "nbformat_minor": 2
}
