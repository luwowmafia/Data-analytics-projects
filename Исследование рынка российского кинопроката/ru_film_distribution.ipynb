{
 "cells": [
  {
   "cell_type": "markdown",
   "metadata": {
    "id": "sIfNaMOxgFyK"
   },
   "source": [
    "## Исследование данных о российском кинопрокате\n",
    "\n"
   ]
  },
  {
   "cell_type": "markdown",
   "metadata": {},
   "source": [
    "Заказчик этого исследования — Министерство культуры Российской Федерации.\n",
    "Необходимо изучить рынок российского кинопроката и выявить текущие тренды; уделить внимание фильмам, которые получили государственную поддержку; ответить на вопрос, насколько такие фильмы интересны зрителю.\n",
    "Набор данных содержит информацию о прокатных удостоверениях, сборах и государственной поддержке фильмов, а также информацию с сайта КиноПоиск, данные опубликованны на портале открытых данных Министерства культуры."
   ]
  },
  {
   "cell_type": "code",
   "execution_count": 2,
   "metadata": {},
   "outputs": [
    {
     "name": "stdout",
     "output_type": "stream",
     "text": [
      "<class 'pandas.core.frame.DataFrame'>\n",
      "RangeIndex: 3158 entries, 0 to 3157\n",
      "Data columns (total 2 columns):\n",
      " #   Column      Non-Null Count  Dtype  \n",
      "---  ------      --------------  -----  \n",
      " 0   puNumber    3158 non-null   int64  \n",
      " 1   box_office  3158 non-null   float64\n",
      "dtypes: float64(1), int64(1)\n",
      "memory usage: 49.5 KB\n"
     ]
    }
   ],
   "source": [
    "# датафрейм с данными о прокатных удостоверениях\n",
    "mkrf_shows.info()"
   ]
  },
  {
   "cell_type": "code",
   "execution_count": 3,
   "metadata": {},
   "outputs": [
    {
     "name": "stdout",
     "output_type": "stream",
     "text": [
      "<class 'pandas.core.frame.DataFrame'>\n",
      "RangeIndex: 7486 entries, 0 to 7485\n",
      "Data columns (total 15 columns):\n",
      " #   Column                 Non-Null Count  Dtype  \n",
      "---  ------                 --------------  -----  \n",
      " 0   title                  7486 non-null   object \n",
      " 1   puNumber               7486 non-null   object \n",
      " 2   show_start_date        7486 non-null   object \n",
      " 3   type                   7486 non-null   object \n",
      " 4   film_studio            7468 non-null   object \n",
      " 5   production_country     7484 non-null   object \n",
      " 6   director               7477 non-null   object \n",
      " 7   producer               6918 non-null   object \n",
      " 8   age_restriction        7486 non-null   object \n",
      " 9   refundable_support     332 non-null    float64\n",
      " 10  nonrefundable_support  332 non-null    float64\n",
      " 11  budget                 332 non-null    float64\n",
      " 12  financing_source       332 non-null    object \n",
      " 13  ratings                6519 non-null   object \n",
      " 14  genres                 6510 non-null   object \n",
      "dtypes: float64(3), object(12)\n",
      "memory usage: 877.4+ KB\n"
     ]
    }
   ],
   "source": [
    "# mkrf_shows - датафрейм с данными о прокатах в российских кинотеатрах\n",
    "mkrf_movies.info()"
   ]
  },
  {
   "cell_type": "markdown",
   "metadata": {},
   "source": [
    "<div class=\"alert alert-block alert-info\">Необходимо объединить два датафрейса по столбцу <b>puNumber</b>, однако этот столбец имеет тип данных <i>int64</i> в mkrf_shows и <i>object</i> в mkrf_movies. Если тип <i>int64</i> не вызывает беспокойств, то тип  <i>object</i> может содержать какие угодно строковые значения, как цифры, так и символы. \n",
    "</div>"
   ]
  },
  {
   "cell_type": "code",
   "execution_count": 4,
   "metadata": {},
   "outputs": [
    {
     "name": "stdout",
     "output_type": "stream",
     "text": [
      "Нецифровое значение:\"нет\"\n"
     ]
    }
   ],
   "source": [
    "# найдем в списке уникальных значений для столбца puNumber те значения, которые содержат не только цифры\n",
    "for num in mkrf_movies['puNumber'].unique():\n",
    "    if num.isalpha():\n",
    "        print(f'Нецифровое значение:\"{num}\"')"
   ]
  },
  {
   "cell_type": "markdown",
   "metadata": {},
   "source": [
    "<div class=\"alert alert-block alert-info\">Преобразуем \"нет\" - в 0, а остальные значения -  в тип <i>int64</i></div>"
   ]
  },
  {
   "cell_type": "code",
   "execution_count": 5,
   "metadata": {},
   "outputs": [],
   "source": [
    "# замена значения \"нет\" на нуль\n",
    "mkrf_movies.loc[mkrf_movies['puNumber'] == 'нет'] = 0\n",
    "\n",
    "# замена строковых значений на тип int64 для совпадения типа столбцов в двух датафреймах\n",
    "mkrf_movies['puNumber'] = mkrf_movies['puNumber'].astype('int64')"
   ]
  },
  {
   "cell_type": "markdown",
   "metadata": {},
   "source": [
    "<div class=\"alert alert-block alert-info\">Объединим датафреймы mkrf_movies и mkrf_shows в новый датафрейм data и выведем последние 5 строчек</div>"
   ]
  },
  {
   "cell_type": "code",
   "execution_count": 6,
   "metadata": {},
   "outputs": [
    {
     "data": {
      "text/html": [
       "<div>\n",
       "<style scoped>\n",
       "    .dataframe tbody tr th:only-of-type {\n",
       "        vertical-align: middle;\n",
       "    }\n",
       "\n",
       "    .dataframe tbody tr th {\n",
       "        vertical-align: top;\n",
       "    }\n",
       "\n",
       "    .dataframe thead th {\n",
       "        text-align: right;\n",
       "    }\n",
       "</style>\n",
       "<table border=\"1\" class=\"dataframe\">\n",
       "  <thead>\n",
       "    <tr style=\"text-align: right;\">\n",
       "      <th></th>\n",
       "      <th>title</th>\n",
       "      <th>puNumber</th>\n",
       "      <th>show_start_date</th>\n",
       "      <th>type</th>\n",
       "      <th>film_studio</th>\n",
       "      <th>production_country</th>\n",
       "      <th>director</th>\n",
       "      <th>producer</th>\n",
       "      <th>age_restriction</th>\n",
       "      <th>refundable_support</th>\n",
       "      <th>nonrefundable_support</th>\n",
       "      <th>budget</th>\n",
       "      <th>financing_source</th>\n",
       "      <th>ratings</th>\n",
       "      <th>genres</th>\n",
       "      <th>box_office</th>\n",
       "    </tr>\n",
       "  </thead>\n",
       "  <tbody>\n",
       "    <tr>\n",
       "      <th>7481</th>\n",
       "      <td>Сад художника: Американский импрессионизм</td>\n",
       "      <td>126008019</td>\n",
       "      <td>2019-12-23T12:00:00.000Z</td>\n",
       "      <td>Прочие</td>\n",
       "      <td>Севен Артс Продакшнз</td>\n",
       "      <td>Великобритания</td>\n",
       "      <td>Фил Грабски</td>\n",
       "      <td>Фил Грабски</td>\n",
       "      <td>«12+» - для детей старше 12 лет</td>\n",
       "      <td>NaN</td>\n",
       "      <td>NaN</td>\n",
       "      <td>NaN</td>\n",
       "      <td>NaN</td>\n",
       "      <td>NaN</td>\n",
       "      <td>NaN</td>\n",
       "      <td>NaN</td>\n",
       "    </tr>\n",
       "    <tr>\n",
       "      <th>7482</th>\n",
       "      <td>Звериная ярость</td>\n",
       "      <td>121037819</td>\n",
       "      <td>2019-12-24T12:00:00.000Z</td>\n",
       "      <td>Художественный</td>\n",
       "      <td>Дэниел Гродник Продакшнз, Вандерфилм Медиа Кор...</td>\n",
       "      <td>США</td>\n",
       "      <td>Ник Пауэлл</td>\n",
       "      <td>Джефф Боулер, Дэниэл Гродник, Луильо Руис, Брэ...</td>\n",
       "      <td>«16+» - для детей старше 16 лет</td>\n",
       "      <td>NaN</td>\n",
       "      <td>NaN</td>\n",
       "      <td>NaN</td>\n",
       "      <td>NaN</td>\n",
       "      <td>5.4</td>\n",
       "      <td>боевик,триллер</td>\n",
       "      <td>NaN</td>\n",
       "    </tr>\n",
       "    <tr>\n",
       "      <th>7483</th>\n",
       "      <td>Щенячий патруль: Скорей спешим на помощь!</td>\n",
       "      <td>124010819</td>\n",
       "      <td>2019-12-28T12:00:00.000Z</td>\n",
       "      <td>Художественный</td>\n",
       "      <td>Никелодеон Анимейшн Студиос, Спин Мастер</td>\n",
       "      <td>США - Канада</td>\n",
       "      <td>Чарльз Е.Бастьен</td>\n",
       "      <td>Дженнифер Додж</td>\n",
       "      <td>«0+» - для любой зрительской аудитории</td>\n",
       "      <td>NaN</td>\n",
       "      <td>NaN</td>\n",
       "      <td>NaN</td>\n",
       "      <td>NaN</td>\n",
       "      <td>NaN</td>\n",
       "      <td>NaN</td>\n",
       "      <td>NaN</td>\n",
       "    </tr>\n",
       "    <tr>\n",
       "      <th>7484</th>\n",
       "      <td>Машины песенки. Серия \"Испанские мотивы\"</td>\n",
       "      <td>124010619</td>\n",
       "      <td>2019-12-30T12:00:00.000Z</td>\n",
       "      <td>Анимационный</td>\n",
       "      <td>Анимаккорд Лтд., ООО Студия \"АНИМАККОРД\"</td>\n",
       "      <td>Республика Кипр, Россия</td>\n",
       "      <td>А.Беляев</td>\n",
       "      <td>Д.Ловейко</td>\n",
       "      <td>«0+» - для любой зрительской аудитории</td>\n",
       "      <td>NaN</td>\n",
       "      <td>NaN</td>\n",
       "      <td>NaN</td>\n",
       "      <td>NaN</td>\n",
       "      <td>NaN</td>\n",
       "      <td>NaN</td>\n",
       "      <td>NaN</td>\n",
       "    </tr>\n",
       "    <tr>\n",
       "      <th>7485</th>\n",
       "      <td>Машины песенки. Серия \"Когда цветут кактусы\"</td>\n",
       "      <td>124010719</td>\n",
       "      <td>2019-12-30T12:00:00.000Z</td>\n",
       "      <td>Анимационный</td>\n",
       "      <td>Анимаккорд Лтд., ООО Студия \"АНИМАККОРД\"</td>\n",
       "      <td>Республика Кипр, Россия</td>\n",
       "      <td>И.Трусов</td>\n",
       "      <td>Д.Ловейко</td>\n",
       "      <td>«0+» - для любой зрительской аудитории</td>\n",
       "      <td>NaN</td>\n",
       "      <td>NaN</td>\n",
       "      <td>NaN</td>\n",
       "      <td>NaN</td>\n",
       "      <td>6.3</td>\n",
       "      <td>комедия,вестерн</td>\n",
       "      <td>NaN</td>\n",
       "    </tr>\n",
       "  </tbody>\n",
       "</table>\n",
       "</div>"
      ],
      "text/plain": [
       "                                             title   puNumber  \\\n",
       "7481     Сад художника: Американский импрессионизм  126008019   \n",
       "7482                               Звериная ярость  121037819   \n",
       "7483     Щенячий патруль: Скорей спешим на помощь!  124010819   \n",
       "7484      Машины песенки. Серия \"Испанские мотивы\"  124010619   \n",
       "7485  Машины песенки. Серия \"Когда цветут кактусы\"  124010719   \n",
       "\n",
       "               show_start_date             type  \\\n",
       "7481  2019-12-23T12:00:00.000Z           Прочие   \n",
       "7482  2019-12-24T12:00:00.000Z   Художественный   \n",
       "7483  2019-12-28T12:00:00.000Z   Художественный   \n",
       "7484  2019-12-30T12:00:00.000Z     Анимационный   \n",
       "7485  2019-12-30T12:00:00.000Z     Анимационный   \n",
       "\n",
       "                                            film_studio  \\\n",
       "7481                               Севен Артс Продакшнз   \n",
       "7482  Дэниел Гродник Продакшнз, Вандерфилм Медиа Кор...   \n",
       "7483           Никелодеон Анимейшн Студиос, Спин Мастер   \n",
       "7484           Анимаккорд Лтд., ООО Студия \"АНИМАККОРД\"   \n",
       "7485           Анимаккорд Лтд., ООО Студия \"АНИМАККОРД\"   \n",
       "\n",
       "           production_country          director  \\\n",
       "7481           Великобритания       Фил Грабски   \n",
       "7482                      США        Ник Пауэлл   \n",
       "7483             США - Канада  Чарльз Е.Бастьен   \n",
       "7484  Республика Кипр, Россия          А.Беляев   \n",
       "7485  Республика Кипр, Россия          И.Трусов   \n",
       "\n",
       "                                               producer  \\\n",
       "7481                                        Фил Грабски   \n",
       "7482  Джефф Боулер, Дэниэл Гродник, Луильо Руис, Брэ...   \n",
       "7483                                     Дженнифер Додж   \n",
       "7484                                          Д.Ловейко   \n",
       "7485                                          Д.Ловейко   \n",
       "\n",
       "                             age_restriction  refundable_support  \\\n",
       "7481         «12+» - для детей старше 12 лет                 NaN   \n",
       "7482         «16+» - для детей старше 16 лет                 NaN   \n",
       "7483  «0+» - для любой зрительской аудитории                 NaN   \n",
       "7484  «0+» - для любой зрительской аудитории                 NaN   \n",
       "7485  «0+» - для любой зрительской аудитории                 NaN   \n",
       "\n",
       "      nonrefundable_support  budget financing_source ratings           genres  \\\n",
       "7481                    NaN     NaN              NaN     NaN              NaN   \n",
       "7482                    NaN     NaN              NaN     5.4   боевик,триллер   \n",
       "7483                    NaN     NaN              NaN     NaN              NaN   \n",
       "7484                    NaN     NaN              NaN     NaN              NaN   \n",
       "7485                    NaN     NaN              NaN     6.3  комедия,вестерн   \n",
       "\n",
       "      box_office  \n",
       "7481         NaN  \n",
       "7482         NaN  \n",
       "7483         NaN  \n",
       "7484         NaN  \n",
       "7485         NaN  "
      ]
     },
     "execution_count": 6,
     "metadata": {},
     "output_type": "execute_result"
    }
   ],
   "source": [
    "data = mkrf_movies.merge(mkrf_shows, how='left')\n",
    "data.tail(5)"
   ]
  },
  {
   "cell_type": "markdown",
   "metadata": {},
   "source": [
    "<div class=\"alert alert-block alert-info\"><b>Вывод :</b>\n",
    "    <p>Файлы с данными были объединены в датафрейм data по полю puNumber, который был приведен к одинаковому типу в разных датасетах"
   ]
  },
  {
   "cell_type": "markdown",
   "metadata": {
    "id": "KLDGpPG0gFyM"
   },
   "source": [
    "### Шаг 2. Предобработка данных"
   ]
  },
  {
   "cell_type": "markdown",
   "metadata": {
    "id": "ssWwKXsxgFyO"
   },
   "source": [
    "#### Шаг 2.1. Проверьте типы данных\n",
    "\n",
    "- Проверьте типы данных в датафрейме и преобразуйте их там, где это необходимо."
   ]
  },
  {
   "cell_type": "markdown",
   "metadata": {},
   "source": [
    "<div class=\"alert alert-block alert-info\">Вывод основной информации о датафрейме data (использование метода info()) </div>"
   ]
  },
  {
   "cell_type": "code",
   "execution_count": 7,
   "metadata": {
    "id": "kVGSplJOgFyO"
   },
   "outputs": [
    {
     "name": "stdout",
     "output_type": "stream",
     "text": [
      "<class 'pandas.core.frame.DataFrame'>\n",
      "Int64Index: 7486 entries, 0 to 7485\n",
      "Data columns (total 16 columns):\n",
      " #   Column                 Non-Null Count  Dtype  \n",
      "---  ------                 --------------  -----  \n",
      " 0   title                  7486 non-null   object \n",
      " 1   puNumber               7486 non-null   int64  \n",
      " 2   show_start_date        7486 non-null   object \n",
      " 3   type                   7486 non-null   object \n",
      " 4   film_studio            7468 non-null   object \n",
      " 5   production_country     7484 non-null   object \n",
      " 6   director               7477 non-null   object \n",
      " 7   producer               6918 non-null   object \n",
      " 8   age_restriction        7486 non-null   object \n",
      " 9   refundable_support     333 non-null    float64\n",
      " 10  nonrefundable_support  333 non-null    float64\n",
      " 11  budget                 333 non-null    float64\n",
      " 12  financing_source       333 non-null    object \n",
      " 13  ratings                6520 non-null   object \n",
      " 14  genres                 6511 non-null   object \n",
      " 15  box_office             3158 non-null   float64\n",
      "dtypes: float64(4), int64(1), object(11)\n",
      "memory usage: 994.2+ KB\n"
     ]
    }
   ],
   "source": [
    "data.info()"
   ]
  },
  {
   "cell_type": "markdown",
   "metadata": {},
   "source": [
    "<div class=\"alert alert-block alert-info\">В столбце <b>show_start_date</b> преобразуем дату в формат '%Y-%m-%d'\n",
    "<p>Столбцы <b>refundable_suppor, nonrefundable_support, budget, box_office</b> - выразим в млн. рублей</div>"
   ]
  },
  {
   "cell_type": "code",
   "execution_count": 8,
   "metadata": {},
   "outputs": [],
   "source": [
    "# преобразование столбца show_start_date в формат '%Y-%m-%d'\n",
    "data['show_start_date'] = pd.to_datetime(data['show_start_date']).dt.date\n",
    "data['show_start_date'] = pd.to_datetime(data['show_start_date'])\n",
    "\n",
    "# столбцы, содержащие денежные значения, выразим в млн. руб.\n",
    "data['refundable_support'] = data['refundable_support'] / 1_000_000\n",
    "data['nonrefundable_support'] = data['nonrefundable_support'] / 1_000_000\n",
    "data['budget'] = data['budget'] / 1_000_000\n",
    "data['box_office'] = data['box_office'] / 1_000_000\n",
    "\n",
    "# замена буквы ё на е\n",
    "data['title'] = data['title'].str.replace('ё', 'е')\n",
    "data['director'] = data['director'].str.replace('ё', 'е')\n",
    "data['film_studio'] = data['film_studio'].str.replace('ё', 'е')\n",
    "data['producer'] = data['producer'].str.replace('ё', 'е')\n",
    "data['production_country'] = data['production_country'].str.replace('ё', 'е')"
   ]
  },
  {
   "cell_type": "markdown",
   "metadata": {},
   "source": [
    "<div class=\"alert alert-block alert-info\">В столбце <b>'ratings'</b> тип данных object преобразуем во float64, однако там есть аномальные значения, например, '99%', удалим знак % и значения, большие 10 разделим на 10</div>"
   ]
  },
  {
   "cell_type": "code",
   "execution_count": 9,
   "metadata": {},
   "outputs": [
    {
     "data": {
      "text/plain": [
       "array(['7.2', '6.6', '6.8', '7.7', '8.3', '8.0', '7.8', '8.1', '7.1',\n",
       "       '6.0', '7.4', '5.8', '8.7', '6.3', '6.9', '5.0', '4.3', '7.3',\n",
       "       '7.0', '6.4', nan, '8.2', '7.5', '6.7', '7.9', '5.9', '6.2', '5.6',\n",
       "       '6.5', '2.4', '7.6', '6.1', '8.6', '8.5', '8.8', '5.5', '5.1',\n",
       "       '5.7', '5.4', '99%', '4.4', '4.5', '5.3', '4.1', '8.4', '2.6',\n",
       "       '3.8', '4.6', '4.8', '4.0', '3.0', '1.6', '4.2', '5.2', '4.7',\n",
       "       '4.9', '3.9', '2.7', '3.3', '2.9', '28%', '3.7', '1.4', '3.1',\n",
       "       '97%', '3.5', '3.2', '2.8', '1.5', '2.1', '2.5', '9.2', '3.4',\n",
       "       '1.1', 0, '3.6', '83%', '64%', '91%', '94%', '62%', '79%', '90%',\n",
       "       '19%', '88%', '1.0', '89%', '1.3', '1.9', '1.8', '1.2', '1.7',\n",
       "       '9.0', '98%', '8.9', '9.1'], dtype=object)"
      ]
     },
     "execution_count": 9,
     "metadata": {},
     "output_type": "execute_result"
    }
   ],
   "source": [
    "# список уникальных значений в столбце 'ratings\"\n",
    "data['ratings'].unique()"
   ]
  },
  {
   "cell_type": "code",
   "execution_count": 10,
   "metadata": {},
   "outputs": [],
   "source": [
    "# замена  % на ничего\n",
    "data['ratings'] = data['ratings'].str.replace('%', '')"
   ]
  },
  {
   "cell_type": "code",
   "execution_count": 12,
   "metadata": {},
   "outputs": [
    {
     "data": {
      "text/plain": [
       "count   6519.000\n",
       "mean       6.488\n",
       "std        1.115\n",
       "min        1.000\n",
       "25%        5.900\n",
       "50%        6.600\n",
       "75%        7.200\n",
       "max        9.900\n",
       "Name: ratings, dtype: float64"
      ]
     },
     "execution_count": 12,
     "metadata": {},
     "output_type": "execute_result"
    }
   ],
   "source": [
    "# описательная статистика для оценки возможных значений рейтинга в столбце\n",
    "data['ratings'].describe()"
   ]
  },
  {
   "cell_type": "markdown",
   "metadata": {},
   "source": [
    "<div class=\"alert alert-block alert-info\">Посмотрим на уникальные значения столбца <b>age_restriction</b> </div>"
   ]
  },
  {
   "cell_type": "code",
   "execution_count": 13,
   "metadata": {},
   "outputs": [
    {
     "data": {
      "text/plain": [
       "array(['«18+» - запрещено для детей', '«6+» - для детей старше 6 лет',\n",
       "       '«12+» - для детей старше 12 лет',\n",
       "       '«16+» - для детей старше 16 лет',\n",
       "       '«0+» - для любой зрительской аудитории', 0], dtype=object)"
      ]
     },
     "execution_count": 13,
     "metadata": {},
     "output_type": "execute_result"
    }
   ],
   "source": [
    "data['age_restriction'].unique()"
   ]
  },
  {
   "cell_type": "code",
   "execution_count": 14,
   "metadata": {},
   "outputs": [
    {
     "data": {
      "text/html": [
       "<div>\n",
       "<style scoped>\n",
       "    .dataframe tbody tr th:only-of-type {\n",
       "        vertical-align: middle;\n",
       "    }\n",
       "\n",
       "    .dataframe tbody tr th {\n",
       "        vertical-align: top;\n",
       "    }\n",
       "\n",
       "    .dataframe thead th {\n",
       "        text-align: right;\n",
       "    }\n",
       "</style>\n",
       "<table border=\"1\" class=\"dataframe\">\n",
       "  <thead>\n",
       "    <tr style=\"text-align: right;\">\n",
       "      <th></th>\n",
       "      <th>title</th>\n",
       "      <th>puNumber</th>\n",
       "      <th>show_start_date</th>\n",
       "      <th>type</th>\n",
       "      <th>film_studio</th>\n",
       "      <th>production_country</th>\n",
       "      <th>director</th>\n",
       "      <th>producer</th>\n",
       "      <th>age_restriction</th>\n",
       "      <th>refundable_support</th>\n",
       "      <th>nonrefundable_support</th>\n",
       "      <th>budget</th>\n",
       "      <th>financing_source</th>\n",
       "      <th>ratings</th>\n",
       "      <th>genres</th>\n",
       "      <th>box_office</th>\n",
       "    </tr>\n",
       "  </thead>\n",
       "  <tbody>\n",
       "    <tr>\n",
       "      <th>1797</th>\n",
       "      <td>NaN</td>\n",
       "      <td>0</td>\n",
       "      <td>1970-01-01</td>\n",
       "      <td>0</td>\n",
       "      <td>NaN</td>\n",
       "      <td>NaN</td>\n",
       "      <td>NaN</td>\n",
       "      <td>NaN</td>\n",
       "      <td>0</td>\n",
       "      <td>0.000</td>\n",
       "      <td>0.000</td>\n",
       "      <td>0.000</td>\n",
       "      <td>0</td>\n",
       "      <td>NaN</td>\n",
       "      <td>0</td>\n",
       "      <td>NaN</td>\n",
       "    </tr>\n",
       "  </tbody>\n",
       "</table>\n",
       "</div>"
      ],
      "text/plain": [
       "     title  puNumber show_start_date type film_studio production_country  \\\n",
       "1797   NaN         0      1970-01-01    0         NaN                NaN   \n",
       "\n",
       "     director producer age_restriction  refundable_support  \\\n",
       "1797      NaN      NaN               0               0.000   \n",
       "\n",
       "      nonrefundable_support  budget financing_source  ratings genres  \\\n",
       "1797                  0.000   0.000                0      NaN      0   \n",
       "\n",
       "      box_office  \n",
       "1797         NaN  "
      ]
     },
     "execution_count": 14,
     "metadata": {},
     "output_type": "execute_result"
    }
   ],
   "source": [
    "# выведем строку с нулевым значением и обнаружим аномалию - строку с множеством пропущенных данных\n",
    "data.query('age_restriction == 0')"
   ]
  },
  {
   "cell_type": "code",
   "execution_count": 15,
   "metadata": {},
   "outputs": [],
   "source": [
    "# удаление строки с индексом 1797 из датафрейма\n",
    "data = data.drop(index=[1797])"
   ]
  },
  {
   "cell_type": "markdown",
   "metadata": {
    "id": "i0MOLbF-gFyP"
   },
   "source": [
    "#### Шаг 2.2. Изучите пропуски в датафрейме\n",
    "\n",
    "- Объясните, почему заполнили пропуски определённым образом или почему не стали этого делать."
   ]
  },
  {
   "cell_type": "markdown",
   "metadata": {},
   "source": [
    "<div class=\"alert alert-block alert-info\">Заполнение пропусков в столбце <b>production_country</b></div>"
   ]
  },
  {
   "cell_type": "code",
   "execution_count": 16,
   "metadata": {
    "id": "8MJD_lkngFyP"
   },
   "outputs": [
    {
     "data": {
      "text/html": [
       "<div>\n",
       "<style scoped>\n",
       "    .dataframe tbody tr th:only-of-type {\n",
       "        vertical-align: middle;\n",
       "    }\n",
       "\n",
       "    .dataframe tbody tr th {\n",
       "        vertical-align: top;\n",
       "    }\n",
       "\n",
       "    .dataframe thead th {\n",
       "        text-align: right;\n",
       "    }\n",
       "</style>\n",
       "<table border=\"1\" class=\"dataframe\">\n",
       "  <thead>\n",
       "    <tr style=\"text-align: right;\">\n",
       "      <th></th>\n",
       "      <th>title</th>\n",
       "      <th>puNumber</th>\n",
       "      <th>show_start_date</th>\n",
       "      <th>type</th>\n",
       "      <th>film_studio</th>\n",
       "      <th>production_country</th>\n",
       "      <th>director</th>\n",
       "      <th>producer</th>\n",
       "      <th>age_restriction</th>\n",
       "      <th>refundable_support</th>\n",
       "      <th>nonrefundable_support</th>\n",
       "      <th>budget</th>\n",
       "      <th>financing_source</th>\n",
       "      <th>ratings</th>\n",
       "      <th>genres</th>\n",
       "      <th>box_office</th>\n",
       "    </tr>\n",
       "  </thead>\n",
       "  <tbody>\n",
       "    <tr>\n",
       "      <th>3186</th>\n",
       "      <td>Детский юмористический киножурнал \"Ералаш. Ну ...</td>\n",
       "      <td>111001216</td>\n",
       "      <td>2016-02-09</td>\n",
       "      <td>Художественный</td>\n",
       "      <td>ООО \"Продюсерский центр ЕРАЛАШ\"</td>\n",
       "      <td>NaN</td>\n",
       "      <td>Р.Светлов, И.Магитон, А.Арутюнян, Л.Мирский, А...</td>\n",
       "      <td>ООО \"Продюсерский центр ЕРАЛАШ\"</td>\n",
       "      <td>«0+» - для любой зрительской аудитории</td>\n",
       "      <td>NaN</td>\n",
       "      <td>NaN</td>\n",
       "      <td>NaN</td>\n",
       "      <td>NaN</td>\n",
       "      <td>7.200</td>\n",
       "      <td>детский,комедия</td>\n",
       "      <td>0.195</td>\n",
       "    </tr>\n",
       "    <tr>\n",
       "      <th>4441</th>\n",
       "      <td>Мульт личности. Выпуск 5</td>\n",
       "      <td>214000410</td>\n",
       "      <td>2010-01-25</td>\n",
       "      <td>Художественный</td>\n",
       "      <td>NaN</td>\n",
       "      <td>NaN</td>\n",
       "      <td>NaN</td>\n",
       "      <td>NaN</td>\n",
       "      <td>«0+» - для любой зрительской аудитории</td>\n",
       "      <td>NaN</td>\n",
       "      <td>NaN</td>\n",
       "      <td>NaN</td>\n",
       "      <td>NaN</td>\n",
       "      <td>4.000</td>\n",
       "      <td>мультфильм,комедия</td>\n",
       "      <td>NaN</td>\n",
       "    </tr>\n",
       "  </tbody>\n",
       "</table>\n",
       "</div>"
      ],
      "text/plain": [
       "                                                  title   puNumber  \\\n",
       "3186  Детский юмористический киножурнал \"Ералаш. Ну ...  111001216   \n",
       "4441                           Мульт личности. Выпуск 5  214000410   \n",
       "\n",
       "     show_start_date            type                      film_studio  \\\n",
       "3186      2016-02-09  Художественный  ООО \"Продюсерский центр ЕРАЛАШ\"   \n",
       "4441      2010-01-25  Художественный                              NaN   \n",
       "\n",
       "     production_country                                           director  \\\n",
       "3186                NaN  Р.Светлов, И.Магитон, А.Арутюнян, Л.Мирский, А...   \n",
       "4441                NaN                                                NaN   \n",
       "\n",
       "                             producer                         age_restriction  \\\n",
       "3186  ООО \"Продюсерский центр ЕРАЛАШ\"  «0+» - для любой зрительской аудитории   \n",
       "4441                              NaN  «0+» - для любой зрительской аудитории   \n",
       "\n",
       "      refundable_support  nonrefundable_support  budget financing_source  \\\n",
       "3186                 NaN                    NaN     NaN              NaN   \n",
       "4441                 NaN                    NaN     NaN              NaN   \n",
       "\n",
       "      ratings              genres  box_office  \n",
       "3186    7.200     детский,комедия       0.195  \n",
       "4441    4.000  мультфильм,комедия         NaN  "
      ]
     },
     "execution_count": 16,
     "metadata": {},
     "output_type": "execute_result"
    }
   ],
   "source": [
    "# вывод пропущенных значений в столбце production_country\n",
    "data.loc[data['production_country'].isna()]"
   ]
  },
  {
   "cell_type": "markdown",
   "metadata": {},
   "source": [
    "<div class=\"alert alert-block alert-info\">Поскольку пропущенных значений всего два, можно заполнить без сопоставления различных полей, воспользовавшись поисковой системой. Детский юмористический киножурнал \"Ералаш\" - Россия, Мульт личности. Выпуск 5 - Россия</div>"
   ]
  },
  {
   "cell_type": "code",
   "execution_count": 17,
   "metadata": {},
   "outputs": [],
   "source": [
    "# заполнение пропусков столбце production_country\n",
    "data.loc[data['production_country'].isna(), 'production_country'] = 'Россия'"
   ]
  },
  {
   "cell_type": "markdown",
   "metadata": {},
   "source": [
    "<hr>"
   ]
  },
  {
   "cell_type": "markdown",
   "metadata": {},
   "source": [
    "<div class=\"alert alert-block alert-info\">Заполнение пропусков в столбце <b>director, producer</b>. Пропущенные значения заменим на 'unknown'</div>"
   ]
  },
  {
   "cell_type": "code",
   "execution_count": 18,
   "metadata": {},
   "outputs": [],
   "source": [
    "data['director'] = data['director'].fillna('unknown')\n",
    "data['producer'] = data['producer'].fillna('unknown')\n",
    "data['film_studio'] = data['film_studio'].fillna('unknown')\n",
    "data['genres'] = data['genres'].fillna('unknown')"
   ]
  },
  {
   "cell_type": "markdown",
   "metadata": {},
   "source": [
    "<hr>"
   ]
  },
  {
   "cell_type": "markdown",
   "metadata": {},
   "source": [
    "<div class=\"alert alert-block alert-info\">Заполнение пропусков в столбце <b>ratings</b> - в разделе 2.6, когда появится возможность сгруппировать типы фильмов и найти медианный рейтинг</div>"
   ]
  },
  {
   "cell_type": "markdown",
   "metadata": {},
   "source": [
    "<div class=\"alert alert-block alert-info\">\n",
    "    <p>Пропуски были(или будут) заполнены в следующих столбцах:\n",
    "        <li>production_country (вручную)\n",
    "         <li>director, producer, genres - замена на unknown\n",
    "         <li>ratings - медианным значением по жанрам на шаге 2.6\n",
    "    <p>Пропуски не были заполнены в следующих столбцах:\n",
    "        <li>ratings - субъективный признак\n",
    "               <li>box_office - фильм мог не выходить в широкий прокат\n",
    "        <li> refundable_support, nonrefundable_support, budget, financing_source - заполнены только для фильмов с господдержкой\t"
   ]
  },
  {
   "cell_type": "markdown",
   "metadata": {
    "id": "4c6k1t9ygFyQ"
   },
   "source": [
    "#### Шаг 2.3. Изучите дубликаты в датафрейме\n",
    "- Проверьте, есть ли в данных дубликаты. Опишите причины, которые могли повлиять на появление дублей."
   ]
  },
  {
   "cell_type": "markdown",
   "metadata": {},
   "source": [
    "<div class=\"alert alert-block alert-info\">Проверка столбца <b>type</b> на дубликаты. Есть неявный дубликат из-за лишних пробелов в начале строки (обработка таких случаев будет в разделе) 2.4</div>"
   ]
  },
  {
   "cell_type": "code",
   "execution_count": 19,
   "metadata": {},
   "outputs": [
    {
     "data": {
      "text/plain": [
       "Художественный                4519\n",
       " Художественный               1389\n",
       "Анимационный                   828\n",
       "Прочие                         406\n",
       "Документальный                 288\n",
       "Научно-популярный               53\n",
       " Анимационный                    1\n",
       "Музыкально-развлекательный       1\n",
       "Name: type, dtype: int64"
      ]
     },
     "execution_count": 19,
     "metadata": {},
     "output_type": "execute_result"
    }
   ],
   "source": [
    "data['type'].value_counts()"
   ]
  },
  {
   "cell_type": "markdown",
   "metadata": {},
   "source": [
    "<div class=\"alert alert-block alert-info\">Проверка столбца <b>title</b> на дубликаты</div>"
   ]
  },
  {
   "cell_type": "code",
   "execution_count": 20,
   "metadata": {},
   "outputs": [
    {
     "data": {
      "text/plain": [
       "День святого Валентина_                             5\n",
       "Рапунцель: Запутанная история                       4\n",
       "Не брать живым /По книге Раджива Чандрасекарана/    4\n",
       "Робин Гуд (Robin Hood)                              4\n",
       "Красавчик-2                                         4\n",
       "Прощание                                            4\n",
       "Код доступа \"Кейптаун\"                              4\n",
       "Двойной копец                                       4\n",
       "Непокоренный.                                       4\n",
       "Белоснежка и охотник                                4\n",
       "Name: title, dtype: int64"
      ]
     },
     "execution_count": 20,
     "metadata": {},
     "output_type": "execute_result"
    }
   ],
   "source": [
    "data['title'].value_counts().head(10)"
   ]
  },
  {
   "cell_type": "code",
   "execution_count": 21,
   "metadata": {},
   "outputs": [
    {
     "data": {
      "text/plain": [
       "7485"
      ]
     },
     "execution_count": 21,
     "metadata": {},
     "output_type": "execute_result"
    }
   ],
   "source": [
    "# общее количество дубликатов\n",
    "data['title'].value_counts().sum()"
   ]
  },
  {
   "cell_type": "markdown",
   "metadata": {},
   "source": [
    "<div class=\"alert alert-block alert-info\">Видно, что встречается множество дубликатов, но и еще различные символы в конце строк. Применим функцию del_last_symbol, которая удалит пробелы в начале / конце строки и специальные символы </div>"
   ]
  },
  {
   "cell_type": "code",
   "execution_count": 22,
   "metadata": {},
   "outputs": [],
   "source": [
    "# функция преобразования строки: удаление пробелов в начале / конце, удаление спец. символов в конце строки\n",
    "def del_last_symbol (title):\n",
    "    marks = '''-[]{};?@#$%:'\"\\,./^&amp;*_'''\n",
    "    title = title.strip()\n",
    "    if title[-1] in marks:\n",
    "        return title[:-1]\n",
    "    else:\n",
    "        return title\n",
    "    \n",
    "    \n",
    "# применение функции к столбцу title\n",
    "data['title'] = data['title'].apply(del_last_symbol)"
   ]
  },
  {
   "cell_type": "markdown",
   "metadata": {},
   "source": [
    "<div class=\"alert alert-block alert-info\">Теперь необходимо разобраться с дубликатами, решить, какие строки дублируются и почему такое могло произойти. \n",
    "    <p>Например, выведем все фильмы с названием \"Волшебная страна\". Несмотря на разные puNumber, фильмы 936 и 937, 107 и 4653 - явные дубликаты (хотя даты премьер у них разные), а фильм 2120 - просто совпадает по названию.\n",
    "<p>Возможная причина дубликатов: <i>у фильма могла закончиться лицензия на озвучивание и перевод, и его переозвучили и запустили в прокат снова под другой премьерной датой</i> </div>"
   ]
  },
  {
   "cell_type": "code",
   "execution_count": 23,
   "metadata": {},
   "outputs": [
    {
     "data": {
      "text/html": [
       "<div>\n",
       "<style scoped>\n",
       "    .dataframe tbody tr th:only-of-type {\n",
       "        vertical-align: middle;\n",
       "    }\n",
       "\n",
       "    .dataframe tbody tr th {\n",
       "        vertical-align: top;\n",
       "    }\n",
       "\n",
       "    .dataframe thead th {\n",
       "        text-align: right;\n",
       "    }\n",
       "</style>\n",
       "<table border=\"1\" class=\"dataframe\">\n",
       "  <thead>\n",
       "    <tr style=\"text-align: right;\">\n",
       "      <th></th>\n",
       "      <th>title</th>\n",
       "      <th>puNumber</th>\n",
       "      <th>show_start_date</th>\n",
       "      <th>type</th>\n",
       "      <th>film_studio</th>\n",
       "      <th>production_country</th>\n",
       "      <th>director</th>\n",
       "      <th>producer</th>\n",
       "      <th>age_restriction</th>\n",
       "      <th>refundable_support</th>\n",
       "      <th>nonrefundable_support</th>\n",
       "      <th>budget</th>\n",
       "      <th>financing_source</th>\n",
       "      <th>ratings</th>\n",
       "      <th>genres</th>\n",
       "      <th>box_office</th>\n",
       "    </tr>\n",
       "  </thead>\n",
       "  <tbody>\n",
       "    <tr>\n",
       "      <th>107</th>\n",
       "      <td>Волшебная страна</td>\n",
       "      <td>221004716</td>\n",
       "      <td>2016-02-09</td>\n",
       "      <td>Художественный</td>\n",
       "      <td>Филм Колони</td>\n",
       "      <td>США</td>\n",
       "      <td>Марк Форстер</td>\n",
       "      <td>Ричард Н.Глэдстин</td>\n",
       "      <td>«12+» - для детей старше 12 лет</td>\n",
       "      <td>NaN</td>\n",
       "      <td>NaN</td>\n",
       "      <td>NaN</td>\n",
       "      <td>NaN</td>\n",
       "      <td>7.900</td>\n",
       "      <td>драма,семейный,биография</td>\n",
       "      <td>NaN</td>\n",
       "    </tr>\n",
       "    <tr>\n",
       "      <th>936</th>\n",
       "      <td>Волшебная страна</td>\n",
       "      <td>124003016</td>\n",
       "      <td>2016-06-07</td>\n",
       "      <td>Анимационный</td>\n",
       "      <td>Брейктру Филмз, Эс Эм Бэ Инвестментс</td>\n",
       "      <td>Великобритания - Польша - КНР - Индия - Норвегия</td>\n",
       "      <td>Мартин Клэпп, Дорота Кобеля, Джофф Линдси</td>\n",
       "      <td>Магдалена Баргел, Хью Велчман</td>\n",
       "      <td>«18+» - запрещено для детей</td>\n",
       "      <td>NaN</td>\n",
       "      <td>NaN</td>\n",
       "      <td>NaN</td>\n",
       "      <td>NaN</td>\n",
       "      <td>7.900</td>\n",
       "      <td>драма,семейный,биография</td>\n",
       "      <td>0.004</td>\n",
       "    </tr>\n",
       "    <tr>\n",
       "      <th>937</th>\n",
       "      <td>Волшебная страна</td>\n",
       "      <td>124001113</td>\n",
       "      <td>2013-04-15</td>\n",
       "      <td>Анимационный</td>\n",
       "      <td>Брейктру Филмз, Эс Эм Бэ Инвестментс</td>\n",
       "      <td>Великобритания - Польша - КНР - Индия - Норвегия</td>\n",
       "      <td>Мартин Клэпп, Дорота Кобеля, Джофф Линдси</td>\n",
       "      <td>Магдалена Баргел, Хью Велчман</td>\n",
       "      <td>«18+» - запрещено для детей</td>\n",
       "      <td>NaN</td>\n",
       "      <td>NaN</td>\n",
       "      <td>NaN</td>\n",
       "      <td>NaN</td>\n",
       "      <td>7.900</td>\n",
       "      <td>драма,семейный,биография</td>\n",
       "      <td>0.020</td>\n",
       "    </tr>\n",
       "    <tr>\n",
       "      <th>2120</th>\n",
       "      <td>Волшебная страна</td>\n",
       "      <td>124000515</td>\n",
       "      <td>2015-02-05</td>\n",
       "      <td>Анимационный</td>\n",
       "      <td>Чжэцзян Чжунгнань Анимэйшн</td>\n",
       "      <td>КНР</td>\n",
       "      <td>Фанг Лей</td>\n",
       "      <td>Ву Янронг</td>\n",
       "      <td>«6+» - для детей старше 6 лет</td>\n",
       "      <td>NaN</td>\n",
       "      <td>NaN</td>\n",
       "      <td>NaN</td>\n",
       "      <td>NaN</td>\n",
       "      <td>7.900</td>\n",
       "      <td>драма,семейный,биография</td>\n",
       "      <td>1.171</td>\n",
       "    </tr>\n",
       "    <tr>\n",
       "      <th>4653</th>\n",
       "      <td>Волшебная страна</td>\n",
       "      <td>221155710</td>\n",
       "      <td>2010-12-17</td>\n",
       "      <td>Художественный</td>\n",
       "      <td>Филм Колони</td>\n",
       "      <td>США</td>\n",
       "      <td>Марк Форстер</td>\n",
       "      <td>Ричард Н.Глэдстин</td>\n",
       "      <td>«12+» - для детей старше 12 лет</td>\n",
       "      <td>NaN</td>\n",
       "      <td>NaN</td>\n",
       "      <td>NaN</td>\n",
       "      <td>NaN</td>\n",
       "      <td>7.900</td>\n",
       "      <td>драма,семейный,биография</td>\n",
       "      <td>NaN</td>\n",
       "    </tr>\n",
       "  </tbody>\n",
       "</table>\n",
       "</div>"
      ],
      "text/plain": [
       "                 title   puNumber show_start_date            type  \\\n",
       "107   Волшебная страна  221004716      2016-02-09  Художественный   \n",
       "936   Волшебная страна  124003016      2016-06-07    Анимационный   \n",
       "937   Волшебная страна  124001113      2013-04-15    Анимационный   \n",
       "2120  Волшебная страна  124000515      2015-02-05    Анимационный   \n",
       "4653  Волшебная страна  221155710      2010-12-17  Художественный   \n",
       "\n",
       "                               film_studio  \\\n",
       "107                            Филм Колони   \n",
       "936   Брейктру Филмз, Эс Эм Бэ Инвестментс   \n",
       "937   Брейктру Филмз, Эс Эм Бэ Инвестментс   \n",
       "2120            Чжэцзян Чжунгнань Анимэйшн   \n",
       "4653                           Филм Колони   \n",
       "\n",
       "                                    production_country  \\\n",
       "107                                                США   \n",
       "936   Великобритания - Польша - КНР - Индия - Норвегия   \n",
       "937   Великобритания - Польша - КНР - Индия - Норвегия   \n",
       "2120                                               КНР   \n",
       "4653                                               США   \n",
       "\n",
       "                                       director  \\\n",
       "107                                Марк Форстер   \n",
       "936   Мартин Клэпп, Дорота Кобеля, Джофф Линдси   \n",
       "937   Мартин Клэпп, Дорота Кобеля, Джофф Линдси   \n",
       "2120                                   Фанг Лей   \n",
       "4653                               Марк Форстер   \n",
       "\n",
       "                           producer                  age_restriction  \\\n",
       "107               Ричард Н.Глэдстин  «12+» - для детей старше 12 лет   \n",
       "936   Магдалена Баргел, Хью Велчман      «18+» - запрещено для детей   \n",
       "937   Магдалена Баргел, Хью Велчман      «18+» - запрещено для детей   \n",
       "2120                      Ву Янронг    «6+» - для детей старше 6 лет   \n",
       "4653              Ричард Н.Глэдстин  «12+» - для детей старше 12 лет   \n",
       "\n",
       "      refundable_support  nonrefundable_support  budget financing_source  \\\n",
       "107                  NaN                    NaN     NaN              NaN   \n",
       "936                  NaN                    NaN     NaN              NaN   \n",
       "937                  NaN                    NaN     NaN              NaN   \n",
       "2120                 NaN                    NaN     NaN              NaN   \n",
       "4653                 NaN                    NaN     NaN              NaN   \n",
       "\n",
       "      ratings                    genres  box_office  \n",
       "107     7.900  драма,семейный,биография         NaN  \n",
       "936     7.900  драма,семейный,биография       0.004  \n",
       "937     7.900  драма,семейный,биография       0.020  \n",
       "2120    7.900  драма,семейный,биография       1.171  \n",
       "4653    7.900  драма,семейный,биография         NaN  "
      ]
     },
     "execution_count": 23,
     "metadata": {},
     "output_type": "execute_result"
    }
   ],
   "source": [
    "data.query('title == \"Волшебная страна\"')"
   ]
  },
  {
   "cell_type": "markdown",
   "metadata": {},
   "source": [
    "<div class=\"alert alert-block alert-info\">Удалим для начала дубликаты по совпадающим полям 'title', 'type', 'production_country', 'producer','short_age_restriction', 'box_office' </div>"
   ]
  },
  {
   "cell_type": "code",
   "execution_count": 24,
   "metadata": {},
   "outputs": [],
   "source": [
    "data = data.drop_duplicates(subset=['title', 'type', 'production_country', \\\n",
    "                                    'producer','age_restriction', 'box_office']).reset_index(drop=True)"
   ]
  },
  {
   "cell_type": "code",
   "execution_count": 25,
   "metadata": {},
   "outputs": [
    {
     "data": {
      "text/plain": [
       "6991"
      ]
     },
     "execution_count": 25,
     "metadata": {},
     "output_type": "execute_result"
    }
   ],
   "source": [
    "# общее количество дубликатов\n",
    "data['title'].value_counts().sum()"
   ]
  },
  {
   "cell_type": "markdown",
   "metadata": {},
   "source": [
    "<div class=\"alert alert-block alert-info\">Было удалено 6,6% данных-дубликатов, но чтобы продолжить обработку дубликатов по этому столбцу, необходимо проверить другие столбцы на неявные дубликаты и ошибки в заполнении данных </div>"
   ]
  },
  {
   "cell_type": "markdown",
   "metadata": {},
   "source": [
    "<hr>"
   ]
  },
  {
   "cell_type": "markdown",
   "metadata": {},
   "source": [
    "<div class=\"alert alert-block alert-info\">Проверка столбца <b>puNumber</b> на дубликаты</div>"
   ]
  },
  {
   "cell_type": "code",
   "execution_count": 26,
   "metadata": {
    "id": "aKck8RIdgFyQ"
   },
   "outputs": [
    {
     "data": {
      "text/plain": [
       "0"
      ]
     },
     "execution_count": 26,
     "metadata": {},
     "output_type": "execute_result"
    }
   ],
   "source": [
    "len(data['puNumber']) - len(data['puNumber'].drop_duplicates())\n"
   ]
  },
  {
   "cell_type": "markdown",
   "metadata": {
    "id": "52fOPrEBgFyQ"
   },
   "source": [
    "#### Шаг 2.4. Изучите категориальные значения\n",
    "\n",
    "- Посмотрите, какая общая проблема встречается почти во всех категориальных столбцах;\n",
    "- Исправьте проблемные значения в поле `type`.\n",
    "\n",
    "<div id=\"accordion\">\n",
    "    <div class=\"card\">\n",
    "        <div class=\"card-header\" id=\"headingThree\">\n",
    "            <button class=\"btn btn-link collapsed\" data-toggle=\"collapse\" data-target=\"#collapseHint_1\" aria-expanded=\"false\" aria-controls=\"collapseHint_1\">Подсказка</button>\n",
    "        </div>\n",
    "        <div id=\"collapseHint_1\" class=\"collapse\" aria-labelledby=\"headingThree\" data-parent=\"#accordion\">\n",
    "            <div class=\"card-body\">\n",
    "В поле <code>type</code> есть несколько значений, у которых появился пробел в начале строки. Самый простой способ их «починить» -- использовать метод <a href=\"https://pandas.pydata.org/docs/reference/api/pandas.Series.str.strip.html#pandas.Series.str.strip\">.str.strip</a>. Этот метод удаляет все пробелы, которые встречаются в начале и в конце строки. Применяют его таким образом:<br>\n",
    "<code>df['type'].str.strip()</code>\n",
    "            </div>\n",
    "        </div>\n",
    "    </div>\n",
    "</div>"
   ]
  },
  {
   "cell_type": "markdown",
   "metadata": {},
   "source": [
    "<div class=\"alert alert-block alert-info\">Обработка столбцов 'type', 'film_studio', 'production_country', 'director', 'producer', 'genres'  - удаление пробелов в начале / конце строк</div>"
   ]
  },
  {
   "cell_type": "code",
   "execution_count": 27,
   "metadata": {
    "id": "PnXKIVdFgFyR"
   },
   "outputs": [],
   "source": [
    "# список столбцов для обработки\n",
    "list_strip = ['type', 'film_studio', 'production_country', 'director', 'producer', 'genres']\n",
    "# цикл обработки строк по удалению лишних пробелов\n",
    "for el in list_strip:\n",
    "    data[el] = data[el].str.strip()"
   ]
  },
  {
   "cell_type": "markdown",
   "metadata": {},
   "source": [
    "<div class=\"alert alert-block alert-info\">Обработка столбца 'production_country' на неявне дубликаты</div>"
   ]
  },
  {
   "cell_type": "code",
   "execution_count": 28,
   "metadata": {},
   "outputs": [
    {
     "data": {
      "text/plain": [
       "934"
      ]
     },
     "execution_count": 28,
     "metadata": {},
     "output_type": "execute_result"
    }
   ],
   "source": [
    "# количество дубликатов до обработки\n",
    "len(data['production_country'].unique())"
   ]
  },
  {
   "cell_type": "code",
   "execution_count": 29,
   "metadata": {},
   "outputs": [
    {
     "data": {
      "text/plain": [
       "['2019',\n",
       " 'cша',\n",
       " 'австралия',\n",
       " 'австралия-великобритания',\n",
       " 'австралия-великобритания-бельгия-индия',\n",
       " 'австралия-германия',\n",
       " 'австралия-ирландия',\n",
       " 'австралия-канада',\n",
       " 'австралия-колумбия',\n",
       " 'австралия-сша',\n",
       " 'австралия-турция-сша',\n",
       " 'австрия',\n",
       " 'австрия-великобритания-германия',\n",
       " 'австрия-германия',\n",
       " 'австрия-германия-франция',\n",
       " 'австрия-люксембург',\n",
       " 'австрия-франция-германия',\n",
       " 'азербайджан-россия',\n",
       " 'аргентина',\n",
       " 'аргентина-бразилия',\n",
       " 'аргентина-испания',\n",
       " 'аргентина-испания-уругвай',\n",
       " 'аргентина-мексика-бразилия-франция-сша',\n",
       " 'аргентина-уругвай-россия-германия-франция-нидерланды',\n",
       " 'аргентина-франция-испания',\n",
       " 'армения',\n",
       " 'армения-германия',\n",
       " 'армения-казахстан',\n",
       " 'армения-россия',\n",
       " 'бельгия',\n",
       " 'бельгия-великобритания-сша',\n",
       " 'бельгия-германия-канада-франция-сша-великобритания',\n",
       " 'бельгия-германия-люксембург',\n",
       " 'бельгия-германия-люксембург-франция',\n",
       " 'бельгия-испания-канада-нидерланды',\n",
       " 'бельгия-италия-франция',\n",
       " 'бельгия-канада',\n",
       " 'бельгия-люксембург',\n",
       " 'бельгия-люксембург-франция-швейцария',\n",
       " 'бельгия-нидерланды',\n",
       " 'бельгия-нидерланды-франция',\n",
       " 'бельгия-сша',\n",
       " 'бельгия-франция',\n",
       " 'бельгия-франция-италия',\n",
       " 'бельгия-франция-люксембург',\n",
       " 'болгария',\n",
       " 'болгария-сша',\n",
       " 'болгария-франция-изриль',\n",
       " 'боснияигерцеговина-франция-великобритания-германия-словения-бельгия-сербия',\n",
       " 'бразилия',\n",
       " 'бразилия-германия-порртугалия-франция',\n",
       " 'бразилия-испания',\n",
       " 'бразилия-к;анада',\n",
       " 'бразилия-канада-сша',\n",
       " 'бразилия-португалия-франция',\n",
       " 'бразилия-сша',\n",
       " 'бразилия-сша-кнр',\n",
       " 'бразилия-уругвай-дания-норвегия-чили-швеция',\n",
       " 'великобритания',\n",
       " 'великобритания-австралия',\n",
       " 'великобритания-австралия-сша',\n",
       " 'великобритания-австрия-германия',\n",
       " 'великобритания-австрия-франция-сша',\n",
       " 'великобритания-аргентина-сша-франция-россия-испания',\n",
       " 'великобритания-венгрия',\n",
       " 'великобритания-германия',\n",
       " 'великобритания-германия-дания-сша',\n",
       " 'великобритания-германия-канада-юар',\n",
       " 'великобритания-германия-нидерланды-дания',\n",
       " 'великобритания-германия-сша',\n",
       " 'великобритания-германия-франция-кипр-сша',\n",
       " 'великобритания-гонконг-венгрия-сша-ирландия',\n",
       " 'великобритания-дания',\n",
       " 'великобритания-израиль',\n",
       " 'великобритания-израиль-франция-япония-сша',\n",
       " 'великобритания-ирландия',\n",
       " 'великобритания-ирландия-сша',\n",
       " 'великобритания-исландия-испания-швейцария-сша',\n",
       " 'великобритания-испания',\n",
       " 'великобритания-испания-германия',\n",
       " 'великобритания-испания-италия-латвия-франция-эстония',\n",
       " 'великобритания-испания-непал-индия-венгрия-гонконг-германия-дания-бахрейн',\n",
       " 'великобритания-италия',\n",
       " 'великобритания-италия-испания',\n",
       " 'великобритания-италия-швейцария',\n",
       " 'великобритания-канада',\n",
       " 'великобритания-канада-сша',\n",
       " 'великобритания-кнр',\n",
       " 'великобритания-люксембург',\n",
       " 'великобритания-мексика-сша',\n",
       " 'великобритания-нидерланды-германия-франция-бельгия-австрия',\n",
       " 'великобритания-нидерланды-польша-швейцария-франция',\n",
       " 'великобритания-нидерланды-франция-сша',\n",
       " 'великобритания-нидерланды-франция-хорватия',\n",
       " 'великобритания-новаязеландия',\n",
       " 'великобритания-норвегия-дания-германия',\n",
       " 'великобритания-норвегия-кения-хорватия',\n",
       " 'великобритания-польша',\n",
       " 'великобритания-польша-кнр-индия-норвегия',\n",
       " 'великобритания-пуэрто-рико',\n",
       " 'великобритания-россия-кнр',\n",
       " 'великобритания-россия-украина-сша',\n",
       " 'великобритания-румыния',\n",
       " 'великобритания-сша',\n",
       " 'великобритания-сша-австралия-ирландия-германия-куба-канада',\n",
       " 'великобритания-сша-германия',\n",
       " 'великобритания-сша-германия-бельгия',\n",
       " 'великобритания-сша-германия-канада-австралия',\n",
       " 'великобритания-сша-германия-кнр',\n",
       " 'великобритания-сша-индия',\n",
       " 'великобритания-сша-испания',\n",
       " 'великобритания-сша-канада',\n",
       " 'великобритания-сша-канада-бельгия-нидерланды-австрия-германия',\n",
       " 'великобритания-сша-канада-нидерланды-франция',\n",
       " 'великобритания-сша-россия',\n",
       " 'великобритания-сша-франция',\n",
       " 'великобритания-сша-швейцария',\n",
       " 'великобритания-франция',\n",
       " 'великобритания-франция-австрия-швеция',\n",
       " 'великобритания-франция-бельгия',\n",
       " 'великобритания-франция-бельгия-италия',\n",
       " 'великобритания-франция-бельгия-сша',\n",
       " 'великобритания-франция-венгрия',\n",
       " 'великобритания-франция-германия',\n",
       " 'великобритания-франция-германия-сша',\n",
       " 'великобритания-франция-италия',\n",
       " 'великобритания-франция-италия-индия-дания-кнр-бангладеш-камбоджа-гаити-уганда',\n",
       " 'великобритания-франция-италия-сша',\n",
       " 'великобритания-франция-республикакипр-швейцария-сша-сербия',\n",
       " 'великобритания-франция-сша',\n",
       " 'великобритания-франция-швеция-бельгия',\n",
       " 'великобритания-чехия-франция',\n",
       " 'великобритания-чехия-франция-италия',\n",
       " 'великобритания-швеция-сша',\n",
       " 'великобритания-юар',\n",
       " 'великобритания-южнаякорея-канада-сша-индия-китай-япония',\n",
       " 'великобритания-япония-сша',\n",
       " 'венгрия',\n",
       " 'венгрия-германия-швеция',\n",
       " 'венесуэла',\n",
       " 'германия',\n",
       " 'германия-австралия',\n",
       " 'германия-австрия',\n",
       " 'германия-австрия-ирландия',\n",
       " 'германия-австрия-франция',\n",
       " 'германия-австрия-франция-италия',\n",
       " 'германия-аргентина-нидерланды-чили',\n",
       " 'германия-бельгия',\n",
       " 'германия-бельгия-великобритания',\n",
       " 'германия-бельгия-люксембург-ирландия',\n",
       " 'германия-бельгия-люксембург-норвегия',\n",
       " 'германия-бельгия-сша-франция',\n",
       " 'германия-великобритания',\n",
       " 'германия-великобритания-австрия',\n",
       " 'германия-великобритания-италия-испания',\n",
       " 'германия-великобритания-сша',\n",
       " 'германия-дания-испания-швеция-канада-эстония-франция',\n",
       " 'германия-дания-норвегия',\n",
       " 'германия-израиль',\n",
       " 'германия-исландия',\n",
       " 'германия-италия',\n",
       " 'германия-италия-сша',\n",
       " 'германия-италия-франция',\n",
       " 'германия-италия-швейцария',\n",
       " 'германия-италия-шри-ланка',\n",
       " 'германия-канада',\n",
       " 'германия-канада-великобритания-швейцария-франция',\n",
       " 'германия-канада-франция-бельгия',\n",
       " 'германия-кения',\n",
       " 'германия-китай',\n",
       " 'германия-люксембург-бельгия',\n",
       " 'германия-люксембург-дания',\n",
       " 'германия-люксембург-франция',\n",
       " 'германия-нидерланды-беларусь-россия-латвия',\n",
       " 'германия-нидерланды-юар',\n",
       " 'германия-россия',\n",
       " 'германия-сша',\n",
       " 'германия-сша-великобритания-израиль',\n",
       " 'германия-сша-великобритания-ирландия',\n",
       " 'германия-сша-франция-испания',\n",
       " 'германия-сша-швеция-франция',\n",
       " 'германия-украина-нидерланды',\n",
       " 'германия-финляндия-австралия',\n",
       " 'германия-франция',\n",
       " 'германия-франция-австрия',\n",
       " 'германия-франция-бельгия',\n",
       " 'германия-франция-великобритания',\n",
       " 'германия-франция-великобритания-польша-сша',\n",
       " 'германия-франция-великобритания-сша',\n",
       " 'германия-франция-канада',\n",
       " 'германия-франция-люксембург',\n",
       " 'германия-франция-польша',\n",
       " 'германия-франция-польша-турция-канада-италия-россия',\n",
       " 'германия-франция-сша',\n",
       " 'германия-швейцария',\n",
       " 'германия-швейцария-франция-южнаякорея-сша',\n",
       " 'германия-швеция',\n",
       " 'голландия',\n",
       " 'гонконг',\n",
       " 'гонконг-кнр',\n",
       " 'гонконг-сингапур-таиланд-великобритания',\n",
       " 'греция',\n",
       " 'греция-германия-франция',\n",
       " 'греция-россия',\n",
       " 'грузия',\n",
       " 'грузия-россия',\n",
       " 'грузия-россия-украина-хорватия-германия',\n",
       " 'грузия-украина',\n",
       " 'грузия-франция',\n",
       " 'грузия-франция-люксембург',\n",
       " 'дания',\n",
       " 'дания-австрия-ирландия-финляндия-норвегия-швеция-нидерланды',\n",
       " 'дания-великобритания-юар',\n",
       " 'дания-германия',\n",
       " 'дания-германия-швеция',\n",
       " 'дания-исландия',\n",
       " 'дания-канада-норвегия-австралия-сша',\n",
       " 'дания-канада-швеция-франция-германия-великобритания-сша',\n",
       " 'дания-латвия-россия-сша',\n",
       " 'дания-норвегия-великобритания',\n",
       " 'дания-норвегия-венгрия-чехия',\n",
       " 'дания-норвегия-швеция-исландия',\n",
       " 'дания-сша',\n",
       " 'дания-франция-бельгия-германия-великобритания',\n",
       " 'дания-франция-германия-швеция',\n",
       " 'дания-франция-италия-бельгия-нидерланды',\n",
       " 'дания-швейцария-бельгия-франция',\n",
       " 'дания-швеция',\n",
       " 'дания-швеция-великобритания-франция-германия-нидерланды-норвегия-финляндия',\n",
       " 'дания-швеция-великобритания-франция-германия-норвегия-финляндия-нидерланды-италия',\n",
       " 'дания-швеция-италия-франция-германия',\n",
       " 'дания-швеция-франция-германия',\n",
       " 'израиль',\n",
       " 'израиль-германия-польша-бельгия-франция-люксембург',\n",
       " 'израиль-германия-франция-швейцария',\n",
       " 'израиль-сша-франция',\n",
       " 'израиль-украина',\n",
       " 'израиль-франция',\n",
       " 'израиль-франция-великобритания-германия',\n",
       " 'израиль-франция-германия-палестина-сша-австрия-великобритания',\n",
       " 'индия',\n",
       " 'индия-великобритания',\n",
       " 'индия-кнр',\n",
       " 'индия-мексика',\n",
       " 'индия-сша',\n",
       " 'индонезия',\n",
       " 'иран',\n",
       " 'иран-франция',\n",
       " 'ирландия',\n",
       " 'ирландия-великобритания',\n",
       " 'ирландия-великобритания-германия',\n",
       " 'ирландия-великобритания-канада',\n",
       " 'ирландия-великобритания-сша',\n",
       " 'ирландия-великобритания-франция-сша',\n",
       " 'ирландия-великобритания-франция-сша-германия-нидерланды',\n",
       " 'ирландия-дания-бельгия-люксембург-франция',\n",
       " 'ирландия-канада',\n",
       " 'ирландия-нидерланды-франция-сша-великобритания',\n",
       " 'ирландия-сша',\n",
       " 'ирландия-финляндия-бельгия-великобритания-сша-швейцария',\n",
       " 'исландия',\n",
       " 'исландия-бельгия',\n",
       " 'исландия-ирландия-германия',\n",
       " 'исландия-финляндия',\n",
       " 'испания',\n",
       " 'испания-аргентина',\n",
       " 'испания-аргентина-индия-сша',\n",
       " 'испания-бельгия-франция-португалия-великобритания',\n",
       " 'испания-болгария-сша',\n",
       " 'испания-великобритания-франция',\n",
       " 'испания-германия-нидерланды',\n",
       " 'испания-ирландия-бельгия-франция',\n",
       " 'испания-италия-франция',\n",
       " 'испания-канада',\n",
       " 'испания-канада-япония',\n",
       " 'испания-колумбия',\n",
       " 'испания-куба',\n",
       " 'испания-мальта',\n",
       " 'испания-мексика',\n",
       " 'испания-сша',\n",
       " 'испания-сша-великобритания-канада',\n",
       " 'испания-сша-колумбия',\n",
       " 'испания-уругвай-аргентина',\n",
       " 'испания-франция',\n",
       " 'испания-франция-великобритания-дания-бельгия-германия',\n",
       " 'испания-франция-греция-индия-сша-россия-великобритания',\n",
       " 'испания-франция-италия',\n",
       " 'испания-франция-нидерланды-германия-бельгия-великобритания-канада',\n",
       " 'испания-франция-сша-великобритания-бельгия',\n",
       " 'испания-швейцария-великобритания-германия-новаязеландия-нидерланды-канада',\n",
       " 'италия',\n",
       " 'италия-аргентина-словения',\n",
       " 'италия-бельгия-франция',\n",
       " 'италия-великобритания',\n",
       " 'италия-германия',\n",
       " 'италия-испания',\n",
       " 'италия-канада',\n",
       " 'италия-россия',\n",
       " 'италия-сша',\n",
       " 'италия-франция',\n",
       " 'италия-франция-великобритания',\n",
       " 'италия-франция-германия',\n",
       " 'италия-франция-швейцария',\n",
       " 'италия-франция-швейцария-великобритания',\n",
       " 'италия-фрация-бразилия-германия',\n",
       " 'италия-швейцария',\n",
       " 'италия-швейцария-германия',\n",
       " 'италия-швейцария-франция-германия',\n",
       " 'казахстан',\n",
       " 'канада',\n",
       " 'канада-бразилия-япония',\n",
       " 'канада-великобритания',\n",
       " 'канада-германия',\n",
       " 'канада-испания',\n",
       " 'канада-италия',\n",
       " 'канада-кнр',\n",
       " 'канада-мексика',\n",
       " 'канада-норвегия',\n",
       " 'канада-сша',\n",
       " 'канада-сша-германия-франция',\n",
       " 'канада-сша-каймановыострова',\n",
       " 'канада-сша-нидерланды-великобритания-аргентина',\n",
       " 'канада-сша-норвегия',\n",
       " 'канада-франция',\n",
       " 'канада-франция-великобритания',\n",
       " 'канада-франция-испания',\n",
       " 'канада-франция-италия-швейцария-сша',\n",
       " 'канада-франция-сша-оаэ-великобритания',\n",
       " 'канада-юар',\n",
       " 'канада-южнаякорея',\n",
       " 'канада-южнаякорея-сша',\n",
       " 'кения-германия',\n",
       " 'киргизия',\n",
       " 'киргизия-россия',\n",
       " 'китай',\n",
       " 'китай-гонконг',\n",
       " 'китай-гонконг-сша',\n",
       " 'китай-канада-сша',\n",
       " 'китай-сша',\n",
       " 'кнр',\n",
       " 'кнр-гонконг',\n",
       " 'кнр-гонконг-сша',\n",
       " 'кнр-индия-гонконг-сша',\n",
       " 'кнр-канада-сша',\n",
       " 'кнр-сингапур',\n",
       " 'кнр-сша',\n",
       " 'кнр-франция',\n",
       " 'княжествоандорра-украина',\n",
       " 'колумбия',\n",
       " 'колумбия-сша',\n",
       " 'корея',\n",
       " 'латвия-россия',\n",
       " 'латвия-франция',\n",
       " 'ливан-сша',\n",
       " 'литва-венгрия',\n",
       " 'литва-россия-украина',\n",
       " 'люксембург-бельгия-франция',\n",
       " 'люксембург-нидерланды-испания-великобритания-сша-италия',\n",
       " 'македония-франция-великобритания',\n",
       " 'малайзия',\n",
       " 'малайзия-сша',\n",
       " 'мексика',\n",
       " 'мексика-аргентина',\n",
       " 'мексика-аргентина-великобритания',\n",
       " 'мексика-испания',\n",
       " 'мексика-испания-дания-сша',\n",
       " 'мексика-нидерланды-германия-франция',\n",
       " 'мексика-сша',\n",
       " 'мексика-тайвань-сша',\n",
       " 'мексика-франция',\n",
       " 'мексика-франция-германия-дания-швеция',\n",
       " 'мексика-франция-нидерланды-германия',\n",
       " 'мексика-чили',\n",
       " 'мексика-эквадор-канада-сша-франция-малайзия-италия-аргентина-германия-индия',\n",
       " 'монголия',\n",
       " 'нидерланды',\n",
       " 'нидерланды-бельгия',\n",
       " 'нидерланды-бельгия-болгария',\n",
       " 'нидерланды-бельгия-германия-ирландия',\n",
       " 'нидерланды-бельгия-люксембург',\n",
       " 'нидерланды-великобритания-бельгия',\n",
       " 'нидерланды-великобритания-франция-италия-япония',\n",
       " 'нидерланды-россия',\n",
       " 'нидерланды-россия-германия',\n",
       " 'нидерланды-сша-германия-канада-франция-ирландия-великобритания',\n",
       " 'нидерланды-франция-германия-бельгия-швеция-великобритания',\n",
       " 'новаязеландия',\n",
       " 'новаязеландия-кнр',\n",
       " 'новаязеландия-сша',\n",
       " 'норвегия',\n",
       " 'норвегия-азербайджан-россия-колумбия-великобритания-венгрия-румыния-франция-грузия',\n",
       " 'норвегия-дания-швеция',\n",
       " 'норвегия-исландия-сша-великобритания',\n",
       " 'норвегия-нидерланды',\n",
       " 'норвегия-сша',\n",
       " 'норвегия-швеция',\n",
       " 'норвегия-швеция-дания',\n",
       " 'норвегия-швеция-дания-германия',\n",
       " 'норвегия-швеция-россия',\n",
       " 'норвения',\n",
       " 'оаэ-сша',\n",
       " 'пакистан',\n",
       " 'парагвай',\n",
       " 'перу',\n",
       " 'польша',\n",
       " 'польша-ирландия',\n",
       " 'польша-италия-россия',\n",
       " 'польша-португалия-франция-великобритания',\n",
       " 'польша-франция',\n",
       " 'польша-франция-великобритания',\n",
       " 'польша-франция-испания-бразилия-швеция',\n",
       " 'португалия',\n",
       " 'португалия-франция',\n",
       " 'португалия-франция-польша-сша',\n",
       " 'пуэрто-рико-великобритания-сша',\n",
       " 'республикаармения',\n",
       " 'республикабеларусь',\n",
       " 'республикабеларусь-германия-сша-россия',\n",
       " 'республикаказахстан',\n",
       " 'республикакипр',\n",
       " 'республикакипр-россия',\n",
       " 'республикакипр-сша-россия',\n",
       " 'республикакорея',\n",
       " 'республикаузбекистан',\n",
       " 'россия',\n",
       " 'россия-австрия',\n",
       " 'россия-азербайджан',\n",
       " 'россия-армения',\n",
       " 'россия-беларусь',\n",
       " 'россия-белоруссия',\n",
       " 'россия-бельгия-финляндия',\n",
       " 'россия-болгария',\n",
       " 'россия-германия',\n",
       " 'россия-германия-великобритания',\n",
       " 'россия-германия-казахстан-польша-китай',\n",
       " 'россия-германия-украина',\n",
       " 'россия-германия-франция-бельгия',\n",
       " 'россия-германия-швейцария',\n",
       " 'россия-грузия',\n",
       " 'россия-грузия-испания',\n",
       " 'россия-грузия-хорватия-испания',\n",
       " 'россия-ирландия',\n",
       " 'россия-испания',\n",
       " 'россия-италия',\n",
       " 'россия-казахстан',\n",
       " 'россия-казахстан-сша',\n",
       " 'россия-кипр',\n",
       " 'россия-китай',\n",
       " 'россия-латвия-чешскаяреспублика',\n",
       " 'россия-нидерланды-финляндия',\n",
       " 'россия-польша',\n",
       " 'россия-польша-голландия-словакия',\n",
       " 'россия-польша-финляндия',\n",
       " 'россия-республикабеларусь',\n",
       " 'россия-республикакипр',\n",
       " 'россия-румыния',\n",
       " 'россия-сербия',\n",
       " 'россия-словакия-чехия',\n",
       " 'россия-сша',\n",
       " 'россия-сша-канада-люксембург',\n",
       " 'россия-таджикистан',\n",
       " 'россия-украина',\n",
       " 'россия-украина-германия',\n",
       " 'россия-украина-польша',\n",
       " 'россия-украина-республикабеларусь-литва',\n",
       " 'россия-франция',\n",
       " 'россия-франция-великобритания-латвия',\n",
       " 'россия-франция-германия-бельгия',\n",
       " 'россия-франция-латвия',\n",
       " 'россия-эстония-финляндия-беларусь',\n",
       " 'румыния',\n",
       " 'румыния-сша',\n",
       " 'румыния-франция-бельгия',\n",
       " 'румыния-юар-иран-франция-канада-великобритания',\n",
       " 'сербия-великобритания-сша',\n",
       " 'сербия-германия-венгрия',\n",
       " 'сербия-словения-хорватия-черногория-македония',\n",
       " 'сингапур-великобритания-индонезия-канада-сша',\n",
       " 'ссср',\n",
       " 'ссср-албания',\n",
       " 'ссср-афганистан',\n",
       " 'ссср-венгрия',\n",
       " 'ссср-венгрия-чсср-гдр',\n",
       " 'ссср-внр',\n",
       " 'ссср-гдр',\n",
       " 'ссср-гдр-польша-италия',\n",
       " 'ссср-италия',\n",
       " 'ссср-монголия',\n",
       " 'ссср-польша',\n",
       " 'ссср-россия',\n",
       " 'ссср-румыния-франция',\n",
       " 'ссср-финляндия',\n",
       " 'ссср-франция-англия-куба-гдр',\n",
       " 'ссср-фрг',\n",
       " 'ссср-фрг-западныйберлин',\n",
       " 'ссср-чсср-западныйберлин-пнр',\n",
       " 'ссср-швейцария-франция',\n",
       " 'ссср-швеция',\n",
       " 'сша',\n",
       " 'сша-австралия',\n",
       " 'сша-австралия-дания',\n",
       " 'сша-австралия-индия',\n",
       " 'сша-австралия-мексика',\n",
       " 'сша-австралия-новаязеландия-великобритания',\n",
       " 'сша-австралия-франция',\n",
       " 'сша-аргентина',\n",
       " 'сша-бельгия',\n",
       " 'сша-бельгия-великобритания',\n",
       " 'сша-болгария-мексика',\n",
       " 'сша-бразилия-великобритания-канада',\n",
       " 'сша-бразилия-франция-австралия-великобритания-германия',\n",
       " 'сша-великобритания',\n",
       " 'сша-великобритания-австралия',\n",
       " 'сша-великобритания-болгария',\n",
       " 'сша-великобритания-германия',\n",
       " 'сша-великобритания-германия--швеция-канада',\n",
       " 'сша-великобритания-германия-бельгия-дания',\n",
       " 'сша-великобритания-германия-новаязеландия-бельгия-франция',\n",
       " 'сша-великобритания-индия',\n",
       " 'сша-великобритания-ирландия',\n",
       " 'сша-великобритания-ирландия-люксембург',\n",
       " 'сша-великобритания-исландия',\n",
       " 'сша-великобритания-испания',\n",
       " 'сша-великобритания-италия-израиль-сербия-индия',\n",
       " 'сша-великобритания-канада',\n",
       " 'сша-великобритания-канада-кнр',\n",
       " 'сша-великобритания-канада-швеция',\n",
       " 'сша-великобритания-кнр',\n",
       " 'сша-великобритания-люксембург',\n",
       " 'сша-великобритания-новаязеландия',\n",
       " 'сша-великобритания-франция',\n",
       " 'сша-великобритания-франция-гонконг',\n",
       " 'сша-великобритания-франция-швеция',\n",
       " 'сша-великобритания-чехия',\n",
       " 'сша-великобритания-чехия-румыния',\n",
       " 'сша-великобритания-швейцария-франция',\n",
       " 'сша-великобритания-швеция',\n",
       " 'сша-великобритания-япония',\n",
       " 'сша-венгрия',\n",
       " 'сша-венгрия-великобритания',\n",
       " 'сша-вьетнам',\n",
       " 'сша-германия',\n",
       " 'сша-германия-австралия',\n",
       " 'сша-германия-великобритания',\n",
       " 'сша-германия-гонконг-сингапур',\n",
       " 'сша-германия-канада',\n",
       " 'сша-германия-кнр',\n",
       " 'сша-германия-нидерланды',\n",
       " 'сша-германия-франция',\n",
       " 'сша-германия-франция-великобритания-канада',\n",
       " 'сша-германия-япония',\n",
       " 'сша-гонконг',\n",
       " 'сша-гонконг-китай',\n",
       " 'сша-гонконг-кнр',\n",
       " 'сша-дания',\n",
       " 'сша-индия',\n",
       " 'сша-индия-оаэ',\n",
       " 'сша-индонезия',\n",
       " 'сша-ирландия',\n",
       " 'сша-ирландия-великобритания',\n",
       " 'сша-ирландия-великобритания-франция',\n",
       " 'сша-испания',\n",
       " 'сша-испания-болгария',\n",
       " 'сша-испания-франция',\n",
       " 'сша-испания-франция-великобритания',\n",
       " 'сша-италия',\n",
       " 'сша-италия-греция',\n",
       " 'сша-италия-испания',\n",
       " 'сша-италия-испания-аргентина',\n",
       " 'сша-канада',\n",
       " 'сша-канада-австралия',\n",
       " 'сша-канада-аргентина',\n",
       " 'сша-канада-афганистан-бельгия-франция',\n",
       " 'сша-канада-бельгия',\n",
       " 'сша-канада-великобритания',\n",
       " 'сша-канада-германия',\n",
       " 'сша-канада-германия-франция',\n",
       " 'сша-канада-индонезия',\n",
       " 'сша-канада-италия',\n",
       " 'сша-канада-кнр',\n",
       " 'сша-канада-россия-франция-чили-ирландия',\n",
       " 'сша-канада-франция',\n",
       " 'сша-канада-франция-индия',\n",
       " 'сша-канада-япония-кнр',\n",
       " 'сша-китай',\n",
       " 'сша-кнр',\n",
       " 'сша-кнр-индия-ю.корея',\n",
       " 'сша-колумбия',\n",
       " 'сша-колумбия-испания',\n",
       " 'сша-мальта',\n",
       " 'сша-мексика',\n",
       " 'сша-нидерланды',\n",
       " 'сша-нидерланды-бельгия-венгрия-греция-канада',\n",
       " 'сша-нидерланды-финляндия-великобритания-италия',\n",
       " 'сша-новаязеландия',\n",
       " 'сша-новаязеландия-япония',\n",
       " 'сша-норвегия',\n",
       " 'сша-оаэ',\n",
       " 'сша-объединенныеарабскиеэмираты',\n",
       " 'сша-пуэрто-рико-франция',\n",
       " 'сша-пуэрторико',\n",
       " 'сша-россия',\n",
       " 'сша-россия-польша-германия-пуэрторико',\n",
       " 'сша-россия-франция',\n",
       " 'сша-румыния-великобритания',\n",
       " 'сша-сингапур-малайзия-индонезия',\n",
       " 'сша-украина',\n",
       " 'сша-финляндия',\n",
       " 'сша-финляндия-испания-великобритания-франция',\n",
       " 'сша-франция',\n",
       " 'сша-франция-бельгия-италия',\n",
       " 'сша-франция-великобритания',\n",
       " 'сша-франция-великобритания-австрия',\n",
       " 'сша-франция-великобритания-бразилия',\n",
       " 'сша-франция-германия',\n",
       " 'сша-франция-германия-канада-австралия',\n",
       " 'сша-франция-ирландия',\n",
       " 'сша-франция-испания',\n",
       " 'сша-франция-испания-великобритания',\n",
       " 'сша-франция-канада',\n",
       " 'сша-франция-канада-великобритания',\n",
       " 'сша-франция-канада-германия-австралия-индия',\n",
       " 'сша-франция-турция',\n",
       " 'сша-франция-юар',\n",
       " 'сша-франция-япония',\n",
       " 'сша-фрг-россия',\n",
       " 'сша-хорватия-босния-герцеговина',\n",
       " 'сша-чехия-франция',\n",
       " 'сша-чили',\n",
       " 'сша-швейцария-франция',\n",
       " 'сша-швеция',\n",
       " 'сша-ю.корея',\n",
       " 'сша-юар',\n",
       " 'сша-юар-гонконг',\n",
       " 'сша-южнаякорея',\n",
       " 'сша-южнаякорея-новаязеландия',\n",
       " 'сша-япония',\n",
       " 'сша-япония-германия',\n",
       " 'сша-япония-германия-великобритания',\n",
       " 'сша-япония-германия-великобритания-нидерланды',\n",
       " 'сша-япония-канада-великобритания-германия-франция',\n",
       " 'сша-япония-франция-великобритания',\n",
       " 'сща',\n",
       " 'таиланд',\n",
       " 'таиланд-великобритания-франция-германия-испания-нидерланды',\n",
       " 'таиланд-кнр-сша',\n",
       " 'таиланд-сша',\n",
       " 'турция',\n",
       " 'турция-германя-франция',\n",
       " 'турция-сша',\n",
       " 'украина',\n",
       " 'украина-германия-латвия-эстония',\n",
       " 'украина-нидерланды',\n",
       " 'уругвай-аргентина-испания',\n",
       " 'уругвай-колумбия',\n",
       " 'уругвай-мексика-германия',\n",
       " 'финляндия',\n",
       " 'финляндия-австрия-россия',\n",
       " 'финляндия-великобритания-германия',\n",
       " 'финляндия-германия',\n",
       " 'финляндия-дания-германия-ирландия',\n",
       " 'финляндия-исландия-швеция',\n",
       " 'финляндия-канада',\n",
       " 'финляндия-латвия',\n",
       " 'финляндия-польша',\n",
       " 'финляндия-франция-германия',\n",
       " 'финляндия-швеция-германия',\n",
       " 'финляндия-швеция-норвегия',\n",
       " 'франция',\n",
       " 'франция-австралия',\n",
       " 'франция-австрия',\n",
       " 'франция-австрия-германия-италия-сша',\n",
       " 'франция-аргентина',\n",
       " 'франция-бельгия',\n",
       " 'франция-бельгия-великобритания-испания-германия-сша',\n",
       " 'франция-бельгия-великобритания-сша-нидерланды-канада',\n",
       " 'франция-бельгия-испания',\n",
       " 'франция-бельгия-канада',\n",
       " 'франция-бельгия-люксембург',\n",
       " 'франция-бельгия-чехия',\n",
       " 'франция-бельгия-япония',\n",
       " 'франция-бенльгия',\n",
       " 'франция-бразилия',\n",
       " 'франция-бразилия-италия',\n",
       " 'франция-великобритания',\n",
       " 'франция-великобритания-багамскиеострова-сша',\n",
       " 'франция-великобритания-германия',\n",
       " 'франция-великобритания-камбоджа-сша-кнр',\n",
       " 'франция-великобритания-нидерланды-люксембург',\n",
       " 'франция-великобритания-чехия',\n",
       " 'франция-германия',\n",
       " 'франция-германия-австрия',\n",
       " 'франция-германия-бельгия',\n",
       " 'франция-германия-великобритания',\n",
       " 'франция-германия-италия',\n",
       " 'франция-германия-литва-нидерланды-россия',\n",
       " 'франция-германия-нидерланды',\n",
       " 'франция-германия-сша',\n",
       " 'франция-германия-турция-катар',\n",
       " 'франция-германия-швеция-сша-чехия-словакия-великобритания-нидерланды',\n",
       " 'франция-гонконг-ирландия',\n",
       " 'франция-греция',\n",
       " 'франция-грузия-германия-россия-украина-бельгия',\n",
       " 'франция-дания',\n",
       " 'франция-дания-сша',\n",
       " 'франция-дания-швеция-кнр',\n",
       " 'франция-израиль-германия',\n",
       " 'франция-индия',\n",
       " 'франция-ирландия-швеция',\n",
       " 'франция-испания',\n",
       " 'франция-испания-бельгия-панама',\n",
       " 'франция-испания-германия',\n",
       " 'франция-испания-дания-венгрия-швейцария',\n",
       " 'франция-испания-румыния-сша-бельгия',\n",
       " 'франция-испания-тайвань',\n",
       " 'франция-испания-швейцария',\n",
       " 'франция-италия',\n",
       " 'франция-италия-бельгия-кнр',\n",
       " 'франция-италия-бельгия-люксембург',\n",
       " 'франция-италия-великобритания-сша',\n",
       " 'франция-италия-иран',\n",
       " 'франция-италия-испания-венгрия',\n",
       " 'франция-италия-швейцария',\n",
       " 'франция-канада',\n",
       " 'франция-канада-бельгия',\n",
       " 'франция-канада-н.зеландия-сша-нидерланды-германия-швеция-россия',\n",
       " 'франция-китай',\n",
       " 'франция-кнр',\n",
       " 'франция-люксембург',\n",
       " 'франция-люксембург-бельгия',\n",
       " 'франция-люксембург-германия-бельгия-швейцария-великобритания',\n",
       " 'франция-македония',\n",
       " 'франция-мексика-сша',\n",
       " 'франция-монако',\n",
       " 'франция-нидерланды',\n",
       " 'франция-новаязеландия',\n",
       " 'франция-норвегия',\n",
       " 'франция-перу',\n",
       " 'франция-польша',\n",
       " 'франция-польша-бельгия',\n",
       " 'франция-португалия',\n",
       " 'франция-россия',\n",
       " 'франция-россия-румыния-италия-бельгия',\n",
       " 'франция-россия-швейцария-румыния-венгрия',\n",
       " 'франция-сенегал-бельгия',\n",
       " 'франция-сша',\n",
       " 'франция-сша-бельгия',\n",
       " 'франция-сша-великобритания-колумбия-бельгия-россия',\n",
       " 'франция-сша-норвегия-дания',\n",
       " 'франция-украина',\n",
       " 'франция-украина-грузия-армения',\n",
       " 'франция-финляндия',\n",
       " 'франция-чехия-бельгия',\n",
       " 'франция-чехия-великобритания',\n",
       " 'франция-чили',\n",
       " 'франция-швейцария',\n",
       " 'франция-швейцария-германия',\n",
       " 'франция-швеция-дания-норвегия',\n",
       " 'хорватия',\n",
       " 'чехия',\n",
       " 'чехия-великобритания-сша',\n",
       " 'чехия-германия',\n",
       " 'чехия-испания-сша',\n",
       " 'чехия-словакия-хорватия',\n",
       " 'чехословакия',\n",
       " 'чили',\n",
       " 'чили-испания',\n",
       " 'чили-франция-сша',\n",
       " 'швейцария',\n",
       " 'швейцария-австрия',\n",
       " 'швейцария-великобритания',\n",
       " 'швейцария-великобритания-франция-сша-ирландия',\n",
       " 'швейцария-германия-юар',\n",
       " 'швейцария-израиль-франция-великобритания',\n",
       " 'швейцария-кнр-сша-россия-республикакорея-великобритания',\n",
       " 'швейцария-люксембург',\n",
       " 'швейцария-франция',\n",
       " 'швеция',\n",
       " 'швеция-германия',\n",
       " 'швеция-германия-дания-норвегия',\n",
       " 'швеция-германия-франция-дания',\n",
       " 'швеция-германия-франция-норвегия',\n",
       " 'швеция-дания',\n",
       " 'швеция-дания-финляндия',\n",
       " 'швеция-куба',\n",
       " 'швеция-норвегия',\n",
       " 'швеция-норвегия-финляндия-франция',\n",
       " 'швеция-сша',\n",
       " 'швеция-финляндия-франция-норвегия',\n",
       " 'швеция-франция',\n",
       " 'швеция-франция-великобритания',\n",
       " 'швеция-франция-дания',\n",
       " 'швеция-франция-норвегия-дания',\n",
       " 'эстония',\n",
       " 'эстония-россия',\n",
       " 'юар',\n",
       " 'юар-сша',\n",
       " 'южнаякорея',\n",
       " 'южнаякорея-кнр',\n",
       " 'южнаякорея-сша',\n",
       " 'южнаякорея-сша-канада',\n",
       " 'япония',\n",
       " 'япония-великобритания',\n",
       " 'япония-великобритания-австрия-германия-ю.корея',\n",
       " 'япония-великобритания-франция',\n",
       " 'япония-великобритания-швейцария-ирландия-дания-франция-польша-австралия-канада',\n",
       " 'япония-канада',\n",
       " 'япония-кнр-южнаякорея',\n",
       " 'япония-сша',\n",
       " 'япония-сша-франция',\n",
       " 'япония-франция-сша-южнаякорея-турция']"
      ]
     },
     "execution_count": 29,
     "metadata": {},
     "output_type": "execute_result"
    }
   ],
   "source": [
    "data['production_country'] = data['production_country'].str.replace(\" \",\"\")\n",
    "data['production_country'] = data['production_country'].str.replace(\",\",\"-\")\n",
    "data['production_country'] = data['production_country'].str.lower()\n",
    "sorted(data['production_country'].unique())\n"
   ]
  },
  {
   "cell_type": "code",
   "execution_count": 30,
   "metadata": {},
   "outputs": [],
   "source": [
    "data['production_country'] = data['production_country'].str.lower()\n",
    "data.loc[data['production_country'] == \"2019\", 'production_country'] = 'unknown'\n",
    "data.loc[data['production_country'] == \"норвения\", 'production_country'] = 'норвегия'\n",
    "data.loc[data['production_country'] == \"сща\", 'production_country'] = 'сша'\n",
    "data.loc[data['production_country'] == \"cша\", 'production_country'] = 'сша'\n",
    "data['production_country'] = data['production_country'].str.replace(\"республика\",\"\")"
   ]
  },
  {
   "cell_type": "code",
   "execution_count": 31,
   "metadata": {},
   "outputs": [
    {
     "data": {
      "text/plain": [
       "803"
      ]
     },
     "execution_count": 31,
     "metadata": {},
     "output_type": "execute_result"
    }
   ],
   "source": [
    "# количество дубликатов после обработки\n",
    "len(data['production_country'].unique())"
   ]
  },
  {
   "cell_type": "markdown",
   "metadata": {},
   "source": [
    "<div class=\"alert alert-block alert-info\">В результате обработки дубликатов исправлено 14% строк. Основные проблемы: разный регистр, встречается число, у некоторых государств удалено слово \"республика\", в \"сша\" и \"сша\" первый символ написан на аглийском, встречается \"сща\", \"норвения\" вместо \"норвегии\"</div>"
   ]
  },
  {
   "cell_type": "markdown",
   "metadata": {},
   "source": [
    "<div class=\"alert alert-block alert-info\">Обработка столбца 'film_studio' на неявные дубликаты</div>"
   ]
  },
  {
   "cell_type": "code",
   "execution_count": 32,
   "metadata": {},
   "outputs": [
    {
     "data": {
      "text/plain": [
       "5460"
      ]
     },
     "execution_count": 32,
     "metadata": {},
     "output_type": "execute_result"
    }
   ],
   "source": [
    "# количество дубликатов до обработки\n",
    "len(data['film_studio'].unique())"
   ]
  },
  {
   "cell_type": "code",
   "execution_count": 33,
   "metadata": {},
   "outputs": [
    {
     "data": {
      "text/plain": [
       "5420"
      ]
     },
     "execution_count": 33,
     "metadata": {},
     "output_type": "execute_result"
    }
   ],
   "source": [
    "# преобразуем к нижнему регистру\n",
    "data['film_studio'] = data['film_studio'].str.lower()\n",
    "len(data['film_studio'].unique())"
   ]
  },
  {
   "cell_type": "markdown",
   "metadata": {},
   "source": [
    "<div class=\"alert alert-block alert-info\">Обработку столбца 'film_studio' ограничим приведеним к нижнему регистру (различных студий очень много для категоризации), тем самым уменьшим количество неявных дубликатов на 0.7%</div>"
   ]
  },
  {
   "cell_type": "markdown",
   "metadata": {},
   "source": [
    "<div class=\"alert alert-block alert-info\">Обработка столбца 'director' на неявные дубликаты</div>"
   ]
  },
  {
   "cell_type": "code",
   "execution_count": 34,
   "metadata": {},
   "outputs": [
    {
     "data": {
      "text/plain": [
       "4787"
      ]
     },
     "execution_count": 34,
     "metadata": {},
     "output_type": "execute_result"
    }
   ],
   "source": [
    "# количество дубликатов до обработки\n",
    "len(data['director'].unique())"
   ]
  },
  {
   "cell_type": "code",
   "execution_count": 35,
   "metadata": {
    "scrolled": true
   },
   "outputs": [
    {
     "data": {
      "text/plain": [
       "4782"
      ]
     },
     "execution_count": 35,
     "metadata": {},
     "output_type": "execute_result"
    }
   ],
   "source": [
    "# преобразуем к нижнему регистру\n",
    "data['director'] = data['director'].str.lower()\n",
    "len(data['director'].unique())"
   ]
  },
  {
   "cell_type": "code",
   "execution_count": 36,
   "metadata": {},
   "outputs": [
    {
     "data": {
      "text/plain": [
       "['unknown',\n",
       " 'а андрющенко',\n",
       " 'а. калюжный',\n",
       " 'а. кутерье',\n",
       " 'а.а.эшпай',\n",
       " 'а.аббасов',\n",
       " 'а.абидова (псевдоним аниса сабири)',\n",
       " 'а.аболс',\n",
       " 'а.агаджанян',\n",
       " 'а.адилханян',\n",
       " 'а.адраникян',\n",
       " 'а.аксененко',\n",
       " 'а.аксененко, э.никогосян, д.дюжев, а.вакулов (а.кульбицкий)',\n",
       " 'а.алов, в.наумов',\n",
       " 'а.аманшаев, г.шенгелия',\n",
       " 'а.амбросьев',\n",
       " 'а.амиров',\n",
       " 'а.ананикян, в.рейнгеверц',\n",
       " 'а.андрианов',\n",
       " 'а.андризани, а.бардани, в.карнелутти, ф.коста,  г.с.нардис, в.пальмьери, в.чеа, а.юлиано',\n",
       " 'а.анненский',\n",
       " 'а.аравин',\n",
       " 'а.аравин, а.прошкин',\n",
       " 'а.арпеньтеньер, а.бариларо, м.бланчес, р.валлей, л.гранд, ф.дион, а.жасина, э.коэтс,  лу хаму-лхад, п.осборн, т.ушев',\n",
       " 'а.артамонова',\n",
       " 'а.арутюнов',\n",
       " 'а.арутюнян, а.коршунов',\n",
       " 'а.атанесян',\n",
       " 'а.бадягина',\n",
       " 'а.бажанов',\n",
       " 'а.балабанов',\n",
       " 'а.балахонов',\n",
       " 'а.бальчев',\n",
       " 'а.баранов',\n",
       " 'а.баршак',\n",
       " 'а.барщевский, и.матвеев',\n",
       " 'а.барыкин',\n",
       " 'а.басаев',\n",
       " 'а.басов',\n",
       " 'а.безрук',\n",
       " 'а.беляев',\n",
       " 'а.берденников',\n",
       " 'а.бзаров',\n",
       " 'а.бильжо',\n",
       " 'а.бобров',\n",
       " 'а.бобровский',\n",
       " 'а.богатырев',\n",
       " 'а.богатырев, а.камачо',\n",
       " 'а.богданов',\n",
       " 'а.богуславский',\n",
       " 'а.богуславский, а.волгин',\n",
       " 'а.бойков',\n",
       " 'а.борматов',\n",
       " 'а.борматов, р.сорокин',\n",
       " 'а.боровикова, е.войтович, з.джиджилава, а.тимофеева, а.духонина, и.басенко, ю.машукова',\n",
       " 'а.бурцев, с.снежкин, е.аксенов, в.сорокин, и.хамраев и др.',\n",
       " 'а.бушнев',\n",
       " 'а.вартанов, к.михановский',\n",
       " 'а.васильев',\n",
       " 'а.васин, г.параджанов, о.бородина',\n",
       " 'а.вейль, ф.котларски',\n",
       " 'а.велединский',\n",
       " 'а.верещагин, о.филипенко, д.ушаков',\n",
       " 'а.виткин, м.беспалый',\n",
       " 'а.войтинский',\n",
       " 'а.войтинский, д.киселев',\n",
       " 'а.волгин',\n",
       " 'а.габриелян',\n",
       " 'а.гаврилов',\n",
       " 'а.галибин',\n",
       " 'а.геворгян',\n",
       " 'а.герасимов',\n",
       " 'а.герман',\n",
       " 'а.голуб',\n",
       " 'а.голубовский',\n",
       " 'а.гончуков',\n",
       " 'а.горбунов',\n",
       " 'а.горбунов, д.сулейманов',\n",
       " 'а.гордон',\n",
       " 'а.горчилин',\n",
       " 'а.грабарь',\n",
       " 'а.грачев',\n",
       " 'а.григорян',\n",
       " 'а.григорян, м.мкртчян',\n",
       " 'а.грицаенко',\n",
       " 'а.гришаков',\n",
       " 'а.гутман',\n",
       " 'а.давыдова',\n",
       " 'а.дамскер',\n",
       " 'а.демин, р.синкевич, н.березовая, о.ужинов и др.',\n",
       " 'а.денисова',\n",
       " 'а.дерошер',\n",
       " 'а.джазоян',\n",
       " 'а.джунковский',\n",
       " 'а.домогаров',\n",
       " 'а.домогаров (младший), в.кашляев, а.волгин, и.вилкова, и.волкова',\n",
       " 'а.драницына',\n",
       " 'а.егоров',\n",
       " 'а.емкужев',\n",
       " 'а.ефремова',\n",
       " 'а.жакулина',\n",
       " 'а.журавлева,м.кузнецова,с.меринов,а.дьяков,о.ужинов,н.гребенкина,а.соколов',\n",
       " 'а.зайцев',\n",
       " 'а.залдастанов',\n",
       " 'а.замыслов',\n",
       " 'а.занин, м.архипов, н.барабаш, а.костандакес, д.шабаев',\n",
       " 'а.зархи',\n",
       " 'а.захаров',\n",
       " 'а.званцова',\n",
       " 'а.звягинцев',\n",
       " 'а.зеленков, л.биц, а.муратов',\n",
       " 'а.зельдович',\n",
       " 'а.зенкович',\n",
       " 'а.зингерман, а.соколов, и.евланникова, д.червяцов, е.салабай, а.миронов и др.',\n",
       " 'а.злобин',\n",
       " 'а.зозуля, м.елкин',\n",
       " 'а.золотухин',\n",
       " 'а.ибрагимов',\n",
       " 'а.иванов',\n",
       " 'а.игудин',\n",
       " 'а.ильин',\n",
       " 'а.истратов',\n",
       " 'а.кавун',\n",
       " 'а.кагадеев',\n",
       " 'а.кадыкова',\n",
       " 'а.калинкин',\n",
       " 'а.кананович',\n",
       " 'а.карелина, а.филиппова, е.ланских',\n",
       " 'а.карпиловский',\n",
       " 'а.карпыков',\n",
       " 'а.касаткин',\n",
       " 'а.касаткин, н.назарова',\n",
       " 'а.каурых, с.охотин',\n",
       " 'а.кещян',\n",
       " 'а.кибкало',\n",
       " 'а.килин,  с.потапов',\n",
       " 'а.килин, с.потапов',\n",
       " 'а.ким',\n",
       " 'а.кириенко',\n",
       " 'а.кириллов',\n",
       " 'а.китайцев',\n",
       " 'а.коваленко',\n",
       " 'а.козлов',\n",
       " 'а.колмогоров',\n",
       " 'а.коломеец',\n",
       " 'а.колпин, и.пшонкин, в.бедошвили',\n",
       " 'а.колядин, м.павлов',\n",
       " 'а.коновальцева (псевдоним ангелина подорожная)',\n",
       " 'а.кончаловский',\n",
       " 'а.кордон',\n",
       " 'а.коручеков',\n",
       " 'а.корытко',\n",
       " 'а.котеночкин',\n",
       " 'а.котт',\n",
       " 'а.котт, в.котт, а.карпиловский, б.хлебников',\n",
       " 'а.кравчук',\n",
       " 'а.краевский',\n",
       " 'а.красильщиков',\n",
       " 'а.красовский',\n",
       " 'а.кретова',\n",
       " 'а.круглов',\n",
       " 'а.кузина',\n",
       " 'а.кузмин-тарасов, а.колчина',\n",
       " 'а.кузьминых',\n",
       " 'а.куликов',\n",
       " 'а.кулямин',\n",
       " 'а.ладынин',\n",
       " 'а.линич',\n",
       " 'а.лобанов',\n",
       " 'а.луканев',\n",
       " 'а.лукин',\n",
       " 'а.лукичев',\n",
       " 'а.лукьянчиков',\n",
       " 'а.лукьянчиков, с.ушаков',\n",
       " 'а.лунгин',\n",
       " 'а.магомедов',\n",
       " 'а.майовер, д.крылова',\n",
       " 'а.малюков',\n",
       " 'а.мамедов',\n",
       " 'а.манасарова',\n",
       " 'а.манзуров',\n",
       " 'а.мармонтов',\n",
       " 'а.марсакова',\n",
       " 'а.марутян',\n",
       " 'а.матисон',\n",
       " 'а.мачерет',\n",
       " 'а.мегердичев',\n",
       " 'а.меликян',\n",
       " 'а.меликян, п.руминов, н.меркулова, а.чупов, е.шелякин, р.гигинеишвили, н.сайфуллаева',\n",
       " 'а.мельник',\n",
       " 'а.мигачев',\n",
       " 'а.мизгирев',\n",
       " 'а.миндадзе',\n",
       " 'а.миронов, е.головин, е.савчук, р.верещак и др.',\n",
       " 'а.миронов, е.головин, е.савчук, р.верещак, е.салабай, е.чернова, а.бахурин',\n",
       " 'а.миронов, е.головин, р.верещак и др.',\n",
       " 'а.миронов, е.головин, р.верещак, е.салабай, в.бедошвили, е. чернова, а.бахурин, а.соколов',\n",
       " 'а.миронов, к.кравченко, е.головин, е.савчук, а.соколов, р.верещак, е.салабай',\n",
       " 'а.миронов, р.верещак, а.грибков, а.соколов и др.',\n",
       " 'а.митешин',\n",
       " 'а.митта',\n",
       " 'а.михайлов',\n",
       " 'а.михалков',\n",
       " 'а.михалков (псевдоним а.кончаловский)',\n",
       " 'а.михалков-кончаловский',\n",
       " 'а.мкртчян',\n",
       " 'а.мкртчян, л.попов',\n",
       " 'а.молочник',\n",
       " 'а.молочников',\n",
       " 'а.мурадов',\n",
       " 'а.муратов',\n",
       " 'а.мычко',\n",
       " 'а.мышкин',\n",
       " 'а.невский',\n",
       " 'а.незлобин',\n",
       " 'а.никифоров, в.шепелев, о.коронный, в.кузмина, п.скворцов',\n",
       " 'а.новиков (псевдоним - александр новиков-янгинов)',\n",
       " 'а.новокреповская',\n",
       " 'а.новоселов',\n",
       " 'а.нужный',\n",
       " 'а.оганесян',\n",
       " 'а.осипова',\n",
       " 'а.остапенко',\n",
       " 'а.панкратов',\n",
       " 'а.панкратов-черный',\n",
       " 'а.пармас',\n",
       " 'а.пармас, н.кудряшова, а.гогленкова, н.назарова, о.бычкова, а.смирнова, р.литвинова',\n",
       " 'а.пархоменко',\n",
       " 'а.першин',\n",
       " 'а.першин (псевдоним ж.крыжовников)',\n",
       " 'а.петрас',\n",
       " 'а.петров',\n",
       " 'а.петров, м.кулагин',\n",
       " 'а.петрова',\n",
       " 'а.петровская',\n",
       " 'а.петрухин',\n",
       " 'а.пиманов',\n",
       " 'а.пинхасов',\n",
       " 'а.писаркин, э.мецгер',\n",
       " 'а.пичужин',\n",
       " 'а.поженский',\n",
       " 'а.поздняков',\n",
       " 'а.поличук',\n",
       " 'а.полунина',\n",
       " 'а.попова',\n",
       " 'а.попогребский',\n",
       " 'а.почивалов',\n",
       " 'а.праздников',\n",
       " 'а.проскура',\n",
       " 'а.протоковило',\n",
       " 'а.прошкин',\n",
       " 'а.птушко',\n",
       " 'а.пурер (галин)',\n",
       " \"а.рожнова (псевдоним александра р'юж)\",\n",
       " 'а.розенберг',\n",
       " 'а.розов',\n",
       " 'а.романец',\n",
       " 'а.романец, в.марченко',\n",
       " 'а.роом',\n",
       " 'а.рубецкой, е.шабанова',\n",
       " 'а.рубинштейн, а.ким, м.воскобоев, н.беляускене',\n",
       " 'а.рудницкая, с.винокуров',\n",
       " 'а.руже',\n",
       " 'а.русланова',\n",
       " 'а.русланова (псевдоним - саша франк)',\n",
       " 'а.рыбаков',\n",
       " 'а.рыбников',\n",
       " 'а.сазонов, е.климович, а.коломеец, с.черникова, е.олейник, а.ефимова',\n",
       " 'а.сайфуллина',\n",
       " 'а.салтыков',\n",
       " 'а.салтыков, а.митта',\n",
       " 'а.самойлов',\n",
       " 'а.самойлова',\n",
       " 'а.самохвалов, б.ростов',\n",
       " 'а.сахаров',\n",
       " 'а.сахелашвили',\n",
       " 'а.сашнева',\n",
       " 'а.свирский',\n",
       " 'а.сеитаблаев',\n",
       " 'а.селиверстов',\n",
       " 'а.серый',\n",
       " 'а.сиверс',\n",
       " 'а.сидоров',\n",
       " 'а.сидоров, о.фомин, р.ярославцев',\n",
       " 'а.силкин',\n",
       " 'а.сильвестров',\n",
       " 'а.симакова',\n",
       " 'а.симонов',\n",
       " 'а.смирнов',\n",
       " 'а.смирнов, л.шепитько',\n",
       " 'а.смирнова',\n",
       " 'а.соболевский',\n",
       " 'а.созонов',\n",
       " 'а.соколов',\n",
       " 'а.соколов-дворников (псевдоним - алексей соколов)',\n",
       " 'а.соколова',\n",
       " 'а.соколюк',\n",
       " 'а.сокуров',\n",
       " 'а.стемпковский',\n",
       " 'а.столбов',\n",
       " 'а.столпер',\n",
       " 'а.столпер, б.иванов',\n",
       " 'а.стреляная',\n",
       " 'а.стриженов',\n",
       " 'а.строев',\n",
       " 'а.судиловский',\n",
       " 'а.сурикова',\n",
       " 'а.сурин',\n",
       " 'а.сутормин',\n",
       " 'а.сухарев',\n",
       " 'а.сухарев, г.шенгелия',\n",
       " 'а.тарковский',\n",
       " 'а.темников',\n",
       " 'а.титов',\n",
       " 'а.титов, л.ефимов',\n",
       " 'а.томашевский',\n",
       " 'а.турчанинов',\n",
       " 'а.усаков',\n",
       " 'а.учитель',\n",
       " 'а.файнциммер',\n",
       " 'а.федоров',\n",
       " 'а.федорченко',\n",
       " 'а.федосеенко (псевдоним ангелина никонова)',\n",
       " 'а.федотов',\n",
       " 'а.фенченко',\n",
       " 'а.фон боррис',\n",
       " 'а.фролов',\n",
       " 'а.х.песонен, э.хафнор, л.б.хансен, г.энгер, а.цварт, й.тойвоньеми',\n",
       " 'а.хаакана',\n",
       " 'а.хамраев',\n",
       " 'а.хант',\n",
       " 'а.хатулик, г.ром, к.мазахери, ж.дара, с.дара, ф.-ф.морен-варгас, л.тейлор, к.барретт',\n",
       " 'а.хачатурян',\n",
       " 'а.хван',\n",
       " 'а.хвостов',\n",
       " 'а.хмельницкая',\n",
       " 'а.храмцов, в.сотсков, и.евланникова',\n",
       " 'а.хржановский',\n",
       " 'а.цацуев',\n",
       " 'а.цицилин',\n",
       " 'а.цицилин, роберт ленс',\n",
       " 'а.цыренжапов, б.цыренов, б.доржиев, б.цыбиков, в.овчинников',\n",
       " 'а.цыренов',\n",
       " 'а.чеботарева',\n",
       " 'а.чеканов',\n",
       " 'а.чернакова',\n",
       " 'а.черномазов (псевдоним алексей нужный)',\n",
       " 'а.черняев, е.рустембеков',\n",
       " 'а.чижиков, и.чижиков',\n",
       " 'а.чукарев',\n",
       " 'а.шабаров, д.булин, н.михалкова-кончаловская, г.пирогова, е.вещева, т.федоровская, е.абызов',\n",
       " 'а.шадрина',\n",
       " 'а.шадров',\n",
       " 'а.шархун',\n",
       " 'а.шейн',\n",
       " 'а.шелехов (псевдоним александр шелл)',\n",
       " 'а.шемес',\n",
       " 'а.шемятовский, и.оганесов, к.гогленкова, а.смирнов, а. евсеев (псевдоним - хант), с.королева',\n",
       " 'а.шустикова',\n",
       " 'а.щербинин',\n",
       " 'а.щербович-вечер',\n",
       " 'а.эфрос',\n",
       " 'а.эшпай',\n",
       " 'а.южаков',\n",
       " 'а.юмагулов',\n",
       " 'а.ягубец',\n",
       " 'а.якимчук',\n",
       " 'а.якимчук, в.лагунов',\n",
       " 'а.яхнис, м.кричман',\n",
       " 'аарон вудли',\n",
       " 'аарон зельцер, джейсон фридберг',\n",
       " 'аарон кауфман',\n",
       " 'аарон кешалес, навот папушадо',\n",
       " 'аарон соркин',\n",
       " 'аасне ваа грейброкк, тор бренн, исаак гертсен, мария лойтер, патрик эклунд',\n",
       " 'аббадо даниэле',\n",
       " 'аббас киаростами',\n",
       " 'абделатиф кешиш',\n",
       " 'абделлатиф кешиш',\n",
       " 'абе форсайт',\n",
       " 'абель феррара',\n",
       " 'ава дюверней',\n",
       " 'агнес мерле',\n",
       " 'агнешка войтович-восло',\n",
       " 'агустин диас янес',\n",
       " 'адам вингард',\n",
       " 'адам гираш',\n",
       " 'адам грин',\n",
       " 'адам кук',\n",
       " 'адам леон',\n",
       " 'адам макдональд',\n",
       " 'адам маккей',\n",
       " 'адам робител',\n",
       " 'адам рэндолл',\n",
       " 'адам смит',\n",
       " 'адам шенкман',\n",
       " 'адам шиндлер',\n",
       " 'адриан биньес',\n",
       " 'адриан грюнберг',\n",
       " 'адриан молина, ли ункрич',\n",
       " 'азиз джиндани',\n",
       " 'азиф кападиа',\n",
       " 'азия ардженто',\n",
       " 'айан бонхот, питер эттедги',\n",
       " 'айбек дайырбеков',\n",
       " 'айван райтман',\n",
       " 'айвен райтман',\n",
       " 'айзек флорентайн',\n",
       " 'айк кбеян',\n",
       " 'айке грамс',\n",
       " 'айрис заки',\n",
       " 'айрон блейз, роберт уокер',\n",
       " 'акан сатаев',\n",
       " 'аки каурисмяки',\n",
       " 'акива голдсман',\n",
       " 'акива шаффер',\n",
       " 'акош барноцкий',\n",
       " 'аку лоухимис',\n",
       " 'алан линдсэй',\n",
       " 'алан пол',\n",
       " 'алан тейлор',\n",
       " 'алан тэйлор',\n",
       " 'алберт хьюз, эллен хьюз',\n",
       " 'алекс ван вармердам',\n",
       " 'алекс гибни',\n",
       " 'алекс грегори, питер хайк',\n",
       " 'алекс де ла иглесиа',\n",
       " 'алекс замм',\n",
       " 'алекс колл',\n",
       " 'алекс коллс',\n",
       " 'алекс куртцман',\n",
       " 'алекс олье',\n",
       " 'алекс оррель, эдуардо шульдт',\n",
       " 'алекс оруэлл',\n",
       " 'алекс пастор, давид пастор',\n",
       " 'алекс пастор, дэвид пастор',\n",
       " 'алекс пройас',\n",
       " 'алекс стадерманн',\n",
       " 'александр абатуров',\n",
       " 'александр ажа',\n",
       " 'александр алешечкин, вячеслав алешечкин',\n",
       " 'александр астье, луис клиши',\n",
       " 'александр бах',\n",
       " 'александр бустильо, жюльен мори',\n",
       " 'александр высоковский',\n",
       " 'александр клименко',\n",
       " 'александр коффре',\n",
       " 'александр потехин',\n",
       " 'александр пэйн',\n",
       " 'александр сокуров',\n",
       " 'алексей козлов',\n",
       " 'алексис михалик',\n",
       " 'ален вулф',\n",
       " 'ален рене',\n",
       " 'ален шаба',\n",
       " 'алессандро карлони, дженнифер ю',\n",
       " 'алессандро сиани',\n",
       " 'алессандро сьяни',\n",
       " 'алехандро агрести',\n",
       " 'алехандро аменабар',\n",
       " 'алехандро бругес',\n",
       " 'алехандро гонсалес иньярриту',\n",
       " 'алехандро хидальго',\n",
       " 'алехандро ходоровский',\n",
       " 'али аббаси',\n",
       " 'али замади ахади',\n",
       " 'али самади ахади',\n",
       " 'алик моухибян, герин хованнисян',\n",
       " 'алис винокур',\n",
       " 'алиса хазанова',\n",
       " 'алистер грирсон',\n",
       " 'алистер сиддонс',\n",
       " 'аличе рорвахер',\n",
       " 'алла ковган',\n",
       " 'аллан голдстайн',\n",
       " 'аллен колтер',\n",
       " 'альбер дюпонтель',\n",
       " 'альберт майзелс',\n",
       " 'альберт хьюз',\n",
       " 'альберто мар',\n",
       " 'альберто родригез',\n",
       " 'альберто родригес',\n",
       " 'альфонсо гомес-рехон',\n",
       " 'альфонсо куарон',\n",
       " 'альфредо монтеро',\n",
       " 'альфредо содергит',\n",
       " 'амалия несби фика, юрген лердам, филип эйнштейн липски',\n",
       " 'аманда шарп',\n",
       " 'аманда штерс',\n",
       " 'амат эскаланте',\n",
       " 'амели ван элбт',\n",
       " 'амели равалек',\n",
       " 'амир надери',\n",
       " 'ана урушадзе',\n",
       " 'ананд таккер',\n",
       " 'анастасия дыро, андрей шохан',\n",
       " 'анатолий иванов',\n",
       " 'андерс вальтер хансен',\n",
       " 'анджей бартковяк',\n",
       " 'анджей якимовский',\n",
       " 'анджелина джоли',\n",
       " 'анджелп беттис, элен катте, кааре эндрюс',\n",
       " 'андре овредал',\n",
       " 'андре сингер',\n",
       " 'андре тешине',\n",
       " 'андреа андерман',\n",
       " 'андреа арнольд',\n",
       " 'андреа блок, кристиан хаас',\n",
       " 'андреа брет',\n",
       " 'андреа ди стефано',\n",
       " 'андреас дрезен',\n",
       " 'андреас прохазка',\n",
       " 'андрей беляев',\n",
       " 'андрей беляев, владислав байрамгулов, денис червяцов, илья трусов, ринат газизов',\n",
       " 'андрей гринько, макс сирый',\n",
       " 'андрей кончаловский',\n",
       " 'андрей тарковский',\n",
       " 'андрей щербан',\n",
       " 'андрес баиз',\n",
       " 'андрес кутерье',\n",
       " 'андрес мускетти',\n",
       " 'андрес пуустусмаа',\n",
       " 'андрэ шефер',\n",
       " 'анжела робинсон',\n",
       " 'аниш чаганти',\n",
       " 'анн фонтейн',\n",
       " 'анн фонтен',\n",
       " 'анна аревшатян',\n",
       " 'анна боден, райан флек',\n",
       " 'анна негри',\n",
       " 'анна соловьева',\n",
       " 'анна соловьева, наталья березовская',\n",
       " 'анна ферстер',\n",
       " 'аннабель арден',\n",
       " 'анне севитски',\n",
       " 'анно зауль',\n",
       " 'антон азаров',\n",
       " 'антон корбайн',\n",
       " 'антон корбейн',\n",
       " 'антони кордье',\n",
       " 'антонин бодри',\n",
       " 'антонио капуано',\n",
       " 'антонио негрет',\n",
       " 'антонио падован',\n",
       " 'антуан бардо-жаке',\n",
       " 'антуан блоссье',\n",
       " 'антуан томас, джек фрост',\n",
       " 'антуан фукуа',\n",
       " 'анубав синха',\n",
       " 'анхель алонсо',\n",
       " 'анхель грация',\n",
       " 'аньес варда, дидье роже',\n",
       " 'аньес обадья',\n",
       " 'апичатпонг вирасетакул',\n",
       " 'ара пайая',\n",
       " 'арам раппапорт',\n",
       " 'ари астер',\n",
       " 'ари сендел',\n",
       " 'ари фольман',\n",
       " 'ариэль вромен',\n",
       " 'ариэль зейтун',\n",
       " 'аркадий коган',\n",
       " 'арман марутян, ваагн хачатрян',\n",
       " 'армандо ианнуччи',\n",
       " 'арни линдер нэсс',\n",
       " 'арно бурон, антун крингс',\n",
       " 'арно деплешен',\n",
       " 'арно ларье, жан-мари ларье',\n",
       " 'арно лемор',\n",
       " 'арнольд гискин',\n",
       " 'артем лукичев',\n",
       " 'артур бензакен',\n",
       " 'артур делер, квентин рейно',\n",
       " 'артюс де пенгерн',\n",
       " 'асаф бернштейн',\n",
       " 'асгар фархади',\n",
       " 'асгер лет',\n",
       " 'аскар бисембин',\n",
       " 'аскар узабаев',\n",
       " 'атом эгоян',\n",
       " 'аудни аусгейрссон',\n",
       " 'аун хое го',\n",
       " 'афонсо пойарт',\n",
       " 'ахеро манас',\n",
       " 'ахмед сонмез',\n",
       " 'аюму ватанабэ',\n",
       " 'б. бум',\n",
       " 'б.акопов',\n",
       " 'б.бабочкин',\n",
       " 'б.бадриев',\n",
       " 'б.бакурадзе',\n",
       " 'б.барнет',\n",
       " 'б.батуллин',\n",
       " 'б.бушмелев',\n",
       " 'б.волчек',\n",
       " 'б.грачевский',\n",
       " 'б.гуц',\n",
       " 'б.доржиев',\n",
       " 'б.дробязко',\n",
       " 'б.дышенов',\n",
       " 'б.жамьянгийн, а.бобровский',\n",
       " 'б.казаков, е.серов',\n",
       " 'б.куломзин',\n",
       " 'б.мамлин',\n",
       " 'б.метальников',\n",
       " 'б.терекбаев',\n",
       " 'б.токарев',\n",
       " 'б.токарев, л.гладунко',\n",
       " 'б.уладаев',\n",
       " 'б.хлебников',\n",
       " 'б.худойназаров',\n",
       " 'б.юсупов',\n",
       " 'б.юсупов, р.еникеев',\n",
       " 'б.яшин',\n",
       " 'б.яшин, а.смирнов',\n",
       " 'бабак наджафи',\n",
       " 'баз лурман',\n",
       " 'бальтазар кормакур',\n",
       " 'бальтасар кормакур',\n",
       " 'баран бо одар',\n",
       " 'барбара топсе-ротенборг',\n",
       " 'барбет шредер',\n",
       " 'барри дженкинс',\n",
       " 'барри зонненфельд',\n",
       " 'барри кук, нил найтингейл',\n",
       " 'барри левинсон',\n",
       " 'барт фрейндлих',\n",
       " 'бартлетт шер',\n",
       " 'бастер китон',\n",
       " 'бен аффлек',\n",
       " 'бен блейн, крис блейн',\n",
       " 'бен бранд, дара братт, маттье донк, морган кранц, телия петраки, миклош фелвидеки',\n",
       " 'бен гез, александра кулак',\n",
       " 'бен грегор',\n",
       " 'бен зайтлин',\n",
       " 'бен луин',\n",
       " 'бен нотт, морган о.нил',\n",
       " 'бен стассен',\n",
       " 'бен стиллер',\n",
       " 'бен стэйссен',\n",
       " 'бен сэфди, джошуа сэфди',\n",
       " 'бен уитли',\n",
       " 'бен янгер',\n",
       " 'бенедикт эндрюс',\n",
       " 'бенедикт эрлингссон',\n",
       " 'бенжамин гуэди',\n",
       " 'бенжамин роше',\n",
       " 'бени бернардт, энтони браун',\n",
       " 'бени бернхардт, луиз а.гиков',\n",
       " 'бенисио дель торо, пабло траперо, элиа сулейман, гаспар ноэ, лоран канте, хулио медем, хуан карлос табио',\n",
       " 'беннетт миллер',\n",
       " 'бенсон ли',\n",
       " 'бенуа делепин, гюстав де керверн',\n",
       " 'бенуа делепин, гюстав керверн',\n",
       " 'бенуа жако',\n",
       " 'бенуа филиппон, алесандр эбоян',\n",
       " 'беньямин хайзенберг',\n",
       " 'беппе де томази',\n",
       " 'бернард роуз',\n",
       " 'бернардо бертолуччи',\n",
       " 'берни маттинсон',\n",
       " 'бернхард каммель',\n",
       " 'берр стирс',\n",
       " 'бертран банелло',\n",
       " 'бертран блие',\n",
       " 'бертран бонелло',\n",
       " 'бертран тавернье',\n",
       " 'бетти томас',\n",
       " 'бибо бержерон',\n",
       " 'бигас луна',\n",
       " 'билл беннетт',\n",
       " 'билл джирхарт, роэль рейн, дэвид стрейтон, кевин танчароэн, крис фишер, неаса хардиман',\n",
       " 'билл джонс, джефф симпсон, бен тимлетт',\n",
       " 'билл кондон',\n",
       " 'билл оливер',\n",
       " 'билл плимптон',\n",
       " 'билл плимтон',\n",
       " 'билл холдермэн',\n",
       " 'билле аугуст',\n",
       " 'билли боб торнтон',\n",
       " 'билли рэй',\n",
       " 'бинг лю',\n",
       " 'биргер ларсен',\n",
       " 'биргитте стэмозе',\n",
       " 'бландин ленуар',\n",
       " 'блэр эриксон',\n",
       " 'бо дзенга',\n",
       " 'боаз якин',\n",
       " 'боб персичетти, питер рамси, родни ротман',\n",
       " 'боб фишер, роб гринберг',\n",
       " 'бобби фаррелли, питер фаррелли',\n",
       " 'бобкэт голдтуэйт',\n",
       " 'бобо берманс',\n",
       " 'бора дагтекин',\n",
       " 'боривой земан',\n",
       " 'борис альинович, харальд зиперманн',\n",
       " 'брайан а.миллер',\n",
       " 'брайан гудман',\n",
       " 'брайан де пальма',\n",
       " 'брайан декьюбелис',\n",
       " 'брайан кирк',\n",
       " 'брайан клагман, ли стернтал',\n",
       " 'брайан лардж',\n",
       " 'брайан ли',\n",
       " 'брайан о.мэлли',\n",
       " 'брайан персиваль',\n",
       " 'брайан пойсер',\n",
       " 'брайан сингер',\n",
       " 'брайан смрз',\n",
       " 'брайан томсон, гейл эдвардс',\n",
       " 'брайан фи',\n",
       " 'брайан фогель',\n",
       " 'брайан хелгеленд',\n",
       " 'брайан хенсон',\n",
       " 'брайан хориути',\n",
       " 'браян левант',\n",
       " 'брек айзнер',\n",
       " 'брек эйзнер',\n",
       " 'брек эйснер',\n",
       " 'бренда чапмен, марк эндрюс',\n",
       " 'бретт ратнер',\n",
       " 'бретт рэтнер',\n",
       " 'бретт симмонс',\n",
       " 'бронвин деннисон, мигель мартинез-хоффре, пол браун',\n",
       " 'бруно халлин',\n",
       " 'бруно шиш',\n",
       " 'брэд андерсон',\n",
       " 'брэд берд',\n",
       " 'брэд пейтон',\n",
       " 'брэд силберлинг',\n",
       " 'брэд фурман',\n",
       " 'брэдли кинг',\n",
       " 'брэдли купер',\n",
       " 'брэдли паркер',\n",
       " 'брэйден кинг',\n",
       " 'брэйди корбет',\n",
       " 'брэндон кристенсен',\n",
       " 'брюно дюмон',\n",
       " 'брюно подалидес',\n",
       " 'брюс бересфорд',\n",
       " 'брюс робинсон',\n",
       " 'брюс э.эванс',\n",
       " 'бьерн рунге',\n",
       " 'бэз лурман',\n",
       " 'бэн палмер',\n",
       " 'бэнкси',\n",
       " 'в.абдрашитов',\n",
       " 'в.азаров',\n",
       " 'в.азаров, н.досталь',\n",
       " 'в.азеев',\n",
       " 'в.акобян',\n",
       " 'в.алеников',\n",
       " 'в.алферов',\n",
       " 'в.аравин',\n",
       " 'в.арясов',\n",
       " 'в.барбэ',\n",
       " 'в.барбэ, м.свешников',\n",
       " 'в.бархатов',\n",
       " 'в.басов',\n",
       " 'в.бедошвили, о.ужинов, и.пшонкин, д.цыбулькин',\n",
       " 'в.бек',\n",
       " 'в.бек, и.оганесов, а.симакова, п.сеплярский',\n",
       " 'в.белов',\n",
       " 'в.битоков',\n",
       " 'в.бортко',\n",
       " 'в.бродский',\n",
       " 'в.виноградов',\n",
       " 'в.витовцев',\n",
       " 'в.волгин при участии а.ягубец',\n",
       " 'в.воробьев',\n",
       " 'в.воронцов',\n",
       " 'в.вохминцев, и.оганесов, а.безрукова (псевдоним - анна матисон), р.мухомеджан, е.сычев',\n",
       " 'в.гай германика',\n",
       " 'в.галкина',\n",
       " 'в.георгиев',\n",
       " 'в.герасимов',\n",
       " 'в.гинзбург',\n",
       " 'в.глаголева',\n",
       " 'в.глухушин',\n",
       " 'в.гришин (псевдоним - влад гришин), а.тельнов',\n",
       " 'в.демент',\n",
       " 'в.дербенев',\n",
       " 'в.донсков',\n",
       " 'в.дубровицкий',\n",
       " 'в.дьяченко',\n",
       " 'в.елина, ю.кошкина, к.макаренков, с.юдаков, т.игуменцева',\n",
       " 'в.есинов',\n",
       " 'в.ефремов, и.ефремова, в.лопач',\n",
       " 'в.журавлев',\n",
       " 'в.захаров',\n",
       " 'в.златопольский',\n",
       " 'в.ивакин, д.сорокин, о.алиев, а.горовацкий, д.маковцев и др.',\n",
       " 'в.иванов, с.комаров',\n",
       " 'в.ивановская',\n",
       " 'в.каминский',\n",
       " 'в.каплуновский',\n",
       " 'в.карабанов',\n",
       " 'в.кильчевская',\n",
       " 'в.козлов',\n",
       " 'в.копцев, е.копцева',\n",
       " 'в.короленков',\n",
       " 'в.котт',\n",
       " 'в.краснопольский, в.усков',\n",
       " 'в.кремнев',\n",
       " 'в.кремнев, э.гаврилов',\n",
       " 'в.криштофович',\n",
       " 'в.крючков',\n",
       " 'в.кузенков',\n",
       " 'в.кузнецов',\n",
       " 'в.кузовлев',\n",
       " 'в.кушнирович (псевдоним в.бенигсен)',\n",
       " 'в.кущинский',\n",
       " 'в.лавров',\n",
       " 'в.лакисов',\n",
       " 'в.лаптев',\n",
       " 'в.лисневский, с.пикалов',\n",
       " 'в.локтионов',\n",
       " 'в.лонской',\n",
       " 'в.макарихин',\n",
       " 'в.максаков',\n",
       " 'в.марин',\n",
       " 'в.мариничев',\n",
       " 'в.марков',\n",
       " 'в.медведев',\n",
       " 'в.мельников',\n",
       " 'в.меньков, с.линцов, р.саульский',\n",
       " 'в.меньшов',\n",
       " 'в.мережко',\n",
       " 'в.минорский',\n",
       " 'в.мирзоев',\n",
       " 'в.моргенштерн',\n",
       " 'в.москаленко',\n",
       " 'в.мухаметзянов',\n",
       " 'в.мухаметзянов, в.пономарев, а.миронов, е.салабай',\n",
       " 'в.мякишева',\n",
       " 'в.назаров',\n",
       " 'в.немоляев',\n",
       " 'в.непевный',\n",
       " 'в.николаев, м.бабенко',\n",
       " 'в.новиков',\n",
       " 'в.огородников',\n",
       " 'в.олькович, с.матросова, д.иванов, а.сэмбон',\n",
       " 'в.ордынский',\n",
       " 'в.орел',\n",
       " 'в.орехов',\n",
       " 'в.павлов',\n",
       " 'в.павлович',\n",
       " 'в.панжев, г.курлаев, и.белостоцкий, м.сулейманова, н.репина, с.морозов и др.',\n",
       " 'в.панжев, г.курлаев, ф.кривошеев, м.сулейманова, н.репина, с.морозов и др.',\n",
       " 'в.панжев, е.соколов, а.щеглов, г.курлаев, н.репина и др.',\n",
       " 'в.панков',\n",
       " 'в.пендраковский',\n",
       " 'в.пендраковский, ю.рогозин',\n",
       " 'в.перельман',\n",
       " 'в.перов, а.кольцатый',\n",
       " 'в.петров',\n",
       " 'в.плотников, г.гитис',\n",
       " 'в.плучек, е.народицкая-сташевская',\n",
       " 'в.пономарев, а.миронов, а.колпин, а.толкалин и др.',\n",
       " 'в.пономарев, а.миронов, е.салабай',\n",
       " 'в.пономарев, а.миронов, е.салабай и др.',\n",
       " 'в.пономарев, а.миронов, е.салабай, а.хачатурян, е.чернова, а.бахурин',\n",
       " 'в.пономарев, а.миронов, е.салабай, в.бедошвили и др.',\n",
       " 'в.пономарев, а.миронов, е.салабай, и.пшонкин',\n",
       " 'в.пономарев, а.миронов, е.салабай, н.мальгина',\n",
       " 'в.потапов, а.карелин',\n",
       " 'в.потапов, ю.бердников',\n",
       " 'в.потемкин',\n",
       " 'в.приходько',\n",
       " 'в.пронин',\n",
       " 'в.пудовкин',\n",
       " 'в.пудовкин, д.васильев',\n",
       " 'в.пудовкин, м.доллер',\n",
       " 'в.ракша',\n",
       " 'в.ровенский',\n",
       " 'в.ровенский, н.лопато, в.азеев',\n",
       " 'в.рощин',\n",
       " 'в.рудак',\n",
       " 'в.саков',\n",
       " 'в.салтыков',\n",
       " 'в.семеновых',\n",
       " 'в.сериков',\n",
       " 'в.сигарев',\n",
       " 'в.сидоренко',\n",
       " 'в.скуйбин',\n",
       " 'в.смолина',\n",
       " 'в.соколовский',\n",
       " 'в.сторожева',\n",
       " 'в.сунцов',\n",
       " 'в.суслин',\n",
       " 'в.татарский',\n",
       " 'в.тертышный',\n",
       " 'в.тимощенко',\n",
       " 'в.титов',\n",
       " 'в.тодоровский',\n",
       " 'в.толкачиков',\n",
       " 'в.торопчин',\n",
       " 'в.тумаев',\n",
       " 'в.угличин',\n",
       " 'в.фанасютина',\n",
       " 'в.фатьянов',\n",
       " 'в.федоров',\n",
       " 'в.фекленко',\n",
       " 'в.фурманов',\n",
       " 'в.харченко',\n",
       " 'в.харченко, а.волков',\n",
       " 'в.харьков',\n",
       " 'в.хотиненко',\n",
       " 'в.хохлов, к.ляшенко',\n",
       " 'в.чеботарев',\n",
       " 'в.чигинский',\n",
       " 'в.чичайкин',\n",
       " 'в.чубриков',\n",
       " 'в.шамиров',\n",
       " 'в.шамиров, д.балинова, р.хачмамук',\n",
       " 'в.шамшурин',\n",
       " 'в.шевельков',\n",
       " 'в.шепелев',\n",
       " 'в.штерянов при участии е.немых',\n",
       " 'в.шукшин',\n",
       " 'в.щегольков',\n",
       " 'в.эйснер',\n",
       " 'в.юркус',\n",
       " 'в.яковлев',\n",
       " 'в.янковский',\n",
       " 'ваге саян',\n",
       " 'вадим перельман',\n",
       " 'вадих эль хайек',\n",
       " 'валентино пиконе, сальваторе фикарра',\n",
       " 'валери донзелли',\n",
       " 'валерио аттаназио',\n",
       " 'валерио мьели',\n",
       " 'валерия бруни-тедески',\n",
       " 'валерия гай германика',\n",
       " 'валерия паризи',\n",
       " 'ван сылинь, чжен линьна',\n",
       " 'ванесса фильо',\n",
       " 'вано бурдули',\n",
       " 'вари ом, джорджия уайсс',\n",
       " 'вейн тонли',\n",
       " 'вернер херцог',\n",
       " 'виджай кришна ачария',\n",
       " 'вик армстронг',\n",
       " 'викрам батт',\n",
       " 'виктор гарсия',\n",
       " 'виктор косаковский',\n",
       " 'виктор левин',\n",
       " 'виктор сальва',\n",
       " 'виктор сейнт макари',\n",
       " 'виктор флеминг',\n",
       " 'вильгельм домке-шульц',\n",
       " 'вильям де витал',\n",
       " 'вим вендерс',\n",
       " 'вим вендерс, джулиано рибейру сальгаду',\n",
       " 'винко брешан',\n",
       " \"винсент д'онофрио\",\n",
       " 'винсент кестелут, бен стассен',\n",
       " 'винсент паронно, маржан сатрапи',\n",
       " 'винсент патерсон',\n",
       " 'винсент чжоу',\n",
       " 'винченцо натали',\n",
       " 'виола байер, стефан берман, мэрайке блау, йорис опринс, пол плобергер, жан-батист пуйю, йюст раймерс, йоб роггевен, эрик шмит, бен эстон',\n",
       " 'виталий манский',\n",
       " 'витторио тавиани, паоло тавиани',\n",
       " 'вич каосаянанда',\n",
       " 'виченте аморим, гильермо арриага, стефан зллиотт',\n",
       " 'вишес бразерс',\n",
       " 'вл.китт',\n",
       " 'владимир дрга',\n",
       " 'владимир чеботарев',\n",
       " 'владислав байрамгулов',\n",
       " 'владислав пасиковский',\n",
       " 'вольфганг гроос',\n",
       " 'вольфганг лауэнштайн, кристоф лауэнштайн',\n",
       " 'вольфганг лауэнштайн, кристоф лауэнштайн, шон маккормак',\n",
       " 'вольфганг петерсен',\n",
       " 'вольфганг петерсон',\n",
       " 'вон стайн',\n",
       " 'вонг кар вай',\n",
       " 'вонг чинг по',\n",
       " 'вонг юнфей',\n",
       " 'вуди аллен',\n",
       " 'вэй кеунг лау, эндрю лу',\n",
       " 'вэйшали синха',\n",
       " 'г.александров',\n",
       " 'г.бардин',\n",
       " 'г.бежанов',\n",
       " 'г.болдугеров',\n",
       " 'г.гитис',\n",
       " 'г.голубева',\n",
       " 'г.данелия',\n",
       " 'г.данелия, и.таланкин',\n",
       " 'г.добрыгин',\n",
       " 'г.долматовская',\n",
       " 'г.дюкарев, а.рубинштейн, а.ким, м.воскобоев, н.беляускене',\n",
       " 'г.евтушенко',\n",
       " 'г.егиазаров',\n",
       " 'г.жихаревич',\n",
       " 'г.заозерский',\n",
       " 'г.игнатов',\n",
       " ...]"
      ]
     },
     "execution_count": 36,
     "metadata": {},
     "output_type": "execute_result"
    }
   ],
   "source": [
    "sorted(data['director'].unique())"
   ]
  },
  {
   "cell_type": "markdown",
   "metadata": {},
   "source": [
    "<div class=\"alert alert-block alert-info\">Обработку столбца 'director' ограничим приведеним к нижнему регистру (различных студий очень много для категоризации), тем самым уменьшим количество неявных дубликатов на 0.1%. Конечно, строк-дублей из-за разной транскрипции перевода, очень много (например, \"Бретт Ратнер / Бретт Рэтнер\" или \"Вольфганг Петерсен / Петерсон\"), но поскольку в исследовательском анализе эти данные не используются, детально очищать строки от дубликатов нет смысла</div>"
   ]
  },
  {
   "cell_type": "code",
   "execution_count": 37,
   "metadata": {},
   "outputs": [
    {
     "data": {
      "text/plain": [
       "5333"
      ]
     },
     "execution_count": 37,
     "metadata": {},
     "output_type": "execute_result"
    }
   ],
   "source": [
    "# количество дубликатов до обработки\n",
    "len(data['producer'].unique())"
   ]
  },
  {
   "cell_type": "code",
   "execution_count": 38,
   "metadata": {
    "scrolled": true
   },
   "outputs": [
    {
     "data": {
      "text/plain": [
       "5325"
      ]
     },
     "execution_count": 38,
     "metadata": {},
     "output_type": "execute_result"
    }
   ],
   "source": [
    "# преобразуем к нижнему регистру\n",
    "data['producer'] = data['producer'].str.lower()\n",
    "len(data['producer'].unique())"
   ]
  },
  {
   "cell_type": "markdown",
   "metadata": {},
   "source": [
    "<div class=\"alert alert-block alert-info\">Обработку столбца 'producer' ограничим приведеним к нижнему регистру (различных студий очень много для категоризации), тем самым уменьшим количество неявных дубликатов на 0.1%.</div>"
   ]
  },
  {
   "cell_type": "code",
   "execution_count": 39,
   "metadata": {},
   "outputs": [
    {
     "data": {
      "text/plain": [
       "743"
      ]
     },
     "execution_count": 39,
     "metadata": {},
     "output_type": "execute_result"
    }
   ],
   "source": [
    "# количество дубликатов до обработки\n",
    "len(data['genres'].unique())"
   ]
  },
  {
   "cell_type": "code",
   "execution_count": 40,
   "metadata": {
    "scrolled": true
   },
   "outputs": [
    {
     "data": {
      "text/plain": [
       "743"
      ]
     },
     "execution_count": 40,
     "metadata": {},
     "output_type": "execute_result"
    }
   ],
   "source": [
    "# преобразуем к нижнему регистру\n",
    "data['genres'] = data['genres'].str.lower()\n",
    "len(data['genres'].unique())"
   ]
  },
  {
   "cell_type": "markdown",
   "metadata": {},
   "source": [
    "<div class=\"alert alert-block alert-info\">В обарботку 'genres' больше добавить нечего (ё на е и лишние пробелы были заменены ранее</div>"
   ]
  },
  {
   "cell_type": "markdown",
   "metadata": {
    "id": "XFSN5lrEgFyR"
   },
   "source": [
    "#### Шаг 2.5. Проверьте количественные значения\n",
    "\n",
    "- Проверьте, обнаружились ли в таких столбцах подозрительные данные. Как с такими данными лучше поступить?\n",
    "\n",
    "<div id=\"accordion\">\n",
    "    <div class=\"card\">\n",
    "        <div class=\"card-header\" id=\"headingThree\">\n",
    "            <button class=\"btn btn-link collapsed\" data-toggle=\"collapse\" data-target=\"#collapseHint_budget\" aria-expanded=\"false\" aria-controls=\"collapseHint_budget\">Подсказка</button>\n",
    "        </div>\n",
    "        <div id=\"collapseHint_budget\" class=\"collapse\" aria-labelledby=\"headingThree\" data-parent=\"#accordion\">\n",
    "            <div class=\"card-body\">\n",
    "Обратите внимание на описание столбца <code>budget</code>. Как этот столбец соотносится с двумя другими: <code>refundable_support</code> и <code>nonrefundable_support</code>?\n",
    "            </div>\n",
    "        </div>\n",
    "    </div>\n",
    "</div>"
   ]
  },
  {
   "cell_type": "code",
   "execution_count": 41,
   "metadata": {
    "id": "YbzClBxagFyS"
   },
   "outputs": [
    {
     "data": {
      "text/html": [
       "<div>\n",
       "<style scoped>\n",
       "    .dataframe tbody tr th:only-of-type {\n",
       "        vertical-align: middle;\n",
       "    }\n",
       "\n",
       "    .dataframe tbody tr th {\n",
       "        vertical-align: top;\n",
       "    }\n",
       "\n",
       "    .dataframe thead th {\n",
       "        text-align: right;\n",
       "    }\n",
       "</style>\n",
       "<table border=\"1\" class=\"dataframe\">\n",
       "  <thead>\n",
       "    <tr style=\"text-align: right;\">\n",
       "      <th></th>\n",
       "      <th>title</th>\n",
       "      <th>puNumber</th>\n",
       "      <th>show_start_date</th>\n",
       "      <th>type</th>\n",
       "      <th>film_studio</th>\n",
       "      <th>production_country</th>\n",
       "      <th>director</th>\n",
       "      <th>producer</th>\n",
       "      <th>age_restriction</th>\n",
       "      <th>refundable_support</th>\n",
       "      <th>nonrefundable_support</th>\n",
       "      <th>budget</th>\n",
       "      <th>financing_source</th>\n",
       "      <th>ratings</th>\n",
       "      <th>genres</th>\n",
       "      <th>box_office</th>\n",
       "    </tr>\n",
       "  </thead>\n",
       "  <tbody>\n",
       "    <tr>\n",
       "      <th>1920</th>\n",
       "      <td>14+</td>\n",
       "      <td>111023614</td>\n",
       "      <td>2014-12-19</td>\n",
       "      <td>Художественный</td>\n",
       "      <td>ооо киностудия  \"сентябрь\"</td>\n",
       "      <td>россия</td>\n",
       "      <td>а.зайцев</td>\n",
       "      <td>о.гранина, а.зайцев</td>\n",
       "      <td>«16+» - для детей старше 16 лет</td>\n",
       "      <td>0.000</td>\n",
       "      <td>23.000</td>\n",
       "      <td>0.000</td>\n",
       "      <td>Министерство культуры, Фонд кино</td>\n",
       "      <td>6.600</td>\n",
       "      <td>мелодрама</td>\n",
       "      <td>10.234</td>\n",
       "    </tr>\n",
       "    <tr>\n",
       "      <th>1925</th>\n",
       "      <td>Дуxless 2</td>\n",
       "      <td>111000415</td>\n",
       "      <td>2015-01-26</td>\n",
       "      <td>Художественный</td>\n",
       "      <td>ооо \"киностудия \"слово\", ооо \"арт пикчерс студия\"</td>\n",
       "      <td>россия</td>\n",
       "      <td>р.прыгунов</td>\n",
       "      <td>п.ануров, ф.бондарчук, д.рудовский</td>\n",
       "      <td>«16+» - для детей старше 16 лет</td>\n",
       "      <td>0.000</td>\n",
       "      <td>75.000</td>\n",
       "      <td>0.000</td>\n",
       "      <td>Фонд кино</td>\n",
       "      <td>6.600</td>\n",
       "      <td>драма</td>\n",
       "      <td>446.164</td>\n",
       "    </tr>\n",
       "    <tr>\n",
       "      <th>2317</th>\n",
       "      <td>Воин (2015)</td>\n",
       "      <td>111017315</td>\n",
       "      <td>2015-09-28</td>\n",
       "      <td>Художественный</td>\n",
       "      <td>ооо \"форпост продакшн\", ооо \"арт пикчерс студия\"</td>\n",
       "      <td>россия</td>\n",
       "      <td>а.андрианов</td>\n",
       "      <td>ооо \"арт пикчерс студия\"</td>\n",
       "      <td>«12+» - для детей старше 12 лет</td>\n",
       "      <td>10.000</td>\n",
       "      <td>70.000</td>\n",
       "      <td>0.000</td>\n",
       "      <td>Фонд кино</td>\n",
       "      <td>7.800</td>\n",
       "      <td>боевик,драма,криминал</td>\n",
       "      <td>196.572</td>\n",
       "    </tr>\n",
       "    <tr>\n",
       "      <th>2377</th>\n",
       "      <td>Бармен</td>\n",
       "      <td>111009615</td>\n",
       "      <td>2015-05-26</td>\n",
       "      <td>Художественный</td>\n",
       "      <td>ао \"вайт медиа\", ооо \"арт пикчерс студия\"</td>\n",
       "      <td>россия</td>\n",
       "      <td>д.штурманова</td>\n",
       "      <td>т.вайнштейн</td>\n",
       "      <td>«16+» - для детей старше 16 лет</td>\n",
       "      <td>20.000</td>\n",
       "      <td>0.000</td>\n",
       "      <td>0.000</td>\n",
       "      <td>Фонд кино</td>\n",
       "      <td>6.200</td>\n",
       "      <td>комедия,фэнтези</td>\n",
       "      <td>67.419</td>\n",
       "    </tr>\n",
       "    <tr>\n",
       "      <th>2457</th>\n",
       "      <td>Савва. Сердце воина</td>\n",
       "      <td>114001715</td>\n",
       "      <td>2015-07-21</td>\n",
       "      <td>Анимационный</td>\n",
       "      <td>ооо \"глюкоза продакшн\", ооо \"арт пикчерс студия\"</td>\n",
       "      <td>россия</td>\n",
       "      <td>м.фадеев</td>\n",
       "      <td>а.чистяков</td>\n",
       "      <td>«6+» - для детей старше 6 лет</td>\n",
       "      <td>60.000</td>\n",
       "      <td>100.000</td>\n",
       "      <td>0.000</td>\n",
       "      <td>Фонд кино</td>\n",
       "      <td>4.600</td>\n",
       "      <td>мультфильм,приключения,фэнтези</td>\n",
       "      <td>184.488</td>\n",
       "    </tr>\n",
       "  </tbody>\n",
       "</table>\n",
       "</div>"
      ],
      "text/plain": [
       "                    title   puNumber show_start_date            type  \\\n",
       "1920                  14+  111023614      2014-12-19  Художественный   \n",
       "1925            Дуxless 2  111000415      2015-01-26  Художественный   \n",
       "2317          Воин (2015)  111017315      2015-09-28  Художественный   \n",
       "2377               Бармен  111009615      2015-05-26  Художественный   \n",
       "2457  Савва. Сердце воина  114001715      2015-07-21    Анимационный   \n",
       "\n",
       "                                            film_studio production_country  \\\n",
       "1920                         ооо киностудия  \"сентябрь\"             россия   \n",
       "1925  ооо \"киностудия \"слово\", ооо \"арт пикчерс студия\"             россия   \n",
       "2317   ооо \"форпост продакшн\", ооо \"арт пикчерс студия\"             россия   \n",
       "2377          ао \"вайт медиа\", ооо \"арт пикчерс студия\"             россия   \n",
       "2457   ооо \"глюкоза продакшн\", ооо \"арт пикчерс студия\"             россия   \n",
       "\n",
       "          director                            producer  \\\n",
       "1920      а.зайцев                 о.гранина, а.зайцев   \n",
       "1925    р.прыгунов  п.ануров, ф.бондарчук, д.рудовский   \n",
       "2317   а.андрианов            ооо \"арт пикчерс студия\"   \n",
       "2377  д.штурманова                         т.вайнштейн   \n",
       "2457      м.фадеев                          а.чистяков   \n",
       "\n",
       "                      age_restriction  refundable_support  \\\n",
       "1920  «16+» - для детей старше 16 лет               0.000   \n",
       "1925  «16+» - для детей старше 16 лет               0.000   \n",
       "2317  «12+» - для детей старше 12 лет              10.000   \n",
       "2377  «16+» - для детей старше 16 лет              20.000   \n",
       "2457    «6+» - для детей старше 6 лет              60.000   \n",
       "\n",
       "      nonrefundable_support  budget                  financing_source  \\\n",
       "1920                 23.000   0.000  Министерство культуры, Фонд кино   \n",
       "1925                 75.000   0.000                         Фонд кино   \n",
       "2317                 70.000   0.000                         Фонд кино   \n",
       "2377                  0.000   0.000                         Фонд кино   \n",
       "2457                100.000   0.000                         Фонд кино   \n",
       "\n",
       "      ratings                          genres  box_office  \n",
       "1920    6.600                       мелодрама      10.234  \n",
       "1925    6.600                           драма     446.164  \n",
       "2317    7.800           боевик,драма,криминал     196.572  \n",
       "2377    6.200                 комедия,фэнтези      67.419  \n",
       "2457    4.600  мультфильм,приключения,фэнтези     184.488  "
      ]
     },
     "execution_count": 41,
     "metadata": {},
     "output_type": "execute_result"
    }
   ],
   "source": [
    "# проверка данных с нулевым бюджетом\n",
    "data.query('budget == 0').head()"
   ]
  },
  {
   "cell_type": "markdown",
   "metadata": {},
   "source": [
    "<div class=\"alert alert-block alert-info\">Нулевой бюджет при наличии любой поддержки - является ошибкой, заполним такие значения на сумму столбцов refundable_support и nonrefundable_support\t </div>"
   ]
  },
  {
   "cell_type": "code",
   "execution_count": 42,
   "metadata": {},
   "outputs": [],
   "source": [
    "data.loc[data['budget'] == 0, 'budget'] = data['refundable_support'] + data['nonrefundable_support']"
   ]
  },
  {
   "cell_type": "markdown",
   "metadata": {
    "id": "Eu6oWp2CgFyS"
   },
   "source": [
    "#### Шаг 2.6. Добавьте новые столбцы\n",
    "\n",
    "\n",
    "\n"
   ]
  },
  {
   "cell_type": "markdown",
   "metadata": {
    "id": "7GgW-UpAgFyS"
   },
   "source": [
    "- Создайте столбец с информацией о годе проката. Выделите год из даты премьеры фильма."
   ]
  },
  {
   "cell_type": "code",
   "execution_count": 43,
   "metadata": {
    "id": "I-yd1DkWgFyT"
   },
   "outputs": [],
   "source": [
    "# год выхода фильма в прокат сохраним в столбце 'year_start_date'\n",
    "data['year_start_date'] = data['show_start_date'].dt.year\n"
   ]
  },
  {
   "cell_type": "markdown",
   "metadata": {
    "id": "nFTDLDYOgFyT"
   },
   "source": [
    "- Создайте два столбца: с именем и фамилией главного режиссёра и основным жанром фильма. В столбцы войдут первые значения из списка режиссёров и жанров соответственно.\n",
    "\n",
    "<div id=\"accordion\">\n",
    "    <div class=\"card\">\n",
    "        <div class=\"card-header\" id=\"headingThree\">\n",
    "            <button class=\"btn btn-link collapsed\" data-toggle=\"collapse\" data-target=\"#collapseHint_2\" aria-expanded=\"false\" aria-controls=\"collapseHint_2\">Подсказка</button>\n",
    "        </div>\n",
    "        <div id=\"collapseHint_2\" class=\"collapse\" aria-labelledby=\"headingThree\" data-parent=\"#accordion\">\n",
    "            <div class=\"card-body\">\n",
    "Чтобы создать такие столбцы, лучше всего использовать собственную функцию. Эту функцию можно применить к двум столбцам сразу. \n",
    "            </div>\n",
    "        </div>\n",
    "    </div>\n",
    "</div>"
   ]
  },
  {
   "cell_type": "markdown",
   "metadata": {},
   "source": [
    " - Создадим столбец с кратким обозначением возрастного ограничения, используя следующую функцию"
   ]
  },
  {
   "cell_type": "code",
   "execution_count": 44,
   "metadata": {},
   "outputs": [],
   "source": [
    "# функция для обработки столбца age_restriction\n",
    "# вызов функции categorize_age_restriction с сохранением результата в новом столбце short_age_restriction\n",
    "data['short_age_restriction'] = data['age_restriction'].apply(categorize_age_restriction)"
   ]
  },
  {
   "cell_type": "code",
   "execution_count": 45,
   "metadata": {
    "id": "LSbRZKbMgFyU"
   },
   "outputs": [],
   "source": [
    "# создание столбца с именем и фамилией главного режиссера \n",
    "data['head_director'] = data['director'].apply(cut_first_value)\n",
    "# создание столбца с основным жанром фильма\n",
    "data['main_genres'] = data['genres'].apply(cut_first_value)\n",
    "\n",
    "# удаление столбцов\n",
    "del data['director']\n",
    "del data['age_restriction']\n",
    "del data['genres']"
   ]
  },
  {
   "cell_type": "markdown",
   "metadata": {
    "id": "1FsCXHwdgFyU"
   },
   "source": [
    "- Посчитайте, какую долю от общего бюджета фильма составляет государственная поддержка."
   ]
  },
  {
   "cell_type": "code",
   "execution_count": 46,
   "metadata": {
    "id": "LV6qFuZLgFyV"
   },
   "outputs": [],
   "source": [
    "# сохраним долю гос. поддержки в бюджете каждого фильма в 'refundable_support_percent'\n",
    "data['refundable_support_percent'] = (data['refundable_support'] + data['nonrefundable_support']) / data['budget']"
   ]
  },
  {
   "cell_type": "code",
   "execution_count": 47,
   "metadata": {},
   "outputs": [
    {
     "data": {
      "text/plain": [
       "Text(0, 0.5, 'Количество фильмов')"
      ]
     },
     "execution_count": 47,
     "metadata": {},
     "output_type": "execute_result"
    },
    {
     "data": {
      "image/png": "[encoded data removed]",
      "text/plain": [
       "<Figure size 720x432 with 1 Axes>"
      ]
     },
     "metadata": {
      "needs_background": "light"
     },
     "output_type": "display_data"
    }
   ],
   "source": [
    "# построение диаграммы распределения долей гос.поддержки в бюджетах фильмов\n",
    "ax = data.plot(\n",
    "    kind='hist',\n",
    "    y='refundable_support_percent',\n",
    "    range=(0, 1),\n",
    "    bins=100,\n",
    "    title='Распределение долей государственной поддержки в общем бюджете фильмов',\n",
    "    grid=True,\n",
    "    figsize=(10, 6),\n",
    "    #color='#336633'\n",
    ")\n",
    "ax.set_xlabel('Доли')\n",
    "ax.set_ylabel('Количество фильмов')"
   ]
  },
  {
   "cell_type": "code",
   "execution_count": 48,
   "metadata": {},
   "outputs": [
    {
     "data": {
      "text/plain": [
       "count   332.000\n",
       "mean      0.542\n",
       "std       0.197\n",
       "min       0.044\n",
       "25%       0.385\n",
       "50%       0.614\n",
       "75%       0.661\n",
       "max       1.000\n",
       "Name: refundable_support_percent, dtype: float64"
      ]
     },
     "execution_count": 48,
     "metadata": {},
     "output_type": "execute_result"
    }
   ],
   "source": [
    "# описательная статистика столбца 'refundable_support_percent'\n",
    "data['refundable_support_percent'].describe()"
   ]
  },
  {
   "cell_type": "markdown",
   "metadata": {},
   "source": [
    "<div class=\"alert alert-block alert-info\">В среднем государственная поддержка составляет 54%, но есть фильмы со 100% господдержкой. \n",
    "<p>75% рассматриваемых фильмов имеют долю государственной поддержки, не превышающую 66%</div>\n",
    "<hr>"
   ]
  },
  {
   "cell_type": "markdown",
   "metadata": {},
   "source": [
    "<div class=\"alert alert-block alert-info\">* Продолжение удаления дубликатов в столбце title</div>"
   ]
  },
  {
   "cell_type": "code",
   "execution_count": 49,
   "metadata": {},
   "outputs": [],
   "source": [
    "# в переменной l сохраним количество всех найденных значений в столбце title\n",
    "l = data['title'].value_counts().reset_index()\n",
    "# переименование столбцов\n",
    "l.columns = ['title', 'count']\n",
    "# список фильмов - возможных дубликатов (количество повторяющихся названий > 1)\n",
    "list_duplicate_title = []\n",
    "# заполнение списка \n",
    "for index, row in l.iterrows():\n",
    "       if row['count'] > 1:\n",
    "            list_duplicate_title.append(row['title'].strip())\n",
    "            "
   ]
  },
  {
   "cell_type": "code",
   "execution_count": 50,
   "metadata": {},
   "outputs": [
    {
     "data": {
      "text/plain": [
       "['13 часов: Тайные солдаты Бенгази',\n",
       " '13-й район: Кирпичные особняки',\n",
       " 'Weekend  (Уик-энд)',\n",
       " 'Аватар',\n",
       " 'Агент Джонни Инглиш: Перезагрузка',\n",
       " 'Алиса в стране чудес /По книгам Льюиса Кэрролла \"Алиса в стране чудес\" и \"Алиса в Зазеркалье\"',\n",
       " 'Альдабра: Путешествие по таинственному острову',\n",
       " 'Американский пирог: Все в сборе',\n",
       " 'Анархисты',\n",
       " 'Ариэтти из страны лилипутов',\n",
       " 'Арктика 3D',\n",
       " 'Астрал. Глава 2',\n",
       " 'Аэротачки',\n",
       " 'Багровый пик',\n",
       " 'Бегущий в лабиринте: Испытание огнем /По произведению Джеймса Дашнера',\n",
       " 'Безумный Макс: Дорога ярости',\n",
       " 'Белоснежка и Охотник 2',\n",
       " 'Белоснежка и охотник',\n",
       " 'Бен-Гур (2016)',\n",
       " 'Близнецы',\n",
       " 'Большая афера',\n",
       " 'Большая игра',\n",
       " 'Буду помнить',\n",
       " 'Бунт ушастых',\n",
       " 'В поисках Немо',\n",
       " 'В тихом омуте',\n",
       " 'Валентина',\n",
       " 'Визит (2015)',\n",
       " 'Виктор Франкенштейн',\n",
       " 'Возмездие',\n",
       " 'Волки / Wolves',\n",
       " 'Волшебная страна',\n",
       " 'Волшебный лес',\n",
       " 'Воображариум доктора Парнаса',\n",
       " 'Воскрешение',\n",
       " 'Вторжение',\n",
       " 'Вулкан страстей',\n",
       " 'Выживший (2015)',\n",
       " 'Выстрел',\n",
       " 'Выше неба',\n",
       " 'Гадкий Я',\n",
       " 'Гадкий Я 2',\n",
       " 'Гарри Поттер и Дары Смерти - Часть 1/По роману Дж.К.Ролинг',\n",
       " 'Гарри Поттер и Дары Смерти - Часть 2 /По роману Дж.К.Ролинг',\n",
       " 'Гарри Поттер и Принц-полукровка /По роману Дж.К.Ролинг',\n",
       " 'Гарри Поттер и кубок огня /По роману Дж.К.Ролинг',\n",
       " 'Гарри Поттер и орден Феникса /По роману Дж.К.Ролинг',\n",
       " 'Гарри Поттер и тайная комната /По роману Дж.К.Ролинг',\n",
       " 'Гарри Поттер и узник Азкабана /По роману Дж.К.Ролинг',\n",
       " 'Гарри Поттер и философский камень /По роману Дж.К.Ролинг',\n",
       " 'Гладиаторы Рима',\n",
       " 'Глаз',\n",
       " 'Годзилла',\n",
       " 'Голос улиц',\n",
       " 'Город грехов',\n",
       " 'Господин Никто',\n",
       " 'Да здравствует Цезарь!',\n",
       " 'Дар',\n",
       " 'Два дня, одна ночь',\n",
       " 'Девушка без комплексов',\n",
       " 'Девушка из Дании',\n",
       " 'Джастин и рыцари доблести',\n",
       " 'Джейсон Борн',\n",
       " 'Джек - покоритель великанов',\n",
       " 'Джек Ричер 2: Никогда не возвращайся',\n",
       " 'Джобс. Империя соблазна',\n",
       " 'Дитя тьмы',\n",
       " 'Доброе утро',\n",
       " 'Добыча',\n",
       " 'Догвилль',\n",
       " 'Долгое падение',\n",
       " 'Дом для русалок',\n",
       " 'Дэдпул',\n",
       " 'Ешь, молись, люби /По книге Элизабет Гилберт',\n",
       " 'Еще один год',\n",
       " 'Жизнь',\n",
       " 'Жизнь Пи /По произведению Янна Мартела',\n",
       " 'За тридевять земель',\n",
       " 'Забойный реванш',\n",
       " 'Запрещенный прием',\n",
       " 'Звездные войны: Пробуждение силы',\n",
       " 'Зверополис',\n",
       " 'Зверь',\n",
       " 'Здравствуй, папа, Новый год',\n",
       " 'Зип и Зап. Клуб стеклянных шариков',\n",
       " 'Знакомство с Марком',\n",
       " 'Золушка: Полный вперед!',\n",
       " 'И грянул шторм',\n",
       " 'Игра в имитацию',\n",
       " 'Игра на понижение',\n",
       " 'Игра с огнем',\n",
       " 'Идеальный голос 2 /По произведению Мики Рэпкина',\n",
       " 'История игрушек: Большой побег',\n",
       " 'Исчезнувшая /По произведению Гиллиан Флинн',\n",
       " 'Как приручить дракона',\n",
       " 'Каратель',\n",
       " 'Карты, деньги, два ствола',\n",
       " 'Кастинг',\n",
       " 'Квадрат',\n",
       " 'Кловерфилд, 10',\n",
       " 'Клык',\n",
       " 'Книга джунглей (2016)',\n",
       " 'Книга жизни',\n",
       " 'Книга крови /По мотивам рассказов Клайва Баркера \"Книга крови\" и \"На улице Иерусалима\"/. Фильм ужасов',\n",
       " 'Команда мечты',\n",
       " 'Король Лев',\n",
       " 'Космическая станция 3D',\n",
       " 'Крампус',\n",
       " 'Красная шапка против зла',\n",
       " 'Красотки в Париже',\n",
       " 'Красотки в бегах',\n",
       " 'Крик 4',\n",
       " 'Кунг-фу Панда 2',\n",
       " 'Кунг-фу Панда 3',\n",
       " 'Курьер из \"Рая',\n",
       " 'Лазурный берег',\n",
       " 'Левиафан',\n",
       " 'Легенды ночных стражей /По мотивам произведений Кэтрин Ласки \"Ночные стражи\"',\n",
       " 'Легион_.(Фильм содержит сцены ужасов, насилия и жестокости)',\n",
       " 'Лесной патруль',\n",
       " 'Лимб',\n",
       " 'Ложные признания',\n",
       " 'Лоракс /По одноименной книге доктора Сьюсса (Теодора Гейзеля)',\n",
       " 'Лунный флаг',\n",
       " 'Любовницы',\n",
       " 'Любовь без обязательств',\n",
       " 'Любовь на кончиках пальцев',\n",
       " 'Мадагаскар 3',\n",
       " 'Матрица',\n",
       " 'Машина времени в джакузи 2',\n",
       " 'Мебиус',\n",
       " 'Мегамозг',\n",
       " 'Медведи-соседи',\n",
       " 'Медведь Йоги',\n",
       " 'Меняющие реальность /По произведению Филиппа К.Дика',\n",
       " 'Мертвые души',\n",
       " 'Механик',\n",
       " 'Мечтатели',\n",
       " 'Миссия в Майами',\n",
       " 'Миссия невыполнима: Племя изгоев',\n",
       " 'Монстры 2: Темный континент',\n",
       " 'Монстры на острове',\n",
       " 'Морская бригада',\n",
       " 'Морские динозавры 3D: Путешествие в доисторический мир',\n",
       " 'Морской бой',\n",
       " 'Мотылек',\n",
       " 'Мухаммад',\n",
       " 'Мученицы',\n",
       " 'Мысленный волк',\n",
       " 'На глубине морской 3D',\n",
       " 'На колесах',\n",
       " 'Начало',\n",
       " 'Невиновен',\n",
       " 'Нет',\n",
       " 'Неудержимые',\n",
       " 'Неудержимые 2',\n",
       " 'Неудержимые 3',\n",
       " 'Неупокоенная',\n",
       " 'Новейший завет',\n",
       " 'Ночь живых мертвецов',\n",
       " 'Обещание /По произведению Стефана Цвейга',\n",
       " 'Образцовый самец 2',\n",
       " 'Общак',\n",
       " 'Одержимая',\n",
       " 'Одержимость / Whiplash',\n",
       " 'Ожидание',\n",
       " 'Она',\n",
       " 'Оно',\n",
       " 'Опасная иллюзия',\n",
       " 'Остров лемуров: Мадагаскар 3D',\n",
       " 'Остров проклятых',\n",
       " 'Отважная Лифи',\n",
       " 'Отель \"Гранд Будапешт',\n",
       " 'Папа - досвидос',\n",
       " 'Параллельные миры',\n",
       " 'Паранойя',\n",
       " 'Паранормальное явление 5: Призраки в 3 D',\n",
       " 'Переполох в джунглях',\n",
       " 'Песнь моря',\n",
       " 'Пина: Танец страсти в 3D',\n",
       " 'Пингвиненок Пороро: Большие гонки',\n",
       " 'Пингвины мистера Поппера',\n",
       " 'Пиноккио /По мотивам сказки Карло Коллоди \"Приключения Пиноккио\"',\n",
       " 'Племя',\n",
       " 'Плюс один',\n",
       " 'Побег из Вегаса',\n",
       " 'Повелитель стихий',\n",
       " 'Полицейский с рублевки. Новогодний беспредел',\n",
       " 'Полтора шпиона',\n",
       " 'Последние пять лет',\n",
       " 'Последний рубеж.',\n",
       " 'Потерпевший',\n",
       " 'Почтальон Пэт 3D',\n",
       " 'Принц Персии: Пески времени',\n",
       " 'Принцесса Мононоке',\n",
       " 'Принцесса и нищий',\n",
       " 'Профессионал',\n",
       " 'Прощание',\n",
       " 'Прощаться не будем',\n",
       " 'Пушистые против зубастых 3D',\n",
       " 'Ранго',\n",
       " 'Рапунцель: Запутанная история',\n",
       " 'Расплата',\n",
       " 'Реальные кабаны',\n",
       " 'Робин Гуд (Robin Hood)',\n",
       " 'Родительский беспредел',\n",
       " 'Рожденные на воле 3D',\n",
       " 'Руби и повелитель воды',\n",
       " 'С 8 марта, мужчины!',\n",
       " 'Самолеты',\n",
       " 'Свадебный разгром',\n",
       " 'Сезон охоты 3',\n",
       " 'Секретный эксперимент',\n",
       " 'Сердцеед',\n",
       " 'Сестры (2015)',\n",
       " 'Скауты против зомби',\n",
       " 'Смурфики',\n",
       " 'Снупи и мелочь пузатая в кино',\n",
       " 'Соблазнитель',\n",
       " 'Союз зверей /По книге Эрика Кастнера',\n",
       " 'Спасти Санту',\n",
       " 'Средь бела дня',\n",
       " 'Стажер',\n",
       " 'Стартрек: Бесконечность',\n",
       " 'Стив Джобс',\n",
       " 'Стоун',\n",
       " 'Стыд',\n",
       " 'Судная ночь 2',\n",
       " 'Судная ночь 3',\n",
       " 'Сумерки. Сага. Затмение /По произведению Стефани Майер',\n",
       " 'Сумерки. Сага: Рассвет - Часть 1 /По произведению Стефани Майер',\n",
       " 'Супергерои',\n",
       " 'Схватка',\n",
       " 'Тайна Красной планеты',\n",
       " 'Там, где живут чудовища',\n",
       " 'Театр призраков',\n",
       " 'Третий лишний',\n",
       " 'Три дня на побег',\n",
       " 'Три сестры',\n",
       " 'Турист',\n",
       " 'Укрытие',\n",
       " 'Упс... Ной уплыл!',\n",
       " 'Успех',\n",
       " 'Феи: Легенда о чудовище',\n",
       " 'Фокус',\n",
       " 'Форсаж 5',\n",
       " 'Форсаж 7',\n",
       " 'Хаббл 3D',\n",
       " 'Химера',\n",
       " 'Хитмэн: Агент 47',\n",
       " 'Хочу как ты',\n",
       " 'Чем дальше в лес',\n",
       " 'Черепашки ниндзя',\n",
       " 'Черепашки-ниндзя 2',\n",
       " 'Чудеса океана 3D',\n",
       " 'Шаг вперед 4',\n",
       " 'Шальные деньги',\n",
       " 'Школа',\n",
       " 'Шпион по соседству',\n",
       " 'Шрэк навсегда',\n",
       " 'Эдди \"Орел',\n",
       " 'Эксперимент: Зло',\n",
       " 'Элвин и бурундуки: Грандиозное бурундуключение',\n",
       " 'Этим утром в Нью-Йорке',\n",
       " 'Это не я',\n",
       " 'Этот неловкий момент']"
      ]
     },
     "execution_count": 50,
     "metadata": {},
     "output_type": "execute_result"
    }
   ],
   "source": [
    "sorted(list_duplicate_title)"
   ]
  },
  {
   "cell_type": "code",
   "execution_count": 51,
   "metadata": {},
   "outputs": [
    {
     "name": "stdout",
     "output_type": "stream",
     "text": [
      "Удалено дубликатов: 214\n"
     ]
    }
   ],
   "source": [
    "# Функция удаления строк с одинаковыми столбцами\n",
    "# title, type,  head_director, 'box_office', 'ratings'\n",
    "\n",
    "def drop_title_duplicated(list_dt, data):\n",
    "    # исходный размер датафрейма\n",
    "    size_data = len(data)\n",
    "    # цикл по списку названий возможных дубликатов\n",
    "    for t in list_dt:\n",
    "        # отбор дубликатов с одинаковым названием, сортировка по году - оставим более свежие записи\n",
    "        part_df = data.query('title == @t').sort_values('year_start_date', ascending=False)\n",
    "        \n",
    "        # проверка совпадений по столбцам\n",
    "        if len(part_df['type'].unique()) == 1 and len(part_df['head_director'].unique()) == 1\\\n",
    "        and len(part_df['main_genres'].unique()) == 1:            \n",
    "            \n",
    "            # средний рейтинг\n",
    "            avg_rating = part_df['ratings'].mean()\n",
    "            \n",
    "            # вызов функции sum_uniq_val  для рассчета суммы по стобцу box_office\n",
    "            sum_box_office = sum_uniq_val(part_df['box_office'])\n",
    "            \n",
    "            # список индексов для замены\n",
    "            list_idx_replace = part_df.index.to_list()\n",
    "            # замена всех значений стобца 'box_office' на сумму уникальных значений / общее число / Nan\n",
    "            data.loc[list_idx_replace, 'box_office'] = sum_box_office\n",
    "            # замена всех значений стобца 'ratings' на среднее значение\n",
    "            data.loc[list_idx_replace, 'ratings'] = avg_rating\n",
    "\n",
    "        # если нет полного совпадения - следующее название в списке дубликатов\n",
    "        else:\n",
    "            continue     \n",
    "\n",
    "    # удаление дубликатов с сохранением новых значений в полях 'ratings' и 'box_office'\n",
    "    data = data.drop_duplicates(subset=['title', 'type', 'head_director',\\\n",
    "                                         'box_office', 'ratings'])\n",
    "    print(f'Удалено дубликатов: {size_data - len(data)}')\n",
    "    return data\n",
    "    \n",
    "\n",
    "# функция суммирования неодинаковых значений столбца \n",
    "def sum_uniq_val(col):\n",
    "    not_nan_value = np.array(col)\n",
    "    # индексы nan-значений\n",
    "    idx_nan_value = np.isnan(not_nan_value)\n",
    "    # если в списке хотя бы один nan\n",
    "    if len(idx_nan_value) > 0:\n",
    "        # список без nan-значений\n",
    "        not_nan_value = not_nan_value[~idx_nan_value]\n",
    "        # если список не nan-значений не пустой\n",
    "        if len(not_nan_value) > 0:\n",
    "            sum_box_office = sum(set(not_nan_value))\n",
    "        else:\n",
    "            # если в списке только nan, сумма = nan\n",
    "            sum_box_office = np.NaN\n",
    "    # в списке не было nan\n",
    "    else:\n",
    "        # сумма различных числовых значений\n",
    "        sum_box_office = sum(set(not_nan_value))\n",
    "    return sum_box_office\n",
    "\n",
    "# вызов функции и сохранение очищенного датафрейма\n",
    "data = drop_title_duplicated(list_duplicate_title, data)"
   ]
  },
  {
   "cell_type": "code",
   "execution_count": 52,
   "metadata": {},
   "outputs": [
    {
     "data": {
      "text/plain": [
       "Волшебная страна    4\n",
       "Прощание            4\n",
       "Доброе утро         3\n",
       "Она                 3\n",
       "Король Лев          3\n",
       "Вторжение           3\n",
       "Успех               3\n",
       "Глаз                2\n",
       "Еще один год        2\n",
       "Дар                 2\n",
       "Name: title, dtype: int64"
      ]
     },
     "execution_count": 52,
     "metadata": {},
     "output_type": "execute_result"
    }
   ],
   "source": [
    "data['title'].value_counts().head(10)"
   ]
  },
  {
   "cell_type": "markdown",
   "metadata": {},
   "source": [
    "<div class=\"alert alert-block alert-info\"> После применения функции, которая удалила 214 строк дубликатов, сохранив общую сумму box_office, средний рейтинг и свежий год релиза, остались еще строки-дубликаты, которые не попали в шаблон функции. Эти строки имеют одинаковое название, разные puNumber и одно или несколько отличий в столбцах head_director, production_country,short_age_restriction, type. Составим сводную таблицу для исследования таких фильмов."
   ]
  },
  {
   "cell_type": "code",
   "execution_count": 53,
   "metadata": {},
   "outputs": [
    {
     "data": {
      "text/html": [
       "<div>\n",
       "<style scoped>\n",
       "    .dataframe tbody tr th:only-of-type {\n",
       "        vertical-align: middle;\n",
       "    }\n",
       "\n",
       "    .dataframe tbody tr th {\n",
       "        vertical-align: top;\n",
       "    }\n",
       "\n",
       "    .dataframe thead th {\n",
       "        text-align: right;\n",
       "    }\n",
       "</style>\n",
       "<table border=\"1\" class=\"dataframe\">\n",
       "  <thead>\n",
       "    <tr style=\"text-align: right;\">\n",
       "      <th></th>\n",
       "      <th>head_director</th>\n",
       "      <th>production_country</th>\n",
       "      <th>puNumber</th>\n",
       "      <th>short_age_restriction</th>\n",
       "      <th>type</th>\n",
       "    </tr>\n",
       "    <tr>\n",
       "      <th>title</th>\n",
       "      <th></th>\n",
       "      <th></th>\n",
       "      <th></th>\n",
       "      <th></th>\n",
       "      <th></th>\n",
       "    </tr>\n",
       "  </thead>\n",
       "  <tbody>\n",
       "    <tr>\n",
       "      <th>Прощание</th>\n",
       "      <td>4</td>\n",
       "      <td>3</td>\n",
       "      <td>4</td>\n",
       "      <td>2</td>\n",
       "      <td>1</td>\n",
       "    </tr>\n",
       "    <tr>\n",
       "      <th>Волшебная страна</th>\n",
       "      <td>3</td>\n",
       "      <td>3</td>\n",
       "      <td>4</td>\n",
       "      <td>3</td>\n",
       "      <td>2</td>\n",
       "    </tr>\n",
       "    <tr>\n",
       "      <th>Вторжение</th>\n",
       "      <td>3</td>\n",
       "      <td>3</td>\n",
       "      <td>3</td>\n",
       "      <td>3</td>\n",
       "      <td>2</td>\n",
       "    </tr>\n",
       "    <tr>\n",
       "      <th>Она</th>\n",
       "      <td>2</td>\n",
       "      <td>2</td>\n",
       "      <td>3</td>\n",
       "      <td>1</td>\n",
       "      <td>1</td>\n",
       "    </tr>\n",
       "    <tr>\n",
       "      <th>Успех</th>\n",
       "      <td>3</td>\n",
       "      <td>2</td>\n",
       "      <td>3</td>\n",
       "      <td>1</td>\n",
       "      <td>1</td>\n",
       "    </tr>\n",
       "    <tr>\n",
       "      <th>Король Лев</th>\n",
       "      <td>2</td>\n",
       "      <td>1</td>\n",
       "      <td>3</td>\n",
       "      <td>2</td>\n",
       "      <td>1</td>\n",
       "    </tr>\n",
       "    <tr>\n",
       "      <th>Доброе утро</th>\n",
       "      <td>3</td>\n",
       "      <td>3</td>\n",
       "      <td>3</td>\n",
       "      <td>2</td>\n",
       "      <td>1</td>\n",
       "    </tr>\n",
       "    <tr>\n",
       "      <th>В тихом омуте</th>\n",
       "      <td>2</td>\n",
       "      <td>2</td>\n",
       "      <td>2</td>\n",
       "      <td>2</td>\n",
       "      <td>1</td>\n",
       "    </tr>\n",
       "    <tr>\n",
       "      <th>Дар</th>\n",
       "      <td>2</td>\n",
       "      <td>1</td>\n",
       "      <td>2</td>\n",
       "      <td>2</td>\n",
       "      <td>1</td>\n",
       "    </tr>\n",
       "    <tr>\n",
       "      <th>Стажер</th>\n",
       "      <td>2</td>\n",
       "      <td>2</td>\n",
       "      <td>2</td>\n",
       "      <td>1</td>\n",
       "      <td>1</td>\n",
       "    </tr>\n",
       "  </tbody>\n",
       "</table>\n",
       "</div>"
      ],
      "text/plain": [
       "                  head_director  production_country  puNumber  \\\n",
       "title                                                           \n",
       "Прощание                      4                   3         4   \n",
       "Волшебная страна              3                   3         4   \n",
       "Вторжение                     3                   3         3   \n",
       "Она                           2                   2         3   \n",
       "Успех                         3                   2         3   \n",
       "Король Лев                    2                   1         3   \n",
       "Доброе утро                   3                   3         3   \n",
       "В тихом омуте                 2                   2         2   \n",
       "Дар                           2                   1         2   \n",
       "Стажер                        2                   2         2   \n",
       "\n",
       "                  short_age_restriction  type  \n",
       "title                                          \n",
       "Прощание                              2     1  \n",
       "Волшебная страна                      3     2  \n",
       "Вторжение                             3     2  \n",
       "Она                                   1     1  \n",
       "Успех                                 1     1  \n",
       "Король Лев                            2     1  \n",
       "Доброе утро                           2     1  \n",
       "В тихом омуте                         2     1  \n",
       "Дар                                   2     1  \n",
       "Стажер                                1     1  "
      ]
     },
     "execution_count": 53,
     "metadata": {},
     "output_type": "execute_result"
    }
   ],
   "source": [
    "# сводная таблица для поиска неявных дубликатов\n",
    "duplicates_pt = data.pivot_table(index=['title'], \\\n",
    "                                 values=['puNumber', 'type', 'production_country','head_director', 'short_age_restriction'], \\\n",
    "                                 aggfunc=lambda x: x.value_counts().count())\\\n",
    "                    .sort_values(['puNumber'], ascending=False)\n",
    "duplicates_pt.head(10)"
   ]
  },
  {
   "cell_type": "markdown",
   "metadata": {},
   "source": [
    "<div class=\"alert alert-block alert-info\">Если количество уникальных номеров фильмов совпадает хотя бы с одним из параметров, можно сделать вывод, что фильмы под таким названием - не дубликаты. Применим фильтр к оставшимся фильмам"
   ]
  },
  {
   "cell_type": "code",
   "execution_count": 54,
   "metadata": {},
   "outputs": [
    {
     "data": {
      "text/html": [
       "<div>\n",
       "<style scoped>\n",
       "    .dataframe tbody tr th:only-of-type {\n",
       "        vertical-align: middle;\n",
       "    }\n",
       "\n",
       "    .dataframe tbody tr th {\n",
       "        vertical-align: top;\n",
       "    }\n",
       "\n",
       "    .dataframe thead th {\n",
       "        text-align: right;\n",
       "    }\n",
       "</style>\n",
       "<table border=\"1\" class=\"dataframe\">\n",
       "  <thead>\n",
       "    <tr style=\"text-align: right;\">\n",
       "      <th></th>\n",
       "      <th>head_director</th>\n",
       "      <th>production_country</th>\n",
       "      <th>puNumber</th>\n",
       "      <th>short_age_restriction</th>\n",
       "      <th>type</th>\n",
       "    </tr>\n",
       "    <tr>\n",
       "      <th>title</th>\n",
       "      <th></th>\n",
       "      <th></th>\n",
       "      <th></th>\n",
       "      <th></th>\n",
       "      <th></th>\n",
       "    </tr>\n",
       "  </thead>\n",
       "  <tbody>\n",
       "    <tr>\n",
       "      <th>Волшебная страна</th>\n",
       "      <td>3</td>\n",
       "      <td>3</td>\n",
       "      <td>4</td>\n",
       "      <td>3</td>\n",
       "      <td>2</td>\n",
       "    </tr>\n",
       "    <tr>\n",
       "      <th>Король Лев</th>\n",
       "      <td>2</td>\n",
       "      <td>1</td>\n",
       "      <td>3</td>\n",
       "      <td>2</td>\n",
       "      <td>1</td>\n",
       "    </tr>\n",
       "    <tr>\n",
       "      <th>Она</th>\n",
       "      <td>2</td>\n",
       "      <td>2</td>\n",
       "      <td>3</td>\n",
       "      <td>1</td>\n",
       "      <td>1</td>\n",
       "    </tr>\n",
       "    <tr>\n",
       "      <th>Третий лишний</th>\n",
       "      <td>1</td>\n",
       "      <td>1</td>\n",
       "      <td>2</td>\n",
       "      <td>1</td>\n",
       "      <td>1</td>\n",
       "    </tr>\n",
       "    <tr>\n",
       "      <th>Схватка</th>\n",
       "      <td>1</td>\n",
       "      <td>1</td>\n",
       "      <td>2</td>\n",
       "      <td>1</td>\n",
       "      <td>1</td>\n",
       "    </tr>\n",
       "  </tbody>\n",
       "</table>\n",
       "</div>"
      ],
      "text/plain": [
       "                  head_director  production_country  puNumber  \\\n",
       "title                                                           \n",
       "Волшебная страна              3                   3         4   \n",
       "Король Лев                    2                   1         3   \n",
       "Она                           2                   2         3   \n",
       "Третий лишний                 1                   1         2   \n",
       "Схватка                       1                   1         2   \n",
       "\n",
       "                  short_age_restriction  type  \n",
       "title                                          \n",
       "Волшебная страна                      3     2  \n",
       "Король Лев                            2     1  \n",
       "Она                                   1     1  \n",
       "Третий лишний                         1     1  \n",
       "Схватка                               1     1  "
      ]
     },
     "execution_count": 54,
     "metadata": {},
     "output_type": "execute_result"
    }
   ],
   "source": [
    "# если puNumber - количество уникальных значений = хотя бы одному параметру - не дубликат\n",
    "duplicates_pt.query('(puNumber != head_director and puNumber != production_country) and puNumber > 1').\\\n",
    "sort_values(['puNumber', 'short_age_restriction'], ascending=False)"
   ]
  },
  {
   "cell_type": "markdown",
   "metadata": {},
   "source": [
    "<div class=\"alert alert-block alert-info\">Осталось пять фильмов, обработку которых можно провети вручную"
   ]
  },
  {
   "cell_type": "markdown",
   "metadata": {},
   "source": [
    "Обрабока дубикатов фильма \"Волшебная страна\""
   ]
  },
  {
   "cell_type": "code",
   "execution_count": 55,
   "metadata": {
    "scrolled": true
   },
   "outputs": [
    {
     "data": {
      "text/html": [
       "<div>\n",
       "<style scoped>\n",
       "    .dataframe tbody tr th:only-of-type {\n",
       "        vertical-align: middle;\n",
       "    }\n",
       "\n",
       "    .dataframe tbody tr th {\n",
       "        vertical-align: top;\n",
       "    }\n",
       "\n",
       "    .dataframe thead th {\n",
       "        text-align: right;\n",
       "    }\n",
       "</style>\n",
       "<table border=\"1\" class=\"dataframe\">\n",
       "  <thead>\n",
       "    <tr style=\"text-align: right;\">\n",
       "      <th></th>\n",
       "      <th>title</th>\n",
       "      <th>puNumber</th>\n",
       "      <th>show_start_date</th>\n",
       "      <th>type</th>\n",
       "      <th>film_studio</th>\n",
       "      <th>production_country</th>\n",
       "      <th>producer</th>\n",
       "      <th>refundable_support</th>\n",
       "      <th>nonrefundable_support</th>\n",
       "      <th>budget</th>\n",
       "      <th>financing_source</th>\n",
       "      <th>ratings</th>\n",
       "      <th>box_office</th>\n",
       "      <th>year_start_date</th>\n",
       "      <th>short_age_restriction</th>\n",
       "      <th>head_director</th>\n",
       "      <th>main_genres</th>\n",
       "      <th>refundable_support_percent</th>\n",
       "    </tr>\n",
       "  </thead>\n",
       "  <tbody>\n",
       "    <tr>\n",
       "      <th>104</th>\n",
       "      <td>Волшебная страна</td>\n",
       "      <td>221004716</td>\n",
       "      <td>2016-02-09</td>\n",
       "      <td>Художественный</td>\n",
       "      <td>филм колони</td>\n",
       "      <td>сша</td>\n",
       "      <td>ричард н.глэдстин</td>\n",
       "      <td>NaN</td>\n",
       "      <td>NaN</td>\n",
       "      <td>NaN</td>\n",
       "      <td>NaN</td>\n",
       "      <td>7.900</td>\n",
       "      <td>NaN</td>\n",
       "      <td>2016</td>\n",
       "      <td>12+</td>\n",
       "      <td>марк форстер</td>\n",
       "      <td>драма</td>\n",
       "      <td>NaN</td>\n",
       "    </tr>\n",
       "    <tr>\n",
       "      <th>873</th>\n",
       "      <td>Волшебная страна</td>\n",
       "      <td>124003016</td>\n",
       "      <td>2016-06-07</td>\n",
       "      <td>Анимационный</td>\n",
       "      <td>брейктру филмз, эс эм бэ инвестментс</td>\n",
       "      <td>великобритания-польша-кнр-индия-норвегия</td>\n",
       "      <td>магдалена баргел, хью велчман</td>\n",
       "      <td>NaN</td>\n",
       "      <td>NaN</td>\n",
       "      <td>NaN</td>\n",
       "      <td>NaN</td>\n",
       "      <td>7.900</td>\n",
       "      <td>0.004</td>\n",
       "      <td>2016</td>\n",
       "      <td>18+</td>\n",
       "      <td>мартин клэпп</td>\n",
       "      <td>драма</td>\n",
       "      <td>NaN</td>\n",
       "    </tr>\n",
       "    <tr>\n",
       "      <th>874</th>\n",
       "      <td>Волшебная страна</td>\n",
       "      <td>124001113</td>\n",
       "      <td>2013-04-15</td>\n",
       "      <td>Анимационный</td>\n",
       "      <td>брейктру филмз, эс эм бэ инвестментс</td>\n",
       "      <td>великобритания-польша-кнр-индия-норвегия</td>\n",
       "      <td>магдалена баргел, хью велчман</td>\n",
       "      <td>NaN</td>\n",
       "      <td>NaN</td>\n",
       "      <td>NaN</td>\n",
       "      <td>NaN</td>\n",
       "      <td>7.900</td>\n",
       "      <td>0.020</td>\n",
       "      <td>2013</td>\n",
       "      <td>18+</td>\n",
       "      <td>мартин клэпп</td>\n",
       "      <td>драма</td>\n",
       "      <td>NaN</td>\n",
       "    </tr>\n",
       "    <tr>\n",
       "      <th>1983</th>\n",
       "      <td>Волшебная страна</td>\n",
       "      <td>124000515</td>\n",
       "      <td>2015-02-05</td>\n",
       "      <td>Анимационный</td>\n",
       "      <td>чжэцзян чжунгнань анимэйшн</td>\n",
       "      <td>кнр</td>\n",
       "      <td>ву янронг</td>\n",
       "      <td>NaN</td>\n",
       "      <td>NaN</td>\n",
       "      <td>NaN</td>\n",
       "      <td>NaN</td>\n",
       "      <td>7.900</td>\n",
       "      <td>1.171</td>\n",
       "      <td>2015</td>\n",
       "      <td>6+</td>\n",
       "      <td>фанг лей</td>\n",
       "      <td>драма</td>\n",
       "      <td>NaN</td>\n",
       "    </tr>\n",
       "  </tbody>\n",
       "</table>\n",
       "</div>"
      ],
      "text/plain": [
       "                 title   puNumber show_start_date            type  \\\n",
       "104   Волшебная страна  221004716      2016-02-09  Художественный   \n",
       "873   Волшебная страна  124003016      2016-06-07    Анимационный   \n",
       "874   Волшебная страна  124001113      2013-04-15    Анимационный   \n",
       "1983  Волшебная страна  124000515      2015-02-05    Анимационный   \n",
       "\n",
       "                               film_studio  \\\n",
       "104                            филм колони   \n",
       "873   брейктру филмз, эс эм бэ инвестментс   \n",
       "874   брейктру филмз, эс эм бэ инвестментс   \n",
       "1983            чжэцзян чжунгнань анимэйшн   \n",
       "\n",
       "                            production_country                       producer  \\\n",
       "104                                        сша              ричард н.глэдстин   \n",
       "873   великобритания-польша-кнр-индия-норвегия  магдалена баргел, хью велчман   \n",
       "874   великобритания-польша-кнр-индия-норвегия  магдалена баргел, хью велчман   \n",
       "1983                                       кнр                      ву янронг   \n",
       "\n",
       "      refundable_support  nonrefundable_support  budget financing_source  \\\n",
       "104                  NaN                    NaN     NaN              NaN   \n",
       "873                  NaN                    NaN     NaN              NaN   \n",
       "874                  NaN                    NaN     NaN              NaN   \n",
       "1983                 NaN                    NaN     NaN              NaN   \n",
       "\n",
       "      ratings  box_office  year_start_date short_age_restriction  \\\n",
       "104     7.900         NaN             2016                   12+   \n",
       "873     7.900       0.004             2016                   18+   \n",
       "874     7.900       0.020             2013                   18+   \n",
       "1983    7.900       1.171             2015                    6+   \n",
       "\n",
       "     head_director main_genres  refundable_support_percent  \n",
       "104   марк форстер       драма                         NaN  \n",
       "873   мартин клэпп       драма                         NaN  \n",
       "874   мартин клэпп       драма                         NaN  \n",
       "1983      фанг лей       драма                         NaN  "
      ]
     },
     "execution_count": 55,
     "metadata": {},
     "output_type": "execute_result"
    }
   ],
   "source": [
    "data[data['title'].str.contains('Волшебная страна')]"
   ]
  },
  {
   "cell_type": "code",
   "execution_count": 56,
   "metadata": {},
   "outputs": [],
   "source": [
    "data = data.drop(index=[873])"
   ]
  },
  {
   "cell_type": "markdown",
   "metadata": {},
   "source": [
    "Обрабока дубикатов фильма \"Король Лев\", 446 и 517 - дубликаты, 6537 - другая студия"
   ]
  },
  {
   "cell_type": "code",
   "execution_count": 57,
   "metadata": {},
   "outputs": [
    {
     "data": {
      "text/html": [
       "<div>\n",
       "<style scoped>\n",
       "    .dataframe tbody tr th:only-of-type {\n",
       "        vertical-align: middle;\n",
       "    }\n",
       "\n",
       "    .dataframe tbody tr th {\n",
       "        vertical-align: top;\n",
       "    }\n",
       "\n",
       "    .dataframe thead th {\n",
       "        text-align: right;\n",
       "    }\n",
       "</style>\n",
       "<table border=\"1\" class=\"dataframe\">\n",
       "  <thead>\n",
       "    <tr style=\"text-align: right;\">\n",
       "      <th></th>\n",
       "      <th>title</th>\n",
       "      <th>puNumber</th>\n",
       "      <th>show_start_date</th>\n",
       "      <th>type</th>\n",
       "      <th>film_studio</th>\n",
       "      <th>production_country</th>\n",
       "      <th>producer</th>\n",
       "      <th>refundable_support</th>\n",
       "      <th>nonrefundable_support</th>\n",
       "      <th>budget</th>\n",
       "      <th>financing_source</th>\n",
       "      <th>ratings</th>\n",
       "      <th>box_office</th>\n",
       "      <th>year_start_date</th>\n",
       "      <th>short_age_restriction</th>\n",
       "      <th>head_director</th>\n",
       "      <th>main_genres</th>\n",
       "      <th>refundable_support_percent</th>\n",
       "    </tr>\n",
       "  </thead>\n",
       "  <tbody>\n",
       "    <tr>\n",
       "      <th>446</th>\n",
       "      <td>Король Лев</td>\n",
       "      <td>224008812</td>\n",
       "      <td>2012-03-27</td>\n",
       "      <td>Анимационный</td>\n",
       "      <td>уолт дисней пикчерз, буена виста интернешнл</td>\n",
       "      <td>сша</td>\n",
       "      <td>дон хан</td>\n",
       "      <td>NaN</td>\n",
       "      <td>NaN</td>\n",
       "      <td>NaN</td>\n",
       "      <td>NaN</td>\n",
       "      <td>8.800</td>\n",
       "      <td>NaN</td>\n",
       "      <td>2012</td>\n",
       "      <td>0+</td>\n",
       "      <td>роб минкофф</td>\n",
       "      <td>мультфильм</td>\n",
       "      <td>NaN</td>\n",
       "    </tr>\n",
       "    <tr>\n",
       "      <th>517</th>\n",
       "      <td>Король Лев</td>\n",
       "      <td>124000412</td>\n",
       "      <td>2012-03-21</td>\n",
       "      <td>Анимационный</td>\n",
       "      <td>уолт дисней пикчерз</td>\n",
       "      <td>сша</td>\n",
       "      <td>дон хан</td>\n",
       "      <td>NaN</td>\n",
       "      <td>NaN</td>\n",
       "      <td>NaN</td>\n",
       "      <td>NaN</td>\n",
       "      <td>8.800</td>\n",
       "      <td>0.006</td>\n",
       "      <td>2012</td>\n",
       "      <td>0+</td>\n",
       "      <td>роб минкофф</td>\n",
       "      <td>мультфильм</td>\n",
       "      <td>NaN</td>\n",
       "    </tr>\n",
       "    <tr>\n",
       "      <th>6537</th>\n",
       "      <td>Король Лев</td>\n",
       "      <td>124004919</td>\n",
       "      <td>2019-07-15</td>\n",
       "      <td>Анимационный</td>\n",
       "      <td>фэйрвью интертейнмент, уолт дисней пикчерс</td>\n",
       "      <td>сша</td>\n",
       "      <td>джон фавро, карен гилкрайст, джеффри силвер</td>\n",
       "      <td>NaN</td>\n",
       "      <td>NaN</td>\n",
       "      <td>NaN</td>\n",
       "      <td>NaN</td>\n",
       "      <td>8.800</td>\n",
       "      <td>NaN</td>\n",
       "      <td>2019</td>\n",
       "      <td>6+</td>\n",
       "      <td>джон фавро</td>\n",
       "      <td>мультфильм</td>\n",
       "      <td>NaN</td>\n",
       "    </tr>\n",
       "  </tbody>\n",
       "</table>\n",
       "</div>"
      ],
      "text/plain": [
       "           title   puNumber show_start_date          type  \\\n",
       "446   Король Лев  224008812      2012-03-27  Анимационный   \n",
       "517   Король Лев  124000412      2012-03-21  Анимационный   \n",
       "6537  Король Лев  124004919      2019-07-15  Анимационный   \n",
       "\n",
       "                                      film_studio production_country  \\\n",
       "446   уолт дисней пикчерз, буена виста интернешнл                сша   \n",
       "517                           уолт дисней пикчерз                сша   \n",
       "6537   фэйрвью интертейнмент, уолт дисней пикчерс                сша   \n",
       "\n",
       "                                         producer  refundable_support  \\\n",
       "446                                       дон хан                 NaN   \n",
       "517                                       дон хан                 NaN   \n",
       "6537  джон фавро, карен гилкрайст, джеффри силвер                 NaN   \n",
       "\n",
       "      nonrefundable_support  budget financing_source  ratings  box_office  \\\n",
       "446                     NaN     NaN              NaN    8.800         NaN   \n",
       "517                     NaN     NaN              NaN    8.800       0.006   \n",
       "6537                    NaN     NaN              NaN    8.800         NaN   \n",
       "\n",
       "      year_start_date short_age_restriction head_director main_genres  \\\n",
       "446              2012                    0+   роб минкофф  мультфильм   \n",
       "517              2012                    0+   роб минкофф  мультфильм   \n",
       "6537             2019                    6+    джон фавро  мультфильм   \n",
       "\n",
       "      refundable_support_percent  \n",
       "446                          NaN  \n",
       "517                          NaN  \n",
       "6537                         NaN  "
      ]
     },
     "execution_count": 57,
     "metadata": {},
     "output_type": "execute_result"
    }
   ],
   "source": [
    "data[data['title'].str.contains('Король Лев')]"
   ]
  },
  {
   "cell_type": "code",
   "execution_count": 58,
   "metadata": {},
   "outputs": [],
   "source": [
    "data = data.drop(index=[446])"
   ]
  },
  {
   "cell_type": "markdown",
   "metadata": {},
   "source": [
    "Обрабока дубикатов фильма \"Она\", 1315 и  1316 - дубликаты"
   ]
  },
  {
   "cell_type": "code",
   "execution_count": 59,
   "metadata": {},
   "outputs": [
    {
     "data": {
      "text/html": [
       "<div>\n",
       "<style scoped>\n",
       "    .dataframe tbody tr th:only-of-type {\n",
       "        vertical-align: middle;\n",
       "    }\n",
       "\n",
       "    .dataframe tbody tr th {\n",
       "        vertical-align: top;\n",
       "    }\n",
       "\n",
       "    .dataframe thead th {\n",
       "        text-align: right;\n",
       "    }\n",
       "</style>\n",
       "<table border=\"1\" class=\"dataframe\">\n",
       "  <thead>\n",
       "    <tr style=\"text-align: right;\">\n",
       "      <th></th>\n",
       "      <th>title</th>\n",
       "      <th>puNumber</th>\n",
       "      <th>show_start_date</th>\n",
       "      <th>type</th>\n",
       "      <th>film_studio</th>\n",
       "      <th>production_country</th>\n",
       "      <th>producer</th>\n",
       "      <th>refundable_support</th>\n",
       "      <th>nonrefundable_support</th>\n",
       "      <th>budget</th>\n",
       "      <th>financing_source</th>\n",
       "      <th>ratings</th>\n",
       "      <th>box_office</th>\n",
       "      <th>year_start_date</th>\n",
       "      <th>short_age_restriction</th>\n",
       "      <th>head_director</th>\n",
       "      <th>main_genres</th>\n",
       "      <th>refundable_support_percent</th>\n",
       "    </tr>\n",
       "  </thead>\n",
       "  <tbody>\n",
       "    <tr>\n",
       "      <th>1315</th>\n",
       "      <td>Она</td>\n",
       "      <td>221033414</td>\n",
       "      <td>2014-08-20</td>\n",
       "      <td>Художественный</td>\n",
       "      <td>аннапурна пикчерз</td>\n",
       "      <td>сша</td>\n",
       "      <td>меган эллисон, спайк джонс, винсент ландэйл</td>\n",
       "      <td>NaN</td>\n",
       "      <td>NaN</td>\n",
       "      <td>NaN</td>\n",
       "      <td>NaN</td>\n",
       "      <td>7.600</td>\n",
       "      <td>NaN</td>\n",
       "      <td>2014</td>\n",
       "      <td>16+</td>\n",
       "      <td>спайк джонс</td>\n",
       "      <td>мелодрама</td>\n",
       "      <td>NaN</td>\n",
       "    </tr>\n",
       "    <tr>\n",
       "      <th>1316</th>\n",
       "      <td>Она</td>\n",
       "      <td>121003414</td>\n",
       "      <td>2014-02-20</td>\n",
       "      <td>Художественный</td>\n",
       "      <td>аннапурна пикчерз</td>\n",
       "      <td>сша</td>\n",
       "      <td>меган эллисон, спайк джонс, винсент ландэйл</td>\n",
       "      <td>NaN</td>\n",
       "      <td>NaN</td>\n",
       "      <td>NaN</td>\n",
       "      <td>NaN</td>\n",
       "      <td>7.600</td>\n",
       "      <td>0.013</td>\n",
       "      <td>2014</td>\n",
       "      <td>16+</td>\n",
       "      <td>спайк джонс</td>\n",
       "      <td>мелодрама</td>\n",
       "      <td>NaN</td>\n",
       "    </tr>\n",
       "    <tr>\n",
       "      <th>5063</th>\n",
       "      <td>Она</td>\n",
       "      <td>131000417</td>\n",
       "      <td>2017-11-30</td>\n",
       "      <td>Художественный</td>\n",
       "      <td>астана филм фонд, астана банки, сатаифилм, каз...</td>\n",
       "      <td>казахстан</td>\n",
       "      <td>эрнар курмашев, алия мендыгожина, акан сатаев</td>\n",
       "      <td>NaN</td>\n",
       "      <td>NaN</td>\n",
       "      <td>NaN</td>\n",
       "      <td>NaN</td>\n",
       "      <td>7.600</td>\n",
       "      <td>2.153</td>\n",
       "      <td>2017</td>\n",
       "      <td>16+</td>\n",
       "      <td>акан сатаев</td>\n",
       "      <td>мелодрама</td>\n",
       "      <td>NaN</td>\n",
       "    </tr>\n",
       "  </tbody>\n",
       "</table>\n",
       "</div>"
      ],
      "text/plain": [
       "     title   puNumber show_start_date            type  \\\n",
       "1315   Она  221033414      2014-08-20  Художественный   \n",
       "1316   Она  121003414      2014-02-20  Художественный   \n",
       "5063   Она  131000417      2017-11-30  Художественный   \n",
       "\n",
       "                                            film_studio production_country  \\\n",
       "1315                                  аннапурна пикчерз                сша   \n",
       "1316                                  аннапурна пикчерз                сша   \n",
       "5063  астана филм фонд, астана банки, сатаифилм, каз...          казахстан   \n",
       "\n",
       "                                           producer  refundable_support  \\\n",
       "1315    меган эллисон, спайк джонс, винсент ландэйл                 NaN   \n",
       "1316    меган эллисон, спайк джонс, винсент ландэйл                 NaN   \n",
       "5063  эрнар курмашев, алия мендыгожина, акан сатаев                 NaN   \n",
       "\n",
       "      nonrefundable_support  budget financing_source  ratings  box_office  \\\n",
       "1315                    NaN     NaN              NaN    7.600         NaN   \n",
       "1316                    NaN     NaN              NaN    7.600       0.013   \n",
       "5063                    NaN     NaN              NaN    7.600       2.153   \n",
       "\n",
       "      year_start_date short_age_restriction head_director main_genres  \\\n",
       "1315             2014                   16+   спайк джонс   мелодрама   \n",
       "1316             2014                   16+   спайк джонс   мелодрама   \n",
       "5063             2017                   16+   акан сатаев   мелодрама   \n",
       "\n",
       "      refundable_support_percent  \n",
       "1315                         NaN  \n",
       "1316                         NaN  \n",
       "5063                         NaN  "
      ]
     },
     "execution_count": 59,
     "metadata": {},
     "output_type": "execute_result"
    }
   ],
   "source": [
    "data.query('title == \"Она\"')"
   ]
  },
  {
   "cell_type": "code",
   "execution_count": 60,
   "metadata": {},
   "outputs": [],
   "source": [
    "data = data.drop(index=[1315])"
   ]
  },
  {
   "cell_type": "markdown",
   "metadata": {},
   "source": [
    "Обрабока дубикатов фильма \"Третий лишний\", 987 и  988 - дубликаты"
   ]
  },
  {
   "cell_type": "code",
   "execution_count": 61,
   "metadata": {},
   "outputs": [
    {
     "data": {
      "text/html": [
       "<div>\n",
       "<style scoped>\n",
       "    .dataframe tbody tr th:only-of-type {\n",
       "        vertical-align: middle;\n",
       "    }\n",
       "\n",
       "    .dataframe tbody tr th {\n",
       "        vertical-align: top;\n",
       "    }\n",
       "\n",
       "    .dataframe thead th {\n",
       "        text-align: right;\n",
       "    }\n",
       "</style>\n",
       "<table border=\"1\" class=\"dataframe\">\n",
       "  <thead>\n",
       "    <tr style=\"text-align: right;\">\n",
       "      <th></th>\n",
       "      <th>title</th>\n",
       "      <th>puNumber</th>\n",
       "      <th>show_start_date</th>\n",
       "      <th>type</th>\n",
       "      <th>film_studio</th>\n",
       "      <th>production_country</th>\n",
       "      <th>producer</th>\n",
       "      <th>refundable_support</th>\n",
       "      <th>nonrefundable_support</th>\n",
       "      <th>budget</th>\n",
       "      <th>financing_source</th>\n",
       "      <th>ratings</th>\n",
       "      <th>box_office</th>\n",
       "      <th>year_start_date</th>\n",
       "      <th>short_age_restriction</th>\n",
       "      <th>head_director</th>\n",
       "      <th>main_genres</th>\n",
       "      <th>refundable_support_percent</th>\n",
       "    </tr>\n",
       "  </thead>\n",
       "  <tbody>\n",
       "    <tr>\n",
       "      <th>987</th>\n",
       "      <td>Третий лишний</td>\n",
       "      <td>121016012</td>\n",
       "      <td>2012-07-06</td>\n",
       "      <td>Художественный</td>\n",
       "      <td>юниверсал пикчерз, медиа райтс кэпитал, фаззи ...</td>\n",
       "      <td>сша</td>\n",
       "      <td>джон джейкобс, джейсон кларк, сет макфарлейн</td>\n",
       "      <td>NaN</td>\n",
       "      <td>NaN</td>\n",
       "      <td>NaN</td>\n",
       "      <td>NaN</td>\n",
       "      <td>6.700</td>\n",
       "      <td>0.000</td>\n",
       "      <td>2012</td>\n",
       "      <td>16+</td>\n",
       "      <td>сет макфарлейн</td>\n",
       "      <td>комедия</td>\n",
       "      <td>NaN</td>\n",
       "    </tr>\n",
       "    <tr>\n",
       "      <th>988</th>\n",
       "      <td>Третий лишний</td>\n",
       "      <td>221077912</td>\n",
       "      <td>2012-12-11</td>\n",
       "      <td>Художественный</td>\n",
       "      <td>юниверсал пикчерз, медиа райтс кэпитал, фаззи ...</td>\n",
       "      <td>сша</td>\n",
       "      <td>джон джейкобс, джейсон кларк, сет макфарлейн</td>\n",
       "      <td>NaN</td>\n",
       "      <td>NaN</td>\n",
       "      <td>NaN</td>\n",
       "      <td>NaN</td>\n",
       "      <td>6.700</td>\n",
       "      <td>NaN</td>\n",
       "      <td>2012</td>\n",
       "      <td>16+</td>\n",
       "      <td>сет макфарлейн</td>\n",
       "      <td>комедия</td>\n",
       "      <td>NaN</td>\n",
       "    </tr>\n",
       "    <tr>\n",
       "      <th>2523</th>\n",
       "      <td>Третий лишний 2</td>\n",
       "      <td>121010115</td>\n",
       "      <td>2015-04-29</td>\n",
       "      <td>Художественный</td>\n",
       "      <td>юниверсал пикчерз, медиа райтс кэпитал, фаззи ...</td>\n",
       "      <td>сша</td>\n",
       "      <td>джон джейкобс, джейсон кларк, сет макфарлейн</td>\n",
       "      <td>NaN</td>\n",
       "      <td>NaN</td>\n",
       "      <td>NaN</td>\n",
       "      <td>NaN</td>\n",
       "      <td>5.900</td>\n",
       "      <td>310.969</td>\n",
       "      <td>2015</td>\n",
       "      <td>18+</td>\n",
       "      <td>сет макфарлейн</td>\n",
       "      <td>комедия</td>\n",
       "      <td>NaN</td>\n",
       "    </tr>\n",
       "  </tbody>\n",
       "</table>\n",
       "</div>"
      ],
      "text/plain": [
       "                title   puNumber show_start_date            type  \\\n",
       "987    Третий лишний   121016012      2012-07-06  Художественный   \n",
       "988    Третий лишний   221077912      2012-12-11  Художественный   \n",
       "2523  Третий лишний 2  121010115      2015-04-29  Художественный   \n",
       "\n",
       "                                            film_studio production_country  \\\n",
       "987   юниверсал пикчерз, медиа райтс кэпитал, фаззи ...                сша   \n",
       "988   юниверсал пикчерз, медиа райтс кэпитал, фаззи ...                сша   \n",
       "2523  юниверсал пикчерз, медиа райтс кэпитал, фаззи ...                сша   \n",
       "\n",
       "                                          producer  refundable_support  \\\n",
       "987   джон джейкобс, джейсон кларк, сет макфарлейн                 NaN   \n",
       "988   джон джейкобс, джейсон кларк, сет макфарлейн                 NaN   \n",
       "2523  джон джейкобс, джейсон кларк, сет макфарлейн                 NaN   \n",
       "\n",
       "      nonrefundable_support  budget financing_source  ratings  box_office  \\\n",
       "987                     NaN     NaN              NaN    6.700       0.000   \n",
       "988                     NaN     NaN              NaN    6.700         NaN   \n",
       "2523                    NaN     NaN              NaN    5.900     310.969   \n",
       "\n",
       "      year_start_date short_age_restriction   head_director main_genres  \\\n",
       "987              2012                   16+  сет макфарлейн     комедия   \n",
       "988              2012                   16+  сет макфарлейн     комедия   \n",
       "2523             2015                   18+  сет макфарлейн     комедия   \n",
       "\n",
       "      refundable_support_percent  \n",
       "987                          NaN  \n",
       "988                          NaN  \n",
       "2523                         NaN  "
      ]
     },
     "execution_count": 61,
     "metadata": {},
     "output_type": "execute_result"
    }
   ],
   "source": [
    "data[data['title'].str.contains('Третий лишний')]"
   ]
  },
  {
   "cell_type": "code",
   "execution_count": 62,
   "metadata": {},
   "outputs": [],
   "source": [
    "data = data.drop(index=[998])"
   ]
  },
  {
   "cell_type": "markdown",
   "metadata": {},
   "source": [
    "Обрабока дубикатов фильма \"Схватка\", 433, 505, 506 - дубликаты"
   ]
  },
  {
   "cell_type": "code",
   "execution_count": 63,
   "metadata": {},
   "outputs": [
    {
     "data": {
      "text/html": [
       "<div>\n",
       "<style scoped>\n",
       "    .dataframe tbody tr th:only-of-type {\n",
       "        vertical-align: middle;\n",
       "    }\n",
       "\n",
       "    .dataframe tbody tr th {\n",
       "        vertical-align: top;\n",
       "    }\n",
       "\n",
       "    .dataframe thead th {\n",
       "        text-align: right;\n",
       "    }\n",
       "</style>\n",
       "<table border=\"1\" class=\"dataframe\">\n",
       "  <thead>\n",
       "    <tr style=\"text-align: right;\">\n",
       "      <th></th>\n",
       "      <th>title</th>\n",
       "      <th>puNumber</th>\n",
       "      <th>show_start_date</th>\n",
       "      <th>type</th>\n",
       "      <th>film_studio</th>\n",
       "      <th>production_country</th>\n",
       "      <th>producer</th>\n",
       "      <th>refundable_support</th>\n",
       "      <th>nonrefundable_support</th>\n",
       "      <th>budget</th>\n",
       "      <th>financing_source</th>\n",
       "      <th>ratings</th>\n",
       "      <th>box_office</th>\n",
       "      <th>year_start_date</th>\n",
       "      <th>short_age_restriction</th>\n",
       "      <th>head_director</th>\n",
       "      <th>main_genres</th>\n",
       "      <th>refundable_support_percent</th>\n",
       "    </tr>\n",
       "  </thead>\n",
       "  <tbody>\n",
       "    <tr>\n",
       "      <th>433</th>\n",
       "      <td>Схватка _</td>\n",
       "      <td>221019512</td>\n",
       "      <td>2012-02-27</td>\n",
       "      <td>Художественный</td>\n",
       "      <td>лиддел интертейнмент, скотт фри продакшнз, 198...</td>\n",
       "      <td>сша</td>\n",
       "      <td>джо карнахан, ридли скотт, тони скотт</td>\n",
       "      <td>NaN</td>\n",
       "      <td>NaN</td>\n",
       "      <td>NaN</td>\n",
       "      <td>NaN</td>\n",
       "      <td>8.000</td>\n",
       "      <td>NaN</td>\n",
       "      <td>2012</td>\n",
       "      <td>16+</td>\n",
       "      <td>джо карнахан</td>\n",
       "      <td>триллер</td>\n",
       "      <td>NaN</td>\n",
       "    </tr>\n",
       "    <tr>\n",
       "      <th>505</th>\n",
       "      <td>Схватка</td>\n",
       "      <td>221003015</td>\n",
       "      <td>2015-02-11</td>\n",
       "      <td>Художественный</td>\n",
       "      <td>лиддел интертейнмент, скотт фри продакшнз, 198...</td>\n",
       "      <td>сша</td>\n",
       "      <td>джо карнахан, ридли скотт, тони скотт</td>\n",
       "      <td>NaN</td>\n",
       "      <td>NaN</td>\n",
       "      <td>NaN</td>\n",
       "      <td>NaN</td>\n",
       "      <td>8.000</td>\n",
       "      <td>NaN</td>\n",
       "      <td>2015</td>\n",
       "      <td>18+</td>\n",
       "      <td>джо карнахан</td>\n",
       "      <td>триллер</td>\n",
       "      <td>NaN</td>\n",
       "    </tr>\n",
       "    <tr>\n",
       "      <th>506</th>\n",
       "      <td>Схватка</td>\n",
       "      <td>121000312</td>\n",
       "      <td>2012-01-11</td>\n",
       "      <td>Художественный</td>\n",
       "      <td>лиддел интертейнмент, скотт фри продакшнз, 198...</td>\n",
       "      <td>сша</td>\n",
       "      <td>джо карнахан, ридли скотт, тони скотт</td>\n",
       "      <td>NaN</td>\n",
       "      <td>NaN</td>\n",
       "      <td>NaN</td>\n",
       "      <td>NaN</td>\n",
       "      <td>8.000</td>\n",
       "      <td>0.000</td>\n",
       "      <td>2012</td>\n",
       "      <td>18+</td>\n",
       "      <td>джо карнахан</td>\n",
       "      <td>триллер</td>\n",
       "      <td>NaN</td>\n",
       "    </tr>\n",
       "    <tr>\n",
       "      <th>1841</th>\n",
       "      <td>Схватка в пурге</td>\n",
       "      <td>111021314</td>\n",
       "      <td>2014-12-01</td>\n",
       "      <td>Художественный</td>\n",
       "      <td>киностудия \"мосфильм\"</td>\n",
       "      <td>ссср</td>\n",
       "      <td>unknown</td>\n",
       "      <td>NaN</td>\n",
       "      <td>NaN</td>\n",
       "      <td>NaN</td>\n",
       "      <td>NaN</td>\n",
       "      <td>6.300</td>\n",
       "      <td>NaN</td>\n",
       "      <td>2014</td>\n",
       "      <td>12+</td>\n",
       "      <td>а.гордон</td>\n",
       "      <td>боевик</td>\n",
       "      <td>NaN</td>\n",
       "    </tr>\n",
       "    <tr>\n",
       "      <th>1947</th>\n",
       "      <td>Схватка</td>\n",
       "      <td>211038914</td>\n",
       "      <td>2014-09-08</td>\n",
       "      <td>Художественный</td>\n",
       "      <td>одесская киностудия</td>\n",
       "      <td>ссср</td>\n",
       "      <td>unknown</td>\n",
       "      <td>NaN</td>\n",
       "      <td>NaN</td>\n",
       "      <td>NaN</td>\n",
       "      <td>NaN</td>\n",
       "      <td>8.000</td>\n",
       "      <td>NaN</td>\n",
       "      <td>2014</td>\n",
       "      <td>6+</td>\n",
       "      <td>с.пучинян</td>\n",
       "      <td>триллер</td>\n",
       "      <td>NaN</td>\n",
       "    </tr>\n",
       "  </tbody>\n",
       "</table>\n",
       "</div>"
      ],
      "text/plain": [
       "                title   puNumber show_start_date            type  \\\n",
       "433         Схватка _  221019512      2012-02-27  Художественный   \n",
       "505          Схватка   221003015      2015-02-11  Художественный   \n",
       "506          Схватка   121000312      2012-01-11  Художественный   \n",
       "1841  Схватка в пурге  111021314      2014-12-01  Художественный   \n",
       "1947          Схватка  211038914      2014-09-08  Художественный   \n",
       "\n",
       "                                            film_studio production_country  \\\n",
       "433   лиддел интертейнмент, скотт фри продакшнз, 198...                сша   \n",
       "505   лиддел интертейнмент, скотт фри продакшнз, 198...                сша   \n",
       "506   лиддел интертейнмент, скотт фри продакшнз, 198...                сша   \n",
       "1841                              киностудия \"мосфильм\"               ссср   \n",
       "1947                                одесская киностудия               ссср   \n",
       "\n",
       "                                   producer  refundable_support  \\\n",
       "433   джо карнахан, ридли скотт, тони скотт                 NaN   \n",
       "505   джо карнахан, ридли скотт, тони скотт                 NaN   \n",
       "506   джо карнахан, ридли скотт, тони скотт                 NaN   \n",
       "1841                                unknown                 NaN   \n",
       "1947                                unknown                 NaN   \n",
       "\n",
       "      nonrefundable_support  budget financing_source  ratings  box_office  \\\n",
       "433                     NaN     NaN              NaN    8.000         NaN   \n",
       "505                     NaN     NaN              NaN    8.000         NaN   \n",
       "506                     NaN     NaN              NaN    8.000       0.000   \n",
       "1841                    NaN     NaN              NaN    6.300         NaN   \n",
       "1947                    NaN     NaN              NaN    8.000         NaN   \n",
       "\n",
       "      year_start_date short_age_restriction head_director main_genres  \\\n",
       "433              2012                   16+  джо карнахан     триллер   \n",
       "505              2015                   18+  джо карнахан     триллер   \n",
       "506              2012                   18+  джо карнахан     триллер   \n",
       "1841             2014                   12+      а.гордон      боевик   \n",
       "1947             2014                    6+     с.пучинян     триллер   \n",
       "\n",
       "      refundable_support_percent  \n",
       "433                          NaN  \n",
       "505                          NaN  \n",
       "506                          NaN  \n",
       "1841                         NaN  \n",
       "1947                         NaN  "
      ]
     },
     "execution_count": 63,
     "metadata": {},
     "output_type": "execute_result"
    }
   ],
   "source": [
    "data[data['title'].str.contains('Схватка')]"
   ]
  },
  {
   "cell_type": "code",
   "execution_count": 64,
   "metadata": {},
   "outputs": [],
   "source": [
    "data = data.drop(index=[433])\n",
    "data = data.drop(index=[505])"
   ]
  },
  {
   "cell_type": "code",
   "execution_count": 65,
   "metadata": {},
   "outputs": [
    {
     "data": {
      "text/html": [
       "<div>\n",
       "<style scoped>\n",
       "    .dataframe tbody tr th:only-of-type {\n",
       "        vertical-align: middle;\n",
       "    }\n",
       "\n",
       "    .dataframe tbody tr th {\n",
       "        vertical-align: top;\n",
       "    }\n",
       "\n",
       "    .dataframe thead th {\n",
       "        text-align: right;\n",
       "    }\n",
       "</style>\n",
       "<table border=\"1\" class=\"dataframe\">\n",
       "  <thead>\n",
       "    <tr style=\"text-align: right;\">\n",
       "      <th></th>\n",
       "      <th>title</th>\n",
       "      <th>puNumber</th>\n",
       "      <th>show_start_date</th>\n",
       "      <th>type</th>\n",
       "      <th>film_studio</th>\n",
       "      <th>production_country</th>\n",
       "      <th>producer</th>\n",
       "      <th>refundable_support</th>\n",
       "      <th>nonrefundable_support</th>\n",
       "      <th>budget</th>\n",
       "      <th>financing_source</th>\n",
       "      <th>ratings</th>\n",
       "      <th>box_office</th>\n",
       "      <th>year_start_date</th>\n",
       "      <th>short_age_restriction</th>\n",
       "      <th>head_director</th>\n",
       "      <th>main_genres</th>\n",
       "      <th>refundable_support_percent</th>\n",
       "    </tr>\n",
       "  </thead>\n",
       "  <tbody>\n",
       "    <tr>\n",
       "      <th>0</th>\n",
       "      <td>Открытый простор</td>\n",
       "      <td>221048915</td>\n",
       "      <td>2015-11-27</td>\n",
       "      <td>Художественный</td>\n",
       "      <td>тачстоун пикчерз, кобальт пикчерз, бикон пикче...</td>\n",
       "      <td>сша</td>\n",
       "      <td>дэвид валдес, кевин костнер, джейк эбертс</td>\n",
       "      <td>NaN</td>\n",
       "      <td>NaN</td>\n",
       "      <td>NaN</td>\n",
       "      <td>NaN</td>\n",
       "      <td>7.200</td>\n",
       "      <td>NaN</td>\n",
       "      <td>2015</td>\n",
       "      <td>18+</td>\n",
       "      <td>кевин костнер</td>\n",
       "      <td>боевик</td>\n",
       "      <td>NaN</td>\n",
       "    </tr>\n",
       "    <tr>\n",
       "      <th>1</th>\n",
       "      <td>Особо важное задание</td>\n",
       "      <td>111013716</td>\n",
       "      <td>2016-09-13</td>\n",
       "      <td>Художественный</td>\n",
       "      <td>киностудия \"мосфильм\"</td>\n",
       "      <td>ссср</td>\n",
       "      <td>unknown</td>\n",
       "      <td>NaN</td>\n",
       "      <td>NaN</td>\n",
       "      <td>NaN</td>\n",
       "      <td>NaN</td>\n",
       "      <td>6.600</td>\n",
       "      <td>NaN</td>\n",
       "      <td>2016</td>\n",
       "      <td>6+</td>\n",
       "      <td>е.матвеев</td>\n",
       "      <td>драма</td>\n",
       "      <td>NaN</td>\n",
       "    </tr>\n",
       "    <tr>\n",
       "      <th>2</th>\n",
       "      <td>Особо опасен</td>\n",
       "      <td>221038416</td>\n",
       "      <td>2016-10-10</td>\n",
       "      <td>Художественный</td>\n",
       "      <td>юниверсал пикчерз, кикстарт продакшнз, марк пл...</td>\n",
       "      <td>сша</td>\n",
       "      <td>джим лемли, джейсон нетер, марк е.платт, яйн смит</td>\n",
       "      <td>NaN</td>\n",
       "      <td>NaN</td>\n",
       "      <td>NaN</td>\n",
       "      <td>NaN</td>\n",
       "      <td>6.800</td>\n",
       "      <td>NaN</td>\n",
       "      <td>2016</td>\n",
       "      <td>18+</td>\n",
       "      <td>тимур бекмамбетов</td>\n",
       "      <td>фантастика</td>\n",
       "      <td>NaN</td>\n",
       "    </tr>\n",
       "    <tr>\n",
       "      <th>3</th>\n",
       "      <td>Остановился поезд</td>\n",
       "      <td>111013816</td>\n",
       "      <td>2016-09-13</td>\n",
       "      <td>Художественный</td>\n",
       "      <td>киностудия \"мосфильм\"</td>\n",
       "      <td>ссср</td>\n",
       "      <td>unknown</td>\n",
       "      <td>NaN</td>\n",
       "      <td>NaN</td>\n",
       "      <td>NaN</td>\n",
       "      <td>NaN</td>\n",
       "      <td>7.700</td>\n",
       "      <td>NaN</td>\n",
       "      <td>2016</td>\n",
       "      <td>6+</td>\n",
       "      <td>в.абдрашитов</td>\n",
       "      <td>драма</td>\n",
       "      <td>NaN</td>\n",
       "    </tr>\n",
       "    <tr>\n",
       "      <th>4</th>\n",
       "      <td>Любовь и голуби</td>\n",
       "      <td>111007013</td>\n",
       "      <td>2013-10-18</td>\n",
       "      <td>Художественный</td>\n",
       "      <td>киностудия \"мосфильм\"</td>\n",
       "      <td>ссср</td>\n",
       "      <td>unknown</td>\n",
       "      <td>NaN</td>\n",
       "      <td>NaN</td>\n",
       "      <td>NaN</td>\n",
       "      <td>NaN</td>\n",
       "      <td>8.300</td>\n",
       "      <td>0.003</td>\n",
       "      <td>2013</td>\n",
       "      <td>12+</td>\n",
       "      <td>в.меньшов</td>\n",
       "      <td>мелодрама</td>\n",
       "      <td>NaN</td>\n",
       "    </tr>\n",
       "  </tbody>\n",
       "</table>\n",
       "</div>"
      ],
      "text/plain": [
       "                  title   puNumber show_start_date            type  \\\n",
       "0      Открытый простор  221048915      2015-11-27  Художественный   \n",
       "1  Особо важное задание  111013716      2016-09-13  Художественный   \n",
       "2          Особо опасен  221038416      2016-10-10  Художественный   \n",
       "3     Остановился поезд  111013816      2016-09-13  Художественный   \n",
       "4       Любовь и голуби  111007013      2013-10-18  Художественный   \n",
       "\n",
       "                                         film_studio production_country  \\\n",
       "0  тачстоун пикчерз, кобальт пикчерз, бикон пикче...                сша   \n",
       "1                              киностудия \"мосфильм\"               ссср   \n",
       "2  юниверсал пикчерз, кикстарт продакшнз, марк пл...                сша   \n",
       "3                              киностудия \"мосфильм\"               ссср   \n",
       "4                              киностудия \"мосфильм\"               ссср   \n",
       "\n",
       "                                            producer  refundable_support  \\\n",
       "0          дэвид валдес, кевин костнер, джейк эбертс                 NaN   \n",
       "1                                            unknown                 NaN   \n",
       "2  джим лемли, джейсон нетер, марк е.платт, яйн смит                 NaN   \n",
       "3                                            unknown                 NaN   \n",
       "4                                            unknown                 NaN   \n",
       "\n",
       "   nonrefundable_support  budget financing_source  ratings  box_office  \\\n",
       "0                    NaN     NaN              NaN    7.200         NaN   \n",
       "1                    NaN     NaN              NaN    6.600         NaN   \n",
       "2                    NaN     NaN              NaN    6.800         NaN   \n",
       "3                    NaN     NaN              NaN    7.700         NaN   \n",
       "4                    NaN     NaN              NaN    8.300       0.003   \n",
       "\n",
       "   year_start_date short_age_restriction      head_director main_genres  \\\n",
       "0             2015                   18+      кевин костнер      боевик   \n",
       "1             2016                    6+          е.матвеев       драма   \n",
       "2             2016                   18+  тимур бекмамбетов  фантастика   \n",
       "3             2016                    6+       в.абдрашитов       драма   \n",
       "4             2013                   12+          в.меньшов   мелодрама   \n",
       "\n",
       "   refundable_support_percent  \n",
       "0                         NaN  \n",
       "1                         NaN  \n",
       "2                         NaN  \n",
       "3                         NaN  \n",
       "4                         NaN  "
      ]
     },
     "execution_count": 65,
     "metadata": {},
     "output_type": "execute_result"
    }
   ],
   "source": [
    "data.reset_index(drop=True).head()"
   ]
  },
  {
   "cell_type": "code",
   "execution_count": 66,
   "metadata": {},
   "outputs": [
    {
     "name": "stdout",
     "output_type": "stream",
     "text": [
      "Удалено данных в качестве дубликатов 9.55%\n"
     ]
    }
   ],
   "source": [
    "# проверка количества удаленных данных в датафрейме\n",
    "print('Удалено данных в качестве дубликатов {:.2%}'.format(1 - len(data) / 7486))"
   ]
  },
  {
   "cell_type": "markdown",
   "metadata": {},
   "source": [
    "<div class=\"alert alert-block alert-info\"><b>Вывод:</b>\n",
    "    <p><i>2.1 Типы данных изменены в столбцах:</i>\n",
    "<p>show_start_date преобразуем дату в формат '%Y-%m-%d'\n",
    "<p>refundable_suppor, nonrefundable_support, budget, box_office - выразим в млн. рублей\n",
    " <p>ratings тип данных object преобразован во float64, удалены знаки %, значения, большие 10, уменьшены в 10 раз\n",
    "<p>age_restriction – переведен в краткий формат «0+», «12+» и т.д.\n",
    "<br>\n",
    "<p><i>2.2 Пропуски заполнены в столбцах:</i>\n",
    "<p>• production_country – вручную\n",
    "<p>• director, producer – замены на unknown\n",
    "<p>• ratings – после создания столбца main_genres, заполнены медианным значением по жанрам\n",
    "<p> Пропуски не были заполнены в следующих столбцах:\n",
    "<p>•  genres - по типу фильма сложно понять его жанр, продюссеры могут вкладываться в фильмы разных жанров\n",
    "<p>•  box_office - фильм мог не выходить в широкий прокат\n",
    "<p>•  refundable_support, nonrefundable_support, budget, financing_source - заполнены только для фильмов с господдержкой\n",
    "\n",
    "<p><i>2.3 Дубликаты в датафрейме:</i>\n",
    "<p>Основное поле поиска дубликатов  - в названии фильмов. Удаление дубликатов происходило в четыре этапа:\n",
    "<p>1.\tОбработка названий фильмов (удаление лишних пробелов и других мусорных символов в конце)\n",
    "<p>2.\tС использованием drop_duplicates() были удалены строки совпадающие по полям title', 'type', 'production_country',   'producer','short_age_restriction', 'box_office'\n",
    "<p>3.\tПосле добавления новых уточняющих столбцов в разделе 2.6 проведен третий этап удаления дубликатов:  теперь совпадения искались функцией drop_title_duplicated только по полям title, type,  head_director, main_genres, если совпадение было найдено по всем трем полям, дубликаты удалялись, оставив накопительную сумму (одну и ту же сумму, Nan) по сборам и средний рейтинг в случае их отличия (дополнительная функция sum_uniq_val). На этом шаге было удалено 213 дубликатов\n",
    "<p>4.\tЗавершающий этап «чистки» был реализован при помощи фильтра по сводной таблице, оставшиеся пять явных дубликатов анализировались и удалялись вручную\n",
    "    <br>\n",
    "<p><i>2.4  Обработка столбцов</i> 'type', 'film_studio', 'production_country', 'director', 'producer' - удаление пробелов в начале / конце строк\n",
    "<p><i>2.5  Нулевой бюджет</i> при наличии любой поддержки - является ошибкой, заполним такие значения на сумму столбцов refundable_support и nonrefundable_support\n",
    "<p><i>2.6  Добавлены новые столбцы</i> 'year_start_date', 'head_director', 'main_genres'\n",
    "<p>Рассчитана доля государственной поддержки от общего бюджета фильма. В среднем государственная поддержка составляет 54%, но есть фильмы со 100% господдержкой.\n",
    "75% рассматриваемых фильмов имеют долю государственной поддержки, не превышающую 66%\n",
    "\n",
    "\n"
   ]
  },
  {
   "cell_type": "markdown",
   "metadata": {
    "id": "6t4EukPLgFyV"
   },
   "source": [
    "### Шаг 3. Проведите исследовательский анализ данных\n"
   ]
  },
  {
   "cell_type": "markdown",
   "metadata": {
    "id": "vAH8WCzugFyV"
   },
   "source": [
    "- Посмотрите, сколько фильмов выходило в прокат каждый год. Обратите внимание, что данные о прокате в кинотеатрах известны не для всех фильмов. Посчитайте, какую долю составляют фильмы с указанной информацией о прокате в кинотеатрах."
   ]
  },
  {
   "cell_type": "code",
   "execution_count": 67,
   "metadata": {
    "id": "ABeV47y7gFyW"
   },
   "outputs": [
    {
     "data": {
      "text/html": [
       "<div>\n",
       "<style scoped>\n",
       "    .dataframe tbody tr th:only-of-type {\n",
       "        vertical-align: middle;\n",
       "    }\n",
       "\n",
       "    .dataframe tbody tr th {\n",
       "        vertical-align: top;\n",
       "    }\n",
       "\n",
       "    .dataframe thead th {\n",
       "        text-align: right;\n",
       "    }\n",
       "</style>\n",
       "<table border=\"1\" class=\"dataframe\">\n",
       "  <thead>\n",
       "    <tr style=\"text-align: right;\">\n",
       "      <th></th>\n",
       "      <th>year_of_realease</th>\n",
       "      <th>box_office_release</th>\n",
       "      <th>total_movies_in_realease</th>\n",
       "    </tr>\n",
       "  </thead>\n",
       "  <tbody>\n",
       "    <tr>\n",
       "      <th>0</th>\n",
       "      <td>2010</td>\n",
       "      <td>2.161</td>\n",
       "      <td>92</td>\n",
       "    </tr>\n",
       "    <tr>\n",
       "      <th>1</th>\n",
       "      <td>2011</td>\n",
       "      <td>13.956</td>\n",
       "      <td>100</td>\n",
       "    </tr>\n",
       "    <tr>\n",
       "      <th>2</th>\n",
       "      <td>2012</td>\n",
       "      <td>7.276</td>\n",
       "      <td>118</td>\n",
       "    </tr>\n",
       "    <tr>\n",
       "      <th>3</th>\n",
       "      <td>2013</td>\n",
       "      <td>29.834</td>\n",
       "      <td>178</td>\n",
       "    </tr>\n",
       "    <tr>\n",
       "      <th>4</th>\n",
       "      <td>2014</td>\n",
       "      <td>7373.921</td>\n",
       "      <td>259</td>\n",
       "    </tr>\n",
       "    <tr>\n",
       "      <th>5</th>\n",
       "      <td>2015</td>\n",
       "      <td>35614.539</td>\n",
       "      <td>447</td>\n",
       "    </tr>\n",
       "    <tr>\n",
       "      <th>6</th>\n",
       "      <td>2016</td>\n",
       "      <td>51820.212</td>\n",
       "      <td>545</td>\n",
       "    </tr>\n",
       "    <tr>\n",
       "      <th>7</th>\n",
       "      <td>2017</td>\n",
       "      <td>48563.707</td>\n",
       "      <td>357</td>\n",
       "    </tr>\n",
       "    <tr>\n",
       "      <th>8</th>\n",
       "      <td>2018</td>\n",
       "      <td>49668.403</td>\n",
       "      <td>475</td>\n",
       "    </tr>\n",
       "    <tr>\n",
       "      <th>9</th>\n",
       "      <td>2019</td>\n",
       "      <td>48425.709</td>\n",
       "      <td>530</td>\n",
       "    </tr>\n",
       "  </tbody>\n",
       "</table>\n",
       "</div>"
      ],
      "text/plain": [
       "   year_of_realease  box_office_release  total_movies_in_realease\n",
       "0              2010               2.161                        92\n",
       "1              2011              13.956                       100\n",
       "2              2012               7.276                       118\n",
       "3              2013              29.834                       178\n",
       "4              2014            7373.921                       259\n",
       "5              2015           35614.539                       447\n",
       "6              2016           51820.212                       545\n",
       "7              2017           48563.707                       357\n",
       "8              2018           49668.403                       475\n",
       "9              2019           48425.709                       530"
      ]
     },
     "execution_count": 67,
     "metadata": {},
     "output_type": "execute_result"
    }
   ],
   "source": [
    "# фильтр данных с ненулевыми сборами\n",
    "movie_in_release = data.query('box_office > 0')\n",
    "\n",
    "# сводная таблица сборы / количество фильмов по годам\n",
    "movie_in_release_pt = movie_in_release.pivot_table(index='year_start_date', values=['box_office','puNumber'], \\\n",
    "                                                aggfunc={'box_office': 'sum', 'puNumber':'count'}).reset_index()\n",
    "# переименование столбцов\n",
    "movie_in_release_pt.columns=['year_of_realease','box_office_release','total_movies_in_realease']\n",
    "# вывод таблицы\n",
    "movie_in_release_pt"
   ]
  },
  {
   "cell_type": "code",
   "execution_count": 68,
   "metadata": {},
   "outputs": [
    {
     "data": {
      "text/html": [
       "<div>\n",
       "<style scoped>\n",
       "    .dataframe tbody tr th:only-of-type {\n",
       "        vertical-align: middle;\n",
       "    }\n",
       "\n",
       "    .dataframe tbody tr th {\n",
       "        vertical-align: top;\n",
       "    }\n",
       "\n",
       "    .dataframe thead th {\n",
       "        text-align: right;\n",
       "    }\n",
       "</style>\n",
       "<table border=\"1\" class=\"dataframe\">\n",
       "  <thead>\n",
       "    <tr style=\"text-align: right;\">\n",
       "      <th></th>\n",
       "      <th>year_of_realease</th>\n",
       "      <th>total_movies</th>\n",
       "      <th>box_office_release</th>\n",
       "      <th>total_movies_in_realease</th>\n",
       "      <th>percent</th>\n",
       "    </tr>\n",
       "  </thead>\n",
       "  <tbody>\n",
       "    <tr>\n",
       "      <th>0</th>\n",
       "      <td>2010</td>\n",
       "      <td>757</td>\n",
       "      <td>2.161</td>\n",
       "      <td>92</td>\n",
       "      <td>0.122</td>\n",
       "    </tr>\n",
       "    <tr>\n",
       "      <th>1</th>\n",
       "      <td>2011</td>\n",
       "      <td>471</td>\n",
       "      <td>13.956</td>\n",
       "      <td>100</td>\n",
       "      <td>0.212</td>\n",
       "    </tr>\n",
       "    <tr>\n",
       "      <th>2</th>\n",
       "      <td>2012</td>\n",
       "      <td>516</td>\n",
       "      <td>7.276</td>\n",
       "      <td>118</td>\n",
       "      <td>0.229</td>\n",
       "    </tr>\n",
       "    <tr>\n",
       "      <th>3</th>\n",
       "      <td>2013</td>\n",
       "      <td>588</td>\n",
       "      <td>29.834</td>\n",
       "      <td>178</td>\n",
       "      <td>0.303</td>\n",
       "    </tr>\n",
       "    <tr>\n",
       "      <th>4</th>\n",
       "      <td>2014</td>\n",
       "      <td>722</td>\n",
       "      <td>7373.921</td>\n",
       "      <td>259</td>\n",
       "      <td>0.359</td>\n",
       "    </tr>\n",
       "    <tr>\n",
       "      <th>5</th>\n",
       "      <td>2015</td>\n",
       "      <td>659</td>\n",
       "      <td>35614.539</td>\n",
       "      <td>447</td>\n",
       "      <td>0.678</td>\n",
       "    </tr>\n",
       "    <tr>\n",
       "      <th>6</th>\n",
       "      <td>2016</td>\n",
       "      <td>765</td>\n",
       "      <td>51820.212</td>\n",
       "      <td>545</td>\n",
       "      <td>0.712</td>\n",
       "    </tr>\n",
       "    <tr>\n",
       "      <th>7</th>\n",
       "      <td>2017</td>\n",
       "      <td>500</td>\n",
       "      <td>48563.707</td>\n",
       "      <td>357</td>\n",
       "      <td>0.714</td>\n",
       "    </tr>\n",
       "    <tr>\n",
       "      <th>8</th>\n",
       "      <td>2018</td>\n",
       "      <td>881</td>\n",
       "      <td>49668.403</td>\n",
       "      <td>475</td>\n",
       "      <td>0.539</td>\n",
       "    </tr>\n",
       "    <tr>\n",
       "      <th>9</th>\n",
       "      <td>2019</td>\n",
       "      <td>912</td>\n",
       "      <td>48425.709</td>\n",
       "      <td>530</td>\n",
       "      <td>0.581</td>\n",
       "    </tr>\n",
       "  </tbody>\n",
       "</table>\n",
       "</div>"
      ],
      "text/plain": [
       "   year_of_realease  total_movies  box_office_release  \\\n",
       "0              2010           757               2.161   \n",
       "1              2011           471              13.956   \n",
       "2              2012           516               7.276   \n",
       "3              2013           588              29.834   \n",
       "4              2014           722            7373.921   \n",
       "5              2015           659           35614.539   \n",
       "6              2016           765           51820.212   \n",
       "7              2017           500           48563.707   \n",
       "8              2018           881           49668.403   \n",
       "9              2019           912           48425.709   \n",
       "\n",
       "   total_movies_in_realease  percent  \n",
       "0                        92    0.122  \n",
       "1                       100    0.212  \n",
       "2                       118    0.229  \n",
       "3                       178    0.303  \n",
       "4                       259    0.359  \n",
       "5                       447    0.678  \n",
       "6                       545    0.712  \n",
       "7                       357    0.714  \n",
       "8                       475    0.539  \n",
       "9                       530    0.581  "
      ]
     },
     "execution_count": 68,
     "metadata": {},
     "output_type": "execute_result"
    }
   ],
   "source": [
    "# сводная таблица по всем фильмам для расчета количества фильмов, выпущенных в каждом году\n",
    "movie_in_year_pt = data.pivot_table(index = 'year_start_date', values='puNumber', \\\n",
    "                                    aggfunc='count').reset_index()\n",
    "# переименование столбцов\n",
    "movie_in_year_pt.columns=['year_of_realease','total_movies']\n",
    "\n",
    "# вывод объединенной таблицы \n",
    "movie_in_year_pt = movie_in_year_pt.merge(movie_in_release_pt, how='left')\n",
    "movie_in_year_pt['percent'] = movie_in_year_pt['total_movies_in_realease'] / movie_in_year_pt['total_movies']\n",
    "movie_in_year_pt"
   ]
  },
  {
   "cell_type": "code",
   "execution_count": 69,
   "metadata": {},
   "outputs": [
    {
     "data": {
      "text/plain": [
       "Text(0, 0.5, 'Доли')"
      ]
     },
     "execution_count": 69,
     "metadata": {},
     "output_type": "execute_result"
    },
    {
     "data": {
      "image/png": "[encoded data removed]",
      "text/plain": [
       "<Figure size 864x432 with 1 Axes>"
      ]
     },
     "metadata": {
      "needs_background": "light"
     },
     "output_type": "display_data"
    }
   ],
   "source": [
    "# построение сводного графика доли фильмов вышедших в прокат от общего количества фильмов за каждый год\n",
    "import matplotlib.pyplot as plt\n",
    "x = movie_in_year_pt['year_of_realease']\n",
    "y = movie_in_year_pt['percent']\n",
    "fig, ax = plt.subplots()\n",
    "\n",
    "ax.bar(x, y)\n",
    "fig.set_figwidth(12)    #  ширина и\n",
    "fig.set_figheight(6)    #  высота \"Figure\"\n",
    "\n",
    "\n",
    "fig.suptitle('Динамика доли фильмов, выходивших в прокат от общего количества (по годам)', fontsize=16)\n",
    "ax.set_xlabel('Год')\n",
    "ax.set_ylabel('Доли')"
   ]
  },
  {
   "cell_type": "code",
   "execution_count": 70,
   "metadata": {},
   "outputs": [
    {
     "data": {
      "text/plain": [
       "0.46152710087136317"
      ]
     },
     "execution_count": 70,
     "metadata": {},
     "output_type": "execute_result"
    }
   ],
   "source": [
    "# доля фильмов, вышедших в прокат за всё время\n",
    "data['box_office'].count() / data['year_start_date'].count()"
   ]
  },
  {
   "cell_type": "markdown",
   "metadata": {},
   "source": [
    "<div class=\"alert alert-block alert-info\">Наименьшая доля фильмов (12.2% от общего количества) вышла в релиз в 2010, наибольшая (71%) - в 2016 и 2017 годах. Доля фильмов, вышедших в прокат за всё время составляет 46%"
   ]
  },
  {
   "cell_type": "markdown",
   "metadata": {},
   "source": [
    "<hr>"
   ]
  },
  {
   "cell_type": "markdown",
   "metadata": {
    "id": "BEOdcIrIgFyW"
   },
   "source": [
    "- Изучите, как менялась динамика проката по годам. В каком году сумма сборов была минимальной? А максимальной?"
   ]
  },
  {
   "cell_type": "code",
   "execution_count": 71,
   "metadata": {},
   "outputs": [
    {
     "data": {
      "text/plain": [
       "Text(0, 0.5, 'Сборы, млн. руб.')"
      ]
     },
     "execution_count": 71,
     "metadata": {},
     "output_type": "execute_result"
    },
    {
     "data": {
      "image/png": "[encoded data removed]",
      "text/plain": [
       "<Figure size 720x432 with 1 Axes>"
      ]
     },
     "metadata": {
      "needs_background": "light"
     },
     "output_type": "display_data"
    }
   ],
   "source": [
    "# построения графика динамики сборов у фильмов, вышедших в релиз\n",
    "ax = movie_in_release_pt.plot(\n",
    "    x='year_of_realease', \n",
    "    y='box_office_release',\n",
    "    title='Динамика суммарных прокатных сборов фильмов, вышедших в релиз, по годам, млн. руб.',\n",
    "    grid=True,\n",
    "    figsize=(10, 6)\n",
    "    )\n",
    "ax.set_xlabel('Год')\n",
    "ax.set_ylabel('Сборы, млн. руб.')\n"
   ]
  },
  {
   "cell_type": "code",
   "execution_count": 72,
   "metadata": {},
   "outputs": [],
   "source": [
    "# максимальные и минимальные годовые сборы у фильмов с релизом\n",
    "max_total_box_office = movie_in_release_pt['box_office_release'].max()\n",
    "min_total_box_office = movie_in_release_pt['box_office_release'].min()"
   ]
  },
  {
   "cell_type": "code",
   "execution_count": 73,
   "metadata": {},
   "outputs": [
    {
     "data": {
      "text/html": [
       "<div>\n",
       "<style scoped>\n",
       "    .dataframe tbody tr th:only-of-type {\n",
       "        vertical-align: middle;\n",
       "    }\n",
       "\n",
       "    .dataframe tbody tr th {\n",
       "        vertical-align: top;\n",
       "    }\n",
       "\n",
       "    .dataframe thead th {\n",
       "        text-align: right;\n",
       "    }\n",
       "</style>\n",
       "<table border=\"1\" class=\"dataframe\">\n",
       "  <thead>\n",
       "    <tr style=\"text-align: right;\">\n",
       "      <th></th>\n",
       "      <th>year_of_realease</th>\n",
       "      <th>box_office_release</th>\n",
       "      <th>total_movies_in_realease</th>\n",
       "    </tr>\n",
       "  </thead>\n",
       "  <tbody>\n",
       "    <tr>\n",
       "      <th>6</th>\n",
       "      <td>2016</td>\n",
       "      <td>51820.212</td>\n",
       "      <td>545</td>\n",
       "    </tr>\n",
       "  </tbody>\n",
       "</table>\n",
       "</div>"
      ],
      "text/plain": [
       "   year_of_realease  box_office_release  total_movies_in_realease\n",
       "6              2016           51820.212                       545"
      ]
     },
     "execution_count": 73,
     "metadata": {},
     "output_type": "execute_result"
    }
   ],
   "source": [
    "movie_in_release_pt.query('box_office_release == @max_total_box_office')"
   ]
  },
  {
   "cell_type": "code",
   "execution_count": 74,
   "metadata": {},
   "outputs": [
    {
     "data": {
      "text/html": [
       "<div>\n",
       "<style scoped>\n",
       "    .dataframe tbody tr th:only-of-type {\n",
       "        vertical-align: middle;\n",
       "    }\n",
       "\n",
       "    .dataframe tbody tr th {\n",
       "        vertical-align: top;\n",
       "    }\n",
       "\n",
       "    .dataframe thead th {\n",
       "        text-align: right;\n",
       "    }\n",
       "</style>\n",
       "<table border=\"1\" class=\"dataframe\">\n",
       "  <thead>\n",
       "    <tr style=\"text-align: right;\">\n",
       "      <th></th>\n",
       "      <th>year_of_realease</th>\n",
       "      <th>box_office_release</th>\n",
       "      <th>total_movies_in_realease</th>\n",
       "    </tr>\n",
       "  </thead>\n",
       "  <tbody>\n",
       "    <tr>\n",
       "      <th>0</th>\n",
       "      <td>2010</td>\n",
       "      <td>2.161</td>\n",
       "      <td>92</td>\n",
       "    </tr>\n",
       "  </tbody>\n",
       "</table>\n",
       "</div>"
      ],
      "text/plain": [
       "   year_of_realease  box_office_release  total_movies_in_realease\n",
       "0              2010               2.161                        92"
      ]
     },
     "execution_count": 74,
     "metadata": {},
     "output_type": "execute_result"
    }
   ],
   "source": [
    "movie_in_release_pt.query('box_office_release == @min_total_box_office')"
   ]
  },
  {
   "cell_type": "code",
   "execution_count": 75,
   "metadata": {},
   "outputs": [
    {
     "data": {
      "text/html": [
       "<div>\n",
       "<style scoped>\n",
       "    .dataframe tbody tr th:only-of-type {\n",
       "        vertical-align: middle;\n",
       "    }\n",
       "\n",
       "    .dataframe tbody tr th {\n",
       "        vertical-align: top;\n",
       "    }\n",
       "\n",
       "    .dataframe thead th {\n",
       "        text-align: right;\n",
       "    }\n",
       "</style>\n",
       "<table border=\"1\" class=\"dataframe\">\n",
       "  <thead>\n",
       "    <tr style=\"text-align: right;\">\n",
       "      <th></th>\n",
       "      <th>title</th>\n",
       "      <th>puNumber</th>\n",
       "      <th>show_start_date</th>\n",
       "      <th>type</th>\n",
       "      <th>film_studio</th>\n",
       "      <th>production_country</th>\n",
       "      <th>producer</th>\n",
       "      <th>refundable_support</th>\n",
       "      <th>nonrefundable_support</th>\n",
       "      <th>budget</th>\n",
       "      <th>financing_source</th>\n",
       "      <th>ratings</th>\n",
       "      <th>box_office</th>\n",
       "      <th>year_start_date</th>\n",
       "      <th>short_age_restriction</th>\n",
       "      <th>head_director</th>\n",
       "      <th>main_genres</th>\n",
       "      <th>refundable_support_percent</th>\n",
       "    </tr>\n",
       "  </thead>\n",
       "  <tbody>\n",
       "    <tr>\n",
       "      <th>6961</th>\n",
       "      <td>Холоп</td>\n",
       "      <td>111021719</td>\n",
       "      <td>2019-12-19</td>\n",
       "      <td>Художественный</td>\n",
       "      <td>ооо \"мем-медиа\" по заказу ао \"вбд груп\"</td>\n",
       "      <td>россия</td>\n",
       "      <td>э.илоян, д.жалинский, в.дусмухаметов, т.бадзие...</td>\n",
       "      <td>25.000</td>\n",
       "      <td>35.000</td>\n",
       "      <td>160.000</td>\n",
       "      <td>Фонд кино</td>\n",
       "      <td>6.800</td>\n",
       "      <td>3073.569</td>\n",
       "      <td>2019</td>\n",
       "      <td>12+</td>\n",
       "      <td>к.шипенко</td>\n",
       "      <td>комедия</td>\n",
       "      <td>0.375</td>\n",
       "    </tr>\n",
       "    <tr>\n",
       "      <th>5163</th>\n",
       "      <td>Движение вверх</td>\n",
       "      <td>111011817</td>\n",
       "      <td>2017-12-21</td>\n",
       "      <td>Художественный</td>\n",
       "      <td>ооо \"студия \"тритэ\" никиты михалкова\"</td>\n",
       "      <td>россия</td>\n",
       "      <td>л.верещагин, а.златопольский, н.михалков, ооо ...</td>\n",
       "      <td>0.000</td>\n",
       "      <td>400.000</td>\n",
       "      <td>590.192</td>\n",
       "      <td>Фонд кино</td>\n",
       "      <td>7.500</td>\n",
       "      <td>2779.686</td>\n",
       "      <td>2017</td>\n",
       "      <td>6+</td>\n",
       "      <td>а.мегердичев</td>\n",
       "      <td>спорт</td>\n",
       "      <td>0.678</td>\n",
       "    </tr>\n",
       "    <tr>\n",
       "      <th>6325</th>\n",
       "      <td>Мстители: Финал</td>\n",
       "      <td>121005519</td>\n",
       "      <td>2019-04-29</td>\n",
       "      <td>Художественный</td>\n",
       "      <td>марвел студиос</td>\n",
       "      <td>сша</td>\n",
       "      <td>кевин фейги</td>\n",
       "      <td>NaN</td>\n",
       "      <td>NaN</td>\n",
       "      <td>NaN</td>\n",
       "      <td>NaN</td>\n",
       "      <td>7.600</td>\n",
       "      <td>2576.614</td>\n",
       "      <td>2019</td>\n",
       "      <td>16+</td>\n",
       "      <td>джо руссо</td>\n",
       "      <td>фантастика</td>\n",
       "      <td>NaN</td>\n",
       "    </tr>\n",
       "  </tbody>\n",
       "</table>\n",
       "</div>"
      ],
      "text/plain": [
       "                title   puNumber show_start_date            type  \\\n",
       "6961            Холоп  111021719      2019-12-19  Художественный   \n",
       "5163   Движение вверх  111011817      2017-12-21  Художественный   \n",
       "6325  Мстители: Финал  121005519      2019-04-29  Художественный   \n",
       "\n",
       "                                  film_studio production_country  \\\n",
       "6961  ооо \"мем-медиа\" по заказу ао \"вбд груп\"             россия   \n",
       "5163    ооо \"студия \"тритэ\" никиты михалкова\"             россия   \n",
       "6325                           марвел студиос                сша   \n",
       "\n",
       "                                               producer  refundable_support  \\\n",
       "6961  э.илоян, д.жалинский, в.дусмухаметов, т.бадзие...              25.000   \n",
       "5163  л.верещагин, а.златопольский, н.михалков, ооо ...               0.000   \n",
       "6325                                        кевин фейги                 NaN   \n",
       "\n",
       "      nonrefundable_support  budget financing_source  ratings  box_office  \\\n",
       "6961                 35.000 160.000        Фонд кино    6.800    3073.569   \n",
       "5163                400.000 590.192        Фонд кино    7.500    2779.686   \n",
       "6325                    NaN     NaN              NaN    7.600    2576.614   \n",
       "\n",
       "      year_start_date short_age_restriction head_director main_genres  \\\n",
       "6961             2019                   12+     к.шипенко     комедия   \n",
       "5163             2017                    6+  а.мегердичев       спорт   \n",
       "6325             2019                   16+     джо руссо  фантастика   \n",
       "\n",
       "      refundable_support_percent  \n",
       "6961                       0.375  \n",
       "5163                       0.678  \n",
       "6325                         NaN  "
      ]
     },
     "execution_count": 75,
     "metadata": {},
     "output_type": "execute_result"
    }
   ],
   "source": [
    "movie_in_release.sort_values('box_office', ascending=False). head(3)"
   ]
  },
  {
   "cell_type": "markdown",
   "metadata": {},
   "source": [
    "<div class=\"alert alert-block alert-info\">В 2014 году по сравнению с 2013 годом сборы увеличились в 247 раз и составили 7373.92 млн. руб. против 29.83 млн. рублей. Это можно объяснить выходом таких успешных фильмов, как \"Мстители: Финал\" (США) или \"Холоп\" и \"Движение вверх\" (Россия).\n",
    "<p>Минимальные сборы были собраны в 2010 году и составили 2.16 млн. руб., а максимальные - в 2016 году и составили 51820.21 млн. руб.</div>"
   ]
  },
  {
   "cell_type": "markdown",
   "metadata": {},
   "source": [
    "<hr>"
   ]
  },
  {
   "cell_type": "markdown",
   "metadata": {
    "id": "G-7qS-N-gFyY"
   },
   "source": [
    "- С помощью сводной таблицы посчитайте среднюю и медианную сумму сборов для каждого года."
   ]
  },
  {
   "cell_type": "code",
   "execution_count": 76,
   "metadata": {
    "id": "jmp-rgg9gFyY"
   },
   "outputs": [
    {
     "data": {
      "text/html": [
       "<div>\n",
       "<style scoped>\n",
       "    .dataframe tbody tr th:only-of-type {\n",
       "        vertical-align: middle;\n",
       "    }\n",
       "\n",
       "    .dataframe tbody tr th {\n",
       "        vertical-align: top;\n",
       "    }\n",
       "\n",
       "    .dataframe thead th {\n",
       "        text-align: right;\n",
       "    }\n",
       "</style>\n",
       "<table border=\"1\" class=\"dataframe\">\n",
       "  <thead>\n",
       "    <tr style=\"text-align: right;\">\n",
       "      <th></th>\n",
       "      <th>year_of_realease</th>\n",
       "      <th>box_office_median</th>\n",
       "      <th>box_office_mean</th>\n",
       "    </tr>\n",
       "  </thead>\n",
       "  <tbody>\n",
       "    <tr>\n",
       "      <th>0</th>\n",
       "      <td>2010</td>\n",
       "      <td>0.002</td>\n",
       "      <td>0.023</td>\n",
       "    </tr>\n",
       "    <tr>\n",
       "      <th>1</th>\n",
       "      <td>2011</td>\n",
       "      <td>0.003</td>\n",
       "      <td>0.140</td>\n",
       "    </tr>\n",
       "    <tr>\n",
       "      <th>2</th>\n",
       "      <td>2012</td>\n",
       "      <td>0.007</td>\n",
       "      <td>0.062</td>\n",
       "    </tr>\n",
       "    <tr>\n",
       "      <th>3</th>\n",
       "      <td>2013</td>\n",
       "      <td>0.004</td>\n",
       "      <td>0.168</td>\n",
       "    </tr>\n",
       "    <tr>\n",
       "      <th>4</th>\n",
       "      <td>2014</td>\n",
       "      <td>0.022</td>\n",
       "      <td>28.471</td>\n",
       "    </tr>\n",
       "    <tr>\n",
       "      <th>5</th>\n",
       "      <td>2015</td>\n",
       "      <td>4.569</td>\n",
       "      <td>79.675</td>\n",
       "    </tr>\n",
       "    <tr>\n",
       "      <th>6</th>\n",
       "      <td>2016</td>\n",
       "      <td>4.610</td>\n",
       "      <td>95.083</td>\n",
       "    </tr>\n",
       "    <tr>\n",
       "      <th>7</th>\n",
       "      <td>2017</td>\n",
       "      <td>9.968</td>\n",
       "      <td>136.033</td>\n",
       "    </tr>\n",
       "    <tr>\n",
       "      <th>8</th>\n",
       "      <td>2018</td>\n",
       "      <td>8.891</td>\n",
       "      <td>104.565</td>\n",
       "    </tr>\n",
       "    <tr>\n",
       "      <th>9</th>\n",
       "      <td>2019</td>\n",
       "      <td>4.628</td>\n",
       "      <td>91.369</td>\n",
       "    </tr>\n",
       "  </tbody>\n",
       "</table>\n",
       "</div>"
      ],
      "text/plain": [
       "   year_of_realease  box_office_median  box_office_mean\n",
       "0              2010              0.002            0.023\n",
       "1              2011              0.003            0.140\n",
       "2              2012              0.007            0.062\n",
       "3              2013              0.004            0.168\n",
       "4              2014              0.022           28.471\n",
       "5              2015              4.569           79.675\n",
       "6              2016              4.610           95.083\n",
       "7              2017              9.968          136.033\n",
       "8              2018              8.891          104.565\n",
       "9              2019              4.628           91.369"
      ]
     },
     "execution_count": 76,
     "metadata": {},
     "output_type": "execute_result"
    }
   ],
   "source": [
    "# сводная таблица для медианной и средней суммы сборов\n",
    "box_office_median_and_mean = movie_in_release.pivot_table(index='year_start_date', values=['box_office'], \\\n",
    "                                                aggfunc=['median', 'mean']).reset_index()\n",
    "# переименование столбцов\n",
    "box_office_median_and_mean.columns = ['year_of_realease', 'box_office_median', 'box_office_mean']\n",
    "# вывод таблицы\n",
    "box_office_median_and_mean "
   ]
  },
  {
   "cell_type": "code",
   "execution_count": 77,
   "metadata": {},
   "outputs": [
    {
     "data": {
      "text/plain": [
       "Text(0.5, 0, 'Год релиза фильма')"
      ]
     },
     "execution_count": 77,
     "metadata": {},
     "output_type": "execute_result"
    },
    {
     "data": {
      "image/png": "[encoded data removed]",
      "text/plain": [
       "<Figure size 720x432 with 1 Axes>"
      ]
     },
     "metadata": {
      "needs_background": "light"
     },
     "output_type": "display_data"
    }
   ],
   "source": [
    "# построение графика медианных и средних значений сборов\n",
    "ax = box_office_median_and_mean.plot(\n",
    "    x='year_of_realease', \n",
    "    figsize=(10, 6), \n",
    "    title='Средние и медианные значения сборов, млн. руб.')\n",
    "# переименование оси у\n",
    "ax.set_ylabel('Сборы, млн. руб.')\n",
    "ax.set_xlabel('Год релиза фильма')"
   ]
  },
  {
   "cell_type": "markdown",
   "metadata": {},
   "source": [
    "<div class=\"alert alert-block alert-info\">На графике хорошо видно, насколько значительно отличаются средний и медианные показатели сборов фильмов, вышедших в релиз (в некоторые годы отличие составляет более, чем в 11 раз). Среднее значение слишком чувствительно к выбросам, а для выборки по денежным сборам такие выбросы встречаются часто: какие фильмы собирают миллионы рублей, какие-то несколько тысяч или вообще не получают широкого проката."
   ]
  },
  {
   "cell_type": "markdown",
   "metadata": {},
   "source": [
    "<hr>"
   ]
  },
  {
   "cell_type": "markdown",
   "metadata": {
    "id": "Ok89WFwJgFyZ"
   },
   "source": [
    "- Определите, влияет ли возрастное ограничение аудитории («6+», «12+», «16+», «18+» и т. д.) на сборы фильма в прокате в период с 2015 по 2019 год? Фильмы с каким возрастным ограничением собрали больше всего денег в прокате? Меняется ли картина в зависимости от года? Если да, предположите, с чем это может быть связано."
   ]
  },
  {
   "cell_type": "code",
   "execution_count": 78,
   "metadata": {
    "id": "jsSbEqfjgFya"
   },
   "outputs": [
    {
     "data": {
      "text/html": [
       "<div>\n",
       "<style scoped>\n",
       "    .dataframe tbody tr th:only-of-type {\n",
       "        vertical-align: middle;\n",
       "    }\n",
       "\n",
       "    .dataframe tbody tr th {\n",
       "        vertical-align: top;\n",
       "    }\n",
       "\n",
       "    .dataframe thead th {\n",
       "        text-align: right;\n",
       "    }\n",
       "</style>\n",
       "<table border=\"1\" class=\"dataframe\">\n",
       "  <thead>\n",
       "    <tr style=\"text-align: right;\">\n",
       "      <th></th>\n",
       "      <th>box_office</th>\n",
       "    </tr>\n",
       "    <tr>\n",
       "      <th>short_age_restriction</th>\n",
       "      <th></th>\n",
       "    </tr>\n",
       "  </thead>\n",
       "  <tbody>\n",
       "    <tr>\n",
       "      <th>0+</th>\n",
       "      <td>774.827</td>\n",
       "    </tr>\n",
       "    <tr>\n",
       "      <th>18+</th>\n",
       "      <td>21881.222</td>\n",
       "    </tr>\n",
       "    <tr>\n",
       "      <th>6+</th>\n",
       "      <td>32841.230</td>\n",
       "    </tr>\n",
       "    <tr>\n",
       "      <th>12+</th>\n",
       "      <td>33722.951</td>\n",
       "    </tr>\n",
       "    <tr>\n",
       "      <th>16+</th>\n",
       "      <td>46778.228</td>\n",
       "    </tr>\n",
       "  </tbody>\n",
       "</table>\n",
       "</div>"
      ],
      "text/plain": [
       "                       box_office\n",
       "short_age_restriction            \n",
       "0+                        774.827\n",
       "18+                     21881.222\n",
       "6+                      32841.230\n",
       "12+                     33722.951\n",
       "16+                     46778.228"
      ]
     },
     "execution_count": 78,
     "metadata": {},
     "output_type": "execute_result"
    }
   ],
   "source": [
    "# фильтр по годам\n",
    "age_restriction_effect = data.query('year_start_date in (2015, 2016, 2017)')\n",
    "# сводная таблица - суммарные сборы по возрастным ограничениям\n",
    "age_restriction_effect.pivot_table(index='short_age_restriction', values='box_office', aggfunc='sum')\\\n",
    "                     .sort_values('box_office')"
   ]
  },
  {
   "cell_type": "markdown",
   "metadata": {},
   "source": [
    "<div class=\"alert alert-block alert-info\">Больше всего денег в прокате собрали фильмы категории \"16+\" - 46778,228 млн. руб."
   ]
  },
  {
   "cell_type": "code",
   "execution_count": 79,
   "metadata": {},
   "outputs": [
    {
     "data": {
      "text/html": [
       "<div>\n",
       "<style scoped>\n",
       "    .dataframe tbody tr th:only-of-type {\n",
       "        vertical-align: middle;\n",
       "    }\n",
       "\n",
       "    .dataframe tbody tr th {\n",
       "        vertical-align: top;\n",
       "    }\n",
       "\n",
       "    .dataframe thead th {\n",
       "        text-align: right;\n",
       "    }\n",
       "</style>\n",
       "<table border=\"1\" class=\"dataframe\">\n",
       "  <thead>\n",
       "    <tr style=\"text-align: right;\">\n",
       "      <th></th>\n",
       "      <th>short_age_restriction</th>\n",
       "      <th>year_start_date</th>\n",
       "      <th>box_office</th>\n",
       "    </tr>\n",
       "  </thead>\n",
       "  <tbody>\n",
       "    <tr>\n",
       "      <th>0</th>\n",
       "      <td>0+</td>\n",
       "      <td>2015</td>\n",
       "      <td>303.950</td>\n",
       "    </tr>\n",
       "    <tr>\n",
       "      <th>1</th>\n",
       "      <td>0+</td>\n",
       "      <td>2016</td>\n",
       "      <td>241.278</td>\n",
       "    </tr>\n",
       "    <tr>\n",
       "      <th>2</th>\n",
       "      <td>0+</td>\n",
       "      <td>2017</td>\n",
       "      <td>229.599</td>\n",
       "    </tr>\n",
       "    <tr>\n",
       "      <th>3</th>\n",
       "      <td>12+</td>\n",
       "      <td>2015</td>\n",
       "      <td>12008.208</td>\n",
       "    </tr>\n",
       "    <tr>\n",
       "      <th>4</th>\n",
       "      <td>12+</td>\n",
       "      <td>2016</td>\n",
       "      <td>13863.315</td>\n",
       "    </tr>\n",
       "    <tr>\n",
       "      <th>5</th>\n",
       "      <td>12+</td>\n",
       "      <td>2017</td>\n",
       "      <td>7851.428</td>\n",
       "    </tr>\n",
       "    <tr>\n",
       "      <th>6</th>\n",
       "      <td>16+</td>\n",
       "      <td>2015</td>\n",
       "      <td>10907.982</td>\n",
       "    </tr>\n",
       "    <tr>\n",
       "      <th>7</th>\n",
       "      <td>16+</td>\n",
       "      <td>2016</td>\n",
       "      <td>17125.204</td>\n",
       "    </tr>\n",
       "    <tr>\n",
       "      <th>8</th>\n",
       "      <td>16+</td>\n",
       "      <td>2017</td>\n",
       "      <td>18745.043</td>\n",
       "    </tr>\n",
       "    <tr>\n",
       "      <th>9</th>\n",
       "      <td>18+</td>\n",
       "      <td>2015</td>\n",
       "      <td>3980.471</td>\n",
       "    </tr>\n",
       "    <tr>\n",
       "      <th>10</th>\n",
       "      <td>18+</td>\n",
       "      <td>2016</td>\n",
       "      <td>8249.256</td>\n",
       "    </tr>\n",
       "    <tr>\n",
       "      <th>11</th>\n",
       "      <td>18+</td>\n",
       "      <td>2017</td>\n",
       "      <td>9651.496</td>\n",
       "    </tr>\n",
       "    <tr>\n",
       "      <th>12</th>\n",
       "      <td>6+</td>\n",
       "      <td>2015</td>\n",
       "      <td>8413.928</td>\n",
       "    </tr>\n",
       "    <tr>\n",
       "      <th>13</th>\n",
       "      <td>6+</td>\n",
       "      <td>2016</td>\n",
       "      <td>12341.160</td>\n",
       "    </tr>\n",
       "    <tr>\n",
       "      <th>14</th>\n",
       "      <td>6+</td>\n",
       "      <td>2017</td>\n",
       "      <td>12086.142</td>\n",
       "    </tr>\n",
       "  </tbody>\n",
       "</table>\n",
       "</div>"
      ],
      "text/plain": [
       "   short_age_restriction  year_start_date  box_office\n",
       "0                     0+             2015     303.950\n",
       "1                     0+             2016     241.278\n",
       "2                     0+             2017     229.599\n",
       "3                    12+             2015   12008.208\n",
       "4                    12+             2016   13863.315\n",
       "5                    12+             2017    7851.428\n",
       "6                    16+             2015   10907.982\n",
       "7                    16+             2016   17125.204\n",
       "8                    16+             2017   18745.043\n",
       "9                    18+             2015    3980.471\n",
       "10                   18+             2016    8249.256\n",
       "11                   18+             2017    9651.496\n",
       "12                    6+             2015    8413.928\n",
       "13                    6+             2016   12341.160\n",
       "14                    6+             2017   12086.142"
      ]
     },
     "execution_count": 79,
     "metadata": {},
     "output_type": "execute_result"
    }
   ],
   "source": [
    "# сводная таблица  с разбивкой кассовых сборов по годам и возрастным ограничениям\n",
    "pt_age = age_restriction_effect.pivot_table(index=['short_age_restriction','year_start_date'], \\\n",
    "                                   values='box_office', aggfunc='sum').reset_index()\n",
    "pt_age"
   ]
  },
  {
   "cell_type": "code",
   "execution_count": 80,
   "metadata": {},
   "outputs": [
    {
     "data": {
      "image/png": "[encoded data removed]",
      "text/plain": [
       "<Figure size 720x432 with 1 Axes>"
      ]
     },
     "metadata": {
      "needs_background": "light"
     },
     "output_type": "display_data"
    }
   ],
   "source": [
    "# данные для построения диаграммы\n",
    "diag_age = {'0+': pt_age.iloc[0:3, 2], '6+': pt_age.iloc[12:, 2], '12+': pt_age.iloc[3:6, 2], '16+': pt_age.iloc[6:9, 2], \\\n",
    "           '18+': pt_age.iloc[9:12, 2]}\n",
    "diag_age = pd.DataFrame(diag_age)\n",
    "diag_age['year']  = pt_age['year_start_date']\n",
    "ax = diag_age.plot(\n",
    "        kind='bar', \n",
    "        x='year', \n",
    "        grid=True, \n",
    "        figsize=(10, 6), \n",
    "        title='Динамика кассовых сборов в разрезе возрастной категории и года, млн. руб.'\n",
    ") "
   ]
  },
  {
   "cell_type": "markdown",
   "metadata": {},
   "source": [
    "<div class=\"alert alert-block alert-info\">По диаграмме можно сделать вывод, что каждый год есть рост кассовых сборов в каждой категории, кроме 0+ и 12+"
   ]
  },
  {
   "cell_type": "code",
   "execution_count": 81,
   "metadata": {},
   "outputs": [
    {
     "data": {
      "text/html": [
       "<div>\n",
       "<style scoped>\n",
       "    .dataframe tbody tr th:only-of-type {\n",
       "        vertical-align: middle;\n",
       "    }\n",
       "\n",
       "    .dataframe tbody tr th {\n",
       "        vertical-align: top;\n",
       "    }\n",
       "\n",
       "    .dataframe thead th {\n",
       "        text-align: right;\n",
       "    }\n",
       "</style>\n",
       "<table border=\"1\" class=\"dataframe\">\n",
       "  <thead>\n",
       "    <tr style=\"text-align: right;\">\n",
       "      <th></th>\n",
       "      <th></th>\n",
       "      <th>box_office_mean</th>\n",
       "      <th>box_office_median</th>\n",
       "      <th>box_office_total</th>\n",
       "      <th>total_movies</th>\n",
       "    </tr>\n",
       "    <tr>\n",
       "      <th>year_start_date</th>\n",
       "      <th>short_age_restriction</th>\n",
       "      <th></th>\n",
       "      <th></th>\n",
       "      <th></th>\n",
       "      <th></th>\n",
       "    </tr>\n",
       "  </thead>\n",
       "  <tbody>\n",
       "    <tr>\n",
       "      <th rowspan=\"5\" valign=\"top\">2015</th>\n",
       "      <th>0+</th>\n",
       "      <td>8.215</td>\n",
       "      <td>2.956</td>\n",
       "      <td>303.950</td>\n",
       "      <td>47</td>\n",
       "    </tr>\n",
       "    <tr>\n",
       "      <th>12+</th>\n",
       "      <td>164.496</td>\n",
       "      <td>15.352</td>\n",
       "      <td>12008.208</td>\n",
       "      <td>135</td>\n",
       "    </tr>\n",
       "    <tr>\n",
       "      <th>16+</th>\n",
       "      <td>67.333</td>\n",
       "      <td>4.301</td>\n",
       "      <td>10907.982</td>\n",
       "      <td>235</td>\n",
       "    </tr>\n",
       "    <tr>\n",
       "      <th>18+</th>\n",
       "      <td>31.097</td>\n",
       "      <td>3.973</td>\n",
       "      <td>3980.471</td>\n",
       "      <td>169</td>\n",
       "    </tr>\n",
       "    <tr>\n",
       "      <th>6+</th>\n",
       "      <td>168.279</td>\n",
       "      <td>19.513</td>\n",
       "      <td>8413.928</td>\n",
       "      <td>73</td>\n",
       "    </tr>\n",
       "    <tr>\n",
       "      <th rowspan=\"5\" valign=\"top\">2016</th>\n",
       "      <th>0+</th>\n",
       "      <td>6.032</td>\n",
       "      <td>2.880</td>\n",
       "      <td>241.278</td>\n",
       "      <td>66</td>\n",
       "    </tr>\n",
       "    <tr>\n",
       "      <th>12+</th>\n",
       "      <td>167.028</td>\n",
       "      <td>4.845</td>\n",
       "      <td>13863.315</td>\n",
       "      <td>131</td>\n",
       "    </tr>\n",
       "    <tr>\n",
       "      <th>16+</th>\n",
       "      <td>90.610</td>\n",
       "      <td>5.381</td>\n",
       "      <td>17125.204</td>\n",
       "      <td>246</td>\n",
       "    </tr>\n",
       "    <tr>\n",
       "      <th>18+</th>\n",
       "      <td>50.921</td>\n",
       "      <td>7.868</td>\n",
       "      <td>8249.256</td>\n",
       "      <td>229</td>\n",
       "    </tr>\n",
       "    <tr>\n",
       "      <th>6+</th>\n",
       "      <td>171.405</td>\n",
       "      <td>3.698</td>\n",
       "      <td>12341.160</td>\n",
       "      <td>93</td>\n",
       "    </tr>\n",
       "    <tr>\n",
       "      <th rowspan=\"5\" valign=\"top\">2017</th>\n",
       "      <th>0+</th>\n",
       "      <td>76.533</td>\n",
       "      <td>22.179</td>\n",
       "      <td>229.599</td>\n",
       "      <td>44</td>\n",
       "    </tr>\n",
       "    <tr>\n",
       "      <th>12+</th>\n",
       "      <td>191.498</td>\n",
       "      <td>9.011</td>\n",
       "      <td>7851.428</td>\n",
       "      <td>68</td>\n",
       "    </tr>\n",
       "    <tr>\n",
       "      <th>16+</th>\n",
       "      <td>154.918</td>\n",
       "      <td>9.702</td>\n",
       "      <td>18745.043</td>\n",
       "      <td>152</td>\n",
       "    </tr>\n",
       "    <tr>\n",
       "      <th>18+</th>\n",
       "      <td>65.656</td>\n",
       "      <td>8.213</td>\n",
       "      <td>9651.496</td>\n",
       "      <td>170</td>\n",
       "    </tr>\n",
       "    <tr>\n",
       "      <th>6+</th>\n",
       "      <td>268.581</td>\n",
       "      <td>51.992</td>\n",
       "      <td>12086.142</td>\n",
       "      <td>66</td>\n",
       "    </tr>\n",
       "  </tbody>\n",
       "</table>\n",
       "</div>"
      ],
      "text/plain": [
       "                                       box_office_mean  box_office_median  \\\n",
       "year_start_date short_age_restriction                                       \n",
       "2015            0+                               8.215              2.956   \n",
       "                12+                            164.496             15.352   \n",
       "                16+                             67.333              4.301   \n",
       "                18+                             31.097              3.973   \n",
       "                6+                             168.279             19.513   \n",
       "2016            0+                               6.032              2.880   \n",
       "                12+                            167.028              4.845   \n",
       "                16+                             90.610              5.381   \n",
       "                18+                             50.921              7.868   \n",
       "                6+                             171.405              3.698   \n",
       "2017            0+                              76.533             22.179   \n",
       "                12+                            191.498              9.011   \n",
       "                16+                            154.918              9.702   \n",
       "                18+                             65.656              8.213   \n",
       "                6+                             268.581             51.992   \n",
       "\n",
       "                                       box_office_total  total_movies  \n",
       "year_start_date short_age_restriction                                  \n",
       "2015            0+                              303.950            47  \n",
       "                12+                           12008.208           135  \n",
       "                16+                           10907.982           235  \n",
       "                18+                            3980.471           169  \n",
       "                6+                             8413.928            73  \n",
       "2016            0+                              241.278            66  \n",
       "                12+                           13863.315           131  \n",
       "                16+                           17125.204           246  \n",
       "                18+                            8249.256           229  \n",
       "                6+                            12341.160            93  \n",
       "2017            0+                              229.599            44  \n",
       "                12+                            7851.428            68  \n",
       "                16+                           18745.043           152  \n",
       "                18+                            9651.496           170  \n",
       "                6+                            12086.142            66  "
      ]
     },
     "execution_count": 81,
     "metadata": {},
     "output_type": "execute_result"
    }
   ],
   "source": [
    "# сводная таблица - всего фильмов и сборы по годам и возрастным ограничениям\n",
    "pt = age_restriction_effect.pivot_table(index=['year_start_date', 'short_age_restriction'], \\\n",
    "                                   values=['puNumber', 'box_office'], \\\n",
    "                                   aggfunc={'puNumber':'count', 'box_office': ['sum', 'median', 'mean']})\n",
    "pt.columns = ['box_office_mean','box_office_median','box_office_total', 'total_movies']\n",
    "pt"
   ]
  },
  {
   "cell_type": "code",
   "execution_count": 82,
   "metadata": {},
   "outputs": [],
   "source": [
    "# данные для диаграммы\n",
    "pt = pt.reset_index()\n",
    "pt['percent'] = ''\n",
    "pt.iloc[0:5, -1] = pt.iloc[0:5, 5] / sum(pt.iloc[0:5, 5])\n",
    "pt.iloc[5:10, -1] = pt.iloc[5:10, 5] / sum(pt.iloc[5:10, 5])\n",
    "pt.iloc[10:, -1] = pt.iloc[10:, 5] / sum(pt.iloc[10:, 5])\n",
    "pt = pt.sort_values('short_age_restriction')"
   ]
  },
  {
   "cell_type": "code",
   "execution_count": 84,
   "metadata": {},
   "outputs": [
    {
     "data": {
      "text/html": [
       "<div>\n",
       "<style scoped>\n",
       "    .dataframe tbody tr th:only-of-type {\n",
       "        vertical-align: middle;\n",
       "    }\n",
       "\n",
       "    .dataframe tbody tr th {\n",
       "        vertical-align: top;\n",
       "    }\n",
       "\n",
       "    .dataframe thead th {\n",
       "        text-align: right;\n",
       "    }\n",
       "</style>\n",
       "<table border=\"1\" class=\"dataframe\">\n",
       "  <thead>\n",
       "    <tr style=\"text-align: right;\">\n",
       "      <th></th>\n",
       "      <th>title</th>\n",
       "      <th>puNumber</th>\n",
       "      <th>show_start_date</th>\n",
       "      <th>type</th>\n",
       "      <th>film_studio</th>\n",
       "      <th>production_country</th>\n",
       "      <th>producer</th>\n",
       "      <th>refundable_support</th>\n",
       "      <th>nonrefundable_support</th>\n",
       "      <th>budget</th>\n",
       "      <th>financing_source</th>\n",
       "      <th>ratings</th>\n",
       "      <th>box_office</th>\n",
       "      <th>year_start_date</th>\n",
       "      <th>short_age_restriction</th>\n",
       "      <th>head_director</th>\n",
       "      <th>main_genres</th>\n",
       "      <th>refundable_support_percent</th>\n",
       "    </tr>\n",
       "  </thead>\n",
       "  <tbody>\n",
       "    <tr>\n",
       "      <th>2422</th>\n",
       "      <td>Миньоны</td>\n",
       "      <td>124001715</td>\n",
       "      <td>2015-03-30</td>\n",
       "      <td>Анимационный</td>\n",
       "      <td>иллюминейшн интертейнмент</td>\n",
       "      <td>сша</td>\n",
       "      <td>кристофер меледандри, джанет хили</td>\n",
       "      <td>NaN</td>\n",
       "      <td>NaN</td>\n",
       "      <td>NaN</td>\n",
       "      <td>NaN</td>\n",
       "      <td>6.200</td>\n",
       "      <td>1646.581</td>\n",
       "      <td>2015</td>\n",
       "      <td>6+</td>\n",
       "      <td>кайл балда</td>\n",
       "      <td>мультфильм</td>\n",
       "      <td>NaN</td>\n",
       "    </tr>\n",
       "    <tr>\n",
       "      <th>2022</th>\n",
       "      <td>Мстители: Эра Альтрона</td>\n",
       "      <td>121007215</td>\n",
       "      <td>2015-04-03</td>\n",
       "      <td>Художественный</td>\n",
       "      <td>марвел студиос</td>\n",
       "      <td>сша</td>\n",
       "      <td>кевин фейги</td>\n",
       "      <td>NaN</td>\n",
       "      <td>NaN</td>\n",
       "      <td>NaN</td>\n",
       "      <td>NaN</td>\n",
       "      <td>7.200</td>\n",
       "      <td>1500.989</td>\n",
       "      <td>2015</td>\n",
       "      <td>12+</td>\n",
       "      <td>джосс уидон</td>\n",
       "      <td>фантастика</td>\n",
       "      <td>NaN</td>\n",
       "    </tr>\n",
       "    <tr>\n",
       "      <th>1968</th>\n",
       "      <td>Форсаж 7</td>\n",
       "      <td>221022915</td>\n",
       "      <td>2015-06-23</td>\n",
       "      <td>Художественный</td>\n",
       "      <td>юниверсал пикчерз, релятивити медиа, дентсу, ф...</td>\n",
       "      <td>сша</td>\n",
       "      <td>вин дизель, майкл фоттрел</td>\n",
       "      <td>NaN</td>\n",
       "      <td>NaN</td>\n",
       "      <td>NaN</td>\n",
       "      <td>NaN</td>\n",
       "      <td>7.000</td>\n",
       "      <td>1486.131</td>\n",
       "      <td>2015</td>\n",
       "      <td>16+</td>\n",
       "      <td>джеймс ван</td>\n",
       "      <td>боевик</td>\n",
       "      <td>NaN</td>\n",
       "    </tr>\n",
       "    <tr>\n",
       "      <th>2423</th>\n",
       "      <td>Мир Юрского периода</td>\n",
       "      <td>121006515</td>\n",
       "      <td>2015-04-03</td>\n",
       "      <td>Художественный</td>\n",
       "      <td>эмблин интертейнмент, леджендари пикчерз, юнив...</td>\n",
       "      <td>сша</td>\n",
       "      <td>патрик краули, фрэнк маршалл</td>\n",
       "      <td>NaN</td>\n",
       "      <td>NaN</td>\n",
       "      <td>NaN</td>\n",
       "      <td>NaN</td>\n",
       "      <td>6.900</td>\n",
       "      <td>1211.159</td>\n",
       "      <td>2015</td>\n",
       "      <td>12+</td>\n",
       "      <td>колин треворроу</td>\n",
       "      <td>фантастика</td>\n",
       "      <td>NaN</td>\n",
       "    </tr>\n",
       "    <tr>\n",
       "      <th>2354</th>\n",
       "      <td>Терминатор: Генезис</td>\n",
       "      <td>121012415</td>\n",
       "      <td>2015-06-11</td>\n",
       "      <td>Художественный</td>\n",
       "      <td>парамаунт пикчерз, скайдэнс продакшнз</td>\n",
       "      <td>сша</td>\n",
       "      <td>дэвид эллисон, дэна голдберг</td>\n",
       "      <td>NaN</td>\n",
       "      <td>NaN</td>\n",
       "      <td>NaN</td>\n",
       "      <td>NaN</td>\n",
       "      <td>6.400</td>\n",
       "      <td>1060.054</td>\n",
       "      <td>2015</td>\n",
       "      <td>12+</td>\n",
       "      <td>алан тэйлор</td>\n",
       "      <td>фантастика</td>\n",
       "      <td>NaN</td>\n",
       "    </tr>\n",
       "  </tbody>\n",
       "</table>\n",
       "</div>"
      ],
      "text/plain": [
       "                       title   puNumber show_start_date            type  \\\n",
       "2422                 Миньоны  124001715      2015-03-30    Анимационный   \n",
       "2022  Мстители: Эра Альтрона  121007215      2015-04-03  Художественный   \n",
       "1968                Форсаж 7  221022915      2015-06-23  Художественный   \n",
       "2423     Мир Юрского периода  121006515      2015-04-03  Художественный   \n",
       "2354     Терминатор: Генезис  121012415      2015-06-11  Художественный   \n",
       "\n",
       "                                            film_studio production_country  \\\n",
       "2422                          иллюминейшн интертейнмент                сша   \n",
       "2022                                     марвел студиос                сша   \n",
       "1968  юниверсал пикчерз, релятивити медиа, дентсу, ф...                сша   \n",
       "2423  эмблин интертейнмент, леджендари пикчерз, юнив...                сша   \n",
       "2354              парамаунт пикчерз, скайдэнс продакшнз                сша   \n",
       "\n",
       "                               producer  refundable_support  \\\n",
       "2422  кристофер меледандри, джанет хили                 NaN   \n",
       "2022                        кевин фейги                 NaN   \n",
       "1968          вин дизель, майкл фоттрел                 NaN   \n",
       "2423       патрик краули, фрэнк маршалл                 NaN   \n",
       "2354       дэвид эллисон, дэна голдберг                 NaN   \n",
       "\n",
       "      nonrefundable_support  budget financing_source  ratings  box_office  \\\n",
       "2422                    NaN     NaN              NaN    6.200    1646.581   \n",
       "2022                    NaN     NaN              NaN    7.200    1500.989   \n",
       "1968                    NaN     NaN              NaN    7.000    1486.131   \n",
       "2423                    NaN     NaN              NaN    6.900    1211.159   \n",
       "2354                    NaN     NaN              NaN    6.400    1060.054   \n",
       "\n",
       "      year_start_date short_age_restriction    head_director main_genres  \\\n",
       "2422             2015                    6+       кайл балда  мультфильм   \n",
       "2022             2015                   12+      джосс уидон  фантастика   \n",
       "1968             2015                   16+       джеймс ван      боевик   \n",
       "2423             2015                   12+  колин треворроу  фантастика   \n",
       "2354             2015                   12+      алан тэйлор  фантастика   \n",
       "\n",
       "      refundable_support_percent  \n",
       "2422                         NaN  \n",
       "2022                         NaN  \n",
       "1968                         NaN  \n",
       "2423                         NaN  \n",
       "2354                         NaN  "
      ]
     },
     "execution_count": 84,
     "metadata": {},
     "output_type": "execute_result"
    }
   ],
   "source": [
    "age_restriction_effect.query('year_start_date == 2015').sort_values('box_office', ascending=False).head()"
   ]
  },
  {
   "cell_type": "markdown",
   "metadata": {},
   "source": [
    "<div class=\"alert alert-block alert-info\">\n",
    "    <p>Возрастное ограничение аудитории влияет на кассовые сборы в контексте количества выпускаемых фильмов для каждой категории. Наибольшие сборы с 2015 по 2017 принесли фильмы с возрастным ограничением \"16+\" (46778.23 млн. руб.).\n",
    "    <p> Рассматривая каждую возрастную категорию по отдельности, можно отметить, что кассовые сборы для категорий \"6+\", \"16+\", \"18+\" каждый год показывали повышение кассовых сборов, тогда как в категория \"0+\" и \"12+\" - было падение. Это связано с количеством выпускаемых фильмов (для категории \"0+\" доля составляет в среднем 8% от общего количества, а для категории \"12+\" произошло снижение с 20,5% в 2015 году до 13,6% в 2017)\n",
    "     <p> В 2015 году категория \"12+\" стала лидером по кассовым сборам, это связано с выходом таких популярных фильмов, как \"Мстители: Эра Альтрона\", \"Мир Юрского периода\" и др., а так же мультфильма \"Миньоны\" (\"0+\") - лидера проката, который могли посещать и дети из категории \"12+\"\n",
    "</div>"
   ]
  },
  {
   "cell_type": "markdown",
   "metadata": {},
   "source": [
    "<div class=\"alert alert-block alert-info\"><b>Вывод:</b>\n",
    "    <p>\n",
    "Доля фильмов, вышедших в прокат за всё время составляет 46%\n",
    " <p>Минимальные сборы были собраны в 2010 году и составили 2.16 млн. руб., а максимальные - в 2016 году и составили 51820.21 млн. руб.\n",
    " <p>Средние и медианные показатели сборов фильмов, вышедших в релиз в некоторые годы отличаются более чем в 11 раз\n",
    " <p>Возрастное ограничение аудитории влияет на кассовые сборы в контексте количества выпускаемых фильмов для каждой категории. Наибольшие сборы с 2015 по 2017 принесли фильмы с возрастным ограничением \"16+\" (46778.23 млн. руб.).\n",
    "\n",
    "\n"
   ]
  },
  {
   "cell_type": "markdown",
   "metadata": {
    "id": "l_Kg6Ku4gFya"
   },
   "source": [
    "### Шаг 4. Исследуйте фильмы, которые получили государственную поддержку\n",
    "\n",
    "На этом этапе нет конкретных инструкций и заданий — поищите интересные закономерности в данных. Посмотрите, сколько выделяют средств на поддержку кино. Проверьте, хорошо ли окупаются такие фильмы, какой у них рейтинг."
   ]
  },
  {
   "cell_type": "markdown",
   "metadata": {},
   "source": [
    "<div class=\"alert alert-block alert-info\">Отфильтруем данные по столбцу budget, рассматривать будем фильмы с ненулевым и непустым бюджетом. Затем построим сводную таблицу с медианными бюджетом, доли участия государства в бюджете фильма и рейтингом по годам"
   ]
  },
  {
   "cell_type": "code",
   "execution_count": 85,
   "metadata": {},
   "outputs": [],
   "source": [
    "# фильтр по столбцу budget  - значения без Nan\n",
    "movies_support = data.query('budget == budget')"
   ]
  },
  {
   "cell_type": "code",
   "execution_count": 86,
   "metadata": {},
   "outputs": [
    {
     "data": {
      "text/html": [
       "<div>\n",
       "<style scoped>\n",
       "    .dataframe tbody tr th:only-of-type {\n",
       "        vertical-align: middle;\n",
       "    }\n",
       "\n",
       "    .dataframe tbody tr th {\n",
       "        vertical-align: top;\n",
       "    }\n",
       "\n",
       "    .dataframe thead th {\n",
       "        text-align: right;\n",
       "    }\n",
       "</style>\n",
       "<table border=\"1\" class=\"dataframe\">\n",
       "  <thead>\n",
       "    <tr style=\"text-align: right;\">\n",
       "      <th></th>\n",
       "      <th>budget</th>\n",
       "      <th>refundable_support_percent</th>\n",
       "      <th>ratings</th>\n",
       "      <th>box_office</th>\n",
       "      <th>payback</th>\n",
       "    </tr>\n",
       "    <tr>\n",
       "      <th>year_start_date</th>\n",
       "      <th></th>\n",
       "      <th></th>\n",
       "      <th></th>\n",
       "      <th></th>\n",
       "      <th></th>\n",
       "    </tr>\n",
       "  </thead>\n",
       "  <tbody>\n",
       "    <tr>\n",
       "      <th>2013</th>\n",
       "      <td>127.718</td>\n",
       "      <td>0.473</td>\n",
       "      <td>6.700</td>\n",
       "      <td>10.161</td>\n",
       "      <td>0.080</td>\n",
       "    </tr>\n",
       "    <tr>\n",
       "      <th>2014</th>\n",
       "      <td>51.197</td>\n",
       "      <td>0.625</td>\n",
       "      <td>6.350</td>\n",
       "      <td>4.731</td>\n",
       "      <td>0.092</td>\n",
       "    </tr>\n",
       "    <tr>\n",
       "      <th>2015</th>\n",
       "      <td>57.494</td>\n",
       "      <td>0.624</td>\n",
       "      <td>6.200</td>\n",
       "      <td>9.201</td>\n",
       "      <td>0.160</td>\n",
       "    </tr>\n",
       "    <tr>\n",
       "      <th>2016</th>\n",
       "      <td>69.883</td>\n",
       "      <td>0.640</td>\n",
       "      <td>5.800</td>\n",
       "      <td>17.921</td>\n",
       "      <td>0.256</td>\n",
       "    </tr>\n",
       "    <tr>\n",
       "      <th>2017</th>\n",
       "      <td>78.096</td>\n",
       "      <td>0.525</td>\n",
       "      <td>6.200</td>\n",
       "      <td>50.452</td>\n",
       "      <td>0.646</td>\n",
       "    </tr>\n",
       "    <tr>\n",
       "      <th>2018</th>\n",
       "      <td>90.325</td>\n",
       "      <td>0.594</td>\n",
       "      <td>6.200</td>\n",
       "      <td>27.023</td>\n",
       "      <td>0.299</td>\n",
       "    </tr>\n",
       "    <tr>\n",
       "      <th>2019</th>\n",
       "      <td>78.422</td>\n",
       "      <td>0.583</td>\n",
       "      <td>6.200</td>\n",
       "      <td>27.853</td>\n",
       "      <td>0.355</td>\n",
       "    </tr>\n",
       "  </tbody>\n",
       "</table>\n",
       "</div>"
      ],
      "text/plain": [
       "                 budget  refundable_support_percent  ratings  box_office  \\\n",
       "year_start_date                                                            \n",
       "2013            127.718                       0.473    6.700      10.161   \n",
       "2014             51.197                       0.625    6.350       4.731   \n",
       "2015             57.494                       0.624    6.200       9.201   \n",
       "2016             69.883                       0.640    5.800      17.921   \n",
       "2017             78.096                       0.525    6.200      50.452   \n",
       "2018             90.325                       0.594    6.200      27.023   \n",
       "2019             78.422                       0.583    6.200      27.853   \n",
       "\n",
       "                 payback  \n",
       "year_start_date           \n",
       "2013               0.080  \n",
       "2014               0.092  \n",
       "2015               0.160  \n",
       "2016               0.256  \n",
       "2017               0.646  \n",
       "2018               0.299  \n",
       "2019               0.355  "
      ]
     },
     "execution_count": 86,
     "metadata": {},
     "output_type": "execute_result"
    }
   ],
   "source": [
    "# фильмы с господдержкой: медианный бюджет по годам, медианная доля участия гос-ва в бюджете фильма, медианный рейтинг\n",
    "movies_support_x = movies_support.groupby('year_start_date')\\\n",
    "                    ['budget', 'refundable_support_percent', 'ratings', 'box_office'].median()\n",
    "# доля окупаемости: кассовые сборы относительно бюджета\n",
    "movies_support_x['payback'] = movies_support_x['box_office'] / movies_support_x['budget']\n",
    "movies_support_x"
   ]
  },
  {
   "cell_type": "markdown",
   "metadata": {},
   "source": [
    "<div class=\"alert alert-block alert-info\">Можно заметить, что медианная доля окупаемости (столбец 'payback') - очень низкая (от 8% до 64%). Вероятно, и обычные фильмы, вышедшие в релиз могут не иметь 100% окупаемости, а фильмы с государственной поддержкой тут отличий имеют не много. Медианный рейтинг колеблется от 6.1 до 6.7, а медианная доля господдержки в бюджете фильмов от 47% до 64%.\n",
    "    <p>Выше уже упоминалось, что существуют фильмы со 100% господдержкой, рассмотрим их детально"
   ]
  },
  {
   "cell_type": "code",
   "execution_count": 87,
   "metadata": {},
   "outputs": [
    {
     "data": {
      "text/html": [
       "<div>\n",
       "<style scoped>\n",
       "    .dataframe tbody tr th:only-of-type {\n",
       "        vertical-align: middle;\n",
       "    }\n",
       "\n",
       "    .dataframe tbody tr th {\n",
       "        vertical-align: top;\n",
       "    }\n",
       "\n",
       "    .dataframe thead th {\n",
       "        text-align: right;\n",
       "    }\n",
       "</style>\n",
       "<table border=\"1\" class=\"dataframe\">\n",
       "  <thead>\n",
       "    <tr style=\"text-align: right;\">\n",
       "      <th></th>\n",
       "      <th>budget</th>\n",
       "      <th>ratings</th>\n",
       "      <th>box_office</th>\n",
       "      <th>payback</th>\n",
       "    </tr>\n",
       "    <tr>\n",
       "      <th>year_start_date</th>\n",
       "      <th></th>\n",
       "      <th></th>\n",
       "      <th></th>\n",
       "      <th></th>\n",
       "    </tr>\n",
       "  </thead>\n",
       "  <tbody>\n",
       "    <tr>\n",
       "      <th>2014</th>\n",
       "      <td>23.000</td>\n",
       "      <td>6.600</td>\n",
       "      <td>10.234</td>\n",
       "      <td>0.445</td>\n",
       "    </tr>\n",
       "    <tr>\n",
       "      <th>2015</th>\n",
       "      <td>67.000</td>\n",
       "      <td>6.250</td>\n",
       "      <td>128.713</td>\n",
       "      <td>1.921</td>\n",
       "    </tr>\n",
       "    <tr>\n",
       "      <th>2016</th>\n",
       "      <td>70.000</td>\n",
       "      <td>5.600</td>\n",
       "      <td>70.299</td>\n",
       "      <td>1.004</td>\n",
       "    </tr>\n",
       "    <tr>\n",
       "      <th>2017</th>\n",
       "      <td>42.500</td>\n",
       "      <td>5.000</td>\n",
       "      <td>52.780</td>\n",
       "      <td>1.242</td>\n",
       "    </tr>\n",
       "    <tr>\n",
       "      <th>2018</th>\n",
       "      <td>75.000</td>\n",
       "      <td>5.200</td>\n",
       "      <td>94.940</td>\n",
       "      <td>1.266</td>\n",
       "    </tr>\n",
       "    <tr>\n",
       "      <th>2019</th>\n",
       "      <td>180.000</td>\n",
       "      <td>6.200</td>\n",
       "      <td>147.607</td>\n",
       "      <td>0.820</td>\n",
       "    </tr>\n",
       "  </tbody>\n",
       "</table>\n",
       "</div>"
      ],
      "text/plain": [
       "                 budget  ratings  box_office  payback\n",
       "year_start_date                                      \n",
       "2014             23.000    6.600      10.234    0.445\n",
       "2015             67.000    6.250     128.713    1.921\n",
       "2016             70.000    5.600      70.299    1.004\n",
       "2017             42.500    5.000      52.780    1.242\n",
       "2018             75.000    5.200      94.940    1.266\n",
       "2019            180.000    6.200     147.607    0.820"
      ]
     },
     "execution_count": 87,
     "metadata": {},
     "output_type": "execute_result"
    }
   ],
   "source": [
    "# 100% господдержка\n",
    "movies_full_support = movies_support.query('refundable_support_percent == 1')\n",
    "# медианные значения бюджета, рейтинга, сборов \n",
    "movies_full_support = movies_full_support.groupby('year_start_date')['budget', 'ratings', 'box_office'].median()\n",
    "# доля окупаемости: кассовые сборы относительно бюджета\n",
    "movies_full_support['payback'] = movies_full_support['box_office'] / movies_full_support['budget']\n",
    "movies_full_support"
   ]
  },
  {
   "cell_type": "code",
   "execution_count": 88,
   "metadata": {},
   "outputs": [
    {
     "data": {
      "text/plain": [
       "6"
      ]
     },
     "execution_count": 88,
     "metadata": {},
     "output_type": "execute_result"
    }
   ],
   "source": [
    "len(movies_full_support)"
   ]
  },
  {
   "cell_type": "markdown",
   "metadata": {},
   "source": [
    "<div class=\"alert alert-block alert-info\">Фильмы со 100% господдержкой имеют меньший медианный рейтинг, но при этом у них наблюдается практически полная с плюсом окупаемость в 2015-2018 годах, самая низкая окупаемость приходится на 2014 год. Однако таких фильмов всего шесть и показывать какую-то статистическую закономерность они не могут</div>"
   ]
  },
  {
   "cell_type": "code",
   "execution_count": 89,
   "metadata": {},
   "outputs": [
    {
     "data": {
      "text/html": [
       "<div>\n",
       "<style scoped>\n",
       "    .dataframe tbody tr th:only-of-type {\n",
       "        vertical-align: middle;\n",
       "    }\n",
       "\n",
       "    .dataframe tbody tr th {\n",
       "        vertical-align: top;\n",
       "    }\n",
       "\n",
       "    .dataframe thead th {\n",
       "        text-align: right;\n",
       "    }\n",
       "</style>\n",
       "<table border=\"1\" class=\"dataframe\">\n",
       "  <thead>\n",
       "    <tr style=\"text-align: right;\">\n",
       "      <th></th>\n",
       "      <th>title</th>\n",
       "      <th>puNumber</th>\n",
       "      <th>show_start_date</th>\n",
       "      <th>type</th>\n",
       "      <th>film_studio</th>\n",
       "      <th>production_country</th>\n",
       "      <th>producer</th>\n",
       "      <th>refundable_support</th>\n",
       "      <th>nonrefundable_support</th>\n",
       "      <th>budget</th>\n",
       "      <th>financing_source</th>\n",
       "      <th>ratings</th>\n",
       "      <th>box_office</th>\n",
       "      <th>year_start_date</th>\n",
       "      <th>short_age_restriction</th>\n",
       "      <th>head_director</th>\n",
       "      <th>main_genres</th>\n",
       "      <th>refundable_support_percent</th>\n",
       "    </tr>\n",
       "  </thead>\n",
       "  <tbody>\n",
       "    <tr>\n",
       "      <th>6961</th>\n",
       "      <td>Холоп</td>\n",
       "      <td>111021719</td>\n",
       "      <td>2019-12-19</td>\n",
       "      <td>Художественный</td>\n",
       "      <td>ооо \"мем-медиа\" по заказу ао \"вбд груп\"</td>\n",
       "      <td>россия</td>\n",
       "      <td>э.илоян, д.жалинский, в.дусмухаметов, т.бадзие...</td>\n",
       "      <td>25.000</td>\n",
       "      <td>35.000</td>\n",
       "      <td>160.000</td>\n",
       "      <td>Фонд кино</td>\n",
       "      <td>6.800</td>\n",
       "      <td>3073.569</td>\n",
       "      <td>2019</td>\n",
       "      <td>12+</td>\n",
       "      <td>к.шипенко</td>\n",
       "      <td>комедия</td>\n",
       "      <td>0.375</td>\n",
       "    </tr>\n",
       "    <tr>\n",
       "      <th>5163</th>\n",
       "      <td>Движение вверх</td>\n",
       "      <td>111011817</td>\n",
       "      <td>2017-12-21</td>\n",
       "      <td>Художественный</td>\n",
       "      <td>ооо \"студия \"тритэ\" никиты михалкова\"</td>\n",
       "      <td>россия</td>\n",
       "      <td>л.верещагин, а.златопольский, н.михалков, ооо ...</td>\n",
       "      <td>0.000</td>\n",
       "      <td>400.000</td>\n",
       "      <td>590.192</td>\n",
       "      <td>Фонд кино</td>\n",
       "      <td>7.500</td>\n",
       "      <td>2779.686</td>\n",
       "      <td>2017</td>\n",
       "      <td>6+</td>\n",
       "      <td>а.мегердичев</td>\n",
       "      <td>спорт</td>\n",
       "      <td>0.678</td>\n",
       "    </tr>\n",
       "    <tr>\n",
       "      <th>6055</th>\n",
       "      <td>Т-34</td>\n",
       "      <td>111024918</td>\n",
       "      <td>2018-12-21</td>\n",
       "      <td>Художественный</td>\n",
       "      <td>ооо \"кинокомпания марс-фильм\" по заказу ооо \"м...</td>\n",
       "      <td>россия</td>\n",
       "      <td>а.златопольский, р.дишдишян, л.блаватник, н.яр...</td>\n",
       "      <td>60.000</td>\n",
       "      <td>120.000</td>\n",
       "      <td>563.785</td>\n",
       "      <td>Фонд кино</td>\n",
       "      <td>6.500</td>\n",
       "      <td>2271.754</td>\n",
       "      <td>2018</td>\n",
       "      <td>12+</td>\n",
       "      <td>а.сидоров</td>\n",
       "      <td>драма</td>\n",
       "      <td>0.319</td>\n",
       "    </tr>\n",
       "  </tbody>\n",
       "</table>\n",
       "</div>"
      ],
      "text/plain": [
       "               title   puNumber show_start_date            type  \\\n",
       "6961           Холоп  111021719      2019-12-19  Художественный   \n",
       "5163  Движение вверх  111011817      2017-12-21  Художественный   \n",
       "6055            Т-34  111024918      2018-12-21  Художественный   \n",
       "\n",
       "                                            film_studio production_country  \\\n",
       "6961            ооо \"мем-медиа\" по заказу ао \"вбд груп\"             россия   \n",
       "5163              ооо \"студия \"тритэ\" никиты михалкова\"             россия   \n",
       "6055  ооо \"кинокомпания марс-фильм\" по заказу ооо \"м...             россия   \n",
       "\n",
       "                                               producer  refundable_support  \\\n",
       "6961  э.илоян, д.жалинский, в.дусмухаметов, т.бадзие...              25.000   \n",
       "5163  л.верещагин, а.златопольский, н.михалков, ооо ...               0.000   \n",
       "6055  а.златопольский, р.дишдишян, л.блаватник, н.яр...              60.000   \n",
       "\n",
       "      nonrefundable_support  budget financing_source  ratings  box_office  \\\n",
       "6961                 35.000 160.000        Фонд кино    6.800    3073.569   \n",
       "5163                400.000 590.192        Фонд кино    7.500    2779.686   \n",
       "6055                120.000 563.785        Фонд кино    6.500    2271.754   \n",
       "\n",
       "      year_start_date short_age_restriction head_director main_genres  \\\n",
       "6961             2019                   12+     к.шипенко     комедия   \n",
       "5163             2017                    6+  а.мегердичев       спорт   \n",
       "6055             2018                   12+     а.сидоров       драма   \n",
       "\n",
       "      refundable_support_percent  \n",
       "6961                       0.375  \n",
       "5163                       0.678  \n",
       "6055                       0.319  "
      ]
     },
     "execution_count": 89,
     "metadata": {},
     "output_type": "execute_result"
    }
   ],
   "source": [
    "# Три фильма с наибольшими кассовыми сборами\n",
    "movies_support.sort_values('box_office', ascending=False).head(3)"
   ]
  },
  {
   "cell_type": "code",
   "execution_count": 90,
   "metadata": {},
   "outputs": [
    {
     "data": {
      "text/html": [
       "<div>\n",
       "<style scoped>\n",
       "    .dataframe tbody tr th:only-of-type {\n",
       "        vertical-align: middle;\n",
       "    }\n",
       "\n",
       "    .dataframe tbody tr th {\n",
       "        vertical-align: top;\n",
       "    }\n",
       "\n",
       "    .dataframe thead th {\n",
       "        text-align: right;\n",
       "    }\n",
       "</style>\n",
       "<table border=\"1\" class=\"dataframe\">\n",
       "  <thead>\n",
       "    <tr style=\"text-align: right;\">\n",
       "      <th></th>\n",
       "      <th>title</th>\n",
       "      <th>puNumber</th>\n",
       "      <th>show_start_date</th>\n",
       "      <th>type</th>\n",
       "      <th>film_studio</th>\n",
       "      <th>production_country</th>\n",
       "      <th>producer</th>\n",
       "      <th>refundable_support</th>\n",
       "      <th>nonrefundable_support</th>\n",
       "      <th>budget</th>\n",
       "      <th>financing_source</th>\n",
       "      <th>ratings</th>\n",
       "      <th>box_office</th>\n",
       "      <th>year_start_date</th>\n",
       "      <th>short_age_restriction</th>\n",
       "      <th>head_director</th>\n",
       "      <th>main_genres</th>\n",
       "      <th>refundable_support_percent</th>\n",
       "    </tr>\n",
       "  </thead>\n",
       "  <tbody>\n",
       "    <tr>\n",
       "      <th>6619</th>\n",
       "      <td>Тайна Печати Дракона</td>\n",
       "      <td>111012819</td>\n",
       "      <td>2019-09-12</td>\n",
       "      <td>Художественный</td>\n",
       "      <td>ооо \"кинокомпания \"ств\"; ооо \"рфг корп\"; ооо \"...</td>\n",
       "      <td>россия-китай</td>\n",
       "      <td>с.сельянов, а.петрухин</td>\n",
       "      <td>180.000</td>\n",
       "      <td>90.000</td>\n",
       "      <td>2305.074</td>\n",
       "      <td>Фонд кино</td>\n",
       "      <td>5.800</td>\n",
       "      <td>333.597</td>\n",
       "      <td>2019</td>\n",
       "      <td>6+</td>\n",
       "      <td>о.степченко</td>\n",
       "      <td>приключения</td>\n",
       "      <td>0.117</td>\n",
       "    </tr>\n",
       "    <tr>\n",
       "      <th>4947</th>\n",
       "      <td>Матильда</td>\n",
       "      <td>111005717</td>\n",
       "      <td>2017-08-17</td>\n",
       "      <td>Художественный</td>\n",
       "      <td>ооо \"тпо \"рок\", ооо \"матильда\"</td>\n",
       "      <td>россия</td>\n",
       "      <td>а.учитель, а.достман, в.винокур</td>\n",
       "      <td>110.000</td>\n",
       "      <td>190.000</td>\n",
       "      <td>1032.906</td>\n",
       "      <td>Фонд кино</td>\n",
       "      <td>7.700</td>\n",
       "      <td>511.776</td>\n",
       "      <td>2017</td>\n",
       "      <td>16+</td>\n",
       "      <td>а.учитель</td>\n",
       "      <td>фэнтези</td>\n",
       "      <td>0.290</td>\n",
       "    </tr>\n",
       "    <tr>\n",
       "      <th>6969</th>\n",
       "      <td>Союз спасения</td>\n",
       "      <td>111022019</td>\n",
       "      <td>2019-12-26</td>\n",
       "      <td>Художественный</td>\n",
       "      <td>зао \"дирекция кино\"</td>\n",
       "      <td>россия</td>\n",
       "      <td>а.максимов, к.эрнст</td>\n",
       "      <td>100.000</td>\n",
       "      <td>400.000</td>\n",
       "      <td>980.000</td>\n",
       "      <td>Фонд кино</td>\n",
       "      <td>6.000</td>\n",
       "      <td>717.703</td>\n",
       "      <td>2019</td>\n",
       "      <td>12+</td>\n",
       "      <td>а.кравчук</td>\n",
       "      <td>история</td>\n",
       "      <td>0.510</td>\n",
       "    </tr>\n",
       "  </tbody>\n",
       "</table>\n",
       "</div>"
      ],
      "text/plain": [
       "                     title   puNumber show_start_date            type  \\\n",
       "6619  Тайна Печати Дракона  111012819      2019-09-12  Художественный   \n",
       "4947              Матильда  111005717      2017-08-17  Художественный   \n",
       "6969         Союз спасения  111022019      2019-12-26  Художественный   \n",
       "\n",
       "                                            film_studio production_country  \\\n",
       "6619  ооо \"кинокомпания \"ств\"; ооо \"рфг корп\"; ооо \"...       россия-китай   \n",
       "4947                     ооо \"тпо \"рок\", ооо \"матильда\"             россия   \n",
       "6969                                зао \"дирекция кино\"             россия   \n",
       "\n",
       "                             producer  refundable_support  \\\n",
       "6619           с.сельянов, а.петрухин             180.000   \n",
       "4947  а.учитель, а.достман, в.винокур             110.000   \n",
       "6969              а.максимов, к.эрнст             100.000   \n",
       "\n",
       "      nonrefundable_support   budget financing_source  ratings  box_office  \\\n",
       "6619                 90.000 2305.074        Фонд кино    5.800     333.597   \n",
       "4947                190.000 1032.906        Фонд кино    7.700     511.776   \n",
       "6969                400.000  980.000        Фонд кино    6.000     717.703   \n",
       "\n",
       "      year_start_date short_age_restriction head_director  main_genres  \\\n",
       "6619             2019                    6+   о.степченко  приключения   \n",
       "4947             2017                   16+     а.учитель      фэнтези   \n",
       "6969             2019                   12+     а.кравчук      история   \n",
       "\n",
       "      refundable_support_percent  \n",
       "6619                       0.117  \n",
       "4947                       0.290  \n",
       "6969                       0.510  "
      ]
     },
     "execution_count": 90,
     "metadata": {},
     "output_type": "execute_result"
    }
   ],
   "source": [
    "# Три фильма с наибольшим бюджетом\n",
    "movies_support.sort_values('budget', ascending=False).head(3)"
   ]
  },
  {
   "cell_type": "code",
   "execution_count": 91,
   "metadata": {},
   "outputs": [
    {
     "data": {
      "text/plain": [
       "0.37592143338588285"
      ]
     },
     "execution_count": 91,
     "metadata": {},
     "output_type": "execute_result"
    }
   ],
   "source": [
    "# коэффициент корреляции\n",
    "movies_support['budget'].corr(movies_support['box_office'])"
   ]
  },
  {
   "cell_type": "code",
   "execution_count": 92,
   "metadata": {},
   "outputs": [
    {
     "data": {
      "text/html": [
       "<div>\n",
       "<style scoped>\n",
       "    .dataframe tbody tr th:only-of-type {\n",
       "        vertical-align: middle;\n",
       "    }\n",
       "\n",
       "    .dataframe tbody tr th {\n",
       "        vertical-align: top;\n",
       "    }\n",
       "\n",
       "    .dataframe thead th {\n",
       "        text-align: right;\n",
       "    }\n",
       "</style>\n",
       "<table border=\"1\" class=\"dataframe\">\n",
       "  <thead>\n",
       "    <tr style=\"text-align: right;\">\n",
       "      <th></th>\n",
       "      <th>median_box_office</th>\n",
       "      <th>median_budget</th>\n",
       "      <th>total_movies</th>\n",
       "      <th>median_ratings</th>\n",
       "      <th>percent</th>\n",
       "    </tr>\n",
       "    <tr>\n",
       "      <th>financing_source</th>\n",
       "      <th></th>\n",
       "      <th></th>\n",
       "      <th></th>\n",
       "      <th></th>\n",
       "      <th></th>\n",
       "    </tr>\n",
       "  </thead>\n",
       "  <tbody>\n",
       "    <tr>\n",
       "      <th>Министерство культуры</th>\n",
       "      <td>1.761</td>\n",
       "      <td>48.571</td>\n",
       "      <td>163</td>\n",
       "      <td>6.200</td>\n",
       "      <td>0.494</td>\n",
       "    </tr>\n",
       "    <tr>\n",
       "      <th>Фонд кино</th>\n",
       "      <td>85.888</td>\n",
       "      <td>136.163</td>\n",
       "      <td>146</td>\n",
       "      <td>6.000</td>\n",
       "      <td>0.442</td>\n",
       "    </tr>\n",
       "    <tr>\n",
       "      <th>Министерство культуры, Фонд кино</th>\n",
       "      <td>8.425</td>\n",
       "      <td>70.086</td>\n",
       "      <td>21</td>\n",
       "      <td>6.500</td>\n",
       "      <td>0.064</td>\n",
       "    </tr>\n",
       "  </tbody>\n",
       "</table>\n",
       "</div>"
      ],
      "text/plain": [
       "                                  median_box_office  median_budget  \\\n",
       "financing_source                                                     \n",
       "Министерство культуры                         1.761         48.571   \n",
       "Фонд кино                                    85.888        136.163   \n",
       "Министерство культуры, Фонд кино              8.425         70.086   \n",
       "\n",
       "                                  total_movies  median_ratings  percent  \n",
       "financing_source                                                         \n",
       "Министерство культуры                      163           6.200    0.494  \n",
       "Фонд кино                                  146           6.000    0.442  \n",
       "Министерство культуры, Фонд кино            21           6.500    0.064  "
      ]
     },
     "execution_count": 92,
     "metadata": {},
     "output_type": "execute_result"
    }
   ],
   "source": [
    "# источники финансирования \n",
    "financing_source_support = movies_support.pivot_table(index='financing_source', \\\n",
    "                                                      values=['budget', 'box_office', 'ratings', 'puNumber'],\\\n",
    "                          aggfunc={'budget': 'median', 'box_office': 'median', 'ratings': 'median', 'puNumber':'count'})\n",
    "financing_source_support.columns=['median_box_office', 'median_budget', 'total_movies', 'median_ratings']\n",
    "financing_source_support['percent'] = financing_source_support['total_movies'] / sum(financing_source_support['total_movies'])\n",
    "financing_source_support.sort_values('total_movies', ascending=False)"
   ]
  },
  {
   "cell_type": "markdown",
   "metadata": {},
   "source": [
    "<div class=\"alert alert-block alert-info\">Основными источниками финансирования фильмов с господдержкой являются Министерство культуры и Фонд кино. Доля финансирования Министерства культуры 49.4%, Фонда кино - 42.2%, их совместные проекты составляют 6.4%.\n",
    "    <p>При практически равном участии, медианный бюджет Министерства культуры 48.6 млн. руб., а медианные сборы - 1.8 млн. руб. - в 27 раз меньше, тогда как у Фонда кино миданный бюджет фильма 136.2 млн. руб., а медианные сборы в 1.5 раза меньше бюджета (85.9 млн. руб.).\n",
    "        Это объясняется достаточно просто: не все проекты Министерства культуры выходят в широкий прокат и чаще всего носят благотворительный или малобюджетный характер. Фонд кино чаще всего финансирует фильмы для широкого проката, как для ТВ, так и в кинотеатрах."
   ]
  },
  {
   "cell_type": "code",
   "execution_count": 93,
   "metadata": {},
   "outputs": [
    {
     "data": {
      "text/html": [
       "<div>\n",
       "<style scoped>\n",
       "    .dataframe tbody tr th:only-of-type {\n",
       "        vertical-align: middle;\n",
       "    }\n",
       "\n",
       "    .dataframe tbody tr th {\n",
       "        vertical-align: top;\n",
       "    }\n",
       "\n",
       "    .dataframe thead th {\n",
       "        text-align: right;\n",
       "    }\n",
       "</style>\n",
       "<table border=\"1\" class=\"dataframe\">\n",
       "  <thead>\n",
       "    <tr style=\"text-align: right;\">\n",
       "      <th></th>\n",
       "      <th>median_ratings_with_support</th>\n",
       "      <th>median_ratings_without_support</th>\n",
       "    </tr>\n",
       "    <tr>\n",
       "      <th>main_genres</th>\n",
       "      <th></th>\n",
       "      <th></th>\n",
       "    </tr>\n",
       "  </thead>\n",
       "  <tbody>\n",
       "    <tr>\n",
       "      <th>биография</th>\n",
       "      <td>6.900</td>\n",
       "      <td>6.900</td>\n",
       "    </tr>\n",
       "    <tr>\n",
       "      <th>боевик</th>\n",
       "      <td>6.450</td>\n",
       "      <td>6.600</td>\n",
       "    </tr>\n",
       "    <tr>\n",
       "      <th>военный</th>\n",
       "      <td>6.400</td>\n",
       "      <td>6.650</td>\n",
       "    </tr>\n",
       "    <tr>\n",
       "      <th>детектив</th>\n",
       "      <td>6.800</td>\n",
       "      <td>6.700</td>\n",
       "    </tr>\n",
       "    <tr>\n",
       "      <th>детский</th>\n",
       "      <td>7.250</td>\n",
       "      <td>7.200</td>\n",
       "    </tr>\n",
       "    <tr>\n",
       "      <th>драма</th>\n",
       "      <td>6.400</td>\n",
       "      <td>6.800</td>\n",
       "    </tr>\n",
       "    <tr>\n",
       "      <th>история</th>\n",
       "      <td>5.900</td>\n",
       "      <td>6.550</td>\n",
       "    </tr>\n",
       "    <tr>\n",
       "      <th>комедия</th>\n",
       "      <td>5.750</td>\n",
       "      <td>6.200</td>\n",
       "    </tr>\n",
       "    <tr>\n",
       "      <th>криминал</th>\n",
       "      <td>7.800</td>\n",
       "      <td>6.600</td>\n",
       "    </tr>\n",
       "    <tr>\n",
       "      <th>мелодрама</th>\n",
       "      <td>6.200</td>\n",
       "      <td>6.700</td>\n",
       "    </tr>\n",
       "    <tr>\n",
       "      <th>мультфильм</th>\n",
       "      <td>6.200</td>\n",
       "      <td>6.400</td>\n",
       "    </tr>\n",
       "    <tr>\n",
       "      <th>мюзикл</th>\n",
       "      <td>6.600</td>\n",
       "      <td>7.050</td>\n",
       "    </tr>\n",
       "    <tr>\n",
       "      <th>приключения</th>\n",
       "      <td>5.700</td>\n",
       "      <td>6.600</td>\n",
       "    </tr>\n",
       "    <tr>\n",
       "      <th>реальное тв</th>\n",
       "      <td>5.600</td>\n",
       "      <td>NaN</td>\n",
       "    </tr>\n",
       "    <tr>\n",
       "      <th>семейный</th>\n",
       "      <td>4.800</td>\n",
       "      <td>6.000</td>\n",
       "    </tr>\n",
       "    <tr>\n",
       "      <th>спорт</th>\n",
       "      <td>7.000</td>\n",
       "      <td>7.250</td>\n",
       "    </tr>\n",
       "    <tr>\n",
       "      <th>триллер</th>\n",
       "      <td>5.600</td>\n",
       "      <td>6.600</td>\n",
       "    </tr>\n",
       "    <tr>\n",
       "      <th>ужасы</th>\n",
       "      <td>5.100</td>\n",
       "      <td>5.700</td>\n",
       "    </tr>\n",
       "    <tr>\n",
       "      <th>фантастика</th>\n",
       "      <td>6.200</td>\n",
       "      <td>6.600</td>\n",
       "    </tr>\n",
       "    <tr>\n",
       "      <th>фэнтези</th>\n",
       "      <td>6.950</td>\n",
       "      <td>6.600</td>\n",
       "    </tr>\n",
       "    <tr>\n",
       "      <th>unknown</th>\n",
       "      <td>NaN</td>\n",
       "      <td>5.500</td>\n",
       "    </tr>\n",
       "    <tr>\n",
       "      <th>аниме</th>\n",
       "      <td>NaN</td>\n",
       "      <td>7.600</td>\n",
       "    </tr>\n",
       "    <tr>\n",
       "      <th>вестерн</th>\n",
       "      <td>NaN</td>\n",
       "      <td>7.900</td>\n",
       "    </tr>\n",
       "    <tr>\n",
       "      <th>для взрослых</th>\n",
       "      <td>NaN</td>\n",
       "      <td>4.650</td>\n",
       "    </tr>\n",
       "    <tr>\n",
       "      <th>документальный</th>\n",
       "      <td>NaN</td>\n",
       "      <td>7.300</td>\n",
       "    </tr>\n",
       "    <tr>\n",
       "      <th>концерт</th>\n",
       "      <td>NaN</td>\n",
       "      <td>7.900</td>\n",
       "    </tr>\n",
       "    <tr>\n",
       "      <th>короткометражка</th>\n",
       "      <td>NaN</td>\n",
       "      <td>6.100</td>\n",
       "    </tr>\n",
       "    <tr>\n",
       "      <th>музыка</th>\n",
       "      <td>NaN</td>\n",
       "      <td>7.200</td>\n",
       "    </tr>\n",
       "    <tr>\n",
       "      <th>фильм-нуар</th>\n",
       "      <td>NaN</td>\n",
       "      <td>7.600</td>\n",
       "    </tr>\n",
       "  </tbody>\n",
       "</table>\n",
       "</div>"
      ],
      "text/plain": [
       "                 median_ratings_with_support  median_ratings_without_support\n",
       "main_genres                                                                 \n",
       "биография                              6.900                           6.900\n",
       "боевик                                 6.450                           6.600\n",
       "военный                                6.400                           6.650\n",
       "детектив                               6.800                           6.700\n",
       "детский                                7.250                           7.200\n",
       "драма                                  6.400                           6.800\n",
       "история                                5.900                           6.550\n",
       "комедия                                5.750                           6.200\n",
       "криминал                               7.800                           6.600\n",
       "мелодрама                              6.200                           6.700\n",
       "мультфильм                             6.200                           6.400\n",
       "мюзикл                                 6.600                           7.050\n",
       "приключения                            5.700                           6.600\n",
       "реальное тв                            5.600                             NaN\n",
       "семейный                               4.800                           6.000\n",
       "спорт                                  7.000                           7.250\n",
       "триллер                                5.600                           6.600\n",
       "ужасы                                  5.100                           5.700\n",
       "фантастика                             6.200                           6.600\n",
       "фэнтези                                6.950                           6.600\n",
       "unknown                                  NaN                           5.500\n",
       "аниме                                    NaN                           7.600\n",
       "вестерн                                  NaN                           7.900\n",
       "для взрослых                             NaN                           4.650\n",
       "документальный                           NaN                           7.300\n",
       "концерт                                  NaN                           7.900\n",
       "короткометражка                          NaN                           6.100\n",
       "музыка                                   NaN                           7.200\n",
       "фильм-нуар                               NaN                           7.600"
      ]
     },
     "execution_count": 93,
     "metadata": {},
     "output_type": "execute_result"
    }
   ],
   "source": [
    "# сравнение рейтингов фильмов с господдержкой и без\n",
    "data_ratings = data.query('budget != budget')\n",
    "ratings_pt = data_ratings.pivot_table(index='main_genres', values='ratings', aggfunc='median')\n",
    "ratings_with_support_pt = movies_support.pivot_table(index='main_genres', values='ratings', aggfunc='median')\n",
    "ratings_with_support_merge = ratings_with_support_pt.merge(ratings_pt, on='main_genres', how='outer')\n",
    "ratings_with_support_merge.columns = ['median_ratings_with_support', 'median_ratings_without_support']\n",
    "ratings_with_support_merge"
   ]
  },
  {
   "cell_type": "markdown",
   "metadata": {},
   "source": [
    "<div class=\"alert alert-block alert-info\">Составив таблицу сравнения рейтингов фильмов с гос.участием и без по жанрам, можно увидеть, что фильмы в жанрах аниме, вестерн, для взрослых и др. - не получали государственного финансирования."
   ]
  },
  {
   "cell_type": "code",
   "execution_count": 94,
   "metadata": {},
   "outputs": [
    {
     "data": {
      "text/plain": [
       "<AxesSubplot:title={'center':'Сравнение рейтингов по жанрам для фильмов с гос. участием и без'}, xlabel='main_genres'>"
      ]
     },
     "execution_count": 94,
     "metadata": {},
     "output_type": "execute_result"
    },
    {
     "data": {
      "image/png": "[encoded data removed]",
      "text/plain": [
       "<Figure size 432x288 with 1 Axes>"
      ]
     },
     "metadata": {
      "needs_background": "light"
     },
     "output_type": "display_data"
    }
   ],
   "source": [
    "ratings_with_support_merge_x = ratings_with_support_pt.merge(ratings_pt, on='main_genres', how='inner')\n",
    "ratings_with_support_merge_x.columns = ['median_ratings_with_support', 'median_ratings_without_support']\n",
    "ratings_with_support_merge_x.plot(title='Сравнение рейтингов по жанрам для фильмов с гос. участием и без')"
   ]
  },
  {
   "cell_type": "code",
   "execution_count": 95,
   "metadata": {},
   "outputs": [
    {
     "data": {
      "text/html": [
       "<div>\n",
       "<style scoped>\n",
       "    .dataframe tbody tr th:only-of-type {\n",
       "        vertical-align: middle;\n",
       "    }\n",
       "\n",
       "    .dataframe tbody tr th {\n",
       "        vertical-align: top;\n",
       "    }\n",
       "\n",
       "    .dataframe thead th {\n",
       "        text-align: right;\n",
       "    }\n",
       "</style>\n",
       "<table border=\"1\" class=\"dataframe\">\n",
       "  <thead>\n",
       "    <tr style=\"text-align: right;\">\n",
       "      <th></th>\n",
       "      <th>median_ratings_with_support</th>\n",
       "      <th>median_ratings_without_support</th>\n",
       "    </tr>\n",
       "    <tr>\n",
       "      <th>main_genres</th>\n",
       "      <th></th>\n",
       "      <th></th>\n",
       "    </tr>\n",
       "  </thead>\n",
       "  <tbody>\n",
       "    <tr>\n",
       "      <th>детектив</th>\n",
       "      <td>6.800</td>\n",
       "      <td>6.700</td>\n",
       "    </tr>\n",
       "    <tr>\n",
       "      <th>детский</th>\n",
       "      <td>7.250</td>\n",
       "      <td>7.200</td>\n",
       "    </tr>\n",
       "    <tr>\n",
       "      <th>криминал</th>\n",
       "      <td>7.800</td>\n",
       "      <td>6.600</td>\n",
       "    </tr>\n",
       "    <tr>\n",
       "      <th>фэнтези</th>\n",
       "      <td>6.950</td>\n",
       "      <td>6.600</td>\n",
       "    </tr>\n",
       "  </tbody>\n",
       "</table>\n",
       "</div>"
      ],
      "text/plain": [
       "             median_ratings_with_support  median_ratings_without_support\n",
       "main_genres                                                             \n",
       "детектив                           6.800                           6.700\n",
       "детский                            7.250                           7.200\n",
       "криминал                           7.800                           6.600\n",
       "фэнтези                            6.950                           6.600"
      ]
     },
     "execution_count": 95,
     "metadata": {},
     "output_type": "execute_result"
    }
   ],
   "source": [
    "ratings_with_support_merge_x.query('median_ratings_with_support > median_ratings_without_support')"
   ]
  },
  {
   "cell_type": "markdown",
   "metadata": {},
   "source": [
    "<div class=\"alert alert-block alert-info\">По графику видно, что в целом рейтинг фильмов, финансируемых государством ниже, чем рейтинг фильмов по таким же жанрам, но без государственного участия, за исключением жанров \"криминал\", \"детектив\", \"фэнтези\" и \"детский\""
   ]
  },
  {
   "cell_type": "markdown",
   "metadata": {},
   "source": [
    "<div class=\"alert alert-block alert-info\">Три фильма с наибольшими кассовыми сборами и господдержкой: \n",
    "    <li>\"Холоп\" (господдержка 37.5%, окупаемость превысила бюджет в 19 раз, рейтинг 6.8) \n",
    "    <li>\"Движение вверх\" (господдержка 67.8%, окупаемость превысила бюджет в 4 раза, рейтинг 7.5)\n",
    "    <li>\"Т-34\" (господдержка 31.9%, окупаемость превысила бюджет в 4 раза, рейтинг 6.5)\n",
    "<p>Три фильма с наибольшим бюджетом и господдержкой: \n",
    "    <li>\"Тайна Печати Дракона\" (господдержка 11.7%, кассовые сборы в 7 раз меньше бюджета, рейтинг 5.8) \n",
    "    <li>\"Матильда\" (господдержка 29%, кассовые сборы в 2 раз меньше бюджета, рейтинг 7.7)\n",
    "    <li>\"Союз спасения\" (господдержка 51%, кассовые сборы в 1.4 раза меньше бюджета, рейтинг 6)\n",
    "<br>\n",
    "        <p> Если посмотреть на коэффициент корреляции между бюджетом фильма и кассовыми сборами, то он составляет 37.6%, что говорит о слабой связи между этими параметрами: не всегда огромный бюджет будет означать успех фильма и такие же огромные сборы.\n",
    "           <p>Основными источниками финансирования фильмов с господдержкой являются Министерство культуры и Фонд кино. Доля финансирования Министерства культуры 49.4%, Фонда кино - 42.2%, их совместные проекты составляют 6.4%.\n",
    "               <p>В целом рейтинг фильмов, финансируемых государством ниже, чем рейтинг фильмов по таким же жанрам, но без государственного участия"
   ]
  },
  {
   "cell_type": "markdown",
   "metadata": {},
   "source": [
    "<div class=\"alert alert-block alert-info\"><b>Вывод:</b>\n",
    "    <p>\n",
    "Медианная доля окупаемости от 8% до 64%. Медианный рейтинг колеблется от 6.1 до 6.7, а медианная доля господдержки в бюджете фильмов от 47% до 64%.\n",
    "  <p>Фильмы со 100% господдержкой чаще всего окупаются и приносят доход (таких фильмов нашлось шесть)\n",
    "  <p>Три фильма с наибольшими кассовыми сборами и господдержкой: \"Холоп», «Движение вверх\", \"Т-34\"\n",
    "   <p>Коэффициент корреляции между бюджетом фильма и кассовыми сборами составляет 37.6%, что говорит о слабой связи между этими параметрами.\n",
    "       <p>Основными источниками финансирования фильмов с господдержкой являются Министерство культуры (49.4%) и Фонд кино (42.2%)  и их совместная деятельность (6.4%)\n",
    "          <p> Рейтинга фильмов, финансируемых государством ниже, чем рейтинг фильмов по таким же жанрам, но без государственного участия (кроме жанров \"криминал\", \"детектив\", \"фэнтези\" и \"детский\") \n",
    "\n",
    "\n",
    "\n"
   ]
  },
  {
   "cell_type": "markdown",
   "metadata": {
    "id": "V2gYwMcPgFyd"
   },
   "source": [
    "### Шаг 5. Напишите общий вывод"
   ]
  },
  {
   "cell_type": "markdown",
   "metadata": {},
   "source": [
    "<div class=\"alert alert-block alert-info\"><b>Предобработка данных</b>\n",
    "    <p>Рассматриваемый датафрейм был получен после объединения файлов с данными по полю puNumber, который был приведен к одинаковому типу в разных датасетах\n",
    "<p>Преобразованы типы данных и формат в столбцах show_start_date, refundable_suppor, nonrefundable_support, budget, box_office, ratings, age_restriction\n",
    "<p>Пропуски заполнены в столбцах production_country, director, producer, ratings. \n",
    "<p>Основное поле поиска дубликатов - в названии фильмов title. Удаление дубликатов происходило в несколько этапов: от применения функции drop_duplicates(), реализации собственной функции поиска и удаления дубликатов drop_title_duplicated до удаления нешаблонных дубликатов вручную (таких данных обработано в количестве 5 строк). После удаления дубликатов размер датафрейма уменьшился на 9,54%\n",
    "<p>Категориальные столбцы обработаны на наличие посторонних символов в начале и конце строк.\n",
    "<p>Нулевой бюджет при наличии любой поддержки заполнен  на сумму столбцов refundable_support и nonrefundable_support.\n",
    "<p>Добавлены новые столбцы 'year_start_date', 'head_director', 'main_genres'.\n",
    "<p>Рассчитана доля государственной поддержки от общего бюджета фильма. В среднем государственная поддержка составляет 54%, но есть фильмы со 100% господдержкой. 75% рассматриваемых фильмов имеют долю государственной поддержки, не превышающую 66%\n",
    "<br>\n",
    "    <b><p>Результаты исследовательского анализа данных:</b>\n",
    "<li>Доля фильмов, вышедших в прокат за всё время составляет 46%\n",
    "<li>Минимальные сборы были собраны в 2010 году и составили 2.16 млн. руб., а максимальные - в 2016 году и составили 51820.21 млн. руб.\n",
    "<li>Средние и медианные показатели сборов фильмов, вышедших в релиз в некоторые годы отличаются более чем в 11 раз\n",
    "<li>Возрастное ограничение аудитории влияет на кассовые сборы в контексте количества выпускаемых фильмов для каждой категории. Наибольшие сборы с 2015 по 2017 принесли фильмы с возрастным ограничением \"16+\" (46778.23 млн. руб.).\n",
    "\n",
    "<b><p>Исследовательский анализ данных фильмов, имеющих государственную поддержку</b>, показал, что медианная доля окупаемости от 8% до 64%, медианный рейтинг колеблется от 6.1 до 6.7, а медианная доля господдержки в бюджете фильмов составляет от 47% до 64%.\n",
    "<p>Фильмы со 100% господдержкой чаще всего окупаются и приносят доход (таких фильмов нашлось шесть) \n",
    " <p>Коэффициент корреляции между бюджетом фильма и кассовыми сборами составляет 37.6%, что говорит о слабой связи между этими параметрами\n",
    "       <p>Основными источниками финансирования фильмов с господдержкой являются Министерство культуры (49.4%) и Фонд кино (42.2%)  и их совместная деятельность (6.4%)\n",
    "          <p> Рейтинга фильмов, финансируемых государством ниже, чем рейтинг фильмов по таким же жанрам, но без государственного участия (кроме жанров \"криминал\", \"детектив\", \"фэнтези\" и \"детский\") </div>\n",
    "\n",
    "\n"
   ]
  },
  {
   "cell_type": "code",
   "execution_count": null,
   "metadata": {},
   "outputs": [],
   "source": []
  }
 ],
 "metadata": {
  "ExecuteTimeLog": [
   {
    "duration": 537,
    "start_time": "2021-07-07T10:12:08.634Z"
   },
   {
    "duration": 206,
    "start_time": "2021-07-07T10:12:30.191Z"
   },
   {
    "duration": 227,
    "start_time": "2021-07-07T10:12:33.078Z"
   },
   {
    "duration": 153,
    "start_time": "2021-07-07T10:13:42.146Z"
   },
   {
    "duration": 233,
    "start_time": "2021-07-07T10:30:09.252Z"
   },
   {
    "duration": 19,
    "start_time": "2021-07-07T10:30:15.577Z"
   },
   {
    "duration": 18,
    "start_time": "2021-07-07T10:30:57.348Z"
   },
   {
    "duration": 19,
    "start_time": "2021-07-07T10:31:17.452Z"
   },
   {
    "duration": 21,
    "start_time": "2021-07-07T10:31:32.227Z"
   },
   {
    "duration": 27,
    "start_time": "2021-07-07T10:32:06.588Z"
   },
   {
    "duration": 23,
    "start_time": "2021-07-07T10:32:43.645Z"
   },
   {
    "duration": 24,
    "start_time": "2021-07-07T10:33:06.948Z"
   },
   {
    "duration": 7,
    "start_time": "2021-07-07T10:33:28.558Z"
   },
   {
    "duration": 23,
    "start_time": "2021-07-07T10:33:43.761Z"
   },
   {
    "duration": 28,
    "start_time": "2021-07-07T10:34:13.466Z"
   },
   {
    "duration": 23,
    "start_time": "2021-07-07T10:35:56.187Z"
   },
   {
    "duration": 6,
    "start_time": "2021-07-07T10:36:48.182Z"
   },
   {
    "duration": 14,
    "start_time": "2021-07-07T10:37:49.641Z"
   },
   {
    "duration": 6,
    "start_time": "2021-07-07T10:38:06.694Z"
   },
   {
    "duration": 6,
    "start_time": "2021-07-07T10:38:13.493Z"
   },
   {
    "duration": 19,
    "start_time": "2021-07-07T10:38:44.056Z"
   },
   {
    "duration": 186,
    "start_time": "2021-07-07T10:48:35.618Z"
   },
   {
    "duration": 24,
    "start_time": "2021-07-07T10:48:51.498Z"
   },
   {
    "duration": 20,
    "start_time": "2021-07-07T10:48:59.415Z"
   },
   {
    "duration": 20,
    "start_time": "2021-07-07T10:53:02.195Z"
   },
   {
    "duration": 188,
    "start_time": "2021-07-07T10:54:40.486Z"
   },
   {
    "duration": 115,
    "start_time": "2021-07-07T10:54:52.552Z"
   },
   {
    "duration": 214,
    "start_time": "2021-07-07T10:54:56.354Z"
   },
   {
    "duration": 47,
    "start_time": "2021-07-07T10:54:58.282Z"
   },
   {
    "duration": 217,
    "start_time": "2021-07-07T10:59:16.075Z"
   },
   {
    "duration": 51,
    "start_time": "2021-07-07T10:59:16.243Z"
   },
   {
    "duration": 578,
    "start_time": "2021-07-07T10:59:18.774Z"
   },
   {
    "duration": 161,
    "start_time": "2021-07-07T10:59:21.238Z"
   },
   {
    "duration": 59,
    "start_time": "2021-07-07T10:59:21.453Z"
   },
   {
    "duration": 3,
    "start_time": "2021-07-07T11:02:10.786Z"
   },
   {
    "duration": 13,
    "start_time": "2021-07-07T11:07:07.722Z"
   },
   {
    "duration": 26,
    "start_time": "2021-07-07T11:07:17.958Z"
   },
   {
    "duration": 22,
    "start_time": "2021-07-07T11:08:17.939Z"
   },
   {
    "duration": 212,
    "start_time": "2021-07-07T11:08:19.665Z"
   },
   {
    "duration": 21,
    "start_time": "2021-07-07T11:08:29.945Z"
   },
   {
    "duration": 31,
    "start_time": "2021-07-07T11:08:38.899Z"
   },
   {
    "duration": 23,
    "start_time": "2021-07-07T11:08:54.527Z"
   },
   {
    "duration": 8,
    "start_time": "2021-07-07T11:18:55.974Z"
   },
   {
    "duration": 7,
    "start_time": "2021-07-07T11:19:03.639Z"
   },
   {
    "duration": 7,
    "start_time": "2021-07-07T11:19:06.444Z"
   },
   {
    "duration": 578,
    "start_time": "2021-07-07T12:09:59.576Z"
   },
   {
    "duration": 195,
    "start_time": "2021-07-07T12:10:00.156Z"
   },
   {
    "duration": 115,
    "start_time": "2021-07-07T12:10:00.353Z"
   },
   {
    "duration": 3,
    "start_time": "2021-07-07T12:10:00.470Z"
   },
   {
    "duration": 32,
    "start_time": "2021-07-07T12:10:00.474Z"
   },
   {
    "duration": 23,
    "start_time": "2021-07-07T12:10:00.508Z"
   },
   {
    "duration": 19,
    "start_time": "2021-07-07T12:10:00.533Z"
   },
   {
    "duration": 44,
    "start_time": "2021-07-07T12:10:00.553Z"
   },
   {
    "duration": 7,
    "start_time": "2021-07-07T12:10:00.600Z"
   },
   {
    "duration": 7,
    "start_time": "2021-07-07T12:19:45.761Z"
   },
   {
    "duration": 21,
    "start_time": "2021-07-07T12:21:35.482Z"
   },
   {
    "duration": 21,
    "start_time": "2021-07-07T12:29:23.569Z"
   },
   {
    "duration": 525,
    "start_time": "2021-07-07T12:29:44.542Z"
   },
   {
    "duration": 214,
    "start_time": "2021-07-07T12:29:45.069Z"
   },
   {
    "duration": 92,
    "start_time": "2021-07-07T12:29:45.285Z"
   },
   {
    "duration": 3,
    "start_time": "2021-07-07T12:29:45.379Z"
   },
   {
    "duration": 28,
    "start_time": "2021-07-07T12:29:45.384Z"
   },
   {
    "duration": 23,
    "start_time": "2021-07-07T12:29:45.413Z"
   },
   {
    "duration": 21,
    "start_time": "2021-07-07T12:29:45.437Z"
   },
   {
    "duration": 41,
    "start_time": "2021-07-07T12:29:45.460Z"
   },
   {
    "duration": 7,
    "start_time": "2021-07-07T12:29:45.502Z"
   },
   {
    "duration": 20,
    "start_time": "2021-07-07T12:29:45.511Z"
   },
   {
    "duration": 12,
    "start_time": "2021-07-07T12:34:02.800Z"
   },
   {
    "duration": 7,
    "start_time": "2021-07-07T12:35:10.479Z"
   },
   {
    "duration": 8,
    "start_time": "2021-07-07T12:35:22.440Z"
   },
   {
    "duration": 6,
    "start_time": "2021-07-07T12:35:35.649Z"
   },
   {
    "duration": 6,
    "start_time": "2021-07-07T12:35:43.107Z"
   },
   {
    "duration": 22,
    "start_time": "2021-07-07T12:38:03.029Z"
   },
   {
    "duration": 10,
    "start_time": "2021-07-07T12:38:06.592Z"
   },
   {
    "duration": 563,
    "start_time": "2021-07-07T12:38:46.493Z"
   },
   {
    "duration": 265,
    "start_time": "2021-07-07T12:38:47.058Z"
   },
   {
    "duration": 94,
    "start_time": "2021-07-07T12:38:47.325Z"
   },
   {
    "duration": 3,
    "start_time": "2021-07-07T12:38:47.422Z"
   },
   {
    "duration": 30,
    "start_time": "2021-07-07T12:38:47.427Z"
   },
   {
    "duration": 16,
    "start_time": "2021-07-07T12:38:53.305Z"
   },
   {
    "duration": 10,
    "start_time": "2021-07-07T12:38:53.499Z"
   },
   {
    "duration": 8,
    "start_time": "2021-07-07T12:39:48.161Z"
   },
   {
    "duration": 27,
    "start_time": "2021-07-07T12:41:17.629Z"
   },
   {
    "duration": 17,
    "start_time": "2021-07-07T12:41:17.867Z"
   },
   {
    "duration": 21,
    "start_time": "2021-07-07T12:41:19.310Z"
   },
   {
    "duration": 7,
    "start_time": "2021-07-07T12:41:19.544Z"
   },
   {
    "duration": 20,
    "start_time": "2021-07-07T12:41:20.504Z"
   },
   {
    "duration": 554,
    "start_time": "2021-07-07T12:56:23.696Z"
   },
   {
    "duration": 200,
    "start_time": "2021-07-07T12:56:25.234Z"
   },
   {
    "duration": 119,
    "start_time": "2021-07-07T12:56:25.480Z"
   },
   {
    "duration": 4,
    "start_time": "2021-07-07T12:56:25.762Z"
   },
   {
    "duration": 26,
    "start_time": "2021-07-07T12:56:27.172Z"
   },
   {
    "duration": 12,
    "start_time": "2021-07-07T12:56:29.051Z"
   },
   {
    "duration": 10,
    "start_time": "2021-07-07T12:56:29.291Z"
   },
   {
    "duration": 8,
    "start_time": "2021-07-07T12:56:29.623Z"
   },
   {
    "duration": 28,
    "start_time": "2021-07-07T12:56:32.137Z"
   },
   {
    "duration": 19,
    "start_time": "2021-07-07T12:56:39.785Z"
   },
   {
    "duration": 20,
    "start_time": "2021-07-07T12:56:44.297Z"
   },
   {
    "duration": 7,
    "start_time": "2021-07-07T12:56:45.392Z"
   },
   {
    "duration": 23,
    "start_time": "2021-07-07T12:56:46.615Z"
   },
   {
    "duration": 4,
    "start_time": "2021-07-07T12:57:06.625Z"
   },
   {
    "duration": 32,
    "start_time": "2021-07-07T12:57:36.690Z"
   },
   {
    "duration": 18,
    "start_time": "2021-07-07T12:58:00.149Z"
   },
   {
    "duration": 15,
    "start_time": "2021-07-07T12:59:16.793Z"
   },
   {
    "duration": 7,
    "start_time": "2021-07-07T13:19:22.624Z"
   },
   {
    "duration": 6,
    "start_time": "2021-07-07T14:17:33.527Z"
   },
   {
    "duration": 9,
    "start_time": "2021-07-07T14:17:48.409Z"
   },
   {
    "duration": 8,
    "start_time": "2021-07-07T14:20:13.060Z"
   },
   {
    "duration": 8,
    "start_time": "2021-07-07T14:20:37.957Z"
   },
   {
    "duration": 8,
    "start_time": "2021-07-07T14:20:47.470Z"
   },
   {
    "duration": 9,
    "start_time": "2021-07-07T14:20:54.503Z"
   },
   {
    "duration": 10,
    "start_time": "2021-07-07T14:28:57.763Z"
   },
   {
    "duration": 3,
    "start_time": "2021-07-07T14:30:23.377Z"
   },
   {
    "duration": 3,
    "start_time": "2021-07-07T14:30:36.489Z"
   },
   {
    "duration": 103,
    "start_time": "2021-07-07T14:30:52.351Z"
   },
   {
    "duration": 8,
    "start_time": "2021-07-07T14:30:54.763Z"
   },
   {
    "duration": 8,
    "start_time": "2021-07-07T14:31:29.301Z"
   },
   {
    "duration": 13,
    "start_time": "2021-07-07T14:31:44.516Z"
   },
   {
    "duration": 7,
    "start_time": "2021-07-07T14:33:10.972Z"
   },
   {
    "duration": 11,
    "start_time": "2021-07-07T14:33:27.780Z"
   },
   {
    "duration": 8,
    "start_time": "2021-07-07T14:34:44.588Z"
   },
   {
    "duration": 57,
    "start_time": "2021-07-07T14:35:59.042Z"
   },
   {
    "duration": 3,
    "start_time": "2021-07-07T14:36:28.168Z"
   },
   {
    "duration": 5,
    "start_time": "2021-07-07T14:36:46.254Z"
   },
   {
    "duration": 4,
    "start_time": "2021-07-07T14:36:52.714Z"
   },
   {
    "duration": 3,
    "start_time": "2021-07-07T14:36:56.612Z"
   },
   {
    "duration": 4,
    "start_time": "2021-07-07T14:36:57.049Z"
   },
   {
    "duration": 3,
    "start_time": "2021-07-07T14:39:21.214Z"
   },
   {
    "duration": 7,
    "start_time": "2021-07-07T14:39:52.406Z"
   },
   {
    "duration": 11,
    "start_time": "2021-07-07T14:39:58.576Z"
   },
   {
    "duration": 9,
    "start_time": "2021-07-07T14:40:26.301Z"
   },
   {
    "duration": 10,
    "start_time": "2021-07-07T14:40:31.704Z"
   },
   {
    "duration": 11,
    "start_time": "2021-07-07T14:40:36.249Z"
   },
   {
    "duration": 10,
    "start_time": "2021-07-07T14:40:39.783Z"
   },
   {
    "duration": 9,
    "start_time": "2021-07-07T14:40:48.558Z"
   },
   {
    "duration": 10,
    "start_time": "2021-07-07T14:40:57.143Z"
   },
   {
    "duration": 9,
    "start_time": "2021-07-07T14:41:06.074Z"
   },
   {
    "duration": 4324,
    "start_time": "2021-07-07T14:41:22.004Z"
   },
   {
    "duration": 11,
    "start_time": "2021-07-07T14:41:33.392Z"
   },
   {
    "duration": 9,
    "start_time": "2021-07-07T14:41:39.288Z"
   },
   {
    "duration": 569,
    "start_time": "2021-07-07T14:42:14.387Z"
   },
   {
    "duration": 197,
    "start_time": "2021-07-07T14:42:14.959Z"
   },
   {
    "duration": 84,
    "start_time": "2021-07-07T14:42:16.052Z"
   },
   {
    "duration": 4,
    "start_time": "2021-07-07T14:42:16.900Z"
   },
   {
    "duration": 27,
    "start_time": "2021-07-07T14:42:19.898Z"
   },
   {
    "duration": 12,
    "start_time": "2021-07-07T14:42:21.577Z"
   },
   {
    "duration": 9,
    "start_time": "2021-07-07T14:42:21.813Z"
   },
   {
    "duration": 9,
    "start_time": "2021-07-07T14:42:22.569Z"
   },
   {
    "duration": 29,
    "start_time": "2021-07-07T14:42:25.837Z"
   },
   {
    "duration": 20,
    "start_time": "2021-07-07T14:42:27.003Z"
   },
   {
    "duration": 21,
    "start_time": "2021-07-07T14:42:28.767Z"
   },
   {
    "duration": 7,
    "start_time": "2021-07-07T14:42:29.838Z"
   },
   {
    "duration": 4,
    "start_time": "2021-07-07T14:43:25.493Z"
   },
   {
    "duration": 7,
    "start_time": "2021-07-07T14:43:26.573Z"
   },
   {
    "duration": 10,
    "start_time": "2021-07-07T14:43:31.639Z"
   },
   {
    "duration": 9,
    "start_time": "2021-07-07T14:43:32.046Z"
   },
   {
    "duration": 10,
    "start_time": "2021-07-07T14:43:33.301Z"
   },
   {
    "duration": 12,
    "start_time": "2021-07-07T14:43:33.658Z"
   },
   {
    "duration": 8,
    "start_time": "2021-07-07T14:43:34.552Z"
   },
   {
    "duration": 9,
    "start_time": "2021-07-07T14:43:35.058Z"
   },
   {
    "duration": 12,
    "start_time": "2021-07-07T14:43:35.914Z"
   },
   {
    "duration": 17,
    "start_time": "2021-07-07T14:45:34.368Z"
   },
   {
    "duration": 512,
    "start_time": "2021-07-07T14:51:58.236Z"
   },
   {
    "duration": 223,
    "start_time": "2021-07-07T14:51:58.750Z"
   },
   {
    "duration": 93,
    "start_time": "2021-07-07T14:51:58.977Z"
   },
   {
    "duration": 4,
    "start_time": "2021-07-07T14:51:59.071Z"
   },
   {
    "duration": 37,
    "start_time": "2021-07-07T14:51:59.077Z"
   },
   {
    "duration": 18,
    "start_time": "2021-07-07T14:51:59.116Z"
   },
   {
    "duration": 10,
    "start_time": "2021-07-07T14:51:59.137Z"
   },
   {
    "duration": 8,
    "start_time": "2021-07-07T14:51:59.149Z"
   },
   {
    "duration": 54,
    "start_time": "2021-07-07T14:51:59.158Z"
   },
   {
    "duration": 18,
    "start_time": "2021-07-07T14:51:59.213Z"
   },
   {
    "duration": 22,
    "start_time": "2021-07-07T14:51:59.232Z"
   },
   {
    "duration": 36,
    "start_time": "2021-07-07T14:51:59.255Z"
   },
   {
    "duration": 7,
    "start_time": "2021-07-07T14:51:59.293Z"
   },
   {
    "duration": 10,
    "start_time": "2021-07-07T14:51:59.302Z"
   },
   {
    "duration": 9,
    "start_time": "2021-07-07T14:51:59.313Z"
   },
   {
    "duration": 11,
    "start_time": "2021-07-07T14:51:59.324Z"
   },
   {
    "duration": 8,
    "start_time": "2021-07-07T14:51:59.337Z"
   },
   {
    "duration": 46,
    "start_time": "2021-07-07T14:51:59.347Z"
   },
   {
    "duration": 22,
    "start_time": "2021-07-07T14:51:59.395Z"
   },
   {
    "duration": 24,
    "start_time": "2021-07-07T14:57:32.911Z"
   },
   {
    "duration": 7,
    "start_time": "2021-07-07T14:58:22.070Z"
   },
   {
    "duration": 4,
    "start_time": "2021-07-07T14:59:11.239Z"
   },
   {
    "duration": 25,
    "start_time": "2021-07-07T15:07:22.208Z"
   },
   {
    "duration": 16,
    "start_time": "2021-07-07T15:08:25.560Z"
   },
   {
    "duration": 15,
    "start_time": "2021-07-07T15:08:40.647Z"
   },
   {
    "duration": 14,
    "start_time": "2021-07-07T15:08:46.669Z"
   },
   {
    "duration": 533,
    "start_time": "2021-07-07T15:18:07.440Z"
   },
   {
    "duration": 173,
    "start_time": "2021-07-07T15:18:07.974Z"
   },
   {
    "duration": 84,
    "start_time": "2021-07-07T15:18:08.149Z"
   },
   {
    "duration": 3,
    "start_time": "2021-07-07T15:18:08.235Z"
   },
   {
    "duration": 30,
    "start_time": "2021-07-07T15:18:08.240Z"
   },
   {
    "duration": 22,
    "start_time": "2021-07-07T15:18:08.272Z"
   },
   {
    "duration": 11,
    "start_time": "2021-07-07T15:18:08.295Z"
   },
   {
    "duration": 11,
    "start_time": "2021-07-07T15:18:08.309Z"
   },
   {
    "duration": 40,
    "start_time": "2021-07-07T15:18:08.322Z"
   },
   {
    "duration": 42,
    "start_time": "2021-07-07T15:18:08.364Z"
   },
   {
    "duration": 22,
    "start_time": "2021-07-07T15:18:08.408Z"
   },
   {
    "duration": 5,
    "start_time": "2021-07-07T15:18:08.432Z"
   },
   {
    "duration": 13,
    "start_time": "2021-07-07T15:18:08.439Z"
   },
   {
    "duration": 9,
    "start_time": "2021-07-07T15:18:08.454Z"
   },
   {
    "duration": 32,
    "start_time": "2021-07-07T15:18:08.465Z"
   },
   {
    "duration": 10,
    "start_time": "2021-07-07T15:18:08.501Z"
   },
   {
    "duration": 7,
    "start_time": "2021-07-07T15:18:08.513Z"
   },
   {
    "duration": 11,
    "start_time": "2021-07-07T15:18:08.521Z"
   },
   {
    "duration": 17,
    "start_time": "2021-07-07T15:18:08.534Z"
   },
   {
    "duration": 44,
    "start_time": "2021-07-07T15:18:08.553Z"
   },
   {
    "duration": 22,
    "start_time": "2021-07-07T15:18:08.599Z"
   },
   {
    "duration": 61,
    "start_time": "2021-07-07T15:18:08.622Z"
   },
   {
    "duration": 7,
    "start_time": "2021-07-07T15:18:39.457Z"
   },
   {
    "duration": 5,
    "start_time": "2021-07-07T16:05:17.020Z"
   },
   {
    "duration": 5,
    "start_time": "2021-07-07T16:51:28.794Z"
   },
   {
    "duration": 546,
    "start_time": "2021-07-07T16:52:26.306Z"
   },
   {
    "duration": 203,
    "start_time": "2021-07-07T16:52:27.523Z"
   },
   {
    "duration": 85,
    "start_time": "2021-07-07T16:52:27.736Z"
   },
   {
    "duration": 4,
    "start_time": "2021-07-07T16:52:27.899Z"
   },
   {
    "duration": 25,
    "start_time": "2021-07-07T16:52:28.674Z"
   },
   {
    "duration": 8,
    "start_time": "2021-07-07T16:52:32.956Z"
   },
   {
    "duration": 18,
    "start_time": "2021-07-07T16:52:35.616Z"
   },
   {
    "duration": 6,
    "start_time": "2021-07-07T16:52:36.913Z"
   },
   {
    "duration": 11,
    "start_time": "2021-07-07T16:52:40.258Z"
   },
   {
    "duration": 10,
    "start_time": "2021-07-07T16:52:46.251Z"
   },
   {
    "duration": 8,
    "start_time": "2021-07-07T16:52:47.182Z"
   },
   {
    "duration": 27,
    "start_time": "2021-07-07T16:53:20.391Z"
   },
   {
    "duration": 20,
    "start_time": "2021-07-07T16:53:22.022Z"
   },
   {
    "duration": 23,
    "start_time": "2021-07-07T16:53:23.690Z"
   },
   {
    "duration": 8,
    "start_time": "2021-07-07T16:53:24.261Z"
   },
   {
    "duration": 4,
    "start_time": "2021-07-07T16:53:38.733Z"
   },
   {
    "duration": 7,
    "start_time": "2021-07-07T16:53:40.445Z"
   },
   {
    "duration": 11,
    "start_time": "2021-07-07T16:53:41.348Z"
   },
   {
    "duration": 13,
    "start_time": "2021-07-07T16:53:45.250Z"
   },
   {
    "duration": 12,
    "start_time": "2021-07-07T16:53:45.467Z"
   },
   {
    "duration": 4,
    "start_time": "2021-07-07T16:55:32.704Z"
   },
   {
    "duration": 12,
    "start_time": "2021-07-07T16:55:49.012Z"
   },
   {
    "duration": 18,
    "start_time": "2021-07-07T16:55:49.547Z"
   },
   {
    "duration": 611,
    "start_time": "2021-07-07T16:58:35.156Z"
   },
   {
    "duration": 200,
    "start_time": "2021-07-07T16:58:35.770Z"
   },
   {
    "duration": 86,
    "start_time": "2021-07-07T16:58:35.972Z"
   },
   {
    "duration": 3,
    "start_time": "2021-07-07T16:58:36.060Z"
   },
   {
    "duration": 27,
    "start_time": "2021-07-07T16:58:36.065Z"
   },
   {
    "duration": 8,
    "start_time": "2021-07-07T16:58:36.094Z"
   },
   {
    "duration": 17,
    "start_time": "2021-07-07T16:58:36.103Z"
   },
   {
    "duration": 5,
    "start_time": "2021-07-07T16:58:36.123Z"
   },
   {
    "duration": 11,
    "start_time": "2021-07-07T16:58:36.130Z"
   },
   {
    "duration": 7,
    "start_time": "2021-07-07T16:58:36.143Z"
   },
   {
    "duration": 37,
    "start_time": "2021-07-07T16:58:36.152Z"
   },
   {
    "duration": 27,
    "start_time": "2021-07-07T16:58:36.191Z"
   },
   {
    "duration": 19,
    "start_time": "2021-07-07T16:58:36.219Z"
   },
   {
    "duration": 49,
    "start_time": "2021-07-07T16:58:36.240Z"
   },
   {
    "duration": 6,
    "start_time": "2021-07-07T16:58:36.291Z"
   },
   {
    "duration": 3,
    "start_time": "2021-07-07T16:58:36.299Z"
   },
   {
    "duration": 13,
    "start_time": "2021-07-07T16:58:36.304Z"
   },
   {
    "duration": 10,
    "start_time": "2021-07-07T16:58:36.319Z"
   },
   {
    "duration": 10,
    "start_time": "2021-07-07T16:58:36.331Z"
   },
   {
    "duration": 44,
    "start_time": "2021-07-07T16:58:36.343Z"
   },
   {
    "duration": 4,
    "start_time": "2021-07-07T16:58:36.388Z"
   },
   {
    "duration": 13,
    "start_time": "2021-07-07T16:58:36.394Z"
   },
   {
    "duration": 16,
    "start_time": "2021-07-07T16:58:36.410Z"
   },
   {
    "duration": 8,
    "start_time": "2021-07-07T17:02:31.629Z"
   },
   {
    "duration": 8,
    "start_time": "2021-07-07T17:02:34.308Z"
   },
   {
    "duration": 6,
    "start_time": "2021-07-07T17:05:13.483Z"
   },
   {
    "duration": 17,
    "start_time": "2021-07-07T17:05:20.606Z"
   },
   {
    "duration": 7,
    "start_time": "2021-07-07T17:05:34.638Z"
   },
   {
    "duration": 3,
    "start_time": "2021-07-07T17:06:31.883Z"
   },
   {
    "duration": 570,
    "start_time": "2021-07-07T17:06:37.165Z"
   },
   {
    "duration": 174,
    "start_time": "2021-07-07T17:06:37.737Z"
   },
   {
    "duration": 47,
    "start_time": "2021-07-07T17:06:37.913Z"
   },
   {
    "duration": 3,
    "start_time": "2021-07-07T17:06:37.962Z"
   },
   {
    "duration": 27,
    "start_time": "2021-07-07T17:06:37.967Z"
   },
   {
    "duration": 7,
    "start_time": "2021-07-07T17:06:37.996Z"
   },
   {
    "duration": 16,
    "start_time": "2021-07-07T17:06:38.005Z"
   },
   {
    "duration": 6,
    "start_time": "2021-07-07T17:06:38.024Z"
   },
   {
    "duration": 12,
    "start_time": "2021-07-07T17:06:38.031Z"
   },
   {
    "duration": 41,
    "start_time": "2021-07-07T17:06:38.045Z"
   },
   {
    "duration": 8,
    "start_time": "2021-07-07T17:06:38.088Z"
   },
   {
    "duration": 26,
    "start_time": "2021-07-07T17:06:38.098Z"
   },
   {
    "duration": 17,
    "start_time": "2021-07-07T17:06:38.126Z"
   },
   {
    "duration": 43,
    "start_time": "2021-07-07T17:06:38.144Z"
   },
   {
    "duration": 6,
    "start_time": "2021-07-07T17:06:38.188Z"
   },
   {
    "duration": 5,
    "start_time": "2021-07-07T17:06:38.195Z"
   },
   {
    "duration": 9,
    "start_time": "2021-07-07T17:06:38.201Z"
   },
   {
    "duration": 12,
    "start_time": "2021-07-07T17:06:38.212Z"
   },
   {
    "duration": 11,
    "start_time": "2021-07-07T17:06:38.226Z"
   },
   {
    "duration": 47,
    "start_time": "2021-07-07T17:06:38.239Z"
   },
   {
    "duration": 4,
    "start_time": "2021-07-07T17:06:38.288Z"
   },
   {
    "duration": 13,
    "start_time": "2021-07-07T17:06:38.293Z"
   },
   {
    "duration": 5,
    "start_time": "2021-07-07T17:06:38.309Z"
   },
   {
    "duration": 18,
    "start_time": "2021-07-07T17:06:38.325Z"
   },
   {
    "duration": 20,
    "start_time": "2021-07-07T17:07:02.805Z"
   },
   {
    "duration": 19,
    "start_time": "2021-07-07T17:07:08.527Z"
   },
   {
    "duration": 19,
    "start_time": "2021-07-07T17:07:12.758Z"
   },
   {
    "duration": 22,
    "start_time": "2021-07-07T17:07:17.497Z"
   },
   {
    "duration": 19,
    "start_time": "2021-07-07T17:07:19.645Z"
   },
   {
    "duration": 10,
    "start_time": "2021-07-07T17:07:34.239Z"
   },
   {
    "duration": 17,
    "start_time": "2021-07-07T17:07:54.144Z"
   },
   {
    "duration": 14,
    "start_time": "2021-07-07T17:08:14.357Z"
   },
   {
    "duration": 616,
    "start_time": "2021-07-07T17:08:45.254Z"
   },
   {
    "duration": 178,
    "start_time": "2021-07-07T17:08:45.872Z"
   },
   {
    "duration": 60,
    "start_time": "2021-07-07T17:08:46.054Z"
   },
   {
    "duration": 3,
    "start_time": "2021-07-07T17:08:46.116Z"
   },
   {
    "duration": 26,
    "start_time": "2021-07-07T17:08:46.121Z"
   },
   {
    "duration": 7,
    "start_time": "2021-07-07T17:08:46.149Z"
   },
   {
    "duration": 17,
    "start_time": "2021-07-07T17:08:46.158Z"
   },
   {
    "duration": 14,
    "start_time": "2021-07-07T17:08:46.176Z"
   },
   {
    "duration": 17,
    "start_time": "2021-07-07T17:08:46.193Z"
   },
   {
    "duration": 9,
    "start_time": "2021-07-07T17:08:46.211Z"
   },
   {
    "duration": 21,
    "start_time": "2021-07-07T17:08:46.221Z"
   },
   {
    "duration": 49,
    "start_time": "2021-07-07T17:08:46.244Z"
   },
   {
    "duration": 24,
    "start_time": "2021-07-07T17:08:46.295Z"
   },
   {
    "duration": 22,
    "start_time": "2021-07-07T17:08:46.321Z"
   },
   {
    "duration": 6,
    "start_time": "2021-07-07T17:08:46.345Z"
   },
   {
    "duration": 5,
    "start_time": "2021-07-07T17:08:46.353Z"
   },
   {
    "duration": 13,
    "start_time": "2021-07-07T17:08:46.386Z"
   },
   {
    "duration": 12,
    "start_time": "2021-07-07T17:08:46.402Z"
   },
   {
    "duration": 10,
    "start_time": "2021-07-07T17:08:46.415Z"
   },
   {
    "duration": 7,
    "start_time": "2021-07-07T17:08:46.427Z"
   },
   {
    "duration": 8,
    "start_time": "2021-07-07T17:08:46.435Z"
   },
   {
    "duration": 68,
    "start_time": "2021-07-07T17:08:46.446Z"
   },
   {
    "duration": 13,
    "start_time": "2021-07-07T17:08:46.516Z"
   },
   {
    "duration": 78,
    "start_time": "2021-07-07T17:08:46.530Z"
   },
   {
    "duration": 40,
    "start_time": "2021-07-07T17:09:08.185Z"
   },
   {
    "duration": 16,
    "start_time": "2021-07-07T17:09:19.324Z"
   },
   {
    "duration": 21,
    "start_time": "2021-07-07T17:09:23.290Z"
   },
   {
    "duration": 13,
    "start_time": "2021-07-07T17:09:54.812Z"
   },
   {
    "duration": 13,
    "start_time": "2021-07-07T17:10:02.039Z"
   },
   {
    "duration": 10,
    "start_time": "2021-07-07T17:10:29.632Z"
   },
   {
    "duration": 13,
    "start_time": "2021-07-07T17:10:52.372Z"
   },
   {
    "duration": 13,
    "start_time": "2021-07-07T17:11:17.270Z"
   },
   {
    "duration": 13,
    "start_time": "2021-07-07T17:14:59.284Z"
   },
   {
    "duration": 547,
    "start_time": "2021-07-07T17:18:52.403Z"
   },
   {
    "duration": 163,
    "start_time": "2021-07-07T17:18:52.952Z"
   },
   {
    "duration": 44,
    "start_time": "2021-07-07T17:18:53.117Z"
   },
   {
    "duration": 3,
    "start_time": "2021-07-07T17:18:53.162Z"
   },
   {
    "duration": 26,
    "start_time": "2021-07-07T17:18:53.167Z"
   },
   {
    "duration": 6,
    "start_time": "2021-07-07T17:18:53.195Z"
   },
   {
    "duration": 15,
    "start_time": "2021-07-07T17:18:53.203Z"
   },
   {
    "duration": 5,
    "start_time": "2021-07-07T17:18:53.220Z"
   },
   {
    "duration": 11,
    "start_time": "2021-07-07T17:18:53.228Z"
   },
   {
    "duration": 9,
    "start_time": "2021-07-07T17:18:53.241Z"
   },
   {
    "duration": 41,
    "start_time": "2021-07-07T17:18:53.252Z"
   },
   {
    "duration": 33,
    "start_time": "2021-07-07T17:18:53.295Z"
   },
   {
    "duration": 19,
    "start_time": "2021-07-07T17:18:53.330Z"
   },
   {
    "duration": 49,
    "start_time": "2021-07-07T17:18:53.350Z"
   },
   {
    "duration": 5,
    "start_time": "2021-07-07T17:18:53.401Z"
   },
   {
    "duration": 5,
    "start_time": "2021-07-07T17:18:53.408Z"
   },
   {
    "duration": 11,
    "start_time": "2021-07-07T17:18:53.414Z"
   },
   {
    "duration": 9,
    "start_time": "2021-07-07T17:18:53.427Z"
   },
   {
    "duration": 10,
    "start_time": "2021-07-07T17:18:53.437Z"
   },
   {
    "duration": 39,
    "start_time": "2021-07-07T17:18:53.448Z"
   },
   {
    "duration": 26,
    "start_time": "2021-07-07T17:18:55.799Z"
   },
   {
    "duration": 598,
    "start_time": "2021-07-07T17:20:17.862Z"
   },
   {
    "duration": 161,
    "start_time": "2021-07-07T17:20:18.462Z"
   },
   {
    "duration": 45,
    "start_time": "2021-07-07T17:20:18.626Z"
   },
   {
    "duration": 4,
    "start_time": "2021-07-07T17:20:18.673Z"
   },
   {
    "duration": 38,
    "start_time": "2021-07-07T17:20:26.877Z"
   },
   {
    "duration": 7,
    "start_time": "2021-07-07T17:20:37.405Z"
   },
   {
    "duration": 19,
    "start_time": "2021-07-07T17:20:51.534Z"
   },
   {
    "duration": 5,
    "start_time": "2021-07-07T17:20:57.228Z"
   },
   {
    "duration": 7,
    "start_time": "2021-07-07T17:21:08.235Z"
   },
   {
    "duration": 19,
    "start_time": "2021-07-07T17:21:42.158Z"
   },
   {
    "duration": 14,
    "start_time": "2021-07-07T17:21:50.225Z"
   },
   {
    "duration": 22,
    "start_time": "2021-07-07T17:22:54.104Z"
   },
   {
    "duration": 5,
    "start_time": "2021-07-07T17:22:56.371Z"
   },
   {
    "duration": 14,
    "start_time": "2021-07-07T17:22:58.316Z"
   },
   {
    "duration": 5,
    "start_time": "2021-07-07T17:22:58.493Z"
   },
   {
    "duration": 35,
    "start_time": "2021-07-07T17:22:59.666Z"
   },
   {
    "duration": 6,
    "start_time": "2021-07-07T17:23:02.410Z"
   },
   {
    "duration": 611,
    "start_time": "2021-07-07T17:24:59.664Z"
   },
   {
    "duration": 178,
    "start_time": "2021-07-07T17:25:01.945Z"
   },
   {
    "duration": 47,
    "start_time": "2021-07-07T17:25:02.125Z"
   },
   {
    "duration": 2,
    "start_time": "2021-07-07T17:25:07.903Z"
   },
   {
    "duration": 254,
    "start_time": "2021-07-07T17:25:08.232Z"
   },
   {
    "duration": 182,
    "start_time": "2021-07-07T17:25:08.671Z"
   },
   {
    "duration": 6,
    "start_time": "2021-07-07T17:25:13.104Z"
   },
   {
    "duration": 36,
    "start_time": "2021-07-07T17:25:13.662Z"
   },
   {
    "duration": 7,
    "start_time": "2021-07-07T17:25:14.528Z"
   },
   {
    "duration": 24,
    "start_time": "2021-07-07T17:25:27.982Z"
   },
   {
    "duration": 3,
    "start_time": "2021-07-07T17:25:48.982Z"
   },
   {
    "duration": 165,
    "start_time": "2021-07-07T17:25:48.987Z"
   },
   {
    "duration": 50,
    "start_time": "2021-07-07T17:25:49.154Z"
   },
   {
    "duration": 4,
    "start_time": "2021-07-07T17:25:49.206Z"
   },
   {
    "duration": 26,
    "start_time": "2021-07-07T17:25:49.212Z"
   },
   {
    "duration": 7,
    "start_time": "2021-07-07T17:25:49.240Z"
   },
   {
    "duration": 16,
    "start_time": "2021-07-07T17:25:49.249Z"
   },
   {
    "duration": 22,
    "start_time": "2021-07-07T17:25:49.266Z"
   },
   {
    "duration": 16,
    "start_time": "2021-07-07T17:25:49.291Z"
   },
   {
    "duration": 9,
    "start_time": "2021-07-07T17:25:49.309Z"
   },
   {
    "duration": 7,
    "start_time": "2021-07-07T17:25:49.319Z"
   },
   {
    "duration": 28,
    "start_time": "2021-07-07T17:25:49.328Z"
   },
   {
    "duration": 44,
    "start_time": "2021-07-07T17:25:49.357Z"
   },
   {
    "duration": 22,
    "start_time": "2021-07-07T17:25:49.403Z"
   },
   {
    "duration": 7,
    "start_time": "2021-07-07T17:25:49.427Z"
   },
   {
    "duration": 3,
    "start_time": "2021-07-07T17:25:49.436Z"
   },
   {
    "duration": 44,
    "start_time": "2021-07-07T17:25:49.441Z"
   },
   {
    "duration": 12,
    "start_time": "2021-07-07T17:25:49.488Z"
   },
   {
    "duration": 13,
    "start_time": "2021-07-07T17:25:49.502Z"
   },
   {
    "duration": 10,
    "start_time": "2021-07-07T17:25:49.516Z"
   },
   {
    "duration": 62,
    "start_time": "2021-07-07T17:25:49.527Z"
   },
   {
    "duration": 26,
    "start_time": "2021-07-07T17:26:51.809Z"
   },
   {
    "duration": 26,
    "start_time": "2021-07-07T17:26:55.759Z"
   },
   {
    "duration": 26,
    "start_time": "2021-07-07T17:27:04.501Z"
   },
   {
    "duration": 25,
    "start_time": "2021-07-07T17:28:24.859Z"
   },
   {
    "duration": 21,
    "start_time": "2021-07-07T17:28:55.250Z"
   },
   {
    "duration": 21,
    "start_time": "2021-07-07T17:28:58.885Z"
   },
   {
    "duration": 7,
    "start_time": "2021-07-07T17:45:40.972Z"
   },
   {
    "duration": 13,
    "start_time": "2021-07-07T17:45:42.529Z"
   },
   {
    "duration": 27,
    "start_time": "2021-07-07T17:45:51.026Z"
   },
   {
    "duration": 518,
    "start_time": "2021-07-07T17:46:15.532Z"
   },
   {
    "duration": 235,
    "start_time": "2021-07-07T17:46:16.053Z"
   },
   {
    "duration": 80,
    "start_time": "2021-07-07T17:46:16.292Z"
   },
   {
    "duration": 5,
    "start_time": "2021-07-07T17:46:16.373Z"
   },
   {
    "duration": 26,
    "start_time": "2021-07-07T17:46:16.380Z"
   },
   {
    "duration": 7,
    "start_time": "2021-07-07T17:46:16.408Z"
   },
   {
    "duration": 16,
    "start_time": "2021-07-07T17:46:16.418Z"
   },
   {
    "duration": 5,
    "start_time": "2021-07-07T17:46:16.436Z"
   },
   {
    "duration": 13,
    "start_time": "2021-07-07T17:46:16.442Z"
   },
   {
    "duration": 35,
    "start_time": "2021-07-07T17:46:16.456Z"
   },
   {
    "duration": 8,
    "start_time": "2021-07-07T17:46:16.493Z"
   },
   {
    "duration": 28,
    "start_time": "2021-07-07T17:46:16.502Z"
   },
   {
    "duration": 17,
    "start_time": "2021-07-07T17:46:16.532Z"
   },
   {
    "duration": 44,
    "start_time": "2021-07-07T17:46:16.551Z"
   },
   {
    "duration": 6,
    "start_time": "2021-07-07T17:46:16.597Z"
   },
   {
    "duration": 4,
    "start_time": "2021-07-07T17:46:16.605Z"
   },
   {
    "duration": 9,
    "start_time": "2021-07-07T17:46:16.610Z"
   },
   {
    "duration": 9,
    "start_time": "2021-07-07T17:46:16.621Z"
   },
   {
    "duration": 10,
    "start_time": "2021-07-07T17:46:16.632Z"
   },
   {
    "duration": 43,
    "start_time": "2021-07-07T17:46:16.644Z"
   },
   {
    "duration": 26,
    "start_time": "2021-07-07T17:46:16.689Z"
   },
   {
    "duration": 19,
    "start_time": "2021-07-07T17:46:16.718Z"
   },
   {
    "duration": 8,
    "start_time": "2021-07-07T17:46:16.738Z"
   },
   {
    "duration": 43,
    "start_time": "2021-07-07T17:46:16.747Z"
   },
   {
    "duration": 19,
    "start_time": "2021-07-07T17:46:16.791Z"
   },
   {
    "duration": 9,
    "start_time": "2021-07-07T17:46:16.812Z"
   },
   {
    "duration": 60,
    "start_time": "2021-07-07T17:46:16.822Z"
   },
   {
    "duration": -8,
    "start_time": "2021-07-07T17:46:16.892Z"
   },
   {
    "duration": 12,
    "start_time": "2021-07-07T17:48:47.707Z"
   },
   {
    "duration": 553,
    "start_time": "2021-07-07T18:10:09.350Z"
   },
   {
    "duration": 230,
    "start_time": "2021-07-07T18:10:09.905Z"
   },
   {
    "duration": 97,
    "start_time": "2021-07-07T18:10:10.137Z"
   },
   {
    "duration": 5,
    "start_time": "2021-07-07T18:10:10.236Z"
   },
   {
    "duration": 29,
    "start_time": "2021-07-07T18:10:10.242Z"
   },
   {
    "duration": 7,
    "start_time": "2021-07-07T18:10:10.272Z"
   },
   {
    "duration": 15,
    "start_time": "2021-07-07T18:10:10.281Z"
   },
   {
    "duration": 4,
    "start_time": "2021-07-07T18:10:10.299Z"
   },
   {
    "duration": 14,
    "start_time": "2021-07-07T18:10:10.305Z"
   },
   {
    "duration": 8,
    "start_time": "2021-07-07T18:10:10.321Z"
   },
   {
    "duration": 8,
    "start_time": "2021-07-07T18:10:10.331Z"
   },
   {
    "duration": 56,
    "start_time": "2021-07-07T18:10:10.341Z"
   },
   {
    "duration": 19,
    "start_time": "2021-07-07T18:10:10.399Z"
   },
   {
    "duration": 23,
    "start_time": "2021-07-07T18:10:10.419Z"
   },
   {
    "duration": 6,
    "start_time": "2021-07-07T18:10:10.444Z"
   },
   {
    "duration": 9,
    "start_time": "2021-07-07T18:10:10.451Z"
   },
   {
    "duration": 30,
    "start_time": "2021-07-07T18:10:10.462Z"
   },
   {
    "duration": 9,
    "start_time": "2021-07-07T18:10:10.494Z"
   },
   {
    "duration": 14,
    "start_time": "2021-07-07T18:10:10.505Z"
   },
   {
    "duration": 7,
    "start_time": "2021-07-07T18:10:10.521Z"
   },
   {
    "duration": 26,
    "start_time": "2021-07-07T18:10:10.530Z"
   },
   {
    "duration": 44,
    "start_time": "2021-07-07T18:10:10.558Z"
   },
   {
    "duration": 7,
    "start_time": "2021-07-07T18:10:10.605Z"
   },
   {
    "duration": 11,
    "start_time": "2021-07-07T18:10:10.614Z"
   },
   {
    "duration": 19,
    "start_time": "2021-07-07T18:10:10.626Z"
   },
   {
    "duration": 44,
    "start_time": "2021-07-07T18:10:10.646Z"
   },
   {
    "duration": 516,
    "start_time": "2021-07-07T18:14:00.826Z"
   },
   {
    "duration": 230,
    "start_time": "2021-07-07T18:14:01.344Z"
   },
   {
    "duration": 105,
    "start_time": "2021-07-07T18:14:01.576Z"
   },
   {
    "duration": 5,
    "start_time": "2021-07-07T18:14:01.683Z"
   },
   {
    "duration": 46,
    "start_time": "2021-07-07T18:14:01.690Z"
   },
   {
    "duration": 7,
    "start_time": "2021-07-07T18:14:01.738Z"
   },
   {
    "duration": 20,
    "start_time": "2021-07-07T18:14:01.747Z"
   },
   {
    "duration": 16,
    "start_time": "2021-07-07T18:14:01.769Z"
   },
   {
    "duration": 14,
    "start_time": "2021-07-07T18:14:01.787Z"
   },
   {
    "duration": 15,
    "start_time": "2021-07-07T18:14:01.803Z"
   },
   {
    "duration": 12,
    "start_time": "2021-07-07T18:14:01.820Z"
   },
   {
    "duration": 35,
    "start_time": "2021-07-07T18:14:01.833Z"
   },
   {
    "duration": 31,
    "start_time": "2021-07-07T18:14:01.869Z"
   },
   {
    "duration": 37,
    "start_time": "2021-07-07T18:14:01.902Z"
   },
   {
    "duration": 8,
    "start_time": "2021-07-07T18:14:01.942Z"
   },
   {
    "duration": 16,
    "start_time": "2021-07-07T18:14:01.952Z"
   },
   {
    "duration": 13,
    "start_time": "2021-07-07T18:14:01.970Z"
   },
   {
    "duration": 32,
    "start_time": "2021-07-07T18:14:01.985Z"
   },
   {
    "duration": 11,
    "start_time": "2021-07-07T18:14:02.019Z"
   },
   {
    "duration": 22,
    "start_time": "2021-07-07T18:14:02.031Z"
   },
   {
    "duration": 27,
    "start_time": "2021-07-07T18:14:02.055Z"
   },
   {
    "duration": 18,
    "start_time": "2021-07-07T18:14:02.084Z"
   },
   {
    "duration": 18,
    "start_time": "2021-07-07T18:14:02.106Z"
   },
   {
    "duration": 11,
    "start_time": "2021-07-07T18:14:02.126Z"
   },
   {
    "duration": 21,
    "start_time": "2021-07-07T18:14:02.138Z"
   },
   {
    "duration": 32,
    "start_time": "2021-07-07T18:14:02.161Z"
   },
   {
    "duration": 28,
    "start_time": "2021-07-07T18:14:44.295Z"
   },
   {
    "duration": 6,
    "start_time": "2021-07-07T18:15:05.834Z"
   },
   {
    "duration": 511,
    "start_time": "2021-07-07T18:15:41.541Z"
   },
   {
    "duration": 183,
    "start_time": "2021-07-07T18:15:42.054Z"
   },
   {
    "duration": 50,
    "start_time": "2021-07-07T18:15:42.239Z"
   },
   {
    "duration": 5,
    "start_time": "2021-07-07T18:15:42.291Z"
   },
   {
    "duration": 48,
    "start_time": "2021-07-07T18:15:42.297Z"
   },
   {
    "duration": 8,
    "start_time": "2021-07-07T18:15:42.346Z"
   },
   {
    "duration": 17,
    "start_time": "2021-07-07T18:15:42.356Z"
   },
   {
    "duration": 15,
    "start_time": "2021-07-07T18:15:42.375Z"
   },
   {
    "duration": 12,
    "start_time": "2021-07-07T18:15:42.392Z"
   },
   {
    "duration": 7,
    "start_time": "2021-07-07T18:15:42.406Z"
   },
   {
    "duration": 7,
    "start_time": "2021-07-07T18:15:42.415Z"
   },
   {
    "duration": 29,
    "start_time": "2021-07-07T18:15:42.423Z"
   },
   {
    "duration": 43,
    "start_time": "2021-07-07T18:15:42.453Z"
   },
   {
    "duration": 18,
    "start_time": "2021-07-07T18:15:42.497Z"
   },
   {
    "duration": 6,
    "start_time": "2021-07-07T18:15:42.516Z"
   },
   {
    "duration": 3,
    "start_time": "2021-07-07T18:15:42.523Z"
   },
   {
    "duration": 18,
    "start_time": "2021-07-07T18:15:42.528Z"
   },
   {
    "duration": 10,
    "start_time": "2021-07-07T18:15:42.547Z"
   },
   {
    "duration": 36,
    "start_time": "2021-07-07T18:15:42.559Z"
   },
   {
    "duration": 8,
    "start_time": "2021-07-07T18:15:42.597Z"
   },
   {
    "duration": 28,
    "start_time": "2021-07-07T18:15:42.606Z"
   },
   {
    "duration": 52,
    "start_time": "2021-07-07T18:15:42.635Z"
   },
   {
    "duration": 7,
    "start_time": "2021-07-07T18:15:42.690Z"
   },
   {
    "duration": 10,
    "start_time": "2021-07-07T18:15:42.699Z"
   },
   {
    "duration": 19,
    "start_time": "2021-07-07T18:15:42.711Z"
   },
   {
    "duration": 9,
    "start_time": "2021-07-07T18:15:42.732Z"
   },
   {
    "duration": 5,
    "start_time": "2021-07-07T18:15:42.743Z"
   },
   {
    "duration": 1450,
    "start_time": "2021-07-07T18:15:51.984Z"
   },
   {
    "duration": 161,
    "start_time": "2021-07-07T18:15:53.435Z"
   },
   {
    "duration": 124,
    "start_time": "2021-07-07T18:15:53.598Z"
   },
   {
    "duration": 5,
    "start_time": "2021-07-07T18:15:53.724Z"
   },
   {
    "duration": 34,
    "start_time": "2021-07-07T18:15:53.730Z"
   },
   {
    "duration": 7,
    "start_time": "2021-07-07T18:15:53.765Z"
   },
   {
    "duration": 15,
    "start_time": "2021-07-07T18:15:53.773Z"
   },
   {
    "duration": 5,
    "start_time": "2021-07-07T18:15:53.791Z"
   },
   {
    "duration": 19,
    "start_time": "2021-07-07T18:15:53.798Z"
   },
   {
    "duration": 9,
    "start_time": "2021-07-07T18:15:53.818Z"
   },
   {
    "duration": 19,
    "start_time": "2021-07-07T18:15:53.828Z"
   },
   {
    "duration": 27,
    "start_time": "2021-07-07T18:15:53.848Z"
   },
   {
    "duration": 16,
    "start_time": "2021-07-07T18:15:53.884Z"
   },
   {
    "duration": 29,
    "start_time": "2021-07-07T18:15:53.901Z"
   },
   {
    "duration": 5,
    "start_time": "2021-07-07T18:15:53.932Z"
   },
   {
    "duration": 15,
    "start_time": "2021-07-07T18:15:53.939Z"
   },
   {
    "duration": 13,
    "start_time": "2021-07-07T18:15:53.956Z"
   },
   {
    "duration": 20,
    "start_time": "2021-07-07T18:15:53.971Z"
   },
   {
    "duration": 14,
    "start_time": "2021-07-07T18:15:53.992Z"
   },
   {
    "duration": 9,
    "start_time": "2021-07-07T18:15:54.009Z"
   },
   {
    "duration": 28,
    "start_time": "2021-07-07T18:15:54.020Z"
   },
   {
    "duration": 50,
    "start_time": "2021-07-07T18:15:54.051Z"
   },
   {
    "duration": 8,
    "start_time": "2021-07-07T18:15:54.105Z"
   },
   {
    "duration": 11,
    "start_time": "2021-07-07T18:15:54.115Z"
   },
   {
    "duration": 20,
    "start_time": "2021-07-07T18:15:54.128Z"
   },
   {
    "duration": 13,
    "start_time": "2021-07-07T18:15:54.184Z"
   },
   {
    "duration": 7,
    "start_time": "2021-07-07T18:15:54.199Z"
   },
   {
    "duration": 7,
    "start_time": "2021-07-07T18:17:08.042Z"
   },
   {
    "duration": 8,
    "start_time": "2021-07-07T18:17:21.008Z"
   },
   {
    "duration": 7,
    "start_time": "2021-07-07T18:17:29.003Z"
   },
   {
    "duration": 8,
    "start_time": "2021-07-07T18:17:32.492Z"
   },
   {
    "duration": 9,
    "start_time": "2021-07-07T18:17:41.758Z"
   },
   {
    "duration": 255,
    "start_time": "2021-07-07T18:20:20.897Z"
   },
   {
    "duration": 173,
    "start_time": "2021-07-07T18:20:26.636Z"
   },
   {
    "duration": 7,
    "start_time": "2021-07-07T18:21:47.164Z"
   },
   {
    "duration": 254,
    "start_time": "2021-07-07T18:23:08.703Z"
   },
   {
    "duration": 21,
    "start_time": "2021-07-07T18:23:22.506Z"
   },
   {
    "duration": 315,
    "start_time": "2021-07-07T18:25:54.801Z"
   },
   {
    "duration": 34,
    "start_time": "2021-07-07T18:26:51.817Z"
   },
   {
    "duration": 327,
    "start_time": "2021-07-07T18:26:56.147Z"
   },
   {
    "duration": 342,
    "start_time": "2021-07-07T18:27:15.887Z"
   },
   {
    "duration": 302,
    "start_time": "2021-07-07T18:28:18.569Z"
   },
   {
    "duration": 226,
    "start_time": "2021-07-07T18:29:20.879Z"
   },
   {
    "duration": 207,
    "start_time": "2021-07-07T18:29:58.114Z"
   },
   {
    "duration": 140,
    "start_time": "2021-07-07T18:32:04.372Z"
   },
   {
    "duration": 158,
    "start_time": "2021-07-07T18:32:32.508Z"
   },
   {
    "duration": 145,
    "start_time": "2021-07-07T18:32:41.365Z"
   },
   {
    "duration": 132,
    "start_time": "2021-07-07T18:32:45.199Z"
   },
   {
    "duration": 11,
    "start_time": "2021-07-07T18:35:24.679Z"
   },
   {
    "duration": 268,
    "start_time": "2021-07-07T18:36:16.145Z"
   },
   {
    "duration": 227,
    "start_time": "2021-07-07T18:37:04.918Z"
   },
   {
    "duration": 3,
    "start_time": "2021-07-07T18:37:33.012Z"
   },
   {
    "duration": 671,
    "start_time": "2021-07-07T18:37:38.295Z"
   },
   {
    "duration": 54,
    "start_time": "2021-07-07T18:37:53.406Z"
   },
   {
    "duration": 631,
    "start_time": "2021-07-07T18:37:56.463Z"
   },
   {
    "duration": 19,
    "start_time": "2021-07-07T18:39:40.535Z"
   },
   {
    "duration": 20,
    "start_time": "2021-07-07T18:40:12.236Z"
   },
   {
    "duration": 633,
    "start_time": "2021-07-07T18:42:00.398Z"
   },
   {
    "duration": 218,
    "start_time": "2021-07-07T18:42:01.033Z"
   },
   {
    "duration": 49,
    "start_time": "2021-07-07T18:42:01.253Z"
   },
   {
    "duration": 5,
    "start_time": "2021-07-07T18:42:01.303Z"
   },
   {
    "duration": 27,
    "start_time": "2021-07-07T18:42:01.310Z"
   },
   {
    "duration": 8,
    "start_time": "2021-07-07T18:42:01.339Z"
   },
   {
    "duration": 20,
    "start_time": "2021-07-07T18:42:01.348Z"
   },
   {
    "duration": 6,
    "start_time": "2021-07-07T18:42:01.386Z"
   },
   {
    "duration": 16,
    "start_time": "2021-07-07T18:42:01.394Z"
   },
   {
    "duration": 9,
    "start_time": "2021-07-07T18:42:01.411Z"
   },
   {
    "duration": 11,
    "start_time": "2021-07-07T18:42:01.421Z"
   },
   {
    "duration": 31,
    "start_time": "2021-07-07T18:42:01.434Z"
   },
   {
    "duration": 18,
    "start_time": "2021-07-07T18:42:01.485Z"
   },
   {
    "duration": 23,
    "start_time": "2021-07-07T18:42:01.505Z"
   },
   {
    "duration": 6,
    "start_time": "2021-07-07T18:42:01.530Z"
   },
   {
    "duration": 10,
    "start_time": "2021-07-07T18:42:01.538Z"
   },
   {
    "duration": 13,
    "start_time": "2021-07-07T18:42:01.550Z"
   },
   {
    "duration": 24,
    "start_time": "2021-07-07T18:42:01.564Z"
   },
   {
    "duration": 20,
    "start_time": "2021-07-07T18:42:01.590Z"
   },
   {
    "duration": 8,
    "start_time": "2021-07-07T18:42:01.611Z"
   },
   {
    "duration": 31,
    "start_time": "2021-07-07T18:42:01.620Z"
   },
   {
    "duration": 39,
    "start_time": "2021-07-07T18:42:01.653Z"
   },
   {
    "duration": 8,
    "start_time": "2021-07-07T18:42:01.696Z"
   },
   {
    "duration": 13,
    "start_time": "2021-07-07T18:42:01.705Z"
   },
   {
    "duration": 20,
    "start_time": "2021-07-07T18:42:01.720Z"
   },
   {
    "duration": 12,
    "start_time": "2021-07-07T18:42:01.741Z"
   },
   {
    "duration": 35,
    "start_time": "2021-07-07T18:42:01.755Z"
   },
   {
    "duration": 14,
    "start_time": "2021-07-07T18:42:01.792Z"
   },
   {
    "duration": 188,
    "start_time": "2021-07-07T18:42:01.808Z"
   },
   {
    "duration": 19,
    "start_time": "2021-07-07T18:42:01.998Z"
   },
   {
    "duration": 175,
    "start_time": "2021-07-07T18:42:02.019Z"
   },
   {
    "duration": 134,
    "start_time": "2021-07-07T18:42:02.196Z"
   },
   {
    "duration": 10,
    "start_time": "2021-07-07T18:42:02.331Z"
   },
   {
    "duration": 19,
    "start_time": "2021-07-07T18:42:02.343Z"
   },
   {
    "duration": 628,
    "start_time": "2021-07-07T18:46:30.701Z"
   },
   {
    "duration": 183,
    "start_time": "2021-07-07T18:46:31.331Z"
   },
   {
    "duration": 48,
    "start_time": "2021-07-07T18:46:31.516Z"
   },
   {
    "duration": 5,
    "start_time": "2021-07-07T18:46:31.566Z"
   },
   {
    "duration": 28,
    "start_time": "2021-07-07T18:46:31.572Z"
   },
   {
    "duration": 8,
    "start_time": "2021-07-07T18:46:31.602Z"
   },
   {
    "duration": 19,
    "start_time": "2021-07-07T18:46:31.611Z"
   },
   {
    "duration": 6,
    "start_time": "2021-07-07T18:46:31.633Z"
   },
   {
    "duration": 17,
    "start_time": "2021-07-07T18:46:31.642Z"
   },
   {
    "duration": 10,
    "start_time": "2021-07-07T18:46:31.684Z"
   },
   {
    "duration": 9,
    "start_time": "2021-07-07T18:46:31.695Z"
   },
   {
    "duration": 28,
    "start_time": "2021-07-07T18:46:31.705Z"
   },
   {
    "duration": 18,
    "start_time": "2021-07-07T18:46:31.735Z"
   },
   {
    "duration": 48,
    "start_time": "2021-07-07T18:46:31.755Z"
   },
   {
    "duration": 6,
    "start_time": "2021-07-07T18:46:31.804Z"
   },
   {
    "duration": 4,
    "start_time": "2021-07-07T18:46:31.812Z"
   },
   {
    "duration": 9,
    "start_time": "2021-07-07T18:46:31.817Z"
   },
   {
    "duration": 10,
    "start_time": "2021-07-07T18:46:31.827Z"
   },
   {
    "duration": 12,
    "start_time": "2021-07-07T18:46:31.838Z"
   },
   {
    "duration": 39,
    "start_time": "2021-07-07T18:46:31.851Z"
   },
   {
    "duration": 24,
    "start_time": "2021-07-07T18:46:31.892Z"
   },
   {
    "duration": 15,
    "start_time": "2021-07-07T18:46:31.918Z"
   },
   {
    "duration": 7,
    "start_time": "2021-07-07T18:46:31.936Z"
   },
   {
    "duration": 8,
    "start_time": "2021-07-07T18:46:31.944Z"
   },
   {
    "duration": 19,
    "start_time": "2021-07-07T18:46:31.984Z"
   },
   {
    "duration": 10,
    "start_time": "2021-07-07T18:46:32.004Z"
   },
   {
    "duration": 5,
    "start_time": "2021-07-07T18:46:32.016Z"
   },
   {
    "duration": 9,
    "start_time": "2021-07-07T18:46:32.023Z"
   },
   {
    "duration": 199,
    "start_time": "2021-07-07T18:46:32.033Z"
   },
   {
    "duration": 19,
    "start_time": "2021-07-07T18:46:32.234Z"
   },
   {
    "duration": 159,
    "start_time": "2021-07-07T18:46:32.255Z"
   },
   {
    "duration": 134,
    "start_time": "2021-07-07T18:46:32.416Z"
   },
   {
    "duration": 10,
    "start_time": "2021-07-07T18:46:32.552Z"
   },
   {
    "duration": 34,
    "start_time": "2021-07-07T18:46:32.563Z"
   },
   {
    "duration": 1039,
    "start_time": "2021-07-08T08:41:09.419Z"
   },
   {
    "duration": 333,
    "start_time": "2021-07-08T08:41:10.459Z"
   },
   {
    "duration": 173,
    "start_time": "2021-07-08T08:41:10.794Z"
   },
   {
    "duration": 5,
    "start_time": "2021-07-08T08:41:10.968Z"
   },
   {
    "duration": 25,
    "start_time": "2021-07-08T08:41:10.975Z"
   },
   {
    "duration": 9,
    "start_time": "2021-07-08T08:41:11.002Z"
   },
   {
    "duration": 18,
    "start_time": "2021-07-08T08:41:11.013Z"
   },
   {
    "duration": 6,
    "start_time": "2021-07-08T08:41:11.033Z"
   },
   {
    "duration": 44,
    "start_time": "2021-07-08T08:41:11.042Z"
   },
   {
    "duration": 10,
    "start_time": "2021-07-08T08:41:11.088Z"
   },
   {
    "duration": 9,
    "start_time": "2021-07-08T08:41:11.100Z"
   },
   {
    "duration": 27,
    "start_time": "2021-07-08T08:41:11.111Z"
   },
   {
    "duration": 46,
    "start_time": "2021-07-08T08:41:11.140Z"
   },
   {
    "duration": 17,
    "start_time": "2021-07-08T08:41:11.187Z"
   },
   {
    "duration": 6,
    "start_time": "2021-07-08T08:41:11.206Z"
   },
   {
    "duration": 5,
    "start_time": "2021-07-08T08:41:11.213Z"
   },
   {
    "duration": 10,
    "start_time": "2021-07-08T08:41:11.219Z"
   },
   {
    "duration": 9,
    "start_time": "2021-07-08T08:41:11.230Z"
   },
   {
    "duration": 45,
    "start_time": "2021-07-08T08:41:11.241Z"
   },
   {
    "duration": 7,
    "start_time": "2021-07-08T08:41:11.287Z"
   },
   {
    "duration": 24,
    "start_time": "2021-07-08T08:41:11.296Z"
   },
   {
    "duration": 16,
    "start_time": "2021-07-08T08:41:11.322Z"
   },
   {
    "duration": 7,
    "start_time": "2021-07-08T08:41:11.341Z"
   },
   {
    "duration": 41,
    "start_time": "2021-07-08T08:41:11.349Z"
   },
   {
    "duration": 17,
    "start_time": "2021-07-08T08:41:11.391Z"
   },
   {
    "duration": 9,
    "start_time": "2021-07-08T08:41:11.410Z"
   },
   {
    "duration": 5,
    "start_time": "2021-07-08T08:41:11.421Z"
   },
   {
    "duration": 6,
    "start_time": "2021-07-08T08:41:11.428Z"
   },
   {
    "duration": 198,
    "start_time": "2021-07-08T08:41:11.435Z"
   },
   {
    "duration": 18,
    "start_time": "2021-07-08T08:41:11.635Z"
   },
   {
    "duration": 155,
    "start_time": "2021-07-08T08:41:11.655Z"
   },
   {
    "duration": 138,
    "start_time": "2021-07-08T08:41:11.811Z"
   },
   {
    "duration": 10,
    "start_time": "2021-07-08T08:41:11.950Z"
   },
   {
    "duration": 29,
    "start_time": "2021-07-08T08:41:11.961Z"
   },
   {
    "duration": 171,
    "start_time": "2021-07-08T08:47:44.522Z"
   },
   {
    "duration": 124,
    "start_time": "2021-07-08T08:47:46.872Z"
   },
   {
    "duration": 191,
    "start_time": "2021-07-08T08:47:58.148Z"
   },
   {
    "duration": 191,
    "start_time": "2021-07-08T08:48:07.412Z"
   },
   {
    "duration": 261,
    "start_time": "2021-07-08T08:48:10.385Z"
   },
   {
    "duration": 255,
    "start_time": "2021-07-08T08:48:14.494Z"
   },
   {
    "duration": 219,
    "start_time": "2021-07-08T08:48:22.752Z"
   },
   {
    "duration": 173,
    "start_time": "2021-07-08T08:49:06.395Z"
   },
   {
    "duration": 180,
    "start_time": "2021-07-08T08:49:21.011Z"
   },
   {
    "duration": 6,
    "start_time": "2021-07-08T08:50:31.697Z"
   },
   {
    "duration": 10,
    "start_time": "2021-07-08T08:50:47.394Z"
   },
   {
    "duration": 11,
    "start_time": "2021-07-08T08:53:49.332Z"
   },
   {
    "duration": 171,
    "start_time": "2021-07-08T08:54:28.408Z"
   },
   {
    "duration": 636,
    "start_time": "2021-07-08T09:02:48.385Z"
   },
   {
    "duration": 227,
    "start_time": "2021-07-08T09:02:49.023Z"
   },
   {
    "duration": 104,
    "start_time": "2021-07-08T09:02:49.252Z"
   },
   {
    "duration": 5,
    "start_time": "2021-07-08T09:02:49.358Z"
   },
   {
    "duration": 27,
    "start_time": "2021-07-08T09:02:49.365Z"
   },
   {
    "duration": 8,
    "start_time": "2021-07-08T09:02:49.394Z"
   },
   {
    "duration": 18,
    "start_time": "2021-07-08T09:02:49.404Z"
   },
   {
    "duration": 6,
    "start_time": "2021-07-08T09:02:49.424Z"
   },
   {
    "duration": 11,
    "start_time": "2021-07-08T09:02:49.433Z"
   },
   {
    "duration": 13,
    "start_time": "2021-07-08T09:02:49.485Z"
   },
   {
    "duration": 9,
    "start_time": "2021-07-08T09:02:49.500Z"
   },
   {
    "duration": 38,
    "start_time": "2021-07-08T09:02:49.511Z"
   },
   {
    "duration": 42,
    "start_time": "2021-07-08T09:02:49.551Z"
   },
   {
    "duration": 21,
    "start_time": "2021-07-08T09:02:49.594Z"
   },
   {
    "duration": 6,
    "start_time": "2021-07-08T09:02:49.616Z"
   },
   {
    "duration": 3,
    "start_time": "2021-07-08T09:02:49.623Z"
   },
   {
    "duration": 9,
    "start_time": "2021-07-08T09:02:49.628Z"
   },
   {
    "duration": 52,
    "start_time": "2021-07-08T09:02:49.638Z"
   },
   {
    "duration": 11,
    "start_time": "2021-07-08T09:02:49.692Z"
   },
   {
    "duration": 8,
    "start_time": "2021-07-08T09:02:49.704Z"
   },
   {
    "duration": 27,
    "start_time": "2021-07-08T09:02:49.713Z"
   },
   {
    "duration": 59,
    "start_time": "2021-07-08T09:02:49.741Z"
   },
   {
    "duration": 8,
    "start_time": "2021-07-08T09:02:49.803Z"
   },
   {
    "duration": 14,
    "start_time": "2021-07-08T09:02:49.813Z"
   },
   {
    "duration": 20,
    "start_time": "2021-07-08T09:02:49.829Z"
   },
   {
    "duration": 44,
    "start_time": "2021-07-08T09:02:49.851Z"
   },
   {
    "duration": 14,
    "start_time": "2021-07-08T09:02:49.896Z"
   },
   {
    "duration": 221,
    "start_time": "2021-07-08T09:02:49.912Z"
   },
   {
    "duration": 6,
    "start_time": "2021-07-08T09:02:50.134Z"
   },
   {
    "duration": 206,
    "start_time": "2021-07-08T09:02:50.142Z"
   },
   {
    "duration": 19,
    "start_time": "2021-07-08T09:02:50.350Z"
   },
   {
    "duration": 21,
    "start_time": "2021-07-08T09:02:50.370Z"
   },
   {
    "duration": 20,
    "start_time": "2021-07-08T09:02:50.393Z"
   },
   {
    "duration": 5,
    "start_time": "2021-07-08T09:02:50.414Z"
   },
   {
    "duration": 5,
    "start_time": "2021-07-08T09:03:34.173Z"
   },
   {
    "duration": 6,
    "start_time": "2021-07-08T09:04:49.062Z"
   },
   {
    "duration": 9,
    "start_time": "2021-07-08T09:04:50.118Z"
   },
   {
    "duration": 14,
    "start_time": "2021-07-08T09:04:58.512Z"
   },
   {
    "duration": 9,
    "start_time": "2021-07-08T09:05:10.988Z"
   },
   {
    "duration": 11,
    "start_time": "2021-07-08T09:05:11.743Z"
   },
   {
    "duration": 7,
    "start_time": "2021-07-08T09:05:25.677Z"
   },
   {
    "duration": 13,
    "start_time": "2021-07-08T09:05:47.189Z"
   },
   {
    "duration": 13,
    "start_time": "2021-07-08T09:05:54.755Z"
   },
   {
    "duration": 4,
    "start_time": "2021-07-08T09:06:29.189Z"
   },
   {
    "duration": 244,
    "start_time": "2021-07-08T09:06:29.195Z"
   },
   {
    "duration": 91,
    "start_time": "2021-07-08T09:06:29.441Z"
   },
   {
    "duration": 4,
    "start_time": "2021-07-08T09:06:29.534Z"
   },
   {
    "duration": 28,
    "start_time": "2021-07-08T09:06:29.540Z"
   },
   {
    "duration": 6,
    "start_time": "2021-07-08T09:06:29.570Z"
   },
   {
    "duration": 18,
    "start_time": "2021-07-08T09:06:29.578Z"
   },
   {
    "duration": 5,
    "start_time": "2021-07-08T09:06:29.597Z"
   },
   {
    "duration": 13,
    "start_time": "2021-07-08T09:06:29.605Z"
   },
   {
    "duration": 8,
    "start_time": "2021-07-08T09:06:29.620Z"
   },
   {
    "duration": 7,
    "start_time": "2021-07-08T09:06:29.630Z"
   },
   {
    "duration": 63,
    "start_time": "2021-07-08T09:06:29.639Z"
   },
   {
    "duration": 17,
    "start_time": "2021-07-08T09:06:29.704Z"
   },
   {
    "duration": 20,
    "start_time": "2021-07-08T09:06:29.723Z"
   },
   {
    "duration": 6,
    "start_time": "2021-07-08T09:06:29.745Z"
   },
   {
    "duration": 3,
    "start_time": "2021-07-08T09:06:29.752Z"
   },
   {
    "duration": 7,
    "start_time": "2021-07-08T09:06:29.785Z"
   },
   {
    "duration": 11,
    "start_time": "2021-07-08T09:06:29.794Z"
   },
   {
    "duration": 15,
    "start_time": "2021-07-08T09:06:29.807Z"
   },
   {
    "duration": 8,
    "start_time": "2021-07-08T09:06:29.823Z"
   },
   {
    "duration": 70,
    "start_time": "2021-07-08T09:06:29.832Z"
   },
   {
    "duration": 17,
    "start_time": "2021-07-08T09:06:29.903Z"
   },
   {
    "duration": 9,
    "start_time": "2021-07-08T09:06:29.921Z"
   },
   {
    "duration": 9,
    "start_time": "2021-07-08T09:06:29.932Z"
   },
   {
    "duration": 57,
    "start_time": "2021-07-08T09:06:29.942Z"
   },
   {
    "duration": 11,
    "start_time": "2021-07-08T09:06:30.001Z"
   },
   {
    "duration": 19,
    "start_time": "2021-07-08T09:06:30.016Z"
   },
   {
    "duration": 217,
    "start_time": "2021-07-08T09:06:30.037Z"
   },
   {
    "duration": 6,
    "start_time": "2021-07-08T09:06:30.255Z"
   },
   {
    "duration": 205,
    "start_time": "2021-07-08T09:06:30.263Z"
   },
   {
    "duration": 27,
    "start_time": "2021-07-08T09:06:30.470Z"
   },
   {
    "duration": 11,
    "start_time": "2021-07-08T09:06:30.500Z"
   },
   {
    "duration": 31,
    "start_time": "2021-07-08T09:06:30.513Z"
   },
   {
    "duration": 18,
    "start_time": "2021-07-08T09:06:30.546Z"
   },
   {
    "duration": 11,
    "start_time": "2021-07-08T09:06:30.566Z"
   },
   {
    "duration": 19,
    "start_time": "2021-07-08T09:06:30.579Z"
   },
   {
    "duration": 20,
    "start_time": "2021-07-08T09:06:49.466Z"
   },
   {
    "duration": 9,
    "start_time": "2021-07-08T09:06:51.994Z"
   },
   {
    "duration": 20,
    "start_time": "2021-07-08T09:06:52.273Z"
   },
   {
    "duration": 246,
    "start_time": "2021-07-08T09:10:21.272Z"
   },
   {
    "duration": 84,
    "start_time": "2021-07-08T09:10:21.436Z"
   },
   {
    "duration": 7,
    "start_time": "2021-07-08T09:10:37.608Z"
   },
   {
    "duration": 189,
    "start_time": "2021-07-08T09:10:38.573Z"
   },
   {
    "duration": 185,
    "start_time": "2021-07-08T09:10:53.181Z"
   },
   {
    "duration": 11,
    "start_time": "2021-07-08T09:10:59.549Z"
   },
   {
    "duration": 42,
    "start_time": "2021-07-08T09:10:59.709Z"
   },
   {
    "duration": 12,
    "start_time": "2021-07-08T09:11:02.857Z"
   },
   {
    "duration": 28,
    "start_time": "2021-07-08T09:11:10.062Z"
   },
   {
    "duration": 249,
    "start_time": "2021-07-08T09:11:37.388Z"
   },
   {
    "duration": 232,
    "start_time": "2021-07-08T09:11:49.485Z"
   },
   {
    "duration": 453,
    "start_time": "2021-07-08T09:12:01.546Z"
   },
   {
    "duration": 440,
    "start_time": "2021-07-08T09:12:12.347Z"
   },
   {
    "duration": 213,
    "start_time": "2021-07-08T09:13:32.196Z"
   },
   {
    "duration": 172,
    "start_time": "2021-07-08T09:14:07.400Z"
   },
   {
    "duration": 185,
    "start_time": "2021-07-08T09:14:14.905Z"
   },
   {
    "duration": 209,
    "start_time": "2021-07-08T09:14:40.109Z"
   },
   {
    "duration": 201,
    "start_time": "2021-07-08T09:14:54.506Z"
   },
   {
    "duration": 622,
    "start_time": "2021-07-08T09:18:14.497Z"
   },
   {
    "duration": 220,
    "start_time": "2021-07-08T09:18:15.121Z"
   },
   {
    "duration": 79,
    "start_time": "2021-07-08T09:18:15.343Z"
   },
   {
    "duration": 4,
    "start_time": "2021-07-08T09:18:15.425Z"
   },
   {
    "duration": 24,
    "start_time": "2021-07-08T09:18:15.431Z"
   },
   {
    "duration": 8,
    "start_time": "2021-07-08T09:18:15.457Z"
   },
   {
    "duration": 16,
    "start_time": "2021-07-08T09:18:15.466Z"
   },
   {
    "duration": 5,
    "start_time": "2021-07-08T09:18:15.484Z"
   },
   {
    "duration": 10,
    "start_time": "2021-07-08T09:18:15.493Z"
   },
   {
    "duration": 8,
    "start_time": "2021-07-08T09:18:15.504Z"
   },
   {
    "duration": 7,
    "start_time": "2021-07-08T09:18:15.513Z"
   },
   {
    "duration": 26,
    "start_time": "2021-07-08T09:18:15.522Z"
   },
   {
    "duration": 49,
    "start_time": "2021-07-08T09:18:15.550Z"
   },
   {
    "duration": 21,
    "start_time": "2021-07-08T09:18:15.601Z"
   },
   {
    "duration": 8,
    "start_time": "2021-07-08T09:18:15.624Z"
   },
   {
    "duration": 3,
    "start_time": "2021-07-08T09:18:15.634Z"
   },
   {
    "duration": 8,
    "start_time": "2021-07-08T09:18:15.639Z"
   },
   {
    "duration": 45,
    "start_time": "2021-07-08T09:18:15.649Z"
   },
   {
    "duration": 13,
    "start_time": "2021-07-08T09:18:15.696Z"
   },
   {
    "duration": 10,
    "start_time": "2021-07-08T09:18:15.711Z"
   },
   {
    "duration": 64,
    "start_time": "2021-07-08T09:18:15.722Z"
   },
   {
    "duration": 19,
    "start_time": "2021-07-08T09:18:15.788Z"
   },
   {
    "duration": 9,
    "start_time": "2021-07-08T09:18:15.809Z"
   },
   {
    "duration": 9,
    "start_time": "2021-07-08T09:18:15.820Z"
   },
   {
    "duration": 18,
    "start_time": "2021-07-08T09:18:15.831Z"
   },
   {
    "duration": 43,
    "start_time": "2021-07-08T09:18:15.851Z"
   },
   {
    "duration": 12,
    "start_time": "2021-07-08T09:18:15.897Z"
   },
   {
    "duration": 219,
    "start_time": "2021-07-08T09:18:15.911Z"
   },
   {
    "duration": 8,
    "start_time": "2021-07-08T09:18:16.132Z"
   },
   {
    "duration": 199,
    "start_time": "2021-07-08T09:18:16.141Z"
   },
   {
    "duration": 18,
    "start_time": "2021-07-08T09:18:16.341Z"
   },
   {
    "duration": 24,
    "start_time": "2021-07-08T09:18:16.361Z"
   },
   {
    "duration": 24,
    "start_time": "2021-07-08T09:18:16.387Z"
   },
   {
    "duration": 211,
    "start_time": "2021-07-08T09:18:16.413Z"
   },
   {
    "duration": 18,
    "start_time": "2021-07-08T09:18:16.626Z"
   },
   {
    "duration": 596,
    "start_time": "2021-07-08T10:06:33.623Z"
   },
   {
    "duration": 181,
    "start_time": "2021-07-08T10:06:34.221Z"
   },
   {
    "duration": 176,
    "start_time": "2021-07-08T10:06:34.635Z"
   },
   {
    "duration": 239,
    "start_time": "2021-07-08T10:06:55.572Z"
   },
   {
    "duration": 6,
    "start_time": "2021-07-08T10:06:57.687Z"
   },
   {
    "duration": 4,
    "start_time": "2021-07-08T10:07:03.956Z"
   },
   {
    "duration": 4,
    "start_time": "2021-07-08T10:07:10.376Z"
   },
   {
    "duration": 4,
    "start_time": "2021-07-08T10:17:19.889Z"
   },
   {
    "duration": 3,
    "start_time": "2021-07-08T10:19:19.407Z"
   },
   {
    "duration": 197,
    "start_time": "2021-07-08T10:19:19.412Z"
   },
   {
    "duration": 127,
    "start_time": "2021-07-08T10:19:19.611Z"
   },
   {
    "duration": 4,
    "start_time": "2021-07-08T10:19:19.740Z"
   },
   {
    "duration": 27,
    "start_time": "2021-07-08T10:19:19.746Z"
   },
   {
    "duration": 7,
    "start_time": "2021-07-08T10:19:19.775Z"
   },
   {
    "duration": 30,
    "start_time": "2021-07-08T10:19:19.784Z"
   },
   {
    "duration": 7,
    "start_time": "2021-07-08T10:19:19.817Z"
   },
   {
    "duration": 26,
    "start_time": "2021-07-08T10:19:19.826Z"
   },
   {
    "duration": 18,
    "start_time": "2021-07-08T10:19:19.854Z"
   },
   {
    "duration": 14,
    "start_time": "2021-07-08T10:19:19.874Z"
   },
   {
    "duration": 48,
    "start_time": "2021-07-08T10:19:19.890Z"
   },
   {
    "duration": 17,
    "start_time": "2021-07-08T10:19:19.940Z"
   },
   {
    "duration": 38,
    "start_time": "2021-07-08T10:19:19.959Z"
   },
   {
    "duration": 8,
    "start_time": "2021-07-08T10:19:19.999Z"
   },
   {
    "duration": 15,
    "start_time": "2021-07-08T10:19:20.009Z"
   },
   {
    "duration": 22,
    "start_time": "2021-07-08T10:19:20.026Z"
   },
   {
    "duration": 10,
    "start_time": "2021-07-08T10:19:20.050Z"
   },
   {
    "duration": 10,
    "start_time": "2021-07-08T10:19:20.062Z"
   },
   {
    "duration": 20,
    "start_time": "2021-07-08T10:19:20.073Z"
   },
   {
    "duration": 29,
    "start_time": "2021-07-08T10:19:20.095Z"
   },
   {
    "duration": 17,
    "start_time": "2021-07-08T10:19:20.126Z"
   },
   {
    "duration": 40,
    "start_time": "2021-07-08T10:19:20.146Z"
   },
   {
    "duration": 15,
    "start_time": "2021-07-08T10:19:20.189Z"
   },
   {
    "duration": 19,
    "start_time": "2021-07-08T10:19:20.206Z"
   },
   {
    "duration": 10,
    "start_time": "2021-07-08T10:19:20.226Z"
   },
   {
    "duration": 11,
    "start_time": "2021-07-08T10:19:20.238Z"
   },
   {
    "duration": 297,
    "start_time": "2021-07-08T10:19:20.250Z"
   },
   {
    "duration": 6,
    "start_time": "2021-07-08T10:19:20.549Z"
   },
   {
    "duration": 191,
    "start_time": "2021-07-08T10:19:20.557Z"
   },
   {
    "duration": 19,
    "start_time": "2021-07-08T10:19:20.750Z"
   },
   {
    "duration": 20,
    "start_time": "2021-07-08T10:19:20.771Z"
   },
   {
    "duration": 15,
    "start_time": "2021-07-08T10:19:20.793Z"
   },
   {
    "duration": 222,
    "start_time": "2021-07-08T10:19:20.809Z"
   },
   {
    "duration": 20,
    "start_time": "2021-07-08T10:19:21.033Z"
   },
   {
    "duration": 27,
    "start_time": "2021-07-08T10:45:04.055Z"
   },
   {
    "duration": 8,
    "start_time": "2021-07-08T10:45:08.478Z"
   },
   {
    "duration": 8,
    "start_time": "2021-07-08T10:45:31.982Z"
   },
   {
    "duration": 10,
    "start_time": "2021-07-08T10:46:01.221Z"
   },
   {
    "duration": 17,
    "start_time": "2021-07-08T10:46:40.011Z"
   },
   {
    "duration": 193,
    "start_time": "2021-07-08T10:48:19.471Z"
   },
   {
    "duration": 225,
    "start_time": "2021-07-08T10:49:26.480Z"
   },
   {
    "duration": 204,
    "start_time": "2021-07-08T10:49:59.992Z"
   },
   {
    "duration": 435,
    "start_time": "2021-07-08T10:50:06.779Z"
   },
   {
    "duration": 199,
    "start_time": "2021-07-08T10:50:14.891Z"
   },
   {
    "duration": 204,
    "start_time": "2021-07-08T10:50:18.501Z"
   },
   {
    "duration": 244,
    "start_time": "2021-07-08T10:50:23.359Z"
   },
   {
    "duration": 192,
    "start_time": "2021-07-08T10:50:29.135Z"
   },
   {
    "duration": 218,
    "start_time": "2021-07-08T10:50:33.092Z"
   },
   {
    "duration": 207,
    "start_time": "2021-07-08T10:52:45.381Z"
   },
   {
    "duration": 5,
    "start_time": "2021-07-08T10:53:34.641Z"
   },
   {
    "duration": 196,
    "start_time": "2021-07-08T10:53:41.478Z"
   },
   {
    "duration": 43,
    "start_time": "2021-07-08T10:53:50.335Z"
   },
   {
    "duration": 32,
    "start_time": "2021-07-08T10:53:55.294Z"
   },
   {
    "duration": 55,
    "start_time": "2021-07-08T10:54:09.675Z"
   },
   {
    "duration": 16,
    "start_time": "2021-07-08T10:54:12.260Z"
   },
   {
    "duration": 15,
    "start_time": "2021-07-08T10:54:49.150Z"
   },
   {
    "duration": 20,
    "start_time": "2021-07-08T10:56:07.596Z"
   },
   {
    "duration": 16,
    "start_time": "2021-07-08T10:58:26.276Z"
   },
   {
    "duration": 22,
    "start_time": "2021-07-08T10:59:00.486Z"
   },
   {
    "duration": 18,
    "start_time": "2021-07-08T11:02:09.653Z"
   },
   {
    "duration": 10,
    "start_time": "2021-07-08T11:03:44.331Z"
   },
   {
    "duration": 10,
    "start_time": "2021-07-08T11:03:54.055Z"
   },
   {
    "duration": 12,
    "start_time": "2021-07-08T11:04:41.967Z"
   },
   {
    "duration": 24,
    "start_time": "2021-07-08T11:07:30.732Z"
   },
   {
    "duration": 6,
    "start_time": "2021-07-08T11:07:37.364Z"
   },
   {
    "duration": 16,
    "start_time": "2021-07-08T11:08:01.819Z"
   },
   {
    "duration": 17,
    "start_time": "2021-07-08T11:09:47.488Z"
   },
   {
    "duration": 246,
    "start_time": "2021-07-08T11:10:00.830Z"
   },
   {
    "duration": 18,
    "start_time": "2021-07-08T11:13:55.195Z"
   },
   {
    "duration": 204,
    "start_time": "2021-07-08T11:14:04.951Z"
   },
   {
    "duration": 19,
    "start_time": "2021-07-08T11:15:10.613Z"
   },
   {
    "duration": 680,
    "start_time": "2021-07-08T11:16:25.793Z"
   },
   {
    "duration": 451,
    "start_time": "2021-07-08T11:16:40.313Z"
   },
   {
    "duration": 469,
    "start_time": "2021-07-08T11:17:21.286Z"
   },
   {
    "duration": 20,
    "start_time": "2021-07-08T11:19:12.554Z"
   },
   {
    "duration": 35,
    "start_time": "2021-07-08T11:20:05.484Z"
   },
   {
    "duration": 53,
    "start_time": "2021-07-08T11:21:40.050Z"
   },
   {
    "duration": 13,
    "start_time": "2021-07-08T11:22:26.059Z"
   },
   {
    "duration": 19,
    "start_time": "2021-07-08T11:22:47.419Z"
   },
   {
    "duration": 25,
    "start_time": "2021-07-08T11:23:19.958Z"
   },
   {
    "duration": 29,
    "start_time": "2021-07-08T11:23:25.415Z"
   },
   {
    "duration": 10,
    "start_time": "2021-07-08T11:24:45.138Z"
   },
   {
    "duration": 19,
    "start_time": "2021-07-08T11:24:54.498Z"
   },
   {
    "duration": 12,
    "start_time": "2021-07-08T11:25:32.225Z"
   },
   {
    "duration": 19,
    "start_time": "2021-07-08T11:25:37.092Z"
   },
   {
    "duration": 17,
    "start_time": "2021-07-08T11:25:58.116Z"
   },
   {
    "duration": 15,
    "start_time": "2021-07-08T11:26:02.258Z"
   },
   {
    "duration": 8,
    "start_time": "2021-07-08T11:26:59.682Z"
   },
   {
    "duration": 184,
    "start_time": "2021-07-08T11:27:21.894Z"
   },
   {
    "duration": 8,
    "start_time": "2021-07-08T11:27:23.824Z"
   },
   {
    "duration": 202,
    "start_time": "2021-07-08T11:27:23.962Z"
   },
   {
    "duration": 360,
    "start_time": "2021-07-08T11:28:33.215Z"
   },
   {
    "duration": 231,
    "start_time": "2021-07-08T11:32:05.542Z"
   },
   {
    "duration": 607,
    "start_time": "2021-07-08T11:36:27.854Z"
   },
   {
    "duration": 241,
    "start_time": "2021-07-08T11:36:28.463Z"
   },
   {
    "duration": 67,
    "start_time": "2021-07-08T11:36:28.709Z"
   },
   {
    "duration": 5,
    "start_time": "2021-07-08T11:36:28.778Z"
   },
   {
    "duration": 32,
    "start_time": "2021-07-08T11:36:28.784Z"
   },
   {
    "duration": 11,
    "start_time": "2021-07-08T11:36:28.819Z"
   },
   {
    "duration": 20,
    "start_time": "2021-07-08T11:36:28.834Z"
   },
   {
    "duration": 36,
    "start_time": "2021-07-08T11:36:28.857Z"
   },
   {
    "duration": 16,
    "start_time": "2021-07-08T11:36:28.895Z"
   },
   {
    "duration": 14,
    "start_time": "2021-07-08T11:36:28.913Z"
   },
   {
    "duration": 9,
    "start_time": "2021-07-08T11:36:28.930Z"
   },
   {
    "duration": 55,
    "start_time": "2021-07-08T11:36:28.941Z"
   },
   {
    "duration": 27,
    "start_time": "2021-07-08T11:36:28.999Z"
   },
   {
    "duration": 30,
    "start_time": "2021-07-08T11:36:29.028Z"
   },
   {
    "duration": 31,
    "start_time": "2021-07-08T11:36:29.060Z"
   },
   {
    "duration": 3,
    "start_time": "2021-07-08T11:36:29.093Z"
   },
   {
    "duration": 12,
    "start_time": "2021-07-08T11:36:29.099Z"
   },
   {
    "duration": 11,
    "start_time": "2021-07-08T11:36:29.112Z"
   },
   {
    "duration": 12,
    "start_time": "2021-07-08T11:36:29.125Z"
   },
   {
    "duration": 9,
    "start_time": "2021-07-08T11:36:29.139Z"
   },
   {
    "duration": 31,
    "start_time": "2021-07-08T11:36:29.191Z"
   },
   {
    "duration": 17,
    "start_time": "2021-07-08T11:36:29.226Z"
   },
   {
    "duration": 7,
    "start_time": "2021-07-08T11:36:29.245Z"
   },
   {
    "duration": 10,
    "start_time": "2021-07-08T11:36:29.254Z"
   },
   {
    "duration": 30,
    "start_time": "2021-07-08T11:36:29.292Z"
   },
   {
    "duration": 11,
    "start_time": "2021-07-08T11:36:29.324Z"
   },
   {
    "duration": 11,
    "start_time": "2021-07-08T11:36:29.337Z"
   },
   {
    "duration": 230,
    "start_time": "2021-07-08T11:36:29.349Z"
   },
   {
    "duration": 13,
    "start_time": "2021-07-08T11:36:29.588Z"
   },
   {
    "duration": 205,
    "start_time": "2021-07-08T11:36:29.603Z"
   },
   {
    "duration": 20,
    "start_time": "2021-07-08T11:36:29.810Z"
   },
   {
    "duration": 9,
    "start_time": "2021-07-08T11:36:29.832Z"
   },
   {
    "duration": 16,
    "start_time": "2021-07-08T11:36:29.843Z"
   },
   {
    "duration": 283,
    "start_time": "2021-07-08T11:36:29.861Z"
   },
   {
    "duration": 50,
    "start_time": "2021-07-08T11:36:30.146Z"
   },
   {
    "duration": 14,
    "start_time": "2021-07-08T11:36:30.198Z"
   },
   {
    "duration": 11,
    "start_time": "2021-07-08T11:36:30.214Z"
   },
   {
    "duration": 245,
    "start_time": "2021-07-08T11:36:30.227Z"
   },
   {
    "duration": 439,
    "start_time": "2021-07-08T11:36:30.474Z"
   },
   {
    "duration": 210,
    "start_time": "2021-07-08T11:36:30.915Z"
   },
   {
    "duration": 15,
    "start_time": "2021-07-08T11:36:31.127Z"
   },
   {
    "duration": 17,
    "start_time": "2021-07-08T11:38:20.451Z"
   },
   {
    "duration": 642,
    "start_time": "2021-07-08T11:46:17.881Z"
   },
   {
    "duration": 210,
    "start_time": "2021-07-08T11:46:18.525Z"
   },
   {
    "duration": 104,
    "start_time": "2021-07-08T11:46:18.741Z"
   },
   {
    "duration": 8,
    "start_time": "2021-07-08T11:46:18.847Z"
   },
   {
    "duration": 25,
    "start_time": "2021-07-08T11:46:18.857Z"
   },
   {
    "duration": 14,
    "start_time": "2021-07-08T11:46:18.884Z"
   },
   {
    "duration": 22,
    "start_time": "2021-07-08T11:46:18.900Z"
   },
   {
    "duration": 5,
    "start_time": "2021-07-08T11:46:18.924Z"
   },
   {
    "duration": 13,
    "start_time": "2021-07-08T11:46:18.931Z"
   },
   {
    "duration": 45,
    "start_time": "2021-07-08T11:46:18.946Z"
   },
   {
    "duration": 12,
    "start_time": "2021-07-08T11:46:18.993Z"
   },
   {
    "duration": 38,
    "start_time": "2021-07-08T11:46:19.006Z"
   },
   {
    "duration": 50,
    "start_time": "2021-07-08T11:46:19.046Z"
   },
   {
    "duration": 29,
    "start_time": "2021-07-08T11:46:19.099Z"
   },
   {
    "duration": 7,
    "start_time": "2021-07-08T11:46:19.130Z"
   },
   {
    "duration": 3,
    "start_time": "2021-07-08T11:46:19.139Z"
   },
   {
    "duration": 11,
    "start_time": "2021-07-08T11:46:19.144Z"
   },
   {
    "duration": 40,
    "start_time": "2021-07-08T11:46:19.157Z"
   },
   {
    "duration": 15,
    "start_time": "2021-07-08T11:46:19.199Z"
   },
   {
    "duration": 10,
    "start_time": "2021-07-08T11:46:19.217Z"
   },
   {
    "duration": 68,
    "start_time": "2021-07-08T11:46:19.230Z"
   },
   {
    "duration": 17,
    "start_time": "2021-07-08T11:46:19.301Z"
   },
   {
    "duration": 7,
    "start_time": "2021-07-08T11:46:19.321Z"
   },
   {
    "duration": 11,
    "start_time": "2021-07-08T11:46:19.330Z"
   },
   {
    "duration": 59,
    "start_time": "2021-07-08T11:46:19.343Z"
   },
   {
    "duration": 17,
    "start_time": "2021-07-08T11:46:19.405Z"
   },
   {
    "duration": 16,
    "start_time": "2021-07-08T11:46:19.424Z"
   },
   {
    "duration": 252,
    "start_time": "2021-07-08T11:46:19.443Z"
   },
   {
    "duration": 9,
    "start_time": "2021-07-08T11:46:19.697Z"
   },
   {
    "duration": 224,
    "start_time": "2021-07-08T11:46:19.708Z"
   },
   {
    "duration": 21,
    "start_time": "2021-07-08T11:46:19.934Z"
   },
   {
    "duration": 9,
    "start_time": "2021-07-08T11:46:19.956Z"
   },
   {
    "duration": 32,
    "start_time": "2021-07-08T11:46:19.967Z"
   },
   {
    "duration": 288,
    "start_time": "2021-07-08T11:46:20.004Z"
   },
   {
    "duration": 23,
    "start_time": "2021-07-08T11:46:20.300Z"
   },
   {
    "duration": 11,
    "start_time": "2021-07-08T11:46:20.325Z"
   },
   {
    "duration": 11,
    "start_time": "2021-07-08T11:46:20.339Z"
   },
   {
    "duration": 259,
    "start_time": "2021-07-08T11:46:20.352Z"
   },
   {
    "duration": 438,
    "start_time": "2021-07-08T11:46:20.613Z"
   },
   {
    "duration": 207,
    "start_time": "2021-07-08T11:46:21.054Z"
   },
   {
    "duration": 27,
    "start_time": "2021-07-08T11:46:21.262Z"
   },
   {
    "duration": 19,
    "start_time": "2021-07-08T11:46:21.291Z"
   },
   {
    "duration": 820,
    "start_time": "2021-07-08T11:49:01.655Z"
   },
   {
    "duration": 372,
    "start_time": "2021-07-08T11:49:02.478Z"
   },
   {
    "duration": 98,
    "start_time": "2021-07-08T11:49:02.853Z"
   },
   {
    "duration": 6,
    "start_time": "2021-07-08T11:49:02.953Z"
   },
   {
    "duration": 39,
    "start_time": "2021-07-08T11:49:02.960Z"
   },
   {
    "duration": 9,
    "start_time": "2021-07-08T11:49:03.003Z"
   },
   {
    "duration": 23,
    "start_time": "2021-07-08T11:49:03.014Z"
   },
   {
    "duration": 6,
    "start_time": "2021-07-08T11:49:03.041Z"
   },
   {
    "duration": 20,
    "start_time": "2021-07-08T11:49:03.049Z"
   },
   {
    "duration": 18,
    "start_time": "2021-07-08T11:49:03.084Z"
   },
   {
    "duration": 14,
    "start_time": "2021-07-08T11:49:03.104Z"
   },
   {
    "duration": 39,
    "start_time": "2021-07-08T11:49:03.119Z"
   },
   {
    "duration": 38,
    "start_time": "2021-07-08T11:49:03.160Z"
   },
   {
    "duration": 26,
    "start_time": "2021-07-08T11:49:03.200Z"
   },
   {
    "duration": 7,
    "start_time": "2021-07-08T11:49:03.227Z"
   },
   {
    "duration": 4,
    "start_time": "2021-07-08T11:49:03.236Z"
   },
   {
    "duration": 15,
    "start_time": "2021-07-08T11:49:03.243Z"
   },
   {
    "duration": 21,
    "start_time": "2021-07-08T11:49:03.285Z"
   },
   {
    "duration": 17,
    "start_time": "2021-07-08T11:49:03.309Z"
   },
   {
    "duration": 10,
    "start_time": "2021-07-08T11:49:03.328Z"
   },
   {
    "duration": 65,
    "start_time": "2021-07-08T11:49:03.340Z"
   },
   {
    "duration": 18,
    "start_time": "2021-07-08T11:49:03.407Z"
   },
   {
    "duration": 8,
    "start_time": "2021-07-08T11:49:03.428Z"
   },
   {
    "duration": 15,
    "start_time": "2021-07-08T11:49:03.438Z"
   },
   {
    "duration": 40,
    "start_time": "2021-07-08T11:49:03.455Z"
   },
   {
    "duration": 12,
    "start_time": "2021-07-08T11:49:03.497Z"
   },
   {
    "duration": 29,
    "start_time": "2021-07-08T11:49:03.511Z"
   },
   {
    "duration": 285,
    "start_time": "2021-07-08T11:49:03.542Z"
   },
   {
    "duration": 8,
    "start_time": "2021-07-08T11:49:03.829Z"
   },
   {
    "duration": 227,
    "start_time": "2021-07-08T11:49:03.838Z"
   },
   {
    "duration": 40,
    "start_time": "2021-07-08T11:49:04.066Z"
   },
   {
    "duration": 10,
    "start_time": "2021-07-08T11:49:04.108Z"
   },
   {
    "duration": 26,
    "start_time": "2021-07-08T11:49:04.121Z"
   },
   {
    "duration": 290,
    "start_time": "2021-07-08T11:49:04.149Z"
   },
   {
    "duration": 26,
    "start_time": "2021-07-08T11:49:04.441Z"
   },
   {
    "duration": 31,
    "start_time": "2021-07-08T11:49:04.470Z"
   },
   {
    "duration": 14,
    "start_time": "2021-07-08T11:49:04.503Z"
   },
   {
    "duration": 259,
    "start_time": "2021-07-08T11:49:04.521Z"
   },
   {
    "duration": 480,
    "start_time": "2021-07-08T11:49:04.782Z"
   },
   {
    "duration": 225,
    "start_time": "2021-07-08T11:49:05.264Z"
   },
   {
    "duration": 22,
    "start_time": "2021-07-08T11:49:05.491Z"
   },
   {
    "duration": 24,
    "start_time": "2021-07-08T11:49:05.515Z"
   },
   {
    "duration": 634,
    "start_time": "2021-07-08T11:52:24.960Z"
   },
   {
    "duration": 199,
    "start_time": "2021-07-08T11:52:25.599Z"
   },
   {
    "duration": 106,
    "start_time": "2021-07-08T11:52:25.803Z"
   },
   {
    "duration": 7,
    "start_time": "2021-07-08T11:52:25.911Z"
   },
   {
    "duration": 29,
    "start_time": "2021-07-08T11:52:25.920Z"
   },
   {
    "duration": 7,
    "start_time": "2021-07-08T11:52:25.951Z"
   },
   {
    "duration": 26,
    "start_time": "2021-07-08T11:52:25.961Z"
   },
   {
    "duration": 11,
    "start_time": "2021-07-08T11:52:25.990Z"
   },
   {
    "duration": 29,
    "start_time": "2021-07-08T11:52:26.005Z"
   },
   {
    "duration": 9,
    "start_time": "2021-07-08T11:52:26.036Z"
   },
   {
    "duration": 8,
    "start_time": "2021-07-08T11:52:26.047Z"
   },
   {
    "duration": 63,
    "start_time": "2021-07-08T11:52:26.057Z"
   },
   {
    "duration": 17,
    "start_time": "2021-07-08T11:52:26.122Z"
   },
   {
    "duration": 43,
    "start_time": "2021-07-08T11:52:26.142Z"
   },
   {
    "duration": 17,
    "start_time": "2021-07-08T11:52:26.187Z"
   },
   {
    "duration": 5,
    "start_time": "2021-07-08T11:52:26.206Z"
   },
   {
    "duration": 12,
    "start_time": "2021-07-08T11:52:26.212Z"
   },
   {
    "duration": 11,
    "start_time": "2021-07-08T11:52:26.226Z"
   },
   {
    "duration": 12,
    "start_time": "2021-07-08T11:52:26.238Z"
   },
   {
    "duration": 38,
    "start_time": "2021-07-08T11:52:26.252Z"
   },
   {
    "duration": 40,
    "start_time": "2021-07-08T11:52:26.292Z"
   },
   {
    "duration": 17,
    "start_time": "2021-07-08T11:52:26.336Z"
   },
   {
    "duration": 39,
    "start_time": "2021-07-08T11:52:26.355Z"
   },
   {
    "duration": 11,
    "start_time": "2021-07-08T11:52:26.395Z"
   },
   {
    "duration": 23,
    "start_time": "2021-07-08T11:52:26.408Z"
   },
   {
    "duration": 12,
    "start_time": "2021-07-08T11:52:26.432Z"
   },
   {
    "duration": 41,
    "start_time": "2021-07-08T11:52:26.446Z"
   },
   {
    "duration": 215,
    "start_time": "2021-07-08T11:52:26.493Z"
   },
   {
    "duration": 8,
    "start_time": "2021-07-08T11:52:26.710Z"
   },
   {
    "duration": 228,
    "start_time": "2021-07-08T11:52:26.720Z"
   },
   {
    "duration": 18,
    "start_time": "2021-07-08T11:52:26.950Z"
   },
   {
    "duration": 35,
    "start_time": "2021-07-08T11:52:26.969Z"
   },
   {
    "duration": 23,
    "start_time": "2021-07-08T11:52:27.006Z"
   },
   {
    "duration": 258,
    "start_time": "2021-07-08T11:52:27.030Z"
   },
   {
    "duration": 24,
    "start_time": "2021-07-08T11:52:27.290Z"
   },
   {
    "duration": 12,
    "start_time": "2021-07-08T11:52:27.316Z"
   },
   {
    "duration": 10,
    "start_time": "2021-07-08T11:52:27.329Z"
   },
   {
    "duration": 298,
    "start_time": "2021-07-08T11:52:27.341Z"
   },
   {
    "duration": 436,
    "start_time": "2021-07-08T11:52:27.641Z"
   },
   {
    "duration": 216,
    "start_time": "2021-07-08T11:52:28.079Z"
   },
   {
    "duration": 20,
    "start_time": "2021-07-08T11:52:28.297Z"
   },
   {
    "duration": 17,
    "start_time": "2021-07-08T11:52:28.319Z"
   },
   {
    "duration": 736,
    "start_time": "2022-10-10T09:56:33.916Z"
   },
   {
    "duration": 11,
    "start_time": "2022-10-10T10:00:38.613Z"
   },
   {
    "duration": 14,
    "start_time": "2022-10-10T10:01:14.481Z"
   },
   {
    "duration": 74,
    "start_time": "2022-10-10T10:30:30.953Z"
   },
   {
    "duration": 19,
    "start_time": "2022-10-10T10:30:43.239Z"
   },
   {
    "duration": 8,
    "start_time": "2022-10-10T10:31:07.803Z"
   },
   {
    "duration": 8,
    "start_time": "2022-10-10T10:31:13.420Z"
   },
   {
    "duration": 63,
    "start_time": "2022-10-11T06:00:51.711Z"
   },
   {
    "duration": 648,
    "start_time": "2022-10-11T06:01:01.131Z"
   },
   {
    "duration": 10,
    "start_time": "2022-10-11T06:01:01.782Z"
   },
   {
    "duration": 97,
    "start_time": "2022-10-11T06:01:01.794Z"
   },
   {
    "duration": 96,
    "start_time": "2022-10-11T06:01:01.894Z"
   },
   {
    "duration": 88,
    "start_time": "2022-10-11T06:02:14.169Z"
   },
   {
    "duration": 7,
    "start_time": "2022-10-11T06:02:19.138Z"
   },
   {
    "duration": 10,
    "start_time": "2022-10-11T06:03:58.030Z"
   },
   {
    "duration": 9,
    "start_time": "2022-10-11T06:04:55.102Z"
   },
   {
    "duration": 31,
    "start_time": "2022-10-11T06:12:46.955Z"
   },
   {
    "duration": 123,
    "start_time": "2022-10-11T06:12:55.206Z"
   },
   {
    "duration": 9,
    "start_time": "2022-10-11T06:12:55.331Z"
   },
   {
    "duration": 15,
    "start_time": "2022-10-11T06:12:55.341Z"
   },
   {
    "duration": 5,
    "start_time": "2022-10-11T06:12:57.341Z"
   },
   {
    "duration": 5,
    "start_time": "2022-10-11T06:13:08.117Z"
   },
   {
    "duration": 13,
    "start_time": "2022-10-11T06:14:17.172Z"
   },
   {
    "duration": 11,
    "start_time": "2022-10-11T06:14:32.751Z"
   },
   {
    "duration": 14,
    "start_time": "2022-10-11T06:14:35.172Z"
   },
   {
    "duration": 32,
    "start_time": "2022-10-11T06:15:09.157Z"
   },
   {
    "duration": 41,
    "start_time": "2022-10-11T06:16:20.565Z"
   },
   {
    "duration": 15,
    "start_time": "2022-10-11T06:18:20.097Z"
   },
   {
    "duration": 12,
    "start_time": "2022-10-11T06:36:04.012Z"
   },
   {
    "duration": 15,
    "start_time": "2022-10-11T06:36:14.142Z"
   },
   {
    "duration": 14,
    "start_time": "2022-10-11T06:36:24.913Z"
   },
   {
    "duration": 17,
    "start_time": "2022-10-11T06:36:37.512Z"
   },
   {
    "duration": 10,
    "start_time": "2022-10-11T06:37:35.165Z"
   },
   {
    "duration": 17,
    "start_time": "2022-10-11T06:37:45.801Z"
   },
   {
    "duration": 125,
    "start_time": "2022-10-11T06:37:58.837Z"
   },
   {
    "duration": 9,
    "start_time": "2022-10-11T06:37:58.964Z"
   },
   {
    "duration": 16,
    "start_time": "2022-10-11T06:37:58.975Z"
   },
   {
    "duration": 8,
    "start_time": "2022-10-11T06:37:58.993Z"
   },
   {
    "duration": 16,
    "start_time": "2022-10-11T06:37:59.003Z"
   },
   {
    "duration": 25,
    "start_time": "2022-10-11T06:37:59.020Z"
   },
   {
    "duration": 13,
    "start_time": "2022-10-11T06:37:59.047Z"
   },
   {
    "duration": 11,
    "start_time": "2022-10-11T06:37:59.062Z"
   },
   {
    "duration": 17,
    "start_time": "2022-10-11T06:38:02.091Z"
   },
   {
    "duration": 21,
    "start_time": "2022-10-11T06:51:01.241Z"
   },
   {
    "duration": 5,
    "start_time": "2022-10-11T06:56:20.835Z"
   },
   {
    "duration": 4,
    "start_time": "2022-10-11T06:57:07.807Z"
   },
   {
    "duration": 96,
    "start_time": "2022-10-11T07:03:23.620Z"
   },
   {
    "duration": 18,
    "start_time": "2022-10-11T07:03:33.295Z"
   },
   {
    "duration": 4,
    "start_time": "2022-10-11T07:11:48.006Z"
   },
   {
    "duration": 15,
    "start_time": "2022-10-11T07:13:17.998Z"
   },
   {
    "duration": 5,
    "start_time": "2022-10-11T07:16:37.863Z"
   },
   {
    "duration": 5,
    "start_time": "2022-10-11T07:17:11.299Z"
   },
   {
    "duration": 9,
    "start_time": "2022-10-11T07:26:31.017Z"
   },
   {
    "duration": 54,
    "start_time": "2022-10-11T09:29:59.230Z"
   },
   {
    "duration": 609,
    "start_time": "2022-10-11T09:30:05.556Z"
   },
   {
    "duration": 11,
    "start_time": "2022-10-11T09:30:06.167Z"
   },
   {
    "duration": 23,
    "start_time": "2022-10-11T09:30:06.179Z"
   },
   {
    "duration": 6,
    "start_time": "2022-10-11T09:30:06.205Z"
   },
   {
    "duration": 16,
    "start_time": "2022-10-11T09:30:06.213Z"
   },
   {
    "duration": 32,
    "start_time": "2022-10-11T09:30:06.230Z"
   },
   {
    "duration": 20,
    "start_time": "2022-10-11T09:30:06.265Z"
   },
   {
    "duration": 35,
    "start_time": "2022-10-11T09:30:06.287Z"
   },
   {
    "duration": 5,
    "start_time": "2022-10-11T09:30:06.325Z"
   },
   {
    "duration": 44,
    "start_time": "2022-10-11T09:30:06.334Z"
   },
   {
    "duration": 4,
    "start_time": "2022-10-11T09:30:06.380Z"
   },
   {
    "duration": 28,
    "start_time": "2022-10-11T09:30:06.386Z"
   },
   {
    "duration": 35,
    "start_time": "2022-10-11T09:30:06.416Z"
   },
   {
    "duration": 8,
    "start_time": "2022-10-11T09:30:06.453Z"
   },
   {
    "duration": 6,
    "start_time": "2022-10-11T09:30:10.500Z"
   },
   {
    "duration": 17,
    "start_time": "2022-10-11T09:33:01.615Z"
   },
   {
    "duration": 15,
    "start_time": "2022-10-11T09:47:18.700Z"
   },
   {
    "duration": 10,
    "start_time": "2022-10-11T09:54:16.627Z"
   },
   {
    "duration": 84,
    "start_time": "2022-10-11T14:36:38.357Z"
   },
   {
    "duration": 8,
    "start_time": "2022-10-11T14:36:46.173Z"
   },
   {
    "duration": 4,
    "start_time": "2022-10-11T14:41:06.843Z"
   },
   {
    "duration": 6,
    "start_time": "2022-10-11T14:41:17.130Z"
   },
   {
    "duration": 45,
    "start_time": "2022-10-12T06:36:28.650Z"
   },
   {
    "duration": 662,
    "start_time": "2022-10-12T06:36:34.512Z"
   },
   {
    "duration": 11,
    "start_time": "2022-10-12T06:36:35.176Z"
   },
   {
    "duration": 21,
    "start_time": "2022-10-12T06:36:35.189Z"
   },
   {
    "duration": 7,
    "start_time": "2022-10-12T06:36:35.212Z"
   },
   {
    "duration": 27,
    "start_time": "2022-10-12T06:36:35.220Z"
   },
   {
    "duration": 28,
    "start_time": "2022-10-12T06:36:35.249Z"
   },
   {
    "duration": 14,
    "start_time": "2022-10-12T06:36:35.279Z"
   },
   {
    "duration": 11,
    "start_time": "2022-10-12T06:36:35.294Z"
   },
   {
    "duration": 8,
    "start_time": "2022-10-12T06:36:35.307Z"
   },
   {
    "duration": 29,
    "start_time": "2022-10-12T06:36:35.317Z"
   },
   {
    "duration": 4,
    "start_time": "2022-10-12T06:36:35.347Z"
   },
   {
    "duration": 14,
    "start_time": "2022-10-12T06:36:35.352Z"
   },
   {
    "duration": 19,
    "start_time": "2022-10-12T06:36:35.367Z"
   },
   {
    "duration": 3,
    "start_time": "2022-10-12T06:36:35.387Z"
   },
   {
    "duration": 18,
    "start_time": "2022-10-12T06:36:35.392Z"
   },
   {
    "duration": 24,
    "start_time": "2022-10-12T06:36:35.412Z"
   },
   {
    "duration": 17,
    "start_time": "2022-10-12T06:36:38.544Z"
   },
   {
    "duration": 21,
    "start_time": "2022-10-12T06:54:48.699Z"
   },
   {
    "duration": 17,
    "start_time": "2022-10-12T06:57:05.905Z"
   },
   {
    "duration": 14,
    "start_time": "2022-10-12T07:00:56.741Z"
   },
   {
    "duration": 124,
    "start_time": "2022-10-12T07:01:25.597Z"
   },
   {
    "duration": 9,
    "start_time": "2022-10-12T07:01:25.723Z"
   },
   {
    "duration": 21,
    "start_time": "2022-10-12T07:01:25.734Z"
   },
   {
    "duration": 5,
    "start_time": "2022-10-12T07:01:25.757Z"
   },
   {
    "duration": 14,
    "start_time": "2022-10-12T07:01:25.763Z"
   },
   {
    "duration": 24,
    "start_time": "2022-10-12T07:01:25.779Z"
   },
   {
    "duration": 32,
    "start_time": "2022-10-12T07:01:25.805Z"
   },
   {
    "duration": 11,
    "start_time": "2022-10-12T07:01:25.838Z"
   },
   {
    "duration": 16,
    "start_time": "2022-10-12T07:01:25.851Z"
   },
   {
    "duration": 23,
    "start_time": "2022-10-12T07:01:25.869Z"
   },
   {
    "duration": 4,
    "start_time": "2022-10-12T07:01:25.894Z"
   },
   {
    "duration": 17,
    "start_time": "2022-10-12T07:01:25.899Z"
   },
   {
    "duration": 34,
    "start_time": "2022-10-12T07:01:25.918Z"
   },
   {
    "duration": 4,
    "start_time": "2022-10-12T07:01:25.953Z"
   },
   {
    "duration": 13,
    "start_time": "2022-10-12T07:01:25.959Z"
   },
   {
    "duration": 8,
    "start_time": "2022-10-12T07:01:39.021Z"
   },
   {
    "duration": 7,
    "start_time": "2022-10-12T07:01:44.080Z"
   },
   {
    "duration": 19,
    "start_time": "2022-10-12T07:01:45.640Z"
   },
   {
    "duration": 12,
    "start_time": "2022-10-12T07:01:49.936Z"
   },
   {
    "duration": 9,
    "start_time": "2022-10-12T07:01:58.742Z"
   },
   {
    "duration": 8,
    "start_time": "2022-10-12T07:02:29.030Z"
   },
   {
    "duration": 19,
    "start_time": "2022-10-12T07:03:00.595Z"
   },
   {
    "duration": 7,
    "start_time": "2022-10-12T07:20:23.486Z"
   },
   {
    "duration": 17,
    "start_time": "2022-10-12T07:20:27.231Z"
   },
   {
    "duration": 15,
    "start_time": "2022-10-12T07:21:32.641Z"
   },
   {
    "duration": 120,
    "start_time": "2022-10-12T07:21:39.038Z"
   },
   {
    "duration": 9,
    "start_time": "2022-10-12T07:21:39.160Z"
   },
   {
    "duration": 18,
    "start_time": "2022-10-12T07:21:39.171Z"
   },
   {
    "duration": 5,
    "start_time": "2022-10-12T07:21:39.191Z"
   },
   {
    "duration": 11,
    "start_time": "2022-10-12T07:21:39.197Z"
   },
   {
    "duration": 38,
    "start_time": "2022-10-12T07:21:39.210Z"
   },
   {
    "duration": 14,
    "start_time": "2022-10-12T07:21:39.250Z"
   },
   {
    "duration": 11,
    "start_time": "2022-10-12T07:21:39.266Z"
   },
   {
    "duration": 9,
    "start_time": "2022-10-12T07:21:39.279Z"
   },
   {
    "duration": 21,
    "start_time": "2022-10-12T07:21:39.291Z"
   },
   {
    "duration": 5,
    "start_time": "2022-10-12T07:21:39.333Z"
   },
   {
    "duration": 12,
    "start_time": "2022-10-12T07:21:39.340Z"
   },
   {
    "duration": 22,
    "start_time": "2022-10-12T07:21:39.354Z"
   },
   {
    "duration": 4,
    "start_time": "2022-10-12T07:21:39.377Z"
   },
   {
    "duration": 10,
    "start_time": "2022-10-12T07:21:39.383Z"
   },
   {
    "duration": 19,
    "start_time": "2022-10-12T07:21:39.395Z"
   },
   {
    "duration": 22,
    "start_time": "2022-10-12T07:21:39.416Z"
   },
   {
    "duration": 23,
    "start_time": "2022-10-12T07:21:39.440Z"
   },
   {
    "duration": 15,
    "start_time": "2022-10-12T07:21:39.464Z"
   },
   {
    "duration": 8,
    "start_time": "2022-10-12T07:21:39.480Z"
   },
   {
    "duration": 23,
    "start_time": "2022-10-12T07:21:39.489Z"
   },
   {
    "duration": 25,
    "start_time": "2022-10-12T07:21:39.514Z"
   },
   {
    "duration": 16,
    "start_time": "2022-10-12T07:21:39.541Z"
   },
   {
    "duration": 11,
    "start_time": "2022-10-12T07:21:39.559Z"
   },
   {
    "duration": 11,
    "start_time": "2022-10-12T07:22:01.454Z"
   },
   {
    "duration": 514,
    "start_time": "2022-10-12T07:22:13.177Z"
   },
   {
    "duration": 10,
    "start_time": "2022-10-12T07:22:13.693Z"
   },
   {
    "duration": 23,
    "start_time": "2022-10-12T07:22:13.705Z"
   },
   {
    "duration": 6,
    "start_time": "2022-10-12T07:22:13.730Z"
   },
   {
    "duration": 12,
    "start_time": "2022-10-12T07:22:13.738Z"
   },
   {
    "duration": 33,
    "start_time": "2022-10-12T07:22:13.752Z"
   },
   {
    "duration": 16,
    "start_time": "2022-10-12T07:22:13.788Z"
   },
   {
    "duration": 40,
    "start_time": "2022-10-12T07:22:13.805Z"
   },
   {
    "duration": 7,
    "start_time": "2022-10-12T07:22:13.847Z"
   },
   {
    "duration": 21,
    "start_time": "2022-10-12T07:22:13.857Z"
   },
   {
    "duration": 5,
    "start_time": "2022-10-12T07:22:13.879Z"
   },
   {
    "duration": 13,
    "start_time": "2022-10-12T07:22:13.886Z"
   },
   {
    "duration": 39,
    "start_time": "2022-10-12T07:22:13.900Z"
   },
   {
    "duration": 5,
    "start_time": "2022-10-12T07:22:13.941Z"
   },
   {
    "duration": 10,
    "start_time": "2022-10-12T07:22:13.948Z"
   },
   {
    "duration": 7,
    "start_time": "2022-10-12T07:22:13.959Z"
   },
   {
    "duration": 6,
    "start_time": "2022-10-12T07:22:13.968Z"
   },
   {
    "duration": 32,
    "start_time": "2022-10-12T07:22:13.976Z"
   },
   {
    "duration": 35,
    "start_time": "2022-10-12T07:22:14.010Z"
   },
   {
    "duration": 7,
    "start_time": "2022-10-12T07:22:14.047Z"
   },
   {
    "duration": 23,
    "start_time": "2022-10-12T07:22:14.055Z"
   },
   {
    "duration": 8,
    "start_time": "2022-10-12T07:22:14.079Z"
   },
   {
    "duration": 48,
    "start_time": "2022-10-12T07:22:14.088Z"
   },
   {
    "duration": 25,
    "start_time": "2022-10-12T07:22:14.138Z"
   },
   {
    "duration": 7,
    "start_time": "2022-10-12T07:31:16.609Z"
   },
   {
    "duration": 134,
    "start_time": "2022-10-12T07:33:30.817Z"
   },
   {
    "duration": 27,
    "start_time": "2022-10-12T07:40:35.033Z"
   },
   {
    "duration": 26,
    "start_time": "2022-10-12T07:42:59.138Z"
   },
   {
    "duration": 18,
    "start_time": "2022-10-12T07:49:40.925Z"
   },
   {
    "duration": 71,
    "start_time": "2022-10-12T07:55:39.527Z"
   },
   {
    "duration": 129,
    "start_time": "2022-10-12T07:56:39.454Z"
   },
   {
    "duration": 10,
    "start_time": "2022-10-12T07:56:39.586Z"
   },
   {
    "duration": 19,
    "start_time": "2022-10-12T07:56:39.598Z"
   },
   {
    "duration": 5,
    "start_time": "2022-10-12T07:56:39.621Z"
   },
   {
    "duration": 11,
    "start_time": "2022-10-12T07:56:39.628Z"
   },
   {
    "duration": 33,
    "start_time": "2022-10-12T07:56:39.641Z"
   },
   {
    "duration": 18,
    "start_time": "2022-10-12T07:56:39.677Z"
   },
   {
    "duration": 19,
    "start_time": "2022-10-12T07:56:39.697Z"
   },
   {
    "duration": 17,
    "start_time": "2022-10-12T07:56:39.718Z"
   },
   {
    "duration": 43,
    "start_time": "2022-10-12T07:56:39.738Z"
   },
   {
    "duration": 5,
    "start_time": "2022-10-12T07:56:39.783Z"
   },
   {
    "duration": 9,
    "start_time": "2022-10-12T07:56:39.789Z"
   },
   {
    "duration": 26,
    "start_time": "2022-10-12T07:56:39.800Z"
   },
   {
    "duration": 4,
    "start_time": "2022-10-12T07:56:39.828Z"
   },
   {
    "duration": 13,
    "start_time": "2022-10-12T07:56:39.833Z"
   },
   {
    "duration": 6,
    "start_time": "2022-10-12T07:56:39.848Z"
   },
   {
    "duration": 6,
    "start_time": "2022-10-12T07:56:39.856Z"
   },
   {
    "duration": 21,
    "start_time": "2022-10-12T07:56:39.863Z"
   },
   {
    "duration": 16,
    "start_time": "2022-10-12T07:56:39.886Z"
   },
   {
    "duration": 32,
    "start_time": "2022-10-12T07:56:39.904Z"
   },
   {
    "duration": 11,
    "start_time": "2022-10-12T07:56:39.938Z"
   },
   {
    "duration": 21,
    "start_time": "2022-10-12T07:56:39.950Z"
   },
   {
    "duration": 26,
    "start_time": "2022-10-12T07:56:39.973Z"
   },
   {
    "duration": 10,
    "start_time": "2022-10-12T07:56:43.794Z"
   },
   {
    "duration": 58,
    "start_time": "2022-10-12T07:59:45.129Z"
   },
   {
    "duration": 19,
    "start_time": "2022-10-12T07:59:50.162Z"
   },
   {
    "duration": 20,
    "start_time": "2022-10-12T08:00:18.088Z"
   },
   {
    "duration": 117,
    "start_time": "2022-10-12T08:00:29.410Z"
   },
   {
    "duration": 480,
    "start_time": "2022-10-12T08:00:47.593Z"
   },
   {
    "duration": 10,
    "start_time": "2022-10-12T08:00:48.076Z"
   },
   {
    "duration": 18,
    "start_time": "2022-10-12T08:00:48.088Z"
   },
   {
    "duration": 5,
    "start_time": "2022-10-12T08:00:48.108Z"
   },
   {
    "duration": 16,
    "start_time": "2022-10-12T08:00:48.114Z"
   },
   {
    "duration": 39,
    "start_time": "2022-10-12T08:00:48.131Z"
   },
   {
    "duration": 23,
    "start_time": "2022-10-12T08:00:48.172Z"
   },
   {
    "duration": 41,
    "start_time": "2022-10-12T08:00:48.197Z"
   },
   {
    "duration": 4,
    "start_time": "2022-10-12T08:00:48.240Z"
   },
   {
    "duration": 27,
    "start_time": "2022-10-12T08:00:48.246Z"
   },
   {
    "duration": 4,
    "start_time": "2022-10-12T08:00:48.274Z"
   },
   {
    "duration": 10,
    "start_time": "2022-10-12T08:00:48.280Z"
   },
   {
    "duration": 50,
    "start_time": "2022-10-12T08:00:48.291Z"
   },
   {
    "duration": 4,
    "start_time": "2022-10-12T08:00:48.342Z"
   },
   {
    "duration": 12,
    "start_time": "2022-10-12T08:00:48.348Z"
   },
   {
    "duration": 12,
    "start_time": "2022-10-12T08:00:48.361Z"
   },
   {
    "duration": 7,
    "start_time": "2022-10-12T08:00:48.375Z"
   },
   {
    "duration": 50,
    "start_time": "2022-10-12T08:00:48.384Z"
   },
   {
    "duration": 12,
    "start_time": "2022-10-12T08:00:48.436Z"
   },
   {
    "duration": 11,
    "start_time": "2022-10-12T08:00:48.450Z"
   },
   {
    "duration": 19,
    "start_time": "2022-10-12T08:00:48.463Z"
   },
   {
    "duration": 27,
    "start_time": "2022-10-12T08:00:48.483Z"
   },
   {
    "duration": 31,
    "start_time": "2022-10-12T08:00:48.512Z"
   },
   {
    "duration": 3,
    "start_time": "2022-10-12T08:00:48.545Z"
   },
   {
    "duration": 28,
    "start_time": "2022-10-12T08:01:16.632Z"
   },
   {
    "duration": 4,
    "start_time": "2022-10-12T08:01:29.260Z"
   },
   {
    "duration": 10,
    "start_time": "2022-10-12T08:23:52.721Z"
   },
   {
    "duration": 7,
    "start_time": "2022-10-12T08:26:29.798Z"
   },
   {
    "duration": 5,
    "start_time": "2022-10-12T08:31:36.355Z"
   },
   {
    "duration": 298,
    "start_time": "2022-10-12T08:32:01.230Z"
   },
   {
    "duration": 6,
    "start_time": "2022-10-12T08:33:57.657Z"
   },
   {
    "duration": 678,
    "start_time": "2022-10-12T10:05:59.854Z"
   },
   {
    "duration": 16,
    "start_time": "2022-10-12T10:06:00.535Z"
   },
   {
    "duration": 39,
    "start_time": "2022-10-12T10:06:00.552Z"
   },
   {
    "duration": 20,
    "start_time": "2022-10-12T10:06:00.594Z"
   },
   {
    "duration": 52,
    "start_time": "2022-10-12T10:06:00.616Z"
   },
   {
    "duration": 61,
    "start_time": "2022-10-12T10:06:00.670Z"
   },
   {
    "duration": 19,
    "start_time": "2022-10-12T10:06:00.733Z"
   },
   {
    "duration": 39,
    "start_time": "2022-10-12T10:06:00.753Z"
   },
   {
    "duration": 42,
    "start_time": "2022-10-12T10:06:00.794Z"
   },
   {
    "duration": 42,
    "start_time": "2022-10-12T10:06:00.840Z"
   },
   {
    "duration": 11,
    "start_time": "2022-10-12T10:06:00.884Z"
   },
   {
    "duration": 58,
    "start_time": "2022-10-12T10:06:00.897Z"
   },
   {
    "duration": 58,
    "start_time": "2022-10-12T10:06:00.957Z"
   },
   {
    "duration": 12,
    "start_time": "2022-10-12T10:06:01.017Z"
   },
   {
    "duration": 28,
    "start_time": "2022-10-12T10:06:01.031Z"
   },
   {
    "duration": 27,
    "start_time": "2022-10-12T10:06:01.061Z"
   },
   {
    "duration": 39,
    "start_time": "2022-10-12T10:06:01.090Z"
   },
   {
    "duration": 13,
    "start_time": "2022-10-12T10:06:01.131Z"
   },
   {
    "duration": 53,
    "start_time": "2022-10-12T10:06:01.146Z"
   },
   {
    "duration": 36,
    "start_time": "2022-10-12T10:06:01.201Z"
   },
   {
    "duration": 41,
    "start_time": "2022-10-12T10:06:01.239Z"
   },
   {
    "duration": 20,
    "start_time": "2022-10-12T10:06:01.282Z"
   },
   {
    "duration": 22,
    "start_time": "2022-10-12T10:06:01.304Z"
   },
   {
    "duration": 29,
    "start_time": "2022-10-12T10:06:01.328Z"
   },
   {
    "duration": 20,
    "start_time": "2022-10-12T10:06:01.359Z"
   },
   {
    "duration": 17,
    "start_time": "2022-10-12T10:06:01.381Z"
   },
   {
    "duration": 509,
    "start_time": "2022-10-12T10:08:34.632Z"
   },
   {
    "duration": 138,
    "start_time": "2022-10-12T10:09:01.816Z"
   },
   {
    "duration": 8,
    "start_time": "2022-10-12T10:09:07.184Z"
   },
   {
    "duration": 9,
    "start_time": "2022-10-12T10:10:22.442Z"
   },
   {
    "duration": 11,
    "start_time": "2022-10-12T10:11:05.872Z"
   },
   {
    "duration": 19,
    "start_time": "2022-10-12T10:20:06.331Z"
   },
   {
    "duration": 14,
    "start_time": "2022-10-12T10:23:21.168Z"
   },
   {
    "duration": 5,
    "start_time": "2022-10-12T10:23:47.439Z"
   },
   {
    "duration": 9,
    "start_time": "2022-10-12T10:24:35.074Z"
   },
   {
    "duration": 10,
    "start_time": "2022-10-12T10:25:04.818Z"
   },
   {
    "duration": 127,
    "start_time": "2022-10-12T10:25:22.050Z"
   },
   {
    "duration": 11,
    "start_time": "2022-10-12T10:25:22.179Z"
   },
   {
    "duration": 28,
    "start_time": "2022-10-12T10:25:22.192Z"
   },
   {
    "duration": 12,
    "start_time": "2022-10-12T10:25:22.222Z"
   },
   {
    "duration": 15,
    "start_time": "2022-10-12T10:25:22.236Z"
   },
   {
    "duration": 41,
    "start_time": "2022-10-12T10:25:22.253Z"
   },
   {
    "duration": 16,
    "start_time": "2022-10-12T10:25:22.296Z"
   },
   {
    "duration": 21,
    "start_time": "2022-10-12T10:25:22.314Z"
   },
   {
    "duration": 21,
    "start_time": "2022-10-12T10:25:22.337Z"
   },
   {
    "duration": 21,
    "start_time": "2022-10-12T10:25:22.361Z"
   },
   {
    "duration": 37,
    "start_time": "2022-10-12T10:25:22.383Z"
   },
   {
    "duration": 8,
    "start_time": "2022-10-12T10:25:22.422Z"
   },
   {
    "duration": 16,
    "start_time": "2022-10-12T10:25:22.431Z"
   },
   {
    "duration": 30,
    "start_time": "2022-10-12T10:25:22.449Z"
   },
   {
    "duration": 7,
    "start_time": "2022-10-12T10:25:22.481Z"
   },
   {
    "duration": 22,
    "start_time": "2022-10-12T10:25:22.489Z"
   },
   {
    "duration": 9,
    "start_time": "2022-10-12T10:25:22.513Z"
   },
   {
    "duration": 14,
    "start_time": "2022-10-12T10:25:22.524Z"
   },
   {
    "duration": 30,
    "start_time": "2022-10-12T10:25:22.540Z"
   },
   {
    "duration": 19,
    "start_time": "2022-10-12T10:25:22.572Z"
   },
   {
    "duration": 8,
    "start_time": "2022-10-12T10:25:22.593Z"
   },
   {
    "duration": 22,
    "start_time": "2022-10-12T10:25:22.603Z"
   },
   {
    "duration": 29,
    "start_time": "2022-10-12T10:25:22.627Z"
   },
   {
    "duration": 31,
    "start_time": "2022-10-12T10:25:22.658Z"
   },
   {
    "duration": 4,
    "start_time": "2022-10-12T10:25:22.691Z"
   },
   {
    "duration": 35,
    "start_time": "2022-10-12T10:25:22.697Z"
   },
   {
    "duration": 31,
    "start_time": "2022-10-12T10:25:22.734Z"
   },
   {
    "duration": 6,
    "start_time": "2022-10-12T10:25:22.768Z"
   },
   {
    "duration": 26,
    "start_time": "2022-10-12T10:41:26.857Z"
   },
   {
    "duration": 27,
    "start_time": "2022-10-12T11:12:10.058Z"
   },
   {
    "duration": 24,
    "start_time": "2022-10-12T11:13:18.955Z"
   },
   {
    "duration": 126,
    "start_time": "2022-10-12T11:14:16.464Z"
   },
   {
    "duration": 10,
    "start_time": "2022-10-12T11:14:16.592Z"
   },
   {
    "duration": 22,
    "start_time": "2022-10-12T11:14:16.603Z"
   },
   {
    "duration": 5,
    "start_time": "2022-10-12T11:14:16.627Z"
   },
   {
    "duration": 14,
    "start_time": "2022-10-12T11:14:16.634Z"
   },
   {
    "duration": 29,
    "start_time": "2022-10-12T11:14:16.650Z"
   },
   {
    "duration": 19,
    "start_time": "2022-10-12T11:14:16.680Z"
   },
   {
    "duration": 15,
    "start_time": "2022-10-12T11:14:16.701Z"
   },
   {
    "duration": 14,
    "start_time": "2022-10-12T11:14:16.717Z"
   },
   {
    "duration": 21,
    "start_time": "2022-10-12T11:14:16.734Z"
   },
   {
    "duration": 21,
    "start_time": "2022-10-12T11:14:16.756Z"
   },
   {
    "duration": 4,
    "start_time": "2022-10-12T11:14:16.779Z"
   },
   {
    "duration": 11,
    "start_time": "2022-10-12T11:14:16.785Z"
   },
   {
    "duration": 33,
    "start_time": "2022-10-12T11:14:16.798Z"
   },
   {
    "duration": 4,
    "start_time": "2022-10-12T11:14:16.833Z"
   },
   {
    "duration": 11,
    "start_time": "2022-10-12T11:14:16.853Z"
   },
   {
    "duration": 8,
    "start_time": "2022-10-12T11:14:16.866Z"
   },
   {
    "duration": 8,
    "start_time": "2022-10-12T11:14:16.876Z"
   },
   {
    "duration": 22,
    "start_time": "2022-10-12T11:14:16.886Z"
   },
   {
    "duration": 16,
    "start_time": "2022-10-12T11:14:16.910Z"
   },
   {
    "duration": 34,
    "start_time": "2022-10-12T11:14:16.927Z"
   },
   {
    "duration": 11,
    "start_time": "2022-10-12T11:14:16.963Z"
   },
   {
    "duration": 21,
    "start_time": "2022-10-12T11:14:16.976Z"
   },
   {
    "duration": 26,
    "start_time": "2022-10-12T11:15:58.384Z"
   },
   {
    "duration": 23,
    "start_time": "2022-10-12T11:16:20.999Z"
   },
   {
    "duration": 14,
    "start_time": "2022-10-12T11:18:30.959Z"
   },
   {
    "duration": 13,
    "start_time": "2022-10-12T11:18:56.925Z"
   },
   {
    "duration": 23,
    "start_time": "2022-10-12T11:19:03.742Z"
   },
   {
    "duration": 23,
    "start_time": "2022-10-12T11:19:28.825Z"
   },
   {
    "duration": 22,
    "start_time": "2022-10-12T11:19:36.247Z"
   },
   {
    "duration": 5,
    "start_time": "2022-10-12T11:21:25.444Z"
   },
   {
    "duration": 125,
    "start_time": "2022-10-12T11:23:16.041Z"
   },
   {
    "duration": 11,
    "start_time": "2022-10-12T11:23:16.168Z"
   },
   {
    "duration": 14,
    "start_time": "2022-10-12T11:23:16.181Z"
   },
   {
    "duration": 4,
    "start_time": "2022-10-12T11:23:16.197Z"
   },
   {
    "duration": 20,
    "start_time": "2022-10-12T11:23:16.204Z"
   },
   {
    "duration": 40,
    "start_time": "2022-10-12T11:23:16.226Z"
   },
   {
    "duration": 16,
    "start_time": "2022-10-12T11:23:16.268Z"
   },
   {
    "duration": 16,
    "start_time": "2022-10-12T11:23:16.286Z"
   },
   {
    "duration": 11,
    "start_time": "2022-10-12T11:23:16.303Z"
   },
   {
    "duration": 9,
    "start_time": "2022-10-12T11:23:16.315Z"
   },
   {
    "duration": 47,
    "start_time": "2022-10-12T11:23:16.325Z"
   },
   {
    "duration": 6,
    "start_time": "2022-10-12T11:23:16.374Z"
   },
   {
    "duration": 20,
    "start_time": "2022-10-12T11:23:16.381Z"
   },
   {
    "duration": 23,
    "start_time": "2022-10-12T11:23:16.404Z"
   },
   {
    "duration": 4,
    "start_time": "2022-10-12T11:23:16.429Z"
   },
   {
    "duration": 22,
    "start_time": "2022-10-12T11:23:16.435Z"
   },
   {
    "duration": 13,
    "start_time": "2022-10-12T11:23:16.459Z"
   },
   {
    "duration": 7,
    "start_time": "2022-10-12T11:23:16.474Z"
   },
   {
    "duration": 23,
    "start_time": "2022-10-12T11:23:16.483Z"
   },
   {
    "duration": 15,
    "start_time": "2022-10-12T11:23:16.507Z"
   },
   {
    "duration": 37,
    "start_time": "2022-10-12T11:23:16.523Z"
   },
   {
    "duration": 12,
    "start_time": "2022-10-12T11:23:16.562Z"
   },
   {
    "duration": 19,
    "start_time": "2022-10-12T11:23:16.575Z"
   },
   {
    "duration": 21,
    "start_time": "2022-10-12T11:23:16.597Z"
   },
   {
    "duration": 34,
    "start_time": "2022-10-12T11:23:16.620Z"
   },
   {
    "duration": 9,
    "start_time": "2022-10-12T11:23:16.656Z"
   },
   {
    "duration": 17,
    "start_time": "2022-10-12T11:23:16.666Z"
   },
   {
    "duration": 15,
    "start_time": "2022-10-12T11:23:16.685Z"
   },
   {
    "duration": 4,
    "start_time": "2022-10-12T11:23:16.702Z"
   },
   {
    "duration": 5,
    "start_time": "2022-10-12T11:23:22.954Z"
   },
   {
    "duration": 9,
    "start_time": "2022-10-12T11:23:23.529Z"
   },
   {
    "duration": 1681,
    "start_time": "2022-10-12T11:25:53.419Z"
   },
   {
    "duration": 144,
    "start_time": "2022-10-12T11:27:31.565Z"
   },
   {
    "duration": 11,
    "start_time": "2022-10-12T11:27:31.712Z"
   },
   {
    "duration": 34,
    "start_time": "2022-10-12T11:27:31.725Z"
   },
   {
    "duration": 24,
    "start_time": "2022-10-12T11:27:31.761Z"
   },
   {
    "duration": 23,
    "start_time": "2022-10-12T11:27:31.787Z"
   },
   {
    "duration": 47,
    "start_time": "2022-10-12T11:27:31.813Z"
   },
   {
    "duration": 17,
    "start_time": "2022-10-12T11:27:31.862Z"
   },
   {
    "duration": 32,
    "start_time": "2022-10-12T11:27:31.881Z"
   },
   {
    "duration": 25,
    "start_time": "2022-10-12T11:27:31.915Z"
   },
   {
    "duration": 17,
    "start_time": "2022-10-12T11:27:31.944Z"
   },
   {
    "duration": 55,
    "start_time": "2022-10-12T11:27:31.963Z"
   },
   {
    "duration": 8,
    "start_time": "2022-10-12T11:27:32.020Z"
   },
   {
    "duration": 28,
    "start_time": "2022-10-12T11:27:32.029Z"
   },
   {
    "duration": 49,
    "start_time": "2022-10-12T11:27:32.058Z"
   },
   {
    "duration": 35,
    "start_time": "2022-10-12T11:27:32.109Z"
   },
   {
    "duration": 41,
    "start_time": "2022-10-12T11:27:32.146Z"
   },
   {
    "duration": 30,
    "start_time": "2022-10-12T11:27:32.189Z"
   },
   {
    "duration": 18,
    "start_time": "2022-10-12T11:27:32.221Z"
   },
   {
    "duration": 43,
    "start_time": "2022-10-12T11:27:32.241Z"
   },
   {
    "duration": 26,
    "start_time": "2022-10-12T11:27:32.286Z"
   },
   {
    "duration": 13,
    "start_time": "2022-10-12T11:27:32.314Z"
   },
   {
    "duration": 35,
    "start_time": "2022-10-12T11:27:32.329Z"
   },
   {
    "duration": 48,
    "start_time": "2022-10-12T11:27:32.366Z"
   },
   {
    "duration": 21,
    "start_time": "2022-10-12T11:27:32.416Z"
   },
   {
    "duration": 21,
    "start_time": "2022-10-12T11:27:32.439Z"
   },
   {
    "duration": 20,
    "start_time": "2022-10-12T11:27:32.461Z"
   },
   {
    "duration": 18,
    "start_time": "2022-10-12T11:27:36.935Z"
   },
   {
    "duration": 20,
    "start_time": "2022-10-12T11:27:39.605Z"
   },
   {
    "duration": 5,
    "start_time": "2022-10-12T11:27:52.023Z"
   },
   {
    "duration": 10,
    "start_time": "2022-10-12T11:27:55.655Z"
   },
   {
    "duration": 15,
    "start_time": "2022-10-12T11:28:15.367Z"
   },
   {
    "duration": 16,
    "start_time": "2022-10-12T11:28:24.583Z"
   },
   {
    "duration": 22,
    "start_time": "2022-10-12T11:29:49.836Z"
   },
   {
    "duration": 79,
    "start_time": "2022-10-12T11:33:40.241Z"
   },
   {
    "duration": 34,
    "start_time": "2022-10-12T11:34:23.001Z"
   },
   {
    "duration": 12,
    "start_time": "2022-10-12T11:35:14.435Z"
   },
   {
    "duration": 12,
    "start_time": "2022-10-12T11:35:20.722Z"
   },
   {
    "duration": 40,
    "start_time": "2022-10-12T11:35:51.546Z"
   },
   {
    "duration": 4,
    "start_time": "2022-10-12T11:40:38.345Z"
   },
   {
    "duration": 30,
    "start_time": "2022-10-12T11:41:44.761Z"
   },
   {
    "duration": 589,
    "start_time": "2022-10-12T11:42:15.436Z"
   },
   {
    "duration": 10,
    "start_time": "2022-10-12T11:42:49.283Z"
   },
   {
    "duration": 530,
    "start_time": "2022-10-12T11:43:52.776Z"
   },
   {
    "duration": 333,
    "start_time": "2022-10-12T11:44:19.791Z"
   },
   {
    "duration": 325,
    "start_time": "2022-10-12T11:46:05.969Z"
   },
   {
    "duration": 338,
    "start_time": "2022-10-12T11:46:20.400Z"
   },
   {
    "duration": 415,
    "start_time": "2022-10-12T11:46:41.236Z"
   },
   {
    "duration": 212,
    "start_time": "2022-10-12T11:46:48.462Z"
   },
   {
    "duration": 599,
    "start_time": "2022-10-12T11:47:04.336Z"
   },
   {
    "duration": 312,
    "start_time": "2022-10-12T11:47:12.835Z"
   },
   {
    "duration": 31,
    "start_time": "2022-10-12T11:49:24.655Z"
   },
   {
    "duration": 568,
    "start_time": "2022-10-13T05:31:08.073Z"
   },
   {
    "duration": 11,
    "start_time": "2022-10-13T05:31:08.643Z"
   },
   {
    "duration": 20,
    "start_time": "2022-10-13T05:31:08.655Z"
   },
   {
    "duration": 4,
    "start_time": "2022-10-13T05:31:08.677Z"
   },
   {
    "duration": 14,
    "start_time": "2022-10-13T05:31:08.683Z"
   },
   {
    "duration": 47,
    "start_time": "2022-10-13T05:31:08.699Z"
   },
   {
    "duration": 17,
    "start_time": "2022-10-13T05:31:08.749Z"
   },
   {
    "duration": 16,
    "start_time": "2022-10-13T05:31:08.769Z"
   },
   {
    "duration": 10,
    "start_time": "2022-10-13T05:31:08.786Z"
   },
   {
    "duration": 7,
    "start_time": "2022-10-13T05:31:08.798Z"
   },
   {
    "duration": 39,
    "start_time": "2022-10-13T05:31:08.806Z"
   },
   {
    "duration": 5,
    "start_time": "2022-10-13T05:31:08.846Z"
   },
   {
    "duration": 11,
    "start_time": "2022-10-13T05:31:08.852Z"
   },
   {
    "duration": 33,
    "start_time": "2022-10-13T05:31:08.865Z"
   },
   {
    "duration": 4,
    "start_time": "2022-10-13T05:31:08.900Z"
   },
   {
    "duration": 14,
    "start_time": "2022-10-13T05:31:08.907Z"
   },
   {
    "duration": 18,
    "start_time": "2022-10-13T05:31:08.922Z"
   },
   {
    "duration": 14,
    "start_time": "2022-10-13T05:31:08.942Z"
   },
   {
    "duration": 28,
    "start_time": "2022-10-13T05:31:08.958Z"
   },
   {
    "duration": 18,
    "start_time": "2022-10-13T05:31:08.988Z"
   },
   {
    "duration": 7,
    "start_time": "2022-10-13T05:31:09.008Z"
   },
   {
    "duration": 17,
    "start_time": "2022-10-13T05:31:09.017Z"
   },
   {
    "duration": 37,
    "start_time": "2022-10-13T05:31:09.036Z"
   },
   {
    "duration": 30,
    "start_time": "2022-10-13T05:31:09.075Z"
   },
   {
    "duration": 11,
    "start_time": "2022-10-13T05:31:09.107Z"
   },
   {
    "duration": 10,
    "start_time": "2022-10-13T05:31:09.120Z"
   },
   {
    "duration": 22,
    "start_time": "2022-10-13T05:31:09.133Z"
   },
   {
    "duration": 21,
    "start_time": "2022-10-13T05:31:09.158Z"
   },
   {
    "duration": 4,
    "start_time": "2022-10-13T05:31:09.181Z"
   },
   {
    "duration": 12,
    "start_time": "2022-10-13T05:31:09.187Z"
   },
   {
    "duration": 11,
    "start_time": "2022-10-13T05:31:09.202Z"
   },
   {
    "duration": 772,
    "start_time": "2022-10-13T05:31:09.215Z"
   },
   {
    "duration": 10,
    "start_time": "2022-10-13T05:31:09.989Z"
   },
   {
    "duration": 70,
    "start_time": "2022-10-13T05:45:08.803Z"
   },
   {
    "duration": 401,
    "start_time": "2022-10-13T05:45:25.488Z"
   },
   {
    "duration": 92,
    "start_time": "2022-10-13T05:46:50.617Z"
   },
   {
    "duration": 381,
    "start_time": "2022-10-13T05:47:54.124Z"
   },
   {
    "duration": 7,
    "start_time": "2022-10-13T05:48:04.520Z"
   },
   {
    "duration": 7,
    "start_time": "2022-10-13T05:48:42.253Z"
   },
   {
    "duration": 7,
    "start_time": "2022-10-13T05:49:07.032Z"
   },
   {
    "duration": 487,
    "start_time": "2022-10-13T05:50:25.992Z"
   },
   {
    "duration": 16,
    "start_time": "2022-10-13T05:50:26.717Z"
   },
   {
    "duration": 383,
    "start_time": "2022-10-13T05:52:51.217Z"
   },
   {
    "duration": 393,
    "start_time": "2022-10-13T05:52:55.308Z"
   },
   {
    "duration": 6,
    "start_time": "2022-10-13T05:52:55.792Z"
   },
   {
    "duration": 3,
    "start_time": "2022-10-13T05:54:44.916Z"
   },
   {
    "duration": 6,
    "start_time": "2022-10-13T05:54:50.725Z"
   },
   {
    "duration": 369,
    "start_time": "2022-10-13T05:55:54.187Z"
   },
   {
    "duration": 6,
    "start_time": "2022-10-13T05:55:55.861Z"
   },
   {
    "duration": 93,
    "start_time": "2022-10-13T05:56:13.720Z"
   },
   {
    "duration": 19,
    "start_time": "2022-10-13T05:56:13.815Z"
   },
   {
    "duration": 15,
    "start_time": "2022-10-13T05:56:13.835Z"
   },
   {
    "duration": 4,
    "start_time": "2022-10-13T05:56:13.852Z"
   },
   {
    "duration": 13,
    "start_time": "2022-10-13T05:56:13.857Z"
   },
   {
    "duration": 23,
    "start_time": "2022-10-13T05:56:13.871Z"
   },
   {
    "duration": 44,
    "start_time": "2022-10-13T05:56:13.896Z"
   },
   {
    "duration": 14,
    "start_time": "2022-10-13T05:56:13.942Z"
   },
   {
    "duration": 10,
    "start_time": "2022-10-13T05:56:13.958Z"
   },
   {
    "duration": 5,
    "start_time": "2022-10-13T05:56:13.970Z"
   },
   {
    "duration": 21,
    "start_time": "2022-10-13T05:56:13.977Z"
   },
   {
    "duration": 34,
    "start_time": "2022-10-13T05:56:14.000Z"
   },
   {
    "duration": 9,
    "start_time": "2022-10-13T05:56:14.036Z"
   },
   {
    "duration": 28,
    "start_time": "2022-10-13T05:56:14.046Z"
   },
   {
    "duration": 6,
    "start_time": "2022-10-13T05:56:14.076Z"
   },
   {
    "duration": 11,
    "start_time": "2022-10-13T05:56:14.083Z"
   },
   {
    "duration": 7,
    "start_time": "2022-10-13T05:56:14.095Z"
   },
   {
    "duration": 8,
    "start_time": "2022-10-13T05:56:14.104Z"
   },
   {
    "duration": 34,
    "start_time": "2022-10-13T05:56:14.114Z"
   },
   {
    "duration": 12,
    "start_time": "2022-10-13T05:56:14.149Z"
   },
   {
    "duration": 8,
    "start_time": "2022-10-13T05:56:14.162Z"
   },
   {
    "duration": 10,
    "start_time": "2022-10-13T05:56:14.171Z"
   },
   {
    "duration": 23,
    "start_time": "2022-10-13T05:56:14.182Z"
   },
   {
    "duration": 38,
    "start_time": "2022-10-13T05:56:14.206Z"
   },
   {
    "duration": 7,
    "start_time": "2022-10-13T05:56:14.246Z"
   },
   {
    "duration": 6,
    "start_time": "2022-10-13T05:56:14.255Z"
   },
   {
    "duration": 12,
    "start_time": "2022-10-13T05:56:14.263Z"
   },
   {
    "duration": 13,
    "start_time": "2022-10-13T05:56:14.278Z"
   },
   {
    "duration": 4,
    "start_time": "2022-10-13T05:56:14.293Z"
   },
   {
    "duration": 40,
    "start_time": "2022-10-13T05:56:14.299Z"
   },
   {
    "duration": 4,
    "start_time": "2022-10-13T05:56:14.341Z"
   },
   {
    "duration": 309,
    "start_time": "2022-10-13T05:56:14.347Z"
   },
   {
    "duration": 7,
    "start_time": "2022-10-13T05:56:14.658Z"
   },
   {
    "duration": 394,
    "start_time": "2022-10-13T05:56:14.666Z"
   },
   {
    "duration": 6,
    "start_time": "2022-10-13T05:56:17.584Z"
   },
   {
    "duration": 14,
    "start_time": "2022-10-13T05:57:36.721Z"
   },
   {
    "duration": 70,
    "start_time": "2022-10-13T05:58:55.827Z"
   },
   {
    "duration": 475,
    "start_time": "2022-10-13T05:59:05.053Z"
   },
   {
    "duration": 11,
    "start_time": "2022-10-13T05:59:05.530Z"
   },
   {
    "duration": 18,
    "start_time": "2022-10-13T05:59:05.542Z"
   },
   {
    "duration": 5,
    "start_time": "2022-10-13T05:59:05.562Z"
   },
   {
    "duration": 20,
    "start_time": "2022-10-13T05:59:05.568Z"
   },
   {
    "duration": 26,
    "start_time": "2022-10-13T05:59:05.590Z"
   },
   {
    "duration": 25,
    "start_time": "2022-10-13T05:59:05.617Z"
   },
   {
    "duration": 22,
    "start_time": "2022-10-13T05:59:05.644Z"
   },
   {
    "duration": 6,
    "start_time": "2022-10-13T05:59:05.667Z"
   },
   {
    "duration": 7,
    "start_time": "2022-10-13T05:59:05.675Z"
   },
   {
    "duration": 21,
    "start_time": "2022-10-13T05:59:05.683Z"
   },
   {
    "duration": 31,
    "start_time": "2022-10-13T05:59:05.705Z"
   },
   {
    "duration": 15,
    "start_time": "2022-10-13T05:59:05.738Z"
   },
   {
    "duration": 21,
    "start_time": "2022-10-13T05:59:05.755Z"
   },
   {
    "duration": 7,
    "start_time": "2022-10-13T05:59:05.778Z"
   },
   {
    "duration": 15,
    "start_time": "2022-10-13T05:59:05.786Z"
   },
   {
    "duration": 9,
    "start_time": "2022-10-13T05:59:05.803Z"
   },
   {
    "duration": 21,
    "start_time": "2022-10-13T05:59:05.813Z"
   },
   {
    "duration": 24,
    "start_time": "2022-10-13T05:59:05.835Z"
   },
   {
    "duration": 17,
    "start_time": "2022-10-13T05:59:05.861Z"
   },
   {
    "duration": 8,
    "start_time": "2022-10-13T05:59:05.879Z"
   },
   {
    "duration": 8,
    "start_time": "2022-10-13T05:59:05.889Z"
   },
   {
    "duration": 37,
    "start_time": "2022-10-13T05:59:05.898Z"
   },
   {
    "duration": 16,
    "start_time": "2022-10-13T05:59:05.937Z"
   },
   {
    "duration": 8,
    "start_time": "2022-10-13T05:59:05.955Z"
   },
   {
    "duration": 6,
    "start_time": "2022-10-13T05:59:05.965Z"
   },
   {
    "duration": 15,
    "start_time": "2022-10-13T05:59:05.972Z"
   },
   {
    "duration": 13,
    "start_time": "2022-10-13T05:59:05.990Z"
   },
   {
    "duration": 4,
    "start_time": "2022-10-13T05:59:06.005Z"
   },
   {
    "duration": 7,
    "start_time": "2022-10-13T05:59:06.034Z"
   },
   {
    "duration": 4,
    "start_time": "2022-10-13T05:59:06.043Z"
   },
   {
    "duration": 593,
    "start_time": "2022-10-13T05:59:06.049Z"
   },
   {
    "duration": 7,
    "start_time": "2022-10-13T05:59:06.644Z"
   },
   {
    "duration": 383,
    "start_time": "2022-10-13T05:59:06.653Z"
   },
   {
    "duration": 7,
    "start_time": "2022-10-13T05:59:07.038Z"
   },
   {
    "duration": 18,
    "start_time": "2022-10-13T05:59:07.046Z"
   },
   {
    "duration": 18,
    "start_time": "2022-10-13T06:00:27.478Z"
   },
   {
    "duration": 16,
    "start_time": "2022-10-13T06:02:22.466Z"
   },
   {
    "duration": 18,
    "start_time": "2022-10-13T06:03:27.503Z"
   },
   {
    "duration": 23,
    "start_time": "2022-10-13T06:04:39.579Z"
   },
   {
    "duration": 17,
    "start_time": "2022-10-13T06:05:02.132Z"
   },
   {
    "duration": 19,
    "start_time": "2022-10-13T06:05:16.545Z"
   },
   {
    "duration": 1525,
    "start_time": "2022-10-13T06:07:40.442Z"
   },
   {
    "duration": 26,
    "start_time": "2022-10-13T06:08:08.439Z"
   },
   {
    "duration": 17,
    "start_time": "2022-10-13T06:08:14.484Z"
   },
   {
    "duration": 17,
    "start_time": "2022-10-13T06:10:33.284Z"
   },
   {
    "duration": 11,
    "start_time": "2022-10-13T06:10:49.487Z"
   },
   {
    "duration": 16,
    "start_time": "2022-10-13T06:10:53.600Z"
   },
   {
    "duration": 16,
    "start_time": "2022-10-13T06:11:07.724Z"
   },
   {
    "duration": 17,
    "start_time": "2022-10-13T06:12:15.343Z"
   },
   {
    "duration": 18,
    "start_time": "2022-10-13T06:25:27.227Z"
   },
   {
    "duration": 1878,
    "start_time": "2022-10-13T06:28:11.884Z"
   },
   {
    "duration": 1509,
    "start_time": "2022-10-13T06:32:36.289Z"
   },
   {
    "duration": 1578,
    "start_time": "2022-10-13T06:32:52.422Z"
   },
   {
    "duration": 1343,
    "start_time": "2022-10-13T06:33:18.448Z"
   },
   {
    "duration": 10,
    "start_time": "2022-10-13T07:17:07.684Z"
   },
   {
    "duration": 14,
    "start_time": "2022-10-13T07:17:27.410Z"
   },
   {
    "duration": 10,
    "start_time": "2022-10-13T07:17:48.053Z"
   },
   {
    "duration": 69,
    "start_time": "2022-10-13T07:18:05.453Z"
   },
   {
    "duration": 12,
    "start_time": "2022-10-13T07:18:08.695Z"
   },
   {
    "duration": 10,
    "start_time": "2022-10-13T07:18:37.251Z"
   },
   {
    "duration": 13,
    "start_time": "2022-10-13T07:18:41.700Z"
   },
   {
    "duration": 11,
    "start_time": "2022-10-13T07:19:30.081Z"
   },
   {
    "duration": 15,
    "start_time": "2022-10-13T07:20:32.623Z"
   },
   {
    "duration": 768,
    "start_time": "2022-10-13T10:01:12.822Z"
   },
   {
    "duration": 11,
    "start_time": "2022-10-13T10:01:13.592Z"
   },
   {
    "duration": 15,
    "start_time": "2022-10-13T10:01:13.604Z"
   },
   {
    "duration": 11,
    "start_time": "2022-10-13T10:01:13.621Z"
   },
   {
    "duration": 23,
    "start_time": "2022-10-13T10:01:13.633Z"
   },
   {
    "duration": 29,
    "start_time": "2022-10-13T10:01:13.658Z"
   },
   {
    "duration": 13,
    "start_time": "2022-10-13T10:01:13.688Z"
   },
   {
    "duration": 33,
    "start_time": "2022-10-13T10:01:13.702Z"
   },
   {
    "duration": 6,
    "start_time": "2022-10-13T10:01:13.738Z"
   },
   {
    "duration": 9,
    "start_time": "2022-10-13T10:01:13.747Z"
   },
   {
    "duration": 22,
    "start_time": "2022-10-13T10:01:13.757Z"
   },
   {
    "duration": 4,
    "start_time": "2022-10-13T10:01:13.780Z"
   },
   {
    "duration": 13,
    "start_time": "2022-10-13T10:01:13.785Z"
   },
   {
    "duration": 17,
    "start_time": "2022-10-13T10:01:13.800Z"
   },
   {
    "duration": 9,
    "start_time": "2022-10-13T10:01:13.818Z"
   },
   {
    "duration": 23,
    "start_time": "2022-10-13T10:01:13.833Z"
   },
   {
    "duration": 10,
    "start_time": "2022-10-13T10:01:13.858Z"
   },
   {
    "duration": 10,
    "start_time": "2022-10-13T10:01:13.870Z"
   },
   {
    "duration": 25,
    "start_time": "2022-10-13T10:01:13.881Z"
   },
   {
    "duration": 13,
    "start_time": "2022-10-13T10:01:13.907Z"
   },
   {
    "duration": 19,
    "start_time": "2022-10-13T10:01:13.922Z"
   },
   {
    "duration": 7,
    "start_time": "2022-10-13T10:01:13.943Z"
   },
   {
    "duration": 16,
    "start_time": "2022-10-13T10:01:13.951Z"
   },
   {
    "duration": 15,
    "start_time": "2022-10-13T10:01:13.969Z"
   },
   {
    "duration": 7,
    "start_time": "2022-10-13T10:01:13.985Z"
   },
   {
    "duration": 7,
    "start_time": "2022-10-13T10:01:13.993Z"
   },
   {
    "duration": 17,
    "start_time": "2022-10-13T10:01:14.002Z"
   },
   {
    "duration": 22,
    "start_time": "2022-10-13T10:01:14.025Z"
   },
   {
    "duration": 6,
    "start_time": "2022-10-13T10:01:14.048Z"
   },
   {
    "duration": 12,
    "start_time": "2022-10-13T10:01:14.055Z"
   },
   {
    "duration": 4,
    "start_time": "2022-10-13T10:01:14.069Z"
   },
   {
    "duration": 731,
    "start_time": "2022-10-13T10:01:14.074Z"
   },
   {
    "duration": 25,
    "start_time": "2022-10-13T10:01:14.806Z"
   },
   {
    "duration": 364,
    "start_time": "2022-10-13T10:01:14.835Z"
   },
   {
    "duration": 8,
    "start_time": "2022-10-13T10:01:15.200Z"
   },
   {
    "duration": 28,
    "start_time": "2022-10-13T10:01:15.210Z"
   },
   {
    "duration": 1385,
    "start_time": "2022-10-13T10:01:15.239Z"
   },
   {
    "duration": 15,
    "start_time": "2022-10-13T10:22:20.032Z"
   },
   {
    "duration": 698,
    "start_time": "2022-10-13T10:42:14.580Z"
   },
   {
    "duration": 865,
    "start_time": "2022-10-13T10:53:51.606Z"
   },
   {
    "duration": 804,
    "start_time": "2022-10-13T10:53:58.629Z"
   },
   {
    "duration": 9,
    "start_time": "2022-10-13T10:54:33.621Z"
   },
   {
    "duration": 124,
    "start_time": "2022-10-13T10:54:45.321Z"
   },
   {
    "duration": 10,
    "start_time": "2022-10-13T10:54:45.447Z"
   },
   {
    "duration": 15,
    "start_time": "2022-10-13T10:54:45.458Z"
   },
   {
    "duration": 4,
    "start_time": "2022-10-13T10:54:45.475Z"
   },
   {
    "duration": 12,
    "start_time": "2022-10-13T10:54:45.481Z"
   },
   {
    "duration": 25,
    "start_time": "2022-10-13T10:54:45.495Z"
   },
   {
    "duration": 13,
    "start_time": "2022-10-13T10:54:45.522Z"
   },
   {
    "duration": 18,
    "start_time": "2022-10-13T10:54:45.536Z"
   },
   {
    "duration": 10,
    "start_time": "2022-10-13T10:54:45.555Z"
   },
   {
    "duration": 8,
    "start_time": "2022-10-13T10:54:45.567Z"
   },
   {
    "duration": 46,
    "start_time": "2022-10-13T10:54:45.577Z"
   },
   {
    "duration": 7,
    "start_time": "2022-10-13T10:54:45.626Z"
   },
   {
    "duration": 12,
    "start_time": "2022-10-13T10:54:45.635Z"
   },
   {
    "duration": 28,
    "start_time": "2022-10-13T10:54:45.649Z"
   },
   {
    "duration": 4,
    "start_time": "2022-10-13T10:54:45.680Z"
   },
   {
    "duration": 16,
    "start_time": "2022-10-13T10:54:45.686Z"
   },
   {
    "duration": 11,
    "start_time": "2022-10-13T10:54:45.723Z"
   },
   {
    "duration": 12,
    "start_time": "2022-10-13T10:54:45.736Z"
   },
   {
    "duration": 38,
    "start_time": "2022-10-13T10:54:45.750Z"
   },
   {
    "duration": 13,
    "start_time": "2022-10-13T10:54:45.790Z"
   },
   {
    "duration": 17,
    "start_time": "2022-10-13T10:54:45.805Z"
   },
   {
    "duration": 7,
    "start_time": "2022-10-13T10:54:45.824Z"
   },
   {
    "duration": 25,
    "start_time": "2022-10-13T10:54:45.832Z"
   },
   {
    "duration": 25,
    "start_time": "2022-10-13T10:54:45.859Z"
   },
   {
    "duration": 12,
    "start_time": "2022-10-13T10:54:45.885Z"
   },
   {
    "duration": 11,
    "start_time": "2022-10-13T10:54:45.898Z"
   },
   {
    "duration": 15,
    "start_time": "2022-10-13T10:54:45.910Z"
   },
   {
    "duration": 14,
    "start_time": "2022-10-13T10:54:45.928Z"
   },
   {
    "duration": 5,
    "start_time": "2022-10-13T10:54:45.944Z"
   },
   {
    "duration": 14,
    "start_time": "2022-10-13T10:54:45.950Z"
   },
   {
    "duration": 12,
    "start_time": "2022-10-13T10:54:45.966Z"
   },
   {
    "duration": 467,
    "start_time": "2022-10-13T10:54:45.980Z"
   },
   {
    "duration": 7,
    "start_time": "2022-10-13T10:54:46.449Z"
   },
   {
    "duration": 394,
    "start_time": "2022-10-13T10:54:46.457Z"
   },
   {
    "duration": 7,
    "start_time": "2022-10-13T10:54:46.853Z"
   },
   {
    "duration": 933,
    "start_time": "2022-10-13T10:54:46.862Z"
   },
   {
    "duration": 9,
    "start_time": "2022-10-13T10:54:51.381Z"
   },
   {
    "duration": 18,
    "start_time": "2022-10-13T10:56:06.849Z"
   },
   {
    "duration": 16,
    "start_time": "2022-10-13T10:56:37.642Z"
   },
   {
    "duration": 861,
    "start_time": "2022-10-13T10:58:00.960Z"
   },
   {
    "duration": 898,
    "start_time": "2022-10-13T10:58:03.952Z"
   },
   {
    "duration": 9,
    "start_time": "2022-10-13T10:58:11.795Z"
   },
   {
    "duration": 17,
    "start_time": "2022-10-13T10:58:16.984Z"
   },
   {
    "duration": 124,
    "start_time": "2022-10-13T10:59:04.991Z"
   },
   {
    "duration": 10,
    "start_time": "2022-10-13T10:59:05.117Z"
   },
   {
    "duration": 20,
    "start_time": "2022-10-13T10:59:05.130Z"
   },
   {
    "duration": 8,
    "start_time": "2022-10-13T10:59:05.152Z"
   },
   {
    "duration": 14,
    "start_time": "2022-10-13T10:59:05.162Z"
   },
   {
    "duration": 25,
    "start_time": "2022-10-13T10:59:05.178Z"
   },
   {
    "duration": 28,
    "start_time": "2022-10-13T10:59:05.205Z"
   },
   {
    "duration": 19,
    "start_time": "2022-10-13T10:59:05.235Z"
   },
   {
    "duration": 12,
    "start_time": "2022-10-13T10:59:05.256Z"
   },
   {
    "duration": 7,
    "start_time": "2022-10-13T10:59:05.270Z"
   },
   {
    "duration": 24,
    "start_time": "2022-10-13T10:59:05.278Z"
   },
   {
    "duration": 18,
    "start_time": "2022-10-13T10:59:05.304Z"
   },
   {
    "duration": 23,
    "start_time": "2022-10-13T10:59:05.324Z"
   },
   {
    "duration": 50,
    "start_time": "2022-10-13T10:59:05.348Z"
   },
   {
    "duration": 5,
    "start_time": "2022-10-13T10:59:05.400Z"
   },
   {
    "duration": 17,
    "start_time": "2022-10-13T10:59:05.406Z"
   },
   {
    "duration": 9,
    "start_time": "2022-10-13T10:59:05.425Z"
   },
   {
    "duration": 7,
    "start_time": "2022-10-13T10:59:05.436Z"
   },
   {
    "duration": 22,
    "start_time": "2022-10-13T10:59:05.444Z"
   },
   {
    "duration": 17,
    "start_time": "2022-10-13T10:59:05.468Z"
   },
   {
    "duration": 9,
    "start_time": "2022-10-13T10:59:05.487Z"
   },
   {
    "duration": 6,
    "start_time": "2022-10-13T10:59:05.522Z"
   },
   {
    "duration": 28,
    "start_time": "2022-10-13T10:59:05.529Z"
   },
   {
    "duration": 18,
    "start_time": "2022-10-13T10:59:05.559Z"
   },
   {
    "duration": 9,
    "start_time": "2022-10-13T10:59:05.579Z"
   },
   {
    "duration": 8,
    "start_time": "2022-10-13T10:59:05.590Z"
   },
   {
    "duration": 33,
    "start_time": "2022-10-13T10:59:05.599Z"
   },
   {
    "duration": 18,
    "start_time": "2022-10-13T10:59:05.636Z"
   },
   {
    "duration": 4,
    "start_time": "2022-10-13T10:59:05.656Z"
   },
   {
    "duration": 13,
    "start_time": "2022-10-13T10:59:05.661Z"
   },
   {
    "duration": 8,
    "start_time": "2022-10-13T10:59:05.676Z"
   },
   {
    "duration": 351,
    "start_time": "2022-10-13T10:59:05.685Z"
   },
   {
    "duration": 12,
    "start_time": "2022-10-13T10:59:06.038Z"
   },
   {
    "duration": 456,
    "start_time": "2022-10-13T10:59:06.053Z"
   },
   {
    "duration": 7,
    "start_time": "2022-10-13T10:59:06.510Z"
   },
   {
    "duration": 853,
    "start_time": "2022-10-13T10:59:13.137Z"
   },
   {
    "duration": 11,
    "start_time": "2022-10-13T10:59:18.885Z"
   },
   {
    "duration": 18,
    "start_time": "2022-10-13T10:59:25.093Z"
   },
   {
    "duration": 19,
    "start_time": "2022-10-13T11:01:19.977Z"
   },
   {
    "duration": 127,
    "start_time": "2022-10-13T11:02:11.137Z"
   },
   {
    "duration": 10,
    "start_time": "2022-10-13T11:02:11.266Z"
   },
   {
    "duration": 37,
    "start_time": "2022-10-13T11:02:11.278Z"
   },
   {
    "duration": 19,
    "start_time": "2022-10-13T11:02:11.317Z"
   },
   {
    "duration": 37,
    "start_time": "2022-10-13T11:02:11.339Z"
   },
   {
    "duration": 57,
    "start_time": "2022-10-13T11:02:11.377Z"
   },
   {
    "duration": 27,
    "start_time": "2022-10-13T11:02:11.436Z"
   },
   {
    "duration": 30,
    "start_time": "2022-10-13T11:02:11.464Z"
   },
   {
    "duration": 19,
    "start_time": "2022-10-13T11:02:11.496Z"
   },
   {
    "duration": 25,
    "start_time": "2022-10-13T11:02:11.517Z"
   },
   {
    "duration": 23,
    "start_time": "2022-10-13T11:02:11.543Z"
   },
   {
    "duration": 5,
    "start_time": "2022-10-13T11:02:11.568Z"
   },
   {
    "duration": 15,
    "start_time": "2022-10-13T11:02:11.574Z"
   },
   {
    "duration": 32,
    "start_time": "2022-10-13T11:02:11.590Z"
   },
   {
    "duration": 11,
    "start_time": "2022-10-13T11:02:11.624Z"
   },
   {
    "duration": 14,
    "start_time": "2022-10-13T11:02:11.638Z"
   },
   {
    "duration": 18,
    "start_time": "2022-10-13T11:02:11.654Z"
   },
   {
    "duration": 23,
    "start_time": "2022-10-13T11:02:11.674Z"
   },
   {
    "duration": 32,
    "start_time": "2022-10-13T11:02:11.700Z"
   },
   {
    "duration": 22,
    "start_time": "2022-10-13T11:02:11.734Z"
   },
   {
    "duration": 11,
    "start_time": "2022-10-13T11:02:11.758Z"
   },
   {
    "duration": 18,
    "start_time": "2022-10-13T11:02:11.771Z"
   },
   {
    "duration": 42,
    "start_time": "2022-10-13T11:02:11.791Z"
   },
   {
    "duration": 18,
    "start_time": "2022-10-13T11:02:11.835Z"
   },
   {
    "duration": 20,
    "start_time": "2022-10-13T11:02:11.854Z"
   },
   {
    "duration": 13,
    "start_time": "2022-10-13T11:02:11.876Z"
   },
   {
    "duration": 37,
    "start_time": "2022-10-13T11:02:11.891Z"
   },
   {
    "duration": 14,
    "start_time": "2022-10-13T11:02:11.931Z"
   },
   {
    "duration": 3,
    "start_time": "2022-10-13T11:02:11.947Z"
   },
   {
    "duration": 13,
    "start_time": "2022-10-13T11:02:11.951Z"
   },
   {
    "duration": 3,
    "start_time": "2022-10-13T11:02:11.966Z"
   },
   {
    "duration": 315,
    "start_time": "2022-10-13T11:02:11.971Z"
   },
   {
    "duration": 7,
    "start_time": "2022-10-13T11:02:12.288Z"
   },
   {
    "duration": 383,
    "start_time": "2022-10-13T11:02:12.296Z"
   },
   {
    "duration": 5,
    "start_time": "2022-10-13T11:02:12.681Z"
   },
   {
    "duration": 820,
    "start_time": "2022-10-13T11:02:15.138Z"
   },
   {
    "duration": 9,
    "start_time": "2022-10-13T11:02:19.724Z"
   },
   {
    "duration": 15,
    "start_time": "2022-10-13T11:02:23.902Z"
   },
   {
    "duration": 148,
    "start_time": "2022-10-13T11:03:25.467Z"
   },
   {
    "duration": 11,
    "start_time": "2022-10-13T11:03:25.617Z"
   },
   {
    "duration": 31,
    "start_time": "2022-10-13T11:03:25.629Z"
   },
   {
    "duration": 6,
    "start_time": "2022-10-13T11:03:25.662Z"
   },
   {
    "duration": 13,
    "start_time": "2022-10-13T11:03:25.669Z"
   },
   {
    "duration": 20,
    "start_time": "2022-10-13T11:03:25.684Z"
   },
   {
    "duration": 19,
    "start_time": "2022-10-13T11:03:25.706Z"
   },
   {
    "duration": 18,
    "start_time": "2022-10-13T11:03:25.727Z"
   },
   {
    "duration": 5,
    "start_time": "2022-10-13T11:03:25.747Z"
   },
   {
    "duration": 7,
    "start_time": "2022-10-13T11:03:25.755Z"
   },
   {
    "duration": 21,
    "start_time": "2022-10-13T11:03:25.764Z"
   },
   {
    "duration": 7,
    "start_time": "2022-10-13T11:03:25.786Z"
   },
   {
    "duration": 34,
    "start_time": "2022-10-13T11:03:25.794Z"
   },
   {
    "duration": 24,
    "start_time": "2022-10-13T11:03:25.830Z"
   },
   {
    "duration": 4,
    "start_time": "2022-10-13T11:03:25.856Z"
   },
   {
    "duration": 12,
    "start_time": "2022-10-13T11:03:25.861Z"
   },
   {
    "duration": 9,
    "start_time": "2022-10-13T11:03:25.875Z"
   },
   {
    "duration": 7,
    "start_time": "2022-10-13T11:03:25.886Z"
   },
   {
    "duration": 19,
    "start_time": "2022-10-13T11:03:25.922Z"
   },
   {
    "duration": 16,
    "start_time": "2022-10-13T11:03:25.943Z"
   },
   {
    "duration": 10,
    "start_time": "2022-10-13T11:03:25.960Z"
   },
   {
    "duration": 6,
    "start_time": "2022-10-13T11:03:25.971Z"
   },
   {
    "duration": 56,
    "start_time": "2022-10-13T11:03:25.979Z"
   },
   {
    "duration": 26,
    "start_time": "2022-10-13T11:03:26.039Z"
   },
   {
    "duration": 11,
    "start_time": "2022-10-13T11:03:26.067Z"
   },
   {
    "duration": 9,
    "start_time": "2022-10-13T11:03:26.080Z"
   },
   {
    "duration": 33,
    "start_time": "2022-10-13T11:03:26.091Z"
   },
   {
    "duration": 22,
    "start_time": "2022-10-13T11:03:26.128Z"
   },
   {
    "duration": 6,
    "start_time": "2022-10-13T11:03:26.151Z"
   },
   {
    "duration": 20,
    "start_time": "2022-10-13T11:03:26.159Z"
   },
   {
    "duration": 5,
    "start_time": "2022-10-13T11:03:26.182Z"
   },
   {
    "duration": 336,
    "start_time": "2022-10-13T11:03:26.189Z"
   },
   {
    "duration": 8,
    "start_time": "2022-10-13T11:03:26.526Z"
   },
   {
    "duration": 372,
    "start_time": "2022-10-13T11:03:26.536Z"
   },
   {
    "duration": 6,
    "start_time": "2022-10-13T11:03:26.909Z"
   },
   {
    "duration": 838,
    "start_time": "2022-10-13T11:03:30.990Z"
   },
   {
    "duration": 9,
    "start_time": "2022-10-13T11:03:33.402Z"
   },
   {
    "duration": 15,
    "start_time": "2022-10-13T11:03:35.503Z"
   },
   {
    "duration": 23,
    "start_time": "2022-10-13T11:04:11.436Z"
   },
   {
    "duration": 120,
    "start_time": "2022-10-13T11:05:34.096Z"
   },
   {
    "duration": 11,
    "start_time": "2022-10-13T11:05:34.217Z"
   },
   {
    "duration": 20,
    "start_time": "2022-10-13T11:05:34.230Z"
   },
   {
    "duration": 6,
    "start_time": "2022-10-13T11:05:34.252Z"
   },
   {
    "duration": 15,
    "start_time": "2022-10-13T11:05:34.260Z"
   },
   {
    "duration": 29,
    "start_time": "2022-10-13T11:05:34.277Z"
   },
   {
    "duration": 24,
    "start_time": "2022-10-13T11:05:34.323Z"
   },
   {
    "duration": 22,
    "start_time": "2022-10-13T11:05:34.349Z"
   },
   {
    "duration": 8,
    "start_time": "2022-10-13T11:05:34.374Z"
   },
   {
    "duration": 8,
    "start_time": "2022-10-13T11:05:34.385Z"
   },
   {
    "duration": 38,
    "start_time": "2022-10-13T11:05:34.395Z"
   },
   {
    "duration": 4,
    "start_time": "2022-10-13T11:05:34.435Z"
   },
   {
    "duration": 10,
    "start_time": "2022-10-13T11:05:34.441Z"
   },
   {
    "duration": 16,
    "start_time": "2022-10-13T11:05:34.452Z"
   },
   {
    "duration": 4,
    "start_time": "2022-10-13T11:05:34.470Z"
   },
   {
    "duration": 46,
    "start_time": "2022-10-13T11:05:34.476Z"
   },
   {
    "duration": 7,
    "start_time": "2022-10-13T11:05:34.524Z"
   },
   {
    "duration": 17,
    "start_time": "2022-10-13T11:05:34.533Z"
   },
   {
    "duration": 32,
    "start_time": "2022-10-13T11:05:34.553Z"
   },
   {
    "duration": 21,
    "start_time": "2022-10-13T11:05:34.587Z"
   },
   {
    "duration": 6,
    "start_time": "2022-10-13T11:05:34.610Z"
   },
   {
    "duration": 8,
    "start_time": "2022-10-13T11:05:34.617Z"
   },
   {
    "duration": 23,
    "start_time": "2022-10-13T11:05:34.627Z"
   },
   {
    "duration": 18,
    "start_time": "2022-10-13T11:05:34.652Z"
   },
   {
    "duration": 8,
    "start_time": "2022-10-13T11:05:34.671Z"
   },
   {
    "duration": 11,
    "start_time": "2022-10-13T11:05:34.681Z"
   },
   {
    "duration": 14,
    "start_time": "2022-10-13T11:05:34.694Z"
   },
   {
    "duration": 22,
    "start_time": "2022-10-13T11:05:34.711Z"
   },
   {
    "duration": 5,
    "start_time": "2022-10-13T11:05:34.734Z"
   },
   {
    "duration": 11,
    "start_time": "2022-10-13T11:05:34.740Z"
   },
   {
    "duration": 4,
    "start_time": "2022-10-13T11:05:34.753Z"
   },
   {
    "duration": 323,
    "start_time": "2022-10-13T11:05:34.758Z"
   },
   {
    "duration": 8,
    "start_time": "2022-10-13T11:05:35.082Z"
   },
   {
    "duration": 378,
    "start_time": "2022-10-13T11:05:35.091Z"
   },
   {
    "duration": 7,
    "start_time": "2022-10-13T11:05:35.470Z"
   },
   {
    "duration": 893,
    "start_time": "2022-10-13T11:05:38.990Z"
   },
   {
    "duration": 13,
    "start_time": "2022-10-13T11:05:41.736Z"
   },
   {
    "duration": 17,
    "start_time": "2022-10-13T11:05:50.546Z"
   },
   {
    "duration": 639,
    "start_time": "2022-10-14T05:50:17.881Z"
   },
   {
    "duration": 19,
    "start_time": "2022-10-14T05:50:18.523Z"
   },
   {
    "duration": 39,
    "start_time": "2022-10-14T05:50:18.544Z"
   },
   {
    "duration": 7,
    "start_time": "2022-10-14T05:50:18.586Z"
   },
   {
    "duration": 14,
    "start_time": "2022-10-14T05:50:18.594Z"
   },
   {
    "duration": 42,
    "start_time": "2022-10-14T05:50:18.609Z"
   },
   {
    "duration": 14,
    "start_time": "2022-10-14T05:50:18.653Z"
   },
   {
    "duration": 20,
    "start_time": "2022-10-14T05:50:18.668Z"
   },
   {
    "duration": 7,
    "start_time": "2022-10-14T05:50:18.690Z"
   },
   {
    "duration": 9,
    "start_time": "2022-10-14T05:50:18.700Z"
   },
   {
    "duration": 44,
    "start_time": "2022-10-14T05:50:18.716Z"
   },
   {
    "duration": 7,
    "start_time": "2022-10-14T05:50:18.761Z"
   },
   {
    "duration": 17,
    "start_time": "2022-10-14T05:50:18.770Z"
   },
   {
    "duration": 52,
    "start_time": "2022-10-14T05:50:18.790Z"
   },
   {
    "duration": 16,
    "start_time": "2022-10-14T05:50:18.844Z"
   },
   {
    "duration": 13,
    "start_time": "2022-10-14T05:50:18.861Z"
   },
   {
    "duration": 10,
    "start_time": "2022-10-14T05:50:18.876Z"
   },
   {
    "duration": 11,
    "start_time": "2022-10-14T05:50:18.888Z"
   },
   {
    "duration": 25,
    "start_time": "2022-10-14T05:50:18.901Z"
   },
   {
    "duration": 37,
    "start_time": "2022-10-14T05:50:18.927Z"
   },
   {
    "duration": 8,
    "start_time": "2022-10-14T05:50:18.966Z"
   },
   {
    "duration": 8,
    "start_time": "2022-10-14T05:50:18.976Z"
   },
   {
    "duration": 22,
    "start_time": "2022-10-14T05:50:18.985Z"
   },
   {
    "duration": 30,
    "start_time": "2022-10-14T05:50:19.009Z"
   },
   {
    "duration": 7,
    "start_time": "2022-10-14T05:50:19.042Z"
   },
   {
    "duration": 11,
    "start_time": "2022-10-14T05:50:19.050Z"
   },
   {
    "duration": 15,
    "start_time": "2022-10-14T05:50:19.063Z"
   },
   {
    "duration": 15,
    "start_time": "2022-10-14T05:50:19.081Z"
   },
   {
    "duration": 5,
    "start_time": "2022-10-14T05:50:19.097Z"
   },
   {
    "duration": 31,
    "start_time": "2022-10-14T05:50:19.103Z"
   },
   {
    "duration": 22,
    "start_time": "2022-10-14T05:50:19.137Z"
   },
   {
    "duration": 764,
    "start_time": "2022-10-14T05:50:19.161Z"
   },
   {
    "duration": 16,
    "start_time": "2022-10-14T05:50:19.927Z"
   },
   {
    "duration": 452,
    "start_time": "2022-10-14T05:50:19.946Z"
   },
   {
    "duration": 6,
    "start_time": "2022-10-14T05:50:20.400Z"
   },
   {
    "duration": 941,
    "start_time": "2022-10-14T05:50:20.408Z"
   },
   {
    "duration": 9,
    "start_time": "2022-10-14T05:50:21.352Z"
   },
   {
    "duration": 20,
    "start_time": "2022-10-14T05:50:21.362Z"
   },
   {
    "duration": 18,
    "start_time": "2022-10-14T05:50:21.384Z"
   },
   {
    "duration": 18,
    "start_time": "2022-10-14T05:53:23.936Z"
   },
   {
    "duration": 17,
    "start_time": "2022-10-14T06:03:24.359Z"
   },
   {
    "duration": 12,
    "start_time": "2022-10-14T06:20:24.805Z"
   },
   {
    "duration": 9,
    "start_time": "2022-10-14T06:20:25.833Z"
   },
   {
    "duration": 93,
    "start_time": "2022-10-14T06:20:31.577Z"
   },
   {
    "duration": 11,
    "start_time": "2022-10-14T06:20:31.672Z"
   },
   {
    "duration": 36,
    "start_time": "2022-10-14T06:20:31.685Z"
   },
   {
    "duration": 13,
    "start_time": "2022-10-14T06:20:31.723Z"
   },
   {
    "duration": 30,
    "start_time": "2022-10-14T06:20:31.738Z"
   },
   {
    "duration": 34,
    "start_time": "2022-10-14T06:20:31.770Z"
   },
   {
    "duration": 14,
    "start_time": "2022-10-14T06:20:31.806Z"
   },
   {
    "duration": 22,
    "start_time": "2022-10-14T06:20:31.821Z"
   },
   {
    "duration": 20,
    "start_time": "2022-10-14T06:20:31.844Z"
   },
   {
    "duration": 7,
    "start_time": "2022-10-14T06:20:31.866Z"
   },
   {
    "duration": 30,
    "start_time": "2022-10-14T06:20:31.874Z"
   },
   {
    "duration": 11,
    "start_time": "2022-10-14T06:20:31.906Z"
   },
   {
    "duration": 11,
    "start_time": "2022-10-14T06:20:31.919Z"
   },
   {
    "duration": 49,
    "start_time": "2022-10-14T06:20:31.932Z"
   },
   {
    "duration": 8,
    "start_time": "2022-10-14T06:20:31.982Z"
   },
   {
    "duration": 14,
    "start_time": "2022-10-14T06:20:31.992Z"
   },
   {
    "duration": 14,
    "start_time": "2022-10-14T06:20:32.007Z"
   },
   {
    "duration": 19,
    "start_time": "2022-10-14T06:20:32.022Z"
   },
   {
    "duration": 41,
    "start_time": "2022-10-14T06:20:32.043Z"
   },
   {
    "duration": 13,
    "start_time": "2022-10-14T06:20:32.085Z"
   },
   {
    "duration": 8,
    "start_time": "2022-10-14T06:20:35.293Z"
   },
   {
    "duration": 5,
    "start_time": "2022-10-14T06:20:38.622Z"
   },
   {
    "duration": 19,
    "start_time": "2022-10-14T06:20:42.082Z"
   },
   {
    "duration": 26,
    "start_time": "2022-10-14T06:20:45.090Z"
   },
   {
    "duration": 5,
    "start_time": "2022-10-14T06:20:52.749Z"
   },
   {
    "duration": 4,
    "start_time": "2022-10-14T06:20:54.965Z"
   },
   {
    "duration": 15,
    "start_time": "2022-10-14T06:20:56.590Z"
   },
   {
    "duration": 15,
    "start_time": "2022-10-14T06:20:59.532Z"
   },
   {
    "duration": 4,
    "start_time": "2022-10-14T06:20:59.549Z"
   },
   {
    "duration": 13,
    "start_time": "2022-10-14T06:20:59.554Z"
   },
   {
    "duration": 6,
    "start_time": "2022-10-14T06:20:59.569Z"
   },
   {
    "duration": 398,
    "start_time": "2022-10-14T06:20:59.577Z"
   },
   {
    "duration": 10,
    "start_time": "2022-10-14T06:20:59.978Z"
   },
   {
    "duration": 466,
    "start_time": "2022-10-14T06:20:59.990Z"
   },
   {
    "duration": 7,
    "start_time": "2022-10-14T06:21:00.457Z"
   },
   {
    "duration": 904,
    "start_time": "2022-10-14T06:21:00.466Z"
   },
   {
    "duration": 10,
    "start_time": "2022-10-14T06:21:01.372Z"
   },
   {
    "duration": 39,
    "start_time": "2022-10-14T06:21:01.384Z"
   },
   {
    "duration": 41,
    "start_time": "2022-10-14T06:21:01.425Z"
   },
   {
    "duration": 16,
    "start_time": "2022-10-14T06:21:30.656Z"
   },
   {
    "duration": 4,
    "start_time": "2022-10-14T06:23:06.688Z"
   },
   {
    "duration": 4,
    "start_time": "2022-10-14T06:23:22.712Z"
   },
   {
    "duration": 4,
    "start_time": "2022-10-14T06:23:33.028Z"
   },
   {
    "duration": 103,
    "start_time": "2022-10-14T06:23:39.765Z"
   },
   {
    "duration": 10,
    "start_time": "2022-10-14T06:23:39.870Z"
   },
   {
    "duration": 16,
    "start_time": "2022-10-14T06:23:39.882Z"
   },
   {
    "duration": 9,
    "start_time": "2022-10-14T06:23:39.901Z"
   },
   {
    "duration": 11,
    "start_time": "2022-10-14T06:23:39.912Z"
   },
   {
    "duration": 25,
    "start_time": "2022-10-14T06:23:39.934Z"
   },
   {
    "duration": 14,
    "start_time": "2022-10-14T06:23:39.961Z"
   },
   {
    "duration": 18,
    "start_time": "2022-10-14T06:23:39.976Z"
   },
   {
    "duration": 6,
    "start_time": "2022-10-14T06:23:39.996Z"
   },
   {
    "duration": 16,
    "start_time": "2022-10-14T06:23:40.032Z"
   },
   {
    "duration": 40,
    "start_time": "2022-10-14T06:23:40.050Z"
   },
   {
    "duration": 6,
    "start_time": "2022-10-14T06:23:40.093Z"
   },
   {
    "duration": 20,
    "start_time": "2022-10-14T06:23:40.101Z"
   },
   {
    "duration": 28,
    "start_time": "2022-10-14T06:23:40.124Z"
   },
   {
    "duration": 8,
    "start_time": "2022-10-14T06:23:40.154Z"
   },
   {
    "duration": 18,
    "start_time": "2022-10-14T06:23:40.164Z"
   },
   {
    "duration": 9,
    "start_time": "2022-10-14T06:23:40.184Z"
   },
   {
    "duration": 9,
    "start_time": "2022-10-14T06:23:40.195Z"
   },
   {
    "duration": 32,
    "start_time": "2022-10-14T06:23:40.206Z"
   },
   {
    "duration": 23,
    "start_time": "2022-10-14T06:23:40.248Z"
   },
   {
    "duration": 8,
    "start_time": "2022-10-14T06:23:40.273Z"
   },
   {
    "duration": 6,
    "start_time": "2022-10-14T06:23:40.282Z"
   },
   {
    "duration": 24,
    "start_time": "2022-10-14T06:23:40.289Z"
   },
   {
    "duration": 28,
    "start_time": "2022-10-14T06:23:40.314Z"
   },
   {
    "duration": 7,
    "start_time": "2022-10-14T06:23:40.349Z"
   },
   {
    "duration": 7,
    "start_time": "2022-10-14T06:23:40.358Z"
   },
   {
    "duration": 14,
    "start_time": "2022-10-14T06:23:40.367Z"
   },
   {
    "duration": 13,
    "start_time": "2022-10-14T06:23:40.384Z"
   },
   {
    "duration": 5,
    "start_time": "2022-10-14T06:23:40.398Z"
   },
   {
    "duration": 10,
    "start_time": "2022-10-14T06:23:40.404Z"
   },
   {
    "duration": 33,
    "start_time": "2022-10-14T06:23:40.416Z"
   },
   {
    "duration": 314,
    "start_time": "2022-10-14T06:23:40.450Z"
   },
   {
    "duration": 7,
    "start_time": "2022-10-14T06:23:40.766Z"
   },
   {
    "duration": 406,
    "start_time": "2022-10-14T06:23:40.775Z"
   },
   {
    "duration": 6,
    "start_time": "2022-10-14T06:23:41.183Z"
   },
   {
    "duration": 4,
    "start_time": "2022-10-14T06:23:43.498Z"
   },
   {
    "duration": 940,
    "start_time": "2022-10-14T06:24:13.550Z"
   },
   {
    "duration": 10,
    "start_time": "2022-10-14T06:24:16.146Z"
   },
   {
    "duration": 18,
    "start_time": "2022-10-14T06:24:18.999Z"
   },
   {
    "duration": 16,
    "start_time": "2022-10-14T06:25:08.612Z"
   },
   {
    "duration": 470,
    "start_time": "2022-10-14T06:26:55.425Z"
   },
   {
    "duration": 91,
    "start_time": "2022-10-14T06:26:59.880Z"
   },
   {
    "duration": 11,
    "start_time": "2022-10-14T06:26:59.973Z"
   },
   {
    "duration": 18,
    "start_time": "2022-10-14T06:26:59.985Z"
   },
   {
    "duration": 5,
    "start_time": "2022-10-14T06:27:00.005Z"
   },
   {
    "duration": 26,
    "start_time": "2022-10-14T06:27:00.011Z"
   },
   {
    "duration": 46,
    "start_time": "2022-10-14T06:27:00.038Z"
   },
   {
    "duration": 13,
    "start_time": "2022-10-14T06:27:00.086Z"
   },
   {
    "duration": 36,
    "start_time": "2022-10-14T06:27:00.100Z"
   },
   {
    "duration": 34,
    "start_time": "2022-10-14T06:27:00.138Z"
   },
   {
    "duration": 19,
    "start_time": "2022-10-14T06:27:00.175Z"
   },
   {
    "duration": 26,
    "start_time": "2022-10-14T06:27:00.196Z"
   },
   {
    "duration": 5,
    "start_time": "2022-10-14T06:27:00.223Z"
   },
   {
    "duration": 28,
    "start_time": "2022-10-14T06:27:00.229Z"
   },
   {
    "duration": 31,
    "start_time": "2022-10-14T06:27:00.259Z"
   },
   {
    "duration": 4,
    "start_time": "2022-10-14T06:27:00.292Z"
   },
   {
    "duration": 20,
    "start_time": "2022-10-14T06:27:00.297Z"
   },
   {
    "duration": 26,
    "start_time": "2022-10-14T06:27:00.319Z"
   },
   {
    "duration": 18,
    "start_time": "2022-10-14T06:27:00.346Z"
   },
   {
    "duration": 35,
    "start_time": "2022-10-14T06:27:00.366Z"
   },
   {
    "duration": 13,
    "start_time": "2022-10-14T06:27:00.403Z"
   },
   {
    "duration": 9,
    "start_time": "2022-10-14T06:27:00.417Z"
   },
   {
    "duration": 19,
    "start_time": "2022-10-14T06:27:00.428Z"
   },
   {
    "duration": 52,
    "start_time": "2022-10-14T06:27:00.448Z"
   },
   {
    "duration": 29,
    "start_time": "2022-10-14T06:27:00.502Z"
   },
   {
    "duration": 29,
    "start_time": "2022-10-14T06:27:00.532Z"
   },
   {
    "duration": 23,
    "start_time": "2022-10-14T06:27:00.563Z"
   },
   {
    "duration": 41,
    "start_time": "2022-10-14T06:27:00.588Z"
   },
   {
    "duration": 51,
    "start_time": "2022-10-14T06:27:00.632Z"
   },
   {
    "duration": 27,
    "start_time": "2022-10-14T06:27:00.685Z"
   },
   {
    "duration": 38,
    "start_time": "2022-10-14T06:27:00.713Z"
   },
   {
    "duration": 24,
    "start_time": "2022-10-14T06:27:00.753Z"
   },
   {
    "duration": 330,
    "start_time": "2022-10-14T06:27:00.779Z"
   },
   {
    "duration": 9,
    "start_time": "2022-10-14T06:27:01.111Z"
   },
   {
    "duration": 398,
    "start_time": "2022-10-14T06:27:01.122Z"
   },
   {
    "duration": 12,
    "start_time": "2022-10-14T06:27:01.522Z"
   },
   {
    "duration": 829,
    "start_time": "2022-10-14T06:27:10.148Z"
   },
   {
    "duration": 14,
    "start_time": "2022-10-14T06:27:16.381Z"
   },
   {
    "duration": 10,
    "start_time": "2022-10-14T06:27:36.412Z"
   },
   {
    "duration": 8,
    "start_time": "2022-10-14T06:27:40.380Z"
   },
   {
    "duration": 10,
    "start_time": "2022-10-14T06:27:45.588Z"
   },
   {
    "duration": 18,
    "start_time": "2022-10-14T06:28:01.602Z"
   },
   {
    "duration": 15,
    "start_time": "2022-10-14T06:28:06.637Z"
   },
   {
    "duration": 19,
    "start_time": "2022-10-14T06:28:28.783Z"
   },
   {
    "duration": 18,
    "start_time": "2022-10-14T06:28:49.654Z"
   },
   {
    "duration": 28,
    "start_time": "2022-10-14T06:29:14.279Z"
   },
   {
    "duration": 17,
    "start_time": "2022-10-14T06:29:26.752Z"
   },
   {
    "duration": 17,
    "start_time": "2022-10-14T06:29:47.478Z"
   },
   {
    "duration": 17,
    "start_time": "2022-10-14T06:31:17.696Z"
   },
   {
    "duration": 17,
    "start_time": "2022-10-14T06:31:33.000Z"
   },
   {
    "duration": 9,
    "start_time": "2022-10-14T06:32:29.812Z"
   },
   {
    "duration": 25,
    "start_time": "2022-10-14T06:37:03.816Z"
   },
   {
    "duration": 22,
    "start_time": "2022-10-14T06:39:02.550Z"
   },
   {
    "duration": 25,
    "start_time": "2022-10-14T06:39:07.087Z"
   },
   {
    "duration": 30,
    "start_time": "2022-10-14T06:39:46.240Z"
   },
   {
    "duration": 29,
    "start_time": "2022-10-14T06:41:08.888Z"
   },
   {
    "duration": 32,
    "start_time": "2022-10-14T06:41:45.538Z"
   },
   {
    "duration": 39,
    "start_time": "2022-10-14T06:42:13.516Z"
   },
   {
    "duration": 28,
    "start_time": "2022-10-14T06:42:45.894Z"
   },
   {
    "duration": 23,
    "start_time": "2022-10-14T06:44:54.408Z"
   },
   {
    "duration": 20,
    "start_time": "2022-10-14T06:45:13.878Z"
   },
   {
    "duration": 26,
    "start_time": "2022-10-14T06:45:32.791Z"
   },
   {
    "duration": 39,
    "start_time": "2022-10-14T06:45:54.268Z"
   },
   {
    "duration": 27,
    "start_time": "2022-10-14T06:46:16.310Z"
   },
   {
    "duration": 31,
    "start_time": "2022-10-14T06:46:35.227Z"
   },
   {
    "duration": 4156,
    "start_time": "2022-10-14T06:50:17.271Z"
   },
   {
    "duration": 4208,
    "start_time": "2022-10-14T06:50:53.726Z"
   },
   {
    "duration": 8490,
    "start_time": "2022-10-14T06:52:13.408Z"
   },
   {
    "duration": 16,
    "start_time": "2022-10-14T06:53:52.515Z"
   },
   {
    "duration": 19,
    "start_time": "2022-10-14T06:54:55.041Z"
   },
   {
    "duration": 18,
    "start_time": "2022-10-14T06:55:51.783Z"
   },
   {
    "duration": 18,
    "start_time": "2022-10-14T06:57:49.271Z"
   },
   {
    "duration": 9729,
    "start_time": "2022-10-14T06:59:08.407Z"
   },
   {
    "duration": 8991,
    "start_time": "2022-10-14T06:59:31.796Z"
   },
   {
    "duration": 17,
    "start_time": "2022-10-14T07:00:35.047Z"
   },
   {
    "duration": 14,
    "start_time": "2022-10-14T07:01:17.826Z"
   },
   {
    "duration": 11,
    "start_time": "2022-10-14T07:01:32.825Z"
   },
   {
    "duration": 104,
    "start_time": "2022-10-14T07:01:49.434Z"
   },
   {
    "duration": 14,
    "start_time": "2022-10-14T07:01:49.540Z"
   },
   {
    "duration": 21,
    "start_time": "2022-10-14T07:01:49.556Z"
   },
   {
    "duration": 5,
    "start_time": "2022-10-14T07:01:49.580Z"
   },
   {
    "duration": 11,
    "start_time": "2022-10-14T07:01:49.587Z"
   },
   {
    "duration": 47,
    "start_time": "2022-10-14T07:01:49.600Z"
   },
   {
    "duration": 22,
    "start_time": "2022-10-14T07:01:49.649Z"
   },
   {
    "duration": 25,
    "start_time": "2022-10-14T07:01:49.673Z"
   },
   {
    "duration": 18,
    "start_time": "2022-10-14T07:01:49.700Z"
   },
   {
    "duration": 5,
    "start_time": "2022-10-14T07:01:49.735Z"
   },
   {
    "duration": 27,
    "start_time": "2022-10-14T07:01:49.742Z"
   },
   {
    "duration": 9,
    "start_time": "2022-10-14T07:01:49.771Z"
   },
   {
    "duration": 14,
    "start_time": "2022-10-14T07:01:49.782Z"
   },
   {
    "duration": 41,
    "start_time": "2022-10-14T07:01:49.798Z"
   },
   {
    "duration": 5,
    "start_time": "2022-10-14T07:01:49.841Z"
   },
   {
    "duration": 27,
    "start_time": "2022-10-14T07:01:49.849Z"
   },
   {
    "duration": 10,
    "start_time": "2022-10-14T07:01:49.877Z"
   },
   {
    "duration": 7,
    "start_time": "2022-10-14T07:01:49.888Z"
   },
   {
    "duration": 23,
    "start_time": "2022-10-14T07:01:49.897Z"
   },
   {
    "duration": 21,
    "start_time": "2022-10-14T07:01:49.922Z"
   },
   {
    "duration": 9,
    "start_time": "2022-10-14T07:01:49.945Z"
   },
   {
    "duration": 16,
    "start_time": "2022-10-14T07:01:49.957Z"
   },
   {
    "duration": 26,
    "start_time": "2022-10-14T07:01:49.974Z"
   },
   {
    "duration": 17,
    "start_time": "2022-10-14T07:01:50.002Z"
   },
   {
    "duration": 30,
    "start_time": "2022-10-14T07:01:50.020Z"
   },
   {
    "duration": 23,
    "start_time": "2022-10-14T07:01:50.052Z"
   },
   {
    "duration": 21,
    "start_time": "2022-10-14T07:01:50.077Z"
   },
   {
    "duration": 30,
    "start_time": "2022-10-14T07:01:50.101Z"
   },
   {
    "duration": 5,
    "start_time": "2022-10-14T07:01:50.133Z"
   },
   {
    "duration": 33,
    "start_time": "2022-10-14T07:01:50.140Z"
   },
   {
    "duration": 35,
    "start_time": "2022-10-14T07:01:50.176Z"
   },
   {
    "duration": 358,
    "start_time": "2022-10-14T07:01:50.213Z"
   },
   {
    "duration": 7,
    "start_time": "2022-10-14T07:01:50.573Z"
   },
   {
    "duration": 492,
    "start_time": "2022-10-14T07:01:50.581Z"
   },
   {
    "duration": 5,
    "start_time": "2022-10-14T07:01:51.076Z"
   },
   {
    "duration": 999,
    "start_time": "2022-10-14T07:01:51.083Z"
   },
   {
    "duration": 8,
    "start_time": "2022-10-14T07:01:52.084Z"
   },
   {
    "duration": 9638,
    "start_time": "2022-10-14T07:02:00.451Z"
   },
   {
    "duration": 12,
    "start_time": "2022-10-14T07:02:48.244Z"
   },
   {
    "duration": 15,
    "start_time": "2022-10-14T07:05:38.872Z"
   },
   {
    "duration": 13,
    "start_time": "2022-10-14T07:06:10.753Z"
   },
   {
    "duration": 11,
    "start_time": "2022-10-14T07:06:34.996Z"
   },
   {
    "duration": 8700,
    "start_time": "2022-10-14T07:07:23.463Z"
   },
   {
    "duration": 8,
    "start_time": "2022-10-14T07:07:44.706Z"
   },
   {
    "duration": 15,
    "start_time": "2022-10-14T07:09:53.294Z"
   },
   {
    "duration": 17,
    "start_time": "2022-10-14T07:10:39.358Z"
   },
   {
    "duration": 15,
    "start_time": "2022-10-14T07:11:04.717Z"
   },
   {
    "duration": 19,
    "start_time": "2022-10-14T07:11:20.075Z"
   },
   {
    "duration": 16,
    "start_time": "2022-10-14T07:11:38.356Z"
   },
   {
    "duration": 10811,
    "start_time": "2022-10-14T07:12:28.565Z"
   },
   {
    "duration": 11,
    "start_time": "2022-10-14T07:12:55.672Z"
   },
   {
    "duration": 14,
    "start_time": "2022-10-14T07:14:10.180Z"
   },
   {
    "duration": 12,
    "start_time": "2022-10-14T07:14:31.112Z"
   },
   {
    "duration": 11,
    "start_time": "2022-10-14T07:14:34.073Z"
   },
   {
    "duration": 17,
    "start_time": "2022-10-14T07:14:53.920Z"
   },
   {
    "duration": 18,
    "start_time": "2022-10-14T07:15:30.495Z"
   },
   {
    "duration": 493,
    "start_time": "2022-10-14T07:16:39.641Z"
   },
   {
    "duration": 11,
    "start_time": "2022-10-14T07:16:40.136Z"
   },
   {
    "duration": 26,
    "start_time": "2022-10-14T07:16:40.148Z"
   },
   {
    "duration": 7,
    "start_time": "2022-10-14T07:16:40.176Z"
   },
   {
    "duration": 26,
    "start_time": "2022-10-14T07:16:40.185Z"
   },
   {
    "duration": 42,
    "start_time": "2022-10-14T07:16:40.212Z"
   },
   {
    "duration": 14,
    "start_time": "2022-10-14T07:16:40.256Z"
   },
   {
    "duration": 28,
    "start_time": "2022-10-14T07:16:40.271Z"
   },
   {
    "duration": 6,
    "start_time": "2022-10-14T07:16:40.301Z"
   },
   {
    "duration": 29,
    "start_time": "2022-10-14T07:16:40.309Z"
   },
   {
    "duration": 21,
    "start_time": "2022-10-14T07:16:40.339Z"
   },
   {
    "duration": 7,
    "start_time": "2022-10-14T07:16:40.361Z"
   },
   {
    "duration": 19,
    "start_time": "2022-10-14T07:16:40.369Z"
   },
   {
    "duration": 30,
    "start_time": "2022-10-14T07:16:40.389Z"
   },
   {
    "duration": 3,
    "start_time": "2022-10-14T07:16:40.421Z"
   },
   {
    "duration": 22,
    "start_time": "2022-10-14T07:16:40.426Z"
   },
   {
    "duration": 14,
    "start_time": "2022-10-14T07:16:40.450Z"
   },
   {
    "duration": 12,
    "start_time": "2022-10-14T07:16:40.466Z"
   },
   {
    "duration": 24,
    "start_time": "2022-10-14T07:16:40.480Z"
   },
   {
    "duration": 27,
    "start_time": "2022-10-14T07:16:40.506Z"
   },
   {
    "duration": 9,
    "start_time": "2022-10-14T07:16:40.535Z"
   },
   {
    "duration": 8,
    "start_time": "2022-10-14T07:16:40.546Z"
   },
   {
    "duration": 24,
    "start_time": "2022-10-14T07:16:40.555Z"
   },
   {
    "duration": 17,
    "start_time": "2022-10-14T07:16:40.580Z"
   },
   {
    "duration": 8,
    "start_time": "2022-10-14T07:16:40.599Z"
   },
   {
    "duration": 10,
    "start_time": "2022-10-14T07:16:40.608Z"
   },
   {
    "duration": 19,
    "start_time": "2022-10-14T07:16:40.620Z"
   },
   {
    "duration": 13,
    "start_time": "2022-10-14T07:16:40.642Z"
   },
   {
    "duration": 15,
    "start_time": "2022-10-14T07:16:40.657Z"
   },
   {
    "duration": 23,
    "start_time": "2022-10-14T07:16:40.673Z"
   },
   {
    "duration": 16,
    "start_time": "2022-10-14T07:16:40.698Z"
   },
   {
    "duration": 550,
    "start_time": "2022-10-14T07:16:40.716Z"
   },
   {
    "duration": 7,
    "start_time": "2022-10-14T07:16:41.268Z"
   },
   {
    "duration": 414,
    "start_time": "2022-10-14T07:16:41.277Z"
   },
   {
    "duration": 7,
    "start_time": "2022-10-14T07:16:41.692Z"
   },
   {
    "duration": 891,
    "start_time": "2022-10-14T07:16:41.701Z"
   },
   {
    "duration": 7,
    "start_time": "2022-10-14T07:16:42.594Z"
   },
   {
    "duration": 10645,
    "start_time": "2022-10-14T07:16:42.603Z"
   },
   {
    "duration": 12,
    "start_time": "2022-10-14T07:16:53.250Z"
   },
   {
    "duration": 19,
    "start_time": "2022-10-14T07:16:53.264Z"
   },
   {
    "duration": 10,
    "start_time": "2022-10-14T07:17:19.621Z"
   },
   {
    "duration": 886,
    "start_time": "2022-10-14T07:19:06.803Z"
   },
   {
    "duration": 10,
    "start_time": "2022-10-14T07:19:12.171Z"
   },
   {
    "duration": 11206,
    "start_time": "2022-10-14T07:19:19.745Z"
   },
   {
    "duration": 18,
    "start_time": "2022-10-14T07:19:30.953Z"
   },
   {
    "duration": 14,
    "start_time": "2022-10-14T07:19:43.485Z"
   },
   {
    "duration": 12,
    "start_time": "2022-10-14T07:19:54.776Z"
   },
   {
    "duration": 9,
    "start_time": "2022-10-14T07:20:46.010Z"
   },
   {
    "duration": 10,
    "start_time": "2022-10-14T07:21:18.554Z"
   },
   {
    "duration": 521,
    "start_time": "2022-10-14T07:22:42.021Z"
   },
   {
    "duration": 11,
    "start_time": "2022-10-14T07:22:42.544Z"
   },
   {
    "duration": 16,
    "start_time": "2022-10-14T07:22:42.557Z"
   },
   {
    "duration": 5,
    "start_time": "2022-10-14T07:22:42.575Z"
   },
   {
    "duration": 21,
    "start_time": "2022-10-14T07:22:42.582Z"
   },
   {
    "duration": 36,
    "start_time": "2022-10-14T07:22:42.605Z"
   },
   {
    "duration": 15,
    "start_time": "2022-10-14T07:22:42.643Z"
   },
   {
    "duration": 23,
    "start_time": "2022-10-14T07:22:42.660Z"
   },
   {
    "duration": 7,
    "start_time": "2022-10-14T07:22:42.684Z"
   },
   {
    "duration": 6,
    "start_time": "2022-10-14T07:22:42.694Z"
   },
   {
    "duration": 50,
    "start_time": "2022-10-14T07:22:42.702Z"
   },
   {
    "duration": 5,
    "start_time": "2022-10-14T07:22:42.753Z"
   },
   {
    "duration": 11,
    "start_time": "2022-10-14T07:22:42.759Z"
   },
   {
    "duration": 21,
    "start_time": "2022-10-14T07:22:42.771Z"
   },
   {
    "duration": 4,
    "start_time": "2022-10-14T07:22:42.794Z"
   },
   {
    "duration": 16,
    "start_time": "2022-10-14T07:22:42.800Z"
   },
   {
    "duration": 16,
    "start_time": "2022-10-14T07:22:42.833Z"
   },
   {
    "duration": 11,
    "start_time": "2022-10-14T07:22:42.851Z"
   },
   {
    "duration": 21,
    "start_time": "2022-10-14T07:22:42.863Z"
   },
   {
    "duration": 18,
    "start_time": "2022-10-14T07:22:42.886Z"
   },
   {
    "duration": 8,
    "start_time": "2022-10-14T07:22:42.906Z"
   },
   {
    "duration": 19,
    "start_time": "2022-10-14T07:22:42.915Z"
   },
   {
    "duration": 21,
    "start_time": "2022-10-14T07:22:42.935Z"
   },
   {
    "duration": 18,
    "start_time": "2022-10-14T07:22:42.958Z"
   },
   {
    "duration": 7,
    "start_time": "2022-10-14T07:22:42.977Z"
   },
   {
    "duration": 5,
    "start_time": "2022-10-14T07:22:42.985Z"
   },
   {
    "duration": 18,
    "start_time": "2022-10-14T07:22:42.991Z"
   },
   {
    "duration": 16,
    "start_time": "2022-10-14T07:22:43.034Z"
   },
   {
    "duration": 4,
    "start_time": "2022-10-14T07:22:43.052Z"
   },
   {
    "duration": 17,
    "start_time": "2022-10-14T07:22:43.057Z"
   },
   {
    "duration": 4,
    "start_time": "2022-10-14T07:22:43.075Z"
   },
   {
    "duration": 545,
    "start_time": "2022-10-14T07:22:43.080Z"
   },
   {
    "duration": 12,
    "start_time": "2022-10-14T07:22:43.627Z"
   },
   {
    "duration": 402,
    "start_time": "2022-10-14T07:22:43.641Z"
   },
   {
    "duration": 9,
    "start_time": "2022-10-14T07:22:44.045Z"
   },
   {
    "duration": 881,
    "start_time": "2022-10-14T07:22:44.056Z"
   },
   {
    "duration": 7,
    "start_time": "2022-10-14T07:22:44.939Z"
   },
   {
    "duration": 10644,
    "start_time": "2022-10-14T07:22:44.948Z"
   },
   {
    "duration": 14,
    "start_time": "2022-10-14T07:22:55.594Z"
   },
   {
    "duration": 16,
    "start_time": "2022-10-14T07:24:10.740Z"
   },
   {
    "duration": 11,
    "start_time": "2022-10-14T07:24:13.027Z"
   },
   {
    "duration": 17,
    "start_time": "2022-10-14T07:24:15.263Z"
   },
   {
    "duration": 13,
    "start_time": "2022-10-14T07:25:55.333Z"
   },
   {
    "duration": 505,
    "start_time": "2022-10-14T07:26:14.636Z"
   },
   {
    "duration": 12,
    "start_time": "2022-10-14T07:26:15.143Z"
   },
   {
    "duration": 25,
    "start_time": "2022-10-14T07:26:15.157Z"
   },
   {
    "duration": 5,
    "start_time": "2022-10-14T07:26:15.184Z"
   },
   {
    "duration": 18,
    "start_time": "2022-10-14T07:26:15.190Z"
   },
   {
    "duration": 40,
    "start_time": "2022-10-14T07:26:15.210Z"
   },
   {
    "duration": 23,
    "start_time": "2022-10-14T07:26:15.252Z"
   },
   {
    "duration": 23,
    "start_time": "2022-10-14T07:26:15.277Z"
   },
   {
    "duration": 10,
    "start_time": "2022-10-14T07:26:15.301Z"
   },
   {
    "duration": 22,
    "start_time": "2022-10-14T07:26:15.335Z"
   },
   {
    "duration": 33,
    "start_time": "2022-10-14T07:26:15.358Z"
   },
   {
    "duration": 5,
    "start_time": "2022-10-14T07:26:15.392Z"
   },
   {
    "duration": 16,
    "start_time": "2022-10-14T07:26:15.398Z"
   },
   {
    "duration": 18,
    "start_time": "2022-10-14T07:26:15.416Z"
   },
   {
    "duration": 4,
    "start_time": "2022-10-14T07:26:15.436Z"
   },
   {
    "duration": 19,
    "start_time": "2022-10-14T07:26:15.442Z"
   },
   {
    "duration": 13,
    "start_time": "2022-10-14T07:26:15.463Z"
   },
   {
    "duration": 17,
    "start_time": "2022-10-14T07:26:15.478Z"
   },
   {
    "duration": 24,
    "start_time": "2022-10-14T07:26:15.496Z"
   },
   {
    "duration": 17,
    "start_time": "2022-10-14T07:26:15.521Z"
   },
   {
    "duration": 11,
    "start_time": "2022-10-14T07:26:15.540Z"
   },
   {
    "duration": 8,
    "start_time": "2022-10-14T07:26:15.553Z"
   },
   {
    "duration": 24,
    "start_time": "2022-10-14T07:26:15.563Z"
   },
   {
    "duration": 17,
    "start_time": "2022-10-14T07:26:15.589Z"
   },
   {
    "duration": 11,
    "start_time": "2022-10-14T07:26:15.608Z"
   },
   {
    "duration": 17,
    "start_time": "2022-10-14T07:26:15.620Z"
   },
   {
    "duration": 31,
    "start_time": "2022-10-14T07:26:15.639Z"
   },
   {
    "duration": 18,
    "start_time": "2022-10-14T07:26:15.674Z"
   },
   {
    "duration": 4,
    "start_time": "2022-10-14T07:26:15.694Z"
   },
   {
    "duration": 10,
    "start_time": "2022-10-14T07:26:15.700Z"
   },
   {
    "duration": 5,
    "start_time": "2022-10-14T07:26:15.712Z"
   },
   {
    "duration": 651,
    "start_time": "2022-10-14T07:26:15.733Z"
   },
   {
    "duration": 10,
    "start_time": "2022-10-14T07:26:16.386Z"
   },
   {
    "duration": 444,
    "start_time": "2022-10-14T07:26:16.398Z"
   },
   {
    "duration": 8,
    "start_time": "2022-10-14T07:26:16.845Z"
   },
   {
    "duration": 917,
    "start_time": "2022-10-14T07:26:16.855Z"
   },
   {
    "duration": 8,
    "start_time": "2022-10-14T07:26:17.773Z"
   },
   {
    "duration": 11188,
    "start_time": "2022-10-14T07:26:17.782Z"
   },
   {
    "duration": 14,
    "start_time": "2022-10-14T07:26:28.971Z"
   },
   {
    "duration": 19,
    "start_time": "2022-10-14T07:26:28.986Z"
   },
   {
    "duration": 11,
    "start_time": "2022-10-14T07:26:29.007Z"
   },
   {
    "duration": 19,
    "start_time": "2022-10-14T07:26:29.033Z"
   },
   {
    "duration": 13,
    "start_time": "2022-10-14T07:32:25.982Z"
   },
   {
    "duration": 20,
    "start_time": "2022-10-14T07:32:50.346Z"
   },
   {
    "duration": 10,
    "start_time": "2022-10-14T07:32:58.086Z"
   },
   {
    "duration": 18,
    "start_time": "2022-10-14T07:33:26.807Z"
   },
   {
    "duration": 1042,
    "start_time": "2022-10-14T07:34:46.779Z"
   },
   {
    "duration": 19,
    "start_time": "2022-10-14T07:35:14.676Z"
   },
   {
    "duration": 12,
    "start_time": "2022-10-14T07:36:36.176Z"
   },
   {
    "duration": 13,
    "start_time": "2022-10-14T07:36:39.983Z"
   },
   {
    "duration": 12,
    "start_time": "2022-10-14T07:36:54.667Z"
   },
   {
    "duration": 20,
    "start_time": "2022-10-14T07:37:03.228Z"
   },
   {
    "duration": 21,
    "start_time": "2022-10-14T07:40:02.206Z"
   },
   {
    "duration": 904,
    "start_time": "2022-10-14T07:41:58.402Z"
   },
   {
    "duration": 14,
    "start_time": "2022-10-14T07:41:59.498Z"
   },
   {
    "duration": 11534,
    "start_time": "2022-10-14T07:42:03.502Z"
   },
   {
    "duration": 19,
    "start_time": "2022-10-14T07:42:15.038Z"
   },
   {
    "duration": 772,
    "start_time": "2022-10-14T07:42:53.766Z"
   },
   {
    "duration": 6,
    "start_time": "2022-10-14T07:43:27.725Z"
   },
   {
    "duration": 4,
    "start_time": "2022-10-14T07:44:07.929Z"
   },
   {
    "duration": 6,
    "start_time": "2022-10-14T07:44:14.552Z"
   },
   {
    "duration": 6,
    "start_time": "2022-10-14T07:44:20.346Z"
   },
   {
    "duration": 6,
    "start_time": "2022-10-14T07:44:54.961Z"
   },
   {
    "duration": 5,
    "start_time": "2022-10-14T07:45:41.367Z"
   },
   {
    "duration": 13,
    "start_time": "2022-10-14T07:45:53.939Z"
   },
   {
    "duration": 20,
    "start_time": "2022-10-14T07:46:11.800Z"
   },
   {
    "duration": 93,
    "start_time": "2022-10-14T07:46:55.962Z"
   },
   {
    "duration": 16,
    "start_time": "2022-10-14T07:46:56.058Z"
   },
   {
    "duration": 34,
    "start_time": "2022-10-14T07:46:56.077Z"
   },
   {
    "duration": 8,
    "start_time": "2022-10-14T07:46:56.115Z"
   },
   {
    "duration": 22,
    "start_time": "2022-10-14T07:46:56.125Z"
   },
   {
    "duration": 56,
    "start_time": "2022-10-14T07:46:56.149Z"
   },
   {
    "duration": 54,
    "start_time": "2022-10-14T07:46:56.207Z"
   },
   {
    "duration": 41,
    "start_time": "2022-10-14T07:46:56.264Z"
   },
   {
    "duration": 7,
    "start_time": "2022-10-14T07:46:56.307Z"
   },
   {
    "duration": 37,
    "start_time": "2022-10-14T07:46:56.319Z"
   },
   {
    "duration": 48,
    "start_time": "2022-10-14T07:46:56.359Z"
   },
   {
    "duration": 7,
    "start_time": "2022-10-14T07:46:56.410Z"
   },
   {
    "duration": 24,
    "start_time": "2022-10-14T07:46:56.419Z"
   },
   {
    "duration": 53,
    "start_time": "2022-10-14T07:46:56.445Z"
   },
   {
    "duration": 20,
    "start_time": "2022-10-14T07:46:56.500Z"
   },
   {
    "duration": 19,
    "start_time": "2022-10-14T07:46:56.522Z"
   },
   {
    "duration": 25,
    "start_time": "2022-10-14T07:46:56.543Z"
   },
   {
    "duration": 20,
    "start_time": "2022-10-14T07:46:56.570Z"
   },
   {
    "duration": 27,
    "start_time": "2022-10-14T07:46:56.592Z"
   },
   {
    "duration": 27,
    "start_time": "2022-10-14T07:46:56.621Z"
   },
   {
    "duration": 29,
    "start_time": "2022-10-14T07:46:56.650Z"
   },
   {
    "duration": 24,
    "start_time": "2022-10-14T07:46:56.683Z"
   },
   {
    "duration": 33,
    "start_time": "2022-10-14T07:46:56.709Z"
   },
   {
    "duration": 28,
    "start_time": "2022-10-14T07:46:56.745Z"
   },
   {
    "duration": 11,
    "start_time": "2022-10-14T07:46:56.775Z"
   },
   {
    "duration": 6,
    "start_time": "2022-10-14T07:46:56.788Z"
   },
   {
    "duration": 15,
    "start_time": "2022-10-14T07:46:56.796Z"
   },
   {
    "duration": 31,
    "start_time": "2022-10-14T07:46:56.815Z"
   },
   {
    "duration": 5,
    "start_time": "2022-10-14T07:46:56.848Z"
   },
   {
    "duration": 24,
    "start_time": "2022-10-14T07:46:56.854Z"
   },
   {
    "duration": 6,
    "start_time": "2022-10-14T07:46:56.880Z"
   },
   {
    "duration": 434,
    "start_time": "2022-10-14T07:46:56.888Z"
   },
   {
    "duration": 16,
    "start_time": "2022-10-14T07:46:57.325Z"
   },
   {
    "duration": 473,
    "start_time": "2022-10-14T07:46:57.345Z"
   },
   {
    "duration": 7,
    "start_time": "2022-10-14T07:46:57.820Z"
   },
   {
    "duration": 981,
    "start_time": "2022-10-14T07:46:57.829Z"
   },
   {
    "duration": 8,
    "start_time": "2022-10-14T07:46:58.812Z"
   },
   {
    "duration": 12042,
    "start_time": "2022-10-14T07:46:58.822Z"
   },
   {
    "duration": 15,
    "start_time": "2022-10-14T07:47:10.867Z"
   },
   {
    "duration": 51,
    "start_time": "2022-10-14T07:47:10.884Z"
   },
   {
    "duration": 11,
    "start_time": "2022-10-14T07:47:16.571Z"
   },
   {
    "duration": 30,
    "start_time": "2022-10-14T07:47:59.773Z"
   },
   {
    "duration": 4,
    "start_time": "2022-10-14T07:48:33.892Z"
   },
   {
    "duration": 22,
    "start_time": "2022-10-14T07:48:37.154Z"
   },
   {
    "duration": 4,
    "start_time": "2022-10-14T07:48:43.086Z"
   },
   {
    "duration": 31,
    "start_time": "2022-10-14T07:48:46.245Z"
   },
   {
    "duration": 110,
    "start_time": "2022-10-14T07:50:22.877Z"
   },
   {
    "duration": 14,
    "start_time": "2022-10-14T07:50:22.989Z"
   },
   {
    "duration": 31,
    "start_time": "2022-10-14T07:50:23.005Z"
   },
   {
    "duration": 11,
    "start_time": "2022-10-14T07:50:23.039Z"
   },
   {
    "duration": 39,
    "start_time": "2022-10-14T07:50:23.051Z"
   },
   {
    "duration": 23,
    "start_time": "2022-10-14T07:50:23.092Z"
   },
   {
    "duration": 15,
    "start_time": "2022-10-14T07:50:23.117Z"
   },
   {
    "duration": 35,
    "start_time": "2022-10-14T07:50:23.135Z"
   },
   {
    "duration": 12,
    "start_time": "2022-10-14T07:50:23.172Z"
   },
   {
    "duration": 17,
    "start_time": "2022-10-14T07:50:23.187Z"
   },
   {
    "duration": 28,
    "start_time": "2022-10-14T07:50:23.206Z"
   },
   {
    "duration": 6,
    "start_time": "2022-10-14T07:50:23.236Z"
   },
   {
    "duration": 23,
    "start_time": "2022-10-14T07:50:23.244Z"
   },
   {
    "duration": 28,
    "start_time": "2022-10-14T07:50:23.269Z"
   },
   {
    "duration": 5,
    "start_time": "2022-10-14T07:50:23.299Z"
   },
   {
    "duration": 30,
    "start_time": "2022-10-14T07:50:23.306Z"
   },
   {
    "duration": 13,
    "start_time": "2022-10-14T07:50:23.339Z"
   },
   {
    "duration": 14,
    "start_time": "2022-10-14T07:50:23.357Z"
   },
   {
    "duration": 29,
    "start_time": "2022-10-14T07:50:23.373Z"
   },
   {
    "duration": 40,
    "start_time": "2022-10-14T07:50:23.404Z"
   },
   {
    "duration": 19,
    "start_time": "2022-10-14T07:50:23.447Z"
   },
   {
    "duration": 32,
    "start_time": "2022-10-14T07:50:23.468Z"
   },
   {
    "duration": 24,
    "start_time": "2022-10-14T07:50:23.502Z"
   },
   {
    "duration": 28,
    "start_time": "2022-10-14T07:50:23.527Z"
   },
   {
    "duration": 9,
    "start_time": "2022-10-14T07:50:23.560Z"
   },
   {
    "duration": 9,
    "start_time": "2022-10-14T07:50:23.571Z"
   },
   {
    "duration": 23,
    "start_time": "2022-10-14T07:50:23.582Z"
   },
   {
    "duration": 18,
    "start_time": "2022-10-14T07:50:23.609Z"
   },
   {
    "duration": 8,
    "start_time": "2022-10-14T07:50:23.629Z"
   },
   {
    "duration": 17,
    "start_time": "2022-10-14T07:50:23.638Z"
   },
   {
    "duration": 15,
    "start_time": "2022-10-14T07:50:23.657Z"
   },
   {
    "duration": 344,
    "start_time": "2022-10-14T07:50:23.673Z"
   },
   {
    "duration": 16,
    "start_time": "2022-10-14T07:50:24.019Z"
   },
   {
    "duration": 562,
    "start_time": "2022-10-14T07:50:24.039Z"
   },
   {
    "duration": 7,
    "start_time": "2022-10-14T07:50:24.603Z"
   },
   {
    "duration": 981,
    "start_time": "2022-10-14T07:50:24.612Z"
   },
   {
    "duration": 8,
    "start_time": "2022-10-14T07:50:25.595Z"
   },
   {
    "duration": 12881,
    "start_time": "2022-10-14T07:50:25.605Z"
   },
   {
    "duration": 14,
    "start_time": "2022-10-14T07:50:38.487Z"
   },
   {
    "duration": 9,
    "start_time": "2022-10-14T07:50:46.434Z"
   },
   {
    "duration": 25,
    "start_time": "2022-10-14T07:50:47.926Z"
   },
   {
    "duration": 123,
    "start_time": "2022-10-14T07:51:22.460Z"
   },
   {
    "duration": 13,
    "start_time": "2022-10-14T07:51:22.586Z"
   },
   {
    "duration": 38,
    "start_time": "2022-10-14T07:51:22.601Z"
   },
   {
    "duration": 25,
    "start_time": "2022-10-14T07:51:22.642Z"
   },
   {
    "duration": 42,
    "start_time": "2022-10-14T07:51:22.669Z"
   },
   {
    "duration": 66,
    "start_time": "2022-10-14T07:51:22.713Z"
   },
   {
    "duration": 36,
    "start_time": "2022-10-14T07:51:22.781Z"
   },
   {
    "duration": 37,
    "start_time": "2022-10-14T07:51:22.820Z"
   },
   {
    "duration": 15,
    "start_time": "2022-10-14T07:51:22.859Z"
   },
   {
    "duration": 23,
    "start_time": "2022-10-14T07:51:22.876Z"
   },
   {
    "duration": 31,
    "start_time": "2022-10-14T07:51:22.901Z"
   },
   {
    "duration": 34,
    "start_time": "2022-10-14T07:51:22.935Z"
   },
   {
    "duration": 26,
    "start_time": "2022-10-14T07:51:22.971Z"
   },
   {
    "duration": 31,
    "start_time": "2022-10-14T07:51:23.000Z"
   },
   {
    "duration": 16,
    "start_time": "2022-10-14T07:51:23.033Z"
   },
   {
    "duration": 28,
    "start_time": "2022-10-14T07:51:23.051Z"
   },
   {
    "duration": 28,
    "start_time": "2022-10-14T07:51:23.082Z"
   },
   {
    "duration": 16,
    "start_time": "2022-10-14T07:51:23.111Z"
   },
   {
    "duration": 39,
    "start_time": "2022-10-14T07:51:23.129Z"
   },
   {
    "duration": 47,
    "start_time": "2022-10-14T07:51:23.170Z"
   },
   {
    "duration": 16,
    "start_time": "2022-10-14T07:51:23.219Z"
   },
   {
    "duration": 28,
    "start_time": "2022-10-14T07:51:23.237Z"
   },
   {
    "duration": 26,
    "start_time": "2022-10-14T07:51:23.266Z"
   },
   {
    "duration": 34,
    "start_time": "2022-10-14T07:51:23.294Z"
   },
   {
    "duration": 5,
    "start_time": "2022-10-14T07:51:23.330Z"
   },
   {
    "duration": 9,
    "start_time": "2022-10-14T07:51:23.336Z"
   },
   {
    "duration": 17,
    "start_time": "2022-10-14T07:51:23.346Z"
   },
   {
    "duration": 18,
    "start_time": "2022-10-14T07:51:23.366Z"
   },
   {
    "duration": 5,
    "start_time": "2022-10-14T07:51:23.385Z"
   },
   {
    "duration": 10,
    "start_time": "2022-10-14T07:51:23.391Z"
   },
   {
    "duration": 5,
    "start_time": "2022-10-14T07:51:23.403Z"
   },
   {
    "duration": 342,
    "start_time": "2022-10-14T07:51:23.433Z"
   },
   {
    "duration": 18,
    "start_time": "2022-10-14T07:51:23.777Z"
   },
   {
    "duration": 436,
    "start_time": "2022-10-14T07:51:23.798Z"
   },
   {
    "duration": 6,
    "start_time": "2022-10-14T07:51:24.236Z"
   },
   {
    "duration": 1021,
    "start_time": "2022-10-14T07:51:24.244Z"
   },
   {
    "duration": 10,
    "start_time": "2022-10-14T07:51:25.269Z"
   },
   {
    "duration": 13266,
    "start_time": "2022-10-14T07:51:25.281Z"
   },
   {
    "duration": 22,
    "start_time": "2022-10-14T07:51:38.549Z"
   },
   {
    "duration": 21,
    "start_time": "2022-10-14T07:51:38.573Z"
   },
   {
    "duration": 6,
    "start_time": "2022-10-14T07:51:41.035Z"
   },
   {
    "duration": 24,
    "start_time": "2022-10-14T07:51:42.281Z"
   },
   {
    "duration": 19,
    "start_time": "2022-10-14T07:52:11.792Z"
   },
   {
    "duration": 5,
    "start_time": "2022-10-14T07:53:55.288Z"
   },
   {
    "duration": 27,
    "start_time": "2022-10-14T07:54:44.236Z"
   },
   {
    "duration": 36,
    "start_time": "2022-10-14T07:55:01.531Z"
   },
   {
    "duration": 6,
    "start_time": "2022-10-14T07:55:42.229Z"
   },
   {
    "duration": 809,
    "start_time": "2022-10-14T07:58:39.307Z"
   },
   {
    "duration": 156,
    "start_time": "2022-10-14T08:01:32.189Z"
   },
   {
    "duration": 15,
    "start_time": "2022-10-14T08:01:39.121Z"
   },
   {
    "duration": 115,
    "start_time": "2022-10-14T08:02:11.565Z"
   },
   {
    "duration": 11,
    "start_time": "2022-10-14T08:02:11.682Z"
   },
   {
    "duration": 26,
    "start_time": "2022-10-14T08:02:11.694Z"
   },
   {
    "duration": 7,
    "start_time": "2022-10-14T08:02:11.722Z"
   },
   {
    "duration": 22,
    "start_time": "2022-10-14T08:02:11.730Z"
   },
   {
    "duration": 59,
    "start_time": "2022-10-14T08:02:11.753Z"
   },
   {
    "duration": 25,
    "start_time": "2022-10-14T08:02:11.814Z"
   },
   {
    "duration": 26,
    "start_time": "2022-10-14T08:02:11.842Z"
   },
   {
    "duration": 6,
    "start_time": "2022-10-14T08:02:11.870Z"
   },
   {
    "duration": 10,
    "start_time": "2022-10-14T08:02:11.879Z"
   },
   {
    "duration": 23,
    "start_time": "2022-10-14T08:02:11.890Z"
   },
   {
    "duration": 19,
    "start_time": "2022-10-14T08:02:11.914Z"
   },
   {
    "duration": 15,
    "start_time": "2022-10-14T08:02:11.935Z"
   },
   {
    "duration": 25,
    "start_time": "2022-10-14T08:02:11.953Z"
   },
   {
    "duration": 12,
    "start_time": "2022-10-14T08:02:11.980Z"
   },
   {
    "duration": 16,
    "start_time": "2022-10-14T08:02:11.993Z"
   },
   {
    "duration": 14,
    "start_time": "2022-10-14T08:02:12.010Z"
   },
   {
    "duration": 8,
    "start_time": "2022-10-14T08:02:12.026Z"
   },
   {
    "duration": 33,
    "start_time": "2022-10-14T08:02:12.037Z"
   },
   {
    "duration": 13,
    "start_time": "2022-10-14T08:02:12.071Z"
   },
   {
    "duration": 21,
    "start_time": "2022-10-14T08:02:12.085Z"
   },
   {
    "duration": 13,
    "start_time": "2022-10-14T08:02:12.108Z"
   },
   {
    "duration": 46,
    "start_time": "2022-10-14T08:02:12.123Z"
   },
   {
    "duration": 31,
    "start_time": "2022-10-14T08:02:12.171Z"
   },
   {
    "duration": 13,
    "start_time": "2022-10-14T08:02:12.204Z"
   },
   {
    "duration": 10,
    "start_time": "2022-10-14T08:02:12.219Z"
   },
   {
    "duration": 20,
    "start_time": "2022-10-14T08:02:12.230Z"
   },
   {
    "duration": 35,
    "start_time": "2022-10-14T08:02:12.254Z"
   },
   {
    "duration": 5,
    "start_time": "2022-10-14T08:02:12.291Z"
   },
   {
    "duration": 14,
    "start_time": "2022-10-14T08:02:12.297Z"
   },
   {
    "duration": 4,
    "start_time": "2022-10-14T08:02:12.313Z"
   },
   {
    "duration": 338,
    "start_time": "2022-10-14T08:02:12.319Z"
   },
   {
    "duration": 9,
    "start_time": "2022-10-14T08:02:12.661Z"
   },
   {
    "duration": 464,
    "start_time": "2022-10-14T08:02:12.671Z"
   },
   {
    "duration": 11,
    "start_time": "2022-10-14T08:02:13.138Z"
   },
   {
    "duration": 955,
    "start_time": "2022-10-14T08:02:13.151Z"
   },
   {
    "duration": 9,
    "start_time": "2022-10-14T08:02:14.108Z"
   },
   {
    "duration": 12594,
    "start_time": "2022-10-14T08:02:24.907Z"
   },
   {
    "duration": 21,
    "start_time": "2022-10-14T08:02:39.306Z"
   },
   {
    "duration": 1080,
    "start_time": "2022-10-14T08:02:59.423Z"
   },
   {
    "duration": 20,
    "start_time": "2022-10-14T08:04:36.309Z"
   },
   {
    "duration": 91,
    "start_time": "2022-10-14T08:04:43.103Z"
   },
   {
    "duration": 10,
    "start_time": "2022-10-14T08:04:43.196Z"
   },
   {
    "duration": 30,
    "start_time": "2022-10-14T08:04:43.208Z"
   },
   {
    "duration": 7,
    "start_time": "2022-10-14T08:04:43.241Z"
   },
   {
    "duration": 42,
    "start_time": "2022-10-14T08:04:43.250Z"
   },
   {
    "duration": 33,
    "start_time": "2022-10-14T08:04:43.294Z"
   },
   {
    "duration": 16,
    "start_time": "2022-10-14T08:04:43.329Z"
   },
   {
    "duration": 20,
    "start_time": "2022-10-14T08:04:43.346Z"
   },
   {
    "duration": 15,
    "start_time": "2022-10-14T08:04:43.368Z"
   },
   {
    "duration": 7,
    "start_time": "2022-10-14T08:04:43.386Z"
   },
   {
    "duration": 26,
    "start_time": "2022-10-14T08:04:43.394Z"
   },
   {
    "duration": 5,
    "start_time": "2022-10-14T08:04:43.422Z"
   },
   {
    "duration": 11,
    "start_time": "2022-10-14T08:04:43.434Z"
   },
   {
    "duration": 25,
    "start_time": "2022-10-14T08:04:43.446Z"
   },
   {
    "duration": 5,
    "start_time": "2022-10-14T08:04:43.473Z"
   },
   {
    "duration": 14,
    "start_time": "2022-10-14T08:04:43.479Z"
   },
   {
    "duration": 9,
    "start_time": "2022-10-14T08:04:43.495Z"
   },
   {
    "duration": 34,
    "start_time": "2022-10-14T08:04:43.506Z"
   },
   {
    "duration": 26,
    "start_time": "2022-10-14T08:04:43.542Z"
   },
   {
    "duration": 42,
    "start_time": "2022-10-14T08:04:43.570Z"
   },
   {
    "duration": 16,
    "start_time": "2022-10-14T08:04:43.614Z"
   },
   {
    "duration": 10,
    "start_time": "2022-10-14T08:04:43.632Z"
   },
   {
    "duration": 20,
    "start_time": "2022-10-14T08:04:43.644Z"
   },
   {
    "duration": 18,
    "start_time": "2022-10-14T08:04:43.665Z"
   },
   {
    "duration": 10,
    "start_time": "2022-10-14T08:04:43.686Z"
   },
   {
    "duration": 11,
    "start_time": "2022-10-14T08:04:43.698Z"
   },
   {
    "duration": 26,
    "start_time": "2022-10-14T08:04:43.711Z"
   },
   {
    "duration": 18,
    "start_time": "2022-10-14T08:04:43.741Z"
   },
   {
    "duration": 5,
    "start_time": "2022-10-14T08:04:43.761Z"
   },
   {
    "duration": 13,
    "start_time": "2022-10-14T08:04:43.768Z"
   },
   {
    "duration": 5,
    "start_time": "2022-10-14T08:04:43.783Z"
   },
   {
    "duration": 353,
    "start_time": "2022-10-14T08:04:43.790Z"
   },
   {
    "duration": 9,
    "start_time": "2022-10-14T08:04:44.144Z"
   },
   {
    "duration": 412,
    "start_time": "2022-10-14T08:04:44.154Z"
   },
   {
    "duration": 7,
    "start_time": "2022-10-14T08:04:44.568Z"
   },
   {
    "duration": 919,
    "start_time": "2022-10-14T08:04:44.577Z"
   },
   {
    "duration": 9,
    "start_time": "2022-10-14T08:04:45.498Z"
   },
   {
    "duration": 11237,
    "start_time": "2022-10-14T08:04:45.509Z"
   },
   {
    "duration": 18,
    "start_time": "2022-10-14T08:04:56.749Z"
   },
   {
    "duration": 8,
    "start_time": "2022-10-14T08:06:00.003Z"
   },
   {
    "duration": 14,
    "start_time": "2022-10-14T08:06:05.922Z"
   },
   {
    "duration": 15,
    "start_time": "2022-10-14T08:06:21.084Z"
   },
   {
    "duration": 6,
    "start_time": "2022-10-14T08:07:52.802Z"
   },
   {
    "duration": 1285,
    "start_time": "2022-10-14T08:09:03.650Z"
   },
   {
    "duration": 10,
    "start_time": "2022-10-14T08:09:25.058Z"
   },
   {
    "duration": 8,
    "start_time": "2022-10-14T08:09:48.549Z"
   },
   {
    "duration": 6,
    "start_time": "2022-10-14T08:09:52.787Z"
   },
   {
    "duration": 5,
    "start_time": "2022-10-14T08:10:09.482Z"
   },
   {
    "duration": 113,
    "start_time": "2022-10-14T08:12:03.198Z"
   },
   {
    "duration": 11,
    "start_time": "2022-10-14T08:12:03.314Z"
   },
   {
    "duration": 45,
    "start_time": "2022-10-14T08:12:03.327Z"
   },
   {
    "duration": 24,
    "start_time": "2022-10-14T08:12:03.374Z"
   },
   {
    "duration": 21,
    "start_time": "2022-10-14T08:12:03.400Z"
   },
   {
    "duration": 44,
    "start_time": "2022-10-14T08:12:03.423Z"
   },
   {
    "duration": 25,
    "start_time": "2022-10-14T08:12:03.469Z"
   },
   {
    "duration": 38,
    "start_time": "2022-10-14T08:12:03.496Z"
   },
   {
    "duration": 9,
    "start_time": "2022-10-14T08:12:03.538Z"
   },
   {
    "duration": 16,
    "start_time": "2022-10-14T08:12:03.553Z"
   },
   {
    "duration": 27,
    "start_time": "2022-10-14T08:12:03.571Z"
   },
   {
    "duration": 9,
    "start_time": "2022-10-14T08:12:03.601Z"
   },
   {
    "duration": 24,
    "start_time": "2022-10-14T08:12:03.611Z"
   },
   {
    "duration": 30,
    "start_time": "2022-10-14T08:12:03.637Z"
   },
   {
    "duration": 47,
    "start_time": "2022-10-14T08:12:03.669Z"
   },
   {
    "duration": 18,
    "start_time": "2022-10-14T08:12:03.718Z"
   },
   {
    "duration": 15,
    "start_time": "2022-10-14T08:12:03.738Z"
   },
   {
    "duration": 13,
    "start_time": "2022-10-14T08:12:03.755Z"
   },
   {
    "duration": 34,
    "start_time": "2022-10-14T08:12:03.770Z"
   },
   {
    "duration": 30,
    "start_time": "2022-10-14T08:12:03.806Z"
   },
   {
    "duration": 16,
    "start_time": "2022-10-14T08:12:03.838Z"
   },
   {
    "duration": 12,
    "start_time": "2022-10-14T08:12:03.857Z"
   },
   {
    "duration": 38,
    "start_time": "2022-10-14T08:12:03.870Z"
   },
   {
    "duration": 21,
    "start_time": "2022-10-14T08:12:03.909Z"
   },
   {
    "duration": 9,
    "start_time": "2022-10-14T08:12:03.933Z"
   },
   {
    "duration": 12,
    "start_time": "2022-10-14T08:12:03.944Z"
   },
   {
    "duration": 27,
    "start_time": "2022-10-14T08:12:03.958Z"
   },
   {
    "duration": 15,
    "start_time": "2022-10-14T08:12:03.989Z"
   },
   {
    "duration": 8,
    "start_time": "2022-10-14T08:12:04.006Z"
   },
   {
    "duration": 24,
    "start_time": "2022-10-14T08:12:04.016Z"
   },
   {
    "duration": 10,
    "start_time": "2022-10-14T08:12:04.042Z"
   },
   {
    "duration": 357,
    "start_time": "2022-10-14T08:12:04.054Z"
   },
   {
    "duration": 9,
    "start_time": "2022-10-14T08:12:04.412Z"
   },
   {
    "duration": 489,
    "start_time": "2022-10-14T08:12:04.422Z"
   },
   {
    "duration": 6,
    "start_time": "2022-10-14T08:12:04.913Z"
   },
   {
    "duration": 1120,
    "start_time": "2022-10-14T08:12:14.905Z"
   },
   {
    "duration": 11,
    "start_time": "2022-10-14T08:12:16.926Z"
   },
   {
    "duration": 12607,
    "start_time": "2022-10-14T08:12:20.229Z"
   },
   {
    "duration": 17,
    "start_time": "2022-10-14T08:12:39.570Z"
   },
   {
    "duration": 31,
    "start_time": "2022-10-14T08:12:53.429Z"
   },
   {
    "duration": 6,
    "start_time": "2022-10-14T08:13:01.386Z"
   },
   {
    "duration": 21,
    "start_time": "2022-10-14T08:13:04.668Z"
   },
   {
    "duration": 5,
    "start_time": "2022-10-14T08:13:12.903Z"
   },
   {
    "duration": 20,
    "start_time": "2022-10-14T08:13:15.900Z"
   },
   {
    "duration": 6,
    "start_time": "2022-10-14T08:13:22.784Z"
   },
   {
    "duration": 17,
    "start_time": "2022-10-14T08:14:47.039Z"
   },
   {
    "duration": 30,
    "start_time": "2022-10-14T08:15:05.824Z"
   },
   {
    "duration": 12,
    "start_time": "2022-10-14T08:16:08.930Z"
   },
   {
    "duration": 16,
    "start_time": "2022-10-14T08:16:27.323Z"
   },
   {
    "duration": 29,
    "start_time": "2022-10-14T08:17:08.858Z"
   },
   {
    "duration": 7,
    "start_time": "2022-10-14T08:19:12.666Z"
   },
   {
    "duration": 26,
    "start_time": "2022-10-14T08:19:20.137Z"
   },
   {
    "duration": 50,
    "start_time": "2022-10-14T08:25:38.695Z"
   },
   {
    "duration": 28,
    "start_time": "2022-10-14T08:25:51.755Z"
   },
   {
    "duration": 20,
    "start_time": "2022-10-14T08:26:04.850Z"
   },
   {
    "duration": 3,
    "start_time": "2022-10-14T08:27:35.609Z"
   },
   {
    "duration": 7,
    "start_time": "2022-10-14T08:27:48.160Z"
   },
   {
    "duration": 94,
    "start_time": "2022-10-14T08:32:22.209Z"
   },
   {
    "duration": 10,
    "start_time": "2022-10-14T08:32:22.306Z"
   },
   {
    "duration": 27,
    "start_time": "2022-10-14T08:32:22.318Z"
   },
   {
    "duration": 20,
    "start_time": "2022-10-14T08:32:22.348Z"
   },
   {
    "duration": 21,
    "start_time": "2022-10-14T08:32:22.370Z"
   },
   {
    "duration": 32,
    "start_time": "2022-10-14T08:32:22.393Z"
   },
   {
    "duration": 21,
    "start_time": "2022-10-14T08:32:22.427Z"
   },
   {
    "duration": 37,
    "start_time": "2022-10-14T08:32:22.450Z"
   },
   {
    "duration": 10,
    "start_time": "2022-10-14T08:32:22.490Z"
   },
   {
    "duration": 24,
    "start_time": "2022-10-14T08:32:22.503Z"
   },
   {
    "duration": 30,
    "start_time": "2022-10-14T08:32:22.534Z"
   },
   {
    "duration": 13,
    "start_time": "2022-10-14T08:32:22.566Z"
   },
   {
    "duration": 39,
    "start_time": "2022-10-14T08:32:22.581Z"
   },
   {
    "duration": 40,
    "start_time": "2022-10-14T08:32:22.622Z"
   },
   {
    "duration": 6,
    "start_time": "2022-10-14T08:32:22.665Z"
   },
   {
    "duration": 19,
    "start_time": "2022-10-14T08:32:22.672Z"
   },
   {
    "duration": 19,
    "start_time": "2022-10-14T08:32:22.693Z"
   },
   {
    "duration": 18,
    "start_time": "2022-10-14T08:32:22.714Z"
   },
   {
    "duration": 33,
    "start_time": "2022-10-14T08:32:22.734Z"
   },
   {
    "duration": 38,
    "start_time": "2022-10-14T08:32:22.769Z"
   },
   {
    "duration": 20,
    "start_time": "2022-10-14T08:32:22.809Z"
   },
   {
    "duration": 14,
    "start_time": "2022-10-14T08:32:22.833Z"
   },
   {
    "duration": 38,
    "start_time": "2022-10-14T08:32:22.849Z"
   },
   {
    "duration": 47,
    "start_time": "2022-10-14T08:32:22.888Z"
   },
   {
    "duration": 18,
    "start_time": "2022-10-14T08:32:22.936Z"
   },
   {
    "duration": 49,
    "start_time": "2022-10-14T08:32:22.956Z"
   },
   {
    "duration": 40,
    "start_time": "2022-10-14T08:32:23.006Z"
   },
   {
    "duration": 59,
    "start_time": "2022-10-14T08:32:23.050Z"
   },
   {
    "duration": 5,
    "start_time": "2022-10-14T08:32:23.111Z"
   },
   {
    "duration": 24,
    "start_time": "2022-10-14T08:32:23.118Z"
   },
   {
    "duration": 11,
    "start_time": "2022-10-14T08:32:23.144Z"
   },
   {
    "duration": 353,
    "start_time": "2022-10-14T08:32:23.157Z"
   },
   {
    "duration": 10,
    "start_time": "2022-10-14T08:32:23.512Z"
   },
   {
    "duration": 482,
    "start_time": "2022-10-14T08:32:23.534Z"
   },
   {
    "duration": 15,
    "start_time": "2022-10-14T08:32:24.018Z"
   },
   {
    "duration": 19,
    "start_time": "2022-10-14T08:32:47.114Z"
   },
   {
    "duration": 19,
    "start_time": "2022-10-14T08:32:59.460Z"
   },
   {
    "duration": 1166,
    "start_time": "2022-10-14T08:33:07.639Z"
   },
   {
    "duration": 18,
    "start_time": "2022-10-14T08:33:12.353Z"
   },
   {
    "duration": 1082,
    "start_time": "2022-10-14T08:35:02.054Z"
   },
   {
    "duration": 18,
    "start_time": "2022-10-14T08:35:05.163Z"
   },
   {
    "duration": 21,
    "start_time": "2022-10-14T08:35:23.543Z"
   },
   {
    "duration": 106,
    "start_time": "2022-10-14T08:36:24.757Z"
   },
   {
    "duration": 16,
    "start_time": "2022-10-14T08:36:24.865Z"
   },
   {
    "duration": 43,
    "start_time": "2022-10-14T08:36:24.883Z"
   },
   {
    "duration": 40,
    "start_time": "2022-10-14T08:36:24.929Z"
   },
   {
    "duration": 44,
    "start_time": "2022-10-14T08:36:24.971Z"
   },
   {
    "duration": 59,
    "start_time": "2022-10-14T08:36:25.016Z"
   },
   {
    "duration": 35,
    "start_time": "2022-10-14T08:36:25.077Z"
   },
   {
    "duration": 49,
    "start_time": "2022-10-14T08:36:25.113Z"
   },
   {
    "duration": 61,
    "start_time": "2022-10-14T08:36:25.163Z"
   },
   {
    "duration": 52,
    "start_time": "2022-10-14T08:36:25.226Z"
   },
   {
    "duration": 39,
    "start_time": "2022-10-14T08:36:25.280Z"
   },
   {
    "duration": 32,
    "start_time": "2022-10-14T08:36:25.320Z"
   },
   {
    "duration": 50,
    "start_time": "2022-10-14T08:36:25.354Z"
   },
   {
    "duration": 84,
    "start_time": "2022-10-14T08:36:25.406Z"
   },
   {
    "duration": 38,
    "start_time": "2022-10-14T08:36:25.492Z"
   },
   {
    "duration": 22,
    "start_time": "2022-10-14T08:36:25.532Z"
   },
   {
    "duration": 27,
    "start_time": "2022-10-14T08:36:25.556Z"
   },
   {
    "duration": 26,
    "start_time": "2022-10-14T08:36:25.585Z"
   },
   {
    "duration": 57,
    "start_time": "2022-10-14T08:36:25.613Z"
   },
   {
    "duration": 19,
    "start_time": "2022-10-14T08:36:25.672Z"
   },
   {
    "duration": 46,
    "start_time": "2022-10-14T08:36:25.692Z"
   },
   {
    "duration": 41,
    "start_time": "2022-10-14T08:36:25.740Z"
   },
   {
    "duration": 62,
    "start_time": "2022-10-14T08:36:25.783Z"
   },
   {
    "duration": 49,
    "start_time": "2022-10-14T08:36:25.847Z"
   },
   {
    "duration": 11,
    "start_time": "2022-10-14T08:36:25.899Z"
   },
   {
    "duration": 45,
    "start_time": "2022-10-14T08:36:25.913Z"
   },
   {
    "duration": 35,
    "start_time": "2022-10-14T08:36:25.961Z"
   },
   {
    "duration": 46,
    "start_time": "2022-10-14T08:36:26.001Z"
   },
   {
    "duration": 18,
    "start_time": "2022-10-14T08:36:26.049Z"
   },
   {
    "duration": 51,
    "start_time": "2022-10-14T08:36:26.069Z"
   },
   {
    "duration": 35,
    "start_time": "2022-10-14T08:36:26.122Z"
   },
   {
    "duration": 483,
    "start_time": "2022-10-14T08:36:26.159Z"
   },
   {
    "duration": 8,
    "start_time": "2022-10-14T08:36:26.644Z"
   },
   {
    "duration": 446,
    "start_time": "2022-10-14T08:36:26.654Z"
   },
   {
    "duration": 6,
    "start_time": "2022-10-14T08:36:27.102Z"
   },
   {
    "duration": 21,
    "start_time": "2022-10-14T08:36:30.166Z"
   },
   {
    "duration": 1270,
    "start_time": "2022-10-14T08:37:08.004Z"
   },
   {
    "duration": 29,
    "start_time": "2022-10-14T08:37:11.840Z"
   },
   {
    "duration": 1124,
    "start_time": "2022-10-14T08:38:00.566Z"
   },
   {
    "duration": 25,
    "start_time": "2022-10-14T08:38:03.627Z"
   },
   {
    "duration": 151,
    "start_time": "2022-10-14T08:38:10.825Z"
   },
   {
    "duration": 13,
    "start_time": "2022-10-14T08:38:10.979Z"
   },
   {
    "duration": 28,
    "start_time": "2022-10-14T08:38:10.994Z"
   },
   {
    "duration": 32,
    "start_time": "2022-10-14T08:38:11.024Z"
   },
   {
    "duration": 14,
    "start_time": "2022-10-14T08:38:11.058Z"
   },
   {
    "duration": 29,
    "start_time": "2022-10-14T08:38:11.074Z"
   },
   {
    "duration": 17,
    "start_time": "2022-10-14T08:38:11.106Z"
   },
   {
    "duration": 42,
    "start_time": "2022-10-14T08:38:11.126Z"
   },
   {
    "duration": 6,
    "start_time": "2022-10-14T08:38:11.170Z"
   },
   {
    "duration": 11,
    "start_time": "2022-10-14T08:38:11.180Z"
   },
   {
    "duration": 28,
    "start_time": "2022-10-14T08:38:11.193Z"
   },
   {
    "duration": 8,
    "start_time": "2022-10-14T08:38:11.232Z"
   },
   {
    "duration": 21,
    "start_time": "2022-10-14T08:38:11.242Z"
   },
   {
    "duration": 29,
    "start_time": "2022-10-14T08:38:11.265Z"
   },
   {
    "duration": 5,
    "start_time": "2022-10-14T08:38:11.296Z"
   },
   {
    "duration": 31,
    "start_time": "2022-10-14T08:38:11.303Z"
   },
   {
    "duration": 27,
    "start_time": "2022-10-14T08:38:11.336Z"
   },
   {
    "duration": 31,
    "start_time": "2022-10-14T08:38:11.365Z"
   },
   {
    "duration": 52,
    "start_time": "2022-10-14T08:38:11.399Z"
   },
   {
    "duration": 19,
    "start_time": "2022-10-14T08:38:11.453Z"
   },
   {
    "duration": 14,
    "start_time": "2022-10-14T08:38:11.475Z"
   },
   {
    "duration": 41,
    "start_time": "2022-10-14T08:38:11.491Z"
   },
   {
    "duration": 43,
    "start_time": "2022-10-14T08:38:11.534Z"
   },
   {
    "duration": 22,
    "start_time": "2022-10-14T08:38:11.579Z"
   },
   {
    "duration": 17,
    "start_time": "2022-10-14T08:38:11.603Z"
   },
   {
    "duration": 15,
    "start_time": "2022-10-14T08:38:11.623Z"
   },
   {
    "duration": 26,
    "start_time": "2022-10-14T08:38:11.640Z"
   },
   {
    "duration": 25,
    "start_time": "2022-10-14T08:38:11.671Z"
   },
   {
    "duration": 7,
    "start_time": "2022-10-14T08:38:11.699Z"
   },
   {
    "duration": 26,
    "start_time": "2022-10-14T08:38:11.708Z"
   },
   {
    "duration": 10,
    "start_time": "2022-10-14T08:38:11.736Z"
   },
   {
    "duration": 350,
    "start_time": "2022-10-14T08:38:11.748Z"
   },
   {
    "duration": 8,
    "start_time": "2022-10-14T08:38:12.100Z"
   },
   {
    "duration": 504,
    "start_time": "2022-10-14T08:38:12.110Z"
   },
   {
    "duration": 7,
    "start_time": "2022-10-14T08:38:12.616Z"
   },
   {
    "duration": 29,
    "start_time": "2022-10-14T08:38:12.624Z"
   },
   {
    "duration": 1185,
    "start_time": "2022-10-14T08:38:16.773Z"
   },
   {
    "duration": 19,
    "start_time": "2022-10-14T08:38:19.425Z"
   },
   {
    "duration": 643,
    "start_time": "2022-10-14T10:41:35.318Z"
   },
   {
    "duration": 11,
    "start_time": "2022-10-14T10:41:35.963Z"
   },
   {
    "duration": 19,
    "start_time": "2022-10-14T10:41:35.975Z"
   },
   {
    "duration": 6,
    "start_time": "2022-10-14T10:41:35.996Z"
   },
   {
    "duration": 16,
    "start_time": "2022-10-14T10:41:36.003Z"
   },
   {
    "duration": 42,
    "start_time": "2022-10-14T10:41:36.026Z"
   },
   {
    "duration": 16,
    "start_time": "2022-10-14T10:41:36.070Z"
   },
   {
    "duration": 42,
    "start_time": "2022-10-14T10:41:36.088Z"
   },
   {
    "duration": 9,
    "start_time": "2022-10-14T10:41:36.134Z"
   },
   {
    "duration": 18,
    "start_time": "2022-10-14T10:41:36.145Z"
   },
   {
    "duration": 28,
    "start_time": "2022-10-14T10:41:36.165Z"
   },
   {
    "duration": 6,
    "start_time": "2022-10-14T10:41:36.195Z"
   },
   {
    "duration": 17,
    "start_time": "2022-10-14T10:41:36.203Z"
   },
   {
    "duration": 22,
    "start_time": "2022-10-14T10:41:36.222Z"
   },
   {
    "duration": 4,
    "start_time": "2022-10-14T10:41:36.246Z"
   },
   {
    "duration": 13,
    "start_time": "2022-10-14T10:41:36.251Z"
   },
   {
    "duration": 9,
    "start_time": "2022-10-14T10:41:36.266Z"
   },
   {
    "duration": 9,
    "start_time": "2022-10-14T10:41:36.276Z"
   },
   {
    "duration": 45,
    "start_time": "2022-10-14T10:41:36.286Z"
   },
   {
    "duration": 24,
    "start_time": "2022-10-14T10:41:36.333Z"
   },
   {
    "duration": 8,
    "start_time": "2022-10-14T10:41:36.359Z"
   },
   {
    "duration": 8,
    "start_time": "2022-10-14T10:41:36.368Z"
   },
   {
    "duration": 24,
    "start_time": "2022-10-14T10:41:36.377Z"
   },
   {
    "duration": 21,
    "start_time": "2022-10-14T10:41:36.403Z"
   },
   {
    "duration": 31,
    "start_time": "2022-10-14T10:41:36.426Z"
   },
   {
    "duration": 6,
    "start_time": "2022-10-14T10:41:36.459Z"
   },
   {
    "duration": 21,
    "start_time": "2022-10-14T10:41:36.467Z"
   },
   {
    "duration": 30,
    "start_time": "2022-10-14T10:41:36.491Z"
   },
   {
    "duration": 20,
    "start_time": "2022-10-14T10:41:36.523Z"
   },
   {
    "duration": 14,
    "start_time": "2022-10-14T10:41:36.544Z"
   },
   {
    "duration": 4,
    "start_time": "2022-10-14T10:41:36.559Z"
   },
   {
    "duration": 778,
    "start_time": "2022-10-14T10:41:36.564Z"
   },
   {
    "duration": 9,
    "start_time": "2022-10-14T10:41:37.344Z"
   },
   {
    "duration": 409,
    "start_time": "2022-10-14T10:41:37.354Z"
   },
   {
    "duration": 7,
    "start_time": "2022-10-14T10:41:37.764Z"
   },
   {
    "duration": 996,
    "start_time": "2022-10-14T10:41:37.773Z"
   },
   {
    "duration": 82,
    "start_time": "2022-10-14T10:41:38.770Z"
   },
   {
    "duration": 0,
    "start_time": "2022-10-14T10:41:38.854Z"
   },
   {
    "duration": 0,
    "start_time": "2022-10-14T10:41:38.856Z"
   },
   {
    "duration": 0,
    "start_time": "2022-10-14T10:41:38.857Z"
   },
   {
    "duration": 0,
    "start_time": "2022-10-14T10:41:38.858Z"
   },
   {
    "duration": 0,
    "start_time": "2022-10-14T10:41:38.859Z"
   },
   {
    "duration": 0,
    "start_time": "2022-10-14T10:41:38.860Z"
   },
   {
    "duration": 0,
    "start_time": "2022-10-14T10:41:38.861Z"
   },
   {
    "duration": 0,
    "start_time": "2022-10-14T10:41:38.866Z"
   },
   {
    "duration": 0,
    "start_time": "2022-10-14T10:41:38.867Z"
   },
   {
    "duration": 0,
    "start_time": "2022-10-14T10:41:38.869Z"
   },
   {
    "duration": 0,
    "start_time": "2022-10-14T10:41:38.870Z"
   },
   {
    "duration": 0,
    "start_time": "2022-10-14T10:41:38.872Z"
   },
   {
    "duration": 0,
    "start_time": "2022-10-14T10:41:38.873Z"
   },
   {
    "duration": 0,
    "start_time": "2022-10-14T10:41:38.874Z"
   },
   {
    "duration": 10,
    "start_time": "2022-10-14T10:42:34.815Z"
   },
   {
    "duration": 11690,
    "start_time": "2022-10-14T10:42:40.096Z"
   },
   {
    "duration": 19,
    "start_time": "2022-10-14T10:42:51.788Z"
   },
   {
    "duration": 58,
    "start_time": "2022-10-14T10:42:51.820Z"
   },
   {
    "duration": 32,
    "start_time": "2022-10-14T10:42:51.881Z"
   },
   {
    "duration": 62,
    "start_time": "2022-10-14T10:42:51.915Z"
   },
   {
    "duration": 65,
    "start_time": "2022-10-14T10:42:51.979Z"
   },
   {
    "duration": 35,
    "start_time": "2022-10-14T10:42:52.046Z"
   },
   {
    "duration": 27,
    "start_time": "2022-10-14T10:42:52.083Z"
   },
   {
    "duration": 47,
    "start_time": "2022-10-14T10:42:52.112Z"
   },
   {
    "duration": 19,
    "start_time": "2022-10-14T10:42:52.162Z"
   },
   {
    "duration": 53,
    "start_time": "2022-10-14T10:42:52.183Z"
   },
   {
    "duration": 28,
    "start_time": "2022-10-14T10:42:52.238Z"
   },
   {
    "duration": 50,
    "start_time": "2022-10-14T10:42:52.268Z"
   },
   {
    "duration": 21,
    "start_time": "2022-10-14T10:42:52.319Z"
   },
   {
    "duration": 24,
    "start_time": "2022-10-14T10:45:00.319Z"
   },
   {
    "duration": 4,
    "start_time": "2022-10-14T10:47:54.240Z"
   },
   {
    "duration": 18,
    "start_time": "2022-10-14T10:48:00.048Z"
   },
   {
    "duration": 8,
    "start_time": "2022-10-14T10:48:32.839Z"
   },
   {
    "duration": 4,
    "start_time": "2022-10-14T10:51:13.245Z"
   },
   {
    "duration": 16,
    "start_time": "2022-10-14T10:51:22.645Z"
   },
   {
    "duration": 12,
    "start_time": "2022-10-14T10:52:14.917Z"
   },
   {
    "duration": 804,
    "start_time": "2022-10-14T16:28:57.854Z"
   },
   {
    "duration": 13,
    "start_time": "2022-10-14T16:28:58.660Z"
   },
   {
    "duration": 20,
    "start_time": "2022-10-14T16:28:58.675Z"
   },
   {
    "duration": 15,
    "start_time": "2022-10-14T16:28:58.698Z"
   },
   {
    "duration": 14,
    "start_time": "2022-10-14T16:28:58.715Z"
   },
   {
    "duration": 33,
    "start_time": "2022-10-14T16:28:58.731Z"
   },
   {
    "duration": 29,
    "start_time": "2022-10-14T16:28:58.765Z"
   },
   {
    "duration": 35,
    "start_time": "2022-10-14T16:28:58.796Z"
   },
   {
    "duration": 6,
    "start_time": "2022-10-14T16:28:58.833Z"
   },
   {
    "duration": 7,
    "start_time": "2022-10-14T16:28:58.841Z"
   },
   {
    "duration": 20,
    "start_time": "2022-10-14T16:28:58.849Z"
   },
   {
    "duration": 12,
    "start_time": "2022-10-14T16:28:58.891Z"
   },
   {
    "duration": 12,
    "start_time": "2022-10-14T16:28:58.905Z"
   },
   {
    "duration": 40,
    "start_time": "2022-10-14T16:28:58.918Z"
   },
   {
    "duration": 6,
    "start_time": "2022-10-14T16:28:58.960Z"
   },
   {
    "duration": 25,
    "start_time": "2022-10-14T16:28:58.968Z"
   },
   {
    "duration": 22,
    "start_time": "2022-10-14T16:28:58.994Z"
   },
   {
    "duration": 15,
    "start_time": "2022-10-14T16:28:59.017Z"
   },
   {
    "duration": 25,
    "start_time": "2022-10-14T16:28:59.034Z"
   },
   {
    "duration": 25,
    "start_time": "2022-10-14T16:28:59.061Z"
   },
   {
    "duration": 16,
    "start_time": "2022-10-14T16:28:59.095Z"
   },
   {
    "duration": 10,
    "start_time": "2022-10-14T16:28:59.113Z"
   },
   {
    "duration": 26,
    "start_time": "2022-10-14T16:28:59.125Z"
   },
   {
    "duration": 35,
    "start_time": "2022-10-14T16:28:59.153Z"
   },
   {
    "duration": 21,
    "start_time": "2022-10-14T16:28:59.190Z"
   },
   {
    "duration": 10,
    "start_time": "2022-10-14T16:28:59.212Z"
   },
   {
    "duration": 19,
    "start_time": "2022-10-14T16:28:59.223Z"
   },
   {
    "duration": 14,
    "start_time": "2022-10-14T16:28:59.248Z"
   },
   {
    "duration": 5,
    "start_time": "2022-10-14T16:28:59.264Z"
   },
   {
    "duration": 13,
    "start_time": "2022-10-14T16:28:59.270Z"
   },
   {
    "duration": 25,
    "start_time": "2022-10-14T16:28:59.284Z"
   },
   {
    "duration": 924,
    "start_time": "2022-10-14T16:28:59.311Z"
   },
   {
    "duration": 11,
    "start_time": "2022-10-14T16:29:00.237Z"
   },
   {
    "duration": 482,
    "start_time": "2022-10-14T16:29:00.250Z"
   },
   {
    "duration": 7,
    "start_time": "2022-10-14T16:29:00.734Z"
   },
   {
    "duration": 1064,
    "start_time": "2022-10-14T16:29:00.743Z"
   },
   {
    "duration": 9,
    "start_time": "2022-10-14T16:29:01.810Z"
   },
   {
    "duration": 11382,
    "start_time": "2022-10-14T16:29:01.821Z"
   },
   {
    "duration": 13,
    "start_time": "2022-10-14T16:29:13.204Z"
   },
   {
    "duration": 21,
    "start_time": "2022-10-14T16:29:13.219Z"
   },
   {
    "duration": 10,
    "start_time": "2022-10-14T16:29:13.242Z"
   },
   {
    "duration": 42,
    "start_time": "2022-10-14T16:29:13.253Z"
   },
   {
    "duration": 18,
    "start_time": "2022-10-14T16:29:13.298Z"
   },
   {
    "duration": 21,
    "start_time": "2022-10-14T16:29:13.319Z"
   },
   {
    "duration": 11,
    "start_time": "2022-10-14T16:29:13.342Z"
   },
   {
    "duration": 17,
    "start_time": "2022-10-14T16:29:13.355Z"
   },
   {
    "duration": 6,
    "start_time": "2022-10-14T16:29:13.374Z"
   },
   {
    "duration": 21,
    "start_time": "2022-10-14T16:29:13.386Z"
   },
   {
    "duration": 7,
    "start_time": "2022-10-14T16:29:13.408Z"
   },
   {
    "duration": 14,
    "start_time": "2022-10-14T16:29:13.417Z"
   },
   {
    "duration": 7,
    "start_time": "2022-10-14T16:29:13.433Z"
   },
   {
    "duration": 14,
    "start_time": "2022-10-14T16:29:13.442Z"
   },
   {
    "duration": 34,
    "start_time": "2022-10-14T16:29:13.458Z"
   },
   {
    "duration": 8,
    "start_time": "2022-10-14T16:29:56.903Z"
   },
   {
    "duration": 144,
    "start_time": "2022-10-14T16:30:02.474Z"
   },
   {
    "duration": 10,
    "start_time": "2022-10-14T16:30:02.620Z"
   },
   {
    "duration": 15,
    "start_time": "2022-10-14T16:30:02.631Z"
   },
   {
    "duration": 9,
    "start_time": "2022-10-14T16:30:02.648Z"
   },
   {
    "duration": 12,
    "start_time": "2022-10-14T16:30:02.658Z"
   },
   {
    "duration": 28,
    "start_time": "2022-10-14T16:30:02.671Z"
   },
   {
    "duration": 23,
    "start_time": "2022-10-14T16:30:02.701Z"
   },
   {
    "duration": 26,
    "start_time": "2022-10-14T16:30:02.725Z"
   },
   {
    "duration": 4,
    "start_time": "2022-10-14T16:30:05.615Z"
   },
   {
    "duration": 6,
    "start_time": "2022-10-14T16:31:30.139Z"
   },
   {
    "duration": 8,
    "start_time": "2022-10-14T16:31:40.411Z"
   },
   {
    "duration": 11,
    "start_time": "2022-10-14T16:33:20.281Z"
   },
   {
    "duration": 6,
    "start_time": "2022-10-14T16:33:26.711Z"
   },
   {
    "duration": 5,
    "start_time": "2022-10-14T16:33:42.240Z"
   },
   {
    "duration": 9,
    "start_time": "2022-10-14T16:34:16.775Z"
   },
   {
    "duration": 8,
    "start_time": "2022-10-14T16:35:35.824Z"
   },
   {
    "duration": 99,
    "start_time": "2022-10-14T16:35:35.834Z"
   },
   {
    "duration": 0,
    "start_time": "2022-10-14T16:35:35.936Z"
   },
   {
    "duration": 0,
    "start_time": "2022-10-14T16:35:35.937Z"
   },
   {
    "duration": 0,
    "start_time": "2022-10-14T16:35:35.938Z"
   },
   {
    "duration": 0,
    "start_time": "2022-10-14T16:35:35.939Z"
   },
   {
    "duration": 0,
    "start_time": "2022-10-14T16:35:35.940Z"
   },
   {
    "duration": 0,
    "start_time": "2022-10-14T16:35:35.941Z"
   },
   {
    "duration": 0,
    "start_time": "2022-10-14T16:35:35.942Z"
   },
   {
    "duration": 0,
    "start_time": "2022-10-14T16:35:35.943Z"
   },
   {
    "duration": 0,
    "start_time": "2022-10-14T16:35:35.944Z"
   },
   {
    "duration": 0,
    "start_time": "2022-10-14T16:35:35.945Z"
   },
   {
    "duration": 0,
    "start_time": "2022-10-14T16:35:35.946Z"
   },
   {
    "duration": 0,
    "start_time": "2022-10-14T16:35:35.947Z"
   },
   {
    "duration": 0,
    "start_time": "2022-10-14T16:35:35.948Z"
   },
   {
    "duration": 0,
    "start_time": "2022-10-14T16:35:35.949Z"
   },
   {
    "duration": 0,
    "start_time": "2022-10-14T16:35:35.950Z"
   },
   {
    "duration": 0,
    "start_time": "2022-10-14T16:35:35.951Z"
   },
   {
    "duration": 0,
    "start_time": "2022-10-14T16:35:35.951Z"
   },
   {
    "duration": 0,
    "start_time": "2022-10-14T16:35:35.952Z"
   },
   {
    "duration": 0,
    "start_time": "2022-10-14T16:35:35.988Z"
   },
   {
    "duration": 0,
    "start_time": "2022-10-14T16:35:35.989Z"
   },
   {
    "duration": 0,
    "start_time": "2022-10-14T16:35:35.990Z"
   },
   {
    "duration": 0,
    "start_time": "2022-10-14T16:35:35.991Z"
   },
   {
    "duration": 0,
    "start_time": "2022-10-14T16:35:35.991Z"
   },
   {
    "duration": 0,
    "start_time": "2022-10-14T16:35:35.992Z"
   },
   {
    "duration": 0,
    "start_time": "2022-10-14T16:35:35.993Z"
   },
   {
    "duration": 0,
    "start_time": "2022-10-14T16:35:35.996Z"
   },
   {
    "duration": 0,
    "start_time": "2022-10-14T16:35:35.997Z"
   },
   {
    "duration": 0,
    "start_time": "2022-10-14T16:35:35.998Z"
   },
   {
    "duration": 0,
    "start_time": "2022-10-14T16:35:35.999Z"
   },
   {
    "duration": 0,
    "start_time": "2022-10-14T16:35:36.000Z"
   },
   {
    "duration": 0,
    "start_time": "2022-10-14T16:35:36.001Z"
   },
   {
    "duration": 0,
    "start_time": "2022-10-14T16:35:36.002Z"
   },
   {
    "duration": 0,
    "start_time": "2022-10-14T16:35:36.002Z"
   },
   {
    "duration": 0,
    "start_time": "2022-10-14T16:35:36.003Z"
   },
   {
    "duration": 0,
    "start_time": "2022-10-14T16:35:36.005Z"
   },
   {
    "duration": 0,
    "start_time": "2022-10-14T16:35:36.006Z"
   },
   {
    "duration": 0,
    "start_time": "2022-10-14T16:35:36.007Z"
   },
   {
    "duration": 0,
    "start_time": "2022-10-14T16:35:36.007Z"
   },
   {
    "duration": 0,
    "start_time": "2022-10-14T16:35:36.008Z"
   },
   {
    "duration": 0,
    "start_time": "2022-10-14T16:35:36.009Z"
   },
   {
    "duration": 0,
    "start_time": "2022-10-14T16:35:36.010Z"
   },
   {
    "duration": 0,
    "start_time": "2022-10-14T16:35:36.011Z"
   },
   {
    "duration": 0,
    "start_time": "2022-10-14T16:35:36.012Z"
   },
   {
    "duration": 0,
    "start_time": "2022-10-14T16:35:36.013Z"
   },
   {
    "duration": 0,
    "start_time": "2022-10-14T16:35:36.014Z"
   },
   {
    "duration": 0,
    "start_time": "2022-10-14T16:35:36.015Z"
   },
   {
    "duration": 140,
    "start_time": "2022-10-14T16:36:13.342Z"
   },
   {
    "duration": 17,
    "start_time": "2022-10-14T16:36:13.485Z"
   },
   {
    "duration": 18,
    "start_time": "2022-10-14T16:36:13.510Z"
   },
   {
    "duration": 5,
    "start_time": "2022-10-14T16:36:13.530Z"
   },
   {
    "duration": 15,
    "start_time": "2022-10-14T16:36:13.536Z"
   },
   {
    "duration": 25,
    "start_time": "2022-10-14T16:36:13.552Z"
   },
   {
    "duration": 20,
    "start_time": "2022-10-14T16:36:13.589Z"
   },
   {
    "duration": 19,
    "start_time": "2022-10-14T16:36:13.610Z"
   },
   {
    "duration": 5,
    "start_time": "2022-10-14T16:36:13.630Z"
   },
   {
    "duration": 7,
    "start_time": "2022-10-14T16:36:16.628Z"
   },
   {
    "duration": 8,
    "start_time": "2022-10-14T16:36:24.934Z"
   },
   {
    "duration": 11,
    "start_time": "2022-10-14T16:36:24.945Z"
   },
   {
    "duration": 5,
    "start_time": "2022-10-14T16:36:24.957Z"
   },
   {
    "duration": 38,
    "start_time": "2022-10-14T16:36:24.964Z"
   },
   {
    "duration": 6,
    "start_time": "2022-10-14T16:36:25.006Z"
   },
   {
    "duration": 13,
    "start_time": "2022-10-14T16:36:25.014Z"
   },
   {
    "duration": 20,
    "start_time": "2022-10-14T16:36:25.029Z"
   },
   {
    "duration": 4,
    "start_time": "2022-10-14T16:36:25.051Z"
   },
   {
    "duration": 13,
    "start_time": "2022-10-14T16:36:25.056Z"
   },
   {
    "duration": 15,
    "start_time": "2022-10-14T16:36:25.086Z"
   },
   {
    "duration": 9,
    "start_time": "2022-10-14T16:36:25.104Z"
   },
   {
    "duration": 20,
    "start_time": "2022-10-14T16:36:25.115Z"
   },
   {
    "duration": 18,
    "start_time": "2022-10-14T16:36:25.137Z"
   },
   {
    "duration": 7,
    "start_time": "2022-10-14T16:36:25.157Z"
   },
   {
    "duration": 23,
    "start_time": "2022-10-14T16:36:25.166Z"
   },
   {
    "duration": 28,
    "start_time": "2022-10-14T16:36:25.190Z"
   },
   {
    "duration": 17,
    "start_time": "2022-10-14T16:36:25.219Z"
   },
   {
    "duration": 7,
    "start_time": "2022-10-14T16:36:25.238Z"
   },
   {
    "duration": 7,
    "start_time": "2022-10-14T16:36:25.247Z"
   },
   {
    "duration": 34,
    "start_time": "2022-10-14T16:36:25.255Z"
   },
   {
    "duration": 21,
    "start_time": "2022-10-14T16:36:25.291Z"
   },
   {
    "duration": 9,
    "start_time": "2022-10-14T16:36:25.314Z"
   },
   {
    "duration": 9,
    "start_time": "2022-10-14T16:36:25.325Z"
   },
   {
    "duration": 4,
    "start_time": "2022-10-14T16:36:25.336Z"
   },
   {
    "duration": 374,
    "start_time": "2022-10-14T16:36:25.341Z"
   },
   {
    "duration": 10,
    "start_time": "2022-10-14T16:36:25.716Z"
   },
   {
    "duration": 413,
    "start_time": "2022-10-14T16:36:25.728Z"
   },
   {
    "duration": 6,
    "start_time": "2022-10-14T16:36:26.144Z"
   },
   {
    "duration": 981,
    "start_time": "2022-10-14T16:36:26.152Z"
   },
   {
    "duration": 9,
    "start_time": "2022-10-14T16:36:27.135Z"
   },
   {
    "duration": 11260,
    "start_time": "2022-10-14T16:36:27.147Z"
   },
   {
    "duration": 15,
    "start_time": "2022-10-14T16:36:38.409Z"
   },
   {
    "duration": 29,
    "start_time": "2022-10-14T16:36:38.426Z"
   },
   {
    "duration": 8,
    "start_time": "2022-10-14T16:36:38.457Z"
   },
   {
    "duration": 38,
    "start_time": "2022-10-14T16:36:38.467Z"
   },
   {
    "duration": 28,
    "start_time": "2022-10-14T16:36:38.507Z"
   },
   {
    "duration": 35,
    "start_time": "2022-10-14T16:36:38.537Z"
   },
   {
    "duration": 40,
    "start_time": "2022-10-14T16:36:38.573Z"
   },
   {
    "duration": 31,
    "start_time": "2022-10-14T16:36:38.615Z"
   },
   {
    "duration": 23,
    "start_time": "2022-10-14T16:36:38.648Z"
   },
   {
    "duration": 43,
    "start_time": "2022-10-14T16:36:38.674Z"
   },
   {
    "duration": 16,
    "start_time": "2022-10-14T16:36:38.718Z"
   },
   {
    "duration": 29,
    "start_time": "2022-10-14T16:36:38.736Z"
   },
   {
    "duration": 4,
    "start_time": "2022-10-14T16:36:38.767Z"
   },
   {
    "duration": 62,
    "start_time": "2022-10-14T16:36:38.772Z"
   },
   {
    "duration": 21,
    "start_time": "2022-10-14T16:36:38.835Z"
   },
   {
    "duration": 11953,
    "start_time": "2022-10-14T16:43:57.416Z"
   },
   {
    "duration": 33,
    "start_time": "2022-10-14T16:47:34.475Z"
   },
   {
    "duration": 18,
    "start_time": "2022-10-14T16:47:46.812Z"
   },
   {
    "duration": 30,
    "start_time": "2022-10-14T16:48:04.467Z"
   },
   {
    "duration": 27,
    "start_time": "2022-10-14T16:50:06.407Z"
   },
   {
    "duration": 842,
    "start_time": "2022-10-15T06:47:20.712Z"
   },
   {
    "duration": 14,
    "start_time": "2022-10-15T06:47:21.556Z"
   },
   {
    "duration": 38,
    "start_time": "2022-10-15T06:47:21.571Z"
   },
   {
    "duration": 43,
    "start_time": "2022-10-15T06:47:21.614Z"
   },
   {
    "duration": 17,
    "start_time": "2022-10-15T06:47:21.659Z"
   },
   {
    "duration": 34,
    "start_time": "2022-10-15T06:47:21.677Z"
   },
   {
    "duration": 14,
    "start_time": "2022-10-15T06:47:21.713Z"
   },
   {
    "duration": 36,
    "start_time": "2022-10-15T06:47:21.730Z"
   },
   {
    "duration": 6,
    "start_time": "2022-10-15T06:47:21.774Z"
   },
   {
    "duration": 7,
    "start_time": "2022-10-15T06:47:21.783Z"
   },
   {
    "duration": 23,
    "start_time": "2022-10-15T06:47:21.791Z"
   },
   {
    "duration": 14,
    "start_time": "2022-10-15T06:47:21.815Z"
   },
   {
    "duration": 5,
    "start_time": "2022-10-15T06:47:21.830Z"
   },
   {
    "duration": 22,
    "start_time": "2022-10-15T06:47:21.836Z"
   },
   {
    "duration": 4,
    "start_time": "2022-10-15T06:47:21.860Z"
   },
   {
    "duration": 19,
    "start_time": "2022-10-15T06:47:21.865Z"
   },
   {
    "duration": 36,
    "start_time": "2022-10-15T06:47:21.886Z"
   },
   {
    "duration": 4,
    "start_time": "2022-10-15T06:47:21.923Z"
   },
   {
    "duration": 14,
    "start_time": "2022-10-15T06:47:21.929Z"
   },
   {
    "duration": 8,
    "start_time": "2022-10-15T06:47:21.945Z"
   },
   {
    "duration": 13,
    "start_time": "2022-10-15T06:47:21.954Z"
   },
   {
    "duration": 20,
    "start_time": "2022-10-15T06:47:21.968Z"
   },
   {
    "duration": 31,
    "start_time": "2022-10-15T06:47:21.989Z"
   },
   {
    "duration": 8,
    "start_time": "2022-10-15T06:47:22.022Z"
   },
   {
    "duration": 14,
    "start_time": "2022-10-15T06:47:22.031Z"
   },
   {
    "duration": 34,
    "start_time": "2022-10-15T06:47:22.048Z"
   },
   {
    "duration": 34,
    "start_time": "2022-10-15T06:47:22.084Z"
   },
   {
    "duration": 8,
    "start_time": "2022-10-15T06:47:22.122Z"
   },
   {
    "duration": 31,
    "start_time": "2022-10-15T06:47:22.132Z"
   },
   {
    "duration": 14,
    "start_time": "2022-10-15T06:47:22.165Z"
   },
   {
    "duration": 26,
    "start_time": "2022-10-15T06:47:22.181Z"
   },
   {
    "duration": 5,
    "start_time": "2022-10-15T06:47:22.209Z"
   },
   {
    "duration": 20,
    "start_time": "2022-10-15T06:47:22.216Z"
   },
   {
    "duration": 12,
    "start_time": "2022-10-15T06:47:22.238Z"
   },
   {
    "duration": 801,
    "start_time": "2022-10-15T06:47:22.252Z"
   },
   {
    "duration": 10,
    "start_time": "2022-10-15T06:47:23.056Z"
   },
   {
    "duration": 522,
    "start_time": "2022-10-15T06:47:23.068Z"
   },
   {
    "duration": 6,
    "start_time": "2022-10-15T06:47:23.591Z"
   },
   {
    "duration": 986,
    "start_time": "2022-10-15T06:47:23.599Z"
   },
   {
    "duration": 10,
    "start_time": "2022-10-15T06:47:24.587Z"
   },
   {
    "duration": 10380,
    "start_time": "2022-10-15T06:47:24.599Z"
   },
   {
    "duration": 13,
    "start_time": "2022-10-15T06:47:34.981Z"
   },
   {
    "duration": 39,
    "start_time": "2022-10-15T06:47:34.996Z"
   },
   {
    "duration": 12,
    "start_time": "2022-10-15T06:47:35.037Z"
   },
   {
    "duration": 25,
    "start_time": "2022-10-15T06:47:35.051Z"
   },
   {
    "duration": 5,
    "start_time": "2022-10-15T06:47:35.077Z"
   },
   {
    "duration": 34,
    "start_time": "2022-10-15T06:47:35.083Z"
   },
   {
    "duration": 9,
    "start_time": "2022-10-15T06:47:35.119Z"
   },
   {
    "duration": 17,
    "start_time": "2022-10-15T06:47:35.130Z"
   },
   {
    "duration": 15,
    "start_time": "2022-10-15T06:47:35.149Z"
   },
   {
    "duration": 44,
    "start_time": "2022-10-15T06:47:35.165Z"
   },
   {
    "duration": 6,
    "start_time": "2022-10-15T06:47:35.211Z"
   },
   {
    "duration": 14,
    "start_time": "2022-10-15T06:47:35.218Z"
   },
   {
    "duration": 6,
    "start_time": "2022-10-15T06:47:35.234Z"
   },
   {
    "duration": 28,
    "start_time": "2022-10-15T06:47:35.241Z"
   },
   {
    "duration": 40,
    "start_time": "2022-10-15T06:47:35.270Z"
   },
   {
    "duration": 711,
    "start_time": "2022-10-15T06:52:11.733Z"
   },
   {
    "duration": 6,
    "start_time": "2022-10-15T06:52:24.425Z"
   },
   {
    "duration": 18,
    "start_time": "2022-10-15T06:54:56.077Z"
   },
   {
    "duration": 13,
    "start_time": "2022-10-15T06:56:09.529Z"
   },
   {
    "duration": 242,
    "start_time": "2022-10-15T06:57:33.244Z"
   },
   {
    "duration": 14,
    "start_time": "2022-10-15T06:58:34.449Z"
   },
   {
    "duration": 14,
    "start_time": "2022-10-15T06:58:48.716Z"
   },
   {
    "duration": 15,
    "start_time": "2022-10-15T06:58:53.445Z"
   },
   {
    "duration": 222,
    "start_time": "2022-10-15T06:59:02.935Z"
   },
   {
    "duration": 14,
    "start_time": "2022-10-15T06:59:21.756Z"
   },
   {
    "duration": 5,
    "start_time": "2022-10-15T07:01:05.700Z"
   },
   {
    "duration": 367,
    "start_time": "2022-10-15T07:02:11.729Z"
   },
   {
    "duration": 4,
    "start_time": "2022-10-15T07:02:36.138Z"
   },
   {
    "duration": 184,
    "start_time": "2022-10-15T07:02:42.322Z"
   },
   {
    "duration": 19,
    "start_time": "2022-10-15T07:02:48.676Z"
   },
   {
    "duration": 18,
    "start_time": "2022-10-15T07:03:31.846Z"
   },
   {
    "duration": 9,
    "start_time": "2022-10-15T07:09:12.488Z"
   },
   {
    "duration": 17,
    "start_time": "2022-10-15T07:09:54.746Z"
   },
   {
    "duration": 3,
    "start_time": "2022-10-15T07:09:57.818Z"
   },
   {
    "duration": 18,
    "start_time": "2022-10-15T07:10:00.355Z"
   },
   {
    "duration": 9,
    "start_time": "2022-10-15T07:11:09.489Z"
   },
   {
    "duration": 10,
    "start_time": "2022-10-15T07:11:14.963Z"
   },
   {
    "duration": 17,
    "start_time": "2022-10-15T07:11:27.430Z"
   },
   {
    "duration": 20,
    "start_time": "2022-10-15T07:11:31.923Z"
   },
   {
    "duration": 12,
    "start_time": "2022-10-15T07:12:15.759Z"
   },
   {
    "duration": 18,
    "start_time": "2022-10-15T07:12:20.486Z"
   },
   {
    "duration": 18,
    "start_time": "2022-10-15T07:12:25.214Z"
   },
   {
    "duration": 143,
    "start_time": "2022-10-15T07:12:55.126Z"
   },
   {
    "duration": 210,
    "start_time": "2022-10-15T07:13:35.369Z"
   },
   {
    "duration": 18,
    "start_time": "2022-10-15T07:14:47.391Z"
   },
   {
    "duration": 140,
    "start_time": "2022-10-15T07:15:12.635Z"
   },
   {
    "duration": 144,
    "start_time": "2022-10-15T07:16:13.995Z"
   },
   {
    "duration": 162,
    "start_time": "2022-10-15T07:16:58.632Z"
   },
   {
    "duration": 158,
    "start_time": "2022-10-15T07:17:29.790Z"
   },
   {
    "duration": 4,
    "start_time": "2022-10-15T07:18:32.381Z"
   },
   {
    "duration": 4,
    "start_time": "2022-10-15T07:19:48.040Z"
   },
   {
    "duration": 8,
    "start_time": "2022-10-15T07:20:21.469Z"
   },
   {
    "duration": 8,
    "start_time": "2022-10-15T07:20:34.267Z"
   },
   {
    "duration": 16,
    "start_time": "2022-10-15T07:26:14.213Z"
   },
   {
    "duration": 109,
    "start_time": "2022-10-15T07:26:54.216Z"
   },
   {
    "duration": 12,
    "start_time": "2022-10-15T07:28:57.793Z"
   },
   {
    "duration": 202,
    "start_time": "2022-10-15T07:29:37.625Z"
   },
   {
    "duration": 12,
    "start_time": "2022-10-15T07:29:47.956Z"
   },
   {
    "duration": 12,
    "start_time": "2022-10-15T07:30:04.896Z"
   },
   {
    "duration": 8,
    "start_time": "2022-10-15T07:31:34.203Z"
   },
   {
    "duration": 148,
    "start_time": "2022-10-15T07:32:34.463Z"
   },
   {
    "duration": 155,
    "start_time": "2022-10-15T07:33:29.550Z"
   },
   {
    "duration": 160,
    "start_time": "2022-10-15T07:33:36.958Z"
   },
   {
    "duration": 164,
    "start_time": "2022-10-15T07:33:55.024Z"
   },
   {
    "duration": 153,
    "start_time": "2022-10-15T07:34:03.573Z"
   },
   {
    "duration": 280,
    "start_time": "2022-10-15T07:36:51.766Z"
   },
   {
    "duration": 99,
    "start_time": "2022-10-15T07:39:23.555Z"
   },
   {
    "duration": 112,
    "start_time": "2022-10-15T07:39:33.916Z"
   },
   {
    "duration": 156,
    "start_time": "2022-10-15T07:39:44.512Z"
   },
   {
    "duration": 123,
    "start_time": "2022-10-15T07:40:02.501Z"
   },
   {
    "duration": 154,
    "start_time": "2022-10-15T07:41:18.626Z"
   },
   {
    "duration": 123,
    "start_time": "2022-10-15T07:41:50.228Z"
   },
   {
    "duration": 128,
    "start_time": "2022-10-15T07:43:46.452Z"
   },
   {
    "duration": 122,
    "start_time": "2022-10-15T07:43:59.814Z"
   },
   {
    "duration": 127,
    "start_time": "2022-10-15T07:44:09.410Z"
   },
   {
    "duration": 144,
    "start_time": "2022-10-15T07:44:19.495Z"
   },
   {
    "duration": 91,
    "start_time": "2022-10-15T07:44:25.824Z"
   },
   {
    "duration": 11,
    "start_time": "2022-10-15T07:44:25.920Z"
   },
   {
    "duration": 13,
    "start_time": "2022-10-15T07:44:25.933Z"
   },
   {
    "duration": 5,
    "start_time": "2022-10-15T07:44:25.948Z"
   },
   {
    "duration": 17,
    "start_time": "2022-10-15T07:44:25.954Z"
   },
   {
    "duration": 38,
    "start_time": "2022-10-15T07:44:25.972Z"
   },
   {
    "duration": 12,
    "start_time": "2022-10-15T07:44:26.012Z"
   },
   {
    "duration": 112,
    "start_time": "2022-10-15T07:44:26.026Z"
   },
   {
    "duration": 5,
    "start_time": "2022-10-15T07:44:26.139Z"
   },
   {
    "duration": 13,
    "start_time": "2022-10-15T07:44:26.147Z"
   },
   {
    "duration": 7,
    "start_time": "2022-10-15T07:44:26.161Z"
   },
   {
    "duration": 11,
    "start_time": "2022-10-15T07:44:26.170Z"
   },
   {
    "duration": 7,
    "start_time": "2022-10-15T07:44:26.182Z"
   },
   {
    "duration": 20,
    "start_time": "2022-10-15T07:44:26.209Z"
   },
   {
    "duration": 8,
    "start_time": "2022-10-15T07:44:26.231Z"
   },
   {
    "duration": 12,
    "start_time": "2022-10-15T07:44:26.241Z"
   },
   {
    "duration": 22,
    "start_time": "2022-10-15T07:44:26.254Z"
   },
   {
    "duration": 5,
    "start_time": "2022-10-15T07:44:26.277Z"
   },
   {
    "duration": 35,
    "start_time": "2022-10-15T07:44:26.283Z"
   },
   {
    "duration": 9,
    "start_time": "2022-10-15T07:44:26.320Z"
   },
   {
    "duration": 5,
    "start_time": "2022-10-15T07:44:26.331Z"
   },
   {
    "duration": 17,
    "start_time": "2022-10-15T07:44:26.338Z"
   },
   {
    "duration": 15,
    "start_time": "2022-10-15T07:44:26.357Z"
   },
   {
    "duration": 6,
    "start_time": "2022-10-15T07:44:26.374Z"
   },
   {
    "duration": 29,
    "start_time": "2022-10-15T07:44:26.381Z"
   },
   {
    "duration": 27,
    "start_time": "2022-10-15T07:44:26.411Z"
   },
   {
    "duration": 17,
    "start_time": "2022-10-15T07:44:26.439Z"
   },
   {
    "duration": 5,
    "start_time": "2022-10-15T07:44:26.460Z"
   },
   {
    "duration": 8,
    "start_time": "2022-10-15T07:44:26.466Z"
   },
   {
    "duration": 13,
    "start_time": "2022-10-15T07:44:26.475Z"
   },
   {
    "duration": 33,
    "start_time": "2022-10-15T07:44:26.490Z"
   },
   {
    "duration": 9,
    "start_time": "2022-10-15T07:44:26.525Z"
   },
   {
    "duration": 12,
    "start_time": "2022-10-15T07:44:26.536Z"
   },
   {
    "duration": 8,
    "start_time": "2022-10-15T07:44:26.549Z"
   },
   {
    "duration": 304,
    "start_time": "2022-10-15T07:44:26.559Z"
   },
   {
    "duration": 8,
    "start_time": "2022-10-15T07:44:26.865Z"
   },
   {
    "duration": 442,
    "start_time": "2022-10-15T07:44:26.874Z"
   },
   {
    "duration": 7,
    "start_time": "2022-10-15T07:44:27.317Z"
   },
   {
    "duration": 943,
    "start_time": "2022-10-15T07:44:27.325Z"
   },
   {
    "duration": 7,
    "start_time": "2022-10-15T07:44:28.270Z"
   },
   {
    "duration": 10155,
    "start_time": "2022-10-15T07:44:28.279Z"
   },
   {
    "duration": 12,
    "start_time": "2022-10-15T07:44:38.435Z"
   },
   {
    "duration": 22,
    "start_time": "2022-10-15T07:44:38.448Z"
   },
   {
    "duration": 6,
    "start_time": "2022-10-15T07:44:38.472Z"
   },
   {
    "duration": 31,
    "start_time": "2022-10-15T07:44:38.479Z"
   },
   {
    "duration": 6,
    "start_time": "2022-10-15T07:44:38.511Z"
   },
   {
    "duration": 20,
    "start_time": "2022-10-15T07:44:38.519Z"
   },
   {
    "duration": 5,
    "start_time": "2022-10-15T07:44:38.540Z"
   },
   {
    "duration": 18,
    "start_time": "2022-10-15T07:44:38.546Z"
   },
   {
    "duration": 4,
    "start_time": "2022-10-15T07:44:38.565Z"
   },
   {
    "duration": 42,
    "start_time": "2022-10-15T07:44:38.570Z"
   },
   {
    "duration": 10,
    "start_time": "2022-10-15T07:44:38.615Z"
   },
   {
    "duration": 15,
    "start_time": "2022-10-15T07:44:38.626Z"
   },
   {
    "duration": 4,
    "start_time": "2022-10-15T07:44:38.642Z"
   },
   {
    "duration": 23,
    "start_time": "2022-10-15T07:44:38.648Z"
   },
   {
    "duration": 36,
    "start_time": "2022-10-15T07:44:38.673Z"
   },
   {
    "duration": 133,
    "start_time": "2022-10-15T07:44:42.069Z"
   },
   {
    "duration": 168,
    "start_time": "2022-10-15T07:45:26.079Z"
   },
   {
    "duration": 139,
    "start_time": "2022-10-15T07:45:46.956Z"
   },
   {
    "duration": 98,
    "start_time": "2022-10-15T07:45:55.666Z"
   },
   {
    "duration": 144,
    "start_time": "2022-10-15T07:46:01.245Z"
   },
   {
    "duration": 143,
    "start_time": "2022-10-15T07:46:17.519Z"
   },
   {
    "duration": 71,
    "start_time": "2022-10-15T07:48:07.963Z"
   },
   {
    "duration": 157,
    "start_time": "2022-10-15T07:48:21.528Z"
   },
   {
    "duration": 153,
    "start_time": "2022-10-15T07:48:45.739Z"
   },
   {
    "duration": 206,
    "start_time": "2022-10-15T07:48:55.190Z"
   },
   {
    "duration": 142,
    "start_time": "2022-10-15T07:49:58.932Z"
   },
   {
    "duration": 13,
    "start_time": "2022-10-15T07:50:21.460Z"
   },
   {
    "duration": 94,
    "start_time": "2022-10-15T07:50:29.460Z"
   },
   {
    "duration": 162,
    "start_time": "2022-10-15T07:51:18.835Z"
   },
   {
    "duration": 150,
    "start_time": "2022-10-15T08:39:49.446Z"
   },
   {
    "duration": 5,
    "start_time": "2022-10-15T08:40:40.785Z"
   },
   {
    "duration": 134,
    "start_time": "2022-10-15T08:42:32.660Z"
   },
   {
    "duration": 139,
    "start_time": "2022-10-15T08:43:14.389Z"
   },
   {
    "duration": 134,
    "start_time": "2022-10-15T08:43:56.934Z"
   },
   {
    "duration": 160,
    "start_time": "2022-10-15T08:44:50.734Z"
   },
   {
    "duration": 184,
    "start_time": "2022-10-15T08:45:46.802Z"
   },
   {
    "duration": 142,
    "start_time": "2022-10-15T08:46:57.533Z"
   },
   {
    "duration": 152,
    "start_time": "2022-10-15T08:47:55.057Z"
   },
   {
    "duration": 144,
    "start_time": "2022-10-15T08:48:25.560Z"
   },
   {
    "duration": 34,
    "start_time": "2022-10-15T08:52:53.934Z"
   },
   {
    "duration": 11,
    "start_time": "2022-10-15T08:55:11.647Z"
   },
   {
    "duration": 12,
    "start_time": "2022-10-15T08:55:17.353Z"
   },
   {
    "duration": 19,
    "start_time": "2022-10-15T08:55:23.250Z"
   },
   {
    "duration": 17,
    "start_time": "2022-10-15T08:56:55.294Z"
   },
   {
    "duration": 206,
    "start_time": "2022-10-15T08:59:23.661Z"
   },
   {
    "duration": 182,
    "start_time": "2022-10-15T08:59:59.300Z"
   },
   {
    "duration": 182,
    "start_time": "2022-10-15T09:01:06.790Z"
   },
   {
    "duration": 186,
    "start_time": "2022-10-15T09:03:33.626Z"
   },
   {
    "duration": 202,
    "start_time": "2022-10-15T09:04:03.122Z"
   },
   {
    "duration": 236,
    "start_time": "2022-10-15T09:04:21.606Z"
   },
   {
    "duration": 180,
    "start_time": "2022-10-15T09:06:01.100Z"
   },
   {
    "duration": 47,
    "start_time": "2022-10-15T09:08:07.739Z"
   },
   {
    "duration": 857,
    "start_time": "2022-10-15T09:08:16.408Z"
   },
   {
    "duration": 25,
    "start_time": "2022-10-15T09:23:22.543Z"
   },
   {
    "duration": 17,
    "start_time": "2022-10-15T09:23:52.074Z"
   },
   {
    "duration": 17,
    "start_time": "2022-10-15T09:41:02.991Z"
   },
   {
    "duration": 20,
    "start_time": "2022-10-15T09:42:15.823Z"
   },
   {
    "duration": 16,
    "start_time": "2022-10-15T09:46:09.694Z"
   },
   {
    "duration": 10,
    "start_time": "2022-10-15T09:47:06.440Z"
   },
   {
    "duration": 198,
    "start_time": "2022-10-15T09:48:39.580Z"
   },
   {
    "duration": 14,
    "start_time": "2022-10-15T09:48:51.247Z"
   },
   {
    "duration": 785,
    "start_time": "2022-10-16T12:04:00.621Z"
   },
   {
    "duration": 14,
    "start_time": "2022-10-16T12:04:01.410Z"
   },
   {
    "duration": 22,
    "start_time": "2022-10-16T12:04:01.426Z"
   },
   {
    "duration": 13,
    "start_time": "2022-10-16T12:04:01.451Z"
   },
   {
    "duration": 22,
    "start_time": "2022-10-16T12:04:01.466Z"
   },
   {
    "duration": 42,
    "start_time": "2022-10-16T12:04:01.490Z"
   },
   {
    "duration": 19,
    "start_time": "2022-10-16T12:04:01.534Z"
   },
   {
    "duration": 25,
    "start_time": "2022-10-16T12:04:01.554Z"
   },
   {
    "duration": 17,
    "start_time": "2022-10-16T12:04:01.581Z"
   },
   {
    "duration": 9,
    "start_time": "2022-10-16T12:04:01.601Z"
   },
   {
    "duration": 21,
    "start_time": "2022-10-16T12:04:01.612Z"
   },
   {
    "duration": 27,
    "start_time": "2022-10-16T12:04:01.635Z"
   },
   {
    "duration": 4,
    "start_time": "2022-10-16T12:04:01.665Z"
   },
   {
    "duration": 27,
    "start_time": "2022-10-16T12:04:01.671Z"
   },
   {
    "duration": 5,
    "start_time": "2022-10-16T12:04:01.700Z"
   },
   {
    "duration": 14,
    "start_time": "2022-10-16T12:04:01.707Z"
   },
   {
    "duration": 25,
    "start_time": "2022-10-16T12:04:01.722Z"
   },
   {
    "duration": 20,
    "start_time": "2022-10-16T12:04:01.748Z"
   },
   {
    "duration": 22,
    "start_time": "2022-10-16T12:04:01.770Z"
   },
   {
    "duration": 25,
    "start_time": "2022-10-16T12:04:01.794Z"
   },
   {
    "duration": 21,
    "start_time": "2022-10-16T12:04:01.820Z"
   },
   {
    "duration": 25,
    "start_time": "2022-10-16T12:04:01.843Z"
   },
   {
    "duration": 25,
    "start_time": "2022-10-16T12:04:01.869Z"
   },
   {
    "duration": 8,
    "start_time": "2022-10-16T12:04:01.896Z"
   },
   {
    "duration": 13,
    "start_time": "2022-10-16T12:04:01.906Z"
   },
   {
    "duration": 33,
    "start_time": "2022-10-16T12:04:01.920Z"
   },
   {
    "duration": 19,
    "start_time": "2022-10-16T12:04:01.955Z"
   },
   {
    "duration": 16,
    "start_time": "2022-10-16T12:04:01.978Z"
   },
   {
    "duration": 11,
    "start_time": "2022-10-16T12:04:01.996Z"
   },
   {
    "duration": 16,
    "start_time": "2022-10-16T12:04:02.009Z"
   },
   {
    "duration": 26,
    "start_time": "2022-10-16T12:04:02.027Z"
   },
   {
    "duration": 5,
    "start_time": "2022-10-16T12:04:02.055Z"
   },
   {
    "duration": 13,
    "start_time": "2022-10-16T12:04:02.062Z"
   },
   {
    "duration": 20,
    "start_time": "2022-10-16T12:04:02.077Z"
   },
   {
    "duration": 766,
    "start_time": "2022-10-16T12:04:02.099Z"
   },
   {
    "duration": 10,
    "start_time": "2022-10-16T12:04:02.867Z"
   },
   {
    "duration": 423,
    "start_time": "2022-10-16T12:04:02.878Z"
   },
   {
    "duration": 7,
    "start_time": "2022-10-16T12:04:03.303Z"
   },
   {
    "duration": 1070,
    "start_time": "2022-10-16T12:04:03.312Z"
   },
   {
    "duration": 14,
    "start_time": "2022-10-16T12:04:04.384Z"
   },
   {
    "duration": 10893,
    "start_time": "2022-10-16T12:04:04.400Z"
   },
   {
    "duration": 12,
    "start_time": "2022-10-16T12:04:15.296Z"
   },
   {
    "duration": 26,
    "start_time": "2022-10-16T12:04:15.309Z"
   },
   {
    "duration": 7,
    "start_time": "2022-10-16T12:04:15.336Z"
   },
   {
    "duration": 21,
    "start_time": "2022-10-16T12:04:15.344Z"
   },
   {
    "duration": 30,
    "start_time": "2022-10-16T12:04:15.367Z"
   },
   {
    "duration": 19,
    "start_time": "2022-10-16T12:04:15.399Z"
   },
   {
    "duration": 8,
    "start_time": "2022-10-16T12:04:15.420Z"
   },
   {
    "duration": 23,
    "start_time": "2022-10-16T12:04:15.429Z"
   },
   {
    "duration": 6,
    "start_time": "2022-10-16T12:04:15.454Z"
   },
   {
    "duration": 48,
    "start_time": "2022-10-16T12:04:15.461Z"
   },
   {
    "duration": 13,
    "start_time": "2022-10-16T12:04:15.510Z"
   },
   {
    "duration": 19,
    "start_time": "2022-10-16T12:04:15.524Z"
   },
   {
    "duration": 8,
    "start_time": "2022-10-16T12:04:15.545Z"
   },
   {
    "duration": 25,
    "start_time": "2022-10-16T12:04:15.555Z"
   },
   {
    "duration": 13,
    "start_time": "2022-10-16T12:04:15.596Z"
   },
   {
    "duration": 201,
    "start_time": "2022-10-16T12:04:15.611Z"
   },
   {
    "duration": 6,
    "start_time": "2022-10-16T12:04:15.813Z"
   },
   {
    "duration": 241,
    "start_time": "2022-10-16T12:04:15.820Z"
   },
   {
    "duration": 4,
    "start_time": "2022-10-16T12:04:16.063Z"
   },
   {
    "duration": 16,
    "start_time": "2022-10-16T12:04:16.068Z"
   },
   {
    "duration": 9,
    "start_time": "2022-10-16T12:04:16.097Z"
   },
   {
    "duration": 22,
    "start_time": "2022-10-16T12:04:16.108Z"
   },
   {
    "duration": 201,
    "start_time": "2022-10-16T12:04:16.132Z"
   },
   {
    "duration": 239,
    "start_time": "2022-10-16T12:04:16.335Z"
   },
   {
    "duration": 245,
    "start_time": "2022-10-16T12:04:16.576Z"
   },
   {
    "duration": 15,
    "start_time": "2022-10-16T12:04:16.823Z"
   },
   {
    "duration": 25,
    "start_time": "2022-10-16T12:04:16.840Z"
   },
   {
    "duration": 39,
    "start_time": "2022-10-16T12:04:16.867Z"
   },
   {
    "duration": 12,
    "start_time": "2022-10-16T12:04:16.908Z"
   },
   {
    "duration": 6,
    "start_time": "2022-10-16T12:04:51.842Z"
   },
   {
    "duration": 216,
    "start_time": "2022-10-16T12:04:55.658Z"
   },
   {
    "duration": 17,
    "start_time": "2022-10-16T12:05:41.651Z"
   },
   {
    "duration": 16,
    "start_time": "2022-10-16T12:06:04.193Z"
   },
   {
    "duration": 78,
    "start_time": "2022-10-16T12:08:29.082Z"
   },
   {
    "duration": 78,
    "start_time": "2022-10-16T12:09:22.244Z"
   },
   {
    "duration": 15,
    "start_time": "2022-10-16T12:09:47.572Z"
   },
   {
    "duration": 7,
    "start_time": "2022-10-16T12:11:38.381Z"
   },
   {
    "duration": 8,
    "start_time": "2022-10-16T12:12:03.875Z"
   },
   {
    "duration": 21,
    "start_time": "2022-10-16T12:15:18.823Z"
   },
   {
    "duration": 13,
    "start_time": "2022-10-16T12:16:32.937Z"
   },
   {
    "duration": 15,
    "start_time": "2022-10-16T12:16:49.290Z"
   },
   {
    "duration": 8,
    "start_time": "2022-10-16T12:17:02.242Z"
   },
   {
    "duration": 7,
    "start_time": "2022-10-16T12:17:37.548Z"
   },
   {
    "duration": 10,
    "start_time": "2022-10-16T12:17:43.246Z"
   },
   {
    "duration": 8,
    "start_time": "2022-10-16T12:18:35.756Z"
   },
   {
    "duration": 17,
    "start_time": "2022-10-16T12:20:18.560Z"
   },
   {
    "duration": 15,
    "start_time": "2022-10-16T12:20:45.193Z"
   },
   {
    "duration": 9,
    "start_time": "2022-10-16T12:21:10.471Z"
   },
   {
    "duration": 15,
    "start_time": "2022-10-16T12:21:14.593Z"
   },
   {
    "duration": 12,
    "start_time": "2022-10-16T12:21:32.093Z"
   },
   {
    "duration": 15,
    "start_time": "2022-10-16T12:21:40.982Z"
   },
   {
    "duration": 12,
    "start_time": "2022-10-16T12:21:44.033Z"
   },
   {
    "duration": 11,
    "start_time": "2022-10-16T12:22:22.873Z"
   },
   {
    "duration": 22,
    "start_time": "2022-10-16T12:22:27.774Z"
   },
   {
    "duration": 18,
    "start_time": "2022-10-16T12:23:16.645Z"
   },
   {
    "duration": 19,
    "start_time": "2022-10-16T12:23:21.777Z"
   },
   {
    "duration": 19,
    "start_time": "2022-10-16T12:23:52.790Z"
   },
   {
    "duration": 15,
    "start_time": "2022-10-16T12:24:05.688Z"
   },
   {
    "duration": 15,
    "start_time": "2022-10-16T12:24:34.909Z"
   },
   {
    "duration": 19,
    "start_time": "2022-10-16T12:26:01.309Z"
   },
   {
    "duration": 1302,
    "start_time": "2022-10-16T12:26:08.718Z"
   },
   {
    "duration": 20,
    "start_time": "2022-10-16T12:26:15.928Z"
   },
   {
    "duration": 17,
    "start_time": "2022-10-16T12:26:24.627Z"
   },
   {
    "duration": 1112,
    "start_time": "2022-10-16T12:26:29.605Z"
   },
   {
    "duration": 1074,
    "start_time": "2022-10-16T12:26:34.401Z"
   },
   {
    "duration": 17,
    "start_time": "2022-10-16T12:26:40.516Z"
   },
   {
    "duration": 18,
    "start_time": "2022-10-16T12:27:24.668Z"
   },
   {
    "duration": 16,
    "start_time": "2022-10-16T12:27:45.809Z"
   },
   {
    "duration": 16,
    "start_time": "2022-10-16T12:27:50.742Z"
   },
   {
    "duration": 1157,
    "start_time": "2022-10-16T12:29:16.912Z"
   },
   {
    "duration": 23,
    "start_time": "2022-10-16T12:29:35.147Z"
   },
   {
    "duration": 23,
    "start_time": "2022-10-16T12:32:19.252Z"
   },
   {
    "duration": 1295,
    "start_time": "2022-10-16T12:34:10.717Z"
   },
   {
    "duration": 103,
    "start_time": "2022-10-16T12:36:16.065Z"
   },
   {
    "duration": 100,
    "start_time": "2022-10-16T12:36:22.013Z"
   },
   {
    "duration": 74,
    "start_time": "2022-10-16T12:36:41.883Z"
   },
   {
    "duration": 79,
    "start_time": "2022-10-16T12:37:06.945Z"
   },
   {
    "duration": 102,
    "start_time": "2022-10-16T12:37:34.058Z"
   },
   {
    "duration": 80,
    "start_time": "2022-10-16T12:37:51.190Z"
   },
   {
    "duration": 153,
    "start_time": "2022-10-16T12:38:06.068Z"
   },
   {
    "duration": 663,
    "start_time": "2022-10-17T08:48:56.326Z"
   },
   {
    "duration": 12,
    "start_time": "2022-10-17T08:48:56.991Z"
   },
   {
    "duration": 17,
    "start_time": "2022-10-17T08:48:57.004Z"
   },
   {
    "duration": 7,
    "start_time": "2022-10-17T08:48:57.023Z"
   },
   {
    "duration": 15,
    "start_time": "2022-10-17T08:48:57.031Z"
   },
   {
    "duration": 36,
    "start_time": "2022-10-17T08:48:57.048Z"
   },
   {
    "duration": 15,
    "start_time": "2022-10-17T08:48:57.086Z"
   },
   {
    "duration": 22,
    "start_time": "2022-10-17T08:48:57.103Z"
   },
   {
    "duration": 28,
    "start_time": "2022-10-17T08:48:57.127Z"
   },
   {
    "duration": 27,
    "start_time": "2022-10-17T08:48:57.158Z"
   },
   {
    "duration": 20,
    "start_time": "2022-10-17T08:48:57.187Z"
   },
   {
    "duration": 11,
    "start_time": "2022-10-17T08:48:57.208Z"
   },
   {
    "duration": 5,
    "start_time": "2022-10-17T08:48:57.221Z"
   },
   {
    "duration": 37,
    "start_time": "2022-10-17T08:48:57.227Z"
   },
   {
    "duration": 6,
    "start_time": "2022-10-17T08:48:57.266Z"
   },
   {
    "duration": 16,
    "start_time": "2022-10-17T08:48:57.274Z"
   },
   {
    "duration": 44,
    "start_time": "2022-10-17T08:48:57.292Z"
   },
   {
    "duration": 5,
    "start_time": "2022-10-17T08:48:57.338Z"
   },
   {
    "duration": 16,
    "start_time": "2022-10-17T08:48:57.345Z"
   },
   {
    "duration": 11,
    "start_time": "2022-10-17T08:48:57.363Z"
   },
   {
    "duration": 9,
    "start_time": "2022-10-17T08:48:57.376Z"
   },
   {
    "duration": 21,
    "start_time": "2022-10-17T08:48:57.386Z"
   },
   {
    "duration": 16,
    "start_time": "2022-10-17T08:48:57.409Z"
   },
   {
    "duration": 30,
    "start_time": "2022-10-17T08:48:57.427Z"
   },
   {
    "duration": 6,
    "start_time": "2022-10-17T08:48:57.460Z"
   },
   {
    "duration": 24,
    "start_time": "2022-10-17T08:48:57.468Z"
   },
   {
    "duration": 20,
    "start_time": "2022-10-17T08:48:57.494Z"
   },
   {
    "duration": 34,
    "start_time": "2022-10-17T08:48:57.520Z"
   },
   {
    "duration": 5,
    "start_time": "2022-10-17T08:48:57.557Z"
   },
   {
    "duration": 23,
    "start_time": "2022-10-17T08:48:57.564Z"
   },
   {
    "duration": 15,
    "start_time": "2022-10-17T08:48:57.589Z"
   },
   {
    "duration": 4,
    "start_time": "2022-10-17T08:48:57.606Z"
   },
   {
    "duration": 43,
    "start_time": "2022-10-17T08:48:57.612Z"
   },
   {
    "duration": 4,
    "start_time": "2022-10-17T08:48:57.657Z"
   },
   {
    "duration": 776,
    "start_time": "2022-10-17T08:48:57.663Z"
   },
   {
    "duration": 18,
    "start_time": "2022-10-17T08:48:58.441Z"
   },
   {
    "duration": 416,
    "start_time": "2022-10-17T08:48:58.460Z"
   },
   {
    "duration": 7,
    "start_time": "2022-10-17T08:48:58.878Z"
   },
   {
    "duration": 1013,
    "start_time": "2022-10-17T08:48:58.887Z"
   },
   {
    "duration": 10,
    "start_time": "2022-10-17T08:48:59.901Z"
   },
   {
    "duration": 12395,
    "start_time": "2022-10-17T08:48:59.913Z"
   },
   {
    "duration": 15,
    "start_time": "2022-10-17T08:49:12.310Z"
   },
   {
    "duration": 38,
    "start_time": "2022-10-17T08:49:12.328Z"
   },
   {
    "duration": 11,
    "start_time": "2022-10-17T08:49:12.370Z"
   },
   {
    "duration": 27,
    "start_time": "2022-10-17T08:49:12.383Z"
   },
   {
    "duration": 9,
    "start_time": "2022-10-17T08:49:12.411Z"
   },
   {
    "duration": 32,
    "start_time": "2022-10-17T08:49:12.422Z"
   },
   {
    "duration": 13,
    "start_time": "2022-10-17T08:49:12.456Z"
   },
   {
    "duration": 30,
    "start_time": "2022-10-17T08:49:12.471Z"
   },
   {
    "duration": 21,
    "start_time": "2022-10-17T08:49:12.503Z"
   },
   {
    "duration": 40,
    "start_time": "2022-10-17T08:49:12.526Z"
   },
   {
    "duration": 12,
    "start_time": "2022-10-17T08:49:12.569Z"
   },
   {
    "duration": 24,
    "start_time": "2022-10-17T08:49:12.584Z"
   },
   {
    "duration": 8,
    "start_time": "2022-10-17T08:49:12.610Z"
   },
   {
    "duration": 43,
    "start_time": "2022-10-17T08:49:12.620Z"
   },
   {
    "duration": 12,
    "start_time": "2022-10-17T08:49:12.665Z"
   },
   {
    "duration": 216,
    "start_time": "2022-10-17T08:49:12.679Z"
   },
   {
    "duration": 5,
    "start_time": "2022-10-17T08:49:12.897Z"
   },
   {
    "duration": 275,
    "start_time": "2022-10-17T08:49:12.903Z"
   },
   {
    "duration": 4,
    "start_time": "2022-10-17T08:49:13.179Z"
   },
   {
    "duration": 19,
    "start_time": "2022-10-17T08:49:13.185Z"
   },
   {
    "duration": 18,
    "start_time": "2022-10-17T08:49:13.206Z"
   },
   {
    "duration": 32,
    "start_time": "2022-10-17T08:49:13.225Z"
   },
   {
    "duration": 209,
    "start_time": "2022-10-17T08:49:13.260Z"
   },
   {
    "duration": 23,
    "start_time": "2022-10-17T08:49:13.471Z"
   },
   {
    "duration": 313,
    "start_time": "2022-10-17T08:49:13.496Z"
   },
   {
    "duration": 45,
    "start_time": "2022-10-17T08:49:13.811Z"
   },
   {
    "duration": 134,
    "start_time": "2022-10-17T08:49:13.858Z"
   },
   {
    "duration": 249,
    "start_time": "2022-10-17T08:49:13.994Z"
   },
   {
    "duration": 23,
    "start_time": "2022-10-17T08:49:14.245Z"
   },
   {
    "duration": 23,
    "start_time": "2022-10-17T08:49:14.269Z"
   },
   {
    "duration": 29,
    "start_time": "2022-10-17T08:49:14.295Z"
   },
   {
    "duration": 29,
    "start_time": "2022-10-17T08:49:14.326Z"
   },
   {
    "duration": 22,
    "start_time": "2022-10-17T08:50:23.242Z"
   },
   {
    "duration": 101,
    "start_time": "2022-10-17T08:50:52.308Z"
   },
   {
    "duration": 120,
    "start_time": "2022-10-17T08:51:00.663Z"
   },
   {
    "duration": 108,
    "start_time": "2022-10-17T08:51:04.860Z"
   },
   {
    "duration": 109,
    "start_time": "2022-10-17T08:51:16.447Z"
   },
   {
    "duration": 107,
    "start_time": "2022-10-17T08:51:32.463Z"
   },
   {
    "duration": 93,
    "start_time": "2022-10-17T08:52:18.113Z"
   },
   {
    "duration": 203,
    "start_time": "2022-10-17T08:52:28.753Z"
   },
   {
    "duration": 127,
    "start_time": "2022-10-17T08:52:42.537Z"
   },
   {
    "duration": 118,
    "start_time": "2022-10-17T08:52:52.542Z"
   },
   {
    "duration": 199,
    "start_time": "2022-10-17T08:53:56.571Z"
   },
   {
    "duration": 131,
    "start_time": "2022-10-17T08:54:52.081Z"
   },
   {
    "duration": 310,
    "start_time": "2022-10-17T08:57:26.957Z"
   },
   {
    "duration": 22,
    "start_time": "2022-10-17T08:57:40.358Z"
   },
   {
    "duration": 19,
    "start_time": "2022-10-17T08:57:56.875Z"
   },
   {
    "duration": 7,
    "start_time": "2022-10-17T09:09:03.939Z"
   },
   {
    "duration": 4,
    "start_time": "2022-10-17T09:09:09.017Z"
   },
   {
    "duration": 4,
    "start_time": "2022-10-17T09:09:14.537Z"
   },
   {
    "duration": 5,
    "start_time": "2022-10-17T09:09:25.502Z"
   },
   {
    "duration": 146,
    "start_time": "2022-10-17T09:09:34.558Z"
   },
   {
    "duration": 136,
    "start_time": "2022-10-17T09:10:07.362Z"
   },
   {
    "duration": 15,
    "start_time": "2022-10-17T09:10:20.369Z"
   },
   {
    "duration": 15,
    "start_time": "2022-10-17T09:10:23.660Z"
   },
   {
    "duration": 136,
    "start_time": "2022-10-17T09:10:33.532Z"
   },
   {
    "duration": 138,
    "start_time": "2022-10-17T09:10:52.203Z"
   },
   {
    "duration": 250,
    "start_time": "2022-10-17T09:12:29.103Z"
   },
   {
    "duration": 18,
    "start_time": "2022-10-17T09:13:42.176Z"
   },
   {
    "duration": 249,
    "start_time": "2022-10-17T09:14:28.458Z"
   },
   {
    "duration": 25,
    "start_time": "2022-10-17T09:15:06.134Z"
   },
   {
    "duration": 243,
    "start_time": "2022-10-17T09:15:43.555Z"
   },
   {
    "duration": 26,
    "start_time": "2022-10-17T09:17:12.928Z"
   },
   {
    "duration": 20,
    "start_time": "2022-10-17T09:17:18.236Z"
   },
   {
    "duration": 19,
    "start_time": "2022-10-17T09:17:51.125Z"
   },
   {
    "duration": 20,
    "start_time": "2022-10-17T09:18:26.840Z"
   },
   {
    "duration": 240,
    "start_time": "2022-10-17T09:22:12.581Z"
   },
   {
    "duration": 17,
    "start_time": "2022-10-17T09:30:47.940Z"
   },
   {
    "duration": 27,
    "start_time": "2022-10-17T09:32:59.266Z"
   },
   {
    "duration": 27,
    "start_time": "2022-10-17T09:33:14.930Z"
   },
   {
    "duration": 7,
    "start_time": "2022-10-17T09:34:29.638Z"
   },
   {
    "duration": 6,
    "start_time": "2022-10-17T09:51:01.486Z"
   },
   {
    "duration": 32,
    "start_time": "2022-10-17T09:51:12.874Z"
   },
   {
    "duration": 31,
    "start_time": "2022-10-17T09:51:26.322Z"
   },
   {
    "duration": 19,
    "start_time": "2022-10-17T09:53:08.511Z"
   },
   {
    "duration": 22,
    "start_time": "2022-10-17T09:54:11.513Z"
   },
   {
    "duration": 8,
    "start_time": "2022-10-17T09:56:06.910Z"
   },
   {
    "duration": 10,
    "start_time": "2022-10-17T09:56:49.426Z"
   },
   {
    "duration": 11,
    "start_time": "2022-10-17T09:57:42.846Z"
   },
   {
    "duration": 25,
    "start_time": "2022-10-17T09:58:15.332Z"
   },
   {
    "duration": 21,
    "start_time": "2022-10-17T09:58:49.845Z"
   },
   {
    "duration": 21,
    "start_time": "2022-10-17T09:59:43.582Z"
   },
   {
    "duration": 11,
    "start_time": "2022-10-17T10:00:39.161Z"
   },
   {
    "duration": 16,
    "start_time": "2022-10-17T10:01:11.468Z"
   },
   {
    "duration": 6,
    "start_time": "2022-10-17T10:02:05.972Z"
   },
   {
    "duration": 29,
    "start_time": "2022-10-17T10:02:09.233Z"
   },
   {
    "duration": 109,
    "start_time": "2022-10-17T10:17:43.301Z"
   },
   {
    "duration": 11,
    "start_time": "2022-10-17T10:17:43.412Z"
   },
   {
    "duration": 14,
    "start_time": "2022-10-17T10:17:43.425Z"
   },
   {
    "duration": 5,
    "start_time": "2022-10-17T10:17:43.441Z"
   },
   {
    "duration": 12,
    "start_time": "2022-10-17T10:17:43.447Z"
   },
   {
    "duration": 24,
    "start_time": "2022-10-17T10:17:43.460Z"
   },
   {
    "duration": 13,
    "start_time": "2022-10-17T10:17:43.486Z"
   },
   {
    "duration": 20,
    "start_time": "2022-10-17T10:17:43.501Z"
   },
   {
    "duration": 4,
    "start_time": "2022-10-17T10:17:43.523Z"
   },
   {
    "duration": 7,
    "start_time": "2022-10-17T10:17:43.555Z"
   },
   {
    "duration": 8,
    "start_time": "2022-10-17T10:17:43.564Z"
   },
   {
    "duration": 12,
    "start_time": "2022-10-17T10:17:43.573Z"
   },
   {
    "duration": 5,
    "start_time": "2022-10-17T10:17:43.586Z"
   },
   {
    "duration": 23,
    "start_time": "2022-10-17T10:17:43.592Z"
   },
   {
    "duration": 5,
    "start_time": "2022-10-17T10:17:43.616Z"
   },
   {
    "duration": 38,
    "start_time": "2022-10-17T10:17:43.623Z"
   },
   {
    "duration": 19,
    "start_time": "2022-10-17T10:17:43.663Z"
   },
   {
    "duration": 4,
    "start_time": "2022-10-17T10:17:43.684Z"
   },
   {
    "duration": 13,
    "start_time": "2022-10-17T10:17:43.689Z"
   },
   {
    "duration": 7,
    "start_time": "2022-10-17T10:17:43.704Z"
   },
   {
    "duration": 7,
    "start_time": "2022-10-17T10:17:43.713Z"
   },
   {
    "duration": 45,
    "start_time": "2022-10-17T10:17:43.721Z"
   },
   {
    "duration": 14,
    "start_time": "2022-10-17T10:17:43.768Z"
   },
   {
    "duration": 7,
    "start_time": "2022-10-17T10:17:43.784Z"
   },
   {
    "duration": 25,
    "start_time": "2022-10-17T10:20:19.946Z"
   },
   {
    "duration": 13,
    "start_time": "2022-10-17T10:23:02.261Z"
   },
   {
    "duration": 8,
    "start_time": "2022-10-17T10:23:48.818Z"
   },
   {
    "duration": 14,
    "start_time": "2022-10-17T10:24:28.336Z"
   },
   {
    "duration": 21,
    "start_time": "2022-10-17T10:26:07.243Z"
   },
   {
    "duration": 24,
    "start_time": "2022-10-17T10:26:28.681Z"
   },
   {
    "duration": 19,
    "start_time": "2022-10-17T10:27:13.015Z"
   },
   {
    "duration": 18,
    "start_time": "2022-10-17T10:27:19.494Z"
   },
   {
    "duration": 19,
    "start_time": "2022-10-17T10:27:27.938Z"
   },
   {
    "duration": 19,
    "start_time": "2022-10-17T10:29:16.692Z"
   },
   {
    "duration": 26,
    "start_time": "2022-10-17T10:30:07.906Z"
   },
   {
    "duration": 18,
    "start_time": "2022-10-17T10:31:01.998Z"
   },
   {
    "duration": 18,
    "start_time": "2022-10-17T10:32:10.242Z"
   },
   {
    "duration": 17,
    "start_time": "2022-10-17T10:33:20.583Z"
   },
   {
    "duration": 18,
    "start_time": "2022-10-17T10:33:34.175Z"
   },
   {
    "duration": 6,
    "start_time": "2022-10-17T10:34:19.490Z"
   },
   {
    "duration": 16,
    "start_time": "2022-10-17T10:35:31.054Z"
   },
   {
    "duration": 13,
    "start_time": "2022-10-17T10:35:38.737Z"
   },
   {
    "duration": 12,
    "start_time": "2022-10-17T10:35:46.191Z"
   },
   {
    "duration": 20,
    "start_time": "2022-10-17T10:36:01.589Z"
   },
   {
    "duration": 96,
    "start_time": "2022-10-17T10:36:07.054Z"
   },
   {
    "duration": 12,
    "start_time": "2022-10-17T10:36:07.152Z"
   },
   {
    "duration": 23,
    "start_time": "2022-10-17T10:36:07.165Z"
   },
   {
    "duration": 11,
    "start_time": "2022-10-17T10:36:07.190Z"
   },
   {
    "duration": 16,
    "start_time": "2022-10-17T10:36:07.203Z"
   },
   {
    "duration": 42,
    "start_time": "2022-10-17T10:36:07.221Z"
   },
   {
    "duration": 16,
    "start_time": "2022-10-17T10:36:07.264Z"
   },
   {
    "duration": 21,
    "start_time": "2022-10-17T10:36:07.281Z"
   },
   {
    "duration": 6,
    "start_time": "2022-10-17T10:36:07.304Z"
   },
   {
    "duration": 46,
    "start_time": "2022-10-17T10:36:07.312Z"
   },
   {
    "duration": 9,
    "start_time": "2022-10-17T10:36:07.360Z"
   },
   {
    "duration": 29,
    "start_time": "2022-10-17T10:36:07.371Z"
   },
   {
    "duration": 5,
    "start_time": "2022-10-17T10:36:07.402Z"
   },
   {
    "duration": 21,
    "start_time": "2022-10-17T10:36:07.411Z"
   },
   {
    "duration": 24,
    "start_time": "2022-10-17T10:36:07.434Z"
   },
   {
    "duration": 14,
    "start_time": "2022-10-17T10:36:07.460Z"
   },
   {
    "duration": 29,
    "start_time": "2022-10-17T10:36:07.476Z"
   },
   {
    "duration": 8,
    "start_time": "2022-10-17T10:36:07.507Z"
   },
   {
    "duration": 12,
    "start_time": "2022-10-17T10:36:07.516Z"
   },
   {
    "duration": 16,
    "start_time": "2022-10-17T10:36:07.529Z"
   },
   {
    "duration": 8,
    "start_time": "2022-10-17T10:36:07.547Z"
   },
   {
    "duration": 30,
    "start_time": "2022-10-17T10:36:07.557Z"
   },
   {
    "duration": 19,
    "start_time": "2022-10-17T10:36:07.588Z"
   },
   {
    "duration": 15,
    "start_time": "2022-10-17T10:36:07.609Z"
   },
   {
    "duration": 15,
    "start_time": "2022-10-17T10:36:07.625Z"
   },
   {
    "duration": 28,
    "start_time": "2022-10-17T10:36:07.641Z"
   },
   {
    "duration": 20,
    "start_time": "2022-10-17T10:36:07.670Z"
   },
   {
    "duration": 24,
    "start_time": "2022-10-17T10:36:07.691Z"
   },
   {
    "duration": 28,
    "start_time": "2022-10-17T10:36:07.717Z"
   },
   {
    "duration": 27,
    "start_time": "2022-10-17T10:36:07.747Z"
   },
   {
    "duration": 17,
    "start_time": "2022-10-17T10:36:07.776Z"
   },
   {
    "duration": 4,
    "start_time": "2022-10-17T10:36:07.795Z"
   },
   {
    "duration": 25,
    "start_time": "2022-10-17T10:36:07.801Z"
   },
   {
    "duration": 10,
    "start_time": "2022-10-17T10:36:07.828Z"
   },
   {
    "duration": 378,
    "start_time": "2022-10-17T10:36:07.839Z"
   },
   {
    "duration": 10,
    "start_time": "2022-10-17T10:36:08.219Z"
   },
   {
    "duration": 429,
    "start_time": "2022-10-17T10:36:08.231Z"
   },
   {
    "duration": 7,
    "start_time": "2022-10-17T10:36:08.662Z"
   },
   {
    "duration": 1051,
    "start_time": "2022-10-17T10:36:08.670Z"
   },
   {
    "duration": 9,
    "start_time": "2022-10-17T10:36:09.723Z"
   },
   {
    "duration": 12237,
    "start_time": "2022-10-17T10:36:09.737Z"
   },
   {
    "duration": 13,
    "start_time": "2022-10-17T10:36:21.977Z"
   },
   {
    "duration": 28,
    "start_time": "2022-10-17T10:36:21.992Z"
   },
   {
    "duration": 8,
    "start_time": "2022-10-17T10:36:22.022Z"
   },
   {
    "duration": 38,
    "start_time": "2022-10-17T10:36:22.032Z"
   },
   {
    "duration": 5,
    "start_time": "2022-10-17T10:36:22.072Z"
   },
   {
    "duration": 36,
    "start_time": "2022-10-17T10:36:22.079Z"
   },
   {
    "duration": 10,
    "start_time": "2022-10-17T10:36:22.116Z"
   },
   {
    "duration": 28,
    "start_time": "2022-10-17T10:36:22.127Z"
   },
   {
    "duration": 11,
    "start_time": "2022-10-17T10:36:22.157Z"
   },
   {
    "duration": 22,
    "start_time": "2022-10-17T10:36:22.169Z"
   },
   {
    "duration": 13,
    "start_time": "2022-10-17T10:36:22.193Z"
   },
   {
    "duration": 22,
    "start_time": "2022-10-17T10:36:22.208Z"
   },
   {
    "duration": 21,
    "start_time": "2022-10-17T10:36:22.233Z"
   },
   {
    "duration": 25,
    "start_time": "2022-10-17T10:36:22.256Z"
   },
   {
    "duration": 14,
    "start_time": "2022-10-17T10:36:22.284Z"
   },
   {
    "duration": 209,
    "start_time": "2022-10-17T10:36:22.300Z"
   },
   {
    "duration": 5,
    "start_time": "2022-10-17T10:36:22.511Z"
   },
   {
    "duration": 190,
    "start_time": "2022-10-17T10:36:22.517Z"
   },
   {
    "duration": 3,
    "start_time": "2022-10-17T10:36:22.709Z"
   },
   {
    "duration": 18,
    "start_time": "2022-10-17T10:36:22.714Z"
   },
   {
    "duration": 24,
    "start_time": "2022-10-17T10:36:22.733Z"
   },
   {
    "duration": 32,
    "start_time": "2022-10-17T10:36:22.760Z"
   },
   {
    "duration": 207,
    "start_time": "2022-10-17T10:36:22.793Z"
   },
   {
    "duration": 17,
    "start_time": "2022-10-17T10:36:23.002Z"
   },
   {
    "duration": 239,
    "start_time": "2022-10-17T10:36:23.021Z"
   },
   {
    "duration": 29,
    "start_time": "2022-10-17T10:36:23.262Z"
   },
   {
    "duration": 7,
    "start_time": "2022-10-17T10:36:23.293Z"
   },
   {
    "duration": 154,
    "start_time": "2022-10-17T10:36:23.301Z"
   },
   {
    "duration": 244,
    "start_time": "2022-10-17T10:36:23.456Z"
   },
   {
    "duration": 152,
    "start_time": "2022-10-17T10:36:23.702Z"
   },
   {
    "duration": 243,
    "start_time": "2022-10-17T10:36:23.856Z"
   },
   {
    "duration": 21,
    "start_time": "2022-10-17T10:36:24.101Z"
   },
   {
    "duration": 6,
    "start_time": "2022-10-17T10:36:24.124Z"
   },
   {
    "duration": 14,
    "start_time": "2022-10-17T10:36:24.153Z"
   },
   {
    "duration": 13,
    "start_time": "2022-10-17T10:37:20.856Z"
   },
   {
    "duration": 12,
    "start_time": "2022-10-17T10:37:45.726Z"
   },
   {
    "duration": 16,
    "start_time": "2022-10-17T10:38:20.477Z"
   },
   {
    "duration": 14,
    "start_time": "2022-10-17T10:40:05.247Z"
   },
   {
    "duration": 5,
    "start_time": "2022-10-17T10:41:10.872Z"
   },
   {
    "duration": 6,
    "start_time": "2022-10-17T10:41:43.480Z"
   },
   {
    "duration": 6,
    "start_time": "2022-10-17T10:41:51.919Z"
   },
   {
    "duration": 743,
    "start_time": "2022-10-17T17:41:42.257Z"
   },
   {
    "duration": 10,
    "start_time": "2022-10-17T17:41:43.003Z"
   },
   {
    "duration": 15,
    "start_time": "2022-10-17T17:41:43.015Z"
   },
   {
    "duration": 14,
    "start_time": "2022-10-17T17:41:43.032Z"
   },
   {
    "duration": 15,
    "start_time": "2022-10-17T17:41:43.047Z"
   },
   {
    "duration": 29,
    "start_time": "2022-10-17T17:41:43.064Z"
   },
   {
    "duration": 16,
    "start_time": "2022-10-17T17:41:43.108Z"
   },
   {
    "duration": 19,
    "start_time": "2022-10-17T17:41:43.125Z"
   },
   {
    "duration": 5,
    "start_time": "2022-10-17T17:41:43.145Z"
   },
   {
    "duration": 6,
    "start_time": "2022-10-17T17:41:43.152Z"
   },
   {
    "duration": 9,
    "start_time": "2022-10-17T17:41:43.160Z"
   },
   {
    "duration": 39,
    "start_time": "2022-10-17T17:41:43.171Z"
   },
   {
    "duration": 5,
    "start_time": "2022-10-17T17:41:43.211Z"
   },
   {
    "duration": 27,
    "start_time": "2022-10-17T17:41:43.217Z"
   },
   {
    "duration": 4,
    "start_time": "2022-10-17T17:41:43.246Z"
   },
   {
    "duration": 14,
    "start_time": "2022-10-17T17:41:43.252Z"
   },
   {
    "duration": 20,
    "start_time": "2022-10-17T17:41:43.268Z"
   },
   {
    "duration": 9,
    "start_time": "2022-10-17T17:41:43.308Z"
   },
   {
    "duration": 10,
    "start_time": "2022-10-17T17:41:43.318Z"
   },
   {
    "duration": 8,
    "start_time": "2022-10-17T17:41:43.330Z"
   },
   {
    "duration": 9,
    "start_time": "2022-10-17T17:41:43.340Z"
   },
   {
    "duration": 21,
    "start_time": "2022-10-17T17:41:43.350Z"
   },
   {
    "duration": 46,
    "start_time": "2022-10-17T17:41:43.373Z"
   },
   {
    "duration": 7,
    "start_time": "2022-10-17T17:41:43.421Z"
   },
   {
    "duration": 8,
    "start_time": "2022-10-17T17:41:43.430Z"
   },
   {
    "duration": 24,
    "start_time": "2022-10-17T17:41:43.440Z"
   },
   {
    "duration": 18,
    "start_time": "2022-10-17T17:41:43.465Z"
   },
   {
    "duration": 8,
    "start_time": "2022-10-17T17:41:43.487Z"
   },
   {
    "duration": 14,
    "start_time": "2022-10-17T17:41:43.497Z"
   },
   {
    "duration": 15,
    "start_time": "2022-10-17T17:41:43.512Z"
   },
   {
    "duration": 17,
    "start_time": "2022-10-17T17:41:43.529Z"
   },
   {
    "duration": 5,
    "start_time": "2022-10-17T17:41:43.547Z"
   },
   {
    "duration": 10,
    "start_time": "2022-10-17T17:41:43.553Z"
   },
   {
    "duration": 7,
    "start_time": "2022-10-17T17:41:43.564Z"
   },
   {
    "duration": 684,
    "start_time": "2022-10-17T17:41:43.572Z"
   },
   {
    "duration": 7,
    "start_time": "2022-10-17T17:41:44.257Z"
   },
   {
    "duration": 491,
    "start_time": "2022-10-17T17:41:44.266Z"
   },
   {
    "duration": 6,
    "start_time": "2022-10-17T17:41:44.759Z"
   },
   {
    "duration": 943,
    "start_time": "2022-10-17T17:41:44.767Z"
   },
   {
    "duration": 9,
    "start_time": "2022-10-17T17:41:45.711Z"
   },
   {
    "duration": 9537,
    "start_time": "2022-10-17T17:41:45.722Z"
   },
   {
    "duration": 15,
    "start_time": "2022-10-17T17:41:55.260Z"
   },
   {
    "duration": 35,
    "start_time": "2022-10-17T17:41:55.276Z"
   },
   {
    "duration": 9,
    "start_time": "2022-10-17T17:41:55.312Z"
   },
   {
    "duration": 18,
    "start_time": "2022-10-17T17:41:55.322Z"
   },
   {
    "duration": 5,
    "start_time": "2022-10-17T17:41:55.342Z"
   },
   {
    "duration": 16,
    "start_time": "2022-10-17T17:41:55.348Z"
   },
   {
    "duration": 8,
    "start_time": "2022-10-17T17:41:55.365Z"
   },
   {
    "duration": 45,
    "start_time": "2022-10-17T17:41:55.375Z"
   },
   {
    "duration": 4,
    "start_time": "2022-10-17T17:41:55.422Z"
   },
   {
    "duration": 20,
    "start_time": "2022-10-17T17:41:55.427Z"
   },
   {
    "duration": 9,
    "start_time": "2022-10-17T17:41:55.448Z"
   },
   {
    "duration": 14,
    "start_time": "2022-10-17T17:41:55.458Z"
   },
   {
    "duration": 36,
    "start_time": "2022-10-17T17:41:55.473Z"
   },
   {
    "duration": 23,
    "start_time": "2022-10-17T17:41:55.511Z"
   },
   {
    "duration": 12,
    "start_time": "2022-10-17T17:41:55.535Z"
   },
   {
    "duration": 186,
    "start_time": "2022-10-17T17:41:55.548Z"
   },
   {
    "duration": 4,
    "start_time": "2022-10-17T17:41:55.736Z"
   },
   {
    "duration": 217,
    "start_time": "2022-10-17T17:41:55.742Z"
   },
   {
    "duration": 4,
    "start_time": "2022-10-17T17:41:55.961Z"
   },
   {
    "duration": 11,
    "start_time": "2022-10-17T17:41:55.967Z"
   },
   {
    "duration": 11,
    "start_time": "2022-10-17T17:41:55.980Z"
   },
   {
    "duration": 21,
    "start_time": "2022-10-17T17:41:56.009Z"
   },
   {
    "duration": 205,
    "start_time": "2022-10-17T17:41:56.032Z"
   },
   {
    "duration": 17,
    "start_time": "2022-10-17T17:41:56.239Z"
   },
   {
    "duration": 247,
    "start_time": "2022-10-17T17:41:56.258Z"
   },
   {
    "duration": 26,
    "start_time": "2022-10-17T17:41:56.507Z"
   },
   {
    "duration": 6,
    "start_time": "2022-10-17T17:41:56.534Z"
   },
   {
    "duration": 135,
    "start_time": "2022-10-17T17:41:56.541Z"
   },
   {
    "duration": 123,
    "start_time": "2022-10-17T17:41:56.678Z"
   },
   {
    "duration": 124,
    "start_time": "2022-10-17T17:41:56.803Z"
   },
   {
    "duration": 205,
    "start_time": "2022-10-17T17:41:56.929Z"
   },
   {
    "duration": 18,
    "start_time": "2022-10-17T17:41:57.135Z"
   },
   {
    "duration": 5,
    "start_time": "2022-10-17T17:41:57.154Z"
   },
   {
    "duration": 15,
    "start_time": "2022-10-17T17:41:57.160Z"
   },
   {
    "duration": 35,
    "start_time": "2022-10-17T17:41:57.177Z"
   },
   {
    "duration": 7,
    "start_time": "2022-10-17T17:41:57.214Z"
   },
   {
    "duration": 11,
    "start_time": "2022-10-17T17:41:57.222Z"
   },
   {
    "duration": 8,
    "start_time": "2022-10-17T17:41:57.234Z"
   },
   {
    "duration": 9,
    "start_time": "2022-10-17T17:41:57.243Z"
   },
   {
    "duration": 15,
    "start_time": "2022-10-17T17:45:43.456Z"
   },
   {
    "duration": 19,
    "start_time": "2022-10-17T17:45:46.714Z"
   },
   {
    "duration": 15,
    "start_time": "2022-10-17T17:47:33.765Z"
   },
   {
    "duration": 14,
    "start_time": "2022-10-17T17:47:59.771Z"
   },
   {
    "duration": 19,
    "start_time": "2022-10-17T17:50:17.145Z"
   },
   {
    "duration": 718,
    "start_time": "2022-10-17T17:52:58.472Z"
   },
   {
    "duration": 92,
    "start_time": "2022-10-17T17:53:15.636Z"
   },
   {
    "duration": 9,
    "start_time": "2022-10-17T17:53:15.730Z"
   },
   {
    "duration": 17,
    "start_time": "2022-10-17T17:53:15.741Z"
   },
   {
    "duration": 5,
    "start_time": "2022-10-17T17:53:15.760Z"
   },
   {
    "duration": 11,
    "start_time": "2022-10-17T17:53:15.766Z"
   },
   {
    "duration": 23,
    "start_time": "2022-10-17T17:53:15.778Z"
   },
   {
    "duration": 19,
    "start_time": "2022-10-17T17:53:15.802Z"
   },
   {
    "duration": 17,
    "start_time": "2022-10-17T17:53:15.822Z"
   },
   {
    "duration": 4,
    "start_time": "2022-10-17T17:53:15.841Z"
   },
   {
    "duration": 8,
    "start_time": "2022-10-17T17:53:15.847Z"
   },
   {
    "duration": 8,
    "start_time": "2022-10-17T17:53:15.856Z"
   },
   {
    "duration": 15,
    "start_time": "2022-10-17T17:53:15.865Z"
   },
   {
    "duration": 3,
    "start_time": "2022-10-17T17:53:15.881Z"
   },
   {
    "duration": 43,
    "start_time": "2022-10-17T17:53:15.885Z"
   },
   {
    "duration": 5,
    "start_time": "2022-10-17T17:53:15.929Z"
   },
   {
    "duration": 12,
    "start_time": "2022-10-17T17:53:15.935Z"
   },
   {
    "duration": 22,
    "start_time": "2022-10-17T17:53:15.949Z"
   },
   {
    "duration": 4,
    "start_time": "2022-10-17T17:53:15.972Z"
   },
   {
    "duration": 16,
    "start_time": "2022-10-17T17:53:20.269Z"
   },
   {
    "duration": 4,
    "start_time": "2022-10-17T17:54:43.457Z"
   },
   {
    "duration": 9,
    "start_time": "2022-10-17T17:54:46.060Z"
   },
   {
    "duration": 5,
    "start_time": "2022-10-17T17:57:52.293Z"
   },
   {
    "duration": 16,
    "start_time": "2022-10-17T17:59:26.693Z"
   },
   {
    "duration": 13,
    "start_time": "2022-10-17T18:00:52.181Z"
   },
   {
    "duration": 26,
    "start_time": "2022-10-17T18:07:12.072Z"
   },
   {
    "duration": 90,
    "start_time": "2022-10-17T18:07:20.421Z"
   },
   {
    "duration": 9,
    "start_time": "2022-10-17T18:07:20.513Z"
   },
   {
    "duration": 16,
    "start_time": "2022-10-17T18:07:20.523Z"
   },
   {
    "duration": 9,
    "start_time": "2022-10-17T18:07:20.540Z"
   },
   {
    "duration": 12,
    "start_time": "2022-10-17T18:07:20.550Z"
   },
   {
    "duration": 35,
    "start_time": "2022-10-17T18:07:20.563Z"
   },
   {
    "duration": 16,
    "start_time": "2022-10-17T18:07:20.599Z"
   },
   {
    "duration": 19,
    "start_time": "2022-10-17T18:07:20.616Z"
   },
   {
    "duration": 5,
    "start_time": "2022-10-17T18:07:20.636Z"
   },
   {
    "duration": 11,
    "start_time": "2022-10-17T18:07:20.643Z"
   },
   {
    "duration": 13,
    "start_time": "2022-10-17T18:07:20.656Z"
   },
   {
    "duration": 13,
    "start_time": "2022-10-17T18:07:20.670Z"
   },
   {
    "duration": 6,
    "start_time": "2022-10-17T18:07:20.685Z"
   },
   {
    "duration": 30,
    "start_time": "2022-10-17T18:07:20.692Z"
   },
   {
    "duration": 5,
    "start_time": "2022-10-17T18:07:20.724Z"
   },
   {
    "duration": 12,
    "start_time": "2022-10-17T18:07:20.730Z"
   },
   {
    "duration": 21,
    "start_time": "2022-10-17T18:07:20.744Z"
   },
   {
    "duration": 12,
    "start_time": "2022-10-17T18:07:20.766Z"
   },
   {
    "duration": 23,
    "start_time": "2022-10-17T18:07:20.779Z"
   },
   {
    "duration": 24,
    "start_time": "2022-10-17T18:07:25.935Z"
   },
   {
    "duration": 24,
    "start_time": "2022-10-17T18:07:29.498Z"
   },
   {
    "duration": 23,
    "start_time": "2022-10-17T18:07:33.506Z"
   },
   {
    "duration": 18,
    "start_time": "2022-10-17T18:18:53.979Z"
   },
   {
    "duration": 99,
    "start_time": "2022-10-17T18:18:59.174Z"
   },
   {
    "duration": 12,
    "start_time": "2022-10-17T18:18:59.275Z"
   },
   {
    "duration": 20,
    "start_time": "2022-10-17T18:18:59.289Z"
   },
   {
    "duration": 13,
    "start_time": "2022-10-17T18:18:59.312Z"
   },
   {
    "duration": 34,
    "start_time": "2022-10-17T18:18:59.327Z"
   },
   {
    "duration": 34,
    "start_time": "2022-10-17T18:18:59.362Z"
   },
   {
    "duration": 19,
    "start_time": "2022-10-17T18:18:59.398Z"
   },
   {
    "duration": 30,
    "start_time": "2022-10-17T18:18:59.418Z"
   },
   {
    "duration": 35,
    "start_time": "2022-10-17T18:18:59.449Z"
   },
   {
    "duration": 17,
    "start_time": "2022-10-17T18:18:59.486Z"
   },
   {
    "duration": 15,
    "start_time": "2022-10-17T18:18:59.505Z"
   },
   {
    "duration": 24,
    "start_time": "2022-10-17T18:18:59.521Z"
   },
   {
    "duration": 36,
    "start_time": "2022-10-17T18:18:59.547Z"
   },
   {
    "duration": 40,
    "start_time": "2022-10-17T18:18:59.584Z"
   },
   {
    "duration": 11,
    "start_time": "2022-10-17T18:18:59.626Z"
   },
   {
    "duration": 28,
    "start_time": "2022-10-17T18:18:59.638Z"
   },
   {
    "duration": 54,
    "start_time": "2022-10-17T18:18:59.668Z"
   },
   {
    "duration": 29,
    "start_time": "2022-10-17T18:18:59.724Z"
   },
   {
    "duration": 26,
    "start_time": "2022-10-17T18:18:59.755Z"
   },
   {
    "duration": 23,
    "start_time": "2022-10-17T18:18:59.782Z"
   },
   {
    "duration": 22,
    "start_time": "2022-10-17T18:18:59.806Z"
   },
   {
    "duration": 20,
    "start_time": "2022-10-17T18:18:59.829Z"
   },
   {
    "duration": 39,
    "start_time": "2022-10-17T18:18:59.850Z"
   },
   {
    "duration": 34,
    "start_time": "2022-10-17T18:18:59.891Z"
   },
   {
    "duration": 16,
    "start_time": "2022-10-17T18:18:59.927Z"
   },
   {
    "duration": 31,
    "start_time": "2022-10-17T18:18:59.944Z"
   },
   {
    "duration": 29,
    "start_time": "2022-10-17T18:18:59.976Z"
   },
   {
    "duration": 33,
    "start_time": "2022-10-17T18:19:00.008Z"
   },
   {
    "duration": 22,
    "start_time": "2022-10-17T18:19:00.042Z"
   },
   {
    "duration": 8,
    "start_time": "2022-10-17T18:19:00.065Z"
   },
   {
    "duration": 17,
    "start_time": "2022-10-17T18:19:00.074Z"
   },
   {
    "duration": 14,
    "start_time": "2022-10-17T18:19:00.093Z"
   },
   {
    "duration": 4,
    "start_time": "2022-10-17T18:19:00.108Z"
   },
   {
    "duration": 13,
    "start_time": "2022-10-17T18:19:00.113Z"
   },
   {
    "duration": 4,
    "start_time": "2022-10-17T18:19:00.128Z"
   },
   {
    "duration": 280,
    "start_time": "2022-10-17T18:19:00.133Z"
   },
   {
    "duration": 6,
    "start_time": "2022-10-17T18:19:00.415Z"
   },
   {
    "duration": 427,
    "start_time": "2022-10-17T18:19:00.423Z"
   },
   {
    "duration": 7,
    "start_time": "2022-10-17T18:19:00.852Z"
   },
   {
    "duration": 928,
    "start_time": "2022-10-17T18:19:06.728Z"
   },
   {
    "duration": 4,
    "start_time": "2022-10-17T18:25:48.202Z"
   },
   {
    "duration": 3,
    "start_time": "2022-10-17T18:25:49.493Z"
   },
   {
    "duration": 89,
    "start_time": "2022-10-17T18:25:58.863Z"
   },
   {
    "duration": 11,
    "start_time": "2022-10-17T18:25:58.954Z"
   },
   {
    "duration": 18,
    "start_time": "2022-10-17T18:25:58.967Z"
   },
   {
    "duration": 24,
    "start_time": "2022-10-17T18:25:58.987Z"
   },
   {
    "duration": 21,
    "start_time": "2022-10-17T18:25:59.013Z"
   },
   {
    "duration": 23,
    "start_time": "2022-10-17T18:25:59.035Z"
   },
   {
    "duration": 14,
    "start_time": "2022-10-17T18:25:59.059Z"
   },
   {
    "duration": 35,
    "start_time": "2022-10-17T18:25:59.074Z"
   },
   {
    "duration": 3,
    "start_time": "2022-10-17T18:25:59.111Z"
   },
   {
    "duration": 6,
    "start_time": "2022-10-17T18:25:59.117Z"
   },
   {
    "duration": 9,
    "start_time": "2022-10-17T18:25:59.125Z"
   },
   {
    "duration": 10,
    "start_time": "2022-10-17T18:25:59.135Z"
   },
   {
    "duration": 4,
    "start_time": "2022-10-17T18:25:59.146Z"
   },
   {
    "duration": 17,
    "start_time": "2022-10-17T18:25:59.151Z"
   },
   {
    "duration": 4,
    "start_time": "2022-10-17T18:25:59.170Z"
   },
   {
    "duration": 39,
    "start_time": "2022-10-17T18:25:59.176Z"
   },
   {
    "duration": 19,
    "start_time": "2022-10-17T18:25:59.217Z"
   },
   {
    "duration": 5,
    "start_time": "2022-10-17T18:25:59.237Z"
   },
   {
    "duration": 9,
    "start_time": "2022-10-17T18:25:59.244Z"
   },
   {
    "duration": 15,
    "start_time": "2022-10-17T18:25:59.255Z"
   },
   {
    "duration": 20,
    "start_time": "2022-10-17T18:25:59.271Z"
   },
   {
    "duration": 10,
    "start_time": "2022-10-17T18:25:59.293Z"
   },
   {
    "duration": 26,
    "start_time": "2022-10-17T18:25:59.305Z"
   },
   {
    "duration": 18,
    "start_time": "2022-10-17T18:25:59.332Z"
   },
   {
    "duration": 6,
    "start_time": "2022-10-17T18:25:59.352Z"
   },
   {
    "duration": 19,
    "start_time": "2022-10-17T18:25:59.359Z"
   },
   {
    "duration": 28,
    "start_time": "2022-10-17T18:25:59.379Z"
   },
   {
    "duration": 17,
    "start_time": "2022-10-17T18:25:59.411Z"
   },
   {
    "duration": 5,
    "start_time": "2022-10-17T18:25:59.430Z"
   },
   {
    "duration": 10,
    "start_time": "2022-10-17T18:25:59.437Z"
   },
   {
    "duration": 24,
    "start_time": "2022-10-17T18:25:59.448Z"
   },
   {
    "duration": 45,
    "start_time": "2022-10-17T18:25:59.473Z"
   },
   {
    "duration": 4,
    "start_time": "2022-10-17T18:25:59.520Z"
   },
   {
    "duration": 12,
    "start_time": "2022-10-17T18:25:59.525Z"
   },
   {
    "duration": 3,
    "start_time": "2022-10-17T18:25:59.539Z"
   },
   {
    "duration": 338,
    "start_time": "2022-10-17T18:25:59.544Z"
   },
   {
    "duration": 7,
    "start_time": "2022-10-17T18:25:59.883Z"
   },
   {
    "duration": 434,
    "start_time": "2022-10-17T18:25:59.892Z"
   },
   {
    "duration": 6,
    "start_time": "2022-10-17T18:26:00.328Z"
   },
   {
    "duration": 906,
    "start_time": "2022-10-17T18:26:00.335Z"
   },
   {
    "duration": 8,
    "start_time": "2022-10-17T18:26:01.243Z"
   },
   {
    "duration": 9583,
    "start_time": "2022-10-17T18:26:01.253Z"
   },
   {
    "duration": 11,
    "start_time": "2022-10-17T18:26:10.837Z"
   },
   {
    "duration": 22,
    "start_time": "2022-10-17T18:26:10.849Z"
   },
   {
    "duration": 5,
    "start_time": "2022-10-17T18:26:10.873Z"
   },
   {
    "duration": 17,
    "start_time": "2022-10-17T18:26:10.879Z"
   },
   {
    "duration": 4,
    "start_time": "2022-10-17T18:26:10.909Z"
   },
   {
    "duration": 21,
    "start_time": "2022-10-17T18:26:10.915Z"
   },
   {
    "duration": 7,
    "start_time": "2022-10-17T18:26:10.938Z"
   },
   {
    "duration": 17,
    "start_time": "2022-10-17T18:26:10.947Z"
   },
   {
    "duration": 10,
    "start_time": "2022-10-17T18:26:10.966Z"
   },
   {
    "duration": 16,
    "start_time": "2022-10-17T18:26:10.977Z"
   },
   {
    "duration": 7,
    "start_time": "2022-10-17T18:26:11.009Z"
   },
   {
    "duration": 7,
    "start_time": "2022-10-17T18:26:11.028Z"
   },
   {
    "duration": 5,
    "start_time": "2022-10-17T18:26:11.036Z"
   },
   {
    "duration": 14,
    "start_time": "2022-10-17T18:26:25.849Z"
   },
   {
    "duration": 3,
    "start_time": "2022-10-17T18:26:29.476Z"
   },
   {
    "duration": 92,
    "start_time": "2022-10-17T18:26:37.110Z"
   },
   {
    "duration": 12,
    "start_time": "2022-10-17T18:26:37.204Z"
   },
   {
    "duration": 15,
    "start_time": "2022-10-17T18:26:37.217Z"
   },
   {
    "duration": 5,
    "start_time": "2022-10-17T18:26:37.234Z"
   },
   {
    "duration": 10,
    "start_time": "2022-10-17T18:26:37.240Z"
   },
   {
    "duration": 22,
    "start_time": "2022-10-17T18:26:37.252Z"
   },
   {
    "duration": 45,
    "start_time": "2022-10-17T18:26:37.276Z"
   },
   {
    "duration": 19,
    "start_time": "2022-10-17T18:26:37.322Z"
   },
   {
    "duration": 4,
    "start_time": "2022-10-17T18:26:37.342Z"
   },
   {
    "duration": 6,
    "start_time": "2022-10-17T18:26:37.348Z"
   },
   {
    "duration": 8,
    "start_time": "2022-10-17T18:26:37.355Z"
   },
   {
    "duration": 9,
    "start_time": "2022-10-17T18:26:37.364Z"
   },
   {
    "duration": 4,
    "start_time": "2022-10-17T18:26:37.374Z"
   },
   {
    "duration": 46,
    "start_time": "2022-10-17T18:26:37.379Z"
   },
   {
    "duration": 4,
    "start_time": "2022-10-17T18:26:37.427Z"
   },
   {
    "duration": 9,
    "start_time": "2022-10-17T18:26:37.432Z"
   },
   {
    "duration": 18,
    "start_time": "2022-10-17T18:26:37.443Z"
   },
   {
    "duration": 3,
    "start_time": "2022-10-17T18:26:37.462Z"
   },
   {
    "duration": 7,
    "start_time": "2022-10-17T18:26:37.467Z"
   },
   {
    "duration": 11,
    "start_time": "2022-10-17T18:26:37.476Z"
   },
   {
    "duration": 26,
    "start_time": "2022-10-17T18:26:37.488Z"
   },
   {
    "duration": 7,
    "start_time": "2022-10-17T18:26:37.516Z"
   },
   {
    "duration": 19,
    "start_time": "2022-10-17T18:26:37.525Z"
   },
   {
    "duration": 14,
    "start_time": "2022-10-17T18:26:37.546Z"
   },
   {
    "duration": 6,
    "start_time": "2022-10-17T18:26:37.562Z"
   },
   {
    "duration": 7,
    "start_time": "2022-10-17T18:26:37.570Z"
   },
   {
    "duration": 40,
    "start_time": "2022-10-17T18:26:37.578Z"
   },
   {
    "duration": 23,
    "start_time": "2022-10-17T18:26:37.621Z"
   },
   {
    "duration": 11,
    "start_time": "2022-10-17T18:26:37.646Z"
   },
   {
    "duration": 5,
    "start_time": "2022-10-17T18:26:37.659Z"
   },
   {
    "duration": 15,
    "start_time": "2022-10-17T18:26:37.665Z"
   },
   {
    "duration": 12,
    "start_time": "2022-10-17T18:26:37.682Z"
   },
   {
    "duration": 4,
    "start_time": "2022-10-17T18:26:37.709Z"
   },
   {
    "duration": 11,
    "start_time": "2022-10-17T18:26:37.714Z"
   },
   {
    "duration": 4,
    "start_time": "2022-10-17T18:26:37.727Z"
   },
   {
    "duration": 289,
    "start_time": "2022-10-17T18:26:37.732Z"
   },
   {
    "duration": 8,
    "start_time": "2022-10-17T18:26:38.023Z"
   },
   {
    "duration": 419,
    "start_time": "2022-10-17T18:26:38.033Z"
   },
   {
    "duration": 7,
    "start_time": "2022-10-17T18:26:38.453Z"
   },
   {
    "duration": 905,
    "start_time": "2022-10-17T18:26:38.462Z"
   },
   {
    "duration": 7,
    "start_time": "2022-10-17T18:26:39.368Z"
   },
   {
    "duration": 9634,
    "start_time": "2022-10-17T18:26:39.376Z"
   },
   {
    "duration": 11,
    "start_time": "2022-10-17T18:26:49.012Z"
   },
   {
    "duration": 21,
    "start_time": "2022-10-17T18:26:49.025Z"
   },
   {
    "duration": 9,
    "start_time": "2022-10-17T18:26:49.048Z"
   },
   {
    "duration": 19,
    "start_time": "2022-10-17T18:26:49.059Z"
   },
   {
    "duration": 4,
    "start_time": "2022-10-17T18:26:49.079Z"
   },
   {
    "duration": 35,
    "start_time": "2022-10-17T18:26:49.084Z"
   },
   {
    "duration": 4,
    "start_time": "2022-10-17T18:26:49.121Z"
   },
   {
    "duration": 19,
    "start_time": "2022-10-17T18:26:49.126Z"
   },
   {
    "duration": 6,
    "start_time": "2022-10-17T18:26:49.146Z"
   },
   {
    "duration": 22,
    "start_time": "2022-10-17T18:26:49.153Z"
   },
   {
    "duration": 10,
    "start_time": "2022-10-17T18:26:49.176Z"
   },
   {
    "duration": 3,
    "start_time": "2022-10-17T18:26:57.417Z"
   },
   {
    "duration": 7,
    "start_time": "2022-10-17T18:37:45.558Z"
   },
   {
    "duration": 5,
    "start_time": "2022-10-17T18:38:01.181Z"
   },
   {
    "duration": 46,
    "start_time": "2022-10-17T18:38:18.517Z"
   },
   {
    "duration": 621,
    "start_time": "2022-10-17T18:39:39.138Z"
   },
   {
    "duration": 91,
    "start_time": "2022-10-17T18:39:54.910Z"
   },
   {
    "duration": 12,
    "start_time": "2022-10-17T18:39:55.003Z"
   },
   {
    "duration": 22,
    "start_time": "2022-10-17T18:39:55.018Z"
   },
   {
    "duration": 14,
    "start_time": "2022-10-17T18:39:55.043Z"
   },
   {
    "duration": 13,
    "start_time": "2022-10-17T18:39:55.058Z"
   },
   {
    "duration": 28,
    "start_time": "2022-10-17T18:39:55.073Z"
   },
   {
    "duration": 13,
    "start_time": "2022-10-17T18:39:55.108Z"
   },
   {
    "duration": 28,
    "start_time": "2022-10-17T18:39:55.123Z"
   },
   {
    "duration": 5,
    "start_time": "2022-10-17T18:39:55.153Z"
   },
   {
    "duration": 10,
    "start_time": "2022-10-17T18:39:55.162Z"
   },
   {
    "duration": 12,
    "start_time": "2022-10-17T18:39:55.173Z"
   },
   {
    "duration": 10,
    "start_time": "2022-10-17T18:39:55.209Z"
   },
   {
    "duration": 6,
    "start_time": "2022-10-17T18:39:55.220Z"
   },
   {
    "duration": 26,
    "start_time": "2022-10-17T18:39:55.228Z"
   },
   {
    "duration": 5,
    "start_time": "2022-10-17T18:39:55.256Z"
   },
   {
    "duration": 14,
    "start_time": "2022-10-17T18:39:55.262Z"
   },
   {
    "duration": 54,
    "start_time": "2022-10-17T18:39:55.277Z"
   },
   {
    "duration": 5,
    "start_time": "2022-10-17T18:39:55.333Z"
   },
   {
    "duration": 10,
    "start_time": "2022-10-17T18:39:55.341Z"
   },
   {
    "duration": 10,
    "start_time": "2022-10-17T18:39:55.352Z"
   },
   {
    "duration": 8,
    "start_time": "2022-10-17T18:40:00.137Z"
   },
   {
    "duration": 8,
    "start_time": "2022-10-17T18:40:14.203Z"
   },
   {
    "duration": 9,
    "start_time": "2022-10-17T18:40:34.591Z"
   },
   {
    "duration": 8,
    "start_time": "2022-10-17T18:40:56.249Z"
   },
   {
    "duration": 7,
    "start_time": "2022-10-17T18:42:09.801Z"
   },
   {
    "duration": 47,
    "start_time": "2022-10-18T08:45:30.377Z"
   },
   {
    "duration": 608,
    "start_time": "2022-10-18T08:45:34.632Z"
   },
   {
    "duration": 11,
    "start_time": "2022-10-18T08:45:35.243Z"
   },
   {
    "duration": 39,
    "start_time": "2022-10-18T08:45:35.255Z"
   },
   {
    "duration": 7,
    "start_time": "2022-10-18T08:45:35.296Z"
   },
   {
    "duration": 25,
    "start_time": "2022-10-18T08:45:35.305Z"
   },
   {
    "duration": 32,
    "start_time": "2022-10-18T08:45:35.332Z"
   },
   {
    "duration": 17,
    "start_time": "2022-10-18T08:45:35.366Z"
   },
   {
    "duration": 43,
    "start_time": "2022-10-18T08:45:35.384Z"
   },
   {
    "duration": 5,
    "start_time": "2022-10-18T08:45:35.428Z"
   },
   {
    "duration": 17,
    "start_time": "2022-10-18T08:45:35.437Z"
   },
   {
    "duration": 22,
    "start_time": "2022-10-18T08:45:35.455Z"
   },
   {
    "duration": 14,
    "start_time": "2022-10-18T08:45:35.479Z"
   },
   {
    "duration": 7,
    "start_time": "2022-10-18T08:45:35.494Z"
   },
   {
    "duration": 36,
    "start_time": "2022-10-18T08:45:35.503Z"
   },
   {
    "duration": 8,
    "start_time": "2022-10-18T08:45:35.540Z"
   },
   {
    "duration": 11,
    "start_time": "2022-10-18T08:45:35.550Z"
   },
   {
    "duration": 26,
    "start_time": "2022-10-18T08:45:35.563Z"
   },
   {
    "duration": 4,
    "start_time": "2022-10-18T08:45:35.592Z"
   },
   {
    "duration": 24,
    "start_time": "2022-10-18T08:45:35.598Z"
   },
   {
    "duration": 7,
    "start_time": "2022-10-18T08:45:35.624Z"
   },
   {
    "duration": 13,
    "start_time": "2022-10-18T08:45:35.632Z"
   },
   {
    "duration": 10,
    "start_time": "2022-10-18T08:45:35.647Z"
   },
   {
    "duration": 13,
    "start_time": "2022-10-18T08:45:35.659Z"
   },
   {
    "duration": 26,
    "start_time": "2022-10-18T08:45:35.673Z"
   },
   {
    "duration": 37,
    "start_time": "2022-10-18T08:45:35.701Z"
   },
   {
    "duration": 8,
    "start_time": "2022-10-18T08:45:35.739Z"
   },
   {
    "duration": 37,
    "start_time": "2022-10-18T08:45:35.748Z"
   },
   {
    "duration": 19,
    "start_time": "2022-10-18T08:45:35.788Z"
   },
   {
    "duration": 32,
    "start_time": "2022-10-18T08:45:35.809Z"
   },
   {
    "duration": 18,
    "start_time": "2022-10-18T08:45:35.843Z"
   },
   {
    "duration": 26,
    "start_time": "2022-10-18T08:45:35.863Z"
   },
   {
    "duration": 13,
    "start_time": "2022-10-18T08:45:35.891Z"
   },
   {
    "duration": 14,
    "start_time": "2022-10-18T08:45:35.905Z"
   },
   {
    "duration": 4,
    "start_time": "2022-10-18T08:45:35.921Z"
   },
   {
    "duration": 39,
    "start_time": "2022-10-18T08:45:35.926Z"
   },
   {
    "duration": 24,
    "start_time": "2022-10-18T08:45:35.967Z"
   },
   {
    "duration": 730,
    "start_time": "2022-10-18T08:45:35.993Z"
   },
   {
    "duration": 9,
    "start_time": "2022-10-18T08:45:36.725Z"
   },
   {
    "duration": 413,
    "start_time": "2022-10-18T08:45:36.736Z"
   },
   {
    "duration": 7,
    "start_time": "2022-10-18T08:45:37.151Z"
   },
   {
    "duration": 1069,
    "start_time": "2022-10-18T08:45:37.159Z"
   },
   {
    "duration": 10,
    "start_time": "2022-10-18T08:45:38.231Z"
   },
   {
    "duration": 11449,
    "start_time": "2022-10-18T08:45:38.243Z"
   },
   {
    "duration": 14,
    "start_time": "2022-10-18T08:45:49.694Z"
   },
   {
    "duration": 43,
    "start_time": "2022-10-18T08:45:49.720Z"
   },
   {
    "duration": 28,
    "start_time": "2022-10-18T08:45:49.765Z"
   },
   {
    "duration": 43,
    "start_time": "2022-10-18T08:45:49.795Z"
   },
   {
    "duration": 27,
    "start_time": "2022-10-18T08:45:49.841Z"
   },
   {
    "duration": 35,
    "start_time": "2022-10-18T08:45:49.869Z"
   },
   {
    "duration": 28,
    "start_time": "2022-10-18T08:45:49.906Z"
   },
   {
    "duration": 44,
    "start_time": "2022-10-18T08:45:49.936Z"
   },
   {
    "duration": 33,
    "start_time": "2022-10-18T08:45:49.982Z"
   },
   {
    "duration": 45,
    "start_time": "2022-10-18T08:45:50.017Z"
   },
   {
    "duration": 41,
    "start_time": "2022-10-18T08:45:50.064Z"
   },
   {
    "duration": 41,
    "start_time": "2022-10-18T08:45:50.107Z"
   },
   {
    "duration": 15,
    "start_time": "2022-10-18T08:45:50.150Z"
   },
   {
    "duration": 41,
    "start_time": "2022-10-18T08:45:50.167Z"
   },
   {
    "duration": 28,
    "start_time": "2022-10-18T08:45:50.210Z"
   },
   {
    "duration": 217,
    "start_time": "2022-10-18T08:45:50.239Z"
   },
   {
    "duration": 4,
    "start_time": "2022-10-18T08:45:50.460Z"
   },
   {
    "duration": 4,
    "start_time": "2022-10-18T08:46:12.782Z"
   },
   {
    "duration": 5,
    "start_time": "2022-10-18T08:46:22.842Z"
   },
   {
    "duration": 241,
    "start_time": "2022-10-18T08:48:57.817Z"
   },
   {
    "duration": 229,
    "start_time": "2022-10-18T08:49:12.630Z"
   },
   {
    "duration": 90,
    "start_time": "2022-10-18T08:49:16.300Z"
   },
   {
    "duration": 10,
    "start_time": "2022-10-18T08:49:16.392Z"
   },
   {
    "duration": 29,
    "start_time": "2022-10-18T08:49:16.404Z"
   },
   {
    "duration": 20,
    "start_time": "2022-10-18T08:49:16.436Z"
   },
   {
    "duration": 24,
    "start_time": "2022-10-18T08:49:16.457Z"
   },
   {
    "duration": 57,
    "start_time": "2022-10-18T08:49:16.483Z"
   },
   {
    "duration": 19,
    "start_time": "2022-10-18T08:49:16.542Z"
   },
   {
    "duration": 89,
    "start_time": "2022-10-18T08:49:16.562Z"
   },
   {
    "duration": 31,
    "start_time": "2022-10-18T08:49:16.653Z"
   },
   {
    "duration": 20,
    "start_time": "2022-10-18T08:49:16.687Z"
   },
   {
    "duration": 29,
    "start_time": "2022-10-18T08:49:16.709Z"
   },
   {
    "duration": 36,
    "start_time": "2022-10-18T08:49:16.739Z"
   },
   {
    "duration": 19,
    "start_time": "2022-10-18T08:49:16.776Z"
   },
   {
    "duration": 49,
    "start_time": "2022-10-18T08:49:16.796Z"
   },
   {
    "duration": 24,
    "start_time": "2022-10-18T08:49:16.847Z"
   },
   {
    "duration": 21,
    "start_time": "2022-10-18T08:49:16.873Z"
   },
   {
    "duration": 28,
    "start_time": "2022-10-18T08:49:16.895Z"
   },
   {
    "duration": 11,
    "start_time": "2022-10-18T08:49:16.925Z"
   },
   {
    "duration": 17,
    "start_time": "2022-10-18T08:49:16.938Z"
   },
   {
    "duration": 25,
    "start_time": "2022-10-18T08:49:16.956Z"
   },
   {
    "duration": 18,
    "start_time": "2022-10-18T08:49:16.983Z"
   },
   {
    "duration": 29,
    "start_time": "2022-10-18T08:49:17.002Z"
   },
   {
    "duration": 18,
    "start_time": "2022-10-18T08:49:17.032Z"
   },
   {
    "duration": 53,
    "start_time": "2022-10-18T08:49:17.052Z"
   },
   {
    "duration": 43,
    "start_time": "2022-10-18T08:49:17.107Z"
   },
   {
    "duration": 11,
    "start_time": "2022-10-18T08:49:17.152Z"
   },
   {
    "duration": 23,
    "start_time": "2022-10-18T08:49:17.164Z"
   },
   {
    "duration": 26,
    "start_time": "2022-10-18T08:49:17.191Z"
   },
   {
    "duration": 47,
    "start_time": "2022-10-18T08:49:17.219Z"
   },
   {
    "duration": 20,
    "start_time": "2022-10-18T08:49:17.268Z"
   },
   {
    "duration": 36,
    "start_time": "2022-10-18T08:49:17.290Z"
   },
   {
    "duration": 36,
    "start_time": "2022-10-18T08:49:17.328Z"
   },
   {
    "duration": 21,
    "start_time": "2022-10-18T08:49:17.366Z"
   },
   {
    "duration": 12,
    "start_time": "2022-10-18T08:49:17.389Z"
   },
   {
    "duration": 26,
    "start_time": "2022-10-18T08:49:17.403Z"
   },
   {
    "duration": 10,
    "start_time": "2022-10-18T08:49:17.431Z"
   },
   {
    "duration": 336,
    "start_time": "2022-10-18T08:49:17.443Z"
   },
   {
    "duration": 9,
    "start_time": "2022-10-18T08:49:17.781Z"
   },
   {
    "duration": 414,
    "start_time": "2022-10-18T08:49:17.792Z"
   },
   {
    "duration": 7,
    "start_time": "2022-10-18T08:49:18.208Z"
   },
   {
    "duration": 1059,
    "start_time": "2022-10-18T08:49:18.221Z"
   },
   {
    "duration": 10,
    "start_time": "2022-10-18T08:49:19.283Z"
   },
   {
    "duration": 11766,
    "start_time": "2022-10-18T08:49:19.294Z"
   },
   {
    "duration": 13,
    "start_time": "2022-10-18T08:49:31.061Z"
   },
   {
    "duration": 355,
    "start_time": "2022-10-18T08:49:31.076Z"
   },
   {
    "duration": 88,
    "start_time": "2022-10-18T08:49:31.433Z"
   },
   {
    "duration": 38,
    "start_time": "2022-10-18T08:49:31.522Z"
   },
   {
    "duration": 31,
    "start_time": "2022-10-18T08:49:31.562Z"
   },
   {
    "duration": 60,
    "start_time": "2022-10-18T08:49:31.595Z"
   },
   {
    "duration": 17,
    "start_time": "2022-10-18T08:49:31.656Z"
   },
   {
    "duration": 42,
    "start_time": "2022-10-18T08:49:31.675Z"
   },
   {
    "duration": 17,
    "start_time": "2022-10-18T08:49:31.718Z"
   },
   {
    "duration": 32,
    "start_time": "2022-10-18T08:49:31.737Z"
   },
   {
    "duration": 23,
    "start_time": "2022-10-18T08:49:31.771Z"
   },
   {
    "duration": 29,
    "start_time": "2022-10-18T08:49:31.795Z"
   },
   {
    "duration": 20,
    "start_time": "2022-10-18T08:49:31.825Z"
   },
   {
    "duration": 285,
    "start_time": "2022-10-18T08:49:31.849Z"
   },
   {
    "duration": 16,
    "start_time": "2022-10-18T08:49:43.758Z"
   },
   {
    "duration": 21,
    "start_time": "2022-10-18T08:50:09.928Z"
   },
   {
    "duration": 23,
    "start_time": "2022-10-18T08:50:30.641Z"
   },
   {
    "duration": 13,
    "start_time": "2022-10-18T08:50:42.167Z"
   },
   {
    "duration": 17,
    "start_time": "2022-10-18T08:51:45.564Z"
   },
   {
    "duration": 14,
    "start_time": "2022-10-18T08:53:12.379Z"
   },
   {
    "duration": 19,
    "start_time": "2022-10-18T08:53:18.702Z"
   },
   {
    "duration": 897,
    "start_time": "2022-10-18T08:54:19.423Z"
   },
   {
    "duration": 172,
    "start_time": "2022-10-18T08:54:42.472Z"
   },
   {
    "duration": 170,
    "start_time": "2022-10-18T08:55:15.121Z"
   },
   {
    "duration": 869,
    "start_time": "2022-10-18T08:58:11.737Z"
   },
   {
    "duration": 4,
    "start_time": "2022-10-18T08:59:33.837Z"
   },
   {
    "duration": 54,
    "start_time": "2022-10-18T08:59:43.620Z"
   },
   {
    "duration": 17,
    "start_time": "2022-10-18T08:59:49.468Z"
   },
   {
    "duration": 91,
    "start_time": "2022-10-18T08:59:53.738Z"
   },
   {
    "duration": 12,
    "start_time": "2022-10-18T08:59:53.831Z"
   },
   {
    "duration": 24,
    "start_time": "2022-10-18T08:59:53.845Z"
   },
   {
    "duration": 12,
    "start_time": "2022-10-18T08:59:53.871Z"
   },
   {
    "duration": 45,
    "start_time": "2022-10-18T08:59:53.884Z"
   },
   {
    "duration": 31,
    "start_time": "2022-10-18T08:59:53.931Z"
   },
   {
    "duration": 16,
    "start_time": "2022-10-18T08:59:53.964Z"
   },
   {
    "duration": 18,
    "start_time": "2022-10-18T08:59:53.982Z"
   },
   {
    "duration": 21,
    "start_time": "2022-10-18T08:59:54.002Z"
   },
   {
    "duration": 20,
    "start_time": "2022-10-18T08:59:54.025Z"
   },
   {
    "duration": 22,
    "start_time": "2022-10-18T08:59:54.047Z"
   },
   {
    "duration": 16,
    "start_time": "2022-10-18T08:59:54.070Z"
   },
   {
    "duration": 13,
    "start_time": "2022-10-18T08:59:54.088Z"
   },
   {
    "duration": 35,
    "start_time": "2022-10-18T08:59:54.102Z"
   },
   {
    "duration": 6,
    "start_time": "2022-10-18T08:59:54.139Z"
   },
   {
    "duration": 29,
    "start_time": "2022-10-18T08:59:54.147Z"
   },
   {
    "duration": 29,
    "start_time": "2022-10-18T08:59:54.178Z"
   },
   {
    "duration": 4,
    "start_time": "2022-10-18T08:59:54.209Z"
   },
   {
    "duration": 20,
    "start_time": "2022-10-18T08:59:54.214Z"
   },
   {
    "duration": 13,
    "start_time": "2022-10-18T08:59:54.236Z"
   },
   {
    "duration": 13,
    "start_time": "2022-10-18T08:59:54.251Z"
   },
   {
    "duration": 13,
    "start_time": "2022-10-18T08:59:54.266Z"
   },
   {
    "duration": 24,
    "start_time": "2022-10-18T08:59:54.280Z"
   },
   {
    "duration": 40,
    "start_time": "2022-10-18T08:59:54.306Z"
   },
   {
    "duration": 22,
    "start_time": "2022-10-18T08:59:54.347Z"
   },
   {
    "duration": 8,
    "start_time": "2022-10-18T08:59:54.371Z"
   },
   {
    "duration": 10,
    "start_time": "2022-10-18T08:59:54.380Z"
   },
   {
    "duration": 21,
    "start_time": "2022-10-18T08:59:54.394Z"
   },
   {
    "duration": 34,
    "start_time": "2022-10-18T08:59:54.416Z"
   },
   {
    "duration": 4,
    "start_time": "2022-10-18T08:59:54.452Z"
   },
   {
    "duration": 18,
    "start_time": "2022-10-18T08:59:54.458Z"
   },
   {
    "duration": 18,
    "start_time": "2022-10-18T08:59:54.477Z"
   },
   {
    "duration": 21,
    "start_time": "2022-10-18T08:59:54.496Z"
   },
   {
    "duration": 28,
    "start_time": "2022-10-18T08:59:54.519Z"
   },
   {
    "duration": 13,
    "start_time": "2022-10-18T08:59:54.549Z"
   },
   {
    "duration": 4,
    "start_time": "2022-10-18T08:59:54.564Z"
   },
   {
    "duration": 329,
    "start_time": "2022-10-18T08:59:54.570Z"
   },
   {
    "duration": 8,
    "start_time": "2022-10-18T08:59:54.900Z"
   },
   {
    "duration": 450,
    "start_time": "2022-10-18T08:59:54.909Z"
   },
   {
    "duration": 6,
    "start_time": "2022-10-18T08:59:55.361Z"
   },
   {
    "duration": 1013,
    "start_time": "2022-10-18T08:59:55.369Z"
   },
   {
    "duration": 8,
    "start_time": "2022-10-18T08:59:56.384Z"
   },
   {
    "duration": 11770,
    "start_time": "2022-10-18T08:59:56.393Z"
   },
   {
    "duration": 14,
    "start_time": "2022-10-18T09:00:08.165Z"
   },
   {
    "duration": 34,
    "start_time": "2022-10-18T09:00:08.180Z"
   },
   {
    "duration": 16,
    "start_time": "2022-10-18T09:00:08.215Z"
   },
   {
    "duration": 24,
    "start_time": "2022-10-18T09:00:08.233Z"
   },
   {
    "duration": 6,
    "start_time": "2022-10-18T09:00:08.259Z"
   },
   {
    "duration": 23,
    "start_time": "2022-10-18T09:00:08.267Z"
   },
   {
    "duration": 27,
    "start_time": "2022-10-18T09:00:08.291Z"
   },
   {
    "duration": 46,
    "start_time": "2022-10-18T09:00:08.320Z"
   },
   {
    "duration": 10,
    "start_time": "2022-10-18T09:00:08.368Z"
   },
   {
    "duration": 22,
    "start_time": "2022-10-18T09:00:08.380Z"
   },
   {
    "duration": 8,
    "start_time": "2022-10-18T09:00:08.404Z"
   },
   {
    "duration": 19,
    "start_time": "2022-10-18T09:00:08.413Z"
   },
   {
    "duration": 10,
    "start_time": "2022-10-18T09:00:08.434Z"
   },
   {
    "duration": 23,
    "start_time": "2022-10-18T09:00:08.446Z"
   },
   {
    "duration": 16,
    "start_time": "2022-10-18T09:00:08.473Z"
   },
   {
    "duration": 23,
    "start_time": "2022-10-18T09:00:41.064Z"
   },
   {
    "duration": 22,
    "start_time": "2022-10-18T09:01:04.824Z"
   },
   {
    "duration": 168,
    "start_time": "2022-10-18T09:01:30.327Z"
   },
   {
    "duration": 1043,
    "start_time": "2022-10-18T09:01:41.689Z"
   },
   {
    "duration": 22,
    "start_time": "2022-10-18T09:03:40.653Z"
   },
   {
    "duration": 19,
    "start_time": "2022-10-18T09:03:45.206Z"
   },
   {
    "duration": 20,
    "start_time": "2022-10-18T09:03:53.124Z"
   },
   {
    "duration": 19,
    "start_time": "2022-10-18T09:03:56.351Z"
   },
   {
    "duration": 163,
    "start_time": "2022-10-18T09:04:04.015Z"
   },
   {
    "duration": 203,
    "start_time": "2022-10-18T09:04:18.951Z"
   },
   {
    "duration": 332,
    "start_time": "2022-10-18T09:05:15.771Z"
   },
   {
    "duration": 4,
    "start_time": "2022-10-18T09:05:30.271Z"
   },
   {
    "duration": 39,
    "start_time": "2022-10-18T09:05:32.456Z"
   },
   {
    "duration": 9,
    "start_time": "2022-10-18T09:05:46.303Z"
   },
   {
    "duration": 12,
    "start_time": "2022-10-18T09:05:51.684Z"
   },
   {
    "duration": 9,
    "start_time": "2022-10-18T09:12:29.248Z"
   },
   {
    "duration": 18,
    "start_time": "2022-10-18T09:12:34.886Z"
   },
   {
    "duration": 17,
    "start_time": "2022-10-18T09:13:44.221Z"
   },
   {
    "duration": 10,
    "start_time": "2022-10-18T09:16:31.463Z"
   },
   {
    "duration": 9,
    "start_time": "2022-10-18T09:16:53.261Z"
   },
   {
    "duration": 12,
    "start_time": "2022-10-18T09:19:28.301Z"
   },
   {
    "duration": 96,
    "start_time": "2022-10-18T09:19:38.429Z"
   },
   {
    "duration": 11,
    "start_time": "2022-10-18T09:19:38.527Z"
   },
   {
    "duration": 28,
    "start_time": "2022-10-18T09:19:38.540Z"
   },
   {
    "duration": 5,
    "start_time": "2022-10-18T09:19:38.570Z"
   },
   {
    "duration": 54,
    "start_time": "2022-10-18T09:19:38.576Z"
   },
   {
    "duration": 32,
    "start_time": "2022-10-18T09:19:38.632Z"
   },
   {
    "duration": 18,
    "start_time": "2022-10-18T09:19:38.666Z"
   },
   {
    "duration": 43,
    "start_time": "2022-10-18T09:19:38.686Z"
   },
   {
    "duration": 9,
    "start_time": "2022-10-18T09:19:38.731Z"
   },
   {
    "duration": 17,
    "start_time": "2022-10-18T09:19:38.742Z"
   },
   {
    "duration": 11,
    "start_time": "2022-10-18T09:19:38.760Z"
   },
   {
    "duration": 15,
    "start_time": "2022-10-18T09:19:38.773Z"
   },
   {
    "duration": 20,
    "start_time": "2022-10-18T09:19:38.790Z"
   },
   {
    "duration": 32,
    "start_time": "2022-10-18T09:19:38.811Z"
   },
   {
    "duration": 7,
    "start_time": "2022-10-18T09:19:38.844Z"
   },
   {
    "duration": 72,
    "start_time": "2022-10-18T09:19:38.853Z"
   },
   {
    "duration": 45,
    "start_time": "2022-10-18T09:19:38.928Z"
   },
   {
    "duration": 17,
    "start_time": "2022-10-18T09:19:38.975Z"
   },
   {
    "duration": 17,
    "start_time": "2022-10-18T09:19:38.994Z"
   },
   {
    "duration": 15,
    "start_time": "2022-10-18T09:19:39.014Z"
   },
   {
    "duration": 12,
    "start_time": "2022-10-18T09:19:39.031Z"
   },
   {
    "duration": 14,
    "start_time": "2022-10-18T09:19:39.046Z"
   },
   {
    "duration": 11,
    "start_time": "2022-10-18T09:19:39.062Z"
   },
   {
    "duration": 31,
    "start_time": "2022-10-18T09:19:39.075Z"
   },
   {
    "duration": 28,
    "start_time": "2022-10-18T09:19:39.108Z"
   },
   {
    "duration": 17,
    "start_time": "2022-10-18T09:19:39.138Z"
   },
   {
    "duration": 9,
    "start_time": "2022-10-18T09:19:39.157Z"
   },
   {
    "duration": 31,
    "start_time": "2022-10-18T09:19:39.171Z"
   },
   {
    "duration": 32,
    "start_time": "2022-10-18T09:19:39.204Z"
   },
   {
    "duration": 7,
    "start_time": "2022-10-18T09:19:39.238Z"
   },
   {
    "duration": 12,
    "start_time": "2022-10-18T09:19:39.246Z"
   },
   {
    "duration": 18,
    "start_time": "2022-10-18T09:19:39.259Z"
   },
   {
    "duration": 24,
    "start_time": "2022-10-18T09:19:39.279Z"
   },
   {
    "duration": 18,
    "start_time": "2022-10-18T09:19:39.305Z"
   },
   {
    "duration": 14,
    "start_time": "2022-10-18T09:19:39.325Z"
   },
   {
    "duration": 6,
    "start_time": "2022-10-18T09:19:39.341Z"
   },
   {
    "duration": 341,
    "start_time": "2022-10-18T09:19:39.348Z"
   },
   {
    "duration": 11,
    "start_time": "2022-10-18T09:19:39.691Z"
   },
   {
    "duration": 433,
    "start_time": "2022-10-18T09:19:39.704Z"
   },
   {
    "duration": 7,
    "start_time": "2022-10-18T09:19:40.138Z"
   },
   {
    "duration": 1034,
    "start_time": "2022-10-18T09:19:40.146Z"
   },
   {
    "duration": 9,
    "start_time": "2022-10-18T09:19:41.181Z"
   },
   {
    "duration": 11329,
    "start_time": "2022-10-18T09:19:41.192Z"
   },
   {
    "duration": 13,
    "start_time": "2022-10-18T09:19:52.523Z"
   },
   {
    "duration": 36,
    "start_time": "2022-10-18T09:19:52.537Z"
   },
   {
    "duration": 22,
    "start_time": "2022-10-18T09:19:52.575Z"
   },
   {
    "duration": 24,
    "start_time": "2022-10-18T09:19:52.598Z"
   },
   {
    "duration": 6,
    "start_time": "2022-10-18T09:19:52.624Z"
   },
   {
    "duration": 36,
    "start_time": "2022-10-18T09:19:52.632Z"
   },
   {
    "duration": 18,
    "start_time": "2022-10-18T09:19:52.670Z"
   },
   {
    "duration": 25,
    "start_time": "2022-10-18T09:19:52.690Z"
   },
   {
    "duration": 26,
    "start_time": "2022-10-18T09:19:52.717Z"
   },
   {
    "duration": 32,
    "start_time": "2022-10-18T09:19:52.744Z"
   },
   {
    "duration": 7,
    "start_time": "2022-10-18T09:19:52.778Z"
   },
   {
    "duration": 17,
    "start_time": "2022-10-18T09:19:52.787Z"
   },
   {
    "duration": 38,
    "start_time": "2022-10-18T09:19:52.806Z"
   },
   {
    "duration": 37,
    "start_time": "2022-10-18T09:19:52.846Z"
   },
   {
    "duration": 20,
    "start_time": "2022-10-18T09:19:52.884Z"
   },
   {
    "duration": 185,
    "start_time": "2022-10-18T09:19:52.906Z"
   },
   {
    "duration": 5,
    "start_time": "2022-10-18T09:19:53.092Z"
   },
   {
    "duration": 196,
    "start_time": "2022-10-18T09:19:53.099Z"
   },
   {
    "duration": 4,
    "start_time": "2022-10-18T09:19:53.296Z"
   },
   {
    "duration": 30,
    "start_time": "2022-10-18T09:19:53.302Z"
   },
   {
    "duration": 36,
    "start_time": "2022-10-18T09:19:53.334Z"
   },
   {
    "duration": 32,
    "start_time": "2022-10-18T09:19:53.372Z"
   },
   {
    "duration": 11,
    "start_time": "2022-10-18T09:20:01.901Z"
   },
   {
    "duration": 21,
    "start_time": "2022-10-18T09:20:56.541Z"
   },
   {
    "duration": 22,
    "start_time": "2022-10-18T09:21:12.456Z"
   },
   {
    "duration": 192,
    "start_time": "2022-10-18T09:21:16.272Z"
   },
   {
    "duration": 16,
    "start_time": "2022-10-18T09:24:33.442Z"
   },
   {
    "duration": 29,
    "start_time": "2022-10-18T09:24:56.180Z"
   },
   {
    "duration": 34,
    "start_time": "2022-10-18T09:25:09.906Z"
   },
   {
    "duration": 89,
    "start_time": "2022-10-18T09:25:38.570Z"
   },
   {
    "duration": 28,
    "start_time": "2022-10-18T09:25:55.259Z"
   },
   {
    "duration": 20,
    "start_time": "2022-10-18T09:26:26.887Z"
   },
   {
    "duration": 199,
    "start_time": "2022-10-18T09:26:39.060Z"
   },
   {
    "duration": 21,
    "start_time": "2022-10-18T09:26:55.845Z"
   },
   {
    "duration": 171,
    "start_time": "2022-10-18T09:27:00.933Z"
   },
   {
    "duration": 19,
    "start_time": "2022-10-18T09:27:31.315Z"
   },
   {
    "duration": 6,
    "start_time": "2022-10-18T09:50:23.148Z"
   },
   {
    "duration": 14,
    "start_time": "2022-10-18T09:52:59.198Z"
   },
   {
    "duration": 16,
    "start_time": "2022-10-18T09:58:46.889Z"
   },
   {
    "duration": 4,
    "start_time": "2022-10-18T10:01:52.531Z"
   },
   {
    "duration": 26,
    "start_time": "2022-10-18T10:02:15.555Z"
   },
   {
    "duration": 18,
    "start_time": "2022-10-18T10:03:24.880Z"
   },
   {
    "duration": 17,
    "start_time": "2022-10-18T10:03:30.068Z"
   },
   {
    "duration": 6,
    "start_time": "2022-10-18T10:16:16.517Z"
   },
   {
    "duration": 505,
    "start_time": "2022-10-18T10:16:30.245Z"
   },
   {
    "duration": 11,
    "start_time": "2022-10-18T10:16:30.752Z"
   },
   {
    "duration": 46,
    "start_time": "2022-10-18T10:16:30.765Z"
   },
   {
    "duration": 11,
    "start_time": "2022-10-18T10:16:30.813Z"
   },
   {
    "duration": 37,
    "start_time": "2022-10-18T10:16:30.826Z"
   },
   {
    "duration": 91,
    "start_time": "2022-10-18T10:16:30.865Z"
   },
   {
    "duration": 29,
    "start_time": "2022-10-18T10:16:30.958Z"
   },
   {
    "duration": 55,
    "start_time": "2022-10-18T10:16:30.988Z"
   },
   {
    "duration": 38,
    "start_time": "2022-10-18T10:16:31.045Z"
   },
   {
    "duration": 35,
    "start_time": "2022-10-18T10:16:31.086Z"
   },
   {
    "duration": 47,
    "start_time": "2022-10-18T10:16:31.123Z"
   },
   {
    "duration": 81,
    "start_time": "2022-10-18T10:16:31.172Z"
   },
   {
    "duration": 33,
    "start_time": "2022-10-18T10:16:31.254Z"
   },
   {
    "duration": 46,
    "start_time": "2022-10-18T10:16:31.289Z"
   },
   {
    "duration": 46,
    "start_time": "2022-10-18T10:16:31.337Z"
   },
   {
    "duration": 46,
    "start_time": "2022-10-18T10:16:31.385Z"
   },
   {
    "duration": 54,
    "start_time": "2022-10-18T10:16:31.432Z"
   },
   {
    "duration": 5,
    "start_time": "2022-10-18T10:16:31.488Z"
   },
   {
    "duration": 31,
    "start_time": "2022-10-18T10:16:31.494Z"
   },
   {
    "duration": 29,
    "start_time": "2022-10-18T10:16:31.527Z"
   },
   {
    "duration": 26,
    "start_time": "2022-10-18T10:16:31.558Z"
   },
   {
    "duration": 14,
    "start_time": "2022-10-18T10:16:31.586Z"
   },
   {
    "duration": 11,
    "start_time": "2022-10-18T10:16:31.602Z"
   },
   {
    "duration": 64,
    "start_time": "2022-10-18T10:16:31.615Z"
   },
   {
    "duration": 57,
    "start_time": "2022-10-18T10:16:31.681Z"
   },
   {
    "duration": 21,
    "start_time": "2022-10-18T10:16:31.739Z"
   },
   {
    "duration": 12,
    "start_time": "2022-10-18T10:16:31.761Z"
   },
   {
    "duration": 24,
    "start_time": "2022-10-18T10:16:31.777Z"
   },
   {
    "duration": 26,
    "start_time": "2022-10-18T10:16:31.803Z"
   },
   {
    "duration": 18,
    "start_time": "2022-10-18T10:16:31.831Z"
   },
   {
    "duration": 8,
    "start_time": "2022-10-18T10:16:31.851Z"
   },
   {
    "duration": 18,
    "start_time": "2022-10-18T10:16:31.860Z"
   },
   {
    "duration": 20,
    "start_time": "2022-10-18T10:16:31.880Z"
   },
   {
    "duration": 4,
    "start_time": "2022-10-18T10:16:31.902Z"
   },
   {
    "duration": 14,
    "start_time": "2022-10-18T10:16:31.908Z"
   },
   {
    "duration": 8,
    "start_time": "2022-10-18T10:16:31.924Z"
   },
   {
    "duration": 624,
    "start_time": "2022-10-18T10:16:31.934Z"
   },
   {
    "duration": 10,
    "start_time": "2022-10-18T10:16:32.559Z"
   },
   {
    "duration": 430,
    "start_time": "2022-10-18T10:16:32.571Z"
   },
   {
    "duration": 6,
    "start_time": "2022-10-18T10:16:33.003Z"
   },
   {
    "duration": 991,
    "start_time": "2022-10-18T10:16:33.021Z"
   },
   {
    "duration": 11,
    "start_time": "2022-10-18T10:16:34.014Z"
   },
   {
    "duration": 11253,
    "start_time": "2022-10-18T10:16:34.027Z"
   },
   {
    "duration": 13,
    "start_time": "2022-10-18T10:16:45.282Z"
   },
   {
    "duration": 53,
    "start_time": "2022-10-18T10:16:45.297Z"
   },
   {
    "duration": 20,
    "start_time": "2022-10-18T10:16:45.351Z"
   },
   {
    "duration": 72,
    "start_time": "2022-10-18T10:16:45.373Z"
   },
   {
    "duration": 32,
    "start_time": "2022-10-18T10:16:45.446Z"
   },
   {
    "duration": 38,
    "start_time": "2022-10-18T10:16:45.479Z"
   },
   {
    "duration": 32,
    "start_time": "2022-10-18T10:16:45.519Z"
   },
   {
    "duration": 23,
    "start_time": "2022-10-18T10:16:45.553Z"
   },
   {
    "duration": 21,
    "start_time": "2022-10-18T10:16:45.578Z"
   },
   {
    "duration": 27,
    "start_time": "2022-10-18T10:16:45.601Z"
   },
   {
    "duration": 34,
    "start_time": "2022-10-18T10:16:45.630Z"
   },
   {
    "duration": 34,
    "start_time": "2022-10-18T10:16:45.666Z"
   },
   {
    "duration": 10,
    "start_time": "2022-10-18T10:16:45.702Z"
   },
   {
    "duration": 31,
    "start_time": "2022-10-18T10:16:45.714Z"
   },
   {
    "duration": 38,
    "start_time": "2022-10-18T10:16:45.747Z"
   },
   {
    "duration": 200,
    "start_time": "2022-10-18T10:16:45.787Z"
   },
   {
    "duration": 4,
    "start_time": "2022-10-18T10:16:45.988Z"
   },
   {
    "duration": 249,
    "start_time": "2022-10-18T10:16:45.994Z"
   },
   {
    "duration": 4,
    "start_time": "2022-10-18T10:16:46.245Z"
   },
   {
    "duration": 32,
    "start_time": "2022-10-18T10:16:46.250Z"
   },
   {
    "duration": 53,
    "start_time": "2022-10-18T10:16:46.284Z"
   },
   {
    "duration": 51,
    "start_time": "2022-10-18T10:16:46.339Z"
   },
   {
    "duration": 25,
    "start_time": "2022-10-18T10:16:46.392Z"
   },
   {
    "duration": 213,
    "start_time": "2022-10-18T10:16:46.420Z"
   },
   {
    "duration": 17,
    "start_time": "2022-10-18T10:16:46.635Z"
   },
   {
    "duration": 256,
    "start_time": "2022-10-18T10:16:46.654Z"
   },
   {
    "duration": 33,
    "start_time": "2022-10-18T10:16:46.911Z"
   },
   {
    "duration": 7,
    "start_time": "2022-10-18T10:16:46.946Z"
   },
   {
    "duration": 156,
    "start_time": "2022-10-18T10:16:46.955Z"
   },
   {
    "duration": 132,
    "start_time": "2022-10-18T10:16:47.113Z"
   },
   {
    "duration": 150,
    "start_time": "2022-10-18T10:16:47.247Z"
   },
   {
    "duration": 234,
    "start_time": "2022-10-18T10:16:47.398Z"
   },
   {
    "duration": 19,
    "start_time": "2022-10-18T10:16:47.635Z"
   },
   {
    "duration": 31,
    "start_time": "2022-10-18T10:16:47.656Z"
   },
   {
    "duration": 34,
    "start_time": "2022-10-18T10:16:47.689Z"
   },
   {
    "duration": 33,
    "start_time": "2022-10-18T10:16:47.725Z"
   },
   {
    "duration": 42,
    "start_time": "2022-10-18T10:16:47.759Z"
   },
   {
    "duration": 51,
    "start_time": "2022-10-18T10:16:47.803Z"
   },
   {
    "duration": 25,
    "start_time": "2022-10-18T10:16:47.859Z"
   },
   {
    "duration": 27,
    "start_time": "2022-10-18T10:16:47.886Z"
   },
   {
    "duration": 7,
    "start_time": "2022-10-18T10:45:49.343Z"
   },
   {
    "duration": 125,
    "start_time": "2022-10-18T10:45:50.298Z"
   },
   {
    "duration": 126,
    "start_time": "2022-10-18T10:45:54.296Z"
   },
   {
    "duration": 125,
    "start_time": "2022-10-18T10:45:55.841Z"
   },
   {
    "duration": 105,
    "start_time": "2022-10-18T10:46:32.908Z"
   },
   {
    "duration": 11,
    "start_time": "2022-10-18T10:46:33.015Z"
   },
   {
    "duration": 27,
    "start_time": "2022-10-18T10:46:33.028Z"
   },
   {
    "duration": 6,
    "start_time": "2022-10-18T10:46:33.058Z"
   },
   {
    "duration": 13,
    "start_time": "2022-10-18T10:46:33.066Z"
   },
   {
    "duration": 52,
    "start_time": "2022-10-18T10:46:33.081Z"
   },
   {
    "duration": 15,
    "start_time": "2022-10-18T10:46:33.135Z"
   },
   {
    "duration": 21,
    "start_time": "2022-10-18T10:46:33.152Z"
   },
   {
    "duration": 5,
    "start_time": "2022-10-18T10:46:33.175Z"
   },
   {
    "duration": 41,
    "start_time": "2022-10-18T10:46:33.182Z"
   },
   {
    "duration": 7,
    "start_time": "2022-10-18T10:46:33.225Z"
   },
   {
    "duration": 13,
    "start_time": "2022-10-18T10:46:33.234Z"
   },
   {
    "duration": 5,
    "start_time": "2022-10-18T10:46:33.248Z"
   },
   {
    "duration": 23,
    "start_time": "2022-10-18T10:46:33.254Z"
   },
   {
    "duration": 5,
    "start_time": "2022-10-18T10:46:33.279Z"
   },
   {
    "duration": 36,
    "start_time": "2022-10-18T10:46:33.286Z"
   },
   {
    "duration": 28,
    "start_time": "2022-10-18T10:46:33.324Z"
   },
   {
    "duration": 4,
    "start_time": "2022-10-18T10:46:33.354Z"
   },
   {
    "duration": 12,
    "start_time": "2022-10-18T10:46:33.359Z"
   },
   {
    "duration": 13,
    "start_time": "2022-10-18T10:46:33.373Z"
   },
   {
    "duration": 11,
    "start_time": "2022-10-18T10:46:33.388Z"
   },
   {
    "duration": 8,
    "start_time": "2022-10-18T10:46:33.401Z"
   },
   {
    "duration": 14,
    "start_time": "2022-10-18T10:46:33.411Z"
   },
   {
    "duration": 30,
    "start_time": "2022-10-18T10:46:33.427Z"
   },
   {
    "duration": 17,
    "start_time": "2022-10-18T10:46:33.459Z"
   },
   {
    "duration": 9,
    "start_time": "2022-10-18T10:46:33.478Z"
   },
   {
    "duration": 15,
    "start_time": "2022-10-18T10:46:33.488Z"
   },
   {
    "duration": 43,
    "start_time": "2022-10-18T10:46:33.508Z"
   },
   {
    "duration": 19,
    "start_time": "2022-10-18T10:46:33.552Z"
   },
   {
    "duration": 8,
    "start_time": "2022-10-18T10:46:33.573Z"
   },
   {
    "duration": 10,
    "start_time": "2022-10-18T10:46:33.583Z"
   },
   {
    "duration": 21,
    "start_time": "2022-10-18T10:46:33.594Z"
   },
   {
    "duration": 23,
    "start_time": "2022-10-18T10:46:33.616Z"
   },
   {
    "duration": 4,
    "start_time": "2022-10-18T10:46:33.641Z"
   },
   {
    "duration": 11,
    "start_time": "2022-10-18T10:46:33.647Z"
   },
   {
    "duration": 4,
    "start_time": "2022-10-18T10:46:33.660Z"
   },
   {
    "duration": 412,
    "start_time": "2022-10-18T10:46:33.666Z"
   },
   {
    "duration": 9,
    "start_time": "2022-10-18T10:46:34.079Z"
   },
   {
    "duration": 403,
    "start_time": "2022-10-18T10:46:34.089Z"
   },
   {
    "duration": 7,
    "start_time": "2022-10-18T10:46:34.494Z"
   },
   {
    "duration": 1028,
    "start_time": "2022-10-18T10:46:34.503Z"
   },
   {
    "duration": 9,
    "start_time": "2022-10-18T10:46:35.532Z"
   },
   {
    "duration": 11987,
    "start_time": "2022-10-18T10:46:35.543Z"
   },
   {
    "duration": 14,
    "start_time": "2022-10-18T10:46:47.531Z"
   },
   {
    "duration": 25,
    "start_time": "2022-10-18T10:46:47.547Z"
   },
   {
    "duration": 8,
    "start_time": "2022-10-18T10:46:47.574Z"
   },
   {
    "duration": 38,
    "start_time": "2022-10-18T10:46:47.584Z"
   },
   {
    "duration": 8,
    "start_time": "2022-10-18T10:46:47.623Z"
   },
   {
    "duration": 19,
    "start_time": "2022-10-18T10:46:47.633Z"
   },
   {
    "duration": 15,
    "start_time": "2022-10-18T10:46:47.654Z"
   },
   {
    "duration": 24,
    "start_time": "2022-10-18T10:46:47.671Z"
   },
   {
    "duration": 20,
    "start_time": "2022-10-18T10:46:47.697Z"
   },
   {
    "duration": 21,
    "start_time": "2022-10-18T10:46:47.720Z"
   },
   {
    "duration": 13,
    "start_time": "2022-10-18T10:46:47.743Z"
   },
   {
    "duration": 18,
    "start_time": "2022-10-18T10:46:47.758Z"
   },
   {
    "duration": 4,
    "start_time": "2022-10-18T10:46:47.778Z"
   },
   {
    "duration": 50,
    "start_time": "2022-10-18T10:46:47.784Z"
   },
   {
    "duration": 20,
    "start_time": "2022-10-18T10:46:47.836Z"
   },
   {
    "duration": 202,
    "start_time": "2022-10-18T10:46:47.857Z"
   },
   {
    "duration": 5,
    "start_time": "2022-10-18T10:46:48.061Z"
   },
   {
    "duration": 178,
    "start_time": "2022-10-18T10:46:48.068Z"
   },
   {
    "duration": 4,
    "start_time": "2022-10-18T10:46:48.247Z"
   },
   {
    "duration": 19,
    "start_time": "2022-10-18T10:46:48.253Z"
   },
   {
    "duration": 15,
    "start_time": "2022-10-18T10:46:48.274Z"
   },
   {
    "duration": 22,
    "start_time": "2022-10-18T10:46:48.290Z"
   },
   {
    "duration": 20,
    "start_time": "2022-10-18T10:46:48.321Z"
   },
   {
    "duration": 199,
    "start_time": "2022-10-18T10:46:48.343Z"
   },
   {
    "duration": 16,
    "start_time": "2022-10-18T10:46:48.543Z"
   },
   {
    "duration": 232,
    "start_time": "2022-10-18T10:46:48.561Z"
   },
   {
    "duration": 37,
    "start_time": "2022-10-18T10:46:48.795Z"
   },
   {
    "duration": 8,
    "start_time": "2022-10-18T10:46:48.834Z"
   },
   {
    "duration": 180,
    "start_time": "2022-10-18T10:46:48.843Z"
   },
   {
    "duration": 174,
    "start_time": "2022-10-18T10:46:49.026Z"
   },
   {
    "duration": 133,
    "start_time": "2022-10-18T10:46:49.202Z"
   },
   {
    "duration": 5,
    "start_time": "2022-10-18T10:47:41.087Z"
   },
   {
    "duration": 8,
    "start_time": "2022-10-18T10:48:09.084Z"
   },
   {
    "duration": 5,
    "start_time": "2022-10-18T10:48:11.270Z"
   },
   {
    "duration": 7,
    "start_time": "2022-10-18T10:48:17.594Z"
   },
   {
    "duration": 5,
    "start_time": "2022-10-18T10:48:18.114Z"
   },
   {
    "duration": 5,
    "start_time": "2022-10-18T10:48:24.427Z"
   },
   {
    "duration": 4,
    "start_time": "2022-10-18T10:48:32.227Z"
   },
   {
    "duration": 79,
    "start_time": "2022-10-18T10:48:43.964Z"
   },
   {
    "duration": 18,
    "start_time": "2022-10-18T10:48:48.857Z"
   },
   {
    "duration": 14,
    "start_time": "2022-10-18T10:49:03.861Z"
   },
   {
    "duration": 12,
    "start_time": "2022-10-18T10:49:08.403Z"
   },
   {
    "duration": 12,
    "start_time": "2022-10-18T10:49:12.030Z"
   },
   {
    "duration": 11,
    "start_time": "2022-10-18T10:49:15.443Z"
   },
   {
    "duration": 93,
    "start_time": "2022-10-18T10:49:18.647Z"
   },
   {
    "duration": 12,
    "start_time": "2022-10-18T10:49:18.742Z"
   },
   {
    "duration": 23,
    "start_time": "2022-10-18T10:49:18.756Z"
   },
   {
    "duration": 5,
    "start_time": "2022-10-18T10:49:18.782Z"
   },
   {
    "duration": 12,
    "start_time": "2022-10-18T10:49:18.789Z"
   },
   {
    "duration": 41,
    "start_time": "2022-10-18T10:49:18.803Z"
   },
   {
    "duration": 23,
    "start_time": "2022-10-18T10:49:18.847Z"
   },
   {
    "duration": 56,
    "start_time": "2022-10-18T10:49:18.872Z"
   },
   {
    "duration": 6,
    "start_time": "2022-10-18T10:49:18.933Z"
   },
   {
    "duration": 45,
    "start_time": "2022-10-18T10:49:18.942Z"
   },
   {
    "duration": 21,
    "start_time": "2022-10-18T10:49:18.989Z"
   },
   {
    "duration": 22,
    "start_time": "2022-10-18T10:49:19.012Z"
   },
   {
    "duration": 7,
    "start_time": "2022-10-18T10:49:19.036Z"
   },
   {
    "duration": 40,
    "start_time": "2022-10-18T10:49:19.046Z"
   },
   {
    "duration": 7,
    "start_time": "2022-10-18T10:49:19.087Z"
   },
   {
    "duration": 14,
    "start_time": "2022-10-18T10:49:19.096Z"
   },
   {
    "duration": 38,
    "start_time": "2022-10-18T10:49:19.112Z"
   },
   {
    "duration": 35,
    "start_time": "2022-10-18T10:49:19.153Z"
   },
   {
    "duration": 9,
    "start_time": "2022-10-18T10:49:19.190Z"
   },
   {
    "duration": 11,
    "start_time": "2022-10-18T10:49:19.201Z"
   },
   {
    "duration": 12,
    "start_time": "2022-10-18T10:49:19.213Z"
   },
   {
    "duration": 10,
    "start_time": "2022-10-18T10:49:19.227Z"
   },
   {
    "duration": 9,
    "start_time": "2022-10-18T10:49:19.238Z"
   },
   {
    "duration": 26,
    "start_time": "2022-10-18T10:49:19.249Z"
   },
   {
    "duration": 19,
    "start_time": "2022-10-18T10:49:19.276Z"
   },
   {
    "duration": 8,
    "start_time": "2022-10-18T10:49:19.297Z"
   },
   {
    "duration": 15,
    "start_time": "2022-10-18T10:49:19.306Z"
   },
   {
    "duration": 19,
    "start_time": "2022-10-18T10:49:19.325Z"
   },
   {
    "duration": 20,
    "start_time": "2022-10-18T10:49:19.346Z"
   },
   {
    "duration": 7,
    "start_time": "2022-10-18T10:49:19.368Z"
   },
   {
    "duration": 8,
    "start_time": "2022-10-18T10:49:19.376Z"
   },
   {
    "duration": 45,
    "start_time": "2022-10-18T10:49:19.386Z"
   },
   {
    "duration": 17,
    "start_time": "2022-10-18T10:49:19.432Z"
   },
   {
    "duration": 4,
    "start_time": "2022-10-18T10:49:19.451Z"
   },
   {
    "duration": 16,
    "start_time": "2022-10-18T10:49:19.456Z"
   },
   {
    "duration": 5,
    "start_time": "2022-10-18T10:49:19.473Z"
   },
   {
    "duration": 355,
    "start_time": "2022-10-18T10:49:19.479Z"
   },
   {
    "duration": 9,
    "start_time": "2022-10-18T10:49:19.836Z"
   },
   {
    "duration": 432,
    "start_time": "2022-10-18T10:49:19.847Z"
   },
   {
    "duration": 6,
    "start_time": "2022-10-18T10:49:20.281Z"
   },
   {
    "duration": 1104,
    "start_time": "2022-10-18T10:49:20.289Z"
   },
   {
    "duration": 9,
    "start_time": "2022-10-18T10:49:21.394Z"
   },
   {
    "duration": 11962,
    "start_time": "2022-10-18T10:49:21.404Z"
   },
   {
    "duration": 13,
    "start_time": "2022-10-18T10:49:33.368Z"
   },
   {
    "duration": 32,
    "start_time": "2022-10-18T10:49:33.382Z"
   },
   {
    "duration": 11,
    "start_time": "2022-10-18T10:49:33.416Z"
   },
   {
    "duration": 19,
    "start_time": "2022-10-18T10:49:33.429Z"
   },
   {
    "duration": 11,
    "start_time": "2022-10-18T10:49:33.450Z"
   },
   {
    "duration": 25,
    "start_time": "2022-10-18T10:49:33.462Z"
   },
   {
    "duration": 11,
    "start_time": "2022-10-18T10:49:33.489Z"
   },
   {
    "duration": 32,
    "start_time": "2022-10-18T10:49:33.502Z"
   },
   {
    "duration": 7,
    "start_time": "2022-10-18T10:49:33.536Z"
   },
   {
    "duration": 31,
    "start_time": "2022-10-18T10:49:33.545Z"
   },
   {
    "duration": 34,
    "start_time": "2022-10-18T10:49:33.579Z"
   },
   {
    "duration": 18,
    "start_time": "2022-10-18T10:49:33.615Z"
   },
   {
    "duration": 8,
    "start_time": "2022-10-18T10:49:33.635Z"
   },
   {
    "duration": 23,
    "start_time": "2022-10-18T10:49:33.645Z"
   },
   {
    "duration": 19,
    "start_time": "2022-10-18T10:49:33.670Z"
   },
   {
    "duration": 183,
    "start_time": "2022-10-18T10:49:33.690Z"
   },
   {
    "duration": 5,
    "start_time": "2022-10-18T10:49:33.875Z"
   },
   {
    "duration": 204,
    "start_time": "2022-10-18T10:49:33.882Z"
   },
   {
    "duration": 4,
    "start_time": "2022-10-18T10:49:34.087Z"
   },
   {
    "duration": 15,
    "start_time": "2022-10-18T10:49:34.093Z"
   },
   {
    "duration": 16,
    "start_time": "2022-10-18T10:49:34.109Z"
   },
   {
    "duration": 25,
    "start_time": "2022-10-18T10:49:34.127Z"
   },
   {
    "duration": 19,
    "start_time": "2022-10-18T10:49:34.154Z"
   },
   {
    "duration": 191,
    "start_time": "2022-10-18T10:49:34.174Z"
   },
   {
    "duration": 17,
    "start_time": "2022-10-18T10:49:34.367Z"
   },
   {
    "duration": 248,
    "start_time": "2022-10-18T10:49:34.386Z"
   },
   {
    "duration": 39,
    "start_time": "2022-10-18T10:49:34.637Z"
   },
   {
    "duration": 15,
    "start_time": "2022-10-18T10:49:38.655Z"
   },
   {
    "duration": 5,
    "start_time": "2022-10-18T10:49:57.346Z"
   },
   {
    "duration": 14,
    "start_time": "2022-10-18T10:50:22.447Z"
   },
   {
    "duration": 17,
    "start_time": "2022-10-18T10:50:26.879Z"
   },
   {
    "duration": 220,
    "start_time": "2022-10-18T10:51:53.840Z"
   },
   {
    "duration": 105,
    "start_time": "2022-10-18T10:51:57.934Z"
   },
   {
    "duration": 14,
    "start_time": "2022-10-18T10:51:58.041Z"
   },
   {
    "duration": 23,
    "start_time": "2022-10-18T10:51:58.057Z"
   },
   {
    "duration": 8,
    "start_time": "2022-10-18T10:51:58.083Z"
   },
   {
    "duration": 29,
    "start_time": "2022-10-18T10:51:58.093Z"
   },
   {
    "duration": 27,
    "start_time": "2022-10-18T10:51:58.123Z"
   },
   {
    "duration": 16,
    "start_time": "2022-10-18T10:51:58.152Z"
   },
   {
    "duration": 55,
    "start_time": "2022-10-18T10:51:58.169Z"
   },
   {
    "duration": 5,
    "start_time": "2022-10-18T10:51:58.226Z"
   },
   {
    "duration": 9,
    "start_time": "2022-10-18T10:51:58.234Z"
   },
   {
    "duration": 12,
    "start_time": "2022-10-18T10:51:58.244Z"
   },
   {
    "duration": 13,
    "start_time": "2022-10-18T10:51:58.258Z"
   },
   {
    "duration": 8,
    "start_time": "2022-10-18T10:51:58.272Z"
   },
   {
    "duration": 49,
    "start_time": "2022-10-18T10:51:58.282Z"
   },
   {
    "duration": 8,
    "start_time": "2022-10-18T10:51:58.333Z"
   },
   {
    "duration": 19,
    "start_time": "2022-10-18T10:51:58.342Z"
   },
   {
    "duration": 25,
    "start_time": "2022-10-18T10:51:58.363Z"
   },
   {
    "duration": 5,
    "start_time": "2022-10-18T10:51:58.390Z"
   },
   {
    "duration": 7,
    "start_time": "2022-10-18T10:51:58.420Z"
   },
   {
    "duration": 16,
    "start_time": "2022-10-18T10:51:58.429Z"
   },
   {
    "duration": 19,
    "start_time": "2022-10-18T10:51:58.447Z"
   },
   {
    "duration": 12,
    "start_time": "2022-10-18T10:51:58.467Z"
   },
   {
    "duration": 12,
    "start_time": "2022-10-18T10:51:58.480Z"
   },
   {
    "duration": 35,
    "start_time": "2022-10-18T10:51:58.494Z"
   },
   {
    "duration": 19,
    "start_time": "2022-10-18T10:51:58.531Z"
   },
   {
    "duration": 10,
    "start_time": "2022-10-18T10:51:58.552Z"
   },
   {
    "duration": 12,
    "start_time": "2022-10-18T10:51:58.563Z"
   },
   {
    "duration": 41,
    "start_time": "2022-10-18T10:51:58.580Z"
   },
   {
    "duration": 23,
    "start_time": "2022-10-18T10:51:58.623Z"
   },
   {
    "duration": 7,
    "start_time": "2022-10-18T10:51:58.648Z"
   },
   {
    "duration": 16,
    "start_time": "2022-10-18T10:51:58.656Z"
   },
   {
    "duration": 17,
    "start_time": "2022-10-18T10:51:58.674Z"
   },
   {
    "duration": 60,
    "start_time": "2022-10-18T10:51:58.693Z"
   },
   {
    "duration": 9,
    "start_time": "2022-10-18T10:51:58.755Z"
   },
   {
    "duration": 18,
    "start_time": "2022-10-18T10:51:58.766Z"
   },
   {
    "duration": 19,
    "start_time": "2022-10-18T10:51:58.785Z"
   },
   {
    "duration": 474,
    "start_time": "2022-10-18T10:51:58.806Z"
   },
   {
    "duration": 10,
    "start_time": "2022-10-18T10:51:59.282Z"
   },
   {
    "duration": 448,
    "start_time": "2022-10-18T10:51:59.294Z"
   },
   {
    "duration": 7,
    "start_time": "2022-10-18T10:51:59.744Z"
   },
   {
    "duration": 1240,
    "start_time": "2022-10-18T10:51:59.753Z"
   },
   {
    "duration": 9,
    "start_time": "2022-10-18T10:52:00.994Z"
   },
   {
    "duration": 12148,
    "start_time": "2022-10-18T10:52:01.005Z"
   },
   {
    "duration": 13,
    "start_time": "2022-10-18T10:52:13.155Z"
   },
   {
    "duration": 34,
    "start_time": "2022-10-18T10:52:13.169Z"
   },
   {
    "duration": 15,
    "start_time": "2022-10-18T10:52:13.205Z"
   },
   {
    "duration": 27,
    "start_time": "2022-10-18T10:52:13.222Z"
   },
   {
    "duration": 13,
    "start_time": "2022-10-18T10:52:13.251Z"
   },
   {
    "duration": 22,
    "start_time": "2022-10-18T10:52:13.266Z"
   },
   {
    "duration": 6,
    "start_time": "2022-10-18T10:52:13.290Z"
   },
   {
    "duration": 33,
    "start_time": "2022-10-18T10:52:13.298Z"
   },
   {
    "duration": 6,
    "start_time": "2022-10-18T10:52:13.332Z"
   },
   {
    "duration": 30,
    "start_time": "2022-10-18T10:52:13.339Z"
   },
   {
    "duration": 8,
    "start_time": "2022-10-18T10:52:13.371Z"
   },
   {
    "duration": 21,
    "start_time": "2022-10-18T10:52:13.381Z"
   },
   {
    "duration": 18,
    "start_time": "2022-10-18T10:52:13.404Z"
   },
   {
    "duration": 28,
    "start_time": "2022-10-18T10:52:13.425Z"
   },
   {
    "duration": 20,
    "start_time": "2022-10-18T10:52:13.454Z"
   },
   {
    "duration": 190,
    "start_time": "2022-10-18T10:52:13.476Z"
   },
   {
    "duration": 5,
    "start_time": "2022-10-18T10:52:13.667Z"
   },
   {
    "duration": 194,
    "start_time": "2022-10-18T10:52:13.673Z"
   },
   {
    "duration": 5,
    "start_time": "2022-10-18T10:52:13.870Z"
   },
   {
    "duration": 29,
    "start_time": "2022-10-18T10:52:13.876Z"
   },
   {
    "duration": 20,
    "start_time": "2022-10-18T10:52:13.907Z"
   },
   {
    "duration": 33,
    "start_time": "2022-10-18T10:52:13.929Z"
   },
   {
    "duration": 23,
    "start_time": "2022-10-18T10:52:13.964Z"
   },
   {
    "duration": 221,
    "start_time": "2022-10-18T10:52:13.989Z"
   },
   {
    "duration": 25,
    "start_time": "2022-10-18T10:52:14.212Z"
   },
   {
    "duration": 237,
    "start_time": "2022-10-18T10:52:14.238Z"
   },
   {
    "duration": 329,
    "start_time": "2022-10-18T10:52:14.479Z"
   },
   {
    "duration": 31,
    "start_time": "2022-10-18T10:52:26.330Z"
   },
   {
    "duration": 26,
    "start_time": "2022-10-18T10:52:40.342Z"
   },
   {
    "duration": 8,
    "start_time": "2022-10-18T10:52:45.994Z"
   },
   {
    "duration": 8,
    "start_time": "2022-10-18T10:52:54.625Z"
   },
   {
    "duration": 7,
    "start_time": "2022-10-18T10:53:00.375Z"
   },
   {
    "duration": 36,
    "start_time": "2022-10-18T10:53:18.673Z"
   },
   {
    "duration": 11,
    "start_time": "2022-10-18T10:53:24.818Z"
   },
   {
    "duration": 96,
    "start_time": "2022-10-18T10:53:45.425Z"
   },
   {
    "duration": 12,
    "start_time": "2022-10-18T10:53:45.524Z"
   },
   {
    "duration": 146,
    "start_time": "2022-10-18T10:53:45.537Z"
   },
   {
    "duration": 6,
    "start_time": "2022-10-18T10:53:45.687Z"
   },
   {
    "duration": 15,
    "start_time": "2022-10-18T10:53:45.721Z"
   },
   {
    "duration": 30,
    "start_time": "2022-10-18T10:53:45.737Z"
   },
   {
    "duration": 22,
    "start_time": "2022-10-18T10:53:45.769Z"
   },
   {
    "duration": 43,
    "start_time": "2022-10-18T10:53:45.793Z"
   },
   {
    "duration": 6,
    "start_time": "2022-10-18T10:53:45.838Z"
   },
   {
    "duration": 18,
    "start_time": "2022-10-18T10:53:45.847Z"
   },
   {
    "duration": 16,
    "start_time": "2022-10-18T10:53:45.867Z"
   },
   {
    "duration": 24,
    "start_time": "2022-10-18T10:53:45.885Z"
   },
   {
    "duration": 12,
    "start_time": "2022-10-18T10:53:45.911Z"
   },
   {
    "duration": 25,
    "start_time": "2022-10-18T10:53:45.924Z"
   },
   {
    "duration": 5,
    "start_time": "2022-10-18T10:53:45.951Z"
   },
   {
    "duration": 16,
    "start_time": "2022-10-18T10:53:45.958Z"
   },
   {
    "duration": 32,
    "start_time": "2022-10-18T10:53:45.975Z"
   },
   {
    "duration": 4,
    "start_time": "2022-10-18T10:53:46.009Z"
   },
   {
    "duration": 18,
    "start_time": "2022-10-18T10:53:46.015Z"
   },
   {
    "duration": 9,
    "start_time": "2022-10-18T10:53:46.035Z"
   },
   {
    "duration": 22,
    "start_time": "2022-10-18T10:53:46.046Z"
   },
   {
    "duration": 14,
    "start_time": "2022-10-18T10:53:46.070Z"
   },
   {
    "duration": 7,
    "start_time": "2022-10-18T10:53:46.086Z"
   },
   {
    "duration": 27,
    "start_time": "2022-10-18T10:53:46.096Z"
   },
   {
    "duration": 19,
    "start_time": "2022-10-18T10:53:46.125Z"
   },
   {
    "duration": 9,
    "start_time": "2022-10-18T10:53:46.145Z"
   },
   {
    "duration": 9,
    "start_time": "2022-10-18T10:53:46.155Z"
   },
   {
    "duration": 20,
    "start_time": "2022-10-18T10:53:46.168Z"
   },
   {
    "duration": 44,
    "start_time": "2022-10-18T10:53:46.189Z"
   },
   {
    "duration": 17,
    "start_time": "2022-10-18T10:53:46.235Z"
   },
   {
    "duration": 14,
    "start_time": "2022-10-18T10:53:46.253Z"
   },
   {
    "duration": 22,
    "start_time": "2022-10-18T10:53:46.269Z"
   },
   {
    "duration": 18,
    "start_time": "2022-10-18T10:53:46.293Z"
   },
   {
    "duration": 9,
    "start_time": "2022-10-18T10:53:46.313Z"
   },
   {
    "duration": 14,
    "start_time": "2022-10-18T10:53:46.323Z"
   },
   {
    "duration": 5,
    "start_time": "2022-10-18T10:53:46.338Z"
   },
   {
    "duration": 337,
    "start_time": "2022-10-18T10:53:46.344Z"
   },
   {
    "duration": 9,
    "start_time": "2022-10-18T10:53:46.683Z"
   },
   {
    "duration": 436,
    "start_time": "2022-10-18T10:53:46.694Z"
   },
   {
    "duration": 6,
    "start_time": "2022-10-18T10:53:47.132Z"
   },
   {
    "duration": 1143,
    "start_time": "2022-10-18T10:53:47.140Z"
   },
   {
    "duration": 9,
    "start_time": "2022-10-18T10:53:48.285Z"
   },
   {
    "duration": 12236,
    "start_time": "2022-10-18T10:53:48.296Z"
   },
   {
    "duration": 14,
    "start_time": "2022-10-18T10:54:00.534Z"
   },
   {
    "duration": 49,
    "start_time": "2022-10-18T10:54:00.550Z"
   },
   {
    "duration": 41,
    "start_time": "2022-10-18T10:54:00.600Z"
   },
   {
    "duration": 56,
    "start_time": "2022-10-18T10:54:00.643Z"
   },
   {
    "duration": 63,
    "start_time": "2022-10-18T10:54:00.701Z"
   },
   {
    "duration": 44,
    "start_time": "2022-10-18T10:54:00.766Z"
   },
   {
    "duration": 56,
    "start_time": "2022-10-18T10:54:00.812Z"
   },
   {
    "duration": 51,
    "start_time": "2022-10-18T10:54:00.870Z"
   },
   {
    "duration": 33,
    "start_time": "2022-10-18T10:54:00.923Z"
   },
   {
    "duration": 46,
    "start_time": "2022-10-18T10:54:00.958Z"
   },
   {
    "duration": 86,
    "start_time": "2022-10-18T10:54:01.006Z"
   },
   {
    "duration": 50,
    "start_time": "2022-10-18T10:54:01.094Z"
   },
   {
    "duration": 19,
    "start_time": "2022-10-18T10:54:01.146Z"
   },
   {
    "duration": 55,
    "start_time": "2022-10-18T10:54:01.167Z"
   },
   {
    "duration": 46,
    "start_time": "2022-10-18T10:54:01.224Z"
   },
   {
    "duration": 204,
    "start_time": "2022-10-18T10:54:01.272Z"
   },
   {
    "duration": 5,
    "start_time": "2022-10-18T10:54:01.478Z"
   },
   {
    "duration": 197,
    "start_time": "2022-10-18T10:54:01.484Z"
   },
   {
    "duration": 7,
    "start_time": "2022-10-18T10:54:01.683Z"
   },
   {
    "duration": 21,
    "start_time": "2022-10-18T10:54:01.692Z"
   },
   {
    "duration": 50,
    "start_time": "2022-10-18T10:54:01.721Z"
   },
   {
    "duration": 37,
    "start_time": "2022-10-18T10:54:01.773Z"
   },
   {
    "duration": 70,
    "start_time": "2022-10-18T10:54:01.811Z"
   },
   {
    "duration": 205,
    "start_time": "2022-10-18T10:54:01.883Z"
   },
   {
    "duration": 17,
    "start_time": "2022-10-18T10:54:02.089Z"
   },
   {
    "duration": 370,
    "start_time": "2022-10-18T10:54:02.108Z"
   },
   {
    "duration": 27,
    "start_time": "2022-10-18T10:54:02.480Z"
   },
   {
    "duration": 30,
    "start_time": "2022-10-18T10:54:02.520Z"
   },
   {
    "duration": 15,
    "start_time": "2022-10-18T10:54:21.850Z"
   },
   {
    "duration": 27,
    "start_time": "2022-10-18T10:54:25.572Z"
   },
   {
    "duration": 28,
    "start_time": "2022-10-18T10:54:35.768Z"
   },
   {
    "duration": 27,
    "start_time": "2022-10-18T10:54:43.368Z"
   },
   {
    "duration": 15,
    "start_time": "2022-10-18T10:54:47.434Z"
   },
   {
    "duration": 96,
    "start_time": "2022-10-18T10:54:55.301Z"
   },
   {
    "duration": 11,
    "start_time": "2022-10-18T10:54:55.399Z"
   },
   {
    "duration": 46,
    "start_time": "2022-10-18T10:54:55.412Z"
   },
   {
    "duration": 16,
    "start_time": "2022-10-18T10:54:55.461Z"
   },
   {
    "duration": 43,
    "start_time": "2022-10-18T10:54:55.479Z"
   },
   {
    "duration": 77,
    "start_time": "2022-10-18T10:54:55.523Z"
   },
   {
    "duration": 50,
    "start_time": "2022-10-18T10:54:55.602Z"
   },
   {
    "duration": 54,
    "start_time": "2022-10-18T10:54:55.654Z"
   },
   {
    "duration": 33,
    "start_time": "2022-10-18T10:54:55.710Z"
   },
   {
    "duration": 25,
    "start_time": "2022-10-18T10:54:55.746Z"
   },
   {
    "duration": 40,
    "start_time": "2022-10-18T10:54:55.773Z"
   },
   {
    "duration": 58,
    "start_time": "2022-10-18T10:54:55.815Z"
   },
   {
    "duration": 15,
    "start_time": "2022-10-18T10:54:55.875Z"
   },
   {
    "duration": 45,
    "start_time": "2022-10-18T10:54:55.892Z"
   },
   {
    "duration": 17,
    "start_time": "2022-10-18T10:54:55.939Z"
   },
   {
    "duration": 25,
    "start_time": "2022-10-18T10:54:55.958Z"
   },
   {
    "duration": 59,
    "start_time": "2022-10-18T10:54:55.984Z"
   },
   {
    "duration": 37,
    "start_time": "2022-10-18T10:54:56.045Z"
   },
   {
    "duration": 26,
    "start_time": "2022-10-18T10:54:56.084Z"
   },
   {
    "duration": 34,
    "start_time": "2022-10-18T10:54:56.112Z"
   },
   {
    "duration": 20,
    "start_time": "2022-10-18T10:54:56.148Z"
   },
   {
    "duration": 16,
    "start_time": "2022-10-18T10:54:56.171Z"
   },
   {
    "duration": 25,
    "start_time": "2022-10-18T10:54:56.189Z"
   },
   {
    "duration": 36,
    "start_time": "2022-10-18T10:54:56.216Z"
   },
   {
    "duration": 31,
    "start_time": "2022-10-18T10:54:56.254Z"
   },
   {
    "duration": 17,
    "start_time": "2022-10-18T10:54:56.287Z"
   },
   {
    "duration": 19,
    "start_time": "2022-10-18T10:54:56.306Z"
   },
   {
    "duration": 25,
    "start_time": "2022-10-18T10:54:56.331Z"
   },
   {
    "duration": 35,
    "start_time": "2022-10-18T10:54:56.358Z"
   },
   {
    "duration": 30,
    "start_time": "2022-10-18T10:54:56.395Z"
   },
   {
    "duration": 29,
    "start_time": "2022-10-18T10:54:56.427Z"
   },
   {
    "duration": 36,
    "start_time": "2022-10-18T10:54:56.458Z"
   },
   {
    "duration": 48,
    "start_time": "2022-10-18T10:54:56.496Z"
   },
   {
    "duration": 22,
    "start_time": "2022-10-18T10:54:56.546Z"
   },
   {
    "duration": 17,
    "start_time": "2022-10-18T10:54:56.570Z"
   },
   {
    "duration": 28,
    "start_time": "2022-10-18T10:54:56.589Z"
   },
   {
    "duration": 390,
    "start_time": "2022-10-18T10:54:56.619Z"
   },
   {
    "duration": 16,
    "start_time": "2022-10-18T10:54:57.011Z"
   },
   {
    "duration": 409,
    "start_time": "2022-10-18T10:54:57.029Z"
   },
   {
    "duration": 7,
    "start_time": "2022-10-18T10:54:57.440Z"
   },
   {
    "duration": 1052,
    "start_time": "2022-10-18T10:54:57.450Z"
   },
   {
    "duration": 18,
    "start_time": "2022-10-18T10:54:58.504Z"
   },
   {
    "duration": 11474,
    "start_time": "2022-10-18T10:54:58.524Z"
   },
   {
    "duration": 20,
    "start_time": "2022-10-18T10:55:10.000Z"
   },
   {
    "duration": 47,
    "start_time": "2022-10-18T10:55:10.022Z"
   },
   {
    "duration": 40,
    "start_time": "2022-10-18T10:55:10.070Z"
   },
   {
    "duration": 38,
    "start_time": "2022-10-18T10:55:10.111Z"
   },
   {
    "duration": 31,
    "start_time": "2022-10-18T10:55:10.150Z"
   },
   {
    "duration": 41,
    "start_time": "2022-10-18T10:55:10.183Z"
   },
   {
    "duration": 27,
    "start_time": "2022-10-18T10:55:10.226Z"
   },
   {
    "duration": 44,
    "start_time": "2022-10-18T10:55:10.255Z"
   },
   {
    "duration": 29,
    "start_time": "2022-10-18T10:55:10.301Z"
   },
   {
    "duration": 41,
    "start_time": "2022-10-18T10:55:10.332Z"
   },
   {
    "duration": 45,
    "start_time": "2022-10-18T10:55:10.375Z"
   },
   {
    "duration": 25,
    "start_time": "2022-10-18T10:55:10.422Z"
   },
   {
    "duration": 24,
    "start_time": "2022-10-18T10:55:10.449Z"
   },
   {
    "duration": 55,
    "start_time": "2022-10-18T10:55:10.475Z"
   },
   {
    "duration": 29,
    "start_time": "2022-10-18T10:55:10.532Z"
   },
   {
    "duration": 196,
    "start_time": "2022-10-18T10:55:10.562Z"
   },
   {
    "duration": 6,
    "start_time": "2022-10-18T10:55:10.760Z"
   },
   {
    "duration": 185,
    "start_time": "2022-10-18T10:55:10.768Z"
   },
   {
    "duration": 4,
    "start_time": "2022-10-18T10:55:10.956Z"
   },
   {
    "duration": 31,
    "start_time": "2022-10-18T10:55:10.962Z"
   },
   {
    "duration": 37,
    "start_time": "2022-10-18T10:55:10.995Z"
   },
   {
    "duration": 39,
    "start_time": "2022-10-18T10:55:11.034Z"
   },
   {
    "duration": 26,
    "start_time": "2022-10-18T10:55:11.075Z"
   },
   {
    "duration": 303,
    "start_time": "2022-10-18T10:55:11.102Z"
   },
   {
    "duration": 24,
    "start_time": "2022-10-18T10:55:11.407Z"
   },
   {
    "duration": 274,
    "start_time": "2022-10-18T10:55:11.432Z"
   },
   {
    "duration": 36,
    "start_time": "2022-10-18T10:55:11.710Z"
   },
   {
    "duration": 24,
    "start_time": "2022-10-18T10:55:11.747Z"
   },
   {
    "duration": 15,
    "start_time": "2022-10-18T10:55:48.542Z"
   },
   {
    "duration": 94,
    "start_time": "2022-10-18T10:55:56.268Z"
   },
   {
    "duration": 11,
    "start_time": "2022-10-18T10:55:56.364Z"
   },
   {
    "duration": 22,
    "start_time": "2022-10-18T10:55:56.376Z"
   },
   {
    "duration": 6,
    "start_time": "2022-10-18T10:55:56.400Z"
   },
   {
    "duration": 23,
    "start_time": "2022-10-18T10:55:56.408Z"
   },
   {
    "duration": 27,
    "start_time": "2022-10-18T10:55:56.434Z"
   },
   {
    "duration": 15,
    "start_time": "2022-10-18T10:55:56.462Z"
   },
   {
    "duration": 55,
    "start_time": "2022-10-18T10:55:56.479Z"
   },
   {
    "duration": 5,
    "start_time": "2022-10-18T10:55:56.535Z"
   },
   {
    "duration": 22,
    "start_time": "2022-10-18T10:55:56.542Z"
   },
   {
    "duration": 10,
    "start_time": "2022-10-18T10:55:56.567Z"
   },
   {
    "duration": 17,
    "start_time": "2022-10-18T10:55:56.578Z"
   },
   {
    "duration": 23,
    "start_time": "2022-10-18T10:55:56.597Z"
   },
   {
    "duration": 26,
    "start_time": "2022-10-18T10:55:56.622Z"
   },
   {
    "duration": 13,
    "start_time": "2022-10-18T10:55:56.650Z"
   },
   {
    "duration": 9,
    "start_time": "2022-10-18T10:55:56.665Z"
   },
   {
    "duration": 22,
    "start_time": "2022-10-18T10:55:56.676Z"
   },
   {
    "duration": 8,
    "start_time": "2022-10-18T10:55:56.700Z"
   },
   {
    "duration": 14,
    "start_time": "2022-10-18T10:55:56.710Z"
   },
   {
    "duration": 28,
    "start_time": "2022-10-18T10:55:56.726Z"
   },
   {
    "duration": 12,
    "start_time": "2022-10-18T10:55:56.756Z"
   },
   {
    "duration": 11,
    "start_time": "2022-10-18T10:55:56.770Z"
   },
   {
    "duration": 8,
    "start_time": "2022-10-18T10:55:56.783Z"
   },
   {
    "duration": 33,
    "start_time": "2022-10-18T10:55:56.793Z"
   },
   {
    "duration": 22,
    "start_time": "2022-10-18T10:55:56.827Z"
   },
   {
    "duration": 8,
    "start_time": "2022-10-18T10:55:56.851Z"
   },
   {
    "duration": 11,
    "start_time": "2022-10-18T10:55:56.860Z"
   },
   {
    "duration": 19,
    "start_time": "2022-10-18T10:55:56.875Z"
   },
   {
    "duration": 30,
    "start_time": "2022-10-18T10:55:56.896Z"
   },
   {
    "duration": 17,
    "start_time": "2022-10-18T10:55:56.928Z"
   },
   {
    "duration": 7,
    "start_time": "2022-10-18T10:55:56.947Z"
   },
   {
    "duration": 27,
    "start_time": "2022-10-18T10:55:56.955Z"
   },
   {
    "duration": 15,
    "start_time": "2022-10-18T10:55:56.983Z"
   },
   {
    "duration": 4,
    "start_time": "2022-10-18T10:55:56.999Z"
   },
   {
    "duration": 17,
    "start_time": "2022-10-18T10:55:57.005Z"
   },
   {
    "duration": 5,
    "start_time": "2022-10-18T10:55:57.023Z"
   },
   {
    "duration": 333,
    "start_time": "2022-10-18T10:55:57.029Z"
   },
   {
    "duration": 9,
    "start_time": "2022-10-18T10:55:57.364Z"
   },
   {
    "duration": 410,
    "start_time": "2022-10-18T10:55:57.374Z"
   },
   {
    "duration": 6,
    "start_time": "2022-10-18T10:55:57.786Z"
   },
   {
    "duration": 1045,
    "start_time": "2022-10-18T10:55:57.795Z"
   },
   {
    "duration": 9,
    "start_time": "2022-10-18T10:55:58.842Z"
   },
   {
    "duration": 11618,
    "start_time": "2022-10-18T10:55:58.852Z"
   },
   {
    "duration": 12,
    "start_time": "2022-10-18T10:56:10.472Z"
   },
   {
    "duration": 19,
    "start_time": "2022-10-18T10:56:10.485Z"
   },
   {
    "duration": 6,
    "start_time": "2022-10-18T10:56:10.520Z"
   },
   {
    "duration": 21,
    "start_time": "2022-10-18T10:56:10.528Z"
   },
   {
    "duration": 12,
    "start_time": "2022-10-18T10:56:10.551Z"
   },
   {
    "duration": 27,
    "start_time": "2022-10-18T10:56:10.565Z"
   },
   {
    "duration": 6,
    "start_time": "2022-10-18T10:56:10.593Z"
   },
   {
    "duration": 34,
    "start_time": "2022-10-18T10:56:10.601Z"
   },
   {
    "duration": 6,
    "start_time": "2022-10-18T10:56:10.637Z"
   },
   {
    "duration": 20,
    "start_time": "2022-10-18T10:56:10.645Z"
   },
   {
    "duration": 10,
    "start_time": "2022-10-18T10:56:10.667Z"
   },
   {
    "duration": 44,
    "start_time": "2022-10-18T10:56:10.679Z"
   },
   {
    "duration": 21,
    "start_time": "2022-10-18T10:56:10.725Z"
   },
   {
    "duration": 30,
    "start_time": "2022-10-18T10:56:10.748Z"
   },
   {
    "duration": 20,
    "start_time": "2022-10-18T10:56:10.780Z"
   },
   {
    "duration": 167,
    "start_time": "2022-10-18T10:56:10.801Z"
   },
   {
    "duration": 5,
    "start_time": "2022-10-18T10:56:10.970Z"
   },
   {
    "duration": 186,
    "start_time": "2022-10-18T10:56:10.976Z"
   },
   {
    "duration": 4,
    "start_time": "2022-10-18T10:56:11.163Z"
   },
   {
    "duration": 13,
    "start_time": "2022-10-18T10:56:11.169Z"
   },
   {
    "duration": 11,
    "start_time": "2022-10-18T10:56:11.183Z"
   },
   {
    "duration": 36,
    "start_time": "2022-10-18T10:56:11.196Z"
   },
   {
    "duration": 20,
    "start_time": "2022-10-18T10:56:11.234Z"
   },
   {
    "duration": 200,
    "start_time": "2022-10-18T10:56:11.255Z"
   },
   {
    "duration": 17,
    "start_time": "2022-10-18T10:56:11.457Z"
   },
   {
    "duration": 258,
    "start_time": "2022-10-18T10:56:11.475Z"
   },
   {
    "duration": 31,
    "start_time": "2022-10-18T10:56:11.735Z"
   },
   {
    "duration": 15,
    "start_time": "2022-10-18T10:56:19.890Z"
   },
   {
    "duration": 10,
    "start_time": "2022-10-18T10:56:33.716Z"
   },
   {
    "duration": 96,
    "start_time": "2022-10-18T10:56:45.458Z"
   },
   {
    "duration": 11,
    "start_time": "2022-10-18T10:56:45.557Z"
   },
   {
    "duration": 18,
    "start_time": "2022-10-18T10:56:45.569Z"
   },
   {
    "duration": 17,
    "start_time": "2022-10-18T10:56:45.589Z"
   },
   {
    "duration": 36,
    "start_time": "2022-10-18T10:56:45.608Z"
   },
   {
    "duration": 40,
    "start_time": "2022-10-18T10:56:45.646Z"
   },
   {
    "duration": 14,
    "start_time": "2022-10-18T10:56:45.688Z"
   },
   {
    "duration": 49,
    "start_time": "2022-10-18T10:56:45.704Z"
   },
   {
    "duration": 8,
    "start_time": "2022-10-18T10:56:45.755Z"
   },
   {
    "duration": 17,
    "start_time": "2022-10-18T10:56:45.765Z"
   },
   {
    "duration": 18,
    "start_time": "2022-10-18T10:56:45.784Z"
   },
   {
    "duration": 22,
    "start_time": "2022-10-18T10:56:45.804Z"
   },
   {
    "duration": 6,
    "start_time": "2022-10-18T10:56:45.828Z"
   },
   {
    "duration": 27,
    "start_time": "2022-10-18T10:56:45.836Z"
   },
   {
    "duration": 6,
    "start_time": "2022-10-18T10:56:45.866Z"
   },
   {
    "duration": 14,
    "start_time": "2022-10-18T10:56:45.873Z"
   },
   {
    "duration": 38,
    "start_time": "2022-10-18T10:56:45.889Z"
   },
   {
    "duration": 7,
    "start_time": "2022-10-18T10:56:45.929Z"
   },
   {
    "duration": 10,
    "start_time": "2022-10-18T10:56:45.938Z"
   },
   {
    "duration": 10,
    "start_time": "2022-10-18T10:56:45.949Z"
   },
   {
    "duration": 8,
    "start_time": "2022-10-18T10:56:45.960Z"
   },
   {
    "duration": 7,
    "start_time": "2022-10-18T10:56:45.970Z"
   },
   {
    "duration": 8,
    "start_time": "2022-10-18T10:56:45.978Z"
   },
   {
    "duration": 50,
    "start_time": "2022-10-18T10:56:45.987Z"
   },
   {
    "duration": 31,
    "start_time": "2022-10-18T10:56:46.039Z"
   },
   {
    "duration": 8,
    "start_time": "2022-10-18T10:56:46.072Z"
   },
   {
    "duration": 6,
    "start_time": "2022-10-18T10:56:46.082Z"
   },
   {
    "duration": 28,
    "start_time": "2022-10-18T10:56:46.092Z"
   },
   {
    "duration": 21,
    "start_time": "2022-10-18T10:56:46.122Z"
   },
   {
    "duration": 11,
    "start_time": "2022-10-18T10:56:46.144Z"
   },
   {
    "duration": 5,
    "start_time": "2022-10-18T10:56:46.157Z"
   },
   {
    "duration": 17,
    "start_time": "2022-10-18T10:56:46.164Z"
   },
   {
    "duration": 14,
    "start_time": "2022-10-18T10:56:46.183Z"
   },
   {
    "duration": 24,
    "start_time": "2022-10-18T10:56:46.199Z"
   },
   {
    "duration": 16,
    "start_time": "2022-10-18T10:56:46.225Z"
   },
   {
    "duration": 4,
    "start_time": "2022-10-18T10:56:46.243Z"
   },
   {
    "duration": 333,
    "start_time": "2022-10-18T10:56:46.249Z"
   },
   {
    "duration": 8,
    "start_time": "2022-10-18T10:56:46.583Z"
   },
   {
    "duration": 416,
    "start_time": "2022-10-18T10:56:46.593Z"
   },
   {
    "duration": 11,
    "start_time": "2022-10-18T10:56:47.011Z"
   },
   {
    "duration": 1086,
    "start_time": "2022-10-18T10:56:47.023Z"
   },
   {
    "duration": 11,
    "start_time": "2022-10-18T10:56:48.110Z"
   },
   {
    "duration": 11791,
    "start_time": "2022-10-18T10:56:48.123Z"
   },
   {
    "duration": 15,
    "start_time": "2022-10-18T10:56:59.920Z"
   },
   {
    "duration": 26,
    "start_time": "2022-10-18T10:56:59.936Z"
   },
   {
    "duration": 9,
    "start_time": "2022-10-18T10:56:59.964Z"
   },
   {
    "duration": 21,
    "start_time": "2022-10-18T10:56:59.974Z"
   },
   {
    "duration": 28,
    "start_time": "2022-10-18T10:56:59.997Z"
   },
   {
    "duration": 49,
    "start_time": "2022-10-18T10:57:00.027Z"
   },
   {
    "duration": 37,
    "start_time": "2022-10-18T10:57:00.078Z"
   },
   {
    "duration": 34,
    "start_time": "2022-10-18T10:57:00.117Z"
   },
   {
    "duration": 29,
    "start_time": "2022-10-18T10:57:00.153Z"
   },
   {
    "duration": 49,
    "start_time": "2022-10-18T10:57:00.184Z"
   },
   {
    "duration": 25,
    "start_time": "2022-10-18T10:57:00.235Z"
   },
   {
    "duration": 37,
    "start_time": "2022-10-18T10:57:00.262Z"
   },
   {
    "duration": 28,
    "start_time": "2022-10-18T10:57:00.301Z"
   },
   {
    "duration": 61,
    "start_time": "2022-10-18T10:57:00.331Z"
   },
   {
    "duration": 37,
    "start_time": "2022-10-18T10:57:00.393Z"
   },
   {
    "duration": 203,
    "start_time": "2022-10-18T10:57:00.432Z"
   },
   {
    "duration": 5,
    "start_time": "2022-10-18T10:57:00.637Z"
   },
   {
    "duration": 242,
    "start_time": "2022-10-18T10:57:00.644Z"
   },
   {
    "duration": 3,
    "start_time": "2022-10-18T10:57:00.888Z"
   },
   {
    "duration": 74,
    "start_time": "2022-10-18T10:57:00.893Z"
   },
   {
    "duration": 80,
    "start_time": "2022-10-18T10:57:00.969Z"
   },
   {
    "duration": 44,
    "start_time": "2022-10-18T10:57:01.050Z"
   },
   {
    "duration": 30,
    "start_time": "2022-10-18T10:57:01.095Z"
   },
   {
    "duration": 244,
    "start_time": "2022-10-18T10:57:01.127Z"
   },
   {
    "duration": 16,
    "start_time": "2022-10-18T10:57:01.373Z"
   },
   {
    "duration": 458,
    "start_time": "2022-10-18T10:57:01.391Z"
   },
   {
    "duration": 29,
    "start_time": "2022-10-18T10:57:01.851Z"
   },
   {
    "duration": 12,
    "start_time": "2022-10-18T10:57:05.925Z"
   },
   {
    "duration": 4,
    "start_time": "2022-10-18T10:57:27.227Z"
   },
   {
    "duration": 5,
    "start_time": "2022-10-18T10:57:29.130Z"
   },
   {
    "duration": 4,
    "start_time": "2022-10-18T10:57:34.500Z"
   },
   {
    "duration": 122,
    "start_time": "2022-10-18T10:57:37.447Z"
   },
   {
    "duration": 120,
    "start_time": "2022-10-18T10:57:40.684Z"
   },
   {
    "duration": 130,
    "start_time": "2022-10-18T10:57:42.379Z"
   },
   {
    "duration": 206,
    "start_time": "2022-10-18T10:57:44.337Z"
   },
   {
    "duration": 4,
    "start_time": "2022-10-18T10:58:01.992Z"
   },
   {
    "duration": 533,
    "start_time": "2022-10-18T10:58:52.382Z"
   },
   {
    "duration": 12,
    "start_time": "2022-10-18T10:58:52.917Z"
   },
   {
    "duration": 54,
    "start_time": "2022-10-18T10:58:52.931Z"
   },
   {
    "duration": 25,
    "start_time": "2022-10-18T10:58:52.988Z"
   },
   {
    "duration": 55,
    "start_time": "2022-10-18T10:58:53.014Z"
   },
   {
    "duration": 47,
    "start_time": "2022-10-18T10:58:53.070Z"
   },
   {
    "duration": 33,
    "start_time": "2022-10-18T10:58:53.119Z"
   },
   {
    "duration": 55,
    "start_time": "2022-10-18T10:58:53.154Z"
   },
   {
    "duration": 27,
    "start_time": "2022-10-18T10:58:53.211Z"
   },
   {
    "duration": 31,
    "start_time": "2022-10-18T10:58:53.241Z"
   },
   {
    "duration": 33,
    "start_time": "2022-10-18T10:58:53.274Z"
   },
   {
    "duration": 39,
    "start_time": "2022-10-18T10:58:53.308Z"
   },
   {
    "duration": 28,
    "start_time": "2022-10-18T10:58:53.349Z"
   },
   {
    "duration": 51,
    "start_time": "2022-10-18T10:58:53.378Z"
   },
   {
    "duration": 13,
    "start_time": "2022-10-18T10:58:53.431Z"
   },
   {
    "duration": 26,
    "start_time": "2022-10-18T10:58:53.446Z"
   },
   {
    "duration": 53,
    "start_time": "2022-10-18T10:58:53.474Z"
   },
   {
    "duration": 42,
    "start_time": "2022-10-18T10:58:53.529Z"
   },
   {
    "duration": 34,
    "start_time": "2022-10-18T10:58:53.572Z"
   },
   {
    "duration": 30,
    "start_time": "2022-10-18T10:58:53.608Z"
   },
   {
    "duration": 38,
    "start_time": "2022-10-18T10:58:53.640Z"
   },
   {
    "duration": 19,
    "start_time": "2022-10-18T10:58:53.680Z"
   },
   {
    "duration": 16,
    "start_time": "2022-10-18T10:58:53.701Z"
   },
   {
    "duration": 46,
    "start_time": "2022-10-18T10:58:53.719Z"
   },
   {
    "duration": 19,
    "start_time": "2022-10-18T10:58:53.767Z"
   },
   {
    "duration": 32,
    "start_time": "2022-10-18T10:58:53.788Z"
   },
   {
    "duration": 32,
    "start_time": "2022-10-18T10:58:53.822Z"
   },
   {
    "duration": 40,
    "start_time": "2022-10-18T10:58:53.859Z"
   },
   {
    "duration": 45,
    "start_time": "2022-10-18T10:58:53.901Z"
   },
   {
    "duration": 31,
    "start_time": "2022-10-18T10:58:53.947Z"
   },
   {
    "duration": 31,
    "start_time": "2022-10-18T10:58:53.979Z"
   },
   {
    "duration": 44,
    "start_time": "2022-10-18T10:58:54.012Z"
   },
   {
    "duration": 58,
    "start_time": "2022-10-18T10:58:54.058Z"
   },
   {
    "duration": 7,
    "start_time": "2022-10-18T10:58:54.118Z"
   },
   {
    "duration": 27,
    "start_time": "2022-10-18T10:58:54.126Z"
   },
   {
    "duration": 13,
    "start_time": "2022-10-18T10:58:54.155Z"
   },
   {
    "duration": 657,
    "start_time": "2022-10-18T10:58:54.170Z"
   },
   {
    "duration": 11,
    "start_time": "2022-10-18T10:58:54.829Z"
   },
   {
    "duration": 460,
    "start_time": "2022-10-18T10:58:54.842Z"
   },
   {
    "duration": 7,
    "start_time": "2022-10-18T10:58:55.304Z"
   },
   {
    "duration": 1132,
    "start_time": "2022-10-18T10:58:55.313Z"
   },
   {
    "duration": 8,
    "start_time": "2022-10-18T10:58:56.447Z"
   },
   {
    "duration": 11278,
    "start_time": "2022-10-18T10:58:56.457Z"
   },
   {
    "duration": 14,
    "start_time": "2022-10-18T10:59:07.736Z"
   },
   {
    "duration": 28,
    "start_time": "2022-10-18T10:59:07.752Z"
   },
   {
    "duration": 17,
    "start_time": "2022-10-18T10:59:07.782Z"
   },
   {
    "duration": 39,
    "start_time": "2022-10-18T10:59:07.801Z"
   },
   {
    "duration": 8,
    "start_time": "2022-10-18T10:59:07.842Z"
   },
   {
    "duration": 37,
    "start_time": "2022-10-18T10:59:07.853Z"
   },
   {
    "duration": 20,
    "start_time": "2022-10-18T10:59:07.891Z"
   },
   {
    "duration": 36,
    "start_time": "2022-10-18T10:59:07.913Z"
   },
   {
    "duration": 23,
    "start_time": "2022-10-18T10:59:07.951Z"
   },
   {
    "duration": 35,
    "start_time": "2022-10-18T10:59:07.976Z"
   },
   {
    "duration": 9,
    "start_time": "2022-10-18T10:59:08.013Z"
   },
   {
    "duration": 46,
    "start_time": "2022-10-18T10:59:08.024Z"
   },
   {
    "duration": 4,
    "start_time": "2022-10-18T10:59:08.072Z"
   },
   {
    "duration": 49,
    "start_time": "2022-10-18T10:59:08.078Z"
   },
   {
    "duration": 27,
    "start_time": "2022-10-18T10:59:08.129Z"
   },
   {
    "duration": 213,
    "start_time": "2022-10-18T10:59:08.158Z"
   },
   {
    "duration": 5,
    "start_time": "2022-10-18T10:59:08.373Z"
   },
   {
    "duration": 258,
    "start_time": "2022-10-18T10:59:08.380Z"
   },
   {
    "duration": 4,
    "start_time": "2022-10-18T10:59:08.640Z"
   },
   {
    "duration": 20,
    "start_time": "2022-10-18T10:59:08.645Z"
   },
   {
    "duration": 34,
    "start_time": "2022-10-18T10:59:08.666Z"
   },
   {
    "duration": 22,
    "start_time": "2022-10-18T10:59:08.702Z"
   },
   {
    "duration": 20,
    "start_time": "2022-10-18T10:59:08.726Z"
   },
   {
    "duration": 232,
    "start_time": "2022-10-18T10:59:08.748Z"
   },
   {
    "duration": 19,
    "start_time": "2022-10-18T10:59:08.983Z"
   },
   {
    "duration": 283,
    "start_time": "2022-10-18T10:59:09.004Z"
   },
   {
    "duration": 35,
    "start_time": "2022-10-18T10:59:09.289Z"
   },
   {
    "duration": 14,
    "start_time": "2022-10-18T10:59:09.326Z"
   },
   {
    "duration": 17,
    "start_time": "2022-10-18T10:59:09.342Z"
   },
   {
    "duration": 146,
    "start_time": "2022-10-18T10:59:09.361Z"
   },
   {
    "duration": 146,
    "start_time": "2022-10-18T10:59:09.508Z"
   },
   {
    "duration": 144,
    "start_time": "2022-10-18T10:59:09.656Z"
   },
   {
    "duration": 234,
    "start_time": "2022-10-18T10:59:09.802Z"
   },
   {
    "duration": 21,
    "start_time": "2022-10-18T10:59:10.038Z"
   },
   {
    "duration": 27,
    "start_time": "2022-10-18T10:59:10.061Z"
   },
   {
    "duration": 22,
    "start_time": "2022-10-18T10:59:10.089Z"
   },
   {
    "duration": 20,
    "start_time": "2022-10-18T10:59:10.113Z"
   },
   {
    "duration": 22,
    "start_time": "2022-10-18T10:59:10.135Z"
   },
   {
    "duration": 18,
    "start_time": "2022-10-18T10:59:10.162Z"
   },
   {
    "duration": 22,
    "start_time": "2022-10-18T10:59:10.182Z"
   },
   {
    "duration": 9,
    "start_time": "2022-10-18T10:59:10.206Z"
   },
   {
    "duration": 616,
    "start_time": "2022-10-18T17:56:57.518Z"
   },
   {
    "duration": 10,
    "start_time": "2022-10-18T17:56:58.136Z"
   },
   {
    "duration": 18,
    "start_time": "2022-10-18T17:56:58.148Z"
   },
   {
    "duration": 5,
    "start_time": "2022-10-18T17:56:58.168Z"
   },
   {
    "duration": 10,
    "start_time": "2022-10-18T17:56:58.175Z"
   },
   {
    "duration": 34,
    "start_time": "2022-10-18T17:56:58.187Z"
   },
   {
    "duration": 16,
    "start_time": "2022-10-18T17:56:58.222Z"
   },
   {
    "duration": 21,
    "start_time": "2022-10-18T17:56:58.241Z"
   },
   {
    "duration": 5,
    "start_time": "2022-10-18T17:56:58.263Z"
   },
   {
    "duration": 6,
    "start_time": "2022-10-18T17:56:58.271Z"
   },
   {
    "duration": 33,
    "start_time": "2022-10-18T17:56:58.278Z"
   },
   {
    "duration": 12,
    "start_time": "2022-10-18T17:56:58.313Z"
   },
   {
    "duration": 4,
    "start_time": "2022-10-18T17:56:58.326Z"
   },
   {
    "duration": 24,
    "start_time": "2022-10-18T17:56:58.332Z"
   },
   {
    "duration": 5,
    "start_time": "2022-10-18T17:56:58.357Z"
   },
   {
    "duration": 9,
    "start_time": "2022-10-18T17:56:58.363Z"
   },
   {
    "duration": 45,
    "start_time": "2022-10-18T17:56:58.374Z"
   },
   {
    "duration": 13,
    "start_time": "2022-10-18T17:56:58.421Z"
   },
   {
    "duration": 9,
    "start_time": "2022-10-18T17:56:58.436Z"
   },
   {
    "duration": 11,
    "start_time": "2022-10-18T17:56:58.446Z"
   },
   {
    "duration": 23,
    "start_time": "2022-10-18T17:56:58.458Z"
   },
   {
    "duration": 7,
    "start_time": "2022-10-18T17:56:58.483Z"
   },
   {
    "duration": 6,
    "start_time": "2022-10-18T17:56:58.492Z"
   },
   {
    "duration": 20,
    "start_time": "2022-10-18T17:56:58.500Z"
   },
   {
    "duration": 19,
    "start_time": "2022-10-18T17:56:58.522Z"
   },
   {
    "duration": 7,
    "start_time": "2022-10-18T17:56:58.543Z"
   },
   {
    "duration": 8,
    "start_time": "2022-10-18T17:56:58.552Z"
   },
   {
    "duration": 17,
    "start_time": "2022-10-18T17:56:58.564Z"
   },
   {
    "duration": 41,
    "start_time": "2022-10-18T17:56:58.583Z"
   },
   {
    "duration": 10,
    "start_time": "2022-10-18T17:56:58.625Z"
   },
   {
    "duration": 6,
    "start_time": "2022-10-18T17:56:58.636Z"
   },
   {
    "duration": 16,
    "start_time": "2022-10-18T17:56:58.643Z"
   },
   {
    "duration": 24,
    "start_time": "2022-10-18T17:56:58.660Z"
   },
   {
    "duration": 5,
    "start_time": "2022-10-18T17:56:58.685Z"
   },
   {
    "duration": 8,
    "start_time": "2022-10-18T17:56:58.709Z"
   },
   {
    "duration": 4,
    "start_time": "2022-10-18T17:56:58.719Z"
   },
   {
    "duration": 552,
    "start_time": "2022-10-18T17:56:58.725Z"
   },
   {
    "duration": 8,
    "start_time": "2022-10-18T17:56:59.279Z"
   },
   {
    "duration": 440,
    "start_time": "2022-10-18T17:56:59.289Z"
   },
   {
    "duration": 7,
    "start_time": "2022-10-18T17:56:59.730Z"
   },
   {
    "duration": 926,
    "start_time": "2022-10-18T17:56:59.738Z"
   },
   {
    "duration": 8,
    "start_time": "2022-10-18T17:57:00.666Z"
   },
   {
    "duration": 9643,
    "start_time": "2022-10-18T17:57:00.675Z"
   },
   {
    "duration": 13,
    "start_time": "2022-10-18T17:57:10.320Z"
   },
   {
    "duration": 20,
    "start_time": "2022-10-18T17:57:10.334Z"
   },
   {
    "duration": 10,
    "start_time": "2022-10-18T17:57:10.356Z"
   },
   {
    "duration": 27,
    "start_time": "2022-10-18T17:57:10.368Z"
   },
   {
    "duration": 6,
    "start_time": "2022-10-18T17:57:10.410Z"
   },
   {
    "duration": 27,
    "start_time": "2022-10-18T17:57:10.418Z"
   },
   {
    "duration": 6,
    "start_time": "2022-10-18T17:57:10.447Z"
   },
   {
    "duration": 21,
    "start_time": "2022-10-18T17:57:10.455Z"
   },
   {
    "duration": 5,
    "start_time": "2022-10-18T17:57:10.478Z"
   },
   {
    "duration": 18,
    "start_time": "2022-10-18T17:57:10.509Z"
   },
   {
    "duration": 12,
    "start_time": "2022-10-18T17:57:10.529Z"
   },
   {
    "duration": 20,
    "start_time": "2022-10-18T17:57:10.543Z"
   },
   {
    "duration": 3,
    "start_time": "2022-10-18T17:57:10.565Z"
   },
   {
    "duration": 54,
    "start_time": "2022-10-18T17:57:10.570Z"
   },
   {
    "duration": 25,
    "start_time": "2022-10-18T17:57:10.626Z"
   },
   {
    "duration": 199,
    "start_time": "2022-10-18T17:57:10.653Z"
   },
   {
    "duration": 5,
    "start_time": "2022-10-18T17:57:10.853Z"
   },
   {
    "duration": 221,
    "start_time": "2022-10-18T17:57:10.859Z"
   },
   {
    "duration": 4,
    "start_time": "2022-10-18T17:57:11.081Z"
   },
   {
    "duration": 25,
    "start_time": "2022-10-18T17:57:11.087Z"
   },
   {
    "duration": 17,
    "start_time": "2022-10-18T17:57:11.114Z"
   },
   {
    "duration": 24,
    "start_time": "2022-10-18T17:57:11.132Z"
   },
   {
    "duration": 23,
    "start_time": "2022-10-18T17:57:11.158Z"
   },
   {
    "duration": 190,
    "start_time": "2022-10-18T17:57:11.183Z"
   },
   {
    "duration": 14,
    "start_time": "2022-10-18T17:57:11.374Z"
   },
   {
    "duration": 251,
    "start_time": "2022-10-18T17:57:11.390Z"
   },
   {
    "duration": 27,
    "start_time": "2022-10-18T17:57:11.643Z"
   },
   {
    "duration": 11,
    "start_time": "2022-10-18T17:57:11.672Z"
   },
   {
    "duration": 29,
    "start_time": "2022-10-18T17:57:11.684Z"
   },
   {
    "duration": 116,
    "start_time": "2022-10-18T17:57:11.714Z"
   },
   {
    "duration": 127,
    "start_time": "2022-10-18T17:57:11.832Z"
   },
   {
    "duration": 129,
    "start_time": "2022-10-18T17:57:11.961Z"
   },
   {
    "duration": 212,
    "start_time": "2022-10-18T17:57:12.091Z"
   },
   {
    "duration": 20,
    "start_time": "2022-10-18T17:57:12.305Z"
   },
   {
    "duration": 5,
    "start_time": "2022-10-18T17:57:12.327Z"
   },
   {
    "duration": 11,
    "start_time": "2022-10-18T17:57:12.334Z"
   },
   {
    "duration": 14,
    "start_time": "2022-10-18T17:57:12.347Z"
   },
   {
    "duration": 10,
    "start_time": "2022-10-18T17:57:12.363Z"
   },
   {
    "duration": 43,
    "start_time": "2022-10-18T17:57:12.378Z"
   },
   {
    "duration": 15,
    "start_time": "2022-10-18T17:57:12.423Z"
   },
   {
    "duration": 5,
    "start_time": "2022-10-18T17:57:12.439Z"
   },
   {
    "duration": 5,
    "start_time": "2022-10-18T18:34:08.818Z"
   },
   {
    "duration": 1675,
    "start_time": "2022-10-18T18:34:16.901Z"
   },
   {
    "duration": 29,
    "start_time": "2022-10-18T18:34:21.637Z"
   },
   {
    "duration": 7,
    "start_time": "2022-10-18T18:34:48.612Z"
   },
   {
    "duration": 9,
    "start_time": "2022-10-18T18:34:57.679Z"
   },
   {
    "duration": 14,
    "start_time": "2022-10-18T18:35:55.559Z"
   },
   {
    "duration": 13,
    "start_time": "2022-10-18T18:35:59.857Z"
   },
   {
    "duration": 10,
    "start_time": "2022-10-18T18:36:04.120Z"
   },
   {
    "duration": 11,
    "start_time": "2022-10-18T18:36:06.681Z"
   },
   {
    "duration": 15,
    "start_time": "2022-10-18T18:36:09.313Z"
   },
   {
    "duration": 13,
    "start_time": "2022-10-18T19:05:52.117Z"
   },
   {
    "duration": 5,
    "start_time": "2022-10-18T19:06:37.103Z"
   },
   {
    "duration": 13,
    "start_time": "2022-10-18T19:23:05.876Z"
   },
   {
    "duration": 23,
    "start_time": "2022-10-18T19:29:28.835Z"
   },
   {
    "duration": 1052,
    "start_time": "2022-10-19T09:21:12.920Z"
   },
   {
    "duration": 11,
    "start_time": "2022-10-19T09:21:13.974Z"
   },
   {
    "duration": 17,
    "start_time": "2022-10-19T09:21:13.987Z"
   },
   {
    "duration": 5,
    "start_time": "2022-10-19T09:21:14.005Z"
   },
   {
    "duration": 10,
    "start_time": "2022-10-19T09:21:14.012Z"
   },
   {
    "duration": 24,
    "start_time": "2022-10-19T09:21:14.024Z"
   },
   {
    "duration": 12,
    "start_time": "2022-10-19T09:21:14.049Z"
   },
   {
    "duration": 18,
    "start_time": "2022-10-19T09:21:14.062Z"
   },
   {
    "duration": 4,
    "start_time": "2022-10-19T09:21:14.081Z"
   },
   {
    "duration": 8,
    "start_time": "2022-10-19T09:21:14.087Z"
   },
   {
    "duration": 26,
    "start_time": "2022-10-19T09:21:14.096Z"
   },
   {
    "duration": 7,
    "start_time": "2022-10-19T09:21:14.123Z"
   },
   {
    "duration": 4,
    "start_time": "2022-10-19T09:21:14.131Z"
   },
   {
    "duration": 17,
    "start_time": "2022-10-19T09:21:14.138Z"
   },
   {
    "duration": 3,
    "start_time": "2022-10-19T09:21:14.157Z"
   },
   {
    "duration": 13,
    "start_time": "2022-10-19T09:21:14.162Z"
   },
   {
    "duration": 9,
    "start_time": "2022-10-19T09:21:14.177Z"
   },
   {
    "duration": 9,
    "start_time": "2022-10-19T09:21:14.187Z"
   },
   {
    "duration": 28,
    "start_time": "2022-10-19T09:21:14.197Z"
   },
   {
    "duration": 7,
    "start_time": "2022-10-19T09:21:14.226Z"
   },
   {
    "duration": 6,
    "start_time": "2022-10-19T09:21:14.235Z"
   },
   {
    "duration": 7,
    "start_time": "2022-10-19T09:21:14.242Z"
   },
   {
    "duration": 17,
    "start_time": "2022-10-19T09:21:14.250Z"
   },
   {
    "duration": 79,
    "start_time": "2022-10-19T09:21:14.269Z"
   },
   {
    "duration": 0,
    "start_time": "2022-10-19T09:21:14.350Z"
   },
   {
    "duration": 0,
    "start_time": "2022-10-19T09:21:14.352Z"
   },
   {
    "duration": 0,
    "start_time": "2022-10-19T09:21:14.352Z"
   },
   {
    "duration": 0,
    "start_time": "2022-10-19T09:21:14.353Z"
   },
   {
    "duration": 0,
    "start_time": "2022-10-19T09:21:14.354Z"
   },
   {
    "duration": 0,
    "start_time": "2022-10-19T09:21:14.355Z"
   },
   {
    "duration": 0,
    "start_time": "2022-10-19T09:21:14.356Z"
   },
   {
    "duration": 0,
    "start_time": "2022-10-19T09:21:14.357Z"
   },
   {
    "duration": 0,
    "start_time": "2022-10-19T09:21:14.358Z"
   },
   {
    "duration": 0,
    "start_time": "2022-10-19T09:21:14.359Z"
   },
   {
    "duration": 0,
    "start_time": "2022-10-19T09:21:14.360Z"
   },
   {
    "duration": 0,
    "start_time": "2022-10-19T09:21:14.361Z"
   },
   {
    "duration": 0,
    "start_time": "2022-10-19T09:21:14.362Z"
   },
   {
    "duration": 0,
    "start_time": "2022-10-19T09:21:14.363Z"
   },
   {
    "duration": 0,
    "start_time": "2022-10-19T09:21:14.364Z"
   },
   {
    "duration": 0,
    "start_time": "2022-10-19T09:21:14.365Z"
   },
   {
    "duration": 0,
    "start_time": "2022-10-19T09:21:14.366Z"
   },
   {
    "duration": 0,
    "start_time": "2022-10-19T09:21:14.366Z"
   },
   {
    "duration": 0,
    "start_time": "2022-10-19T09:21:14.367Z"
   },
   {
    "duration": 0,
    "start_time": "2022-10-19T09:21:14.368Z"
   },
   {
    "duration": 0,
    "start_time": "2022-10-19T09:21:14.369Z"
   },
   {
    "duration": 0,
    "start_time": "2022-10-19T09:21:14.370Z"
   },
   {
    "duration": 0,
    "start_time": "2022-10-19T09:21:14.370Z"
   },
   {
    "duration": 0,
    "start_time": "2022-10-19T09:21:14.371Z"
   },
   {
    "duration": 0,
    "start_time": "2022-10-19T09:21:14.372Z"
   },
   {
    "duration": 0,
    "start_time": "2022-10-19T09:21:14.373Z"
   },
   {
    "duration": 0,
    "start_time": "2022-10-19T09:21:14.374Z"
   },
   {
    "duration": 0,
    "start_time": "2022-10-19T09:21:14.375Z"
   },
   {
    "duration": 0,
    "start_time": "2022-10-19T09:21:14.375Z"
   },
   {
    "duration": 0,
    "start_time": "2022-10-19T09:21:14.376Z"
   },
   {
    "duration": 0,
    "start_time": "2022-10-19T09:21:14.378Z"
   },
   {
    "duration": 0,
    "start_time": "2022-10-19T09:21:14.378Z"
   },
   {
    "duration": 0,
    "start_time": "2022-10-19T09:21:14.379Z"
   },
   {
    "duration": 0,
    "start_time": "2022-10-19T09:21:14.380Z"
   },
   {
    "duration": 0,
    "start_time": "2022-10-19T09:21:14.422Z"
   },
   {
    "duration": 0,
    "start_time": "2022-10-19T09:21:14.423Z"
   },
   {
    "duration": 0,
    "start_time": "2022-10-19T09:21:14.424Z"
   },
   {
    "duration": 0,
    "start_time": "2022-10-19T09:21:14.424Z"
   },
   {
    "duration": 0,
    "start_time": "2022-10-19T09:21:14.425Z"
   },
   {
    "duration": 0,
    "start_time": "2022-10-19T09:21:14.426Z"
   },
   {
    "duration": 0,
    "start_time": "2022-10-19T09:21:14.427Z"
   },
   {
    "duration": 0,
    "start_time": "2022-10-19T09:21:14.428Z"
   },
   {
    "duration": 0,
    "start_time": "2022-10-19T09:21:14.429Z"
   },
   {
    "duration": 0,
    "start_time": "2022-10-19T09:21:14.430Z"
   },
   {
    "duration": 0,
    "start_time": "2022-10-19T09:21:14.431Z"
   },
   {
    "duration": 0,
    "start_time": "2022-10-19T09:21:14.432Z"
   },
   {
    "duration": 1,
    "start_time": "2022-10-19T09:21:14.432Z"
   },
   {
    "duration": 0,
    "start_time": "2022-10-19T09:21:14.433Z"
   },
   {
    "duration": 0,
    "start_time": "2022-10-19T09:21:14.434Z"
   },
   {
    "duration": 0,
    "start_time": "2022-10-19T09:21:14.435Z"
   },
   {
    "duration": 0,
    "start_time": "2022-10-19T09:21:14.436Z"
   },
   {
    "duration": 0,
    "start_time": "2022-10-19T09:21:14.437Z"
   },
   {
    "duration": 0,
    "start_time": "2022-10-19T09:21:14.438Z"
   },
   {
    "duration": 0,
    "start_time": "2022-10-19T09:21:14.439Z"
   },
   {
    "duration": 0,
    "start_time": "2022-10-19T09:21:14.440Z"
   },
   {
    "duration": 0,
    "start_time": "2022-10-19T09:21:14.441Z"
   },
   {
    "duration": 0,
    "start_time": "2022-10-19T09:21:14.443Z"
   },
   {
    "duration": 0,
    "start_time": "2022-10-19T09:21:14.444Z"
   },
   {
    "duration": 0,
    "start_time": "2022-10-19T09:21:14.445Z"
   },
   {
    "duration": 0,
    "start_time": "2022-10-19T09:21:14.446Z"
   },
   {
    "duration": 16,
    "start_time": "2022-10-19T09:23:19.087Z"
   },
   {
    "duration": 13,
    "start_time": "2022-10-19T09:23:21.277Z"
   },
   {
    "duration": 6,
    "start_time": "2022-10-19T09:23:49.978Z"
   },
   {
    "duration": 27,
    "start_time": "2022-10-19T09:23:49.986Z"
   },
   {
    "duration": 19,
    "start_time": "2022-10-19T09:23:50.015Z"
   },
   {
    "duration": 23,
    "start_time": "2022-10-19T09:23:50.036Z"
   },
   {
    "duration": 11,
    "start_time": "2022-10-19T09:23:50.061Z"
   },
   {
    "duration": 17,
    "start_time": "2022-10-19T09:23:50.073Z"
   },
   {
    "duration": 20,
    "start_time": "2022-10-19T09:23:50.092Z"
   },
   {
    "duration": 9,
    "start_time": "2022-10-19T09:23:50.113Z"
   },
   {
    "duration": 8,
    "start_time": "2022-10-19T09:23:50.124Z"
   },
   {
    "duration": 3,
    "start_time": "2022-10-19T09:23:50.134Z"
   },
   {
    "duration": 756,
    "start_time": "2022-10-19T09:23:50.139Z"
   },
   {
    "duration": 9,
    "start_time": "2022-10-19T09:23:50.897Z"
   },
   {
    "duration": 1236,
    "start_time": "2022-10-19T09:23:50.908Z"
   },
   {
    "duration": 0,
    "start_time": "2022-10-19T09:23:52.147Z"
   },
   {
    "duration": 0,
    "start_time": "2022-10-19T09:23:52.148Z"
   },
   {
    "duration": 0,
    "start_time": "2022-10-19T09:23:52.149Z"
   },
   {
    "duration": 0,
    "start_time": "2022-10-19T09:23:52.150Z"
   },
   {
    "duration": 0,
    "start_time": "2022-10-19T09:23:52.152Z"
   },
   {
    "duration": 0,
    "start_time": "2022-10-19T09:23:52.153Z"
   },
   {
    "duration": 0,
    "start_time": "2022-10-19T09:23:52.154Z"
   },
   {
    "duration": 0,
    "start_time": "2022-10-19T09:23:52.156Z"
   },
   {
    "duration": 0,
    "start_time": "2022-10-19T09:23:52.157Z"
   },
   {
    "duration": 0,
    "start_time": "2022-10-19T09:23:52.158Z"
   },
   {
    "duration": 0,
    "start_time": "2022-10-19T09:23:52.159Z"
   },
   {
    "duration": 0,
    "start_time": "2022-10-19T09:23:52.161Z"
   },
   {
    "duration": 1,
    "start_time": "2022-10-19T09:23:52.161Z"
   },
   {
    "duration": 0,
    "start_time": "2022-10-19T09:23:52.163Z"
   },
   {
    "duration": 0,
    "start_time": "2022-10-19T09:23:52.164Z"
   },
   {
    "duration": 0,
    "start_time": "2022-10-19T09:23:52.165Z"
   },
   {
    "duration": 0,
    "start_time": "2022-10-19T09:23:52.166Z"
   },
   {
    "duration": 0,
    "start_time": "2022-10-19T09:23:52.167Z"
   },
   {
    "duration": 0,
    "start_time": "2022-10-19T09:23:52.168Z"
   },
   {
    "duration": 0,
    "start_time": "2022-10-19T09:23:52.170Z"
   },
   {
    "duration": 0,
    "start_time": "2022-10-19T09:23:52.171Z"
   },
   {
    "duration": 0,
    "start_time": "2022-10-19T09:23:52.172Z"
   },
   {
    "duration": 0,
    "start_time": "2022-10-19T09:23:52.173Z"
   },
   {
    "duration": 0,
    "start_time": "2022-10-19T09:23:52.174Z"
   },
   {
    "duration": 0,
    "start_time": "2022-10-19T09:23:52.175Z"
   },
   {
    "duration": 0,
    "start_time": "2022-10-19T09:23:52.176Z"
   },
   {
    "duration": 0,
    "start_time": "2022-10-19T09:23:52.177Z"
   },
   {
    "duration": 0,
    "start_time": "2022-10-19T09:23:52.178Z"
   },
   {
    "duration": 0,
    "start_time": "2022-10-19T09:23:52.179Z"
   },
   {
    "duration": 0,
    "start_time": "2022-10-19T09:23:52.180Z"
   },
   {
    "duration": 0,
    "start_time": "2022-10-19T09:23:52.181Z"
   },
   {
    "duration": 0,
    "start_time": "2022-10-19T09:23:52.182Z"
   },
   {
    "duration": 0,
    "start_time": "2022-10-19T09:23:52.221Z"
   },
   {
    "duration": 0,
    "start_time": "2022-10-19T09:23:52.223Z"
   },
   {
    "duration": 0,
    "start_time": "2022-10-19T09:23:52.224Z"
   },
   {
    "duration": 0,
    "start_time": "2022-10-19T09:23:52.225Z"
   },
   {
    "duration": 0,
    "start_time": "2022-10-19T09:23:52.226Z"
   },
   {
    "duration": 0,
    "start_time": "2022-10-19T09:23:52.227Z"
   },
   {
    "duration": 0,
    "start_time": "2022-10-19T09:23:52.228Z"
   },
   {
    "duration": 0,
    "start_time": "2022-10-19T09:23:52.229Z"
   },
   {
    "duration": 0,
    "start_time": "2022-10-19T09:23:52.230Z"
   },
   {
    "duration": 0,
    "start_time": "2022-10-19T09:23:52.231Z"
   },
   {
    "duration": 0,
    "start_time": "2022-10-19T09:23:52.232Z"
   },
   {
    "duration": 0,
    "start_time": "2022-10-19T09:23:52.234Z"
   },
   {
    "duration": 0,
    "start_time": "2022-10-19T09:23:52.234Z"
   },
   {
    "duration": 0,
    "start_time": "2022-10-19T09:23:52.235Z"
   },
   {
    "duration": 500,
    "start_time": "2022-10-19T09:24:26.871Z"
   },
   {
    "duration": 11,
    "start_time": "2022-10-19T09:24:27.373Z"
   },
   {
    "duration": 18,
    "start_time": "2022-10-19T09:24:27.386Z"
   },
   {
    "duration": 10,
    "start_time": "2022-10-19T09:24:27.407Z"
   },
   {
    "duration": 20,
    "start_time": "2022-10-19T09:24:27.419Z"
   },
   {
    "duration": 42,
    "start_time": "2022-10-19T09:24:27.441Z"
   },
   {
    "duration": 14,
    "start_time": "2022-10-19T09:24:27.484Z"
   },
   {
    "duration": 26,
    "start_time": "2022-10-19T09:24:27.499Z"
   },
   {
    "duration": 5,
    "start_time": "2022-10-19T09:24:27.527Z"
   },
   {
    "duration": 8,
    "start_time": "2022-10-19T09:24:27.534Z"
   },
   {
    "duration": 10,
    "start_time": "2022-10-19T09:24:27.543Z"
   },
   {
    "duration": 28,
    "start_time": "2022-10-19T09:24:27.554Z"
   },
   {
    "duration": 21,
    "start_time": "2022-10-19T09:24:27.583Z"
   },
   {
    "duration": 31,
    "start_time": "2022-10-19T09:24:27.605Z"
   },
   {
    "duration": 8,
    "start_time": "2022-10-19T09:24:27.637Z"
   },
   {
    "duration": 27,
    "start_time": "2022-10-19T09:24:27.647Z"
   },
   {
    "duration": 39,
    "start_time": "2022-10-19T09:24:27.676Z"
   },
   {
    "duration": 61,
    "start_time": "2022-10-19T09:24:27.716Z"
   },
   {
    "duration": 40,
    "start_time": "2022-10-19T09:24:27.778Z"
   },
   {
    "duration": 30,
    "start_time": "2022-10-19T09:24:27.820Z"
   },
   {
    "duration": 57,
    "start_time": "2022-10-19T09:24:27.851Z"
   },
   {
    "duration": 31,
    "start_time": "2022-10-19T09:24:27.909Z"
   },
   {
    "duration": 38,
    "start_time": "2022-10-19T09:24:27.941Z"
   },
   {
    "duration": 35,
    "start_time": "2022-10-19T09:24:27.981Z"
   },
   {
    "duration": 20,
    "start_time": "2022-10-19T09:24:28.017Z"
   },
   {
    "duration": 12,
    "start_time": "2022-10-19T09:24:28.038Z"
   },
   {
    "duration": 33,
    "start_time": "2022-10-19T09:24:28.051Z"
   },
   {
    "duration": 17,
    "start_time": "2022-10-19T09:24:28.087Z"
   },
   {
    "duration": 17,
    "start_time": "2022-10-19T09:24:28.105Z"
   },
   {
    "duration": 25,
    "start_time": "2022-10-19T09:24:28.123Z"
   },
   {
    "duration": 22,
    "start_time": "2022-10-19T09:24:28.149Z"
   },
   {
    "duration": 15,
    "start_time": "2022-10-19T09:24:28.173Z"
   },
   {
    "duration": 8,
    "start_time": "2022-10-19T09:24:28.189Z"
   },
   {
    "duration": 14,
    "start_time": "2022-10-19T09:24:28.198Z"
   },
   {
    "duration": 6,
    "start_time": "2022-10-19T09:24:28.214Z"
   },
   {
    "duration": 530,
    "start_time": "2022-10-19T09:24:28.222Z"
   },
   {
    "duration": 9,
    "start_time": "2022-10-19T09:24:28.754Z"
   },
   {
    "duration": 1308,
    "start_time": "2022-10-19T09:24:28.764Z"
   },
   {
    "duration": 0,
    "start_time": "2022-10-19T09:24:30.074Z"
   },
   {
    "duration": 0,
    "start_time": "2022-10-19T09:24:30.075Z"
   },
   {
    "duration": 0,
    "start_time": "2022-10-19T09:24:30.077Z"
   },
   {
    "duration": 0,
    "start_time": "2022-10-19T09:24:30.078Z"
   },
   {
    "duration": 0,
    "start_time": "2022-10-19T09:24:30.080Z"
   },
   {
    "duration": 0,
    "start_time": "2022-10-19T09:24:30.081Z"
   },
   {
    "duration": 0,
    "start_time": "2022-10-19T09:24:30.083Z"
   },
   {
    "duration": 1,
    "start_time": "2022-10-19T09:24:30.084Z"
   },
   {
    "duration": 0,
    "start_time": "2022-10-19T09:24:30.086Z"
   },
   {
    "duration": 0,
    "start_time": "2022-10-19T09:24:30.087Z"
   },
   {
    "duration": 0,
    "start_time": "2022-10-19T09:24:30.088Z"
   },
   {
    "duration": 0,
    "start_time": "2022-10-19T09:24:30.089Z"
   },
   {
    "duration": 0,
    "start_time": "2022-10-19T09:24:30.090Z"
   },
   {
    "duration": 0,
    "start_time": "2022-10-19T09:24:30.091Z"
   },
   {
    "duration": 0,
    "start_time": "2022-10-19T09:24:30.092Z"
   },
   {
    "duration": 0,
    "start_time": "2022-10-19T09:24:30.093Z"
   },
   {
    "duration": 0,
    "start_time": "2022-10-19T09:24:30.094Z"
   },
   {
    "duration": 0,
    "start_time": "2022-10-19T09:24:30.096Z"
   },
   {
    "duration": 0,
    "start_time": "2022-10-19T09:24:30.096Z"
   },
   {
    "duration": 0,
    "start_time": "2022-10-19T09:24:30.097Z"
   },
   {
    "duration": 0,
    "start_time": "2022-10-19T09:24:30.098Z"
   },
   {
    "duration": 0,
    "start_time": "2022-10-19T09:24:30.099Z"
   },
   {
    "duration": 0,
    "start_time": "2022-10-19T09:24:30.100Z"
   },
   {
    "duration": 0,
    "start_time": "2022-10-19T09:24:30.101Z"
   },
   {
    "duration": 0,
    "start_time": "2022-10-19T09:24:30.102Z"
   },
   {
    "duration": 0,
    "start_time": "2022-10-19T09:24:30.103Z"
   },
   {
    "duration": 0,
    "start_time": "2022-10-19T09:24:30.105Z"
   },
   {
    "duration": 0,
    "start_time": "2022-10-19T09:24:30.106Z"
   },
   {
    "duration": 0,
    "start_time": "2022-10-19T09:24:30.106Z"
   },
   {
    "duration": 0,
    "start_time": "2022-10-19T09:24:30.107Z"
   },
   {
    "duration": 0,
    "start_time": "2022-10-19T09:24:30.108Z"
   },
   {
    "duration": 0,
    "start_time": "2022-10-19T09:24:30.110Z"
   },
   {
    "duration": 0,
    "start_time": "2022-10-19T09:24:30.111Z"
   },
   {
    "duration": 0,
    "start_time": "2022-10-19T09:24:30.112Z"
   },
   {
    "duration": 0,
    "start_time": "2022-10-19T09:24:30.113Z"
   },
   {
    "duration": 0,
    "start_time": "2022-10-19T09:24:30.114Z"
   },
   {
    "duration": 0,
    "start_time": "2022-10-19T09:24:30.121Z"
   },
   {
    "duration": 0,
    "start_time": "2022-10-19T09:24:30.122Z"
   },
   {
    "duration": 0,
    "start_time": "2022-10-19T09:24:30.123Z"
   },
   {
    "duration": 0,
    "start_time": "2022-10-19T09:24:30.124Z"
   },
   {
    "duration": 0,
    "start_time": "2022-10-19T09:24:30.126Z"
   },
   {
    "duration": 0,
    "start_time": "2022-10-19T09:24:30.127Z"
   },
   {
    "duration": 0,
    "start_time": "2022-10-19T09:24:30.129Z"
   },
   {
    "duration": 0,
    "start_time": "2022-10-19T09:24:30.130Z"
   },
   {
    "duration": 0,
    "start_time": "2022-10-19T09:24:30.131Z"
   },
   {
    "duration": 0,
    "start_time": "2022-10-19T09:24:30.132Z"
   },
   {
    "duration": 1491,
    "start_time": "2022-10-19T09:25:57.989Z"
   },
   {
    "duration": 113,
    "start_time": "2022-10-19T09:26:02.553Z"
   },
   {
    "duration": 10,
    "start_time": "2022-10-19T09:26:02.668Z"
   },
   {
    "duration": 19,
    "start_time": "2022-10-19T09:26:02.680Z"
   },
   {
    "duration": 8,
    "start_time": "2022-10-19T09:26:02.701Z"
   },
   {
    "duration": 19,
    "start_time": "2022-10-19T09:26:02.710Z"
   },
   {
    "duration": 26,
    "start_time": "2022-10-19T09:26:02.731Z"
   },
   {
    "duration": 13,
    "start_time": "2022-10-19T09:26:02.758Z"
   },
   {
    "duration": 24,
    "start_time": "2022-10-19T09:26:02.772Z"
   },
   {
    "duration": 5,
    "start_time": "2022-10-19T09:26:02.797Z"
   },
   {
    "duration": 23,
    "start_time": "2022-10-19T09:26:02.805Z"
   },
   {
    "duration": 9,
    "start_time": "2022-10-19T09:26:02.831Z"
   },
   {
    "duration": 17,
    "start_time": "2022-10-19T09:26:02.843Z"
   },
   {
    "duration": 6,
    "start_time": "2022-10-19T09:26:02.862Z"
   },
   {
    "duration": 31,
    "start_time": "2022-10-19T09:26:02.869Z"
   },
   {
    "duration": 20,
    "start_time": "2022-10-19T09:26:02.902Z"
   },
   {
    "duration": 14,
    "start_time": "2022-10-19T09:26:02.923Z"
   },
   {
    "duration": 13,
    "start_time": "2022-10-19T09:26:02.939Z"
   },
   {
    "duration": 14,
    "start_time": "2022-10-19T09:26:02.954Z"
   },
   {
    "duration": 10,
    "start_time": "2022-10-19T09:26:02.970Z"
   },
   {
    "duration": 11,
    "start_time": "2022-10-19T09:26:02.981Z"
   },
   {
    "duration": 17,
    "start_time": "2022-10-19T09:26:02.993Z"
   },
   {
    "duration": 9,
    "start_time": "2022-10-19T09:26:03.012Z"
   },
   {
    "duration": 22,
    "start_time": "2022-10-19T09:26:03.022Z"
   },
   {
    "duration": 14,
    "start_time": "2022-10-19T09:26:03.046Z"
   },
   {
    "duration": 7,
    "start_time": "2022-10-19T09:26:03.061Z"
   },
   {
    "duration": 12,
    "start_time": "2022-10-19T09:26:03.069Z"
   },
   {
    "duration": 25,
    "start_time": "2022-10-19T09:26:03.082Z"
   },
   {
    "duration": 29,
    "start_time": "2022-10-19T09:26:03.110Z"
   },
   {
    "duration": 9,
    "start_time": "2022-10-19T09:26:03.140Z"
   },
   {
    "duration": 10,
    "start_time": "2022-10-19T09:26:03.151Z"
   },
   {
    "duration": 9,
    "start_time": "2022-10-19T09:26:09.144Z"
   },
   {
    "duration": 14,
    "start_time": "2022-10-19T09:26:11.635Z"
   },
   {
    "duration": 1265,
    "start_time": "2022-10-19T09:26:14.536Z"
   },
   {
    "duration": 0,
    "start_time": "2022-10-19T09:26:15.804Z"
   },
   {
    "duration": 0,
    "start_time": "2022-10-19T09:26:15.807Z"
   },
   {
    "duration": 0,
    "start_time": "2022-10-19T09:26:15.808Z"
   },
   {
    "duration": 0,
    "start_time": "2022-10-19T09:26:15.809Z"
   },
   {
    "duration": 0,
    "start_time": "2022-10-19T09:26:15.810Z"
   },
   {
    "duration": 0,
    "start_time": "2022-10-19T09:26:15.812Z"
   },
   {
    "duration": 0,
    "start_time": "2022-10-19T09:26:15.813Z"
   },
   {
    "duration": 0,
    "start_time": "2022-10-19T09:26:15.814Z"
   },
   {
    "duration": 0,
    "start_time": "2022-10-19T09:26:15.816Z"
   },
   {
    "duration": 0,
    "start_time": "2022-10-19T09:26:15.817Z"
   },
   {
    "duration": 0,
    "start_time": "2022-10-19T09:26:15.818Z"
   },
   {
    "duration": 1,
    "start_time": "2022-10-19T09:26:15.819Z"
   },
   {
    "duration": 0,
    "start_time": "2022-10-19T09:26:15.821Z"
   },
   {
    "duration": 0,
    "start_time": "2022-10-19T09:26:15.822Z"
   },
   {
    "duration": 0,
    "start_time": "2022-10-19T09:26:15.823Z"
   },
   {
    "duration": 0,
    "start_time": "2022-10-19T09:26:15.824Z"
   },
   {
    "duration": 0,
    "start_time": "2022-10-19T09:26:15.825Z"
   },
   {
    "duration": 0,
    "start_time": "2022-10-19T09:26:15.826Z"
   },
   {
    "duration": 0,
    "start_time": "2022-10-19T09:26:15.827Z"
   },
   {
    "duration": 0,
    "start_time": "2022-10-19T09:26:15.828Z"
   },
   {
    "duration": 0,
    "start_time": "2022-10-19T09:26:15.829Z"
   },
   {
    "duration": 0,
    "start_time": "2022-10-19T09:26:15.830Z"
   },
   {
    "duration": 0,
    "start_time": "2022-10-19T09:26:15.831Z"
   },
   {
    "duration": 0,
    "start_time": "2022-10-19T09:26:15.832Z"
   },
   {
    "duration": 0,
    "start_time": "2022-10-19T09:26:15.833Z"
   },
   {
    "duration": 0,
    "start_time": "2022-10-19T09:26:15.833Z"
   },
   {
    "duration": 0,
    "start_time": "2022-10-19T09:26:15.835Z"
   },
   {
    "duration": 0,
    "start_time": "2022-10-19T09:26:15.836Z"
   },
   {
    "duration": 0,
    "start_time": "2022-10-19T09:26:15.837Z"
   },
   {
    "duration": 0,
    "start_time": "2022-10-19T09:26:15.838Z"
   },
   {
    "duration": 0,
    "start_time": "2022-10-19T09:26:15.839Z"
   },
   {
    "duration": 0,
    "start_time": "2022-10-19T09:26:15.840Z"
   },
   {
    "duration": 0,
    "start_time": "2022-10-19T09:26:15.841Z"
   },
   {
    "duration": 0,
    "start_time": "2022-10-19T09:26:15.841Z"
   },
   {
    "duration": 0,
    "start_time": "2022-10-19T09:26:15.842Z"
   },
   {
    "duration": 0,
    "start_time": "2022-10-19T09:26:15.843Z"
   },
   {
    "duration": 0,
    "start_time": "2022-10-19T09:26:15.844Z"
   },
   {
    "duration": 0,
    "start_time": "2022-10-19T09:26:15.846Z"
   },
   {
    "duration": 0,
    "start_time": "2022-10-19T09:26:15.847Z"
   },
   {
    "duration": 0,
    "start_time": "2022-10-19T09:26:15.848Z"
   },
   {
    "duration": 0,
    "start_time": "2022-10-19T09:26:15.849Z"
   },
   {
    "duration": 0,
    "start_time": "2022-10-19T09:26:15.850Z"
   },
   {
    "duration": 0,
    "start_time": "2022-10-19T09:26:15.851Z"
   },
   {
    "duration": 0,
    "start_time": "2022-10-19T09:26:15.852Z"
   },
   {
    "duration": 0,
    "start_time": "2022-10-19T09:26:15.853Z"
   },
   {
    "duration": 0,
    "start_time": "2022-10-19T09:26:15.854Z"
   },
   {
    "duration": 0,
    "start_time": "2022-10-19T09:26:15.855Z"
   },
   {
    "duration": 0,
    "start_time": "2022-10-19T09:26:15.856Z"
   },
   {
    "duration": 0,
    "start_time": "2022-10-19T09:26:15.857Z"
   },
   {
    "duration": 0,
    "start_time": "2022-10-19T09:26:15.858Z"
   },
   {
    "duration": 0,
    "start_time": "2022-10-19T09:26:15.859Z"
   },
   {
    "duration": 0,
    "start_time": "2022-10-19T09:26:15.860Z"
   },
   {
    "duration": 115,
    "start_time": "2022-10-19T09:26:51.680Z"
   },
   {
    "duration": 13,
    "start_time": "2022-10-19T09:26:51.797Z"
   },
   {
    "duration": 20,
    "start_time": "2022-10-19T09:26:51.813Z"
   },
   {
    "duration": 6,
    "start_time": "2022-10-19T09:26:51.835Z"
   },
   {
    "duration": 18,
    "start_time": "2022-10-19T09:26:51.843Z"
   },
   {
    "duration": 24,
    "start_time": "2022-10-19T09:26:51.862Z"
   },
   {
    "duration": 35,
    "start_time": "2022-10-19T09:26:51.887Z"
   },
   {
    "duration": 20,
    "start_time": "2022-10-19T09:26:51.924Z"
   },
   {
    "duration": 4,
    "start_time": "2022-10-19T09:26:51.946Z"
   },
   {
    "duration": 25,
    "start_time": "2022-10-19T09:26:51.953Z"
   },
   {
    "duration": 12,
    "start_time": "2022-10-19T09:26:51.980Z"
   },
   {
    "duration": 24,
    "start_time": "2022-10-19T09:26:51.993Z"
   },
   {
    "duration": 7,
    "start_time": "2022-10-19T09:26:52.021Z"
   },
   {
    "duration": 24,
    "start_time": "2022-10-19T09:26:52.029Z"
   },
   {
    "duration": 5,
    "start_time": "2022-10-19T09:26:52.054Z"
   },
   {
    "duration": 21,
    "start_time": "2022-10-19T09:26:52.060Z"
   },
   {
    "duration": 10,
    "start_time": "2022-10-19T09:26:52.082Z"
   },
   {
    "duration": 8,
    "start_time": "2022-10-19T09:26:52.093Z"
   },
   {
    "duration": 6,
    "start_time": "2022-10-19T09:26:52.122Z"
   },
   {
    "duration": 14,
    "start_time": "2022-10-19T09:26:52.129Z"
   },
   {
    "duration": 7,
    "start_time": "2022-10-19T09:26:52.145Z"
   },
   {
    "duration": 14,
    "start_time": "2022-10-19T09:26:52.154Z"
   },
   {
    "duration": 22,
    "start_time": "2022-10-19T09:26:52.169Z"
   },
   {
    "duration": 30,
    "start_time": "2022-10-19T09:26:52.192Z"
   },
   {
    "duration": 9,
    "start_time": "2022-10-19T09:26:52.224Z"
   },
   {
    "duration": 8,
    "start_time": "2022-10-19T09:26:52.235Z"
   },
   {
    "duration": 23,
    "start_time": "2022-10-19T09:26:52.245Z"
   },
   {
    "duration": 16,
    "start_time": "2022-10-19T09:26:52.272Z"
   },
   {
    "duration": 35,
    "start_time": "2022-10-19T09:26:52.289Z"
   },
   {
    "duration": 4,
    "start_time": "2022-10-19T09:26:52.325Z"
   },
   {
    "duration": 14,
    "start_time": "2022-10-19T09:26:52.331Z"
   },
   {
    "duration": 24,
    "start_time": "2022-10-19T09:26:52.347Z"
   },
   {
    "duration": 15,
    "start_time": "2022-10-19T09:26:52.373Z"
   },
   {
    "duration": 32,
    "start_time": "2022-10-19T09:26:52.390Z"
   },
   {
    "duration": 11,
    "start_time": "2022-10-19T09:26:52.424Z"
   },
   {
    "duration": 15,
    "start_time": "2022-10-19T09:26:52.436Z"
   },
   {
    "duration": 382,
    "start_time": "2022-10-19T09:26:52.452Z"
   },
   {
    "duration": 9,
    "start_time": "2022-10-19T09:26:52.836Z"
   },
   {
    "duration": 404,
    "start_time": "2022-10-19T09:26:52.847Z"
   },
   {
    "duration": 6,
    "start_time": "2022-10-19T09:26:53.253Z"
   },
   {
    "duration": 983,
    "start_time": "2022-10-19T09:26:53.261Z"
   },
   {
    "duration": 10,
    "start_time": "2022-10-19T09:26:54.245Z"
   },
   {
    "duration": 10762,
    "start_time": "2022-10-19T09:26:54.257Z"
   },
   {
    "duration": 13,
    "start_time": "2022-10-19T09:27:05.021Z"
   },
   {
    "duration": 37,
    "start_time": "2022-10-19T09:27:05.036Z"
   },
   {
    "duration": 17,
    "start_time": "2022-10-19T09:27:05.074Z"
   },
   {
    "duration": 33,
    "start_time": "2022-10-19T09:27:05.093Z"
   },
   {
    "duration": 21,
    "start_time": "2022-10-19T09:27:05.128Z"
   },
   {
    "duration": 25,
    "start_time": "2022-10-19T09:27:05.151Z"
   },
   {
    "duration": 20,
    "start_time": "2022-10-19T09:27:05.178Z"
   },
   {
    "duration": 29,
    "start_time": "2022-10-19T09:27:05.199Z"
   },
   {
    "duration": 12,
    "start_time": "2022-10-19T09:27:05.230Z"
   },
   {
    "duration": 19,
    "start_time": "2022-10-19T09:27:05.244Z"
   },
   {
    "duration": 15,
    "start_time": "2022-10-19T09:27:05.265Z"
   },
   {
    "duration": 25,
    "start_time": "2022-10-19T09:27:05.282Z"
   },
   {
    "duration": 12,
    "start_time": "2022-10-19T09:27:05.308Z"
   },
   {
    "duration": 31,
    "start_time": "2022-10-19T09:27:05.321Z"
   },
   {
    "duration": 20,
    "start_time": "2022-10-19T09:27:05.354Z"
   },
   {
    "duration": 150,
    "start_time": "2022-10-19T09:27:05.376Z"
   },
   {
    "duration": 4,
    "start_time": "2022-10-19T09:27:05.528Z"
   },
   {
    "duration": 167,
    "start_time": "2022-10-19T09:27:05.534Z"
   },
   {
    "duration": 3,
    "start_time": "2022-10-19T09:27:05.702Z"
   },
   {
    "duration": 21,
    "start_time": "2022-10-19T09:27:05.707Z"
   },
   {
    "duration": 15,
    "start_time": "2022-10-19T09:27:05.730Z"
   },
   {
    "duration": 24,
    "start_time": "2022-10-19T09:27:05.747Z"
   },
   {
    "duration": 19,
    "start_time": "2022-10-19T09:27:05.773Z"
   },
   {
    "duration": 186,
    "start_time": "2022-10-19T09:27:05.794Z"
   },
   {
    "duration": 22,
    "start_time": "2022-10-19T09:27:05.981Z"
   },
   {
    "duration": 280,
    "start_time": "2022-10-19T09:27:06.004Z"
   },
   {
    "duration": 25,
    "start_time": "2022-10-19T09:27:06.286Z"
   },
   {
    "duration": 10,
    "start_time": "2022-10-19T09:27:06.322Z"
   },
   {
    "duration": 8,
    "start_time": "2022-10-19T09:27:06.334Z"
   },
   {
    "duration": 129,
    "start_time": "2022-10-19T09:27:06.343Z"
   },
   {
    "duration": 117,
    "start_time": "2022-10-19T09:27:06.473Z"
   },
   {
    "duration": 121,
    "start_time": "2022-10-19T09:27:06.592Z"
   },
   {
    "duration": 218,
    "start_time": "2022-10-19T09:27:06.714Z"
   },
   {
    "duration": 17,
    "start_time": "2022-10-19T09:27:06.933Z"
   },
   {
    "duration": 5,
    "start_time": "2022-10-19T09:27:06.952Z"
   },
   {
    "duration": 18,
    "start_time": "2022-10-19T09:27:06.959Z"
   },
   {
    "duration": 24,
    "start_time": "2022-10-19T09:27:06.979Z"
   },
   {
    "duration": 21,
    "start_time": "2022-10-19T09:27:07.005Z"
   },
   {
    "duration": 23,
    "start_time": "2022-10-19T09:27:07.033Z"
   },
   {
    "duration": 20,
    "start_time": "2022-10-19T09:27:07.058Z"
   },
   {
    "duration": 7,
    "start_time": "2022-10-19T09:27:07.080Z"
   },
   {
    "duration": 7,
    "start_time": "2022-10-19T09:30:20.295Z"
   },
   {
    "duration": 4,
    "start_time": "2022-10-19T09:30:37.599Z"
   },
   {
    "duration": 114,
    "start_time": "2022-10-19T09:30:50.301Z"
   },
   {
    "duration": 9,
    "start_time": "2022-10-19T09:30:50.416Z"
   },
   {
    "duration": 19,
    "start_time": "2022-10-19T09:30:50.427Z"
   },
   {
    "duration": 27,
    "start_time": "2022-10-19T09:30:50.448Z"
   },
   {
    "duration": 20,
    "start_time": "2022-10-19T09:30:50.477Z"
   },
   {
    "duration": 31,
    "start_time": "2022-10-19T09:30:50.498Z"
   },
   {
    "duration": 16,
    "start_time": "2022-10-19T09:30:50.531Z"
   },
   {
    "duration": 20,
    "start_time": "2022-10-19T09:30:50.549Z"
   },
   {
    "duration": 7,
    "start_time": "2022-10-19T09:30:50.571Z"
   },
   {
    "duration": 17,
    "start_time": "2022-10-19T09:30:50.581Z"
   },
   {
    "duration": 25,
    "start_time": "2022-10-19T09:30:50.600Z"
   },
   {
    "duration": 35,
    "start_time": "2022-10-19T09:30:50.627Z"
   },
   {
    "duration": 13,
    "start_time": "2022-10-19T09:30:50.663Z"
   },
   {
    "duration": 29,
    "start_time": "2022-10-19T09:30:50.677Z"
   },
   {
    "duration": 6,
    "start_time": "2022-10-19T09:30:50.708Z"
   },
   {
    "duration": 42,
    "start_time": "2022-10-19T09:30:50.716Z"
   },
   {
    "duration": 14,
    "start_time": "2022-10-19T09:30:50.760Z"
   },
   {
    "duration": 22,
    "start_time": "2022-10-19T09:30:50.776Z"
   },
   {
    "duration": 5,
    "start_time": "2022-10-19T09:31:00.426Z"
   },
   {
    "duration": 6,
    "start_time": "2022-10-19T09:32:41.675Z"
   },
   {
    "duration": 4,
    "start_time": "2022-10-19T09:59:37.260Z"
   },
   {
    "duration": 17,
    "start_time": "2022-10-19T10:02:10.536Z"
   },
   {
    "duration": 12,
    "start_time": "2022-10-19T10:05:12.645Z"
   },
   {
    "duration": 20,
    "start_time": "2022-10-19T10:05:21.334Z"
   },
   {
    "duration": 20,
    "start_time": "2022-10-19T10:05:39.880Z"
   },
   {
    "duration": 18,
    "start_time": "2022-10-19T10:05:50.301Z"
   },
   {
    "duration": 18,
    "start_time": "2022-10-19T10:06:05.175Z"
   },
   {
    "duration": 26,
    "start_time": "2022-10-19T10:08:16.851Z"
   },
   {
    "duration": 16,
    "start_time": "2022-10-19T10:16:42.689Z"
   },
   {
    "duration": 16,
    "start_time": "2022-10-19T10:17:20.247Z"
   },
   {
    "duration": 120,
    "start_time": "2022-10-19T10:17:37.548Z"
   },
   {
    "duration": 9,
    "start_time": "2022-10-19T10:17:37.670Z"
   },
   {
    "duration": 16,
    "start_time": "2022-10-19T10:17:37.681Z"
   },
   {
    "duration": 4,
    "start_time": "2022-10-19T10:17:37.699Z"
   },
   {
    "duration": 11,
    "start_time": "2022-10-19T10:17:37.705Z"
   },
   {
    "duration": 24,
    "start_time": "2022-10-19T10:17:37.717Z"
   },
   {
    "duration": 12,
    "start_time": "2022-10-19T10:17:37.743Z"
   },
   {
    "duration": 16,
    "start_time": "2022-10-19T10:17:37.757Z"
   },
   {
    "duration": 4,
    "start_time": "2022-10-19T10:17:37.774Z"
   },
   {
    "duration": 24,
    "start_time": "2022-10-19T10:17:37.780Z"
   },
   {
    "duration": 19,
    "start_time": "2022-10-19T10:17:37.806Z"
   },
   {
    "duration": 8,
    "start_time": "2022-10-19T10:17:37.826Z"
   },
   {
    "duration": 4,
    "start_time": "2022-10-19T10:17:37.836Z"
   },
   {
    "duration": 28,
    "start_time": "2022-10-19T10:17:37.842Z"
   },
   {
    "duration": 5,
    "start_time": "2022-10-19T10:17:37.872Z"
   },
   {
    "duration": 24,
    "start_time": "2022-10-19T10:17:37.879Z"
   },
   {
    "duration": 4,
    "start_time": "2022-10-19T10:17:37.922Z"
   },
   {
    "duration": 12,
    "start_time": "2022-10-19T10:17:37.928Z"
   },
   {
    "duration": 8,
    "start_time": "2022-10-19T10:17:37.941Z"
   },
   {
    "duration": 12,
    "start_time": "2022-10-19T10:17:37.951Z"
   },
   {
    "duration": 27,
    "start_time": "2022-10-19T10:17:37.965Z"
   },
   {
    "duration": 6,
    "start_time": "2022-10-19T10:17:37.994Z"
   },
   {
    "duration": 25,
    "start_time": "2022-10-19T10:17:38.002Z"
   },
   {
    "duration": 19,
    "start_time": "2022-10-19T10:17:38.028Z"
   },
   {
    "duration": 7,
    "start_time": "2022-10-19T10:17:38.048Z"
   },
   {
    "duration": 16,
    "start_time": "2022-10-19T10:17:38.056Z"
   },
   {
    "duration": 17,
    "start_time": "2022-10-19T10:17:38.073Z"
   },
   {
    "duration": 16,
    "start_time": "2022-10-19T10:17:38.093Z"
   },
   {
    "duration": 11,
    "start_time": "2022-10-19T10:17:38.111Z"
   },
   {
    "duration": 6,
    "start_time": "2022-10-19T10:17:38.124Z"
   },
   {
    "duration": 16,
    "start_time": "2022-10-19T10:17:38.132Z"
   },
   {
    "duration": 15,
    "start_time": "2022-10-19T10:17:38.149Z"
   },
   {
    "duration": 5,
    "start_time": "2022-10-19T10:17:38.166Z"
   },
   {
    "duration": 359,
    "start_time": "2022-10-19T10:17:38.173Z"
   },
   {
    "duration": 7,
    "start_time": "2022-10-19T10:17:38.534Z"
   },
   {
    "duration": 391,
    "start_time": "2022-10-19T10:17:38.543Z"
   },
   {
    "duration": 6,
    "start_time": "2022-10-19T10:17:38.936Z"
   },
   {
    "duration": 959,
    "start_time": "2022-10-19T10:17:38.944Z"
   },
   {
    "duration": 9,
    "start_time": "2022-10-19T10:17:39.905Z"
   },
   {
    "duration": 10357,
    "start_time": "2022-10-19T10:17:39.922Z"
   },
   {
    "duration": 11,
    "start_time": "2022-10-19T10:17:50.281Z"
   },
   {
    "duration": 26,
    "start_time": "2022-10-19T10:17:50.293Z"
   },
   {
    "duration": 4,
    "start_time": "2022-10-19T10:17:50.322Z"
   },
   {
    "duration": 23,
    "start_time": "2022-10-19T10:17:50.327Z"
   },
   {
    "duration": 6,
    "start_time": "2022-10-19T10:17:50.352Z"
   },
   {
    "duration": 18,
    "start_time": "2022-10-19T10:17:50.359Z"
   },
   {
    "duration": 10,
    "start_time": "2022-10-19T10:17:50.378Z"
   },
   {
    "duration": 33,
    "start_time": "2022-10-19T10:17:50.389Z"
   },
   {
    "duration": 4,
    "start_time": "2022-10-19T10:17:50.424Z"
   },
   {
    "duration": 17,
    "start_time": "2022-10-19T10:17:50.430Z"
   },
   {
    "duration": 6,
    "start_time": "2022-10-19T10:17:50.448Z"
   },
   {
    "duration": 22,
    "start_time": "2022-10-19T10:17:50.455Z"
   },
   {
    "duration": 3,
    "start_time": "2022-10-19T10:17:50.478Z"
   },
   {
    "duration": 41,
    "start_time": "2022-10-19T10:17:50.482Z"
   },
   {
    "duration": 18,
    "start_time": "2022-10-19T10:17:50.524Z"
   },
   {
    "duration": 179,
    "start_time": "2022-10-19T10:17:50.544Z"
   },
   {
    "duration": 5,
    "start_time": "2022-10-19T10:17:50.725Z"
   },
   {
    "duration": 190,
    "start_time": "2022-10-19T10:17:50.731Z"
   },
   {
    "duration": 4,
    "start_time": "2022-10-19T10:17:50.922Z"
   },
   {
    "duration": 26,
    "start_time": "2022-10-19T10:17:50.927Z"
   },
   {
    "duration": 20,
    "start_time": "2022-10-19T10:17:50.955Z"
   },
   {
    "duration": 25,
    "start_time": "2022-10-19T10:17:50.977Z"
   },
   {
    "duration": 22,
    "start_time": "2022-10-19T10:17:51.004Z"
   },
   {
    "duration": 189,
    "start_time": "2022-10-19T10:17:51.028Z"
   },
   {
    "duration": 16,
    "start_time": "2022-10-19T10:17:51.221Z"
   },
   {
    "duration": 222,
    "start_time": "2022-10-19T10:17:51.238Z"
   },
   {
    "duration": 25,
    "start_time": "2022-10-19T10:17:51.462Z"
   },
   {
    "duration": 10,
    "start_time": "2022-10-19T10:17:51.488Z"
   },
   {
    "duration": 4,
    "start_time": "2022-10-19T10:17:51.499Z"
   },
   {
    "duration": 114,
    "start_time": "2022-10-19T10:17:51.521Z"
   },
   {
    "duration": 117,
    "start_time": "2022-10-19T10:17:51.636Z"
   },
   {
    "duration": 124,
    "start_time": "2022-10-19T10:17:51.754Z"
   },
   {
    "duration": 193,
    "start_time": "2022-10-19T10:17:51.879Z"
   },
   {
    "duration": 17,
    "start_time": "2022-10-19T10:17:52.074Z"
   },
   {
    "duration": 5,
    "start_time": "2022-10-19T10:17:52.092Z"
   },
   {
    "duration": 29,
    "start_time": "2022-10-19T10:17:52.098Z"
   },
   {
    "duration": 13,
    "start_time": "2022-10-19T10:17:52.128Z"
   },
   {
    "duration": 11,
    "start_time": "2022-10-19T10:17:52.142Z"
   },
   {
    "duration": 22,
    "start_time": "2022-10-19T10:17:52.154Z"
   },
   {
    "duration": 21,
    "start_time": "2022-10-19T10:17:52.178Z"
   },
   {
    "duration": 7,
    "start_time": "2022-10-19T10:17:52.200Z"
   },
   {
    "duration": 26,
    "start_time": "2022-10-19T10:17:52.211Z"
   },
   {
    "duration": 15,
    "start_time": "2022-10-19T10:26:09.036Z"
   },
   {
    "duration": 15,
    "start_time": "2022-10-19T10:26:18.556Z"
   },
   {
    "duration": 17,
    "start_time": "2022-10-19T10:45:19.686Z"
   },
   {
    "duration": 16,
    "start_time": "2022-10-19T10:45:45.667Z"
   },
   {
    "duration": 21,
    "start_time": "2022-10-19T10:47:31.278Z"
   },
   {
    "duration": 22,
    "start_time": "2022-10-19T10:47:53.891Z"
   },
   {
    "duration": 36,
    "start_time": "2022-10-19T10:48:06.108Z"
   },
   {
    "duration": 20,
    "start_time": "2022-10-19T10:48:09.760Z"
   },
   {
    "duration": 21,
    "start_time": "2022-10-19T10:48:24.463Z"
   },
   {
    "duration": 24,
    "start_time": "2022-10-19T10:48:45.502Z"
   },
   {
    "duration": 24,
    "start_time": "2022-10-19T10:49:21.511Z"
   },
   {
    "duration": 23,
    "start_time": "2022-10-19T10:51:06.748Z"
   },
   {
    "duration": 21,
    "start_time": "2022-10-19T10:52:58.076Z"
   },
   {
    "duration": 25,
    "start_time": "2022-10-19T10:53:04.340Z"
   },
   {
    "duration": 174,
    "start_time": "2022-10-19T10:55:08.592Z"
   },
   {
    "duration": 28,
    "start_time": "2022-10-19T10:55:34.848Z"
   },
   {
    "duration": 23,
    "start_time": "2022-10-19T10:58:29.203Z"
   },
   {
    "duration": 27,
    "start_time": "2022-10-19T10:58:33.280Z"
   },
   {
    "duration": 32,
    "start_time": "2022-10-19T10:58:38.334Z"
   },
   {
    "duration": 398,
    "start_time": "2022-10-19T10:58:58.515Z"
   },
   {
    "duration": 14,
    "start_time": "2022-10-19T10:59:08.111Z"
   },
   {
    "duration": 110,
    "start_time": "2022-10-19T10:59:33.269Z"
   },
   {
    "duration": 11,
    "start_time": "2022-10-19T11:00:04.248Z"
   },
   {
    "duration": 14,
    "start_time": "2022-10-19T11:00:16.063Z"
   },
   {
    "duration": 151,
    "start_time": "2022-10-19T11:00:23.779Z"
   },
   {
    "duration": 149,
    "start_time": "2022-10-19T11:01:24.815Z"
   },
   {
    "duration": 161,
    "start_time": "2022-10-19T11:05:18.605Z"
   },
   {
    "duration": 147,
    "start_time": "2022-10-19T11:05:30.356Z"
   },
   {
    "duration": 9,
    "start_time": "2022-10-19T11:05:34.328Z"
   },
   {
    "duration": 8,
    "start_time": "2022-10-19T11:30:16.263Z"
   },
   {
    "duration": 8,
    "start_time": "2022-10-19T11:30:25.678Z"
   },
   {
    "duration": 8,
    "start_time": "2022-10-19T11:30:30.059Z"
   },
   {
    "duration": 5,
    "start_time": "2022-10-19T11:30:48.201Z"
   },
   {
    "duration": 9,
    "start_time": "2022-10-19T11:31:05.406Z"
   },
   {
    "duration": 8,
    "start_time": "2022-10-19T11:31:09.808Z"
   },
   {
    "duration": 5,
    "start_time": "2022-10-19T11:33:15.071Z"
   },
   {
    "duration": 7,
    "start_time": "2022-10-19T11:33:34.451Z"
   },
   {
    "duration": 7,
    "start_time": "2022-10-19T11:33:52.239Z"
   },
   {
    "duration": 9,
    "start_time": "2022-10-19T11:33:59.876Z"
   },
   {
    "duration": 13,
    "start_time": "2022-10-19T11:34:20.878Z"
   },
   {
    "duration": 14,
    "start_time": "2022-10-19T11:35:11.128Z"
   },
   {
    "duration": 15,
    "start_time": "2022-10-19T11:35:33.511Z"
   },
   {
    "duration": 12,
    "start_time": "2022-10-19T11:35:49.830Z"
   },
   {
    "duration": 117,
    "start_time": "2022-10-19T11:36:12.416Z"
   },
   {
    "duration": 10,
    "start_time": "2022-10-19T11:36:12.535Z"
   },
   {
    "duration": 17,
    "start_time": "2022-10-19T11:36:12.546Z"
   },
   {
    "duration": 4,
    "start_time": "2022-10-19T11:36:12.565Z"
   },
   {
    "duration": 12,
    "start_time": "2022-10-19T11:36:12.571Z"
   },
   {
    "duration": 21,
    "start_time": "2022-10-19T11:36:12.585Z"
   },
   {
    "duration": 27,
    "start_time": "2022-10-19T11:36:12.607Z"
   },
   {
    "duration": 18,
    "start_time": "2022-10-19T11:36:12.636Z"
   },
   {
    "duration": 5,
    "start_time": "2022-10-19T11:36:12.655Z"
   },
   {
    "duration": 11,
    "start_time": "2022-10-19T11:36:12.662Z"
   },
   {
    "duration": 10,
    "start_time": "2022-10-19T11:36:12.675Z"
   },
   {
    "duration": 12,
    "start_time": "2022-10-19T11:36:12.686Z"
   },
   {
    "duration": 23,
    "start_time": "2022-10-19T11:36:12.699Z"
   },
   {
    "duration": 18,
    "start_time": "2022-10-19T11:36:12.724Z"
   },
   {
    "duration": 4,
    "start_time": "2022-10-19T11:36:12.743Z"
   },
   {
    "duration": 17,
    "start_time": "2022-10-19T11:36:12.748Z"
   },
   {
    "duration": 5,
    "start_time": "2022-10-19T11:36:12.767Z"
   },
   {
    "duration": 9,
    "start_time": "2022-10-19T11:36:12.773Z"
   },
   {
    "duration": 6,
    "start_time": "2022-10-19T11:36:12.784Z"
   },
   {
    "duration": 33,
    "start_time": "2022-10-19T11:36:12.791Z"
   },
   {
    "duration": 6,
    "start_time": "2022-10-19T11:36:12.826Z"
   },
   {
    "duration": 8,
    "start_time": "2022-10-19T11:36:12.833Z"
   },
   {
    "duration": 18,
    "start_time": "2022-10-19T11:36:12.842Z"
   },
   {
    "duration": 13,
    "start_time": "2022-10-19T11:36:12.861Z"
   },
   {
    "duration": 6,
    "start_time": "2022-10-19T11:36:12.876Z"
   },
   {
    "duration": 10,
    "start_time": "2022-10-19T11:36:12.883Z"
   },
   {
    "duration": 4,
    "start_time": "2022-10-19T11:36:21.287Z"
   },
   {
    "duration": 12,
    "start_time": "2022-10-19T11:36:23.829Z"
   },
   {
    "duration": 17,
    "start_time": "2022-10-19T11:37:00.086Z"
   },
   {
    "duration": 21,
    "start_time": "2022-10-19T11:37:47.498Z"
   },
   {
    "duration": 6,
    "start_time": "2022-10-19T11:38:08.084Z"
   },
   {
    "duration": 19,
    "start_time": "2022-10-19T11:38:35.466Z"
   },
   {
    "duration": 5,
    "start_time": "2022-10-19T11:38:38.583Z"
   },
   {
    "duration": 23,
    "start_time": "2022-10-19T11:39:21.438Z"
   },
   {
    "duration": 114,
    "start_time": "2022-10-19T11:39:52.284Z"
   },
   {
    "duration": 9,
    "start_time": "2022-10-19T11:39:52.401Z"
   },
   {
    "duration": 23,
    "start_time": "2022-10-19T11:39:52.412Z"
   },
   {
    "duration": 8,
    "start_time": "2022-10-19T11:39:52.437Z"
   },
   {
    "duration": 31,
    "start_time": "2022-10-19T11:39:52.446Z"
   },
   {
    "duration": 25,
    "start_time": "2022-10-19T11:39:52.478Z"
   },
   {
    "duration": 15,
    "start_time": "2022-10-19T11:39:52.505Z"
   },
   {
    "duration": 26,
    "start_time": "2022-10-19T11:39:52.522Z"
   },
   {
    "duration": 6,
    "start_time": "2022-10-19T11:39:52.550Z"
   },
   {
    "duration": 12,
    "start_time": "2022-10-19T11:39:52.559Z"
   },
   {
    "duration": 11,
    "start_time": "2022-10-19T11:39:52.572Z"
   },
   {
    "duration": 11,
    "start_time": "2022-10-19T11:39:52.585Z"
   },
   {
    "duration": 7,
    "start_time": "2022-10-19T11:39:52.598Z"
   },
   {
    "duration": 29,
    "start_time": "2022-10-19T11:39:52.621Z"
   },
   {
    "duration": 11,
    "start_time": "2022-10-19T11:39:52.652Z"
   },
   {
    "duration": 18,
    "start_time": "2022-10-19T11:39:52.665Z"
   },
   {
    "duration": 13,
    "start_time": "2022-10-19T11:39:52.685Z"
   },
   {
    "duration": 32,
    "start_time": "2022-10-19T11:39:52.700Z"
   },
   {
    "duration": 11,
    "start_time": "2022-10-19T11:39:52.734Z"
   },
   {
    "duration": 16,
    "start_time": "2022-10-19T11:39:52.747Z"
   },
   {
    "duration": 10,
    "start_time": "2022-10-19T11:39:52.764Z"
   },
   {
    "duration": 9,
    "start_time": "2022-10-19T11:39:52.775Z"
   },
   {
    "duration": 37,
    "start_time": "2022-10-19T11:39:52.786Z"
   },
   {
    "duration": 21,
    "start_time": "2022-10-19T11:39:52.825Z"
   },
   {
    "duration": 9,
    "start_time": "2022-10-19T11:39:52.848Z"
   },
   {
    "duration": 7,
    "start_time": "2022-10-19T11:39:52.859Z"
   },
   {
    "duration": 23,
    "start_time": "2022-10-19T11:39:52.867Z"
   },
   {
    "duration": 6,
    "start_time": "2022-10-19T11:39:52.893Z"
   },
   {
    "duration": 5,
    "start_time": "2022-10-19T11:40:00.054Z"
   },
   {
    "duration": 22,
    "start_time": "2022-10-19T11:40:02.266Z"
   },
   {
    "duration": 6,
    "start_time": "2022-10-19T11:40:08.941Z"
   },
   {
    "duration": 21,
    "start_time": "2022-10-19T11:40:37.571Z"
   },
   {
    "duration": 20,
    "start_time": "2022-10-19T11:41:05.377Z"
   },
   {
    "duration": 112,
    "start_time": "2022-10-19T11:41:09.505Z"
   },
   {
    "duration": 9,
    "start_time": "2022-10-19T11:41:09.619Z"
   },
   {
    "duration": 14,
    "start_time": "2022-10-19T11:41:09.630Z"
   },
   {
    "duration": 4,
    "start_time": "2022-10-19T11:41:09.646Z"
   },
   {
    "duration": 15,
    "start_time": "2022-10-19T11:41:09.652Z"
   },
   {
    "duration": 21,
    "start_time": "2022-10-19T11:41:09.668Z"
   },
   {
    "duration": 32,
    "start_time": "2022-10-19T11:41:09.691Z"
   },
   {
    "duration": 17,
    "start_time": "2022-10-19T11:41:09.724Z"
   },
   {
    "duration": 8,
    "start_time": "2022-10-19T11:41:09.742Z"
   },
   {
    "duration": 8,
    "start_time": "2022-10-19T11:41:09.753Z"
   },
   {
    "duration": 6,
    "start_time": "2022-10-19T11:41:09.762Z"
   },
   {
    "duration": 54,
    "start_time": "2022-10-19T11:41:09.769Z"
   },
   {
    "duration": 7,
    "start_time": "2022-10-19T11:41:09.825Z"
   },
   {
    "duration": 20,
    "start_time": "2022-10-19T11:41:09.833Z"
   },
   {
    "duration": 4,
    "start_time": "2022-10-19T11:41:09.854Z"
   },
   {
    "duration": 18,
    "start_time": "2022-10-19T11:41:09.859Z"
   },
   {
    "duration": 6,
    "start_time": "2022-10-19T11:41:09.879Z"
   },
   {
    "duration": 7,
    "start_time": "2022-10-19T11:41:09.886Z"
   },
   {
    "duration": 15,
    "start_time": "2022-10-19T11:41:09.894Z"
   },
   {
    "duration": 19,
    "start_time": "2022-10-19T11:41:09.910Z"
   },
   {
    "duration": 9,
    "start_time": "2022-10-19T11:41:09.930Z"
   },
   {
    "duration": 9,
    "start_time": "2022-10-19T11:41:09.940Z"
   },
   {
    "duration": 29,
    "start_time": "2022-10-19T11:41:09.950Z"
   },
   {
    "duration": 16,
    "start_time": "2022-10-19T11:41:09.980Z"
   },
   {
    "duration": 6,
    "start_time": "2022-10-19T11:41:09.998Z"
   },
   {
    "duration": 17,
    "start_time": "2022-10-19T11:41:10.005Z"
   },
   {
    "duration": 15,
    "start_time": "2022-10-19T11:41:10.023Z"
   },
   {
    "duration": 28,
    "start_time": "2022-10-19T11:41:10.041Z"
   },
   {
    "duration": 19,
    "start_time": "2022-10-19T11:41:12.961Z"
   },
   {
    "duration": 14,
    "start_time": "2022-10-19T11:47:28.880Z"
   },
   {
    "duration": 5,
    "start_time": "2022-10-19T11:47:29.765Z"
   },
   {
    "duration": 14,
    "start_time": "2022-10-19T11:47:50.908Z"
   },
   {
    "duration": 14,
    "start_time": "2022-10-19T11:48:04.414Z"
   },
   {
    "duration": 5,
    "start_time": "2022-10-19T11:48:04.946Z"
   },
   {
    "duration": 12,
    "start_time": "2022-10-19T11:48:05.876Z"
   },
   {
    "duration": 17,
    "start_time": "2022-10-19T11:48:43.382Z"
   },
   {
    "duration": 5,
    "start_time": "2022-10-19T11:48:44.464Z"
   },
   {
    "duration": 12,
    "start_time": "2022-10-19T11:48:45.109Z"
   },
   {
    "duration": 6,
    "start_time": "2022-10-19T11:52:57.288Z"
   },
   {
    "duration": 9,
    "start_time": "2022-10-19T11:53:29.349Z"
   },
   {
    "duration": 6,
    "start_time": "2022-10-19T11:53:44.623Z"
   },
   {
    "duration": 9,
    "start_time": "2022-10-19T11:53:54.639Z"
   },
   {
    "duration": 47,
    "start_time": "2022-10-19T15:00:57.582Z"
   },
   {
    "duration": 778,
    "start_time": "2022-10-19T15:01:03.985Z"
   },
   {
    "duration": 13,
    "start_time": "2022-10-19T15:01:04.765Z"
   },
   {
    "duration": 26,
    "start_time": "2022-10-19T15:01:04.780Z"
   },
   {
    "duration": 5,
    "start_time": "2022-10-19T15:01:04.809Z"
   },
   {
    "duration": 24,
    "start_time": "2022-10-19T15:01:04.815Z"
   },
   {
    "duration": 33,
    "start_time": "2022-10-19T15:01:04.840Z"
   },
   {
    "duration": 19,
    "start_time": "2022-10-19T15:01:04.875Z"
   },
   {
    "duration": 28,
    "start_time": "2022-10-19T15:01:04.906Z"
   },
   {
    "duration": 12,
    "start_time": "2022-10-19T15:01:04.936Z"
   },
   {
    "duration": 11,
    "start_time": "2022-10-19T15:01:04.950Z"
   },
   {
    "duration": 31,
    "start_time": "2022-10-19T15:01:04.963Z"
   },
   {
    "duration": 18,
    "start_time": "2022-10-19T15:01:04.996Z"
   },
   {
    "duration": 8,
    "start_time": "2022-10-19T15:01:05.016Z"
   },
   {
    "duration": 28,
    "start_time": "2022-10-19T15:01:05.026Z"
   },
   {
    "duration": 25,
    "start_time": "2022-10-19T15:01:05.057Z"
   },
   {
    "duration": 33,
    "start_time": "2022-10-19T15:01:05.084Z"
   },
   {
    "duration": 19,
    "start_time": "2022-10-19T15:01:05.119Z"
   },
   {
    "duration": 7,
    "start_time": "2022-10-19T15:01:08.399Z"
   },
   {
    "duration": 44,
    "start_time": "2022-10-19T15:01:16.455Z"
   },
   {
    "duration": 812,
    "start_time": "2022-10-20T08:59:43.614Z"
   },
   {
    "duration": 10,
    "start_time": "2022-10-20T08:59:44.428Z"
   },
   {
    "duration": 15,
    "start_time": "2022-10-20T08:59:44.439Z"
   },
   {
    "duration": 5,
    "start_time": "2022-10-20T08:59:44.455Z"
   },
   {
    "duration": 11,
    "start_time": "2022-10-20T08:59:44.461Z"
   },
   {
    "duration": 34,
    "start_time": "2022-10-20T08:59:44.474Z"
   },
   {
    "duration": 13,
    "start_time": "2022-10-20T08:59:44.522Z"
   },
   {
    "duration": 18,
    "start_time": "2022-10-20T08:59:44.536Z"
   },
   {
    "duration": 6,
    "start_time": "2022-10-20T08:59:44.556Z"
   },
   {
    "duration": 8,
    "start_time": "2022-10-20T08:59:44.564Z"
   },
   {
    "duration": 8,
    "start_time": "2022-10-20T08:59:44.573Z"
   },
   {
    "duration": 12,
    "start_time": "2022-10-20T08:59:44.582Z"
   },
   {
    "duration": 26,
    "start_time": "2022-10-20T08:59:44.596Z"
   },
   {
    "duration": 18,
    "start_time": "2022-10-20T08:59:44.624Z"
   },
   {
    "duration": 5,
    "start_time": "2022-10-20T08:59:44.644Z"
   },
   {
    "duration": 12,
    "start_time": "2022-10-20T08:59:44.650Z"
   },
   {
    "duration": 6,
    "start_time": "2022-10-20T08:59:44.664Z"
   },
   {
    "duration": 10,
    "start_time": "2022-10-20T08:59:44.671Z"
   },
   {
    "duration": 12,
    "start_time": "2022-10-20T08:59:44.682Z"
   },
   {
    "duration": 33,
    "start_time": "2022-10-20T08:59:44.696Z"
   },
   {
    "duration": 11,
    "start_time": "2022-10-20T08:59:44.731Z"
   },
   {
    "duration": 8,
    "start_time": "2022-10-20T08:59:44.743Z"
   },
   {
    "duration": 23,
    "start_time": "2022-10-20T08:59:44.753Z"
   },
   {
    "duration": 17,
    "start_time": "2022-10-20T08:59:44.778Z"
   },
   {
    "duration": 27,
    "start_time": "2022-10-20T08:59:44.797Z"
   },
   {
    "duration": 6,
    "start_time": "2022-10-20T08:59:44.826Z"
   },
   {
    "duration": 23,
    "start_time": "2022-10-20T08:59:44.833Z"
   },
   {
    "duration": 4,
    "start_time": "2022-10-20T08:59:44.860Z"
   },
   {
    "duration": 27,
    "start_time": "2022-10-20T08:59:44.866Z"
   },
   {
    "duration": 34,
    "start_time": "2022-10-20T08:59:44.894Z"
   },
   {
    "duration": 8,
    "start_time": "2022-10-20T08:59:44.930Z"
   },
   {
    "duration": 12,
    "start_time": "2022-10-20T08:59:44.939Z"
   },
   {
    "duration": 48,
    "start_time": "2022-10-20T08:59:44.952Z"
   },
   {
    "duration": 20,
    "start_time": "2022-10-20T08:59:45.002Z"
   },
   {
    "duration": 15,
    "start_time": "2022-10-20T08:59:45.024Z"
   },
   {
    "duration": 7,
    "start_time": "2022-10-20T08:59:45.040Z"
   },
   {
    "duration": 9,
    "start_time": "2022-10-20T08:59:45.049Z"
   },
   {
    "duration": 17,
    "start_time": "2022-10-20T08:59:45.059Z"
   },
   {
    "duration": 5,
    "start_time": "2022-10-20T08:59:45.078Z"
   },
   {
    "duration": 644,
    "start_time": "2022-10-20T08:59:45.084Z"
   },
   {
    "duration": 8,
    "start_time": "2022-10-20T08:59:45.730Z"
   },
   {
    "duration": 400,
    "start_time": "2022-10-20T08:59:45.739Z"
   },
   {
    "duration": 6,
    "start_time": "2022-10-20T08:59:46.141Z"
   },
   {
    "duration": 917,
    "start_time": "2022-10-20T08:59:46.149Z"
   },
   {
    "duration": 7,
    "start_time": "2022-10-20T08:59:47.068Z"
   },
   {
    "duration": 10163,
    "start_time": "2022-10-20T08:59:47.077Z"
   },
   {
    "duration": 12,
    "start_time": "2022-10-20T08:59:57.241Z"
   },
   {
    "duration": 22,
    "start_time": "2022-10-20T08:59:57.255Z"
   },
   {
    "duration": 4,
    "start_time": "2022-10-20T08:59:57.278Z"
   },
   {
    "duration": 18,
    "start_time": "2022-10-20T08:59:57.284Z"
   },
   {
    "duration": 7,
    "start_time": "2022-10-20T08:59:57.321Z"
   },
   {
    "duration": 17,
    "start_time": "2022-10-20T08:59:57.330Z"
   },
   {
    "duration": 6,
    "start_time": "2022-10-20T08:59:57.348Z"
   },
   {
    "duration": 22,
    "start_time": "2022-10-20T08:59:57.356Z"
   },
   {
    "duration": 8,
    "start_time": "2022-10-20T08:59:57.379Z"
   },
   {
    "duration": 34,
    "start_time": "2022-10-20T08:59:57.388Z"
   },
   {
    "duration": 8,
    "start_time": "2022-10-20T08:59:57.424Z"
   },
   {
    "duration": 18,
    "start_time": "2022-10-20T08:59:57.433Z"
   },
   {
    "duration": 13,
    "start_time": "2022-10-20T08:59:57.453Z"
   },
   {
    "duration": 26,
    "start_time": "2022-10-20T08:59:57.468Z"
   },
   {
    "duration": 32,
    "start_time": "2022-10-20T08:59:57.495Z"
   },
   {
    "duration": 151,
    "start_time": "2022-10-20T08:59:57.528Z"
   },
   {
    "duration": 4,
    "start_time": "2022-10-20T08:59:57.681Z"
   },
   {
    "duration": 227,
    "start_time": "2022-10-20T08:59:57.686Z"
   },
   {
    "duration": 8,
    "start_time": "2022-10-20T08:59:57.914Z"
   },
   {
    "duration": 10,
    "start_time": "2022-10-20T08:59:57.924Z"
   },
   {
    "duration": 10,
    "start_time": "2022-10-20T08:59:57.936Z"
   },
   {
    "duration": 17,
    "start_time": "2022-10-20T08:59:57.947Z"
   },
   {
    "duration": 17,
    "start_time": "2022-10-20T08:59:57.965Z"
   },
   {
    "duration": 176,
    "start_time": "2022-10-20T08:59:57.983Z"
   },
   {
    "duration": 15,
    "start_time": "2022-10-20T08:59:58.160Z"
   },
   {
    "duration": 216,
    "start_time": "2022-10-20T08:59:58.176Z"
   },
   {
    "duration": 33,
    "start_time": "2022-10-20T08:59:58.393Z"
   },
   {
    "duration": 9,
    "start_time": "2022-10-20T08:59:58.428Z"
   },
   {
    "duration": 27,
    "start_time": "2022-10-20T08:59:58.438Z"
   },
   {
    "duration": 120,
    "start_time": "2022-10-20T08:59:58.467Z"
   },
   {
    "duration": 114,
    "start_time": "2022-10-20T08:59:58.589Z"
   },
   {
    "duration": 132,
    "start_time": "2022-10-20T08:59:58.705Z"
   },
   {
    "duration": 209,
    "start_time": "2022-10-20T08:59:58.838Z"
   },
   {
    "duration": 16,
    "start_time": "2022-10-20T08:59:59.049Z"
   },
   {
    "duration": 20,
    "start_time": "2022-10-20T08:59:59.067Z"
   },
   {
    "duration": 25,
    "start_time": "2022-10-20T08:59:59.091Z"
   },
   {
    "duration": 29,
    "start_time": "2022-10-20T08:59:59.118Z"
   },
   {
    "duration": 24,
    "start_time": "2022-10-20T08:59:59.148Z"
   },
   {
    "duration": 58,
    "start_time": "2022-10-20T08:59:59.173Z"
   },
   {
    "duration": 33,
    "start_time": "2022-10-20T08:59:59.232Z"
   },
   {
    "duration": 12,
    "start_time": "2022-10-20T08:59:59.266Z"
   },
   {
    "duration": 59,
    "start_time": "2022-10-20T08:59:59.279Z"
   },
   {
    "duration": 28,
    "start_time": "2022-10-20T08:59:59.339Z"
   },
   {
    "duration": 303,
    "start_time": "2022-10-20T08:59:59.421Z"
   },
   {
    "duration": 8,
    "start_time": "2022-10-20T08:59:59.726Z"
   },
   {
    "duration": 5,
    "start_time": "2022-10-20T09:01:28.048Z"
   },
   {
    "duration": 125,
    "start_time": "2022-10-20T09:01:32.428Z"
   },
   {
    "duration": 9,
    "start_time": "2022-10-20T09:01:32.555Z"
   },
   {
    "duration": 44,
    "start_time": "2022-10-20T09:01:32.566Z"
   },
   {
    "duration": 14,
    "start_time": "2022-10-20T09:01:32.612Z"
   },
   {
    "duration": 22,
    "start_time": "2022-10-20T09:01:32.628Z"
   },
   {
    "duration": 52,
    "start_time": "2022-10-20T09:01:32.652Z"
   },
   {
    "duration": 14,
    "start_time": "2022-10-20T09:01:32.706Z"
   },
   {
    "duration": 21,
    "start_time": "2022-10-20T09:01:32.722Z"
   },
   {
    "duration": 15,
    "start_time": "2022-10-20T09:01:32.744Z"
   },
   {
    "duration": 8,
    "start_time": "2022-10-20T09:01:32.761Z"
   },
   {
    "duration": 7,
    "start_time": "2022-10-20T09:01:32.771Z"
   },
   {
    "duration": 18,
    "start_time": "2022-10-20T09:01:32.780Z"
   },
   {
    "duration": 5,
    "start_time": "2022-10-20T09:01:32.800Z"
   },
   {
    "duration": 26,
    "start_time": "2022-10-20T09:01:32.807Z"
   },
   {
    "duration": 5,
    "start_time": "2022-10-20T09:01:32.834Z"
   },
   {
    "duration": 19,
    "start_time": "2022-10-20T09:01:32.840Z"
   },
   {
    "duration": 10,
    "start_time": "2022-10-20T09:01:32.860Z"
   },
   {
    "duration": 9,
    "start_time": "2022-10-20T09:01:32.872Z"
   },
   {
    "duration": 9,
    "start_time": "2022-10-20T09:01:32.883Z"
   },
   {
    "duration": 13,
    "start_time": "2022-10-20T09:01:32.893Z"
   },
   {
    "duration": 8,
    "start_time": "2022-10-20T09:01:32.922Z"
   },
   {
    "duration": 9,
    "start_time": "2022-10-20T09:01:32.932Z"
   },
   {
    "duration": 26,
    "start_time": "2022-10-20T09:01:32.943Z"
   },
   {
    "duration": 21,
    "start_time": "2022-10-20T09:01:32.970Z"
   },
   {
    "duration": 7,
    "start_time": "2022-10-20T09:01:32.992Z"
   },
   {
    "duration": 36,
    "start_time": "2022-10-20T09:01:33.001Z"
   },
   {
    "duration": 17,
    "start_time": "2022-10-20T09:01:33.038Z"
   },
   {
    "duration": 5,
    "start_time": "2022-10-20T09:01:36.649Z"
   },
   {
    "duration": 22,
    "start_time": "2022-10-20T09:01:39.392Z"
   },
   {
    "duration": 7,
    "start_time": "2022-10-20T09:05:39.554Z"
   },
   {
    "duration": 16,
    "start_time": "2022-10-20T09:05:40.304Z"
   },
   {
    "duration": 13,
    "start_time": "2022-10-20T09:07:28.561Z"
   },
   {
    "duration": 13,
    "start_time": "2022-10-20T09:08:02.546Z"
   },
   {
    "duration": 6,
    "start_time": "2022-10-20T09:10:48.179Z"
   },
   {
    "duration": 11,
    "start_time": "2022-10-20T09:11:16.026Z"
   },
   {
    "duration": 14,
    "start_time": "2022-10-20T09:12:16.319Z"
   },
   {
    "duration": 24,
    "start_time": "2022-10-20T09:16:01.950Z"
   },
   {
    "duration": 30,
    "start_time": "2022-10-20T09:17:14.723Z"
   },
   {
    "duration": 112,
    "start_time": "2022-10-20T09:17:32.018Z"
   },
   {
    "duration": 9,
    "start_time": "2022-10-20T09:17:32.132Z"
   },
   {
    "duration": 19,
    "start_time": "2022-10-20T09:17:32.142Z"
   },
   {
    "duration": 7,
    "start_time": "2022-10-20T09:17:32.163Z"
   },
   {
    "duration": 23,
    "start_time": "2022-10-20T09:17:32.172Z"
   },
   {
    "duration": 25,
    "start_time": "2022-10-20T09:17:32.197Z"
   },
   {
    "duration": 13,
    "start_time": "2022-10-20T09:17:32.224Z"
   },
   {
    "duration": 35,
    "start_time": "2022-10-20T09:17:32.239Z"
   },
   {
    "duration": 4,
    "start_time": "2022-10-20T09:17:32.276Z"
   },
   {
    "duration": 11,
    "start_time": "2022-10-20T09:17:32.283Z"
   },
   {
    "duration": 29,
    "start_time": "2022-10-20T09:17:32.295Z"
   },
   {
    "duration": 14,
    "start_time": "2022-10-20T09:17:32.325Z"
   },
   {
    "duration": 7,
    "start_time": "2022-10-20T09:17:32.340Z"
   },
   {
    "duration": 19,
    "start_time": "2022-10-20T09:17:32.349Z"
   },
   {
    "duration": 5,
    "start_time": "2022-10-20T09:17:32.370Z"
   },
   {
    "duration": 19,
    "start_time": "2022-10-20T09:17:32.376Z"
   },
   {
    "duration": 25,
    "start_time": "2022-10-20T09:17:32.397Z"
   },
   {
    "duration": 7,
    "start_time": "2022-10-20T09:17:32.423Z"
   },
   {
    "duration": 15,
    "start_time": "2022-10-20T09:17:32.431Z"
   },
   {
    "duration": 16,
    "start_time": "2022-10-20T09:17:32.448Z"
   },
   {
    "duration": 12,
    "start_time": "2022-10-20T09:17:32.465Z"
   },
   {
    "duration": 15,
    "start_time": "2022-10-20T09:17:32.478Z"
   },
   {
    "duration": 25,
    "start_time": "2022-10-20T09:17:32.494Z"
   },
   {
    "duration": 21,
    "start_time": "2022-10-20T09:17:32.522Z"
   },
   {
    "duration": 7,
    "start_time": "2022-10-20T09:17:32.545Z"
   },
   {
    "duration": 5,
    "start_time": "2022-10-20T09:17:32.554Z"
   },
   {
    "duration": 20,
    "start_time": "2022-10-20T09:17:32.560Z"
   },
   {
    "duration": 4,
    "start_time": "2022-10-20T09:17:32.583Z"
   },
   {
    "duration": 45,
    "start_time": "2022-10-20T09:17:32.589Z"
   },
   {
    "duration": 15,
    "start_time": "2022-10-20T09:17:32.636Z"
   },
   {
    "duration": 14,
    "start_time": "2022-10-20T09:17:32.653Z"
   },
   {
    "duration": 17,
    "start_time": "2022-10-20T09:17:32.669Z"
   },
   {
    "duration": 26,
    "start_time": "2022-10-20T09:17:32.688Z"
   },
   {
    "duration": 5,
    "start_time": "2022-10-20T09:17:35.803Z"
   },
   {
    "duration": 10,
    "start_time": "2022-10-20T09:17:39.519Z"
   },
   {
    "duration": 15,
    "start_time": "2022-10-20T09:17:52.002Z"
   },
   {
    "duration": 7,
    "start_time": "2022-10-20T09:21:05.104Z"
   },
   {
    "duration": 15,
    "start_time": "2022-10-20T09:21:18.152Z"
   },
   {
    "duration": 30,
    "start_time": "2022-10-20T09:21:23.464Z"
   },
   {
    "duration": 4,
    "start_time": "2022-10-20T09:23:27.227Z"
   },
   {
    "duration": 9,
    "start_time": "2022-10-20T09:23:45.911Z"
   },
   {
    "duration": 68,
    "start_time": "2022-10-20T09:24:05.297Z"
   },
   {
    "duration": 9,
    "start_time": "2022-10-20T09:24:41.208Z"
   },
   {
    "duration": 11,
    "start_time": "2022-10-20T09:25:13.101Z"
   },
   {
    "duration": 124,
    "start_time": "2022-10-20T09:27:51.052Z"
   },
   {
    "duration": 10,
    "start_time": "2022-10-20T09:27:51.179Z"
   },
   {
    "duration": 17,
    "start_time": "2022-10-20T09:27:51.190Z"
   },
   {
    "duration": 5,
    "start_time": "2022-10-20T09:27:51.208Z"
   },
   {
    "duration": 12,
    "start_time": "2022-10-20T09:27:51.214Z"
   },
   {
    "duration": 20,
    "start_time": "2022-10-20T09:27:51.228Z"
   },
   {
    "duration": 17,
    "start_time": "2022-10-20T09:27:51.249Z"
   },
   {
    "duration": 58,
    "start_time": "2022-10-20T09:27:51.267Z"
   },
   {
    "duration": 4,
    "start_time": "2022-10-20T09:27:51.326Z"
   },
   {
    "duration": 9,
    "start_time": "2022-10-20T09:27:51.333Z"
   },
   {
    "duration": 8,
    "start_time": "2022-10-20T09:27:51.343Z"
   },
   {
    "duration": 21,
    "start_time": "2022-10-20T09:27:51.352Z"
   },
   {
    "duration": 12,
    "start_time": "2022-10-20T09:27:51.374Z"
   },
   {
    "duration": 39,
    "start_time": "2022-10-20T09:27:51.388Z"
   },
   {
    "duration": 11,
    "start_time": "2022-10-20T09:27:51.429Z"
   },
   {
    "duration": 34,
    "start_time": "2022-10-20T09:27:51.442Z"
   },
   {
    "duration": 12,
    "start_time": "2022-10-20T09:27:51.478Z"
   },
   {
    "duration": 10,
    "start_time": "2022-10-20T09:27:51.492Z"
   },
   {
    "duration": 7,
    "start_time": "2022-10-20T09:27:51.503Z"
   },
   {
    "duration": 15,
    "start_time": "2022-10-20T09:27:51.511Z"
   },
   {
    "duration": 6,
    "start_time": "2022-10-20T09:27:51.528Z"
   },
   {
    "duration": 16,
    "start_time": "2022-10-20T09:27:51.535Z"
   },
   {
    "duration": 33,
    "start_time": "2022-10-20T09:27:51.552Z"
   },
   {
    "duration": 19,
    "start_time": "2022-10-20T09:27:51.586Z"
   },
   {
    "duration": 9,
    "start_time": "2022-10-20T09:27:51.607Z"
   },
   {
    "duration": 9,
    "start_time": "2022-10-20T09:27:51.617Z"
   },
   {
    "duration": 25,
    "start_time": "2022-10-20T09:27:51.627Z"
   },
   {
    "duration": 5,
    "start_time": "2022-10-20T09:27:51.657Z"
   },
   {
    "duration": 22,
    "start_time": "2022-10-20T09:27:51.664Z"
   },
   {
    "duration": 13,
    "start_time": "2022-10-20T09:27:51.688Z"
   },
   {
    "duration": 19,
    "start_time": "2022-10-20T09:27:51.703Z"
   },
   {
    "duration": 27,
    "start_time": "2022-10-20T09:27:51.723Z"
   },
   {
    "duration": 20,
    "start_time": "2022-10-20T09:27:51.751Z"
   },
   {
    "duration": 11,
    "start_time": "2022-10-20T09:27:51.772Z"
   },
   {
    "duration": 12,
    "start_time": "2022-10-20T09:27:51.784Z"
   },
   {
    "duration": 24,
    "start_time": "2022-10-20T09:27:51.797Z"
   },
   {
    "duration": 5,
    "start_time": "2022-10-20T09:27:51.822Z"
   },
   {
    "duration": 24,
    "start_time": "2022-10-20T09:27:51.828Z"
   },
   {
    "duration": 8,
    "start_time": "2022-10-20T09:27:51.853Z"
   },
   {
    "duration": 14,
    "start_time": "2022-10-20T09:27:51.862Z"
   },
   {
    "duration": 16,
    "start_time": "2022-10-20T09:27:51.877Z"
   },
   {
    "duration": 5,
    "start_time": "2022-10-20T09:27:51.894Z"
   },
   {
    "duration": 22,
    "start_time": "2022-10-20T09:27:51.900Z"
   },
   {
    "duration": 9,
    "start_time": "2022-10-20T09:27:51.923Z"
   },
   {
    "duration": 15,
    "start_time": "2022-10-20T09:27:51.933Z"
   },
   {
    "duration": 3,
    "start_time": "2022-10-20T09:27:51.950Z"
   },
   {
    "duration": 360,
    "start_time": "2022-10-20T09:27:51.955Z"
   },
   {
    "duration": 8,
    "start_time": "2022-10-20T09:27:52.322Z"
   },
   {
    "duration": 387,
    "start_time": "2022-10-20T09:27:52.331Z"
   },
   {
    "duration": 7,
    "start_time": "2022-10-20T09:27:52.721Z"
   },
   {
    "duration": 945,
    "start_time": "2022-10-20T09:27:52.730Z"
   },
   {
    "duration": 8,
    "start_time": "2022-10-20T09:27:53.676Z"
   },
   {
    "duration": 10215,
    "start_time": "2022-10-20T09:27:53.685Z"
   },
   {
    "duration": 11,
    "start_time": "2022-10-20T09:28:03.902Z"
   },
   {
    "duration": 18,
    "start_time": "2022-10-20T09:28:03.922Z"
   },
   {
    "duration": 5,
    "start_time": "2022-10-20T09:28:03.941Z"
   },
   {
    "duration": 21,
    "start_time": "2022-10-20T09:28:03.947Z"
   },
   {
    "duration": 5,
    "start_time": "2022-10-20T09:28:03.969Z"
   },
   {
    "duration": 19,
    "start_time": "2022-10-20T09:28:03.976Z"
   },
   {
    "duration": 7,
    "start_time": "2022-10-20T09:28:04.021Z"
   },
   {
    "duration": 18,
    "start_time": "2022-10-20T09:28:04.030Z"
   },
   {
    "duration": 7,
    "start_time": "2022-10-20T09:28:04.049Z"
   },
   {
    "duration": 17,
    "start_time": "2022-10-20T09:28:04.057Z"
   },
   {
    "duration": 10,
    "start_time": "2022-10-20T09:28:04.076Z"
   },
   {
    "duration": 37,
    "start_time": "2022-10-20T09:28:04.088Z"
   },
   {
    "duration": 3,
    "start_time": "2022-10-20T09:28:04.127Z"
   },
   {
    "duration": 24,
    "start_time": "2022-10-20T09:28:04.131Z"
   },
   {
    "duration": 17,
    "start_time": "2022-10-20T09:28:04.156Z"
   },
   {
    "duration": 166,
    "start_time": "2022-10-20T09:28:04.175Z"
   },
   {
    "duration": 6,
    "start_time": "2022-10-20T09:28:04.343Z"
   },
   {
    "duration": 180,
    "start_time": "2022-10-20T09:28:04.351Z"
   },
   {
    "duration": 4,
    "start_time": "2022-10-20T09:28:04.533Z"
   },
   {
    "duration": 15,
    "start_time": "2022-10-20T09:28:04.539Z"
   },
   {
    "duration": 11,
    "start_time": "2022-10-20T09:28:04.556Z"
   },
   {
    "duration": 27,
    "start_time": "2022-10-20T09:28:04.569Z"
   },
   {
    "duration": 44,
    "start_time": "2022-10-20T09:28:04.598Z"
   },
   {
    "duration": 176,
    "start_time": "2022-10-20T09:28:04.644Z"
   },
   {
    "duration": 14,
    "start_time": "2022-10-20T09:28:04.822Z"
   },
   {
    "duration": 205,
    "start_time": "2022-10-20T09:28:04.838Z"
   },
   {
    "duration": 24,
    "start_time": "2022-10-20T09:28:05.045Z"
   },
   {
    "duration": 12,
    "start_time": "2022-10-20T09:28:05.072Z"
   },
   {
    "duration": 19,
    "start_time": "2022-10-20T09:28:05.090Z"
   },
   {
    "duration": 136,
    "start_time": "2022-10-20T09:28:05.110Z"
   },
   {
    "duration": 115,
    "start_time": "2022-10-20T09:28:05.248Z"
   },
   {
    "duration": 121,
    "start_time": "2022-10-20T09:28:05.365Z"
   },
   {
    "duration": 211,
    "start_time": "2022-10-20T09:28:05.488Z"
   },
   {
    "duration": 25,
    "start_time": "2022-10-20T09:28:05.701Z"
   },
   {
    "duration": 7,
    "start_time": "2022-10-20T09:28:05.727Z"
   },
   {
    "duration": 14,
    "start_time": "2022-10-20T09:28:05.735Z"
   },
   {
    "duration": 21,
    "start_time": "2022-10-20T09:28:05.750Z"
   },
   {
    "duration": 7,
    "start_time": "2022-10-20T09:28:05.772Z"
   },
   {
    "duration": 17,
    "start_time": "2022-10-20T09:28:05.781Z"
   },
   {
    "duration": 31,
    "start_time": "2022-10-20T09:28:05.800Z"
   },
   {
    "duration": 11,
    "start_time": "2022-10-20T09:28:05.833Z"
   },
   {
    "duration": 22,
    "start_time": "2022-10-20T09:28:05.845Z"
   },
   {
    "duration": 23,
    "start_time": "2022-10-20T09:28:05.869Z"
   },
   {
    "duration": 198,
    "start_time": "2022-10-20T09:28:05.894Z"
   },
   {
    "duration": 11,
    "start_time": "2022-10-20T09:28:06.093Z"
   },
   {
    "duration": 219,
    "start_time": "2022-10-20T09:30:37.688Z"
   },
   {
    "duration": 16,
    "start_time": "2022-10-20T09:31:38.833Z"
   },
   {
    "duration": 16,
    "start_time": "2022-10-20T09:33:32.544Z"
   },
   {
    "duration": 120,
    "start_time": "2022-10-20T09:33:36.611Z"
   },
   {
    "duration": 204,
    "start_time": "2022-10-20T09:33:42.756Z"
   },
   {
    "duration": 17,
    "start_time": "2022-10-20T09:34:16.836Z"
   },
   {
    "duration": 18,
    "start_time": "2022-10-20T09:34:41.469Z"
   },
   {
    "duration": 244,
    "start_time": "2022-10-20T09:34:55.395Z"
   },
   {
    "duration": 122,
    "start_time": "2022-10-20T09:36:56.902Z"
   },
   {
    "duration": 208,
    "start_time": "2022-10-20T09:37:00.273Z"
   },
   {
    "duration": 127,
    "start_time": "2022-10-20T09:52:29.375Z"
   },
   {
    "duration": 17,
    "start_time": "2022-10-20T09:52:33.717Z"
   },
   {
    "duration": 18,
    "start_time": "2022-10-20T09:58:32.942Z"
   },
   {
    "duration": 16,
    "start_time": "2022-10-20T09:58:37.268Z"
   },
   {
    "duration": 2,
    "start_time": "2022-10-20T09:59:16.992Z"
   },
   {
    "duration": 5,
    "start_time": "2022-10-20T09:59:20.371Z"
   },
   {
    "duration": 4,
    "start_time": "2022-10-20T09:59:45.408Z"
   },
   {
    "duration": 5,
    "start_time": "2022-10-20T09:59:52.012Z"
   },
   {
    "duration": 4,
    "start_time": "2022-10-20T10:01:13.820Z"
   },
   {
    "duration": 303,
    "start_time": "2022-10-20T10:04:24.249Z"
   },
   {
    "duration": 141,
    "start_time": "2022-10-20T10:20:05.937Z"
   },
   {
    "duration": 118,
    "start_time": "2022-10-20T10:20:56.673Z"
   },
   {
    "duration": 137,
    "start_time": "2022-10-20T10:21:32.753Z"
   },
   {
    "duration": 128,
    "start_time": "2022-10-20T10:21:41.222Z"
   },
   {
    "duration": 157,
    "start_time": "2022-10-20T10:24:45.468Z"
   },
   {
    "duration": 17,
    "start_time": "2022-10-20T10:25:22.190Z"
   },
   {
    "duration": 355,
    "start_time": "2022-10-20T10:26:07.297Z"
   },
   {
    "duration": 11,
    "start_time": "2022-10-20T10:27:03.407Z"
   },
   {
    "duration": 13,
    "start_time": "2022-10-20T10:28:04.809Z"
   },
   {
    "duration": 302,
    "start_time": "2022-10-20T10:28:21.033Z"
   },
   {
    "duration": 280,
    "start_time": "2022-10-20T10:28:30.018Z"
   },
   {
    "duration": 16,
    "start_time": "2022-10-20T10:29:17.938Z"
   },
   {
    "duration": 338,
    "start_time": "2022-10-20T10:29:20.291Z"
   },
   {
    "duration": 342,
    "start_time": "2022-10-20T10:29:52.920Z"
   },
   {
    "duration": 420,
    "start_time": "2022-10-20T10:30:49.038Z"
   },
   {
    "duration": 308,
    "start_time": "2022-10-20T10:31:03.126Z"
   },
   {
    "duration": 321,
    "start_time": "2022-10-20T10:31:38.076Z"
   },
   {
    "duration": 313,
    "start_time": "2022-10-20T10:31:45.337Z"
   },
   {
    "duration": 309,
    "start_time": "2022-10-20T10:34:40.272Z"
   },
   {
    "duration": 188,
    "start_time": "2022-10-20T10:36:11.774Z"
   },
   {
    "duration": 185,
    "start_time": "2022-10-20T10:36:40.536Z"
   },
   {
    "duration": 26,
    "start_time": "2022-10-20T10:36:51.407Z"
   },
   {
    "duration": 206,
    "start_time": "2022-10-20T10:36:55.428Z"
   },
   {
    "duration": 17,
    "start_time": "2022-10-20T10:40:29.053Z"
   },
   {
    "duration": 82,
    "start_time": "2022-10-20T10:41:23.699Z"
   },
   {
    "duration": 10,
    "start_time": "2022-10-20T10:42:16.796Z"
   },
   {
    "duration": 10,
    "start_time": "2022-10-20T10:42:25.354Z"
   },
   {
    "duration": 72,
    "start_time": "2022-10-20T10:42:44.011Z"
   },
   {
    "duration": 1365,
    "start_time": "2022-10-20T10:42:48.808Z"
   },
   {
    "duration": 18,
    "start_time": "2022-10-20T10:42:59.794Z"
   },
   {
    "duration": 10,
    "start_time": "2022-10-20T10:43:00.480Z"
   },
   {
    "duration": 336,
    "start_time": "2022-10-20T10:43:02.150Z"
   },
   {
    "duration": 160,
    "start_time": "2022-10-20T10:43:20.460Z"
   },
   {
    "duration": 40,
    "start_time": "2022-10-20T10:43:39.208Z"
   },
   {
    "duration": 43,
    "start_time": "2022-10-20T10:44:18.612Z"
   },
   {
    "duration": 45,
    "start_time": "2022-10-20T10:45:18.776Z"
   },
   {
    "duration": 49,
    "start_time": "2022-10-20T10:45:27.285Z"
   },
   {
    "duration": 50,
    "start_time": "2022-10-20T10:46:15.108Z"
   },
   {
    "duration": 39,
    "start_time": "2022-10-20T10:46:58.704Z"
   },
   {
    "duration": 39,
    "start_time": "2022-10-20T10:47:04.871Z"
   },
   {
    "duration": 41,
    "start_time": "2022-10-20T10:48:17.685Z"
   },
   {
    "duration": 43,
    "start_time": "2022-10-20T10:48:24.538Z"
   },
   {
    "duration": 41,
    "start_time": "2022-10-20T10:48:33.721Z"
   },
   {
    "duration": 44,
    "start_time": "2022-10-20T10:48:43.469Z"
   },
   {
    "duration": 42,
    "start_time": "2022-10-20T10:51:17.737Z"
   },
   {
    "duration": 40,
    "start_time": "2022-10-20T10:51:28.092Z"
   },
   {
    "duration": 42,
    "start_time": "2022-10-20T10:52:19.224Z"
   },
   {
    "duration": 24,
    "start_time": "2022-10-20T10:54:44.632Z"
   },
   {
    "duration": 13,
    "start_time": "2022-10-20T10:56:24.217Z"
   },
   {
    "duration": 17,
    "start_time": "2022-10-20T10:56:56.166Z"
   },
   {
    "duration": 12,
    "start_time": "2022-10-20T10:57:14.986Z"
   },
   {
    "duration": 126,
    "start_time": "2022-10-20T10:57:19.904Z"
   },
   {
    "duration": 12,
    "start_time": "2022-10-20T10:57:20.032Z"
   },
   {
    "duration": 18,
    "start_time": "2022-10-20T10:57:20.046Z"
   },
   {
    "duration": 10,
    "start_time": "2022-10-20T10:57:20.066Z"
   },
   {
    "duration": 13,
    "start_time": "2022-10-20T10:57:20.077Z"
   },
   {
    "duration": 51,
    "start_time": "2022-10-20T10:57:20.091Z"
   },
   {
    "duration": 16,
    "start_time": "2022-10-20T10:57:20.143Z"
   },
   {
    "duration": 78,
    "start_time": "2022-10-20T10:57:20.161Z"
   },
   {
    "duration": 5,
    "start_time": "2022-10-20T10:57:20.242Z"
   },
   {
    "duration": 12,
    "start_time": "2022-10-20T10:57:20.250Z"
   },
   {
    "duration": 17,
    "start_time": "2022-10-20T10:57:20.264Z"
   },
   {
    "duration": 25,
    "start_time": "2022-10-20T10:57:20.283Z"
   },
   {
    "duration": 20,
    "start_time": "2022-10-20T10:57:20.309Z"
   },
   {
    "duration": 33,
    "start_time": "2022-10-20T10:57:20.331Z"
   },
   {
    "duration": 9,
    "start_time": "2022-10-20T10:57:20.366Z"
   },
   {
    "duration": 33,
    "start_time": "2022-10-20T10:57:20.376Z"
   },
   {
    "duration": 31,
    "start_time": "2022-10-20T10:57:20.411Z"
   },
   {
    "duration": 13,
    "start_time": "2022-10-20T10:57:20.444Z"
   },
   {
    "duration": 19,
    "start_time": "2022-10-20T10:57:20.458Z"
   },
   {
    "duration": 16,
    "start_time": "2022-10-20T10:57:20.479Z"
   },
   {
    "duration": 15,
    "start_time": "2022-10-20T10:57:20.497Z"
   },
   {
    "duration": 19,
    "start_time": "2022-10-20T10:57:20.513Z"
   },
   {
    "duration": 33,
    "start_time": "2022-10-20T10:57:20.534Z"
   },
   {
    "duration": 36,
    "start_time": "2022-10-20T10:57:20.569Z"
   },
   {
    "duration": 18,
    "start_time": "2022-10-20T10:57:20.606Z"
   },
   {
    "duration": 23,
    "start_time": "2022-10-20T10:57:20.625Z"
   },
   {
    "duration": 40,
    "start_time": "2022-10-20T10:57:20.650Z"
   },
   {
    "duration": 17,
    "start_time": "2022-10-20T10:57:20.695Z"
   },
   {
    "duration": 45,
    "start_time": "2022-10-20T10:57:20.713Z"
   },
   {
    "duration": 16,
    "start_time": "2022-10-20T10:57:20.760Z"
   },
   {
    "duration": 16,
    "start_time": "2022-10-20T10:57:20.777Z"
   },
   {
    "duration": 14,
    "start_time": "2022-10-20T10:57:20.794Z"
   },
   {
    "duration": 17,
    "start_time": "2022-10-20T10:57:20.809Z"
   },
   {
    "duration": 17,
    "start_time": "2022-10-20T10:57:20.827Z"
   },
   {
    "duration": 21,
    "start_time": "2022-10-20T10:57:20.845Z"
   },
   {
    "duration": 15,
    "start_time": "2022-10-20T10:57:20.868Z"
   },
   {
    "duration": 29,
    "start_time": "2022-10-20T10:57:20.884Z"
   },
   {
    "duration": 34,
    "start_time": "2022-10-20T10:57:20.914Z"
   },
   {
    "duration": 11,
    "start_time": "2022-10-20T10:57:20.949Z"
   },
   {
    "duration": 27,
    "start_time": "2022-10-20T10:57:20.961Z"
   },
   {
    "duration": 38,
    "start_time": "2022-10-20T10:57:20.989Z"
   },
   {
    "duration": 28,
    "start_time": "2022-10-20T10:57:21.028Z"
   },
   {
    "duration": 22,
    "start_time": "2022-10-20T10:57:21.058Z"
   },
   {
    "duration": 22,
    "start_time": "2022-10-20T10:57:21.082Z"
   },
   {
    "duration": 27,
    "start_time": "2022-10-20T10:57:21.106Z"
   },
   {
    "duration": 11,
    "start_time": "2022-10-20T10:57:21.135Z"
   },
   {
    "duration": 325,
    "start_time": "2022-10-20T10:57:21.148Z"
   },
   {
    "duration": 7,
    "start_time": "2022-10-20T10:57:21.475Z"
   },
   {
    "duration": 391,
    "start_time": "2022-10-20T10:57:21.484Z"
   },
   {
    "duration": 7,
    "start_time": "2022-10-20T10:57:21.876Z"
   },
   {
    "duration": 1031,
    "start_time": "2022-10-20T10:57:21.885Z"
   },
   {
    "duration": 10,
    "start_time": "2022-10-20T10:57:22.917Z"
   },
   {
    "duration": 10272,
    "start_time": "2022-10-20T10:57:22.928Z"
   },
   {
    "duration": 22,
    "start_time": "2022-10-20T10:57:33.201Z"
   },
   {
    "duration": 112,
    "start_time": "2022-10-20T10:57:33.224Z"
   },
   {
    "duration": 7,
    "start_time": "2022-10-20T10:57:33.338Z"
   },
   {
    "duration": 22,
    "start_time": "2022-10-20T10:57:33.347Z"
   },
   {
    "duration": 8,
    "start_time": "2022-10-20T10:57:33.371Z"
   },
   {
    "duration": 20,
    "start_time": "2022-10-20T10:57:33.381Z"
   },
   {
    "duration": 33,
    "start_time": "2022-10-20T10:57:33.403Z"
   },
   {
    "duration": 34,
    "start_time": "2022-10-20T10:57:33.438Z"
   },
   {
    "duration": 9,
    "start_time": "2022-10-20T10:57:33.474Z"
   },
   {
    "duration": 21,
    "start_time": "2022-10-20T10:57:33.484Z"
   },
   {
    "duration": 8,
    "start_time": "2022-10-20T10:57:33.506Z"
   },
   {
    "duration": 18,
    "start_time": "2022-10-20T10:57:33.515Z"
   },
   {
    "duration": 5,
    "start_time": "2022-10-20T10:57:33.535Z"
   },
   {
    "duration": 26,
    "start_time": "2022-10-20T10:57:33.542Z"
   },
   {
    "duration": 21,
    "start_time": "2022-10-20T10:57:33.569Z"
   },
   {
    "duration": 188,
    "start_time": "2022-10-20T10:57:33.592Z"
   },
   {
    "duration": 4,
    "start_time": "2022-10-20T10:57:33.781Z"
   },
   {
    "duration": 172,
    "start_time": "2022-10-20T10:57:33.787Z"
   },
   {
    "duration": 3,
    "start_time": "2022-10-20T10:57:33.961Z"
   },
   {
    "duration": 11,
    "start_time": "2022-10-20T10:57:33.966Z"
   },
   {
    "duration": 14,
    "start_time": "2022-10-20T10:57:33.979Z"
   },
   {
    "duration": 33,
    "start_time": "2022-10-20T10:57:33.995Z"
   },
   {
    "duration": 21,
    "start_time": "2022-10-20T10:57:34.029Z"
   },
   {
    "duration": 193,
    "start_time": "2022-10-20T10:57:34.051Z"
   },
   {
    "duration": 16,
    "start_time": "2022-10-20T10:57:34.246Z"
   },
   {
    "duration": 15,
    "start_time": "2022-10-20T10:57:34.264Z"
   },
   {
    "duration": 526,
    "start_time": "2022-10-20T10:57:34.280Z"
   },
   {
    "duration": 34,
    "start_time": "2022-10-20T10:57:34.808Z"
   },
   {
    "duration": 14,
    "start_time": "2022-10-20T10:57:40.119Z"
   },
   {
    "duration": 15,
    "start_time": "2022-10-20T10:58:37.604Z"
   },
   {
    "duration": 41,
    "start_time": "2022-10-20T10:58:51.967Z"
   },
   {
    "duration": 43,
    "start_time": "2022-10-20T10:59:14.270Z"
   },
   {
    "duration": 44,
    "start_time": "2022-10-20T11:00:12.734Z"
   },
   {
    "duration": 115,
    "start_time": "2022-10-20T11:02:26.583Z"
   },
   {
    "duration": 10,
    "start_time": "2022-10-20T11:02:26.699Z"
   },
   {
    "duration": 27,
    "start_time": "2022-10-20T11:02:26.710Z"
   },
   {
    "duration": 6,
    "start_time": "2022-10-20T11:02:26.739Z"
   },
   {
    "duration": 12,
    "start_time": "2022-10-20T11:02:26.746Z"
   },
   {
    "duration": 22,
    "start_time": "2022-10-20T11:02:26.760Z"
   },
   {
    "duration": 13,
    "start_time": "2022-10-20T11:02:26.784Z"
   },
   {
    "duration": 41,
    "start_time": "2022-10-20T11:02:26.822Z"
   },
   {
    "duration": 5,
    "start_time": "2022-10-20T11:02:26.865Z"
   },
   {
    "duration": 9,
    "start_time": "2022-10-20T11:02:26.873Z"
   },
   {
    "duration": 14,
    "start_time": "2022-10-20T11:02:26.884Z"
   },
   {
    "duration": 24,
    "start_time": "2022-10-20T11:02:26.899Z"
   },
   {
    "duration": 5,
    "start_time": "2022-10-20T11:02:26.924Z"
   },
   {
    "duration": 29,
    "start_time": "2022-10-20T11:02:26.930Z"
   },
   {
    "duration": 4,
    "start_time": "2022-10-20T11:02:26.960Z"
   },
   {
    "duration": 45,
    "start_time": "2022-10-20T11:02:26.966Z"
   },
   {
    "duration": 19,
    "start_time": "2022-10-20T11:02:27.012Z"
   },
   {
    "duration": 10,
    "start_time": "2022-10-20T11:02:27.033Z"
   },
   {
    "duration": 9,
    "start_time": "2022-10-20T11:02:27.044Z"
   },
   {
    "duration": 12,
    "start_time": "2022-10-20T11:02:27.054Z"
   },
   {
    "duration": 15,
    "start_time": "2022-10-20T11:02:27.067Z"
   },
   {
    "duration": 23,
    "start_time": "2022-10-20T11:02:27.083Z"
   },
   {
    "duration": 25,
    "start_time": "2022-10-20T11:02:27.107Z"
   },
   {
    "duration": 20,
    "start_time": "2022-10-20T11:02:27.134Z"
   },
   {
    "duration": 7,
    "start_time": "2022-10-20T11:02:27.156Z"
   },
   {
    "duration": 9,
    "start_time": "2022-10-20T11:02:27.164Z"
   },
   {
    "duration": 20,
    "start_time": "2022-10-20T11:02:27.175Z"
   },
   {
    "duration": 5,
    "start_time": "2022-10-20T11:02:27.200Z"
   },
   {
    "duration": 32,
    "start_time": "2022-10-20T11:02:27.207Z"
   },
   {
    "duration": 14,
    "start_time": "2022-10-20T11:02:27.241Z"
   },
   {
    "duration": 12,
    "start_time": "2022-10-20T11:02:27.256Z"
   },
   {
    "duration": 9,
    "start_time": "2022-10-20T11:02:27.270Z"
   },
   {
    "duration": 17,
    "start_time": "2022-10-20T11:02:27.280Z"
   },
   {
    "duration": 25,
    "start_time": "2022-10-20T11:02:27.298Z"
   },
   {
    "duration": 12,
    "start_time": "2022-10-20T11:02:27.324Z"
   },
   {
    "duration": 20,
    "start_time": "2022-10-20T11:02:27.338Z"
   },
   {
    "duration": 6,
    "start_time": "2022-10-20T11:02:27.359Z"
   },
   {
    "duration": 23,
    "start_time": "2022-10-20T11:02:27.367Z"
   },
   {
    "duration": 13,
    "start_time": "2022-10-20T11:02:27.392Z"
   },
   {
    "duration": 23,
    "start_time": "2022-10-20T11:02:27.406Z"
   },
   {
    "duration": 17,
    "start_time": "2022-10-20T11:02:27.430Z"
   },
   {
    "duration": 13,
    "start_time": "2022-10-20T11:02:27.448Z"
   },
   {
    "duration": 18,
    "start_time": "2022-10-20T11:02:27.463Z"
   },
   {
    "duration": 10,
    "start_time": "2022-10-20T11:02:27.482Z"
   },
   {
    "duration": 15,
    "start_time": "2022-10-20T11:02:27.493Z"
   },
   {
    "duration": 15,
    "start_time": "2022-10-20T11:02:27.509Z"
   },
   {
    "duration": 310,
    "start_time": "2022-10-20T11:02:27.525Z"
   },
   {
    "duration": 8,
    "start_time": "2022-10-20T11:02:27.837Z"
   },
   {
    "duration": 361,
    "start_time": "2022-10-20T11:02:27.847Z"
   },
   {
    "duration": 13,
    "start_time": "2022-10-20T11:02:28.209Z"
   },
   {
    "duration": 928,
    "start_time": "2022-10-20T11:02:28.224Z"
   },
   {
    "duration": 7,
    "start_time": "2022-10-20T11:02:29.154Z"
   },
   {
    "duration": 10337,
    "start_time": "2022-10-20T11:02:29.162Z"
   },
   {
    "duration": 11,
    "start_time": "2022-10-20T11:02:39.501Z"
   },
   {
    "duration": 17,
    "start_time": "2022-10-20T11:02:39.521Z"
   },
   {
    "duration": 5,
    "start_time": "2022-10-20T11:02:39.540Z"
   },
   {
    "duration": 17,
    "start_time": "2022-10-20T11:02:39.547Z"
   },
   {
    "duration": 4,
    "start_time": "2022-10-20T11:02:39.565Z"
   },
   {
    "duration": 16,
    "start_time": "2022-10-20T11:02:39.571Z"
   },
   {
    "duration": 5,
    "start_time": "2022-10-20T11:02:39.588Z"
   },
   {
    "duration": 17,
    "start_time": "2022-10-20T11:02:39.622Z"
   },
   {
    "duration": 6,
    "start_time": "2022-10-20T11:02:39.641Z"
   },
   {
    "duration": 17,
    "start_time": "2022-10-20T11:02:39.649Z"
   },
   {
    "duration": 9,
    "start_time": "2022-10-20T11:02:39.668Z"
   },
   {
    "duration": 13,
    "start_time": "2022-10-20T11:02:39.679Z"
   },
   {
    "duration": 3,
    "start_time": "2022-10-20T11:02:39.693Z"
   },
   {
    "duration": 24,
    "start_time": "2022-10-20T11:02:39.721Z"
   },
   {
    "duration": 17,
    "start_time": "2022-10-20T11:02:39.746Z"
   },
   {
    "duration": 159,
    "start_time": "2022-10-20T11:02:39.764Z"
   },
   {
    "duration": 3,
    "start_time": "2022-10-20T11:02:39.925Z"
   },
   {
    "duration": 157,
    "start_time": "2022-10-20T11:02:39.930Z"
   },
   {
    "duration": 3,
    "start_time": "2022-10-20T11:02:40.089Z"
   },
   {
    "duration": 13,
    "start_time": "2022-10-20T11:02:40.093Z"
   },
   {
    "duration": 17,
    "start_time": "2022-10-20T11:02:40.107Z"
   },
   {
    "duration": 18,
    "start_time": "2022-10-20T11:02:40.126Z"
   },
   {
    "duration": 17,
    "start_time": "2022-10-20T11:02:40.145Z"
   },
   {
    "duration": 197,
    "start_time": "2022-10-20T11:02:40.164Z"
   },
   {
    "duration": 16,
    "start_time": "2022-10-20T11:02:40.363Z"
   },
   {
    "duration": 15,
    "start_time": "2022-10-20T11:02:40.381Z"
   },
   {
    "duration": 352,
    "start_time": "2022-10-20T11:02:40.397Z"
   },
   {
    "duration": 23,
    "start_time": "2022-10-20T11:02:40.750Z"
   },
   {
    "duration": 17,
    "start_time": "2022-10-20T11:02:46.574Z"
   },
   {
    "duration": 49,
    "start_time": "2022-10-20T11:02:50.770Z"
   },
   {
    "duration": 40,
    "start_time": "2022-10-20T11:04:10.139Z"
   },
   {
    "duration": 56,
    "start_time": "2022-10-20T11:04:27.637Z"
   },
   {
    "duration": 45,
    "start_time": "2022-10-20T11:04:32.835Z"
   },
   {
    "duration": 43,
    "start_time": "2022-10-20T11:05:03.688Z"
   },
   {
    "duration": 8,
    "start_time": "2022-10-20T11:06:07.205Z"
   },
   {
    "duration": 16,
    "start_time": "2022-10-20T11:26:26.984Z"
   },
   {
    "duration": 47,
    "start_time": "2022-10-20T11:26:31.992Z"
   },
   {
    "duration": 41,
    "start_time": "2022-10-20T11:26:42.397Z"
   },
   {
    "duration": 16,
    "start_time": "2022-10-20T11:28:20.443Z"
   },
   {
    "duration": 15,
    "start_time": "2022-10-20T11:29:44.963Z"
   },
   {
    "duration": 118,
    "start_time": "2022-10-20T11:29:55.540Z"
   },
   {
    "duration": 10,
    "start_time": "2022-10-20T11:29:55.660Z"
   },
   {
    "duration": 21,
    "start_time": "2022-10-20T11:29:55.672Z"
   },
   {
    "duration": 4,
    "start_time": "2022-10-20T11:29:55.695Z"
   },
   {
    "duration": 18,
    "start_time": "2022-10-20T11:29:55.700Z"
   },
   {
    "duration": 22,
    "start_time": "2022-10-20T11:29:55.719Z"
   },
   {
    "duration": 12,
    "start_time": "2022-10-20T11:29:55.742Z"
   },
   {
    "duration": 32,
    "start_time": "2022-10-20T11:29:55.756Z"
   },
   {
    "duration": 4,
    "start_time": "2022-10-20T11:29:55.790Z"
   },
   {
    "duration": 30,
    "start_time": "2022-10-20T11:29:55.796Z"
   },
   {
    "duration": 18,
    "start_time": "2022-10-20T11:29:55.828Z"
   },
   {
    "duration": 14,
    "start_time": "2022-10-20T11:29:55.847Z"
   },
   {
    "duration": 7,
    "start_time": "2022-10-20T11:29:55.863Z"
   },
   {
    "duration": 22,
    "start_time": "2022-10-20T11:29:55.872Z"
   },
   {
    "duration": 4,
    "start_time": "2022-10-20T11:29:55.896Z"
   },
   {
    "duration": 27,
    "start_time": "2022-10-20T11:29:55.902Z"
   },
   {
    "duration": 10,
    "start_time": "2022-10-20T11:29:55.930Z"
   },
   {
    "duration": 8,
    "start_time": "2022-10-20T11:29:55.942Z"
   },
   {
    "duration": 9,
    "start_time": "2022-10-20T11:29:55.952Z"
   },
   {
    "duration": 12,
    "start_time": "2022-10-20T11:29:55.962Z"
   },
   {
    "duration": 7,
    "start_time": "2022-10-20T11:29:55.975Z"
   },
   {
    "duration": 9,
    "start_time": "2022-10-20T11:29:55.983Z"
   },
   {
    "duration": 65,
    "start_time": "2022-10-20T11:29:55.994Z"
   },
   {
    "duration": 31,
    "start_time": "2022-10-20T11:29:56.061Z"
   },
   {
    "duration": 8,
    "start_time": "2022-10-20T11:29:56.095Z"
   },
   {
    "duration": 10,
    "start_time": "2022-10-20T11:29:56.105Z"
   },
   {
    "duration": 26,
    "start_time": "2022-10-20T11:29:56.117Z"
   },
   {
    "duration": 8,
    "start_time": "2022-10-20T11:29:56.148Z"
   },
   {
    "duration": 28,
    "start_time": "2022-10-20T11:29:56.158Z"
   },
   {
    "duration": 33,
    "start_time": "2022-10-20T11:29:56.188Z"
   },
   {
    "duration": 5,
    "start_time": "2022-10-20T11:29:56.223Z"
   },
   {
    "duration": 15,
    "start_time": "2022-10-20T11:29:56.230Z"
   },
   {
    "duration": 17,
    "start_time": "2022-10-20T11:29:56.247Z"
   },
   {
    "duration": 6,
    "start_time": "2022-10-20T11:29:56.265Z"
   },
   {
    "duration": 10,
    "start_time": "2022-10-20T11:29:56.272Z"
   },
   {
    "duration": 16,
    "start_time": "2022-10-20T11:29:56.284Z"
   },
   {
    "duration": 5,
    "start_time": "2022-10-20T11:29:56.321Z"
   },
   {
    "duration": 13,
    "start_time": "2022-10-20T11:29:56.327Z"
   },
   {
    "duration": 22,
    "start_time": "2022-10-20T11:29:56.342Z"
   },
   {
    "duration": 17,
    "start_time": "2022-10-20T11:29:56.365Z"
   },
   {
    "duration": 18,
    "start_time": "2022-10-20T11:29:56.383Z"
   },
   {
    "duration": 5,
    "start_time": "2022-10-20T11:29:56.402Z"
   },
   {
    "duration": 16,
    "start_time": "2022-10-20T11:29:56.408Z"
   },
   {
    "duration": 10,
    "start_time": "2022-10-20T11:29:56.425Z"
   },
   {
    "duration": 15,
    "start_time": "2022-10-20T11:29:56.436Z"
   },
   {
    "duration": 17,
    "start_time": "2022-10-20T11:29:56.452Z"
   },
   {
    "duration": 277,
    "start_time": "2022-10-20T11:29:56.470Z"
   },
   {
    "duration": 7,
    "start_time": "2022-10-20T11:29:56.748Z"
   },
   {
    "duration": 374,
    "start_time": "2022-10-20T11:29:56.756Z"
   },
   {
    "duration": 6,
    "start_time": "2022-10-20T11:29:57.131Z"
   },
   {
    "duration": 944,
    "start_time": "2022-10-20T11:29:57.139Z"
   },
   {
    "duration": 11,
    "start_time": "2022-10-20T11:29:58.085Z"
   },
   {
    "duration": 9941,
    "start_time": "2022-10-20T11:29:58.098Z"
   },
   {
    "duration": 11,
    "start_time": "2022-10-20T11:30:08.041Z"
   },
   {
    "duration": 20,
    "start_time": "2022-10-20T11:30:08.053Z"
   },
   {
    "duration": 4,
    "start_time": "2022-10-20T11:30:08.075Z"
   },
   {
    "duration": 20,
    "start_time": "2022-10-20T11:30:08.080Z"
   },
   {
    "duration": 21,
    "start_time": "2022-10-20T11:30:08.101Z"
   },
   {
    "duration": 15,
    "start_time": "2022-10-20T11:30:08.124Z"
   },
   {
    "duration": 4,
    "start_time": "2022-10-20T11:30:08.141Z"
   },
   {
    "duration": 18,
    "start_time": "2022-10-20T11:30:08.146Z"
   },
   {
    "duration": 4,
    "start_time": "2022-10-20T11:30:08.166Z"
   },
   {
    "duration": 17,
    "start_time": "2022-10-20T11:30:08.171Z"
   },
   {
    "duration": 32,
    "start_time": "2022-10-20T11:30:08.190Z"
   },
   {
    "duration": 14,
    "start_time": "2022-10-20T11:30:08.223Z"
   },
   {
    "duration": 5,
    "start_time": "2022-10-20T11:30:08.239Z"
   },
   {
    "duration": 18,
    "start_time": "2022-10-20T11:30:08.246Z"
   },
   {
    "duration": 17,
    "start_time": "2022-10-20T11:30:08.266Z"
   },
   {
    "duration": 166,
    "start_time": "2022-10-20T11:30:08.285Z"
   },
   {
    "duration": 4,
    "start_time": "2022-10-20T11:30:08.453Z"
   },
   {
    "duration": 153,
    "start_time": "2022-10-20T11:30:08.458Z"
   },
   {
    "duration": 10,
    "start_time": "2022-10-20T11:30:08.612Z"
   },
   {
    "duration": 9,
    "start_time": "2022-10-20T11:30:08.623Z"
   },
   {
    "duration": 12,
    "start_time": "2022-10-20T11:30:08.633Z"
   },
   {
    "duration": 30,
    "start_time": "2022-10-20T11:30:08.646Z"
   },
   {
    "duration": 17,
    "start_time": "2022-10-20T11:30:08.677Z"
   },
   {
    "duration": 163,
    "start_time": "2022-10-20T11:30:08.695Z"
   },
   {
    "duration": 15,
    "start_time": "2022-10-20T11:30:08.860Z"
   },
   {
    "duration": 14,
    "start_time": "2022-10-20T11:30:08.876Z"
   },
   {
    "duration": 310,
    "start_time": "2022-10-20T11:30:08.892Z"
   },
   {
    "duration": 30,
    "start_time": "2022-10-20T11:30:09.203Z"
   },
   {
    "duration": 15,
    "start_time": "2022-10-20T11:30:09.238Z"
   },
   {
    "duration": 209,
    "start_time": "2022-10-20T11:30:25.456Z"
   },
   {
    "duration": 10,
    "start_time": "2022-10-20T11:32:17.151Z"
   },
   {
    "duration": 11,
    "start_time": "2022-10-20T11:34:27.740Z"
   },
   {
    "duration": 18,
    "start_time": "2022-10-20T11:34:37.552Z"
   },
   {
    "duration": 133,
    "start_time": "2022-10-20T11:34:47.190Z"
   },
   {
    "duration": 9,
    "start_time": "2022-10-20T11:34:47.325Z"
   },
   {
    "duration": 28,
    "start_time": "2022-10-20T11:34:47.336Z"
   },
   {
    "duration": 6,
    "start_time": "2022-10-20T11:34:47.367Z"
   },
   {
    "duration": 19,
    "start_time": "2022-10-20T11:34:47.374Z"
   },
   {
    "duration": 47,
    "start_time": "2022-10-20T11:34:47.395Z"
   },
   {
    "duration": 19,
    "start_time": "2022-10-20T11:34:47.443Z"
   },
   {
    "duration": 58,
    "start_time": "2022-10-20T11:34:47.466Z"
   },
   {
    "duration": 4,
    "start_time": "2022-10-20T11:34:47.526Z"
   },
   {
    "duration": 10,
    "start_time": "2022-10-20T11:34:47.532Z"
   },
   {
    "duration": 12,
    "start_time": "2022-10-20T11:34:47.543Z"
   },
   {
    "duration": 10,
    "start_time": "2022-10-20T11:34:47.557Z"
   },
   {
    "duration": 4,
    "start_time": "2022-10-20T11:34:47.568Z"
   },
   {
    "duration": 24,
    "start_time": "2022-10-20T11:34:47.573Z"
   },
   {
    "duration": 23,
    "start_time": "2022-10-20T11:34:47.599Z"
   },
   {
    "duration": 14,
    "start_time": "2022-10-20T11:34:47.624Z"
   },
   {
    "duration": 8,
    "start_time": "2022-10-20T11:34:47.640Z"
   },
   {
    "duration": 19,
    "start_time": "2022-10-20T11:34:47.650Z"
   },
   {
    "duration": 9,
    "start_time": "2022-10-20T11:34:47.671Z"
   },
   {
    "duration": 16,
    "start_time": "2022-10-20T11:34:47.682Z"
   },
   {
    "duration": 31,
    "start_time": "2022-10-20T11:34:47.700Z"
   },
   {
    "duration": 7,
    "start_time": "2022-10-20T11:34:47.733Z"
   },
   {
    "duration": 28,
    "start_time": "2022-10-20T11:34:47.741Z"
   },
   {
    "duration": 42,
    "start_time": "2022-10-20T11:34:47.771Z"
   },
   {
    "duration": 11,
    "start_time": "2022-10-20T11:34:47.814Z"
   },
   {
    "duration": 18,
    "start_time": "2022-10-20T11:34:47.827Z"
   },
   {
    "duration": 33,
    "start_time": "2022-10-20T11:34:47.847Z"
   },
   {
    "duration": 11,
    "start_time": "2022-10-20T11:34:47.884Z"
   },
   {
    "duration": 29,
    "start_time": "2022-10-20T11:34:47.896Z"
   },
   {
    "duration": 15,
    "start_time": "2022-10-20T11:34:47.927Z"
   },
   {
    "duration": 20,
    "start_time": "2022-10-20T11:34:47.944Z"
   },
   {
    "duration": 16,
    "start_time": "2022-10-20T11:34:47.966Z"
   },
   {
    "duration": 19,
    "start_time": "2022-10-20T11:34:47.983Z"
   },
   {
    "duration": 8,
    "start_time": "2022-10-20T11:34:48.004Z"
   },
   {
    "duration": 18,
    "start_time": "2022-10-20T11:34:48.014Z"
   },
   {
    "duration": 18,
    "start_time": "2022-10-20T11:34:48.033Z"
   },
   {
    "duration": 5,
    "start_time": "2022-10-20T11:34:48.053Z"
   },
   {
    "duration": 11,
    "start_time": "2022-10-20T11:34:48.060Z"
   },
   {
    "duration": 6,
    "start_time": "2022-10-20T11:34:48.072Z"
   },
   {
    "duration": 44,
    "start_time": "2022-10-20T11:34:48.079Z"
   },
   {
    "duration": 15,
    "start_time": "2022-10-20T11:34:48.125Z"
   },
   {
    "duration": 6,
    "start_time": "2022-10-20T11:34:48.142Z"
   },
   {
    "duration": 10,
    "start_time": "2022-10-20T11:34:48.150Z"
   },
   {
    "duration": 15,
    "start_time": "2022-10-20T11:34:48.162Z"
   },
   {
    "duration": 26,
    "start_time": "2022-10-20T11:34:48.178Z"
   },
   {
    "duration": 12,
    "start_time": "2022-10-20T11:34:48.206Z"
   },
   {
    "duration": 307,
    "start_time": "2022-10-20T11:34:48.219Z"
   },
   {
    "duration": 8,
    "start_time": "2022-10-20T11:34:48.528Z"
   },
   {
    "duration": 390,
    "start_time": "2022-10-20T11:34:48.538Z"
   },
   {
    "duration": 8,
    "start_time": "2022-10-20T11:34:48.930Z"
   },
   {
    "duration": 976,
    "start_time": "2022-10-20T11:34:48.940Z"
   },
   {
    "duration": 12,
    "start_time": "2022-10-20T11:34:49.918Z"
   },
   {
    "duration": 10734,
    "start_time": "2022-10-20T11:34:49.932Z"
   },
   {
    "duration": 12,
    "start_time": "2022-10-20T11:35:00.667Z"
   },
   {
    "duration": 67,
    "start_time": "2022-10-20T11:35:00.681Z"
   },
   {
    "duration": 33,
    "start_time": "2022-10-20T11:35:00.749Z"
   },
   {
    "duration": 44,
    "start_time": "2022-10-20T11:35:00.784Z"
   },
   {
    "duration": 36,
    "start_time": "2022-10-20T11:35:00.830Z"
   },
   {
    "duration": 31,
    "start_time": "2022-10-20T11:35:00.867Z"
   },
   {
    "duration": 29,
    "start_time": "2022-10-20T11:35:00.899Z"
   },
   {
    "duration": 39,
    "start_time": "2022-10-20T11:35:00.930Z"
   },
   {
    "duration": 40,
    "start_time": "2022-10-20T11:35:00.971Z"
   },
   {
    "duration": 56,
    "start_time": "2022-10-20T11:35:01.013Z"
   },
   {
    "duration": 23,
    "start_time": "2022-10-20T11:35:01.070Z"
   },
   {
    "duration": 14,
    "start_time": "2022-10-20T11:35:01.095Z"
   },
   {
    "duration": 4,
    "start_time": "2022-10-20T11:35:01.111Z"
   },
   {
    "duration": 63,
    "start_time": "2022-10-20T11:35:01.117Z"
   },
   {
    "duration": 16,
    "start_time": "2022-10-20T11:35:01.182Z"
   },
   {
    "duration": 143,
    "start_time": "2022-10-20T11:35:01.200Z"
   },
   {
    "duration": 5,
    "start_time": "2022-10-20T11:35:01.344Z"
   },
   {
    "duration": 182,
    "start_time": "2022-10-20T11:35:01.350Z"
   },
   {
    "duration": 3,
    "start_time": "2022-10-20T11:35:01.534Z"
   },
   {
    "duration": 23,
    "start_time": "2022-10-20T11:35:01.538Z"
   },
   {
    "duration": 73,
    "start_time": "2022-10-20T11:35:01.562Z"
   },
   {
    "duration": 64,
    "start_time": "2022-10-20T11:35:01.637Z"
   },
   {
    "duration": 17,
    "start_time": "2022-10-20T11:35:01.702Z"
   },
   {
    "duration": 151,
    "start_time": "2022-10-20T11:35:01.721Z"
   },
   {
    "duration": 14,
    "start_time": "2022-10-20T11:35:01.873Z"
   },
   {
    "duration": 60,
    "start_time": "2022-10-20T11:35:01.889Z"
   },
   {
    "duration": 302,
    "start_time": "2022-10-20T11:35:01.950Z"
   },
   {
    "duration": 22,
    "start_time": "2022-10-20T11:35:02.254Z"
   },
   {
    "duration": 38,
    "start_time": "2022-10-20T11:35:02.281Z"
   },
   {
    "duration": 91,
    "start_time": "2022-10-20T11:35:02.320Z"
   },
   {
    "duration": 12,
    "start_time": "2022-10-20T11:35:05.306Z"
   },
   {
    "duration": 220,
    "start_time": "2022-10-20T11:35:41.094Z"
   },
   {
    "duration": 247,
    "start_time": "2022-10-20T11:36:44.419Z"
   },
   {
    "duration": 45,
    "start_time": "2022-10-20T11:38:13.957Z"
   },
   {
    "duration": 18,
    "start_time": "2022-10-20T11:39:19.731Z"
   },
   {
    "duration": 78,
    "start_time": "2022-10-20T11:39:24.581Z"
   },
   {
    "duration": 18,
    "start_time": "2022-10-20T11:39:46.199Z"
   },
   {
    "duration": 14,
    "start_time": "2022-10-20T11:39:49.406Z"
   },
   {
    "duration": 14,
    "start_time": "2022-10-20T11:40:03.655Z"
   },
   {
    "duration": 46,
    "start_time": "2022-10-20T11:40:24.352Z"
   },
   {
    "duration": 48,
    "start_time": "2022-10-20T11:42:24.268Z"
   },
   {
    "duration": 46,
    "start_time": "2022-10-20T11:42:34.548Z"
   },
   {
    "duration": 44,
    "start_time": "2022-10-20T11:43:31.485Z"
   },
   {
    "duration": 10,
    "start_time": "2022-10-20T11:43:52.834Z"
   },
   {
    "duration": 45,
    "start_time": "2022-10-20T11:44:08.421Z"
   },
   {
    "duration": 51,
    "start_time": "2022-10-20T11:46:40.105Z"
   },
   {
    "duration": 45,
    "start_time": "2022-10-20T11:47:05.625Z"
   },
   {
    "duration": 46,
    "start_time": "2022-10-20T11:47:11.293Z"
   },
   {
    "duration": 43,
    "start_time": "2022-10-20T11:47:22.729Z"
   },
   {
    "duration": 52,
    "start_time": "2022-10-20T11:47:56.937Z"
   },
   {
    "duration": 43,
    "start_time": "2022-10-20T11:48:01.327Z"
   },
   {
    "duration": 44,
    "start_time": "2022-10-20T11:49:12.969Z"
   },
   {
    "duration": 61,
    "start_time": "2022-10-20T11:49:46.017Z"
   },
   {
    "duration": 40,
    "start_time": "2022-10-20T11:49:50.329Z"
   },
   {
    "duration": 46,
    "start_time": "2022-10-20T11:49:56.318Z"
   },
   {
    "duration": 44,
    "start_time": "2022-10-20T11:50:42.952Z"
   },
   {
    "duration": 41,
    "start_time": "2022-10-20T11:50:47.128Z"
   },
   {
    "duration": 50,
    "start_time": "2022-10-20T11:52:33.110Z"
   },
   {
    "duration": 46,
    "start_time": "2022-10-20T11:54:22.579Z"
   },
   {
    "duration": 55,
    "start_time": "2022-10-20T11:55:02.881Z"
   },
   {
    "duration": 45,
    "start_time": "2022-10-20T11:55:10.130Z"
   },
   {
    "duration": 44,
    "start_time": "2022-10-20T11:55:19.211Z"
   },
   {
    "duration": 45,
    "start_time": "2022-10-20T11:56:17.210Z"
   },
   {
    "duration": 44,
    "start_time": "2022-10-20T11:57:51.252Z"
   },
   {
    "duration": 42,
    "start_time": "2022-10-20T11:58:12.872Z"
   },
   {
    "duration": 52,
    "start_time": "2022-10-20T11:58:52.903Z"
   },
   {
    "duration": 43,
    "start_time": "2022-10-20T12:00:47.408Z"
   },
   {
    "duration": 44,
    "start_time": "2022-10-20T12:02:02.156Z"
   },
   {
    "duration": 41,
    "start_time": "2022-10-20T12:02:45.471Z"
   },
   {
    "duration": 83,
    "start_time": "2022-10-20T12:04:21.247Z"
   },
   {
    "duration": 51,
    "start_time": "2022-10-20T12:04:26.878Z"
   },
   {
    "duration": 527,
    "start_time": "2022-10-20T12:14:01.292Z"
   },
   {
    "duration": 11,
    "start_time": "2022-10-20T12:14:01.820Z"
   },
   {
    "duration": 31,
    "start_time": "2022-10-20T12:14:01.832Z"
   },
   {
    "duration": 25,
    "start_time": "2022-10-20T12:14:01.865Z"
   },
   {
    "duration": 23,
    "start_time": "2022-10-20T12:14:01.891Z"
   },
   {
    "duration": 29,
    "start_time": "2022-10-20T12:14:01.916Z"
   },
   {
    "duration": 11,
    "start_time": "2022-10-20T12:14:01.947Z"
   },
   {
    "duration": 33,
    "start_time": "2022-10-20T12:14:01.959Z"
   },
   {
    "duration": 3,
    "start_time": "2022-10-20T12:14:01.994Z"
   },
   {
    "duration": 22,
    "start_time": "2022-10-20T12:14:01.999Z"
   },
   {
    "duration": 12,
    "start_time": "2022-10-20T12:14:02.023Z"
   },
   {
    "duration": 26,
    "start_time": "2022-10-20T12:14:02.036Z"
   },
   {
    "duration": 30,
    "start_time": "2022-10-20T12:14:02.063Z"
   },
   {
    "duration": 33,
    "start_time": "2022-10-20T12:14:02.094Z"
   },
   {
    "duration": 5,
    "start_time": "2022-10-20T12:14:02.129Z"
   },
   {
    "duration": 24,
    "start_time": "2022-10-20T12:14:02.136Z"
   },
   {
    "duration": 12,
    "start_time": "2022-10-20T12:14:02.161Z"
   },
   {
    "duration": 14,
    "start_time": "2022-10-20T12:14:02.174Z"
   },
   {
    "duration": 9,
    "start_time": "2022-10-20T12:14:02.189Z"
   },
   {
    "duration": 45,
    "start_time": "2022-10-20T12:14:02.200Z"
   },
   {
    "duration": 7,
    "start_time": "2022-10-20T12:14:02.247Z"
   },
   {
    "duration": 12,
    "start_time": "2022-10-20T12:14:02.255Z"
   },
   {
    "duration": 28,
    "start_time": "2022-10-20T12:14:02.268Z"
   },
   {
    "duration": 19,
    "start_time": "2022-10-20T12:14:02.298Z"
   },
   {
    "duration": 16,
    "start_time": "2022-10-20T12:14:02.318Z"
   },
   {
    "duration": 10,
    "start_time": "2022-10-20T12:14:02.336Z"
   },
   {
    "duration": 27,
    "start_time": "2022-10-20T12:14:02.347Z"
   },
   {
    "duration": 6,
    "start_time": "2022-10-20T12:14:02.378Z"
   },
   {
    "duration": 40,
    "start_time": "2022-10-20T12:14:02.386Z"
   },
   {
    "duration": 18,
    "start_time": "2022-10-20T12:14:02.427Z"
   },
   {
    "duration": 18,
    "start_time": "2022-10-20T12:14:02.446Z"
   },
   {
    "duration": 10,
    "start_time": "2022-10-20T12:14:02.465Z"
   },
   {
    "duration": 16,
    "start_time": "2022-10-20T12:14:02.477Z"
   },
   {
    "duration": 10,
    "start_time": "2022-10-20T12:14:02.494Z"
   },
   {
    "duration": 19,
    "start_time": "2022-10-20T12:14:02.505Z"
   },
   {
    "duration": 21,
    "start_time": "2022-10-20T12:14:02.525Z"
   },
   {
    "duration": 4,
    "start_time": "2022-10-20T12:14:02.548Z"
   },
   {
    "duration": 22,
    "start_time": "2022-10-20T12:14:02.553Z"
   },
   {
    "duration": 10,
    "start_time": "2022-10-20T12:14:02.577Z"
   },
   {
    "duration": 11,
    "start_time": "2022-10-20T12:14:02.588Z"
   },
   {
    "duration": 27,
    "start_time": "2022-10-20T12:14:02.600Z"
   },
   {
    "duration": 4,
    "start_time": "2022-10-20T12:14:02.628Z"
   },
   {
    "duration": 9,
    "start_time": "2022-10-20T12:14:02.633Z"
   },
   {
    "duration": 12,
    "start_time": "2022-10-20T12:14:02.643Z"
   },
   {
    "duration": 20,
    "start_time": "2022-10-20T12:14:02.656Z"
   },
   {
    "duration": 8,
    "start_time": "2022-10-20T12:14:02.677Z"
   },
   {
    "duration": 512,
    "start_time": "2022-10-20T12:14:02.686Z"
   },
   {
    "duration": 9,
    "start_time": "2022-10-20T12:14:03.199Z"
   },
   {
    "duration": 363,
    "start_time": "2022-10-20T12:14:03.209Z"
   },
   {
    "duration": 6,
    "start_time": "2022-10-20T12:14:03.573Z"
   },
   {
    "duration": 892,
    "start_time": "2022-10-20T12:14:03.581Z"
   },
   {
    "duration": 8,
    "start_time": "2022-10-20T12:14:04.475Z"
   },
   {
    "duration": 9819,
    "start_time": "2022-10-20T12:14:04.484Z"
   },
   {
    "duration": 20,
    "start_time": "2022-10-20T12:14:14.304Z"
   },
   {
    "duration": 20,
    "start_time": "2022-10-20T12:14:14.326Z"
   },
   {
    "duration": 12,
    "start_time": "2022-10-20T12:14:14.348Z"
   },
   {
    "duration": 18,
    "start_time": "2022-10-20T12:14:14.362Z"
   },
   {
    "duration": 4,
    "start_time": "2022-10-20T12:14:14.382Z"
   },
   {
    "duration": 15,
    "start_time": "2022-10-20T12:14:14.388Z"
   },
   {
    "duration": 7,
    "start_time": "2022-10-20T12:14:14.421Z"
   },
   {
    "duration": 17,
    "start_time": "2022-10-20T12:14:14.429Z"
   },
   {
    "duration": 6,
    "start_time": "2022-10-20T12:14:14.448Z"
   },
   {
    "duration": 18,
    "start_time": "2022-10-20T12:14:14.455Z"
   },
   {
    "duration": 8,
    "start_time": "2022-10-20T12:14:14.475Z"
   },
   {
    "duration": 41,
    "start_time": "2022-10-20T12:14:14.484Z"
   },
   {
    "duration": 3,
    "start_time": "2022-10-20T12:14:14.527Z"
   },
   {
    "duration": 18,
    "start_time": "2022-10-20T12:14:14.532Z"
   },
   {
    "duration": 17,
    "start_time": "2022-10-20T12:14:14.552Z"
   },
   {
    "duration": 170,
    "start_time": "2022-10-20T12:14:14.571Z"
   },
   {
    "duration": 4,
    "start_time": "2022-10-20T12:14:14.742Z"
   },
   {
    "duration": 202,
    "start_time": "2022-10-20T12:14:14.747Z"
   },
   {
    "duration": 3,
    "start_time": "2022-10-20T12:14:14.951Z"
   },
   {
    "duration": 12,
    "start_time": "2022-10-20T12:14:14.956Z"
   },
   {
    "duration": 9,
    "start_time": "2022-10-20T12:14:14.969Z"
   },
   {
    "duration": 16,
    "start_time": "2022-10-20T12:14:14.979Z"
   },
   {
    "duration": 35,
    "start_time": "2022-10-20T12:14:14.996Z"
   },
   {
    "duration": 153,
    "start_time": "2022-10-20T12:14:15.032Z"
   },
   {
    "duration": 14,
    "start_time": "2022-10-20T12:14:15.186Z"
   },
   {
    "duration": 28,
    "start_time": "2022-10-20T12:14:15.202Z"
   },
   {
    "duration": 305,
    "start_time": "2022-10-20T12:14:15.232Z"
   },
   {
    "duration": 24,
    "start_time": "2022-10-20T12:14:15.539Z"
   },
   {
    "duration": 8,
    "start_time": "2022-10-20T12:14:15.568Z"
   },
   {
    "duration": 154,
    "start_time": "2022-10-20T12:14:15.578Z"
   },
   {
    "duration": 0,
    "start_time": "2022-10-20T12:14:15.734Z"
   },
   {
    "duration": 0,
    "start_time": "2022-10-20T12:14:15.735Z"
   },
   {
    "duration": 0,
    "start_time": "2022-10-20T12:14:15.736Z"
   },
   {
    "duration": 0,
    "start_time": "2022-10-20T12:14:15.737Z"
   },
   {
    "duration": 0,
    "start_time": "2022-10-20T12:14:15.739Z"
   },
   {
    "duration": 0,
    "start_time": "2022-10-20T12:14:15.740Z"
   },
   {
    "duration": 0,
    "start_time": "2022-10-20T12:14:15.741Z"
   },
   {
    "duration": 0,
    "start_time": "2022-10-20T12:14:15.743Z"
   },
   {
    "duration": 0,
    "start_time": "2022-10-20T12:14:15.744Z"
   },
   {
    "duration": 0,
    "start_time": "2022-10-20T12:14:15.745Z"
   },
   {
    "duration": 0,
    "start_time": "2022-10-20T12:14:15.747Z"
   },
   {
    "duration": 0,
    "start_time": "2022-10-20T12:14:15.748Z"
   },
   {
    "duration": 0,
    "start_time": "2022-10-20T12:14:15.749Z"
   },
   {
    "duration": 149,
    "start_time": "2022-10-20T12:18:43.629Z"
   },
   {
    "duration": 137,
    "start_time": "2022-10-20T12:18:50.652Z"
   },
   {
    "duration": 137,
    "start_time": "2022-10-20T12:18:54.286Z"
   },
   {
    "duration": 145,
    "start_time": "2022-10-20T12:19:13.235Z"
   },
   {
    "duration": 84,
    "start_time": "2022-10-20T12:19:53.755Z"
   },
   {
    "duration": 8,
    "start_time": "2022-10-20T12:19:58.007Z"
   },
   {
    "duration": 417,
    "start_time": "2022-10-20T12:20:07.883Z"
   },
   {
    "duration": 47,
    "start_time": "2022-10-20T12:20:30.297Z"
   },
   {
    "duration": 194,
    "start_time": "2022-10-20T12:20:41.070Z"
   },
   {
    "duration": 18,
    "start_time": "2022-10-20T12:20:41.266Z"
   },
   {
    "duration": 4,
    "start_time": "2022-10-20T12:20:41.286Z"
   },
   {
    "duration": 21,
    "start_time": "2022-10-20T12:20:41.293Z"
   },
   {
    "duration": 11,
    "start_time": "2022-10-20T12:20:41.322Z"
   },
   {
    "duration": 5,
    "start_time": "2022-10-20T12:20:41.335Z"
   },
   {
    "duration": 16,
    "start_time": "2022-10-20T12:20:41.342Z"
   },
   {
    "duration": 25,
    "start_time": "2022-10-20T12:20:41.360Z"
   },
   {
    "duration": 8,
    "start_time": "2022-10-20T12:20:41.387Z"
   },
   {
    "duration": 31,
    "start_time": "2022-10-20T12:20:41.396Z"
   },
   {
    "duration": 24,
    "start_time": "2022-10-20T12:20:41.429Z"
   },
   {
    "duration": 188,
    "start_time": "2022-10-20T12:20:41.455Z"
   },
   {
    "duration": 11,
    "start_time": "2022-10-20T12:20:41.644Z"
   },
   {
    "duration": 118,
    "start_time": "2022-10-20T12:22:48.213Z"
   },
   {
    "duration": 10,
    "start_time": "2022-10-20T12:22:48.333Z"
   },
   {
    "duration": 15,
    "start_time": "2022-10-20T12:22:48.344Z"
   },
   {
    "duration": 9,
    "start_time": "2022-10-20T12:22:48.361Z"
   },
   {
    "duration": 12,
    "start_time": "2022-10-20T12:22:48.371Z"
   },
   {
    "duration": 20,
    "start_time": "2022-10-20T12:22:48.384Z"
   },
   {
    "duration": 12,
    "start_time": "2022-10-20T12:22:48.422Z"
   },
   {
    "duration": 31,
    "start_time": "2022-10-20T12:22:48.435Z"
   },
   {
    "duration": 3,
    "start_time": "2022-10-20T12:22:48.468Z"
   },
   {
    "duration": 7,
    "start_time": "2022-10-20T12:22:48.473Z"
   },
   {
    "duration": 7,
    "start_time": "2022-10-20T12:22:48.481Z"
   },
   {
    "duration": 37,
    "start_time": "2022-10-20T12:22:48.489Z"
   },
   {
    "duration": 3,
    "start_time": "2022-10-20T12:22:48.527Z"
   },
   {
    "duration": 18,
    "start_time": "2022-10-20T12:22:48.532Z"
   },
   {
    "duration": 4,
    "start_time": "2022-10-20T12:22:48.551Z"
   },
   {
    "duration": 23,
    "start_time": "2022-10-20T12:22:48.556Z"
   },
   {
    "duration": 4,
    "start_time": "2022-10-20T12:22:48.580Z"
   },
   {
    "duration": 10,
    "start_time": "2022-10-20T12:22:48.585Z"
   },
   {
    "duration": 26,
    "start_time": "2022-10-20T12:22:48.596Z"
   },
   {
    "duration": 13,
    "start_time": "2022-10-20T12:22:48.624Z"
   },
   {
    "duration": 9,
    "start_time": "2022-10-20T12:22:48.639Z"
   },
   {
    "duration": 8,
    "start_time": "2022-10-20T12:22:48.649Z"
   },
   {
    "duration": 18,
    "start_time": "2022-10-20T12:22:48.658Z"
   },
   {
    "duration": 16,
    "start_time": "2022-10-20T12:22:48.677Z"
   },
   {
    "duration": 34,
    "start_time": "2022-10-20T12:22:48.694Z"
   },
   {
    "duration": 5,
    "start_time": "2022-10-20T12:22:48.729Z"
   },
   {
    "duration": 19,
    "start_time": "2022-10-20T12:22:48.735Z"
   },
   {
    "duration": 4,
    "start_time": "2022-10-20T12:22:48.758Z"
   },
   {
    "duration": 22,
    "start_time": "2022-10-20T12:22:48.764Z"
   },
   {
    "duration": 43,
    "start_time": "2022-10-20T12:22:48.787Z"
   },
   {
    "duration": 4,
    "start_time": "2022-10-20T12:22:48.831Z"
   },
   {
    "duration": 9,
    "start_time": "2022-10-20T12:22:48.837Z"
   },
   {
    "duration": 14,
    "start_time": "2022-10-20T12:22:48.847Z"
   },
   {
    "duration": 5,
    "start_time": "2022-10-20T12:22:48.862Z"
   },
   {
    "duration": 12,
    "start_time": "2022-10-20T12:22:48.868Z"
   },
   {
    "duration": 47,
    "start_time": "2022-10-20T12:22:48.882Z"
   },
   {
    "duration": 5,
    "start_time": "2022-10-20T12:22:48.931Z"
   },
   {
    "duration": 18,
    "start_time": "2022-10-20T12:22:48.937Z"
   },
   {
    "duration": 7,
    "start_time": "2022-10-20T12:22:48.957Z"
   },
   {
    "duration": 12,
    "start_time": "2022-10-20T12:22:48.966Z"
   },
   {
    "duration": 19,
    "start_time": "2022-10-20T12:22:48.980Z"
   },
   {
    "duration": 21,
    "start_time": "2022-10-20T12:22:49.000Z"
   },
   {
    "duration": 6,
    "start_time": "2022-10-20T12:22:49.023Z"
   },
   {
    "duration": 8,
    "start_time": "2022-10-20T12:22:49.031Z"
   },
   {
    "duration": 14,
    "start_time": "2022-10-20T12:22:49.041Z"
   },
   {
    "duration": 4,
    "start_time": "2022-10-20T12:22:49.057Z"
   },
   {
    "duration": 325,
    "start_time": "2022-10-20T12:22:49.063Z"
   },
   {
    "duration": 7,
    "start_time": "2022-10-20T12:22:49.390Z"
   },
   {
    "duration": 369,
    "start_time": "2022-10-20T12:22:49.399Z"
   },
   {
    "duration": 5,
    "start_time": "2022-10-20T12:22:49.770Z"
   },
   {
    "duration": 935,
    "start_time": "2022-10-20T12:22:49.777Z"
   },
   {
    "duration": 10,
    "start_time": "2022-10-20T12:22:50.714Z"
   },
   {
    "duration": 10518,
    "start_time": "2022-10-20T12:22:50.726Z"
   },
   {
    "duration": 12,
    "start_time": "2022-10-20T12:23:01.245Z"
   },
   {
    "duration": 31,
    "start_time": "2022-10-20T12:23:01.258Z"
   },
   {
    "duration": 4,
    "start_time": "2022-10-20T12:23:01.291Z"
   },
   {
    "duration": 18,
    "start_time": "2022-10-20T12:23:01.297Z"
   },
   {
    "duration": 5,
    "start_time": "2022-10-20T12:23:01.322Z"
   },
   {
    "duration": 19,
    "start_time": "2022-10-20T12:23:01.329Z"
   },
   {
    "duration": 5,
    "start_time": "2022-10-20T12:23:01.349Z"
   },
   {
    "duration": 27,
    "start_time": "2022-10-20T12:23:01.355Z"
   },
   {
    "duration": 5,
    "start_time": "2022-10-20T12:23:01.384Z"
   },
   {
    "duration": 37,
    "start_time": "2022-10-20T12:23:01.390Z"
   },
   {
    "duration": 9,
    "start_time": "2022-10-20T12:23:01.429Z"
   },
   {
    "duration": 15,
    "start_time": "2022-10-20T12:23:01.439Z"
   },
   {
    "duration": 5,
    "start_time": "2022-10-20T12:23:01.456Z"
   },
   {
    "duration": 23,
    "start_time": "2022-10-20T12:23:01.462Z"
   },
   {
    "duration": 39,
    "start_time": "2022-10-20T12:23:01.487Z"
   },
   {
    "duration": 230,
    "start_time": "2022-10-20T12:23:01.527Z"
   },
   {
    "duration": 5,
    "start_time": "2022-10-20T12:23:01.759Z"
   },
   {
    "duration": 170,
    "start_time": "2022-10-20T12:23:01.765Z"
   },
   {
    "duration": 3,
    "start_time": "2022-10-20T12:23:01.937Z"
   },
   {
    "duration": 45,
    "start_time": "2022-10-20T12:23:01.942Z"
   },
   {
    "duration": 26,
    "start_time": "2022-10-20T12:23:01.989Z"
   },
   {
    "duration": 40,
    "start_time": "2022-10-20T12:23:02.017Z"
   },
   {
    "duration": 22,
    "start_time": "2022-10-20T12:23:02.059Z"
   },
   {
    "duration": 188,
    "start_time": "2022-10-20T12:23:02.083Z"
   },
   {
    "duration": 15,
    "start_time": "2022-10-20T12:23:02.273Z"
   },
   {
    "duration": 14,
    "start_time": "2022-10-20T12:23:02.289Z"
   },
   {
    "duration": 310,
    "start_time": "2022-10-20T12:23:02.322Z"
   },
   {
    "duration": 23,
    "start_time": "2022-10-20T12:23:02.634Z"
   },
   {
    "duration": 78,
    "start_time": "2022-10-20T12:23:02.662Z"
   },
   {
    "duration": 87,
    "start_time": "2022-10-20T12:23:02.742Z"
   },
   {
    "duration": 197,
    "start_time": "2022-10-20T12:23:02.831Z"
   },
   {
    "duration": 18,
    "start_time": "2022-10-20T12:23:03.029Z"
   },
   {
    "duration": 9,
    "start_time": "2022-10-20T12:23:03.049Z"
   },
   {
    "duration": 18,
    "start_time": "2022-10-20T12:23:03.059Z"
   },
   {
    "duration": 30,
    "start_time": "2022-10-20T12:23:03.079Z"
   },
   {
    "duration": 5,
    "start_time": "2022-10-20T12:23:03.111Z"
   },
   {
    "duration": 18,
    "start_time": "2022-10-20T12:23:03.117Z"
   },
   {
    "duration": 19,
    "start_time": "2022-10-20T12:23:03.136Z"
   },
   {
    "duration": 8,
    "start_time": "2022-10-20T12:23:03.156Z"
   },
   {
    "duration": 20,
    "start_time": "2022-10-20T12:23:03.165Z"
   },
   {
    "duration": 36,
    "start_time": "2022-10-20T12:23:03.186Z"
   },
   {
    "duration": 154,
    "start_time": "2022-10-20T12:23:03.224Z"
   },
   {
    "duration": 9,
    "start_time": "2022-10-20T12:23:03.379Z"
   },
   {
    "duration": 72,
    "start_time": "2022-10-20T14:52:54.394Z"
   },
   {
    "duration": 63,
    "start_time": "2022-10-20T14:54:08.789Z"
   },
   {
    "duration": 49,
    "start_time": "2022-10-20T14:56:12.057Z"
   },
   {
    "duration": 44,
    "start_time": "2022-10-20T14:56:38.776Z"
   },
   {
    "duration": 44,
    "start_time": "2022-10-20T14:57:54.823Z"
   },
   {
    "duration": 528,
    "start_time": "2022-10-20T14:58:59.913Z"
   },
   {
    "duration": 10,
    "start_time": "2022-10-20T14:59:00.443Z"
   },
   {
    "duration": 32,
    "start_time": "2022-10-20T14:59:00.455Z"
   },
   {
    "duration": 16,
    "start_time": "2022-10-20T14:59:00.489Z"
   },
   {
    "duration": 15,
    "start_time": "2022-10-20T14:59:00.507Z"
   },
   {
    "duration": 32,
    "start_time": "2022-10-20T14:59:00.524Z"
   },
   {
    "duration": 29,
    "start_time": "2022-10-20T14:59:00.558Z"
   },
   {
    "duration": 54,
    "start_time": "2022-10-20T14:59:00.589Z"
   },
   {
    "duration": 4,
    "start_time": "2022-10-20T14:59:00.645Z"
   },
   {
    "duration": 27,
    "start_time": "2022-10-20T14:59:00.652Z"
   },
   {
    "duration": 25,
    "start_time": "2022-10-20T14:59:00.680Z"
   },
   {
    "duration": 27,
    "start_time": "2022-10-20T14:59:00.707Z"
   },
   {
    "duration": 15,
    "start_time": "2022-10-20T14:59:00.736Z"
   },
   {
    "duration": 37,
    "start_time": "2022-10-20T14:59:00.753Z"
   },
   {
    "duration": 7,
    "start_time": "2022-10-20T14:59:00.792Z"
   },
   {
    "duration": 33,
    "start_time": "2022-10-20T14:59:00.800Z"
   },
   {
    "duration": 11,
    "start_time": "2022-10-20T14:59:00.834Z"
   },
   {
    "duration": 15,
    "start_time": "2022-10-20T14:59:00.847Z"
   },
   {
    "duration": 14,
    "start_time": "2022-10-20T14:59:00.864Z"
   },
   {
    "duration": 29,
    "start_time": "2022-10-20T14:59:00.879Z"
   },
   {
    "duration": 15,
    "start_time": "2022-10-20T14:59:00.910Z"
   },
   {
    "duration": 7,
    "start_time": "2022-10-20T14:59:00.926Z"
   },
   {
    "duration": 25,
    "start_time": "2022-10-20T14:59:00.935Z"
   },
   {
    "duration": 18,
    "start_time": "2022-10-20T14:59:00.962Z"
   },
   {
    "duration": 6,
    "start_time": "2022-10-20T14:59:00.981Z"
   },
   {
    "duration": 14,
    "start_time": "2022-10-20T14:59:00.988Z"
   },
   {
    "duration": 25,
    "start_time": "2022-10-20T14:59:01.004Z"
   },
   {
    "duration": 9,
    "start_time": "2022-10-20T14:59:01.034Z"
   },
   {
    "duration": 23,
    "start_time": "2022-10-20T14:59:01.045Z"
   },
   {
    "duration": 15,
    "start_time": "2022-10-20T14:59:01.070Z"
   },
   {
    "duration": 31,
    "start_time": "2022-10-20T14:59:01.087Z"
   },
   {
    "duration": 16,
    "start_time": "2022-10-20T14:59:01.120Z"
   },
   {
    "duration": 15,
    "start_time": "2022-10-20T14:59:01.138Z"
   },
   {
    "duration": 6,
    "start_time": "2022-10-20T14:59:01.155Z"
   },
   {
    "duration": 11,
    "start_time": "2022-10-20T14:59:01.162Z"
   },
   {
    "duration": 15,
    "start_time": "2022-10-20T14:59:01.174Z"
   },
   {
    "duration": 4,
    "start_time": "2022-10-20T14:59:01.190Z"
   },
   {
    "duration": 27,
    "start_time": "2022-10-20T14:59:01.196Z"
   },
   {
    "duration": 4,
    "start_time": "2022-10-20T14:59:01.224Z"
   },
   {
    "duration": 20,
    "start_time": "2022-10-20T14:59:01.229Z"
   },
   {
    "duration": 27,
    "start_time": "2022-10-20T14:59:01.250Z"
   },
   {
    "duration": 4,
    "start_time": "2022-10-20T14:59:01.278Z"
   },
   {
    "duration": 9,
    "start_time": "2022-10-20T14:59:01.284Z"
   },
   {
    "duration": 15,
    "start_time": "2022-10-20T14:59:01.294Z"
   },
   {
    "duration": 18,
    "start_time": "2022-10-20T14:59:01.310Z"
   },
   {
    "duration": 7,
    "start_time": "2022-10-20T14:59:01.330Z"
   },
   {
    "duration": 532,
    "start_time": "2022-10-20T14:59:01.338Z"
   },
   {
    "duration": 8,
    "start_time": "2022-10-20T14:59:01.872Z"
   },
   {
    "duration": 374,
    "start_time": "2022-10-20T14:59:01.881Z"
   },
   {
    "duration": 5,
    "start_time": "2022-10-20T14:59:02.257Z"
   },
   {
    "duration": 875,
    "start_time": "2022-10-20T14:59:02.264Z"
   },
   {
    "duration": 7,
    "start_time": "2022-10-20T14:59:03.140Z"
   },
   {
    "duration": 9926,
    "start_time": "2022-10-20T14:59:03.149Z"
   },
   {
    "duration": 11,
    "start_time": "2022-10-20T14:59:13.077Z"
   },
   {
    "duration": 28,
    "start_time": "2022-10-20T14:59:13.089Z"
   },
   {
    "duration": 32,
    "start_time": "2022-10-20T14:59:13.121Z"
   },
   {
    "duration": 21,
    "start_time": "2022-10-20T14:59:13.154Z"
   },
   {
    "duration": 20,
    "start_time": "2022-10-20T14:59:13.177Z"
   },
   {
    "duration": 33,
    "start_time": "2022-10-20T14:59:13.199Z"
   },
   {
    "duration": 31,
    "start_time": "2022-10-20T14:59:13.234Z"
   },
   {
    "duration": 33,
    "start_time": "2022-10-20T14:59:13.266Z"
   },
   {
    "duration": 5,
    "start_time": "2022-10-20T14:59:13.300Z"
   },
   {
    "duration": 31,
    "start_time": "2022-10-20T14:59:13.306Z"
   },
   {
    "duration": 16,
    "start_time": "2022-10-20T14:59:13.338Z"
   },
   {
    "duration": 33,
    "start_time": "2022-10-20T14:59:13.356Z"
   },
   {
    "duration": 7,
    "start_time": "2022-10-20T14:59:13.390Z"
   },
   {
    "duration": 25,
    "start_time": "2022-10-20T14:59:13.398Z"
   },
   {
    "duration": 15,
    "start_time": "2022-10-20T14:59:13.424Z"
   },
   {
    "duration": 159,
    "start_time": "2022-10-20T14:59:13.440Z"
   },
   {
    "duration": 4,
    "start_time": "2022-10-20T14:59:13.600Z"
   },
   {
    "duration": 200,
    "start_time": "2022-10-20T14:59:13.605Z"
   },
   {
    "duration": 3,
    "start_time": "2022-10-20T14:59:13.807Z"
   },
   {
    "duration": 9,
    "start_time": "2022-10-20T14:59:13.822Z"
   },
   {
    "duration": 36,
    "start_time": "2022-10-20T14:59:13.832Z"
   },
   {
    "duration": 24,
    "start_time": "2022-10-20T14:59:13.869Z"
   },
   {
    "duration": 18,
    "start_time": "2022-10-20T14:59:13.895Z"
   },
   {
    "duration": 152,
    "start_time": "2022-10-20T14:59:13.914Z"
   },
   {
    "duration": 14,
    "start_time": "2022-10-20T14:59:14.067Z"
   },
   {
    "duration": 13,
    "start_time": "2022-10-20T14:59:14.082Z"
   },
   {
    "duration": 315,
    "start_time": "2022-10-20T14:59:14.096Z"
   },
   {
    "duration": 24,
    "start_time": "2022-10-20T14:59:14.415Z"
   },
   {
    "duration": 8,
    "start_time": "2022-10-20T14:59:14.444Z"
   },
   {
    "duration": 420,
    "start_time": "2022-10-20T14:59:14.453Z"
   },
   {
    "duration": 18,
    "start_time": "2022-10-20T14:59:14.874Z"
   },
   {
    "duration": 34,
    "start_time": "2022-10-20T14:59:14.894Z"
   },
   {
    "duration": 122,
    "start_time": "2022-10-20T14:59:14.929Z"
   },
   {
    "duration": 41,
    "start_time": "2022-10-20T14:59:15.052Z"
   },
   {
    "duration": 21,
    "start_time": "2022-10-20T14:59:15.094Z"
   },
   {
    "duration": 30,
    "start_time": "2022-10-20T14:59:15.116Z"
   },
   {
    "duration": 42,
    "start_time": "2022-10-20T14:59:15.148Z"
   },
   {
    "duration": 26,
    "start_time": "2022-10-20T14:59:15.191Z"
   },
   {
    "duration": 33,
    "start_time": "2022-10-20T14:59:15.219Z"
   },
   {
    "duration": 48,
    "start_time": "2022-10-20T14:59:15.254Z"
   },
   {
    "duration": 156,
    "start_time": "2022-10-20T14:59:15.304Z"
   },
   {
    "duration": 8,
    "start_time": "2022-10-20T14:59:15.461Z"
   },
   {
    "duration": 272,
    "start_time": "2022-10-20T14:59:44.426Z"
   },
   {
    "duration": 509,
    "start_time": "2022-10-21T11:29:25.918Z"
   },
   {
    "duration": 10,
    "start_time": "2022-10-21T11:29:26.429Z"
   },
   {
    "duration": 14,
    "start_time": "2022-10-21T11:29:26.441Z"
   },
   {
    "duration": 4,
    "start_time": "2022-10-21T11:29:26.457Z"
   },
   {
    "duration": 12,
    "start_time": "2022-10-21T11:29:26.462Z"
   },
   {
    "duration": 38,
    "start_time": "2022-10-21T11:29:26.475Z"
   },
   {
    "duration": 13,
    "start_time": "2022-10-21T11:29:26.514Z"
   },
   {
    "duration": 34,
    "start_time": "2022-10-21T11:29:26.528Z"
   },
   {
    "duration": 4,
    "start_time": "2022-10-21T11:29:26.564Z"
   },
   {
    "duration": 12,
    "start_time": "2022-10-21T11:29:26.570Z"
   },
   {
    "duration": 26,
    "start_time": "2022-10-21T11:29:26.583Z"
   },
   {
    "duration": 13,
    "start_time": "2022-10-21T11:29:26.611Z"
   },
   {
    "duration": 6,
    "start_time": "2022-10-21T11:29:26.626Z"
   },
   {
    "duration": 18,
    "start_time": "2022-10-21T11:29:26.633Z"
   },
   {
    "duration": 4,
    "start_time": "2022-10-21T11:29:26.653Z"
   },
   {
    "duration": 21,
    "start_time": "2022-10-21T11:29:26.659Z"
   },
   {
    "duration": 23,
    "start_time": "2022-10-21T11:29:26.682Z"
   },
   {
    "duration": 8,
    "start_time": "2022-10-21T11:29:26.707Z"
   },
   {
    "duration": 10,
    "start_time": "2022-10-21T11:29:26.717Z"
   },
   {
    "duration": 8,
    "start_time": "2022-10-21T11:29:26.728Z"
   },
   {
    "duration": 7,
    "start_time": "2022-10-21T11:29:26.737Z"
   },
   {
    "duration": 10,
    "start_time": "2022-10-21T11:29:26.745Z"
   },
   {
    "duration": 21,
    "start_time": "2022-10-21T11:29:26.756Z"
   },
   {
    "duration": 28,
    "start_time": "2022-10-21T11:29:26.779Z"
   },
   {
    "duration": 7,
    "start_time": "2022-10-21T11:29:26.808Z"
   },
   {
    "duration": 26,
    "start_time": "2022-10-21T11:29:26.816Z"
   },
   {
    "duration": 17,
    "start_time": "2022-10-21T11:29:26.844Z"
   },
   {
    "duration": 5,
    "start_time": "2022-10-21T11:29:26.865Z"
   },
   {
    "duration": 25,
    "start_time": "2022-10-21T11:29:26.871Z"
   },
   {
    "duration": 19,
    "start_time": "2022-10-21T11:29:26.898Z"
   },
   {
    "duration": 5,
    "start_time": "2022-10-21T11:29:26.919Z"
   },
   {
    "duration": 8,
    "start_time": "2022-10-21T11:29:26.926Z"
   },
   {
    "duration": 14,
    "start_time": "2022-10-21T11:29:26.936Z"
   },
   {
    "duration": 6,
    "start_time": "2022-10-21T11:29:26.951Z"
   },
   {
    "duration": 10,
    "start_time": "2022-10-21T11:29:26.958Z"
   },
   {
    "duration": 45,
    "start_time": "2022-10-21T11:29:26.969Z"
   },
   {
    "duration": 5,
    "start_time": "2022-10-21T11:29:27.016Z"
   },
   {
    "duration": 17,
    "start_time": "2022-10-21T11:29:27.022Z"
   },
   {
    "duration": 6,
    "start_time": "2022-10-21T11:29:27.040Z"
   },
   {
    "duration": 10,
    "start_time": "2022-10-21T11:29:27.048Z"
   },
   {
    "duration": 16,
    "start_time": "2022-10-21T11:29:27.059Z"
   },
   {
    "duration": 29,
    "start_time": "2022-10-21T11:29:27.076Z"
   },
   {
    "duration": 4,
    "start_time": "2022-10-21T11:29:27.107Z"
   },
   {
    "duration": 11,
    "start_time": "2022-10-21T11:29:27.112Z"
   },
   {
    "duration": 14,
    "start_time": "2022-10-21T11:29:27.124Z"
   },
   {
    "duration": 9,
    "start_time": "2022-10-21T11:29:27.140Z"
   },
   {
    "duration": 609,
    "start_time": "2022-10-21T11:29:27.151Z"
   },
   {
    "duration": 11,
    "start_time": "2022-10-21T11:29:27.762Z"
   },
   {
    "duration": 427,
    "start_time": "2022-10-21T11:29:27.776Z"
   },
   {
    "duration": 6,
    "start_time": "2022-10-21T11:29:28.204Z"
   },
   {
    "duration": 860,
    "start_time": "2022-10-21T11:29:28.211Z"
   },
   {
    "duration": 7,
    "start_time": "2022-10-21T11:29:29.073Z"
   },
   {
    "duration": 9695,
    "start_time": "2022-10-21T11:29:29.082Z"
   },
   {
    "duration": 11,
    "start_time": "2022-10-21T11:29:38.778Z"
   },
   {
    "duration": 26,
    "start_time": "2022-10-21T11:29:38.790Z"
   },
   {
    "duration": 4,
    "start_time": "2022-10-21T11:29:38.818Z"
   },
   {
    "duration": 18,
    "start_time": "2022-10-21T11:29:38.823Z"
   },
   {
    "duration": 4,
    "start_time": "2022-10-21T11:29:38.842Z"
   },
   {
    "duration": 14,
    "start_time": "2022-10-21T11:29:38.848Z"
   },
   {
    "duration": 6,
    "start_time": "2022-10-21T11:29:38.864Z"
   },
   {
    "duration": 40,
    "start_time": "2022-10-21T11:29:38.871Z"
   },
   {
    "duration": 5,
    "start_time": "2022-10-21T11:29:38.912Z"
   },
   {
    "duration": 18,
    "start_time": "2022-10-21T11:29:38.918Z"
   },
   {
    "duration": 6,
    "start_time": "2022-10-21T11:29:38.937Z"
   },
   {
    "duration": 12,
    "start_time": "2022-10-21T11:29:38.945Z"
   },
   {
    "duration": 5,
    "start_time": "2022-10-21T11:29:38.959Z"
   },
   {
    "duration": 46,
    "start_time": "2022-10-21T11:29:38.965Z"
   },
   {
    "duration": 16,
    "start_time": "2022-10-21T11:29:39.012Z"
   },
   {
    "duration": 165,
    "start_time": "2022-10-21T11:29:39.030Z"
   },
   {
    "duration": 4,
    "start_time": "2022-10-21T11:29:39.197Z"
   },
   {
    "duration": 193,
    "start_time": "2022-10-21T11:29:39.204Z"
   },
   {
    "duration": 3,
    "start_time": "2022-10-21T11:29:39.405Z"
   },
   {
    "duration": 11,
    "start_time": "2022-10-21T11:29:39.410Z"
   },
   {
    "duration": 15,
    "start_time": "2022-10-21T11:29:39.422Z"
   },
   {
    "duration": 16,
    "start_time": "2022-10-21T11:29:39.438Z"
   },
   {
    "duration": 16,
    "start_time": "2022-10-21T11:29:39.455Z"
   },
   {
    "duration": 170,
    "start_time": "2022-10-21T11:29:39.472Z"
   },
   {
    "duration": 18,
    "start_time": "2022-10-21T11:29:39.644Z"
   },
   {
    "duration": 21,
    "start_time": "2022-10-21T11:29:39.663Z"
   },
   {
    "duration": 344,
    "start_time": "2022-10-21T11:29:39.685Z"
   },
   {
    "duration": 24,
    "start_time": "2022-10-21T11:29:40.031Z"
   },
   {
    "duration": 10,
    "start_time": "2022-10-21T11:29:40.060Z"
   },
   {
    "duration": 683,
    "start_time": "2022-10-21T11:29:40.071Z"
   },
   {
    "duration": 17,
    "start_time": "2022-10-21T11:29:40.756Z"
   },
   {
    "duration": 5,
    "start_time": "2022-10-21T11:29:40.774Z"
   },
   {
    "duration": 88,
    "start_time": "2022-10-21T11:29:40.780Z"
   },
   {
    "duration": 44,
    "start_time": "2022-10-21T11:29:40.869Z"
   },
   {
    "duration": 6,
    "start_time": "2022-10-21T11:29:40.914Z"
   },
   {
    "duration": 17,
    "start_time": "2022-10-21T11:29:40.922Z"
   },
   {
    "duration": 20,
    "start_time": "2022-10-21T11:29:40.941Z"
   },
   {
    "duration": 4,
    "start_time": "2022-10-21T11:29:40.962Z"
   },
   {
    "duration": 18,
    "start_time": "2022-10-21T11:29:40.968Z"
   },
   {
    "duration": 22,
    "start_time": "2022-10-21T11:29:41.006Z"
   },
   {
    "duration": 164,
    "start_time": "2022-10-21T11:29:41.029Z"
   },
   {
    "duration": 12,
    "start_time": "2022-10-21T11:29:41.194Z"
   },
   {
    "duration": 20,
    "start_time": "2022-10-21T11:46:08.403Z"
   },
   {
    "duration": 12,
    "start_time": "2022-10-21T11:50:10.809Z"
   },
   {
    "duration": 100,
    "start_time": "2022-10-21T11:54:37.629Z"
   },
   {
    "duration": 18,
    "start_time": "2022-10-21T11:54:42.213Z"
   },
   {
    "duration": 191,
    "start_time": "2022-10-21T11:55:01.321Z"
   },
   {
    "duration": 13,
    "start_time": "2022-10-21T11:57:10.055Z"
   },
   {
    "duration": 42,
    "start_time": "2022-10-21T11:57:35.816Z"
   },
   {
    "duration": 11,
    "start_time": "2022-10-21T11:57:47.549Z"
   },
   {
    "duration": 13,
    "start_time": "2022-10-21T11:59:33.265Z"
   },
   {
    "duration": 59,
    "start_time": "2022-10-21T11:59:41.125Z"
   },
   {
    "duration": 53,
    "start_time": "2022-10-21T12:00:10.986Z"
   },
   {
    "duration": 55,
    "start_time": "2022-10-21T12:00:19.121Z"
   },
   {
    "duration": 53,
    "start_time": "2022-10-21T12:00:27.266Z"
   },
   {
    "duration": 10,
    "start_time": "2022-10-21T12:00:53.820Z"
   },
   {
    "duration": 52,
    "start_time": "2022-10-21T12:01:30.637Z"
   },
   {
    "duration": 118,
    "start_time": "2022-10-21T12:02:10.488Z"
   },
   {
    "duration": 14,
    "start_time": "2022-10-21T12:03:10.399Z"
   },
   {
    "duration": 13,
    "start_time": "2022-10-21T12:05:31.898Z"
   },
   {
    "duration": 53,
    "start_time": "2022-10-21T12:06:20.477Z"
   },
   {
    "duration": 761,
    "start_time": "2022-12-01T09:13:02.247Z"
   },
   {
    "duration": 766,
    "start_time": "2023-04-30T12:44:47.524Z"
   },
   {
    "duration": 14,
    "start_time": "2023-04-30T12:44:48.299Z"
   },
   {
    "duration": 15,
    "start_time": "2023-04-30T12:44:48.315Z"
   },
   {
    "duration": 9,
    "start_time": "2023-04-30T12:44:48.333Z"
   },
   {
    "duration": 14,
    "start_time": "2023-04-30T12:44:48.344Z"
   },
   {
    "duration": 47,
    "start_time": "2023-04-30T12:44:48.360Z"
   },
   {
    "duration": 15,
    "start_time": "2023-04-30T12:44:48.418Z"
   },
   {
    "duration": 58,
    "start_time": "2023-04-30T12:44:48.434Z"
   },
   {
    "duration": 25,
    "start_time": "2023-04-30T12:44:48.494Z"
   },
   {
    "duration": 15,
    "start_time": "2023-04-30T12:44:48.528Z"
   },
   {
    "duration": 14,
    "start_time": "2023-04-30T12:44:48.544Z"
   },
   {
    "duration": 19,
    "start_time": "2023-04-30T12:44:48.560Z"
   },
   {
    "duration": 16,
    "start_time": "2023-04-30T12:44:48.581Z"
   },
   {
    "duration": 38,
    "start_time": "2023-04-30T12:44:48.604Z"
   },
   {
    "duration": 5,
    "start_time": "2023-04-30T12:44:48.643Z"
   },
   {
    "duration": 25,
    "start_time": "2023-04-30T12:44:48.649Z"
   },
   {
    "duration": 7,
    "start_time": "2023-04-30T12:44:48.675Z"
   },
   {
    "duration": 34,
    "start_time": "2023-04-30T12:44:48.689Z"
   },
   {
    "duration": 8,
    "start_time": "2023-04-30T12:44:48.725Z"
   },
   {
    "duration": 15,
    "start_time": "2023-04-30T12:44:48.734Z"
   },
   {
    "duration": 9,
    "start_time": "2023-04-30T12:44:48.751Z"
   },
   {
    "duration": 8,
    "start_time": "2023-04-30T12:44:48.762Z"
   },
   {
    "duration": 40,
    "start_time": "2023-04-30T12:44:48.772Z"
   },
   {
    "duration": 20,
    "start_time": "2023-04-30T12:44:48.816Z"
   },
   {
    "duration": 8,
    "start_time": "2023-04-30T12:44:48.838Z"
   },
   {
    "duration": 13,
    "start_time": "2023-04-30T12:44:48.847Z"
   },
   {
    "duration": 34,
    "start_time": "2023-04-30T12:44:48.862Z"
   },
   {
    "duration": 9,
    "start_time": "2023-04-30T12:44:48.901Z"
   },
   {
    "duration": 41,
    "start_time": "2023-04-30T12:44:48.912Z"
   },
   {
    "duration": 17,
    "start_time": "2023-04-30T12:44:48.954Z"
   },
   {
    "duration": 11,
    "start_time": "2023-04-30T12:44:48.973Z"
   },
   {
    "duration": 41,
    "start_time": "2023-04-30T12:44:48.987Z"
   },
   {
    "duration": 15,
    "start_time": "2023-04-30T12:44:49.029Z"
   },
   {
    "duration": 7,
    "start_time": "2023-04-30T12:44:49.046Z"
   },
   {
    "duration": 13,
    "start_time": "2023-04-30T12:44:49.055Z"
   },
   {
    "duration": 23,
    "start_time": "2023-04-30T12:44:49.070Z"
   },
   {
    "duration": 6,
    "start_time": "2023-04-30T12:44:49.094Z"
   },
   {
    "duration": 17,
    "start_time": "2023-04-30T12:44:49.101Z"
   },
   {
    "duration": 24,
    "start_time": "2023-04-30T12:44:49.119Z"
   },
   {
    "duration": 13,
    "start_time": "2023-04-30T12:44:49.146Z"
   },
   {
    "duration": 29,
    "start_time": "2023-04-30T12:44:49.162Z"
   },
   {
    "duration": 34,
    "start_time": "2023-04-30T12:44:49.196Z"
   },
   {
    "duration": 11,
    "start_time": "2023-04-30T12:44:49.232Z"
   },
   {
    "duration": 14,
    "start_time": "2023-04-30T12:44:49.245Z"
   },
   {
    "duration": 63,
    "start_time": "2023-04-30T12:44:49.261Z"
   },
   {
    "duration": 5,
    "start_time": "2023-04-30T12:44:49.326Z"
   },
   {
    "duration": 914,
    "start_time": "2023-04-30T12:44:49.333Z"
   },
   {
    "duration": 9,
    "start_time": "2023-04-30T12:44:50.249Z"
   },
   {
    "duration": 442,
    "start_time": "2023-04-30T12:44:50.260Z"
   },
   {
    "duration": 9,
    "start_time": "2023-04-30T12:44:50.705Z"
   },
   {
    "duration": 1036,
    "start_time": "2023-04-30T12:44:50.715Z"
   },
   {
    "duration": 8,
    "start_time": "2023-04-30T12:44:51.753Z"
   },
   {
    "duration": 11499,
    "start_time": "2023-04-30T12:44:51.762Z"
   },
   {
    "duration": 25,
    "start_time": "2023-04-30T12:45:03.263Z"
   },
   {
    "duration": 55,
    "start_time": "2023-04-30T12:45:03.290Z"
   },
   {
    "duration": 9,
    "start_time": "2023-04-30T12:45:03.347Z"
   },
   {
    "duration": 20,
    "start_time": "2023-04-30T12:45:03.358Z"
   },
   {
    "duration": 10,
    "start_time": "2023-04-30T12:45:03.380Z"
   },
   {
    "duration": 56,
    "start_time": "2023-04-30T12:45:03.392Z"
   },
   {
    "duration": 11,
    "start_time": "2023-04-30T12:45:03.450Z"
   },
   {
    "duration": 27,
    "start_time": "2023-04-30T12:45:03.463Z"
   },
   {
    "duration": 26,
    "start_time": "2023-04-30T12:45:03.494Z"
   },
   {
    "duration": 35,
    "start_time": "2023-04-30T12:45:03.522Z"
   },
   {
    "duration": 13,
    "start_time": "2023-04-30T12:45:03.559Z"
   },
   {
    "duration": 38,
    "start_time": "2023-04-30T12:45:03.573Z"
   },
   {
    "duration": 15,
    "start_time": "2023-04-30T12:45:03.612Z"
   },
   {
    "duration": 26,
    "start_time": "2023-04-30T12:45:03.629Z"
   },
   {
    "duration": 37,
    "start_time": "2023-04-30T12:45:03.657Z"
   },
   {
    "duration": 202,
    "start_time": "2023-04-30T12:45:03.700Z"
   },
   {
    "duration": 15,
    "start_time": "2023-04-30T12:45:03.905Z"
   },
   {
    "duration": 290,
    "start_time": "2023-04-30T12:45:03.924Z"
   },
   {
    "duration": 3,
    "start_time": "2023-04-30T12:45:04.220Z"
   },
   {
    "duration": 20,
    "start_time": "2023-04-30T12:45:04.225Z"
   },
   {
    "duration": 16,
    "start_time": "2023-04-30T12:45:04.247Z"
   },
   {
    "duration": 37,
    "start_time": "2023-04-30T12:45:04.265Z"
   },
   {
    "duration": 37,
    "start_time": "2023-04-30T12:45:04.304Z"
   },
   {
    "duration": 190,
    "start_time": "2023-04-30T12:45:04.343Z"
   },
   {
    "duration": 15,
    "start_time": "2023-04-30T12:45:04.535Z"
   },
   {
    "duration": 55,
    "start_time": "2023-04-30T12:45:04.552Z"
   },
   {
    "duration": 422,
    "start_time": "2023-04-30T12:45:04.610Z"
   },
   {
    "duration": 33,
    "start_time": "2023-04-30T12:45:05.033Z"
   },
   {
    "duration": 28,
    "start_time": "2023-04-30T12:45:05.090Z"
   },
   {
    "duration": 758,
    "start_time": "2023-04-30T12:45:05.121Z"
   },
   {
    "duration": 30,
    "start_time": "2023-04-30T12:45:05.881Z"
   },
   {
    "duration": 14,
    "start_time": "2023-04-30T12:45:05.921Z"
   },
   {
    "duration": 182,
    "start_time": "2023-04-30T12:45:05.938Z"
   },
   {
    "duration": 27,
    "start_time": "2023-04-30T12:45:06.121Z"
   },
   {
    "duration": 13,
    "start_time": "2023-04-30T12:45:06.150Z"
   },
   {
    "duration": 62,
    "start_time": "2023-04-30T12:45:06.164Z"
   },
   {
    "duration": 29,
    "start_time": "2023-04-30T12:45:06.228Z"
   },
   {
    "duration": 56,
    "start_time": "2023-04-30T12:45:06.259Z"
   },
   {
    "duration": 21,
    "start_time": "2023-04-30T12:45:06.317Z"
   },
   {
    "duration": 27,
    "start_time": "2023-04-30T12:45:06.340Z"
   },
   {
    "duration": 191,
    "start_time": "2023-04-30T12:45:06.369Z"
   },
   {
    "duration": 23,
    "start_time": "2023-04-30T12:45:06.562Z"
   }
  ],
  "colab": {
   "name": "DA+. Сборный проект 1. Шаблон (1).ipynb",
   "provenance": []
  },
  "kernelspec": {
   "display_name": "Python 3 (ipykernel)",
   "language": "python",
   "name": "python3"
  },
  "language_info": {
   "codemirror_mode": {
    "name": "ipython",
    "version": 3
   },
   "file_extension": ".py",
   "mimetype": "text/x-python",
   "name": "python",
   "nbconvert_exporter": "python",
   "pygments_lexer": "ipython3",
   "version": "3.9.12"
  },
  "toc": {
   "base_numbering": 1,
   "nav_menu": {
    "height": "316px",
    "width": "963px"
   },
   "number_sections": true,
   "sideBar": true,
   "skip_h1_title": true,
   "title_cell": "Table of Contents",
   "title_sidebar": "Contents",
   "toc_cell": false,
   "toc_position": {
    "height": "calc(100% - 180px)",
    "left": "10px",
    "top": "150px",
    "width": "198.391px"
   },
   "toc_section_display": true,
   "toc_window_display": false
  }
 },
 "nbformat": 4,
 "nbformat_minor": 1
}
